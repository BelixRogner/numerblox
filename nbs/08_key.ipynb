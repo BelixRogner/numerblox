{
 "cells": [
  {
   "cell_type": "code",
   "execution_count": null,
   "metadata": {},
   "outputs": [
    {
     "name": "stdout",
     "output_type": "stream",
     "text": [
      "The autoreload extension is already loaded. To reload it, use:\n",
      "  %reload_ext autoreload\n",
      "The nb_black extension is already loaded. To reload it, use:\n",
      "  %reload_ext nb_black\n",
      "The lab_black extension is already loaded. To reload it, use:\n",
      "  %reload_ext lab_black\n"
     ]
    },
    {
     "data": {
      "application/javascript": [
       "\n",
       "            setTimeout(function() {\n",
       "                var nbb_cell_id = 12;\n",
       "                var nbb_unformatted_code = \"#hide\\n%load_ext autoreload\\n%autoreload 2\\n%load_ext nb_black\\n%load_ext lab_black\";\n",
       "                var nbb_formatted_code = \"# hide\\n%load_ext autoreload\\n%autoreload 2\\n%load_ext nb_black\\n%load_ext lab_black\";\n",
       "                var nbb_cells = Jupyter.notebook.get_cells();\n",
       "                for (var i = 0; i < nbb_cells.length; ++i) {\n",
       "                    if (nbb_cells[i].input_prompt_number == nbb_cell_id) {\n",
       "                        if (nbb_cells[i].get_text() == nbb_unformatted_code) {\n",
       "                             nbb_cells[i].set_text(nbb_formatted_code);\n",
       "                        }\n",
       "                        break;\n",
       "                    }\n",
       "                }\n",
       "            }, 500);\n",
       "            "
      ],
      "text/plain": [
       "<IPython.core.display.Javascript object>"
      ]
     },
     "metadata": {},
     "output_type": "display_data"
    }
   ],
   "source": [
    "# hide\n",
    "%load_ext autoreload\n",
    "%autoreload 2\n",
    "%load_ext nb_black\n",
    "%load_ext lab_black"
   ]
  },
  {
   "cell_type": "code",
   "execution_count": null,
   "metadata": {},
   "outputs": [
    {
     "data": {
      "application/javascript": [
       "\n",
       "            setTimeout(function() {\n",
       "                var nbb_cell_id = 13;\n",
       "                var nbb_unformatted_code = \"# default_exp key\";\n",
       "                var nbb_formatted_code = \"# default_exp key\";\n",
       "                var nbb_cells = Jupyter.notebook.get_cells();\n",
       "                for (var i = 0; i < nbb_cells.length; ++i) {\n",
       "                    if (nbb_cells[i].input_prompt_number == nbb_cell_id) {\n",
       "                        if (nbb_cells[i].get_text() == nbb_unformatted_code) {\n",
       "                             nbb_cells[i].set_text(nbb_formatted_code);\n",
       "                        }\n",
       "                        break;\n",
       "                    }\n",
       "                }\n",
       "            }, 500);\n",
       "            "
      ],
      "text/plain": [
       "<IPython.core.display.Javascript object>"
      ]
     },
     "metadata": {},
     "output_type": "display_data"
    }
   ],
   "source": [
    "# default_exp key"
   ]
  },
  {
   "cell_type": "markdown",
   "metadata": {},
   "source": [
    "# Key"
   ]
  },
  {
   "cell_type": "markdown",
   "metadata": {},
   "source": [
    "Numerai authentication is pretty easily done by passing a `pub_id` and `secret_key` for the `numerapi` APIs.\n",
    "\n",
    "However, as stakes get larger we might want additional protection and confidence that credentials are parsed correctly. We might also like to load credentials from a (JSON) file that is stored safely somewhere. This section offers tools to safely load and use Numerai credentials."
   ]
  },
  {
   "cell_type": "code",
   "execution_count": null,
   "metadata": {},
   "outputs": [
    {
     "data": {
      "application/javascript": [
       "\n",
       "            setTimeout(function() {\n",
       "                var nbb_cell_id = 14;\n",
       "                var nbb_unformatted_code = \"#hide\\nfrom nbdev.showdoc import *\";\n",
       "                var nbb_formatted_code = \"# hide\\nfrom nbdev.showdoc import *\";\n",
       "                var nbb_cells = Jupyter.notebook.get_cells();\n",
       "                for (var i = 0; i < nbb_cells.length; ++i) {\n",
       "                    if (nbb_cells[i].input_prompt_number == nbb_cell_id) {\n",
       "                        if (nbb_cells[i].get_text() == nbb_unformatted_code) {\n",
       "                             nbb_cells[i].set_text(nbb_formatted_code);\n",
       "                        }\n",
       "                        break;\n",
       "                    }\n",
       "                }\n",
       "            }, 500);\n",
       "            "
      ],
      "text/plain": [
       "<IPython.core.display.Javascript object>"
      ]
     },
     "metadata": {},
     "output_type": "display_data"
    }
   ],
   "source": [
    "# hide\n",
    "from nbdev.showdoc import *"
   ]
  },
  {
   "cell_type": "code",
   "execution_count": null,
   "metadata": {},
   "outputs": [
    {
     "data": {
      "application/javascript": [
       "\n",
       "            setTimeout(function() {\n",
       "                var nbb_cell_id = 15;\n",
       "                var nbb_unformatted_code = \"#export\\nimport json\\nimport base64\\nfrom dataclasses import dataclass, FrozenInstanceError\\nfrom rich import print as rich_print\";\n",
       "                var nbb_formatted_code = \"# export\\nimport json\\nimport base64\\nfrom dataclasses import dataclass, FrozenInstanceError\\nfrom rich import print as rich_print\";\n",
       "                var nbb_cells = Jupyter.notebook.get_cells();\n",
       "                for (var i = 0; i < nbb_cells.length; ++i) {\n",
       "                    if (nbb_cells[i].input_prompt_number == nbb_cell_id) {\n",
       "                        if (nbb_cells[i].get_text() == nbb_unformatted_code) {\n",
       "                             nbb_cells[i].set_text(nbb_formatted_code);\n",
       "                        }\n",
       "                        break;\n",
       "                    }\n",
       "                }\n",
       "            }, 500);\n",
       "            "
      ],
      "text/plain": [
       "<IPython.core.display.Javascript object>"
      ]
     },
     "metadata": {},
     "output_type": "display_data"
    }
   ],
   "source": [
    "# export\n",
    "import json\n",
    "import base64\n",
    "from dataclasses import dataclass, FrozenInstanceError\n",
    "from rich import print as rich_print"
   ]
  },
  {
   "cell_type": "markdown",
   "metadata": {},
   "source": [
    "The `Key` object ensures immutability of your credentials and allows you to either initialize from Python variables or load from a JSON file.\n",
    "\n",
    "In order to `load_key_from_json`, the file should have the following format:\n",
    "```json\n",
    "{ \"pub_id\": \"PUBLIC_ID\", \"secret_key\": \"SECRET_KEY\"}\n",
    "```"
   ]
  },
  {
   "cell_type": "code",
   "execution_count": null,
   "metadata": {},
   "outputs": [
    {
     "data": {
      "application/javascript": [
       "\n",
       "            setTimeout(function() {\n",
       "                var nbb_cell_id = 16;\n",
       "                var nbb_unformatted_code = \"#export\\n@dataclass(frozen=True)\\nclass Key:\\n    \\\"\\\"\\\" Immutable and validated Numerai credentials. \\\"\\\"\\\"\\n    # TODO INsturction for encoding or option to pass encoded?\\n    pub_id: str = \\\"\\\"\\n    secret_key: str = \\\"\\\"\\n    # Decode credentials\\n    pub_id = base64.b64decode(pub_id, validate=True).decode('utf-8')\\n    secret_key = base64.b64decode(secret_key, validate=True).decode('utf-8')\\n\\n    def __post_init__(self):\\n        rich_print(f\\\":key: Numerai Auth key initialized with pub_id = '{self.pub_id}' :key:\\\")\\n\\n    def __repr__(self):\\n        return f\\\"Numerai Auth Key. pub_id = '{self.pub_id}'\\\"\\n\\n    def __str__(self):\\n        return self.__repr__()\\n\\ndef load_key_from_json(file_path: str, *args, **kwargs):\\n    \\\"\\\"\\\"\\n    Initialize Key object from JSON file.\\n    Credentials file should have the following format:\\n    {\\n    \\\"pub_id\\\": \\\"PUBLIC_ID\\\",\\n    \\\"secret_key\\\": \\\"SECRET_KEY\\\"\\n    }\\n    \\\"\\\"\\\"\\n    with open(file_path) as json_file:\\n        json_data = json.load(json_file, *args, **kwargs)\\n    pub_id = json_data['pub_id']\\n    secret_key = json_data['secret_key']\\n    return Key(pub_id=pub_id, secret_key=secret_key)\";\n",
       "                var nbb_formatted_code = \"# export\\n@dataclass(frozen=True)\\nclass Key:\\n    \\\"\\\"\\\"Immutable and validated Numerai credentials.\\\"\\\"\\\"\\n\\n    # TODO INsturction for encoding or option to pass encoded?\\n    pub_id: str = \\\"\\\"\\n    secret_key: str = \\\"\\\"\\n    # Decode credentials\\n    pub_id = base64.b64decode(pub_id, validate=True).decode(\\\"utf-8\\\")\\n    secret_key = base64.b64decode(secret_key, validate=True).decode(\\\"utf-8\\\")\\n\\n    def __post_init__(self):\\n        rich_print(\\n            f\\\":key: Numerai Auth key initialized with pub_id = '{self.pub_id}' :key:\\\"\\n        )\\n\\n    def __repr__(self):\\n        return f\\\"Numerai Auth Key. pub_id = '{self.pub_id}'\\\"\\n\\n    def __str__(self):\\n        return self.__repr__()\\n\\n\\ndef load_key_from_json(file_path: str, *args, **kwargs):\\n    \\\"\\\"\\\"\\n    Initialize Key object from JSON file.\\n    Credentials file should have the following format:\\n    {\\n    \\\"pub_id\\\": \\\"PUBLIC_ID\\\",\\n    \\\"secret_key\\\": \\\"SECRET_KEY\\\"\\n    }\\n    \\\"\\\"\\\"\\n    with open(file_path) as json_file:\\n        json_data = json.load(json_file, *args, **kwargs)\\n    pub_id = json_data[\\\"pub_id\\\"]\\n    secret_key = json_data[\\\"secret_key\\\"]\\n    return Key(pub_id=pub_id, secret_key=secret_key)\";\n",
       "                var nbb_cells = Jupyter.notebook.get_cells();\n",
       "                for (var i = 0; i < nbb_cells.length; ++i) {\n",
       "                    if (nbb_cells[i].input_prompt_number == nbb_cell_id) {\n",
       "                        if (nbb_cells[i].get_text() == nbb_unformatted_code) {\n",
       "                             nbb_cells[i].set_text(nbb_formatted_code);\n",
       "                        }\n",
       "                        break;\n",
       "                    }\n",
       "                }\n",
       "            }, 500);\n",
       "            "
      ],
      "text/plain": [
       "<IPython.core.display.Javascript object>"
      ]
     },
     "metadata": {},
     "output_type": "display_data"
    }
   ],
   "source": [
    "# export\n",
    "@dataclass(frozen=True)\n",
    "class Key:\n",
    "    \"\"\"Immutable and validated Numerai credentials.\"\"\"\n",
    "\n",
    "    # TODO Instruction for encoding or option to pass encoded?\n",
    "    pub_id: str = \"\"\n",
    "    secret_key: str = \"\"\n",
    "    # Decode credentials\n",
    "    pub_id = pub_id\n",
    "    secret_key = secret_key\n",
    "\n",
    "    def __post_init__(self):\n",
    "        rich_print(\n",
    "            f\":key: Numerai Auth key initialized with pub_id = '{self.pub_id}' :key:\"\n",
    "        )\n",
    "\n",
    "    def __repr__(self):\n",
    "        return f\"Numerai Auth Key. pub_id = '{self.pub_id}'\"\n",
    "\n",
    "    def __str__(self):\n",
    "        return self.__repr__()\n",
    "\n",
    "\n",
    "def load_key_from_json(file_path: str, *args, **kwargs):\n",
    "    \"\"\"\n",
    "    Initialize Key object from JSON file.\n",
    "    Credentials file should have the following format:\n",
    "    {\n",
    "    \"pub_id\": \"PUBLIC_ID\",\n",
    "    \"secret_key\": \"SECRET_KEY\"\n",
    "    }\n",
    "    \"\"\"\n",
    "    with open(file_path) as json_file:\n",
    "        json_data = json.load(json_file, *args, **kwargs)\n",
    "    pub_id = json_data[\"pub_id\"]\n",
    "    secret_key = json_data[\"secret_key\"]\n",
    "    return Key(pub_id=pub_id, secret_key=secret_key)"
   ]
  },
  {
   "cell_type": "markdown",
   "metadata": {},
   "source": [
    "### Example initialization from variables"
   ]
  },
  {
   "cell_type": "code",
   "execution_count": null,
   "metadata": {},
   "outputs": [
    {
     "data": {
      "text/html": [
       "<pre style=\"white-space:pre;overflow-x:auto;line-height:normal;font-family:Menlo,'DejaVu Sans Mono',consolas,'Courier New',monospace\">🔑 Numerai Auth key initialized with pub_id = <span style=\"color: #008000; text-decoration-color: #008000\">'QVdFU09NRV9QVUJMSUNfSUQ='</span> 🔑\n",
       "</pre>\n"
      ],
      "text/plain": [
       "🔑 Numerai Auth key initialized with pub_id = \u001b[32m'\u001b[0m\u001b[32mQVdFU09NRV9QVUJMSUNfSUQ\u001b[0m\u001b[32m='\u001b[0m 🔑\n"
      ]
     },
     "metadata": {},
     "output_type": "display_data"
    },
    {
     "data": {
      "application/javascript": [
       "\n",
       "            setTimeout(function() {\n",
       "                var nbb_cell_id = 17;\n",
       "                var nbb_unformatted_code = \"# Random credentials\\npub_id, secret_key = \\\"QVdFU09NRV9QVUJMSUNfSUQ=\\\", \\\"VkVSWV9FVkVOX01PUkVfU0VDUkVUX0tFWQ==\\\"\\nexample_key = Key(pub_id=pub_id, secret_key=secret_key)\";\n",
       "                var nbb_formatted_code = \"# Random credentials\\npub_id, secret_key = \\\"QVdFU09NRV9QVUJMSUNfSUQ=\\\", \\\"VkVSWV9FVkVOX01PUkVfU0VDUkVUX0tFWQ==\\\"\\nexample_key = Key(pub_id=pub_id, secret_key=secret_key)\";\n",
       "                var nbb_cells = Jupyter.notebook.get_cells();\n",
       "                for (var i = 0; i < nbb_cells.length; ++i) {\n",
       "                    if (nbb_cells[i].input_prompt_number == nbb_cell_id) {\n",
       "                        if (nbb_cells[i].get_text() == nbb_unformatted_code) {\n",
       "                             nbb_cells[i].set_text(nbb_formatted_code);\n",
       "                        }\n",
       "                        break;\n",
       "                    }\n",
       "                }\n",
       "            }, 500);\n",
       "            "
      ],
      "text/plain": [
       "<IPython.core.display.Javascript object>"
      ]
     },
     "metadata": {},
     "output_type": "display_data"
    }
   ],
   "source": [
    "# Random credentials\n",
    "pub_id, secret_key = \"QVdFU09NRV9QVUJMSUNfSUQ=\", \"VkVSWV9FVkVOX01PUkVfU0VDUkVUX0tFWQ==\"\n",
    "example_key = Key(pub_id=pub_id, secret_key=secret_key)"
   ]
  },
  {
   "cell_type": "code",
   "execution_count": null,
   "metadata": {},
   "outputs": [
    {
     "data": {
      "application/javascript": [
       "\n",
       "            setTimeout(function() {\n",
       "                var nbb_cell_id = 18;\n",
       "                var nbb_unformatted_code = \"assert (example_key.pub_id, example_key.secret_key) == (pub_id, secret_key)\";\n",
       "                var nbb_formatted_code = \"assert (example_key.pub_id, example_key.secret_key) == (pub_id, secret_key)\";\n",
       "                var nbb_cells = Jupyter.notebook.get_cells();\n",
       "                for (var i = 0; i < nbb_cells.length; ++i) {\n",
       "                    if (nbb_cells[i].input_prompt_number == nbb_cell_id) {\n",
       "                        if (nbb_cells[i].get_text() == nbb_unformatted_code) {\n",
       "                             nbb_cells[i].set_text(nbb_formatted_code);\n",
       "                        }\n",
       "                        break;\n",
       "                    }\n",
       "                }\n",
       "            }, 500);\n",
       "            "
      ],
      "text/plain": [
       "<IPython.core.display.Javascript object>"
      ]
     },
     "metadata": {},
     "output_type": "display_data"
    }
   ],
   "source": [
    "assert (example_key.pub_id, example_key.secret_key) == (pub_id, secret_key)"
   ]
  },
  {
   "cell_type": "markdown",
   "metadata": {},
   "source": [
    "Variables in the `Key` class cannot be changed after initialization."
   ]
  },
  {
   "cell_type": "code",
   "execution_count": null,
   "metadata": {},
   "outputs": [
    {
     "data": {
      "application/javascript": [
       "\n",
       "            setTimeout(function() {\n",
       "                var nbb_cell_id = 19;\n",
       "                var nbb_unformatted_code = \"def test_immutability(key):\\n    try:\\n        key.secret_key = \\\"HELLO\\\"\\n    except FrozenInstanceError:\\n        return True\\n    return False\\n\\n# Manipulating Key should raise FrozenInstanceError\\nassert test_immutability(example_key)\";\n",
       "                var nbb_formatted_code = \"def test_immutability(key):\\n    try:\\n        key.secret_key = \\\"HELLO\\\"\\n    except FrozenInstanceError:\\n        return True\\n    return False\\n\\n\\n# Manipulating Key should raise FrozenInstanceError\\nassert test_immutability(example_key)\";\n",
       "                var nbb_cells = Jupyter.notebook.get_cells();\n",
       "                for (var i = 0; i < nbb_cells.length; ++i) {\n",
       "                    if (nbb_cells[i].input_prompt_number == nbb_cell_id) {\n",
       "                        if (nbb_cells[i].get_text() == nbb_unformatted_code) {\n",
       "                             nbb_cells[i].set_text(nbb_formatted_code);\n",
       "                        }\n",
       "                        break;\n",
       "                    }\n",
       "                }\n",
       "            }, 500);\n",
       "            "
      ],
      "text/plain": [
       "<IPython.core.display.Javascript object>"
      ]
     },
     "metadata": {},
     "output_type": "display_data"
    }
   ],
   "source": [
    "def test_immutability(key):\n",
    "    try:\n",
    "        key.secret_key = \"HELLO\"\n",
    "    except FrozenInstanceError:\n",
    "        return True\n",
    "    return False\n",
    "\n",
    "\n",
    "# Manipulating Key should raise FrozenInstanceError\n",
    "assert test_immutability(example_key)"
   ]
  },
  {
   "cell_type": "markdown",
   "metadata": {},
   "source": [
    "### Example loading from JSON"
   ]
  },
  {
   "cell_type": "code",
   "execution_count": null,
   "metadata": {},
   "outputs": [
    {
     "data": {
      "text/html": [
       "<pre style=\"white-space:pre;overflow-x:auto;line-height:normal;font-family:Menlo,'DejaVu Sans Mono',consolas,'Courier New',monospace\">🔑 Numerai Auth key initialized with pub_id = <span style=\"color: #008000; text-decoration-color: #008000\">'UFVCTElDX0lE'</span> 🔑\n",
       "</pre>\n"
      ],
      "text/plain": [
       "🔑 Numerai Auth key initialized with pub_id = \u001b[32m'UFVCTElDX0lE'\u001b[0m 🔑\n"
      ]
     },
     "metadata": {},
     "output_type": "display_data"
    },
    {
     "data": {
      "application/javascript": [
       "\n",
       "            setTimeout(function() {\n",
       "                var nbb_cell_id = 20;\n",
       "                var nbb_unformatted_code = \"example_key2 = load_key_from_json(\\\"test_assets/test_credentials.json\\\")\";\n",
       "                var nbb_formatted_code = \"example_key2 = load_key_from_json(\\\"test_assets/test_credentials.json\\\")\";\n",
       "                var nbb_cells = Jupyter.notebook.get_cells();\n",
       "                for (var i = 0; i < nbb_cells.length; ++i) {\n",
       "                    if (nbb_cells[i].input_prompt_number == nbb_cell_id) {\n",
       "                        if (nbb_cells[i].get_text() == nbb_unformatted_code) {\n",
       "                             nbb_cells[i].set_text(nbb_formatted_code);\n",
       "                        }\n",
       "                        break;\n",
       "                    }\n",
       "                }\n",
       "            }, 500);\n",
       "            "
      ],
      "text/plain": [
       "<IPython.core.display.Javascript object>"
      ]
     },
     "metadata": {},
     "output_type": "display_data"
    }
   ],
   "source": [
    "example_key2 = load_key_from_json(\"test_assets/test_credentials.json\")"
   ]
  },
  {
   "cell_type": "markdown",
   "metadata": {},
   "source": [
    "Now this `Key` correctly contains the credentials specified in `test_assets/test_credentials.json`."
   ]
  },
  {
   "cell_type": "code",
   "execution_count": null,
   "metadata": {},
   "outputs": [
    {
     "data": {
      "application/javascript": [
       "\n",
       "            setTimeout(function() {\n",
       "                var nbb_cell_id = 21;\n",
       "                var nbb_unformatted_code = \"assert (example_key2.pub_id, example_key2.secret_key) == (\\\"UFVCTElDX0lE\\\", \\\"U1VQRVJfU0VDUkVUX0tFWQ==\\\")\";\n",
       "                var nbb_formatted_code = \"assert (example_key2.pub_id, example_key2.secret_key) == (\\n    \\\"UFVCTElDX0lE\\\",\\n    \\\"U1VQRVJfU0VDUkVUX0tFWQ==\\\",\\n)\";\n",
       "                var nbb_cells = Jupyter.notebook.get_cells();\n",
       "                for (var i = 0; i < nbb_cells.length; ++i) {\n",
       "                    if (nbb_cells[i].input_prompt_number == nbb_cell_id) {\n",
       "                        if (nbb_cells[i].get_text() == nbb_unformatted_code) {\n",
       "                             nbb_cells[i].set_text(nbb_formatted_code);\n",
       "                        }\n",
       "                        break;\n",
       "                    }\n",
       "                }\n",
       "            }, 500);\n",
       "            "
      ],
      "text/plain": [
       "<IPython.core.display.Javascript object>"
      ]
     },
     "metadata": {},
     "output_type": "display_data"
    }
   ],
   "source": [
    "assert (example_key2.pub_id, example_key2.secret_key) == (\n",
    "    \"UFVCTElDX0lE\",\n",
    "    \"U1VQRVJfU0VDUkVUX0tFWQ==\",\n",
    ")"
   ]
  },
  {
   "cell_type": "markdown",
   "metadata": {},
   "source": [
    "-----------------------------------------------------------------------"
   ]
  },
  {
   "cell_type": "code",
   "execution_count": null,
   "metadata": {},
   "outputs": [
    {
     "name": "stdout",
     "output_type": "stream",
     "text": [
      "Converted 00_download.ipynb.\n",
      "Converted 01_dataloaders.ipynb.\n",
      "Converted 02_dataset.ipynb.\n",
      "Converted 03_preprocessing.ipynb.\n",
      "Converted 04a_model.ipynb.\n",
      "Converted 04b_modelpipeline.ipynb.\n",
      "Converted 05_postprocessing.ipynb.\n",
      "Converted 06_prediction_dataset.ipynb.\n",
      "Converted 07_evaluation.ipynb.\n",
      "Converted 08_key.ipynb.\n",
      "Converted 09_submission.ipynb.\n",
      "Converted index.ipynb.\n"
     ]
    },
    {
     "data": {
      "application/javascript": [
       "\n",
       "            setTimeout(function() {\n",
       "                var nbb_cell_id = 22;\n",
       "                var nbb_unformatted_code = \"#hide\\n# Run this cell to sync all changes with library\\nfrom nbdev.export import notebook2script; notebook2script()\";\n",
       "                var nbb_formatted_code = \"# hide\\n# Run this cell to sync all changes with library\\nfrom nbdev.export import notebook2script\\n\\nnotebook2script()\";\n",
       "                var nbb_cells = Jupyter.notebook.get_cells();\n",
       "                for (var i = 0; i < nbb_cells.length; ++i) {\n",
       "                    if (nbb_cells[i].input_prompt_number == nbb_cell_id) {\n",
       "                        if (nbb_cells[i].get_text() == nbb_unformatted_code) {\n",
       "                             nbb_cells[i].set_text(nbb_formatted_code);\n",
       "                        }\n",
       "                        break;\n",
       "                    }\n",
       "                }\n",
       "            }, 500);\n",
       "            "
      ],
      "text/plain": [
       "<IPython.core.display.Javascript object>"
      ]
     },
     "metadata": {},
     "output_type": "display_data"
    }
   ],
   "source": [
    "# hide\n",
    "# Run this cell to sync all changes with library\n",
    "from nbdev.export import notebook2script\n",
    "\n",
    "notebook2script()"
   ]
  }
 ],
 "metadata": {
  "kernelspec": {
   "display_name": "Python 3",
   "language": "python",
   "name": "python3"
  }
 },
 "nbformat": 4,
 "nbformat_minor": 0
}
