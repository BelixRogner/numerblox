{
 "cells": [
  {
   "cell_type": "code",
   "execution_count": null,
   "metadata": {},
   "outputs": [
    {
     "data": {
      "application/javascript": "\n            setTimeout(function() {\n                var nbb_cell_id = 1;\n                var nbb_unformatted_code = \"#hide\\n%load_ext autoreload\\n%autoreload 2\\n%load_ext nb_black\\n%load_ext lab_black\";\n                var nbb_formatted_code = \"# hide\\n%load_ext autoreload\\n%autoreload 2\\n%load_ext nb_black\\n%load_ext lab_black\";\n                var nbb_cells = Jupyter.notebook.get_cells();\n                for (var i = 0; i < nbb_cells.length; ++i) {\n                    if (nbb_cells[i].input_prompt_number == nbb_cell_id) {\n                        if (nbb_cells[i].get_text() == nbb_unformatted_code) {\n                             nbb_cells[i].set_text(nbb_formatted_code);\n                        }\n                        break;\n                    }\n                }\n            }, 500);\n            ",
      "text/plain": "<IPython.core.display.Javascript object>"
     },
     "metadata": {},
     "output_type": "display_data"
    }
   ],
   "source": [
    "#hide\n",
    "%load_ext autoreload\n",
    "%autoreload 2\n",
    "%load_ext nb_black\n",
    "%load_ext lab_black"
   ]
  },
  {
   "cell_type": "code",
   "execution_count": null,
   "metadata": {},
   "outputs": [
    {
     "data": {
      "application/javascript": "\n            setTimeout(function() {\n                var nbb_cell_id = 2;\n                var nbb_unformatted_code = \"# default_exp key\";\n                var nbb_formatted_code = \"# default_exp key\";\n                var nbb_cells = Jupyter.notebook.get_cells();\n                for (var i = 0; i < nbb_cells.length; ++i) {\n                    if (nbb_cells[i].input_prompt_number == nbb_cell_id) {\n                        if (nbb_cells[i].get_text() == nbb_unformatted_code) {\n                             nbb_cells[i].set_text(nbb_formatted_code);\n                        }\n                        break;\n                    }\n                }\n            }, 500);\n            ",
      "text/plain": "<IPython.core.display.Javascript object>"
     },
     "metadata": {},
     "output_type": "display_data"
    }
   ],
   "source": [
    "# default_exp key"
   ]
  },
  {
   "cell_type": "markdown",
   "metadata": {},
   "source": [
    "# Authentication"
   ]
  },
  {
   "cell_type": "code",
   "execution_count": null,
   "metadata": {},
   "outputs": [
    {
     "data": {
      "application/javascript": "\n            setTimeout(function() {\n                var nbb_cell_id = 3;\n                var nbb_unformatted_code = \"#hide\\nfrom nbdev.showdoc import *\";\n                var nbb_formatted_code = \"# hide\\nfrom nbdev.showdoc import *\";\n                var nbb_cells = Jupyter.notebook.get_cells();\n                for (var i = 0; i < nbb_cells.length; ++i) {\n                    if (nbb_cells[i].input_prompt_number == nbb_cell_id) {\n                        if (nbb_cells[i].get_text() == nbb_unformatted_code) {\n                             nbb_cells[i].set_text(nbb_formatted_code);\n                        }\n                        break;\n                    }\n                }\n            }, 500);\n            ",
      "text/plain": "<IPython.core.display.Javascript object>"
     },
     "metadata": {},
     "output_type": "display_data"
    }
   ],
   "source": [
    "#hide\n",
    "from nbdev.showdoc import *"
   ]
  },
  {
   "cell_type": "code",
   "execution_count": null,
   "metadata": {},
   "outputs": [
    {
     "data": {
      "application/javascript": "\n            setTimeout(function() {\n                var nbb_cell_id = 4;\n                var nbb_unformatted_code = \"#export\\nimport json\\nimport base64\\nfrom dataclasses import dataclass\\nfrom rich import print as rich_print\";\n                var nbb_formatted_code = \"# export\\nimport json\\nimport base64\\nfrom dataclasses import dataclass\\nfrom rich import print as rich_print\";\n                var nbb_cells = Jupyter.notebook.get_cells();\n                for (var i = 0; i < nbb_cells.length; ++i) {\n                    if (nbb_cells[i].input_prompt_number == nbb_cell_id) {\n                        if (nbb_cells[i].get_text() == nbb_unformatted_code) {\n                             nbb_cells[i].set_text(nbb_formatted_code);\n                        }\n                        break;\n                    }\n                }\n            }, 500);\n            ",
      "text/plain": "<IPython.core.display.Javascript object>"
     },
     "metadata": {},
     "output_type": "display_data"
    }
   ],
   "source": [
    "#export\n",
    "import json\n",
    "import base64\n",
    "from dataclasses import dataclass\n",
    "from rich import print as rich_print"
   ]
  },
  {
   "cell_type": "markdown",
   "metadata": {},
   "source": [
    "## Key"
   ]
  },
  {
   "cell_type": "code",
   "execution_count": null,
   "metadata": {},
   "outputs": [
    {
     "data": {
      "application/javascript": "\n            setTimeout(function() {\n                var nbb_cell_id = 5;\n                var nbb_unformatted_code = \"@dataclass(frozen=True)\\nclass Key:\\n    pub_id: str = \\\"\\\"\\n    secret_key: str = \\\"\\\"\\n    # Decode credentials\\n    pub_id = base64.b64decode(pub_id).decode('utf-8')\\n    secret_key = base64.b64decode(secret_key).decode('utf-8')\\n\\n    def __post_init__(self):\\n        rich_print(f\\\":key: Intialized {self.__repr__} :key:\\\")\\n\\n    def __repr__(self):\\n        return f\\\"Numerai Authentication Key. pub_id: '{pub_id}'\\\"\\n\\n    def __str__(self):\\n        return self.__repr__()\\n\\ndef load_key_from_json(file_path: str, *args, **kwargs):\\n    \\\"\\\"\\\"\\n    Initialize Key object from JSON file.\\n    Credentials file should have the following format:\\n    {\\n    \\\"pub_id\\\": \\\"PUBLIC_ID\\\",\\n    \\\"secret_key\\\": \\\"SECRET_KEY\\\"\\n    }\\n    \\\"\\\"\\\"\\n    with open(file_path) as json_file:\\n        json_data = json.load(json_file, *args, **kwargs)\\n    pub_id = json_data['pub_id']\\n    secret_key = json_data['secret_key']\\n    return Key(pub_id=pub_id, secret_key=secret_key)\";\n                var nbb_formatted_code = \"@dataclass(frozen=True)\\nclass Key:\\n    pub_id: str = \\\"\\\"\\n    secret_key: str = \\\"\\\"\\n    # Decode credentials\\n    pub_id = base64.b64decode(pub_id).decode(\\\"utf-8\\\")\\n    secret_key = base64.b64decode(secret_key).decode(\\\"utf-8\\\")\\n\\n    def __post_init__(self):\\n        rich_print(f\\\":key: Intialized {self.__repr__} :key:\\\")\\n\\n    def __repr__(self):\\n        return f\\\"Numerai Authentication Key. pub_id: '{pub_id}'\\\"\\n\\n    def __str__(self):\\n        return self.__repr__()\\n\\n\\ndef load_key_from_json(file_path: str, *args, **kwargs):\\n    \\\"\\\"\\\"\\n    Initialize Key object from JSON file.\\n    Credentials file should have the following format:\\n    {\\n    \\\"pub_id\\\": \\\"PUBLIC_ID\\\",\\n    \\\"secret_key\\\": \\\"SECRET_KEY\\\"\\n    }\\n    \\\"\\\"\\\"\\n    with open(file_path) as json_file:\\n        json_data = json.load(json_file, *args, **kwargs)\\n    pub_id = json_data[\\\"pub_id\\\"]\\n    secret_key = json_data[\\\"secret_key\\\"]\\n    return Key(pub_id=pub_id, secret_key=secret_key)\";\n                var nbb_cells = Jupyter.notebook.get_cells();\n                for (var i = 0; i < nbb_cells.length; ++i) {\n                    if (nbb_cells[i].input_prompt_number == nbb_cell_id) {\n                        if (nbb_cells[i].get_text() == nbb_unformatted_code) {\n                             nbb_cells[i].set_text(nbb_formatted_code);\n                        }\n                        break;\n                    }\n                }\n            }, 500);\n            ",
      "text/plain": "<IPython.core.display.Javascript object>"
     },
     "metadata": {},
     "output_type": "display_data"
    }
   ],
   "source": [
    "@dataclass(frozen=True)\n",
    "class Key:\n",
    "    pub_id: str = \"\"\n",
    "    secret_key: str = \"\"\n",
    "    # Decode credentials\n",
    "    pub_id = base64.b64decode(pub_id).decode('utf-8')\n",
    "    secret_key = base64.b64decode(secret_key).decode('utf-8')\n",
    "\n",
    "    def __post_init__(self):\n",
    "        print(f\":key: Intialized {self.__repr__} :key:\")\n",
    "\n",
    "    def __repr__(self):\n",
    "        return f\"Numerai Authentication Key. pub_id: '{pub_id}'\"\n",
    "\n",
    "    def __str__(self):\n",
    "        return self.__repr__()\n",
    "\n",
    "def load_key_from_json(file_path: str, *args, **kwargs):\n",
    "    \"\"\"\n",
    "    Initialize Key object from JSON file.\n",
    "    Credentials file should have the following format:\n",
    "    {\n",
    "    \"pub_id\": \"PUBLIC_ID\",\n",
    "    \"secret_key\": \"SECRET_KEY\"\n",
    "    }\n",
    "    \"\"\"\n",
    "    with open(file_path) as json_file:\n",
    "        json_data = json.load(json_file, *args, **kwargs)\n",
    "    pub_id = json_data['pub_id']\n",
    "    secret_key = json_data['secret_key']\n",
    "    return Key(pub_id=pub_id, secret_key=secret_key)"
   ]
  },
  {
   "cell_type": "markdown",
   "metadata": {},
   "source": [
    "## Example usage (variable input)"
   ]
  },
  {
   "cell_type": "code",
   "execution_count": null,
   "metadata": {},
   "outputs": [
    {
     "data": {
      "text/html": "<pre style=\"white-space:pre;overflow-x:auto;line-height:normal;font-family:Menlo,'DejaVu Sans Mono',consolas,'Courier New',monospace\">🔑 Intialized <span style=\"font-weight: bold\">&lt;</span><span style=\"color: #ff00ff; text-decoration-color: #ff00ff; font-weight: bold\">bound</span><span style=\"color: #000000; text-decoration-color: #000000\"> method Key.__repr__ of Numerai Authentication Key. pub_id: </span>\n<span style=\"color: #008000; text-decoration-color: #008000\">'QVdFU09NRV9QVUJMSUNfSUQ='</span><span style=\"font-weight: bold\">&gt;</span> 🔑\n</pre>\n",
      "text/plain": "🔑 Intialized \u001b[1m<\u001b[0m\u001b[1;95mbound\u001b[0m\u001b[39m method Key.__repr__ of Numerai Authentication Key. pub_id: \u001b[0m\n\u001b[32m'\u001b[0m\u001b[32mQVdFU09NRV9QVUJMSUNfSUQ\u001b[0m\u001b[32m='\u001b[0m\u001b[1m>\u001b[0m 🔑\n"
     },
     "metadata": {},
     "output_type": "display_data"
    },
    {
     "data": {
      "text/plain": "Numerai Authentication Key. pub_id: 'QVdFU09NRV9QVUJMSUNfSUQ='"
     },
     "execution_count": null,
     "metadata": {},
     "output_type": "execute_result"
    }
   ],
   "source": [
    "# Random credentials\n",
    "pub_id =\"QVdFU09NRV9QVUJMSUNfSUQ=\"\n",
    "secret_key = \"VkVSWV9FVkVOX01PUkVfU0VDUkVUX0tFWQ==\"\n",
    "example_key = Key(pub_id=pub_id, secret_key=secret_key)\n",
    "example_key"
   ]
  },
  {
   "cell_type": "code",
   "execution_count": null,
   "metadata": {},
   "outputs": [
    {
     "data": {
      "text/plain": "('QVdFU09NRV9QVUJMSUNfSUQ=', 'VkVSWV9FVkVOX01PUkVfU0VDUkVUX0tFWQ==')"
     },
     "execution_count": null,
     "metadata": {},
     "output_type": "execute_result"
    }
   ],
   "source": [
    "example_key.pub_id, example_key.secret_key"
   ]
  },
  {
   "cell_type": "code",
   "execution_count": null,
   "metadata": {},
   "outputs": [],
   "source": [
    "assert (example_key.pub_id, example_key.secret_key) == (pub_id, secret_key)"
   ]
  },
  {
   "cell_type": "markdown",
   "metadata": {},
   "source": [
    "## Example loading from JSON"
   ]
  },
  {
   "cell_type": "code",
   "execution_count": null,
   "metadata": {},
   "outputs": [
    {
     "data": {
      "text/plain": "Numerai Authentication Key. pub_id: 'QVdFU09NRV9QVUJMSUNfSUQ='"
     },
     "execution_count": null,
     "metadata": {},
     "output_type": "execute_result"
    }
   ],
   "source": [
    "example_key2 = load_key_from_json(\"test_assets/test_credentials.json\")\n",
    "example_key2"
   ]
  },
  {
   "cell_type": "code",
   "execution_count": null,
   "metadata": {},
   "outputs": [
    {
     "data": {
      "text/plain": "'UFVCTElDX0lE'"
     },
     "execution_count": null,
     "metadata": {},
     "output_type": "execute_result"
    }
   ],
   "source": [
    "example_key2.pub_id"
   ]
  },
  {
   "cell_type": "code",
   "execution_count": null,
   "metadata": {},
   "outputs": [],
   "source": []
  }
 ],
 "metadata": {
  "kernelspec": {
   "display_name": "Python 3",
   "language": "python",
   "name": "python3"
  }
 },
 "nbformat": 4,
 "nbformat_minor": 0
}
