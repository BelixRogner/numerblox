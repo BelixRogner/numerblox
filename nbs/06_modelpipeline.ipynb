{
 "cells": [
  {
   "cell_type": "code",
   "execution_count": 1,
   "metadata": {},
   "outputs": [
    {
     "data": {
      "text/plain": "<IPython.core.display.Javascript object>",
      "application/javascript": "\n            setTimeout(function() {\n                var nbb_cell_id = 1;\n                var nbb_unformatted_code = \"%load_ext autoreload\\n%autoreload 2\\n%load_ext nb_black\\n%load_ext lab_black\";\n                var nbb_formatted_code = \"%load_ext autoreload\\n%autoreload 2\\n%load_ext nb_black\\n%load_ext lab_black\";\n                var nbb_cells = Jupyter.notebook.get_cells();\n                for (var i = 0; i < nbb_cells.length; ++i) {\n                    if (nbb_cells[i].input_prompt_number == nbb_cell_id) {\n                        if (nbb_cells[i].get_text() == nbb_unformatted_code) {\n                             nbb_cells[i].set_text(nbb_formatted_code);\n                        }\n                        break;\n                    }\n                }\n            }, 500);\n            "
     },
     "metadata": {},
     "output_type": "display_data"
    }
   ],
   "source": [
    "%load_ext autoreload\n",
    "%autoreload 2\n",
    "%load_ext nb_black\n",
    "%load_ext lab_black"
   ]
  },
  {
   "cell_type": "code",
   "execution_count": 2,
   "metadata": {},
   "outputs": [
    {
     "data": {
      "text/plain": "<IPython.core.display.Javascript object>",
      "application/javascript": "\n            setTimeout(function() {\n                var nbb_cell_id = 2;\n                var nbb_unformatted_code = \"# default_exp model_pipeline\";\n                var nbb_formatted_code = \"# default_exp model_pipeline\";\n                var nbb_cells = Jupyter.notebook.get_cells();\n                for (var i = 0; i < nbb_cells.length; ++i) {\n                    if (nbb_cells[i].input_prompt_number == nbb_cell_id) {\n                        if (nbb_cells[i].get_text() == nbb_unformatted_code) {\n                             nbb_cells[i].set_text(nbb_formatted_code);\n                        }\n                        break;\n                    }\n                }\n            }, 500);\n            "
     },
     "metadata": {},
     "output_type": "display_data"
    }
   ],
   "source": [
    "# default_exp model_pipeline"
   ]
  },
  {
   "cell_type": "markdown",
   "metadata": {},
   "source": [
    "# ModelPipeline and ModelPipelineCollection"
   ]
  },
  {
   "cell_type": "markdown",
   "metadata": {},
   "source": [
    "The functionality below uses the `NumerFrame`, `PreProcessor`, `Model` and `PostProcessor` objects to easily propagate\n",
    "data, generate predictions and postprocess them in one go.\n",
    "\n",
    "Specifically, this section introduces two objects:\n",
    "1. `ModelPipeline`: Run all preprocessing, models and postprocessing that you define and return a `NumerFrame`.\n",
    "2. `ModelPipelineCollection`: Manage and run multiple `ModelPipeline` objects."
   ]
  },
  {
   "cell_type": "code",
   "execution_count": 3,
   "metadata": {},
   "outputs": [
    {
     "data": {
      "text/plain": "<IPython.core.display.Javascript object>",
      "application/javascript": "\n            setTimeout(function() {\n                var nbb_cell_id = 3;\n                var nbb_unformatted_code = \"# hide\\nfrom nbdev.showdoc import *\";\n                var nbb_formatted_code = \"# hide\\nfrom nbdev.showdoc import *\";\n                var nbb_cells = Jupyter.notebook.get_cells();\n                for (var i = 0; i < nbb_cells.length; ++i) {\n                    if (nbb_cells[i].input_prompt_number == nbb_cell_id) {\n                        if (nbb_cells[i].get_text() == nbb_unformatted_code) {\n                             nbb_cells[i].set_text(nbb_formatted_code);\n                        }\n                        break;\n                    }\n                }\n            }, 500);\n            "
     },
     "metadata": {},
     "output_type": "display_data"
    }
   ],
   "source": [
    "# hide\n",
    "from nbdev.showdoc import *"
   ]
  },
  {
   "cell_type": "code",
   "execution_count": 4,
   "metadata": {},
   "outputs": [
    {
     "data": {
      "text/plain": "<IPython.core.display.Javascript object>",
      "application/javascript": "\n            setTimeout(function() {\n                var nbb_cell_id = 4;\n                var nbb_unformatted_code = \"#export\\nimport uuid\\nimport pandas as pd\\nfrom tqdm.auto import tqdm\\nfrom typing import List, Union\\nfrom typeguard import typechecked\\nfrom rich import print as rich_print\\n\\nfrom numerai_blocks.numerframe import NumerFrame, create_numerframe\\nfrom numerai_blocks.preprocessing import BaseProcessor, CopyPreProcessor, GroupStatsPreProcessor, FeatureSelectionPreProcessor\\nfrom numerai_blocks.model import BaseModel, ConstantModel, RandomModel\\nfrom numerai_blocks.postprocessing import Standardizer, MeanEnsembler, FeatureNeutralizer\";\n                var nbb_formatted_code = \"# export\\nimport uuid\\nimport pandas as pd\\nfrom tqdm.auto import tqdm\\nfrom typing import List, Union\\nfrom typeguard import typechecked\\nfrom rich import print as rich_print\\n\\nfrom numerai_blocks.numerframe import NumerFrame, create_numerframe\\nfrom numerai_blocks.preprocessing import (\\n    BaseProcessor,\\n    CopyPreProcessor,\\n    GroupStatsPreProcessor,\\n    FeatureSelectionPreProcessor,\\n)\\nfrom numerai_blocks.model import BaseModel, ConstantModel, RandomModel\\nfrom numerai_blocks.postprocessing import (\\n    Standardizer,\\n    MeanEnsembler,\\n    FeatureNeutralizer,\\n)\";\n                var nbb_cells = Jupyter.notebook.get_cells();\n                for (var i = 0; i < nbb_cells.length; ++i) {\n                    if (nbb_cells[i].input_prompt_number == nbb_cell_id) {\n                        if (nbb_cells[i].get_text() == nbb_unformatted_code) {\n                             nbb_cells[i].set_text(nbb_formatted_code);\n                        }\n                        break;\n                    }\n                }\n            }, 500);\n            "
     },
     "metadata": {},
     "output_type": "display_data"
    }
   ],
   "source": [
    "#export\n",
    "import uuid\n",
    "import pandas as pd\n",
    "from tqdm.auto import tqdm\n",
    "from typing import List, Union\n",
    "from typeguard import typechecked\n",
    "from rich import print as rich_print\n",
    "\n",
    "from numerai_blocks.numerframe import NumerFrame, create_numerframe\n",
    "from numerai_blocks.preprocessing import BaseProcessor, CopyPreProcessor, GroupStatsPreProcessor, FeatureSelectionPreProcessor\n",
    "from numerai_blocks.model import BaseModel, ConstantModel, RandomModel\n",
    "from numerai_blocks.postprocessing import Standardizer, MeanEnsembler, FeatureNeutralizer"
   ]
  },
  {
   "cell_type": "markdown",
   "metadata": {},
   "source": []
  },
  {
   "cell_type": "markdown",
   "metadata": {},
   "source": [
    "## 1. ModelPipeline"
   ]
  },
  {
   "cell_type": "markdown",
   "metadata": {},
   "source": [
    "`ModelPipeline` handles all preprocessing, model prediction and postprocessing.\n",
    "After the `ModelPipeline` completes it returns a `NumerFrame` with the preprocessed data, metadata and postprocessed prediction columns."
   ]
  },
  {
   "cell_type": "code",
   "execution_count": 5,
   "metadata": {},
   "outputs": [
    {
     "data": {
      "text/plain": "<IPython.core.display.Javascript object>",
      "application/javascript": "\n            setTimeout(function() {\n                var nbb_cell_id = 5;\n                var nbb_unformatted_code = \"#export\\n@typechecked\\nclass ModelPipeline:\\n    \\\"\\\"\\\"\\n    Execute all preprocessing, prediction and postprocessing for a given setup.\\n\\n    :param models: Initiliazed numerai-blocks Models (Objects inheriting from BaseModel)\\n    :param preprocessors: List of initialized Preprocessors.\\n    :param postprocessors: List of initialized Postprocessors.\\n    :param copy_first: Whether to copy the NumerFrame as a first preprocessing step.\\n    Highly recommended in order to avoid surprise behaviour by manipulating the original dataset.\\n    :param pipeline_name: Unique name for pipeline. Only used for display purposes.\\n    \\\"\\\"\\\"\\n    def __init__(self,\\n                 models: List[BaseModel],\\n                 preprocessors: List[BaseProcessor] = [],\\n                 postprocessors: List[BaseProcessor] = [],\\n                 copy_first = True,\\n                 standardize = True,\\n                 pipeline_name: str = None):\\n        self.pipeline_name = pipeline_name if pipeline_name else uuid.uuid4().hex\\n        self.models = models\\n        self.copy_first = copy_first\\n        self.standardize = standardize\\n        self.preprocessors = preprocessors\\n        self.postprocessors = postprocessors\\n\\n    def preprocess(self, dataf: Union[pd.DataFrame, NumerFrame]) -> NumerFrame:\\n        if self.copy_first:\\n            dataf = CopyPreProcessor()(dataf)\\n        for preprocessor in tqdm(self.preprocessors,\\n                                 desc=f\\\"{self.pipeline_name} Preprocessing:\\\",\\n                                 position=0):\\n            rich_print(f\\\":construction: Applying preprocessing: '[bold]{preprocessor.__class__.__name__}[/bold]' :construction:\\\")\\n            dataf = preprocessor(dataf)\\n        return NumerFrame(dataf)\\n\\n    def postprocess(self, dataf: Union[pd.DataFrame, NumerFrame]) -> NumerFrame:\\n        if self.standardize:\\n            dataf = Standardizer()(dataf)\\n        for postprocessor in tqdm(self.postprocessors,\\n                                  desc=f\\\"{self.pipeline_name} Postprocessing: \\\",\\n                                  position=0):\\n            rich_print(f\\\":construction: Applying postprocessing: '[bold]{postprocessor.__class__.__name__}[/bold]' :construction:\\\")\\n            dataf = postprocessor(dataf)\\n        return NumerFrame(dataf)\\n\\n    def process_models(self, dataf: Union[pd.DataFrame, NumerFrame]) -> NumerFrame:\\n        for model in tqdm(self.models,\\n                                  desc=f\\\"{self.pipeline_name} Model prediction: \\\",\\n                                  position=0):\\n            rich_print(f\\\":robot: Generating model predictions with '[bold]{model.__class__.__name__}[/bold]'. :robot:\\\")\\n            dataf = model(dataf)\\n        return NumerFrame(dataf)\\n\\n    def pipeline(self, dataf: Union[pd.DataFrame, NumerFrame]) -> NumerFrame:\\n        \\\"\\\"\\\" Process full pipeline and return resulting Dataset. \\\"\\\"\\\"\\n        preprocessed_dataf = self.preprocess(dataf)\\n        prediction_dataf = self.process_models(preprocessed_dataf)\\n        processed_prediction_dataf = self.postprocess(prediction_dataf)\\n        rich_print(f\\\":checkered_flag: [green]Finished pipeline:[green] [bold blue]'{self.pipeline_name}'[bold blue]! :checkered_flag:\\\")\\n        return processed_prediction_dataf\\n\\n    def __call__(self, dataf: Union[pd.DataFrame, NumerFrame]) -> NumerFrame:\\n        return self.pipeline(dataf)\";\n                var nbb_formatted_code = \"# export\\n@typechecked\\nclass ModelPipeline:\\n    \\\"\\\"\\\"\\n    Execute all preprocessing, prediction and postprocessing for a given setup.\\n\\n    :param models: Initiliazed numerai-blocks Models (Objects inheriting from BaseModel)\\n    :param preprocessors: List of initialized Preprocessors.\\n    :param postprocessors: List of initialized Postprocessors.\\n    :param copy_first: Whether to copy the NumerFrame as a first preprocessing step.\\n    Highly recommended in order to avoid surprise behaviour by manipulating the original dataset.\\n    :param pipeline_name: Unique name for pipeline. Only used for display purposes.\\n    \\\"\\\"\\\"\\n\\n    def __init__(\\n        self,\\n        models: List[BaseModel],\\n        preprocessors: List[BaseProcessor] = [],\\n        postprocessors: List[BaseProcessor] = [],\\n        copy_first=True,\\n        standardize=True,\\n        pipeline_name: str = None,\\n    ):\\n        self.pipeline_name = pipeline_name if pipeline_name else uuid.uuid4().hex\\n        self.models = models\\n        self.copy_first = copy_first\\n        self.standardize = standardize\\n        self.preprocessors = preprocessors\\n        self.postprocessors = postprocessors\\n\\n    def preprocess(self, dataf: Union[pd.DataFrame, NumerFrame]) -> NumerFrame:\\n        if self.copy_first:\\n            dataf = CopyPreProcessor()(dataf)\\n        for preprocessor in tqdm(\\n            self.preprocessors, desc=f\\\"{self.pipeline_name} Preprocessing:\\\", position=0\\n        ):\\n            rich_print(\\n                f\\\":construction: Applying preprocessing: '[bold]{preprocessor.__class__.__name__}[/bold]' :construction:\\\"\\n            )\\n            dataf = preprocessor(dataf)\\n        return NumerFrame(dataf)\\n\\n    def postprocess(self, dataf: Union[pd.DataFrame, NumerFrame]) -> NumerFrame:\\n        if self.standardize:\\n            dataf = Standardizer()(dataf)\\n        for postprocessor in tqdm(\\n            self.postprocessors,\\n            desc=f\\\"{self.pipeline_name} Postprocessing: \\\",\\n            position=0,\\n        ):\\n            rich_print(\\n                f\\\":construction: Applying postprocessing: '[bold]{postprocessor.__class__.__name__}[/bold]' :construction:\\\"\\n            )\\n            dataf = postprocessor(dataf)\\n        return NumerFrame(dataf)\\n\\n    def process_models(self, dataf: Union[pd.DataFrame, NumerFrame]) -> NumerFrame:\\n        for model in tqdm(\\n            self.models, desc=f\\\"{self.pipeline_name} Model prediction: \\\", position=0\\n        ):\\n            rich_print(\\n                f\\\":robot: Generating model predictions with '[bold]{model.__class__.__name__}[/bold]'. :robot:\\\"\\n            )\\n            dataf = model(dataf)\\n        return NumerFrame(dataf)\\n\\n    def pipeline(self, dataf: Union[pd.DataFrame, NumerFrame]) -> NumerFrame:\\n        \\\"\\\"\\\"Process full pipeline and return resulting Dataset.\\\"\\\"\\\"\\n        preprocessed_dataf = self.preprocess(dataf)\\n        prediction_dataf = self.process_models(preprocessed_dataf)\\n        processed_prediction_dataf = self.postprocess(prediction_dataf)\\n        rich_print(\\n            f\\\":checkered_flag: [green]Finished pipeline:[green] [bold blue]'{self.pipeline_name}'[bold blue]! :checkered_flag:\\\"\\n        )\\n        return processed_prediction_dataf\\n\\n    def __call__(self, dataf: Union[pd.DataFrame, NumerFrame]) -> NumerFrame:\\n        return self.pipeline(dataf)\";\n                var nbb_cells = Jupyter.notebook.get_cells();\n                for (var i = 0; i < nbb_cells.length; ++i) {\n                    if (nbb_cells[i].input_prompt_number == nbb_cell_id) {\n                        if (nbb_cells[i].get_text() == nbb_unformatted_code) {\n                             nbb_cells[i].set_text(nbb_formatted_code);\n                        }\n                        break;\n                    }\n                }\n            }, 500);\n            "
     },
     "metadata": {},
     "output_type": "display_data"
    }
   ],
   "source": [
    "#export\n",
    "@typechecked\n",
    "class ModelPipeline:\n",
    "    \"\"\"\n",
    "    Execute all preprocessing, prediction and postprocessing for a given setup.\n",
    "\n",
    "    :param models: Initiliazed numerai-blocks Models (Objects inheriting from BaseModel)\n",
    "    :param preprocessors: List of initialized Preprocessors.\n",
    "    :param postprocessors: List of initialized Postprocessors.\n",
    "    :param copy_first: Whether to copy the NumerFrame as a first preprocessing step.\n",
    "    Highly recommended in order to avoid surprise behaviour by manipulating the original dataset.\n",
    "    :param pipeline_name: Unique name for pipeline. Only used for display purposes.\n",
    "    \"\"\"\n",
    "    def __init__(self,\n",
    "                 models: List[BaseModel],\n",
    "                 preprocessors: List[BaseProcessor] = [],\n",
    "                 postprocessors: List[BaseProcessor] = [],\n",
    "                 copy_first = True,\n",
    "                 standardize = True,\n",
    "                 pipeline_name: str = None):\n",
    "        self.pipeline_name = pipeline_name if pipeline_name else uuid.uuid4().hex\n",
    "        self.models = models\n",
    "        self.copy_first = copy_first\n",
    "        self.standardize = standardize\n",
    "        self.preprocessors = preprocessors\n",
    "        self.postprocessors = postprocessors\n",
    "\n",
    "    def preprocess(self, dataf: Union[pd.DataFrame, NumerFrame]) -> NumerFrame:\n",
    "        \"\"\" Run all preprocessing steps. Copies input by default. \"\"\"\n",
    "        if self.copy_first:\n",
    "            dataf = CopyPreProcessor()(dataf)\n",
    "        for preprocessor in tqdm(self.preprocessors,\n",
    "                                 desc=f\"{self.pipeline_name} Preprocessing:\",\n",
    "                                 position=0):\n",
    "            rich_print(f\":construction: Applying preprocessing: '[bold]{preprocessor.__class__.__name__}[/bold]' :construction:\")\n",
    "            dataf = preprocessor(dataf)\n",
    "        return NumerFrame(dataf)\n",
    "\n",
    "    def postprocess(self, dataf: Union[pd.DataFrame, NumerFrame]) -> NumerFrame:\n",
    "        \"\"\" Run all postprocessing steps. Standardizes model prediction by default. \"\"\"\n",
    "        if self.standardize:\n",
    "            dataf = Standardizer()(dataf)\n",
    "        for postprocessor in tqdm(self.postprocessors,\n",
    "                                  desc=f\"{self.pipeline_name} Postprocessing: \",\n",
    "                                  position=0):\n",
    "            rich_print(f\":construction: Applying postprocessing: '[bold]{postprocessor.__class__.__name__}[/bold]' :construction:\")\n",
    "            dataf = postprocessor(dataf)\n",
    "        return NumerFrame(dataf)\n",
    "\n",
    "    def process_models(self, dataf: Union[pd.DataFrame, NumerFrame]) -> NumerFrame:\n",
    "        \"\"\" Run all models. \"\"\"\n",
    "        for model in tqdm(self.models,\n",
    "                                  desc=f\"{self.pipeline_name} Model prediction: \",\n",
    "                                  position=0):\n",
    "            rich_print(f\":robot: Generating model predictions with '[bold]{model.__class__.__name__}[/bold]'. :robot:\")\n",
    "            dataf = model(dataf)\n",
    "        return NumerFrame(dataf)\n",
    "\n",
    "    def pipeline(self, dataf: Union[pd.DataFrame, NumerFrame]) -> NumerFrame:\n",
    "        \"\"\" Process full pipeline and return resulting NumerFrame. \"\"\"\n",
    "        preprocessed_dataf = self.preprocess(dataf)\n",
    "        prediction_dataf = self.process_models(preprocessed_dataf)\n",
    "        processed_prediction_dataf = self.postprocess(prediction_dataf)\n",
    "        rich_print(f\":checkered_flag: [green]Finished pipeline:[green] [bold blue]'{self.pipeline_name}'[bold blue]! :checkered_flag:\")\n",
    "        return processed_prediction_dataf\n",
    "\n",
    "    def __call__(self, dataf: Union[pd.DataFrame, NumerFrame]) -> NumerFrame:\n",
    "        return self.pipeline(dataf)"
   ]
  },
  {
   "cell_type": "code",
   "execution_count": 6,
   "metadata": {},
   "outputs": [
    {
     "data": {
      "text/plain": "<IPython.core.display.Javascript object>",
      "application/javascript": "\n            setTimeout(function() {\n                var nbb_cell_id = 6;\n                var nbb_unformatted_code = \"# Example using several preprocessor, dummy models and postprocessors\\nmodel_names = [\\\"test_0.5\\\", \\\"test_0.8\\\"]\\n\\ndataf = create_numerframe(\\\"test_assets/mini_numerai_version_1_data.csv\\\", metadata={'version': 1})\\npreprocessors = [GroupStatsPreProcessor(), FeatureSelectionPreProcessor(feature_cols=['feature_intelligence_mean', 'feature_intelligence_std'])]\\nmodels = [ConstantModel(constant=0.5, model_name=model_names[0]), ConstantModel(constant=0.8, model_name=model_names[1])]\\npostprocessors = [MeanEnsembler(cols=[f\\\"prediction_{name}\\\" for name in model_names], final_col_name='prediction_ensembled'),\\n                  FeatureNeutralizer(feature_names=['feature_intelligence_mean', 'feature_intelligence_std'],\\n                                     pred_name='prediction_ensembled', proportion=0.8)]\";\n                var nbb_formatted_code = \"# Example using several preprocessor, dummy models and postprocessors\\nmodel_names = [\\\"test_0.5\\\", \\\"test_0.8\\\"]\\n\\ndataf = create_numerframe(\\n    \\\"test_assets/mini_numerai_version_1_data.csv\\\", metadata={\\\"version\\\": 1}\\n)\\npreprocessors = [\\n    GroupStatsPreProcessor(),\\n    FeatureSelectionPreProcessor(\\n        feature_cols=[\\\"feature_intelligence_mean\\\", \\\"feature_intelligence_std\\\"]\\n    ),\\n]\\nmodels = [\\n    ConstantModel(constant=0.5, model_name=model_names[0]),\\n    ConstantModel(constant=0.8, model_name=model_names[1]),\\n]\\npostprocessors = [\\n    MeanEnsembler(\\n        cols=[f\\\"prediction_{name}\\\" for name in model_names],\\n        final_col_name=\\\"prediction_ensembled\\\",\\n    ),\\n    FeatureNeutralizer(\\n        feature_names=[\\\"feature_intelligence_mean\\\", \\\"feature_intelligence_std\\\"],\\n        pred_name=\\\"prediction_ensembled\\\",\\n        proportion=0.8,\\n    ),\\n]\";\n                var nbb_cells = Jupyter.notebook.get_cells();\n                for (var i = 0; i < nbb_cells.length; ++i) {\n                    if (nbb_cells[i].input_prompt_number == nbb_cell_id) {\n                        if (nbb_cells[i].get_text() == nbb_unformatted_code) {\n                             nbb_cells[i].set_text(nbb_formatted_code);\n                        }\n                        break;\n                    }\n                }\n            }, 500);\n            "
     },
     "metadata": {},
     "output_type": "display_data"
    }
   ],
   "source": [
    "# Example using several preprocessor, dummy models and postprocessors\n",
    "model_names = [\"test_0.5\", \"test_0.8\"]\n",
    "\n",
    "dataf = create_numerframe(\"test_assets/mini_numerai_version_1_data.csv\", metadata={'version': 1})\n",
    "preprocessors = [GroupStatsPreProcessor(), FeatureSelectionPreProcessor(feature_cols=['feature_intelligence_mean', 'feature_intelligence_std'])]\n",
    "models = [ConstantModel(constant=0.5, model_name=model_names[0]), ConstantModel(constant=0.8, model_name=model_names[1])]\n",
    "postprocessors = [MeanEnsembler(cols=[f\"prediction_{name}\" for name in model_names], final_col_name='prediction_ensembled'),\n",
    "                  FeatureNeutralizer(feature_names=['feature_intelligence_mean', 'feature_intelligence_std'],\n",
    "                                     pred_name='prediction_ensembled', proportion=0.8)]"
   ]
  },
  {
   "cell_type": "code",
   "execution_count": 7,
   "metadata": {},
   "outputs": [
    {
     "data": {
      "text/plain": "✅ Finished step \u001B[1mCopyPreProcessor\u001B[0m. Output \u001B[33mshape\u001B[0m=\u001B[1m(\u001B[0m\u001B[1;36m10\u001B[0m, \u001B[1;36m314\u001B[0m\u001B[1m)\u001B[0m. Time taken for step: \n\u001B[1;34m0:00:00\u001B[0m\u001B[34m.\u001B[0m\u001B[1;34m002178\u001B[0m. ✅\n",
      "text/html": "<pre style=\"white-space:pre;overflow-x:auto;line-height:normal;font-family:Menlo,'DejaVu Sans Mono',consolas,'Courier New',monospace\">✅ Finished step <span style=\"font-weight: bold\">CopyPreProcessor</span>. Output <span style=\"color: #808000; text-decoration-color: #808000\">shape</span>=<span style=\"font-weight: bold\">(</span><span style=\"color: #008080; text-decoration-color: #008080; font-weight: bold\">10</span>, <span style=\"color: #008080; text-decoration-color: #008080; font-weight: bold\">314</span><span style=\"font-weight: bold\">)</span>. Time taken for step: \n<span style=\"color: #000080; text-decoration-color: #000080; font-weight: bold\">0:00:00</span><span style=\"color: #000080; text-decoration-color: #000080\">.</span><span style=\"color: #000080; text-decoration-color: #000080; font-weight: bold\">002178</span>. ✅\n</pre>\n"
     },
     "metadata": {},
     "output_type": "display_data"
    },
    {
     "data": {
      "text/plain": "test_pipeline Preprocessing::   0%|          | 0/2 [00:00<?, ?it/s]",
      "application/vnd.jupyter.widget-view+json": {
       "version_major": 2,
       "version_minor": 0,
       "model_id": "e1eea0e6e9e449609aefa037fee975c1"
      }
     },
     "metadata": {},
     "output_type": "display_data"
    },
    {
     "data": {
      "text/plain": "🚧 Applying preprocessing: \u001B[32m'\u001B[0m\u001B[1;32mGroupStatsPreProcessor\u001B[0m\u001B[32m'\u001B[0m 🚧\n",
      "text/html": "<pre style=\"white-space:pre;overflow-x:auto;line-height:normal;font-family:Menlo,'DejaVu Sans Mono',consolas,'Courier New',monospace\">🚧 Applying preprocessing: <span style=\"color: #008000; text-decoration-color: #008000\">'</span><span style=\"color: #008000; text-decoration-color: #008000; font-weight: bold\">GroupStatsPreProcessor</span><span style=\"color: #008000; text-decoration-color: #008000\">'</span> 🚧\n</pre>\n"
     },
     "metadata": {},
     "output_type": "display_data"
    },
    {
     "data": {
      "text/plain": "✅ Finished step \u001B[1mGroupStatsPreProcessor\u001B[0m. Output \u001B[33mshape\u001B[0m=\u001B[1m(\u001B[0m\u001B[1;36m10\u001B[0m, \u001B[1;36m332\u001B[0m\u001B[1m)\u001B[0m. Time taken for step: \n\u001B[1;34m0:00:00\u001B[0m\u001B[34m.\u001B[0m\u001B[1;34m031241\u001B[0m. ✅\n",
      "text/html": "<pre style=\"white-space:pre;overflow-x:auto;line-height:normal;font-family:Menlo,'DejaVu Sans Mono',consolas,'Courier New',monospace\">✅ Finished step <span style=\"font-weight: bold\">GroupStatsPreProcessor</span>. Output <span style=\"color: #808000; text-decoration-color: #808000\">shape</span>=<span style=\"font-weight: bold\">(</span><span style=\"color: #008080; text-decoration-color: #008080; font-weight: bold\">10</span>, <span style=\"color: #008080; text-decoration-color: #008080; font-weight: bold\">332</span><span style=\"font-weight: bold\">)</span>. Time taken for step: \n<span style=\"color: #000080; text-decoration-color: #000080; font-weight: bold\">0:00:00</span><span style=\"color: #000080; text-decoration-color: #000080\">.</span><span style=\"color: #000080; text-decoration-color: #000080; font-weight: bold\">031241</span>. ✅\n</pre>\n"
     },
     "metadata": {},
     "output_type": "display_data"
    },
    {
     "data": {
      "text/plain": "🚧 Applying preprocessing: \u001B[32m'\u001B[0m\u001B[1;32mFeatureSelectionPreProcessor\u001B[0m\u001B[32m'\u001B[0m 🚧\n",
      "text/html": "<pre style=\"white-space:pre;overflow-x:auto;line-height:normal;font-family:Menlo,'DejaVu Sans Mono',consolas,'Courier New',monospace\">🚧 Applying preprocessing: <span style=\"color: #008000; text-decoration-color: #008000\">'</span><span style=\"color: #008000; text-decoration-color: #008000; font-weight: bold\">FeatureSelectionPreProcessor</span><span style=\"color: #008000; text-decoration-color: #008000\">'</span> 🚧\n</pre>\n"
     },
     "metadata": {},
     "output_type": "display_data"
    },
    {
     "data": {
      "text/plain": "✅ Finished step \u001B[1mFeatureSelectionPreProcessor\u001B[0m. Output \u001B[33mshape\u001B[0m=\u001B[1m(\u001B[0m\u001B[1;36m10\u001B[0m, \u001B[1;36m6\u001B[0m\u001B[1m)\u001B[0m. Time taken for step: \n\u001B[1;34m0:00:00\u001B[0m\u001B[34m.\u001B[0m\u001B[1;34m001593\u001B[0m. ✅\n",
      "text/html": "<pre style=\"white-space:pre;overflow-x:auto;line-height:normal;font-family:Menlo,'DejaVu Sans Mono',consolas,'Courier New',monospace\">✅ Finished step <span style=\"font-weight: bold\">FeatureSelectionPreProcessor</span>. Output <span style=\"color: #808000; text-decoration-color: #808000\">shape</span>=<span style=\"font-weight: bold\">(</span><span style=\"color: #008080; text-decoration-color: #008080; font-weight: bold\">10</span>, <span style=\"color: #008080; text-decoration-color: #008080; font-weight: bold\">6</span><span style=\"font-weight: bold\">)</span>. Time taken for step: \n<span style=\"color: #000080; text-decoration-color: #000080; font-weight: bold\">0:00:00</span><span style=\"color: #000080; text-decoration-color: #000080\">.</span><span style=\"color: #000080; text-decoration-color: #000080; font-weight: bold\">001593</span>. ✅\n</pre>\n"
     },
     "metadata": {},
     "output_type": "display_data"
    },
    {
     "data": {
      "text/plain": "test_pipeline Model prediction:   0%|          | 0/2 [00:00<?, ?it/s]",
      "application/vnd.jupyter.widget-view+json": {
       "version_major": 2,
       "version_minor": 0,
       "model_id": "a15c55f6f8944164885b1a824f4bed3a"
      }
     },
     "metadata": {},
     "output_type": "display_data"
    },
    {
     "data": {
      "text/plain": "🤖 Generating model predictions with \u001B[32m'\u001B[0m\u001B[1;32mConstantModel\u001B[0m\u001B[32m'\u001B[0m. 🤖\n",
      "text/html": "<pre style=\"white-space:pre;overflow-x:auto;line-height:normal;font-family:Menlo,'DejaVu Sans Mono',consolas,'Courier New',monospace\">🤖 Generating model predictions with <span style=\"color: #008000; text-decoration-color: #008000\">'</span><span style=\"color: #008000; text-decoration-color: #008000; font-weight: bold\">ConstantModel</span><span style=\"color: #008000; text-decoration-color: #008000\">'</span>. 🤖\n</pre>\n"
     },
     "metadata": {},
     "output_type": "display_data"
    },
    {
     "data": {
      "text/plain": "🤖 Generating model predictions with \u001B[32m'\u001B[0m\u001B[1;32mConstantModel\u001B[0m\u001B[32m'\u001B[0m. 🤖\n",
      "text/html": "<pre style=\"white-space:pre;overflow-x:auto;line-height:normal;font-family:Menlo,'DejaVu Sans Mono',consolas,'Courier New',monospace\">🤖 Generating model predictions with <span style=\"color: #008000; text-decoration-color: #008000\">'</span><span style=\"color: #008000; text-decoration-color: #008000; font-weight: bold\">ConstantModel</span><span style=\"color: #008000; text-decoration-color: #008000\">'</span>. 🤖\n</pre>\n"
     },
     "metadata": {},
     "output_type": "display_data"
    },
    {
     "data": {
      "text/plain": "test_pipeline Postprocessing:   0%|          | 0/2 [00:00<?, ?it/s]",
      "application/vnd.jupyter.widget-view+json": {
       "version_major": 2,
       "version_minor": 0,
       "model_id": "c158dd0f37f04684b65c396c2b88498c"
      }
     },
     "metadata": {},
     "output_type": "display_data"
    },
    {
     "data": {
      "text/plain": "🚧 Applying postprocessing: \u001B[32m'\u001B[0m\u001B[1;32mMeanEnsembler\u001B[0m\u001B[32m'\u001B[0m 🚧\n",
      "text/html": "<pre style=\"white-space:pre;overflow-x:auto;line-height:normal;font-family:Menlo,'DejaVu Sans Mono',consolas,'Courier New',monospace\">🚧 Applying postprocessing: <span style=\"color: #008000; text-decoration-color: #008000\">'</span><span style=\"color: #008000; text-decoration-color: #008000; font-weight: bold\">MeanEnsembler</span><span style=\"color: #008000; text-decoration-color: #008000\">'</span> 🚧\n</pre>\n"
     },
     "metadata": {},
     "output_type": "display_data"
    },
    {
     "data": {
      "text/plain": "🍲 Ensembled \u001B[34m'\u001B[0m\u001B[34m[\u001B[0m\u001B[34m'\u001B[0m\u001B[34mprediction_test_0.\u001B[0m\u001B[1;34m5\u001B[0m\u001B[34m', \u001B[0m\u001B[34m'prediction_test_0.8'\u001B[0m\u001B[1;34m]\u001B[0m\u001B[34m'\u001B[0m\u001B[34m with simple mean and saved in \u001B[0m\n\u001B[1;34m'\u001B[0m\u001B[1;34mprediction_ensembled'\u001B[0m\u001B[1;34m 🍲\u001B[0m\n",
      "text/html": "<pre style=\"white-space:pre;overflow-x:auto;line-height:normal;font-family:Menlo,'DejaVu Sans Mono',consolas,'Courier New',monospace\">🍲 Ensembled <span style=\"color: #000080; text-decoration-color: #000080\">'['</span><span style=\"color: #000080; text-decoration-color: #000080\">prediction_test_0.</span><span style=\"color: #000080; text-decoration-color: #000080; font-weight: bold\">5</span><span style=\"color: #000080; text-decoration-color: #000080\">', </span><span style=\"color: #000080; text-decoration-color: #000080\">'prediction_test_0.8'</span><span style=\"color: #000080; text-decoration-color: #000080; font-weight: bold\">]</span><span style=\"color: #000080; text-decoration-color: #000080\">' with simple mean and saved in </span>\n<span style=\"color: #000080; text-decoration-color: #000080; font-weight: bold\">'</span><span style=\"color: #000080; text-decoration-color: #000080; font-weight: bold\">prediction_ensembled' 🍲</span>\n</pre>\n"
     },
     "metadata": {},
     "output_type": "display_data"
    },
    {
     "data": {
      "text/plain": "✅ Finished step \u001B[1mMeanEnsembler\u001B[0m. Output \u001B[33mshape\u001B[0m=\u001B[1m(\u001B[0m\u001B[1;36m10\u001B[0m, \u001B[1;36m9\u001B[0m\u001B[1m)\u001B[0m. Time taken for step: \u001B[1;34m0:00:00\u001B[0m\u001B[34m.\u001B[0m\u001B[1;34m003572\u001B[0m. ✅\n",
      "text/html": "<pre style=\"white-space:pre;overflow-x:auto;line-height:normal;font-family:Menlo,'DejaVu Sans Mono',consolas,'Courier New',monospace\">✅ Finished step <span style=\"font-weight: bold\">MeanEnsembler</span>. Output <span style=\"color: #808000; text-decoration-color: #808000\">shape</span>=<span style=\"font-weight: bold\">(</span><span style=\"color: #008080; text-decoration-color: #008080; font-weight: bold\">10</span>, <span style=\"color: #008080; text-decoration-color: #008080; font-weight: bold\">9</span><span style=\"font-weight: bold\">)</span>. Time taken for step: <span style=\"color: #000080; text-decoration-color: #000080; font-weight: bold\">0:00:00</span><span style=\"color: #000080; text-decoration-color: #000080\">.</span><span style=\"color: #000080; text-decoration-color: #000080; font-weight: bold\">003572</span>. ✅\n</pre>\n"
     },
     "metadata": {},
     "output_type": "display_data"
    },
    {
     "data": {
      "text/plain": "🚧 Applying postprocessing: \u001B[32m'\u001B[0m\u001B[1;32mFeatureNeutralizer\u001B[0m\u001B[32m'\u001B[0m 🚧\n",
      "text/html": "<pre style=\"white-space:pre;overflow-x:auto;line-height:normal;font-family:Menlo,'DejaVu Sans Mono',consolas,'Courier New',monospace\">🚧 Applying postprocessing: <span style=\"color: #008000; text-decoration-color: #008000\">'</span><span style=\"color: #008000; text-decoration-color: #008000; font-weight: bold\">FeatureNeutralizer</span><span style=\"color: #008000; text-decoration-color: #008000\">'</span> 🚧\n</pre>\n"
     },
     "metadata": {},
     "output_type": "display_data"
    },
    {
     "data": {
      "text/plain": "🤖 Neutralized \u001B[1;34m'prediction_ensembled'\u001B[0m\u001B[1;34m with proportion \u001B[0m\u001B[1;34m'0.8'\u001B[0m\u001B[1;34m 🤖\u001B[0m\n",
      "text/html": "<pre style=\"white-space:pre;overflow-x:auto;line-height:normal;font-family:Menlo,'DejaVu Sans Mono',consolas,'Courier New',monospace\">🤖 Neutralized <span style=\"color: #000080; text-decoration-color: #000080; font-weight: bold\">'prediction_ensembled'</span><span style=\"color: #000080; text-decoration-color: #000080; font-weight: bold\"> with proportion </span><span style=\"color: #000080; text-decoration-color: #000080; font-weight: bold\">'0.8'</span><span style=\"color: #000080; text-decoration-color: #000080; font-weight: bold\"> 🤖</span>\n</pre>\n"
     },
     "metadata": {},
     "output_type": "display_data"
    },
    {
     "data": {
      "text/plain": "New neutralized column = \u001B[1;32m'prediction_ensembled_neutralized_0.8'\u001B[0m.\n",
      "text/html": "<pre style=\"white-space:pre;overflow-x:auto;line-height:normal;font-family:Menlo,'DejaVu Sans Mono',consolas,'Courier New',monospace\">New neutralized column = <span style=\"color: #008000; text-decoration-color: #008000; font-weight: bold\">'prediction_ensembled_neutralized_0.8'</span>.\n</pre>\n"
     },
     "metadata": {},
     "output_type": "display_data"
    },
    {
     "data": {
      "text/plain": "✅ Finished step \u001B[1mFeatureNeutralizer\u001B[0m. Output \u001B[33mshape\u001B[0m=\u001B[1m(\u001B[0m\u001B[1;36m10\u001B[0m, \u001B[1;36m10\u001B[0m\u001B[1m)\u001B[0m. Time taken for step: \n\u001B[1;34m0:00:00\u001B[0m\u001B[34m.\u001B[0m\u001B[1;34m024002\u001B[0m. ✅\n",
      "text/html": "<pre style=\"white-space:pre;overflow-x:auto;line-height:normal;font-family:Menlo,'DejaVu Sans Mono',consolas,'Courier New',monospace\">✅ Finished step <span style=\"font-weight: bold\">FeatureNeutralizer</span>. Output <span style=\"color: #808000; text-decoration-color: #808000\">shape</span>=<span style=\"font-weight: bold\">(</span><span style=\"color: #008080; text-decoration-color: #008080; font-weight: bold\">10</span>, <span style=\"color: #008080; text-decoration-color: #008080; font-weight: bold\">10</span><span style=\"font-weight: bold\">)</span>. Time taken for step: \n<span style=\"color: #000080; text-decoration-color: #000080; font-weight: bold\">0:00:00</span><span style=\"color: #000080; text-decoration-color: #000080\">.</span><span style=\"color: #000080; text-decoration-color: #000080; font-weight: bold\">024002</span>. ✅\n</pre>\n"
     },
     "metadata": {},
     "output_type": "display_data"
    },
    {
     "data": {
      "text/plain": "🏁 \u001B[32mFinished pipeline:\u001B[0m\u001B[32m \u001B[0m\u001B[1;34m'test_pipeline'\u001B[0m\u001B[1;34m! 🏁\u001B[0m\n",
      "text/html": "<pre style=\"white-space:pre;overflow-x:auto;line-height:normal;font-family:Menlo,'DejaVu Sans Mono',consolas,'Courier New',monospace\">🏁 <span style=\"color: #008000; text-decoration-color: #008000\">Finished pipeline: </span><span style=\"color: #000080; text-decoration-color: #000080; font-weight: bold\">'test_pipeline'</span><span style=\"color: #000080; text-decoration-color: #000080; font-weight: bold\">! 🏁</span>\n</pre>\n"
     },
     "metadata": {},
     "output_type": "display_data"
    },
    {
     "data": {
      "text/plain": "<IPython.core.display.Javascript object>",
      "application/javascript": "\n            setTimeout(function() {\n                var nbb_cell_id = 7;\n                var nbb_unformatted_code = \"test_pipeline = ModelPipeline(preprocessors=preprocessors, models=models,\\n                              postprocessors=postprocessors, pipeline_name=\\\"test_pipeline\\\",\\n                              standardize=False)\\nprocessed_dataf = test_pipeline(dataf)\";\n                var nbb_formatted_code = \"test_pipeline = ModelPipeline(\\n    preprocessors=preprocessors,\\n    models=models,\\n    postprocessors=postprocessors,\\n    pipeline_name=\\\"test_pipeline\\\",\\n    standardize=False,\\n)\\nprocessed_dataf = test_pipeline(dataf)\";\n                var nbb_cells = Jupyter.notebook.get_cells();\n                for (var i = 0; i < nbb_cells.length; ++i) {\n                    if (nbb_cells[i].input_prompt_number == nbb_cell_id) {\n                        if (nbb_cells[i].get_text() == nbb_unformatted_code) {\n                             nbb_cells[i].set_text(nbb_formatted_code);\n                        }\n                        break;\n                    }\n                }\n            }, 500);\n            "
     },
     "metadata": {},
     "output_type": "display_data"
    }
   ],
   "source": [
    "test_pipeline = ModelPipeline(preprocessors=preprocessors, models=models,\n",
    "                              postprocessors=postprocessors, pipeline_name=\"test_pipeline\",\n",
    "                              standardize=False)\n",
    "processed_dataf = test_pipeline(dataf)"
   ]
  },
  {
   "cell_type": "code",
   "execution_count": 8,
   "metadata": {},
   "outputs": [
    {
     "data": {
      "text/plain": "   feature_intelligence_mean  feature_intelligence_std  target  \\\n0                   0.333333                  0.246183    0.50   \n1                   0.208333                  0.234359    0.25   \n2                   0.479167                  0.327843    0.25   \n3                   0.416667                  0.288675    0.25   \n4                   0.270833                  0.128732    0.75   \n5                   0.500000                  0.213201    0.50   \n6                   0.604167                  0.391070    0.25   \n7                   0.770833                  0.270906    0.25   \n8                   0.625000                  0.291937    0.50   \n9                   0.562500                  0.284545    0.75   \n\n                 id   era data_type  prediction_test_0.5  prediction_test_0.8  \\\n0  n000315175b67977  era1     train                  0.5                  0.8   \n1  n0014af834a96cdd  era1     train                  0.5                  0.8   \n2  n001c93979ac41d4  era1     train                  0.5                  0.8   \n3  n0034e4143f22a13  era1     train                  0.5                  0.8   \n4  n00679d1a636062f  era1     train                  0.5                  0.8   \n5  n009aa2d32389eca  era1     train                  0.5                  0.8   \n6  n009ef1a5fe009b6  era1     train                  0.5                  0.8   \n7  n00ae5d51f55fb0f  era1     train                  0.5                  0.8   \n8  n00b0ac86d77aed7  era1     train                  0.5                  0.8   \n9  n00c63366aeaf76a  era1     train                  0.5                  0.8   \n\n   prediction_ensembled  prediction_ensembled_neutralized_0.8  \n0                  0.65                              0.000000  \n1                  0.65                              0.360880  \n2                  0.65                              0.350519  \n3                  0.65                              0.450910  \n4                  0.65                              0.378539  \n5                  0.65                              0.361540  \n6                  0.65                              0.719895  \n7                  0.65                              0.339932  \n8                  0.65                              0.710710  \n9                  0.65                              1.000000  ",
      "text/html": "<div>\n<style scoped>\n    .dataframe tbody tr th:only-of-type {\n        vertical-align: middle;\n    }\n\n    .dataframe tbody tr th {\n        vertical-align: top;\n    }\n\n    .dataframe thead th {\n        text-align: right;\n    }\n</style>\n<table border=\"1\" class=\"dataframe\">\n  <thead>\n    <tr style=\"text-align: right;\">\n      <th></th>\n      <th>feature_intelligence_mean</th>\n      <th>feature_intelligence_std</th>\n      <th>target</th>\n      <th>id</th>\n      <th>era</th>\n      <th>data_type</th>\n      <th>prediction_test_0.5</th>\n      <th>prediction_test_0.8</th>\n      <th>prediction_ensembled</th>\n      <th>prediction_ensembled_neutralized_0.8</th>\n    </tr>\n  </thead>\n  <tbody>\n    <tr>\n      <th>0</th>\n      <td>0.333333</td>\n      <td>0.246183</td>\n      <td>0.50</td>\n      <td>n000315175b67977</td>\n      <td>era1</td>\n      <td>train</td>\n      <td>0.5</td>\n      <td>0.8</td>\n      <td>0.65</td>\n      <td>0.000000</td>\n    </tr>\n    <tr>\n      <th>1</th>\n      <td>0.208333</td>\n      <td>0.234359</td>\n      <td>0.25</td>\n      <td>n0014af834a96cdd</td>\n      <td>era1</td>\n      <td>train</td>\n      <td>0.5</td>\n      <td>0.8</td>\n      <td>0.65</td>\n      <td>0.360880</td>\n    </tr>\n    <tr>\n      <th>2</th>\n      <td>0.479167</td>\n      <td>0.327843</td>\n      <td>0.25</td>\n      <td>n001c93979ac41d4</td>\n      <td>era1</td>\n      <td>train</td>\n      <td>0.5</td>\n      <td>0.8</td>\n      <td>0.65</td>\n      <td>0.350519</td>\n    </tr>\n    <tr>\n      <th>3</th>\n      <td>0.416667</td>\n      <td>0.288675</td>\n      <td>0.25</td>\n      <td>n0034e4143f22a13</td>\n      <td>era1</td>\n      <td>train</td>\n      <td>0.5</td>\n      <td>0.8</td>\n      <td>0.65</td>\n      <td>0.450910</td>\n    </tr>\n    <tr>\n      <th>4</th>\n      <td>0.270833</td>\n      <td>0.128732</td>\n      <td>0.75</td>\n      <td>n00679d1a636062f</td>\n      <td>era1</td>\n      <td>train</td>\n      <td>0.5</td>\n      <td>0.8</td>\n      <td>0.65</td>\n      <td>0.378539</td>\n    </tr>\n    <tr>\n      <th>5</th>\n      <td>0.500000</td>\n      <td>0.213201</td>\n      <td>0.50</td>\n      <td>n009aa2d32389eca</td>\n      <td>era1</td>\n      <td>train</td>\n      <td>0.5</td>\n      <td>0.8</td>\n      <td>0.65</td>\n      <td>0.361540</td>\n    </tr>\n    <tr>\n      <th>6</th>\n      <td>0.604167</td>\n      <td>0.391070</td>\n      <td>0.25</td>\n      <td>n009ef1a5fe009b6</td>\n      <td>era1</td>\n      <td>train</td>\n      <td>0.5</td>\n      <td>0.8</td>\n      <td>0.65</td>\n      <td>0.719895</td>\n    </tr>\n    <tr>\n      <th>7</th>\n      <td>0.770833</td>\n      <td>0.270906</td>\n      <td>0.25</td>\n      <td>n00ae5d51f55fb0f</td>\n      <td>era1</td>\n      <td>train</td>\n      <td>0.5</td>\n      <td>0.8</td>\n      <td>0.65</td>\n      <td>0.339932</td>\n    </tr>\n    <tr>\n      <th>8</th>\n      <td>0.625000</td>\n      <td>0.291937</td>\n      <td>0.50</td>\n      <td>n00b0ac86d77aed7</td>\n      <td>era1</td>\n      <td>train</td>\n      <td>0.5</td>\n      <td>0.8</td>\n      <td>0.65</td>\n      <td>0.710710</td>\n    </tr>\n    <tr>\n      <th>9</th>\n      <td>0.562500</td>\n      <td>0.284545</td>\n      <td>0.75</td>\n      <td>n00c63366aeaf76a</td>\n      <td>era1</td>\n      <td>train</td>\n      <td>0.5</td>\n      <td>0.8</td>\n      <td>0.65</td>\n      <td>1.000000</td>\n    </tr>\n  </tbody>\n</table>\n</div>"
     },
     "execution_count": 8,
     "metadata": {},
     "output_type": "execute_result"
    },
    {
     "data": {
      "text/plain": "<IPython.core.display.Javascript object>",
      "application/javascript": "\n            setTimeout(function() {\n                var nbb_cell_id = 8;\n                var nbb_unformatted_code = \"assert processed_dataf.meta == dataf.meta\\nassert isinstance(processed_dataf, NumerFrame)\\nprocessed_dataf\";\n                var nbb_formatted_code = \"assert processed_dataf.meta == dataf.meta\\nassert isinstance(processed_dataf, NumerFrame)\\nprocessed_dataf\";\n                var nbb_cells = Jupyter.notebook.get_cells();\n                for (var i = 0; i < nbb_cells.length; ++i) {\n                    if (nbb_cells[i].input_prompt_number == nbb_cell_id) {\n                        if (nbb_cells[i].get_text() == nbb_unformatted_code) {\n                             nbb_cells[i].set_text(nbb_formatted_code);\n                        }\n                        break;\n                    }\n                }\n            }, 500);\n            "
     },
     "metadata": {},
     "output_type": "display_data"
    }
   ],
   "source": [
    "assert processed_dataf.meta == dataf.meta\n",
    "assert isinstance(processed_dataf, NumerFrame)\n",
    "processed_dataf"
   ]
  },
  {
   "cell_type": "markdown",
   "metadata": {},
   "source": [
    "## 2. ModelPipelineCollection"
   ]
  },
  {
   "cell_type": "markdown",
   "metadata": {},
   "source": [
    "`ModelPipelineCollection` can be used to easily manage and run multiple `ModelPipeline` objects.\n",
    "\n",
    "`ModelPipelineCollection` simply takes a list of `ModelPipeline` objects as input."
   ]
  },
  {
   "cell_type": "code",
   "execution_count": 9,
   "metadata": {},
   "outputs": [
    {
     "data": {
      "text/plain": "<IPython.core.display.Javascript object>",
      "application/javascript": "\n            setTimeout(function() {\n                var nbb_cell_id = 9;\n                var nbb_unformatted_code = \"#export\\n@typechecked\\nclass ModelPipelineCollection:\\n    \\\"\\\"\\\"\\n    Execute multiple initialized ModelPipelines in a sequence.\\n    :param pipelines: List of initialized ModelPipelines.\\n    \\\"\\\"\\\"\\n    def __init__(self, pipelines: List[ModelPipeline]):\\n        self.pipelines = {pipe.pipeline_name: pipe for pipe in pipelines}\\n        self.pipeline_names = list(self.pipelines.keys())\\n\\n    def process_all_pipelines(self, dataf: Union[pd.DataFrame, NumerFrame]) -> List[NumerFrame]:\\n        \\\"\\\"\\\" Process all pipelines and return list of resulting NumerFrames. \\\"\\\"\\\"\\n        result_datafs = []\\n        for name, pipeline in tqdm(self.pipelines.items(),\\n                                   desc=\\\"Processing Pipeline Collection\\\"):\\n            result_datafs.append(self.process_single_pipeline(dataf, name))\\n        return result_datafs\\n\\n    def process_single_pipeline(self, dataf: Union[pd.DataFrame, NumerFrame], pipeline_name: str) -> NumerFrame:\\n        rich_print(f\\\":construction_worker: [bold green]Processing model pipeline:[/bold green] '{pipeline_name}' :construction_worker:\\\")\\n        pipeline = self.get_pipeline(pipeline_name)\\n        dataf = pipeline(dataf)\\n        return NumerFrame(dataf)\\n\\n    def get_pipeline(self, pipeline_name: str) -> ModelPipeline:\\n        available_pipelines = self.pipeline_names\\n        assert pipeline_name in available_pipelines, f\\\"Requested pipeline '{pipeline_name}', but only the following models are in the collection: '{available_pipelines}'.\\\"\\n        return self.pipelines[pipeline_name]\\n\\n    def __call__(self, dataf: Union[pd.DataFrame, NumerFrame]) -> List[NumerFrame]:\\n        return self.process_all_pipelines(dataf=dataf)\";\n                var nbb_formatted_code = \"# export\\n@typechecked\\nclass ModelPipelineCollection:\\n    \\\"\\\"\\\"\\n    Execute multiple initialized ModelPipelines in a sequence.\\n    :param pipelines: List of initialized ModelPipelines.\\n    \\\"\\\"\\\"\\n\\n    def __init__(self, pipelines: List[ModelPipeline]):\\n        self.pipelines = {pipe.pipeline_name: pipe for pipe in pipelines}\\n        self.pipeline_names = list(self.pipelines.keys())\\n\\n    def process_all_pipelines(\\n        self, dataf: Union[pd.DataFrame, NumerFrame]\\n    ) -> List[NumerFrame]:\\n        \\\"\\\"\\\"Process all pipelines and return list of resulting NumerFrames.\\\"\\\"\\\"\\n        result_datafs = []\\n        for name, pipeline in tqdm(\\n            self.pipelines.items(), desc=\\\"Processing Pipeline Collection\\\"\\n        ):\\n            result_datafs.append(self.process_single_pipeline(dataf, name))\\n        return result_datafs\\n\\n    def process_single_pipeline(\\n        self, dataf: Union[pd.DataFrame, NumerFrame], pipeline_name: str\\n    ) -> NumerFrame:\\n        rich_print(\\n            f\\\":construction_worker: [bold green]Processing model pipeline:[/bold green] '{pipeline_name}' :construction_worker:\\\"\\n        )\\n        pipeline = self.get_pipeline(pipeline_name)\\n        dataf = pipeline(dataf)\\n        return NumerFrame(dataf)\\n\\n    def get_pipeline(self, pipeline_name: str) -> ModelPipeline:\\n        available_pipelines = self.pipeline_names\\n        assert (\\n            pipeline_name in available_pipelines\\n        ), f\\\"Requested pipeline '{pipeline_name}', but only the following models are in the collection: '{available_pipelines}'.\\\"\\n        return self.pipelines[pipeline_name]\\n\\n    def __call__(self, dataf: Union[pd.DataFrame, NumerFrame]) -> List[NumerFrame]:\\n        return self.process_all_pipelines(dataf=dataf)\";\n                var nbb_cells = Jupyter.notebook.get_cells();\n                for (var i = 0; i < nbb_cells.length; ++i) {\n                    if (nbb_cells[i].input_prompt_number == nbb_cell_id) {\n                        if (nbb_cells[i].get_text() == nbb_unformatted_code) {\n                             nbb_cells[i].set_text(nbb_formatted_code);\n                        }\n                        break;\n                    }\n                }\n            }, 500);\n            "
     },
     "metadata": {},
     "output_type": "display_data"
    }
   ],
   "source": [
    "#export\n",
    "@typechecked\n",
    "class ModelPipelineCollection:\n",
    "    \"\"\"\n",
    "    Execute multiple initialized ModelPipelines in a sequence.\n",
    "    :param pipelines: List of initialized ModelPipelines.\n",
    "    \"\"\"\n",
    "    def __init__(self, pipelines: List[ModelPipeline]):\n",
    "        self.pipelines = {pipe.pipeline_name: pipe for pipe in pipelines}\n",
    "        self.pipeline_names = list(self.pipelines.keys())\n",
    "\n",
    "    def process_all_pipelines(self, dataf: Union[pd.DataFrame, NumerFrame]) -> List[NumerFrame]:\n",
    "        \"\"\" Process all pipelines and return list of resulting NumerFrames. \"\"\"\n",
    "        result_datafs = []\n",
    "        for name, pipeline in tqdm(self.pipelines.items(),\n",
    "                                   desc=\"Processing Pipeline Collection\"):\n",
    "            result_datafs.append(self.process_single_pipeline(dataf, name))\n",
    "        return result_datafs\n",
    "\n",
    "    def process_single_pipeline(self, dataf: Union[pd.DataFrame, NumerFrame], pipeline_name: str) -> NumerFrame:\n",
    "        \"\"\" Run full model pipeline for given name in collection. \"\"\"\n",
    "        rich_print(f\":construction_worker: [bold green]Processing model pipeline:[/bold green] '{pipeline_name}' :construction_worker:\")\n",
    "        pipeline = self.get_pipeline(pipeline_name)\n",
    "        dataf = pipeline(dataf)\n",
    "        return NumerFrame(dataf)\n",
    "\n",
    "    def get_pipeline(self, pipeline_name: str) -> ModelPipeline:\n",
    "        \"\"\" Retrieve model pipeline for given name. \"\"\"\n",
    "        available_pipelines = self.pipeline_names\n",
    "        assert pipeline_name in available_pipelines, f\"Requested pipeline '{pipeline_name}', but only the following models are in the collection: '{available_pipelines}'.\"\n",
    "        return self.pipelines[pipeline_name]\n",
    "\n",
    "    def __call__(self, dataf: Union[pd.DataFrame, NumerFrame]) -> List[NumerFrame]:\n",
    "        return self.process_all_pipelines(dataf=dataf)"
   ]
  },
  {
   "cell_type": "code",
   "execution_count": 10,
   "metadata": {},
   "outputs": [
    {
     "data": {
      "text/plain": "<IPython.core.display.Javascript object>",
      "application/javascript": "\n            setTimeout(function() {\n                var nbb_cell_id = 10;\n                var nbb_unformatted_code = \"# Different pipeline with no preprocessing or postprocessing. Only RandomModel\\ntest_pipeline2 = ModelPipeline(models=[RandomModel()], pipeline_name=\\\"test_pipeline2\\\")\";\n                var nbb_formatted_code = \"# Different pipeline with no preprocessing or postprocessing. Only RandomModel\\ntest_pipeline2 = ModelPipeline(models=[RandomModel()], pipeline_name=\\\"test_pipeline2\\\")\";\n                var nbb_cells = Jupyter.notebook.get_cells();\n                for (var i = 0; i < nbb_cells.length; ++i) {\n                    if (nbb_cells[i].input_prompt_number == nbb_cell_id) {\n                        if (nbb_cells[i].get_text() == nbb_unformatted_code) {\n                             nbb_cells[i].set_text(nbb_formatted_code);\n                        }\n                        break;\n                    }\n                }\n            }, 500);\n            "
     },
     "metadata": {},
     "output_type": "display_data"
    }
   ],
   "source": [
    "# Different pipeline with no preprocessing or postprocessing. Only RandomModel\n",
    "test_pipeline2 = ModelPipeline(models=[RandomModel()], pipeline_name=\"test_pipeline2\")"
   ]
  },
  {
   "cell_type": "markdown",
   "source": [
    "In this example we will process two `ModelPipeline`s with different characteristics on the same data."
   ],
   "metadata": {
    "collapsed": false,
    "pycharm": {
     "name": "#%% md\n"
    }
   }
  },
  {
   "cell_type": "code",
   "execution_count": 11,
   "metadata": {},
   "outputs": [
    {
     "data": {
      "text/plain": "<IPython.core.display.Javascript object>",
      "application/javascript": "\n            setTimeout(function() {\n                var nbb_cell_id = 11;\n                var nbb_unformatted_code = \"collection = ModelPipelineCollection([test_pipeline, test_pipeline2])\\nassert collection.get_pipeline(\\\"test_pipeline2\\\").pipeline_name == 'test_pipeline2'\";\n                var nbb_formatted_code = \"collection = ModelPipelineCollection([test_pipeline, test_pipeline2])\\nassert collection.get_pipeline(\\\"test_pipeline2\\\").pipeline_name == \\\"test_pipeline2\\\"\";\n                var nbb_cells = Jupyter.notebook.get_cells();\n                for (var i = 0; i < nbb_cells.length; ++i) {\n                    if (nbb_cells[i].input_prompt_number == nbb_cell_id) {\n                        if (nbb_cells[i].get_text() == nbb_unformatted_code) {\n                             nbb_cells[i].set_text(nbb_formatted_code);\n                        }\n                        break;\n                    }\n                }\n            }, 500);\n            "
     },
     "metadata": {},
     "output_type": "display_data"
    }
   ],
   "source": [
    "collection = ModelPipelineCollection([test_pipeline, test_pipeline2])\n",
    "assert collection.get_pipeline(\"test_pipeline2\").pipeline_name == 'test_pipeline2'"
   ]
  },
  {
   "cell_type": "code",
   "execution_count": 12,
   "metadata": {},
   "outputs": [
    {
     "data": {
      "text/plain": "Processing Pipeline Collection:   0%|          | 0/2 [00:00<?, ?it/s]",
      "application/vnd.jupyter.widget-view+json": {
       "version_major": 2,
       "version_minor": 0,
       "model_id": "5e0d928e06ca465a9c0ce165ec0d34c1"
      }
     },
     "metadata": {},
     "output_type": "display_data"
    },
    {
     "data": {
      "text/plain": "👷 \u001B[1;32mProcessing model pipeline:\u001B[0m \u001B[32m'test_pipeline'\u001B[0m 👷\n",
      "text/html": "<pre style=\"white-space:pre;overflow-x:auto;line-height:normal;font-family:Menlo,'DejaVu Sans Mono',consolas,'Courier New',monospace\">👷 <span style=\"color: #008000; text-decoration-color: #008000; font-weight: bold\">Processing model pipeline:</span> <span style=\"color: #008000; text-decoration-color: #008000\">'test_pipeline'</span> 👷\n</pre>\n"
     },
     "metadata": {},
     "output_type": "display_data"
    },
    {
     "data": {
      "text/plain": "✅ Finished step \u001B[1mCopyPreProcessor\u001B[0m. Output \u001B[33mshape\u001B[0m=\u001B[1m(\u001B[0m\u001B[1;36m10\u001B[0m, \u001B[1;36m314\u001B[0m\u001B[1m)\u001B[0m. Time taken for step: \n\u001B[1;34m0:00:00\u001B[0m\u001B[34m.\u001B[0m\u001B[1;34m001908\u001B[0m. ✅\n",
      "text/html": "<pre style=\"white-space:pre;overflow-x:auto;line-height:normal;font-family:Menlo,'DejaVu Sans Mono',consolas,'Courier New',monospace\">✅ Finished step <span style=\"font-weight: bold\">CopyPreProcessor</span>. Output <span style=\"color: #808000; text-decoration-color: #808000\">shape</span>=<span style=\"font-weight: bold\">(</span><span style=\"color: #008080; text-decoration-color: #008080; font-weight: bold\">10</span>, <span style=\"color: #008080; text-decoration-color: #008080; font-weight: bold\">314</span><span style=\"font-weight: bold\">)</span>. Time taken for step: \n<span style=\"color: #000080; text-decoration-color: #000080; font-weight: bold\">0:00:00</span><span style=\"color: #000080; text-decoration-color: #000080\">.</span><span style=\"color: #000080; text-decoration-color: #000080; font-weight: bold\">001908</span>. ✅\n</pre>\n"
     },
     "metadata": {},
     "output_type": "display_data"
    },
    {
     "data": {
      "text/plain": "test_pipeline Preprocessing::   0%|          | 0/2 [00:00<?, ?it/s]",
      "application/vnd.jupyter.widget-view+json": {
       "version_major": 2,
       "version_minor": 0,
       "model_id": "2b5e4a7eb6e041c28312f915cffff023"
      }
     },
     "metadata": {},
     "output_type": "display_data"
    },
    {
     "data": {
      "text/plain": "🚧 Applying preprocessing: \u001B[32m'\u001B[0m\u001B[1;32mGroupStatsPreProcessor\u001B[0m\u001B[32m'\u001B[0m 🚧\n",
      "text/html": "<pre style=\"white-space:pre;overflow-x:auto;line-height:normal;font-family:Menlo,'DejaVu Sans Mono',consolas,'Courier New',monospace\">🚧 Applying preprocessing: <span style=\"color: #008000; text-decoration-color: #008000\">'</span><span style=\"color: #008000; text-decoration-color: #008000; font-weight: bold\">GroupStatsPreProcessor</span><span style=\"color: #008000; text-decoration-color: #008000\">'</span> 🚧\n</pre>\n"
     },
     "metadata": {},
     "output_type": "display_data"
    },
    {
     "data": {
      "text/plain": "✅ Finished step \u001B[1mGroupStatsPreProcessor\u001B[0m. Output \u001B[33mshape\u001B[0m=\u001B[1m(\u001B[0m\u001B[1;36m10\u001B[0m, \u001B[1;36m332\u001B[0m\u001B[1m)\u001B[0m. Time taken for step: \n\u001B[1;34m0:00:00\u001B[0m\u001B[34m.\u001B[0m\u001B[1;34m033300\u001B[0m. ✅\n",
      "text/html": "<pre style=\"white-space:pre;overflow-x:auto;line-height:normal;font-family:Menlo,'DejaVu Sans Mono',consolas,'Courier New',monospace\">✅ Finished step <span style=\"font-weight: bold\">GroupStatsPreProcessor</span>. Output <span style=\"color: #808000; text-decoration-color: #808000\">shape</span>=<span style=\"font-weight: bold\">(</span><span style=\"color: #008080; text-decoration-color: #008080; font-weight: bold\">10</span>, <span style=\"color: #008080; text-decoration-color: #008080; font-weight: bold\">332</span><span style=\"font-weight: bold\">)</span>. Time taken for step: \n<span style=\"color: #000080; text-decoration-color: #000080; font-weight: bold\">0:00:00</span><span style=\"color: #000080; text-decoration-color: #000080\">.</span><span style=\"color: #000080; text-decoration-color: #000080; font-weight: bold\">033300</span>. ✅\n</pre>\n"
     },
     "metadata": {},
     "output_type": "display_data"
    },
    {
     "data": {
      "text/plain": "🚧 Applying preprocessing: \u001B[32m'\u001B[0m\u001B[1;32mFeatureSelectionPreProcessor\u001B[0m\u001B[32m'\u001B[0m 🚧\n",
      "text/html": "<pre style=\"white-space:pre;overflow-x:auto;line-height:normal;font-family:Menlo,'DejaVu Sans Mono',consolas,'Courier New',monospace\">🚧 Applying preprocessing: <span style=\"color: #008000; text-decoration-color: #008000\">'</span><span style=\"color: #008000; text-decoration-color: #008000; font-weight: bold\">FeatureSelectionPreProcessor</span><span style=\"color: #008000; text-decoration-color: #008000\">'</span> 🚧\n</pre>\n"
     },
     "metadata": {},
     "output_type": "display_data"
    },
    {
     "data": {
      "text/plain": "✅ Finished step \u001B[1mFeatureSelectionPreProcessor\u001B[0m. Output \u001B[33mshape\u001B[0m=\u001B[1m(\u001B[0m\u001B[1;36m10\u001B[0m, \u001B[1;36m6\u001B[0m\u001B[1m)\u001B[0m. Time taken for step: \n\u001B[1;34m0:00:00\u001B[0m\u001B[34m.\u001B[0m\u001B[1;34m001154\u001B[0m. ✅\n",
      "text/html": "<pre style=\"white-space:pre;overflow-x:auto;line-height:normal;font-family:Menlo,'DejaVu Sans Mono',consolas,'Courier New',monospace\">✅ Finished step <span style=\"font-weight: bold\">FeatureSelectionPreProcessor</span>. Output <span style=\"color: #808000; text-decoration-color: #808000\">shape</span>=<span style=\"font-weight: bold\">(</span><span style=\"color: #008080; text-decoration-color: #008080; font-weight: bold\">10</span>, <span style=\"color: #008080; text-decoration-color: #008080; font-weight: bold\">6</span><span style=\"font-weight: bold\">)</span>. Time taken for step: \n<span style=\"color: #000080; text-decoration-color: #000080; font-weight: bold\">0:00:00</span><span style=\"color: #000080; text-decoration-color: #000080\">.</span><span style=\"color: #000080; text-decoration-color: #000080; font-weight: bold\">001154</span>. ✅\n</pre>\n"
     },
     "metadata": {},
     "output_type": "display_data"
    },
    {
     "data": {
      "text/plain": "test_pipeline Model prediction:   0%|          | 0/2 [00:00<?, ?it/s]",
      "application/vnd.jupyter.widget-view+json": {
       "version_major": 2,
       "version_minor": 0,
       "model_id": "deb3e409db7a40c4a173af81c250057c"
      }
     },
     "metadata": {},
     "output_type": "display_data"
    },
    {
     "data": {
      "text/plain": "🤖 Generating model predictions with \u001B[32m'\u001B[0m\u001B[1;32mConstantModel\u001B[0m\u001B[32m'\u001B[0m. 🤖\n",
      "text/html": "<pre style=\"white-space:pre;overflow-x:auto;line-height:normal;font-family:Menlo,'DejaVu Sans Mono',consolas,'Courier New',monospace\">🤖 Generating model predictions with <span style=\"color: #008000; text-decoration-color: #008000\">'</span><span style=\"color: #008000; text-decoration-color: #008000; font-weight: bold\">ConstantModel</span><span style=\"color: #008000; text-decoration-color: #008000\">'</span>. 🤖\n</pre>\n"
     },
     "metadata": {},
     "output_type": "display_data"
    },
    {
     "data": {
      "text/plain": "🤖 Generating model predictions with \u001B[32m'\u001B[0m\u001B[1;32mConstantModel\u001B[0m\u001B[32m'\u001B[0m. 🤖\n",
      "text/html": "<pre style=\"white-space:pre;overflow-x:auto;line-height:normal;font-family:Menlo,'DejaVu Sans Mono',consolas,'Courier New',monospace\">🤖 Generating model predictions with <span style=\"color: #008000; text-decoration-color: #008000\">'</span><span style=\"color: #008000; text-decoration-color: #008000; font-weight: bold\">ConstantModel</span><span style=\"color: #008000; text-decoration-color: #008000\">'</span>. 🤖\n</pre>\n"
     },
     "metadata": {},
     "output_type": "display_data"
    },
    {
     "data": {
      "text/plain": "test_pipeline Postprocessing:   0%|          | 0/2 [00:00<?, ?it/s]",
      "application/vnd.jupyter.widget-view+json": {
       "version_major": 2,
       "version_minor": 0,
       "model_id": "6544e45d7ed84b67b160b32155c801cb"
      }
     },
     "metadata": {},
     "output_type": "display_data"
    },
    {
     "data": {
      "text/plain": "🚧 Applying postprocessing: \u001B[32m'\u001B[0m\u001B[1;32mMeanEnsembler\u001B[0m\u001B[32m'\u001B[0m 🚧\n",
      "text/html": "<pre style=\"white-space:pre;overflow-x:auto;line-height:normal;font-family:Menlo,'DejaVu Sans Mono',consolas,'Courier New',monospace\">🚧 Applying postprocessing: <span style=\"color: #008000; text-decoration-color: #008000\">'</span><span style=\"color: #008000; text-decoration-color: #008000; font-weight: bold\">MeanEnsembler</span><span style=\"color: #008000; text-decoration-color: #008000\">'</span> 🚧\n</pre>\n"
     },
     "metadata": {},
     "output_type": "display_data"
    },
    {
     "data": {
      "text/plain": "🍲 Ensembled \u001B[34m'\u001B[0m\u001B[34m[\u001B[0m\u001B[34m'\u001B[0m\u001B[34mprediction_test_0.\u001B[0m\u001B[1;34m5\u001B[0m\u001B[34m', \u001B[0m\u001B[34m'prediction_test_0.8'\u001B[0m\u001B[1;34m]\u001B[0m\u001B[34m'\u001B[0m\u001B[34m with simple mean and saved in \u001B[0m\n\u001B[1;34m'\u001B[0m\u001B[1;34mprediction_ensembled'\u001B[0m\u001B[1;34m 🍲\u001B[0m\n",
      "text/html": "<pre style=\"white-space:pre;overflow-x:auto;line-height:normal;font-family:Menlo,'DejaVu Sans Mono',consolas,'Courier New',monospace\">🍲 Ensembled <span style=\"color: #000080; text-decoration-color: #000080\">'['</span><span style=\"color: #000080; text-decoration-color: #000080\">prediction_test_0.</span><span style=\"color: #000080; text-decoration-color: #000080; font-weight: bold\">5</span><span style=\"color: #000080; text-decoration-color: #000080\">', </span><span style=\"color: #000080; text-decoration-color: #000080\">'prediction_test_0.8'</span><span style=\"color: #000080; text-decoration-color: #000080; font-weight: bold\">]</span><span style=\"color: #000080; text-decoration-color: #000080\">' with simple mean and saved in </span>\n<span style=\"color: #000080; text-decoration-color: #000080; font-weight: bold\">'</span><span style=\"color: #000080; text-decoration-color: #000080; font-weight: bold\">prediction_ensembled' 🍲</span>\n</pre>\n"
     },
     "metadata": {},
     "output_type": "display_data"
    },
    {
     "data": {
      "text/plain": "✅ Finished step \u001B[1mMeanEnsembler\u001B[0m. Output \u001B[33mshape\u001B[0m=\u001B[1m(\u001B[0m\u001B[1;36m10\u001B[0m, \u001B[1;36m9\u001B[0m\u001B[1m)\u001B[0m. Time taken for step: \u001B[1;34m0:00:00\u001B[0m\u001B[34m.\u001B[0m\u001B[1;34m003535\u001B[0m. ✅\n",
      "text/html": "<pre style=\"white-space:pre;overflow-x:auto;line-height:normal;font-family:Menlo,'DejaVu Sans Mono',consolas,'Courier New',monospace\">✅ Finished step <span style=\"font-weight: bold\">MeanEnsembler</span>. Output <span style=\"color: #808000; text-decoration-color: #808000\">shape</span>=<span style=\"font-weight: bold\">(</span><span style=\"color: #008080; text-decoration-color: #008080; font-weight: bold\">10</span>, <span style=\"color: #008080; text-decoration-color: #008080; font-weight: bold\">9</span><span style=\"font-weight: bold\">)</span>. Time taken for step: <span style=\"color: #000080; text-decoration-color: #000080; font-weight: bold\">0:00:00</span><span style=\"color: #000080; text-decoration-color: #000080\">.</span><span style=\"color: #000080; text-decoration-color: #000080; font-weight: bold\">003535</span>. ✅\n</pre>\n"
     },
     "metadata": {},
     "output_type": "display_data"
    },
    {
     "data": {
      "text/plain": "🚧 Applying postprocessing: \u001B[32m'\u001B[0m\u001B[1;32mFeatureNeutralizer\u001B[0m\u001B[32m'\u001B[0m 🚧\n",
      "text/html": "<pre style=\"white-space:pre;overflow-x:auto;line-height:normal;font-family:Menlo,'DejaVu Sans Mono',consolas,'Courier New',monospace\">🚧 Applying postprocessing: <span style=\"color: #008000; text-decoration-color: #008000\">'</span><span style=\"color: #008000; text-decoration-color: #008000; font-weight: bold\">FeatureNeutralizer</span><span style=\"color: #008000; text-decoration-color: #008000\">'</span> 🚧\n</pre>\n"
     },
     "metadata": {},
     "output_type": "display_data"
    },
    {
     "data": {
      "text/plain": "🤖 Neutralized \u001B[1;34m'prediction_ensembled'\u001B[0m\u001B[1;34m with proportion \u001B[0m\u001B[1;34m'0.8'\u001B[0m\u001B[1;34m 🤖\u001B[0m\n",
      "text/html": "<pre style=\"white-space:pre;overflow-x:auto;line-height:normal;font-family:Menlo,'DejaVu Sans Mono',consolas,'Courier New',monospace\">🤖 Neutralized <span style=\"color: #000080; text-decoration-color: #000080; font-weight: bold\">'prediction_ensembled'</span><span style=\"color: #000080; text-decoration-color: #000080; font-weight: bold\"> with proportion </span><span style=\"color: #000080; text-decoration-color: #000080; font-weight: bold\">'0.8'</span><span style=\"color: #000080; text-decoration-color: #000080; font-weight: bold\"> 🤖</span>\n</pre>\n"
     },
     "metadata": {},
     "output_type": "display_data"
    },
    {
     "data": {
      "text/plain": "New neutralized column = \u001B[1;32m'prediction_ensembled_neutralized_0.8'\u001B[0m.\n",
      "text/html": "<pre style=\"white-space:pre;overflow-x:auto;line-height:normal;font-family:Menlo,'DejaVu Sans Mono',consolas,'Courier New',monospace\">New neutralized column = <span style=\"color: #008000; text-decoration-color: #008000; font-weight: bold\">'prediction_ensembled_neutralized_0.8'</span>.\n</pre>\n"
     },
     "metadata": {},
     "output_type": "display_data"
    },
    {
     "data": {
      "text/plain": "✅ Finished step \u001B[1mFeatureNeutralizer\u001B[0m. Output \u001B[33mshape\u001B[0m=\u001B[1m(\u001B[0m\u001B[1;36m10\u001B[0m, \u001B[1;36m10\u001B[0m\u001B[1m)\u001B[0m. Time taken for step: \n\u001B[1;34m0:00:00\u001B[0m\u001B[34m.\u001B[0m\u001B[1;34m015806\u001B[0m. ✅\n",
      "text/html": "<pre style=\"white-space:pre;overflow-x:auto;line-height:normal;font-family:Menlo,'DejaVu Sans Mono',consolas,'Courier New',monospace\">✅ Finished step <span style=\"font-weight: bold\">FeatureNeutralizer</span>. Output <span style=\"color: #808000; text-decoration-color: #808000\">shape</span>=<span style=\"font-weight: bold\">(</span><span style=\"color: #008080; text-decoration-color: #008080; font-weight: bold\">10</span>, <span style=\"color: #008080; text-decoration-color: #008080; font-weight: bold\">10</span><span style=\"font-weight: bold\">)</span>. Time taken for step: \n<span style=\"color: #000080; text-decoration-color: #000080; font-weight: bold\">0:00:00</span><span style=\"color: #000080; text-decoration-color: #000080\">.</span><span style=\"color: #000080; text-decoration-color: #000080; font-weight: bold\">015806</span>. ✅\n</pre>\n"
     },
     "metadata": {},
     "output_type": "display_data"
    },
    {
     "data": {
      "text/plain": "🏁 \u001B[32mFinished pipeline:\u001B[0m\u001B[32m \u001B[0m\u001B[1;34m'test_pipeline'\u001B[0m\u001B[1;34m! 🏁\u001B[0m\n",
      "text/html": "<pre style=\"white-space:pre;overflow-x:auto;line-height:normal;font-family:Menlo,'DejaVu Sans Mono',consolas,'Courier New',monospace\">🏁 <span style=\"color: #008000; text-decoration-color: #008000\">Finished pipeline: </span><span style=\"color: #000080; text-decoration-color: #000080; font-weight: bold\">'test_pipeline'</span><span style=\"color: #000080; text-decoration-color: #000080; font-weight: bold\">! 🏁</span>\n</pre>\n"
     },
     "metadata": {},
     "output_type": "display_data"
    },
    {
     "data": {
      "text/plain": "👷 \u001B[1;32mProcessing model pipeline:\u001B[0m \u001B[32m'test_pipeline2'\u001B[0m 👷\n",
      "text/html": "<pre style=\"white-space:pre;overflow-x:auto;line-height:normal;font-family:Menlo,'DejaVu Sans Mono',consolas,'Courier New',monospace\">👷 <span style=\"color: #008000; text-decoration-color: #008000; font-weight: bold\">Processing model pipeline:</span> <span style=\"color: #008000; text-decoration-color: #008000\">'test_pipeline2'</span> 👷\n</pre>\n"
     },
     "metadata": {},
     "output_type": "display_data"
    },
    {
     "data": {
      "text/plain": "✅ Finished step \u001B[1mCopyPreProcessor\u001B[0m. Output \u001B[33mshape\u001B[0m=\u001B[1m(\u001B[0m\u001B[1;36m10\u001B[0m, \u001B[1;36m314\u001B[0m\u001B[1m)\u001B[0m. Time taken for step: \n\u001B[1;34m0:00:00\u001B[0m\u001B[34m.\u001B[0m\u001B[1;34m002220\u001B[0m. ✅\n",
      "text/html": "<pre style=\"white-space:pre;overflow-x:auto;line-height:normal;font-family:Menlo,'DejaVu Sans Mono',consolas,'Courier New',monospace\">✅ Finished step <span style=\"font-weight: bold\">CopyPreProcessor</span>. Output <span style=\"color: #808000; text-decoration-color: #808000\">shape</span>=<span style=\"font-weight: bold\">(</span><span style=\"color: #008080; text-decoration-color: #008080; font-weight: bold\">10</span>, <span style=\"color: #008080; text-decoration-color: #008080; font-weight: bold\">314</span><span style=\"font-weight: bold\">)</span>. Time taken for step: \n<span style=\"color: #000080; text-decoration-color: #000080; font-weight: bold\">0:00:00</span><span style=\"color: #000080; text-decoration-color: #000080\">.</span><span style=\"color: #000080; text-decoration-color: #000080; font-weight: bold\">002220</span>. ✅\n</pre>\n"
     },
     "metadata": {},
     "output_type": "display_data"
    },
    {
     "data": {
      "text/plain": "test_pipeline2 Preprocessing:: 0it [00:00, ?it/s]",
      "application/vnd.jupyter.widget-view+json": {
       "version_major": 2,
       "version_minor": 0,
       "model_id": "f4760a05239345c3bb1a78d0d5b2a283"
      }
     },
     "metadata": {},
     "output_type": "display_data"
    },
    {
     "data": {
      "text/plain": "test_pipeline2 Model prediction:   0%|          | 0/1 [00:00<?, ?it/s]",
      "application/vnd.jupyter.widget-view+json": {
       "version_major": 2,
       "version_minor": 0,
       "model_id": "2e2fd071bf8e4648a45d0af6b937985a"
      }
     },
     "metadata": {},
     "output_type": "display_data"
    },
    {
     "data": {
      "text/plain": "🤖 Generating model predictions with \u001B[32m'\u001B[0m\u001B[1;32mRandomModel\u001B[0m\u001B[32m'\u001B[0m. 🤖\n",
      "text/html": "<pre style=\"white-space:pre;overflow-x:auto;line-height:normal;font-family:Menlo,'DejaVu Sans Mono',consolas,'Courier New',monospace\">🤖 Generating model predictions with <span style=\"color: #008000; text-decoration-color: #008000\">'</span><span style=\"color: #008000; text-decoration-color: #008000; font-weight: bold\">RandomModel</span><span style=\"color: #008000; text-decoration-color: #008000\">'</span>. 🤖\n</pre>\n"
     },
     "metadata": {},
     "output_type": "display_data"
    },
    {
     "data": {
      "text/plain": "✅ Finished step \u001B[1mStandardizer\u001B[0m. Output \u001B[33mshape\u001B[0m=\u001B[1m(\u001B[0m\u001B[1;36m10\u001B[0m, \u001B[1;36m315\u001B[0m\u001B[1m)\u001B[0m. Time taken for step: \u001B[1;34m0:00:00\u001B[0m\u001B[34m.\u001B[0m\u001B[1;34m005978\u001B[0m. \n✅\n",
      "text/html": "<pre style=\"white-space:pre;overflow-x:auto;line-height:normal;font-family:Menlo,'DejaVu Sans Mono',consolas,'Courier New',monospace\">✅ Finished step <span style=\"font-weight: bold\">Standardizer</span>. Output <span style=\"color: #808000; text-decoration-color: #808000\">shape</span>=<span style=\"font-weight: bold\">(</span><span style=\"color: #008080; text-decoration-color: #008080; font-weight: bold\">10</span>, <span style=\"color: #008080; text-decoration-color: #008080; font-weight: bold\">315</span><span style=\"font-weight: bold\">)</span>. Time taken for step: <span style=\"color: #000080; text-decoration-color: #000080; font-weight: bold\">0:00:00</span><span style=\"color: #000080; text-decoration-color: #000080\">.</span><span style=\"color: #000080; text-decoration-color: #000080; font-weight: bold\">005978</span>. \n✅\n</pre>\n"
     },
     "metadata": {},
     "output_type": "display_data"
    },
    {
     "data": {
      "text/plain": "test_pipeline2 Postprocessing: : 0it [00:00, ?it/s]",
      "application/vnd.jupyter.widget-view+json": {
       "version_major": 2,
       "version_minor": 0,
       "model_id": "f12c1b672762493cad1a1763eb8b00ee"
      }
     },
     "metadata": {},
     "output_type": "display_data"
    },
    {
     "data": {
      "text/plain": "🏁 \u001B[32mFinished pipeline:\u001B[0m\u001B[32m \u001B[0m\u001B[1;34m'test_pipeline2'\u001B[0m\u001B[1;34m! 🏁\u001B[0m\n",
      "text/html": "<pre style=\"white-space:pre;overflow-x:auto;line-height:normal;font-family:Menlo,'DejaVu Sans Mono',consolas,'Courier New',monospace\">🏁 <span style=\"color: #008000; text-decoration-color: #008000\">Finished pipeline: </span><span style=\"color: #000080; text-decoration-color: #000080; font-weight: bold\">'test_pipeline2'</span><span style=\"color: #000080; text-decoration-color: #000080; font-weight: bold\">! 🏁</span>\n</pre>\n"
     },
     "metadata": {},
     "output_type": "display_data"
    },
    {
     "data": {
      "text/plain": "<IPython.core.display.Javascript object>",
      "application/javascript": "\n            setTimeout(function() {\n                var nbb_cell_id = 12;\n                var nbb_unformatted_code = \"result_datasets = collection(dataf=dataf)\";\n                var nbb_formatted_code = \"result_datasets = collection(dataf=dataf)\";\n                var nbb_cells = Jupyter.notebook.get_cells();\n                for (var i = 0; i < nbb_cells.length; ++i) {\n                    if (nbb_cells[i].input_prompt_number == nbb_cell_id) {\n                        if (nbb_cells[i].get_text() == nbb_unformatted_code) {\n                             nbb_cells[i].set_text(nbb_formatted_code);\n                        }\n                        break;\n                    }\n                }\n            }, 500);\n            "
     },
     "metadata": {},
     "output_type": "display_data"
    }
   ],
   "source": [
    "result_datasets = collection(dataf=dataf)"
   ]
  },
  {
   "cell_type": "markdown",
   "metadata": {},
   "source": [
    "The `ModelPipelineCollection` returns a list of `NumerFrame` objects, retaining all metadata and adding prediction columns for each. Note that in this example, the 1st `NumerFrame` had a feature selection step, so it did not retain all columns. However, the second dataset retained all feature columns, because it did not have a feature selection step."
   ]
  },
  {
   "cell_type": "code",
   "execution_count": 13,
   "metadata": {},
   "outputs": [
    {
     "data": {
      "text/plain": "   feature_intelligence_mean  feature_intelligence_std  target  \\\n0                   0.333333                  0.246183    0.50   \n1                   0.208333                  0.234359    0.25   \n2                   0.479167                  0.327843    0.25   \n3                   0.416667                  0.288675    0.25   \n4                   0.270833                  0.128732    0.75   \n5                   0.500000                  0.213201    0.50   \n6                   0.604167                  0.391070    0.25   \n7                   0.770833                  0.270906    0.25   \n8                   0.625000                  0.291937    0.50   \n9                   0.562500                  0.284545    0.75   \n\n                 id   era data_type  prediction_test_0.5  prediction_test_0.8  \\\n0  n000315175b67977  era1     train                  0.5                  0.8   \n1  n0014af834a96cdd  era1     train                  0.5                  0.8   \n2  n001c93979ac41d4  era1     train                  0.5                  0.8   \n3  n0034e4143f22a13  era1     train                  0.5                  0.8   \n4  n00679d1a636062f  era1     train                  0.5                  0.8   \n5  n009aa2d32389eca  era1     train                  0.5                  0.8   \n6  n009ef1a5fe009b6  era1     train                  0.5                  0.8   \n7  n00ae5d51f55fb0f  era1     train                  0.5                  0.8   \n8  n00b0ac86d77aed7  era1     train                  0.5                  0.8   \n9  n00c63366aeaf76a  era1     train                  0.5                  0.8   \n\n   prediction_ensembled  prediction_ensembled_neutralized_0.8  \n0                  0.65                              0.000000  \n1                  0.65                              0.360880  \n2                  0.65                              0.350519  \n3                  0.65                              0.450910  \n4                  0.65                              0.378539  \n5                  0.65                              0.361540  \n6                  0.65                              0.719895  \n7                  0.65                              0.339932  \n8                  0.65                              0.710710  \n9                  0.65                              1.000000  ",
      "text/html": "<div>\n<style scoped>\n    .dataframe tbody tr th:only-of-type {\n        vertical-align: middle;\n    }\n\n    .dataframe tbody tr th {\n        vertical-align: top;\n    }\n\n    .dataframe thead th {\n        text-align: right;\n    }\n</style>\n<table border=\"1\" class=\"dataframe\">\n  <thead>\n    <tr style=\"text-align: right;\">\n      <th></th>\n      <th>feature_intelligence_mean</th>\n      <th>feature_intelligence_std</th>\n      <th>target</th>\n      <th>id</th>\n      <th>era</th>\n      <th>data_type</th>\n      <th>prediction_test_0.5</th>\n      <th>prediction_test_0.8</th>\n      <th>prediction_ensembled</th>\n      <th>prediction_ensembled_neutralized_0.8</th>\n    </tr>\n  </thead>\n  <tbody>\n    <tr>\n      <th>0</th>\n      <td>0.333333</td>\n      <td>0.246183</td>\n      <td>0.50</td>\n      <td>n000315175b67977</td>\n      <td>era1</td>\n      <td>train</td>\n      <td>0.5</td>\n      <td>0.8</td>\n      <td>0.65</td>\n      <td>0.000000</td>\n    </tr>\n    <tr>\n      <th>1</th>\n      <td>0.208333</td>\n      <td>0.234359</td>\n      <td>0.25</td>\n      <td>n0014af834a96cdd</td>\n      <td>era1</td>\n      <td>train</td>\n      <td>0.5</td>\n      <td>0.8</td>\n      <td>0.65</td>\n      <td>0.360880</td>\n    </tr>\n    <tr>\n      <th>2</th>\n      <td>0.479167</td>\n      <td>0.327843</td>\n      <td>0.25</td>\n      <td>n001c93979ac41d4</td>\n      <td>era1</td>\n      <td>train</td>\n      <td>0.5</td>\n      <td>0.8</td>\n      <td>0.65</td>\n      <td>0.350519</td>\n    </tr>\n    <tr>\n      <th>3</th>\n      <td>0.416667</td>\n      <td>0.288675</td>\n      <td>0.25</td>\n      <td>n0034e4143f22a13</td>\n      <td>era1</td>\n      <td>train</td>\n      <td>0.5</td>\n      <td>0.8</td>\n      <td>0.65</td>\n      <td>0.450910</td>\n    </tr>\n    <tr>\n      <th>4</th>\n      <td>0.270833</td>\n      <td>0.128732</td>\n      <td>0.75</td>\n      <td>n00679d1a636062f</td>\n      <td>era1</td>\n      <td>train</td>\n      <td>0.5</td>\n      <td>0.8</td>\n      <td>0.65</td>\n      <td>0.378539</td>\n    </tr>\n    <tr>\n      <th>5</th>\n      <td>0.500000</td>\n      <td>0.213201</td>\n      <td>0.50</td>\n      <td>n009aa2d32389eca</td>\n      <td>era1</td>\n      <td>train</td>\n      <td>0.5</td>\n      <td>0.8</td>\n      <td>0.65</td>\n      <td>0.361540</td>\n    </tr>\n    <tr>\n      <th>6</th>\n      <td>0.604167</td>\n      <td>0.391070</td>\n      <td>0.25</td>\n      <td>n009ef1a5fe009b6</td>\n      <td>era1</td>\n      <td>train</td>\n      <td>0.5</td>\n      <td>0.8</td>\n      <td>0.65</td>\n      <td>0.719895</td>\n    </tr>\n    <tr>\n      <th>7</th>\n      <td>0.770833</td>\n      <td>0.270906</td>\n      <td>0.25</td>\n      <td>n00ae5d51f55fb0f</td>\n      <td>era1</td>\n      <td>train</td>\n      <td>0.5</td>\n      <td>0.8</td>\n      <td>0.65</td>\n      <td>0.339932</td>\n    </tr>\n    <tr>\n      <th>8</th>\n      <td>0.625000</td>\n      <td>0.291937</td>\n      <td>0.50</td>\n      <td>n00b0ac86d77aed7</td>\n      <td>era1</td>\n      <td>train</td>\n      <td>0.5</td>\n      <td>0.8</td>\n      <td>0.65</td>\n      <td>0.710710</td>\n    </tr>\n    <tr>\n      <th>9</th>\n      <td>0.562500</td>\n      <td>0.284545</td>\n      <td>0.75</td>\n      <td>n00c63366aeaf76a</td>\n      <td>era1</td>\n      <td>train</td>\n      <td>0.5</td>\n      <td>0.8</td>\n      <td>0.65</td>\n      <td>1.000000</td>\n    </tr>\n  </tbody>\n</table>\n</div>"
     },
     "execution_count": 13,
     "metadata": {},
     "output_type": "execute_result"
    },
    {
     "data": {
      "text/plain": "<IPython.core.display.Javascript object>",
      "application/javascript": "\n            setTimeout(function() {\n                var nbb_cell_id = 13;\n                var nbb_unformatted_code = \"result_datasets[0]\";\n                var nbb_formatted_code = \"result_datasets[0]\";\n                var nbb_cells = Jupyter.notebook.get_cells();\n                for (var i = 0; i < nbb_cells.length; ++i) {\n                    if (nbb_cells[i].input_prompt_number == nbb_cell_id) {\n                        if (nbb_cells[i].get_text() == nbb_unformatted_code) {\n                             nbb_cells[i].set_text(nbb_formatted_code);\n                        }\n                        break;\n                    }\n                }\n            }, 500);\n            "
     },
     "metadata": {},
     "output_type": "display_data"
    }
   ],
   "source": [
    "result_datasets[0]"
   ]
  },
  {
   "cell_type": "code",
   "execution_count": 14,
   "metadata": {},
   "outputs": [
    {
     "data": {
      "text/plain": "                 id   era data_type  feature_intelligence1  \\\n0  n000315175b67977  era1     train                   0.00   \n1  n0014af834a96cdd  era1     train                   0.00   \n2  n001c93979ac41d4  era1     train                   0.25   \n3  n0034e4143f22a13  era1     train                   1.00   \n4  n00679d1a636062f  era1     train                   0.25   \n5  n009aa2d32389eca  era1     train                   0.50   \n6  n009ef1a5fe009b6  era1     train                   0.50   \n7  n00ae5d51f55fb0f  era1     train                   0.25   \n8  n00b0ac86d77aed7  era1     train                   0.50   \n9  n00c63366aeaf76a  era1     train                   0.50   \n\n   feature_intelligence2  feature_intelligence3  feature_intelligence4  \\\n0                   0.50                   0.25                   0.00   \n1                   0.00                   0.00                   0.25   \n2                   0.50                   0.25                   0.25   \n3                   0.00                   0.00                   0.50   \n4                   0.25                   0.25                   0.25   \n5                   0.50                   0.25                   0.25   \n6                   0.25                   0.25                   0.75   \n7                   1.00                   1.00                   0.75   \n8                   0.50                   0.50                   1.00   \n9                   1.00                   1.00                   0.25   \n\n   feature_intelligence5  feature_intelligence6  feature_intelligence7  ...  \\\n0                   0.50                   0.25                   0.25  ...   \n1                   0.50                   0.00                   0.00  ...   \n2                   1.00                   0.75                   0.75  ...   \n3                   0.50                   0.25                   0.25  ...   \n4                   0.00                   0.25                   0.50  ...   \n5                   0.75                   0.75                   0.75  ...   \n6                   1.00                   1.00                   1.00  ...   \n7                   1.00                   0.75                   0.75  ...   \n8                   1.00                   0.25                   0.50  ...   \n9                   0.75                   0.25                   0.25  ...   \n\n   feature_wisdom39  feature_wisdom40  feature_wisdom41  feature_wisdom42  \\\n0              1.00              0.75              0.50              0.75   \n1              1.00              0.00              0.00              0.75   \n2              0.50              0.00              0.00              0.50   \n3              1.00              0.75              0.75              1.00   \n4              0.75              0.25              0.50              0.75   \n5              0.75              0.00              0.00              0.75   \n6              1.00              0.50              0.50              0.75   \n7              0.25              0.75              0.75              0.00   \n8              0.00              0.00              0.00              0.00   \n9              0.00              1.00              1.00              0.75   \n\n   feature_wisdom43  feature_wisdom44  feature_wisdom45  feature_wisdom46  \\\n0              0.50              1.00              0.50              0.75   \n1              0.25              0.00              0.25              1.00   \n2              1.00              0.00              0.25              0.75   \n3              1.00              0.75              1.00              1.00   \n4              0.00              0.50              0.25              0.75   \n5              0.50              0.00              0.25              0.00   \n6              0.50              0.50              0.50              1.00   \n7              0.25              0.75              0.50              0.25   \n8              1.00              0.00              0.00              0.00   \n9              0.50              1.00              1.00              0.75   \n\n   target  prediction_random  \n0    0.50                0.1  \n1    0.25                0.5  \n2    0.25                0.9  \n3    0.25                0.4  \n4    0.75                0.8  \n5    0.50                0.6  \n6    0.25                1.0  \n7    0.25                0.7  \n8    0.50                0.2  \n9    0.75                0.3  \n\n[10 rows x 315 columns]",
      "text/html": "<div>\n<style scoped>\n    .dataframe tbody tr th:only-of-type {\n        vertical-align: middle;\n    }\n\n    .dataframe tbody tr th {\n        vertical-align: top;\n    }\n\n    .dataframe thead th {\n        text-align: right;\n    }\n</style>\n<table border=\"1\" class=\"dataframe\">\n  <thead>\n    <tr style=\"text-align: right;\">\n      <th></th>\n      <th>id</th>\n      <th>era</th>\n      <th>data_type</th>\n      <th>feature_intelligence1</th>\n      <th>feature_intelligence2</th>\n      <th>feature_intelligence3</th>\n      <th>feature_intelligence4</th>\n      <th>feature_intelligence5</th>\n      <th>feature_intelligence6</th>\n      <th>feature_intelligence7</th>\n      <th>...</th>\n      <th>feature_wisdom39</th>\n      <th>feature_wisdom40</th>\n      <th>feature_wisdom41</th>\n      <th>feature_wisdom42</th>\n      <th>feature_wisdom43</th>\n      <th>feature_wisdom44</th>\n      <th>feature_wisdom45</th>\n      <th>feature_wisdom46</th>\n      <th>target</th>\n      <th>prediction_random</th>\n    </tr>\n  </thead>\n  <tbody>\n    <tr>\n      <th>0</th>\n      <td>n000315175b67977</td>\n      <td>era1</td>\n      <td>train</td>\n      <td>0.00</td>\n      <td>0.50</td>\n      <td>0.25</td>\n      <td>0.00</td>\n      <td>0.50</td>\n      <td>0.25</td>\n      <td>0.25</td>\n      <td>...</td>\n      <td>1.00</td>\n      <td>0.75</td>\n      <td>0.50</td>\n      <td>0.75</td>\n      <td>0.50</td>\n      <td>1.00</td>\n      <td>0.50</td>\n      <td>0.75</td>\n      <td>0.50</td>\n      <td>0.1</td>\n    </tr>\n    <tr>\n      <th>1</th>\n      <td>n0014af834a96cdd</td>\n      <td>era1</td>\n      <td>train</td>\n      <td>0.00</td>\n      <td>0.00</td>\n      <td>0.00</td>\n      <td>0.25</td>\n      <td>0.50</td>\n      <td>0.00</td>\n      <td>0.00</td>\n      <td>...</td>\n      <td>1.00</td>\n      <td>0.00</td>\n      <td>0.00</td>\n      <td>0.75</td>\n      <td>0.25</td>\n      <td>0.00</td>\n      <td>0.25</td>\n      <td>1.00</td>\n      <td>0.25</td>\n      <td>0.5</td>\n    </tr>\n    <tr>\n      <th>2</th>\n      <td>n001c93979ac41d4</td>\n      <td>era1</td>\n      <td>train</td>\n      <td>0.25</td>\n      <td>0.50</td>\n      <td>0.25</td>\n      <td>0.25</td>\n      <td>1.00</td>\n      <td>0.75</td>\n      <td>0.75</td>\n      <td>...</td>\n      <td>0.50</td>\n      <td>0.00</td>\n      <td>0.00</td>\n      <td>0.50</td>\n      <td>1.00</td>\n      <td>0.00</td>\n      <td>0.25</td>\n      <td>0.75</td>\n      <td>0.25</td>\n      <td>0.9</td>\n    </tr>\n    <tr>\n      <th>3</th>\n      <td>n0034e4143f22a13</td>\n      <td>era1</td>\n      <td>train</td>\n      <td>1.00</td>\n      <td>0.00</td>\n      <td>0.00</td>\n      <td>0.50</td>\n      <td>0.50</td>\n      <td>0.25</td>\n      <td>0.25</td>\n      <td>...</td>\n      <td>1.00</td>\n      <td>0.75</td>\n      <td>0.75</td>\n      <td>1.00</td>\n      <td>1.00</td>\n      <td>0.75</td>\n      <td>1.00</td>\n      <td>1.00</td>\n      <td>0.25</td>\n      <td>0.4</td>\n    </tr>\n    <tr>\n      <th>4</th>\n      <td>n00679d1a636062f</td>\n      <td>era1</td>\n      <td>train</td>\n      <td>0.25</td>\n      <td>0.25</td>\n      <td>0.25</td>\n      <td>0.25</td>\n      <td>0.00</td>\n      <td>0.25</td>\n      <td>0.50</td>\n      <td>...</td>\n      <td>0.75</td>\n      <td>0.25</td>\n      <td>0.50</td>\n      <td>0.75</td>\n      <td>0.00</td>\n      <td>0.50</td>\n      <td>0.25</td>\n      <td>0.75</td>\n      <td>0.75</td>\n      <td>0.8</td>\n    </tr>\n    <tr>\n      <th>5</th>\n      <td>n009aa2d32389eca</td>\n      <td>era1</td>\n      <td>train</td>\n      <td>0.50</td>\n      <td>0.50</td>\n      <td>0.25</td>\n      <td>0.25</td>\n      <td>0.75</td>\n      <td>0.75</td>\n      <td>0.75</td>\n      <td>...</td>\n      <td>0.75</td>\n      <td>0.00</td>\n      <td>0.00</td>\n      <td>0.75</td>\n      <td>0.50</td>\n      <td>0.00</td>\n      <td>0.25</td>\n      <td>0.00</td>\n      <td>0.50</td>\n      <td>0.6</td>\n    </tr>\n    <tr>\n      <th>6</th>\n      <td>n009ef1a5fe009b6</td>\n      <td>era1</td>\n      <td>train</td>\n      <td>0.50</td>\n      <td>0.25</td>\n      <td>0.25</td>\n      <td>0.75</td>\n      <td>1.00</td>\n      <td>1.00</td>\n      <td>1.00</td>\n      <td>...</td>\n      <td>1.00</td>\n      <td>0.50</td>\n      <td>0.50</td>\n      <td>0.75</td>\n      <td>0.50</td>\n      <td>0.50</td>\n      <td>0.50</td>\n      <td>1.00</td>\n      <td>0.25</td>\n      <td>1.0</td>\n    </tr>\n    <tr>\n      <th>7</th>\n      <td>n00ae5d51f55fb0f</td>\n      <td>era1</td>\n      <td>train</td>\n      <td>0.25</td>\n      <td>1.00</td>\n      <td>1.00</td>\n      <td>0.75</td>\n      <td>1.00</td>\n      <td>0.75</td>\n      <td>0.75</td>\n      <td>...</td>\n      <td>0.25</td>\n      <td>0.75</td>\n      <td>0.75</td>\n      <td>0.00</td>\n      <td>0.25</td>\n      <td>0.75</td>\n      <td>0.50</td>\n      <td>0.25</td>\n      <td>0.25</td>\n      <td>0.7</td>\n    </tr>\n    <tr>\n      <th>8</th>\n      <td>n00b0ac86d77aed7</td>\n      <td>era1</td>\n      <td>train</td>\n      <td>0.50</td>\n      <td>0.50</td>\n      <td>0.50</td>\n      <td>1.00</td>\n      <td>1.00</td>\n      <td>0.25</td>\n      <td>0.50</td>\n      <td>...</td>\n      <td>0.00</td>\n      <td>0.00</td>\n      <td>0.00</td>\n      <td>0.00</td>\n      <td>1.00</td>\n      <td>0.00</td>\n      <td>0.00</td>\n      <td>0.00</td>\n      <td>0.50</td>\n      <td>0.2</td>\n    </tr>\n    <tr>\n      <th>9</th>\n      <td>n00c63366aeaf76a</td>\n      <td>era1</td>\n      <td>train</td>\n      <td>0.50</td>\n      <td>1.00</td>\n      <td>1.00</td>\n      <td>0.25</td>\n      <td>0.75</td>\n      <td>0.25</td>\n      <td>0.25</td>\n      <td>...</td>\n      <td>0.00</td>\n      <td>1.00</td>\n      <td>1.00</td>\n      <td>0.75</td>\n      <td>0.50</td>\n      <td>1.00</td>\n      <td>1.00</td>\n      <td>0.75</td>\n      <td>0.75</td>\n      <td>0.3</td>\n    </tr>\n  </tbody>\n</table>\n<p>10 rows × 315 columns</p>\n</div>"
     },
     "execution_count": 14,
     "metadata": {},
     "output_type": "execute_result"
    },
    {
     "data": {
      "text/plain": "<IPython.core.display.Javascript object>",
      "application/javascript": "\n            setTimeout(function() {\n                var nbb_cell_id = 14;\n                var nbb_unformatted_code = \"result_datasets[1]\";\n                var nbb_formatted_code = \"result_datasets[1]\";\n                var nbb_cells = Jupyter.notebook.get_cells();\n                for (var i = 0; i < nbb_cells.length; ++i) {\n                    if (nbb_cells[i].input_prompt_number == nbb_cell_id) {\n                        if (nbb_cells[i].get_text() == nbb_unformatted_code) {\n                             nbb_cells[i].set_text(nbb_formatted_code);\n                        }\n                        break;\n                    }\n                }\n            }, 500);\n            "
     },
     "metadata": {},
     "output_type": "display_data"
    }
   ],
   "source": [
    "result_datasets[1]"
   ]
  },
  {
   "cell_type": "markdown",
   "source": [
    "Since metadata is not manipulated in these pipelines, metadata should be the same as the original `NumerFrame` for all resulting `NumerFrame` objects."
   ],
   "metadata": {
    "collapsed": false
   }
  },
  {
   "cell_type": "code",
   "execution_count": 15,
   "outputs": [
    {
     "data": {
      "text/plain": "<IPython.core.display.Javascript object>",
      "application/javascript": "\n            setTimeout(function() {\n                var nbb_cell_id = 15;\n                var nbb_unformatted_code = \"for result in result_datasets:\\n    assert dataf.meta == result.meta\";\n                var nbb_formatted_code = \"for result in result_datasets:\\n    assert dataf.meta == result.meta\";\n                var nbb_cells = Jupyter.notebook.get_cells();\n                for (var i = 0; i < nbb_cells.length; ++i) {\n                    if (nbb_cells[i].input_prompt_number == nbb_cell_id) {\n                        if (nbb_cells[i].get_text() == nbb_unformatted_code) {\n                             nbb_cells[i].set_text(nbb_formatted_code);\n                        }\n                        break;\n                    }\n                }\n            }, 500);\n            "
     },
     "metadata": {},
     "output_type": "display_data"
    }
   ],
   "source": [
    "for result in result_datasets:\n",
    "    assert dataf.meta == result.meta"
   ],
   "metadata": {
    "collapsed": false,
    "pycharm": {
     "name": "#%%\n"
    }
   }
  },
  {
   "cell_type": "code",
   "execution_count": 16,
   "outputs": [
    {
     "data": {
      "text/plain": "{'era_col': 'era', 'era_col_verified': True, 'version': 1}"
     },
     "execution_count": 16,
     "metadata": {},
     "output_type": "execute_result"
    },
    {
     "data": {
      "text/plain": "<IPython.core.display.Javascript object>",
      "application/javascript": "\n            setTimeout(function() {\n                var nbb_cell_id = 16;\n                var nbb_unformatted_code = \"result_datasets[0].meta\";\n                var nbb_formatted_code = \"result_datasets[0].meta\";\n                var nbb_cells = Jupyter.notebook.get_cells();\n                for (var i = 0; i < nbb_cells.length; ++i) {\n                    if (nbb_cells[i].input_prompt_number == nbb_cell_id) {\n                        if (nbb_cells[i].get_text() == nbb_unformatted_code) {\n                             nbb_cells[i].set_text(nbb_formatted_code);\n                        }\n                        break;\n                    }\n                }\n            }, 500);\n            "
     },
     "metadata": {},
     "output_type": "display_data"
    }
   ],
   "source": [
    "result_datasets[0].meta"
   ],
   "metadata": {
    "collapsed": false,
    "pycharm": {
     "name": "#%%\n"
    }
   }
  },
  {
   "cell_type": "markdown",
   "metadata": {},
   "source": [
    "-----------------------------------------------------------------------------"
   ]
  },
  {
   "cell_type": "code",
   "execution_count": 17,
   "metadata": {},
   "outputs": [
    {
     "name": "stdout",
     "output_type": "stream",
     "text": [
      "Converted 01_download.ipynb.\n",
      "Converted 02_numerframe.ipynb.\n",
      "Converted 03_preprocessing.ipynb.\n",
      "Converted 04_model.ipynb.\n",
      "Converted 05_postprocessing.ipynb.\n",
      "Converted 06_modelpipeline.ipynb.\n",
      "Converted 07_evaluation.ipynb.\n",
      "Converted 08_key.ipynb.\n",
      "Converted 09_submission.ipynb.\n",
      "Converted 10_staking.ipynb.\n",
      "Converted index.ipynb.\n"
     ]
    },
    {
     "data": {
      "text/plain": "<IPython.core.display.Javascript object>",
      "application/javascript": "\n            setTimeout(function() {\n                var nbb_cell_id = 17;\n                var nbb_unformatted_code = \"# hide\\n# Run this cell to sync all changes with library\\nfrom nbdev.export import notebook2script\\n\\nnotebook2script()\";\n                var nbb_formatted_code = \"# hide\\n# Run this cell to sync all changes with library\\nfrom nbdev.export import notebook2script\\n\\nnotebook2script()\";\n                var nbb_cells = Jupyter.notebook.get_cells();\n                for (var i = 0; i < nbb_cells.length; ++i) {\n                    if (nbb_cells[i].input_prompt_number == nbb_cell_id) {\n                        if (nbb_cells[i].get_text() == nbb_unformatted_code) {\n                             nbb_cells[i].set_text(nbb_formatted_code);\n                        }\n                        break;\n                    }\n                }\n            }, 500);\n            "
     },
     "metadata": {},
     "output_type": "display_data"
    }
   ],
   "source": [
    "# hide\n",
    "# Run this cell to sync all changes with library\n",
    "from nbdev.export import notebook2script\n",
    "\n",
    "notebook2script()"
   ]
  }
 ],
 "metadata": {
  "kernelspec": {
   "display_name": "Python 3",
   "language": "python",
   "name": "python3"
  }
 },
 "nbformat": 4,
 "nbformat_minor": 0
}