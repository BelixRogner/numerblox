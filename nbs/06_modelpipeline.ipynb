{
 "cells": [
  {
   "cell_type": "raw",
   "metadata": {},
   "source": [
    "---\n",
    "description: Putting it all together.\n",
    "output-file: modelpipeline.html\n",
    "title: ModelPipeline\n",
    "\n",
    "---\n",
    "\n"
   ]
  },
  {
   "cell_type": "code",
   "execution_count": 1,
   "metadata": {},
   "outputs": [
    {
     "data": {
      "application/javascript": [
       "\n",
       "            setTimeout(function() {\n",
       "                var nbb_cell_id = 1;\n",
       "                var nbb_unformatted_code = \"# hide\\n%load_ext autoreload\\n%autoreload 2\\n%load_ext nb_black\\n%load_ext lab_black\";\n",
       "                var nbb_formatted_code = \"# hide\\n%load_ext autoreload\\n%autoreload 2\\n%load_ext nb_black\\n%load_ext lab_black\";\n",
       "                var nbb_cells = Jupyter.notebook.get_cells();\n",
       "                for (var i = 0; i < nbb_cells.length; ++i) {\n",
       "                    if (nbb_cells[i].input_prompt_number == nbb_cell_id) {\n",
       "                        if (nbb_cells[i].get_text() == nbb_unformatted_code) {\n",
       "                             nbb_cells[i].set_text(nbb_formatted_code);\n",
       "                        }\n",
       "                        break;\n",
       "                    }\n",
       "                }\n",
       "            }, 500);\n",
       "            "
      ],
      "text/plain": [
       "<IPython.core.display.Javascript object>"
      ]
     },
     "metadata": {},
     "output_type": "display_data"
    }
   ],
   "source": [
    "#| include: false\n",
    "%load_ext autoreload\n",
    "%autoreload 2\n",
    "%load_ext nb_black\n",
    "%load_ext lab_black"
   ]
  },
  {
   "cell_type": "code",
   "execution_count": 2,
   "metadata": {},
   "outputs": [
    {
     "data": {
      "application/javascript": [
       "\n",
       "            setTimeout(function() {\n",
       "                var nbb_cell_id = 2;\n",
       "                var nbb_unformatted_code = \"# default_exp model_pipeline\";\n",
       "                var nbb_formatted_code = \"# default_exp model_pipeline\";\n",
       "                var nbb_cells = Jupyter.notebook.get_cells();\n",
       "                for (var i = 0; i < nbb_cells.length; ++i) {\n",
       "                    if (nbb_cells[i].input_prompt_number == nbb_cell_id) {\n",
       "                        if (nbb_cells[i].get_text() == nbb_unformatted_code) {\n",
       "                             nbb_cells[i].set_text(nbb_formatted_code);\n",
       "                        }\n",
       "                        break;\n",
       "                    }\n",
       "                }\n",
       "            }, 500);\n",
       "            "
      ],
      "text/plain": [
       "<IPython.core.display.Javascript object>"
      ]
     },
     "metadata": {},
     "output_type": "display_data"
    }
   ],
   "source": [
    "#| default_exp model_pipeline"
   ]
  },
  {
   "cell_type": "markdown",
   "metadata": {},
   "source": [
    "## Overview\n",
    "\n",
    "The functionality below uses the `NumerFrame`, `PreProcessor`, `Model` and `PostProcessor` objects to easily propagate\n",
    "data, generate predictions and postprocess them in one go.\n",
    "\n",
    "Specifically, this section introduces two objects:\n",
    "1. `ModelPipeline`: Run all preprocessing, models and postprocessing that you define and return a `NumerFrame`.\n",
    "2. `ModelPipelineCollection`: Manage and run multiple `ModelPipeline` objects."
   ]
  },
  {
   "cell_type": "code",
   "execution_count": 3,
   "metadata": {},
   "outputs": [
    {
     "data": {
      "application/javascript": [
       "\n",
       "            setTimeout(function() {\n",
       "                var nbb_cell_id = 3;\n",
       "                var nbb_unformatted_code = \"# hide\\nfrom nbdev.showdoc import *\";\n",
       "                var nbb_formatted_code = \"# hide\\nfrom nbdev.showdoc import *\";\n",
       "                var nbb_cells = Jupyter.notebook.get_cells();\n",
       "                for (var i = 0; i < nbb_cells.length; ++i) {\n",
       "                    if (nbb_cells[i].input_prompt_number == nbb_cell_id) {\n",
       "                        if (nbb_cells[i].get_text() == nbb_unformatted_code) {\n",
       "                             nbb_cells[i].set_text(nbb_formatted_code);\n",
       "                        }\n",
       "                        break;\n",
       "                    }\n",
       "                }\n",
       "            }, 500);\n",
       "            "
      ],
      "text/plain": [
       "<IPython.core.display.Javascript object>"
      ]
     },
     "metadata": {},
     "output_type": "display_data"
    }
   ],
   "source": [
    "#| include: false\n",
    "from nbdev.showdoc import *"
   ]
  },
  {
   "cell_type": "code",
   "execution_count": 4,
   "metadata": {},
   "outputs": [
    {
     "data": {
      "application/javascript": [
       "\n",
       "            setTimeout(function() {\n",
       "                var nbb_cell_id = 4;\n",
       "                var nbb_unformatted_code = \"#export\\nimport uuid\\nimport pandas as pd\\nfrom tqdm.auto import tqdm\\nfrom typeguard import typechecked\\nfrom typing import List, Union, Dict\\nfrom rich import print as rich_print\\n\\nfrom numerai_blocks.numerframe import NumerFrame, create_numerframe\\nfrom numerai_blocks.preprocessing import BaseProcessor, CopyPreProcessor, GroupStatsPreProcessor, FeatureSelectionPreProcessor\\nfrom numerai_blocks.model import BaseModel, ConstantModel, RandomModel\\nfrom numerai_blocks.postprocessing import Standardizer, MeanEnsembler, FeatureNeutralizer\";\n",
       "                var nbb_formatted_code = \"# export\\nimport uuid\\nimport pandas as pd\\nfrom tqdm.auto import tqdm\\nfrom typeguard import typechecked\\nfrom typing import List, Union, Dict\\nfrom rich import print as rich_print\\n\\nfrom numerai_blocks.numerframe import NumerFrame, create_numerframe\\nfrom numerai_blocks.preprocessing import (\\n    BaseProcessor,\\n    CopyPreProcessor,\\n    GroupStatsPreProcessor,\\n    FeatureSelectionPreProcessor,\\n)\\nfrom numerai_blocks.model import BaseModel, ConstantModel, RandomModel\\nfrom numerai_blocks.postprocessing import (\\n    Standardizer,\\n    MeanEnsembler,\\n    FeatureNeutralizer,\\n)\";\n",
       "                var nbb_cells = Jupyter.notebook.get_cells();\n",
       "                for (var i = 0; i < nbb_cells.length; ++i) {\n",
       "                    if (nbb_cells[i].input_prompt_number == nbb_cell_id) {\n",
       "                        if (nbb_cells[i].get_text() == nbb_unformatted_code) {\n",
       "                             nbb_cells[i].set_text(nbb_formatted_code);\n",
       "                        }\n",
       "                        break;\n",
       "                    }\n",
       "                }\n",
       "            }, 500);\n",
       "            "
      ],
      "text/plain": [
       "<IPython.core.display.Javascript object>"
      ]
     },
     "metadata": {},
     "output_type": "display_data"
    }
   ],
   "source": [
    "#| export\n",
    "import uuid\n",
    "import pandas as pd\n",
    "from tqdm.auto import tqdm\n",
    "from typeguard import typechecked\n",
    "from typing import List, Union, Dict\n",
    "from rich import print as rich_print\n",
    "\n",
    "from numerblox.numerframe import NumerFrame, create_numerframe\n",
    "from numerblox.preprocessing import BaseProcessor, CopyPreProcessor, GroupStatsPreProcessor, FeatureSelectionPreProcessor\n",
    "from numerblox.model import BaseModel, ConstantModel, RandomModel\n",
    "from numerblox.postprocessing import Standardizer, MeanEnsembler, FeatureNeutralizer"
   ]
  },
  {
   "cell_type": "markdown",
   "metadata": {},
   "source": [
    "## 1. ModelPipeline"
   ]
  },
  {
   "cell_type": "markdown",
   "metadata": {},
   "source": [
    "`ModelPipeline` handles all preprocessing, model prediction and postprocessing. It returns a `NumerFrame` with the preprocessed data, metadata and postprocessed prediction columns."
   ]
  },
  {
   "cell_type": "code",
   "execution_count": 5,
   "metadata": {},
   "outputs": [
    {
     "data": {
      "application/javascript": [
       "\n",
       "            setTimeout(function() {\n",
       "                var nbb_cell_id = 5;\n",
       "                var nbb_unformatted_code = \"#export\\n@typechecked\\nclass ModelPipeline:\\n    \\\"\\\"\\\"\\n    Execute all preprocessing, prediction and postprocessing for a given setup.\\n\\n    | :param models: Initiliazed numerai-blocks Models (Objects inheriting from BaseModel) \\\\\\n    | :param preprocessors: List of initialized Preprocessors. \\\\\\n    | :param postprocessors: List of initialized Postprocessors. \\\\\\n    | :param copy_first: Whether to copy the NumerFrame as a first preprocessing step.\\n    Highly recommended in order to avoid surprise behaviour by manipulating the original dataset. \\\\\\n    | :param pipeline_name: Unique name for pipeline. Only used for display purposes.\\n    \\\"\\\"\\\"\\n    def __init__(self,\\n                 models: List[BaseModel],\\n                 preprocessors: List[BaseProcessor] = [],\\n                 postprocessors: List[BaseProcessor] = [],\\n                 copy_first = True,\\n                 standardize = True,\\n                 pipeline_name: str = None):\\n        self.pipeline_name = pipeline_name if pipeline_name else uuid.uuid4().hex\\n        self.models = models\\n        self.copy_first = copy_first\\n        self.standardize = standardize\\n        self.preprocessors = preprocessors\\n        self.postprocessors = postprocessors\\n\\n    def preprocess(self, dataf: Union[pd.DataFrame, NumerFrame]) -> NumerFrame:\\n        \\\"\\\"\\\" Run all preprocessing steps. Copies input by default. \\\"\\\"\\\"\\n        if self.copy_first:\\n            dataf = CopyPreProcessor()(dataf)\\n        for preprocessor in tqdm(self.preprocessors,\\n                                 desc=f\\\"{self.pipeline_name} Preprocessing:\\\",\\n                                 position=0):\\n            rich_print(f\\\":construction: Applying preprocessing: '[bold]{preprocessor.__class__.__name__}[/bold]' :construction:\\\")\\n            dataf = preprocessor(dataf)\\n        return NumerFrame(dataf)\\n\\n    def postprocess(self, dataf: Union[pd.DataFrame, NumerFrame]) -> NumerFrame:\\n        \\\"\\\"\\\" Run all postprocessing steps. Standardizes model prediction by default. \\\"\\\"\\\"\\n        if self.standardize:\\n            dataf = Standardizer()(dataf)\\n        for postprocessor in tqdm(self.postprocessors,\\n                                  desc=f\\\"{self.pipeline_name} Postprocessing: \\\",\\n                                  position=0):\\n            rich_print(f\\\":construction: Applying postprocessing: '[bold]{postprocessor.__class__.__name__}[/bold]' :construction:\\\")\\n            dataf = postprocessor(dataf)\\n        return NumerFrame(dataf)\\n\\n    def process_models(self, dataf: Union[pd.DataFrame, NumerFrame]) -> NumerFrame:\\n        \\\"\\\"\\\" Run all models. \\\"\\\"\\\"\\n        for model in tqdm(self.models,\\n                                  desc=f\\\"{self.pipeline_name} Model prediction: \\\",\\n                                  position=0):\\n            rich_print(f\\\":robot: Generating model predictions with '[bold]{model.__class__.__name__}[/bold]'. :robot:\\\")\\n            dataf = model(dataf)\\n        return NumerFrame(dataf)\\n\\n    def pipeline(self, dataf: Union[pd.DataFrame, NumerFrame]) -> NumerFrame:\\n        \\\"\\\"\\\" Process full pipeline and return resulting NumerFrame. \\\"\\\"\\\"\\n        preprocessed_dataf = self.preprocess(dataf)\\n        prediction_dataf = self.process_models(preprocessed_dataf)\\n        processed_prediction_dataf = self.postprocess(prediction_dataf)\\n        rich_print(f\\\":checkered_flag: [green]Finished pipeline:[green] [bold blue]'{self.pipeline_name}'[bold blue]! :checkered_flag:\\\")\\n        return processed_prediction_dataf\\n\\n    def __call__(self, dataf: Union[pd.DataFrame, NumerFrame]) -> NumerFrame:\\n        return self.pipeline(dataf)\";\n",
       "                var nbb_formatted_code = \"# export\\n@typechecked\\nclass ModelPipeline:\\n    \\\"\\\"\\\"\\n    Execute all preprocessing, prediction and postprocessing for a given setup.\\n\\n    | :param models: Initiliazed numerai-blocks Models (Objects inheriting from BaseModel) \\\\\\n    | :param preprocessors: List of initialized Preprocessors. \\\\\\n    | :param postprocessors: List of initialized Postprocessors. \\\\\\n    | :param copy_first: Whether to copy the NumerFrame as a first preprocessing step.\\n    Highly recommended in order to avoid surprise behaviour by manipulating the original dataset. \\\\\\n    | :param pipeline_name: Unique name for pipeline. Only used for display purposes.\\n    \\\"\\\"\\\"\\n\\n    def __init__(\\n        self,\\n        models: List[BaseModel],\\n        preprocessors: List[BaseProcessor] = [],\\n        postprocessors: List[BaseProcessor] = [],\\n        copy_first=True,\\n        standardize=True,\\n        pipeline_name: str = None,\\n    ):\\n        self.pipeline_name = pipeline_name if pipeline_name else uuid.uuid4().hex\\n        self.models = models\\n        self.copy_first = copy_first\\n        self.standardize = standardize\\n        self.preprocessors = preprocessors\\n        self.postprocessors = postprocessors\\n\\n    def preprocess(self, dataf: Union[pd.DataFrame, NumerFrame]) -> NumerFrame:\\n        \\\"\\\"\\\"Run all preprocessing steps. Copies input by default.\\\"\\\"\\\"\\n        if self.copy_first:\\n            dataf = CopyPreProcessor()(dataf)\\n        for preprocessor in tqdm(\\n            self.preprocessors, desc=f\\\"{self.pipeline_name} Preprocessing:\\\", position=0\\n        ):\\n            rich_print(\\n                f\\\":construction: Applying preprocessing: '[bold]{preprocessor.__class__.__name__}[/bold]' :construction:\\\"\\n            )\\n            dataf = preprocessor(dataf)\\n        return NumerFrame(dataf)\\n\\n    def postprocess(self, dataf: Union[pd.DataFrame, NumerFrame]) -> NumerFrame:\\n        \\\"\\\"\\\"Run all postprocessing steps. Standardizes model prediction by default.\\\"\\\"\\\"\\n        if self.standardize:\\n            dataf = Standardizer()(dataf)\\n        for postprocessor in tqdm(\\n            self.postprocessors,\\n            desc=f\\\"{self.pipeline_name} Postprocessing: \\\",\\n            position=0,\\n        ):\\n            rich_print(\\n                f\\\":construction: Applying postprocessing: '[bold]{postprocessor.__class__.__name__}[/bold]' :construction:\\\"\\n            )\\n            dataf = postprocessor(dataf)\\n        return NumerFrame(dataf)\\n\\n    def process_models(self, dataf: Union[pd.DataFrame, NumerFrame]) -> NumerFrame:\\n        \\\"\\\"\\\"Run all models.\\\"\\\"\\\"\\n        for model in tqdm(\\n            self.models, desc=f\\\"{self.pipeline_name} Model prediction: \\\", position=0\\n        ):\\n            rich_print(\\n                f\\\":robot: Generating model predictions with '[bold]{model.__class__.__name__}[/bold]'. :robot:\\\"\\n            )\\n            dataf = model(dataf)\\n        return NumerFrame(dataf)\\n\\n    def pipeline(self, dataf: Union[pd.DataFrame, NumerFrame]) -> NumerFrame:\\n        \\\"\\\"\\\"Process full pipeline and return resulting NumerFrame.\\\"\\\"\\\"\\n        preprocessed_dataf = self.preprocess(dataf)\\n        prediction_dataf = self.process_models(preprocessed_dataf)\\n        processed_prediction_dataf = self.postprocess(prediction_dataf)\\n        rich_print(\\n            f\\\":checkered_flag: [green]Finished pipeline:[green] [bold blue]'{self.pipeline_name}'[bold blue]! :checkered_flag:\\\"\\n        )\\n        return processed_prediction_dataf\\n\\n    def __call__(self, dataf: Union[pd.DataFrame, NumerFrame]) -> NumerFrame:\\n        return self.pipeline(dataf)\";\n",
       "                var nbb_cells = Jupyter.notebook.get_cells();\n",
       "                for (var i = 0; i < nbb_cells.length; ++i) {\n",
       "                    if (nbb_cells[i].input_prompt_number == nbb_cell_id) {\n",
       "                        if (nbb_cells[i].get_text() == nbb_unformatted_code) {\n",
       "                             nbb_cells[i].set_text(nbb_formatted_code);\n",
       "                        }\n",
       "                        break;\n",
       "                    }\n",
       "                }\n",
       "            }, 500);\n",
       "            "
      ],
      "text/plain": [
       "<IPython.core.display.Javascript object>"
      ]
     },
     "metadata": {},
     "output_type": "display_data"
    }
   ],
   "source": [
    "#| export\n",
    "@typechecked\n",
    "class ModelPipeline:\n",
    "    \"\"\"\n",
    "    Execute all preprocessing, prediction and postprocessing for a given setup.\n",
    "\n",
    "    :param models: Initiliazed numerai-blocks Models (Objects inheriting from BaseModel) \\n\n",
    "    :param preprocessors: List of initialized Preprocessors. \\n\n",
    "    :param postprocessors: List of initialized Postprocessors. \\n\n",
    "    :param copy_first: Whether to copy the NumerFrame as a first preprocessing step. \\n\n",
    "    Highly recommended in order to avoid surprise behaviour by manipulating the original dataset. \\n\n",
    "    :param pipeline_name: Unique name for pipeline. Only used for display purposes.\n",
    "    \"\"\"\n",
    "    def __init__(self,\n",
    "                 models: List[BaseModel],\n",
    "                 preprocessors: List[BaseProcessor] = [],\n",
    "                 postprocessors: List[BaseProcessor] = [],\n",
    "                 copy_first = True,\n",
    "                 standardize = True,\n",
    "                 pipeline_name: str = None):\n",
    "        self.pipeline_name = pipeline_name if pipeline_name else uuid.uuid4().hex\n",
    "        self.models = models\n",
    "        self.copy_first = copy_first\n",
    "        self.standardize = standardize\n",
    "        self.preprocessors = preprocessors\n",
    "        self.postprocessors = postprocessors\n",
    "\n",
    "    def preprocess(self, dataf: Union[pd.DataFrame, NumerFrame]) -> NumerFrame:\n",
    "        \"\"\" Run all preprocessing steps. Copies input by default. \"\"\"\n",
    "        if self.copy_first:\n",
    "            dataf = CopyPreProcessor()(dataf)\n",
    "        for preprocessor in tqdm(self.preprocessors,\n",
    "                                 desc=f\"{self.pipeline_name} Preprocessing:\",\n",
    "                                 position=0):\n",
    "            rich_print(f\":construction: Applying preprocessing: '[bold]{preprocessor.__class__.__name__}[/bold]' :construction:\")\n",
    "            dataf = preprocessor(dataf)\n",
    "        return NumerFrame(dataf)\n",
    "\n",
    "    def postprocess(self, dataf: Union[pd.DataFrame, NumerFrame]) -> NumerFrame:\n",
    "        \"\"\" Run all postprocessing steps. Standardizes model prediction by default. \"\"\"\n",
    "        if self.standardize:\n",
    "            dataf = Standardizer()(dataf)\n",
    "        for postprocessor in tqdm(self.postprocessors,\n",
    "                                  desc=f\"{self.pipeline_name} Postprocessing: \",\n",
    "                                  position=0):\n",
    "            rich_print(f\":construction: Applying postprocessing: '[bold]{postprocessor.__class__.__name__}[/bold]' :construction:\")\n",
    "            dataf = postprocessor(dataf)\n",
    "        return NumerFrame(dataf)\n",
    "\n",
    "    def process_models(self, dataf: Union[pd.DataFrame, NumerFrame]) -> NumerFrame:\n",
    "        \"\"\" Run all models. \"\"\"\n",
    "        for model in tqdm(self.models,\n",
    "                                  desc=f\"{self.pipeline_name} Model prediction: \",\n",
    "                                  position=0):\n",
    "            rich_print(f\":robot: Generating model predictions with '[bold]{model.__class__.__name__}[/bold]'. :robot:\")\n",
    "            dataf = model(dataf)\n",
    "        return NumerFrame(dataf)\n",
    "\n",
    "    def pipeline(self, dataf: Union[pd.DataFrame, NumerFrame]) -> NumerFrame:\n",
    "        \"\"\" Process full pipeline and return resulting NumerFrame. \"\"\"\n",
    "        preprocessed_dataf = self.preprocess(dataf)\n",
    "        prediction_dataf = self.process_models(preprocessed_dataf)\n",
    "        processed_prediction_dataf = self.postprocess(prediction_dataf)\n",
    "        rich_print(f\":checkered_flag: [green]Finished pipeline:[green] [bold blue]'{self.pipeline_name}'[bold blue]! :checkered_flag:\")\n",
    "        return processed_prediction_dataf\n",
    "\n",
    "    def __call__(self, dataf: Union[pd.DataFrame, NumerFrame]) -> NumerFrame:\n",
    "        return self.pipeline(dataf)"
   ]
  },
  {
   "cell_type": "markdown",
   "metadata": {
    "collapsed": false
   },
   "source": [
    "Example using several preprocessor, dummy models and postprocessors"
   ]
  },
  {
   "cell_type": "code",
   "execution_count": 6,
   "metadata": {},
   "outputs": [
    {
     "data": {
      "application/javascript": [
       "\n",
       "            setTimeout(function() {\n",
       "                var nbb_cell_id = 6;\n",
       "                var nbb_unformatted_code = \"model_names = [\\\"test_0.5\\\", \\\"test_0.8\\\"]\\n\\ndataf = create_numerframe(\\\"test_assets/mini_numerai_version_1_data.csv\\\", metadata={'version': 1})\\npreprocessors = [GroupStatsPreProcessor(), FeatureSelectionPreProcessor(feature_cols=['feature_intelligence_mean', 'feature_intelligence_std'])]\\nmodels = [ConstantModel(constant=0.5, model_name=model_names[0]), ConstantModel(constant=0.8, model_name=model_names[1])]\\npostprocessors = [MeanEnsembler(cols=[f\\\"prediction_{name}\\\" for name in model_names], final_col_name='prediction_ensembled'),\\n                  FeatureNeutralizer(feature_names=['feature_intelligence_mean', 'feature_intelligence_std'],\\n                                     pred_name='prediction_ensembled', proportion=0.8)]\";\n",
       "                var nbb_formatted_code = \"model_names = [\\\"test_0.5\\\", \\\"test_0.8\\\"]\\n\\ndataf = create_numerframe(\\n    \\\"test_assets/mini_numerai_version_1_data.csv\\\", metadata={\\\"version\\\": 1}\\n)\\npreprocessors = [\\n    GroupStatsPreProcessor(),\\n    FeatureSelectionPreProcessor(\\n        feature_cols=[\\\"feature_intelligence_mean\\\", \\\"feature_intelligence_std\\\"]\\n    ),\\n]\\nmodels = [\\n    ConstantModel(constant=0.5, model_name=model_names[0]),\\n    ConstantModel(constant=0.8, model_name=model_names[1]),\\n]\\npostprocessors = [\\n    MeanEnsembler(\\n        cols=[f\\\"prediction_{name}\\\" for name in model_names],\\n        final_col_name=\\\"prediction_ensembled\\\",\\n    ),\\n    FeatureNeutralizer(\\n        feature_names=[\\\"feature_intelligence_mean\\\", \\\"feature_intelligence_std\\\"],\\n        pred_name=\\\"prediction_ensembled\\\",\\n        proportion=0.8,\\n    ),\\n]\";\n",
       "                var nbb_cells = Jupyter.notebook.get_cells();\n",
       "                for (var i = 0; i < nbb_cells.length; ++i) {\n",
       "                    if (nbb_cells[i].input_prompt_number == nbb_cell_id) {\n",
       "                        if (nbb_cells[i].get_text() == nbb_unformatted_code) {\n",
       "                             nbb_cells[i].set_text(nbb_formatted_code);\n",
       "                        }\n",
       "                        break;\n",
       "                    }\n",
       "                }\n",
       "            }, 500);\n",
       "            "
      ],
      "text/plain": [
       "<IPython.core.display.Javascript object>"
      ]
     },
     "metadata": {},
     "output_type": "display_data"
    }
   ],
   "source": [
    "model_names = [\"test_0.5\", \"test_0.8\"]\n",
    "\n",
    "dataf = create_numerframe(\"test_assets/mini_numerai_version_1_data.csv\", metadata={'version': 1})\n",
    "preprocessors = [GroupStatsPreProcessor(), FeatureSelectionPreProcessor(feature_cols=['feature_intelligence_mean', 'feature_intelligence_std'])]\n",
    "models = [ConstantModel(constant=0.5, model_name=model_names[0]), ConstantModel(constant=0.8, model_name=model_names[1])]\n",
    "postprocessors = [MeanEnsembler(cols=[f\"prediction_{name}\" for name in model_names], final_col_name='prediction_ensembled'),\n",
    "                  FeatureNeutralizer(feature_names=['feature_intelligence_mean', 'feature_intelligence_std'],\n",
    "                                     pred_name='prediction_ensembled', proportion=0.8)]"
   ]
  },
  {
   "cell_type": "code",
   "execution_count": 7,
   "metadata": {},
   "outputs": [
    {
     "data": {
      "text/html": [
       "<pre style=\"white-space:pre;overflow-x:auto;line-height:normal;font-family:Menlo,'DejaVu Sans Mono',consolas,'Courier New',monospace\">✅ Finished step <span style=\"font-weight: bold\">CopyPreProcessor</span>. Output <span style=\"color: #808000; text-decoration-color: #808000\">shape</span>=<span style=\"font-weight: bold\">(</span><span style=\"color: #008080; text-decoration-color: #008080; font-weight: bold\">10</span>, <span style=\"color: #008080; text-decoration-color: #008080; font-weight: bold\">314</span><span style=\"font-weight: bold\">)</span>. Time taken for step: \n",
       "<span style=\"color: #000080; text-decoration-color: #000080; font-weight: bold\">0:00:00</span><span style=\"color: #000080; text-decoration-color: #000080\">.</span><span style=\"color: #000080; text-decoration-color: #000080; font-weight: bold\">004304</span>. ✅\n",
       "</pre>\n"
      ],
      "text/plain": [
       "✅ Finished step \u001b[1mCopyPreProcessor\u001b[0m. Output \u001b[33mshape\u001b[0m=\u001b[1m(\u001b[0m\u001b[1;36m10\u001b[0m, \u001b[1;36m314\u001b[0m\u001b[1m)\u001b[0m. Time taken for step: \n",
       "\u001b[1;34m0:00:00\u001b[0m\u001b[34m.\u001b[0m\u001b[1;34m004304\u001b[0m. ✅\n"
      ]
     },
     "metadata": {},
     "output_type": "display_data"
    },
    {
     "data": {
      "application/vnd.jupyter.widget-view+json": {
       "model_id": "da332937e7c74a4bbc40970e71b980a8",
       "version_major": 2,
       "version_minor": 0
      },
      "text/plain": [
       "test_pipeline Preprocessing::   0%|          | 0/2 [00:00<?, ?it/s]"
      ]
     },
     "metadata": {},
     "output_type": "display_data"
    },
    {
     "data": {
      "text/html": [
       "<pre style=\"white-space:pre;overflow-x:auto;line-height:normal;font-family:Menlo,'DejaVu Sans Mono',consolas,'Courier New',monospace\">🚧 Applying preprocessing: <span style=\"color: #008000; text-decoration-color: #008000\">'</span><span style=\"color: #008000; text-decoration-color: #008000; font-weight: bold\">GroupStatsPreProcessor</span><span style=\"color: #008000; text-decoration-color: #008000\">'</span> 🚧\n",
       "</pre>\n"
      ],
      "text/plain": [
       "🚧 Applying preprocessing: \u001b[32m'\u001b[0m\u001b[1;32mGroupStatsPreProcessor\u001b[0m\u001b[32m'\u001b[0m 🚧\n"
      ]
     },
     "metadata": {},
     "output_type": "display_data"
    },
    {
     "data": {
      "text/html": [
       "<pre style=\"white-space:pre;overflow-x:auto;line-height:normal;font-family:Menlo,'DejaVu Sans Mono',consolas,'Courier New',monospace\">✅ Finished step <span style=\"font-weight: bold\">GroupStatsPreProcessor</span>. Output <span style=\"color: #808000; text-decoration-color: #808000\">shape</span>=<span style=\"font-weight: bold\">(</span><span style=\"color: #008080; text-decoration-color: #008080; font-weight: bold\">10</span>, <span style=\"color: #008080; text-decoration-color: #008080; font-weight: bold\">332</span><span style=\"font-weight: bold\">)</span>. Time taken for step: \n",
       "<span style=\"color: #000080; text-decoration-color: #000080; font-weight: bold\">0:00:00</span><span style=\"color: #000080; text-decoration-color: #000080\">.</span><span style=\"color: #000080; text-decoration-color: #000080; font-weight: bold\">065916</span>. ✅\n",
       "</pre>\n"
      ],
      "text/plain": [
       "✅ Finished step \u001b[1mGroupStatsPreProcessor\u001b[0m. Output \u001b[33mshape\u001b[0m=\u001b[1m(\u001b[0m\u001b[1;36m10\u001b[0m, \u001b[1;36m332\u001b[0m\u001b[1m)\u001b[0m. Time taken for step: \n",
       "\u001b[1;34m0:00:00\u001b[0m\u001b[34m.\u001b[0m\u001b[1;34m065916\u001b[0m. ✅\n"
      ]
     },
     "metadata": {},
     "output_type": "display_data"
    },
    {
     "data": {
      "text/html": [
       "<pre style=\"white-space:pre;overflow-x:auto;line-height:normal;font-family:Menlo,'DejaVu Sans Mono',consolas,'Courier New',monospace\">🚧 Applying preprocessing: <span style=\"color: #008000; text-decoration-color: #008000\">'</span><span style=\"color: #008000; text-decoration-color: #008000; font-weight: bold\">FeatureSelectionPreProcessor</span><span style=\"color: #008000; text-decoration-color: #008000\">'</span> 🚧\n",
       "</pre>\n"
      ],
      "text/plain": [
       "🚧 Applying preprocessing: \u001b[32m'\u001b[0m\u001b[1;32mFeatureSelectionPreProcessor\u001b[0m\u001b[32m'\u001b[0m 🚧\n"
      ]
     },
     "metadata": {},
     "output_type": "display_data"
    },
    {
     "data": {
      "text/html": [
       "<pre style=\"white-space:pre;overflow-x:auto;line-height:normal;font-family:Menlo,'DejaVu Sans Mono',consolas,'Courier New',monospace\">✅ Finished step <span style=\"font-weight: bold\">FeatureSelectionPreProcessor</span>. Output <span style=\"color: #808000; text-decoration-color: #808000\">shape</span>=<span style=\"font-weight: bold\">(</span><span style=\"color: #008080; text-decoration-color: #008080; font-weight: bold\">10</span>, <span style=\"color: #008080; text-decoration-color: #008080; font-weight: bold\">6</span><span style=\"font-weight: bold\">)</span>. Time taken for step: \n",
       "<span style=\"color: #000080; text-decoration-color: #000080; font-weight: bold\">0:00:00</span><span style=\"color: #000080; text-decoration-color: #000080\">.</span><span style=\"color: #000080; text-decoration-color: #000080; font-weight: bold\">002979</span>. ✅\n",
       "</pre>\n"
      ],
      "text/plain": [
       "✅ Finished step \u001b[1mFeatureSelectionPreProcessor\u001b[0m. Output \u001b[33mshape\u001b[0m=\u001b[1m(\u001b[0m\u001b[1;36m10\u001b[0m, \u001b[1;36m6\u001b[0m\u001b[1m)\u001b[0m. Time taken for step: \n",
       "\u001b[1;34m0:00:00\u001b[0m\u001b[34m.\u001b[0m\u001b[1;34m002979\u001b[0m. ✅\n"
      ]
     },
     "metadata": {},
     "output_type": "display_data"
    },
    {
     "data": {
      "application/vnd.jupyter.widget-view+json": {
       "model_id": "9ab6b0772cab49478c692326934b8935",
       "version_major": 2,
       "version_minor": 0
      },
      "text/plain": [
       "test_pipeline Model prediction:   0%|          | 0/2 [00:00<?, ?it/s]"
      ]
     },
     "metadata": {},
     "output_type": "display_data"
    },
    {
     "data": {
      "text/html": [
       "<pre style=\"white-space:pre;overflow-x:auto;line-height:normal;font-family:Menlo,'DejaVu Sans Mono',consolas,'Courier New',monospace\">🤖 Generating model predictions with <span style=\"color: #008000; text-decoration-color: #008000\">'</span><span style=\"color: #008000; text-decoration-color: #008000; font-weight: bold\">ConstantModel</span><span style=\"color: #008000; text-decoration-color: #008000\">'</span>. 🤖\n",
       "</pre>\n"
      ],
      "text/plain": [
       "🤖 Generating model predictions with \u001b[32m'\u001b[0m\u001b[1;32mConstantModel\u001b[0m\u001b[32m'\u001b[0m. 🤖\n"
      ]
     },
     "metadata": {},
     "output_type": "display_data"
    },
    {
     "data": {
      "text/html": [
       "<pre style=\"white-space:pre;overflow-x:auto;line-height:normal;font-family:Menlo,'DejaVu Sans Mono',consolas,'Courier New',monospace\">🤖 Generating model predictions with <span style=\"color: #008000; text-decoration-color: #008000\">'</span><span style=\"color: #008000; text-decoration-color: #008000; font-weight: bold\">ConstantModel</span><span style=\"color: #008000; text-decoration-color: #008000\">'</span>. 🤖\n",
       "</pre>\n"
      ],
      "text/plain": [
       "🤖 Generating model predictions with \u001b[32m'\u001b[0m\u001b[1;32mConstantModel\u001b[0m\u001b[32m'\u001b[0m. 🤖\n"
      ]
     },
     "metadata": {},
     "output_type": "display_data"
    },
    {
     "data": {
      "application/vnd.jupyter.widget-view+json": {
       "model_id": "fd9d486a84c34bfdb8fcf623969aea29",
       "version_major": 2,
       "version_minor": 0
      },
      "text/plain": [
       "test_pipeline Postprocessing:   0%|          | 0/2 [00:00<?, ?it/s]"
      ]
     },
     "metadata": {},
     "output_type": "display_data"
    },
    {
     "data": {
      "text/html": [
       "<pre style=\"white-space:pre;overflow-x:auto;line-height:normal;font-family:Menlo,'DejaVu Sans Mono',consolas,'Courier New',monospace\">🚧 Applying postprocessing: <span style=\"color: #008000; text-decoration-color: #008000\">'</span><span style=\"color: #008000; text-decoration-color: #008000; font-weight: bold\">MeanEnsembler</span><span style=\"color: #008000; text-decoration-color: #008000\">'</span> 🚧\n",
       "</pre>\n"
      ],
      "text/plain": [
       "🚧 Applying postprocessing: \u001b[32m'\u001b[0m\u001b[1;32mMeanEnsembler\u001b[0m\u001b[32m'\u001b[0m 🚧\n"
      ]
     },
     "metadata": {},
     "output_type": "display_data"
    },
    {
     "data": {
      "text/html": [
       "<pre style=\"white-space:pre;overflow-x:auto;line-height:normal;font-family:Menlo,'DejaVu Sans Mono',consolas,'Courier New',monospace\">🍲 Ensembled <span style=\"color: #000080; text-decoration-color: #000080\">'['</span><span style=\"color: #000080; text-decoration-color: #000080\">prediction_test_0.</span><span style=\"color: #000080; text-decoration-color: #000080; font-weight: bold\">5</span><span style=\"color: #000080; text-decoration-color: #000080\">', </span><span style=\"color: #000080; text-decoration-color: #000080\">'prediction_test_0.8'</span><span style=\"color: #000080; text-decoration-color: #000080; font-weight: bold\">]</span><span style=\"color: #000080; text-decoration-color: #000080\">' with simple mean and saved in </span>\n",
       "<span style=\"color: #000080; text-decoration-color: #000080; font-weight: bold\">'</span><span style=\"color: #000080; text-decoration-color: #000080; font-weight: bold\">prediction_ensembled' 🍲</span>\n",
       "</pre>\n"
      ],
      "text/plain": [
       "🍲 Ensembled \u001b[34m'\u001b[0m\u001b[34m[\u001b[0m\u001b[34m'\u001b[0m\u001b[34mprediction_test_0.\u001b[0m\u001b[1;34m5\u001b[0m\u001b[34m', \u001b[0m\u001b[34m'prediction_test_0.8'\u001b[0m\u001b[1;34m]\u001b[0m\u001b[34m'\u001b[0m\u001b[34m with simple mean and saved in \u001b[0m\n",
       "\u001b[1;34m'\u001b[0m\u001b[1;34mprediction_ensembled'\u001b[0m\u001b[1;34m 🍲\u001b[0m\n"
      ]
     },
     "metadata": {},
     "output_type": "display_data"
    },
    {
     "data": {
      "text/html": [
       "<pre style=\"white-space:pre;overflow-x:auto;line-height:normal;font-family:Menlo,'DejaVu Sans Mono',consolas,'Courier New',monospace\">✅ Finished step <span style=\"font-weight: bold\">MeanEnsembler</span>. Output <span style=\"color: #808000; text-decoration-color: #808000\">shape</span>=<span style=\"font-weight: bold\">(</span><span style=\"color: #008080; text-decoration-color: #008080; font-weight: bold\">10</span>, <span style=\"color: #008080; text-decoration-color: #008080; font-weight: bold\">9</span><span style=\"font-weight: bold\">)</span>. Time taken for step: <span style=\"color: #000080; text-decoration-color: #000080; font-weight: bold\">0:00:00</span><span style=\"color: #000080; text-decoration-color: #000080\">.</span><span style=\"color: #000080; text-decoration-color: #000080; font-weight: bold\">016568</span>. ✅\n",
       "</pre>\n"
      ],
      "text/plain": [
       "✅ Finished step \u001b[1mMeanEnsembler\u001b[0m. Output \u001b[33mshape\u001b[0m=\u001b[1m(\u001b[0m\u001b[1;36m10\u001b[0m, \u001b[1;36m9\u001b[0m\u001b[1m)\u001b[0m. Time taken for step: \u001b[1;34m0:00:00\u001b[0m\u001b[34m.\u001b[0m\u001b[1;34m016568\u001b[0m. ✅\n"
      ]
     },
     "metadata": {},
     "output_type": "display_data"
    },
    {
     "data": {
      "text/html": [
       "<pre style=\"white-space:pre;overflow-x:auto;line-height:normal;font-family:Menlo,'DejaVu Sans Mono',consolas,'Courier New',monospace\">🚧 Applying postprocessing: <span style=\"color: #008000; text-decoration-color: #008000\">'</span><span style=\"color: #008000; text-decoration-color: #008000; font-weight: bold\">FeatureNeutralizer</span><span style=\"color: #008000; text-decoration-color: #008000\">'</span> 🚧\n",
       "</pre>\n"
      ],
      "text/plain": [
       "🚧 Applying postprocessing: \u001b[32m'\u001b[0m\u001b[1;32mFeatureNeutralizer\u001b[0m\u001b[32m'\u001b[0m 🚧\n"
      ]
     },
     "metadata": {},
     "output_type": "display_data"
    },
    {
     "data": {
      "text/html": [
       "<pre style=\"white-space:pre;overflow-x:auto;line-height:normal;font-family:Menlo,'DejaVu Sans Mono',consolas,'Courier New',monospace\">🤖 Neutralized <span style=\"color: #000080; text-decoration-color: #000080; font-weight: bold\">'prediction_ensembled'</span><span style=\"color: #000080; text-decoration-color: #000080; font-weight: bold\"> with proportion </span><span style=\"color: #000080; text-decoration-color: #000080; font-weight: bold\">'0.8'</span><span style=\"color: #000080; text-decoration-color: #000080; font-weight: bold\"> 🤖</span>\n",
       "</pre>\n"
      ],
      "text/plain": [
       "🤖 Neutralized \u001b[1;34m'prediction_ensembled'\u001b[0m\u001b[1;34m with proportion \u001b[0m\u001b[1;34m'0.8'\u001b[0m\u001b[1;34m 🤖\u001b[0m\n"
      ]
     },
     "metadata": {},
     "output_type": "display_data"
    },
    {
     "data": {
      "text/html": [
       "<pre style=\"white-space:pre;overflow-x:auto;line-height:normal;font-family:Menlo,'DejaVu Sans Mono',consolas,'Courier New',monospace\">New neutralized column = <span style=\"color: #008000; text-decoration-color: #008000; font-weight: bold\">'prediction_ensembled_neutralized_0.8'</span>.\n",
       "</pre>\n"
      ],
      "text/plain": [
       "New neutralized column = \u001b[1;32m'prediction_ensembled_neutralized_0.8'\u001b[0m.\n"
      ]
     },
     "metadata": {},
     "output_type": "display_data"
    },
    {
     "data": {
      "text/html": [
       "<pre style=\"white-space:pre;overflow-x:auto;line-height:normal;font-family:Menlo,'DejaVu Sans Mono',consolas,'Courier New',monospace\">✅ Finished step <span style=\"font-weight: bold\">FeatureNeutralizer</span>. Output <span style=\"color: #808000; text-decoration-color: #808000\">shape</span>=<span style=\"font-weight: bold\">(</span><span style=\"color: #008080; text-decoration-color: #008080; font-weight: bold\">10</span>, <span style=\"color: #008080; text-decoration-color: #008080; font-weight: bold\">10</span><span style=\"font-weight: bold\">)</span>. Time taken for step: \n",
       "<span style=\"color: #000080; text-decoration-color: #000080; font-weight: bold\">0:00:00</span><span style=\"color: #000080; text-decoration-color: #000080\">.</span><span style=\"color: #000080; text-decoration-color: #000080; font-weight: bold\">062018</span>. ✅\n",
       "</pre>\n"
      ],
      "text/plain": [
       "✅ Finished step \u001b[1mFeatureNeutralizer\u001b[0m. Output \u001b[33mshape\u001b[0m=\u001b[1m(\u001b[0m\u001b[1;36m10\u001b[0m, \u001b[1;36m10\u001b[0m\u001b[1m)\u001b[0m. Time taken for step: \n",
       "\u001b[1;34m0:00:00\u001b[0m\u001b[34m.\u001b[0m\u001b[1;34m062018\u001b[0m. ✅\n"
      ]
     },
     "metadata": {},
     "output_type": "display_data"
    },
    {
     "data": {
      "text/html": [
       "<pre style=\"white-space:pre;overflow-x:auto;line-height:normal;font-family:Menlo,'DejaVu Sans Mono',consolas,'Courier New',monospace\">🏁 <span style=\"color: #008000; text-decoration-color: #008000\">Finished pipeline: </span><span style=\"color: #000080; text-decoration-color: #000080; font-weight: bold\">'test_pipeline'</span><span style=\"color: #000080; text-decoration-color: #000080; font-weight: bold\">! 🏁</span>\n",
       "</pre>\n"
      ],
      "text/plain": [
       "🏁 \u001b[32mFinished pipeline:\u001b[0m\u001b[32m \u001b[0m\u001b[1;34m'test_pipeline'\u001b[0m\u001b[1;34m! 🏁\u001b[0m\n"
      ]
     },
     "metadata": {},
     "output_type": "display_data"
    },
    {
     "data": {
      "application/javascript": [
       "\n",
       "            setTimeout(function() {\n",
       "                var nbb_cell_id = 7;\n",
       "                var nbb_unformatted_code = \"test_pipeline = ModelPipeline(preprocessors=preprocessors, models=models,\\n                              postprocessors=postprocessors, pipeline_name=\\\"test_pipeline\\\",\\n                              standardize=False)\\nprocessed_dataf = test_pipeline(dataf)\";\n",
       "                var nbb_formatted_code = \"test_pipeline = ModelPipeline(\\n    preprocessors=preprocessors,\\n    models=models,\\n    postprocessors=postprocessors,\\n    pipeline_name=\\\"test_pipeline\\\",\\n    standardize=False,\\n)\\nprocessed_dataf = test_pipeline(dataf)\";\n",
       "                var nbb_cells = Jupyter.notebook.get_cells();\n",
       "                for (var i = 0; i < nbb_cells.length; ++i) {\n",
       "                    if (nbb_cells[i].input_prompt_number == nbb_cell_id) {\n",
       "                        if (nbb_cells[i].get_text() == nbb_unformatted_code) {\n",
       "                             nbb_cells[i].set_text(nbb_formatted_code);\n",
       "                        }\n",
       "                        break;\n",
       "                    }\n",
       "                }\n",
       "            }, 500);\n",
       "            "
      ],
      "text/plain": [
       "<IPython.core.display.Javascript object>"
      ]
     },
     "metadata": {},
     "output_type": "display_data"
    }
   ],
   "source": [
    "test_pipeline = ModelPipeline(preprocessors=preprocessors, models=models,\n",
    "                              postprocessors=postprocessors, pipeline_name=\"test_pipeline\",\n",
    "                              standardize=False)\n",
    "processed_dataf = test_pipeline(dataf)"
   ]
  },
  {
   "cell_type": "code",
   "execution_count": 8,
   "metadata": {},
   "outputs": [
    {
     "data": {
      "text/html": [
       "<div>\n",
       "<style scoped>\n",
       "    .dataframe tbody tr th:only-of-type {\n",
       "        vertical-align: middle;\n",
       "    }\n",
       "\n",
       "    .dataframe tbody tr th {\n",
       "        vertical-align: top;\n",
       "    }\n",
       "\n",
       "    .dataframe thead th {\n",
       "        text-align: right;\n",
       "    }\n",
       "</style>\n",
       "<table border=\"1\" class=\"dataframe\">\n",
       "  <thead>\n",
       "    <tr style=\"text-align: right;\">\n",
       "      <th></th>\n",
       "      <th>feature_intelligence_mean</th>\n",
       "      <th>feature_intelligence_std</th>\n",
       "      <th>target</th>\n",
       "      <th>id</th>\n",
       "      <th>era</th>\n",
       "      <th>data_type</th>\n",
       "      <th>prediction_test_0.5</th>\n",
       "      <th>prediction_test_0.8</th>\n",
       "      <th>prediction_ensembled</th>\n",
       "      <th>prediction_ensembled_neutralized_0.8</th>\n",
       "    </tr>\n",
       "  </thead>\n",
       "  <tbody>\n",
       "    <tr>\n",
       "      <th>0</th>\n",
       "      <td>0.333333</td>\n",
       "      <td>0.246183</td>\n",
       "      <td>0.50</td>\n",
       "      <td>n000315175b67977</td>\n",
       "      <td>era1</td>\n",
       "      <td>train</td>\n",
       "      <td>0.5</td>\n",
       "      <td>0.8</td>\n",
       "      <td>0.65</td>\n",
       "      <td>0.00000</td>\n",
       "    </tr>\n",
       "    <tr>\n",
       "      <th>1</th>\n",
       "      <td>0.208333</td>\n",
       "      <td>0.234359</td>\n",
       "      <td>0.25</td>\n",
       "      <td>n0014af834a96cdd</td>\n",
       "      <td>era1</td>\n",
       "      <td>train</td>\n",
       "      <td>0.5</td>\n",
       "      <td>0.8</td>\n",
       "      <td>0.65</td>\n",
       "      <td>0.36088</td>\n",
       "    </tr>\n",
       "  </tbody>\n",
       "</table>\n",
       "</div>"
      ],
      "text/plain": [
       "   feature_intelligence_mean  feature_intelligence_std  target  \\\n",
       "0                   0.333333                  0.246183    0.50   \n",
       "1                   0.208333                  0.234359    0.25   \n",
       "\n",
       "                 id   era data_type  prediction_test_0.5  prediction_test_0.8  \\\n",
       "0  n000315175b67977  era1     train                  0.5                  0.8   \n",
       "1  n0014af834a96cdd  era1     train                  0.5                  0.8   \n",
       "\n",
       "   prediction_ensembled  prediction_ensembled_neutralized_0.8  \n",
       "0                  0.65                               0.00000  \n",
       "1                  0.65                               0.36088  "
      ]
     },
     "execution_count": 8,
     "metadata": {},
     "output_type": "execute_result"
    },
    {
     "data": {
      "application/javascript": [
       "\n",
       "            setTimeout(function() {\n",
       "                var nbb_cell_id = 8;\n",
       "                var nbb_unformatted_code = \"assert processed_dataf.meta == dataf.meta\\nassert isinstance(processed_dataf, NumerFrame)\\nprocessed_dataf.head(2)\";\n",
       "                var nbb_formatted_code = \"assert processed_dataf.meta == dataf.meta\\nassert isinstance(processed_dataf, NumerFrame)\\nprocessed_dataf.head(2)\";\n",
       "                var nbb_cells = Jupyter.notebook.get_cells();\n",
       "                for (var i = 0; i < nbb_cells.length; ++i) {\n",
       "                    if (nbb_cells[i].input_prompt_number == nbb_cell_id) {\n",
       "                        if (nbb_cells[i].get_text() == nbb_unformatted_code) {\n",
       "                             nbb_cells[i].set_text(nbb_formatted_code);\n",
       "                        }\n",
       "                        break;\n",
       "                    }\n",
       "                }\n",
       "            }, 500);\n",
       "            "
      ],
      "text/plain": [
       "<IPython.core.display.Javascript object>"
      ]
     },
     "metadata": {},
     "output_type": "display_data"
    }
   ],
   "source": [
    "assert processed_dataf.meta == dataf.meta\n",
    "assert isinstance(processed_dataf, NumerFrame)\n",
    "processed_dataf.head(2)"
   ]
  },
  {
   "cell_type": "markdown",
   "metadata": {},
   "source": [
    "## 2. ModelPipelineCollection"
   ]
  },
  {
   "cell_type": "markdown",
   "metadata": {},
   "source": [
    "`ModelPipelineCollection` can be used to manage and run multiple `ModelPipeline` objects.\n",
    "\n",
    "`ModelPipelineCollection` simply takes a list of `ModelPipeline` objects as input."
   ]
  },
  {
   "cell_type": "code",
   "execution_count": 9,
   "metadata": {},
   "outputs": [
    {
     "data": {
      "application/javascript": [
       "\n",
       "            setTimeout(function() {\n",
       "                var nbb_cell_id = 9;\n",
       "                var nbb_unformatted_code = \"#export\\n@typechecked\\nclass ModelPipelineCollection:\\n    \\\"\\\"\\\"\\n    Execute multiple initialized ModelPipelines in a sequence.\\n\\n    :param pipelines: List of initialized ModelPipelines.\\n    \\\"\\\"\\\"\\n    def __init__(self, pipelines: List[ModelPipeline]):\\n        self.pipelines = {pipe.pipeline_name: pipe for pipe in pipelines}\\n        self.pipeline_names = list(self.pipelines.keys())\\n\\n    def process_all_pipelines(self, dataf: Union[pd.DataFrame, NumerFrame]) -> Dict[str, NumerFrame]:\\n        \\\"\\\"\\\" Process all pipelines and return Dictionary mapping pipeline names to resulting NumerFrames. \\\"\\\"\\\"\\n        result_datafs = dict()\\n        for name, pipeline in tqdm(self.pipelines.items(),\\n                                   desc=\\\"Processing Pipeline Collection\\\"):\\n            result_datafs[name] = self.process_single_pipeline(dataf, name)\\n        return result_datafs\\n\\n    def process_single_pipeline(self, dataf: Union[pd.DataFrame, NumerFrame], pipeline_name: str) -> NumerFrame:\\n        \\\"\\\"\\\" Run full model pipeline for given name in collection. \\\"\\\"\\\"\\n        rich_print(f\\\":construction_worker: [bold green]Processing model pipeline:[/bold green] '{pipeline_name}' :construction_worker:\\\")\\n        pipeline = self.get_pipeline(pipeline_name)\\n        dataf = pipeline(dataf)\\n        return NumerFrame(dataf)\\n\\n    def get_pipeline(self, pipeline_name: str) -> ModelPipeline:\\n        \\\"\\\"\\\" Retrieve model pipeline for given name. \\\"\\\"\\\"\\n        available_pipelines = self.pipeline_names\\n        assert pipeline_name in available_pipelines, f\\\"Requested pipeline '{pipeline_name}', but only the following models are in the collection: '{available_pipelines}'.\\\"\\n        return self.pipelines[pipeline_name]\\n\\n    def __call__(self, dataf: Union[pd.DataFrame, NumerFrame]) -> Dict[str, NumerFrame]:\\n        return self.process_all_pipelines(dataf=dataf)\";\n",
       "                var nbb_formatted_code = \"# export\\n@typechecked\\nclass ModelPipelineCollection:\\n    \\\"\\\"\\\"\\n    Execute multiple initialized ModelPipelines in a sequence.\\n\\n    :param pipelines: List of initialized ModelPipelines.\\n    \\\"\\\"\\\"\\n\\n    def __init__(self, pipelines: List[ModelPipeline]):\\n        self.pipelines = {pipe.pipeline_name: pipe for pipe in pipelines}\\n        self.pipeline_names = list(self.pipelines.keys())\\n\\n    def process_all_pipelines(\\n        self, dataf: Union[pd.DataFrame, NumerFrame]\\n    ) -> Dict[str, NumerFrame]:\\n        \\\"\\\"\\\"Process all pipelines and return Dictionary mapping pipeline names to resulting NumerFrames.\\\"\\\"\\\"\\n        result_datafs = dict()\\n        for name, pipeline in tqdm(\\n            self.pipelines.items(), desc=\\\"Processing Pipeline Collection\\\"\\n        ):\\n            result_datafs[name] = self.process_single_pipeline(dataf, name)\\n        return result_datafs\\n\\n    def process_single_pipeline(\\n        self, dataf: Union[pd.DataFrame, NumerFrame], pipeline_name: str\\n    ) -> NumerFrame:\\n        \\\"\\\"\\\"Run full model pipeline for given name in collection.\\\"\\\"\\\"\\n        rich_print(\\n            f\\\":construction_worker: [bold green]Processing model pipeline:[/bold green] '{pipeline_name}' :construction_worker:\\\"\\n        )\\n        pipeline = self.get_pipeline(pipeline_name)\\n        dataf = pipeline(dataf)\\n        return NumerFrame(dataf)\\n\\n    def get_pipeline(self, pipeline_name: str) -> ModelPipeline:\\n        \\\"\\\"\\\"Retrieve model pipeline for given name.\\\"\\\"\\\"\\n        available_pipelines = self.pipeline_names\\n        assert (\\n            pipeline_name in available_pipelines\\n        ), f\\\"Requested pipeline '{pipeline_name}', but only the following models are in the collection: '{available_pipelines}'.\\\"\\n        return self.pipelines[pipeline_name]\\n\\n    def __call__(self, dataf: Union[pd.DataFrame, NumerFrame]) -> Dict[str, NumerFrame]:\\n        return self.process_all_pipelines(dataf=dataf)\";\n",
       "                var nbb_cells = Jupyter.notebook.get_cells();\n",
       "                for (var i = 0; i < nbb_cells.length; ++i) {\n",
       "                    if (nbb_cells[i].input_prompt_number == nbb_cell_id) {\n",
       "                        if (nbb_cells[i].get_text() == nbb_unformatted_code) {\n",
       "                             nbb_cells[i].set_text(nbb_formatted_code);\n",
       "                        }\n",
       "                        break;\n",
       "                    }\n",
       "                }\n",
       "            }, 500);\n",
       "            "
      ],
      "text/plain": [
       "<IPython.core.display.Javascript object>"
      ]
     },
     "metadata": {},
     "output_type": "display_data"
    }
   ],
   "source": [
    "#| export\n",
    "@typechecked\n",
    "class ModelPipelineCollection:\n",
    "    \"\"\"\n",
    "    Execute multiple initialized ModelPipelines in a sequence.\n",
    "\n",
    "    :param pipelines: List of initialized ModelPipelines.\n",
    "    \"\"\"\n",
    "    def __init__(self, pipelines: List[ModelPipeline]):\n",
    "        self.pipelines = {pipe.pipeline_name: pipe for pipe in pipelines}\n",
    "        self.pipeline_names = list(self.pipelines.keys())\n",
    "\n",
    "    def process_all_pipelines(self, dataf: Union[pd.DataFrame, NumerFrame]) -> Dict[str, NumerFrame]:\n",
    "        \"\"\" Process all pipelines and return Dictionary mapping pipeline names to resulting NumerFrames. \"\"\"\n",
    "        result_datafs = dict()\n",
    "        for name, pipeline in tqdm(self.pipelines.items(),\n",
    "                                   desc=\"Processing Pipeline Collection\"):\n",
    "            result_datafs[name] = self.process_single_pipeline(dataf, name)\n",
    "        return result_datafs\n",
    "\n",
    "    def process_single_pipeline(self, dataf: Union[pd.DataFrame, NumerFrame], pipeline_name: str) -> NumerFrame:\n",
    "        \"\"\" Run full model pipeline for given name in collection. \"\"\"\n",
    "        rich_print(f\":construction_worker: [bold green]Processing model pipeline:[/bold green] '{pipeline_name}' :construction_worker:\")\n",
    "        pipeline = self.get_pipeline(pipeline_name)\n",
    "        dataf = pipeline(dataf)\n",
    "        return NumerFrame(dataf)\n",
    "\n",
    "    def get_pipeline(self, pipeline_name: str) -> ModelPipeline:\n",
    "        \"\"\" Retrieve model pipeline for given name. \"\"\"\n",
    "        available_pipelines = self.pipeline_names\n",
    "        assert pipeline_name in available_pipelines, f\"Requested pipeline '{pipeline_name}', but only the following models are in the collection: '{available_pipelines}'.\"\n",
    "        return self.pipelines[pipeline_name]\n",
    "\n",
    "    def __call__(self, dataf: Union[pd.DataFrame, NumerFrame]) -> Dict[str, NumerFrame]:\n",
    "        return self.process_all_pipelines(dataf=dataf)"
   ]
  },
  {
   "cell_type": "markdown",
   "metadata": {
    "collapsed": false
   },
   "source": [
    "We introduce a different pipeline with no preprocessing or postprocessing. Only a `RandomModel`."
   ]
  },
  {
   "cell_type": "code",
   "execution_count": 10,
   "metadata": {},
   "outputs": [
    {
     "data": {
      "application/javascript": [
       "\n",
       "            setTimeout(function() {\n",
       "                var nbb_cell_id = 10;\n",
       "                var nbb_unformatted_code = \"test_pipeline2 = ModelPipeline(models=[RandomModel()], pipeline_name=\\\"test_pipeline2\\\")\";\n",
       "                var nbb_formatted_code = \"test_pipeline2 = ModelPipeline(models=[RandomModel()], pipeline_name=\\\"test_pipeline2\\\")\";\n",
       "                var nbb_cells = Jupyter.notebook.get_cells();\n",
       "                for (var i = 0; i < nbb_cells.length; ++i) {\n",
       "                    if (nbb_cells[i].input_prompt_number == nbb_cell_id) {\n",
       "                        if (nbb_cells[i].get_text() == nbb_unformatted_code) {\n",
       "                             nbb_cells[i].set_text(nbb_formatted_code);\n",
       "                        }\n",
       "                        break;\n",
       "                    }\n",
       "                }\n",
       "            }, 500);\n",
       "            "
      ],
      "text/plain": [
       "<IPython.core.display.Javascript object>"
      ]
     },
     "metadata": {},
     "output_type": "display_data"
    }
   ],
   "source": [
    "test_pipeline2 = ModelPipeline(models=[RandomModel()], pipeline_name=\"test_pipeline2\")"
   ]
  },
  {
   "cell_type": "markdown",
   "metadata": {
    "collapsed": false,
    "pycharm": {
     "name": "#%% md\n"
    }
   },
   "source": [
    "We process two `ModelPipeline`s with different characteristics on the same data."
   ]
  },
  {
   "cell_type": "code",
   "execution_count": 11,
   "metadata": {},
   "outputs": [
    {
     "data": {
      "application/javascript": [
       "\n",
       "            setTimeout(function() {\n",
       "                var nbb_cell_id = 11;\n",
       "                var nbb_unformatted_code = \"collection = ModelPipelineCollection([test_pipeline, test_pipeline2])\\nassert collection.get_pipeline(\\\"test_pipeline2\\\").pipeline_name == 'test_pipeline2'\";\n",
       "                var nbb_formatted_code = \"collection = ModelPipelineCollection([test_pipeline, test_pipeline2])\\nassert collection.get_pipeline(\\\"test_pipeline2\\\").pipeline_name == \\\"test_pipeline2\\\"\";\n",
       "                var nbb_cells = Jupyter.notebook.get_cells();\n",
       "                for (var i = 0; i < nbb_cells.length; ++i) {\n",
       "                    if (nbb_cells[i].input_prompt_number == nbb_cell_id) {\n",
       "                        if (nbb_cells[i].get_text() == nbb_unformatted_code) {\n",
       "                             nbb_cells[i].set_text(nbb_formatted_code);\n",
       "                        }\n",
       "                        break;\n",
       "                    }\n",
       "                }\n",
       "            }, 500);\n",
       "            "
      ],
      "text/plain": [
       "<IPython.core.display.Javascript object>"
      ]
     },
     "metadata": {},
     "output_type": "display_data"
    }
   ],
   "source": [
    "collection = ModelPipelineCollection([test_pipeline, test_pipeline2])\n",
    "assert collection.get_pipeline(\"test_pipeline2\").pipeline_name == 'test_pipeline2'"
   ]
  },
  {
   "cell_type": "code",
   "execution_count": 12,
   "metadata": {},
   "outputs": [
    {
     "data": {
      "application/vnd.jupyter.widget-view+json": {
       "model_id": "034f7f5de018477aa452c11a9f74ca83",
       "version_major": 2,
       "version_minor": 0
      },
      "text/plain": [
       "Processing Pipeline Collection:   0%|          | 0/2 [00:00<?, ?it/s]"
      ]
     },
     "metadata": {},
     "output_type": "display_data"
    },
    {
     "data": {
      "text/html": [
       "<pre style=\"white-space:pre;overflow-x:auto;line-height:normal;font-family:Menlo,'DejaVu Sans Mono',consolas,'Courier New',monospace\">👷 <span style=\"color: #008000; text-decoration-color: #008000; font-weight: bold\">Processing model pipeline:</span> <span style=\"color: #008000; text-decoration-color: #008000\">'test_pipeline'</span> 👷\n",
       "</pre>\n"
      ],
      "text/plain": [
       "👷 \u001b[1;32mProcessing model pipeline:\u001b[0m \u001b[32m'test_pipeline'\u001b[0m 👷\n"
      ]
     },
     "metadata": {},
     "output_type": "display_data"
    },
    {
     "data": {
      "text/html": [
       "<pre style=\"white-space:pre;overflow-x:auto;line-height:normal;font-family:Menlo,'DejaVu Sans Mono',consolas,'Courier New',monospace\">✅ Finished step <span style=\"font-weight: bold\">CopyPreProcessor</span>. Output <span style=\"color: #808000; text-decoration-color: #808000\">shape</span>=<span style=\"font-weight: bold\">(</span><span style=\"color: #008080; text-decoration-color: #008080; font-weight: bold\">10</span>, <span style=\"color: #008080; text-decoration-color: #008080; font-weight: bold\">314</span><span style=\"font-weight: bold\">)</span>. Time taken for step: \n",
       "<span style=\"color: #000080; text-decoration-color: #000080; font-weight: bold\">0:00:00</span><span style=\"color: #000080; text-decoration-color: #000080\">.</span><span style=\"color: #000080; text-decoration-color: #000080; font-weight: bold\">003256</span>. ✅\n",
       "</pre>\n"
      ],
      "text/plain": [
       "✅ Finished step \u001b[1mCopyPreProcessor\u001b[0m. Output \u001b[33mshape\u001b[0m=\u001b[1m(\u001b[0m\u001b[1;36m10\u001b[0m, \u001b[1;36m314\u001b[0m\u001b[1m)\u001b[0m. Time taken for step: \n",
       "\u001b[1;34m0:00:00\u001b[0m\u001b[34m.\u001b[0m\u001b[1;34m003256\u001b[0m. ✅\n"
      ]
     },
     "metadata": {},
     "output_type": "display_data"
    },
    {
     "data": {
      "application/vnd.jupyter.widget-view+json": {
       "model_id": "3fc9e2cb3ab34b85b41085abb1e1cf6f",
       "version_major": 2,
       "version_minor": 0
      },
      "text/plain": [
       "test_pipeline Preprocessing::   0%|          | 0/2 [00:00<?, ?it/s]"
      ]
     },
     "metadata": {},
     "output_type": "display_data"
    },
    {
     "data": {
      "text/html": [
       "<pre style=\"white-space:pre;overflow-x:auto;line-height:normal;font-family:Menlo,'DejaVu Sans Mono',consolas,'Courier New',monospace\">🚧 Applying preprocessing: <span style=\"color: #008000; text-decoration-color: #008000\">'</span><span style=\"color: #008000; text-decoration-color: #008000; font-weight: bold\">GroupStatsPreProcessor</span><span style=\"color: #008000; text-decoration-color: #008000\">'</span> 🚧\n",
       "</pre>\n"
      ],
      "text/plain": [
       "🚧 Applying preprocessing: \u001b[32m'\u001b[0m\u001b[1;32mGroupStatsPreProcessor\u001b[0m\u001b[32m'\u001b[0m 🚧\n"
      ]
     },
     "metadata": {},
     "output_type": "display_data"
    },
    {
     "data": {
      "text/html": [
       "<pre style=\"white-space:pre;overflow-x:auto;line-height:normal;font-family:Menlo,'DejaVu Sans Mono',consolas,'Courier New',monospace\">✅ Finished step <span style=\"font-weight: bold\">GroupStatsPreProcessor</span>. Output <span style=\"color: #808000; text-decoration-color: #808000\">shape</span>=<span style=\"font-weight: bold\">(</span><span style=\"color: #008080; text-decoration-color: #008080; font-weight: bold\">10</span>, <span style=\"color: #008080; text-decoration-color: #008080; font-weight: bold\">332</span><span style=\"font-weight: bold\">)</span>. Time taken for step: \n",
       "<span style=\"color: #000080; text-decoration-color: #000080; font-weight: bold\">0:00:00</span><span style=\"color: #000080; text-decoration-color: #000080\">.</span><span style=\"color: #000080; text-decoration-color: #000080; font-weight: bold\">056507</span>. ✅\n",
       "</pre>\n"
      ],
      "text/plain": [
       "✅ Finished step \u001b[1mGroupStatsPreProcessor\u001b[0m. Output \u001b[33mshape\u001b[0m=\u001b[1m(\u001b[0m\u001b[1;36m10\u001b[0m, \u001b[1;36m332\u001b[0m\u001b[1m)\u001b[0m. Time taken for step: \n",
       "\u001b[1;34m0:00:00\u001b[0m\u001b[34m.\u001b[0m\u001b[1;34m056507\u001b[0m. ✅\n"
      ]
     },
     "metadata": {},
     "output_type": "display_data"
    },
    {
     "data": {
      "text/html": [
       "<pre style=\"white-space:pre;overflow-x:auto;line-height:normal;font-family:Menlo,'DejaVu Sans Mono',consolas,'Courier New',monospace\">🚧 Applying preprocessing: <span style=\"color: #008000; text-decoration-color: #008000\">'</span><span style=\"color: #008000; text-decoration-color: #008000; font-weight: bold\">FeatureSelectionPreProcessor</span><span style=\"color: #008000; text-decoration-color: #008000\">'</span> 🚧\n",
       "</pre>\n"
      ],
      "text/plain": [
       "🚧 Applying preprocessing: \u001b[32m'\u001b[0m\u001b[1;32mFeatureSelectionPreProcessor\u001b[0m\u001b[32m'\u001b[0m 🚧\n"
      ]
     },
     "metadata": {},
     "output_type": "display_data"
    },
    {
     "data": {
      "text/html": [
       "<pre style=\"white-space:pre;overflow-x:auto;line-height:normal;font-family:Menlo,'DejaVu Sans Mono',consolas,'Courier New',monospace\">✅ Finished step <span style=\"font-weight: bold\">FeatureSelectionPreProcessor</span>. Output <span style=\"color: #808000; text-decoration-color: #808000\">shape</span>=<span style=\"font-weight: bold\">(</span><span style=\"color: #008080; text-decoration-color: #008080; font-weight: bold\">10</span>, <span style=\"color: #008080; text-decoration-color: #008080; font-weight: bold\">6</span><span style=\"font-weight: bold\">)</span>. Time taken for step: \n",
       "<span style=\"color: #000080; text-decoration-color: #000080; font-weight: bold\">0:00:00</span><span style=\"color: #000080; text-decoration-color: #000080\">.</span><span style=\"color: #000080; text-decoration-color: #000080; font-weight: bold\">003839</span>. ✅\n",
       "</pre>\n"
      ],
      "text/plain": [
       "✅ Finished step \u001b[1mFeatureSelectionPreProcessor\u001b[0m. Output \u001b[33mshape\u001b[0m=\u001b[1m(\u001b[0m\u001b[1;36m10\u001b[0m, \u001b[1;36m6\u001b[0m\u001b[1m)\u001b[0m. Time taken for step: \n",
       "\u001b[1;34m0:00:00\u001b[0m\u001b[34m.\u001b[0m\u001b[1;34m003839\u001b[0m. ✅\n"
      ]
     },
     "metadata": {},
     "output_type": "display_data"
    },
    {
     "data": {
      "application/vnd.jupyter.widget-view+json": {
       "model_id": "c37fea8b697d4f0a8bdd0d98bae3dff2",
       "version_major": 2,
       "version_minor": 0
      },
      "text/plain": [
       "test_pipeline Model prediction:   0%|          | 0/2 [00:00<?, ?it/s]"
      ]
     },
     "metadata": {},
     "output_type": "display_data"
    },
    {
     "data": {
      "text/html": [
       "<pre style=\"white-space:pre;overflow-x:auto;line-height:normal;font-family:Menlo,'DejaVu Sans Mono',consolas,'Courier New',monospace\">🤖 Generating model predictions with <span style=\"color: #008000; text-decoration-color: #008000\">'</span><span style=\"color: #008000; text-decoration-color: #008000; font-weight: bold\">ConstantModel</span><span style=\"color: #008000; text-decoration-color: #008000\">'</span>. 🤖\n",
       "</pre>\n"
      ],
      "text/plain": [
       "🤖 Generating model predictions with \u001b[32m'\u001b[0m\u001b[1;32mConstantModel\u001b[0m\u001b[32m'\u001b[0m. 🤖\n"
      ]
     },
     "metadata": {},
     "output_type": "display_data"
    },
    {
     "data": {
      "text/html": [
       "<pre style=\"white-space:pre;overflow-x:auto;line-height:normal;font-family:Menlo,'DejaVu Sans Mono',consolas,'Courier New',monospace\">🤖 Generating model predictions with <span style=\"color: #008000; text-decoration-color: #008000\">'</span><span style=\"color: #008000; text-decoration-color: #008000; font-weight: bold\">ConstantModel</span><span style=\"color: #008000; text-decoration-color: #008000\">'</span>. 🤖\n",
       "</pre>\n"
      ],
      "text/plain": [
       "🤖 Generating model predictions with \u001b[32m'\u001b[0m\u001b[1;32mConstantModel\u001b[0m\u001b[32m'\u001b[0m. 🤖\n"
      ]
     },
     "metadata": {},
     "output_type": "display_data"
    },
    {
     "data": {
      "application/vnd.jupyter.widget-view+json": {
       "model_id": "06aa811f3350423eabc5ad65b0e5b0b0",
       "version_major": 2,
       "version_minor": 0
      },
      "text/plain": [
       "test_pipeline Postprocessing:   0%|          | 0/2 [00:00<?, ?it/s]"
      ]
     },
     "metadata": {},
     "output_type": "display_data"
    },
    {
     "data": {
      "text/html": [
       "<pre style=\"white-space:pre;overflow-x:auto;line-height:normal;font-family:Menlo,'DejaVu Sans Mono',consolas,'Courier New',monospace\">🚧 Applying postprocessing: <span style=\"color: #008000; text-decoration-color: #008000\">'</span><span style=\"color: #008000; text-decoration-color: #008000; font-weight: bold\">MeanEnsembler</span><span style=\"color: #008000; text-decoration-color: #008000\">'</span> 🚧\n",
       "</pre>\n"
      ],
      "text/plain": [
       "🚧 Applying postprocessing: \u001b[32m'\u001b[0m\u001b[1;32mMeanEnsembler\u001b[0m\u001b[32m'\u001b[0m 🚧\n"
      ]
     },
     "metadata": {},
     "output_type": "display_data"
    },
    {
     "data": {
      "text/html": [
       "<pre style=\"white-space:pre;overflow-x:auto;line-height:normal;font-family:Menlo,'DejaVu Sans Mono',consolas,'Courier New',monospace\">🍲 Ensembled <span style=\"color: #000080; text-decoration-color: #000080\">'['</span><span style=\"color: #000080; text-decoration-color: #000080\">prediction_test_0.</span><span style=\"color: #000080; text-decoration-color: #000080; font-weight: bold\">5</span><span style=\"color: #000080; text-decoration-color: #000080\">', </span><span style=\"color: #000080; text-decoration-color: #000080\">'prediction_test_0.8'</span><span style=\"color: #000080; text-decoration-color: #000080; font-weight: bold\">]</span><span style=\"color: #000080; text-decoration-color: #000080\">' with simple mean and saved in </span>\n",
       "<span style=\"color: #000080; text-decoration-color: #000080; font-weight: bold\">'</span><span style=\"color: #000080; text-decoration-color: #000080; font-weight: bold\">prediction_ensembled' 🍲</span>\n",
       "</pre>\n"
      ],
      "text/plain": [
       "🍲 Ensembled \u001b[34m'\u001b[0m\u001b[34m[\u001b[0m\u001b[34m'\u001b[0m\u001b[34mprediction_test_0.\u001b[0m\u001b[1;34m5\u001b[0m\u001b[34m', \u001b[0m\u001b[34m'prediction_test_0.8'\u001b[0m\u001b[1;34m]\u001b[0m\u001b[34m'\u001b[0m\u001b[34m with simple mean and saved in \u001b[0m\n",
       "\u001b[1;34m'\u001b[0m\u001b[1;34mprediction_ensembled'\u001b[0m\u001b[1;34m 🍲\u001b[0m\n"
      ]
     },
     "metadata": {},
     "output_type": "display_data"
    },
    {
     "data": {
      "text/html": [
       "<pre style=\"white-space:pre;overflow-x:auto;line-height:normal;font-family:Menlo,'DejaVu Sans Mono',consolas,'Courier New',monospace\">✅ Finished step <span style=\"font-weight: bold\">MeanEnsembler</span>. Output <span style=\"color: #808000; text-decoration-color: #808000\">shape</span>=<span style=\"font-weight: bold\">(</span><span style=\"color: #008080; text-decoration-color: #008080; font-weight: bold\">10</span>, <span style=\"color: #008080; text-decoration-color: #008080; font-weight: bold\">9</span><span style=\"font-weight: bold\">)</span>. Time taken for step: <span style=\"color: #000080; text-decoration-color: #000080; font-weight: bold\">0:00:00</span><span style=\"color: #000080; text-decoration-color: #000080\">.</span><span style=\"color: #000080; text-decoration-color: #000080; font-weight: bold\">004683</span>. ✅\n",
       "</pre>\n"
      ],
      "text/plain": [
       "✅ Finished step \u001b[1mMeanEnsembler\u001b[0m. Output \u001b[33mshape\u001b[0m=\u001b[1m(\u001b[0m\u001b[1;36m10\u001b[0m, \u001b[1;36m9\u001b[0m\u001b[1m)\u001b[0m. Time taken for step: \u001b[1;34m0:00:00\u001b[0m\u001b[34m.\u001b[0m\u001b[1;34m004683\u001b[0m. ✅\n"
      ]
     },
     "metadata": {},
     "output_type": "display_data"
    },
    {
     "data": {
      "text/html": [
       "<pre style=\"white-space:pre;overflow-x:auto;line-height:normal;font-family:Menlo,'DejaVu Sans Mono',consolas,'Courier New',monospace\">🚧 Applying postprocessing: <span style=\"color: #008000; text-decoration-color: #008000\">'</span><span style=\"color: #008000; text-decoration-color: #008000; font-weight: bold\">FeatureNeutralizer</span><span style=\"color: #008000; text-decoration-color: #008000\">'</span> 🚧\n",
       "</pre>\n"
      ],
      "text/plain": [
       "🚧 Applying postprocessing: \u001b[32m'\u001b[0m\u001b[1;32mFeatureNeutralizer\u001b[0m\u001b[32m'\u001b[0m 🚧\n"
      ]
     },
     "metadata": {},
     "output_type": "display_data"
    },
    {
     "data": {
      "text/html": [
       "<pre style=\"white-space:pre;overflow-x:auto;line-height:normal;font-family:Menlo,'DejaVu Sans Mono',consolas,'Courier New',monospace\">🤖 Neutralized <span style=\"color: #000080; text-decoration-color: #000080; font-weight: bold\">'prediction_ensembled'</span><span style=\"color: #000080; text-decoration-color: #000080; font-weight: bold\"> with proportion </span><span style=\"color: #000080; text-decoration-color: #000080; font-weight: bold\">'0.8'</span><span style=\"color: #000080; text-decoration-color: #000080; font-weight: bold\"> 🤖</span>\n",
       "</pre>\n"
      ],
      "text/plain": [
       "🤖 Neutralized \u001b[1;34m'prediction_ensembled'\u001b[0m\u001b[1;34m with proportion \u001b[0m\u001b[1;34m'0.8'\u001b[0m\u001b[1;34m 🤖\u001b[0m\n"
      ]
     },
     "metadata": {},
     "output_type": "display_data"
    },
    {
     "data": {
      "text/html": [
       "<pre style=\"white-space:pre;overflow-x:auto;line-height:normal;font-family:Menlo,'DejaVu Sans Mono',consolas,'Courier New',monospace\">New neutralized column = <span style=\"color: #008000; text-decoration-color: #008000; font-weight: bold\">'prediction_ensembled_neutralized_0.8'</span>.\n",
       "</pre>\n"
      ],
      "text/plain": [
       "New neutralized column = \u001b[1;32m'prediction_ensembled_neutralized_0.8'\u001b[0m.\n"
      ]
     },
     "metadata": {},
     "output_type": "display_data"
    },
    {
     "data": {
      "text/html": [
       "<pre style=\"white-space:pre;overflow-x:auto;line-height:normal;font-family:Menlo,'DejaVu Sans Mono',consolas,'Courier New',monospace\">✅ Finished step <span style=\"font-weight: bold\">FeatureNeutralizer</span>. Output <span style=\"color: #808000; text-decoration-color: #808000\">shape</span>=<span style=\"font-weight: bold\">(</span><span style=\"color: #008080; text-decoration-color: #008080; font-weight: bold\">10</span>, <span style=\"color: #008080; text-decoration-color: #008080; font-weight: bold\">10</span><span style=\"font-weight: bold\">)</span>. Time taken for step: \n",
       "<span style=\"color: #000080; text-decoration-color: #000080; font-weight: bold\">0:00:00</span><span style=\"color: #000080; text-decoration-color: #000080\">.</span><span style=\"color: #000080; text-decoration-color: #000080; font-weight: bold\">025675</span>. ✅\n",
       "</pre>\n"
      ],
      "text/plain": [
       "✅ Finished step \u001b[1mFeatureNeutralizer\u001b[0m. Output \u001b[33mshape\u001b[0m=\u001b[1m(\u001b[0m\u001b[1;36m10\u001b[0m, \u001b[1;36m10\u001b[0m\u001b[1m)\u001b[0m. Time taken for step: \n",
       "\u001b[1;34m0:00:00\u001b[0m\u001b[34m.\u001b[0m\u001b[1;34m025675\u001b[0m. ✅\n"
      ]
     },
     "metadata": {},
     "output_type": "display_data"
    },
    {
     "data": {
      "text/html": [
       "<pre style=\"white-space:pre;overflow-x:auto;line-height:normal;font-family:Menlo,'DejaVu Sans Mono',consolas,'Courier New',monospace\">🏁 <span style=\"color: #008000; text-decoration-color: #008000\">Finished pipeline: </span><span style=\"color: #000080; text-decoration-color: #000080; font-weight: bold\">'test_pipeline'</span><span style=\"color: #000080; text-decoration-color: #000080; font-weight: bold\">! 🏁</span>\n",
       "</pre>\n"
      ],
      "text/plain": [
       "🏁 \u001b[32mFinished pipeline:\u001b[0m\u001b[32m \u001b[0m\u001b[1;34m'test_pipeline'\u001b[0m\u001b[1;34m! 🏁\u001b[0m\n"
      ]
     },
     "metadata": {},
     "output_type": "display_data"
    },
    {
     "data": {
      "text/html": [
       "<pre style=\"white-space:pre;overflow-x:auto;line-height:normal;font-family:Menlo,'DejaVu Sans Mono',consolas,'Courier New',monospace\">👷 <span style=\"color: #008000; text-decoration-color: #008000; font-weight: bold\">Processing model pipeline:</span> <span style=\"color: #008000; text-decoration-color: #008000\">'test_pipeline2'</span> 👷\n",
       "</pre>\n"
      ],
      "text/plain": [
       "👷 \u001b[1;32mProcessing model pipeline:\u001b[0m \u001b[32m'test_pipeline2'\u001b[0m 👷\n"
      ]
     },
     "metadata": {},
     "output_type": "display_data"
    },
    {
     "data": {
      "text/html": [
       "<pre style=\"white-space:pre;overflow-x:auto;line-height:normal;font-family:Menlo,'DejaVu Sans Mono',consolas,'Courier New',monospace\">✅ Finished step <span style=\"font-weight: bold\">CopyPreProcessor</span>. Output <span style=\"color: #808000; text-decoration-color: #808000\">shape</span>=<span style=\"font-weight: bold\">(</span><span style=\"color: #008080; text-decoration-color: #008080; font-weight: bold\">10</span>, <span style=\"color: #008080; text-decoration-color: #008080; font-weight: bold\">314</span><span style=\"font-weight: bold\">)</span>. Time taken for step: \n",
       "<span style=\"color: #000080; text-decoration-color: #000080; font-weight: bold\">0:00:00</span><span style=\"color: #000080; text-decoration-color: #000080\">.</span><span style=\"color: #000080; text-decoration-color: #000080; font-weight: bold\">002941</span>. ✅\n",
       "</pre>\n"
      ],
      "text/plain": [
       "✅ Finished step \u001b[1mCopyPreProcessor\u001b[0m. Output \u001b[33mshape\u001b[0m=\u001b[1m(\u001b[0m\u001b[1;36m10\u001b[0m, \u001b[1;36m314\u001b[0m\u001b[1m)\u001b[0m. Time taken for step: \n",
       "\u001b[1;34m0:00:00\u001b[0m\u001b[34m.\u001b[0m\u001b[1;34m002941\u001b[0m. ✅\n"
      ]
     },
     "metadata": {},
     "output_type": "display_data"
    },
    {
     "data": {
      "application/vnd.jupyter.widget-view+json": {
       "model_id": "b2712cb6f9544da3ae1f9b10fadac416",
       "version_major": 2,
       "version_minor": 0
      },
      "text/plain": [
       "test_pipeline2 Preprocessing:: 0it [00:00, ?it/s]"
      ]
     },
     "metadata": {},
     "output_type": "display_data"
    },
    {
     "data": {
      "application/vnd.jupyter.widget-view+json": {
       "model_id": "ae22ae564a4a49c7be8bc30ade87db68",
       "version_major": 2,
       "version_minor": 0
      },
      "text/plain": [
       "test_pipeline2 Model prediction:   0%|          | 0/1 [00:00<?, ?it/s]"
      ]
     },
     "metadata": {},
     "output_type": "display_data"
    },
    {
     "data": {
      "text/html": [
       "<pre style=\"white-space:pre;overflow-x:auto;line-height:normal;font-family:Menlo,'DejaVu Sans Mono',consolas,'Courier New',monospace\">🤖 Generating model predictions with <span style=\"color: #008000; text-decoration-color: #008000\">'</span><span style=\"color: #008000; text-decoration-color: #008000; font-weight: bold\">RandomModel</span><span style=\"color: #008000; text-decoration-color: #008000\">'</span>. 🤖\n",
       "</pre>\n"
      ],
      "text/plain": [
       "🤖 Generating model predictions with \u001b[32m'\u001b[0m\u001b[1;32mRandomModel\u001b[0m\u001b[32m'\u001b[0m. 🤖\n"
      ]
     },
     "metadata": {},
     "output_type": "display_data"
    },
    {
     "data": {
      "text/html": [
       "<pre style=\"white-space:pre;overflow-x:auto;line-height:normal;font-family:Menlo,'DejaVu Sans Mono',consolas,'Courier New',monospace\">✅ Finished step <span style=\"font-weight: bold\">Standardizer</span>. Output <span style=\"color: #808000; text-decoration-color: #808000\">shape</span>=<span style=\"font-weight: bold\">(</span><span style=\"color: #008080; text-decoration-color: #008080; font-weight: bold\">10</span>, <span style=\"color: #008080; text-decoration-color: #008080; font-weight: bold\">315</span><span style=\"font-weight: bold\">)</span>. Time taken for step: <span style=\"color: #000080; text-decoration-color: #000080; font-weight: bold\">0:00:00</span><span style=\"color: #000080; text-decoration-color: #000080\">.</span><span style=\"color: #000080; text-decoration-color: #000080; font-weight: bold\">006861</span>. \n",
       "✅\n",
       "</pre>\n"
      ],
      "text/plain": [
       "✅ Finished step \u001b[1mStandardizer\u001b[0m. Output \u001b[33mshape\u001b[0m=\u001b[1m(\u001b[0m\u001b[1;36m10\u001b[0m, \u001b[1;36m315\u001b[0m\u001b[1m)\u001b[0m. Time taken for step: \u001b[1;34m0:00:00\u001b[0m\u001b[34m.\u001b[0m\u001b[1;34m006861\u001b[0m. \n",
       "✅\n"
      ]
     },
     "metadata": {},
     "output_type": "display_data"
    },
    {
     "data": {
      "application/vnd.jupyter.widget-view+json": {
       "model_id": "25cf4c76f5924f01b12c6f53d3cfe41c",
       "version_major": 2,
       "version_minor": 0
      },
      "text/plain": [
       "test_pipeline2 Postprocessing: : 0it [00:00, ?it/s]"
      ]
     },
     "metadata": {},
     "output_type": "display_data"
    },
    {
     "data": {
      "text/html": [
       "<pre style=\"white-space:pre;overflow-x:auto;line-height:normal;font-family:Menlo,'DejaVu Sans Mono',consolas,'Courier New',monospace\">🏁 <span style=\"color: #008000; text-decoration-color: #008000\">Finished pipeline: </span><span style=\"color: #000080; text-decoration-color: #000080; font-weight: bold\">'test_pipeline2'</span><span style=\"color: #000080; text-decoration-color: #000080; font-weight: bold\">! 🏁</span>\n",
       "</pre>\n"
      ],
      "text/plain": [
       "🏁 \u001b[32mFinished pipeline:\u001b[0m\u001b[32m \u001b[0m\u001b[1;34m'test_pipeline2'\u001b[0m\u001b[1;34m! 🏁\u001b[0m\n"
      ]
     },
     "metadata": {},
     "output_type": "display_data"
    },
    {
     "data": {
      "application/javascript": [
       "\n",
       "            setTimeout(function() {\n",
       "                var nbb_cell_id = 12;\n",
       "                var nbb_unformatted_code = \"result_datasets = collection(dataf=dataf)\";\n",
       "                var nbb_formatted_code = \"result_datasets = collection(dataf=dataf)\";\n",
       "                var nbb_cells = Jupyter.notebook.get_cells();\n",
       "                for (var i = 0; i < nbb_cells.length; ++i) {\n",
       "                    if (nbb_cells[i].input_prompt_number == nbb_cell_id) {\n",
       "                        if (nbb_cells[i].get_text() == nbb_unformatted_code) {\n",
       "                             nbb_cells[i].set_text(nbb_formatted_code);\n",
       "                        }\n",
       "                        break;\n",
       "                    }\n",
       "                }\n",
       "            }, 500);\n",
       "            "
      ],
      "text/plain": [
       "<IPython.core.display.Javascript object>"
      ]
     },
     "metadata": {},
     "output_type": "display_data"
    }
   ],
   "source": [
    "result_datasets = collection(dataf=dataf)"
   ]
  },
  {
   "cell_type": "markdown",
   "metadata": {},
   "source": [
    "The `ModelPipelineCollection` returns a dictionary mapping pipeline names to `NumerFrame` objects, retaining all metadata and added prediction columns for each. Note that in this example, the 1st `NumerFrame` had a feature selection step, so it did not retain all columns. However, the second dataset retained all feature columns, because no preprocessing was done."
   ]
  },
  {
   "cell_type": "code",
   "execution_count": 13,
   "metadata": {
    "collapsed": false,
    "pycharm": {
     "name": "#%%\n"
    }
   },
   "outputs": [
    {
     "data": {
      "text/plain": [
       "dict_keys(['test_pipeline', 'test_pipeline2'])"
      ]
     },
     "execution_count": 13,
     "metadata": {},
     "output_type": "execute_result"
    },
    {
     "data": {
      "application/javascript": [
       "\n",
       "            setTimeout(function() {\n",
       "                var nbb_cell_id = 13;\n",
       "                var nbb_unformatted_code = \"result_datasets.keys()\";\n",
       "                var nbb_formatted_code = \"result_datasets.keys()\";\n",
       "                var nbb_cells = Jupyter.notebook.get_cells();\n",
       "                for (var i = 0; i < nbb_cells.length; ++i) {\n",
       "                    if (nbb_cells[i].input_prompt_number == nbb_cell_id) {\n",
       "                        if (nbb_cells[i].get_text() == nbb_unformatted_code) {\n",
       "                             nbb_cells[i].set_text(nbb_formatted_code);\n",
       "                        }\n",
       "                        break;\n",
       "                    }\n",
       "                }\n",
       "            }, 500);\n",
       "            "
      ],
      "text/plain": [
       "<IPython.core.display.Javascript object>"
      ]
     },
     "metadata": {},
     "output_type": "display_data"
    }
   ],
   "source": [
    "result_datasets.keys()"
   ]
  },
  {
   "cell_type": "code",
   "execution_count": 14,
   "metadata": {},
   "outputs": [
    {
     "data": {
      "text/html": [
       "<div>\n",
       "<style scoped>\n",
       "    .dataframe tbody tr th:only-of-type {\n",
       "        vertical-align: middle;\n",
       "    }\n",
       "\n",
       "    .dataframe tbody tr th {\n",
       "        vertical-align: top;\n",
       "    }\n",
       "\n",
       "    .dataframe thead th {\n",
       "        text-align: right;\n",
       "    }\n",
       "</style>\n",
       "<table border=\"1\" class=\"dataframe\">\n",
       "  <thead>\n",
       "    <tr style=\"text-align: right;\">\n",
       "      <th></th>\n",
       "      <th>feature_intelligence_mean</th>\n",
       "      <th>feature_intelligence_std</th>\n",
       "      <th>target</th>\n",
       "      <th>id</th>\n",
       "      <th>era</th>\n",
       "      <th>data_type</th>\n",
       "      <th>prediction_test_0.5</th>\n",
       "      <th>prediction_test_0.8</th>\n",
       "      <th>prediction_ensembled</th>\n",
       "      <th>prediction_ensembled_neutralized_0.8</th>\n",
       "    </tr>\n",
       "  </thead>\n",
       "  <tbody>\n",
       "    <tr>\n",
       "      <th>0</th>\n",
       "      <td>0.333333</td>\n",
       "      <td>0.246183</td>\n",
       "      <td>0.50</td>\n",
       "      <td>n000315175b67977</td>\n",
       "      <td>era1</td>\n",
       "      <td>train</td>\n",
       "      <td>0.5</td>\n",
       "      <td>0.8</td>\n",
       "      <td>0.65</td>\n",
       "      <td>0.00000</td>\n",
       "    </tr>\n",
       "    <tr>\n",
       "      <th>1</th>\n",
       "      <td>0.208333</td>\n",
       "      <td>0.234359</td>\n",
       "      <td>0.25</td>\n",
       "      <td>n0014af834a96cdd</td>\n",
       "      <td>era1</td>\n",
       "      <td>train</td>\n",
       "      <td>0.5</td>\n",
       "      <td>0.8</td>\n",
       "      <td>0.65</td>\n",
       "      <td>0.36088</td>\n",
       "    </tr>\n",
       "  </tbody>\n",
       "</table>\n",
       "</div>"
      ],
      "text/plain": [
       "   feature_intelligence_mean  feature_intelligence_std  target  \\\n",
       "0                   0.333333                  0.246183    0.50   \n",
       "1                   0.208333                  0.234359    0.25   \n",
       "\n",
       "                 id   era data_type  prediction_test_0.5  prediction_test_0.8  \\\n",
       "0  n000315175b67977  era1     train                  0.5                  0.8   \n",
       "1  n0014af834a96cdd  era1     train                  0.5                  0.8   \n",
       "\n",
       "   prediction_ensembled  prediction_ensembled_neutralized_0.8  \n",
       "0                  0.65                               0.00000  \n",
       "1                  0.65                               0.36088  "
      ]
     },
     "execution_count": 14,
     "metadata": {},
     "output_type": "execute_result"
    },
    {
     "data": {
      "application/javascript": [
       "\n",
       "            setTimeout(function() {\n",
       "                var nbb_cell_id = 14;\n",
       "                var nbb_unformatted_code = \"result_datasets['test_pipeline'].head(2)\";\n",
       "                var nbb_formatted_code = \"result_datasets[\\\"test_pipeline\\\"].head(2)\";\n",
       "                var nbb_cells = Jupyter.notebook.get_cells();\n",
       "                for (var i = 0; i < nbb_cells.length; ++i) {\n",
       "                    if (nbb_cells[i].input_prompt_number == nbb_cell_id) {\n",
       "                        if (nbb_cells[i].get_text() == nbb_unformatted_code) {\n",
       "                             nbb_cells[i].set_text(nbb_formatted_code);\n",
       "                        }\n",
       "                        break;\n",
       "                    }\n",
       "                }\n",
       "            }, 500);\n",
       "            "
      ],
      "text/plain": [
       "<IPython.core.display.Javascript object>"
      ]
     },
     "metadata": {},
     "output_type": "display_data"
    }
   ],
   "source": [
    "result_datasets['test_pipeline'].head(2)"
   ]
  },
  {
   "cell_type": "code",
   "execution_count": 15,
   "metadata": {
    "collapsed": false,
    "pycharm": {
     "name": "#%%\n"
    }
   },
   "outputs": [
    {
     "data": {
      "text/html": [
       "<div>\n",
       "<style scoped>\n",
       "    .dataframe tbody tr th:only-of-type {\n",
       "        vertical-align: middle;\n",
       "    }\n",
       "\n",
       "    .dataframe tbody tr th {\n",
       "        vertical-align: top;\n",
       "    }\n",
       "\n",
       "    .dataframe thead th {\n",
       "        text-align: right;\n",
       "    }\n",
       "</style>\n",
       "<table border=\"1\" class=\"dataframe\">\n",
       "  <thead>\n",
       "    <tr style=\"text-align: right;\">\n",
       "      <th></th>\n",
       "      <th>id</th>\n",
       "      <th>era</th>\n",
       "      <th>data_type</th>\n",
       "      <th>feature_intelligence1</th>\n",
       "      <th>feature_intelligence2</th>\n",
       "      <th>feature_intelligence3</th>\n",
       "      <th>feature_intelligence4</th>\n",
       "      <th>feature_intelligence5</th>\n",
       "      <th>feature_intelligence6</th>\n",
       "      <th>feature_intelligence7</th>\n",
       "      <th>...</th>\n",
       "      <th>feature_wisdom39</th>\n",
       "      <th>feature_wisdom40</th>\n",
       "      <th>feature_wisdom41</th>\n",
       "      <th>feature_wisdom42</th>\n",
       "      <th>feature_wisdom43</th>\n",
       "      <th>feature_wisdom44</th>\n",
       "      <th>feature_wisdom45</th>\n",
       "      <th>feature_wisdom46</th>\n",
       "      <th>target</th>\n",
       "      <th>prediction_random</th>\n",
       "    </tr>\n",
       "  </thead>\n",
       "  <tbody>\n",
       "    <tr>\n",
       "      <th>0</th>\n",
       "      <td>n000315175b67977</td>\n",
       "      <td>era1</td>\n",
       "      <td>train</td>\n",
       "      <td>0.0</td>\n",
       "      <td>0.5</td>\n",
       "      <td>0.25</td>\n",
       "      <td>0.00</td>\n",
       "      <td>0.5</td>\n",
       "      <td>0.25</td>\n",
       "      <td>0.25</td>\n",
       "      <td>...</td>\n",
       "      <td>1.0</td>\n",
       "      <td>0.75</td>\n",
       "      <td>0.5</td>\n",
       "      <td>0.75</td>\n",
       "      <td>0.50</td>\n",
       "      <td>1.0</td>\n",
       "      <td>0.50</td>\n",
       "      <td>0.75</td>\n",
       "      <td>0.50</td>\n",
       "      <td>0.2</td>\n",
       "    </tr>\n",
       "    <tr>\n",
       "      <th>1</th>\n",
       "      <td>n0014af834a96cdd</td>\n",
       "      <td>era1</td>\n",
       "      <td>train</td>\n",
       "      <td>0.0</td>\n",
       "      <td>0.0</td>\n",
       "      <td>0.00</td>\n",
       "      <td>0.25</td>\n",
       "      <td>0.5</td>\n",
       "      <td>0.00</td>\n",
       "      <td>0.00</td>\n",
       "      <td>...</td>\n",
       "      <td>1.0</td>\n",
       "      <td>0.00</td>\n",
       "      <td>0.0</td>\n",
       "      <td>0.75</td>\n",
       "      <td>0.25</td>\n",
       "      <td>0.0</td>\n",
       "      <td>0.25</td>\n",
       "      <td>1.00</td>\n",
       "      <td>0.25</td>\n",
       "      <td>0.1</td>\n",
       "    </tr>\n",
       "  </tbody>\n",
       "</table>\n",
       "<p>2 rows × 315 columns</p>\n",
       "</div>"
      ],
      "text/plain": [
       "                 id   era data_type  feature_intelligence1  \\\n",
       "0  n000315175b67977  era1     train                    0.0   \n",
       "1  n0014af834a96cdd  era1     train                    0.0   \n",
       "\n",
       "   feature_intelligence2  feature_intelligence3  feature_intelligence4  \\\n",
       "0                    0.5                   0.25                   0.00   \n",
       "1                    0.0                   0.00                   0.25   \n",
       "\n",
       "   feature_intelligence5  feature_intelligence6  feature_intelligence7  ...  \\\n",
       "0                    0.5                   0.25                   0.25  ...   \n",
       "1                    0.5                   0.00                   0.00  ...   \n",
       "\n",
       "   feature_wisdom39  feature_wisdom40  feature_wisdom41  feature_wisdom42  \\\n",
       "0               1.0              0.75               0.5              0.75   \n",
       "1               1.0              0.00               0.0              0.75   \n",
       "\n",
       "   feature_wisdom43  feature_wisdom44  feature_wisdom45  feature_wisdom46  \\\n",
       "0              0.50               1.0              0.50              0.75   \n",
       "1              0.25               0.0              0.25              1.00   \n",
       "\n",
       "   target  prediction_random  \n",
       "0    0.50                0.2  \n",
       "1    0.25                0.1  \n",
       "\n",
       "[2 rows x 315 columns]"
      ]
     },
     "execution_count": 15,
     "metadata": {},
     "output_type": "execute_result"
    },
    {
     "data": {
      "application/javascript": [
       "\n",
       "            setTimeout(function() {\n",
       "                var nbb_cell_id = 15;\n",
       "                var nbb_unformatted_code = \"result_datasets['test_pipeline2'].head(2)\";\n",
       "                var nbb_formatted_code = \"result_datasets[\\\"test_pipeline2\\\"].head(2)\";\n",
       "                var nbb_cells = Jupyter.notebook.get_cells();\n",
       "                for (var i = 0; i < nbb_cells.length; ++i) {\n",
       "                    if (nbb_cells[i].input_prompt_number == nbb_cell_id) {\n",
       "                        if (nbb_cells[i].get_text() == nbb_unformatted_code) {\n",
       "                             nbb_cells[i].set_text(nbb_formatted_code);\n",
       "                        }\n",
       "                        break;\n",
       "                    }\n",
       "                }\n",
       "            }, 500);\n",
       "            "
      ],
      "text/plain": [
       "<IPython.core.display.Javascript object>"
      ]
     },
     "metadata": {},
     "output_type": "display_data"
    }
   ],
   "source": [
    "result_datasets['test_pipeline2'].head(2)"
   ]
  },
  {
   "cell_type": "markdown",
   "metadata": {
    "collapsed": false
   },
   "source": [
    "Since metadata is not manipulated in these pipelines, metadata should be the same as the original `NumerFrame` for all resulting `NumerFrame` objects."
   ]
  },
  {
   "cell_type": "code",
   "execution_count": 16,
   "metadata": {
    "collapsed": false,
    "pycharm": {
     "name": "#%%\n"
    }
   },
   "outputs": [
    {
     "data": {
      "application/javascript": [
       "\n",
       "            setTimeout(function() {\n",
       "                var nbb_cell_id = 16;\n",
       "                var nbb_unformatted_code = \"for _, result in result_datasets.items():\\n    assert dataf.meta == result.meta\";\n",
       "                var nbb_formatted_code = \"for _, result in result_datasets.items():\\n    assert dataf.meta == result.meta\";\n",
       "                var nbb_cells = Jupyter.notebook.get_cells();\n",
       "                for (var i = 0; i < nbb_cells.length; ++i) {\n",
       "                    if (nbb_cells[i].input_prompt_number == nbb_cell_id) {\n",
       "                        if (nbb_cells[i].get_text() == nbb_unformatted_code) {\n",
       "                             nbb_cells[i].set_text(nbb_formatted_code);\n",
       "                        }\n",
       "                        break;\n",
       "                    }\n",
       "                }\n",
       "            }, 500);\n",
       "            "
      ],
      "text/plain": [
       "<IPython.core.display.Javascript object>"
      ]
     },
     "metadata": {},
     "output_type": "display_data"
    }
   ],
   "source": [
    "for _, result in result_datasets.items():\n",
    "    assert dataf.meta == result.meta"
   ]
  },
  {
   "cell_type": "code",
   "execution_count": 17,
   "metadata": {
    "collapsed": false,
    "pycharm": {
     "name": "#%%\n"
    }
   },
   "outputs": [
    {
     "data": {
      "text/plain": [
       "{'era_col': 'era', 'era_col_verified': True, 'version': 1}"
      ]
     },
     "execution_count": 17,
     "metadata": {},
     "output_type": "execute_result"
    },
    {
     "data": {
      "application/javascript": [
       "\n",
       "            setTimeout(function() {\n",
       "                var nbb_cell_id = 17;\n",
       "                var nbb_unformatted_code = \"result_datasets['test_pipeline'].meta\";\n",
       "                var nbb_formatted_code = \"result_datasets[\\\"test_pipeline\\\"].meta\";\n",
       "                var nbb_cells = Jupyter.notebook.get_cells();\n",
       "                for (var i = 0; i < nbb_cells.length; ++i) {\n",
       "                    if (nbb_cells[i].input_prompt_number == nbb_cell_id) {\n",
       "                        if (nbb_cells[i].get_text() == nbb_unformatted_code) {\n",
       "                             nbb_cells[i].set_text(nbb_formatted_code);\n",
       "                        }\n",
       "                        break;\n",
       "                    }\n",
       "                }\n",
       "            }, 500);\n",
       "            "
      ],
      "text/plain": [
       "<IPython.core.display.Javascript object>"
      ]
     },
     "metadata": {},
     "output_type": "display_data"
    }
   ],
   "source": [
    "result_datasets['test_pipeline'].meta"
   ]
  },
  {
   "cell_type": "markdown",
   "metadata": {},
   "source": [
    "-----------------------------------------------------------------------------"
   ]
  },
  {
   "cell_type": "code",
   "execution_count": 18,
   "metadata": {},
   "outputs": [
    {
     "name": "stdout",
     "output_type": "stream",
     "text": [
      "Converted 00_misc.ipynb.\n",
      "Converted 01_download.ipynb.\n",
      "Converted 02_numerframe.ipynb.\n",
      "Converted 03_preprocessing.ipynb.\n",
      "Converted 04_model.ipynb.\n",
      "Converted 05_postprocessing.ipynb.\n",
      "Converted 06_modelpipeline.ipynb.\n",
      "Converted 07_evaluation.ipynb.\n",
      "Converted 08_key.ipynb.\n",
      "Converted 09_submission.ipynb.\n",
      "Converted 10_staking.ipynb.\n",
      "Converted index.ipynb.\n"
     ]
    },
    {
     "data": {
      "application/javascript": [
       "\n",
       "            setTimeout(function() {\n",
       "                var nbb_cell_id = 18;\n",
       "                var nbb_unformatted_code = \"# hide\\n# Run this cell to sync all changes with library\\nfrom nbdev import nbdev_export\\n\\nnbdev_export()\";\n",
       "                var nbb_formatted_code = \"# hide\\n# Run this cell to sync all changes with library\\nfrom nbdev import nbdev_export\\n\\nnbdev_export()\";\n",
       "                var nbb_cells = Jupyter.notebook.get_cells();\n",
       "                for (var i = 0; i < nbb_cells.length; ++i) {\n",
       "                    if (nbb_cells[i].input_prompt_number == nbb_cell_id) {\n",
       "                        if (nbb_cells[i].get_text() == nbb_unformatted_code) {\n",
       "                             nbb_cells[i].set_text(nbb_formatted_code);\n",
       "                        }\n",
       "                        break;\n",
       "                    }\n",
       "                }\n",
       "            }, 500);\n",
       "            "
      ],
      "text/plain": [
       "<IPython.core.display.Javascript object>"
      ]
     },
     "metadata": {},
     "output_type": "display_data"
    }
   ],
   "source": [
    "#| include: false\n",
    "# Run this cell to sync all changes with library\n",
    "from nbdev import nbdev_export\n",
    "\n",
    "nbdev_export()"
   ]
  },
  {
   "cell_type": "code",
   "execution_count": 18,
   "metadata": {
    "collapsed": false,
    "pycharm": {
     "name": "#%%\n"
    }
   },
   "outputs": [
    {
     "data": {
      "application/javascript": [
       "\n",
       "            setTimeout(function() {\n",
       "                var nbb_cell_id = 18;\n",
       "                var nbb_unformatted_code = \"# hide\\n# Run this cell to sync all changes with library\\nfrom nbdev import nbdev_export\\n\\nnbdev_export()\";\n",
       "                var nbb_formatted_code = \"# hide\\n# Run this cell to sync all changes with library\\nfrom nbdev import nbdev_export\\n\\nnbdev_export()\";\n",
       "                var nbb_cells = Jupyter.notebook.get_cells();\n",
       "                for (var i = 0; i < nbb_cells.length; ++i) {\n",
       "                    if (nbb_cells[i].input_prompt_number == nbb_cell_id) {\n",
       "                        if (nbb_cells[i].get_text() == nbb_unformatted_code) {\n",
       "                             nbb_cells[i].set_text(nbb_formatted_code);\n",
       "                        }\n",
       "                        break;\n",
       "                    }\n",
       "                }\n",
       "            }, 500);\n",
       "            "
      ],
      "text/plain": [
       "<IPython.core.display.Javascript object>"
      ]
     },
     "metadata": {},
     "output_type": "display_data"
    }
   ],
   "source": []
  }
 ],
 "metadata": {
  "kernelspec": {
   "display_name": "Python 3",
   "language": "python",
   "name": "python3"
  }
 },
 "nbformat": 4,
 "nbformat_minor": 0
}
