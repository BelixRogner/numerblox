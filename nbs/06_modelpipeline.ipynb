{
 "cells": [
  {
   "cell_type": "code",
   "execution_count": null,
   "metadata": {},
   "outputs": [
    {
     "data": {
      "application/javascript": "\n            setTimeout(function() {\n                var nbb_cell_id = 1;\n                var nbb_unformatted_code = \"%load_ext autoreload\\n%autoreload 2\\n%load_ext nb_black\\n%load_ext lab_black\";\n                var nbb_formatted_code = \"%load_ext autoreload\\n%autoreload 2\\n%load_ext nb_black\\n%load_ext lab_black\";\n                var nbb_cells = Jupyter.notebook.get_cells();\n                for (var i = 0; i < nbb_cells.length; ++i) {\n                    if (nbb_cells[i].input_prompt_number == nbb_cell_id) {\n                        if (nbb_cells[i].get_text() == nbb_unformatted_code) {\n                             nbb_cells[i].set_text(nbb_formatted_code);\n                        }\n                        break;\n                    }\n                }\n            }, 500);\n            ",
      "text/plain": "<IPython.core.display.Javascript object>"
     },
     "metadata": {},
     "output_type": "display_data"
    }
   ],
   "source": [
    "%load_ext autoreload\n",
    "%autoreload 2\n",
    "%load_ext nb_black\n",
    "%load_ext lab_black"
   ]
  },
  {
   "cell_type": "code",
   "execution_count": null,
   "metadata": {},
   "outputs": [
    {
     "data": {
      "application/javascript": "\n            setTimeout(function() {\n                var nbb_cell_id = 2;\n                var nbb_unformatted_code = \"# default_exp model_pipeline\";\n                var nbb_formatted_code = \"# default_exp model_pipeline\";\n                var nbb_cells = Jupyter.notebook.get_cells();\n                for (var i = 0; i < nbb_cells.length; ++i) {\n                    if (nbb_cells[i].input_prompt_number == nbb_cell_id) {\n                        if (nbb_cells[i].get_text() == nbb_unformatted_code) {\n                             nbb_cells[i].set_text(nbb_formatted_code);\n                        }\n                        break;\n                    }\n                }\n            }, 500);\n            ",
      "text/plain": "<IPython.core.display.Javascript object>"
     },
     "metadata": {},
     "output_type": "display_data"
    }
   ],
   "source": [
    "# default_exp model_pipeline"
   ]
  },
  {
   "cell_type": "markdown",
   "metadata": {},
   "source": [
    "# Model Pipeline"
   ]
  },
  {
   "cell_type": "markdown",
   "metadata": {},
   "source": [
    "The functionality below uses the `Dataset`, `PreProcessor`, `Model` and `PostProcessor` objects to easily propagate\n",
    "data and generate predictions that are ready to submit."
   ]
  },
  {
   "cell_type": "code",
   "execution_count": null,
   "metadata": {},
   "outputs": [
    {
     "data": {
      "application/javascript": "\n            setTimeout(function() {\n                var nbb_cell_id = 3;\n                var nbb_unformatted_code = \"# hide\\nfrom nbdev.showdoc import *\";\n                var nbb_formatted_code = \"# hide\\nfrom nbdev.showdoc import *\";\n                var nbb_cells = Jupyter.notebook.get_cells();\n                for (var i = 0; i < nbb_cells.length; ++i) {\n                    if (nbb_cells[i].input_prompt_number == nbb_cell_id) {\n                        if (nbb_cells[i].get_text() == nbb_unformatted_code) {\n                             nbb_cells[i].set_text(nbb_formatted_code);\n                        }\n                        break;\n                    }\n                }\n            }, 500);\n            ",
      "text/plain": "<IPython.core.display.Javascript object>"
     },
     "metadata": {},
     "output_type": "display_data"
    }
   ],
   "source": [
    "# hide\n",
    "from nbdev.showdoc import *"
   ]
  },
  {
   "cell_type": "code",
   "execution_count": null,
   "metadata": {},
   "outputs": [
    {
     "data": {
      "application/javascript": "\n            setTimeout(function() {\n                var nbb_cell_id = 4;\n                var nbb_unformatted_code = \"#export\\nimport uuid\\nfrom typing import List\\nfrom tqdm.auto import tqdm\\nfrom typeguard import typechecked\\nfrom rich import print as rich_print\\n\\nfrom numerai_blocks.dataset import Dataset, create_dataset\\nfrom numerai_blocks.preprocessing import BaseProcessor, CopyPreProcessor, GroupStatsPreProcessor, FeatureSelectionPreProcessor\\nfrom numerai_blocks.model import BaseModel, ConstantModel, RandomModel\\nfrom numerai_blocks.postprocessing import FeatureNeutralizer, MeanEnsembler\";\n                var nbb_formatted_code = \"# export\\nimport uuid\\nfrom typing import List\\nfrom tqdm.auto import tqdm\\nfrom typeguard import typechecked\\nfrom rich import print as rich_print\\n\\nfrom numerai_blocks.dataset import Dataset, create_dataset\\nfrom numerai_blocks.preprocessing import (\\n    BaseProcessor,\\n    CopyPreProcessor,\\n    GroupStatsPreProcessor,\\n    FeatureSelectionPreProcessor,\\n)\\nfrom numerai_blocks.model import BaseModel, ConstantModel, RandomModel\\nfrom numerai_blocks.postprocessing import FeatureNeutralizer, MeanEnsembler\";\n                var nbb_cells = Jupyter.notebook.get_cells();\n                for (var i = 0; i < nbb_cells.length; ++i) {\n                    if (nbb_cells[i].input_prompt_number == nbb_cell_id) {\n                        if (nbb_cells[i].get_text() == nbb_unformatted_code) {\n                             nbb_cells[i].set_text(nbb_formatted_code);\n                        }\n                        break;\n                    }\n                }\n            }, 500);\n            ",
      "text/plain": "<IPython.core.display.Javascript object>"
     },
     "metadata": {},
     "output_type": "display_data"
    }
   ],
   "source": [
    "#export\n",
    "import uuid\n",
    "from typing import List\n",
    "from tqdm.auto import tqdm\n",
    "from typeguard import typechecked\n",
    "from rich import print as rich_print\n",
    "\n",
    "from numerai_blocks.dataset import Dataset, create_dataset\n",
    "from numerai_blocks.preprocessing import BaseProcessor, CopyPreProcessor, GroupStatsPreProcessor, FeatureSelectionPreProcessor\n",
    "from numerai_blocks.model import BaseModel, ConstantModel, RandomModel\n",
    "from numerai_blocks.postprocessing import FeatureNeutralizer, MeanEnsembler"
   ]
  },
  {
   "cell_type": "markdown",
   "metadata": {},
   "source": []
  },
  {
   "cell_type": "markdown",
   "metadata": {},
   "source": [
    "## 1. ModelPipeline"
   ]
  },
  {
   "cell_type": "markdown",
   "metadata": {},
   "source": [
    "`ModelPipeline` handles all preprocessing, model prediction and postprocessing.\n",
    "After the `ModelPipeline` completes it returns a `Dataset` with the original data, metadata and added prediction columns."
   ]
  },
  {
   "cell_type": "code",
   "execution_count": null,
   "metadata": {},
   "outputs": [
    {
     "data": {
      "application/javascript": "\n            setTimeout(function() {\n                var nbb_cell_id = 5;\n                var nbb_unformatted_code = \"#export\\n@typechecked\\nclass ModelPipeline:\\n    \\\"\\\"\\\"\\n    Execute all preprocessing, prediction and postprocessing for a given setup.\\n\\n    :param models: Initiliazed (!) numerai-blocks Models that add prediction columns to a given input Dataset\\n    :param preprocessors: List of initialized (!) PreProcessors.\\n    :param postprocessors: List of initialized (!) PostProcessors.\\n    :param copy_first: Whether to copy the Dataset as a first preprocessing step.\\n    Highly recommended in order to avoid accidentally manipulating the original Dataset and/or DataFrame.\\n    :param pipeline_name: Unique name for pipeline.\\n    \\\"\\\"\\\"\\n    def __init__(self,\\n                 models: List[BaseModel],\\n                 preprocessors: List[BaseProcessor] = [],\\n                 postprocessors: List[BaseProcessor] = [],\\n                 copy_first = True,\\n                 pipeline_name: str = None):\\n        self.pipeline_name = pipeline_name if pipeline_name else uuid.uuid4().hex\\n        self.models = models\\n        self.copy_first = copy_first\\n        self.preprocessors = preprocessors\\n        self.postprocessors = postprocessors\\n\\n    def preprocess(self, dataset: Dataset) -> Dataset:\\n        if self.copy_first:\\n            dataset = CopyPreProcessor()(dataset)\\n        for preprocessor in tqdm(self.preprocessors,\\n                                 desc=f\\\"{self.pipeline_name} Preprocessing:\\\",\\n                                 position=0):\\n            rich_print(f\\\":construction: Applying preprocessing: '[bold]{preprocessor.__class__.__name__}[/bold]' :construction:\\\")\\n            dataset = preprocessor(dataset)\\n        return dataset\\n\\n    def postprocess(self, dataset: Dataset) -> Dataset:\\n        for postprocessor in tqdm(self.postprocessors,\\n                                  desc=f\\\"{self.pipeline_name} Postprocessing: \\\",\\n                                  position=0):\\n            rich_print(f\\\":construction: Applying postprocessing: '[bold]{postprocessor.__class__.__name__}[/bold]' :construction:\\\")\\n            dataset = postprocessor(dataset)\\n        return dataset\\n\\n    def process_models(self, dataset: Dataset) -> Dataset:\\n        for model in tqdm(self.models,\\n                                  desc=f\\\"{self.pipeline_name} Model prediction: \\\",\\n                                  position=0):\\n            rich_print(f\\\":robot: Generating model predictions with '[bold]{model.__class__.__name__}[/bold]'. :robot:\\\")\\n            dataset = model(dataset)\\n        return dataset\\n\\n    def pipeline(self, dataset: Dataset) -> Dataset:\\n        \\\"\\\"\\\" Process full pipeline and return resulting Dataset. \\\"\\\"\\\"\\n        preprocessed_dataset = self.preprocess(dataset)\\n        prediction_dataset = self.process_models(preprocessed_dataset)\\n        processed_prediction_dataset = self.postprocess(prediction_dataset)\\n        rich_print(f\\\":checkered_flag: [green]Finished pipeline:[green] [bold blue]'{self.pipeline_name}'[bold blue]! :checkered_flag:\\\")\\n        return processed_prediction_dataset\\n\\n    def __call__(self, dataset: Dataset):\\n        return self.pipeline(dataset)\";\n                var nbb_formatted_code = \"# export\\n@typechecked\\nclass ModelPipeline:\\n    \\\"\\\"\\\"\\n    Execute all preprocessing, prediction and postprocessing for a given setup.\\n\\n    :param models: Initiliazed (!) numerai-blocks Models that add prediction columns to a given input Dataset\\n    :param preprocessors: List of initialized (!) PreProcessors.\\n    :param postprocessors: List of initialized (!) PostProcessors.\\n    :param copy_first: Whether to copy the Dataset as a first preprocessing step.\\n    Highly recommended in order to avoid accidentally manipulating the original Dataset and/or DataFrame.\\n    :param pipeline_name: Unique name for pipeline.\\n    \\\"\\\"\\\"\\n\\n    def __init__(\\n        self,\\n        models: List[BaseModel],\\n        preprocessors: List[BaseProcessor] = [],\\n        postprocessors: List[BaseProcessor] = [],\\n        copy_first=True,\\n        pipeline_name: str = None,\\n    ):\\n        self.pipeline_name = pipeline_name if pipeline_name else uuid.uuid4().hex\\n        self.models = models\\n        self.copy_first = copy_first\\n        self.preprocessors = preprocessors\\n        self.postprocessors = postprocessors\\n\\n    def preprocess(self, dataset: Dataset) -> Dataset:\\n        if self.copy_first:\\n            dataset = CopyPreProcessor()(dataset)\\n        for preprocessor in tqdm(\\n            self.preprocessors, desc=f\\\"{self.pipeline_name} Preprocessing:\\\", position=0\\n        ):\\n            rich_print(\\n                f\\\":construction: Applying preprocessing: '[bold]{preprocessor.__class__.__name__}[/bold]' :construction:\\\"\\n            )\\n            dataset = preprocessor(dataset)\\n        return dataset\\n\\n    def postprocess(self, dataset: Dataset) -> Dataset:\\n        for postprocessor in tqdm(\\n            self.postprocessors,\\n            desc=f\\\"{self.pipeline_name} Postprocessing: \\\",\\n            position=0,\\n        ):\\n            rich_print(\\n                f\\\":construction: Applying postprocessing: '[bold]{postprocessor.__class__.__name__}[/bold]' :construction:\\\"\\n            )\\n            dataset = postprocessor(dataset)\\n        return dataset\\n\\n    def process_models(self, dataset: Dataset) -> Dataset:\\n        for model in tqdm(\\n            self.models, desc=f\\\"{self.pipeline_name} Model prediction: \\\", position=0\\n        ):\\n            rich_print(\\n                f\\\":robot: Generating model predictions with '[bold]{model.__class__.__name__}[/bold]'. :robot:\\\"\\n            )\\n            dataset = model(dataset)\\n        return dataset\\n\\n    def pipeline(self, dataset: Dataset) -> Dataset:\\n        \\\"\\\"\\\"Process full pipeline and return resulting Dataset.\\\"\\\"\\\"\\n        preprocessed_dataset = self.preprocess(dataset)\\n        prediction_dataset = self.process_models(preprocessed_dataset)\\n        processed_prediction_dataset = self.postprocess(prediction_dataset)\\n        rich_print(\\n            f\\\":checkered_flag: [green]Finished pipeline:[green] [bold blue]'{self.pipeline_name}'[bold blue]! :checkered_flag:\\\"\\n        )\\n        return processed_prediction_dataset\\n\\n    def __call__(self, dataset: Dataset):\\n        return self.pipeline(dataset)\";\n                var nbb_cells = Jupyter.notebook.get_cells();\n                for (var i = 0; i < nbb_cells.length; ++i) {\n                    if (nbb_cells[i].input_prompt_number == nbb_cell_id) {\n                        if (nbb_cells[i].get_text() == nbb_unformatted_code) {\n                             nbb_cells[i].set_text(nbb_formatted_code);\n                        }\n                        break;\n                    }\n                }\n            }, 500);\n            ",
      "text/plain": "<IPython.core.display.Javascript object>"
     },
     "metadata": {},
     "output_type": "display_data"
    }
   ],
   "source": [
    "#export\n",
    "@typechecked\n",
    "class ModelPipeline:\n",
    "    \"\"\"\n",
    "    Execute all preprocessing, prediction and postprocessing for a given setup.\n",
    "\n",
    "    :param models: Initiliazed (!) numerai-blocks Models that add prediction columns to a given input Dataset\n",
    "    :param preprocessors: List of initialized (!) PreProcessors.\n",
    "    :param postprocessors: List of initialized (!) PostProcessors.\n",
    "    :param copy_first: Whether to copy the Dataset as a first preprocessing step.\n",
    "    Highly recommended in order to avoid accidentally manipulating the original Dataset and/or DataFrame.\n",
    "    :param pipeline_name: Unique name for pipeline.\n",
    "    \"\"\"\n",
    "    def __init__(self,\n",
    "                 models: List[BaseModel],\n",
    "                 preprocessors: List[BaseProcessor] = [],\n",
    "                 postprocessors: List[BaseProcessor] = [],\n",
    "                 copy_first = True,\n",
    "                 pipeline_name: str = None):\n",
    "        self.pipeline_name = pipeline_name if pipeline_name else uuid.uuid4().hex\n",
    "        self.models = models\n",
    "        self.copy_first = copy_first\n",
    "        self.preprocessors = preprocessors\n",
    "        self.postprocessors = postprocessors\n",
    "\n",
    "    def preprocess(self, dataset: Dataset) -> Dataset:\n",
    "        if self.copy_first:\n",
    "            dataset = CopyPreProcessor()(dataset)\n",
    "        for preprocessor in tqdm(self.preprocessors,\n",
    "                                 desc=f\"{self.pipeline_name} Preprocessing:\",\n",
    "                                 position=0):\n",
    "            rich_print(f\":construction: Applying preprocessing: '[bold]{preprocessor.__class__.__name__}[/bold]' :construction:\")\n",
    "            dataset = preprocessor(dataset)\n",
    "        return dataset\n",
    "\n",
    "    def postprocess(self, dataset: Dataset) -> Dataset:\n",
    "        for postprocessor in tqdm(self.postprocessors,\n",
    "                                  desc=f\"{self.pipeline_name} Postprocessing: \",\n",
    "                                  position=0):\n",
    "            rich_print(f\":construction: Applying postprocessing: '[bold]{postprocessor.__class__.__name__}[/bold]' :construction:\")\n",
    "            dataset = postprocessor(dataset)\n",
    "        return dataset\n",
    "\n",
    "    def process_models(self, dataset: Dataset) -> Dataset:\n",
    "        for model in tqdm(self.models,\n",
    "                                  desc=f\"{self.pipeline_name} Model prediction: \",\n",
    "                                  position=0):\n",
    "            rich_print(f\":robot: Generating model predictions with '[bold]{model.__class__.__name__}[/bold]'. :robot:\")\n",
    "            dataset = model(dataset)\n",
    "        return dataset\n",
    "\n",
    "    def pipeline(self, dataset: Dataset) -> Dataset:\n",
    "        \"\"\" Process full pipeline and return resulting Dataset. \"\"\"\n",
    "        preprocessed_dataset = self.preprocess(dataset)\n",
    "        prediction_dataset = self.process_models(preprocessed_dataset)\n",
    "        processed_prediction_dataset = self.postprocess(prediction_dataset)\n",
    "        rich_print(f\":checkered_flag: [green]Finished pipeline:[green] [bold blue]'{self.pipeline_name}'[bold blue]! :checkered_flag:\")\n",
    "        return processed_prediction_dataset\n",
    "\n",
    "    def __call__(self, dataset: Dataset):\n",
    "        return self.pipeline(dataset)"
   ]
  },
  {
   "cell_type": "code",
   "execution_count": null,
   "metadata": {},
   "outputs": [
    {
     "data": {
      "application/javascript": "\n            setTimeout(function() {\n                var nbb_cell_id = 6;\n                var nbb_unformatted_code = \"# Example using several preprocessor, dummy models and postprocessors\\nmodel_names = [\\\"test_0.5\\\", \\\"test_0.8\\\"]\\n\\ndataset = create_dataset(\\\"test_assets/mini_numerai_version_1_data.csv\\\", version=1)\\npreprocessors = [GroupStatsPreProcessor(), FeatureSelectionPreProcessor(feature_cols=['feature_intelligence_mean', 'feature_intelligence_std'])]\\nmodels = [ConstantModel(constant=0.5, model_name=model_names[0]), ConstantModel(constant=0.8, model_name=model_names[1])]\\npostprocessors = [MeanEnsembler(cols=[f\\\"prediction_{name}\\\" for name in model_names], final_col_name='prediction_ensembled'),\\n                  FeatureNeutralizer(feature_names=['feature_intelligence_mean', 'feature_intelligence_std'],\\n                                     pred_name='prediction_ensembled', proportion=0.8)]\";\n                var nbb_formatted_code = \"# Example using several preprocessor, dummy models and postprocessors\\nmodel_names = [\\\"test_0.5\\\", \\\"test_0.8\\\"]\\n\\ndataset = create_dataset(\\\"test_assets/mini_numerai_version_1_data.csv\\\", version=1)\\npreprocessors = [\\n    GroupStatsPreProcessor(),\\n    FeatureSelectionPreProcessor(\\n        feature_cols=[\\\"feature_intelligence_mean\\\", \\\"feature_intelligence_std\\\"]\\n    ),\\n]\\nmodels = [\\n    ConstantModel(constant=0.5, model_name=model_names[0]),\\n    ConstantModel(constant=0.8, model_name=model_names[1]),\\n]\\npostprocessors = [\\n    MeanEnsembler(\\n        cols=[f\\\"prediction_{name}\\\" for name in model_names],\\n        final_col_name=\\\"prediction_ensembled\\\",\\n    ),\\n    FeatureNeutralizer(\\n        feature_names=[\\\"feature_intelligence_mean\\\", \\\"feature_intelligence_std\\\"],\\n        pred_name=\\\"prediction_ensembled\\\",\\n        proportion=0.8,\\n    ),\\n]\";\n                var nbb_cells = Jupyter.notebook.get_cells();\n                for (var i = 0; i < nbb_cells.length; ++i) {\n                    if (nbb_cells[i].input_prompt_number == nbb_cell_id) {\n                        if (nbb_cells[i].get_text() == nbb_unformatted_code) {\n                             nbb_cells[i].set_text(nbb_formatted_code);\n                        }\n                        break;\n                    }\n                }\n            }, 500);\n            ",
      "text/plain": "<IPython.core.display.Javascript object>"
     },
     "metadata": {},
     "output_type": "display_data"
    }
   ],
   "source": [
    "# Example using several preprocessor, dummy models and postprocessors\n",
    "model_names = [\"test_0.5\", \"test_0.8\"]\n",
    "\n",
    "dataset = create_dataset(\"test_assets/mini_numerai_version_1_data.csv\", version=1)\n",
    "preprocessors = [GroupStatsPreProcessor(), FeatureSelectionPreProcessor(feature_cols=['feature_intelligence_mean', 'feature_intelligence_std'])]\n",
    "models = [ConstantModel(constant=0.5, model_name=model_names[0]), ConstantModel(constant=0.8, model_name=model_names[1])]\n",
    "postprocessors = [MeanEnsembler(cols=[f\"prediction_{name}\" for name in model_names], final_col_name='prediction_ensembled'),\n",
    "                  FeatureNeutralizer(feature_names=['feature_intelligence_mean', 'feature_intelligence_std'],\n",
    "                                     pred_name='prediction_ensembled', proportion=0.8)]"
   ]
  },
  {
   "cell_type": "code",
   "execution_count": null,
   "metadata": {},
   "outputs": [
    {
     "data": {
      "text/html": "<pre style=\"white-space:pre;overflow-x:auto;line-height:normal;font-family:Menlo,'DejaVu Sans Mono',consolas,'Courier New',monospace\">✅ Finished step <span style=\"font-weight: bold\">CopyPreProcessor</span>. Output <span style=\"color: #808000; text-decoration-color: #808000\">shape</span>=<span style=\"font-weight: bold\">(</span><span style=\"color: #008080; text-decoration-color: #008080; font-weight: bold\">10</span>, <span style=\"color: #008080; text-decoration-color: #008080; font-weight: bold\">314</span><span style=\"font-weight: bold\">)</span>. Time taken for step: \n<span style=\"color: #000080; text-decoration-color: #000080; font-weight: bold\">0:00:00</span><span style=\"color: #000080; text-decoration-color: #000080\">.</span><span style=\"color: #000080; text-decoration-color: #000080; font-weight: bold\">000784</span>. ✅\n</pre>\n",
      "text/plain": "✅ Finished step \u001b[1mCopyPreProcessor\u001b[0m. Output \u001b[33mshape\u001b[0m=\u001b[1m(\u001b[0m\u001b[1;36m10\u001b[0m, \u001b[1;36m314\u001b[0m\u001b[1m)\u001b[0m. Time taken for step: \n\u001b[1;34m0:00:00\u001b[0m\u001b[34m.\u001b[0m\u001b[1;34m000784\u001b[0m. ✅\n"
     },
     "metadata": {},
     "output_type": "display_data"
    },
    {
     "data": {
      "application/vnd.jupyter.widget-view+json": {
       "model_id": "4c71d9e99a61435baf45c0202a0eae89",
       "version_major": 2,
       "version_minor": 0
      },
      "text/plain": "test_pipeline Preprocessing::   0%|          | 0/2 [00:00<?, ?it/s]"
     },
     "metadata": {},
     "output_type": "display_data"
    },
    {
     "data": {
      "text/html": "<pre style=\"white-space:pre;overflow-x:auto;line-height:normal;font-family:Menlo,'DejaVu Sans Mono',consolas,'Courier New',monospace\">🚧 Applying preprocessing: <span style=\"color: #008000; text-decoration-color: #008000\">'</span><span style=\"color: #008000; text-decoration-color: #008000; font-weight: bold\">GroupStatsPreProcessor</span><span style=\"color: #008000; text-decoration-color: #008000\">'</span> 🚧\n</pre>\n",
      "text/plain": "🚧 Applying preprocessing: \u001b[32m'\u001b[0m\u001b[1;32mGroupStatsPreProcessor\u001b[0m\u001b[32m'\u001b[0m 🚧\n"
     },
     "metadata": {},
     "output_type": "display_data"
    },
    {
     "data": {
      "text/html": "<pre style=\"white-space:pre;overflow-x:auto;line-height:normal;font-family:Menlo,'DejaVu Sans Mono',consolas,'Courier New',monospace\">✅ Finished step <span style=\"font-weight: bold\">GroupStatsPreProcessor</span>. Output <span style=\"color: #808000; text-decoration-color: #808000\">shape</span>=<span style=\"font-weight: bold\">(</span><span style=\"color: #008080; text-decoration-color: #008080; font-weight: bold\">10</span>, <span style=\"color: #008080; text-decoration-color: #008080; font-weight: bold\">332</span><span style=\"font-weight: bold\">)</span>. Time taken for step: \n<span style=\"color: #000080; text-decoration-color: #000080; font-weight: bold\">0:00:00</span><span style=\"color: #000080; text-decoration-color: #000080\">.</span><span style=\"color: #000080; text-decoration-color: #000080; font-weight: bold\">027089</span>. ✅\n</pre>\n",
      "text/plain": "✅ Finished step \u001b[1mGroupStatsPreProcessor\u001b[0m. Output \u001b[33mshape\u001b[0m=\u001b[1m(\u001b[0m\u001b[1;36m10\u001b[0m, \u001b[1;36m332\u001b[0m\u001b[1m)\u001b[0m. Time taken for step: \n\u001b[1;34m0:00:00\u001b[0m\u001b[34m.\u001b[0m\u001b[1;34m027089\u001b[0m. ✅\n"
     },
     "metadata": {},
     "output_type": "display_data"
    },
    {
     "data": {
      "text/html": "<pre style=\"white-space:pre;overflow-x:auto;line-height:normal;font-family:Menlo,'DejaVu Sans Mono',consolas,'Courier New',monospace\">🚧 Applying preprocessing: <span style=\"color: #008000; text-decoration-color: #008000\">'</span><span style=\"color: #008000; text-decoration-color: #008000; font-weight: bold\">FeatureSelectionPreProcessor</span><span style=\"color: #008000; text-decoration-color: #008000\">'</span> 🚧\n</pre>\n",
      "text/plain": "🚧 Applying preprocessing: \u001b[32m'\u001b[0m\u001b[1;32mFeatureSelectionPreProcessor\u001b[0m\u001b[32m'\u001b[0m 🚧\n"
     },
     "metadata": {},
     "output_type": "display_data"
    },
    {
     "data": {
      "text/html": "<pre style=\"white-space:pre;overflow-x:auto;line-height:normal;font-family:Menlo,'DejaVu Sans Mono',consolas,'Courier New',monospace\">✅ Finished step <span style=\"font-weight: bold\">FeatureSelectionPreProcessor</span>. Output <span style=\"color: #808000; text-decoration-color: #808000\">shape</span>=<span style=\"font-weight: bold\">(</span><span style=\"color: #008080; text-decoration-color: #008080; font-weight: bold\">10</span>, <span style=\"color: #008080; text-decoration-color: #008080; font-weight: bold\">6</span><span style=\"font-weight: bold\">)</span>. Time taken for step: \n<span style=\"color: #000080; text-decoration-color: #000080; font-weight: bold\">0:00:00</span><span style=\"color: #000080; text-decoration-color: #000080\">.</span><span style=\"color: #000080; text-decoration-color: #000080; font-weight: bold\">000954</span>. ✅\n</pre>\n",
      "text/plain": "✅ Finished step \u001b[1mFeatureSelectionPreProcessor\u001b[0m. Output \u001b[33mshape\u001b[0m=\u001b[1m(\u001b[0m\u001b[1;36m10\u001b[0m, \u001b[1;36m6\u001b[0m\u001b[1m)\u001b[0m. Time taken for step: \n\u001b[1;34m0:00:00\u001b[0m\u001b[34m.\u001b[0m\u001b[1;34m000954\u001b[0m. ✅\n"
     },
     "metadata": {},
     "output_type": "display_data"
    },
    {
     "data": {
      "application/vnd.jupyter.widget-view+json": {
       "model_id": "c305a25d5c1c4cd8af8b19e3071d9d7f",
       "version_major": 2,
       "version_minor": 0
      },
      "text/plain": "test_pipeline Model prediction:   0%|          | 0/2 [00:00<?, ?it/s]"
     },
     "metadata": {},
     "output_type": "display_data"
    },
    {
     "data": {
      "text/html": "<pre style=\"white-space:pre;overflow-x:auto;line-height:normal;font-family:Menlo,'DejaVu Sans Mono',consolas,'Courier New',monospace\">🤖 Generating model predictions with <span style=\"color: #008000; text-decoration-color: #008000\">'</span><span style=\"color: #008000; text-decoration-color: #008000; font-weight: bold\">ConstantModel</span><span style=\"color: #008000; text-decoration-color: #008000\">'</span>. 🤖\n</pre>\n",
      "text/plain": "🤖 Generating model predictions with \u001b[32m'\u001b[0m\u001b[1;32mConstantModel\u001b[0m\u001b[32m'\u001b[0m. 🤖\n"
     },
     "metadata": {},
     "output_type": "display_data"
    },
    {
     "data": {
      "text/html": "<pre style=\"white-space:pre;overflow-x:auto;line-height:normal;font-family:Menlo,'DejaVu Sans Mono',consolas,'Courier New',monospace\">🤖 Generating model predictions with <span style=\"color: #008000; text-decoration-color: #008000\">'</span><span style=\"color: #008000; text-decoration-color: #008000; font-weight: bold\">ConstantModel</span><span style=\"color: #008000; text-decoration-color: #008000\">'</span>. 🤖\n</pre>\n",
      "text/plain": "🤖 Generating model predictions with \u001b[32m'\u001b[0m\u001b[1;32mConstantModel\u001b[0m\u001b[32m'\u001b[0m. 🤖\n"
     },
     "metadata": {},
     "output_type": "display_data"
    },
    {
     "data": {
      "application/vnd.jupyter.widget-view+json": {
       "model_id": "c54154b633644922aff4c7fe11c4c14b",
       "version_major": 2,
       "version_minor": 0
      },
      "text/plain": "test_pipeline Postprocessing:   0%|          | 0/2 [00:00<?, ?it/s]"
     },
     "metadata": {},
     "output_type": "display_data"
    },
    {
     "data": {
      "text/html": "<pre style=\"white-space:pre;overflow-x:auto;line-height:normal;font-family:Menlo,'DejaVu Sans Mono',consolas,'Courier New',monospace\">🚧 Applying postprocessing: <span style=\"color: #008000; text-decoration-color: #008000\">'</span><span style=\"color: #008000; text-decoration-color: #008000; font-weight: bold\">MeanEnsembler</span><span style=\"color: #008000; text-decoration-color: #008000\">'</span> 🚧\n</pre>\n",
      "text/plain": "🚧 Applying postprocessing: \u001b[32m'\u001b[0m\u001b[1;32mMeanEnsembler\u001b[0m\u001b[32m'\u001b[0m 🚧\n"
     },
     "metadata": {},
     "output_type": "display_data"
    },
    {
     "data": {
      "text/html": "<pre style=\"white-space:pre;overflow-x:auto;line-height:normal;font-family:Menlo,'DejaVu Sans Mono',consolas,'Courier New',monospace\">🍲 Ensembled <span style=\"color: #000080; text-decoration-color: #000080\">'['</span><span style=\"color: #000080; text-decoration-color: #000080\">prediction_test_0.</span><span style=\"color: #000080; text-decoration-color: #000080; font-weight: bold\">5</span><span style=\"color: #000080; text-decoration-color: #000080\">', </span><span style=\"color: #000080; text-decoration-color: #000080\">'prediction_test_0.8'</span><span style=\"color: #000080; text-decoration-color: #000080; font-weight: bold\">]</span><span style=\"color: #000080; text-decoration-color: #000080\">' with simple mean and saved in </span>\n<span style=\"color: #000080; text-decoration-color: #000080; font-weight: bold\">'</span><span style=\"color: #000080; text-decoration-color: #000080; font-weight: bold\">prediction_ensembled' 🍲</span>\n</pre>\n",
      "text/plain": "🍲 Ensembled \u001b[34m'\u001b[0m\u001b[34m[\u001b[0m\u001b[34m'\u001b[0m\u001b[34mprediction_test_0.\u001b[0m\u001b[1;34m5\u001b[0m\u001b[34m', \u001b[0m\u001b[34m'prediction_test_0.8'\u001b[0m\u001b[1;34m]\u001b[0m\u001b[34m'\u001b[0m\u001b[34m with simple mean and saved in \u001b[0m\n\u001b[1;34m'\u001b[0m\u001b[1;34mprediction_ensembled'\u001b[0m\u001b[1;34m 🍲\u001b[0m\n"
     },
     "metadata": {},
     "output_type": "display_data"
    },
    {
     "data": {
      "text/html": "<pre style=\"white-space:pre;overflow-x:auto;line-height:normal;font-family:Menlo,'DejaVu Sans Mono',consolas,'Courier New',monospace\">✅ Finished step <span style=\"font-weight: bold\">MeanEnsembler</span>. Output <span style=\"color: #808000; text-decoration-color: #808000\">shape</span>=<span style=\"font-weight: bold\">(</span><span style=\"color: #008080; text-decoration-color: #008080; font-weight: bold\">10</span>, <span style=\"color: #008080; text-decoration-color: #008080; font-weight: bold\">9</span><span style=\"font-weight: bold\">)</span>. Time taken for step: <span style=\"color: #000080; text-decoration-color: #000080; font-weight: bold\">0:00:00</span><span style=\"color: #000080; text-decoration-color: #000080\">.</span><span style=\"color: #000080; text-decoration-color: #000080; font-weight: bold\">003370</span>. ✅\n</pre>\n",
      "text/plain": "✅ Finished step \u001b[1mMeanEnsembler\u001b[0m. Output \u001b[33mshape\u001b[0m=\u001b[1m(\u001b[0m\u001b[1;36m10\u001b[0m, \u001b[1;36m9\u001b[0m\u001b[1m)\u001b[0m. Time taken for step: \u001b[1;34m0:00:00\u001b[0m\u001b[34m.\u001b[0m\u001b[1;34m003370\u001b[0m. ✅\n"
     },
     "metadata": {},
     "output_type": "display_data"
    },
    {
     "data": {
      "text/html": "<pre style=\"white-space:pre;overflow-x:auto;line-height:normal;font-family:Menlo,'DejaVu Sans Mono',consolas,'Courier New',monospace\">🚧 Applying postprocessing: <span style=\"color: #008000; text-decoration-color: #008000\">'</span><span style=\"color: #008000; text-decoration-color: #008000; font-weight: bold\">FeatureNeutralizer</span><span style=\"color: #008000; text-decoration-color: #008000\">'</span> 🚧\n</pre>\n",
      "text/plain": "🚧 Applying postprocessing: \u001b[32m'\u001b[0m\u001b[1;32mFeatureNeutralizer\u001b[0m\u001b[32m'\u001b[0m 🚧\n"
     },
     "metadata": {},
     "output_type": "display_data"
    },
    {
     "data": {
      "text/html": "<pre style=\"white-space:pre;overflow-x:auto;line-height:normal;font-family:Menlo,'DejaVu Sans Mono',consolas,'Courier New',monospace\">🤖 Neutralized <span style=\"color: #000080; text-decoration-color: #000080; font-weight: bold\">'prediction_ensembled'</span><span style=\"color: #000080; text-decoration-color: #000080; font-weight: bold\"> with proportion </span><span style=\"color: #000080; text-decoration-color: #000080; font-weight: bold\">'0.8'</span><span style=\"color: #000080; text-decoration-color: #000080; font-weight: bold\"> 🤖</span>\n</pre>\n",
      "text/plain": "🤖 Neutralized \u001b[1;34m'prediction_ensembled'\u001b[0m\u001b[1;34m with proportion \u001b[0m\u001b[1;34m'0.8'\u001b[0m\u001b[1;34m 🤖\u001b[0m\n"
     },
     "metadata": {},
     "output_type": "display_data"
    },
    {
     "data": {
      "text/html": "<pre style=\"white-space:pre;overflow-x:auto;line-height:normal;font-family:Menlo,'DejaVu Sans Mono',consolas,'Courier New',monospace\">New neutralized column = <span style=\"color: #008000; text-decoration-color: #008000; font-weight: bold\">'prediction_ensembled_neutralized_0.8'</span>.\n</pre>\n",
      "text/plain": "New neutralized column = \u001b[1;32m'prediction_ensembled_neutralized_0.8'\u001b[0m.\n"
     },
     "metadata": {},
     "output_type": "display_data"
    },
    {
     "data": {
      "text/html": "<pre style=\"white-space:pre;overflow-x:auto;line-height:normal;font-family:Menlo,'DejaVu Sans Mono',consolas,'Courier New',monospace\">✅ Finished step <span style=\"font-weight: bold\">FeatureNeutralizer</span>. Output <span style=\"color: #808000; text-decoration-color: #808000\">shape</span>=<span style=\"font-weight: bold\">(</span><span style=\"color: #008080; text-decoration-color: #008080; font-weight: bold\">10</span>, <span style=\"color: #008080; text-decoration-color: #008080; font-weight: bold\">10</span><span style=\"font-weight: bold\">)</span>. Time taken for step: \n<span style=\"color: #000080; text-decoration-color: #000080; font-weight: bold\">0:00:00</span><span style=\"color: #000080; text-decoration-color: #000080\">.</span><span style=\"color: #000080; text-decoration-color: #000080; font-weight: bold\">012360</span>. ✅\n</pre>\n",
      "text/plain": "✅ Finished step \u001b[1mFeatureNeutralizer\u001b[0m. Output \u001b[33mshape\u001b[0m=\u001b[1m(\u001b[0m\u001b[1;36m10\u001b[0m, \u001b[1;36m10\u001b[0m\u001b[1m)\u001b[0m. Time taken for step: \n\u001b[1;34m0:00:00\u001b[0m\u001b[34m.\u001b[0m\u001b[1;34m012360\u001b[0m. ✅\n"
     },
     "metadata": {},
     "output_type": "display_data"
    },
    {
     "data": {
      "text/html": "<pre style=\"white-space:pre;overflow-x:auto;line-height:normal;font-family:Menlo,'DejaVu Sans Mono',consolas,'Courier New',monospace\">🏁 <span style=\"color: #008000; text-decoration-color: #008000\">Finished pipeline: </span><span style=\"color: #000080; text-decoration-color: #000080; font-weight: bold\">'test_pipeline'</span><span style=\"color: #000080; text-decoration-color: #000080; font-weight: bold\">! 🏁</span>\n</pre>\n",
      "text/plain": "🏁 \u001b[32mFinished pipeline:\u001b[0m\u001b[32m \u001b[0m\u001b[1;34m'test_pipeline'\u001b[0m\u001b[1;34m! 🏁\u001b[0m\n"
     },
     "metadata": {},
     "output_type": "display_data"
    },
    {
     "data": {
      "application/javascript": "\n            setTimeout(function() {\n                var nbb_cell_id = 7;\n                var nbb_unformatted_code = \"test_pipeline = ModelPipeline(preprocessors=preprocessors, models=models, postprocessors=postprocessors, pipeline_name=\\\"test_pipeline\\\")\\nprocessed_dataset = test_pipeline(dataset)\";\n                var nbb_formatted_code = \"test_pipeline = ModelPipeline(\\n    preprocessors=preprocessors,\\n    models=models,\\n    postprocessors=postprocessors,\\n    pipeline_name=\\\"test_pipeline\\\",\\n)\\nprocessed_dataset = test_pipeline(dataset)\";\n                var nbb_cells = Jupyter.notebook.get_cells();\n                for (var i = 0; i < nbb_cells.length; ++i) {\n                    if (nbb_cells[i].input_prompt_number == nbb_cell_id) {\n                        if (nbb_cells[i].get_text() == nbb_unformatted_code) {\n                             nbb_cells[i].set_text(nbb_formatted_code);\n                        }\n                        break;\n                    }\n                }\n            }, 500);\n            ",
      "text/plain": "<IPython.core.display.Javascript object>"
     },
     "metadata": {},
     "output_type": "display_data"
    }
   ],
   "source": [
    "test_pipeline = ModelPipeline(preprocessors=preprocessors, models=models, postprocessors=postprocessors, pipeline_name=\"test_pipeline\")\n",
    "processed_dataset = test_pipeline(dataset)"
   ]
  },
  {
   "cell_type": "code",
   "execution_count": null,
   "metadata": {},
   "outputs": [
    {
     "data": {
      "text/html": "<div>\n<style scoped>\n    .dataframe tbody tr th:only-of-type {\n        vertical-align: middle;\n    }\n\n    .dataframe tbody tr th {\n        vertical-align: top;\n    }\n\n    .dataframe thead th {\n        text-align: right;\n    }\n</style>\n<table border=\"1\" class=\"dataframe\">\n  <thead>\n    <tr style=\"text-align: right;\">\n      <th></th>\n      <th>feature_intelligence_mean</th>\n      <th>feature_intelligence_std</th>\n      <th>target</th>\n      <th>id</th>\n      <th>era</th>\n      <th>data_type</th>\n      <th>prediction_test_0.5</th>\n      <th>prediction_test_0.8</th>\n      <th>prediction_ensembled</th>\n      <th>prediction_ensembled_neutralized_0.8</th>\n    </tr>\n  </thead>\n  <tbody>\n    <tr>\n      <th>0</th>\n      <td>0.333333</td>\n      <td>0.246183</td>\n      <td>0.50</td>\n      <td>n000315175b67977</td>\n      <td>era1</td>\n      <td>train</td>\n      <td>0.5</td>\n      <td>0.8</td>\n      <td>0.65</td>\n      <td>0.000000</td>\n    </tr>\n    <tr>\n      <th>1</th>\n      <td>0.208333</td>\n      <td>0.234359</td>\n      <td>0.25</td>\n      <td>n0014af834a96cdd</td>\n      <td>era1</td>\n      <td>train</td>\n      <td>0.5</td>\n      <td>0.8</td>\n      <td>0.65</td>\n      <td>0.360880</td>\n    </tr>\n    <tr>\n      <th>2</th>\n      <td>0.479167</td>\n      <td>0.327843</td>\n      <td>0.25</td>\n      <td>n001c93979ac41d4</td>\n      <td>era1</td>\n      <td>train</td>\n      <td>0.5</td>\n      <td>0.8</td>\n      <td>0.65</td>\n      <td>0.350519</td>\n    </tr>\n    <tr>\n      <th>3</th>\n      <td>0.416667</td>\n      <td>0.288675</td>\n      <td>0.25</td>\n      <td>n0034e4143f22a13</td>\n      <td>era1</td>\n      <td>train</td>\n      <td>0.5</td>\n      <td>0.8</td>\n      <td>0.65</td>\n      <td>0.450910</td>\n    </tr>\n    <tr>\n      <th>4</th>\n      <td>0.270833</td>\n      <td>0.128732</td>\n      <td>0.75</td>\n      <td>n00679d1a636062f</td>\n      <td>era1</td>\n      <td>train</td>\n      <td>0.5</td>\n      <td>0.8</td>\n      <td>0.65</td>\n      <td>0.378539</td>\n    </tr>\n    <tr>\n      <th>5</th>\n      <td>0.500000</td>\n      <td>0.213201</td>\n      <td>0.50</td>\n      <td>n009aa2d32389eca</td>\n      <td>era1</td>\n      <td>train</td>\n      <td>0.5</td>\n      <td>0.8</td>\n      <td>0.65</td>\n      <td>0.361540</td>\n    </tr>\n    <tr>\n      <th>6</th>\n      <td>0.604167</td>\n      <td>0.391070</td>\n      <td>0.25</td>\n      <td>n009ef1a5fe009b6</td>\n      <td>era1</td>\n      <td>train</td>\n      <td>0.5</td>\n      <td>0.8</td>\n      <td>0.65</td>\n      <td>0.719895</td>\n    </tr>\n    <tr>\n      <th>7</th>\n      <td>0.770833</td>\n      <td>0.270906</td>\n      <td>0.25</td>\n      <td>n00ae5d51f55fb0f</td>\n      <td>era1</td>\n      <td>train</td>\n      <td>0.5</td>\n      <td>0.8</td>\n      <td>0.65</td>\n      <td>0.339932</td>\n    </tr>\n    <tr>\n      <th>8</th>\n      <td>0.625000</td>\n      <td>0.291937</td>\n      <td>0.50</td>\n      <td>n00b0ac86d77aed7</td>\n      <td>era1</td>\n      <td>train</td>\n      <td>0.5</td>\n      <td>0.8</td>\n      <td>0.65</td>\n      <td>0.710710</td>\n    </tr>\n    <tr>\n      <th>9</th>\n      <td>0.562500</td>\n      <td>0.284545</td>\n      <td>0.75</td>\n      <td>n00c63366aeaf76a</td>\n      <td>era1</td>\n      <td>train</td>\n      <td>0.5</td>\n      <td>0.8</td>\n      <td>0.65</td>\n      <td>1.000000</td>\n    </tr>\n  </tbody>\n</table>\n</div>",
      "text/plain": "   feature_intelligence_mean  feature_intelligence_std  target  \\\n0                   0.333333                  0.246183    0.50   \n1                   0.208333                  0.234359    0.25   \n2                   0.479167                  0.327843    0.25   \n3                   0.416667                  0.288675    0.25   \n4                   0.270833                  0.128732    0.75   \n5                   0.500000                  0.213201    0.50   \n6                   0.604167                  0.391070    0.25   \n7                   0.770833                  0.270906    0.25   \n8                   0.625000                  0.291937    0.50   \n9                   0.562500                  0.284545    0.75   \n\n                 id   era data_type  prediction_test_0.5  prediction_test_0.8  \\\n0  n000315175b67977  era1     train                  0.5                  0.8   \n1  n0014af834a96cdd  era1     train                  0.5                  0.8   \n2  n001c93979ac41d4  era1     train                  0.5                  0.8   \n3  n0034e4143f22a13  era1     train                  0.5                  0.8   \n4  n00679d1a636062f  era1     train                  0.5                  0.8   \n5  n009aa2d32389eca  era1     train                  0.5                  0.8   \n6  n009ef1a5fe009b6  era1     train                  0.5                  0.8   \n7  n00ae5d51f55fb0f  era1     train                  0.5                  0.8   \n8  n00b0ac86d77aed7  era1     train                  0.5                  0.8   \n9  n00c63366aeaf76a  era1     train                  0.5                  0.8   \n\n   prediction_ensembled  prediction_ensembled_neutralized_0.8  \n0                  0.65                              0.000000  \n1                  0.65                              0.360880  \n2                  0.65                              0.350519  \n3                  0.65                              0.450910  \n4                  0.65                              0.378539  \n5                  0.65                              0.361540  \n6                  0.65                              0.719895  \n7                  0.65                              0.339932  \n8                  0.65                              0.710710  \n9                  0.65                              1.000000  "
     },
     "execution_count": null,
     "metadata": {},
     "output_type": "execute_result"
    },
    {
     "data": {
      "application/javascript": "\n            setTimeout(function() {\n                var nbb_cell_id = 8;\n                var nbb_unformatted_code = \"processed_dataset.dataf\";\n                var nbb_formatted_code = \"processed_dataset.dataf\";\n                var nbb_cells = Jupyter.notebook.get_cells();\n                for (var i = 0; i < nbb_cells.length; ++i) {\n                    if (nbb_cells[i].input_prompt_number == nbb_cell_id) {\n                        if (nbb_cells[i].get_text() == nbb_unformatted_code) {\n                             nbb_cells[i].set_text(nbb_formatted_code);\n                        }\n                        break;\n                    }\n                }\n            }, 500);\n            ",
      "text/plain": "<IPython.core.display.Javascript object>"
     },
     "metadata": {},
     "output_type": "display_data"
    }
   ],
   "source": [
    "processed_dataset.dataf"
   ]
  },
  {
   "cell_type": "markdown",
   "metadata": {},
   "source": [
    "## 2. ModelPipelineCollection"
   ]
  },
  {
   "cell_type": "markdown",
   "metadata": {},
   "source": [
    "`ModelPipelineCollection` can be used to easily manage and run multiple `ModelPipeline` objects.\n",
    "\n",
    "TODO: Add multiprocessing support."
   ]
  },
  {
   "cell_type": "code",
   "execution_count": null,
   "metadata": {},
   "outputs": [
    {
     "data": {
      "application/javascript": "\n            setTimeout(function() {\n                var nbb_cell_id = 9;\n                var nbb_unformatted_code = \"#export\\n@typechecked\\nclass ModelPipelineCollection:\\n    \\\"\\\"\\\"\\n    Execute multiple initialized ModelPipelines in a sequence.\\n    :param pipelines: List of initialized ModelPipelines.\\n    \\\"\\\"\\\"\\n    def __init__(self, pipelines: List[ModelPipeline]):\\n        self.pipelines = {pipe.pipeline_name: pipe for pipe in pipelines}\\n        self.pipeline_names = list(self.pipelines.keys())\\n\\n    def process_all_pipelines(self, dataset: Dataset) -> List[Dataset]:\\n        \\\"\\\"\\\" Process all pipelines and return list of resulting Datasets. \\\"\\\"\\\"\\n        result_datasets = []\\n        for name, pipeline in tqdm(self.pipelines.items(),\\n                                   desc=\\\"Processing Pipeline Collection\\\"):\\n            result_datasets.append(self.process_single_pipeline(dataset, name))\\n        return result_datasets\\n\\n    def process_single_pipeline(self, dataset: Dataset, pipeline_name: str) -> Dataset:\\n        rich_print(f\\\":construction_worker: [bold green]Processing model pipeline:[/bold green] '{pipeline_name}' :construction_worker:\\\")\\n        pipeline = self.get_pipeline(pipeline_name)\\n        dataset = pipeline(dataset)\\n        return dataset\\n\\n    def get_pipeline(self, pipeline_name: str) -> ModelPipeline:\\n        available_pipelines = self.pipeline_names\\n        assert pipeline_name in available_pipelines, f\\\"Requested pipeline '{pipeline_name}', but only the following models are in the collection: '{available_pipelines}'.\\\"\\n        return self.pipelines[pipeline_name]\\n\\n    def __call__(self, dataset: Dataset) -> List[Dataset]:\\n        return self.process_all_pipelines(dataset=dataset)\";\n                var nbb_formatted_code = \"# export\\n@typechecked\\nclass ModelPipelineCollection:\\n    \\\"\\\"\\\"\\n    Execute multiple initialized ModelPipelines in a sequence.\\n    :param pipelines: List of initialized ModelPipelines.\\n    \\\"\\\"\\\"\\n\\n    def __init__(self, pipelines: List[ModelPipeline]):\\n        self.pipelines = {pipe.pipeline_name: pipe for pipe in pipelines}\\n        self.pipeline_names = list(self.pipelines.keys())\\n\\n    def process_all_pipelines(self, dataset: Dataset) -> List[Dataset]:\\n        \\\"\\\"\\\"Process all pipelines and return list of resulting Datasets.\\\"\\\"\\\"\\n        result_datasets = []\\n        for name, pipeline in tqdm(\\n            self.pipelines.items(), desc=\\\"Processing Pipeline Collection\\\"\\n        ):\\n            result_datasets.append(self.process_single_pipeline(dataset, name))\\n        return result_datasets\\n\\n    def process_single_pipeline(self, dataset: Dataset, pipeline_name: str) -> Dataset:\\n        rich_print(\\n            f\\\":construction_worker: [bold green]Processing model pipeline:[/bold green] '{pipeline_name}' :construction_worker:\\\"\\n        )\\n        pipeline = self.get_pipeline(pipeline_name)\\n        dataset = pipeline(dataset)\\n        return dataset\\n\\n    def get_pipeline(self, pipeline_name: str) -> ModelPipeline:\\n        available_pipelines = self.pipeline_names\\n        assert (\\n            pipeline_name in available_pipelines\\n        ), f\\\"Requested pipeline '{pipeline_name}', but only the following models are in the collection: '{available_pipelines}'.\\\"\\n        return self.pipelines[pipeline_name]\\n\\n    def __call__(self, dataset: Dataset) -> List[Dataset]:\\n        return self.process_all_pipelines(dataset=dataset)\";\n                var nbb_cells = Jupyter.notebook.get_cells();\n                for (var i = 0; i < nbb_cells.length; ++i) {\n                    if (nbb_cells[i].input_prompt_number == nbb_cell_id) {\n                        if (nbb_cells[i].get_text() == nbb_unformatted_code) {\n                             nbb_cells[i].set_text(nbb_formatted_code);\n                        }\n                        break;\n                    }\n                }\n            }, 500);\n            ",
      "text/plain": "<IPython.core.display.Javascript object>"
     },
     "metadata": {},
     "output_type": "display_data"
    }
   ],
   "source": [
    "#export\n",
    "@typechecked\n",
    "class ModelPipelineCollection:\n",
    "    \"\"\"\n",
    "    Execute multiple initialized ModelPipelines in a sequence.\n",
    "    :param pipelines: List of initialized ModelPipelines.\n",
    "    \"\"\"\n",
    "    def __init__(self, pipelines: List[ModelPipeline]):\n",
    "        self.pipelines = {pipe.pipeline_name: pipe for pipe in pipelines}\n",
    "        self.pipeline_names = list(self.pipelines.keys())\n",
    "\n",
    "    def process_all_pipelines(self, dataset: Dataset) -> List[Dataset]:\n",
    "        \"\"\" Process all pipelines and return list of resulting Datasets. \"\"\"\n",
    "        result_datasets = []\n",
    "        for name, pipeline in tqdm(self.pipelines.items(),\n",
    "                                   desc=\"Processing Pipeline Collection\"):\n",
    "            result_datasets.append(self.process_single_pipeline(dataset, name))\n",
    "        return result_datasets\n",
    "\n",
    "    def process_single_pipeline(self, dataset: Dataset, pipeline_name: str) -> Dataset:\n",
    "        rich_print(f\":construction_worker: [bold green]Processing model pipeline:[/bold green] '{pipeline_name}' :construction_worker:\")\n",
    "        pipeline = self.get_pipeline(pipeline_name)\n",
    "        dataset = pipeline(dataset)\n",
    "        return dataset\n",
    "\n",
    "    def get_pipeline(self, pipeline_name: str) -> ModelPipeline:\n",
    "        available_pipelines = self.pipeline_names\n",
    "        assert pipeline_name in available_pipelines, f\"Requested pipeline '{pipeline_name}', but only the following models are in the collection: '{available_pipelines}'.\"\n",
    "        return self.pipelines[pipeline_name]\n",
    "\n",
    "    def __call__(self, dataset: Dataset) -> List[Dataset]:\n",
    "        return self.process_all_pipelines(dataset=dataset)"
   ]
  },
  {
   "cell_type": "code",
   "execution_count": null,
   "metadata": {},
   "outputs": [
    {
     "data": {
      "application/javascript": "\n            setTimeout(function() {\n                var nbb_cell_id = 10;\n                var nbb_unformatted_code = \"# Different pipeline with no preprocessing or postprocessing. Only RandomModel\\ntest_pipeline2 = ModelPipeline(models=[RandomModel()], pipeline_name=\\\"test_pipeline2\\\")\";\n                var nbb_formatted_code = \"# Different pipeline with no preprocessing or postprocessing. Only RandomModel\\ntest_pipeline2 = ModelPipeline(models=[RandomModel()], pipeline_name=\\\"test_pipeline2\\\")\";\n                var nbb_cells = Jupyter.notebook.get_cells();\n                for (var i = 0; i < nbb_cells.length; ++i) {\n                    if (nbb_cells[i].input_prompt_number == nbb_cell_id) {\n                        if (nbb_cells[i].get_text() == nbb_unformatted_code) {\n                             nbb_cells[i].set_text(nbb_formatted_code);\n                        }\n                        break;\n                    }\n                }\n            }, 500);\n            ",
      "text/plain": "<IPython.core.display.Javascript object>"
     },
     "metadata": {},
     "output_type": "display_data"
    }
   ],
   "source": [
    "# Different pipeline with no preprocessing or postprocessing. Only RandomModel\n",
    "test_pipeline2 = ModelPipeline(models=[RandomModel()], pipeline_name=\"test_pipeline2\")"
   ]
  },
  {
   "cell_type": "code",
   "execution_count": null,
   "metadata": {},
   "outputs": [
    {
     "data": {
      "application/javascript": "\n            setTimeout(function() {\n                var nbb_cell_id = 11;\n                var nbb_unformatted_code = \"collection = ModelPipelineCollection([test_pipeline, test_pipeline2])\\nassert collection.get_pipeline(\\\"test_pipeline2\\\").pipeline_name == 'test_pipeline2'\";\n                var nbb_formatted_code = \"collection = ModelPipelineCollection([test_pipeline, test_pipeline2])\\nassert collection.get_pipeline(\\\"test_pipeline2\\\").pipeline_name == \\\"test_pipeline2\\\"\";\n                var nbb_cells = Jupyter.notebook.get_cells();\n                for (var i = 0; i < nbb_cells.length; ++i) {\n                    if (nbb_cells[i].input_prompt_number == nbb_cell_id) {\n                        if (nbb_cells[i].get_text() == nbb_unformatted_code) {\n                             nbb_cells[i].set_text(nbb_formatted_code);\n                        }\n                        break;\n                    }\n                }\n            }, 500);\n            ",
      "text/plain": "<IPython.core.display.Javascript object>"
     },
     "metadata": {},
     "output_type": "display_data"
    }
   ],
   "source": [
    "collection = ModelPipelineCollection([test_pipeline, test_pipeline2])\n",
    "assert collection.get_pipeline(\"test_pipeline2\").pipeline_name == 'test_pipeline2'"
   ]
  },
  {
   "cell_type": "code",
   "execution_count": null,
   "metadata": {},
   "outputs": [
    {
     "data": {
      "application/vnd.jupyter.widget-view+json": {
       "model_id": "bf6d491413c84884acb485da4e563b28",
       "version_major": 2,
       "version_minor": 0
      },
      "text/plain": "Processing Pipeline Collection:   0%|          | 0/2 [00:00<?, ?it/s]"
     },
     "metadata": {},
     "output_type": "display_data"
    },
    {
     "data": {
      "text/html": "<pre style=\"white-space:pre;overflow-x:auto;line-height:normal;font-family:Menlo,'DejaVu Sans Mono',consolas,'Courier New',monospace\">👷 <span style=\"color: #008000; text-decoration-color: #008000; font-weight: bold\">Processing model pipeline:</span> <span style=\"color: #008000; text-decoration-color: #008000\">'test_pipeline'</span> 👷\n</pre>\n",
      "text/plain": "👷 \u001b[1;32mProcessing model pipeline:\u001b[0m \u001b[32m'test_pipeline'\u001b[0m 👷\n"
     },
     "metadata": {},
     "output_type": "display_data"
    },
    {
     "data": {
      "text/html": "<pre style=\"white-space:pre;overflow-x:auto;line-height:normal;font-family:Menlo,'DejaVu Sans Mono',consolas,'Courier New',monospace\">✅ Finished step <span style=\"font-weight: bold\">CopyPreProcessor</span>. Output <span style=\"color: #808000; text-decoration-color: #808000\">shape</span>=<span style=\"font-weight: bold\">(</span><span style=\"color: #008080; text-decoration-color: #008080; font-weight: bold\">10</span>, <span style=\"color: #008080; text-decoration-color: #008080; font-weight: bold\">314</span><span style=\"font-weight: bold\">)</span>. Time taken for step: \n<span style=\"color: #000080; text-decoration-color: #000080; font-weight: bold\">0:00:00</span><span style=\"color: #000080; text-decoration-color: #000080\">.</span><span style=\"color: #000080; text-decoration-color: #000080; font-weight: bold\">000620</span>. ✅\n</pre>\n",
      "text/plain": "✅ Finished step \u001b[1mCopyPreProcessor\u001b[0m. Output \u001b[33mshape\u001b[0m=\u001b[1m(\u001b[0m\u001b[1;36m10\u001b[0m, \u001b[1;36m314\u001b[0m\u001b[1m)\u001b[0m. Time taken for step: \n\u001b[1;34m0:00:00\u001b[0m\u001b[34m.\u001b[0m\u001b[1;34m000620\u001b[0m. ✅\n"
     },
     "metadata": {},
     "output_type": "display_data"
    },
    {
     "data": {
      "application/vnd.jupyter.widget-view+json": {
       "model_id": "7336115053e540919c43cfb312cdd930",
       "version_major": 2,
       "version_minor": 0
      },
      "text/plain": "test_pipeline Preprocessing::   0%|          | 0/2 [00:00<?, ?it/s]"
     },
     "metadata": {},
     "output_type": "display_data"
    },
    {
     "data": {
      "text/html": "<pre style=\"white-space:pre;overflow-x:auto;line-height:normal;font-family:Menlo,'DejaVu Sans Mono',consolas,'Courier New',monospace\">🚧 Applying preprocessing: <span style=\"color: #008000; text-decoration-color: #008000\">'</span><span style=\"color: #008000; text-decoration-color: #008000; font-weight: bold\">GroupStatsPreProcessor</span><span style=\"color: #008000; text-decoration-color: #008000\">'</span> 🚧\n</pre>\n",
      "text/plain": "🚧 Applying preprocessing: \u001b[32m'\u001b[0m\u001b[1;32mGroupStatsPreProcessor\u001b[0m\u001b[32m'\u001b[0m 🚧\n"
     },
     "metadata": {},
     "output_type": "display_data"
    },
    {
     "data": {
      "text/html": "<pre style=\"white-space:pre;overflow-x:auto;line-height:normal;font-family:Menlo,'DejaVu Sans Mono',consolas,'Courier New',monospace\">✅ Finished step <span style=\"font-weight: bold\">GroupStatsPreProcessor</span>. Output <span style=\"color: #808000; text-decoration-color: #808000\">shape</span>=<span style=\"font-weight: bold\">(</span><span style=\"color: #008080; text-decoration-color: #008080; font-weight: bold\">10</span>, <span style=\"color: #008080; text-decoration-color: #008080; font-weight: bold\">332</span><span style=\"font-weight: bold\">)</span>. Time taken for step: \n<span style=\"color: #000080; text-decoration-color: #000080; font-weight: bold\">0:00:00</span><span style=\"color: #000080; text-decoration-color: #000080\">.</span><span style=\"color: #000080; text-decoration-color: #000080; font-weight: bold\">027373</span>. ✅\n</pre>\n",
      "text/plain": "✅ Finished step \u001b[1mGroupStatsPreProcessor\u001b[0m. Output \u001b[33mshape\u001b[0m=\u001b[1m(\u001b[0m\u001b[1;36m10\u001b[0m, \u001b[1;36m332\u001b[0m\u001b[1m)\u001b[0m. Time taken for step: \n\u001b[1;34m0:00:00\u001b[0m\u001b[34m.\u001b[0m\u001b[1;34m027373\u001b[0m. ✅\n"
     },
     "metadata": {},
     "output_type": "display_data"
    },
    {
     "data": {
      "text/html": "<pre style=\"white-space:pre;overflow-x:auto;line-height:normal;font-family:Menlo,'DejaVu Sans Mono',consolas,'Courier New',monospace\">🚧 Applying preprocessing: <span style=\"color: #008000; text-decoration-color: #008000\">'</span><span style=\"color: #008000; text-decoration-color: #008000; font-weight: bold\">FeatureSelectionPreProcessor</span><span style=\"color: #008000; text-decoration-color: #008000\">'</span> 🚧\n</pre>\n",
      "text/plain": "🚧 Applying preprocessing: \u001b[32m'\u001b[0m\u001b[1;32mFeatureSelectionPreProcessor\u001b[0m\u001b[32m'\u001b[0m 🚧\n"
     },
     "metadata": {},
     "output_type": "display_data"
    },
    {
     "data": {
      "text/html": "<pre style=\"white-space:pre;overflow-x:auto;line-height:normal;font-family:Menlo,'DejaVu Sans Mono',consolas,'Courier New',monospace\">✅ Finished step <span style=\"font-weight: bold\">FeatureSelectionPreProcessor</span>. Output <span style=\"color: #808000; text-decoration-color: #808000\">shape</span>=<span style=\"font-weight: bold\">(</span><span style=\"color: #008080; text-decoration-color: #008080; font-weight: bold\">10</span>, <span style=\"color: #008080; text-decoration-color: #008080; font-weight: bold\">6</span><span style=\"font-weight: bold\">)</span>. Time taken for step: \n<span style=\"color: #000080; text-decoration-color: #000080; font-weight: bold\">0:00:00</span><span style=\"color: #000080; text-decoration-color: #000080\">.</span><span style=\"color: #000080; text-decoration-color: #000080; font-weight: bold\">001098</span>. ✅\n</pre>\n",
      "text/plain": "✅ Finished step \u001b[1mFeatureSelectionPreProcessor\u001b[0m. Output \u001b[33mshape\u001b[0m=\u001b[1m(\u001b[0m\u001b[1;36m10\u001b[0m, \u001b[1;36m6\u001b[0m\u001b[1m)\u001b[0m. Time taken for step: \n\u001b[1;34m0:00:00\u001b[0m\u001b[34m.\u001b[0m\u001b[1;34m001098\u001b[0m. ✅\n"
     },
     "metadata": {},
     "output_type": "display_data"
    },
    {
     "data": {
      "application/vnd.jupyter.widget-view+json": {
       "model_id": "5c2365b3618a4aa7a348a6a367b5b317",
       "version_major": 2,
       "version_minor": 0
      },
      "text/plain": "test_pipeline Model prediction:   0%|          | 0/2 [00:00<?, ?it/s]"
     },
     "metadata": {},
     "output_type": "display_data"
    },
    {
     "data": {
      "text/html": "<pre style=\"white-space:pre;overflow-x:auto;line-height:normal;font-family:Menlo,'DejaVu Sans Mono',consolas,'Courier New',monospace\">🤖 Generating model predictions with <span style=\"color: #008000; text-decoration-color: #008000\">'</span><span style=\"color: #008000; text-decoration-color: #008000; font-weight: bold\">ConstantModel</span><span style=\"color: #008000; text-decoration-color: #008000\">'</span>. 🤖\n</pre>\n",
      "text/plain": "🤖 Generating model predictions with \u001b[32m'\u001b[0m\u001b[1;32mConstantModel\u001b[0m\u001b[32m'\u001b[0m. 🤖\n"
     },
     "metadata": {},
     "output_type": "display_data"
    },
    {
     "data": {
      "text/html": "<pre style=\"white-space:pre;overflow-x:auto;line-height:normal;font-family:Menlo,'DejaVu Sans Mono',consolas,'Courier New',monospace\">🤖 Generating model predictions with <span style=\"color: #008000; text-decoration-color: #008000\">'</span><span style=\"color: #008000; text-decoration-color: #008000; font-weight: bold\">ConstantModel</span><span style=\"color: #008000; text-decoration-color: #008000\">'</span>. 🤖\n</pre>\n",
      "text/plain": "🤖 Generating model predictions with \u001b[32m'\u001b[0m\u001b[1;32mConstantModel\u001b[0m\u001b[32m'\u001b[0m. 🤖\n"
     },
     "metadata": {},
     "output_type": "display_data"
    },
    {
     "data": {
      "application/vnd.jupyter.widget-view+json": {
       "model_id": "b0553667240e4e9381e68bf47acb2593",
       "version_major": 2,
       "version_minor": 0
      },
      "text/plain": "test_pipeline Postprocessing:   0%|          | 0/2 [00:00<?, ?it/s]"
     },
     "metadata": {},
     "output_type": "display_data"
    },
    {
     "data": {
      "text/html": "<pre style=\"white-space:pre;overflow-x:auto;line-height:normal;font-family:Menlo,'DejaVu Sans Mono',consolas,'Courier New',monospace\">🚧 Applying postprocessing: <span style=\"color: #008000; text-decoration-color: #008000\">'</span><span style=\"color: #008000; text-decoration-color: #008000; font-weight: bold\">MeanEnsembler</span><span style=\"color: #008000; text-decoration-color: #008000\">'</span> 🚧\n</pre>\n",
      "text/plain": "🚧 Applying postprocessing: \u001b[32m'\u001b[0m\u001b[1;32mMeanEnsembler\u001b[0m\u001b[32m'\u001b[0m 🚧\n"
     },
     "metadata": {},
     "output_type": "display_data"
    },
    {
     "data": {
      "text/html": "<pre style=\"white-space:pre;overflow-x:auto;line-height:normal;font-family:Menlo,'DejaVu Sans Mono',consolas,'Courier New',monospace\">🍲 Ensembled <span style=\"color: #000080; text-decoration-color: #000080\">'['</span><span style=\"color: #000080; text-decoration-color: #000080\">prediction_test_0.</span><span style=\"color: #000080; text-decoration-color: #000080; font-weight: bold\">5</span><span style=\"color: #000080; text-decoration-color: #000080\">', </span><span style=\"color: #000080; text-decoration-color: #000080\">'prediction_test_0.8'</span><span style=\"color: #000080; text-decoration-color: #000080; font-weight: bold\">]</span><span style=\"color: #000080; text-decoration-color: #000080\">' with simple mean and saved in </span>\n<span style=\"color: #000080; text-decoration-color: #000080; font-weight: bold\">'</span><span style=\"color: #000080; text-decoration-color: #000080; font-weight: bold\">prediction_ensembled' 🍲</span>\n</pre>\n",
      "text/plain": "🍲 Ensembled \u001b[34m'\u001b[0m\u001b[34m[\u001b[0m\u001b[34m'\u001b[0m\u001b[34mprediction_test_0.\u001b[0m\u001b[1;34m5\u001b[0m\u001b[34m', \u001b[0m\u001b[34m'prediction_test_0.8'\u001b[0m\u001b[1;34m]\u001b[0m\u001b[34m'\u001b[0m\u001b[34m with simple mean and saved in \u001b[0m\n\u001b[1;34m'\u001b[0m\u001b[1;34mprediction_ensembled'\u001b[0m\u001b[1;34m 🍲\u001b[0m\n"
     },
     "metadata": {},
     "output_type": "display_data"
    },
    {
     "data": {
      "text/html": "<pre style=\"white-space:pre;overflow-x:auto;line-height:normal;font-family:Menlo,'DejaVu Sans Mono',consolas,'Courier New',monospace\">✅ Finished step <span style=\"font-weight: bold\">MeanEnsembler</span>. Output <span style=\"color: #808000; text-decoration-color: #808000\">shape</span>=<span style=\"font-weight: bold\">(</span><span style=\"color: #008080; text-decoration-color: #008080; font-weight: bold\">10</span>, <span style=\"color: #008080; text-decoration-color: #008080; font-weight: bold\">9</span><span style=\"font-weight: bold\">)</span>. Time taken for step: <span style=\"color: #000080; text-decoration-color: #000080; font-weight: bold\">0:00:00</span><span style=\"color: #000080; text-decoration-color: #000080\">.</span><span style=\"color: #000080; text-decoration-color: #000080; font-weight: bold\">003211</span>. ✅\n</pre>\n",
      "text/plain": "✅ Finished step \u001b[1mMeanEnsembler\u001b[0m. Output \u001b[33mshape\u001b[0m=\u001b[1m(\u001b[0m\u001b[1;36m10\u001b[0m, \u001b[1;36m9\u001b[0m\u001b[1m)\u001b[0m. Time taken for step: \u001b[1;34m0:00:00\u001b[0m\u001b[34m.\u001b[0m\u001b[1;34m003211\u001b[0m. ✅\n"
     },
     "metadata": {},
     "output_type": "display_data"
    },
    {
     "data": {
      "text/html": "<pre style=\"white-space:pre;overflow-x:auto;line-height:normal;font-family:Menlo,'DejaVu Sans Mono',consolas,'Courier New',monospace\">🚧 Applying postprocessing: <span style=\"color: #008000; text-decoration-color: #008000\">'</span><span style=\"color: #008000; text-decoration-color: #008000; font-weight: bold\">FeatureNeutralizer</span><span style=\"color: #008000; text-decoration-color: #008000\">'</span> 🚧\n</pre>\n",
      "text/plain": "🚧 Applying postprocessing: \u001b[32m'\u001b[0m\u001b[1;32mFeatureNeutralizer\u001b[0m\u001b[32m'\u001b[0m 🚧\n"
     },
     "metadata": {},
     "output_type": "display_data"
    },
    {
     "data": {
      "text/html": "<pre style=\"white-space:pre;overflow-x:auto;line-height:normal;font-family:Menlo,'DejaVu Sans Mono',consolas,'Courier New',monospace\">🤖 Neutralized <span style=\"color: #000080; text-decoration-color: #000080; font-weight: bold\">'prediction_ensembled'</span><span style=\"color: #000080; text-decoration-color: #000080; font-weight: bold\"> with proportion </span><span style=\"color: #000080; text-decoration-color: #000080; font-weight: bold\">'0.8'</span><span style=\"color: #000080; text-decoration-color: #000080; font-weight: bold\"> 🤖</span>\n</pre>\n",
      "text/plain": "🤖 Neutralized \u001b[1;34m'prediction_ensembled'\u001b[0m\u001b[1;34m with proportion \u001b[0m\u001b[1;34m'0.8'\u001b[0m\u001b[1;34m 🤖\u001b[0m\n"
     },
     "metadata": {},
     "output_type": "display_data"
    },
    {
     "data": {
      "text/html": "<pre style=\"white-space:pre;overflow-x:auto;line-height:normal;font-family:Menlo,'DejaVu Sans Mono',consolas,'Courier New',monospace\">New neutralized column = <span style=\"color: #008000; text-decoration-color: #008000; font-weight: bold\">'prediction_ensembled_neutralized_0.8'</span>.\n</pre>\n",
      "text/plain": "New neutralized column = \u001b[1;32m'prediction_ensembled_neutralized_0.8'\u001b[0m.\n"
     },
     "metadata": {},
     "output_type": "display_data"
    },
    {
     "data": {
      "text/html": "<pre style=\"white-space:pre;overflow-x:auto;line-height:normal;font-family:Menlo,'DejaVu Sans Mono',consolas,'Courier New',monospace\">✅ Finished step <span style=\"font-weight: bold\">FeatureNeutralizer</span>. Output <span style=\"color: #808000; text-decoration-color: #808000\">shape</span>=<span style=\"font-weight: bold\">(</span><span style=\"color: #008080; text-decoration-color: #008080; font-weight: bold\">10</span>, <span style=\"color: #008080; text-decoration-color: #008080; font-weight: bold\">10</span><span style=\"font-weight: bold\">)</span>. Time taken for step: \n<span style=\"color: #000080; text-decoration-color: #000080; font-weight: bold\">0:00:00</span><span style=\"color: #000080; text-decoration-color: #000080\">.</span><span style=\"color: #000080; text-decoration-color: #000080; font-weight: bold\">012783</span>. ✅\n</pre>\n",
      "text/plain": "✅ Finished step \u001b[1mFeatureNeutralizer\u001b[0m. Output \u001b[33mshape\u001b[0m=\u001b[1m(\u001b[0m\u001b[1;36m10\u001b[0m, \u001b[1;36m10\u001b[0m\u001b[1m)\u001b[0m. Time taken for step: \n\u001b[1;34m0:00:00\u001b[0m\u001b[34m.\u001b[0m\u001b[1;34m012783\u001b[0m. ✅\n"
     },
     "metadata": {},
     "output_type": "display_data"
    },
    {
     "data": {
      "text/html": "<pre style=\"white-space:pre;overflow-x:auto;line-height:normal;font-family:Menlo,'DejaVu Sans Mono',consolas,'Courier New',monospace\">🏁 <span style=\"color: #008000; text-decoration-color: #008000\">Finished pipeline: </span><span style=\"color: #000080; text-decoration-color: #000080; font-weight: bold\">'test_pipeline'</span><span style=\"color: #000080; text-decoration-color: #000080; font-weight: bold\">! 🏁</span>\n</pre>\n",
      "text/plain": "🏁 \u001b[32mFinished pipeline:\u001b[0m\u001b[32m \u001b[0m\u001b[1;34m'test_pipeline'\u001b[0m\u001b[1;34m! 🏁\u001b[0m\n"
     },
     "metadata": {},
     "output_type": "display_data"
    },
    {
     "data": {
      "text/html": "<pre style=\"white-space:pre;overflow-x:auto;line-height:normal;font-family:Menlo,'DejaVu Sans Mono',consolas,'Courier New',monospace\">👷 <span style=\"color: #008000; text-decoration-color: #008000; font-weight: bold\">Processing model pipeline:</span> <span style=\"color: #008000; text-decoration-color: #008000\">'test_pipeline2'</span> 👷\n</pre>\n",
      "text/plain": "👷 \u001b[1;32mProcessing model pipeline:\u001b[0m \u001b[32m'test_pipeline2'\u001b[0m 👷\n"
     },
     "metadata": {},
     "output_type": "display_data"
    },
    {
     "data": {
      "text/html": "<pre style=\"white-space:pre;overflow-x:auto;line-height:normal;font-family:Menlo,'DejaVu Sans Mono',consolas,'Courier New',monospace\">✅ Finished step <span style=\"font-weight: bold\">CopyPreProcessor</span>. Output <span style=\"color: #808000; text-decoration-color: #808000\">shape</span>=<span style=\"font-weight: bold\">(</span><span style=\"color: #008080; text-decoration-color: #008080; font-weight: bold\">10</span>, <span style=\"color: #008080; text-decoration-color: #008080; font-weight: bold\">314</span><span style=\"font-weight: bold\">)</span>. Time taken for step: \n<span style=\"color: #000080; text-decoration-color: #000080; font-weight: bold\">0:00:00</span><span style=\"color: #000080; text-decoration-color: #000080\">.</span><span style=\"color: #000080; text-decoration-color: #000080; font-weight: bold\">000820</span>. ✅\n</pre>\n",
      "text/plain": "✅ Finished step \u001b[1mCopyPreProcessor\u001b[0m. Output \u001b[33mshape\u001b[0m=\u001b[1m(\u001b[0m\u001b[1;36m10\u001b[0m, \u001b[1;36m314\u001b[0m\u001b[1m)\u001b[0m. Time taken for step: \n\u001b[1;34m0:00:00\u001b[0m\u001b[34m.\u001b[0m\u001b[1;34m000820\u001b[0m. ✅\n"
     },
     "metadata": {},
     "output_type": "display_data"
    },
    {
     "data": {
      "application/vnd.jupyter.widget-view+json": {
       "model_id": "c8a2561576cc47c3aab4bc4db02fef26",
       "version_major": 2,
       "version_minor": 0
      },
      "text/plain": "test_pipeline2 Preprocessing:: 0it [00:00, ?it/s]"
     },
     "metadata": {},
     "output_type": "display_data"
    },
    {
     "data": {
      "application/vnd.jupyter.widget-view+json": {
       "model_id": "c5915d09d04445bba26b8f0f1e13f6b8",
       "version_major": 2,
       "version_minor": 0
      },
      "text/plain": "test_pipeline2 Model prediction:   0%|          | 0/1 [00:00<?, ?it/s]"
     },
     "metadata": {},
     "output_type": "display_data"
    },
    {
     "data": {
      "text/html": "<pre style=\"white-space:pre;overflow-x:auto;line-height:normal;font-family:Menlo,'DejaVu Sans Mono',consolas,'Courier New',monospace\">🤖 Generating model predictions with <span style=\"color: #008000; text-decoration-color: #008000\">'</span><span style=\"color: #008000; text-decoration-color: #008000; font-weight: bold\">RandomModel</span><span style=\"color: #008000; text-decoration-color: #008000\">'</span>. 🤖\n</pre>\n",
      "text/plain": "🤖 Generating model predictions with \u001b[32m'\u001b[0m\u001b[1;32mRandomModel\u001b[0m\u001b[32m'\u001b[0m. 🤖\n"
     },
     "metadata": {},
     "output_type": "display_data"
    },
    {
     "data": {
      "application/vnd.jupyter.widget-view+json": {
       "model_id": "94e87c0c7c8848e2be250a7ba3e8405d",
       "version_major": 2,
       "version_minor": 0
      },
      "text/plain": "test_pipeline2 Postprocessing: : 0it [00:00, ?it/s]"
     },
     "metadata": {},
     "output_type": "display_data"
    },
    {
     "data": {
      "text/html": "<pre style=\"white-space:pre;overflow-x:auto;line-height:normal;font-family:Menlo,'DejaVu Sans Mono',consolas,'Courier New',monospace\">🏁 <span style=\"color: #008000; text-decoration-color: #008000\">Finished pipeline: </span><span style=\"color: #000080; text-decoration-color: #000080; font-weight: bold\">'test_pipeline2'</span><span style=\"color: #000080; text-decoration-color: #000080; font-weight: bold\">! 🏁</span>\n</pre>\n",
      "text/plain": "🏁 \u001b[32mFinished pipeline:\u001b[0m\u001b[32m \u001b[0m\u001b[1;34m'test_pipeline2'\u001b[0m\u001b[1;34m! 🏁\u001b[0m\n"
     },
     "metadata": {},
     "output_type": "display_data"
    },
    {
     "data": {
      "application/javascript": "\n            setTimeout(function() {\n                var nbb_cell_id = 12;\n                var nbb_unformatted_code = \"result_datasets = collection(dataset=dataset)\";\n                var nbb_formatted_code = \"result_datasets = collection(dataset=dataset)\";\n                var nbb_cells = Jupyter.notebook.get_cells();\n                for (var i = 0; i < nbb_cells.length; ++i) {\n                    if (nbb_cells[i].input_prompt_number == nbb_cell_id) {\n                        if (nbb_cells[i].get_text() == nbb_unformatted_code) {\n                             nbb_cells[i].set_text(nbb_formatted_code);\n                        }\n                        break;\n                    }\n                }\n            }, 500);\n            ",
      "text/plain": "<IPython.core.display.Javascript object>"
     },
     "metadata": {},
     "output_type": "display_data"
    }
   ],
   "source": [
    "result_datasets = collection(dataset=dataset)"
   ]
  },
  {
   "cell_type": "markdown",
   "metadata": {},
   "source": [
    "The `ModelPipelineCollection` return a list of `Dataset` objects, retaining all metadata and adding prediction columns for each. Note that the 1st `Dataset` had a feature selection step, so it did not retain all columns. However, the second dataset retained all feature columns, because it did not have a feature selection step."
   ]
  },
  {
   "cell_type": "code",
   "execution_count": null,
   "metadata": {},
   "outputs": [
    {
     "data": {
      "text/html": "<div>\n<style scoped>\n    .dataframe tbody tr th:only-of-type {\n        vertical-align: middle;\n    }\n\n    .dataframe tbody tr th {\n        vertical-align: top;\n    }\n\n    .dataframe thead th {\n        text-align: right;\n    }\n</style>\n<table border=\"1\" class=\"dataframe\">\n  <thead>\n    <tr style=\"text-align: right;\">\n      <th></th>\n      <th>feature_intelligence_mean</th>\n      <th>feature_intelligence_std</th>\n      <th>target</th>\n      <th>id</th>\n      <th>era</th>\n      <th>data_type</th>\n      <th>prediction_test_0.5</th>\n      <th>prediction_test_0.8</th>\n      <th>prediction_ensembled</th>\n      <th>prediction_ensembled_neutralized_0.8</th>\n    </tr>\n  </thead>\n  <tbody>\n    <tr>\n      <th>0</th>\n      <td>0.333333</td>\n      <td>0.246183</td>\n      <td>0.50</td>\n      <td>n000315175b67977</td>\n      <td>era1</td>\n      <td>train</td>\n      <td>0.5</td>\n      <td>0.8</td>\n      <td>0.65</td>\n      <td>0.000000</td>\n    </tr>\n    <tr>\n      <th>1</th>\n      <td>0.208333</td>\n      <td>0.234359</td>\n      <td>0.25</td>\n      <td>n0014af834a96cdd</td>\n      <td>era1</td>\n      <td>train</td>\n      <td>0.5</td>\n      <td>0.8</td>\n      <td>0.65</td>\n      <td>0.360880</td>\n    </tr>\n    <tr>\n      <th>2</th>\n      <td>0.479167</td>\n      <td>0.327843</td>\n      <td>0.25</td>\n      <td>n001c93979ac41d4</td>\n      <td>era1</td>\n      <td>train</td>\n      <td>0.5</td>\n      <td>0.8</td>\n      <td>0.65</td>\n      <td>0.350519</td>\n    </tr>\n    <tr>\n      <th>3</th>\n      <td>0.416667</td>\n      <td>0.288675</td>\n      <td>0.25</td>\n      <td>n0034e4143f22a13</td>\n      <td>era1</td>\n      <td>train</td>\n      <td>0.5</td>\n      <td>0.8</td>\n      <td>0.65</td>\n      <td>0.450910</td>\n    </tr>\n    <tr>\n      <th>4</th>\n      <td>0.270833</td>\n      <td>0.128732</td>\n      <td>0.75</td>\n      <td>n00679d1a636062f</td>\n      <td>era1</td>\n      <td>train</td>\n      <td>0.5</td>\n      <td>0.8</td>\n      <td>0.65</td>\n      <td>0.378539</td>\n    </tr>\n    <tr>\n      <th>5</th>\n      <td>0.500000</td>\n      <td>0.213201</td>\n      <td>0.50</td>\n      <td>n009aa2d32389eca</td>\n      <td>era1</td>\n      <td>train</td>\n      <td>0.5</td>\n      <td>0.8</td>\n      <td>0.65</td>\n      <td>0.361540</td>\n    </tr>\n    <tr>\n      <th>6</th>\n      <td>0.604167</td>\n      <td>0.391070</td>\n      <td>0.25</td>\n      <td>n009ef1a5fe009b6</td>\n      <td>era1</td>\n      <td>train</td>\n      <td>0.5</td>\n      <td>0.8</td>\n      <td>0.65</td>\n      <td>0.719895</td>\n    </tr>\n    <tr>\n      <th>7</th>\n      <td>0.770833</td>\n      <td>0.270906</td>\n      <td>0.25</td>\n      <td>n00ae5d51f55fb0f</td>\n      <td>era1</td>\n      <td>train</td>\n      <td>0.5</td>\n      <td>0.8</td>\n      <td>0.65</td>\n      <td>0.339932</td>\n    </tr>\n    <tr>\n      <th>8</th>\n      <td>0.625000</td>\n      <td>0.291937</td>\n      <td>0.50</td>\n      <td>n00b0ac86d77aed7</td>\n      <td>era1</td>\n      <td>train</td>\n      <td>0.5</td>\n      <td>0.8</td>\n      <td>0.65</td>\n      <td>0.710710</td>\n    </tr>\n    <tr>\n      <th>9</th>\n      <td>0.562500</td>\n      <td>0.284545</td>\n      <td>0.75</td>\n      <td>n00c63366aeaf76a</td>\n      <td>era1</td>\n      <td>train</td>\n      <td>0.5</td>\n      <td>0.8</td>\n      <td>0.65</td>\n      <td>1.000000</td>\n    </tr>\n  </tbody>\n</table>\n</div>",
      "text/plain": "   feature_intelligence_mean  feature_intelligence_std  target  \\\n0                   0.333333                  0.246183    0.50   \n1                   0.208333                  0.234359    0.25   \n2                   0.479167                  0.327843    0.25   \n3                   0.416667                  0.288675    0.25   \n4                   0.270833                  0.128732    0.75   \n5                   0.500000                  0.213201    0.50   \n6                   0.604167                  0.391070    0.25   \n7                   0.770833                  0.270906    0.25   \n8                   0.625000                  0.291937    0.50   \n9                   0.562500                  0.284545    0.75   \n\n                 id   era data_type  prediction_test_0.5  prediction_test_0.8  \\\n0  n000315175b67977  era1     train                  0.5                  0.8   \n1  n0014af834a96cdd  era1     train                  0.5                  0.8   \n2  n001c93979ac41d4  era1     train                  0.5                  0.8   \n3  n0034e4143f22a13  era1     train                  0.5                  0.8   \n4  n00679d1a636062f  era1     train                  0.5                  0.8   \n5  n009aa2d32389eca  era1     train                  0.5                  0.8   \n6  n009ef1a5fe009b6  era1     train                  0.5                  0.8   \n7  n00ae5d51f55fb0f  era1     train                  0.5                  0.8   \n8  n00b0ac86d77aed7  era1     train                  0.5                  0.8   \n9  n00c63366aeaf76a  era1     train                  0.5                  0.8   \n\n   prediction_ensembled  prediction_ensembled_neutralized_0.8  \n0                  0.65                              0.000000  \n1                  0.65                              0.360880  \n2                  0.65                              0.350519  \n3                  0.65                              0.450910  \n4                  0.65                              0.378539  \n5                  0.65                              0.361540  \n6                  0.65                              0.719895  \n7                  0.65                              0.339932  \n8                  0.65                              0.710710  \n9                  0.65                              1.000000  "
     },
     "execution_count": null,
     "metadata": {},
     "output_type": "execute_result"
    },
    {
     "data": {
      "application/javascript": "\n            setTimeout(function() {\n                var nbb_cell_id = 13;\n                var nbb_unformatted_code = \"result_datasets[0].dataf\";\n                var nbb_formatted_code = \"result_datasets[0].dataf\";\n                var nbb_cells = Jupyter.notebook.get_cells();\n                for (var i = 0; i < nbb_cells.length; ++i) {\n                    if (nbb_cells[i].input_prompt_number == nbb_cell_id) {\n                        if (nbb_cells[i].get_text() == nbb_unformatted_code) {\n                             nbb_cells[i].set_text(nbb_formatted_code);\n                        }\n                        break;\n                    }\n                }\n            }, 500);\n            ",
      "text/plain": "<IPython.core.display.Javascript object>"
     },
     "metadata": {},
     "output_type": "display_data"
    }
   ],
   "source": [
    "result_datasets[0].dataf"
   ]
  },
  {
   "cell_type": "code",
   "execution_count": null,
   "metadata": {},
   "outputs": [
    {
     "data": {
      "text/html": "<div>\n<style scoped>\n    .dataframe tbody tr th:only-of-type {\n        vertical-align: middle;\n    }\n\n    .dataframe tbody tr th {\n        vertical-align: top;\n    }\n\n    .dataframe thead th {\n        text-align: right;\n    }\n</style>\n<table border=\"1\" class=\"dataframe\">\n  <thead>\n    <tr style=\"text-align: right;\">\n      <th></th>\n      <th>id</th>\n      <th>era</th>\n      <th>data_type</th>\n      <th>feature_intelligence1</th>\n      <th>feature_intelligence2</th>\n      <th>feature_intelligence3</th>\n      <th>feature_intelligence4</th>\n      <th>feature_intelligence5</th>\n      <th>feature_intelligence6</th>\n      <th>feature_intelligence7</th>\n      <th>...</th>\n      <th>feature_wisdom39</th>\n      <th>feature_wisdom40</th>\n      <th>feature_wisdom41</th>\n      <th>feature_wisdom42</th>\n      <th>feature_wisdom43</th>\n      <th>feature_wisdom44</th>\n      <th>feature_wisdom45</th>\n      <th>feature_wisdom46</th>\n      <th>target</th>\n      <th>prediction_random</th>\n    </tr>\n  </thead>\n  <tbody>\n    <tr>\n      <th>0</th>\n      <td>n000315175b67977</td>\n      <td>era1</td>\n      <td>train</td>\n      <td>0.00</td>\n      <td>0.50</td>\n      <td>0.25</td>\n      <td>0.00</td>\n      <td>0.50</td>\n      <td>0.25</td>\n      <td>0.25</td>\n      <td>...</td>\n      <td>1.00</td>\n      <td>0.75</td>\n      <td>0.50</td>\n      <td>0.75</td>\n      <td>0.50</td>\n      <td>1.00</td>\n      <td>0.50</td>\n      <td>0.75</td>\n      <td>0.50</td>\n      <td>0.117123</td>\n    </tr>\n    <tr>\n      <th>1</th>\n      <td>n0014af834a96cdd</td>\n      <td>era1</td>\n      <td>train</td>\n      <td>0.00</td>\n      <td>0.00</td>\n      <td>0.00</td>\n      <td>0.25</td>\n      <td>0.50</td>\n      <td>0.00</td>\n      <td>0.00</td>\n      <td>...</td>\n      <td>1.00</td>\n      <td>0.00</td>\n      <td>0.00</td>\n      <td>0.75</td>\n      <td>0.25</td>\n      <td>0.00</td>\n      <td>0.25</td>\n      <td>1.00</td>\n      <td>0.25</td>\n      <td>0.940155</td>\n    </tr>\n    <tr>\n      <th>2</th>\n      <td>n001c93979ac41d4</td>\n      <td>era1</td>\n      <td>train</td>\n      <td>0.25</td>\n      <td>0.50</td>\n      <td>0.25</td>\n      <td>0.25</td>\n      <td>1.00</td>\n      <td>0.75</td>\n      <td>0.75</td>\n      <td>...</td>\n      <td>0.50</td>\n      <td>0.00</td>\n      <td>0.00</td>\n      <td>0.50</td>\n      <td>1.00</td>\n      <td>0.00</td>\n      <td>0.25</td>\n      <td>0.75</td>\n      <td>0.25</td>\n      <td>0.843971</td>\n    </tr>\n    <tr>\n      <th>3</th>\n      <td>n0034e4143f22a13</td>\n      <td>era1</td>\n      <td>train</td>\n      <td>1.00</td>\n      <td>0.00</td>\n      <td>0.00</td>\n      <td>0.50</td>\n      <td>0.50</td>\n      <td>0.25</td>\n      <td>0.25</td>\n      <td>...</td>\n      <td>1.00</td>\n      <td>0.75</td>\n      <td>0.75</td>\n      <td>1.00</td>\n      <td>1.00</td>\n      <td>0.75</td>\n      <td>1.00</td>\n      <td>1.00</td>\n      <td>0.25</td>\n      <td>0.486470</td>\n    </tr>\n    <tr>\n      <th>4</th>\n      <td>n00679d1a636062f</td>\n      <td>era1</td>\n      <td>train</td>\n      <td>0.25</td>\n      <td>0.25</td>\n      <td>0.25</td>\n      <td>0.25</td>\n      <td>0.00</td>\n      <td>0.25</td>\n      <td>0.50</td>\n      <td>...</td>\n      <td>0.75</td>\n      <td>0.25</td>\n      <td>0.50</td>\n      <td>0.75</td>\n      <td>0.00</td>\n      <td>0.50</td>\n      <td>0.25</td>\n      <td>0.75</td>\n      <td>0.75</td>\n      <td>0.888108</td>\n    </tr>\n    <tr>\n      <th>5</th>\n      <td>n009aa2d32389eca</td>\n      <td>era1</td>\n      <td>train</td>\n      <td>0.50</td>\n      <td>0.50</td>\n      <td>0.25</td>\n      <td>0.25</td>\n      <td>0.75</td>\n      <td>0.75</td>\n      <td>0.75</td>\n      <td>...</td>\n      <td>0.75</td>\n      <td>0.00</td>\n      <td>0.00</td>\n      <td>0.75</td>\n      <td>0.50</td>\n      <td>0.00</td>\n      <td>0.25</td>\n      <td>0.00</td>\n      <td>0.50</td>\n      <td>0.959341</td>\n    </tr>\n    <tr>\n      <th>6</th>\n      <td>n009ef1a5fe009b6</td>\n      <td>era1</td>\n      <td>train</td>\n      <td>0.50</td>\n      <td>0.25</td>\n      <td>0.25</td>\n      <td>0.75</td>\n      <td>1.00</td>\n      <td>1.00</td>\n      <td>1.00</td>\n      <td>...</td>\n      <td>1.00</td>\n      <td>0.50</td>\n      <td>0.50</td>\n      <td>0.75</td>\n      <td>0.50</td>\n      <td>0.50</td>\n      <td>0.50</td>\n      <td>1.00</td>\n      <td>0.25</td>\n      <td>0.342060</td>\n    </tr>\n    <tr>\n      <th>7</th>\n      <td>n00ae5d51f55fb0f</td>\n      <td>era1</td>\n      <td>train</td>\n      <td>0.25</td>\n      <td>1.00</td>\n      <td>1.00</td>\n      <td>0.75</td>\n      <td>1.00</td>\n      <td>0.75</td>\n      <td>0.75</td>\n      <td>...</td>\n      <td>0.25</td>\n      <td>0.75</td>\n      <td>0.75</td>\n      <td>0.00</td>\n      <td>0.25</td>\n      <td>0.75</td>\n      <td>0.50</td>\n      <td>0.25</td>\n      <td>0.25</td>\n      <td>0.128034</td>\n    </tr>\n    <tr>\n      <th>8</th>\n      <td>n00b0ac86d77aed7</td>\n      <td>era1</td>\n      <td>train</td>\n      <td>0.50</td>\n      <td>0.50</td>\n      <td>0.50</td>\n      <td>1.00</td>\n      <td>1.00</td>\n      <td>0.25</td>\n      <td>0.50</td>\n      <td>...</td>\n      <td>0.00</td>\n      <td>0.00</td>\n      <td>0.00</td>\n      <td>0.00</td>\n      <td>1.00</td>\n      <td>0.00</td>\n      <td>0.00</td>\n      <td>0.00</td>\n      <td>0.50</td>\n      <td>0.541538</td>\n    </tr>\n    <tr>\n      <th>9</th>\n      <td>n00c63366aeaf76a</td>\n      <td>era1</td>\n      <td>train</td>\n      <td>0.50</td>\n      <td>1.00</td>\n      <td>1.00</td>\n      <td>0.25</td>\n      <td>0.75</td>\n      <td>0.25</td>\n      <td>0.25</td>\n      <td>...</td>\n      <td>0.00</td>\n      <td>1.00</td>\n      <td>1.00</td>\n      <td>0.75</td>\n      <td>0.50</td>\n      <td>1.00</td>\n      <td>1.00</td>\n      <td>0.75</td>\n      <td>0.75</td>\n      <td>0.684536</td>\n    </tr>\n  </tbody>\n</table>\n<p>10 rows × 315 columns</p>\n</div>",
      "text/plain": "                 id   era data_type  feature_intelligence1  \\\n0  n000315175b67977  era1     train                   0.00   \n1  n0014af834a96cdd  era1     train                   0.00   \n2  n001c93979ac41d4  era1     train                   0.25   \n3  n0034e4143f22a13  era1     train                   1.00   \n4  n00679d1a636062f  era1     train                   0.25   \n5  n009aa2d32389eca  era1     train                   0.50   \n6  n009ef1a5fe009b6  era1     train                   0.50   \n7  n00ae5d51f55fb0f  era1     train                   0.25   \n8  n00b0ac86d77aed7  era1     train                   0.50   \n9  n00c63366aeaf76a  era1     train                   0.50   \n\n   feature_intelligence2  feature_intelligence3  feature_intelligence4  \\\n0                   0.50                   0.25                   0.00   \n1                   0.00                   0.00                   0.25   \n2                   0.50                   0.25                   0.25   \n3                   0.00                   0.00                   0.50   \n4                   0.25                   0.25                   0.25   \n5                   0.50                   0.25                   0.25   \n6                   0.25                   0.25                   0.75   \n7                   1.00                   1.00                   0.75   \n8                   0.50                   0.50                   1.00   \n9                   1.00                   1.00                   0.25   \n\n   feature_intelligence5  feature_intelligence6  feature_intelligence7  ...  \\\n0                   0.50                   0.25                   0.25  ...   \n1                   0.50                   0.00                   0.00  ...   \n2                   1.00                   0.75                   0.75  ...   \n3                   0.50                   0.25                   0.25  ...   \n4                   0.00                   0.25                   0.50  ...   \n5                   0.75                   0.75                   0.75  ...   \n6                   1.00                   1.00                   1.00  ...   \n7                   1.00                   0.75                   0.75  ...   \n8                   1.00                   0.25                   0.50  ...   \n9                   0.75                   0.25                   0.25  ...   \n\n   feature_wisdom39  feature_wisdom40  feature_wisdom41  feature_wisdom42  \\\n0              1.00              0.75              0.50              0.75   \n1              1.00              0.00              0.00              0.75   \n2              0.50              0.00              0.00              0.50   \n3              1.00              0.75              0.75              1.00   \n4              0.75              0.25              0.50              0.75   \n5              0.75              0.00              0.00              0.75   \n6              1.00              0.50              0.50              0.75   \n7              0.25              0.75              0.75              0.00   \n8              0.00              0.00              0.00              0.00   \n9              0.00              1.00              1.00              0.75   \n\n   feature_wisdom43  feature_wisdom44  feature_wisdom45  feature_wisdom46  \\\n0              0.50              1.00              0.50              0.75   \n1              0.25              0.00              0.25              1.00   \n2              1.00              0.00              0.25              0.75   \n3              1.00              0.75              1.00              1.00   \n4              0.00              0.50              0.25              0.75   \n5              0.50              0.00              0.25              0.00   \n6              0.50              0.50              0.50              1.00   \n7              0.25              0.75              0.50              0.25   \n8              1.00              0.00              0.00              0.00   \n9              0.50              1.00              1.00              0.75   \n\n   target  prediction_random  \n0    0.50           0.117123  \n1    0.25           0.940155  \n2    0.25           0.843971  \n3    0.25           0.486470  \n4    0.75           0.888108  \n5    0.50           0.959341  \n6    0.25           0.342060  \n7    0.25           0.128034  \n8    0.50           0.541538  \n9    0.75           0.684536  \n\n[10 rows x 315 columns]"
     },
     "execution_count": null,
     "metadata": {},
     "output_type": "execute_result"
    },
    {
     "data": {
      "application/javascript": "\n            setTimeout(function() {\n                var nbb_cell_id = 14;\n                var nbb_unformatted_code = \"result_datasets[1].dataf\";\n                var nbb_formatted_code = \"result_datasets[1].dataf\";\n                var nbb_cells = Jupyter.notebook.get_cells();\n                for (var i = 0; i < nbb_cells.length; ++i) {\n                    if (nbb_cells[i].input_prompt_number == nbb_cell_id) {\n                        if (nbb_cells[i].get_text() == nbb_unformatted_code) {\n                             nbb_cells[i].set_text(nbb_formatted_code);\n                        }\n                        break;\n                    }\n                }\n            }, 500);\n            ",
      "text/plain": "<IPython.core.display.Javascript object>"
     },
     "metadata": {},
     "output_type": "display_data"
    }
   ],
   "source": [
    "result_datasets[1].dataf"
   ]
  },
  {
   "cell_type": "markdown",
   "metadata": {},
   "source": [
    "Note that multiple resulting `Dataset` objects can be merged. Convenient for ensembling applications based on multiple pipelines."
   ]
  },
  {
   "cell_type": "code",
   "execution_count": null,
   "metadata": {},
   "outputs": [
    {
     "data": {
      "text/html": "<div>\n<style scoped>\n    .dataframe tbody tr th:only-of-type {\n        vertical-align: middle;\n    }\n\n    .dataframe tbody tr th {\n        vertical-align: top;\n    }\n\n    .dataframe thead th {\n        text-align: right;\n    }\n</style>\n<table border=\"1\" class=\"dataframe\">\n  <thead>\n    <tr style=\"text-align: right;\">\n      <th></th>\n      <th>prediction_test_0.5</th>\n      <th>prediction_test_0.8</th>\n      <th>prediction_ensembled</th>\n      <th>prediction_ensembled_neutralized_0.8</th>\n      <th>prediction_random</th>\n    </tr>\n  </thead>\n  <tbody>\n    <tr>\n      <th>0</th>\n      <td>0.5</td>\n      <td>0.8</td>\n      <td>0.65</td>\n      <td>0.000000</td>\n      <td>0.117123</td>\n    </tr>\n    <tr>\n      <th>1</th>\n      <td>0.5</td>\n      <td>0.8</td>\n      <td>0.65</td>\n      <td>0.360880</td>\n      <td>0.940155</td>\n    </tr>\n    <tr>\n      <th>2</th>\n      <td>0.5</td>\n      <td>0.8</td>\n      <td>0.65</td>\n      <td>0.350519</td>\n      <td>0.843971</td>\n    </tr>\n    <tr>\n      <th>3</th>\n      <td>0.5</td>\n      <td>0.8</td>\n      <td>0.65</td>\n      <td>0.450910</td>\n      <td>0.486470</td>\n    </tr>\n    <tr>\n      <th>4</th>\n      <td>0.5</td>\n      <td>0.8</td>\n      <td>0.65</td>\n      <td>0.378539</td>\n      <td>0.888108</td>\n    </tr>\n    <tr>\n      <th>5</th>\n      <td>0.5</td>\n      <td>0.8</td>\n      <td>0.65</td>\n      <td>0.361540</td>\n      <td>0.959341</td>\n    </tr>\n    <tr>\n      <th>6</th>\n      <td>0.5</td>\n      <td>0.8</td>\n      <td>0.65</td>\n      <td>0.719895</td>\n      <td>0.342060</td>\n    </tr>\n    <tr>\n      <th>7</th>\n      <td>0.5</td>\n      <td>0.8</td>\n      <td>0.65</td>\n      <td>0.339932</td>\n      <td>0.128034</td>\n    </tr>\n    <tr>\n      <th>8</th>\n      <td>0.5</td>\n      <td>0.8</td>\n      <td>0.65</td>\n      <td>0.710710</td>\n      <td>0.541538</td>\n    </tr>\n    <tr>\n      <th>9</th>\n      <td>0.5</td>\n      <td>0.8</td>\n      <td>0.65</td>\n      <td>1.000000</td>\n      <td>0.684536</td>\n    </tr>\n  </tbody>\n</table>\n</div>",
      "text/plain": "   prediction_test_0.5  prediction_test_0.8  prediction_ensembled  \\\n0                  0.5                  0.8                  0.65   \n1                  0.5                  0.8                  0.65   \n2                  0.5                  0.8                  0.65   \n3                  0.5                  0.8                  0.65   \n4                  0.5                  0.8                  0.65   \n5                  0.5                  0.8                  0.65   \n6                  0.5                  0.8                  0.65   \n7                  0.5                  0.8                  0.65   \n8                  0.5                  0.8                  0.65   \n9                  0.5                  0.8                  0.65   \n\n   prediction_ensembled_neutralized_0.8  prediction_random  \n0                              0.000000           0.117123  \n1                              0.360880           0.940155  \n2                              0.350519           0.843971  \n3                              0.450910           0.486470  \n4                              0.378539           0.888108  \n5                              0.361540           0.959341  \n6                              0.719895           0.342060  \n7                              0.339932           0.128034  \n8                              0.710710           0.541538  \n9                              1.000000           0.684536  "
     },
     "execution_count": null,
     "metadata": {},
     "output_type": "execute_result"
    },
    {
     "data": {
      "application/javascript": "\n            setTimeout(function() {\n                var nbb_cell_id = 15;\n                var nbb_unformatted_code = \"combined_dataset = result_datasets[0].merge_datasets(result_datasets[1], on='id', how='outer')\\ncombined_dataset.get_prediction_data\";\n                var nbb_formatted_code = \"combined_dataset = result_datasets[0].merge_datasets(\\n    result_datasets[1], on=\\\"id\\\", how=\\\"outer\\\"\\n)\\ncombined_dataset.get_prediction_data\";\n                var nbb_cells = Jupyter.notebook.get_cells();\n                for (var i = 0; i < nbb_cells.length; ++i) {\n                    if (nbb_cells[i].input_prompt_number == nbb_cell_id) {\n                        if (nbb_cells[i].get_text() == nbb_unformatted_code) {\n                             nbb_cells[i].set_text(nbb_formatted_code);\n                        }\n                        break;\n                    }\n                }\n            }, 500);\n            ",
      "text/plain": "<IPython.core.display.Javascript object>"
     },
     "metadata": {},
     "output_type": "display_data"
    }
   ],
   "source": [
    "combined_dataset = result_datasets[0].merge_datasets(result_datasets[1], on='id', how='outer')\n",
    "combined_dataset.get_prediction_data"
   ]
  },
  {
   "cell_type": "markdown",
   "metadata": {},
   "source": [
    "-----------------------------------------------------------------------------"
   ]
  },
  {
   "cell_type": "code",
   "execution_count": null,
   "metadata": {},
   "outputs": [
    {
     "name": "stdout",
     "output_type": "stream",
     "text": [
      "Converted 00_download.ipynb.\n",
      "Converted 01_dataloaders.ipynb.\n",
      "Converted 02_dataset.ipynb.\n",
      "Converted 03_preprocessing.ipynb.\n",
      "Converted 04_model.ipynb.\n",
      "Converted 05_postprocessing.ipynb.\n",
      "Converted 06_modelpipeline.ipynb.\n",
      "Converted 07_evaluation.ipynb.\n",
      "Converted 08_key.ipynb.\n",
      "Converted 09_submission.ipynb.\n",
      "Converted 10_staker.ipynb.\n",
      "Converted index.ipynb.\n"
     ]
    },
    {
     "data": {
      "application/javascript": "\n            setTimeout(function() {\n                var nbb_cell_id = 16;\n                var nbb_unformatted_code = \"# hide\\n# Run this cell to sync all changes with library\\nfrom nbdev.export import notebook2script\\n\\nnotebook2script()\";\n                var nbb_formatted_code = \"# hide\\n# Run this cell to sync all changes with library\\nfrom nbdev.export import notebook2script\\n\\nnotebook2script()\";\n                var nbb_cells = Jupyter.notebook.get_cells();\n                for (var i = 0; i < nbb_cells.length; ++i) {\n                    if (nbb_cells[i].input_prompt_number == nbb_cell_id) {\n                        if (nbb_cells[i].get_text() == nbb_unformatted_code) {\n                             nbb_cells[i].set_text(nbb_formatted_code);\n                        }\n                        break;\n                    }\n                }\n            }, 500);\n            ",
      "text/plain": "<IPython.core.display.Javascript object>"
     },
     "metadata": {},
     "output_type": "display_data"
    }
   ],
   "source": [
    "# hide\n",
    "# Run this cell to sync all changes with library\n",
    "from nbdev.export import notebook2script\n",
    "\n",
    "notebook2script()"
   ]
  }
 ],
 "metadata": {
  "kernelspec": {
   "display_name": "Python 3",
   "language": "python",
   "name": "python3"
  }
 },
 "nbformat": 4,
 "nbformat_minor": 0
}
