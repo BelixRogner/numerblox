{
 "cells": [
  {
   "cell_type": "code",
   "execution_count": null,
   "metadata": {},
   "outputs": [
    {
     "data": {
      "application/javascript": "\n            setTimeout(function() {\n                var nbb_cell_id = 1;\n                var nbb_unformatted_code = \"%load_ext autoreload\\n%autoreload 2\\n%load_ext nb_black\\n%load_ext lab_black\";\n                var nbb_formatted_code = \"%load_ext autoreload\\n%autoreload 2\\n%load_ext nb_black\\n%load_ext lab_black\";\n                var nbb_cells = Jupyter.notebook.get_cells();\n                for (var i = 0; i < nbb_cells.length; ++i) {\n                    if (nbb_cells[i].input_prompt_number == nbb_cell_id) {\n                        if (nbb_cells[i].get_text() == nbb_unformatted_code) {\n                             nbb_cells[i].set_text(nbb_formatted_code);\n                        }\n                        break;\n                    }\n                }\n            }, 500);\n            ",
      "text/plain": "<IPython.core.display.Javascript object>"
     },
     "metadata": {},
     "output_type": "display_data"
    }
   ],
   "source": [
    "#hide\n",
    "%load_ext autoreload\n",
    "%autoreload 2\n",
    "%load_ext nb_black\n",
    "%load_ext lab_black"
   ]
  },
  {
   "cell_type": "code",
   "execution_count": null,
   "metadata": {},
   "outputs": [
    {
     "data": {
      "application/javascript": "\n            setTimeout(function() {\n                var nbb_cell_id = 2;\n                var nbb_unformatted_code = \"#default_exp download\";\n                var nbb_formatted_code = \"# default_exp download\";\n                var nbb_cells = Jupyter.notebook.get_cells();\n                for (var i = 0; i < nbb_cells.length; ++i) {\n                    if (nbb_cells[i].input_prompt_number == nbb_cell_id) {\n                        if (nbb_cells[i].get_text() == nbb_unformatted_code) {\n                             nbb_cells[i].set_text(nbb_formatted_code);\n                        }\n                        break;\n                    }\n                }\n            }, 500);\n            ",
      "text/plain": "<IPython.core.display.Javascript object>"
     },
     "metadata": {},
     "output_type": "display_data"
    }
   ],
   "source": [
    "#default_exp download"
   ]
  },
  {
   "cell_type": "markdown",
   "metadata": {},
   "source": [
    "# Download\n",
    "\n",
    "> API details."
   ]
  },
  {
   "cell_type": "code",
   "execution_count": null,
   "metadata": {},
   "outputs": [
    {
     "data": {
      "application/javascript": "\n            setTimeout(function() {\n                var nbb_cell_id = 3;\n                var nbb_unformatted_code = \"#hide\\nfrom nbdev.showdoc import *\";\n                var nbb_formatted_code = \"# hide\\nfrom nbdev.showdoc import *\";\n                var nbb_cells = Jupyter.notebook.get_cells();\n                for (var i = 0; i < nbb_cells.length; ++i) {\n                    if (nbb_cells[i].input_prompt_number == nbb_cell_id) {\n                        if (nbb_cells[i].get_text() == nbb_unformatted_code) {\n                             nbb_cells[i].set_text(nbb_formatted_code);\n                        }\n                        break;\n                    }\n                }\n            }, 500);\n            ",
      "text/plain": "<IPython.core.display.Javascript object>"
     },
     "metadata": {},
     "output_type": "display_data"
    }
   ],
   "source": [
    "#hide\n",
    "from nbdev.showdoc import *"
   ]
  },
  {
   "cell_type": "code",
   "execution_count": null,
   "metadata": {},
   "outputs": [],
   "source": [
    "#export\n",
    "import os\n",
    "import json\n",
    "import shutil\n",
    "from numerapi import NumerAPI, SignalsAPI\n",
    "from pathlib import Path, PosixPath\n",
    "from abc import ABC\n",
    "from rich.tree import Tree\n",
    "from rich.console import Console\n",
    "from rich import print as rich_print"
   ]
  },
  {
   "cell_type": "markdown",
   "metadata": {},
   "source": [
    "## 1. Base\n",
    "\n",
    "`BaseDownloader` is a simple object which implements logic common to all downloaders.\n",
    "\n",
    "To implement a new Downloader, you should inherit from `BaseDownloader` and be sure to implement at least `download_training_data` and `download_inference_data`."
   ]
  },
  {
   "cell_type": "code",
   "execution_count": null,
   "metadata": {},
   "outputs": [
    {
     "data": {
      "application/javascript": "\n            setTimeout(function() {\n                var nbb_cell_id = 5;\n                var nbb_unformatted_code = \"#export\\nclass BaseDownloader(ABC):\\n    \\\"\\\"\\\"\\n    Abstract base class for downloaders.\\n    :param directory_path: Base directory where data will be saved.\\n    \\\"\\\"\\\"\\n    def __init__(self, directory_path: str):\\n        self.dir = Path(directory_path)\\n        if not self.dir.is_dir():\\n            rich_print(f\\\"No existing directory found at '[blue]{self.dir}[/blue]'. Creating directory...\\\")\\n            self.dir.mkdir(parents=True, exist_ok=True)\\n\\n    def download_training_data(self, *args, **kwargs):\\n        \\\"\\\"\\\" Download all necessary files needed for training. \\\"\\\"\\\"\\n        raise NotImplementedError(f\\\"No method for downloading training data is implemented in '{self.__class__.__name__}'\\\")\\n\\n    def download_inference_data(self, *args, **kwargs):\\n        \\\"\\\"\\\" Download minimal amount of files needed for weekly inference. \\\"\\\"\\\"\\n        raise NotImplementedError(f\\\"No method for downloading inference data is implemented in '{self.__class__.__name__}'.\\\")\\n\\n    def remove_base_directory(self):\\n        \\\"\\\"\\\" Remove download directory with all contents. \\\"\\\"\\\"\\n        abs_path = self.dir.resolve()\\n        rich_print(f\\\":warning: [red]Deleting directory for '{self.__class__.__name__}[/red]' :warning:\\\\nPath: '{abs_path}'\\\")\\n        shutil.rmtree(abs_path)\\n\\n    def _append_folder(self, folder: str) -> PosixPath:\\n        \\\"\\\"\\\"\\n        Return base directory appended with 'folder'.\\n        Create directory if it does not exist.\\n        \\\"\\\"\\\"\\n        dir = Path(self.dir / folder)\\n        dir.mkdir(parents=True, exist_ok=True)\\n        return dir\\n\\n    @staticmethod\\n    def _load_json(file_path: str, verbose = False, *args, **kwargs) -> dict:\\n        \\\"\\\"\\\" Load JSON from file and return as dictionary. \\\"\\\"\\\"\\n        with open(file_path) as json_file:\\n            json_data = json.load(json_file, *args, **kwargs)\\n        if verbose:\\n            rich_print(json_data)\\n        return json_data\\n\\n    @property\\n    def get_all_files(self) -> list:\\n        \\\"\\\"\\\" Return all contents in directory. \\\"\\\"\\\"\\n        return list(base_down.dir.iterdir())\\n\\n    @property\\n    def is_empty(self) -> bool:\\n        \\\"\\\"\\\" Check if directory is empty.\\\"\\\"\\\"\\n        return not bool(self.get_all_files)\\n\\n    def __call__(self, *args, **kwargs):\\n        \\\"\\\"\\\"\\n        The most common use case will be to get weekly inference data. So calling the class itself returns inference data.\\n        \\\"\\\"\\\"\\n        self.download_inference_data(*args, **kwargs)\";\n                var nbb_formatted_code = \"# export\\nclass BaseDownloader(ABC):\\n    \\\"\\\"\\\"\\n    Abstract base class for downloaders.\\n    :param directory_path: Base directory where data will be saved.\\n    \\\"\\\"\\\"\\n\\n    def __init__(self, directory_path: str):\\n        self.dir = Path(directory_path)\\n        if not self.dir.is_dir():\\n            rich_print(\\n                f\\\"No existing directory found at '[blue]{self.dir}[/blue]'. Creating directory...\\\"\\n            )\\n            self.dir.mkdir(parents=True, exist_ok=True)\\n\\n    def download_training_data(self, *args, **kwargs):\\n        \\\"\\\"\\\"Download all necessary files needed for training.\\\"\\\"\\\"\\n        raise NotImplementedError(\\n            f\\\"No method for downloading training data is implemented in '{self.__class__.__name__}'\\\"\\n        )\\n\\n    def download_inference_data(self, *args, **kwargs):\\n        \\\"\\\"\\\"Download minimal amount of files needed for weekly inference.\\\"\\\"\\\"\\n        raise NotImplementedError(\\n            f\\\"No method for downloading inference data is implemented in '{self.__class__.__name__}'.\\\"\\n        )\\n\\n    def remove_base_directory(self):\\n        \\\"\\\"\\\"Remove download directory with all contents.\\\"\\\"\\\"\\n        abs_path = self.dir.resolve()\\n        rich_print(\\n            f\\\":warning: [red]Deleting directory for '{self.__class__.__name__}[/red]' :warning:\\\\nPath: '{abs_path}'\\\"\\n        )\\n        shutil.rmtree(abs_path)\\n\\n    def _append_folder(self, folder: str) -> PosixPath:\\n        \\\"\\\"\\\"\\n        Return base directory appended with 'folder'.\\n        Create directory if it does not exist.\\n        \\\"\\\"\\\"\\n        dir = Path(self.dir / folder)\\n        dir.mkdir(parents=True, exist_ok=True)\\n        return dir\\n\\n    @staticmethod\\n    def _load_json(file_path: str, verbose=False, *args, **kwargs) -> dict:\\n        \\\"\\\"\\\"Load JSON from file and return as dictionary.\\\"\\\"\\\"\\n        with open(file_path) as json_file:\\n            json_data = json.load(json_file, *args, **kwargs)\\n        if verbose:\\n            rich_print(json_data)\\n        return json_data\\n\\n    @property\\n    def get_all_files(self) -> list:\\n        \\\"\\\"\\\"Return all contents in directory.\\\"\\\"\\\"\\n        return list(base_down.dir.iterdir())\\n\\n    @property\\n    def is_empty(self) -> bool:\\n        \\\"\\\"\\\"Check if directory is empty.\\\"\\\"\\\"\\n        return not bool(self.get_all_files)\\n\\n    def __call__(self, *args, **kwargs):\\n        \\\"\\\"\\\"\\n        The most common use case will be to get weekly inference data. So calling the class itself returns inference data.\\n        \\\"\\\"\\\"\\n        self.download_inference_data(*args, **kwargs)\";\n                var nbb_cells = Jupyter.notebook.get_cells();\n                for (var i = 0; i < nbb_cells.length; ++i) {\n                    if (nbb_cells[i].input_prompt_number == nbb_cell_id) {\n                        if (nbb_cells[i].get_text() == nbb_unformatted_code) {\n                             nbb_cells[i].set_text(nbb_formatted_code);\n                        }\n                        break;\n                    }\n                }\n            }, 500);\n            ",
      "text/plain": "<IPython.core.display.Javascript object>"
     },
     "metadata": {},
     "output_type": "display_data"
    }
   ],
   "source": [
    "#export\n",
    "class BaseDownloader(ABC):\n",
    "    \"\"\"\n",
    "    Abstract base class for downloaders.\n",
    "    :param directory_path: Base directory where data will be saved.\n",
    "    \"\"\"\n",
    "    def __init__(self, directory_path: str):\n",
    "        self.dir = Path(directory_path)\n",
    "        if not self.dir.is_dir():\n",
    "            rich_print(f\"No existing directory found at '[blue]{self.dir}[/blue]'. Creating directory...\")\n",
    "            self.dir.mkdir(parents=True, exist_ok=True)\n",
    "\n",
    "    def download_training_data(self, *args, **kwargs):\n",
    "        \"\"\" Download all necessary files needed for training. \"\"\"\n",
    "        raise NotImplementedError(f\"No method for downloading training data is implemented in '{self.__class__.__name__}'\")\n",
    "\n",
    "    def download_inference_data(self, *args, **kwargs):\n",
    "        \"\"\" Download minimal amount of files needed for weekly inference. \"\"\"\n",
    "        raise NotImplementedError(f\"No method for downloading inference data is implemented in '{self.__class__.__name__}'.\")\n",
    "\n",
    "    def remove_base_directory(self):\n",
    "        \"\"\" Remove download directory with all contents. \"\"\"\n",
    "        abs_path = self.dir.resolve()\n",
    "        rich_print(f\":warning: [red]Deleting directory for '{self.__class__.__name__}[/red]' :warning:\\nPath: '{abs_path}'\")\n",
    "        shutil.rmtree(abs_path)\n",
    "\n",
    "    def _append_folder(self, folder: str) -> Path:\n",
    "        \"\"\"\n",
    "        Return base directory appended with 'folder'.\n",
    "        Create directory if it does not exist.\n",
    "        \"\"\"\n",
    "        dir = Path(self.dir / folder)\n",
    "        dir.mkdir(parents=True, exist_ok=True)\n",
    "        return dir\n",
    "\n",
    "    @staticmethod\n",
    "    def _load_json(file_path: str, verbose = False, *args, **kwargs) -> dict:\n",
    "        \"\"\" Load JSON from file and return as dictionary. \"\"\"\n",
    "        with open(file_path) as json_file:\n",
    "            json_data = json.load(json_file, *args, **kwargs)\n",
    "        if verbose:\n",
    "            rich_print(json_data)\n",
    "        return json_data\n",
    "\n",
    "    @property\n",
    "    def get_all_files(self) -> list:\n",
    "        \"\"\" Return all contents in directory. \"\"\"\n",
    "        return list(self.dir.iterdir())\n",
    "\n",
    "    @property\n",
    "    def is_empty(self) -> bool:\n",
    "        \"\"\" Check if directory is empty.\"\"\"\n",
    "        return not bool(self.get_all_files)\n",
    "\n",
    "    def __call__(self, *args, **kwargs):\n",
    "        \"\"\"\n",
    "        The most common use case will be to get weekly inference data. So calling the class itself returns inference data.\n",
    "        \"\"\"\n",
    "        self.download_inference_data(*args, **kwargs)"
   ]
  },
  {
   "cell_type": "code",
   "execution_count": null,
   "metadata": {},
   "outputs": [
    {
     "data": {
      "text/html": "<pre style=\"white-space:pre;overflow-x:auto;line-height:normal;font-family:Menlo,'DejaVu Sans Mono',consolas,'Courier New',monospace\">No existing directory found at <span style=\"color: #008000; text-decoration-color: #008000\">'</span><span style=\"color: #000080; text-decoration-color: #000080\">test_base_1234321234321</span><span style=\"color: #008000; text-decoration-color: #008000\">'</span>. Creating directory<span style=\"color: #808000; text-decoration-color: #808000\">...</span>\n</pre>\n",
      "text/plain": "No existing directory found at \u001b[32m'\u001b[0m\u001b[34mtest_base_1234321234321\u001b[0m\u001b[32m'\u001b[0m. Creating directory\u001b[33m...\u001b[0m\n"
     },
     "metadata": {},
     "output_type": "display_data"
    },
    {
     "data": {
      "text/html": "<pre style=\"white-space:pre;overflow-x:auto;line-height:normal;font-family:Menlo,'DejaVu Sans Mono',consolas,'Courier New',monospace\">Directory contents:\n<span style=\"font-weight: bold\">[</span><span style=\"color: #800080; text-decoration-color: #800080; font-weight: bold\">Path</span><span style=\"font-weight: bold\">(</span><span style=\"color: #008000; text-decoration-color: #008000\">'test_base_1234321234321/test.txt'</span><span style=\"font-weight: bold\">)]</span>\n</pre>\n",
      "text/plain": "Directory contents:\n\u001b[1m[\u001b[0m\u001b[1;35mPath\u001b[0m\u001b[1m(\u001b[0m\u001b[32m'test_base_1234321234321/test.txt'\u001b[0m\u001b[1m)\u001b[0m\u001b[1m]\u001b[0m\n"
     },
     "metadata": {},
     "output_type": "display_data"
    },
    {
     "data": {
      "text/html": "<pre style=\"white-space:pre;overflow-x:auto;line-height:normal;font-family:Menlo,'DejaVu Sans Mono',consolas,'Courier New',monospace\">⚠ <span style=\"color: #800000; text-decoration-color: #800000\">Deleting directory for </span><span style=\"color: #800000; text-decoration-color: #800000\">'BaseDownloader</span><span style=\"color: #008000; text-decoration-color: #008000\">'</span> ⚠\nPath: \n<span style=\"color: #008000; text-decoration-color: #008000\">'/Users/clepelaars/Desktop/crowdcent/repositories/numerai-blocks/nbs/test_base_1234321234321'</span>\n</pre>\n",
      "text/plain": "⚠ \u001b[31mDeleting directory for \u001b[0m\u001b[31m'BaseDownloader\u001b[0m\u001b[32m'\u001b[0m ⚠\nPath: \n\u001b[32m'/Users/clepelaars/Desktop/crowdcent/repositories/numerai-blocks/nbs/test_base_1234321234321'\u001b[0m\n"
     },
     "metadata": {},
     "output_type": "display_data"
    },
    {
     "data": {
      "application/javascript": "\n            setTimeout(function() {\n                var nbb_cell_id = 6;\n                var nbb_unformatted_code = \"test_dir = \\\"test_base_1234321234321/\\\"\\n\\n# Test building class\\nbase_down = BaseDownloader(directory_path=test_dir)\\nassert isinstance(base_down.dir, PosixPath)\\nassert base_down.dir.is_dir()\\n\\n# Test properties\\n(base_down.dir / \\\"test.txt\\\").write_text(\\\"test\\\")\\nrich_print(f\\\"Directory contents:\\\\n{base_down.get_all_files}\\\")\\nassert not base_down.is_empty\\n\\n# Remove contents\\nbase_down.remove_base_directory()\\nassert not os.path.exists(test_dir)\";\n                var nbb_formatted_code = \"test_dir = \\\"test_base_1234321234321/\\\"\\n\\n# Test building class\\nbase_down = BaseDownloader(directory_path=test_dir)\\nassert isinstance(base_down.dir, PosixPath)\\nassert base_down.dir.is_dir()\\n\\n# Test properties\\n(base_down.dir / \\\"test.txt\\\").write_text(\\\"test\\\")\\nrich_print(f\\\"Directory contents:\\\\n{base_down.get_all_files}\\\")\\nassert not base_down.is_empty\\n\\n# Remove contents\\nbase_down.remove_base_directory()\\nassert not os.path.exists(test_dir)\";\n                var nbb_cells = Jupyter.notebook.get_cells();\n                for (var i = 0; i < nbb_cells.length; ++i) {\n                    if (nbb_cells[i].input_prompt_number == nbb_cell_id) {\n                        if (nbb_cells[i].get_text() == nbb_unformatted_code) {\n                             nbb_cells[i].set_text(nbb_formatted_code);\n                        }\n                        break;\n                    }\n                }\n            }, 500);\n            ",
      "text/plain": "<IPython.core.display.Javascript object>"
     },
     "metadata": {},
     "output_type": "display_data"
    }
   ],
   "source": [
    "test_dir = \"test_base_1234321234321/\"\n",
    "\n",
    "# Test building class\n",
    "base_down = BaseDownloader(directory_path=test_dir)\n",
    "assert isinstance(base_down.dir, PosixPath)\n",
    "assert base_down.dir.is_dir()\n",
    "\n",
    "# Test properties\n",
    "(base_down.dir / \"test.txt\").write_text(\"test\")\n",
    "rich_print(f\"Directory contents:\\n{base_down.get_all_files}\")\n",
    "assert not base_down.is_empty\n",
    "\n",
    "# Remove contents\n",
    "base_down.remove_base_directory()\n",
    "assert not os.path.exists(test_dir)"
   ]
  },
  {
   "cell_type": "markdown",
   "metadata": {},
   "source": [
    "## 2. Numerai Classic"
   ]
  },
  {
   "cell_type": "code",
   "execution_count": null,
   "metadata": {},
   "outputs": [
    {
     "data": {
      "application/javascript": "\n            setTimeout(function() {\n                var nbb_cell_id = 7;\n                var nbb_unformatted_code = \"#export\\nclass NumeraiClassicDownloader(BaseDownloader):\\n    \\\"\\\"\\\"\\n    Downloading from NumerAPI for Numerai Classic data\\n\\n    :param directory_path: Main folder to download data in.\\n    All *args, **kwargs will be passed to NumerAPI initialization.\\n    \\\"\\\"\\\"\\n    def __init__(self, directory_path: str, *args, **kwargs):\\n        super(NumeraiClassicDownloader, self).__init__(directory_path=directory_path)\\n        self.napi = NumerAPI(*args, **kwargs)\\n        self.current_round = self.napi.get_current_round()\\n\\n    def download_training_data(self, folder: str = \\\"\\\", version: int = 2, int8: bool = False, *args, **kwargs):\\n        \\\"\\\"\\\"\\n        Get Numerai classic training and validation data.\\n        :param folder: Specify folder to create folder within directory root. Saves in directory root by default.\\n        :param version: Numerai version (1=classic, 2=super massive dataset (parquet)\\n        :param int8: Integer version of data\\n        *args, **kwargs are passed to NumerAPI downloader\\n        \\\"\\\"\\\"\\n        dir = self._append_folder(folder)\\n        if int8:\\n            version_mapping = {1: ['numerai_training_data_int8.csv', 'numerai_validation_data_int8.csv'],\\n                               2: ['numerai_training_data_int8.parquet', 'numerai_validation_data_int8.parquet']\\n                               }\\n        else:\\n            version_mapping = {1: ['numerai_training_data.csv', 'numerai_validation_data.csv'],\\n                               2: ['numerai_training_data.parquet', 'numerai_validation_data.parquet']\\n                               }\\n        train_val_files = self._get_version_files(version_mapping, version)\\n        for file in train_val_files:\\n            self.download_single_dataset(filename=file,\\n                                         dest_path=str(dir.joinpath(file)),\\n                                         *args, **kwargs)\\n\\n\\n    def download_inference_data(self, folder: str = \\\"\\\", version: int = 2, int8: bool = False, round_num: int = None):\\n        \\\"\\\"\\\"\\n        Get Numerai classic inference data.\\n        :param folder: Specify folder to create folder within directory root. Saves in directory root by default.\\n        :param version: Numerai version (1=classic, 2=super massive dataset (parquet)\\n        :param int8: Integer version of data\\n        :param round_num: Numerai tournament round number. Downloads latest round by default.\\n        \\\"\\\"\\\"\\n        dir = self._append_folder(folder)\\n        if int8:\\n            version_mapping = {1: ['numerai_tournament_data_int8.csv'],\\n                               2: ['numerai_tournament_data_int8.parquet']\\n                               }\\n        else:\\n            version_mapping = {1: ['numerai_tournament_data.csv'],\\n                               2: ['numerai_tournament_data.parquet']\\n                               }\\n        train_val_files = self._get_version_files(version_mapping, version)\\n        rich_print(f\\\":file_folder: [green]Downloading inference data for round[/green] '{round_num if round_num else self.current_round}'.\\\")\\n        for file in train_val_files:\\n            self.download_single_dataset(filename=file,\\n                                         dest_path=str(dir.joinpath(file)),\\n                                         round_num=round_num)\\n\\n    def download_single_dataset(self, filename: str, dest_path: str, round_num: int = None, *args, **kwargs):\\n        \\\"\\\"\\\"\\n        Download one of the available datasets through NumerAPI.\\n\\n        :param filename: Name as listed in NumerAPI (Check NumerAPI().list_datasets())\\n        :param dest_path: Full path where file will be saved.\\n        :param round_num: Numerai tournament round number. Downloads latest round by default.\\n        *args, **kwargs will be passed to NumerAPI downloader\\n        \\\"\\\"\\\"\\n        assert filename in self.napi.list_datasets(), f\\\"Dataset '{filename}' not available in NumerAPI. Available datasets are {self.napi.list_datasets()}.\\\"\\n        rich_print(f\\\":file_folder: [green]Downloading[/green] '{filename}' :file_folder:\\\")\\n        self.napi.download_dataset(filename=filename,\\n                                   dest_path=dest_path,\\n                                   round_num=round_num,\\n                                   *args, **kwargs)\\n\\n\\n    def download_example_data(self, folder: str = \\\"\\\", version: int = 2, round_num: int = None):\\n        \\\"\\\"\\\"\\n        Download all example prediction data in specified folder for given version.\\n\\n        :param folder: Specify folder to create folder within directory root. Saves in directory root by default.\\n        :param version: Numerai version (1=classic, 2=super massive dataset (parquet)\\n        :param round_num: Numerai tournament round number. Downloads latest round by default.\\n        \\\"\\\"\\\"\\n        dir = self._append_folder(folder)\\n        version_mapping = {1: ['example_predictions.csv', 'example_validation_predictions.csv'],\\n                           2: ['example_predictions.parquet', 'example_validation_predictions.parquet']\\n                           }\\n        example_files = self._get_version_files(version_mapping, version)\\n        for file in example_files:\\n            self.download_single_dataset(filename=file,\\n                                         dest_path=str(dir.joinpath(file)),\\n                                         round_num=round_num)\\n\\n    def get_classic_features(self, folder: str = \\\"\\\", *args, **kwargs) -> dict:\\n        \\\"\\\"\\\"\\n        Download feature overview (stats and feature sets) through NumerAPI and load.\\n        :param folder: Specify folder to create folder within directory root. Saves in directory root by default.\\n        *args, **kwargs will be passed to the JSON loader\\n        \\\"\\\"\\\"\\n        dir = self._append_folder(folder)\\n        filename = \\\"features.json\\\"\\n        dest_path = str(dir.joinpath(filename))\\n        self.download_single_dataset(filename=filename,\\n                                     dest_path=dest_path)\\n        # Load in json\\n        json_data = self._load_json(dest_path, *args, **kwargs)\\n        return json_data\\n\\n    @staticmethod\\n    def _get_version_files(version_mapping: dict, version: int) -> list:\\n        \\\"\\\"\\\" Check if version is supported and return files corresponding to version mapping \\\"\\\"\\\"\\n        try:\\n            files = version_mapping[version]\\n        except KeyError:\\n            raise NotImplementedError(f\\\"Version '{version}' is not implemented. Available versions are {list(version_mapping.keys())}\\\")\\n        return files\";\n                var nbb_formatted_code = \"# export\\nclass NumeraiClassicDownloader(BaseDownloader):\\n    \\\"\\\"\\\"\\n    Downloading from NumerAPI for Numerai Classic data\\n\\n    :param directory_path: Main folder to download data in.\\n    All *args, **kwargs will be passed to NumerAPI initialization.\\n    \\\"\\\"\\\"\\n\\n    def __init__(self, directory_path: str, *args, **kwargs):\\n        super(NumeraiClassicDownloader, self).__init__(directory_path=directory_path)\\n        self.napi = NumerAPI(*args, **kwargs)\\n        self.current_round = self.napi.get_current_round()\\n\\n    def download_training_data(\\n        self, folder: str = \\\"\\\", version: int = 2, int8: bool = False, *args, **kwargs\\n    ):\\n        \\\"\\\"\\\"\\n        Get Numerai classic training and validation data.\\n        :param folder: Specify folder to create folder within directory root. Saves in directory root by default.\\n        :param version: Numerai version (1=classic, 2=super massive dataset (parquet)\\n        :param int8: Integer version of data\\n        *args, **kwargs are passed to NumerAPI downloader\\n        \\\"\\\"\\\"\\n        dir = self._append_folder(folder)\\n        if int8:\\n            version_mapping = {\\n                1: [\\n                    \\\"numerai_training_data_int8.csv\\\",\\n                    \\\"numerai_validation_data_int8.csv\\\",\\n                ],\\n                2: [\\n                    \\\"numerai_training_data_int8.parquet\\\",\\n                    \\\"numerai_validation_data_int8.parquet\\\",\\n                ],\\n            }\\n        else:\\n            version_mapping = {\\n                1: [\\\"numerai_training_data.csv\\\", \\\"numerai_validation_data.csv\\\"],\\n                2: [\\\"numerai_training_data.parquet\\\", \\\"numerai_validation_data.parquet\\\"],\\n            }\\n        train_val_files = self._get_version_files(version_mapping, version)\\n        for file in train_val_files:\\n            self.download_single_dataset(\\n                filename=file, dest_path=str(dir.joinpath(file)), *args, **kwargs\\n            )\\n\\n    def download_inference_data(\\n        self,\\n        folder: str = \\\"\\\",\\n        version: int = 2,\\n        int8: bool = False,\\n        round_num: int = None,\\n    ):\\n        \\\"\\\"\\\"\\n        Get Numerai classic inference data.\\n        :param folder: Specify folder to create folder within directory root. Saves in directory root by default.\\n        :param version: Numerai version (1=classic, 2=super massive dataset (parquet)\\n        :param int8: Integer version of data\\n        :param round_num: Numerai tournament round number. Downloads latest round by default.\\n        \\\"\\\"\\\"\\n        dir = self._append_folder(folder)\\n        if int8:\\n            version_mapping = {\\n                1: [\\\"numerai_tournament_data_int8.csv\\\"],\\n                2: [\\\"numerai_tournament_data_int8.parquet\\\"],\\n            }\\n        else:\\n            version_mapping = {\\n                1: [\\\"numerai_tournament_data.csv\\\"],\\n                2: [\\\"numerai_tournament_data.parquet\\\"],\\n            }\\n        train_val_files = self._get_version_files(version_mapping, version)\\n        rich_print(\\n            f\\\":file_folder: [green]Downloading inference data for round[/green] '{round_num if round_num else self.current_round}'.\\\"\\n        )\\n        for file in train_val_files:\\n            self.download_single_dataset(\\n                filename=file, dest_path=str(dir.joinpath(file)), round_num=round_num\\n            )\\n\\n    def download_single_dataset(\\n        self, filename: str, dest_path: str, round_num: int = None, *args, **kwargs\\n    ):\\n        \\\"\\\"\\\"\\n        Download one of the available datasets through NumerAPI.\\n\\n        :param filename: Name as listed in NumerAPI (Check NumerAPI().list_datasets())\\n        :param dest_path: Full path where file will be saved.\\n        :param round_num: Numerai tournament round number. Downloads latest round by default.\\n        *args, **kwargs will be passed to NumerAPI downloader\\n        \\\"\\\"\\\"\\n        assert (\\n            filename in self.napi.list_datasets()\\n        ), f\\\"Dataset '{filename}' not available in NumerAPI. Available datasets are {self.napi.list_datasets()}.\\\"\\n        rich_print(\\n            f\\\":file_folder: [green]Downloading[/green] '{filename}' :file_folder:\\\"\\n        )\\n        self.napi.download_dataset(\\n            filename=filename, dest_path=dest_path, round_num=round_num, *args, **kwargs\\n        )\\n\\n    def download_example_data(\\n        self, folder: str = \\\"\\\", version: int = 2, round_num: int = None\\n    ):\\n        \\\"\\\"\\\"\\n        Download all example prediction data in specified folder for given version.\\n\\n        :param folder: Specify folder to create folder within directory root. Saves in directory root by default.\\n        :param version: Numerai version (1=classic, 2=super massive dataset (parquet)\\n        :param round_num: Numerai tournament round number. Downloads latest round by default.\\n        \\\"\\\"\\\"\\n        dir = self._append_folder(folder)\\n        version_mapping = {\\n            1: [\\\"example_predictions.csv\\\", \\\"example_validation_predictions.csv\\\"],\\n            2: [\\n                \\\"example_predictions.parquet\\\",\\n                \\\"example_validation_predictions.parquet\\\",\\n            ],\\n        }\\n        example_files = self._get_version_files(version_mapping, version)\\n        for file in example_files:\\n            self.download_single_dataset(\\n                filename=file, dest_path=str(dir.joinpath(file)), round_num=round_num\\n            )\\n\\n    def get_classic_features(self, folder: str = \\\"\\\", *args, **kwargs) -> dict:\\n        \\\"\\\"\\\"\\n        Download feature overview (stats and feature sets) through NumerAPI and load.\\n        :param folder: Specify folder to create folder within directory root. Saves in directory root by default.\\n        *args, **kwargs will be passed to the JSON loader\\n        \\\"\\\"\\\"\\n        dir = self._append_folder(folder)\\n        filename = \\\"features.json\\\"\\n        dest_path = str(dir.joinpath(filename))\\n        self.download_single_dataset(filename=filename, dest_path=dest_path)\\n        # Load in json\\n        json_data = self._load_json(dest_path, *args, **kwargs)\\n        return json_data\\n\\n    @staticmethod\\n    def _get_version_files(version_mapping: dict, version: int) -> list:\\n        \\\"\\\"\\\"Check if version is supported and return files corresponding to version mapping\\\"\\\"\\\"\\n        try:\\n            files = version_mapping[version]\\n        except KeyError:\\n            raise NotImplementedError(\\n                f\\\"Version '{version}' is not implemented. Available versions are {list(version_mapping.keys())}\\\"\\n            )\\n        return files\";\n                var nbb_cells = Jupyter.notebook.get_cells();\n                for (var i = 0; i < nbb_cells.length; ++i) {\n                    if (nbb_cells[i].input_prompt_number == nbb_cell_id) {\n                        if (nbb_cells[i].get_text() == nbb_unformatted_code) {\n                             nbb_cells[i].set_text(nbb_formatted_code);\n                        }\n                        break;\n                    }\n                }\n            }, 500);\n            ",
      "text/plain": "<IPython.core.display.Javascript object>"
     },
     "metadata": {},
     "output_type": "display_data"
    }
   ],
   "source": [
    "#export\n",
    "class NumeraiClassicDownloader(BaseDownloader):\n",
    "    \"\"\"\n",
    "    Downloading from NumerAPI for Numerai Classic data\n",
    "\n",
    "    :param directory_path: Main folder to download data in.\n",
    "    All *args, **kwargs will be passed to NumerAPI initialization.\n",
    "    \"\"\"\n",
    "    def __init__(self, directory_path: str, *args, **kwargs):\n",
    "        super(NumeraiClassicDownloader, self).__init__(directory_path=directory_path)\n",
    "        self.napi = NumerAPI(*args, **kwargs)\n",
    "        self.current_round = self.napi.get_current_round()\n",
    "\n",
    "    def download_training_data(self, folder: str = \"\", version: int = 2, int8: bool = False):\n",
    "        \"\"\"\n",
    "        Get Numerai classic training and validation data.\n",
    "        :param folder: Specify folder to create folder within directory root. Saves in directory root by default.\n",
    "        :param version: Numerai version (1=classic, 2=super massive dataset (parquet)\n",
    "        :param int8: Integer version of data\n",
    "        \"\"\"\n",
    "        dir = self._append_folder(folder)\n",
    "        if int8:\n",
    "            version_mapping = {1: ['numerai_training_data_int8.csv', 'numerai_validation_data_int8.csv'],\n",
    "                               2: ['numerai_training_data_int8.parquet', 'numerai_validation_data_int8.parquet']\n",
    "                               }\n",
    "        else:\n",
    "            version_mapping = {1: ['numerai_training_data.csv', 'numerai_validation_data.csv'],\n",
    "                               2: ['numerai_training_data.parquet', 'numerai_validation_data.parquet']\n",
    "                               }\n",
    "        train_val_files = self._get_version_files(version_mapping, version)\n",
    "        for file in train_val_files:\n",
    "            self.download_single_dataset(filename=file,\n",
    "                                         dest_path=str(dir.joinpath(file)))\n",
    "\n",
    "\n",
    "    def download_inference_data(self, folder: str = \"\", version: int = 2, int8: bool = False, round_num: int = None):\n",
    "        \"\"\"\n",
    "        Get Numerai classic inference data.\n",
    "        :param folder: Specify folder to create folder within directory root. Saves in directory root by default.\n",
    "        :param version: Numerai version (1=classic, 2=super massive dataset (parquet)\n",
    "        :param int8: Integer version of data\n",
    "        :param round_num: Numerai tournament round number. Downloads latest round by default.\n",
    "        \"\"\"\n",
    "        dir = self._append_folder(folder)\n",
    "        if int8:\n",
    "            version_mapping = {1: ['numerai_tournament_data_int8.csv'],\n",
    "                               2: ['numerai_tournament_data_int8.parquet']\n",
    "                               }\n",
    "        else:\n",
    "            version_mapping = {1: ['numerai_tournament_data.csv'],\n",
    "                               2: ['numerai_tournament_data.parquet']\n",
    "                               }\n",
    "        train_val_files = self._get_version_files(version_mapping, version)\n",
    "        rich_print(f\":file_folder: [green]Downloading inference data for round[/green] '{round_num if round_num else self.current_round}'.\")\n",
    "        for file in train_val_files:\n",
    "            self.download_single_dataset(filename=file,\n",
    "                                         dest_path=str(dir.joinpath(file)),\n",
    "                                         round_num=round_num)\n",
    "\n",
    "    def download_single_dataset(self, filename: str, dest_path: str, round_num: int = None):\n",
    "        \"\"\"\n",
    "        Download one of the available datasets through NumerAPI.\n",
    "\n",
    "        :param filename: Name as listed in NumerAPI (Check NumerAPI().list_datasets())\n",
    "        :param dest_path: Full path where file will be saved.\n",
    "        :param round_num: Numerai tournament round number. Downloads latest round by default.\n",
    "        \"\"\"\n",
    "        assert filename in self.napi.list_datasets(), f\"Dataset '{filename}' not available in NumerAPI. Available datasets are {self.napi.list_datasets()}.\"\n",
    "        rich_print(f\":file_folder: [green]Downloading[/green] '{filename}' :file_folder:\")\n",
    "        self.napi.download_dataset(filename=filename,\n",
    "                                   dest_path=dest_path,\n",
    "                                   round_num=round_num)\n",
    "\n",
    "\n",
    "    def download_example_data(self, folder: str = \"\", version: int = 2, round_num: int = None):\n",
    "        \"\"\"\n",
    "        Download all example prediction data in specified folder for given version.\n",
    "\n",
    "        :param folder: Specify folder to create folder within directory root. Saves in directory root by default.\n",
    "        :param version: Numerai version (1=classic, 2=super massive dataset (parquet)\n",
    "        :param round_num: Numerai tournament round number. Downloads latest round by default.\n",
    "        \"\"\"\n",
    "        dir = self._append_folder(folder)\n",
    "        version_mapping = {1: ['example_predictions.csv', 'example_validation_predictions.csv'],\n",
    "                           2: ['example_predictions.parquet', 'example_validation_predictions.parquet']\n",
    "                           }\n",
    "        example_files = self._get_version_files(version_mapping, version)\n",
    "        for file in example_files:\n",
    "            self.download_single_dataset(filename=file,\n",
    "                                         dest_path=str(dir.joinpath(file)),\n",
    "                                         round_num=round_num)\n",
    "\n",
    "    def get_classic_features(self, folder: str = \"\", *args, **kwargs) -> dict:\n",
    "        \"\"\"\n",
    "        Download feature overview (stats and feature sets) through NumerAPI and load.\n",
    "        :param folder: Specify folder to create folder within directory root. Saves in directory root by default.\n",
    "        *args, **kwargs will be passed to the JSON loader\n",
    "        \"\"\"\n",
    "        dir = self._append_folder(folder)\n",
    "        filename = \"features.json\"\n",
    "        dest_path = str(dir.joinpath(filename))\n",
    "        self.download_single_dataset(filename=filename,\n",
    "                                     dest_path=dest_path)\n",
    "        # Load in json\n",
    "        json_data = self._load_json(dest_path, *args, **kwargs)\n",
    "        return json_data\n",
    "\n",
    "    @staticmethod\n",
    "    def _get_version_files(version_mapping: dict, version: int) -> list:\n",
    "        \"\"\" Check if version is supported and return files corresponding to version mapping \"\"\"\n",
    "        try:\n",
    "            files = version_mapping[version]\n",
    "        except KeyError:\n",
    "            raise NotImplementedError(f\"Version '{version}' is not implemented. Available versions are {list(version_mapping.keys())}\")\n",
    "        return files"
   ]
  },
  {
   "cell_type": "markdown",
   "metadata": {},
   "source": [
    "## Example usage"
   ]
  },
  {
   "cell_type": "code",
   "execution_count": null,
   "metadata": {},
   "outputs": [
    {
     "data": {
      "text/markdown": "<h4 id=\"NumeraiClassicDownloader.download_training_data\" class=\"doc_header\"><code>NumeraiClassicDownloader.download_training_data</code><a href=\"__main__.py#L14\" class=\"source_link\" style=\"float:right\">[source]</a></h4>\n\n> <code>NumeraiClassicDownloader.download_training_data</code>(**`folder`**:`str`=*`''`*, **`version`**:`int`=*`2`*, **`int8`**:`bool`=*`False`*, **\\*`args`**, **\\*\\*`kwargs`**)\n\nGet Numerai classic training and validation data.\n:param folder: Specify folder to create folder within directory root. Saves in directory root by default.\n:param version: Numerai version (1=classic, 2=super massive dataset (parquet)\n:param int8: Integer version of data\n*args, **kwargs are passed to NumerAPI downloader",
      "text/plain": "<IPython.core.display.Markdown object>"
     },
     "metadata": {},
     "output_type": "display_data"
    },
    {
     "data": {
      "text/markdown": "<h4 id=\"NumeraiClassicDownloader.download_inference_data\" class=\"doc_header\"><code>NumeraiClassicDownloader.download_inference_data</code><a href=\"__main__.py#L38\" class=\"source_link\" style=\"float:right\">[source]</a></h4>\n\n> <code>NumeraiClassicDownloader.download_inference_data</code>(**`folder`**:`str`=*`''`*, **`version`**:`int`=*`2`*, **`int8`**:`bool`=*`False`*, **`round_num`**:`int`=*`None`*)\n\nGet Numerai classic inference data.\n:param folder: Specify folder to create folder within directory root. Saves in directory root by default.\n:param version: Numerai version (1=classic, 2=super massive dataset (parquet)\n:param int8: Integer version of data\n:param round_num: Numerai tournament round number. Downloads latest round by default.",
      "text/plain": "<IPython.core.display.Markdown object>"
     },
     "metadata": {},
     "output_type": "display_data"
    },
    {
     "data": {
      "application/javascript": "\n            setTimeout(function() {\n                var nbb_cell_id = 8;\n                var nbb_unformatted_code = \"#hide_input\\nshow_doc(NumeraiClassicDownloader.download_training_data)\\nshow_doc(NumeraiClassicDownloader.download_inference_data)\";\n                var nbb_formatted_code = \"# hide_input\\nshow_doc(NumeraiClassicDownloader.download_training_data)\\nshow_doc(NumeraiClassicDownloader.download_inference_data)\";\n                var nbb_cells = Jupyter.notebook.get_cells();\n                for (var i = 0; i < nbb_cells.length; ++i) {\n                    if (nbb_cells[i].input_prompt_number == nbb_cell_id) {\n                        if (nbb_cells[i].get_text() == nbb_unformatted_code) {\n                             nbb_cells[i].set_text(nbb_formatted_code);\n                        }\n                        break;\n                    }\n                }\n            }, 500);\n            ",
      "text/plain": "<IPython.core.display.Javascript object>"
     },
     "metadata": {},
     "output_type": "display_data"
    }
   ],
   "source": [
    "#hide_input\n",
    "show_doc(NumeraiClassicDownloader.download_training_data)\n",
    "show_doc(NumeraiClassicDownloader.download_inference_data)"
   ]
  },
  {
   "cell_type": "markdown",
   "metadata": {},
   "source": [
    "### Training"
   ]
  },
  {
   "cell_type": "code",
   "execution_count": null,
   "metadata": {},
   "outputs": [
    {
     "data": {
      "application/javascript": "\n            setTimeout(function() {\n                var nbb_cell_id = 9;\n                var nbb_unformatted_code = \"#slow\\n# initialization\\ntrain_base_directory = \\\"test_numerai_classic_train_1234321\\\"\\n# numer_classic_downloader = NumeraiClassicDownloader(train_base_directory)\\n\\n# Download training and validation data\\n# numer_classic_downloader.download_training_data(\\\"train_val\\\", version=2, int8=False)\\n\\n# Save example predictions in new folder and get feature overview\\n# numer_classic_downloader.download_example_data(\\\"example\\\")\\n# feature_stats = numer_classic_downloader.get_classic_features()\\n\\n# Remove contents\\n# numer_classic_downloader.remove_base_directory()\";\n                var nbb_formatted_code = \"# slow\\n# initialization\\ntrain_base_directory = \\\"test_numerai_classic_train_1234321\\\"\\n# numer_classic_downloader = NumeraiClassicDownloader(train_base_directory)\\n\\n# Download training and validation data\\n# numer_classic_downloader.download_training_data(\\\"train_val\\\", version=2, int8=False)\\n\\n# Save example predictions in new folder and get feature overview\\n# numer_classic_downloader.download_example_data(\\\"example\\\")\\n# feature_stats = numer_classic_downloader.get_classic_features()\\n\\n# Remove contents\\n# numer_classic_downloader.remove_base_directory()\";\n                var nbb_cells = Jupyter.notebook.get_cells();\n                for (var i = 0; i < nbb_cells.length; ++i) {\n                    if (nbb_cells[i].input_prompt_number == nbb_cell_id) {\n                        if (nbb_cells[i].get_text() == nbb_unformatted_code) {\n                             nbb_cells[i].set_text(nbb_formatted_code);\n                        }\n                        break;\n                    }\n                }\n            }, 500);\n            ",
      "text/plain": "<IPython.core.display.Javascript object>"
     },
     "metadata": {},
     "output_type": "display_data"
    }
   ],
   "source": [
    "#slow\n",
    "# initialization\n",
    "train_base_directory = \"test_numerai_classic_train_1234321\"\n",
    "# numer_classic_downloader = NumeraiClassicDownloader(train_base_directory)\n",
    "\n",
    "# Download training and validation data\n",
    "# numer_classic_downloader.download_training_data(\"train_val\", version=2, int8=False)\n",
    "\n",
    "# Save example predictions in new folder and get feature overview\n",
    "# numer_classic_downloader.download_example_data(\"example\")\n",
    "# feature_stats = numer_classic_downloader.get_classic_features()"
   ]
  },
  {
   "cell_type": "code",
   "execution_count": null,
   "metadata": {},
   "outputs": [],
   "source": [
    "#hide\n",
    "# Remove contents (for tests)\n",
    "# numer_classic_downloader.remove_base_directory()"
   ]
  },
  {
   "cell_type": "markdown",
   "metadata": {},
   "source": [
    "__For the training example the directory structure will be:__"
   ]
  },
  {
   "cell_type": "code",
   "execution_count": null,
   "metadata": {},
   "outputs": [
    {
     "data": {
      "text/html": "<pre style=\"white-space:pre;overflow-x:auto;line-height:normal;font-family:Menlo,'DejaVu Sans Mono',consolas,'Courier New',monospace\">📁 test_numerai_classic_train_1234321 (base_directory)                                              \n<span style=\"color: #808080; text-decoration-color: #808080\">┣━━ </span>📄 features.json                                                                                \n<span style=\"color: #808080; text-decoration-color: #808080\">┣━━ </span>📁 train_val                                                                                    \n<span style=\"color: #808080; text-decoration-color: #808080\">┃   ┣━━ </span>📄 numerai_training_data.parquet                                                            \n<span style=\"color: #808080; text-decoration-color: #808080\">┃   ┗━━ </span>📄 numerai_validation_data.parquet                                                          \n<span style=\"color: #808080; text-decoration-color: #808080\">┗━━ </span>📁 example                                                                                      \n<span style=\"color: #808080; text-decoration-color: #808080\">    ┣━━ </span>📄 example_predictions.parquet                                                              \n<span style=\"color: #808080; text-decoration-color: #808080\">    ┗━━ </span>📄 example_validation_predictions.parquet                                                   \n</pre>\n",
      "text/plain": "📁 test_numerai_classic_train_1234321 (base_directory)                                              \n\u001b[90m┣━━ \u001b[0m📄 features.json                                                                                \n\u001b[90m┣━━ \u001b[0m📁 train_val                                                                                    \n\u001b[90m┃   \u001b[0m\u001b[90m┣━━ \u001b[0m📄 numerai_training_data.parquet                                                            \n\u001b[90m┃   \u001b[0m\u001b[90m┗━━ \u001b[0m📄 numerai_validation_data.parquet                                                          \n\u001b[90m┗━━ \u001b[0m📁 example                                                                                      \n\u001b[90m    \u001b[0m\u001b[90m┣━━ \u001b[0m📄 example_predictions.parquet                                                              \n\u001b[90m    \u001b[0m\u001b[90m┗━━ \u001b[0m📄 example_validation_predictions.parquet                                                   \n"
     },
     "metadata": {},
     "output_type": "display_data"
    },
    {
     "data": {
      "application/javascript": "\n            setTimeout(function() {\n                var nbb_cell_id = 10;\n                var nbb_unformatted_code = \"#hide_input\\nconsole = Console(record=True, width=100)\\n\\ntree = Tree(f\\\":file_folder: {train_base_directory} (base_directory)\\\", guide_style=\\\"bold bright_black\\\")\\nfolder_tree = tree.add(\\\":page_facing_up: features.json\\\")\\ntrain_val_tree = tree.add(\\\":file_folder: train_val\\\")\\ntrain_val_tree.add(':page_facing_up: numerai_training_data.parquet')\\ntrain_val_tree.add(':page_facing_up: numerai_validation_data.parquet')\\nexample_tree = tree.add(\\\":file_folder: example\\\")\\nexample_tree.add(':page_facing_up: example_predictions.parquet')\\nexample_tree.add(':page_facing_up: example_validation_predictions.parquet')\\n\\nconsole.print(tree)\";\n                var nbb_formatted_code = \"# hide_input\\nconsole = Console(record=True, width=100)\\n\\ntree = Tree(\\n    f\\\":file_folder: {train_base_directory} (base_directory)\\\",\\n    guide_style=\\\"bold bright_black\\\",\\n)\\nfolder_tree = tree.add(\\\":page_facing_up: features.json\\\")\\ntrain_val_tree = tree.add(\\\":file_folder: train_val\\\")\\ntrain_val_tree.add(\\\":page_facing_up: numerai_training_data.parquet\\\")\\ntrain_val_tree.add(\\\":page_facing_up: numerai_validation_data.parquet\\\")\\nexample_tree = tree.add(\\\":file_folder: example\\\")\\nexample_tree.add(\\\":page_facing_up: example_predictions.parquet\\\")\\nexample_tree.add(\\\":page_facing_up: example_validation_predictions.parquet\\\")\\n\\nconsole.print(tree)\";\n                var nbb_cells = Jupyter.notebook.get_cells();\n                for (var i = 0; i < nbb_cells.length; ++i) {\n                    if (nbb_cells[i].input_prompt_number == nbb_cell_id) {\n                        if (nbb_cells[i].get_text() == nbb_unformatted_code) {\n                             nbb_cells[i].set_text(nbb_formatted_code);\n                        }\n                        break;\n                    }\n                }\n            }, 500);\n            ",
      "text/plain": "<IPython.core.display.Javascript object>"
     },
     "metadata": {},
     "output_type": "display_data"
    }
   ],
   "source": [
    "#hide_input\n",
    "console = Console(record=True, width=100)\n",
    "\n",
    "tree = Tree(f\":file_folder: {train_base_directory} (base_directory)\", guide_style=\"bold bright_black\")\n",
    "folder_tree = tree.add(\":page_facing_up: features.json\")\n",
    "train_val_tree = tree.add(\":file_folder: train_val\")\n",
    "train_val_tree.add(':page_facing_up: numerai_training_data.parquet')\n",
    "train_val_tree.add(':page_facing_up: numerai_validation_data.parquet')\n",
    "example_tree = tree.add(\":file_folder: example\")\n",
    "example_tree.add(':page_facing_up: example_predictions.parquet')\n",
    "example_tree.add(':page_facing_up: example_validation_predictions.parquet')\n",
    "\n",
    "console.print(tree)"
   ]
  },
  {
   "cell_type": "markdown",
   "metadata": {},
   "source": [
    "### Inference"
   ]
  },
  {
   "cell_type": "code",
   "execution_count": null,
   "metadata": {},
   "outputs": [],
   "source": [
    "#slow\n",
    "# initialization\n",
    "inference_base_directory = \"test_numerai_classic_inference_1234321\"\n",
    "# numer_classic_downloader = NumeraiClassicDownloader(inference_base_directory)\n",
    "\n",
    "# Download tournament (inference) data\n",
    "# numer_classic_downloader.download_inference_data(\"inference\", version=2, int8=False)\n",
    "\n",
    "# Remove folder when done with inference\n",
    "# numer_classic_downloader.remove_base_directory()"
   ]
  },
  {
   "cell_type": "markdown",
   "metadata": {},
   "source": [
    "__For the inference example the directory structure will be:__"
   ]
  },
  {
   "cell_type": "code",
   "execution_count": null,
   "metadata": {},
   "outputs": [
    {
     "data": {
      "text/html": "<pre style=\"white-space:pre;overflow-x:auto;line-height:normal;font-family:Menlo,'DejaVu Sans Mono',consolas,'Courier New',monospace\">📁 test_numerai_classic_inference_1234321 (base_directory)                                          \n<span style=\"color: #808080; text-decoration-color: #808080\">┗━━ </span>📁 inference                                                                                    \n<span style=\"color: #808080; text-decoration-color: #808080\">    ┗━━ </span>📄 numerai_tournament_data.parquet                                                          \n</pre>\n",
      "text/plain": "📁 test_numerai_classic_inference_1234321 (base_directory)                                          \n\u001b[90m┗━━ \u001b[0m📁 inference                                                                                    \n\u001b[90m    \u001b[0m\u001b[90m┗━━ \u001b[0m📄 numerai_tournament_data.parquet                                                          \n"
     },
     "metadata": {},
     "output_type": "display_data"
    }
   ],
   "source": [
    "#hide_input\n",
    "console = Console(record=True, width=100)\n",
    "\n",
    "tree = Tree(f\":file_folder: {inference_base_directory} (base_directory)\", guide_style=\"bold bright_black\")\n",
    "inference_tree = tree.add(\":file_folder: inference\")\n",
    "inference_tree.add(':page_facing_up: numerai_tournament_data.parquet')\n",
    "\n",
    "console.print(tree)"
   ]
  },
  {
   "cell_type": "markdown",
   "metadata": {},
   "source": [
    "### Additional tests"
   ]
  },
  {
   "cell_type": "code",
   "execution_count": null,
   "metadata": {},
   "outputs": [
    {
     "data": {
      "text/html": "<pre style=\"white-space:pre;overflow-x:auto;line-height:normal;font-family:Menlo,'DejaVu Sans Mono',consolas,'Courier New',monospace\">📁 <span style=\"color: #008000; text-decoration-color: #008000\">Downloading</span> <span style=\"color: #008000; text-decoration-color: #008000\">'example_predictions.csv'</span> 📁\n</pre>\n",
      "text/plain": "📁 \u001b[32mDownloading\u001b[0m \u001b[32m'example_predictions.csv'\u001b[0m 📁\n"
     },
     "metadata": {},
     "output_type": "display_data"
    },
    {
     "name": "stderr",
     "output_type": "stream",
     "text": [
      "2022-01-04 22:44:19,536 INFO numerapi.utils: starting download\n",
      "test_numerai_classic_1234321/test1/example_predictions.csv: 51.2MB [01:43, 495kB/s]                             \n"
     ]
    },
    {
     "data": {
      "text/html": "<pre style=\"white-space:pre;overflow-x:auto;line-height:normal;font-family:Menlo,'DejaVu Sans Mono',consolas,'Courier New',monospace\">📁 <span style=\"color: #008000; text-decoration-color: #008000\">Downloading</span> <span style=\"color: #008000; text-decoration-color: #008000\">'example_validation_predictions.csv'</span> 📁\n</pre>\n",
      "text/plain": "📁 \u001b[32mDownloading\u001b[0m \u001b[32m'example_validation_predictions.csv'\u001b[0m 📁\n"
     },
     "metadata": {},
     "output_type": "display_data"
    },
    {
     "name": "stderr",
     "output_type": "stream",
     "text": [
      "2022-01-04 22:46:04,826 INFO numerapi.utils: starting download\n",
      "test_numerai_classic_1234321/test1/example_validation_predictions.csv: 19.6MB [00:05, 3.85MB/s]                            \n"
     ]
    },
    {
     "data": {
      "text/html": "<pre style=\"white-space:pre;overflow-x:auto;line-height:normal;font-family:Menlo,'DejaVu Sans Mono',consolas,'Courier New',monospace\">📁 <span style=\"color: #008000; text-decoration-color: #008000\">Downloading</span> <span style=\"color: #008000; text-decoration-color: #008000\">'example_predictions.parquet'</span> 📁\n</pre>\n",
      "text/plain": "📁 \u001b[32mDownloading\u001b[0m \u001b[32m'example_predictions.parquet'\u001b[0m 📁\n"
     },
     "metadata": {},
     "output_type": "display_data"
    },
    {
     "name": "stderr",
     "output_type": "stream",
     "text": [
      "2022-01-04 22:46:11,597 INFO numerapi.utils: starting download\n",
      "test_numerai_classic_1234321/test2/example_predictions.parquet: 33.5MB [01:35, 352kB/s]                             \n"
     ]
    },
    {
     "data": {
      "text/html": "<pre style=\"white-space:pre;overflow-x:auto;line-height:normal;font-family:Menlo,'DejaVu Sans Mono',consolas,'Courier New',monospace\">📁 <span style=\"color: #008000; text-decoration-color: #008000\">Downloading</span> <span style=\"color: #008000; text-decoration-color: #008000\">'example_validation_predictions.parquet'</span> 📁\n</pre>\n",
      "text/plain": "📁 \u001b[32mDownloading\u001b[0m \u001b[32m'example_validation_predictions.parquet'\u001b[0m 📁\n"
     },
     "metadata": {},
     "output_type": "display_data"
    },
    {
     "name": "stderr",
     "output_type": "stream",
     "text": [
      "2022-01-04 22:47:48,664 INFO numerapi.utils: starting download\n",
      "test_numerai_classic_1234321/test2/example_validation_predictions.parquet: 13.0MB [00:28, 451kB/s]                             \n"
     ]
    },
    {
     "data": {
      "text/html": "<pre style=\"white-space:pre;overflow-x:auto;line-height:normal;font-family:Menlo,'DejaVu Sans Mono',consolas,'Courier New',monospace\">📁 <span style=\"color: #008000; text-decoration-color: #008000\">Downloading</span> <span style=\"color: #008000; text-decoration-color: #008000\">'features.json'</span> 📁\n</pre>\n",
      "text/plain": "📁 \u001b[32mDownloading\u001b[0m \u001b[32m'features.json'\u001b[0m 📁\n"
     },
     "metadata": {},
     "output_type": "display_data"
    },
    {
     "name": "stderr",
     "output_type": "stream",
     "text": [
      "2022-01-04 22:48:19,437 INFO numerapi.utils: starting download\n",
      "test_numerai_classic_1234321/features.json: 441kB [00:00, 471kB/s]                             \n"
     ]
    },
    {
     "data": {
      "text/html": "<pre style=\"white-space:pre;overflow-x:auto;line-height:normal;font-family:Menlo,'DejaVu Sans Mono',consolas,'Courier New',monospace\">⚠ <span style=\"color: #800000; text-decoration-color: #800000\">Deleting directory for </span><span style=\"color: #800000; text-decoration-color: #800000\">'NumeraiClassicDownloader</span><span style=\"color: #008000; text-decoration-color: #008000\">'</span> ⚠\nPath: <span style=\"color: #008000; text-decoration-color: #008000\">'/Users/clepelaars/Desktop/crowdcent/repositories/numerai-blocks/nbs/test_numerai_class</span>\n<span style=\"color: #008000; text-decoration-color: #008000\">ic_1234321'</span>\n</pre>\n",
      "text/plain": "⚠ \u001b[31mDeleting directory for \u001b[0m\u001b[31m'NumeraiClassicDownloader\u001b[0m\u001b[32m'\u001b[0m ⚠\nPath: \u001b[32m'/Users/clepelaars/Desktop/crowdcent/repositories/numerai-blocks/nbs/test_numerai_class\u001b[0m\n\u001b[32mic_1234321'\u001b[0m\n"
     },
     "metadata": {},
     "output_type": "display_data"
    },
    {
     "data": {
      "application/javascript": "\n            setTimeout(function() {\n                var nbb_cell_id = 13;\n                var nbb_unformatted_code = \"#slow\\ntest_dir_classic = \\\"test_numerai_classic_1234321\\\"\\nnumer_classic_downloader = NumeraiClassicDownloader(test_dir_classic)\\n\\n# Downloading example data\\nnumer_classic_downloader.download_example_data(\\\"test1/\\\", version=1)\\nnumer_classic_downloader.download_example_data(\\\"test2/\\\", version=2, round_num=290)\\n\\n# Features\\nfeature_stats_test = numer_classic_downloader.get_classic_features()\\nassert isinstance(feature_stats_test, dict)\\n\\n# Remove contents\\nnumer_classic_downloader.remove_base_directory()\\nassert not os.path.exists(test_dir_classic)\";\n                var nbb_formatted_code = \"# slow\\ntest_dir_classic = \\\"test_numerai_classic_1234321\\\"\\nnumer_classic_downloader = NumeraiClassicDownloader(test_dir_classic)\\n\\n# Downloading example data\\nnumer_classic_downloader.download_example_data(\\\"test1/\\\", version=1)\\nnumer_classic_downloader.download_example_data(\\\"test2/\\\", version=2, round_num=290)\\n\\n# Features\\nfeature_stats_test = numer_classic_downloader.get_classic_features()\\nassert isinstance(feature_stats_test, dict)\\n\\n# Remove contents\\nnumer_classic_downloader.remove_base_directory()\\nassert not os.path.exists(test_dir_classic)\";\n                var nbb_cells = Jupyter.notebook.get_cells();\n                for (var i = 0; i < nbb_cells.length; ++i) {\n                    if (nbb_cells[i].input_prompt_number == nbb_cell_id) {\n                        if (nbb_cells[i].get_text() == nbb_unformatted_code) {\n                             nbb_cells[i].set_text(nbb_formatted_code);\n                        }\n                        break;\n                    }\n                }\n            }, 500);\n            ",
      "text/plain": "<IPython.core.display.Javascript object>"
     },
     "metadata": {},
     "output_type": "display_data"
    }
   ],
   "source": [
    "#slow\n",
    "test_dir_classic = \"test_numerai_classic_1234321\"\n",
    "numer_classic_downloader = NumeraiClassicDownloader(test_dir_classic)\n",
    "\n",
    "# Downloading example data\n",
    "numer_classic_downloader.download_example_data(\"test1/\", version=1)\n",
    "numer_classic_downloader.download_example_data(\"test2/\", version=2, round_num=290)\n",
    "\n",
    "# Features\n",
    "feature_stats_test = numer_classic_downloader.get_classic_features()\n",
    "assert isinstance(feature_stats_test, dict)\n",
    "\n",
    "# Remove contents\n",
    "numer_classic_downloader.remove_base_directory()\n",
    "assert not os.path.exists(test_dir_classic)"
   ]
  },
  {
   "cell_type": "markdown",
   "metadata": {},
   "source": [
    "## 3. Yahoo Finance"
   ]
  },
  {
   "cell_type": "code",
   "execution_count": null,
   "metadata": {},
   "outputs": [
    {
     "data": {
      "application/javascript": "\n            setTimeout(function() {\n                var nbb_cell_id = 13;\n                var nbb_unformatted_code = \"#slow\\ntest_dir_classic = \\\"test_numerai_classic_1234321\\\"\\nnumer_classic_downloader = NumeraiClassicDownloader(test_dir_classic)\\n\\n# Downloading example data\\nnumer_classic_downloader.download_example_data(\\\"test1/\\\", version=1)\\nnumer_classic_downloader.download_example_data(\\\"test2/\\\", version=2, round_num=290)\\n\\n# Features\\nfeature_stats_test = numer_classic_downloader.get_classic_features()\\nassert isinstance(feature_stats_test, dict)\\n\\n# Remove contents\\nnumer_classic_downloader.remove_base_directory()\\nassert not os.path.exists(test_dir_classic)\";\n                var nbb_formatted_code = \"# slow\\ntest_dir_classic = \\\"test_numerai_classic_1234321\\\"\\nnumer_classic_downloader = NumeraiClassicDownloader(test_dir_classic)\\n\\n# Downloading example data\\nnumer_classic_downloader.download_example_data(\\\"test1/\\\", version=1)\\nnumer_classic_downloader.download_example_data(\\\"test2/\\\", version=2, round_num=290)\\n\\n# Features\\nfeature_stats_test = numer_classic_downloader.get_classic_features()\\nassert isinstance(feature_stats_test, dict)\\n\\n# Remove contents\\nnumer_classic_downloader.remove_base_directory()\\nassert not os.path.exists(test_dir_classic)\";\n                var nbb_cells = Jupyter.notebook.get_cells();\n                for (var i = 0; i < nbb_cells.length; ++i) {\n                    if (nbb_cells[i].input_prompt_number == nbb_cell_id) {\n                        if (nbb_cells[i].get_text() == nbb_unformatted_code) {\n                             nbb_cells[i].set_text(nbb_formatted_code);\n                        }\n                        break;\n                    }\n                }\n            }, 500);\n            ",
      "text/plain": "<IPython.core.display.Javascript object>"
     },
     "metadata": {},
     "output_type": "display_data"
    }
   ],
   "source": []
  },
  {
   "cell_type": "markdown",
   "metadata": {},
   "source": [
    "## 4. FinnHub"
   ]
  },
  {
   "cell_type": "code",
   "execution_count": null,
   "metadata": {},
   "outputs": [
    {
     "data": {
      "application/javascript": "\n            setTimeout(function() {\n                var nbb_cell_id = 13;\n                var nbb_unformatted_code = \"#slow\\ntest_dir_classic = \\\"test_numerai_classic_1234321\\\"\\nnumer_classic_downloader = NumeraiClassicDownloader(test_dir_classic)\\n\\n# Downloading example data\\nnumer_classic_downloader.download_example_data(\\\"test1/\\\", version=1)\\nnumer_classic_downloader.download_example_data(\\\"test2/\\\", version=2, round_num=290)\\n\\n# Features\\nfeature_stats_test = numer_classic_downloader.get_classic_features()\\nassert isinstance(feature_stats_test, dict)\\n\\n# Remove contents\\nnumer_classic_downloader.remove_base_directory()\\nassert not os.path.exists(test_dir_classic)\";\n                var nbb_formatted_code = \"# slow\\ntest_dir_classic = \\\"test_numerai_classic_1234321\\\"\\nnumer_classic_downloader = NumeraiClassicDownloader(test_dir_classic)\\n\\n# Downloading example data\\nnumer_classic_downloader.download_example_data(\\\"test1/\\\", version=1)\\nnumer_classic_downloader.download_example_data(\\\"test2/\\\", version=2, round_num=290)\\n\\n# Features\\nfeature_stats_test = numer_classic_downloader.get_classic_features()\\nassert isinstance(feature_stats_test, dict)\\n\\n# Remove contents\\nnumer_classic_downloader.remove_base_directory()\\nassert not os.path.exists(test_dir_classic)\";\n                var nbb_cells = Jupyter.notebook.get_cells();\n                for (var i = 0; i < nbb_cells.length; ++i) {\n                    if (nbb_cells[i].input_prompt_number == nbb_cell_id) {\n                        if (nbb_cells[i].get_text() == nbb_unformatted_code) {\n                             nbb_cells[i].set_text(nbb_formatted_code);\n                        }\n                        break;\n                    }\n                }\n            }, 500);\n            ",
      "text/plain": "<IPython.core.display.Javascript object>"
     },
     "metadata": {},
     "output_type": "display_data"
    }
   ],
   "source": []
  },
  {
   "cell_type": "markdown",
   "metadata": {},
   "source": [
    "## 5. Bloomberg?"
   ]
  },
  {
   "cell_type": "code",
   "execution_count": null,
   "metadata": {},
   "outputs": [
    {
     "data": {
      "application/javascript": "\n            setTimeout(function() {\n                var nbb_cell_id = 13;\n                var nbb_unformatted_code = \"#slow\\ntest_dir_classic = \\\"test_numerai_classic_1234321\\\"\\nnumer_classic_downloader = NumeraiClassicDownloader(test_dir_classic)\\n\\n# Downloading example data\\nnumer_classic_downloader.download_example_data(\\\"test1/\\\", version=1)\\nnumer_classic_downloader.download_example_data(\\\"test2/\\\", version=2, round_num=290)\\n\\n# Features\\nfeature_stats_test = numer_classic_downloader.get_classic_features()\\nassert isinstance(feature_stats_test, dict)\\n\\n# Remove contents\\nnumer_classic_downloader.remove_base_directory()\\nassert not os.path.exists(test_dir_classic)\";\n                var nbb_formatted_code = \"# slow\\ntest_dir_classic = \\\"test_numerai_classic_1234321\\\"\\nnumer_classic_downloader = NumeraiClassicDownloader(test_dir_classic)\\n\\n# Downloading example data\\nnumer_classic_downloader.download_example_data(\\\"test1/\\\", version=1)\\nnumer_classic_downloader.download_example_data(\\\"test2/\\\", version=2, round_num=290)\\n\\n# Features\\nfeature_stats_test = numer_classic_downloader.get_classic_features()\\nassert isinstance(feature_stats_test, dict)\\n\\n# Remove contents\\nnumer_classic_downloader.remove_base_directory()\\nassert not os.path.exists(test_dir_classic)\";\n                var nbb_cells = Jupyter.notebook.get_cells();\n                for (var i = 0; i < nbb_cells.length; ++i) {\n                    if (nbb_cells[i].input_prompt_number == nbb_cell_id) {\n                        if (nbb_cells[i].get_text() == nbb_unformatted_code) {\n                             nbb_cells[i].set_text(nbb_formatted_code);\n                        }\n                        break;\n                    }\n                }\n            }, 500);\n            ",
      "text/plain": "<IPython.core.display.Javascript object>"
     },
     "metadata": {},
     "output_type": "display_data"
    }
   ],
   "source": []
  },
  {
   "cell_type": "code",
   "execution_count": null,
   "metadata": {},
   "outputs": [
    {
     "name": "stdout",
     "output_type": "stream",
     "text": [
      "Converted 00_download.ipynb.\n",
      "Converted 01_dataloaders.ipynb.\n",
      "Converted 02_dataset.ipynb.\n",
      "Converted 03_preprocessing.ipynb.\n",
      "Converted 04a_model.ipynb.\n",
      "Converted 04b_modelpipeline.ipynb.\n",
      "Converted 05_postprocessing.ipynb.\n",
      "Converted 06_prediction_dataset.ipynb.\n",
      "Converted 07_evaluation.ipynb.\n",
      "Converted 08_auth.ipynb.\n",
      "Converted 09_submission.ipynb.\n",
      "Converted index.ipynb.\n"
     ]
    },
    {
     "data": {
      "application/javascript": "\n            setTimeout(function() {\n                var nbb_cell_id = 14;\n                var nbb_unformatted_code = \"#hide\\n# Run this cell to sync all changes with library\\nfrom nbdev.export import notebook2script; notebook2script()\";\n                var nbb_formatted_code = \"# hide\\n# Run this cell to sync all changes with library\\nfrom nbdev.export import notebook2script\\n\\nnotebook2script()\";\n                var nbb_cells = Jupyter.notebook.get_cells();\n                for (var i = 0; i < nbb_cells.length; ++i) {\n                    if (nbb_cells[i].input_prompt_number == nbb_cell_id) {\n                        if (nbb_cells[i].get_text() == nbb_unformatted_code) {\n                             nbb_cells[i].set_text(nbb_formatted_code);\n                        }\n                        break;\n                    }\n                }\n            }, 500);\n            ",
      "text/plain": "<IPython.core.display.Javascript object>"
     },
     "metadata": {},
     "output_type": "display_data"
    }
   ],
   "source": [
    "#hide\n",
    "# Run this cell to sync all changes with library\n",
    "from nbdev.export import notebook2script; notebook2script()"
   ]
  }
 ],
 "metadata": {
  "kernelspec": {
   "display_name": "Python 3",
   "language": "python",
   "name": "python3"
  }
 },
 "nbformat": 4,
 "nbformat_minor": 2
}
