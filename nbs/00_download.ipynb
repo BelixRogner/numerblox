{
 "cells": [
  {
   "cell_type": "code",
   "execution_count": null,
   "metadata": {},
   "outputs": [],
   "source": [
    "%load_ext autoreload\n",
    "%autoreload 2"
   ]
  },
  {
   "cell_type": "code",
   "execution_count": null,
   "metadata": {},
   "outputs": [],
   "source": [
    "#default_exp download"
   ]
  },
  {
   "cell_type": "markdown",
   "metadata": {},
   "source": [
    "# Download\n",
    "\n",
    "> API details."
   ]
  },
  {
   "cell_type": "code",
   "execution_count": null,
   "metadata": {},
   "outputs": [],
   "source": [
    "#hide\n",
    "from nbdev.showdoc import *"
   ]
  },
  {
   "cell_type": "code",
   "execution_count": null,
   "metadata": {},
   "outputs": [],
   "source": [
    "#export\n",
    "import os\n",
    "import shutil\n",
    "from numerapi import NumerAPI, SignalsAPI\n",
    "from pathlib import Path, PosixPath\n",
    "from abc import ABC\n",
    "from rich import print as rich_print"
   ]
  },
  {
   "cell_type": "markdown",
   "metadata": {},
   "source": [
    "### 1. Base\n",
    "\n",
    "`BaseDownloader` is a simple object which implements logic common to all downloaders.\n",
    "\n",
    "To implement a new Downloader, you should inherit from `BaseDownloader` and be sure to implement at least `download_training_data` and `download_inference_data`."
   ]
  },
  {
   "cell_type": "code",
   "execution_count": null,
   "metadata": {},
   "outputs": [],
   "source": [
    "#export\n",
    "class BaseDownloader(ABC):\n",
    "    \"\"\"\n",
    "    Abstract base class for downloaders.\n",
    "    :param directory_path: Base directory where data will be saved.\n",
    "    \"\"\"\n",
    "    def __init__(self, directory_path: str):\n",
    "        self.dir = Path(directory_path)\n",
    "        if not self.dir.is_dir():\n",
    "            rich_print(f\"No existing directory found at '[blue]{self.dir}[/blue]'. Creating directory...\")\n",
    "            self.dir.mkdir(parents=True, exist_ok=True)\n",
    "\n",
    "    def download_training_data(self, *args, **kwargs):\n",
    "        raise NotImplementedError(f\"No method for downloading training data is implemented in '{self.__class__.__name__}'\")\n",
    "\n",
    "    def download_inference_data(self, *args, **kwargs):\n",
    "        raise NotImplementedError(f\"No method for downloading inference data is implemented in '{self.__class__.__name__}'.\")\n",
    "\n",
    "    def remove_directory(self):\n",
    "        \"\"\" Remove download directory with all contents. \"\"\"\n",
    "        abs_path = self.dir.resolve()\n",
    "        rich_print(f\":warning: [red]Deleting directory for '{self.__class__.__name__}[/red]': :warning:\\nPath: '{abs_path}'\")\n",
    "        shutil.rmtree(abs_path)\n",
    "\n",
    "    @property\n",
    "    def get_all_files(self):\n",
    "        \"\"\" Return all contents in directory. \"\"\"\n",
    "        return list(base_down.dir.iterdir())\n",
    "\n",
    "    @property\n",
    "    def is_empty(self):\n",
    "        \"\"\" Check if directory is empty.\"\"\"\n",
    "        return not bool(self.get_all_files)\n",
    "\n",
    "    def __call__(self, *args, **kwargs):\n",
    "        \"\"\"\n",
    "        The most common use case will be to get weekly inference data. So calling the class itself returns inference data.\n",
    "        \"\"\"\n",
    "        self.download_inference_data(*args, **kwargs)"
   ]
  },
  {
   "cell_type": "code",
   "execution_count": null,
   "metadata": {},
   "outputs": [
    {
     "data": {
      "text/html": "<pre style=\"white-space:pre;overflow-x:auto;line-height:normal;font-family:Menlo,'DejaVu Sans Mono',consolas,'Courier New',monospace\">No existing directory found at <span style=\"color: #008000; text-decoration-color: #008000\">'</span><span style=\"color: #000080; text-decoration-color: #000080\">test_base_1234321234321</span><span style=\"color: #008000; text-decoration-color: #008000\">'</span>. Creating directory<span style=\"color: #808000; text-decoration-color: #808000\">...</span>\n</pre>\n",
      "text/plain": "No existing directory found at \u001b[32m'\u001b[0m\u001b[34mtest_base_1234321234321\u001b[0m\u001b[32m'\u001b[0m. Creating directory\u001b[33m...\u001b[0m\n"
     },
     "metadata": {},
     "output_type": "display_data"
    },
    {
     "data": {
      "text/html": "<pre style=\"white-space:pre;overflow-x:auto;line-height:normal;font-family:Menlo,'DejaVu Sans Mono',consolas,'Courier New',monospace\">Directory contents:\n<span style=\"font-weight: bold\">[</span><span style=\"color: #800080; text-decoration-color: #800080; font-weight: bold\">PosixPath</span><span style=\"font-weight: bold\">(</span><span style=\"color: #008000; text-decoration-color: #008000\">'test_base_1234321234321/test.txt'</span><span style=\"font-weight: bold\">)]</span>\n</pre>\n",
      "text/plain": "Directory contents:\n\u001b[1m[\u001b[0m\u001b[1;35mPosixPath\u001b[0m\u001b[1m(\u001b[0m\u001b[32m'test_base_1234321234321/test.txt'\u001b[0m\u001b[1m)\u001b[0m\u001b[1m]\u001b[0m\n"
     },
     "metadata": {},
     "output_type": "display_data"
    },
    {
     "data": {
      "text/html": "<pre style=\"white-space:pre;overflow-x:auto;line-height:normal;font-family:Menlo,'DejaVu Sans Mono',consolas,'Courier New',monospace\">⚠ <span style=\"color: #800000; text-decoration-color: #800000\">Deleting directory for </span><span style=\"color: #800000; text-decoration-color: #800000\">'BaseDownloader</span><span style=\"color: #008000; text-decoration-color: #008000\">'</span>: ⚠\nPath: \n<span style=\"color: #008000; text-decoration-color: #008000\">'/Users/clepelaars/Desktop/crowdcent/repositories/numerai-blocks/nbs/test_base_1234321234321'</span>\n</pre>\n",
      "text/plain": "⚠ \u001b[31mDeleting directory for \u001b[0m\u001b[31m'BaseDownloader\u001b[0m\u001b[32m'\u001b[0m: ⚠\nPath: \n\u001b[32m'/Users/clepelaars/Desktop/crowdcent/repositories/numerai-blocks/nbs/test_base_1234321234321'\u001b[0m\n"
     },
     "metadata": {},
     "output_type": "display_data"
    }
   ],
   "source": [
    "test_dir = \"test_base_1234321234321/\"\n",
    "\n",
    "# Test building class\n",
    "base_down = BaseDownloader(directory_path=test_dir)\n",
    "assert isinstance(base_down.dir, PosixPath)\n",
    "assert base_down.dir.is_dir()\n",
    "\n",
    "# Test properties\n",
    "(base_down.dir / \"test.txt\").write_text(\"test\")\n",
    "rich_print(f\"Directory contents:\\n{base_down.get_all_files}\")\n",
    "assert not base_down.is_empty\n",
    "\n",
    "# Remove contents\n",
    "base_down.remove_directory()\n",
    "assert not os.path.exists(test_dir)"
   ]
  },
  {
   "cell_type": "markdown",
   "metadata": {},
   "source": [
    "## 2. Numerai Classic"
   ]
  },
  {
   "cell_type": "code",
   "execution_count": null,
   "metadata": {},
   "outputs": [],
   "source": [
    "class NumeraiClassicDownloader(BaseDownloader):\n",
    "    def __init__(self, directory_path: str, version: int = 2, *args, **kwargs):\n",
    "        super(NumeraiClassicDownloader, self).__init__(directory_path=directory_path)\n",
    "        self.api = NumerAPI(*args, **kwargs)\n",
    "        self.version = version\n",
    "\n",
    "    def download_training_data(self):\n",
    "        # TODO Implement train set downloading\n",
    "        ...\n",
    "\n",
    "    def download_inference_data(self):\n",
    "        # TODO implement inference downloading\n",
    "        ..."
   ]
  },
  {
   "cell_type": "code",
   "execution_count": null,
   "metadata": {},
   "outputs": [
    {
     "data": {
      "text/html": "<pre style=\"white-space:pre;overflow-x:auto;line-height:normal;font-family:Menlo,'DejaVu Sans Mono',consolas,'Courier New',monospace\">⚠ <span style=\"color: #800000; text-decoration-color: #800000\">Deleting directory for </span><span style=\"color: #800000; text-decoration-color: #800000\">'NumeraiClassicDownloader</span><span style=\"color: #008000; text-decoration-color: #008000\">'</span>: ⚠\nPath: <span style=\"color: #008000; text-decoration-color: #008000\">'/Users/clepelaars/Desktop/crowdcent/repositories/numerai-blocks/nbs/test_numerai_class</span>\n<span style=\"color: #008000; text-decoration-color: #008000\">ic_1234321'</span>\n</pre>\n",
      "text/plain": "⚠ \u001b[31mDeleting directory for \u001b[0m\u001b[31m'NumeraiClassicDownloader\u001b[0m\u001b[32m'\u001b[0m: ⚠\nPath: \u001b[32m'/Users/clepelaars/Desktop/crowdcent/repositories/numerai-blocks/nbs/test_numerai_class\u001b[0m\n\u001b[32mic_1234321'\u001b[0m\n"
     },
     "metadata": {},
     "output_type": "display_data"
    }
   ],
   "source": [
    "test_dir_classic = \"test_numerai_classic_1234321\"\n",
    "numer_classic_downloader = NumeraiClassicDownloader(test_dir_classic)\n",
    "\n",
    "# TODO test for ClassicDownloader (including full #slow tests)\n",
    "\n",
    "# Remove contents\n",
    "numer_classic_downloader.remove_directory()\n",
    "assert not os.path.exists(test_dir_classic)"
   ]
  },
  {
   "cell_type": "markdown",
   "metadata": {},
   "source": [
    "## 3. Numerai Signals"
   ]
  },
  {
   "cell_type": "code",
   "execution_count": null,
   "metadata": {},
   "outputs": [],
   "source": []
  }
 ],
 "metadata": {
  "kernelspec": {
   "display_name": "Python 3",
   "language": "python",
   "name": "python3"
  }
 },
 "nbformat": 4,
 "nbformat_minor": 2
}
