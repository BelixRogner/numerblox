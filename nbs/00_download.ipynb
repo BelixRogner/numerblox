{
 "cells": [
  {
   "cell_type": "code",
   "execution_count": null,
   "metadata": {},
   "outputs": [],
   "source": [
    "%load_ext autoreload\n",
    "%autoreload 2"
   ]
  },
  {
   "cell_type": "code",
   "execution_count": null,
   "metadata": {},
   "outputs": [],
   "source": [
    "#default_exp download"
   ]
  },
  {
   "cell_type": "markdown",
   "metadata": {},
   "source": [
    "# Download\n",
    "\n",
    "> API details."
   ]
  },
  {
   "cell_type": "code",
   "execution_count": null,
   "metadata": {},
   "outputs": [],
   "source": [
    "#hide\n",
    "from nbdev.showdoc import *"
   ]
  },
  {
   "cell_type": "code",
   "execution_count": null,
   "metadata": {},
   "outputs": [],
   "source": [
    "#export\n",
    "import os\n",
    "import shutil\n",
    "from numerapi import NumerAPI, SignalsAPI\n",
    "from pathlib import Path, PosixPath\n",
    "from abc import ABC\n",
    "from rich import print as rich_print"
   ]
  },
  {
   "cell_type": "markdown",
   "metadata": {},
   "source": [
    "## 1. Base\n",
    "\n",
    "`BaseDownloader` is a simple object which implements logic common to all downloaders.\n",
    "\n",
    "To implement a new Downloader, you should inherit from `BaseDownloader` and be sure to implement at least `download_training_data` and `download_inference_data`."
   ]
  },
  {
   "cell_type": "code",
   "execution_count": null,
   "metadata": {},
   "outputs": [],
   "source": [
    "#export\n",
    "class BaseDownloader(ABC):\n",
    "    \"\"\"\n",
    "    Abstract base class for downloaders.\n",
    "    :param directory_path: Base directory where data will be saved.\n",
    "    \"\"\"\n",
    "    def __init__(self, directory_path: str):\n",
    "        self.dir = Path(directory_path)\n",
    "        if not self.dir.is_dir():\n",
    "            rich_print(f\"No existing directory found at '[blue]{self.dir}[/blue]'. Creating directory...\")\n",
    "            self.dir.mkdir(parents=True, exist_ok=True)\n",
    "\n",
    "    def download_training_data(self, *args, **kwargs):\n",
    "        raise NotImplementedError(f\"No method for downloading training data is implemented in '{self.__class__.__name__}'\")\n",
    "\n",
    "    def download_inference_data(self, *args, **kwargs):\n",
    "        raise NotImplementedError(f\"No method for downloading inference data is implemented in '{self.__class__.__name__}'.\")\n",
    "\n",
    "    def remove_base_directory(self):\n",
    "        \"\"\" Remove download directory with all contents. \"\"\"\n",
    "        abs_path = self.dir.resolve()\n",
    "        rich_print(f\":warning: [red]Deleting directory for '{self.__class__.__name__}[/red]' :warning:\\nPath: '{abs_path}'\")\n",
    "        shutil.rmtree(abs_path)\n",
    "\n",
    "    def _append_folder(self, folder: str) -> PosixPath:\n",
    "        dir = Path(self.dir / folder)\n",
    "        dir.mkdir(parents=True, exist_ok=True)\n",
    "        return dir\n",
    "\n",
    "    @property\n",
    "    def get_all_files(self):\n",
    "        \"\"\" Return all contents in directory. \"\"\"\n",
    "        return list(base_down.dir.iterdir())\n",
    "\n",
    "    @property\n",
    "    def is_empty(self):\n",
    "        \"\"\" Check if directory is empty.\"\"\"\n",
    "        return not bool(self.get_all_files)\n",
    "\n",
    "    def __call__(self, *args, **kwargs):\n",
    "        \"\"\"\n",
    "        The most common use case will be to get weekly inference data. So calling the class itself returns inference data.\n",
    "        \"\"\"\n",
    "        self.download_inference_data(*args, **kwargs)"
   ]
  },
  {
   "cell_type": "code",
   "execution_count": null,
   "metadata": {},
   "outputs": [
    {
     "data": {
      "text/html": "<pre style=\"white-space:pre;overflow-x:auto;line-height:normal;font-family:Menlo,'DejaVu Sans Mono',consolas,'Courier New',monospace\">No existing directory found at <span style=\"color: #008000; text-decoration-color: #008000\">'</span><span style=\"color: #000080; text-decoration-color: #000080\">test_base_1234321234321</span><span style=\"color: #008000; text-decoration-color: #008000\">'</span>. Creating directory<span style=\"color: #808000; text-decoration-color: #808000\">...</span>\n</pre>\n",
      "text/plain": "No existing directory found at \u001b[32m'\u001b[0m\u001b[34mtest_base_1234321234321\u001b[0m\u001b[32m'\u001b[0m. Creating directory\u001b[33m...\u001b[0m\n"
     },
     "metadata": {},
     "output_type": "display_data"
    },
    {
     "data": {
      "text/html": "<pre style=\"white-space:pre;overflow-x:auto;line-height:normal;font-family:Menlo,'DejaVu Sans Mono',consolas,'Courier New',monospace\">Directory contents:\n<span style=\"font-weight: bold\">[</span><span style=\"color: #800080; text-decoration-color: #800080; font-weight: bold\">Path</span><span style=\"font-weight: bold\">(</span><span style=\"color: #008000; text-decoration-color: #008000\">'test_base_1234321234321/test.txt'</span><span style=\"font-weight: bold\">)]</span>\n</pre>\n",
      "text/plain": "Directory contents:\n\u001b[1m[\u001b[0m\u001b[1;35mPath\u001b[0m\u001b[1m(\u001b[0m\u001b[32m'test_base_1234321234321/test.txt'\u001b[0m\u001b[1m)\u001b[0m\u001b[1m]\u001b[0m\n"
     },
     "metadata": {},
     "output_type": "display_data"
    },
    {
     "data": {
      "text/html": "<pre style=\"white-space:pre;overflow-x:auto;line-height:normal;font-family:Menlo,'DejaVu Sans Mono',consolas,'Courier New',monospace\">⚠ <span style=\"color: #800000; text-decoration-color: #800000\">Deleting directory for </span><span style=\"color: #800000; text-decoration-color: #800000\">'BaseDownloader</span><span style=\"color: #008000; text-decoration-color: #008000\">'</span> ⚠\nPath: \n<span style=\"color: #008000; text-decoration-color: #008000\">'/Users/clepelaars/Desktop/crowdcent/repositories/numerai-blocks/nbs/test_base_1234321234321'</span>\n</pre>\n",
      "text/plain": "⚠ \u001b[31mDeleting directory for \u001b[0m\u001b[31m'BaseDownloader\u001b[0m\u001b[32m'\u001b[0m ⚠\nPath: \n\u001b[32m'/Users/clepelaars/Desktop/crowdcent/repositories/numerai-blocks/nbs/test_base_1234321234321'\u001b[0m\n"
     },
     "metadata": {},
     "output_type": "display_data"
    }
   ],
   "source": [
    "test_dir = \"test_base_1234321234321/\"\n",
    "\n",
    "# Test building class\n",
    "base_down = BaseDownloader(directory_path=test_dir)\n",
    "assert isinstance(base_down.dir, PosixPath)\n",
    "assert base_down.dir.is_dir()\n",
    "\n",
    "# Test properties\n",
    "(base_down.dir / \"test.txt\").write_text(\"test\")\n",
    "rich_print(f\"Directory contents:\\n{base_down.get_all_files}\")\n",
    "assert not base_down.is_empty\n",
    "\n",
    "# Remove contents\n",
    "base_down.remove_base_directory()\n",
    "assert not os.path.exists(test_dir)"
   ]
  },
  {
   "cell_type": "markdown",
   "metadata": {},
   "source": [
    "## 2. Numerai Classic"
   ]
  },
  {
   "cell_type": "code",
   "execution_count": null,
   "metadata": {},
   "outputs": [],
   "source": [
    "class NumeraiClassicDownloader(BaseDownloader):\n",
    "    \"\"\"\n",
    "    Downloading from NumerAPI for Numerai Classic data\n",
    "\n",
    "    :param directory_path: Main folder to download data in.\n",
    "    All *args, **kwargs will be passed to NumerAPI initialization.\n",
    "    \"\"\"\n",
    "    def __init__(self, directory_path: str, *args, **kwargs):\n",
    "        super(NumeraiClassicDownloader, self).__init__(directory_path=directory_path)\n",
    "        self.napi = NumerAPI(*args, **kwargs)\n",
    "        self.current_round = self.napi.get_current_round()\n",
    "\n",
    "    def download_training_data(self, version: int = 2, *args, **kwargs):\n",
    "        # TODO Implement train set downloading\n",
    "        ...\n",
    "\n",
    "    def download_inference_data(self, version: int = 2, round_num: int = None, *args, **kwargs):\n",
    "        # TODO implement inference downloading\n",
    "        ...\n",
    "\n",
    "    def download_single_dataset(self, filename: str, dest_path: str, round_num: int = None, *args, **kwargs):\n",
    "        \"\"\" Download arbitrary dataset through NumerAPI \"\"\"\n",
    "        self.napi.download_dataset(filename=filename,\n",
    "                                   dest_path=dest_path,\n",
    "                                   round_num=round_num, *args, **kwargs)\n",
    "\n",
    "\n",
    "    def get_example_data(self, folder: str = \"\", version: int = 2, round_num: int = None):\n",
    "        \"\"\"\n",
    "        Download all example prediction data in specified folder for given version.\n",
    "\n",
    "        :param folder: Specify folder to create folder within directory root. Saves in directory root by default.\n",
    "        :param version: Numerai version (1=classic, 2=super massive dataset (parquet)\n",
    "        :param round_num: Numerai tournament round number. Downloads latest round by default.\n",
    "        \"\"\"\n",
    "        dir = self._append_folder(folder)\n",
    "        version_mapping = {1: ['example_predictions.csv', 'example_validation_predictions.csv'], 2: ['example_predictions.parquet', 'example_validation_predictions.parquet']}\n",
    "        example_files = version_mapping[version]\n",
    "        for file in example_files:\n",
    "            rich_print(f\":file_folder: [green]Downloading[/green] '{file}' :file_folder:\", )\n",
    "            self.napi.download_dataset(filename=file,\n",
    "                                       dest_path=str(dir.joinpath(file)),\n",
    "                                       round_num=round_num)\n",
    "\n",
    "\n"
   ]
  },
  {
   "cell_type": "code",
   "execution_count": null,
   "metadata": {},
   "outputs": [
    {
     "data": {
      "text/html": "<pre style=\"white-space:pre;overflow-x:auto;line-height:normal;font-family:Menlo,'DejaVu Sans Mono',consolas,'Courier New',monospace\">No existing directory found at <span style=\"color: #008000; text-decoration-color: #008000\">'</span><span style=\"color: #000080; text-decoration-color: #000080\">test_numerai_classic_1234321</span><span style=\"color: #008000; text-decoration-color: #008000\">'</span>. Creating directory<span style=\"color: #808000; text-decoration-color: #808000\">...</span>\n</pre>\n",
      "text/plain": "No existing directory found at \u001b[32m'\u001b[0m\u001b[34mtest_numerai_classic_1234321\u001b[0m\u001b[32m'\u001b[0m. Creating directory\u001b[33m...\u001b[0m\n"
     },
     "metadata": {},
     "output_type": "display_data"
    },
    {
     "data": {
      "text/html": "<pre style=\"white-space:pre;overflow-x:auto;line-height:normal;font-family:Menlo,'DejaVu Sans Mono',consolas,'Courier New',monospace\">📁 <span style=\"color: #008000; text-decoration-color: #008000\">Downloading</span> <span style=\"color: #008000; text-decoration-color: #008000\">'example_predictions.csv'</span> 📁\n</pre>\n",
      "text/plain": "📁 \u001b[32mDownloading\u001b[0m \u001b[32m'example_predictions.csv'\u001b[0m 📁\n"
     },
     "metadata": {},
     "output_type": "display_data"
    },
    {
     "name": "stderr",
     "output_type": "stream",
     "text": [
      "2022-01-04 18:35:31,058 INFO numerapi.utils: starting download\n",
      "test_numerai_classic_1234321/test1/example_predictions.csv: 51.2MB [00:27, 1.87MB/s]                            \n"
     ]
    },
    {
     "data": {
      "text/html": "<pre style=\"white-space:pre;overflow-x:auto;line-height:normal;font-family:Menlo,'DejaVu Sans Mono',consolas,'Courier New',monospace\">📁 <span style=\"color: #008000; text-decoration-color: #008000\">Downloading</span> <span style=\"color: #008000; text-decoration-color: #008000\">'example_validation_predictions.csv'</span> 📁\n</pre>\n",
      "text/plain": "📁 \u001b[32mDownloading\u001b[0m \u001b[32m'example_validation_predictions.csv'\u001b[0m 📁\n"
     },
     "metadata": {},
     "output_type": "display_data"
    },
    {
     "name": "stderr",
     "output_type": "stream",
     "text": [
      "2022-01-04 18:35:59,599 INFO numerapi.utils: starting download\n",
      "test_numerai_classic_1234321/test1/example_validation_predictions.csv: 19.6MB [00:03, 4.96MB/s]                            \n"
     ]
    },
    {
     "data": {
      "text/html": "<pre style=\"white-space:pre;overflow-x:auto;line-height:normal;font-family:Menlo,'DejaVu Sans Mono',consolas,'Courier New',monospace\">📁 <span style=\"color: #008000; text-decoration-color: #008000\">Downloading</span> <span style=\"color: #008000; text-decoration-color: #008000\">'example_predictions.parquet'</span> 📁\n</pre>\n",
      "text/plain": "📁 \u001b[32mDownloading\u001b[0m \u001b[32m'example_predictions.parquet'\u001b[0m 📁\n"
     },
     "metadata": {},
     "output_type": "display_data"
    },
    {
     "name": "stderr",
     "output_type": "stream",
     "text": [
      "2022-01-04 18:36:04,717 INFO numerapi.utils: starting download\n",
      "test_numerai_classic_1234321/test2/example_predictions.parquet: 33.5MB [00:06, 5.10MB/s]                            \n"
     ]
    },
    {
     "data": {
      "text/html": "<pre style=\"white-space:pre;overflow-x:auto;line-height:normal;font-family:Menlo,'DejaVu Sans Mono',consolas,'Courier New',monospace\">📁 <span style=\"color: #008000; text-decoration-color: #008000\">Downloading</span> <span style=\"color: #008000; text-decoration-color: #008000\">'example_validation_predictions.parquet'</span> 📁\n</pre>\n",
      "text/plain": "📁 \u001b[32mDownloading\u001b[0m \u001b[32m'example_validation_predictions.parquet'\u001b[0m 📁\n"
     },
     "metadata": {},
     "output_type": "display_data"
    },
    {
     "name": "stderr",
     "output_type": "stream",
     "text": [
      "2022-01-04 18:36:12,461 INFO numerapi.utils: starting download\n",
      "test_numerai_classic_1234321/test2/example_validation_predictions.parquet: 13.0MB [00:06, 2.03MB/s]                            \n"
     ]
    },
    {
     "data": {
      "text/html": "<pre style=\"white-space:pre;overflow-x:auto;line-height:normal;font-family:Menlo,'DejaVu Sans Mono',consolas,'Courier New',monospace\">⚠ <span style=\"color: #800000; text-decoration-color: #800000\">Deleting directory for </span><span style=\"color: #800000; text-decoration-color: #800000\">'NumeraiClassicDownloader</span><span style=\"color: #008000; text-decoration-color: #008000\">'</span> ⚠\nPath: <span style=\"color: #008000; text-decoration-color: #008000\">'/Users/clepelaars/Desktop/crowdcent/repositories/numerai-blocks/nbs/test_numerai_class</span>\n<span style=\"color: #008000; text-decoration-color: #008000\">ic_1234321'</span>\n</pre>\n",
      "text/plain": "⚠ \u001b[31mDeleting directory for \u001b[0m\u001b[31m'NumeraiClassicDownloader\u001b[0m\u001b[32m'\u001b[0m ⚠\nPath: \u001b[32m'/Users/clepelaars/Desktop/crowdcent/repositories/numerai-blocks/nbs/test_numerai_class\u001b[0m\n\u001b[32mic_1234321'\u001b[0m\n"
     },
     "metadata": {},
     "output_type": "display_data"
    }
   ],
   "source": [
    "#slow\n",
    "test_dir_classic = \"test_numerai_classic_1234321\"\n",
    "numer_classic_downloader = NumeraiClassicDownloader(test_dir_classic)\n",
    "# TODO test for ClassicDownloader (including full #slow tests)\n",
    "\n",
    "# Downloading example data\n",
    "numer_classic_downloader.get_example_data(\"test1/\", version=1)\n",
    "numer_classic_downloader.get_example_data(\"test2/\", version=2, round_num=290)\n",
    "\n",
    "# Remove contents\n",
    "numer_classic_downloader.remove_base_directory()\n",
    "assert not os.path.exists(test_dir_classic)"
   ]
  },
  {
   "cell_type": "markdown",
   "metadata": {},
   "source": [
    "## 3. Yahoo Finance"
   ]
  },
  {
   "cell_type": "code",
   "execution_count": null,
   "metadata": {},
   "outputs": [],
   "source": []
  },
  {
   "cell_type": "markdown",
   "metadata": {},
   "source": [
    "## 4. FinnHub"
   ]
  },
  {
   "cell_type": "code",
   "execution_count": null,
   "metadata": {},
   "outputs": [],
   "source": []
  },
  {
   "cell_type": "markdown",
   "metadata": {},
   "source": [
    "## 5. Bloomberg?"
   ]
  },
  {
   "cell_type": "code",
   "execution_count": null,
   "metadata": {},
   "outputs": [],
   "source": []
  },
  {
   "cell_type": "code",
   "execution_count": null,
   "metadata": {},
   "outputs": [],
   "source": [
    "#hide\n",
    "# Run this cell to sync all changes with library\n",
    "from nbdev.export import notebook2script; notebook2script()"
   ]
  }
 ],
 "metadata": {
  "kernelspec": {
   "display_name": "Python 3",
   "language": "python",
   "name": "python3"
  }
 },
 "nbformat": 4,
 "nbformat_minor": 2
}
