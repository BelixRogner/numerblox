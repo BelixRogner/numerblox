{
 "cells": [
  {
   "cell_type": "code",
   "execution_count": null,
   "metadata": {},
   "outputs": [
    {
     "data": {
      "application/javascript": [
       "\n",
       "            setTimeout(function() {\n",
       "                var nbb_cell_id = 1;\n",
       "                var nbb_unformatted_code = \"#hide\\n%load_ext autoreload\\n%autoreload 2\\n%load_ext nb_black\\n%load_ext lab_black\";\n",
       "                var nbb_formatted_code = \"# hide\\n%load_ext autoreload\\n%autoreload 2\\n%load_ext nb_black\\n%load_ext lab_black\";\n",
       "                var nbb_cells = Jupyter.notebook.get_cells();\n",
       "                for (var i = 0; i < nbb_cells.length; ++i) {\n",
       "                    if (nbb_cells[i].input_prompt_number == nbb_cell_id) {\n",
       "                        if (nbb_cells[i].get_text() == nbb_unformatted_code) {\n",
       "                             nbb_cells[i].set_text(nbb_formatted_code);\n",
       "                        }\n",
       "                        break;\n",
       "                    }\n",
       "                }\n",
       "            }, 500);\n",
       "            "
      ],
      "text/plain": [
       "<IPython.core.display.Javascript object>"
      ]
     },
     "metadata": {},
     "output_type": "display_data"
    }
   ],
   "source": [
    "# hide\n",
    "%load_ext autoreload\n",
    "%autoreload 2\n",
    "%load_ext nb_black\n",
    "%load_ext lab_black"
   ]
  },
  {
   "cell_type": "code",
   "execution_count": null,
   "metadata": {},
   "outputs": [
    {
     "data": {
      "application/javascript": [
       "\n",
       "            setTimeout(function() {\n",
       "                var nbb_cell_id = 2;\n",
       "                var nbb_unformatted_code = \"#default_exp download\";\n",
       "                var nbb_formatted_code = \"# default_exp download\";\n",
       "                var nbb_cells = Jupyter.notebook.get_cells();\n",
       "                for (var i = 0; i < nbb_cells.length; ++i) {\n",
       "                    if (nbb_cells[i].input_prompt_number == nbb_cell_id) {\n",
       "                        if (nbb_cells[i].get_text() == nbb_unformatted_code) {\n",
       "                             nbb_cells[i].set_text(nbb_formatted_code);\n",
       "                        }\n",
       "                        break;\n",
       "                    }\n",
       "                }\n",
       "            }, 500);\n",
       "            "
      ],
      "text/plain": [
       "<IPython.core.display.Javascript object>"
      ]
     },
     "metadata": {},
     "output_type": "display_data"
    }
   ],
   "source": [
    "# default_exp download"
   ]
  },
  {
   "cell_type": "markdown",
   "metadata": {},
   "source": [
    "# Download\n",
    "\n",
    "> Downloaders for Numerai Classic and Numerai Signals."
   ]
  },
  {
   "cell_type": "code",
   "execution_count": null,
   "metadata": {},
   "outputs": [
    {
     "data": {
      "application/javascript": [
       "\n",
       "            setTimeout(function() {\n",
       "                var nbb_cell_id = 3;\n",
       "                var nbb_unformatted_code = \"#hide\\nfrom nbdev.showdoc import *\";\n",
       "                var nbb_formatted_code = \"# hide\\nfrom nbdev.showdoc import *\";\n",
       "                var nbb_cells = Jupyter.notebook.get_cells();\n",
       "                for (var i = 0; i < nbb_cells.length; ++i) {\n",
       "                    if (nbb_cells[i].input_prompt_number == nbb_cell_id) {\n",
       "                        if (nbb_cells[i].get_text() == nbb_unformatted_code) {\n",
       "                             nbb_cells[i].set_text(nbb_formatted_code);\n",
       "                        }\n",
       "                        break;\n",
       "                    }\n",
       "                }\n",
       "            }, 500);\n",
       "            "
      ],
      "text/plain": [
       "<IPython.core.display.Javascript object>"
      ]
     },
     "metadata": {},
     "output_type": "display_data"
    }
   ],
   "source": [
    "# hide\n",
    "from nbdev.showdoc import *"
   ]
  },
  {
   "cell_type": "code",
   "execution_count": null,
   "metadata": {},
   "outputs": [
    {
     "data": {
      "application/javascript": [
       "\n",
       "            setTimeout(function() {\n",
       "                var nbb_cell_id = 4;\n",
       "                var nbb_unformatted_code = \"#export\\nimport os\\nimport glob\\nimport json\\nimport shutil\\nfrom rich.tree import Tree\\nfrom datetime import datetime\\nfrom rich.console import Console\\nfrom typeguard import typechecked\\nfrom pathlib import Path, PosixPath\\nfrom abc import ABC, abstractmethod\\nfrom rich import print as rich_print\\nfrom numerapi import NumerAPI, SignalsAPI\\nfrom dateutil.relativedelta import relativedelta, FR\\n\\nfrom google.cloud import storage\";\n",
       "                var nbb_formatted_code = \"# export\\nimport os\\nimport glob\\nimport json\\nimport shutil\\nfrom rich.tree import Tree\\nfrom datetime import datetime\\nfrom rich.console import Console\\nfrom typeguard import typechecked\\nfrom pathlib import Path, PosixPath\\nfrom abc import ABC, abstractmethod\\nfrom rich import print as rich_print\\nfrom numerapi import NumerAPI, SignalsAPI\\nfrom dateutil.relativedelta import relativedelta, FR\\n\\nfrom google.cloud import storage\";\n",
       "                var nbb_cells = Jupyter.notebook.get_cells();\n",
       "                for (var i = 0; i < nbb_cells.length; ++i) {\n",
       "                    if (nbb_cells[i].input_prompt_number == nbb_cell_id) {\n",
       "                        if (nbb_cells[i].get_text() == nbb_unformatted_code) {\n",
       "                             nbb_cells[i].set_text(nbb_formatted_code);\n",
       "                        }\n",
       "                        break;\n",
       "                    }\n",
       "                }\n",
       "            }, 500);\n",
       "            "
      ],
      "text/plain": [
       "<IPython.core.display.Javascript object>"
      ]
     },
     "metadata": {},
     "output_type": "display_data"
    }
   ],
   "source": [
    "# export\n",
    "import os\n",
    "import glob\n",
    "import json\n",
    "import shutil\n",
    "from rich.tree import Tree\n",
    "from datetime import datetime\n",
    "from rich.console import Console\n",
    "from typeguard import typechecked\n",
    "from pathlib import Path, PosixPath\n",
    "from abc import ABC, abstractmethod\n",
    "from rich import print as rich_print\n",
    "from numerapi import NumerAPI, SignalsAPI\n",
    "from dateutil.relativedelta import relativedelta, FR\n",
    "\n",
    "from google.cloud import storage"
   ]
  },
  {
   "cell_type": "markdown",
   "metadata": {},
   "source": []
  },
  {
   "cell_type": "markdown",
   "metadata": {},
   "source": [
    "## 0. BaseIO"
   ]
  },
  {
   "cell_type": "markdown",
   "metadata": {},
   "source": [
    "There are common methods needed for `Downloaders` and `Submittors`. `BaseIO` implements this functionality and allows us to make abstract base classes. Namely, `BaseDownloader` and `BaseSubmittor`."
   ]
  },
  {
   "cell_type": "code",
   "execution_count": null,
   "metadata": {},
   "outputs": [
    {
     "data": {
      "application/javascript": [
       "\n",
       "            setTimeout(function() {\n",
       "                var nbb_cell_id = 5;\n",
       "                var nbb_unformatted_code = \"#export\\n@typechecked\\nclass BaseIO(ABC):\\n    \\\"\\\"\\\"\\n    Basic functionality for IO like downloading and uploading.\\n    :param directory_path: Base folder for IO. Will be created if it does not exist.\\n    \\\"\\\"\\\"\\n    def __init__(self, directory_path: str):\\n        self.dir = Path(directory_path)\\n        self._create_directory()\\n\\n    def remove_base_directory(self):\\n        \\\"\\\"\\\" Remove directory with all contents. \\\"\\\"\\\"\\n        abs_path = self.dir.resolve()\\n        rich_print(f\\\":warning: [red]Deleting directory for '{self.__class__.__name__}[/red]' :warning:\\\\nPath: '{abs_path}'\\\")\\n        shutil.rmtree(abs_path)\\n\\n    def download_file_from_gcs(self, bucket_name: str, local_path: str):\\n        blob_path = str(self.dir.resolve())\\n        blob = self._get_gcs_blob(bucket_name=bucket_name, blob_path=blob_path)\\n        blob.download_to_filename(local_path)\\n        rich_print(f\\\":cloud: :page_facing_up: Downloaded GCS object '{blob_path}' from bucket '{blob.bucket.id}' to local file '{local_path}'. :page_facing_up: :cloud:\\\")\\n\\n    def upload_file_to_gcs(self, bucket_name: str, gcs_path: str, local_path: str):\\n        blob = self._get_gcs_blob(bucket_name=bucket_name, blob_path=gcs_path)\\n        blob.upload_from_filename(local_path)\\n        rich_print(f\\\":cloud: :page_facing_up: Local file '{local_path}' uploaded to '{gcs_path}' in bucket {blob.bucket.id}:page_facing_up: :cloud:\\\")\\n\\n    def download_directory_from_gcs(self, bucket_name: str, gcs_path: str):\\n        blob_path = str(self.dir.resolve())\\n        blob = self._get_gcs_blob(bucket_name=bucket_name, blob_path=blob_path)\\n        for gcs_file in glob.glob(gcs_path + '/**', recursive=True):\\n            if os.path.isfile(gcs_file):\\n                blob.download_to_filename(blob_path)\\n        rich_print(f\\\":cloud: :folder: Directory '{gcs_path}' from bucket '{blob.bucket.id}' downloaded to '{blob_path}' :folder: :cloud:\\\")\\n\\n    def upload_directory_to_gcs(self, bucket_name: str, gcs_path: str):\\n        blob = self._get_gcs_blob(bucket_name=bucket_name, blob_path=gcs_path)\\n        for local_path in glob.glob(str(self.dir) + '/**', recursive=True):\\n            if os.path.isfile(local_path):\\n                blob.upload_from_filename(local_path)\\n        rich_print(f\\\":cloud: :folder: Directory '{self.dir}' uploaded to '{gcs_path}' in bucket {blob.bucket.id} :folder: :cloud:\\\")\\n\\n    def _get_gcs_blob(self, bucket_name: str, blob_path: str) -> storage.Blob:\\n        \\\"\\\"\\\" Create blob that interacts with Google Cloud Storage (GCS) \\\"\\\"\\\"\\n        client = storage.Client()\\n        # https://console.cloud.google.com/storage/browser/[bucket-id]/\\n        bucket = client.get_bucket(bucket_name)\\n        blob = bucket.blob(blob_path)\\n        return blob\\n\\n    def _append_folder(self, folder: str) -> Path:\\n        \\\"\\\"\\\"\\n        Return base directory Path appended with 'folder'.\\n        Create directory if it does not exist.\\n        \\\"\\\"\\\"\\n        dir = Path(self.dir / folder)\\n        dir.mkdir(parents=True, exist_ok=True)\\n        return dir\\n\\n    def _create_directory(self):\\n        \\\"\\\"\\\" Create base directory if it does not exist. \\\"\\\"\\\"\\n        if not self.dir.is_dir():\\n            rich_print(f\\\"No existing directory found at '[blue]{self.dir}[/blue]'. Creating directory...\\\")\\n            self.dir.mkdir(parents=True, exist_ok=True)\\n\\n    @property\\n    def get_all_files(self) -> list:\\n        \\\"\\\"\\\" Return all contents in directory. \\\"\\\"\\\"\\n        return list(self.dir.iterdir())\\n\\n    @property\\n    def is_empty(self) -> bool:\\n        \\\"\\\"\\\" Check if directory is empty.\\\"\\\"\\\"\\n        return not bool(self.get_all_files)\";\n",
       "                var nbb_formatted_code = \"# export\\n@typechecked\\nclass BaseIO(ABC):\\n    \\\"\\\"\\\"\\n    Basic functionality for IO like downloading and uploading.\\n    :param directory_path: Base folder for IO. Will be created if it does not exist.\\n    \\\"\\\"\\\"\\n\\n    def __init__(self, directory_path: str):\\n        self.dir = Path(directory_path)\\n        self._create_directory()\\n\\n    def remove_base_directory(self):\\n        \\\"\\\"\\\"Remove directory with all contents.\\\"\\\"\\\"\\n        abs_path = self.dir.resolve()\\n        rich_print(\\n            f\\\":warning: [red]Deleting directory for '{self.__class__.__name__}[/red]' :warning:\\\\nPath: '{abs_path}'\\\"\\n        )\\n        shutil.rmtree(abs_path)\\n\\n    def download_file_from_gcs(self, bucket_name: str, local_path: str):\\n        blob_path = str(self.dir.resolve())\\n        blob = self._get_gcs_blob(bucket_name=bucket_name, blob_path=blob_path)\\n        blob.download_to_filename(local_path)\\n        rich_print(\\n            f\\\":cloud: :page_facing_up: Downloaded GCS object '{blob_path}' from bucket '{blob.bucket.id}' to local file '{local_path}'. :page_facing_up: :cloud:\\\"\\n        )\\n\\n    def upload_file_to_gcs(self, bucket_name: str, gcs_path: str, local_path: str):\\n        blob = self._get_gcs_blob(bucket_name=bucket_name, blob_path=gcs_path)\\n        blob.upload_from_filename(local_path)\\n        rich_print(\\n            f\\\":cloud: :page_facing_up: Local file '{local_path}' uploaded to '{gcs_path}' in bucket {blob.bucket.id}:page_facing_up: :cloud:\\\"\\n        )\\n\\n    def download_directory_from_gcs(self, bucket_name: str, gcs_path: str):\\n        blob_path = str(self.dir.resolve())\\n        blob = self._get_gcs_blob(bucket_name=bucket_name, blob_path=blob_path)\\n        for gcs_file in glob.glob(gcs_path + \\\"/**\\\", recursive=True):\\n            if os.path.isfile(gcs_file):\\n                blob.download_to_filename(blob_path)\\n        rich_print(\\n            f\\\":cloud: :folder: Directory '{gcs_path}' from bucket '{blob.bucket.id}' downloaded to '{blob_path}' :folder: :cloud:\\\"\\n        )\\n\\n    def upload_directory_to_gcs(self, bucket_name: str, gcs_path: str):\\n        blob = self._get_gcs_blob(bucket_name=bucket_name, blob_path=gcs_path)\\n        for local_path in glob.glob(str(self.dir) + \\\"/**\\\", recursive=True):\\n            if os.path.isfile(local_path):\\n                blob.upload_from_filename(local_path)\\n        rich_print(\\n            f\\\":cloud: :folder: Directory '{self.dir}' uploaded to '{gcs_path}' in bucket {blob.bucket.id} :folder: :cloud:\\\"\\n        )\\n\\n    def _get_gcs_blob(self, bucket_name: str, blob_path: str) -> storage.Blob:\\n        \\\"\\\"\\\"Create blob that interacts with Google Cloud Storage (GCS)\\\"\\\"\\\"\\n        client = storage.Client()\\n        # https://console.cloud.google.com/storage/browser/[bucket-id]/\\n        bucket = client.get_bucket(bucket_name)\\n        blob = bucket.blob(blob_path)\\n        return blob\\n\\n    def _append_folder(self, folder: str) -> Path:\\n        \\\"\\\"\\\"\\n        Return base directory Path appended with 'folder'.\\n        Create directory if it does not exist.\\n        \\\"\\\"\\\"\\n        dir = Path(self.dir / folder)\\n        dir.mkdir(parents=True, exist_ok=True)\\n        return dir\\n\\n    def _create_directory(self):\\n        \\\"\\\"\\\"Create base directory if it does not exist.\\\"\\\"\\\"\\n        if not self.dir.is_dir():\\n            rich_print(\\n                f\\\"No existing directory found at '[blue]{self.dir}[/blue]'. Creating directory...\\\"\\n            )\\n            self.dir.mkdir(parents=True, exist_ok=True)\\n\\n    @property\\n    def get_all_files(self) -> list:\\n        \\\"\\\"\\\"Return all contents in directory.\\\"\\\"\\\"\\n        return list(self.dir.iterdir())\\n\\n    @property\\n    def is_empty(self) -> bool:\\n        \\\"\\\"\\\"Check if directory is empty.\\\"\\\"\\\"\\n        return not bool(self.get_all_files)\";\n",
       "                var nbb_cells = Jupyter.notebook.get_cells();\n",
       "                for (var i = 0; i < nbb_cells.length; ++i) {\n",
       "                    if (nbb_cells[i].input_prompt_number == nbb_cell_id) {\n",
       "                        if (nbb_cells[i].get_text() == nbb_unformatted_code) {\n",
       "                             nbb_cells[i].set_text(nbb_formatted_code);\n",
       "                        }\n",
       "                        break;\n",
       "                    }\n",
       "                }\n",
       "            }, 500);\n",
       "            "
      ],
      "text/plain": [
       "<IPython.core.display.Javascript object>"
      ]
     },
     "metadata": {},
     "output_type": "display_data"
    }
   ],
   "source": [
    "# export\n",
    "@typechecked\n",
    "class BaseIO(ABC):\n",
    "    \"\"\"\n",
    "    Basic functionality for IO like downloading and uploading.\n",
    "    :param directory_path: Base folder for IO. Will be created if it does not exist.\n",
    "    \"\"\"\n",
    "\n",
    "    def __init__(self, directory_path: str):\n",
    "        self.dir = Path(directory_path)\n",
    "        self._create_directory()\n",
    "\n",
    "    def remove_base_directory(self):\n",
    "        \"\"\"Remove directory with all contents.\"\"\"\n",
    "        abs_path = self.dir.resolve()\n",
    "        rich_print(\n",
    "            f\":warning: [red]Deleting directory for '{self.__class__.__name__}[/red]' :warning:\\nPath: '{abs_path}'\"\n",
    "        )\n",
    "        shutil.rmtree(abs_path)\n",
    "\n",
    "    def download_file_from_gcs(self, bucket_name: str, gcs_path: str):\n",
    "        \"\"\"\n",
    "        Get file from GCS bucket and download to local directory.\n",
    "        :param gcs_path: Path to file on GCS bucket.\n",
    "        \"\"\"\n",
    "        blob_path = str(self.dir.resolve())\n",
    "        blob = self._get_gcs_blob(bucket_name=bucket_name, blob_path=blob_path)\n",
    "        blob.download_to_filename(gcs_path)\n",
    "        rich_print(\n",
    "            f\":cloud: :page_facing_up: Downloaded GCS object '{gcs_path}' from bucket '{blob.bucket.id}' to local directory '{blob_path}'. :page_facing_up: :cloud:\"\n",
    "        )\n",
    "\n",
    "    def upload_file_to_gcs(self, bucket_name: str, gcs_path: str, local_path: str):\n",
    "        \"\"\"\n",
    "        Upload file to some GCS bucket.\n",
    "        :param gcs_path: Path to file on GCS bucket.\n",
    "        \"\"\"\n",
    "        blob = self._get_gcs_blob(bucket_name=bucket_name, blob_path=gcs_path)\n",
    "        blob.upload_from_filename(local_path)\n",
    "        rich_print(\n",
    "            f\":cloud: :page_facing_up: Local file '{local_path}' uploaded to '{gcs_path}' in bucket {blob.bucket.id}:page_facing_up: :cloud:\"\n",
    "        )\n",
    "\n",
    "    def download_directory_from_gcs(self, bucket_name: str, gcs_path: str):\n",
    "        \"\"\"\n",
    "        Copy full directory from GCS bucket to local environment.\n",
    "        :param gcs_path: Name of directory on GCS bucket.\n",
    "        \"\"\"\n",
    "        blob_path = str(self.dir.resolve())\n",
    "        blob = self._get_gcs_blob(bucket_name=bucket_name, blob_path=blob_path)\n",
    "        for gcs_file in glob.glob(gcs_path + \"/**\", recursive=True):\n",
    "            if os.path.isfile(gcs_file):\n",
    "                blob.download_to_filename(blob_path)\n",
    "        rich_print(\n",
    "            f\":cloud: :folder: Directory '{gcs_path}' from bucket '{blob.bucket.id}' downloaded to '{blob_path}' :folder: :cloud:\"\n",
    "        )\n",
    "\n",
    "    def upload_directory_to_gcs(self, bucket_name: str, gcs_path: str):\n",
    "        \"\"\"\n",
    "        Upload full base directory to GCS bucket.\n",
    "        :param gcs_path: Name of directory on GCS bucket.\n",
    "        \"\"\"\n",
    "        blob = self._get_gcs_blob(bucket_name=bucket_name, blob_path=gcs_path)\n",
    "        for local_path in glob.glob(str(self.dir) + \"/**\", recursive=True):\n",
    "            if os.path.isfile(local_path):\n",
    "                blob.upload_from_filename(local_path)\n",
    "        rich_print(\n",
    "            f\":cloud: :folder: Directory '{self.dir}' uploaded to '{gcs_path}' in bucket {blob.bucket.id} :folder: :cloud:\"\n",
    "        )\n",
    "\n",
    "    def _get_gcs_blob(self, bucket_name: str, blob_path: str) -> storage.Blob:\n",
    "        \"\"\"Create blob that interacts with Google Cloud Storage (GCS)\"\"\"\n",
    "        client = storage.Client()\n",
    "        # https://console.cloud.google.com/storage/browser/[bucket_name]\n",
    "        bucket = client.get_bucket(bucket_name)\n",
    "        blob = bucket.blob(blob_path)\n",
    "        return blob\n",
    "\n",
    "    def _append_folder(self, folder: str) -> Path:\n",
    "        \"\"\"\n",
    "        Return base directory Path appended with 'folder'.\n",
    "        Create directory if it does not exist.\n",
    "        \"\"\"\n",
    "        dir = Path(self.dir / folder)\n",
    "        dir.mkdir(parents=True, exist_ok=True)\n",
    "        return dir\n",
    "\n",
    "    def _create_directory(self):\n",
    "        \"\"\"Create base directory if it does not exist.\"\"\"\n",
    "        if not self.dir.is_dir():\n",
    "            rich_print(\n",
    "                f\"No existing directory found at '[blue]{self.dir}[/blue]'. Creating directory...\"\n",
    "            )\n",
    "            self.dir.mkdir(parents=True, exist_ok=True)\n",
    "\n",
    "    @property\n",
    "    def get_all_files(self) -> list:\n",
    "        \"\"\"Return all contents in directory.\"\"\"\n",
    "        return list(self.dir.iterdir())\n",
    "\n",
    "    @property\n",
    "    def is_empty(self) -> bool:\n",
    "        \"\"\"Check if directory is empty.\"\"\"\n",
    "        return not bool(self.get_all_files)"
   ]
  },
  {
   "cell_type": "markdown",
   "metadata": {},
   "source": [
    "## 1. BaseDownloader\n",
    "\n",
    "`BaseDownloader` is an object which implements logic common to all downloaders.\n",
    "\n",
    "To implement a new Downloader, you should inherit from `BaseDownloader` and be sure to implement at least methods `download_training_data` and `download_inference_data`."
   ]
  },
  {
   "cell_type": "code",
   "execution_count": null,
   "metadata": {},
   "outputs": [
    {
     "data": {
      "application/javascript": [
       "\n",
       "            setTimeout(function() {\n",
       "                var nbb_cell_id = 6;\n",
       "                var nbb_unformatted_code = \"#export\\n@typechecked\\nclass BaseDownloader(BaseIO):\\n    \\\"\\\"\\\"\\n    Abstract base class for downloaders.\\n    :param directory_path: Base folder to download files to.\\n    \\\"\\\"\\\"\\n    def __init__(self, directory_path: str):\\n        super(BaseDownloader, self).__init__(directory_path=directory_path)\\n\\n    @abstractmethod\\n    def download_training_data(self, *args, **kwargs):\\n        \\\"\\\"\\\" Download all necessary files needed for training. \\\"\\\"\\\"\\n        ...\\n\\n    @abstractmethod\\n    def download_inference_data(self, *args, **kwargs):\\n        \\\"\\\"\\\" Download minimal amount of files needed for weekly inference. \\\"\\\"\\\"\\n        ...\\n\\n    @staticmethod\\n    def _load_json(file_path: str, verbose = False, *args, **kwargs) -> dict:\\n        \\\"\\\"\\\" Load JSON from file and return as dictionary. \\\"\\\"\\\"\\n        with open(file_path) as json_file:\\n            json_data = json.load(json_file, *args, **kwargs)\\n        if verbose:\\n            rich_print(json_data)\\n        return json_data\\n\\n    def __call__(self, *args, **kwargs):\\n        \\\"\\\"\\\"\\n        The most common use case will be to get weekly inference data. So calling the class itself returns inference data.\\n        \\\"\\\"\\\"\\n        self.download_inference_data(*args, **kwargs)\";\n",
       "                var nbb_formatted_code = \"# export\\n@typechecked\\nclass BaseDownloader(BaseIO):\\n    \\\"\\\"\\\"\\n    Abstract base class for downloaders.\\n    :param directory_path: Base folder to download files to.\\n    \\\"\\\"\\\"\\n\\n    def __init__(self, directory_path: str):\\n        super(BaseDownloader, self).__init__(directory_path=directory_path)\\n\\n    @abstractmethod\\n    def download_training_data(self, *args, **kwargs):\\n        \\\"\\\"\\\"Download all necessary files needed for training.\\\"\\\"\\\"\\n        ...\\n\\n    @abstractmethod\\n    def download_inference_data(self, *args, **kwargs):\\n        \\\"\\\"\\\"Download minimal amount of files needed for weekly inference.\\\"\\\"\\\"\\n        ...\\n\\n    @staticmethod\\n    def _load_json(file_path: str, verbose=False, *args, **kwargs) -> dict:\\n        \\\"\\\"\\\"Load JSON from file and return as dictionary.\\\"\\\"\\\"\\n        with open(file_path) as json_file:\\n            json_data = json.load(json_file, *args, **kwargs)\\n        if verbose:\\n            rich_print(json_data)\\n        return json_data\\n\\n    def __call__(self, *args, **kwargs):\\n        \\\"\\\"\\\"\\n        The most common use case will be to get weekly inference data. So calling the class itself returns inference data.\\n        \\\"\\\"\\\"\\n        self.download_inference_data(*args, **kwargs)\";\n",
       "                var nbb_cells = Jupyter.notebook.get_cells();\n",
       "                for (var i = 0; i < nbb_cells.length; ++i) {\n",
       "                    if (nbb_cells[i].input_prompt_number == nbb_cell_id) {\n",
       "                        if (nbb_cells[i].get_text() == nbb_unformatted_code) {\n",
       "                             nbb_cells[i].set_text(nbb_formatted_code);\n",
       "                        }\n",
       "                        break;\n",
       "                    }\n",
       "                }\n",
       "            }, 500);\n",
       "            "
      ],
      "text/plain": [
       "<IPython.core.display.Javascript object>"
      ]
     },
     "metadata": {},
     "output_type": "display_data"
    }
   ],
   "source": [
    "# export\n",
    "@typechecked\n",
    "class BaseDownloader(BaseIO):\n",
    "    \"\"\"\n",
    "    Abstract base class for downloaders.\n",
    "    :param directory_path: Base folder to download files to.\n",
    "    \"\"\"\n",
    "\n",
    "    def __init__(self, directory_path: str):\n",
    "        super(BaseDownloader, self).__init__(directory_path=directory_path)\n",
    "\n",
    "    @abstractmethod\n",
    "    def download_training_data(self, *args, **kwargs):\n",
    "        \"\"\"Download all necessary files needed for training.\"\"\"\n",
    "        ...\n",
    "\n",
    "    @abstractmethod\n",
    "    def download_inference_data(self, *args, **kwargs):\n",
    "        \"\"\"Download minimal amount of files needed for weekly inference.\"\"\"\n",
    "        ...\n",
    "\n",
    "    @staticmethod\n",
    "    def _load_json(file_path: str, verbose=False, *args, **kwargs) -> dict:\n",
    "        \"\"\"Load JSON from file and return as dictionary.\"\"\"\n",
    "        with open(file_path) as json_file:\n",
    "            json_data = json.load(json_file, *args, **kwargs)\n",
    "        if verbose:\n",
    "            rich_print(json_data)\n",
    "        return json_data\n",
    "\n",
    "    def __call__(self, *args, **kwargs):\n",
    "        \"\"\"\n",
    "        The most common use case will be to get weekly inference data. So calling the class itself returns inference data.\n",
    "        \"\"\"\n",
    "        self.download_inference_data(*args, **kwargs)"
   ]
  },
  {
   "cell_type": "markdown",
   "metadata": {},
   "source": [
    "## 2. Numerai Classic"
   ]
  },
  {
   "cell_type": "markdown",
   "metadata": {},
   "source": [
    "# TODO: Fix version 1 downloading (Now downloads version 2 in csv format"
   ]
  },
  {
   "cell_type": "code",
   "execution_count": null,
   "metadata": {},
   "outputs": [
    {
     "data": {
      "application/javascript": [
       "\n",
       "            setTimeout(function() {\n",
       "                var nbb_cell_id = 7;\n",
       "                var nbb_unformatted_code = \"#export\\nclass NumeraiClassicDownloader(BaseDownloader):\\n    \\\"\\\"\\\"\\n    Downloading from NumerAPI for Numerai Classic data\\n\\n    :param directory_path: Base folder to download files to.\\n    All *args, **kwargs will be passed to NumerAPI initialization.\\n    \\\"\\\"\\\"\\n    def __init__(self, directory_path: str, *args, **kwargs):\\n        super(NumeraiClassicDownloader, self).__init__(directory_path=directory_path)\\n        self.napi = NumerAPI(*args, **kwargs)\\n        self.current_round = self.napi.get_current_round()\\n        # NumerAPI filenames corresponding to version, class and data type\\n        self.version_mapping = {1: {\\\"train\\\":\\n                                        {\\\"int8\\\": ['numerai_training_data_int8.csv', 'numerai_validation_data_int8.csv'],\\n                                         \\\"float\\\": ['numerai_training_data.csv', 'numerai_validation_data.csv']},\\n                                    \\\"inference\\\": {\\\"int8\\\": ['numerai_tournament_data_int8.csv'],\\n                                                  \\\"float\\\": ['numerai_tournament_data.csv']},\\n                                    \\\"example\\\": ['example_predictions.csv', 'example_validation_predictions.csv']},\\n                                2: {\\\"train\\\":\\n                                        {\\\"int8\\\": ['numerai_training_data_int8.parquet', 'numerai_validation_data_int8.parquet'],\\n                                         \\\"float\\\": ['numerai_training_data.parquet', 'numerai_validation_data.parquet']},\\n                                    \\\"inference\\\": {\\\"int8\\\": ['numerai_tournament_data_int8.parquet'],\\n                                                  \\\"float\\\": ['numerai_tournament_data.parquet']},\\n                                    \\\"example\\\": ['example_predictions.parquet', 'example_validation_predictions.parquet']}\\n                                }\\n\\n    def download_training_data(self, subfolder: str = \\\"\\\", version: int = 2, int8: bool = False):\\n        \\\"\\\"\\\"\\n        Get Numerai classic training and validation data.\\n        :param subfolder: Specify folder to create folder within directory root. Saves in directory root by default.\\n        :param version: Numerai version (1=classic, 2=super massive dataset (parquet)\\n        :param int8: Integer version of data\\n        \\\"\\\"\\\"\\n        dir = self._append_folder(subfolder)\\n        data_type = \\\"int8\\\" if int8 else \\\"float\\\"\\n        train_val_files = self._get_version_mapping(version)['train'][data_type]\\n        for file in train_val_files:\\n            self.download_single_dataset(filename=file,\\n                                         dest_path=str(dir.joinpath(file)))\\n\\n\\n    def download_inference_data(self, subfolder: str = \\\"\\\", version: int = 2, int8: bool = False, round_num: int = None):\\n        \\\"\\\"\\\"\\n        Get Numerai classic inference data.\\n        :param subfolder: Specify folder to create folder within directory root. Saves in directory root by default.\\n        :param version: Numerai version (1=classic, 2=super massive dataset (parquet)\\n        :param int8: Integer version of data\\n        :param round_num: Numerai tournament round number. Downloads latest round by default.\\n        \\\"\\\"\\\"\\n        dir = self._append_folder(subfolder)\\n        data_type = \\\"int8\\\" if int8 else \\\"float\\\"\\n        inference_files = self._get_version_mapping(version)['inference'][data_type]\\n        rich_print(f\\\":file_folder: [green]Downloading inference data for round[/green] '{round_num if round_num else self.current_round}'.\\\")\\n        for file in inference_files:\\n            self.download_single_dataset(filename=file,\\n                                         dest_path=str(dir.joinpath(file)),\\n                                         round_num=round_num)\\n\\n    def download_single_dataset(self, filename: str, dest_path: str, round_num: int = None):\\n        \\\"\\\"\\\"\\n        Download one of the available datasets through NumerAPI.\\n\\n        :param filename: Name as listed in NumerAPI (Check NumerAPI().list_datasets())\\n        :param dest_path: Full path where file will be saved.\\n        :param round_num: Numerai tournament round number. Downloads latest round by default.\\n        \\\"\\\"\\\"\\n        assert filename in self.napi.list_datasets(), f\\\"Dataset '{filename}' not available in NumerAPI. Available datasets are {self.napi.list_datasets()}.\\\"\\n        rich_print(f\\\":file_folder: [green]Downloading[/green] '{filename}' :file_folder:\\\")\\n        self.napi.download_dataset(filename=filename,\\n                                   dest_path=dest_path,\\n                                   round_num=round_num)\\n\\n\\n    def download_example_data(self, subfolder: str = \\\"\\\", version: int = 2, round_num: int = None):\\n        \\\"\\\"\\\"\\n        Download all example prediction data in specified folder for given version.\\n\\n        :param subfolder: Specify folder to create folder within directory root. Saves in directory root by default.\\n        :param version: Numerai version (1=classic, 2=super massive dataset (parquet)\\n        :param round_num: Numerai tournament round number. Downloads latest round by default.\\n        \\\"\\\"\\\"\\n        dir = self._append_folder(subfolder)\\n        example_files = self._get_version_mapping(version)['example']\\n        for file in example_files:\\n            self.download_single_dataset(filename=file,\\n                                         dest_path=str(dir.joinpath(file)),\\n                                         round_num=round_num)\\n\\n    def get_classic_features(self, subfolder: str = \\\"\\\", *args, **kwargs) -> dict:\\n        \\\"\\\"\\\"\\n        Download feature overview (stats and feature sets) through NumerAPI and load.\\n        :param subfolder: Specify folder to create folder within directory root. Saves in directory root by default.\\n        *args, **kwargs will be passed to the JSON loader.\\n        \\\"\\\"\\\"\\n        dir = self._append_folder(subfolder)\\n        filename = \\\"features.json\\\"\\n        dest_path = str(dir.joinpath(filename))\\n        self.download_single_dataset(filename=filename,\\n                                     dest_path=dest_path)\\n        json_data = self._load_json(dest_path, *args, **kwargs)\\n        return json_data\\n\\n    def _get_version_mapping(self, version: int) -> dict:\\n        \\\"\\\"\\\" Check if version is supported and return file mapping for version. \\\"\\\"\\\"\\n        try:\\n            mapping_dictionary = self.version_mapping[version]\\n        except KeyError:\\n            raise NotImplementedError(f\\\"Version '{version}' is not implemented. Available versions are {list(self.version_mapping.keys())}\\\")\\n        return mapping_dictionary\";\n",
       "                var nbb_formatted_code = \"# export\\nclass NumeraiClassicDownloader(BaseDownloader):\\n    \\\"\\\"\\\"\\n    Downloading from NumerAPI for Numerai Classic data\\n\\n    :param directory_path: Base folder to download files to.\\n    All *args, **kwargs will be passed to NumerAPI initialization.\\n    \\\"\\\"\\\"\\n\\n    def __init__(self, directory_path: str, *args, **kwargs):\\n        super(NumeraiClassicDownloader, self).__init__(directory_path=directory_path)\\n        self.napi = NumerAPI(*args, **kwargs)\\n        self.current_round = self.napi.get_current_round()\\n        # NumerAPI filenames corresponding to version, class and data type\\n        self.version_mapping = {\\n            1: {\\n                \\\"train\\\": {\\n                    \\\"int8\\\": [\\n                        \\\"numerai_training_data_int8.csv\\\",\\n                        \\\"numerai_validation_data_int8.csv\\\",\\n                    ],\\n                    \\\"float\\\": [\\n                        \\\"numerai_training_data.csv\\\",\\n                        \\\"numerai_validation_data.csv\\\",\\n                    ],\\n                },\\n                \\\"inference\\\": {\\n                    \\\"int8\\\": [\\\"numerai_tournament_data_int8.csv\\\"],\\n                    \\\"float\\\": [\\\"numerai_tournament_data.csv\\\"],\\n                },\\n                \\\"example\\\": [\\n                    \\\"example_predictions.csv\\\",\\n                    \\\"example_validation_predictions.csv\\\",\\n                ],\\n            },\\n            2: {\\n                \\\"train\\\": {\\n                    \\\"int8\\\": [\\n                        \\\"numerai_training_data_int8.parquet\\\",\\n                        \\\"numerai_validation_data_int8.parquet\\\",\\n                    ],\\n                    \\\"float\\\": [\\n                        \\\"numerai_training_data.parquet\\\",\\n                        \\\"numerai_validation_data.parquet\\\",\\n                    ],\\n                },\\n                \\\"inference\\\": {\\n                    \\\"int8\\\": [\\\"numerai_tournament_data_int8.parquet\\\"],\\n                    \\\"float\\\": [\\\"numerai_tournament_data.parquet\\\"],\\n                },\\n                \\\"example\\\": [\\n                    \\\"example_predictions.parquet\\\",\\n                    \\\"example_validation_predictions.parquet\\\",\\n                ],\\n            },\\n        }\\n\\n    def download_training_data(\\n        self, subfolder: str = \\\"\\\", version: int = 2, int8: bool = False\\n    ):\\n        \\\"\\\"\\\"\\n        Get Numerai classic training and validation data.\\n        :param subfolder: Specify folder to create folder within directory root. Saves in directory root by default.\\n        :param version: Numerai version (1=classic, 2=super massive dataset (parquet)\\n        :param int8: Integer version of data\\n        \\\"\\\"\\\"\\n        dir = self._append_folder(subfolder)\\n        data_type = \\\"int8\\\" if int8 else \\\"float\\\"\\n        train_val_files = self._get_version_mapping(version)[\\\"train\\\"][data_type]\\n        for file in train_val_files:\\n            self.download_single_dataset(\\n                filename=file, dest_path=str(dir.joinpath(file))\\n            )\\n\\n    def download_inference_data(\\n        self,\\n        subfolder: str = \\\"\\\",\\n        version: int = 2,\\n        int8: bool = False,\\n        round_num: int = None,\\n    ):\\n        \\\"\\\"\\\"\\n        Get Numerai classic inference data.\\n        :param subfolder: Specify folder to create folder within directory root. Saves in directory root by default.\\n        :param version: Numerai version (1=classic, 2=super massive dataset (parquet)\\n        :param int8: Integer version of data\\n        :param round_num: Numerai tournament round number. Downloads latest round by default.\\n        \\\"\\\"\\\"\\n        dir = self._append_folder(subfolder)\\n        data_type = \\\"int8\\\" if int8 else \\\"float\\\"\\n        inference_files = self._get_version_mapping(version)[\\\"inference\\\"][data_type]\\n        rich_print(\\n            f\\\":file_folder: [green]Downloading inference data for round[/green] '{round_num if round_num else self.current_round}'.\\\"\\n        )\\n        for file in inference_files:\\n            self.download_single_dataset(\\n                filename=file, dest_path=str(dir.joinpath(file)), round_num=round_num\\n            )\\n\\n    def download_single_dataset(\\n        self, filename: str, dest_path: str, round_num: int = None\\n    ):\\n        \\\"\\\"\\\"\\n        Download one of the available datasets through NumerAPI.\\n\\n        :param filename: Name as listed in NumerAPI (Check NumerAPI().list_datasets())\\n        :param dest_path: Full path where file will be saved.\\n        :param round_num: Numerai tournament round number. Downloads latest round by default.\\n        \\\"\\\"\\\"\\n        assert (\\n            filename in self.napi.list_datasets()\\n        ), f\\\"Dataset '{filename}' not available in NumerAPI. Available datasets are {self.napi.list_datasets()}.\\\"\\n        rich_print(\\n            f\\\":file_folder: [green]Downloading[/green] '{filename}' :file_folder:\\\"\\n        )\\n        self.napi.download_dataset(\\n            filename=filename, dest_path=dest_path, round_num=round_num\\n        )\\n\\n    def download_example_data(\\n        self, subfolder: str = \\\"\\\", version: int = 2, round_num: int = None\\n    ):\\n        \\\"\\\"\\\"\\n        Download all example prediction data in specified folder for given version.\\n\\n        :param subfolder: Specify folder to create folder within directory root. Saves in directory root by default.\\n        :param version: Numerai version (1=classic, 2=super massive dataset (parquet)\\n        :param round_num: Numerai tournament round number. Downloads latest round by default.\\n        \\\"\\\"\\\"\\n        dir = self._append_folder(subfolder)\\n        example_files = self._get_version_mapping(version)[\\\"example\\\"]\\n        for file in example_files:\\n            self.download_single_dataset(\\n                filename=file, dest_path=str(dir.joinpath(file)), round_num=round_num\\n            )\\n\\n    def get_classic_features(self, subfolder: str = \\\"\\\", *args, **kwargs) -> dict:\\n        \\\"\\\"\\\"\\n        Download feature overview (stats and feature sets) through NumerAPI and load.\\n        :param subfolder: Specify folder to create folder within directory root. Saves in directory root by default.\\n        *args, **kwargs will be passed to the JSON loader.\\n        \\\"\\\"\\\"\\n        dir = self._append_folder(subfolder)\\n        filename = \\\"features.json\\\"\\n        dest_path = str(dir.joinpath(filename))\\n        self.download_single_dataset(filename=filename, dest_path=dest_path)\\n        json_data = self._load_json(dest_path, *args, **kwargs)\\n        return json_data\\n\\n    def _get_version_mapping(self, version: int) -> dict:\\n        \\\"\\\"\\\"Check if version is supported and return file mapping for version.\\\"\\\"\\\"\\n        try:\\n            mapping_dictionary = self.version_mapping[version]\\n        except KeyError:\\n            raise NotImplementedError(\\n                f\\\"Version '{version}' is not implemented. Available versions are {list(self.version_mapping.keys())}\\\"\\n            )\\n        return mapping_dictionary\";\n",
       "                var nbb_cells = Jupyter.notebook.get_cells();\n",
       "                for (var i = 0; i < nbb_cells.length; ++i) {\n",
       "                    if (nbb_cells[i].input_prompt_number == nbb_cell_id) {\n",
       "                        if (nbb_cells[i].get_text() == nbb_unformatted_code) {\n",
       "                             nbb_cells[i].set_text(nbb_formatted_code);\n",
       "                        }\n",
       "                        break;\n",
       "                    }\n",
       "                }\n",
       "            }, 500);\n",
       "            "
      ],
      "text/plain": [
       "<IPython.core.display.Javascript object>"
      ]
     },
     "metadata": {},
     "output_type": "display_data"
    }
   ],
   "source": [
    "# export\n",
    "class NumeraiClassicDownloader(BaseDownloader):\n",
    "    \"\"\"\n",
    "    Downloading from NumerAPI for Numerai Classic data\n",
    "\n",
    "    :param directory_path: Base folder to download files to.\n",
    "    All *args, **kwargs will be passed to NumerAPI initialization.\n",
    "    \"\"\"\n",
    "\n",
    "    def __init__(self, directory_path: str, *args, **kwargs):\n",
    "        super(NumeraiClassicDownloader, self).__init__(directory_path=directory_path)\n",
    "        self.napi = NumerAPI(*args, **kwargs)\n",
    "        self.current_round = self.napi.get_current_round()\n",
    "        # NumerAPI filenames corresponding to version, class and data type\n",
    "        self.version_mapping = {\n",
    "            1: {\n",
    "                \"train\": {\n",
    "                    \"int8\": [\n",
    "                        \"numerai_training_data_int8.csv\",\n",
    "                        \"numerai_validation_data_int8.csv\",\n",
    "                    ],\n",
    "                    \"float\": [\n",
    "                        \"numerai_training_data.csv\",\n",
    "                        \"numerai_validation_data.csv\",\n",
    "                    ],\n",
    "                },\n",
    "                \"inference\": {\n",
    "                    \"int8\": [\"numerai_tournament_data_int8.csv\"],\n",
    "                    \"float\": [\"numerai_tournament_data.csv\"],\n",
    "                },\n",
    "                \"example\": [\n",
    "                    \"example_predictions.csv\",\n",
    "                    \"example_validation_predictions.csv\",\n",
    "                ],\n",
    "            },\n",
    "            2: {\n",
    "                \"train\": {\n",
    "                    \"int8\": [\n",
    "                        \"numerai_training_data_int8.parquet\",\n",
    "                        \"numerai_validation_data_int8.parquet\",\n",
    "                    ],\n",
    "                    \"float\": [\n",
    "                        \"numerai_training_data.parquet\",\n",
    "                        \"numerai_validation_data.parquet\",\n",
    "                    ],\n",
    "                },\n",
    "                \"inference\": {\n",
    "                    \"int8\": [\"numerai_tournament_data_int8.parquet\"],\n",
    "                    \"float\": [\"numerai_tournament_data.parquet\"],\n",
    "                },\n",
    "                \"example\": [\n",
    "                    \"example_predictions.parquet\",\n",
    "                    \"example_validation_predictions.parquet\",\n",
    "                ],\n",
    "            },\n",
    "        }\n",
    "\n",
    "    def download_training_data(\n",
    "        self, subfolder: str = \"\", version: int = 2, int8: bool = False\n",
    "    ):\n",
    "        \"\"\"\n",
    "        Get Numerai classic training and validation data.\n",
    "        :param subfolder: Specify folder to create folder within directory root. Saves in directory root by default.\n",
    "        :param version: Numerai version (1=classic, 2=super massive dataset (parquet)\n",
    "        :param int8: Integer version of data\n",
    "        \"\"\"\n",
    "        dir = self._append_folder(subfolder)\n",
    "        data_type = \"int8\" if int8 else \"float\"\n",
    "        train_val_files = self._get_version_mapping(version)[\"train\"][data_type]\n",
    "        for file in train_val_files:\n",
    "            self.download_single_dataset(\n",
    "                filename=file, dest_path=str(dir.joinpath(file))\n",
    "            )\n",
    "\n",
    "    def download_inference_data(\n",
    "        self,\n",
    "        subfolder: str = \"\",\n",
    "        version: int = 2,\n",
    "        int8: bool = False,\n",
    "        round_num: int = None,\n",
    "    ):\n",
    "        \"\"\"\n",
    "        Get Numerai classic inference data.\n",
    "        :param subfolder: Specify folder to create folder within directory root. Saves in directory root by default.\n",
    "        :param version: Numerai version (1=classic, 2=super massive dataset (parquet)\n",
    "        :param int8: Integer version of data\n",
    "        :param round_num: Numerai tournament round number. Downloads latest round by default.\n",
    "        \"\"\"\n",
    "        dir = self._append_folder(subfolder)\n",
    "        data_type = \"int8\" if int8 else \"float\"\n",
    "        inference_files = self._get_version_mapping(version)[\"inference\"][data_type]\n",
    "        rich_print(\n",
    "            f\":file_folder: [green]Downloading inference data for round[/green] '{round_num if round_num else self.current_round}'.\"\n",
    "        )\n",
    "        for file in inference_files:\n",
    "            self.download_single_dataset(\n",
    "                filename=file, dest_path=str(dir.joinpath(file)), round_num=round_num\n",
    "            )\n",
    "\n",
    "    def download_single_dataset(\n",
    "        self, filename: str, dest_path: str, round_num: int = None\n",
    "    ):\n",
    "        \"\"\"\n",
    "        Download one of the available datasets through NumerAPI.\n",
    "\n",
    "        :param filename: Name as listed in NumerAPI (Check NumerAPI().list_datasets())\n",
    "        :param dest_path: Full path where file will be saved.\n",
    "        :param round_num: Numerai tournament round number. Downloads latest round by default.\n",
    "        \"\"\"\n",
    "        assert (\n",
    "            filename in self.napi.list_datasets()\n",
    "        ), f\"Dataset '{filename}' not available in NumerAPI. Available datasets are {self.napi.list_datasets()}.\"\n",
    "        rich_print(\n",
    "            f\":file_folder: [green]Downloading[/green] '{filename}' :file_folder:\"\n",
    "        )\n",
    "        self.napi.download_dataset(\n",
    "            filename=filename, dest_path=dest_path, round_num=round_num\n",
    "        )\n",
    "\n",
    "    def download_example_data(\n",
    "        self, subfolder: str = \"\", version: int = 2, round_num: int = None\n",
    "    ):\n",
    "        \"\"\"\n",
    "        Download all example prediction data in specified folder for given version.\n",
    "\n",
    "        :param subfolder: Specify folder to create folder within directory root. Saves in directory root by default.\n",
    "        :param version: Numerai version (1=classic, 2=super massive dataset (parquet)\n",
    "        :param round_num: Numerai tournament round number. Downloads latest round by default.\n",
    "        \"\"\"\n",
    "        dir = self._append_folder(subfolder)\n",
    "        example_files = self._get_version_mapping(version)[\"example\"]\n",
    "        for file in example_files:\n",
    "            self.download_single_dataset(\n",
    "                filename=file, dest_path=str(dir.joinpath(file)), round_num=round_num\n",
    "            )\n",
    "\n",
    "    def get_classic_features(self, subfolder: str = \"\", *args, **kwargs) -> dict:\n",
    "        \"\"\"\n",
    "        Download feature overview (stats and feature sets) through NumerAPI and load.\n",
    "        :param subfolder: Specify folder to create folder within directory root. Saves in directory root by default.\n",
    "        *args, **kwargs will be passed to the JSON loader.\n",
    "        \"\"\"\n",
    "        dir = self._append_folder(subfolder)\n",
    "        filename = \"features.json\"\n",
    "        dest_path = str(dir.joinpath(filename))\n",
    "        self.download_single_dataset(filename=filename, dest_path=dest_path)\n",
    "        json_data = self._load_json(dest_path, *args, **kwargs)\n",
    "        return json_data\n",
    "\n",
    "    def _get_version_mapping(self, version: int) -> dict:\n",
    "        \"\"\"Check if version is supported and return file mapping for version.\"\"\"\n",
    "        try:\n",
    "            mapping_dictionary = self.version_mapping[version]\n",
    "        except KeyError:\n",
    "            raise NotImplementedError(\n",
    "                f\"Version '{version}' is not implemented. Available versions are {list(self.version_mapping.keys())}\"\n",
    "            )\n",
    "        return mapping_dictionary"
   ]
  },
  {
   "cell_type": "markdown",
   "metadata": {},
   "source": [
    "### BaseDownloader and NumeraiClassicDownlaoder  tests"
   ]
  },
  {
   "cell_type": "code",
   "execution_count": null,
   "metadata": {},
   "outputs": [
    {
     "data": {
      "text/html": [
       "<pre style=\"white-space:pre;overflow-x:auto;line-height:normal;font-family:Menlo,'DejaVu Sans Mono',consolas,'Courier New',monospace\">No existing directory found at <span style=\"color: #008000; text-decoration-color: #008000\">'</span><span style=\"color: #000080; text-decoration-color: #000080\">test_numclassic_general</span><span style=\"color: #008000; text-decoration-color: #008000\">'</span>. Creating directory<span style=\"color: #808000; text-decoration-color: #808000\">...</span>\n",
       "</pre>\n"
      ],
      "text/plain": [
       "No existing directory found at \u001b[32m'\u001b[0m\u001b[34mtest_numclassic_general\u001b[0m\u001b[32m'\u001b[0m. Creating directory\u001b[33m...\u001b[0m\n"
      ]
     },
     "metadata": {},
     "output_type": "display_data"
    },
    {
     "data": {
      "text/html": [
       "<pre style=\"white-space:pre;overflow-x:auto;line-height:normal;font-family:Menlo,'DejaVu Sans Mono',consolas,'Courier New',monospace\">Directory contents:\n",
       "<span style=\"font-weight: bold\">[</span><span style=\"color: #800080; text-decoration-color: #800080; font-weight: bold\">Path</span><span style=\"font-weight: bold\">(</span><span style=\"color: #008000; text-decoration-color: #008000\">'test_numclassic_general/test.txt'</span><span style=\"font-weight: bold\">)]</span>\n",
       "</pre>\n"
      ],
      "text/plain": [
       "Directory contents:\n",
       "\u001b[1m[\u001b[0m\u001b[1;35mPath\u001b[0m\u001b[1m(\u001b[0m\u001b[32m'test_numclassic_general/test.txt'\u001b[0m\u001b[1m)\u001b[0m\u001b[1m]\u001b[0m\n"
      ]
     },
     "metadata": {},
     "output_type": "display_data"
    },
    {
     "data": {
      "text/html": [
       "<pre style=\"white-space:pre;overflow-x:auto;line-height:normal;font-family:Menlo,'DejaVu Sans Mono',consolas,'Courier New',monospace\">📁 <span style=\"color: #008000; text-decoration-color: #008000\">Downloading</span> <span style=\"color: #008000; text-decoration-color: #008000\">'example_predictions.csv'</span> 📁\n",
       "</pre>\n"
      ],
      "text/plain": [
       "📁 \u001b[32mDownloading\u001b[0m \u001b[32m'example_predictions.csv'\u001b[0m 📁\n"
      ]
     },
     "metadata": {},
     "output_type": "display_data"
    },
    {
     "name": "stderr",
     "output_type": "stream",
     "text": [
      "2022-01-09 22:22:31,112 INFO numerapi.utils: starting download\n",
      "test_numclassic_general/test1/example_predictions.csv: 51.2MB [01:37, 524kB/s]                             \n"
     ]
    },
    {
     "data": {
      "text/html": [
       "<pre style=\"white-space:pre;overflow-x:auto;line-height:normal;font-family:Menlo,'DejaVu Sans Mono',consolas,'Courier New',monospace\">📁 <span style=\"color: #008000; text-decoration-color: #008000\">Downloading</span> <span style=\"color: #008000; text-decoration-color: #008000\">'example_validation_predictions.csv'</span> 📁\n",
       "</pre>\n"
      ],
      "text/plain": [
       "📁 \u001b[32mDownloading\u001b[0m \u001b[32m'example_validation_predictions.csv'\u001b[0m 📁\n"
      ]
     },
     "metadata": {},
     "output_type": "display_data"
    },
    {
     "name": "stderr",
     "output_type": "stream",
     "text": [
      "2022-01-09 22:24:10,653 INFO numerapi.utils: starting download\n",
      "test_numclassic_general/test1/example_validation_predictions.csv: 19.6MB [01:36, 202kB/s]                             \n"
     ]
    },
    {
     "data": {
      "text/html": [
       "<pre style=\"white-space:pre;overflow-x:auto;line-height:normal;font-family:Menlo,'DejaVu Sans Mono',consolas,'Courier New',monospace\">📁 <span style=\"color: #008000; text-decoration-color: #008000\">Downloading</span> <span style=\"color: #008000; text-decoration-color: #008000\">'example_predictions.parquet'</span> 📁\n",
       "</pre>\n"
      ],
      "text/plain": [
       "📁 \u001b[32mDownloading\u001b[0m \u001b[32m'example_predictions.parquet'\u001b[0m 📁\n"
      ]
     },
     "metadata": {},
     "output_type": "display_data"
    },
    {
     "name": "stderr",
     "output_type": "stream",
     "text": [
      "2022-01-09 22:25:50,044 INFO numerapi.utils: starting download\n",
      "test_numclassic_general/test2/example_predictions.parquet: 33.5MB [01:24, 398kB/s]                             \n"
     ]
    },
    {
     "data": {
      "text/html": [
       "<pre style=\"white-space:pre;overflow-x:auto;line-height:normal;font-family:Menlo,'DejaVu Sans Mono',consolas,'Courier New',monospace\">📁 <span style=\"color: #008000; text-decoration-color: #008000\">Downloading</span> <span style=\"color: #008000; text-decoration-color: #008000\">'example_validation_predictions.parquet'</span> 📁\n",
       "</pre>\n"
      ],
      "text/plain": [
       "📁 \u001b[32mDownloading\u001b[0m \u001b[32m'example_validation_predictions.parquet'\u001b[0m 📁\n"
      ]
     },
     "metadata": {},
     "output_type": "display_data"
    },
    {
     "name": "stderr",
     "output_type": "stream",
     "text": [
      "2022-01-09 22:27:16,150 INFO numerapi.utils: starting download\n",
      "test_numclassic_general/test2/example_validation_predictions.parquet: 13.0MB [00:46, 280kB/s]                             \n"
     ]
    },
    {
     "data": {
      "text/html": [
       "<pre style=\"white-space:pre;overflow-x:auto;line-height:normal;font-family:Menlo,'DejaVu Sans Mono',consolas,'Courier New',monospace\">📁 <span style=\"color: #008000; text-decoration-color: #008000\">Downloading</span> <span style=\"color: #008000; text-decoration-color: #008000\">'features.json'</span> 📁\n",
       "</pre>\n"
      ],
      "text/plain": [
       "📁 \u001b[32mDownloading\u001b[0m \u001b[32m'features.json'\u001b[0m 📁\n"
      ]
     },
     "metadata": {},
     "output_type": "display_data"
    },
    {
     "name": "stderr",
     "output_type": "stream",
     "text": [
      "2022-01-09 22:28:04,428 INFO numerapi.utils: starting download\n",
      "test_numclassic_general/features.json: 441kB [00:00, 566kB/s]                             \n"
     ]
    },
    {
     "data": {
      "text/html": [
       "<pre style=\"white-space:pre;overflow-x:auto;line-height:normal;font-family:Menlo,'DejaVu Sans Mono',consolas,'Courier New',monospace\">⚠ <span style=\"color: #800000; text-decoration-color: #800000\">Deleting directory for </span><span style=\"color: #800000; text-decoration-color: #800000\">'NumeraiClassicDownloader</span><span style=\"color: #008000; text-decoration-color: #008000\">'</span> ⚠\n",
       "Path: \n",
       "<span style=\"color: #008000; text-decoration-color: #008000\">'/Users/clepelaars/Desktop/crowdcent/repositories/numerai-blocks/nbs/test_numclassic_general'</span>\n",
       "</pre>\n"
      ],
      "text/plain": [
       "⚠ \u001b[31mDeleting directory for \u001b[0m\u001b[31m'NumeraiClassicDownloader\u001b[0m\u001b[32m'\u001b[0m ⚠\n",
       "Path: \n",
       "\u001b[32m'/Users/clepelaars/Desktop/crowdcent/repositories/numerai-blocks/nbs/test_numclassic_general'\u001b[0m\n"
      ]
     },
     "metadata": {},
     "output_type": "display_data"
    },
    {
     "data": {
      "application/javascript": [
       "\n",
       "            setTimeout(function() {\n",
       "                var nbb_cell_id = 8;\n",
       "                var nbb_unformatted_code = \"#slow\\ntest_dir_classic = \\\"test_numclassic_general\\\"\\nnumer_classic_downloader = NumeraiClassicDownloader(test_dir_classic)\\n\\n# Test building class\\nassert isinstance(numer_classic_downloader.dir, PosixPath)\\nassert numer_classic_downloader.dir.is_dir()\\n\\n# Test is_empty\\n(numer_classic_downloader.dir / \\\"test.txt\\\").write_text(\\\"test\\\")\\nrich_print(f\\\"Directory contents:\\\\n{numer_classic_downloader.get_all_files}\\\")\\nassert not numer_classic_downloader.is_empty\\n\\n# Downloading example data\\nnumer_classic_downloader.download_example_data(\\\"test1/\\\", version=1)\\nnumer_classic_downloader.download_example_data(\\\"test2/\\\", version=2, round_num=290)\\n\\n# Features\\nfeature_stats_test = numer_classic_downloader.get_classic_features()\\nassert isinstance(feature_stats_test, dict)\\nassert len(feature_stats_test['feature_sets']['legacy']) == 304\\n\\n# Remove contents\\nnumer_classic_downloader.remove_base_directory()\\nassert not os.path.exists(test_dir_classic)\";\n",
       "                var nbb_formatted_code = \"# slow\\ntest_dir_classic = \\\"test_numclassic_general\\\"\\nnumer_classic_downloader = NumeraiClassicDownloader(test_dir_classic)\\n\\n# Test building class\\nassert isinstance(numer_classic_downloader.dir, PosixPath)\\nassert numer_classic_downloader.dir.is_dir()\\n\\n# Test is_empty\\n(numer_classic_downloader.dir / \\\"test.txt\\\").write_text(\\\"test\\\")\\nrich_print(f\\\"Directory contents:\\\\n{numer_classic_downloader.get_all_files}\\\")\\nassert not numer_classic_downloader.is_empty\\n\\n# Downloading example data\\nnumer_classic_downloader.download_example_data(\\\"test1/\\\", version=1)\\nnumer_classic_downloader.download_example_data(\\\"test2/\\\", version=2, round_num=290)\\n\\n# Features\\nfeature_stats_test = numer_classic_downloader.get_classic_features()\\nassert isinstance(feature_stats_test, dict)\\nassert len(feature_stats_test[\\\"feature_sets\\\"][\\\"legacy\\\"]) == 304\\n\\n# Remove contents\\nnumer_classic_downloader.remove_base_directory()\\nassert not os.path.exists(test_dir_classic)\";\n",
       "                var nbb_cells = Jupyter.notebook.get_cells();\n",
       "                for (var i = 0; i < nbb_cells.length; ++i) {\n",
       "                    if (nbb_cells[i].input_prompt_number == nbb_cell_id) {\n",
       "                        if (nbb_cells[i].get_text() == nbb_unformatted_code) {\n",
       "                             nbb_cells[i].set_text(nbb_formatted_code);\n",
       "                        }\n",
       "                        break;\n",
       "                    }\n",
       "                }\n",
       "            }, 500);\n",
       "            "
      ],
      "text/plain": [
       "<IPython.core.display.Javascript object>"
      ]
     },
     "metadata": {},
     "output_type": "display_data"
    }
   ],
   "source": [
    "# slow\n",
    "test_dir_classic = \"test_numclassic_general\"\n",
    "numer_classic_downloader = NumeraiClassicDownloader(test_dir_classic)\n",
    "\n",
    "# Test building class\n",
    "assert isinstance(numer_classic_downloader.dir, PosixPath)\n",
    "assert numer_classic_downloader.dir.is_dir()\n",
    "\n",
    "# Test is_empty\n",
    "(numer_classic_downloader.dir / \"test.txt\").write_text(\"test\")\n",
    "rich_print(f\"Directory contents:\\n{numer_classic_downloader.get_all_files}\")\n",
    "assert not numer_classic_downloader.is_empty\n",
    "\n",
    "# Downloading example data\n",
    "numer_classic_downloader.download_example_data(\"test1/\", version=1)\n",
    "numer_classic_downloader.download_example_data(\"test2/\", version=2, round_num=290)\n",
    "\n",
    "# Features\n",
    "feature_stats_test = numer_classic_downloader.get_classic_features()\n",
    "assert isinstance(feature_stats_test, dict)\n",
    "assert len(feature_stats_test[\"feature_sets\"][\"legacy\"]) == 304\n",
    "\n",
    "# Remove contents\n",
    "numer_classic_downloader.remove_base_directory()\n",
    "assert not os.path.exists(test_dir_classic)"
   ]
  },
  {
   "cell_type": "markdown",
   "metadata": {},
   "source": [
    "### Example usage"
   ]
  },
  {
   "cell_type": "markdown",
   "metadata": {},
   "source": [
    "#### Training"
   ]
  },
  {
   "cell_type": "code",
   "execution_count": null,
   "metadata": {},
   "outputs": [
    {
     "data": {
      "text/html": [
       "<pre style=\"white-space:pre;overflow-x:auto;line-height:normal;font-family:Menlo,'DejaVu Sans Mono',consolas,'Courier New',monospace\">No existing directory found at <span style=\"color: #008000; text-decoration-color: #008000\">'</span><span style=\"color: #000080; text-decoration-color: #000080\">test_numclassic_train</span><span style=\"color: #008000; text-decoration-color: #008000\">'</span>. Creating directory<span style=\"color: #808000; text-decoration-color: #808000\">...</span>\n",
       "</pre>\n"
      ],
      "text/plain": [
       "No existing directory found at \u001b[32m'\u001b[0m\u001b[34mtest_numclassic_train\u001b[0m\u001b[32m'\u001b[0m. Creating directory\u001b[33m...\u001b[0m\n"
      ]
     },
     "metadata": {},
     "output_type": "display_data"
    },
    {
     "data": {
      "text/html": [
       "<pre style=\"white-space:pre;overflow-x:auto;line-height:normal;font-family:Menlo,'DejaVu Sans Mono',consolas,'Courier New',monospace\">📁 <span style=\"color: #008000; text-decoration-color: #008000\">Downloading</span> <span style=\"color: #008000; text-decoration-color: #008000\">'features.json'</span> 📁\n",
       "</pre>\n"
      ],
      "text/plain": [
       "📁 \u001b[32mDownloading\u001b[0m \u001b[32m'features.json'\u001b[0m 📁\n"
      ]
     },
     "metadata": {},
     "output_type": "display_data"
    },
    {
     "name": "stderr",
     "output_type": "stream",
     "text": [
      "2022-01-09 22:28:07,196 INFO numerapi.utils: starting download\n",
      "test_numclassic_train/features.json: 441kB [00:01, 389kB/s]                             \n"
     ]
    },
    {
     "data": {
      "application/javascript": [
       "\n",
       "            setTimeout(function() {\n",
       "                var nbb_cell_id = 9;\n",
       "                var nbb_unformatted_code = \"#slow\\n# Initialization\\ntrain_base_directory = \\\"test_numclassic_train\\\"\\nnumer_classic_downloader = NumeraiClassicDownloader(train_base_directory)\\n\\n# Uncomment line below to download training and validation data.\\n# numer_classic_downloader.download_training_data(\\\"train_val\\\", version=2, int8=False)\\n\\n# Get feature overview\\nnumer_classic_downloader.get_classic_features();\";\n",
       "                var nbb_formatted_code = \"# slow\\n# Initialization\\ntrain_base_directory = \\\"test_numclassic_train\\\"\\nnumer_classic_downloader = NumeraiClassicDownloader(train_base_directory)\\n\\n# Uncomment line below to download training and validation data.\\n# numer_classic_downloader.download_training_data(\\\"train_val\\\", version=2, int8=False)\\n\\n# Get feature overview\\nnumer_classic_downloader.get_classic_features()\";\n",
       "                var nbb_cells = Jupyter.notebook.get_cells();\n",
       "                for (var i = 0; i < nbb_cells.length; ++i) {\n",
       "                    if (nbb_cells[i].input_prompt_number == nbb_cell_id) {\n",
       "                        if (nbb_cells[i].get_text() == nbb_unformatted_code) {\n",
       "                             nbb_cells[i].set_text(nbb_formatted_code);\n",
       "                        }\n",
       "                        break;\n",
       "                    }\n",
       "                }\n",
       "            }, 500);\n",
       "            "
      ],
      "text/plain": [
       "<IPython.core.display.Javascript object>"
      ]
     },
     "metadata": {},
     "output_type": "display_data"
    }
   ],
   "source": [
    "# slow\n",
    "# Initialization\n",
    "train_base_directory = \"test_numclassic_train\"\n",
    "numer_classic_downloader = NumeraiClassicDownloader(train_base_directory)\n",
    "\n",
    "# Uncomment line below to download training and validation data.\n",
    "# numer_classic_downloader.download_training_data(\"train_val\", version=2, int8=False)\n",
    "\n",
    "# Get feature overview\n",
    "numer_classic_downloader.get_classic_features();"
   ]
  },
  {
   "cell_type": "code",
   "execution_count": null,
   "metadata": {},
   "outputs": [
    {
     "data": {
      "text/html": [
       "<pre style=\"white-space:pre;overflow-x:auto;line-height:normal;font-family:Menlo,'DejaVu Sans Mono',consolas,'Courier New',monospace\">⚠ <span style=\"color: #800000; text-decoration-color: #800000\">Deleting directory for </span><span style=\"color: #800000; text-decoration-color: #800000\">'NumeraiClassicDownloader</span><span style=\"color: #008000; text-decoration-color: #008000\">'</span> ⚠\n",
       "Path: \n",
       "<span style=\"color: #008000; text-decoration-color: #008000\">'/Users/clepelaars/Desktop/crowdcent/repositories/numerai-blocks/nbs/test_numclassic_train'</span>\n",
       "</pre>\n"
      ],
      "text/plain": [
       "⚠ \u001b[31mDeleting directory for \u001b[0m\u001b[31m'NumeraiClassicDownloader\u001b[0m\u001b[32m'\u001b[0m ⚠\n",
       "Path: \n",
       "\u001b[32m'/Users/clepelaars/Desktop/crowdcent/repositories/numerai-blocks/nbs/test_numclassic_train'\u001b[0m\n"
      ]
     },
     "metadata": {},
     "output_type": "display_data"
    },
    {
     "data": {
      "application/javascript": [
       "\n",
       "            setTimeout(function() {\n",
       "                var nbb_cell_id = 10;\n",
       "                var nbb_unformatted_code = \"#hide\\n# Remove contents (for tests)\\nnumer_classic_downloader.remove_base_directory()\";\n",
       "                var nbb_formatted_code = \"# hide\\n# Remove contents (for tests)\\nnumer_classic_downloader.remove_base_directory()\";\n",
       "                var nbb_cells = Jupyter.notebook.get_cells();\n",
       "                for (var i = 0; i < nbb_cells.length; ++i) {\n",
       "                    if (nbb_cells[i].input_prompt_number == nbb_cell_id) {\n",
       "                        if (nbb_cells[i].get_text() == nbb_unformatted_code) {\n",
       "                             nbb_cells[i].set_text(nbb_formatted_code);\n",
       "                        }\n",
       "                        break;\n",
       "                    }\n",
       "                }\n",
       "            }, 500);\n",
       "            "
      ],
      "text/plain": [
       "<IPython.core.display.Javascript object>"
      ]
     },
     "metadata": {},
     "output_type": "display_data"
    }
   ],
   "source": [
    "# hide\n",
    "# Remove contents (for tests)\n",
    "numer_classic_downloader.remove_base_directory()"
   ]
  },
  {
   "cell_type": "markdown",
   "metadata": {},
   "source": [
    "__For the training example the directory structure will be:__"
   ]
  },
  {
   "cell_type": "code",
   "execution_count": null,
   "metadata": {},
   "outputs": [
    {
     "data": {
      "text/html": [
       "<pre style=\"white-space:pre;overflow-x:auto;line-height:normal;font-family:Menlo,'DejaVu Sans Mono',consolas,'Courier New',monospace\">📁 test_numclassic_train (base_directory)                                                           \n",
       "<span style=\"color: #808080; text-decoration-color: #808080\">┣━━ </span>📄 features.json                                                                                \n",
       "<span style=\"color: #808080; text-decoration-color: #808080\">┗━━ </span>📁 train_val                                                                                    \n",
       "<span style=\"color: #808080; text-decoration-color: #808080\">    ┣━━ </span>📄 numerai_training_data.parquet                                                            \n",
       "<span style=\"color: #808080; text-decoration-color: #808080\">    ┗━━ </span>📄 numerai_validation_data.parquet                                                          \n",
       "</pre>\n"
      ],
      "text/plain": [
       "📁 test_numclassic_train (base_directory)                                                           \n",
       "\u001b[90m┣━━ \u001b[0m📄 features.json                                                                                \n",
       "\u001b[90m┗━━ \u001b[0m📁 train_val                                                                                    \n",
       "\u001b[90m    \u001b[0m\u001b[90m┣━━ \u001b[0m📄 numerai_training_data.parquet                                                            \n",
       "\u001b[90m    \u001b[0m\u001b[90m┗━━ \u001b[0m📄 numerai_validation_data.parquet                                                          \n"
      ]
     },
     "metadata": {},
     "output_type": "display_data"
    },
    {
     "data": {
      "application/javascript": [
       "\n",
       "            setTimeout(function() {\n",
       "                var nbb_cell_id = 11;\n",
       "                var nbb_unformatted_code = \"#hide_input\\nconsole = Console(record=True, width=100)\\n\\ntree = Tree(f\\\":file_folder: {train_base_directory} (base_directory)\\\", guide_style=\\\"bold bright_black\\\")\\nfolder_tree = tree.add(\\\":page_facing_up: features.json\\\")\\ntrain_val_tree = tree.add(\\\":file_folder: train_val\\\")\\ntrain_val_tree.add(':page_facing_up: numerai_training_data.parquet')\\ntrain_val_tree.add(':page_facing_up: numerai_validation_data.parquet')\\n\\nconsole.print(tree)\";\n",
       "                var nbb_formatted_code = \"# hide_input\\nconsole = Console(record=True, width=100)\\n\\ntree = Tree(\\n    f\\\":file_folder: {train_base_directory} (base_directory)\\\",\\n    guide_style=\\\"bold bright_black\\\",\\n)\\nfolder_tree = tree.add(\\\":page_facing_up: features.json\\\")\\ntrain_val_tree = tree.add(\\\":file_folder: train_val\\\")\\ntrain_val_tree.add(\\\":page_facing_up: numerai_training_data.parquet\\\")\\ntrain_val_tree.add(\\\":page_facing_up: numerai_validation_data.parquet\\\")\\n\\nconsole.print(tree)\";\n",
       "                var nbb_cells = Jupyter.notebook.get_cells();\n",
       "                for (var i = 0; i < nbb_cells.length; ++i) {\n",
       "                    if (nbb_cells[i].input_prompt_number == nbb_cell_id) {\n",
       "                        if (nbb_cells[i].get_text() == nbb_unformatted_code) {\n",
       "                             nbb_cells[i].set_text(nbb_formatted_code);\n",
       "                        }\n",
       "                        break;\n",
       "                    }\n",
       "                }\n",
       "            }, 500);\n",
       "            "
      ],
      "text/plain": [
       "<IPython.core.display.Javascript object>"
      ]
     },
     "metadata": {},
     "output_type": "display_data"
    }
   ],
   "source": [
    "# hide_input\n",
    "console = Console(record=True, width=100)\n",
    "\n",
    "tree = Tree(\n",
    "    f\":file_folder: {train_base_directory} (base_directory)\",\n",
    "    guide_style=\"bold bright_black\",\n",
    ")\n",
    "folder_tree = tree.add(\":page_facing_up: features.json\")\n",
    "train_val_tree = tree.add(\":file_folder: train_val\")\n",
    "train_val_tree.add(\":page_facing_up: numerai_training_data.parquet\")\n",
    "train_val_tree.add(\":page_facing_up: numerai_validation_data.parquet\")\n",
    "\n",
    "console.print(tree)"
   ]
  },
  {
   "cell_type": "markdown",
   "metadata": {},
   "source": [
    "#### Inference"
   ]
  },
  {
   "cell_type": "code",
   "execution_count": null,
   "metadata": {},
   "outputs": [
    {
     "data": {
      "text/html": [
       "<pre style=\"white-space:pre;overflow-x:auto;line-height:normal;font-family:Menlo,'DejaVu Sans Mono',consolas,'Courier New',monospace\">No existing directory found at <span style=\"color: #008000; text-decoration-color: #008000\">'</span><span style=\"color: #000080; text-decoration-color: #000080\">test_numclassic_inference</span><span style=\"color: #008000; text-decoration-color: #008000\">'</span>. Creating directory<span style=\"color: #808000; text-decoration-color: #808000\">...</span>\n",
       "</pre>\n"
      ],
      "text/plain": [
       "No existing directory found at \u001b[32m'\u001b[0m\u001b[34mtest_numclassic_inference\u001b[0m\u001b[32m'\u001b[0m. Creating directory\u001b[33m...\u001b[0m\n"
      ]
     },
     "metadata": {},
     "output_type": "display_data"
    },
    {
     "data": {
      "text/html": [
       "<pre style=\"white-space:pre;overflow-x:auto;line-height:normal;font-family:Menlo,'DejaVu Sans Mono',consolas,'Courier New',monospace\">📁 <span style=\"color: #008000; text-decoration-color: #008000\">Downloading inference data for round</span> <span style=\"color: #008000; text-decoration-color: #008000\">'298'</span>.\n",
       "</pre>\n"
      ],
      "text/plain": [
       "📁 \u001b[32mDownloading inference data for round\u001b[0m \u001b[32m'298'\u001b[0m.\n"
      ]
     },
     "metadata": {},
     "output_type": "display_data"
    },
    {
     "data": {
      "text/html": [
       "<pre style=\"white-space:pre;overflow-x:auto;line-height:normal;font-family:Menlo,'DejaVu Sans Mono',consolas,'Courier New',monospace\">📁 <span style=\"color: #008000; text-decoration-color: #008000\">Downloading</span> <span style=\"color: #008000; text-decoration-color: #008000\">'numerai_tournament_data.parquet'</span> 📁\n",
       "</pre>\n"
      ],
      "text/plain": [
       "📁 \u001b[32mDownloading\u001b[0m \u001b[32m'numerai_tournament_data.parquet'\u001b[0m 📁\n"
      ]
     },
     "metadata": {},
     "output_type": "display_data"
    },
    {
     "name": "stderr",
     "output_type": "stream",
     "text": [
      "2022-01-09 22:28:10,501 INFO numerapi.utils: starting download\n",
      "test_numclassic_inference/inference/numerai_tournament_data.parquet:  18%|█▊        | 106M/582M [02:46<27:35, 288kB/s]    "
     ]
    },
    {
     "ename": "KeyboardInterrupt",
     "evalue": "",
     "output_type": "error",
     "traceback": [
      "\u001b[0;31m---------------------------------------------------------------------------\u001b[0m",
      "\u001b[0;31mKeyboardInterrupt\u001b[0m                         Traceback (most recent call last)",
      "\u001b[0;32m/var/folders/d5/1qd2ftjn7ts_5_k6w2k2g4c00000gn/T/ipykernel_3537/2919954469.py\u001b[0m in \u001b[0;36m<module>\u001b[0;34m\u001b[0m\n\u001b[1;32m      5\u001b[0m \u001b[0;34m\u001b[0m\u001b[0m\n\u001b[1;32m      6\u001b[0m \u001b[0;31m# Download tournament (inference) data\u001b[0m\u001b[0;34m\u001b[0m\u001b[0;34m\u001b[0m\u001b[0m\n\u001b[0;32m----> 7\u001b[0;31m \u001b[0mnumer_classic_downloader\u001b[0m\u001b[0;34m.\u001b[0m\u001b[0mdownload_inference_data\u001b[0m\u001b[0;34m(\u001b[0m\u001b[0;34m\"inference\"\u001b[0m\u001b[0;34m,\u001b[0m \u001b[0mversion\u001b[0m\u001b[0;34m=\u001b[0m\u001b[0;36m2\u001b[0m\u001b[0;34m,\u001b[0m \u001b[0mint8\u001b[0m\u001b[0;34m=\u001b[0m\u001b[0;32mFalse\u001b[0m\u001b[0;34m)\u001b[0m\u001b[0;34m\u001b[0m\u001b[0;34m\u001b[0m\u001b[0m\n\u001b[0m\u001b[1;32m      8\u001b[0m \u001b[0;34m\u001b[0m\u001b[0m\n\u001b[1;32m      9\u001b[0m \u001b[0;31m# Remove folder when done with inference\u001b[0m\u001b[0;34m\u001b[0m\u001b[0;34m\u001b[0m\u001b[0m\n",
      "\u001b[0;32m/var/folders/d5/1qd2ftjn7ts_5_k6w2k2g4c00000gn/T/ipykernel_3537/71534705.py\u001b[0m in \u001b[0;36mdownload_inference_data\u001b[0;34m(self, subfolder, version, int8, round_num)\u001b[0m\n\u001b[1;32m     54\u001b[0m         \u001b[0mrich_print\u001b[0m\u001b[0;34m(\u001b[0m\u001b[0;34mf\":file_folder: [green]Downloading inference data for round[/green] '{round_num if round_num else self.current_round}'.\"\u001b[0m\u001b[0;34m)\u001b[0m\u001b[0;34m\u001b[0m\u001b[0;34m\u001b[0m\u001b[0m\n\u001b[1;32m     55\u001b[0m         \u001b[0;32mfor\u001b[0m \u001b[0mfile\u001b[0m \u001b[0;32min\u001b[0m \u001b[0minference_files\u001b[0m\u001b[0;34m:\u001b[0m\u001b[0;34m\u001b[0m\u001b[0;34m\u001b[0m\u001b[0m\n\u001b[0;32m---> 56\u001b[0;31m             self.download_single_dataset(filename=file,\n\u001b[0m\u001b[1;32m     57\u001b[0m                                          \u001b[0mdest_path\u001b[0m\u001b[0;34m=\u001b[0m\u001b[0mstr\u001b[0m\u001b[0;34m(\u001b[0m\u001b[0mdir\u001b[0m\u001b[0;34m.\u001b[0m\u001b[0mjoinpath\u001b[0m\u001b[0;34m(\u001b[0m\u001b[0mfile\u001b[0m\u001b[0;34m)\u001b[0m\u001b[0;34m)\u001b[0m\u001b[0;34m,\u001b[0m\u001b[0;34m\u001b[0m\u001b[0;34m\u001b[0m\u001b[0m\n\u001b[1;32m     58\u001b[0m                                          round_num=round_num)\n",
      "\u001b[0;32m/var/folders/d5/1qd2ftjn7ts_5_k6w2k2g4c00000gn/T/ipykernel_3537/71534705.py\u001b[0m in \u001b[0;36mdownload_single_dataset\u001b[0;34m(self, filename, dest_path, round_num)\u001b[0m\n\u001b[1;32m     68\u001b[0m         \u001b[0;32massert\u001b[0m \u001b[0mfilename\u001b[0m \u001b[0;32min\u001b[0m \u001b[0mself\u001b[0m\u001b[0;34m.\u001b[0m\u001b[0mnapi\u001b[0m\u001b[0;34m.\u001b[0m\u001b[0mlist_datasets\u001b[0m\u001b[0;34m(\u001b[0m\u001b[0;34m)\u001b[0m\u001b[0;34m,\u001b[0m \u001b[0;34mf\"Dataset '{filename}' not available in NumerAPI. Available datasets are {self.napi.list_datasets()}.\"\u001b[0m\u001b[0;34m\u001b[0m\u001b[0;34m\u001b[0m\u001b[0m\n\u001b[1;32m     69\u001b[0m         \u001b[0mrich_print\u001b[0m\u001b[0;34m(\u001b[0m\u001b[0;34mf\":file_folder: [green]Downloading[/green] '{filename}' :file_folder:\"\u001b[0m\u001b[0;34m)\u001b[0m\u001b[0;34m\u001b[0m\u001b[0;34m\u001b[0m\u001b[0m\n\u001b[0;32m---> 70\u001b[0;31m         self.napi.download_dataset(filename=filename,\n\u001b[0m\u001b[1;32m     71\u001b[0m                                    \u001b[0mdest_path\u001b[0m\u001b[0;34m=\u001b[0m\u001b[0mdest_path\u001b[0m\u001b[0;34m,\u001b[0m\u001b[0;34m\u001b[0m\u001b[0;34m\u001b[0m\u001b[0m\n\u001b[1;32m     72\u001b[0m                                    round_num=round_num)\n",
      "\u001b[0;32m/opt/anaconda3/envs/numerai-blocks39/lib/python3.9/site-packages/numerapi/numerapi.py\u001b[0m in \u001b[0;36mdownload_dataset\u001b[0;34m(self, filename, dest_path, round_num)\u001b[0m\n\u001b[1;32m    103\u001b[0m \u001b[0;34m\u001b[0m\u001b[0m\n\u001b[1;32m    104\u001b[0m         \u001b[0mdataset_url\u001b[0m \u001b[0;34m=\u001b[0m \u001b[0mself\u001b[0m\u001b[0;34m.\u001b[0m\u001b[0mraw_query\u001b[0m\u001b[0;34m(\u001b[0m\u001b[0mquery\u001b[0m\u001b[0;34m,\u001b[0m \u001b[0margs\u001b[0m\u001b[0;34m)\u001b[0m\u001b[0;34m[\u001b[0m\u001b[0;34m'data'\u001b[0m\u001b[0;34m]\u001b[0m\u001b[0;34m[\u001b[0m\u001b[0;34m'dataset'\u001b[0m\u001b[0;34m]\u001b[0m\u001b[0;34m\u001b[0m\u001b[0;34m\u001b[0m\u001b[0m\n\u001b[0;32m--> 105\u001b[0;31m         \u001b[0mutils\u001b[0m\u001b[0;34m.\u001b[0m\u001b[0mdownload_file\u001b[0m\u001b[0;34m(\u001b[0m\u001b[0mdataset_url\u001b[0m\u001b[0;34m,\u001b[0m \u001b[0mdest_path\u001b[0m\u001b[0;34m,\u001b[0m \u001b[0mself\u001b[0m\u001b[0;34m.\u001b[0m\u001b[0mshow_progress_bars\u001b[0m\u001b[0;34m)\u001b[0m\u001b[0;34m\u001b[0m\u001b[0;34m\u001b[0m\u001b[0m\n\u001b[0m\u001b[1;32m    106\u001b[0m \u001b[0;34m\u001b[0m\u001b[0m\n\u001b[1;32m    107\u001b[0m     \u001b[0;32mdef\u001b[0m \u001b[0mget_dataset_url\u001b[0m\u001b[0;34m(\u001b[0m\u001b[0mself\u001b[0m\u001b[0;34m,\u001b[0m \u001b[0mtournament\u001b[0m\u001b[0;34m:\u001b[0m \u001b[0mint\u001b[0m \u001b[0;34m=\u001b[0m \u001b[0;36m8\u001b[0m\u001b[0;34m)\u001b[0m \u001b[0;34m->\u001b[0m \u001b[0mstr\u001b[0m\u001b[0;34m:\u001b[0m\u001b[0;34m\u001b[0m\u001b[0;34m\u001b[0m\u001b[0m\n",
      "\u001b[0;32m/opt/anaconda3/envs/numerai-blocks39/lib/python3.9/site-packages/numerapi/utils.py\u001b[0m in \u001b[0;36mdownload_file\u001b[0;34m(url, dest_path, show_progress_bars)\u001b[0m\n\u001b[1;32m     76\u001b[0m     \u001b[0mpbar\u001b[0m\u001b[0;34m.\u001b[0m\u001b[0mupdate\u001b[0m\u001b[0;34m(\u001b[0m\u001b[0mfile_size\u001b[0m\u001b[0;34m)\u001b[0m\u001b[0;34m\u001b[0m\u001b[0;34m\u001b[0m\u001b[0m\n\u001b[1;32m     77\u001b[0m     \u001b[0;32mwith\u001b[0m \u001b[0mopen\u001b[0m\u001b[0;34m(\u001b[0m\u001b[0mdest_path\u001b[0m\u001b[0;34m,\u001b[0m \u001b[0;34m\"ab\"\u001b[0m\u001b[0;34m)\u001b[0m \u001b[0;32mas\u001b[0m \u001b[0mdest_file\u001b[0m\u001b[0;34m:\u001b[0m\u001b[0;34m\u001b[0m\u001b[0;34m\u001b[0m\u001b[0m\n\u001b[0;32m---> 78\u001b[0;31m         \u001b[0;32mfor\u001b[0m \u001b[0mchunk\u001b[0m \u001b[0;32min\u001b[0m \u001b[0mreq\u001b[0m\u001b[0;34m.\u001b[0m\u001b[0miter_content\u001b[0m\u001b[0;34m(\u001b[0m\u001b[0;36m1024\u001b[0m\u001b[0;34m)\u001b[0m\u001b[0;34m:\u001b[0m\u001b[0;34m\u001b[0m\u001b[0;34m\u001b[0m\u001b[0m\n\u001b[0m\u001b[1;32m     79\u001b[0m             \u001b[0mdest_file\u001b[0m\u001b[0;34m.\u001b[0m\u001b[0mwrite\u001b[0m\u001b[0;34m(\u001b[0m\u001b[0mchunk\u001b[0m\u001b[0;34m)\u001b[0m\u001b[0;34m\u001b[0m\u001b[0;34m\u001b[0m\u001b[0m\n\u001b[1;32m     80\u001b[0m             \u001b[0mpbar\u001b[0m\u001b[0;34m.\u001b[0m\u001b[0mupdate\u001b[0m\u001b[0;34m(\u001b[0m\u001b[0;36m1024\u001b[0m\u001b[0;34m)\u001b[0m\u001b[0;34m\u001b[0m\u001b[0;34m\u001b[0m\u001b[0m\n",
      "\u001b[0;32m/opt/anaconda3/envs/numerai-blocks39/lib/python3.9/site-packages/requests/models.py\u001b[0m in \u001b[0;36mgenerate\u001b[0;34m()\u001b[0m\n\u001b[1;32m    758\u001b[0m             \u001b[0;32mif\u001b[0m \u001b[0mhasattr\u001b[0m\u001b[0;34m(\u001b[0m\u001b[0mself\u001b[0m\u001b[0;34m.\u001b[0m\u001b[0mraw\u001b[0m\u001b[0;34m,\u001b[0m \u001b[0;34m'stream'\u001b[0m\u001b[0;34m)\u001b[0m\u001b[0;34m:\u001b[0m\u001b[0;34m\u001b[0m\u001b[0;34m\u001b[0m\u001b[0m\n\u001b[1;32m    759\u001b[0m                 \u001b[0;32mtry\u001b[0m\u001b[0;34m:\u001b[0m\u001b[0;34m\u001b[0m\u001b[0;34m\u001b[0m\u001b[0m\n\u001b[0;32m--> 760\u001b[0;31m                     \u001b[0;32mfor\u001b[0m \u001b[0mchunk\u001b[0m \u001b[0;32min\u001b[0m \u001b[0mself\u001b[0m\u001b[0;34m.\u001b[0m\u001b[0mraw\u001b[0m\u001b[0;34m.\u001b[0m\u001b[0mstream\u001b[0m\u001b[0;34m(\u001b[0m\u001b[0mchunk_size\u001b[0m\u001b[0;34m,\u001b[0m \u001b[0mdecode_content\u001b[0m\u001b[0;34m=\u001b[0m\u001b[0;32mTrue\u001b[0m\u001b[0;34m)\u001b[0m\u001b[0;34m:\u001b[0m\u001b[0;34m\u001b[0m\u001b[0;34m\u001b[0m\u001b[0m\n\u001b[0m\u001b[1;32m    761\u001b[0m                         \u001b[0;32myield\u001b[0m \u001b[0mchunk\u001b[0m\u001b[0;34m\u001b[0m\u001b[0;34m\u001b[0m\u001b[0m\n\u001b[1;32m    762\u001b[0m                 \u001b[0;32mexcept\u001b[0m \u001b[0mProtocolError\u001b[0m \u001b[0;32mas\u001b[0m \u001b[0me\u001b[0m\u001b[0;34m:\u001b[0m\u001b[0;34m\u001b[0m\u001b[0;34m\u001b[0m\u001b[0m\n",
      "\u001b[0;32m/opt/anaconda3/envs/numerai-blocks39/lib/python3.9/site-packages/urllib3/response.py\u001b[0m in \u001b[0;36mstream\u001b[0;34m(self, amt, decode_content)\u001b[0m\n\u001b[1;32m    574\u001b[0m         \u001b[0;32melse\u001b[0m\u001b[0;34m:\u001b[0m\u001b[0;34m\u001b[0m\u001b[0;34m\u001b[0m\u001b[0m\n\u001b[1;32m    575\u001b[0m             \u001b[0;32mwhile\u001b[0m \u001b[0;32mnot\u001b[0m \u001b[0mis_fp_closed\u001b[0m\u001b[0;34m(\u001b[0m\u001b[0mself\u001b[0m\u001b[0;34m.\u001b[0m\u001b[0m_fp\u001b[0m\u001b[0;34m)\u001b[0m\u001b[0;34m:\u001b[0m\u001b[0;34m\u001b[0m\u001b[0;34m\u001b[0m\u001b[0m\n\u001b[0;32m--> 576\u001b[0;31m                 \u001b[0mdata\u001b[0m \u001b[0;34m=\u001b[0m \u001b[0mself\u001b[0m\u001b[0;34m.\u001b[0m\u001b[0mread\u001b[0m\u001b[0;34m(\u001b[0m\u001b[0mamt\u001b[0m\u001b[0;34m=\u001b[0m\u001b[0mamt\u001b[0m\u001b[0;34m,\u001b[0m \u001b[0mdecode_content\u001b[0m\u001b[0;34m=\u001b[0m\u001b[0mdecode_content\u001b[0m\u001b[0;34m)\u001b[0m\u001b[0;34m\u001b[0m\u001b[0;34m\u001b[0m\u001b[0m\n\u001b[0m\u001b[1;32m    577\u001b[0m \u001b[0;34m\u001b[0m\u001b[0m\n\u001b[1;32m    578\u001b[0m                 \u001b[0;32mif\u001b[0m \u001b[0mdata\u001b[0m\u001b[0;34m:\u001b[0m\u001b[0;34m\u001b[0m\u001b[0;34m\u001b[0m\u001b[0m\n",
      "\u001b[0;32m/opt/anaconda3/envs/numerai-blocks39/lib/python3.9/site-packages/urllib3/response.py\u001b[0m in \u001b[0;36mread\u001b[0;34m(self, amt, decode_content, cache_content)\u001b[0m\n\u001b[1;32m    517\u001b[0m             \u001b[0;32melse\u001b[0m\u001b[0;34m:\u001b[0m\u001b[0;34m\u001b[0m\u001b[0;34m\u001b[0m\u001b[0m\n\u001b[1;32m    518\u001b[0m                 \u001b[0mcache_content\u001b[0m \u001b[0;34m=\u001b[0m \u001b[0;32mFalse\u001b[0m\u001b[0;34m\u001b[0m\u001b[0;34m\u001b[0m\u001b[0m\n\u001b[0;32m--> 519\u001b[0;31m                 \u001b[0mdata\u001b[0m \u001b[0;34m=\u001b[0m \u001b[0mself\u001b[0m\u001b[0;34m.\u001b[0m\u001b[0m_fp\u001b[0m\u001b[0;34m.\u001b[0m\u001b[0mread\u001b[0m\u001b[0;34m(\u001b[0m\u001b[0mamt\u001b[0m\u001b[0;34m)\u001b[0m \u001b[0;32mif\u001b[0m \u001b[0;32mnot\u001b[0m \u001b[0mfp_closed\u001b[0m \u001b[0;32melse\u001b[0m \u001b[0;34mb\"\"\u001b[0m\u001b[0;34m\u001b[0m\u001b[0;34m\u001b[0m\u001b[0m\n\u001b[0m\u001b[1;32m    520\u001b[0m                 if (\n\u001b[1;32m    521\u001b[0m                     \u001b[0mamt\u001b[0m \u001b[0;34m!=\u001b[0m \u001b[0;36m0\u001b[0m \u001b[0;32mand\u001b[0m \u001b[0;32mnot\u001b[0m \u001b[0mdata\u001b[0m\u001b[0;34m\u001b[0m\u001b[0;34m\u001b[0m\u001b[0m\n",
      "\u001b[0;32m/opt/anaconda3/envs/numerai-blocks39/lib/python3.9/http/client.py\u001b[0m in \u001b[0;36mread\u001b[0;34m(self, amt)\u001b[0m\n\u001b[1;32m    460\u001b[0m             \u001b[0;31m# Amount is given, implement using readinto\u001b[0m\u001b[0;34m\u001b[0m\u001b[0;34m\u001b[0m\u001b[0m\n\u001b[1;32m    461\u001b[0m             \u001b[0mb\u001b[0m \u001b[0;34m=\u001b[0m \u001b[0mbytearray\u001b[0m\u001b[0;34m(\u001b[0m\u001b[0mamt\u001b[0m\u001b[0;34m)\u001b[0m\u001b[0;34m\u001b[0m\u001b[0;34m\u001b[0m\u001b[0m\n\u001b[0;32m--> 462\u001b[0;31m             \u001b[0mn\u001b[0m \u001b[0;34m=\u001b[0m \u001b[0mself\u001b[0m\u001b[0;34m.\u001b[0m\u001b[0mreadinto\u001b[0m\u001b[0;34m(\u001b[0m\u001b[0mb\u001b[0m\u001b[0;34m)\u001b[0m\u001b[0;34m\u001b[0m\u001b[0;34m\u001b[0m\u001b[0m\n\u001b[0m\u001b[1;32m    463\u001b[0m             \u001b[0;32mreturn\u001b[0m \u001b[0mmemoryview\u001b[0m\u001b[0;34m(\u001b[0m\u001b[0mb\u001b[0m\u001b[0;34m)\u001b[0m\u001b[0;34m[\u001b[0m\u001b[0;34m:\u001b[0m\u001b[0mn\u001b[0m\u001b[0;34m]\u001b[0m\u001b[0;34m.\u001b[0m\u001b[0mtobytes\u001b[0m\u001b[0;34m(\u001b[0m\u001b[0;34m)\u001b[0m\u001b[0;34m\u001b[0m\u001b[0;34m\u001b[0m\u001b[0m\n\u001b[1;32m    464\u001b[0m         \u001b[0;32melse\u001b[0m\u001b[0;34m:\u001b[0m\u001b[0;34m\u001b[0m\u001b[0;34m\u001b[0m\u001b[0m\n",
      "\u001b[0;32m/opt/anaconda3/envs/numerai-blocks39/lib/python3.9/http/client.py\u001b[0m in \u001b[0;36mreadinto\u001b[0;34m(self, b)\u001b[0m\n\u001b[1;32m    504\u001b[0m         \u001b[0;31m# connection, and the user is reading more bytes than will be provided\u001b[0m\u001b[0;34m\u001b[0m\u001b[0;34m\u001b[0m\u001b[0m\n\u001b[1;32m    505\u001b[0m         \u001b[0;31m# (for example, reading in 1k chunks)\u001b[0m\u001b[0;34m\u001b[0m\u001b[0;34m\u001b[0m\u001b[0m\n\u001b[0;32m--> 506\u001b[0;31m         \u001b[0mn\u001b[0m \u001b[0;34m=\u001b[0m \u001b[0mself\u001b[0m\u001b[0;34m.\u001b[0m\u001b[0mfp\u001b[0m\u001b[0;34m.\u001b[0m\u001b[0mreadinto\u001b[0m\u001b[0;34m(\u001b[0m\u001b[0mb\u001b[0m\u001b[0;34m)\u001b[0m\u001b[0;34m\u001b[0m\u001b[0;34m\u001b[0m\u001b[0m\n\u001b[0m\u001b[1;32m    507\u001b[0m         \u001b[0;32mif\u001b[0m \u001b[0;32mnot\u001b[0m \u001b[0mn\u001b[0m \u001b[0;32mand\u001b[0m \u001b[0mb\u001b[0m\u001b[0;34m:\u001b[0m\u001b[0;34m\u001b[0m\u001b[0;34m\u001b[0m\u001b[0m\n\u001b[1;32m    508\u001b[0m             \u001b[0;31m# Ideally, we would raise IncompleteRead if the content-length\u001b[0m\u001b[0;34m\u001b[0m\u001b[0;34m\u001b[0m\u001b[0m\n",
      "\u001b[0;32m/opt/anaconda3/envs/numerai-blocks39/lib/python3.9/socket.py\u001b[0m in \u001b[0;36mreadinto\u001b[0;34m(self, b)\u001b[0m\n\u001b[1;32m    702\u001b[0m         \u001b[0;32mwhile\u001b[0m \u001b[0;32mTrue\u001b[0m\u001b[0;34m:\u001b[0m\u001b[0;34m\u001b[0m\u001b[0;34m\u001b[0m\u001b[0m\n\u001b[1;32m    703\u001b[0m             \u001b[0;32mtry\u001b[0m\u001b[0;34m:\u001b[0m\u001b[0;34m\u001b[0m\u001b[0;34m\u001b[0m\u001b[0m\n\u001b[0;32m--> 704\u001b[0;31m                 \u001b[0;32mreturn\u001b[0m \u001b[0mself\u001b[0m\u001b[0;34m.\u001b[0m\u001b[0m_sock\u001b[0m\u001b[0;34m.\u001b[0m\u001b[0mrecv_into\u001b[0m\u001b[0;34m(\u001b[0m\u001b[0mb\u001b[0m\u001b[0;34m)\u001b[0m\u001b[0;34m\u001b[0m\u001b[0;34m\u001b[0m\u001b[0m\n\u001b[0m\u001b[1;32m    705\u001b[0m             \u001b[0;32mexcept\u001b[0m \u001b[0mtimeout\u001b[0m\u001b[0;34m:\u001b[0m\u001b[0;34m\u001b[0m\u001b[0;34m\u001b[0m\u001b[0m\n\u001b[1;32m    706\u001b[0m                 \u001b[0mself\u001b[0m\u001b[0;34m.\u001b[0m\u001b[0m_timeout_occurred\u001b[0m \u001b[0;34m=\u001b[0m \u001b[0;32mTrue\u001b[0m\u001b[0;34m\u001b[0m\u001b[0;34m\u001b[0m\u001b[0m\n",
      "\u001b[0;32m/opt/anaconda3/envs/numerai-blocks39/lib/python3.9/ssl.py\u001b[0m in \u001b[0;36mrecv_into\u001b[0;34m(self, buffer, nbytes, flags)\u001b[0m\n\u001b[1;32m   1239\u001b[0m                   \u001b[0;34m\"non-zero flags not allowed in calls to recv_into() on %s\"\u001b[0m \u001b[0;34m%\u001b[0m\u001b[0;34m\u001b[0m\u001b[0;34m\u001b[0m\u001b[0m\n\u001b[1;32m   1240\u001b[0m                   self.__class__)\n\u001b[0;32m-> 1241\u001b[0;31m             \u001b[0;32mreturn\u001b[0m \u001b[0mself\u001b[0m\u001b[0;34m.\u001b[0m\u001b[0mread\u001b[0m\u001b[0;34m(\u001b[0m\u001b[0mnbytes\u001b[0m\u001b[0;34m,\u001b[0m \u001b[0mbuffer\u001b[0m\u001b[0;34m)\u001b[0m\u001b[0;34m\u001b[0m\u001b[0;34m\u001b[0m\u001b[0m\n\u001b[0m\u001b[1;32m   1242\u001b[0m         \u001b[0;32melse\u001b[0m\u001b[0;34m:\u001b[0m\u001b[0;34m\u001b[0m\u001b[0;34m\u001b[0m\u001b[0m\n\u001b[1;32m   1243\u001b[0m             \u001b[0;32mreturn\u001b[0m \u001b[0msuper\u001b[0m\u001b[0;34m(\u001b[0m\u001b[0;34m)\u001b[0m\u001b[0;34m.\u001b[0m\u001b[0mrecv_into\u001b[0m\u001b[0;34m(\u001b[0m\u001b[0mbuffer\u001b[0m\u001b[0;34m,\u001b[0m \u001b[0mnbytes\u001b[0m\u001b[0;34m,\u001b[0m \u001b[0mflags\u001b[0m\u001b[0;34m)\u001b[0m\u001b[0;34m\u001b[0m\u001b[0;34m\u001b[0m\u001b[0m\n",
      "\u001b[0;32m/opt/anaconda3/envs/numerai-blocks39/lib/python3.9/ssl.py\u001b[0m in \u001b[0;36mread\u001b[0;34m(self, len, buffer)\u001b[0m\n\u001b[1;32m   1097\u001b[0m         \u001b[0;32mtry\u001b[0m\u001b[0;34m:\u001b[0m\u001b[0;34m\u001b[0m\u001b[0;34m\u001b[0m\u001b[0m\n\u001b[1;32m   1098\u001b[0m             \u001b[0;32mif\u001b[0m \u001b[0mbuffer\u001b[0m \u001b[0;32mis\u001b[0m \u001b[0;32mnot\u001b[0m \u001b[0;32mNone\u001b[0m\u001b[0;34m:\u001b[0m\u001b[0;34m\u001b[0m\u001b[0;34m\u001b[0m\u001b[0m\n\u001b[0;32m-> 1099\u001b[0;31m                 \u001b[0;32mreturn\u001b[0m \u001b[0mself\u001b[0m\u001b[0;34m.\u001b[0m\u001b[0m_sslobj\u001b[0m\u001b[0;34m.\u001b[0m\u001b[0mread\u001b[0m\u001b[0;34m(\u001b[0m\u001b[0mlen\u001b[0m\u001b[0;34m,\u001b[0m \u001b[0mbuffer\u001b[0m\u001b[0;34m)\u001b[0m\u001b[0;34m\u001b[0m\u001b[0;34m\u001b[0m\u001b[0m\n\u001b[0m\u001b[1;32m   1100\u001b[0m             \u001b[0;32melse\u001b[0m\u001b[0;34m:\u001b[0m\u001b[0;34m\u001b[0m\u001b[0;34m\u001b[0m\u001b[0m\n\u001b[1;32m   1101\u001b[0m                 \u001b[0;32mreturn\u001b[0m \u001b[0mself\u001b[0m\u001b[0;34m.\u001b[0m\u001b[0m_sslobj\u001b[0m\u001b[0;34m.\u001b[0m\u001b[0mread\u001b[0m\u001b[0;34m(\u001b[0m\u001b[0mlen\u001b[0m\u001b[0;34m)\u001b[0m\u001b[0;34m\u001b[0m\u001b[0;34m\u001b[0m\u001b[0m\n",
      "\u001b[0;31mKeyboardInterrupt\u001b[0m: "
     ]
    },
    {
     "data": {
      "application/javascript": [
       "\n",
       "            setTimeout(function() {\n",
       "                var nbb_cell_id = 12;\n",
       "                var nbb_unformatted_code = \"#slow\\n# initialization\\ninference_base_directory = \\\"test_numclassic_inference\\\"\\nnumer_classic_downloader = NumeraiClassicDownloader(inference_base_directory)\\n\\n# Download tournament (inference) data\\nnumer_classic_downloader.download_inference_data(\\\"inference\\\", version=2, int8=False)\\n\\n# Remove folder when done with inference\\nnumer_classic_downloader.remove_base_directory()\";\n",
       "                var nbb_formatted_code = \"# slow\\n# initialization\\ninference_base_directory = \\\"test_numclassic_inference\\\"\\nnumer_classic_downloader = NumeraiClassicDownloader(inference_base_directory)\\n\\n# Download tournament (inference) data\\nnumer_classic_downloader.download_inference_data(\\\"inference\\\", version=2, int8=False)\\n\\n# Remove folder when done with inference\\nnumer_classic_downloader.remove_base_directory()\";\n",
       "                var nbb_cells = Jupyter.notebook.get_cells();\n",
       "                for (var i = 0; i < nbb_cells.length; ++i) {\n",
       "                    if (nbb_cells[i].input_prompt_number == nbb_cell_id) {\n",
       "                        if (nbb_cells[i].get_text() == nbb_unformatted_code) {\n",
       "                             nbb_cells[i].set_text(nbb_formatted_code);\n",
       "                        }\n",
       "                        break;\n",
       "                    }\n",
       "                }\n",
       "            }, 500);\n",
       "            "
      ],
      "text/plain": [
       "<IPython.core.display.Javascript object>"
      ]
     },
     "metadata": {},
     "output_type": "display_data"
    }
   ],
   "source": [
    "# slow\n",
    "# initialization\n",
    "inference_base_directory = \"test_numclassic_inference\"\n",
    "numer_classic_downloader = NumeraiClassicDownloader(inference_base_directory)\n",
    "\n",
    "# Download tournament (inference) data\n",
    "numer_classic_downloader.download_inference_data(\"inference\", version=2, int8=False)\n",
    "\n",
    "# Remove folder when done with inference\n",
    "numer_classic_downloader.remove_base_directory()"
   ]
  },
  {
   "cell_type": "markdown",
   "metadata": {},
   "source": [
    "__For the inference example the directory structure will be:__"
   ]
  },
  {
   "cell_type": "code",
   "execution_count": null,
   "metadata": {},
   "outputs": [
    {
     "data": {
      "text/html": [
       "<pre style=\"white-space:pre;overflow-x:auto;line-height:normal;font-family:Menlo,'DejaVu Sans Mono',consolas,'Courier New',monospace\">📁 test_numclassic_inference (base_directory)                                                       \n",
       "<span style=\"color: #808080; text-decoration-color: #808080\">┗━━ </span>📁 inference                                                                                    \n",
       "<span style=\"color: #808080; text-decoration-color: #808080\">    ┗━━ </span>📄 numerai_tournament_data.parquet                                                          \n",
       "</pre>\n"
      ],
      "text/plain": [
       "📁 test_numclassic_inference (base_directory)                                                       \n",
       "\u001b[90m┗━━ \u001b[0m📁 inference                                                                                    \n",
       "\u001b[90m    \u001b[0m\u001b[90m┗━━ \u001b[0m📄 numerai_tournament_data.parquet                                                          \n"
      ]
     },
     "metadata": {},
     "output_type": "display_data"
    },
    {
     "data": {
      "application/javascript": [
       "\n",
       "            setTimeout(function() {\n",
       "                var nbb_cell_id = 13;\n",
       "                var nbb_unformatted_code = \"#hide_input\\nconsole = Console(record=True, width=100)\\n\\ntree = Tree(f\\\":file_folder: {inference_base_directory} (base_directory)\\\", guide_style=\\\"bold bright_black\\\")\\ninference_tree = tree.add(\\\":file_folder: inference\\\")\\ninference_tree.add(':page_facing_up: numerai_tournament_data.parquet')\\n\\nconsole.print(tree)\";\n",
       "                var nbb_formatted_code = \"# hide_input\\nconsole = Console(record=True, width=100)\\n\\ntree = Tree(\\n    f\\\":file_folder: {inference_base_directory} (base_directory)\\\",\\n    guide_style=\\\"bold bright_black\\\",\\n)\\ninference_tree = tree.add(\\\":file_folder: inference\\\")\\ninference_tree.add(\\\":page_facing_up: numerai_tournament_data.parquet\\\")\\n\\nconsole.print(tree)\";\n",
       "                var nbb_cells = Jupyter.notebook.get_cells();\n",
       "                for (var i = 0; i < nbb_cells.length; ++i) {\n",
       "                    if (nbb_cells[i].input_prompt_number == nbb_cell_id) {\n",
       "                        if (nbb_cells[i].get_text() == nbb_unformatted_code) {\n",
       "                             nbb_cells[i].set_text(nbb_formatted_code);\n",
       "                        }\n",
       "                        break;\n",
       "                    }\n",
       "                }\n",
       "            }, 500);\n",
       "            "
      ],
      "text/plain": [
       "<IPython.core.display.Javascript object>"
      ]
     },
     "metadata": {},
     "output_type": "display_data"
    }
   ],
   "source": [
    "# hide_input\n",
    "console = Console(record=True, width=100)\n",
    "\n",
    "tree = Tree(\n",
    "    f\":file_folder: {inference_base_directory} (base_directory)\",\n",
    "    guide_style=\"bold bright_black\",\n",
    ")\n",
    "inference_tree = tree.add(\":file_folder: inference\")\n",
    "inference_tree.add(\":page_facing_up: numerai_tournament_data.parquet\")\n",
    "\n",
    "console.print(tree)"
   ]
  },
  {
   "cell_type": "markdown",
   "metadata": {},
   "source": [
    "## 3. Yahoo Finance"
   ]
  },
  {
   "cell_type": "markdown",
   "metadata": {},
   "source": [
    "Use [opensignals](https://github.com/councilofelders/opensignals) to download Yahoo Finance data?"
   ]
  },
  {
   "cell_type": "code",
   "execution_count": null,
   "metadata": {},
   "outputs": [
    {
     "data": {
      "application/javascript": [
       "\n",
       "            setTimeout(function() {\n",
       "                var nbb_cell_id = 14;\n",
       "                var nbb_unformatted_code = \"class YahooFinanceDownloader(BaseDownloader):\\n    \\\"\\\"\\\"\\n    Download Yahoo Finance data through opensignals.\\n    https://github.com/councilofelders/opensignals\\n\\n    :param directory_path: Base folder to download files to.\\n    \\\"\\\"\\\"\\n    def __init__(self, directory_path: str, *args, **kwargs):\\n        super(YahooFinanceDownloader, self).__init__(directory_path=directory_path)\\n        self.api = SignalsAPI()\\n        self.universe_url = self.api.TICKER_UNIVERSE_URL\\n\\n    def download_inference_data(self, *args, **kwargs):\\n        \\\"\\\"\\\" (minimal) weekly inference downloading here. \\\"\\\"\\\"\\n        last_friday = int(str((datetime.now() + relativedelta(weekday=FR(-1))).date()).replace(\\\"-\\\", \\\"\\\"))\\n        # yahoo.download_data(self.dir)\\n\\n    def download_training_data(self, *args, **kwargs):\\n        \\\"\\\"\\\" Training dataset downloading here. \\\"\\\"\\\"\\n        ...\";\n",
       "                var nbb_formatted_code = \"class YahooFinanceDownloader(BaseDownloader):\\n    \\\"\\\"\\\"\\n    Download Yahoo Finance data through opensignals.\\n    https://github.com/councilofelders/opensignals\\n\\n    :param directory_path: Base folder to download files to.\\n    \\\"\\\"\\\"\\n\\n    def __init__(self, directory_path: str, *args, **kwargs):\\n        super(YahooFinanceDownloader, self).__init__(directory_path=directory_path)\\n        self.api = SignalsAPI()\\n        self.universe_url = self.api.TICKER_UNIVERSE_URL\\n\\n    def download_inference_data(self, *args, **kwargs):\\n        \\\"\\\"\\\"(minimal) weekly inference downloading here.\\\"\\\"\\\"\\n        last_friday = int(\\n            str((datetime.now() + relativedelta(weekday=FR(-1))).date()).replace(\\n                \\\"-\\\", \\\"\\\"\\n            )\\n        )\\n        # yahoo.download_data(self.dir)\\n\\n    def download_training_data(self, *args, **kwargs):\\n        \\\"\\\"\\\"Training dataset downloading here.\\\"\\\"\\\"\\n        ...\";\n",
       "                var nbb_cells = Jupyter.notebook.get_cells();\n",
       "                for (var i = 0; i < nbb_cells.length; ++i) {\n",
       "                    if (nbb_cells[i].input_prompt_number == nbb_cell_id) {\n",
       "                        if (nbb_cells[i].get_text() == nbb_unformatted_code) {\n",
       "                             nbb_cells[i].set_text(nbb_formatted_code);\n",
       "                        }\n",
       "                        break;\n",
       "                    }\n",
       "                }\n",
       "            }, 500);\n",
       "            "
      ],
      "text/plain": [
       "<IPython.core.display.Javascript object>"
      ]
     },
     "metadata": {},
     "output_type": "display_data"
    }
   ],
   "source": [
    "class YahooFinanceDownloader(BaseDownloader):\n",
    "    \"\"\"\n",
    "    Download Yahoo Finance data through opensignals.\n",
    "    https://github.com/councilofelders/opensignals\n",
    "\n",
    "    :param directory_path: Base folder to download files to.\n",
    "    \"\"\"\n",
    "\n",
    "    def __init__(self, directory_path: str, *args, **kwargs):\n",
    "        super(YahooFinanceDownloader, self).__init__(directory_path=directory_path)\n",
    "        self.api = SignalsAPI()\n",
    "        self.universe_url = self.api.TICKER_UNIVERSE_URL\n",
    "\n",
    "    def download_inference_data(self, *args, **kwargs):\n",
    "        \"\"\"(minimal) weekly inference downloading here.\"\"\"\n",
    "        last_friday = int(\n",
    "            str((datetime.now() + relativedelta(weekday=FR(-1))).date()).replace(\n",
    "                \"-\", \"\"\n",
    "            )\n",
    "        )\n",
    "        # yahoo.download_data(self.dir)\n",
    "\n",
    "    def download_training_data(self, *args, **kwargs):\n",
    "        \"\"\"Training dataset downloading here.\"\"\"\n",
    "        ..."
   ]
  },
  {
   "cell_type": "code",
   "execution_count": null,
   "metadata": {},
   "outputs": [
    {
     "data": {
      "text/html": [
       "<pre style=\"white-space:pre;overflow-x:auto;line-height:normal;font-family:Menlo,'DejaVu Sans Mono',consolas,'Courier New',monospace\">No existing directory found at <span style=\"color: #008000; text-decoration-color: #008000\">'</span><span style=\"color: #000080; text-decoration-color: #000080\">test_yahoo</span><span style=\"color: #008000; text-decoration-color: #008000\">'</span>. Creating directory<span style=\"color: #808000; text-decoration-color: #808000\">...</span>\n",
       "</pre>\n"
      ],
      "text/plain": [
       "No existing directory found at \u001b[32m'\u001b[0m\u001b[34mtest_yahoo\u001b[0m\u001b[32m'\u001b[0m. Creating directory\u001b[33m...\u001b[0m\n"
      ]
     },
     "metadata": {},
     "output_type": "display_data"
    },
    {
     "name": "stdout",
     "output_type": "stream",
     "text": [
      "Universe CSV path: https://numerai-signals-public-data.s3-us-west-2.amazonaws.com/latest_universe.csv\n"
     ]
    },
    {
     "data": {
      "text/html": [
       "<pre style=\"white-space:pre;overflow-x:auto;line-height:normal;font-family:Menlo,'DejaVu Sans Mono',consolas,'Courier New',monospace\">⚠ <span style=\"color: #800000; text-decoration-color: #800000\">Deleting directory for </span><span style=\"color: #800000; text-decoration-color: #800000\">'YahooFinanceDownloader</span><span style=\"color: #008000; text-decoration-color: #008000\">'</span> ⚠\n",
       "Path: <span style=\"color: #008000; text-decoration-color: #008000\">'/Users/clepelaars/Desktop/crowdcent/repositories/numerai-blocks/nbs/test_yahoo'</span>\n",
       "</pre>\n"
      ],
      "text/plain": [
       "⚠ \u001b[31mDeleting directory for \u001b[0m\u001b[31m'YahooFinanceDownloader\u001b[0m\u001b[32m'\u001b[0m ⚠\n",
       "Path: \u001b[32m'/Users/clepelaars/Desktop/crowdcent/repositories/numerai-blocks/nbs/test_yahoo'\u001b[0m\n"
      ]
     },
     "metadata": {},
     "output_type": "display_data"
    },
    {
     "data": {
      "application/javascript": [
       "\n",
       "            setTimeout(function() {\n",
       "                var nbb_cell_id = 15;\n",
       "                var nbb_unformatted_code = \"yfinance_downloader = YahooFinanceDownloader(\\\"test_yahoo\\\")\\nprint(f\\\"Universe CSV path: {yfinance_downloader.universe_url}\\\")\\n\\n# Remove folder (when done with inference)\\nyfinance_downloader.remove_base_directory()\";\n",
       "                var nbb_formatted_code = \"yfinance_downloader = YahooFinanceDownloader(\\\"test_yahoo\\\")\\nprint(f\\\"Universe CSV path: {yfinance_downloader.universe_url}\\\")\\n\\n# Remove folder (when done with inference)\\nyfinance_downloader.remove_base_directory()\";\n",
       "                var nbb_cells = Jupyter.notebook.get_cells();\n",
       "                for (var i = 0; i < nbb_cells.length; ++i) {\n",
       "                    if (nbb_cells[i].input_prompt_number == nbb_cell_id) {\n",
       "                        if (nbb_cells[i].get_text() == nbb_unformatted_code) {\n",
       "                             nbb_cells[i].set_text(nbb_formatted_code);\n",
       "                        }\n",
       "                        break;\n",
       "                    }\n",
       "                }\n",
       "            }, 500);\n",
       "            "
      ],
      "text/plain": [
       "<IPython.core.display.Javascript object>"
      ]
     },
     "metadata": {},
     "output_type": "display_data"
    }
   ],
   "source": [
    "yfinance_downloader = YahooFinanceDownloader(\"test_yahoo\")\n",
    "print(f\"Universe CSV path: {yfinance_downloader.universe_url}\")\n",
    "\n",
    "# Remove folder (when done with inference)\n",
    "yfinance_downloader.remove_base_directory()"
   ]
  },
  {
   "cell_type": "markdown",
   "metadata": {},
   "source": [
    "## 4. FinnHub"
   ]
  },
  {
   "cell_type": "code",
   "execution_count": null,
   "metadata": {},
   "outputs": [
    {
     "data": {
      "application/javascript": [
       "\n",
       "            setTimeout(function() {\n",
       "                var nbb_cell_id = 15;\n",
       "                var nbb_unformatted_code = \"yfinance_downloader = YahooFinanceDownloader(\\\"test_yahoo\\\")\\nprint(f\\\"Universe CSV path: {yfinance_downloader.universe_url}\\\")\\n\\n# Remove folder (when done with inference)\\nyfinance_downloader.remove_base_directory()\";\n",
       "                var nbb_formatted_code = \"yfinance_downloader = YahooFinanceDownloader(\\\"test_yahoo\\\")\\nprint(f\\\"Universe CSV path: {yfinance_downloader.universe_url}\\\")\\n\\n# Remove folder (when done with inference)\\nyfinance_downloader.remove_base_directory()\";\n",
       "                var nbb_cells = Jupyter.notebook.get_cells();\n",
       "                for (var i = 0; i < nbb_cells.length; ++i) {\n",
       "                    if (nbb_cells[i].input_prompt_number == nbb_cell_id) {\n",
       "                        if (nbb_cells[i].get_text() == nbb_unformatted_code) {\n",
       "                             nbb_cells[i].set_text(nbb_formatted_code);\n",
       "                        }\n",
       "                        break;\n",
       "                    }\n",
       "                }\n",
       "            }, 500);\n",
       "            "
      ],
      "text/plain": [
       "<IPython.core.display.Javascript object>"
      ]
     },
     "metadata": {},
     "output_type": "display_data"
    }
   ],
   "source": []
  },
  {
   "cell_type": "markdown",
   "metadata": {},
   "source": [
    "## 5. Custom Downloader"
   ]
  },
  {
   "cell_type": "markdown",
   "metadata": {},
   "source": [
    "We invite the Numerai Community to implement new downloaders using interesting APIs. This is especially important for creating innovative Numerai Signals models.\n",
    "\n",
    "A new Downloader can be created by inheriting from `BaseDownloader`. You should implement methods for `download_inference_data` and `download_training_data` so every downloader has a common interface."
   ]
  },
  {
   "cell_type": "code",
   "execution_count": null,
   "metadata": {},
   "outputs": [
    {
     "data": {
      "application/javascript": [
       "\n",
       "            setTimeout(function() {\n",
       "                var nbb_cell_id = 16;\n",
       "                var nbb_unformatted_code = \"class AwesomeCustomDownloader(BaseDownloader):\\n    \\\"\\\"\\\"\\n    - TEMPLATE -\\n    Download awesome financial data from who knows where.\\n\\n    :param directory_path: Base folder to download files to.\\n    \\\"\\\"\\\"\\n    def __init__(self, directory_path: str, *args, **kwargs):\\n        super(AwesomeCustomDownloader, self).__init__(directory_path=directory_path)\\n\\n    def download_inference_data(self, *args, **kwargs):\\n        \\\"\\\"\\\" (minimal) weekly inference downloading here. \\\"\\\"\\\"\\n        ...\\n\\n    def download_training_data(self, *args, **kwargs):\\n        \\\"\\\"\\\" Training + validation dataset downloading here. \\\"\\\"\\\"\\n        ...\";\n",
       "                var nbb_formatted_code = \"class AwesomeCustomDownloader(BaseDownloader):\\n    \\\"\\\"\\\"\\n    - TEMPLATE -\\n    Download awesome financial data from who knows where.\\n\\n    :param directory_path: Base folder to download files to.\\n    \\\"\\\"\\\"\\n\\n    def __init__(self, directory_path: str, *args, **kwargs):\\n        super(AwesomeCustomDownloader, self).__init__(directory_path=directory_path)\\n\\n    def download_inference_data(self, *args, **kwargs):\\n        \\\"\\\"\\\"(minimal) weekly inference downloading here.\\\"\\\"\\\"\\n        ...\\n\\n    def download_training_data(self, *args, **kwargs):\\n        \\\"\\\"\\\"Training + validation dataset downloading here.\\\"\\\"\\\"\\n        ...\";\n",
       "                var nbb_cells = Jupyter.notebook.get_cells();\n",
       "                for (var i = 0; i < nbb_cells.length; ++i) {\n",
       "                    if (nbb_cells[i].input_prompt_number == nbb_cell_id) {\n",
       "                        if (nbb_cells[i].get_text() == nbb_unformatted_code) {\n",
       "                             nbb_cells[i].set_text(nbb_formatted_code);\n",
       "                        }\n",
       "                        break;\n",
       "                    }\n",
       "                }\n",
       "            }, 500);\n",
       "            "
      ],
      "text/plain": [
       "<IPython.core.display.Javascript object>"
      ]
     },
     "metadata": {},
     "output_type": "display_data"
    }
   ],
   "source": [
    "class AwesomeCustomDownloader(BaseDownloader):\n",
    "    \"\"\"\n",
    "    - TEMPLATE -\n",
    "    Download awesome financial data from who knows where.\n",
    "\n",
    "    :param directory_path: Base folder to download files to.\n",
    "    \"\"\"\n",
    "\n",
    "    def __init__(self, directory_path: str, *args, **kwargs):\n",
    "        super(AwesomeCustomDownloader, self).__init__(directory_path=directory_path)\n",
    "\n",
    "    def download_inference_data(self, *args, **kwargs):\n",
    "        \"\"\"(minimal) weekly inference downloading here.\"\"\"\n",
    "        ...\n",
    "\n",
    "    def download_training_data(self, *args, **kwargs):\n",
    "        \"\"\"Training + validation dataset downloading here.\"\"\"\n",
    "        ..."
   ]
  },
  {
   "cell_type": "markdown",
   "metadata": {},
   "source": [
    "------------------------------------------------------------"
   ]
  },
  {
   "cell_type": "code",
   "execution_count": null,
   "metadata": {},
   "outputs": [
    {
     "name": "stdout",
     "output_type": "stream",
     "text": [
      "Converted 00_download.ipynb.\n",
      "Converted 01_dataloaders.ipynb.\n",
      "Converted 02_dataset.ipynb.\n",
      "Converted 03_preprocessing.ipynb.\n",
      "Converted 04a_model.ipynb.\n",
      "Converted 04b_modelpipeline.ipynb.\n",
      "Converted 05_postprocessing.ipynb.\n",
      "Converted 06_prediction_dataset.ipynb.\n",
      "Converted 07_evaluation.ipynb.\n",
      "Converted 08_key.ipynb.\n",
      "Converted 09_submission.ipynb.\n",
      "Converted index.ipynb.\n"
     ]
    },
    {
     "data": {
      "application/javascript": [
       "\n",
       "            setTimeout(function() {\n",
       "                var nbb_cell_id = 17;\n",
       "                var nbb_unformatted_code = \"#hide\\n# Run this cell to sync all changes with library\\nfrom nbdev.export import notebook2script; notebook2script()\";\n",
       "                var nbb_formatted_code = \"# hide\\n# Run this cell to sync all changes with library\\nfrom nbdev.export import notebook2script\\n\\nnotebook2script()\";\n",
       "                var nbb_cells = Jupyter.notebook.get_cells();\n",
       "                for (var i = 0; i < nbb_cells.length; ++i) {\n",
       "                    if (nbb_cells[i].input_prompt_number == nbb_cell_id) {\n",
       "                        if (nbb_cells[i].get_text() == nbb_unformatted_code) {\n",
       "                             nbb_cells[i].set_text(nbb_formatted_code);\n",
       "                        }\n",
       "                        break;\n",
       "                    }\n",
       "                }\n",
       "            }, 500);\n",
       "            "
      ],
      "text/plain": [
       "<IPython.core.display.Javascript object>"
      ]
     },
     "metadata": {},
     "output_type": "display_data"
    }
   ],
   "source": [
    "# hide\n",
    "# Run this cell to sync all changes with library\n",
    "from nbdev.export import notebook2script\n",
    "\n",
    "notebook2script()"
   ]
  },
  {
   "cell_type": "code",
   "execution_count": null,
   "metadata": {},
   "outputs": [],
   "source": []
  }
 ],
 "metadata": {
  "kernelspec": {
   "display_name": "Python 3",
   "language": "python",
   "name": "python3"
  }
 },
 "nbformat": 4,
 "nbformat_minor": 2
}
