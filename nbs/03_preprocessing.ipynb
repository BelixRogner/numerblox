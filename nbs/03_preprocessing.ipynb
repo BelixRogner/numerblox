{
 "cells": [
  {
   "cell_type": "code",
   "execution_count": null,
   "metadata": {},
   "outputs": [
    {
     "data": {
      "application/javascript": "\n            setTimeout(function() {\n                var nbb_cell_id = 1;\n                var nbb_unformatted_code = \"import pandas as pd\\n%load_ext autoreload\\n%autoreload 2\\n%load_ext nb_black\\n%load_ext lab_black\";\n                var nbb_formatted_code = \"import pandas as pd\\n\\n%load_ext autoreload\\n%autoreload 2\\n%load_ext nb_black\\n%load_ext lab_black\";\n                var nbb_cells = Jupyter.notebook.get_cells();\n                for (var i = 0; i < nbb_cells.length; ++i) {\n                    if (nbb_cells[i].input_prompt_number == nbb_cell_id) {\n                        if (nbb_cells[i].get_text() == nbb_unformatted_code) {\n                             nbb_cells[i].set_text(nbb_formatted_code);\n                        }\n                        break;\n                    }\n                }\n            }, 500);\n            ",
      "text/plain": "<IPython.core.display.Javascript object>"
     },
     "metadata": {},
     "output_type": "display_data"
    }
   ],
   "source": [
    "import pandas as pd\n",
    "%load_ext autoreload\n",
    "%autoreload 2\n",
    "%load_ext nb_black\n",
    "%load_ext lab_black"
   ]
  },
  {
   "cell_type": "code",
   "execution_count": null,
   "metadata": {},
   "outputs": [
    {
     "data": {
      "application/javascript": "\n            setTimeout(function() {\n                var nbb_cell_id = 2;\n                var nbb_unformatted_code = \"# default_exp preprocessing\";\n                var nbb_formatted_code = \"# default_exp preprocessing\";\n                var nbb_cells = Jupyter.notebook.get_cells();\n                for (var i = 0; i < nbb_cells.length; ++i) {\n                    if (nbb_cells[i].input_prompt_number == nbb_cell_id) {\n                        if (nbb_cells[i].get_text() == nbb_unformatted_code) {\n                             nbb_cells[i].set_text(nbb_formatted_code);\n                        }\n                        break;\n                    }\n                }\n            }, 500);\n            ",
      "text/plain": "<IPython.core.display.Javascript object>"
     },
     "metadata": {},
     "output_type": "display_data"
    }
   ],
   "source": [
    "# default_exp preprocessing"
   ]
  },
  {
   "cell_type": "markdown",
   "metadata": {},
   "source": [
    "# Preprocessing"
   ]
  },
  {
   "cell_type": "code",
   "execution_count": null,
   "metadata": {},
   "outputs": [
    {
     "data": {
      "application/javascript": "\n            setTimeout(function() {\n                var nbb_cell_id = 3;\n                var nbb_unformatted_code = \"# hide\\nfrom nbdev.showdoc import *\";\n                var nbb_formatted_code = \"# hide\\nfrom nbdev.showdoc import *\";\n                var nbb_cells = Jupyter.notebook.get_cells();\n                for (var i = 0; i < nbb_cells.length; ++i) {\n                    if (nbb_cells[i].input_prompt_number == nbb_cell_id) {\n                        if (nbb_cells[i].get_text() == nbb_unformatted_code) {\n                             nbb_cells[i].set_text(nbb_formatted_code);\n                        }\n                        break;\n                    }\n                }\n            }, 500);\n            ",
      "text/plain": "<IPython.core.display.Javascript object>"
     },
     "metadata": {},
     "output_type": "display_data"
    }
   ],
   "source": [
    "# hide\n",
    "from nbdev.showdoc import *"
   ]
  },
  {
   "cell_type": "code",
   "execution_count": null,
   "metadata": {},
   "outputs": [
    {
     "data": {
      "application/javascript": "\n            setTimeout(function() {\n                var nbb_cell_id = 4;\n                var nbb_unformatted_code = \"#export\\nimport uuid\\nimport inspect\\nimport numpy as np\\nimport pandas as pd\\nfrom functools import wraps\\nfrom typeguard import typechecked\\nfrom abc import ABC, abstractmethod\\n\\nfrom numerai_blocks.dataset import Dataset\";\n                var nbb_formatted_code = \"# export\\nimport uuid\\nimport inspect\\nimport numpy as np\\nimport pandas as pd\\nfrom functools import wraps\\nfrom typeguard import typechecked\\nfrom abc import ABC, abstractmethod\\n\\nfrom numerai_blocks.dataset import Dataset\";\n                var nbb_cells = Jupyter.notebook.get_cells();\n                for (var i = 0; i < nbb_cells.length; ++i) {\n                    if (nbb_cells[i].input_prompt_number == nbb_cell_id) {\n                        if (nbb_cells[i].get_text() == nbb_unformatted_code) {\n                             nbb_cells[i].set_text(nbb_formatted_code);\n                        }\n                        break;\n                    }\n                }\n            }, 500);\n            ",
      "text/plain": "<IPython.core.display.Javascript object>"
     },
     "metadata": {},
     "output_type": "display_data"
    }
   ],
   "source": [
    "#export\n",
    "import uuid\n",
    "import inspect\n",
    "import numpy as np\n",
    "import pandas as pd\n",
    "from functools import wraps\n",
    "from typeguard import typechecked\n",
    "from abc import ABC, abstractmethod\n",
    "\n",
    "from numerai_blocks.dataset import Dataset"
   ]
  },
  {
   "cell_type": "markdown",
   "metadata": {},
   "source": []
  },
  {
   "cell_type": "markdown",
   "metadata": {},
   "source": [
    "## 0.1. BaseProcessor"
   ]
  },
  {
   "cell_type": "code",
   "execution_count": null,
   "metadata": {},
   "outputs": [
    {
     "data": {
      "application/javascript": "\n            setTimeout(function() {\n                var nbb_cell_id = 5;\n                var nbb_unformatted_code = \"#export\\n@typechecked\\nclass BaseProcessor(ABC):\\n    def __init__(self):\\n        ...\\n\\n    @abstractmethod\\n    def transform(self, dataset: Dataset) -> Dataset:\\n        ...\\n\\n    def __call__(self, dataset: Dataset) -> Dataset:\\n        return self.transform(dataset=dataset)\";\n                var nbb_formatted_code = \"# export\\n@typechecked\\nclass BaseProcessor(ABC):\\n    def __init__(self):\\n        ...\\n\\n    @abstractmethod\\n    def transform(self, dataset: Dataset) -> Dataset:\\n        ...\\n\\n    def __call__(self, dataset: Dataset) -> Dataset:\\n        return self.transform(dataset=dataset)\";\n                var nbb_cells = Jupyter.notebook.get_cells();\n                for (var i = 0; i < nbb_cells.length; ++i) {\n                    if (nbb_cells[i].input_prompt_number == nbb_cell_id) {\n                        if (nbb_cells[i].get_text() == nbb_unformatted_code) {\n                             nbb_cells[i].set_text(nbb_formatted_code);\n                        }\n                        break;\n                    }\n                }\n            }, 500);\n            ",
      "text/plain": "<IPython.core.display.Javascript object>"
     },
     "metadata": {},
     "output_type": "display_data"
    }
   ],
   "source": [
    "#export\n",
    "@typechecked\n",
    "class BaseProcessor(ABC):\n",
    "    def __init__(self):\n",
    "        ...\n",
    "\n",
    "    @abstractmethod\n",
    "    def transform(self, dataset: Dataset) -> Dataset:\n",
    "        ...\n",
    "\n",
    "    def __call__(self, dataset: Dataset) -> Dataset:\n",
    "        return self.transform(dataset=dataset)"
   ]
  },
  {
   "cell_type": "markdown",
   "metadata": {},
   "source": [
    "## 0.2. Decorators"
   ]
  },
  {
   "cell_type": "code",
   "execution_count": null,
   "metadata": {},
   "outputs": [
    {
     "data": {
      "application/javascript": "\n            setTimeout(function() {\n                var nbb_cell_id = 6;\n                var nbb_unformatted_code = \"def support_dataf_processing(func):\\n    \\\"\\\"\\\"\\n    Make Dataset processor compatible with DataFrame input.\\n    :param func: Some function/method that takes Dataset as input\\n    and returns Dataset.\\n    \\\"\\\"\\\"\\n    @wraps(func)\\n    def wrapper(dataf: pd.DataFrame, *args, **kwargs) -> pd.DataFrame:\\n        return func(Dataset(dataf), *args, **kwargs).dataf\\n    return wrapper\";\n                var nbb_formatted_code = \"def support_dataf_processing(func):\\n    \\\"\\\"\\\"\\n    Make Dataset processor compatible with DataFrame input.\\n    :param func: Some function/method that takes Dataset as input\\n    and returns Dataset.\\n    \\\"\\\"\\\"\\n\\n    @wraps(func)\\n    def wrapper(dataf: pd.DataFrame, *args, **kwargs) -> pd.DataFrame:\\n        return func(Dataset(dataf), *args, **kwargs).dataf\\n\\n    return wrapper\";\n                var nbb_cells = Jupyter.notebook.get_cells();\n                for (var i = 0; i < nbb_cells.length; ++i) {\n                    if (nbb_cells[i].input_prompt_number == nbb_cell_id) {\n                        if (nbb_cells[i].get_text() == nbb_unformatted_code) {\n                             nbb_cells[i].set_text(nbb_formatted_code);\n                        }\n                        break;\n                    }\n                }\n            }, 500);\n            ",
      "text/plain": "<IPython.core.display.Javascript object>"
     },
     "metadata": {},
     "output_type": "display_data"
    }
   ],
   "source": [
    "def support_dataf_processing(func):\n",
    "    \"\"\"\n",
    "    Make Dataset processor compatible with DataFrame input.\n",
    "    :param func: Some function/method that takes Dataset as input\n",
    "    and returns Dataset.\n",
    "    \"\"\"\n",
    "    @wraps(func)\n",
    "    def wrapper(dataf: pd.DataFrame, *args, **kwargs) -> pd.DataFrame:\n",
    "        return func(Dataset(dataf), *args, **kwargs).dataf\n",
    "    return wrapper"
   ]
  },
  {
   "cell_type": "code",
   "execution_count": null,
   "metadata": {},
   "outputs": [
    {
     "data": {
      "application/javascript": "\n            setTimeout(function() {\n                var nbb_cell_id = 7;\n                var nbb_unformatted_code = \"def support_dataset_processing(func):\\n    \\\"\\\"\\\"\\n    Make existing DataFrame transformer compatible with Dataset input.\\n    :param func: Some function/method that takes Pandas DataFrame as input\\n    and return Pandas DataFrame.\\n    \\\"\\\"\\\"\\n    @wraps(func)\\n    def wrapper(dataset: Dataset, *args, **kwargs) -> Dataset:\\n        dataf_transform = func(dataset.dataf, *args, **kwargs)\\n        metadata = dataset.__dict__\\n        metadata.pop(\\\"dataf\\\", None)\\n        return Dataset(dataf_transform, metadata)\\n    return wrapper\";\n                var nbb_formatted_code = \"def support_dataset_processing(func):\\n    \\\"\\\"\\\"\\n    Make existing DataFrame transformer compatible with Dataset input.\\n    :param func: Some function/method that takes Pandas DataFrame as input\\n    and return Pandas DataFrame.\\n    \\\"\\\"\\\"\\n\\n    @wraps(func)\\n    def wrapper(dataset: Dataset, *args, **kwargs) -> Dataset:\\n        dataf_transform = func(dataset.dataf, *args, **kwargs)\\n        metadata = dataset.__dict__\\n        metadata.pop(\\\"dataf\\\", None)\\n        return Dataset(dataf_transform, metadata)\\n\\n    return wrapper\";\n                var nbb_cells = Jupyter.notebook.get_cells();\n                for (var i = 0; i < nbb_cells.length; ++i) {\n                    if (nbb_cells[i].input_prompt_number == nbb_cell_id) {\n                        if (nbb_cells[i].get_text() == nbb_unformatted_code) {\n                             nbb_cells[i].set_text(nbb_formatted_code);\n                        }\n                        break;\n                    }\n                }\n            }, 500);\n            ",
      "text/plain": "<IPython.core.display.Javascript object>"
     },
     "metadata": {},
     "output_type": "display_data"
    }
   ],
   "source": [
    "def support_dataset_processing(func):\n",
    "    \"\"\"\n",
    "    Make existing DataFrame transformer compatible with Dataset input.\n",
    "    :param func: Some function/method that takes Pandas DataFrame as input\n",
    "    and return Pandas DataFrame.\n",
    "    \"\"\"\n",
    "    @wraps(func)\n",
    "    def wrapper(dataset: Dataset, *args, **kwargs) -> Dataset:\n",
    "        dataf_transform = func(dataset.dataf, *args, **kwargs)\n",
    "        metadata = dataset.__dict__\n",
    "        metadata.pop(\"dataf\", None)\n",
    "        return Dataset(dataf_transform, metadata)\n",
    "    return wrapper"
   ]
  },
  {
   "cell_type": "markdown",
   "metadata": {},
   "source": [
    "### Decorator tests"
   ]
  },
  {
   "cell_type": "code",
   "execution_count": null,
   "metadata": {},
   "outputs": [
    {
     "data": {
      "application/javascript": "\n            setTimeout(function() {\n                var nbb_cell_id = 8;\n                var nbb_unformatted_code = \"# Random DataFrame\\ntest_features = [f\\\"feature_{l}\\\" for l in \\\"ABCDEFGHIK\\\"]\\nid_col = [uuid.uuid4().hex for _ in range(100)]\\ndf = pd.DataFrame(np.random.uniform(size=(100, 10)), columns=test_features)\\n\\ndef pandas_quad(df, col: str):\\n    \\\"\\\"\\\" Simple DataFrame function which takes gives column to power of 2. \\\"\\\"\\\"\\n    df_copy = df.copy()\\n    df_copy.loc[:, col] = df_copy[col].apply(lambda x: x ** 2)\\n    return df_copy\\n\\nclass QuadraticProcessor(BaseProcessor):\\n    \\\"\\\"\\\" Simple Dataset Processor which takes gives column to power of 2. \\\"\\\"\\\"\\n    def __init__(self):\\n        super(QuadraticProcessor, self).__init__()\\n\\n    def transform(self, dataset: Dataset, col=\\\"feature_A\\\") -> Dataset:\\n        dataset_copy = dataset.copy_dataset()\\n        dataset_copy.dataf.loc[:, col] = dataset_copy.dataf.pipe(self._quadratic)\\n        return Dataset(**dataset_copy.__dict__)\\n\\n    @staticmethod\\n    def _quadratic(dataf: pd.DataFrame):\\n        return dataf ** 2\\n\\n\\n@support_dataset_processing\\ndef test_dataf_with_dataset_input(dataset: Dataset, col=\\\"feature_A\\\") -> Dataset:\\n    return pandas_quad(dataset, col=col)\\n\\n@support_dataf_processing\\ndef test_dataset_with_dataf_input(dataf: pd.DataFrame, col=\\\"feature_A\\\") -> pd.DataFrame:\\n    return QuadraticProcessor().transform(dataset=dataf, col=col)\";\n                var nbb_formatted_code = \"# Random DataFrame\\ntest_features = [f\\\"feature_{l}\\\" for l in \\\"ABCDEFGHIK\\\"]\\nid_col = [uuid.uuid4().hex for _ in range(100)]\\ndf = pd.DataFrame(np.random.uniform(size=(100, 10)), columns=test_features)\\n\\n\\ndef pandas_quad(df, col: str):\\n    \\\"\\\"\\\"Simple DataFrame function which takes gives column to power of 2.\\\"\\\"\\\"\\n    df_copy = df.copy()\\n    df_copy.loc[:, col] = df_copy[col].apply(lambda x: x ** 2)\\n    return df_copy\\n\\n\\nclass QuadraticProcessor(BaseProcessor):\\n    \\\"\\\"\\\"Simple Dataset Processor which takes gives column to power of 2.\\\"\\\"\\\"\\n\\n    def __init__(self):\\n        super(QuadraticProcessor, self).__init__()\\n\\n    def transform(self, dataset: Dataset, col=\\\"feature_A\\\") -> Dataset:\\n        dataset_copy = dataset.copy_dataset()\\n        dataset_copy.dataf.loc[:, col] = dataset_copy.dataf.pipe(self._quadratic)\\n        return Dataset(**dataset_copy.__dict__)\\n\\n    @staticmethod\\n    def _quadratic(dataf: pd.DataFrame):\\n        return dataf ** 2\\n\\n\\n@support_dataset_processing\\ndef test_dataf_with_dataset_input(dataset: Dataset, col=\\\"feature_A\\\") -> Dataset:\\n    return pandas_quad(dataset, col=col)\\n\\n\\n@support_dataf_processing\\ndef test_dataset_with_dataf_input(dataf: pd.DataFrame, col=\\\"feature_A\\\") -> pd.DataFrame:\\n    return QuadraticProcessor().transform(dataset=dataf, col=col)\";\n                var nbb_cells = Jupyter.notebook.get_cells();\n                for (var i = 0; i < nbb_cells.length; ++i) {\n                    if (nbb_cells[i].input_prompt_number == nbb_cell_id) {\n                        if (nbb_cells[i].get_text() == nbb_unformatted_code) {\n                             nbb_cells[i].set_text(nbb_formatted_code);\n                        }\n                        break;\n                    }\n                }\n            }, 500);\n            ",
      "text/plain": "<IPython.core.display.Javascript object>"
     },
     "metadata": {},
     "output_type": "display_data"
    }
   ],
   "source": [
    "# Random DataFrame\n",
    "test_features = [f\"feature_{l}\" for l in \"ABCDEFGHIK\"]\n",
    "id_col = [uuid.uuid4().hex for _ in range(100)]\n",
    "df = pd.DataFrame(np.random.uniform(size=(100, 10)), columns=test_features)\n",
    "\n",
    "def pandas_quad(df, col: str):\n",
    "    \"\"\" Simple DataFrame function which takes gives column to power of 2. \"\"\"\n",
    "    df_copy = df.copy()\n",
    "    df_copy.loc[:, col] = df_copy[col].apply(lambda x: x ** 2)\n",
    "    return df_copy\n",
    "\n",
    "class QuadraticProcessor(BaseProcessor):\n",
    "    \"\"\" Simple Dataset Processor which takes gives column to power of 2. \"\"\"\n",
    "    def __init__(self):\n",
    "        super(QuadraticProcessor, self).__init__()\n",
    "\n",
    "    def transform(self, dataset: Dataset, col=\"feature_A\") -> Dataset:\n",
    "        dataset_copy = dataset.copy_dataset()\n",
    "        dataset_copy.dataf.loc[:, col] = dataset_copy.dataf.pipe(self._quadratic)\n",
    "        return Dataset(**dataset_copy.__dict__)\n",
    "\n",
    "    @staticmethod\n",
    "    def _quadratic(dataf: pd.DataFrame):\n",
    "        return dataf ** 2\n",
    "\n",
    "\n",
    "@support_dataset_processing\n",
    "def test_dataf_with_dataset_input(dataset: Dataset, col=\"feature_A\") -> Dataset:\n",
    "    return pandas_quad(dataset, col=col)\n",
    "\n",
    "@support_dataf_processing\n",
    "def test_dataset_with_dataf_input(dataf: pd.DataFrame, col=\"feature_A\") -> pd.DataFrame:\n",
    "    return QuadraticProcessor().transform(dataset=dataf, col=col)"
   ]
  },
  {
   "cell_type": "code",
   "execution_count": null,
   "metadata": {},
   "outputs": [
    {
     "data": {
      "text/plain": "0    0.625671\n1    0.952235\nName: feature_A, dtype: float64"
     },
     "execution_count": null,
     "metadata": {},
     "output_type": "execute_result"
    },
    {
     "data": {
      "application/javascript": "\n            setTimeout(function() {\n                var nbb_cell_id = 9;\n                var nbb_unformatted_code = \"df['feature_A'].head(2)\";\n                var nbb_formatted_code = \"df[\\\"feature_A\\\"].head(2)\";\n                var nbb_cells = Jupyter.notebook.get_cells();\n                for (var i = 0; i < nbb_cells.length; ++i) {\n                    if (nbb_cells[i].input_prompt_number == nbb_cell_id) {\n                        if (nbb_cells[i].get_text() == nbb_unformatted_code) {\n                             nbb_cells[i].set_text(nbb_formatted_code);\n                        }\n                        break;\n                    }\n                }\n            }, 500);\n            ",
      "text/plain": "<IPython.core.display.Javascript object>"
     },
     "metadata": {},
     "output_type": "display_data"
    }
   ],
   "source": [
    "df['feature_A'].head(2)"
   ]
  },
  {
   "cell_type": "code",
   "execution_count": null,
   "metadata": {},
   "outputs": [
    {
     "data": {
      "text/html": "<div>\n<style scoped>\n    .dataframe tbody tr th:only-of-type {\n        vertical-align: middle;\n    }\n\n    .dataframe tbody tr th {\n        vertical-align: top;\n    }\n\n    .dataframe thead th {\n        text-align: right;\n    }\n</style>\n<table border=\"1\" class=\"dataframe\">\n  <thead>\n    <tr style=\"text-align: right;\">\n      <th></th>\n      <th>feature_B</th>\n    </tr>\n  </thead>\n  <tbody>\n    <tr>\n      <th>0</th>\n      <td>0.659536</td>\n    </tr>\n    <tr>\n      <th>1</th>\n      <td>0.296588</td>\n    </tr>\n  </tbody>\n</table>\n</div>",
      "text/plain": "   feature_B\n0   0.659536\n1   0.296588"
     },
     "execution_count": null,
     "metadata": {},
     "output_type": "execute_result"
    },
    {
     "data": {
      "application/javascript": "\n            setTimeout(function() {\n                var nbb_cell_id = 10;\n                var nbb_unformatted_code = \"transformed_dataset = test_dataf_with_dataset_input(Dataset(df))\\ntransformed_dataset.get_column_selection('feature_B').head(2)\";\n                var nbb_formatted_code = \"transformed_dataset = test_dataf_with_dataset_input(Dataset(df))\\ntransformed_dataset.get_column_selection(\\\"feature_B\\\").head(2)\";\n                var nbb_cells = Jupyter.notebook.get_cells();\n                for (var i = 0; i < nbb_cells.length; ++i) {\n                    if (nbb_cells[i].input_prompt_number == nbb_cell_id) {\n                        if (nbb_cells[i].get_text() == nbb_unformatted_code) {\n                             nbb_cells[i].set_text(nbb_formatted_code);\n                        }\n                        break;\n                    }\n                }\n            }, 500);\n            ",
      "text/plain": "<IPython.core.display.Javascript object>"
     },
     "metadata": {},
     "output_type": "display_data"
    }
   ],
   "source": [
    "transformed_dataset = test_dataf_with_dataset_input(Dataset(df))\n",
    "transformed_dataset.get_column_selection('feature_B').head(2)"
   ]
  },
  {
   "cell_type": "code",
   "execution_count": null,
   "metadata": {},
   "outputs": [
    {
     "data": {
      "text/html": "<div>\n<style scoped>\n    .dataframe tbody tr th:only-of-type {\n        vertical-align: middle;\n    }\n\n    .dataframe tbody tr th {\n        vertical-align: top;\n    }\n\n    .dataframe thead th {\n        text-align: right;\n    }\n</style>\n<table border=\"1\" class=\"dataframe\">\n  <thead>\n    <tr style=\"text-align: right;\">\n      <th></th>\n      <th>feature_B</th>\n    </tr>\n  </thead>\n  <tbody>\n    <tr>\n      <th>0</th>\n      <td>0.659536</td>\n    </tr>\n    <tr>\n      <th>1</th>\n      <td>0.296588</td>\n    </tr>\n  </tbody>\n</table>\n</div>",
      "text/plain": "   feature_B\n0   0.659536\n1   0.296588"
     },
     "execution_count": null,
     "metadata": {},
     "output_type": "execute_result"
    },
    {
     "data": {
      "application/javascript": "\n            setTimeout(function() {\n                var nbb_cell_id = 11;\n                var nbb_unformatted_code = \"transformed_df = test_dataset_with_dataf_input(df)\\ntransformed_df.loc[:, ['feature_B']].head(2)\";\n                var nbb_formatted_code = \"transformed_df = test_dataset_with_dataf_input(df)\\ntransformed_df.loc[:, [\\\"feature_B\\\"]].head(2)\";\n                var nbb_cells = Jupyter.notebook.get_cells();\n                for (var i = 0; i < nbb_cells.length; ++i) {\n                    if (nbb_cells[i].input_prompt_number == nbb_cell_id) {\n                        if (nbb_cells[i].get_text() == nbb_unformatted_code) {\n                             nbb_cells[i].set_text(nbb_formatted_code);\n                        }\n                        break;\n                    }\n                }\n            }, 500);\n            ",
      "text/plain": "<IPython.core.display.Javascript object>"
     },
     "metadata": {},
     "output_type": "display_data"
    }
   ],
   "source": [
    "transformed_df = test_dataset_with_dataf_input(df)\n",
    "transformed_df.loc[:, ['feature_B']].head(2)"
   ]
  },
  {
   "cell_type": "code",
   "execution_count": null,
   "metadata": {},
   "outputs": [
    {
     "data": {
      "application/javascript": "\n            setTimeout(function() {\n                var nbb_cell_id = 12;\n                var nbb_unformatted_code = \"assert transformed_dataset.get_column_selection('feature_B').equals(transformed_df.loc[:, ['feature_B']])\";\n                var nbb_formatted_code = \"assert transformed_dataset.get_column_selection(\\\"feature_B\\\").equals(\\n    transformed_df.loc[:, [\\\"feature_B\\\"]]\\n)\";\n                var nbb_cells = Jupyter.notebook.get_cells();\n                for (var i = 0; i < nbb_cells.length; ++i) {\n                    if (nbb_cells[i].input_prompt_number == nbb_cell_id) {\n                        if (nbb_cells[i].get_text() == nbb_unformatted_code) {\n                             nbb_cells[i].set_text(nbb_formatted_code);\n                        }\n                        break;\n                    }\n                }\n            }, 500);\n            ",
      "text/plain": "<IPython.core.display.Javascript object>"
     },
     "metadata": {},
     "output_type": "display_data"
    }
   ],
   "source": [
    "assert transformed_dataset.get_column_selection('feature_B').equals(transformed_df.loc[:, ['feature_B']])"
   ]
  },
  {
   "cell_type": "markdown",
   "metadata": {},
   "source": [
    "-------------------------------------------"
   ]
  },
  {
   "cell_type": "code",
   "execution_count": null,
   "metadata": {},
   "outputs": [
    {
     "name": "stdout",
     "output_type": "stream",
     "text": [
      "Converted 00_download.ipynb.\n",
      "Converted 01_dataloaders.ipynb.\n",
      "Converted 02_dataset.ipynb.\n",
      "Converted 03_preprocessing.ipynb.\n",
      "Converted 04a_model.ipynb.\n",
      "Converted 04b_modelpipeline.ipynb.\n",
      "Converted 05_postprocessing.ipynb.\n",
      "Converted 06_prediction_dataset.ipynb.\n",
      "Converted 07_evaluation.ipynb.\n",
      "Converted 08_key.ipynb.\n",
      "Converted 09_submission.ipynb.\n",
      "Converted 10_staker.ipynb.\n",
      "Converted index.ipynb.\n"
     ]
    },
    {
     "data": {
      "application/javascript": "\n            setTimeout(function() {\n                var nbb_cell_id = 13;\n                var nbb_unformatted_code = \"# hide\\n# Run this cell to sync all changes with library\\nfrom nbdev.export import notebook2script\\n\\nnotebook2script()\";\n                var nbb_formatted_code = \"# hide\\n# Run this cell to sync all changes with library\\nfrom nbdev.export import notebook2script\\n\\nnotebook2script()\";\n                var nbb_cells = Jupyter.notebook.get_cells();\n                for (var i = 0; i < nbb_cells.length; ++i) {\n                    if (nbb_cells[i].input_prompt_number == nbb_cell_id) {\n                        if (nbb_cells[i].get_text() == nbb_unformatted_code) {\n                             nbb_cells[i].set_text(nbb_formatted_code);\n                        }\n                        break;\n                    }\n                }\n            }, 500);\n            ",
      "text/plain": "<IPython.core.display.Javascript object>"
     },
     "metadata": {},
     "output_type": "display_data"
    }
   ],
   "source": [
    "# hide\n",
    "# Run this cell to sync all changes with library\n",
    "from nbdev.export import notebook2script\n",
    "\n",
    "notebook2script()"
   ]
  },
  {
   "cell_type": "code",
   "execution_count": null,
   "metadata": {},
   "outputs": [
    {
     "data": {
      "application/javascript": "\n            setTimeout(function() {\n                var nbb_cell_id = 13;\n                var nbb_unformatted_code = \"# hide\\n# Run this cell to sync all changes with library\\nfrom nbdev.export import notebook2script\\n\\nnotebook2script()\";\n                var nbb_formatted_code = \"# hide\\n# Run this cell to sync all changes with library\\nfrom nbdev.export import notebook2script\\n\\nnotebook2script()\";\n                var nbb_cells = Jupyter.notebook.get_cells();\n                for (var i = 0; i < nbb_cells.length; ++i) {\n                    if (nbb_cells[i].input_prompt_number == nbb_cell_id) {\n                        if (nbb_cells[i].get_text() == nbb_unformatted_code) {\n                             nbb_cells[i].set_text(nbb_formatted_code);\n                        }\n                        break;\n                    }\n                }\n            }, 500);\n            ",
      "text/plain": "<IPython.core.display.Javascript object>"
     },
     "metadata": {},
     "output_type": "display_data"
    }
   ],
   "source": []
  }
 ],
 "metadata": {
  "kernelspec": {
   "display_name": "Python 3",
   "language": "python",
   "name": "python3"
  }
 },
 "nbformat": 4,
 "nbformat_minor": 0
}
