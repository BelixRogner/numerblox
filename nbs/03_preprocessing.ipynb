{
 "cells": [
  {
   "cell_type": "code",
   "execution_count": null,
   "metadata": {},
   "outputs": [
    {
     "data": {
      "application/javascript": "\n            setTimeout(function() {\n                var nbb_cell_id = 1;\n                var nbb_unformatted_code = \"%load_ext autoreload\\n%autoreload 2\\n%load_ext nb_black\\n%load_ext lab_black\";\n                var nbb_formatted_code = \"%load_ext autoreload\\n%autoreload 2\\n%load_ext nb_black\\n%load_ext lab_black\";\n                var nbb_cells = Jupyter.notebook.get_cells();\n                for (var i = 0; i < nbb_cells.length; ++i) {\n                    if (nbb_cells[i].input_prompt_number == nbb_cell_id) {\n                        if (nbb_cells[i].get_text() == nbb_unformatted_code) {\n                             nbb_cells[i].set_text(nbb_formatted_code);\n                        }\n                        break;\n                    }\n                }\n            }, 500);\n            ",
      "text/plain": "<IPython.core.display.Javascript object>"
     },
     "metadata": {},
     "output_type": "display_data"
    }
   ],
   "source": [
    "%load_ext autoreload\n",
    "%autoreload 2\n",
    "%load_ext nb_black\n",
    "%load_ext lab_black"
   ]
  },
  {
   "cell_type": "code",
   "execution_count": null,
   "metadata": {},
   "outputs": [
    {
     "data": {
      "application/javascript": "\n            setTimeout(function() {\n                var nbb_cell_id = 2;\n                var nbb_unformatted_code = \"# default_exp preprocessing\";\n                var nbb_formatted_code = \"# default_exp preprocessing\";\n                var nbb_cells = Jupyter.notebook.get_cells();\n                for (var i = 0; i < nbb_cells.length; ++i) {\n                    if (nbb_cells[i].input_prompt_number == nbb_cell_id) {\n                        if (nbb_cells[i].get_text() == nbb_unformatted_code) {\n                             nbb_cells[i].set_text(nbb_formatted_code);\n                        }\n                        break;\n                    }\n                }\n            }, 500);\n            ",
      "text/plain": "<IPython.core.display.Javascript object>"
     },
     "metadata": {},
     "output_type": "display_data"
    }
   ],
   "source": [
    "# default_exp preprocessing"
   ]
  },
  {
   "cell_type": "markdown",
   "metadata": {},
   "source": [
    "# Preprocessing"
   ]
  },
  {
   "cell_type": "code",
   "execution_count": null,
   "metadata": {},
   "outputs": [
    {
     "data": {
      "application/javascript": "\n            setTimeout(function() {\n                var nbb_cell_id = 3;\n                var nbb_unformatted_code = \"# hide\\nfrom nbdev.showdoc import *\";\n                var nbb_formatted_code = \"# hide\\nfrom nbdev.showdoc import *\";\n                var nbb_cells = Jupyter.notebook.get_cells();\n                for (var i = 0; i < nbb_cells.length; ++i) {\n                    if (nbb_cells[i].input_prompt_number == nbb_cell_id) {\n                        if (nbb_cells[i].get_text() == nbb_unformatted_code) {\n                             nbb_cells[i].set_text(nbb_formatted_code);\n                        }\n                        break;\n                    }\n                }\n            }, 500);\n            ",
      "text/plain": "<IPython.core.display.Javascript object>"
     },
     "metadata": {},
     "output_type": "display_data"
    }
   ],
   "source": [
    "# hide\n",
    "from nbdev.showdoc import *"
   ]
  },
  {
   "cell_type": "code",
   "execution_count": null,
   "metadata": {},
   "outputs": [
    {
     "data": {
      "application/javascript": "\n            setTimeout(function() {\n                var nbb_cell_id = 4;\n                var nbb_unformatted_code = \"#export\\nimport uuid\\nimport time\\nimport numpy as np\\nimport pandas as pd\\nimport datetime as dt\\nfrom typing import Union\\nfrom functools import wraps\\nfrom typeguard import typechecked\\nfrom abc import ABC, abstractmethod\\nfrom rich import print as rich_print\\n\\nfrom numerai_blocks.dataset import Dataset, create_dataset\";\n                var nbb_formatted_code = \"# export\\nimport uuid\\nimport time\\nimport numpy as np\\nimport pandas as pd\\nimport datetime as dt\\nfrom typing import Union\\nfrom functools import wraps\\nfrom typeguard import typechecked\\nfrom abc import ABC, abstractmethod\\nfrom rich import print as rich_print\\n\\nfrom numerai_blocks.dataset import Dataset, create_dataset\";\n                var nbb_cells = Jupyter.notebook.get_cells();\n                for (var i = 0; i < nbb_cells.length; ++i) {\n                    if (nbb_cells[i].input_prompt_number == nbb_cell_id) {\n                        if (nbb_cells[i].get_text() == nbb_unformatted_code) {\n                             nbb_cells[i].set_text(nbb_formatted_code);\n                        }\n                        break;\n                    }\n                }\n            }, 500);\n            ",
      "text/plain": "<IPython.core.display.Javascript object>"
     },
     "metadata": {},
     "output_type": "display_data"
    }
   ],
   "source": [
    "#export\n",
    "import uuid\n",
    "import time\n",
    "import numpy as np\n",
    "import pandas as pd\n",
    "import datetime as dt\n",
    "from typing import Union\n",
    "from functools import wraps\n",
    "from typeguard import typechecked\n",
    "from abc import ABC, abstractmethod\n",
    "from rich import print as rich_print\n",
    "\n",
    "from numerai_blocks.dataset import Dataset, create_dataset"
   ]
  },
  {
   "cell_type": "markdown",
   "metadata": {},
   "source": [
    "## 0. Base"
   ]
  },
  {
   "cell_type": "markdown",
   "metadata": {},
   "source": []
  },
  {
   "cell_type": "markdown",
   "metadata": {},
   "source": [
    "### 0.1. BaseProcessor"
   ]
  },
  {
   "cell_type": "code",
   "execution_count": null,
   "metadata": {},
   "outputs": [
    {
     "data": {
      "application/javascript": "\n            setTimeout(function() {\n                var nbb_cell_id = 5;\n                var nbb_unformatted_code = \"#export\\n@typechecked\\nclass BaseProcessor(ABC):\\n    \\\"\\\"\\\"\\n    New Preprocessors and Postprocessors should inherit from this object\\n    and implement the transform method.\\n    \\\"\\\"\\\"\\n    def __init__(self):\\n        ...\\n\\n    @abstractmethod\\n    def transform(self, dataset: Dataset, *args, **kwargs) -> Dataset:\\n        ...\\n\\n    def __call__(self, dataset: Dataset, *args, **kwargs) -> Dataset:\\n        return self.transform(dataset=dataset, *args, **kwargs)\";\n                var nbb_formatted_code = \"# export\\n@typechecked\\nclass BaseProcessor(ABC):\\n    \\\"\\\"\\\"\\n    New Preprocessors and Postprocessors should inherit from this object\\n    and implement the transform method.\\n    \\\"\\\"\\\"\\n\\n    def __init__(self):\\n        ...\\n\\n    @abstractmethod\\n    def transform(self, dataset: Dataset, *args, **kwargs) -> Dataset:\\n        ...\\n\\n    def __call__(self, dataset: Dataset, *args, **kwargs) -> Dataset:\\n        return self.transform(dataset=dataset, *args, **kwargs)\";\n                var nbb_cells = Jupyter.notebook.get_cells();\n                for (var i = 0; i < nbb_cells.length; ++i) {\n                    if (nbb_cells[i].input_prompt_number == nbb_cell_id) {\n                        if (nbb_cells[i].get_text() == nbb_unformatted_code) {\n                             nbb_cells[i].set_text(nbb_formatted_code);\n                        }\n                        break;\n                    }\n                }\n            }, 500);\n            ",
      "text/plain": "<IPython.core.display.Javascript object>"
     },
     "metadata": {},
     "output_type": "display_data"
    }
   ],
   "source": [
    "#export\n",
    "@typechecked\n",
    "class BaseProcessor(ABC):\n",
    "    \"\"\"\n",
    "    New Preprocessors and Postprocessors should inherit from this object\n",
    "    and implement the transform method.\n",
    "    \"\"\"\n",
    "    def __init__(self):\n",
    "        ...\n",
    "\n",
    "    @abstractmethod\n",
    "    def transform(self, dataset: Dataset, *args, **kwargs) -> Dataset:\n",
    "        ...\n",
    "\n",
    "    def __call__(self, dataset: Dataset, *args, **kwargs) -> Dataset:\n",
    "        return self.transform(dataset=dataset, *args, **kwargs)"
   ]
  },
  {
   "cell_type": "markdown",
   "metadata": {},
   "source": [
    "### 0.2. Decorators"
   ]
  },
  {
   "cell_type": "markdown",
   "metadata": {},
   "source": [
    "You might have preprocessing functions that work with Pandas DataFrames and want to make them compatible with `numerai-blocks` `Dataset`s. This can be done by adding a single decorator (`support_dataset_processing`) to a method where you call a DataFrame function."
   ]
  },
  {
   "cell_type": "code",
   "execution_count": null,
   "metadata": {},
   "outputs": [
    {
     "data": {
      "application/javascript": "\n            setTimeout(function() {\n                var nbb_cell_id = 6;\n                var nbb_unformatted_code = \"def support_dataset_processing(func):\\n    \\\"\\\"\\\"\\n    Make existing DataFrame transformer compatible with Dataset input.\\n    :param func: Some function/method that takes Pandas DataFrame as input\\n    and return Pandas DataFrame.\\n    \\\"\\\"\\\"\\n    @wraps(func)\\n    def wrapper(dataset: Dataset, *args, **kwargs) -> Dataset:\\n        dataf_transform = func(dataset.dataf, *args, **kwargs)\\n        metadata = dataset.__dict__\\n        metadata.pop(\\\"dataf\\\", None)\\n        return Dataset(dataf_transform, metadata)\\n    return wrapper\";\n                var nbb_formatted_code = \"def support_dataset_processing(func):\\n    \\\"\\\"\\\"\\n    Make existing DataFrame transformer compatible with Dataset input.\\n    :param func: Some function/method that takes Pandas DataFrame as input\\n    and return Pandas DataFrame.\\n    \\\"\\\"\\\"\\n\\n    @wraps(func)\\n    def wrapper(dataset: Dataset, *args, **kwargs) -> Dataset:\\n        dataf_transform = func(dataset.dataf, *args, **kwargs)\\n        metadata = dataset.__dict__\\n        metadata.pop(\\\"dataf\\\", None)\\n        return Dataset(dataf_transform, metadata)\\n\\n    return wrapper\";\n                var nbb_cells = Jupyter.notebook.get_cells();\n                for (var i = 0; i < nbb_cells.length; ++i) {\n                    if (nbb_cells[i].input_prompt_number == nbb_cell_id) {\n                        if (nbb_cells[i].get_text() == nbb_unformatted_code) {\n                             nbb_cells[i].set_text(nbb_formatted_code);\n                        }\n                        break;\n                    }\n                }\n            }, 500);\n            ",
      "text/plain": "<IPython.core.display.Javascript object>"
     },
     "metadata": {},
     "output_type": "display_data"
    }
   ],
   "source": [
    "def support_dataset_processing(func):\n",
    "    \"\"\"\n",
    "    Make existing DataFrame transformer compatible with Dataset input.\n",
    "    :param func: Some function/method that takes Pandas DataFrame as input\n",
    "    and return Pandas DataFrame.\n",
    "    \"\"\"\n",
    "    @wraps(func)\n",
    "    def wrapper(dataset: Dataset, *args, **kwargs) -> Dataset:\n",
    "        dataf_transform = func(dataset.dataf, *args, **kwargs)\n",
    "        metadata = dataset.__dict__\n",
    "        metadata.pop(\"dataf\", None)\n",
    "        return Dataset(dataf_transform, metadata)\n",
    "    return wrapper"
   ]
  },
  {
   "cell_type": "markdown",
   "metadata": {},
   "source": [
    "#### Decorator example + tests."
   ]
  },
  {
   "cell_type": "code",
   "execution_count": null,
   "metadata": {},
   "outputs": [
    {
     "data": {
      "application/javascript": "\n            setTimeout(function() {\n                var nbb_cell_id = 7;\n                var nbb_unformatted_code = \"# Random DataFrame\\ntest_features = [f\\\"feature_{l}\\\" for l in \\\"ABCDEFGHIK\\\"]\\nid_col = [uuid.uuid4().hex for _ in range(100)]\\ndf = pd.DataFrame(np.random.uniform(size=(100, 10)), columns=test_features)\\n\\ndef pandas_quad(df: pd.DataFrame, col: str):\\n    \\\"\\\"\\\" Simple DataFrame function which takes gives column to power of 2. \\\"\\\"\\\"\\n    df_copy = df.copy()\\n    df_copy.loc[:, col] = df_copy.loc[:, col].apply(lambda x: x ** 2)\\n    return df_copy\\n\\n@support_dataset_processing\\ndef test_dataf_with_dataset_input(dataset: Dataset, col: str) -> Dataset:\\n    \\\"\\\"\\\" Put Dataset through function that normally only accepts Pandas DataFrame. \\\"\\\"\\\"\\n    return pandas_quad(dataset, col=col)\";\n                var nbb_formatted_code = \"# Random DataFrame\\ntest_features = [f\\\"feature_{l}\\\" for l in \\\"ABCDEFGHIK\\\"]\\nid_col = [uuid.uuid4().hex for _ in range(100)]\\ndf = pd.DataFrame(np.random.uniform(size=(100, 10)), columns=test_features)\\n\\n\\ndef pandas_quad(df: pd.DataFrame, col: str):\\n    \\\"\\\"\\\"Simple DataFrame function which takes gives column to power of 2.\\\"\\\"\\\"\\n    df_copy = df.copy()\\n    df_copy.loc[:, col] = df_copy.loc[:, col].apply(lambda x: x ** 2)\\n    return df_copy\\n\\n\\n@support_dataset_processing\\ndef test_dataf_with_dataset_input(dataset: Dataset, col: str) -> Dataset:\\n    \\\"\\\"\\\"Put Dataset through function that normally only accepts Pandas DataFrame.\\\"\\\"\\\"\\n    return pandas_quad(dataset, col=col)\";\n                var nbb_cells = Jupyter.notebook.get_cells();\n                for (var i = 0; i < nbb_cells.length; ++i) {\n                    if (nbb_cells[i].input_prompt_number == nbb_cell_id) {\n                        if (nbb_cells[i].get_text() == nbb_unformatted_code) {\n                             nbb_cells[i].set_text(nbb_formatted_code);\n                        }\n                        break;\n                    }\n                }\n            }, 500);\n            ",
      "text/plain": "<IPython.core.display.Javascript object>"
     },
     "metadata": {},
     "output_type": "display_data"
    }
   ],
   "source": [
    "# Random DataFrame\n",
    "test_features = [f\"feature_{l}\" for l in \"ABCDEFGHIK\"]\n",
    "id_col = [uuid.uuid4().hex for _ in range(100)]\n",
    "df = pd.DataFrame(np.random.uniform(size=(100, 10)), columns=test_features)\n",
    "\n",
    "def pandas_quad(df: pd.DataFrame, col: str):\n",
    "    \"\"\" Simple DataFrame function which takes gives column to power of 2. \"\"\"\n",
    "    df_copy = df.copy()\n",
    "    df_copy.loc[:, col] = df_copy.loc[:, col].apply(lambda x: x ** 2)\n",
    "    return df_copy\n",
    "\n",
    "@support_dataset_processing\n",
    "def test_dataf_with_dataset_input(dataset: Dataset, col: str) -> Dataset:\n",
    "    \"\"\" Put Dataset through function that normally only accepts Pandas DataFrame. \"\"\"\n",
    "    return pandas_quad(dataset, col=col)"
   ]
  },
  {
   "cell_type": "markdown",
   "metadata": {},
   "source": [
    "The function `test_dataf_with_dataset_input` will behave as a `Dataset` preprocessor even though the function called within normally only accepts Pandas DataFrames.\n",
    "\n",
    "`transform_method_1` and `transform_method_2` will there lead to the same result."
   ]
  },
  {
   "cell_type": "code",
   "execution_count": null,
   "metadata": {},
   "outputs": [
    {
     "data": {
      "application/javascript": "\n            setTimeout(function() {\n                var nbb_cell_id = 8;\n                var nbb_unformatted_code = \"feature_to_transform = \\\"feature_B\\\"\\ntransform_method_1 = test_dataf_with_dataset_input(Dataset(df), col=feature_to_transform).get_column_selection(feature_to_transform).round(8)\\ntransform_method_2 = pandas_quad(df, col=feature_to_transform).loc[:, [feature_to_transform]].round(8)\\n\\nassert transform_method_1.equals(transform_method_2)\";\n                var nbb_formatted_code = \"feature_to_transform = \\\"feature_B\\\"\\ntransform_method_1 = (\\n    test_dataf_with_dataset_input(Dataset(df), col=feature_to_transform)\\n    .get_column_selection(feature_to_transform)\\n    .round(8)\\n)\\ntransform_method_2 = (\\n    pandas_quad(df, col=feature_to_transform).loc[:, [feature_to_transform]].round(8)\\n)\\n\\nassert transform_method_1.equals(transform_method_2)\";\n                var nbb_cells = Jupyter.notebook.get_cells();\n                for (var i = 0; i < nbb_cells.length; ++i) {\n                    if (nbb_cells[i].input_prompt_number == nbb_cell_id) {\n                        if (nbb_cells[i].get_text() == nbb_unformatted_code) {\n                             nbb_cells[i].set_text(nbb_formatted_code);\n                        }\n                        break;\n                    }\n                }\n            }, 500);\n            ",
      "text/plain": "<IPython.core.display.Javascript object>"
     },
     "metadata": {},
     "output_type": "display_data"
    }
   ],
   "source": [
    "feature_to_transform = \"feature_B\"\n",
    "transform_method_1 = test_dataf_with_dataset_input(Dataset(df), col=feature_to_transform).get_column_selection(feature_to_transform).round(8)\n",
    "transform_method_2 = pandas_quad(df, col=feature_to_transform).loc[:, [feature_to_transform]].round(8)\n",
    "\n",
    "assert transform_method_1.equals(transform_method_2)"
   ]
  },
  {
   "cell_type": "markdown",
   "metadata": {},
   "source": [
    "### 0.3. Logging"
   ]
  },
  {
   "cell_type": "markdown",
   "metadata": {},
   "source": [
    "We would like to keep an overview of which steps are done in a data pipeline and where processing bottlenecks occur.\n",
    "The decorator below will display:\n",
    "1. When a step has finished.\n",
    "2. What the output shape of the data is.\n",
    "3. How long the step took to finish\n",
    "\n",
    "Note that this wrapper only works for methods that return a `Dataset` object as a result. All implemented preprocessors, models and postprocessors have this property.\n",
    "\n",
    "To use this functionality, simply add `@display_processor_info` as a decorator to the function/method you want to track."
   ]
  },
  {
   "cell_type": "code",
   "execution_count": null,
   "metadata": {},
   "outputs": [
    {
     "data": {
      "application/javascript": "\n            setTimeout(function() {\n                var nbb_cell_id = 9;\n                var nbb_unformatted_code = \"#export\\ndef display_processor_info(func):\\n    \\\"\\\"\\\" Fancy console output for data processing. \\\"\\\"\\\"\\n    @wraps(func)\\n    def wrapper(*args, **kwargs):\\n        tic = dt.datetime.now()\\n        result = func(*args, **kwargs)\\n        time_taken = str(dt.datetime.now() - tic)\\n        class_name = func.__qualname__.split('.')[0]\\n        rich_print(f\\\":white_check_mark: Finished step [bold]{class_name}[/bold]. Output shape={result.dataf.shape}. Time taken for step: [blue]{time_taken}[/blue]. :white_check_mark:\\\")\\n        return result\\n    return wrapper\";\n                var nbb_formatted_code = \"# export\\ndef display_processor_info(func):\\n    \\\"\\\"\\\"Fancy console output for data processing.\\\"\\\"\\\"\\n\\n    @wraps(func)\\n    def wrapper(*args, **kwargs):\\n        tic = dt.datetime.now()\\n        result = func(*args, **kwargs)\\n        time_taken = str(dt.datetime.now() - tic)\\n        class_name = func.__qualname__.split(\\\".\\\")[0]\\n        rich_print(\\n            f\\\":white_check_mark: Finished step [bold]{class_name}[/bold]. Output shape={result.dataf.shape}. Time taken for step: [blue]{time_taken}[/blue]. :white_check_mark:\\\"\\n        )\\n        return result\\n\\n    return wrapper\";\n                var nbb_cells = Jupyter.notebook.get_cells();\n                for (var i = 0; i < nbb_cells.length; ++i) {\n                    if (nbb_cells[i].input_prompt_number == nbb_cell_id) {\n                        if (nbb_cells[i].get_text() == nbb_unformatted_code) {\n                             nbb_cells[i].set_text(nbb_formatted_code);\n                        }\n                        break;\n                    }\n                }\n            }, 500);\n            ",
      "text/plain": "<IPython.core.display.Javascript object>"
     },
     "metadata": {},
     "output_type": "display_data"
    }
   ],
   "source": [
    "#export\n",
    "def display_processor_info(func):\n",
    "    \"\"\" Fancy console output for data processing. \"\"\"\n",
    "    @wraps(func)\n",
    "    def wrapper(*args, **kwargs):\n",
    "        tic = dt.datetime.now()\n",
    "        result = func(*args, **kwargs)\n",
    "        time_taken = str(dt.datetime.now() - tic)\n",
    "        class_name = func.__qualname__.split('.')[0]\n",
    "        rich_print(f\":white_check_mark: Finished step [bold]{class_name}[/bold]. Output shape={result.dataf.shape}. Time taken for step: [blue]{time_taken}[/blue]. :white_check_mark:\")\n",
    "        return result\n",
    "    return wrapper"
   ]
  },
  {
   "cell_type": "code",
   "execution_count": null,
   "metadata": {},
   "outputs": [
    {
     "data": {
      "text/html": "<pre style=\"white-space:pre;overflow-x:auto;line-height:normal;font-family:Menlo,'DejaVu Sans Mono',consolas,'Courier New',monospace\">✅ Finished step <span style=\"font-weight: bold\">TestDisplay</span>. Output <span style=\"color: #808000; text-decoration-color: #808000\">shape</span>=<span style=\"font-weight: bold\">(</span><span style=\"color: #008080; text-decoration-color: #008080; font-weight: bold\">10</span>, <span style=\"color: #008080; text-decoration-color: #008080; font-weight: bold\">314</span><span style=\"font-weight: bold\">)</span>. Time taken for step: <span style=\"color: #000080; text-decoration-color: #000080; font-weight: bold\">0:00:02</span><span style=\"color: #000080; text-decoration-color: #000080\">.</span><span style=\"color: #000080; text-decoration-color: #000080; font-weight: bold\">000904</span>. ✅\n</pre>\n",
      "text/plain": "✅ Finished step \u001b[1mTestDisplay\u001b[0m. Output \u001b[33mshape\u001b[0m=\u001b[1m(\u001b[0m\u001b[1;36m10\u001b[0m, \u001b[1;36m314\u001b[0m\u001b[1m)\u001b[0m. Time taken for step: \u001b[1;34m0:00:02\u001b[0m\u001b[34m.\u001b[0m\u001b[1;34m000904\u001b[0m. ✅\n"
     },
     "metadata": {},
     "output_type": "display_data"
    },
    {
     "data": {
      "application/javascript": "\n            setTimeout(function() {\n                var nbb_cell_id = 10;\n                var nbb_unformatted_code = \"class TestDisplay:\\n    def __init__(self, dataset: Dataset):\\n        self.dataset = dataset\\n    @display_processor_info\\n    def test(self) -> Dataset:\\n        time.sleep(2)\\n        return self.dataset\\n\\ndataset = create_dataset(\\\"test_assets/mini_numerai_version_1_data.csv\\\")\\nTestDisplay(dataset).test();\";\n                var nbb_formatted_code = \"class TestDisplay:\\n    def __init__(self, dataset: Dataset):\\n        self.dataset = dataset\\n\\n    @display_processor_info\\n    def test(self) -> Dataset:\\n        time.sleep(2)\\n        return self.dataset\\n\\n\\ndataset = create_dataset(\\\"test_assets/mini_numerai_version_1_data.csv\\\")\\nTestDisplay(dataset).test()\";\n                var nbb_cells = Jupyter.notebook.get_cells();\n                for (var i = 0; i < nbb_cells.length; ++i) {\n                    if (nbb_cells[i].input_prompt_number == nbb_cell_id) {\n                        if (nbb_cells[i].get_text() == nbb_unformatted_code) {\n                             nbb_cells[i].set_text(nbb_formatted_code);\n                        }\n                        break;\n                    }\n                }\n            }, 500);\n            ",
      "text/plain": "<IPython.core.display.Javascript object>"
     },
     "metadata": {},
     "output_type": "display_data"
    }
   ],
   "source": [
    "class TestDisplay:\n",
    "    def __init__(self, dataset: Dataset):\n",
    "        self.dataset = dataset\n",
    "    @display_processor_info\n",
    "    def test(self) -> Dataset:\n",
    "        time.sleep(2)\n",
    "        return self.dataset\n",
    "\n",
    "dataset = create_dataset(\"test_assets/mini_numerai_version_1_data.csv\")\n",
    "TestDisplay(dataset).test();"
   ]
  },
  {
   "cell_type": "markdown",
   "metadata": {},
   "source": []
  },
  {
   "cell_type": "markdown",
   "metadata": {},
   "source": [
    "## 1. Common preprocessing steps\n"
   ]
  },
  {
   "cell_type": "code",
   "execution_count": null,
   "metadata": {},
   "outputs": [
    {
     "data": {
      "application/javascript": "\n            setTimeout(function() {\n                var nbb_cell_id = 11;\n                var nbb_unformatted_code = \"dataset = create_dataset(\\\"test_assets/mini_numerai_version_1_data.csv\\\", version=1)\";\n                var nbb_formatted_code = \"dataset = create_dataset(\\\"test_assets/mini_numerai_version_1_data.csv\\\", version=1)\";\n                var nbb_cells = Jupyter.notebook.get_cells();\n                for (var i = 0; i < nbb_cells.length; ++i) {\n                    if (nbb_cells[i].input_prompt_number == nbb_cell_id) {\n                        if (nbb_cells[i].get_text() == nbb_unformatted_code) {\n                             nbb_cells[i].set_text(nbb_formatted_code);\n                        }\n                        break;\n                    }\n                }\n            }, 500);\n            ",
      "text/plain": "<IPython.core.display.Javascript object>"
     },
     "metadata": {},
     "output_type": "display_data"
    }
   ],
   "source": [
    "dataset = create_dataset(\"test_assets/mini_numerai_version_1_data.csv\", version=1)"
   ]
  },
  {
   "cell_type": "code",
   "execution_count": null,
   "metadata": {},
   "outputs": [
    {
     "data": {
      "text/plain": "['feature_intelligence1',\n 'feature_intelligence2',\n 'feature_intelligence3',\n 'feature_intelligence4',\n 'feature_intelligence5',\n 'feature_intelligence6',\n 'feature_intelligence7',\n 'feature_intelligence8',\n 'feature_intelligence9',\n 'feature_intelligence10',\n 'feature_intelligence11',\n 'feature_intelligence12',\n 'feature_charisma1',\n 'feature_charisma2',\n 'feature_charisma3',\n 'feature_charisma4',\n 'feature_charisma5',\n 'feature_charisma6',\n 'feature_charisma7',\n 'feature_charisma8',\n 'feature_charisma9',\n 'feature_charisma10',\n 'feature_charisma11',\n 'feature_charisma12',\n 'feature_charisma13',\n 'feature_charisma14',\n 'feature_charisma15',\n 'feature_charisma16',\n 'feature_charisma17',\n 'feature_charisma18',\n 'feature_charisma19',\n 'feature_charisma20',\n 'feature_charisma21',\n 'feature_charisma22',\n 'feature_charisma23',\n 'feature_charisma24',\n 'feature_charisma25',\n 'feature_charisma26',\n 'feature_charisma27',\n 'feature_charisma28',\n 'feature_charisma29',\n 'feature_charisma30',\n 'feature_charisma31',\n 'feature_charisma32',\n 'feature_charisma33',\n 'feature_charisma34',\n 'feature_charisma35',\n 'feature_charisma36',\n 'feature_charisma37',\n 'feature_charisma38',\n 'feature_charisma39',\n 'feature_charisma40',\n 'feature_charisma41',\n 'feature_charisma42',\n 'feature_charisma43',\n 'feature_charisma44',\n 'feature_charisma45',\n 'feature_charisma46',\n 'feature_charisma47',\n 'feature_charisma48',\n 'feature_charisma49',\n 'feature_charisma50',\n 'feature_charisma51',\n 'feature_charisma52',\n 'feature_charisma53',\n 'feature_charisma54',\n 'feature_charisma55',\n 'feature_charisma56',\n 'feature_charisma57',\n 'feature_charisma58',\n 'feature_charisma59',\n 'feature_charisma60',\n 'feature_charisma61',\n 'feature_charisma62',\n 'feature_charisma63',\n 'feature_charisma64',\n 'feature_charisma65',\n 'feature_charisma66',\n 'feature_charisma67',\n 'feature_charisma68',\n 'feature_charisma69',\n 'feature_charisma70',\n 'feature_charisma71',\n 'feature_charisma72',\n 'feature_charisma73',\n 'feature_charisma74',\n 'feature_charisma75',\n 'feature_charisma76',\n 'feature_charisma77',\n 'feature_charisma78',\n 'feature_charisma79',\n 'feature_charisma80',\n 'feature_charisma81',\n 'feature_charisma82',\n 'feature_charisma83',\n 'feature_charisma84',\n 'feature_charisma85',\n 'feature_charisma86',\n 'feature_strength1',\n 'feature_strength2',\n 'feature_strength3',\n 'feature_strength4',\n 'feature_strength5',\n 'feature_strength6',\n 'feature_strength7',\n 'feature_strength8',\n 'feature_strength9',\n 'feature_strength10',\n 'feature_strength11',\n 'feature_strength12',\n 'feature_strength13',\n 'feature_strength14',\n 'feature_strength15',\n 'feature_strength16',\n 'feature_strength17',\n 'feature_strength18',\n 'feature_strength19',\n 'feature_strength20',\n 'feature_strength21',\n 'feature_strength22',\n 'feature_strength23',\n 'feature_strength24',\n 'feature_strength25',\n 'feature_strength26',\n 'feature_strength27',\n 'feature_strength28',\n 'feature_strength29',\n 'feature_strength30',\n 'feature_strength31',\n 'feature_strength32',\n 'feature_strength33',\n 'feature_strength34',\n 'feature_strength35',\n 'feature_strength36',\n 'feature_strength37',\n 'feature_strength38',\n 'feature_dexterity1',\n 'feature_dexterity2',\n 'feature_dexterity3',\n 'feature_dexterity4',\n 'feature_dexterity5',\n 'feature_dexterity6',\n 'feature_dexterity7',\n 'feature_dexterity8',\n 'feature_dexterity9',\n 'feature_dexterity10',\n 'feature_dexterity11',\n 'feature_dexterity12',\n 'feature_dexterity13',\n 'feature_dexterity14',\n 'feature_constitution1',\n 'feature_constitution2',\n 'feature_constitution3',\n 'feature_constitution4',\n 'feature_constitution5',\n 'feature_constitution6',\n 'feature_constitution7',\n 'feature_constitution8',\n 'feature_constitution9',\n 'feature_constitution10',\n 'feature_constitution11',\n 'feature_constitution12',\n 'feature_constitution13',\n 'feature_constitution14',\n 'feature_constitution15',\n 'feature_constitution16',\n 'feature_constitution17',\n 'feature_constitution18',\n 'feature_constitution19',\n 'feature_constitution20',\n 'feature_constitution21',\n 'feature_constitution22',\n 'feature_constitution23',\n 'feature_constitution24',\n 'feature_constitution25',\n 'feature_constitution26',\n 'feature_constitution27',\n 'feature_constitution28',\n 'feature_constitution29',\n 'feature_constitution30',\n 'feature_constitution31',\n 'feature_constitution32',\n 'feature_constitution33',\n 'feature_constitution34',\n 'feature_constitution35',\n 'feature_constitution36',\n 'feature_constitution37',\n 'feature_constitution38',\n 'feature_constitution39',\n 'feature_constitution40',\n 'feature_constitution41',\n 'feature_constitution42',\n 'feature_constitution43',\n 'feature_constitution44',\n 'feature_constitution45',\n 'feature_constitution46',\n 'feature_constitution47',\n 'feature_constitution48',\n 'feature_constitution49',\n 'feature_constitution50',\n 'feature_constitution51',\n 'feature_constitution52',\n 'feature_constitution53',\n 'feature_constitution54',\n 'feature_constitution55',\n 'feature_constitution56',\n 'feature_constitution57',\n 'feature_constitution58',\n 'feature_constitution59',\n 'feature_constitution60',\n 'feature_constitution61',\n 'feature_constitution62',\n 'feature_constitution63',\n 'feature_constitution64',\n 'feature_constitution65',\n 'feature_constitution66',\n 'feature_constitution67',\n 'feature_constitution68',\n 'feature_constitution69',\n 'feature_constitution70',\n 'feature_constitution71',\n 'feature_constitution72',\n 'feature_constitution73',\n 'feature_constitution74',\n 'feature_constitution75',\n 'feature_constitution76',\n 'feature_constitution77',\n 'feature_constitution78',\n 'feature_constitution79',\n 'feature_constitution80',\n 'feature_constitution81',\n 'feature_constitution82',\n 'feature_constitution83',\n 'feature_constitution84',\n 'feature_constitution85',\n 'feature_constitution86',\n 'feature_constitution87',\n 'feature_constitution88',\n 'feature_constitution89',\n 'feature_constitution90',\n 'feature_constitution91',\n 'feature_constitution92',\n 'feature_constitution93',\n 'feature_constitution94',\n 'feature_constitution95',\n 'feature_constitution96',\n 'feature_constitution97',\n 'feature_constitution98',\n 'feature_constitution99',\n 'feature_constitution100',\n 'feature_constitution101',\n 'feature_constitution102',\n 'feature_constitution103',\n 'feature_constitution104',\n 'feature_constitution105',\n 'feature_constitution106',\n 'feature_constitution107',\n 'feature_constitution108',\n 'feature_constitution109',\n 'feature_constitution110',\n 'feature_constitution111',\n 'feature_constitution112',\n 'feature_constitution113',\n 'feature_constitution114',\n 'feature_wisdom1',\n 'feature_wisdom2',\n 'feature_wisdom3',\n 'feature_wisdom4',\n 'feature_wisdom5',\n 'feature_wisdom6',\n 'feature_wisdom7',\n 'feature_wisdom8',\n 'feature_wisdom9',\n 'feature_wisdom10',\n 'feature_wisdom11',\n 'feature_wisdom12',\n 'feature_wisdom13',\n 'feature_wisdom14',\n 'feature_wisdom15',\n 'feature_wisdom16',\n 'feature_wisdom17',\n 'feature_wisdom18',\n 'feature_wisdom19',\n 'feature_wisdom20',\n 'feature_wisdom21',\n 'feature_wisdom22',\n 'feature_wisdom23',\n 'feature_wisdom24',\n 'feature_wisdom25',\n 'feature_wisdom26',\n 'feature_wisdom27',\n 'feature_wisdom28',\n 'feature_wisdom29',\n 'feature_wisdom30',\n 'feature_wisdom31',\n 'feature_wisdom32',\n 'feature_wisdom33',\n 'feature_wisdom34',\n 'feature_wisdom35',\n 'feature_wisdom36',\n 'feature_wisdom37',\n 'feature_wisdom38',\n 'feature_wisdom39',\n 'feature_wisdom40',\n 'feature_wisdom41',\n 'feature_wisdom42',\n 'feature_wisdom43',\n 'feature_wisdom44',\n 'feature_wisdom45',\n 'feature_wisdom46']"
     },
     "execution_count": null,
     "metadata": {},
     "output_type": "execute_result"
    },
    {
     "data": {
      "application/javascript": "\n            setTimeout(function() {\n                var nbb_cell_id = 12;\n                var nbb_unformatted_code = \"dataset.feature_cols\";\n                var nbb_formatted_code = \"dataset.feature_cols\";\n                var nbb_cells = Jupyter.notebook.get_cells();\n                for (var i = 0; i < nbb_cells.length; ++i) {\n                    if (nbb_cells[i].input_prompt_number == nbb_cell_id) {\n                        if (nbb_cells[i].get_text() == nbb_unformatted_code) {\n                             nbb_cells[i].set_text(nbb_formatted_code);\n                        }\n                        break;\n                    }\n                }\n            }, 500);\n            ",
      "text/plain": "<IPython.core.display.Javascript object>"
     },
     "metadata": {},
     "output_type": "display_data"
    }
   ],
   "source": [
    "dataset.feature_cols"
   ]
  },
  {
   "cell_type": "markdown",
   "metadata": {},
   "source": [
    "### Version agnostic"
   ]
  },
  {
   "cell_type": "code",
   "execution_count": null,
   "metadata": {},
   "outputs": [
    {
     "data": {
      "application/javascript": "\n            setTimeout(function() {\n                var nbb_cell_id = 13;\n                var nbb_unformatted_code = \"#export\\n@typechecked\\nclass CopyPreProcessor(BaseProcessor):\\n    \\\"\\\"\\\"Copy DataFrame to avoid manipulation of original DataFrame. \\\"\\\"\\\"\\n    def __init__(self):\\n        super(CopyPreProcessor, self).__init__()\\n\\n    @display_processor_info\\n    def transform(self, dataset: Dataset, *args, **kwargs) -> Dataset:\\n        return dataset.copy_dataset()\";\n                var nbb_formatted_code = \"# export\\n@typechecked\\nclass CopyPreProcessor(BaseProcessor):\\n    \\\"\\\"\\\"Copy DataFrame to avoid manipulation of original DataFrame.\\\"\\\"\\\"\\n\\n    def __init__(self):\\n        super(CopyPreProcessor, self).__init__()\\n\\n    @display_processor_info\\n    def transform(self, dataset: Dataset, *args, **kwargs) -> Dataset:\\n        return dataset.copy_dataset()\";\n                var nbb_cells = Jupyter.notebook.get_cells();\n                for (var i = 0; i < nbb_cells.length; ++i) {\n                    if (nbb_cells[i].input_prompt_number == nbb_cell_id) {\n                        if (nbb_cells[i].get_text() == nbb_unformatted_code) {\n                             nbb_cells[i].set_text(nbb_formatted_code);\n                        }\n                        break;\n                    }\n                }\n            }, 500);\n            ",
      "text/plain": "<IPython.core.display.Javascript object>"
     },
     "metadata": {},
     "output_type": "display_data"
    }
   ],
   "source": [
    "#export\n",
    "@typechecked\n",
    "class CopyPreProcessor(BaseProcessor):\n",
    "    \"\"\"Copy DataFrame to avoid manipulation of original DataFrame. \"\"\"\n",
    "    def __init__(self):\n",
    "        super(CopyPreProcessor, self).__init__()\n",
    "\n",
    "    @display_processor_info\n",
    "    def transform(self, dataset: Dataset, *args, **kwargs) -> Dataset:\n",
    "        return dataset.copy_dataset()"
   ]
  },
  {
   "cell_type": "code",
   "execution_count": null,
   "metadata": {},
   "outputs": [
    {
     "data": {
      "text/html": "<pre style=\"white-space:pre;overflow-x:auto;line-height:normal;font-family:Menlo,'DejaVu Sans Mono',consolas,'Courier New',monospace\">✅ Finished step <span style=\"font-weight: bold\">CopyPreProcessor</span>. Output <span style=\"color: #808000; text-decoration-color: #808000\">shape</span>=<span style=\"font-weight: bold\">(</span><span style=\"color: #008080; text-decoration-color: #008080; font-weight: bold\">10</span>, <span style=\"color: #008080; text-decoration-color: #008080; font-weight: bold\">314</span><span style=\"font-weight: bold\">)</span>. Time taken for step: \n<span style=\"color: #000080; text-decoration-color: #000080; font-weight: bold\">0:00:00</span><span style=\"color: #000080; text-decoration-color: #000080\">.</span><span style=\"color: #000080; text-decoration-color: #000080; font-weight: bold\">000691</span>. ✅\n</pre>\n",
      "text/plain": "✅ Finished step \u001b[1mCopyPreProcessor\u001b[0m. Output \u001b[33mshape\u001b[0m=\u001b[1m(\u001b[0m\u001b[1;36m10\u001b[0m, \u001b[1;36m314\u001b[0m\u001b[1m)\u001b[0m. Time taken for step: \n\u001b[1;34m0:00:00\u001b[0m\u001b[34m.\u001b[0m\u001b[1;34m000691\u001b[0m. ✅\n"
     },
     "metadata": {},
     "output_type": "display_data"
    },
    {
     "data": {
      "application/javascript": "\n            setTimeout(function() {\n                var nbb_cell_id = 14;\n                var nbb_unformatted_code = \"copied_dataset = CopyPreProcessor().transform(dataset)\\nassert copied_dataset.dataf.equals(dataset.dataf)\\nassert dataset.version, dataset.multi_target == (copied_dataset.version, copied_dataset.multi_target)\";\n                var nbb_formatted_code = \"copied_dataset = CopyPreProcessor().transform(dataset)\\nassert copied_dataset.dataf.equals(dataset.dataf)\\nassert dataset.version, dataset.multi_target == (\\n    copied_dataset.version,\\n    copied_dataset.multi_target,\\n)\";\n                var nbb_cells = Jupyter.notebook.get_cells();\n                for (var i = 0; i < nbb_cells.length; ++i) {\n                    if (nbb_cells[i].input_prompt_number == nbb_cell_id) {\n                        if (nbb_cells[i].get_text() == nbb_unformatted_code) {\n                             nbb_cells[i].set_text(nbb_formatted_code);\n                        }\n                        break;\n                    }\n                }\n            }, 500);\n            ",
      "text/plain": "<IPython.core.display.Javascript object>"
     },
     "metadata": {},
     "output_type": "display_data"
    }
   ],
   "source": [
    "copied_dataset = CopyPreProcessor().transform(dataset)\n",
    "assert copied_dataset.dataf.equals(dataset.dataf)\n",
    "assert dataset.version, dataset.multi_target == (copied_dataset.version, copied_dataset.multi_target)"
   ]
  },
  {
   "cell_type": "code",
   "execution_count": null,
   "metadata": {},
   "outputs": [
    {
     "data": {
      "application/javascript": "\n            setTimeout(function() {\n                var nbb_cell_id = 15;\n                var nbb_unformatted_code = \"#export\\n@typechecked\\nclass FeatureSelectionPreProcessor(BaseProcessor):\\n    \\\"\\\"\\\"\\n    Keep only features given + all target, predictions and aux columns.\\n    \\\"\\\"\\\"\\n    def __init__(self, feature_cols: Union[str, list]):\\n        super(FeatureSelectionPreProcessor, self).__init__()\\n        self.feature_cols = feature_cols\\n\\n    @display_processor_info\\n    def transform(self, dataset: Dataset) -> Dataset:\\n        keep_cols = self.feature_cols + dataset.target_cols + dataset.prediction_cols + dataset.aux_cols\\n        dataset.dataf = dataset.dataf.loc[:, keep_cols]\\n        return Dataset(**dataset.__dict__)\";\n                var nbb_formatted_code = \"# export\\n@typechecked\\nclass FeatureSelectionPreProcessor(BaseProcessor):\\n    \\\"\\\"\\\"\\n    Keep only features given + all target, predictions and aux columns.\\n    \\\"\\\"\\\"\\n\\n    def __init__(self, feature_cols: Union[str, list]):\\n        super(FeatureSelectionPreProcessor, self).__init__()\\n        self.feature_cols = feature_cols\\n\\n    @display_processor_info\\n    def transform(self, dataset: Dataset) -> Dataset:\\n        keep_cols = (\\n            self.feature_cols\\n            + dataset.target_cols\\n            + dataset.prediction_cols\\n            + dataset.aux_cols\\n        )\\n        dataset.dataf = dataset.dataf.loc[:, keep_cols]\\n        return Dataset(**dataset.__dict__)\";\n                var nbb_cells = Jupyter.notebook.get_cells();\n                for (var i = 0; i < nbb_cells.length; ++i) {\n                    if (nbb_cells[i].input_prompt_number == nbb_cell_id) {\n                        if (nbb_cells[i].get_text() == nbb_unformatted_code) {\n                             nbb_cells[i].set_text(nbb_formatted_code);\n                        }\n                        break;\n                    }\n                }\n            }, 500);\n            ",
      "text/plain": "<IPython.core.display.Javascript object>"
     },
     "metadata": {},
     "output_type": "display_data"
    }
   ],
   "source": [
    "#export\n",
    "@typechecked\n",
    "class FeatureSelectionPreProcessor(BaseProcessor):\n",
    "    \"\"\"\n",
    "    Keep only features given + all target, predictions and aux columns.\n",
    "    \"\"\"\n",
    "    def __init__(self, feature_cols: Union[str, list]):\n",
    "        super(FeatureSelectionPreProcessor, self).__init__()\n",
    "        self.feature_cols = feature_cols\n",
    "\n",
    "    @display_processor_info\n",
    "    def transform(self, dataset: Dataset) -> Dataset:\n",
    "        keep_cols = self.feature_cols + dataset.target_cols + dataset.prediction_cols + dataset.aux_cols\n",
    "        dataset.dataf = dataset.dataf.loc[:, keep_cols]\n",
    "        return Dataset(**dataset.__dict__)"
   ]
  },
  {
   "cell_type": "code",
   "execution_count": null,
   "metadata": {},
   "outputs": [
    {
     "data": {
      "text/html": "<pre style=\"white-space:pre;overflow-x:auto;line-height:normal;font-family:Menlo,'DejaVu Sans Mono',consolas,'Courier New',monospace\">✅ Finished step <span style=\"font-weight: bold\">FeatureSelectionPreProcessor</span>. Output <span style=\"color: #808000; text-decoration-color: #808000\">shape</span>=<span style=\"font-weight: bold\">(</span><span style=\"color: #008080; text-decoration-color: #008080; font-weight: bold\">10</span>, <span style=\"color: #008080; text-decoration-color: #008080; font-weight: bold\">5</span><span style=\"font-weight: bold\">)</span>. Time taken for step: \n<span style=\"color: #000080; text-decoration-color: #000080; font-weight: bold\">0:00:00</span><span style=\"color: #000080; text-decoration-color: #000080\">.</span><span style=\"color: #000080; text-decoration-color: #000080; font-weight: bold\">000649</span>. ✅\n</pre>\n",
      "text/plain": "✅ Finished step \u001b[1mFeatureSelectionPreProcessor\u001b[0m. Output \u001b[33mshape\u001b[0m=\u001b[1m(\u001b[0m\u001b[1;36m10\u001b[0m, \u001b[1;36m5\u001b[0m\u001b[1m)\u001b[0m. Time taken for step: \n\u001b[1;34m0:00:00\u001b[0m\u001b[34m.\u001b[0m\u001b[1;34m000649\u001b[0m. ✅\n"
     },
     "metadata": {},
     "output_type": "display_data"
    },
    {
     "data": {
      "application/javascript": "\n            setTimeout(function() {\n                var nbb_cell_id = 16;\n                var nbb_unformatted_code = \"selected_dataset = FeatureSelectionPreProcessor(feature_cols=['feature_wisdom1']).transform(dataset)\\nassert selected_dataset.get_feature_data.shape[1] == 1\\nassert dataset.version, dataset.multi_target == (selected_dataset.version, selected_dataset.multi_target)\";\n                var nbb_formatted_code = \"selected_dataset = FeatureSelectionPreProcessor(\\n    feature_cols=[\\\"feature_wisdom1\\\"]\\n).transform(dataset)\\nassert selected_dataset.get_feature_data.shape[1] == 1\\nassert dataset.version, dataset.multi_target == (\\n    selected_dataset.version,\\n    selected_dataset.multi_target,\\n)\";\n                var nbb_cells = Jupyter.notebook.get_cells();\n                for (var i = 0; i < nbb_cells.length; ++i) {\n                    if (nbb_cells[i].input_prompt_number == nbb_cell_id) {\n                        if (nbb_cells[i].get_text() == nbb_unformatted_code) {\n                             nbb_cells[i].set_text(nbb_formatted_code);\n                        }\n                        break;\n                    }\n                }\n            }, 500);\n            ",
      "text/plain": "<IPython.core.display.Javascript object>"
     },
     "metadata": {},
     "output_type": "display_data"
    }
   ],
   "source": [
    "selected_dataset = FeatureSelectionPreProcessor(feature_cols=['feature_wisdom1']).transform(dataset)\n",
    "assert selected_dataset.get_feature_data.shape[1] == 1\n",
    "assert dataset.version, dataset.multi_target == (selected_dataset.version, selected_dataset.multi_target)"
   ]
  },
  {
   "cell_type": "code",
   "execution_count": null,
   "metadata": {},
   "outputs": [
    {
     "data": {
      "text/html": "<div>\n<style scoped>\n    .dataframe tbody tr th:only-of-type {\n        vertical-align: middle;\n    }\n\n    .dataframe tbody tr th {\n        vertical-align: top;\n    }\n\n    .dataframe thead th {\n        text-align: right;\n    }\n</style>\n<table border=\"1\" class=\"dataframe\">\n  <thead>\n    <tr style=\"text-align: right;\">\n      <th></th>\n      <th>feature_wisdom1</th>\n      <th>target</th>\n      <th>id</th>\n      <th>era</th>\n      <th>data_type</th>\n    </tr>\n  </thead>\n  <tbody>\n    <tr>\n      <th>0</th>\n      <td>0.25</td>\n      <td>0.50</td>\n      <td>n000315175b67977</td>\n      <td>era1</td>\n      <td>train</td>\n    </tr>\n    <tr>\n      <th>1</th>\n      <td>0.50</td>\n      <td>0.25</td>\n      <td>n0014af834a96cdd</td>\n      <td>era1</td>\n      <td>train</td>\n    </tr>\n  </tbody>\n</table>\n</div>",
      "text/plain": "   feature_wisdom1  target                id   era data_type\n0             0.25    0.50  n000315175b67977  era1     train\n1             0.50    0.25  n0014af834a96cdd  era1     train"
     },
     "execution_count": null,
     "metadata": {},
     "output_type": "execute_result"
    },
    {
     "data": {
      "application/javascript": "\n            setTimeout(function() {\n                var nbb_cell_id = 17;\n                var nbb_unformatted_code = \"selected_dataset.dataf.head(2)\";\n                var nbb_formatted_code = \"selected_dataset.dataf.head(2)\";\n                var nbb_cells = Jupyter.notebook.get_cells();\n                for (var i = 0; i < nbb_cells.length; ++i) {\n                    if (nbb_cells[i].input_prompt_number == nbb_cell_id) {\n                        if (nbb_cells[i].get_text() == nbb_unformatted_code) {\n                             nbb_cells[i].set_text(nbb_formatted_code);\n                        }\n                        break;\n                    }\n                }\n            }, 500);\n            ",
      "text/plain": "<IPython.core.display.Javascript object>"
     },
     "metadata": {},
     "output_type": "display_data"
    }
   ],
   "source": [
    "selected_dataset.dataf.head(2)"
   ]
  },
  {
   "cell_type": "markdown",
   "metadata": {},
   "source": [
    "### Version 1 specific"
   ]
  },
  {
   "cell_type": "code",
   "execution_count": null,
   "metadata": {},
   "outputs": [
    {
     "data": {
      "application/javascript": "\n            setTimeout(function() {\n                var nbb_cell_id = 18;\n                var nbb_unformatted_code = \"#export\\n@typechecked\\nclass GroupStatsPreProcessor(BaseProcessor):\\n    \\\"\\\"\\\"\\n    WARNING: Only supported for Version 1 (legacy) data.\\n    Calculate group statistics for all data groups.\\n    \\\"\\\"\\\"\\n    def __init__(self):\\n        super(GroupStatsPreProcessor, self).__init__()\\n        self.group_names = [\\\"intelligence\\\", \\\"wisdom\\\", \\\"charisma\\\",\\n                            \\\"dexterity\\\", \\\"strength\\\", \\\"constitution\\\"]\\n\\n    @display_processor_info\\n    def transform(self, dataset: Dataset, *args, **kwargs) -> Dataset:\\n        self._check_data_validity(dataset=dataset)\\n        dataset.dataf = dataset.dataf.pipe(self._add_group_features)\\n        return Dataset(**dataset.__dict__)\\n\\n    def _add_group_features(self, dataf: pd.DataFrame) -> pd.DataFrame:\\n        \\\"\\\"\\\" Mean, standard deviation and skew for each group. \\\"\\\"\\\"\\n        for group in self.group_names:\\n            cols = [col for col in dataf.columns if group in col]\\n            dataf[f\\\"feature_{group}_mean\\\"] = dataf[cols].mean(axis=1)\\n            dataf[f\\\"feature_{group}_std\\\"] = dataf[cols].std(axis=1)\\n            dataf[f\\\"feature_{group}_skew\\\"] = dataf[cols].skew(axis=1)\\n        return dataf\\n\\n    def _check_data_validity(self, dataset: Dataset):\\n        assert hasattr(dataset, 'version'), f\\\"Version should be specified for '{self.__class__.__name__}' This Preprocessor will only work on version 1 data.\\\"\\n        assert getattr(dataset, 'version') == 1, f\\\"'{self.__class__.__name__}' only works on version 1 data. Got version: '{getattr(dataset, 'version')}'.\\\"\";\n                var nbb_formatted_code = \"# export\\n@typechecked\\nclass GroupStatsPreProcessor(BaseProcessor):\\n    \\\"\\\"\\\"\\n    WARNING: Only supported for Version 1 (legacy) data.\\n    Calculate group statistics for all data groups.\\n    \\\"\\\"\\\"\\n\\n    def __init__(self):\\n        super(GroupStatsPreProcessor, self).__init__()\\n        self.group_names = [\\n            \\\"intelligence\\\",\\n            \\\"wisdom\\\",\\n            \\\"charisma\\\",\\n            \\\"dexterity\\\",\\n            \\\"strength\\\",\\n            \\\"constitution\\\",\\n        ]\\n\\n    @display_processor_info\\n    def transform(self, dataset: Dataset, *args, **kwargs) -> Dataset:\\n        self._check_data_validity(dataset=dataset)\\n        dataset.dataf = dataset.dataf.pipe(self._add_group_features)\\n        return Dataset(**dataset.__dict__)\\n\\n    def _add_group_features(self, dataf: pd.DataFrame) -> pd.DataFrame:\\n        \\\"\\\"\\\"Mean, standard deviation and skew for each group.\\\"\\\"\\\"\\n        for group in self.group_names:\\n            cols = [col for col in dataf.columns if group in col]\\n            dataf[f\\\"feature_{group}_mean\\\"] = dataf[cols].mean(axis=1)\\n            dataf[f\\\"feature_{group}_std\\\"] = dataf[cols].std(axis=1)\\n            dataf[f\\\"feature_{group}_skew\\\"] = dataf[cols].skew(axis=1)\\n        return dataf\\n\\n    def _check_data_validity(self, dataset: Dataset):\\n        assert hasattr(\\n            dataset, \\\"version\\\"\\n        ), f\\\"Version should be specified for '{self.__class__.__name__}' This Preprocessor will only work on version 1 data.\\\"\\n        assert (\\n            getattr(dataset, \\\"version\\\") == 1\\n        ), f\\\"'{self.__class__.__name__}' only works on version 1 data. Got version: '{getattr(dataset, 'version')}'.\\\"\";\n                var nbb_cells = Jupyter.notebook.get_cells();\n                for (var i = 0; i < nbb_cells.length; ++i) {\n                    if (nbb_cells[i].input_prompt_number == nbb_cell_id) {\n                        if (nbb_cells[i].get_text() == nbb_unformatted_code) {\n                             nbb_cells[i].set_text(nbb_formatted_code);\n                        }\n                        break;\n                    }\n                }\n            }, 500);\n            ",
      "text/plain": "<IPython.core.display.Javascript object>"
     },
     "metadata": {},
     "output_type": "display_data"
    }
   ],
   "source": [
    "#export\n",
    "@typechecked\n",
    "class GroupStatsPreProcessor(BaseProcessor):\n",
    "    \"\"\"\n",
    "    WARNING: Only supported for Version 1 (legacy) data.\n",
    "    Calculate group statistics for all data groups.\n",
    "    \"\"\"\n",
    "    def __init__(self):\n",
    "        super(GroupStatsPreProcessor, self).__init__()\n",
    "        self.group_names = [\"intelligence\", \"wisdom\", \"charisma\",\n",
    "                            \"dexterity\", \"strength\", \"constitution\"]\n",
    "\n",
    "    @display_processor_info\n",
    "    def transform(self, dataset: Dataset, *args, **kwargs) -> Dataset:\n",
    "        self._check_data_validity(dataset=dataset)\n",
    "        dataset.dataf = dataset.dataf.pipe(self._add_group_features)\n",
    "        return Dataset(**dataset.__dict__)\n",
    "\n",
    "    def _add_group_features(self, dataf: pd.DataFrame) -> pd.DataFrame:\n",
    "        \"\"\" Mean, standard deviation and skew for each group. \"\"\"\n",
    "        for group in self.group_names:\n",
    "            cols = [col for col in dataf.columns if group in col]\n",
    "            dataf[f\"feature_{group}_mean\"] = dataf[cols].mean(axis=1)\n",
    "            dataf[f\"feature_{group}_std\"] = dataf[cols].std(axis=1)\n",
    "            dataf[f\"feature_{group}_skew\"] = dataf[cols].skew(axis=1)\n",
    "        return dataf\n",
    "\n",
    "    def _check_data_validity(self, dataset: Dataset):\n",
    "        assert hasattr(dataset, 'version'), f\"Version should be specified for '{self.__class__.__name__}' This Preprocessor will only work on version 1 data.\"\n",
    "        assert getattr(dataset, 'version') == 1, f\"'{self.__class__.__name__}' only works on version 1 data. Got version: '{getattr(dataset, 'version')}'.\""
   ]
  },
  {
   "cell_type": "code",
   "execution_count": null,
   "metadata": {},
   "outputs": [
    {
     "data": {
      "text/html": "<pre style=\"white-space:pre;overflow-x:auto;line-height:normal;font-family:Menlo,'DejaVu Sans Mono',consolas,'Courier New',monospace\">✅ Finished step <span style=\"font-weight: bold\">GroupStatsPreProcessor</span>. Output <span style=\"color: #808000; text-decoration-color: #808000\">shape</span>=<span style=\"font-weight: bold\">(</span><span style=\"color: #008080; text-decoration-color: #008080; font-weight: bold\">10</span>, <span style=\"color: #008080; text-decoration-color: #008080; font-weight: bold\">332</span><span style=\"font-weight: bold\">)</span>. Time taken for step: \n<span style=\"color: #000080; text-decoration-color: #000080; font-weight: bold\">0:00:00</span><span style=\"color: #000080; text-decoration-color: #000080\">.</span><span style=\"color: #000080; text-decoration-color: #000080; font-weight: bold\">023436</span>. ✅\n</pre>\n",
      "text/plain": "✅ Finished step \u001b[1mGroupStatsPreProcessor\u001b[0m. Output \u001b[33mshape\u001b[0m=\u001b[1m(\u001b[0m\u001b[1;36m10\u001b[0m, \u001b[1;36m332\u001b[0m\u001b[1m)\u001b[0m. Time taken for step: \n\u001b[1;34m0:00:00\u001b[0m\u001b[34m.\u001b[0m\u001b[1;34m023436\u001b[0m. ✅\n"
     },
     "metadata": {},
     "output_type": "display_data"
    },
    {
     "data": {
      "application/javascript": "\n            setTimeout(function() {\n                var nbb_cell_id = 19;\n                var nbb_unformatted_code = \"group_features_dataset = GroupStatsPreProcessor().transform(copied_dataset)\\ngroup_features_dataset.dataf.head(2)\\nassert group_features_dataset.version == 1\";\n                var nbb_formatted_code = \"group_features_dataset = GroupStatsPreProcessor().transform(copied_dataset)\\ngroup_features_dataset.dataf.head(2)\\nassert group_features_dataset.version == 1\";\n                var nbb_cells = Jupyter.notebook.get_cells();\n                for (var i = 0; i < nbb_cells.length; ++i) {\n                    if (nbb_cells[i].input_prompt_number == nbb_cell_id) {\n                        if (nbb_cells[i].get_text() == nbb_unformatted_code) {\n                             nbb_cells[i].set_text(nbb_formatted_code);\n                        }\n                        break;\n                    }\n                }\n            }, 500);\n            ",
      "text/plain": "<IPython.core.display.Javascript object>"
     },
     "metadata": {},
     "output_type": "display_data"
    }
   ],
   "source": [
    "group_features_dataset = GroupStatsPreProcessor().transform(copied_dataset)\n",
    "group_features_dataset.dataf.head(2)\n",
    "assert group_features_dataset.version == 1"
   ]
  },
  {
   "cell_type": "code",
   "execution_count": null,
   "metadata": {},
   "outputs": [
    {
     "data": {
      "text/html": "<div>\n<style scoped>\n    .dataframe tbody tr th:only-of-type {\n        vertical-align: middle;\n    }\n\n    .dataframe tbody tr th {\n        vertical-align: top;\n    }\n\n    .dataframe thead th {\n        text-align: right;\n    }\n</style>\n<table border=\"1\" class=\"dataframe\">\n  <thead>\n    <tr style=\"text-align: right;\">\n      <th></th>\n      <th>feature_intelligence_mean</th>\n      <th>feature_intelligence_std</th>\n      <th>feature_intelligence_skew</th>\n      <th>feature_wisdom_mean</th>\n      <th>feature_wisdom_std</th>\n      <th>feature_wisdom_skew</th>\n      <th>feature_charisma_mean</th>\n      <th>feature_charisma_std</th>\n      <th>feature_charisma_skew</th>\n      <th>feature_dexterity_mean</th>\n      <th>feature_dexterity_std</th>\n      <th>feature_dexterity_skew</th>\n      <th>feature_strength_mean</th>\n      <th>feature_strength_std</th>\n      <th>feature_strength_skew</th>\n      <th>feature_constitution_mean</th>\n      <th>feature_constitution_std</th>\n      <th>feature_constitution_skew</th>\n    </tr>\n  </thead>\n  <tbody>\n    <tr>\n      <th>0</th>\n      <td>0.333333</td>\n      <td>0.246183</td>\n      <td>0.558528</td>\n      <td>0.668478</td>\n      <td>0.236022</td>\n      <td>-0.115082</td>\n      <td>0.438953</td>\n      <td>0.259910</td>\n      <td>-0.004783</td>\n      <td>0.696429</td>\n      <td>0.200446</td>\n      <td>-0.607620</td>\n      <td>0.480263</td>\n      <td>0.292829</td>\n      <td>-0.372064</td>\n      <td>0.427632</td>\n      <td>0.27572</td>\n      <td>0.276155</td>\n    </tr>\n    <tr>\n      <th>1</th>\n      <td>0.208333</td>\n      <td>0.234359</td>\n      <td>0.382554</td>\n      <td>0.559783</td>\n      <td>0.358177</td>\n      <td>-0.062362</td>\n      <td>0.485465</td>\n      <td>0.252501</td>\n      <td>-0.021737</td>\n      <td>0.267857</td>\n      <td>0.249312</td>\n      <td>0.382267</td>\n      <td>0.407895</td>\n      <td>0.309866</td>\n      <td>0.220625</td>\n      <td>0.644737</td>\n      <td>0.33408</td>\n      <td>-0.794938</td>\n    </tr>\n  </tbody>\n</table>\n</div>",
      "text/plain": "   feature_intelligence_mean  feature_intelligence_std  \\\n0                   0.333333                  0.246183   \n1                   0.208333                  0.234359   \n\n   feature_intelligence_skew  feature_wisdom_mean  feature_wisdom_std  \\\n0                   0.558528             0.668478            0.236022   \n1                   0.382554             0.559783            0.358177   \n\n   feature_wisdom_skew  feature_charisma_mean  feature_charisma_std  \\\n0            -0.115082               0.438953              0.259910   \n1            -0.062362               0.485465              0.252501   \n\n   feature_charisma_skew  feature_dexterity_mean  feature_dexterity_std  \\\n0              -0.004783                0.696429               0.200446   \n1              -0.021737                0.267857               0.249312   \n\n   feature_dexterity_skew  feature_strength_mean  feature_strength_std  \\\n0               -0.607620               0.480263              0.292829   \n1                0.382267               0.407895              0.309866   \n\n   feature_strength_skew  feature_constitution_mean  feature_constitution_std  \\\n0              -0.372064                   0.427632                   0.27572   \n1               0.220625                   0.644737                   0.33408   \n\n   feature_constitution_skew  \n0                   0.276155  \n1                  -0.794938  "
     },
     "execution_count": null,
     "metadata": {},
     "output_type": "execute_result"
    },
    {
     "data": {
      "application/javascript": "\n            setTimeout(function() {\n                var nbb_cell_id = 20;\n                var nbb_unformatted_code = \"new_cols =  ['feature_intelligence_mean', 'feature_intelligence_std', 'feature_intelligence_skew',\\n             'feature_wisdom_mean', 'feature_wisdom_std', 'feature_wisdom_skew',\\n             'feature_charisma_mean', 'feature_charisma_std', 'feature_charisma_skew',\\n             'feature_dexterity_mean', 'feature_dexterity_std', 'feature_dexterity_skew',\\n             'feature_strength_mean', 'feature_strength_std', 'feature_strength_skew',\\n             'feature_constitution_mean', 'feature_constitution_std', 'feature_constitution_skew']\\nassert set(group_features_dataset.dataf.columns).intersection(new_cols)\\ngroup_features_dataset.get_feature_data[new_cols].head(2)\";\n                var nbb_formatted_code = \"new_cols = [\\n    \\\"feature_intelligence_mean\\\",\\n    \\\"feature_intelligence_std\\\",\\n    \\\"feature_intelligence_skew\\\",\\n    \\\"feature_wisdom_mean\\\",\\n    \\\"feature_wisdom_std\\\",\\n    \\\"feature_wisdom_skew\\\",\\n    \\\"feature_charisma_mean\\\",\\n    \\\"feature_charisma_std\\\",\\n    \\\"feature_charisma_skew\\\",\\n    \\\"feature_dexterity_mean\\\",\\n    \\\"feature_dexterity_std\\\",\\n    \\\"feature_dexterity_skew\\\",\\n    \\\"feature_strength_mean\\\",\\n    \\\"feature_strength_std\\\",\\n    \\\"feature_strength_skew\\\",\\n    \\\"feature_constitution_mean\\\",\\n    \\\"feature_constitution_std\\\",\\n    \\\"feature_constitution_skew\\\",\\n]\\nassert set(group_features_dataset.dataf.columns).intersection(new_cols)\\ngroup_features_dataset.get_feature_data[new_cols].head(2)\";\n                var nbb_cells = Jupyter.notebook.get_cells();\n                for (var i = 0; i < nbb_cells.length; ++i) {\n                    if (nbb_cells[i].input_prompt_number == nbb_cell_id) {\n                        if (nbb_cells[i].get_text() == nbb_unformatted_code) {\n                             nbb_cells[i].set_text(nbb_formatted_code);\n                        }\n                        break;\n                    }\n                }\n            }, 500);\n            ",
      "text/plain": "<IPython.core.display.Javascript object>"
     },
     "metadata": {},
     "output_type": "display_data"
    }
   ],
   "source": [
    "new_cols =  ['feature_intelligence_mean', 'feature_intelligence_std', 'feature_intelligence_skew',\n",
    "             'feature_wisdom_mean', 'feature_wisdom_std', 'feature_wisdom_skew',\n",
    "             'feature_charisma_mean', 'feature_charisma_std', 'feature_charisma_skew',\n",
    "             'feature_dexterity_mean', 'feature_dexterity_std', 'feature_dexterity_skew',\n",
    "             'feature_strength_mean', 'feature_strength_std', 'feature_strength_skew',\n",
    "             'feature_constitution_mean', 'feature_constitution_std', 'feature_constitution_skew']\n",
    "assert set(group_features_dataset.dataf.columns).intersection(new_cols)\n",
    "group_features_dataset.get_feature_data[new_cols].head(2)"
   ]
  },
  {
   "cell_type": "markdown",
   "metadata": {},
   "source": []
  },
  {
   "cell_type": "markdown",
   "metadata": {},
   "source": [
    "`GroupStatsPreProcessor` should break if `version != 1`."
   ]
  },
  {
   "cell_type": "code",
   "execution_count": null,
   "metadata": {},
   "outputs": [
    {
     "data": {
      "application/javascript": "\n            setTimeout(function() {\n                var nbb_cell_id = 21;\n                var nbb_unformatted_code = \"def test_invalid_version(dataset: Dataset):\\n    copied_dataset = dataset.copy_dataset()\\n    copied_dataset.version = 2\\n    try:\\n        GroupStatsPreProcessor().transform(copied_dataset)\\n    except AssertionError:\\n        return True\\n    return False\\n\\ntest_invalid_version(dataset);\";\n                var nbb_formatted_code = \"def test_invalid_version(dataset: Dataset):\\n    copied_dataset = dataset.copy_dataset()\\n    copied_dataset.version = 2\\n    try:\\n        GroupStatsPreProcessor().transform(copied_dataset)\\n    except AssertionError:\\n        return True\\n    return False\\n\\n\\ntest_invalid_version(dataset)\";\n                var nbb_cells = Jupyter.notebook.get_cells();\n                for (var i = 0; i < nbb_cells.length; ++i) {\n                    if (nbb_cells[i].input_prompt_number == nbb_cell_id) {\n                        if (nbb_cells[i].get_text() == nbb_unformatted_code) {\n                             nbb_cells[i].set_text(nbb_formatted_code);\n                        }\n                        break;\n                    }\n                }\n            }, 500);\n            ",
      "text/plain": "<IPython.core.display.Javascript object>"
     },
     "metadata": {},
     "output_type": "display_data"
    }
   ],
   "source": [
    "def test_invalid_version(dataset: Dataset):\n",
    "    copied_dataset = dataset.copy_dataset()\n",
    "    copied_dataset.version = 2\n",
    "    try:\n",
    "        GroupStatsPreProcessor().transform(copied_dataset)\n",
    "    except AssertionError:\n",
    "        return True\n",
    "    return False\n",
    "\n",
    "test_invalid_version(dataset);"
   ]
  },
  {
   "cell_type": "markdown",
   "metadata": {},
   "source": [
    "### Version 2 specific"
   ]
  },
  {
   "cell_type": "markdown",
   "metadata": {},
   "source": [
    "## 2. Custom preprocessors"
   ]
  },
  {
   "cell_type": "markdown",
   "metadata": {},
   "source": [
    "There are an almost unlimited number of ways to preprocess data. We have only scratched the surface with the preprocessors currently implemented in `numerai-blocks`. We invite the Numerai community to develop Numerai Classic and Signals preprocessors for `numerai-blocks`.\n",
    "\n",
    "A new Preprocessor should inherit from `BaseProcessor` and implement a `transform` method. The `transform` method should take a `Dataset` as input and return a `Dataset` object as output. An example is given below.\n",
    "\n",
    "To enable fancy logging output. Add the `@display_processor_info` decorator to the `transform` method.\n",
    "\n",
    "Note that arbitrary metadata can be added or changed in a preprocessing step."
   ]
  },
  {
   "cell_type": "code",
   "execution_count": null,
   "metadata": {},
   "outputs": [
    {
     "data": {
      "application/javascript": "\n            setTimeout(function() {\n                var nbb_cell_id = 22;\n                var nbb_unformatted_code = \"class AwesomePreProcessor(BaseProcessor):\\n    \\\"\\\"\\\"\\n    - TEMPLATE -\\n    Do some awesome preprocessing.\\n    \\\"\\\"\\\"\\n    def __init__(self, *args, **kwargs):\\n        super(AwesomePreProcessor, self).__init__()\\n\\n    @display_processor_info\\n    def transform(self, dataset: Dataset, *args, **kwargs) -> Dataset:\\n        # Do processing\\n        ...\\n        # Parse all contents of Dataset to the next pipeline step\\n        return Dataset(**dataset.__dict__)\";\n                var nbb_formatted_code = \"class AwesomePreProcessor(BaseProcessor):\\n    \\\"\\\"\\\"\\n    - TEMPLATE -\\n    Do some awesome preprocessing.\\n    \\\"\\\"\\\"\\n\\n    def __init__(self, *args, **kwargs):\\n        super(AwesomePreProcessor, self).__init__()\\n\\n    @display_processor_info\\n    def transform(self, dataset: Dataset, *args, **kwargs) -> Dataset:\\n        # Do processing\\n        ...\\n        # Parse all contents of Dataset to the next pipeline step\\n        return Dataset(**dataset.__dict__)\";\n                var nbb_cells = Jupyter.notebook.get_cells();\n                for (var i = 0; i < nbb_cells.length; ++i) {\n                    if (nbb_cells[i].input_prompt_number == nbb_cell_id) {\n                        if (nbb_cells[i].get_text() == nbb_unformatted_code) {\n                             nbb_cells[i].set_text(nbb_formatted_code);\n                        }\n                        break;\n                    }\n                }\n            }, 500);\n            ",
      "text/plain": "<IPython.core.display.Javascript object>"
     },
     "metadata": {},
     "output_type": "display_data"
    }
   ],
   "source": [
    "class AwesomePreProcessor(BaseProcessor):\n",
    "    \"\"\"\n",
    "    - TEMPLATE -\n",
    "    Do some awesome preprocessing.\n",
    "    \"\"\"\n",
    "    def __init__(self, *args, **kwargs):\n",
    "        super(AwesomePreProcessor, self).__init__()\n",
    "\n",
    "    @display_processor_info\n",
    "    def transform(self, dataset: Dataset, *args, **kwargs) -> Dataset:\n",
    "        # Do processing\n",
    "        ...\n",
    "        # Parse all contents of Dataset to the next pipeline step\n",
    "        return Dataset(**dataset.__dict__)"
   ]
  },
  {
   "cell_type": "markdown",
   "metadata": {},
   "source": [
    "-------------------------------------------"
   ]
  },
  {
   "cell_type": "code",
   "execution_count": null,
   "metadata": {},
   "outputs": [
    {
     "name": "stdout",
     "output_type": "stream",
     "text": [
      "Converted 00_download.ipynb.\n",
      "Converted 01_dataloaders.ipynb.\n",
      "Converted 02_dataset.ipynb.\n",
      "Converted 03_preprocessing.ipynb.\n",
      "Converted 04_model.ipynb.\n",
      "Converted 05_postprocessing.ipynb.\n",
      "Converted 06_modelpipeline.ipynb.\n",
      "Converted 07_evaluation.ipynb.\n",
      "Converted 08_key.ipynb.\n",
      "Converted 09_submission.ipynb.\n",
      "Converted 10_staker.ipynb.\n",
      "Converted index.ipynb.\n"
     ]
    },
    {
     "data": {
      "application/javascript": "\n            setTimeout(function() {\n                var nbb_cell_id = 23;\n                var nbb_unformatted_code = \"# hide\\n# Run this cell to sync all changes with library\\nfrom nbdev.export import notebook2script\\n\\nnotebook2script()\";\n                var nbb_formatted_code = \"# hide\\n# Run this cell to sync all changes with library\\nfrom nbdev.export import notebook2script\\n\\nnotebook2script()\";\n                var nbb_cells = Jupyter.notebook.get_cells();\n                for (var i = 0; i < nbb_cells.length; ++i) {\n                    if (nbb_cells[i].input_prompt_number == nbb_cell_id) {\n                        if (nbb_cells[i].get_text() == nbb_unformatted_code) {\n                             nbb_cells[i].set_text(nbb_formatted_code);\n                        }\n                        break;\n                    }\n                }\n            }, 500);\n            ",
      "text/plain": "<IPython.core.display.Javascript object>"
     },
     "metadata": {},
     "output_type": "display_data"
    }
   ],
   "source": [
    "# hide\n",
    "# Run this cell to sync all changes with library\n",
    "from nbdev.export import notebook2script\n",
    "\n",
    "notebook2script()"
   ]
  },
  {
   "cell_type": "code",
   "execution_count": null,
   "metadata": {},
   "outputs": [
    {
     "data": {
      "application/javascript": "\n            setTimeout(function() {\n                var nbb_cell_id = 23;\n                var nbb_unformatted_code = \"# hide\\n# Run this cell to sync all changes with library\\nfrom nbdev.export import notebook2script\\n\\nnotebook2script()\";\n                var nbb_formatted_code = \"# hide\\n# Run this cell to sync all changes with library\\nfrom nbdev.export import notebook2script\\n\\nnotebook2script()\";\n                var nbb_cells = Jupyter.notebook.get_cells();\n                for (var i = 0; i < nbb_cells.length; ++i) {\n                    if (nbb_cells[i].input_prompt_number == nbb_cell_id) {\n                        if (nbb_cells[i].get_text() == nbb_unformatted_code) {\n                             nbb_cells[i].set_text(nbb_formatted_code);\n                        }\n                        break;\n                    }\n                }\n            }, 500);\n            ",
      "text/plain": "<IPython.core.display.Javascript object>"
     },
     "metadata": {},
     "output_type": "display_data"
    }
   ],
   "source": []
  }
 ],
 "metadata": {
  "kernelspec": {
   "display_name": "Python 3",
   "language": "python",
   "name": "python3"
  }
 },
 "nbformat": 4,
 "nbformat_minor": 0
}
