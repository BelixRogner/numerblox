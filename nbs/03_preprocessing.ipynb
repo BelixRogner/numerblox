{
 "cells": [
  {
   "cell_type": "code",
   "execution_count": null,
   "metadata": {},
   "outputs": [
    {
     "data": {
      "application/javascript": "\n            setTimeout(function() {\n                var nbb_cell_id = 1;\n                var nbb_unformatted_code = \"%load_ext autoreload\\n%autoreload 2\\n%load_ext nb_black\\n%load_ext lab_black\";\n                var nbb_formatted_code = \"%load_ext autoreload\\n%autoreload 2\\n%load_ext nb_black\\n%load_ext lab_black\";\n                var nbb_cells = Jupyter.notebook.get_cells();\n                for (var i = 0; i < nbb_cells.length; ++i) {\n                    if (nbb_cells[i].input_prompt_number == nbb_cell_id) {\n                        if (nbb_cells[i].get_text() == nbb_unformatted_code) {\n                             nbb_cells[i].set_text(nbb_formatted_code);\n                        }\n                        break;\n                    }\n                }\n            }, 500);\n            ",
      "text/plain": "<IPython.core.display.Javascript object>"
     },
     "metadata": {},
     "output_type": "display_data"
    }
   ],
   "source": [
    "%load_ext autoreload\n",
    "%autoreload 2\n",
    "%load_ext nb_black\n",
    "%load_ext lab_black"
   ]
  },
  {
   "cell_type": "code",
   "execution_count": null,
   "metadata": {},
   "outputs": [
    {
     "data": {
      "application/javascript": "\n            setTimeout(function() {\n                var nbb_cell_id = 2;\n                var nbb_unformatted_code = \"# default_exp preprocessing\";\n                var nbb_formatted_code = \"# default_exp preprocessing\";\n                var nbb_cells = Jupyter.notebook.get_cells();\n                for (var i = 0; i < nbb_cells.length; ++i) {\n                    if (nbb_cells[i].input_prompt_number == nbb_cell_id) {\n                        if (nbb_cells[i].get_text() == nbb_unformatted_code) {\n                             nbb_cells[i].set_text(nbb_formatted_code);\n                        }\n                        break;\n                    }\n                }\n            }, 500);\n            ",
      "text/plain": "<IPython.core.display.Javascript object>"
     },
     "metadata": {},
     "output_type": "display_data"
    }
   ],
   "source": [
    "# default_exp preprocessing"
   ]
  },
  {
   "cell_type": "markdown",
   "metadata": {},
   "source": [
    "# Preprocessing"
   ]
  },
  {
   "cell_type": "code",
   "execution_count": null,
   "metadata": {},
   "outputs": [
    {
     "data": {
      "application/javascript": "\n            setTimeout(function() {\n                var nbb_cell_id = 3;\n                var nbb_unformatted_code = \"# hide\\nfrom nbdev.showdoc import *\";\n                var nbb_formatted_code = \"# hide\\nfrom nbdev.showdoc import *\";\n                var nbb_cells = Jupyter.notebook.get_cells();\n                for (var i = 0; i < nbb_cells.length; ++i) {\n                    if (nbb_cells[i].input_prompt_number == nbb_cell_id) {\n                        if (nbb_cells[i].get_text() == nbb_unformatted_code) {\n                             nbb_cells[i].set_text(nbb_formatted_code);\n                        }\n                        break;\n                    }\n                }\n            }, 500);\n            ",
      "text/plain": "<IPython.core.display.Javascript object>"
     },
     "metadata": {},
     "output_type": "display_data"
    }
   ],
   "source": [
    "# hide\n",
    "from nbdev.showdoc import *"
   ]
  },
  {
   "cell_type": "code",
   "execution_count": null,
   "metadata": {},
   "outputs": [
    {
     "data": {
      "application/javascript": "\n            setTimeout(function() {\n                var nbb_cell_id = 4;\n                var nbb_unformatted_code = \"#export\\nimport uuid\\nimport numpy as np\\nimport pandas as pd\\nimport datetime as dt\\nfrom functools import wraps\\nfrom typeguard import typechecked\\nfrom abc import ABC, abstractmethod\\nfrom rich import print as rich_print\\n\\nfrom numerai_blocks.dataset import Dataset\";\n                var nbb_formatted_code = \"# export\\nimport uuid\\nimport numpy as np\\nimport pandas as pd\\nimport datetime as dt\\nfrom functools import wraps\\nfrom typeguard import typechecked\\nfrom abc import ABC, abstractmethod\\nfrom rich import print as rich_print\\n\\nfrom numerai_blocks.dataset import Dataset\";\n                var nbb_cells = Jupyter.notebook.get_cells();\n                for (var i = 0; i < nbb_cells.length; ++i) {\n                    if (nbb_cells[i].input_prompt_number == nbb_cell_id) {\n                        if (nbb_cells[i].get_text() == nbb_unformatted_code) {\n                             nbb_cells[i].set_text(nbb_formatted_code);\n                        }\n                        break;\n                    }\n                }\n            }, 500);\n            ",
      "text/plain": "<IPython.core.display.Javascript object>"
     },
     "metadata": {},
     "output_type": "display_data"
    }
   ],
   "source": [
    "#export\n",
    "import uuid\n",
    "import numpy as np\n",
    "import pandas as pd\n",
    "import datetime as dt\n",
    "from functools import wraps\n",
    "from typeguard import typechecked\n",
    "from abc import ABC, abstractmethod\n",
    "from rich import print as rich_print\n",
    "\n",
    "from numerai_blocks.dataset import Dataset"
   ]
  },
  {
   "cell_type": "markdown",
   "metadata": {},
   "source": [
    "## 0. Base"
   ]
  },
  {
   "cell_type": "markdown",
   "metadata": {},
   "source": []
  },
  {
   "cell_type": "markdown",
   "metadata": {},
   "source": [
    "### 0.1. BaseProcessor"
   ]
  },
  {
   "cell_type": "code",
   "execution_count": null,
   "metadata": {},
   "outputs": [
    {
     "data": {
      "application/javascript": "\n            setTimeout(function() {\n                var nbb_cell_id = 5;\n                var nbb_unformatted_code = \"#export\\n@typechecked\\nclass BaseProcessor(ABC):\\n    \\\"\\\"\\\"\\n    New Preprocessors and Postprocessors should inherit from this object\\n    and implement the transform method.\\n    \\\"\\\"\\\"\\n    def __init__(self):\\n        ...\\n\\n    @abstractmethod\\n    def transform(self, dataset: Dataset, *args, **kwargs) -> Dataset:\\n        ...\\n\\n    def __call__(self, dataset: Dataset, *args, **kwargs) -> Dataset:\\n        return self.transform(dataset=dataset, *args, **kwargs)\";\n                var nbb_formatted_code = \"# export\\n@typechecked\\nclass BaseProcessor(ABC):\\n    \\\"\\\"\\\"\\n    New Preprocessors and Postprocessors should inherit from this object\\n    and implement the transform method.\\n    \\\"\\\"\\\"\\n\\n    def __init__(self):\\n        ...\\n\\n    @abstractmethod\\n    def transform(self, dataset: Dataset, *args, **kwargs) -> Dataset:\\n        ...\\n\\n    def __call__(self, dataset: Dataset, *args, **kwargs) -> Dataset:\\n        return self.transform(dataset=dataset, *args, **kwargs)\";\n                var nbb_cells = Jupyter.notebook.get_cells();\n                for (var i = 0; i < nbb_cells.length; ++i) {\n                    if (nbb_cells[i].input_prompt_number == nbb_cell_id) {\n                        if (nbb_cells[i].get_text() == nbb_unformatted_code) {\n                             nbb_cells[i].set_text(nbb_formatted_code);\n                        }\n                        break;\n                    }\n                }\n            }, 500);\n            ",
      "text/plain": "<IPython.core.display.Javascript object>"
     },
     "metadata": {},
     "output_type": "display_data"
    }
   ],
   "source": [
    "#export\n",
    "@typechecked\n",
    "class BaseProcessor(ABC):\n",
    "    \"\"\"\n",
    "    New Preprocessors and Postprocessors should inherit from this object\n",
    "    and implement the transform method.\n",
    "    \"\"\"\n",
    "    def __init__(self):\n",
    "        ...\n",
    "\n",
    "    @abstractmethod\n",
    "    def transform(self, dataset: Dataset, *args, **kwargs) -> Dataset:\n",
    "        ...\n",
    "\n",
    "    def __call__(self, dataset: Dataset, *args, **kwargs) -> Dataset:\n",
    "        return self.transform(dataset=dataset, *args, **kwargs)"
   ]
  },
  {
   "cell_type": "markdown",
   "metadata": {},
   "source": [
    "### 0.2. Decorators"
   ]
  },
  {
   "cell_type": "code",
   "execution_count": null,
   "metadata": {},
   "outputs": [
    {
     "data": {
      "application/javascript": "\n            setTimeout(function() {\n                var nbb_cell_id = 6;\n                var nbb_unformatted_code = \"#export\\ndef support_dataf_processing(func):\\n    \\\"\\\"\\\"\\n    Make Dataset processor compatible with DataFrame input.\\n    :param func: Some function/method that takes Dataset as input\\n    and returns Dataset.\\n    \\\"\\\"\\\"\\n    @wraps(func)\\n    def wrapper(dataf: pd.DataFrame, *args, **kwargs) -> pd.DataFrame:\\n        return func(Dataset(dataf), *args, **kwargs).dataf\\n    return wrapper\\n\\ndef support_dataset_processing(func):\\n    \\\"\\\"\\\"\\n    Make existing DataFrame transformer compatible with Dataset input.\\n    :param func: Some function/method that takes Pandas DataFrame as input\\n    and return Pandas DataFrame.\\n    \\\"\\\"\\\"\\n    @wraps(func)\\n    def wrapper(dataset: Dataset, *args, **kwargs) -> Dataset:\\n        dataf_transform = func(dataset.dataf, *args, **kwargs)\\n        metadata = dataset.__dict__\\n        metadata.pop(\\\"dataf\\\", None)\\n        return Dataset(dataf_transform, metadata)\\n    return wrapper\";\n                var nbb_formatted_code = \"# export\\ndef support_dataf_processing(func):\\n    \\\"\\\"\\\"\\n    Make Dataset processor compatible with DataFrame input.\\n    :param func: Some function/method that takes Dataset as input\\n    and returns Dataset.\\n    \\\"\\\"\\\"\\n\\n    @wraps(func)\\n    def wrapper(dataf: pd.DataFrame, *args, **kwargs) -> pd.DataFrame:\\n        return func(Dataset(dataf), *args, **kwargs).dataf\\n\\n    return wrapper\\n\\n\\ndef support_dataset_processing(func):\\n    \\\"\\\"\\\"\\n    Make existing DataFrame transformer compatible with Dataset input.\\n    :param func: Some function/method that takes Pandas DataFrame as input\\n    and return Pandas DataFrame.\\n    \\\"\\\"\\\"\\n\\n    @wraps(func)\\n    def wrapper(dataset: Dataset, *args, **kwargs) -> Dataset:\\n        dataf_transform = func(dataset.dataf, *args, **kwargs)\\n        metadata = dataset.__dict__\\n        metadata.pop(\\\"dataf\\\", None)\\n        return Dataset(dataf_transform, metadata)\\n\\n    return wrapper\";\n                var nbb_cells = Jupyter.notebook.get_cells();\n                for (var i = 0; i < nbb_cells.length; ++i) {\n                    if (nbb_cells[i].input_prompt_number == nbb_cell_id) {\n                        if (nbb_cells[i].get_text() == nbb_unformatted_code) {\n                             nbb_cells[i].set_text(nbb_formatted_code);\n                        }\n                        break;\n                    }\n                }\n            }, 500);\n            ",
      "text/plain": "<IPython.core.display.Javascript object>"
     },
     "metadata": {},
     "output_type": "display_data"
    }
   ],
   "source": [
    "#export\n",
    "def support_dataf_processing(func):\n",
    "    \"\"\"\n",
    "    Make Dataset processor compatible with DataFrame input.\n",
    "    :param func: Some function/method that takes Dataset as input\n",
    "    and returns Dataset.\n",
    "    \"\"\"\n",
    "    @wraps(func)\n",
    "    def wrapper(dataf: pd.DataFrame, *args, **kwargs) -> pd.DataFrame:\n",
    "        return func(Dataset(dataf), *args, **kwargs).dataf\n",
    "    return wrapper\n",
    "\n",
    "def support_dataset_processing(func):\n",
    "    \"\"\"\n",
    "    Make existing DataFrame transformer compatible with Dataset input.\n",
    "    :param func: Some function/method that takes Pandas DataFrame as input\n",
    "    and return Pandas DataFrame.\n",
    "    \"\"\"\n",
    "    @wraps(func)\n",
    "    def wrapper(dataset: Dataset, *args, **kwargs) -> Dataset:\n",
    "        dataf_transform = func(dataset.dataf, *args, **kwargs)\n",
    "        metadata = dataset.__dict__\n",
    "        metadata.pop(\"dataf\", None)\n",
    "        return Dataset(dataf_transform, metadata)\n",
    "    return wrapper"
   ]
  },
  {
   "cell_type": "markdown",
   "metadata": {},
   "source": [
    "#### Decorator tests"
   ]
  },
  {
   "cell_type": "code",
   "execution_count": null,
   "metadata": {},
   "outputs": [
    {
     "data": {
      "application/javascript": "\n            setTimeout(function() {\n                var nbb_cell_id = 7;\n                var nbb_unformatted_code = \"# Random DataFrame\\ntest_features = [f\\\"feature_{l}\\\" for l in \\\"ABCDEFGHIK\\\"]\\nid_col = [uuid.uuid4().hex for _ in range(100)]\\ndf = pd.DataFrame(np.random.uniform(size=(100, 10)), columns=test_features)\\n\\ndef pandas_quad(df, col: str):\\n    \\\"\\\"\\\" Simple DataFrame function which takes gives column to power of 2. \\\"\\\"\\\"\\n    df_copy = df.copy()\\n    df_copy.loc[:, col] = df_copy.loc[:, col].apply(lambda x: x ** 2)\\n    return df_copy\\n\\nclass QuadraticProcessor(BaseProcessor):\\n    \\\"\\\"\\\" Simple Dataset Processor which takes gives column to power of 2. \\\"\\\"\\\"\\n    def __init__(self):\\n        super(QuadraticProcessor, self).__init__()\\n\\n    def transform(self, dataset: Dataset, col: str) -> Dataset:\\n        dataset_copy = dataset.copy_dataset()\\n        dataset_copy.dataf.loc[:, col] = dataset_copy.get_column_selection(col).pipe(self._quadratic)\\n        return Dataset(**dataset_copy.__dict__)\\n\\n    @staticmethod\\n    def _quadratic(dataf: pd.DataFrame):\\n        return dataf ** 2\\n\\n\\n@support_dataset_processing\\ndef test_dataf_with_dataset_input(dataset: Dataset, col: str) -> Dataset:\\n    return pandas_quad(dataset, col=col)\\n\\n@support_dataf_processing\\ndef test_dataset_with_dataf_input(dataf: pd.DataFrame, col: str) -> pd.DataFrame:\\n    return QuadraticProcessor().transform(dataset=dataf, col=col)\";\n                var nbb_formatted_code = \"# Random DataFrame\\ntest_features = [f\\\"feature_{l}\\\" for l in \\\"ABCDEFGHIK\\\"]\\nid_col = [uuid.uuid4().hex for _ in range(100)]\\ndf = pd.DataFrame(np.random.uniform(size=(100, 10)), columns=test_features)\\n\\n\\ndef pandas_quad(df, col: str):\\n    \\\"\\\"\\\"Simple DataFrame function which takes gives column to power of 2.\\\"\\\"\\\"\\n    df_copy = df.copy()\\n    df_copy.loc[:, col] = df_copy.loc[:, col].apply(lambda x: x ** 2)\\n    return df_copy\\n\\n\\nclass QuadraticProcessor(BaseProcessor):\\n    \\\"\\\"\\\"Simple Dataset Processor which takes gives column to power of 2.\\\"\\\"\\\"\\n\\n    def __init__(self):\\n        super(QuadraticProcessor, self).__init__()\\n\\n    def transform(self, dataset: Dataset, col: str) -> Dataset:\\n        dataset_copy = dataset.copy_dataset()\\n        dataset_copy.dataf.loc[:, col] = dataset_copy.get_column_selection(col).pipe(\\n            self._quadratic\\n        )\\n        return Dataset(**dataset_copy.__dict__)\\n\\n    @staticmethod\\n    def _quadratic(dataf: pd.DataFrame):\\n        return dataf ** 2\\n\\n\\n@support_dataset_processing\\ndef test_dataf_with_dataset_input(dataset: Dataset, col: str) -> Dataset:\\n    return pandas_quad(dataset, col=col)\\n\\n\\n@support_dataf_processing\\ndef test_dataset_with_dataf_input(dataf: pd.DataFrame, col: str) -> pd.DataFrame:\\n    return QuadraticProcessor().transform(dataset=dataf, col=col)\";\n                var nbb_cells = Jupyter.notebook.get_cells();\n                for (var i = 0; i < nbb_cells.length; ++i) {\n                    if (nbb_cells[i].input_prompt_number == nbb_cell_id) {\n                        if (nbb_cells[i].get_text() == nbb_unformatted_code) {\n                             nbb_cells[i].set_text(nbb_formatted_code);\n                        }\n                        break;\n                    }\n                }\n            }, 500);\n            ",
      "text/plain": "<IPython.core.display.Javascript object>"
     },
     "metadata": {},
     "output_type": "display_data"
    }
   ],
   "source": [
    "# Random DataFrame\n",
    "test_features = [f\"feature_{l}\" for l in \"ABCDEFGHIK\"]\n",
    "id_col = [uuid.uuid4().hex for _ in range(100)]\n",
    "df = pd.DataFrame(np.random.uniform(size=(100, 10)), columns=test_features)\n",
    "\n",
    "def pandas_quad(df, col: str):\n",
    "    \"\"\" Simple DataFrame function which takes gives column to power of 2. \"\"\"\n",
    "    df_copy = df.copy()\n",
    "    df_copy.loc[:, col] = df_copy.loc[:, col].apply(lambda x: x ** 2)\n",
    "    return df_copy\n",
    "\n",
    "class QuadraticProcessor(BaseProcessor):\n",
    "    \"\"\" Simple Dataset Processor which takes gives column to power of 2. \"\"\"\n",
    "    def __init__(self):\n",
    "        super(QuadraticProcessor, self).__init__()\n",
    "\n",
    "    def transform(self, dataset: Dataset, col: str) -> Dataset:\n",
    "        dataset_copy = dataset.copy_dataset()\n",
    "        dataset_copy.dataf.loc[:, col] = dataset_copy.get_column_selection(col).pipe(self._quadratic)\n",
    "        return Dataset(**dataset_copy.__dict__)\n",
    "\n",
    "    @staticmethod\n",
    "    def _quadratic(dataf: pd.DataFrame):\n",
    "        return dataf ** 2\n",
    "\n",
    "\n",
    "@support_dataset_processing\n",
    "def test_dataf_with_dataset_input(dataset: Dataset, col: str) -> Dataset:\n",
    "    return pandas_quad(dataset, col=col)\n",
    "\n",
    "@support_dataf_processing\n",
    "def test_dataset_with_dataf_input(dataf: pd.DataFrame, col: str) -> pd.DataFrame:\n",
    "    return QuadraticProcessor().transform(dataset=dataf, col=col)"
   ]
  },
  {
   "cell_type": "code",
   "execution_count": null,
   "metadata": {},
   "outputs": [
    {
     "data": {
      "application/javascript": "\n            setTimeout(function() {\n                var nbb_cell_id = 8;\n                var nbb_unformatted_code = \"feature_to_transform = \\\"feature_B\\\"\\ntransformed_dataset = test_dataf_with_dataset_input(Dataset(df), col=feature_to_transform)\\ntransformed_df = test_dataset_with_dataf_input(df, col=feature_to_transform)\";\n                var nbb_formatted_code = \"feature_to_transform = \\\"feature_B\\\"\\ntransformed_dataset = test_dataf_with_dataset_input(\\n    Dataset(df), col=feature_to_transform\\n)\\ntransformed_df = test_dataset_with_dataf_input(df, col=feature_to_transform)\";\n                var nbb_cells = Jupyter.notebook.get_cells();\n                for (var i = 0; i < nbb_cells.length; ++i) {\n                    if (nbb_cells[i].input_prompt_number == nbb_cell_id) {\n                        if (nbb_cells[i].get_text() == nbb_unformatted_code) {\n                             nbb_cells[i].set_text(nbb_formatted_code);\n                        }\n                        break;\n                    }\n                }\n            }, 500);\n            ",
      "text/plain": "<IPython.core.display.Javascript object>"
     },
     "metadata": {},
     "output_type": "display_data"
    }
   ],
   "source": [
    "feature_to_transform = \"feature_B\"\n",
    "transformed_dataset = test_dataf_with_dataset_input(Dataset(df), col=feature_to_transform)\n",
    "transformed_df = test_dataset_with_dataf_input(df, col=feature_to_transform)"
   ]
  },
  {
   "cell_type": "code",
   "execution_count": null,
   "metadata": {},
   "outputs": [
    {
     "data": {
      "application/javascript": "\n            setTimeout(function() {\n                var nbb_cell_id = 9;\n                var nbb_unformatted_code = \"transform_method_1 = transformed_dataset.get_column_selection(feature_to_transform).round(8)\\ntransform_method_2 = transformed_df.loc[:, [feature_to_transform]].round(8)\\n\\nassert transform_method_1.equals(transform_method_2)\";\n                var nbb_formatted_code = \"transform_method_1 = transformed_dataset.get_column_selection(\\n    feature_to_transform\\n).round(8)\\ntransform_method_2 = transformed_df.loc[:, [feature_to_transform]].round(8)\\n\\nassert transform_method_1.equals(transform_method_2)\";\n                var nbb_cells = Jupyter.notebook.get_cells();\n                for (var i = 0; i < nbb_cells.length; ++i) {\n                    if (nbb_cells[i].input_prompt_number == nbb_cell_id) {\n                        if (nbb_cells[i].get_text() == nbb_unformatted_code) {\n                             nbb_cells[i].set_text(nbb_formatted_code);\n                        }\n                        break;\n                    }\n                }\n            }, 500);\n            ",
      "text/plain": "<IPython.core.display.Javascript object>"
     },
     "metadata": {},
     "output_type": "display_data"
    }
   ],
   "source": [
    "transform_method_1 = transformed_dataset.get_column_selection(feature_to_transform).round(8)\n",
    "transform_method_2 = transformed_df.loc[:, [feature_to_transform]].round(8)\n",
    "\n",
    "assert transform_method_1.equals(transform_method_2)"
   ]
  },
  {
   "cell_type": "markdown",
   "metadata": {},
   "source": [
    "### 0.3. Logging"
   ]
  },
  {
   "cell_type": "code",
   "execution_count": null,
   "metadata": {},
   "outputs": [
    {
     "data": {
      "application/javascript": "\n            setTimeout(function() {\n                var nbb_cell_id = 10;\n                var nbb_unformatted_code = \"#export\\ndef display_processor_info(func):\\n    @wraps(func)\\n    def wrapper(*args, **kwargs):\\n        tic = dt.datetime.now()\\n        result = func(*args, **kwargs)\\n        time_taken = str(dt.datetime.now() - tic)\\n        class_name = func.__qualname__.split('.')[0]\\n        rich_print(f\\\":white_check_mark: Finished step [bold]{class_name}[/bold]. Output shape={result.dataf.shape}. Time taken for step: {time_taken}. :white_check_mark:\\\")\\n        return result\\n    return wrapper\";\n                var nbb_formatted_code = \"# export\\ndef display_processor_info(func):\\n    @wraps(func)\\n    def wrapper(*args, **kwargs):\\n        tic = dt.datetime.now()\\n        result = func(*args, **kwargs)\\n        time_taken = str(dt.datetime.now() - tic)\\n        class_name = func.__qualname__.split(\\\".\\\")[0]\\n        rich_print(\\n            f\\\":white_check_mark: Finished step [bold]{class_name}[/bold]. Output shape={result.dataf.shape}. Time taken for step: {time_taken}. :white_check_mark:\\\"\\n        )\\n        return result\\n\\n    return wrapper\";\n                var nbb_cells = Jupyter.notebook.get_cells();\n                for (var i = 0; i < nbb_cells.length; ++i) {\n                    if (nbb_cells[i].input_prompt_number == nbb_cell_id) {\n                        if (nbb_cells[i].get_text() == nbb_unformatted_code) {\n                             nbb_cells[i].set_text(nbb_formatted_code);\n                        }\n                        break;\n                    }\n                }\n            }, 500);\n            ",
      "text/plain": "<IPython.core.display.Javascript object>"
     },
     "metadata": {},
     "output_type": "display_data"
    }
   ],
   "source": [
    "#export\n",
    "def display_processor_info(func):\n",
    "    @wraps(func)\n",
    "    def wrapper(*args, **kwargs):\n",
    "        tic = dt.datetime.now()\n",
    "        result = func(*args, **kwargs)\n",
    "        time_taken = str(dt.datetime.now() - tic)\n",
    "        class_name = func.__qualname__.split('.')[0]\n",
    "        rich_print(f\":white_check_mark: Finished step [bold]{class_name}[/bold]. Output shape={result.dataf.shape}. Time taken for step: {time_taken}. :white_check_mark:\")\n",
    "        return result\n",
    "    return wrapper"
   ]
  },
  {
   "cell_type": "markdown",
   "metadata": {},
   "source": []
  },
  {
   "cell_type": "markdown",
   "metadata": {},
   "source": [
    "## 1. Common preprocessing steps\n"
   ]
  },
  {
   "cell_type": "code",
   "execution_count": null,
   "metadata": {},
   "outputs": [
    {
     "data": {
      "application/javascript": "\n            setTimeout(function() {\n                var nbb_cell_id = 11;\n                var nbb_unformatted_code = \"#export\\n@typechecked\\nclass CopyPreProcessor(BaseProcessor):\\n    \\\"\\\"\\\"Copy DataFrame to avoid manipulation of original DataFrame. \\\"\\\"\\\"\\n    def __init__(self):\\n        super(CopyPreProcessor, self).__init__()\\n\\n    @display_processor_info\\n    def transform(self, dataset: Dataset, *args, **kwargs) -> Dataset:\\n        return dataset.copy_dataset()\\n\\n@typechecked\\nclass GroupStatsPreProcessor(BaseProcessor):\\n    \\\"\\\"\\\"\\n    WARNING: Only supported for Version 1 (legacy) data.\\n    Calculate group statistics for all data groups.\\n    \\\"\\\"\\\"\\n    def __init__(self):\\n        super(GroupStatsPreProcessor, self).__init__()\\n        self.group_names = [\\\"intelligence\\\", \\\"wisdom\\\", \\\"charisma\\\",\\n                            \\\"dexterity\\\", \\\"strength\\\", \\\"constitution\\\"]\\n\\n    @display_processor_info\\n    def transform(self, dataset: Dataset, *args, **kwargs) -> Dataset:\\n        self._check_data_validity(dataset=dataset)\\n        dataset.dataf = dataset.dataf.pipe(self._add_group_features)\\n        return Dataset(**dataset.__dict__)\\n\\n    def _add_group_features(self, dataf: pd.DataFrame) -> pd.DataFrame:\\n        \\\"\\\"\\\" Mean, standard deviation and skew for each group. \\\"\\\"\\\"\\n        for group in self.group_names:\\n            cols = [col for col in df.columns if group in col]\\n            dataf[f\\\"feature_{group}_mean\\\"] = dataf[cols].mean(axis=1)\\n            dataf[f\\\"feature_{group}_std\\\"] = dataf[cols].std(axis=1)\\n            dataf[f\\\"feature_{group}_skew\\\"] = dataf[cols].skew(axis=1)\\n        return dataf\\n\\n\\n    def _check_data_validity(self, dataset: Dataset):\\n        assert hasattr(dataset, 'version'), f\\\"Version should be specified for '{self.__class__.__name__}' This Preprocessor will only work on version 1 data.\\\"\\n        assert getattr(dataset, 'version') == 1, f\\\"'{self.__class__.__name__}' only works on version 1 data. Got version: '{getattr(dataset, 'version')}'.\\\"\";\n                var nbb_formatted_code = \"# export\\n@typechecked\\nclass CopyPreProcessor(BaseProcessor):\\n    \\\"\\\"\\\"Copy DataFrame to avoid manipulation of original DataFrame.\\\"\\\"\\\"\\n\\n    def __init__(self):\\n        super(CopyPreProcessor, self).__init__()\\n\\n    @display_processor_info\\n    def transform(self, dataset: Dataset, *args, **kwargs) -> Dataset:\\n        return dataset.copy_dataset()\\n\\n\\n@typechecked\\nclass GroupStatsPreProcessor(BaseProcessor):\\n    \\\"\\\"\\\"\\n    WARNING: Only supported for Version 1 (legacy) data.\\n    Calculate group statistics for all data groups.\\n    \\\"\\\"\\\"\\n\\n    def __init__(self):\\n        super(GroupStatsPreProcessor, self).__init__()\\n        self.group_names = [\\n            \\\"intelligence\\\",\\n            \\\"wisdom\\\",\\n            \\\"charisma\\\",\\n            \\\"dexterity\\\",\\n            \\\"strength\\\",\\n            \\\"constitution\\\",\\n        ]\\n\\n    @display_processor_info\\n    def transform(self, dataset: Dataset, *args, **kwargs) -> Dataset:\\n        self._check_data_validity(dataset=dataset)\\n        dataset.dataf = dataset.dataf.pipe(self._add_group_features)\\n        return Dataset(**dataset.__dict__)\\n\\n    def _add_group_features(self, dataf: pd.DataFrame) -> pd.DataFrame:\\n        \\\"\\\"\\\"Mean, standard deviation and skew for each group.\\\"\\\"\\\"\\n        for group in self.group_names:\\n            cols = [col for col in df.columns if group in col]\\n            dataf[f\\\"feature_{group}_mean\\\"] = dataf[cols].mean(axis=1)\\n            dataf[f\\\"feature_{group}_std\\\"] = dataf[cols].std(axis=1)\\n            dataf[f\\\"feature_{group}_skew\\\"] = dataf[cols].skew(axis=1)\\n        return dataf\\n\\n    def _check_data_validity(self, dataset: Dataset):\\n        assert hasattr(\\n            dataset, \\\"version\\\"\\n        ), f\\\"Version should be specified for '{self.__class__.__name__}' This Preprocessor will only work on version 1 data.\\\"\\n        assert (\\n            getattr(dataset, \\\"version\\\") == 1\\n        ), f\\\"'{self.__class__.__name__}' only works on version 1 data. Got version: '{getattr(dataset, 'version')}'.\\\"\";\n                var nbb_cells = Jupyter.notebook.get_cells();\n                for (var i = 0; i < nbb_cells.length; ++i) {\n                    if (nbb_cells[i].input_prompt_number == nbb_cell_id) {\n                        if (nbb_cells[i].get_text() == nbb_unformatted_code) {\n                             nbb_cells[i].set_text(nbb_formatted_code);\n                        }\n                        break;\n                    }\n                }\n            }, 500);\n            ",
      "text/plain": "<IPython.core.display.Javascript object>"
     },
     "metadata": {},
     "output_type": "display_data"
    }
   ],
   "source": [
    "#export\n",
    "@typechecked\n",
    "class CopyPreProcessor(BaseProcessor):\n",
    "    \"\"\"Copy DataFrame to avoid manipulation of original DataFrame. \"\"\"\n",
    "    def __init__(self):\n",
    "        super(CopyPreProcessor, self).__init__()\n",
    "\n",
    "    @display_processor_info\n",
    "    def transform(self, dataset: Dataset, *args, **kwargs) -> Dataset:\n",
    "        return dataset.copy_dataset()\n",
    "\n",
    "@typechecked\n",
    "class GroupStatsPreProcessor(BaseProcessor):\n",
    "    \"\"\"\n",
    "    WARNING: Only supported for Version 1 (legacy) data.\n",
    "    Calculate group statistics for all data groups.\n",
    "    \"\"\"\n",
    "    def __init__(self):\n",
    "        super(GroupStatsPreProcessor, self).__init__()\n",
    "        self.group_names = [\"intelligence\", \"wisdom\", \"charisma\",\n",
    "                            \"dexterity\", \"strength\", \"constitution\"]\n",
    "\n",
    "    @display_processor_info\n",
    "    def transform(self, dataset: Dataset, *args, **kwargs) -> Dataset:\n",
    "        self._check_data_validity(dataset=dataset)\n",
    "        dataset.dataf = dataset.dataf.pipe(self._add_group_features)\n",
    "        return Dataset(**dataset.__dict__)\n",
    "\n",
    "    def _add_group_features(self, dataf: pd.DataFrame) -> pd.DataFrame:\n",
    "        \"\"\" Mean, standard deviation and skew for each group. \"\"\"\n",
    "        for group in self.group_names:\n",
    "            cols = [col for col in df.columns if group in col]\n",
    "            dataf[f\"feature_{group}_mean\"] = dataf[cols].mean(axis=1)\n",
    "            dataf[f\"feature_{group}_std\"] = dataf[cols].std(axis=1)\n",
    "            dataf[f\"feature_{group}_skew\"] = dataf[cols].skew(axis=1)\n",
    "        return dataf\n",
    "\n",
    "\n",
    "    def _check_data_validity(self, dataset: Dataset):\n",
    "        assert hasattr(dataset, 'version'), f\"Version should be specified for '{self.__class__.__name__}' This Preprocessor will only work on version 1 data.\"\n",
    "        assert getattr(dataset, 'version') == 1, f\"'{self.__class__.__name__}' only works on version 1 data. Got version: '{getattr(dataset, 'version')}'.\"\n"
   ]
  },
  {
   "cell_type": "markdown",
   "metadata": {},
   "source": [
    "#### Tests"
   ]
  },
  {
   "cell_type": "code",
   "execution_count": null,
   "metadata": {},
   "outputs": [
    {
     "data": {
      "text/html": "<div>\n<style scoped>\n    .dataframe tbody tr th:only-of-type {\n        vertical-align: middle;\n    }\n\n    .dataframe tbody tr th {\n        vertical-align: top;\n    }\n\n    .dataframe thead th {\n        text-align: right;\n    }\n</style>\n<table border=\"1\" class=\"dataframe\">\n  <thead>\n    <tr style=\"text-align: right;\">\n      <th></th>\n      <th>id</th>\n      <th>era</th>\n      <th>data_type</th>\n      <th>feature_intelligence1</th>\n      <th>feature_intelligence2</th>\n      <th>feature_intelligence3</th>\n      <th>feature_intelligence4</th>\n      <th>feature_intelligence5</th>\n      <th>feature_intelligence6</th>\n      <th>feature_intelligence7</th>\n      <th>...</th>\n      <th>feature_wisdom38</th>\n      <th>feature_wisdom39</th>\n      <th>feature_wisdom40</th>\n      <th>feature_wisdom41</th>\n      <th>feature_wisdom42</th>\n      <th>feature_wisdom43</th>\n      <th>feature_wisdom44</th>\n      <th>feature_wisdom45</th>\n      <th>feature_wisdom46</th>\n      <th>target</th>\n    </tr>\n  </thead>\n  <tbody>\n    <tr>\n      <th>0</th>\n      <td>n000315175b67977</td>\n      <td>era1</td>\n      <td>train</td>\n      <td>0.0</td>\n      <td>0.5</td>\n      <td>0.25</td>\n      <td>0.00</td>\n      <td>0.5</td>\n      <td>0.25</td>\n      <td>0.25</td>\n      <td>...</td>\n      <td>1.0</td>\n      <td>1.0</td>\n      <td>0.75</td>\n      <td>0.5</td>\n      <td>0.75</td>\n      <td>0.50</td>\n      <td>1.0</td>\n      <td>0.50</td>\n      <td>0.75</td>\n      <td>0.50</td>\n    </tr>\n    <tr>\n      <th>1</th>\n      <td>n0014af834a96cdd</td>\n      <td>era1</td>\n      <td>train</td>\n      <td>0.0</td>\n      <td>0.0</td>\n      <td>0.00</td>\n      <td>0.25</td>\n      <td>0.5</td>\n      <td>0.00</td>\n      <td>0.00</td>\n      <td>...</td>\n      <td>1.0</td>\n      <td>1.0</td>\n      <td>0.00</td>\n      <td>0.0</td>\n      <td>0.75</td>\n      <td>0.25</td>\n      <td>0.0</td>\n      <td>0.25</td>\n      <td>1.00</td>\n      <td>0.25</td>\n    </tr>\n  </tbody>\n</table>\n<p>2 rows × 314 columns</p>\n</div>",
      "text/plain": "                 id   era data_type  feature_intelligence1  \\\n0  n000315175b67977  era1     train                    0.0   \n1  n0014af834a96cdd  era1     train                    0.0   \n\n   feature_intelligence2  feature_intelligence3  feature_intelligence4  \\\n0                    0.5                   0.25                   0.00   \n1                    0.0                   0.00                   0.25   \n\n   feature_intelligence5  feature_intelligence6  feature_intelligence7  ...  \\\n0                    0.5                   0.25                   0.25  ...   \n1                    0.5                   0.00                   0.00  ...   \n\n   feature_wisdom38  feature_wisdom39  feature_wisdom40  feature_wisdom41  \\\n0               1.0               1.0              0.75               0.5   \n1               1.0               1.0              0.00               0.0   \n\n   feature_wisdom42  feature_wisdom43  feature_wisdom44  feature_wisdom45  \\\n0              0.75              0.50               1.0              0.50   \n1              0.75              0.25               0.0              0.25   \n\n   feature_wisdom46  target  \n0              0.75    0.50  \n1              1.00    0.25  \n\n[2 rows x 314 columns]"
     },
     "execution_count": null,
     "metadata": {},
     "output_type": "execute_result"
    },
    {
     "data": {
      "application/javascript": "\n            setTimeout(function() {\n                var nbb_cell_id = 12;\n                var nbb_unformatted_code = \"# Top 10 rows of numerai version 1 (legacy) training data.\\ndf = pd.read_csv(\\\"test_assets/mini_numerai_version_1_data.csv\\\")\\ndf.head(2)\";\n                var nbb_formatted_code = \"# Top 10 rows of numerai version 1 (legacy) training data.\\ndf = pd.read_csv(\\\"test_assets/mini_numerai_version_1_data.csv\\\")\\ndf.head(2)\";\n                var nbb_cells = Jupyter.notebook.get_cells();\n                for (var i = 0; i < nbb_cells.length; ++i) {\n                    if (nbb_cells[i].input_prompt_number == nbb_cell_id) {\n                        if (nbb_cells[i].get_text() == nbb_unformatted_code) {\n                             nbb_cells[i].set_text(nbb_formatted_code);\n                        }\n                        break;\n                    }\n                }\n            }, 500);\n            ",
      "text/plain": "<IPython.core.display.Javascript object>"
     },
     "metadata": {},
     "output_type": "display_data"
    }
   ],
   "source": [
    "# Top 10 rows of numerai version 1 (legacy) training data.\n",
    "df = pd.read_csv(\"test_assets/mini_numerai_version_1_data.csv\")\n",
    "df.head(2)"
   ]
  },
  {
   "cell_type": "code",
   "execution_count": null,
   "metadata": {},
   "outputs": [
    {
     "data": {
      "application/javascript": "\n            setTimeout(function() {\n                var nbb_cell_id = 13;\n                var nbb_unformatted_code = \"metadata = {\\\"version\\\": 1, \\\"multi_target\\\": False}\\ndataset = Dataset(df, metadata)\";\n                var nbb_formatted_code = \"metadata = {\\\"version\\\": 1, \\\"multi_target\\\": False}\\ndataset = Dataset(df, metadata)\";\n                var nbb_cells = Jupyter.notebook.get_cells();\n                for (var i = 0; i < nbb_cells.length; ++i) {\n                    if (nbb_cells[i].input_prompt_number == nbb_cell_id) {\n                        if (nbb_cells[i].get_text() == nbb_unformatted_code) {\n                             nbb_cells[i].set_text(nbb_formatted_code);\n                        }\n                        break;\n                    }\n                }\n            }, 500);\n            ",
      "text/plain": "<IPython.core.display.Javascript object>"
     },
     "metadata": {},
     "output_type": "display_data"
    }
   ],
   "source": [
    "metadata = {\"version\": 1, \"multi_target\": False}\n",
    "dataset = Dataset(df, metadata)"
   ]
  },
  {
   "cell_type": "code",
   "execution_count": null,
   "metadata": {},
   "outputs": [
    {
     "data": {
      "text/html": "<pre style=\"white-space:pre;overflow-x:auto;line-height:normal;font-family:Menlo,'DejaVu Sans Mono',consolas,'Courier New',monospace\">✅ Finished step <span style=\"font-weight: bold\">CopyPreProcessor</span>. Output <span style=\"color: #808000; text-decoration-color: #808000\">shape</span>=<span style=\"font-weight: bold\">(</span><span style=\"color: #008080; text-decoration-color: #008080; font-weight: bold\">10</span>, <span style=\"color: #008080; text-decoration-color: #008080; font-weight: bold\">314</span><span style=\"font-weight: bold\">)</span>. Time taken for step: \n<span style=\"color: #00ff00; text-decoration-color: #00ff00; font-weight: bold\">0:00:00</span>.<span style=\"color: #008080; text-decoration-color: #008080; font-weight: bold\">000923</span>. ✅\n</pre>\n",
      "text/plain": "✅ Finished step \u001b[1mCopyPreProcessor\u001b[0m. Output \u001b[33mshape\u001b[0m=\u001b[1m(\u001b[0m\u001b[1;36m10\u001b[0m, \u001b[1;36m314\u001b[0m\u001b[1m)\u001b[0m. Time taken for step: \n\u001b[1;92m0:00:00\u001b[0m.\u001b[1;36m000923\u001b[0m. ✅\n"
     },
     "metadata": {},
     "output_type": "display_data"
    },
    {
     "data": {
      "application/javascript": "\n            setTimeout(function() {\n                var nbb_cell_id = 14;\n                var nbb_unformatted_code = \"copied_dataset = CopyPreProcessor().transform(dataset)\\nassert copied_dataset.dataf.equals(dataset.dataf)\\nassert dataset.version, dataset.multi_target == (copied_dataset.version, copied_dataset.multi_target)\";\n                var nbb_formatted_code = \"copied_dataset = CopyPreProcessor().transform(dataset)\\nassert copied_dataset.dataf.equals(dataset.dataf)\\nassert dataset.version, dataset.multi_target == (\\n    copied_dataset.version,\\n    copied_dataset.multi_target,\\n)\";\n                var nbb_cells = Jupyter.notebook.get_cells();\n                for (var i = 0; i < nbb_cells.length; ++i) {\n                    if (nbb_cells[i].input_prompt_number == nbb_cell_id) {\n                        if (nbb_cells[i].get_text() == nbb_unformatted_code) {\n                             nbb_cells[i].set_text(nbb_formatted_code);\n                        }\n                        break;\n                    }\n                }\n            }, 500);\n            ",
      "text/plain": "<IPython.core.display.Javascript object>"
     },
     "metadata": {},
     "output_type": "display_data"
    }
   ],
   "source": [
    "copied_dataset = CopyPreProcessor().transform(dataset)\n",
    "assert copied_dataset.dataf.equals(dataset.dataf)\n",
    "assert dataset.version, dataset.multi_target == (copied_dataset.version, copied_dataset.multi_target)"
   ]
  },
  {
   "cell_type": "code",
   "execution_count": null,
   "metadata": {},
   "outputs": [
    {
     "data": {
      "text/html": "<pre style=\"white-space:pre;overflow-x:auto;line-height:normal;font-family:Menlo,'DejaVu Sans Mono',consolas,'Courier New',monospace\">✅ Finished step <span style=\"font-weight: bold\">GroupStatsPreProcessor</span>. Output <span style=\"color: #808000; text-decoration-color: #808000\">shape</span>=<span style=\"font-weight: bold\">(</span><span style=\"color: #008080; text-decoration-color: #008080; font-weight: bold\">10</span>, <span style=\"color: #008080; text-decoration-color: #008080; font-weight: bold\">332</span><span style=\"font-weight: bold\">)</span>. Time taken for step: \n<span style=\"color: #00ff00; text-decoration-color: #00ff00; font-weight: bold\">0:00:00</span>.<span style=\"color: #008080; text-decoration-color: #008080; font-weight: bold\">033839</span>. ✅\n</pre>\n",
      "text/plain": "✅ Finished step \u001b[1mGroupStatsPreProcessor\u001b[0m. Output \u001b[33mshape\u001b[0m=\u001b[1m(\u001b[0m\u001b[1;36m10\u001b[0m, \u001b[1;36m332\u001b[0m\u001b[1m)\u001b[0m. Time taken for step: \n\u001b[1;92m0:00:00\u001b[0m.\u001b[1;36m033839\u001b[0m. ✅\n"
     },
     "metadata": {},
     "output_type": "display_data"
    },
    {
     "data": {
      "application/javascript": "\n            setTimeout(function() {\n                var nbb_cell_id = 15;\n                var nbb_unformatted_code = \"group_features_dataset = GroupStatsPreProcessor().transform(copied_dataset)\\ngroup_features_dataset.dataf.head(2)\\nassert group_features_dataset.version == 1\";\n                var nbb_formatted_code = \"group_features_dataset = GroupStatsPreProcessor().transform(copied_dataset)\\ngroup_features_dataset.dataf.head(2)\\nassert group_features_dataset.version == 1\";\n                var nbb_cells = Jupyter.notebook.get_cells();\n                for (var i = 0; i < nbb_cells.length; ++i) {\n                    if (nbb_cells[i].input_prompt_number == nbb_cell_id) {\n                        if (nbb_cells[i].get_text() == nbb_unformatted_code) {\n                             nbb_cells[i].set_text(nbb_formatted_code);\n                        }\n                        break;\n                    }\n                }\n            }, 500);\n            ",
      "text/plain": "<IPython.core.display.Javascript object>"
     },
     "metadata": {},
     "output_type": "display_data"
    }
   ],
   "source": [
    "group_features_dataset = GroupStatsPreProcessor().transform(copied_dataset)\n",
    "group_features_dataset.dataf.head(2)\n",
    "assert group_features_dataset.version == 1"
   ]
  },
  {
   "cell_type": "code",
   "execution_count": null,
   "metadata": {},
   "outputs": [
    {
     "data": {
      "application/javascript": "\n            setTimeout(function() {\n                var nbb_cell_id = 16;\n                var nbb_unformatted_code = \"# copied_dataset.version = 2\\n# GroupStatsPreProcessor().transform(copied_dataset)\";\n                var nbb_formatted_code = \"# copied_dataset.version = 2\\n# GroupStatsPreProcessor().transform(copied_dataset)\";\n                var nbb_cells = Jupyter.notebook.get_cells();\n                for (var i = 0; i < nbb_cells.length; ++i) {\n                    if (nbb_cells[i].input_prompt_number == nbb_cell_id) {\n                        if (nbb_cells[i].get_text() == nbb_unformatted_code) {\n                             nbb_cells[i].set_text(nbb_formatted_code);\n                        }\n                        break;\n                    }\n                }\n            }, 500);\n            ",
      "text/plain": "<IPython.core.display.Javascript object>"
     },
     "metadata": {},
     "output_type": "display_data"
    }
   ],
   "source": [
    "# copied_dataset.version = 2\n",
    "# GroupStatsPreProcessor().transform(copied_dataset)"
   ]
  },
  {
   "cell_type": "markdown",
   "metadata": {},
   "source": [
    "## 2. Custom preprocessors"
   ]
  },
  {
   "cell_type": "markdown",
   "metadata": {},
   "source": [
    "There are an almost unlimited number of ways to preprocess data. We have only scratched the surface with the preprocessors currently implemented in `numerai-blocks`. We invite the Numerai community to develop Numerai Classic and Signals preprocessors for `numerai-blocks`.\n",
    "\n",
    "A new Preprocessor should inherit from `BaseProcessor` and implement a `transform` method. The `transform` method should take a `Dataset` as input and return a `Dataset` object as output. An example is given below.\n",
    "\n",
    "To enable fancy logging output. Add the `@display_processor_info` decorator to the `transform` method.\n",
    "\n",
    "Note that arbitrary metadata can be added or changed in a preprocessing step."
   ]
  },
  {
   "cell_type": "code",
   "execution_count": null,
   "metadata": {},
   "outputs": [
    {
     "data": {
      "application/javascript": "\n            setTimeout(function() {\n                var nbb_cell_id = 17;\n                var nbb_unformatted_code = \"class AwesomePreProcessor(BaseProcessor):\\n    \\\"\\\"\\\"\\n    - TEMPLATE -\\n    Do some awesome preprocessing.\\n    \\\"\\\"\\\"\\n    def __init__(self, *args, **kwargs):\\n        super(AwesomePreProcessor, self).__init__()\\n\\n    @display_processor_info\\n    def transform(self, dataset: Dataset, *args, **kwargs) -> Dataset:\\n        # Do processing\\n        ...\\n        # Parse all contents of Dataset to the next pipeline step\\n        return Dataset(**dataset.__dict__)\";\n                var nbb_formatted_code = \"class AwesomePreProcessor(BaseProcessor):\\n    \\\"\\\"\\\"\\n    - TEMPLATE -\\n    Do some awesome preprocessing.\\n    \\\"\\\"\\\"\\n\\n    def __init__(self, *args, **kwargs):\\n        super(AwesomePreProcessor, self).__init__()\\n\\n    @display_processor_info\\n    def transform(self, dataset: Dataset, *args, **kwargs) -> Dataset:\\n        # Do processing\\n        ...\\n        # Parse all contents of Dataset to the next pipeline step\\n        return Dataset(**dataset.__dict__)\";\n                var nbb_cells = Jupyter.notebook.get_cells();\n                for (var i = 0; i < nbb_cells.length; ++i) {\n                    if (nbb_cells[i].input_prompt_number == nbb_cell_id) {\n                        if (nbb_cells[i].get_text() == nbb_unformatted_code) {\n                             nbb_cells[i].set_text(nbb_formatted_code);\n                        }\n                        break;\n                    }\n                }\n            }, 500);\n            ",
      "text/plain": "<IPython.core.display.Javascript object>"
     },
     "metadata": {},
     "output_type": "display_data"
    }
   ],
   "source": [
    "class AwesomePreProcessor(BaseProcessor):\n",
    "    \"\"\"\n",
    "    - TEMPLATE -\n",
    "    Do some awesome preprocessing.\n",
    "    \"\"\"\n",
    "    def __init__(self, *args, **kwargs):\n",
    "        super(AwesomePreProcessor, self).__init__()\n",
    "\n",
    "    @display_processor_info\n",
    "    def transform(self, dataset: Dataset, *args, **kwargs) -> Dataset:\n",
    "        # Do processing\n",
    "        ...\n",
    "        # Parse all contents of Dataset to the next pipeline step\n",
    "        return Dataset(**dataset.__dict__)"
   ]
  },
  {
   "cell_type": "markdown",
   "metadata": {},
   "source": [
    "-------------------------------------------"
   ]
  },
  {
   "cell_type": "code",
   "execution_count": null,
   "metadata": {},
   "outputs": [
    {
     "name": "stdout",
     "output_type": "stream",
     "text": [
      "Converted 00_download.ipynb.\n",
      "Converted 01_dataloaders.ipynb.\n",
      "Converted 02_dataset.ipynb.\n",
      "Converted 03_preprocessing.ipynb.\n",
      "Converted 04a_model.ipynb.\n",
      "Converted 04b_modelpipeline.ipynb.\n",
      "Converted 05_postprocessing.ipynb.\n",
      "Converted 06_prediction_dataset.ipynb.\n",
      "Converted 07_evaluation.ipynb.\n",
      "Converted 08_key.ipynb.\n",
      "Converted 09_submission.ipynb.\n",
      "Converted 10_staker.ipynb.\n",
      "Converted index.ipynb.\n"
     ]
    },
    {
     "data": {
      "application/javascript": "\n            setTimeout(function() {\n                var nbb_cell_id = 18;\n                var nbb_unformatted_code = \"# hide\\n# Run this cell to sync all changes with library\\nfrom nbdev.export import notebook2script\\n\\nnotebook2script()\";\n                var nbb_formatted_code = \"# hide\\n# Run this cell to sync all changes with library\\nfrom nbdev.export import notebook2script\\n\\nnotebook2script()\";\n                var nbb_cells = Jupyter.notebook.get_cells();\n                for (var i = 0; i < nbb_cells.length; ++i) {\n                    if (nbb_cells[i].input_prompt_number == nbb_cell_id) {\n                        if (nbb_cells[i].get_text() == nbb_unformatted_code) {\n                             nbb_cells[i].set_text(nbb_formatted_code);\n                        }\n                        break;\n                    }\n                }\n            }, 500);\n            ",
      "text/plain": "<IPython.core.display.Javascript object>"
     },
     "metadata": {},
     "output_type": "display_data"
    }
   ],
   "source": [
    "# hide\n",
    "# Run this cell to sync all changes with library\n",
    "from nbdev.export import notebook2script\n",
    "\n",
    "notebook2script()"
   ]
  },
  {
   "cell_type": "code",
   "execution_count": null,
   "metadata": {},
   "outputs": [
    {
     "data": {
      "application/javascript": "\n            setTimeout(function() {\n                var nbb_cell_id = 18;\n                var nbb_unformatted_code = \"# hide\\n# Run this cell to sync all changes with library\\nfrom nbdev.export import notebook2script\\n\\nnotebook2script()\";\n                var nbb_formatted_code = \"# hide\\n# Run this cell to sync all changes with library\\nfrom nbdev.export import notebook2script\\n\\nnotebook2script()\";\n                var nbb_cells = Jupyter.notebook.get_cells();\n                for (var i = 0; i < nbb_cells.length; ++i) {\n                    if (nbb_cells[i].input_prompt_number == nbb_cell_id) {\n                        if (nbb_cells[i].get_text() == nbb_unformatted_code) {\n                             nbb_cells[i].set_text(nbb_formatted_code);\n                        }\n                        break;\n                    }\n                }\n            }, 500);\n            ",
      "text/plain": "<IPython.core.display.Javascript object>"
     },
     "metadata": {},
     "output_type": "display_data"
    }
   ],
   "source": []
  }
 ],
 "metadata": {
  "kernelspec": {
   "display_name": "Python 3",
   "language": "python",
   "name": "python3"
  }
 },
 "nbformat": 4,
 "nbformat_minor": 0
}
