{
 "cells": [
  {
   "cell_type": "code",
   "execution_count": null,
   "metadata": {},
   "outputs": [],
   "source": [
    "%load_ext autoreload\n",
    "%autoreload 2\n",
    "%load_ext nb_black\n",
    "%load_ext lab_black"
   ]
  },
  {
   "cell_type": "code",
   "execution_count": null,
   "metadata": {},
   "outputs": [],
   "source": [
    "# default_exp dataset"
   ]
  },
  {
   "cell_type": "markdown",
   "metadata": {},
   "source": [
    "# Dataset"
   ]
  },
  {
   "cell_type": "code",
   "execution_count": null,
   "metadata": {},
   "outputs": [],
   "source": [
    "#hide\n",
    "from nbdev.showdoc import *"
   ]
  },
  {
   "cell_type": "code",
   "execution_count": null,
   "metadata": {},
   "outputs": [],
   "source": [
    "#export\n",
    "import uuid\n",
    "import numpy as np\n",
    "import pandas as pd\n",
    "from copy import deepcopy\n",
    "import json\n",
    "from pathlib import Path\n",
    "import datetime as dt\n",
    "from functools import wraps\n",
    "from rich import print as rich_print\n",
    "from typeguard import typechecked"
   ]
  },
  {
   "cell_type": "markdown",
   "metadata": {},
   "source": [
    "### Considerations"
   ]
  },
  {
   "cell_type": "markdown",
   "metadata": {},
   "source": [
    "Goal: Create dynamic Numerai dataset where we can add metadata and Numerai specific functionality while keeping the flexibility of Pandas DataFrames.\n",
    "\n",
    "__Options:__\n",
    "__1.__ Add metadata to DataFrame through `df.attrs['META'] = \"something\"`\n",
    "1.1. Downside: [Not persistent with parquet](https://stackoverflow.com/questions/14688306/adding-meta-information-metadata-to-pandas-dataframe).\n",
    "\n",
    "__2.__ Subclass from DataFrame and add functionality.\n",
    "2.1. Cumbersome when used to using `pd.read_csv`, `pd.read_parquet`, etc.\n",
    "2.2 More info: [StackOverflow](https://stackoverflow.com/questions/22155951/how-can-i-subclass-a-pandas-dataframe), [Pandas Docs](https://pandas.pydata.org/pandas-docs/stable/development/extending.html#extending-subclassing-pandas).\n",
    "\n",
    "__3.__ Develop dedicated `Dataset` class on which DataFrame is an attribute (`.dataf`)\n",
    "3.1. Easy to add functionality and typecheck.\n",
    "3.2. Does not work out of the box with sklearn Transformers, but can be easily made compatible with a single decorator.\n",
    "3.3. Easy to export and import metadata.\n"
   ]
  },
  {
   "cell_type": "code",
   "execution_count": null,
   "metadata": {},
   "outputs": [],
   "source": [
    "@typechecked\n",
    "class Dataset:\n",
    "    def __init__(self, dataf: pd.DataFrame, *args, **kwargs):\n",
    "        self.dataf = dataf\n",
    "        self.__dict__.update(*args, **kwargs)\n",
    "        self.features = [col for col in self.dataf.columns if \"feature\" in col]\n",
    "        self.targets = [col for col in self.dataf.columns if \"target\" in col]\n",
    "        self.aux_columns = [col for col in self.dataf.columns if col not in self.features + self.targets]\n",
    "        self.all_columns = self.features + self.targets + self.aux_columns\n",
    "\n",
    "    def copy_dataset(self):\n",
    "        \"\"\" Copy Dataset object \"\"\"\n",
    "        return deepcopy(self)\n",
    "\n",
    "    def copy_dataframe(self):\n",
    "        \"\"\" Copy DataFrame part of Dataset \"\"\"\n",
    "        return deepcopy(self.dataf)\n",
    "\n",
    "    def export_json_metadata(self, file=\"config.json\", verbose=False, **kwargs):\n",
    "        \"\"\" Export all attributes in Dataset that can be serialized to json file. \"\"\"\n",
    "        rich_print(f\":file_folder: Exporting metadata to {file} :file_folder:\")\n",
    "        json_txt = json.dumps(self.__dict__, default=lambda o: '<not serializable>', **kwargs)\n",
    "        if verbose:\n",
    "            rich_print(json_txt)\n",
    "        Path(file).write_text(json_txt)\n",
    "\n",
    "    def import_json_metadata(self, file=\"config.json\", verbose=False, **kwargs):\n",
    "        \"\"\" Load arbitrary data into Dataset object from json file \"\"\"\n",
    "        rich_print(f\":file_folder: Importing metadata from {file} :file_folder:\")\n",
    "        with open(file) as json_file:\n",
    "            json_data = json.load(json_file, **kwargs)\n",
    "        if verbose:\n",
    "            rich_print(json_data)\n",
    "        # Make sure there is no overwrite on DataFrame\n",
    "        json_data.pop('dataf', None)\n",
    "        self.__dict__.update(json_data)\n",
    "\n",
    "    @property\n",
    "    def get_feature_data(self):\n",
    "        return self.dataf.loc[:, [*self.features]]\n",
    "\n",
    "    @property\n",
    "    def get_target_data(self):\n",
    "        return self.dataf.loc[:, [*self.targets]]\n",
    "\n",
    "    @property\n",
    "    def get_aux_data(self):\n",
    "        \"\"\" All columns that are neither features or targets \"\"\"\n",
    "        return self.dataf.loc[:, [*self.aux_columns]]\n",
    "\n",
    "    def __repr__(self):\n",
    "        return f\"Dataset of shape {self.dataf.shape}. Columns: {self.all_columns}\"\n",
    "\n",
    "    def __str__(self):\n",
    "        return self.__repr__()"
   ]
  },
  {
   "cell_type": "markdown",
   "metadata": {},
   "source": [
    "### Tests"
   ]
  },
  {
   "cell_type": "code",
   "execution_count": null,
   "metadata": {},
   "outputs": [],
   "source": [
    "# Random DataFrame\n",
    "test_features = [f\"feature_{l}\" for l in \"ABCDEFGHIK\"]\n",
    "id_col = [uuid.uuid4().hex for _ in range(100)]\n",
    "\n",
    "df = pd.DataFrame(np.random.uniform(size=(100, 10)), columns=test_features)\n",
    "df['id'] = id_col\n",
    "df['target'] = np.random.normal(size=100)\n",
    "df['era'] = range(100)"
   ]
  },
  {
   "cell_type": "code",
   "execution_count": null,
   "metadata": {},
   "outputs": [],
   "source": [
    "metadata = {\"version\": 2, \"additional_info\": \"test_model\", \"multi_target\": False, \"tournament_type\": \"classic\"}\n",
    "dataset = Dataset(df, metadata)"
   ]
  },
  {
   "cell_type": "code",
   "execution_count": null,
   "metadata": {},
   "outputs": [
    {
     "data": {
      "text/html": "<div>\n<style scoped>\n    .dataframe tbody tr th:only-of-type {\n        vertical-align: middle;\n    }\n\n    .dataframe tbody tr th {\n        vertical-align: top;\n    }\n\n    .dataframe thead th {\n        text-align: right;\n    }\n</style>\n<table border=\"1\" class=\"dataframe\">\n  <thead>\n    <tr style=\"text-align: right;\">\n      <th></th>\n      <th>feature_A</th>\n      <th>feature_B</th>\n      <th>feature_C</th>\n      <th>feature_D</th>\n      <th>feature_E</th>\n      <th>feature_F</th>\n      <th>feature_G</th>\n      <th>feature_H</th>\n      <th>feature_I</th>\n      <th>feature_K</th>\n      <th>id</th>\n      <th>target</th>\n      <th>era</th>\n    </tr>\n  </thead>\n  <tbody>\n    <tr>\n      <th>0</th>\n      <td>0.282598</td>\n      <td>0.545272</td>\n      <td>0.344197</td>\n      <td>0.127119</td>\n      <td>0.388487</td>\n      <td>0.546871</td>\n      <td>0.657288</td>\n      <td>0.400873</td>\n      <td>0.600365</td>\n      <td>0.191064</td>\n      <td>ac775f64c5884973ba1b24bdbb8be913</td>\n      <td>0.731874</td>\n      <td>0</td>\n    </tr>\n    <tr>\n      <th>1</th>\n      <td>0.004041</td>\n      <td>0.788963</td>\n      <td>0.052953</td>\n      <td>0.435246</td>\n      <td>0.420473</td>\n      <td>0.816777</td>\n      <td>0.310608</td>\n      <td>0.081211</td>\n      <td>0.881146</td>\n      <td>0.697920</td>\n      <td>345b7532f7f74f47aff6f96ff95ebf63</td>\n      <td>0.674846</td>\n      <td>1</td>\n    </tr>\n  </tbody>\n</table>\n</div>",
      "text/plain": "   feature_A  feature_B  feature_C  feature_D  feature_E  feature_F  \\\n0   0.282598   0.545272   0.344197   0.127119   0.388487   0.546871   \n1   0.004041   0.788963   0.052953   0.435246   0.420473   0.816777   \n\n   feature_G  feature_H  feature_I  feature_K  \\\n0   0.657288   0.400873   0.600365   0.191064   \n1   0.310608   0.081211   0.881146   0.697920   \n\n                                 id    target  era  \n0  ac775f64c5884973ba1b24bdbb8be913  0.731874    0  \n1  345b7532f7f74f47aff6f96ff95ebf63  0.674846    1  "
     },
     "execution_count": null,
     "metadata": {},
     "output_type": "execute_result"
    }
   ],
   "source": [
    "dataset.dataf.head(2)"
   ]
  },
  {
   "cell_type": "code",
   "execution_count": null,
   "metadata": {},
   "outputs": [
    {
     "data": {
      "text/html": "<div>\n<style scoped>\n    .dataframe tbody tr th:only-of-type {\n        vertical-align: middle;\n    }\n\n    .dataframe tbody tr th {\n        vertical-align: top;\n    }\n\n    .dataframe thead th {\n        text-align: right;\n    }\n</style>\n<table border=\"1\" class=\"dataframe\">\n  <thead>\n    <tr style=\"text-align: right;\">\n      <th></th>\n      <th>feature_A</th>\n      <th>feature_B</th>\n      <th>feature_C</th>\n      <th>feature_D</th>\n      <th>feature_E</th>\n      <th>feature_F</th>\n      <th>feature_G</th>\n      <th>feature_H</th>\n      <th>feature_I</th>\n      <th>feature_K</th>\n    </tr>\n  </thead>\n  <tbody>\n    <tr>\n      <th>0</th>\n      <td>0.282598</td>\n      <td>0.545272</td>\n      <td>0.344197</td>\n      <td>0.127119</td>\n      <td>0.388487</td>\n      <td>0.546871</td>\n      <td>0.657288</td>\n      <td>0.400873</td>\n      <td>0.600365</td>\n      <td>0.191064</td>\n    </tr>\n    <tr>\n      <th>1</th>\n      <td>0.004041</td>\n      <td>0.788963</td>\n      <td>0.052953</td>\n      <td>0.435246</td>\n      <td>0.420473</td>\n      <td>0.816777</td>\n      <td>0.310608</td>\n      <td>0.081211</td>\n      <td>0.881146</td>\n      <td>0.697920</td>\n    </tr>\n  </tbody>\n</table>\n</div>",
      "text/plain": "   feature_A  feature_B  feature_C  feature_D  feature_E  feature_F  \\\n0   0.282598   0.545272   0.344197   0.127119   0.388487   0.546871   \n1   0.004041   0.788963   0.052953   0.435246   0.420473   0.816777   \n\n   feature_G  feature_H  feature_I  feature_K  \n0   0.657288   0.400873   0.600365   0.191064  \n1   0.310608   0.081211   0.881146   0.697920  "
     },
     "execution_count": null,
     "metadata": {},
     "output_type": "execute_result"
    }
   ],
   "source": [
    "dataset.get_feature_data.head(2)"
   ]
  },
  {
   "cell_type": "code",
   "execution_count": null,
   "metadata": {},
   "outputs": [
    {
     "data": {
      "text/plain": "['id', 'era']"
     },
     "execution_count": null,
     "metadata": {},
     "output_type": "execute_result"
    }
   ],
   "source": [
    "dataset.aux_columns"
   ]
  },
  {
   "cell_type": "code",
   "execution_count": null,
   "metadata": {},
   "outputs": [
    {
     "data": {
      "text/html": "<div>\n<style scoped>\n    .dataframe tbody tr th:only-of-type {\n        vertical-align: middle;\n    }\n\n    .dataframe tbody tr th {\n        vertical-align: top;\n    }\n\n    .dataframe thead th {\n        text-align: right;\n    }\n</style>\n<table border=\"1\" class=\"dataframe\">\n  <thead>\n    <tr style=\"text-align: right;\">\n      <th></th>\n      <th>id</th>\n      <th>era</th>\n    </tr>\n  </thead>\n  <tbody>\n    <tr>\n      <th>0</th>\n      <td>ac775f64c5884973ba1b24bdbb8be913</td>\n      <td>0</td>\n    </tr>\n    <tr>\n      <th>1</th>\n      <td>345b7532f7f74f47aff6f96ff95ebf63</td>\n      <td>1</td>\n    </tr>\n  </tbody>\n</table>\n</div>",
      "text/plain": "                                 id  era\n0  ac775f64c5884973ba1b24bdbb8be913    0\n1  345b7532f7f74f47aff6f96ff95ebf63    1"
     },
     "execution_count": null,
     "metadata": {},
     "output_type": "execute_result"
    }
   ],
   "source": [
    "dataset.get_aux_data.head(2)"
   ]
  },
  {
   "cell_type": "code",
   "execution_count": null,
   "metadata": {},
   "outputs": [],
   "source": [
    "assert dataset.version == 2\n",
    "assert dataset.multi_target == False"
   ]
  },
  {
   "cell_type": "code",
   "execution_count": null,
   "metadata": {},
   "outputs": [
    {
     "data": {
      "text/html": "<pre style=\"white-space:pre;overflow-x:auto;line-height:normal;font-family:Menlo,'DejaVu Sans Mono',consolas,'Courier New',monospace\">📁 Exporting metadata to config.json 📁\n</pre>\n",
      "text/plain": "📁 Exporting metadata to config.json 📁\n"
     },
     "metadata": {},
     "output_type": "display_data"
    }
   ],
   "source": [
    "dataset.export_json_metadata(\"config.json\")"
   ]
  },
  {
   "cell_type": "code",
   "execution_count": null,
   "metadata": {},
   "outputs": [
    {
     "data": {
      "text/html": "<pre style=\"white-space:pre;overflow-x:auto;line-height:normal;font-family:Menlo,'DejaVu Sans Mono',consolas,'Courier New',monospace\">📁 Importing metadata from config.json 📁\n</pre>\n",
      "text/plain": "📁 Importing metadata from config.json 📁\n"
     },
     "metadata": {},
     "output_type": "display_data"
    }
   ],
   "source": [
    "dataset.import_json_metadata(\"config.json\")"
   ]
  },
  {
   "cell_type": "code",
   "execution_count": null,
   "metadata": {},
   "outputs": [
    {
     "data": {
      "text/plain": "{'dataf':     feature_A  feature_B  feature_C  feature_D  feature_E  feature_F  \\\n 0    0.282598   0.545272   0.344197   0.127119   0.388487   0.546871   \n 1    0.004041   0.788963   0.052953   0.435246   0.420473   0.816777   \n 2    0.441437   0.509976   0.500923   0.179379   0.521265   0.228809   \n 3    0.647950   0.298224   0.147093   0.505925   0.016163   0.993806   \n 4    0.653441   0.127955   0.046359   0.738709   0.413615   0.119128   \n ..        ...        ...        ...        ...        ...        ...   \n 95   0.996016   0.661006   0.481067   0.197794   0.745087   0.028905   \n 96   0.586763   0.332219   0.555999   0.388498   0.746459   0.483266   \n 97   0.209631   0.518155   0.142643   0.538900   0.861116   0.442582   \n 98   0.300793   0.703907   0.285225   0.223078   0.667507   0.104839   \n 99   0.282371   0.527017   0.974048   0.259523   0.403430   0.760588   \n \n     feature_G  feature_H  feature_I  feature_K  \\\n 0    0.657288   0.400873   0.600365   0.191064   \n 1    0.310608   0.081211   0.881146   0.697920   \n 2    0.601045   0.489143   0.894882   0.869351   \n 3    0.325576   0.524060   0.052193   0.160676   \n 4    0.520915   0.950844   0.541873   0.713047   \n ..        ...        ...        ...        ...   \n 95   0.943208   0.488775   0.687355   0.707823   \n 96   0.311444   0.429735   0.851383   0.758398   \n 97   0.357202   0.787801   0.456261   0.668677   \n 98   0.711905   0.656806   0.813214   0.463384   \n 99   0.689581   0.725541   0.768376   0.617320   \n \n                                   id    target  era  \n 0   ac775f64c5884973ba1b24bdbb8be913  0.731874    0  \n 1   345b7532f7f74f47aff6f96ff95ebf63  0.674846    1  \n 2   a3c5064c4d79479bae132677f6c27b45  1.959768    2  \n 3   f8668571b1924686a41853265adb7404  0.408584    3  \n 4   09a10b24f3a648189cfcede272832596  0.435376    4  \n ..                               ...       ...  ...  \n 95  4625830b04b04a71823a3252e1941c24 -1.396366   95  \n 96  025696b7a9504a26973df9ea05631d6b  0.235845   96  \n 97  4a3950653ece470fb33c198908dda6c2  0.041430   97  \n 98  6e1dbdc8e44c4f2481c1e4b411687662  1.545182   98  \n 99  016f85ee764a4e20b69d5f0f283d75d2  0.484168   99  \n \n [100 rows x 13 columns],\n 'version': 2,\n 'additional_info': 'test_model',\n 'multi_target': False,\n 'tournament_type': 'classic',\n 'features': ['feature_A',\n  'feature_B',\n  'feature_C',\n  'feature_D',\n  'feature_E',\n  'feature_F',\n  'feature_G',\n  'feature_H',\n  'feature_I',\n  'feature_K'],\n 'targets': ['target'],\n 'aux_columns': ['id', 'era'],\n 'all_columns': ['feature_A',\n  'feature_B',\n  'feature_C',\n  'feature_D',\n  'feature_E',\n  'feature_F',\n  'feature_G',\n  'feature_H',\n  'feature_I',\n  'feature_K',\n  'target',\n  'id',\n  'era']}"
     },
     "execution_count": null,
     "metadata": {},
     "output_type": "execute_result"
    }
   ],
   "source": [
    "dataset.__dict__"
   ]
  },
  {
   "cell_type": "code",
   "execution_count": null,
   "metadata": {},
   "outputs": [],
   "source": [
    "dataf2 = dataset.copy_dataframe()\n",
    "assert dataf2.equals(dataset.dataf)"
   ]
  },
  {
   "cell_type": "code",
   "execution_count": null,
   "metadata": {},
   "outputs": [
    {
     "data": {
      "text/plain": "\"Dataset of shape (100, 13). Columns: ['feature_A', 'feature_B', 'feature_C', 'feature_D', 'feature_E', 'feature_F', 'feature_G', 'feature_H', 'feature_I', 'feature_K', 'target', 'id', 'era']\""
     },
     "execution_count": null,
     "metadata": {},
     "output_type": "execute_result"
    }
   ],
   "source": [
    "str(dataset)"
   ]
  },
  {
   "cell_type": "markdown",
   "metadata": {},
   "source": [
    "-----------------------------------------------"
   ]
  },
  {
   "cell_type": "code",
   "execution_count": null,
   "metadata": {},
   "outputs": [],
   "source": [
    "#hide\n",
    "# Run this cell to sync all changes with library\n",
    "from nbdev.export import notebook2script; notebook2script()"
   ]
  }
 ],
 "metadata": {
  "kernelspec": {
   "display_name": "Python 3",
   "language": "python",
   "name": "python3"
  }
 },
 "nbformat": 4,
 "nbformat_minor": 0
}
