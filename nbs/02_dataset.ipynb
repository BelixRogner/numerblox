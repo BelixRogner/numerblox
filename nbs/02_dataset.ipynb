{
 "cells": [
  {
   "cell_type": "code",
   "execution_count": 1,
   "metadata": {},
   "outputs": [
    {
     "data": {
      "text/plain": "<IPython.core.display.Javascript object>",
      "application/javascript": "\n            setTimeout(function() {\n                var nbb_cell_id = 1;\n                var nbb_unformatted_code = \"%load_ext autoreload\\n%autoreload 2\\n%load_ext nb_black\\n%load_ext lab_black\";\n                var nbb_formatted_code = \"%load_ext autoreload\\n%autoreload 2\\n%load_ext nb_black\\n%load_ext lab_black\";\n                var nbb_cells = Jupyter.notebook.get_cells();\n                for (var i = 0; i < nbb_cells.length; ++i) {\n                    if (nbb_cells[i].input_prompt_number == nbb_cell_id) {\n                        if (nbb_cells[i].get_text() == nbb_unformatted_code) {\n                             nbb_cells[i].set_text(nbb_formatted_code);\n                        }\n                        break;\n                    }\n                }\n            }, 500);\n            "
     },
     "metadata": {},
     "output_type": "display_data"
    }
   ],
   "source": [
    "%load_ext autoreload\n",
    "%autoreload 2\n",
    "%load_ext nb_black\n",
    "%load_ext lab_black"
   ]
  },
  {
   "cell_type": "code",
   "execution_count": 2,
   "metadata": {},
   "outputs": [
    {
     "data": {
      "text/plain": "<IPython.core.display.Javascript object>",
      "application/javascript": "\n            setTimeout(function() {\n                var nbb_cell_id = 2;\n                var nbb_unformatted_code = \"# default_exp dataset\";\n                var nbb_formatted_code = \"# default_exp dataset\";\n                var nbb_cells = Jupyter.notebook.get_cells();\n                for (var i = 0; i < nbb_cells.length; ++i) {\n                    if (nbb_cells[i].input_prompt_number == nbb_cell_id) {\n                        if (nbb_cells[i].get_text() == nbb_unformatted_code) {\n                             nbb_cells[i].set_text(nbb_formatted_code);\n                        }\n                        break;\n                    }\n                }\n            }, 500);\n            "
     },
     "metadata": {},
     "output_type": "display_data"
    }
   ],
   "source": [
    "# default_exp dataset"
   ]
  },
  {
   "cell_type": "markdown",
   "metadata": {},
   "source": [
    "# Dataset"
   ]
  },
  {
   "cell_type": "code",
   "execution_count": 3,
   "metadata": {},
   "outputs": [
    {
     "data": {
      "text/plain": "<IPython.core.display.Javascript object>",
      "application/javascript": "\n            setTimeout(function() {\n                var nbb_cell_id = 3;\n                var nbb_unformatted_code = \"# hide\\nfrom nbdev.showdoc import *\";\n                var nbb_formatted_code = \"# hide\\nfrom nbdev.showdoc import *\";\n                var nbb_cells = Jupyter.notebook.get_cells();\n                for (var i = 0; i < nbb_cells.length; ++i) {\n                    if (nbb_cells[i].input_prompt_number == nbb_cell_id) {\n                        if (nbb_cells[i].get_text() == nbb_unformatted_code) {\n                             nbb_cells[i].set_text(nbb_formatted_code);\n                        }\n                        break;\n                    }\n                }\n            }, 500);\n            "
     },
     "metadata": {},
     "output_type": "display_data"
    }
   ],
   "source": [
    "# hide\n",
    "from nbdev.showdoc import *"
   ]
  },
  {
   "cell_type": "code",
   "execution_count": 4,
   "metadata": {},
   "outputs": [
    {
     "data": {
      "text/plain": "<IPython.core.display.Javascript object>",
      "application/javascript": "\n            setTimeout(function() {\n                var nbb_cell_id = 4;\n                var nbb_unformatted_code = \"# export\\nimport uuid\\nimport numpy as np\\nimport pandas as pd\\nfrom copy import deepcopy\\nimport json\\nfrom pathlib import Path\\nfrom typing import Union, Tuple\\nfrom rich import print as rich_print\";\n                var nbb_formatted_code = \"# export\\nimport uuid\\nimport numpy as np\\nimport pandas as pd\\nfrom copy import deepcopy\\nimport json\\nfrom pathlib import Path\\nfrom typing import Union, Tuple\\nfrom rich import print as rich_print\";\n                var nbb_cells = Jupyter.notebook.get_cells();\n                for (var i = 0; i < nbb_cells.length; ++i) {\n                    if (nbb_cells[i].input_prompt_number == nbb_cell_id) {\n                        if (nbb_cells[i].get_text() == nbb_unformatted_code) {\n                             nbb_cells[i].set_text(nbb_formatted_code);\n                        }\n                        break;\n                    }\n                }\n            }, 500);\n            "
     },
     "metadata": {},
     "output_type": "display_data"
    }
   ],
   "source": [
    "# export\n",
    "import uuid\n",
    "import numpy as np\n",
    "import pandas as pd\n",
    "from copy import deepcopy\n",
    "import json\n",
    "from pathlib import Path\n",
    "from typing import Union, Tuple\n",
    "from rich import print as rich_print"
   ]
  },
  {
   "cell_type": "markdown",
   "metadata": {},
   "source": [
    "### Considerations"
   ]
  },
  {
   "cell_type": "markdown",
   "metadata": {},
   "source": [
    "Goals:\n",
    "1. Create dynamic Numerai dataset where we can add metadata.\n",
    "2. Numerai specific functionality while keeping the flexibility of Pandas DataFrames.\n",
    "3. Dynamically update which columns are in data after each processing step.\n",
    "4. Dynamically update generated metadata after data processing step."
   ]
  },
  {
   "cell_type": "markdown",
   "metadata": {},
   "source": [
    "We adopt the convention:\n",
    " 1. All feature column names should start with \"feature\".\n",
    " 2. All target column names should start with \"target\".\n",
    " 3. All prediction column names should start with \"prediction\".\n",
    " 4. Every column for which this does not hold will be classified as an \"aux column\"."
   ]
  },
  {
   "cell_type": "code",
   "execution_count": 5,
   "metadata": {},
   "outputs": [
    {
     "data": {
      "text/plain": "<IPython.core.display.Javascript object>",
      "application/javascript": "\n            setTimeout(function() {\n                var nbb_cell_id = 5;\n                var nbb_unformatted_code = \"# export\\nclass Dataset:\\n    def __init__(self, dataf: pd.DataFrame,\\n                 *args, **kwargs):\\n        self.dataf = dataf\\n        self.__dict__.update(*args, **kwargs)\\n        self.all_cols = list(self.dataf.columns)\\n        self.feature_cols = [col for col in self.all_cols if col.startswith(\\\"feature\\\")]\\n        self.target_cols = [col for col in self.all_cols if col.startswith(\\\"target\\\")]\\n        self.prediction_cols = [\\n            col for col in self.all_cols if col.startswith(\\\"prediction\\\")\\n        ]\\n        self.not_aux_cols = self.feature_cols + self.target_cols + self.prediction_cols\\n        self.aux_cols = [\\n            col for col in self.all_cols if col not in self.not_aux_cols\\n        ]\\n\\n    def copy_dataset(self):\\n        \\\"\\\"\\\"Copy Dataset object\\\"\\\"\\\"\\n        return deepcopy(self)\\n\\n    def copy_dataframe(self) -> pd.DataFrame:\\n        \\\"\\\"\\\"Copy DataFrame part of Dataset\\\"\\\"\\\"\\n        return deepcopy(self.dataf)\\n\\n    def export_json_metadata(self, file=\\\"config.json\\\", verbose=False, **kwargs):\\n        \\\"\\\"\\\"Export all attributes in Dataset that can be serialized to json file.\\\"\\\"\\\"\\n        rich_print(f\\\":file_folder: Exporting metadata to {file} :file_folder:\\\")\\n        json_txt = json.dumps(\\n            self.__dict__, default=lambda o: \\\"<not serializable>\\\", **kwargs\\n        )\\n        if verbose:\\n            rich_print(json_txt)\\n        Path(file).write_text(json_txt)\\n\\n    def import_json_metadata(self, file=\\\"config.json\\\", verbose=False, **kwargs):\\n        \\\"\\\"\\\"Load arbitrary data into Dataset object from json file.\\\"\\\"\\\"\\n        rich_print(f\\\":file_folder: Importing metadata from {file} :file_folder:\\\")\\n        with open(file) as json_file:\\n            json_data = json.load(json_file, **kwargs)\\n        if verbose:\\n            rich_print(json_data)\\n        # Make sure there is no overwrite on DataFrame\\n        json_data.pop(\\\"dataf\\\", None)\\n        self.__dict__.update(json_data)\\n\\n    def get_column_selection(self, cols: Union[str, list]) -> pd.DataFrame:\\n        \\\"\\\"\\\"Return DataFrame given selection of columns.\\\"\\\"\\\"\\n        return self.dataf.loc[:, cols if isinstance(cols, list) else [cols]]\\n\\n    @property\\n    def get_feature_data(self) -> pd.DataFrame:\\n        return self.get_column_selection(cols=self.feature_cols)\\n\\n    @property\\n    def get_target_data(self) -> pd.DataFrame:\\n        return self.get_column_selection(cols=self.target_cols)\\n\\n    @property\\n    def get_single_target_data(self) -> pd.DataFrame:\\n        return self.get_column_selection(cols=['target'])\\n\\n    @property\\n    def get_prediction_data(self) -> pd.DataFrame:\\n        return self.get_column_selection(cols=self.prediction_cols)\\n\\n    @property\\n    def get_aux_data(self) -> pd.DataFrame:\\n        \\\"\\\"\\\"All columns that are not features, targets nor predictions.\\\"\\\"\\\"\\n        return self.get_column_selection(cols=self.aux_cols)\\n\\n    def get_feature_target_pair(self, multi_target=False) -> Tuple[pd.DataFrame, pd.DataFrame]:\\n        \\\"\\\"\\\"\\n        Get split of feature and target columns.\\n        :param multi_target: Returns only 'target' column by default.\\n        Returns all target columns when set to True.\\n        \\\"\\\"\\\"\\n        X = self.get_feature_data\\n        y = self.get_target_data if multi_target else self.get_single_target_data\\n        return X, y\\n\\n    def merge_datasets(self, other, *args, **kwargs):\\n        \\\"\\\"\\\"\\n        Merge Dataset with other Dataset.\\n        :param other: Another Dataset.\\n        WARNING: Metadata of original Dataset will be kept in case of duplicates.\\n        *args, **kwargs will be passed to DataFrame merge operation.\\n        :return: Dataset with dataf and metadata merged.\\n        Metadata of original has priority in case of duplicate keys\\n        \\\"\\\"\\\"\\n        # Merge DataFrames\\n        new_dataset, other_copy = self.copy_dataset(), other.copy_dataset()\\n        new_dataset.dataf = self.dataf.merge(other.dataf, *args, **kwargs)\\n        # Merge metadata\\n        other_copy.__dict__.pop('dataf', None)\\n        new_dataset.__dict__.update(**other_copy.__dict__)\\n        return Dataset(**new_dataset.__dict__)\\n\\n    def __repr__(self) -> str:\\n        return f\\\"Dataset of shape {self.dataf.shape}. Columns: {self.all_cols}\\\"\\n\\n    def __str__(self):\\n        return self.__repr__()\";\n                var nbb_formatted_code = \"# export\\nclass Dataset:\\n    def __init__(self, dataf: pd.DataFrame, *args, **kwargs):\\n        self.dataf = dataf\\n        self.__dict__.update(*args, **kwargs)\\n        self.all_cols = list(self.dataf.columns)\\n        self.feature_cols = [col for col in self.all_cols if col.startswith(\\\"feature\\\")]\\n        self.target_cols = [col for col in self.all_cols if col.startswith(\\\"target\\\")]\\n        self.prediction_cols = [\\n            col for col in self.all_cols if col.startswith(\\\"prediction\\\")\\n        ]\\n        self.not_aux_cols = self.feature_cols + self.target_cols + self.prediction_cols\\n        self.aux_cols = [col for col in self.all_cols if col not in self.not_aux_cols]\\n\\n    def copy_dataset(self):\\n        \\\"\\\"\\\"Copy Dataset object\\\"\\\"\\\"\\n        return deepcopy(self)\\n\\n    def copy_dataframe(self) -> pd.DataFrame:\\n        \\\"\\\"\\\"Copy DataFrame part of Dataset\\\"\\\"\\\"\\n        return deepcopy(self.dataf)\\n\\n    def export_json_metadata(self, file=\\\"config.json\\\", verbose=False, **kwargs):\\n        \\\"\\\"\\\"Export all attributes in Dataset that can be serialized to json file.\\\"\\\"\\\"\\n        rich_print(f\\\":file_folder: Exporting metadata to {file} :file_folder:\\\")\\n        json_txt = json.dumps(\\n            self.__dict__, default=lambda o: \\\"<not serializable>\\\", **kwargs\\n        )\\n        if verbose:\\n            rich_print(json_txt)\\n        Path(file).write_text(json_txt)\\n\\n    def import_json_metadata(self, file=\\\"config.json\\\", verbose=False, **kwargs):\\n        \\\"\\\"\\\"Load arbitrary data into Dataset object from json file.\\\"\\\"\\\"\\n        rich_print(f\\\":file_folder: Importing metadata from {file} :file_folder:\\\")\\n        with open(file) as json_file:\\n            json_data = json.load(json_file, **kwargs)\\n        if verbose:\\n            rich_print(json_data)\\n        # Make sure there is no overwrite on DataFrame\\n        json_data.pop(\\\"dataf\\\", None)\\n        self.__dict__.update(json_data)\\n\\n    def get_column_selection(self, cols: Union[str, list]) -> pd.DataFrame:\\n        \\\"\\\"\\\"Return DataFrame given selection of columns.\\\"\\\"\\\"\\n        return self.dataf.loc[:, cols if isinstance(cols, list) else [cols]]\\n\\n    @property\\n    def get_feature_data(self) -> pd.DataFrame:\\n        return self.get_column_selection(cols=self.feature_cols)\\n\\n    @property\\n    def get_target_data(self) -> pd.DataFrame:\\n        return self.get_column_selection(cols=self.target_cols)\\n\\n    @property\\n    def get_single_target_data(self) -> pd.DataFrame:\\n        return self.get_column_selection(cols=[\\\"target\\\"])\\n\\n    @property\\n    def get_prediction_data(self) -> pd.DataFrame:\\n        return self.get_column_selection(cols=self.prediction_cols)\\n\\n    @property\\n    def get_aux_data(self) -> pd.DataFrame:\\n        \\\"\\\"\\\"All columns that are not features, targets nor predictions.\\\"\\\"\\\"\\n        return self.get_column_selection(cols=self.aux_cols)\\n\\n    def get_feature_target_pair(\\n        self, multi_target=False\\n    ) -> Tuple[pd.DataFrame, pd.DataFrame]:\\n        \\\"\\\"\\\"\\n        Get split of feature and target columns.\\n        :param multi_target: Returns only 'target' column by default.\\n        Returns all target columns when set to True.\\n        \\\"\\\"\\\"\\n        X = self.get_feature_data\\n        y = self.get_target_data if multi_target else self.get_single_target_data\\n        return X, y\\n\\n    def merge_datasets(self, other, *args, **kwargs):\\n        \\\"\\\"\\\"\\n        Merge Dataset with other Dataset.\\n        :param other: Another Dataset.\\n        WARNING: Metadata of original Dataset will be kept in case of duplicates.\\n        *args, **kwargs will be passed to DataFrame merge operation.\\n        :return: Dataset with dataf and metadata merged.\\n        Metadata of original has priority in case of duplicate keys\\n        \\\"\\\"\\\"\\n        # Merge DataFrames\\n        new_dataset, other_copy = self.copy_dataset(), other.copy_dataset()\\n        new_dataset.dataf = self.dataf.merge(other.dataf, *args, **kwargs)\\n        # Merge metadata\\n        other_copy.__dict__.pop(\\\"dataf\\\", None)\\n        new_dataset.__dict__.update(**other_copy.__dict__)\\n        return Dataset(**new_dataset.__dict__)\\n\\n    def __repr__(self) -> str:\\n        return f\\\"Dataset of shape {self.dataf.shape}. Columns: {self.all_cols}\\\"\\n\\n    def __str__(self):\\n        return self.__repr__()\";\n                var nbb_cells = Jupyter.notebook.get_cells();\n                for (var i = 0; i < nbb_cells.length; ++i) {\n                    if (nbb_cells[i].input_prompt_number == nbb_cell_id) {\n                        if (nbb_cells[i].get_text() == nbb_unformatted_code) {\n                             nbb_cells[i].set_text(nbb_formatted_code);\n                        }\n                        break;\n                    }\n                }\n            }, 500);\n            "
     },
     "metadata": {},
     "output_type": "display_data"
    }
   ],
   "source": [
    "# export\n",
    "class Dataset:\n",
    "    def __init__(self, dataf: pd.DataFrame,\n",
    "                 *args, **kwargs):\n",
    "        self.dataf = dataf\n",
    "        self.__dict__.update(*args, **kwargs)\n",
    "        self.all_cols = list(self.dataf.columns)\n",
    "        self.feature_cols = [col for col in self.all_cols if col.startswith(\"feature\")]\n",
    "        self.target_cols = [col for col in self.all_cols if col.startswith(\"target\")]\n",
    "        self.prediction_cols = [\n",
    "            col for col in self.all_cols if col.startswith(\"prediction\")\n",
    "        ]\n",
    "        self.not_aux_cols = self.feature_cols + self.target_cols + self.prediction_cols\n",
    "        self.aux_cols = [\n",
    "            col for col in self.all_cols if col not in self.not_aux_cols\n",
    "        ]\n",
    "\n",
    "    def copy_dataset(self):\n",
    "        \"\"\"Copy Dataset object\"\"\"\n",
    "        return deepcopy(self)\n",
    "\n",
    "    def copy_dataframe(self) -> pd.DataFrame:\n",
    "        \"\"\"Copy DataFrame part of Dataset\"\"\"\n",
    "        return deepcopy(self.dataf)\n",
    "\n",
    "    def export_json_metadata(self, file=\"config.json\", verbose=False, **kwargs):\n",
    "        \"\"\"Export all attributes in Dataset that can be serialized to json file.\"\"\"\n",
    "        rich_print(f\":file_folder: Exporting metadata to {file} :file_folder:\")\n",
    "        json_txt = json.dumps(\n",
    "            self.__dict__, default=lambda o: \"<not serializable>\", **kwargs\n",
    "        )\n",
    "        if verbose:\n",
    "            rich_print(json_txt)\n",
    "        Path(file).write_text(json_txt)\n",
    "\n",
    "    def import_json_metadata(self, file=\"config.json\", verbose=False, **kwargs):\n",
    "        \"\"\"Load arbitrary data into Dataset object from json file.\"\"\"\n",
    "        rich_print(f\":file_folder: Importing metadata from {file} :file_folder:\")\n",
    "        with open(file) as json_file:\n",
    "            json_data = json.load(json_file, **kwargs)\n",
    "        if verbose:\n",
    "            rich_print(json_data)\n",
    "        # Make sure there is no overwrite on DataFrame\n",
    "        json_data.pop(\"dataf\", None)\n",
    "        self.__dict__.update(json_data)\n",
    "\n",
    "    def get_column_selection(self, cols: Union[str, list]) -> pd.DataFrame:\n",
    "        \"\"\"Return DataFrame given selection of columns.\"\"\"\n",
    "        return self.dataf.loc[:, cols if isinstance(cols, list) else [cols]]\n",
    "\n",
    "    @property\n",
    "    def get_feature_data(self) -> pd.DataFrame:\n",
    "        return self.get_column_selection(cols=self.feature_cols)\n",
    "\n",
    "    @property\n",
    "    def get_target_data(self) -> pd.DataFrame:\n",
    "        return self.get_column_selection(cols=self.target_cols)\n",
    "\n",
    "    @property\n",
    "    def get_single_target_data(self) -> pd.DataFrame:\n",
    "        return self.get_column_selection(cols=['target'])\n",
    "\n",
    "    @property\n",
    "    def get_prediction_data(self) -> pd.DataFrame:\n",
    "        return self.get_column_selection(cols=self.prediction_cols)\n",
    "\n",
    "    @property\n",
    "    def get_aux_data(self) -> pd.DataFrame:\n",
    "        \"\"\"All columns that are not features, targets nor predictions.\"\"\"\n",
    "        return self.get_column_selection(cols=self.aux_cols)\n",
    "\n",
    "    def get_feature_target_pair(self, multi_target=False) -> Tuple[pd.DataFrame, pd.DataFrame]:\n",
    "        \"\"\"\n",
    "        Get split of feature and target columns.\n",
    "        :param multi_target: Returns only 'target' column by default.\n",
    "        Returns all target columns when set to True.\n",
    "        \"\"\"\n",
    "        X = self.get_feature_data\n",
    "        y = self.get_target_data if multi_target else self.get_single_target_data\n",
    "        return X, y\n",
    "\n",
    "    def merge_datasets(self, other, *args, **kwargs):\n",
    "        \"\"\"\n",
    "        Merge Dataset with other Dataset.\n",
    "        :param other: Another Dataset.\n",
    "        WARNING: Metadata of original Dataset will be kept in case of duplicates.\n",
    "        *args, **kwargs will be passed to DataFrame merge operation.\n",
    "        :return: Dataset with dataf and metadata merged.\n",
    "        Metadata of original has priority in case of duplicate keys\n",
    "        \"\"\"\n",
    "        # Merge DataFrames\n",
    "        new_dataset, other_copy = self.copy_dataset(), other.copy_dataset()\n",
    "        new_dataset.dataf = self.dataf.merge(other.dataf, *args, **kwargs)\n",
    "        # Merge metadata\n",
    "        other_copy.__dict__.pop('dataf', None)\n",
    "        new_dataset.__dict__.update(**other_copy.__dict__)\n",
    "        return Dataset(**new_dataset.__dict__)\n",
    "\n",
    "    def __repr__(self) -> str:\n",
    "        return f\"Dataset of shape {self.dataf.shape}. Columns: {self.all_cols}\"\n",
    "\n",
    "    def __str__(self):\n",
    "        return self.__repr__()"
   ]
  },
  {
   "cell_type": "code",
   "execution_count": 6,
   "metadata": {},
   "outputs": [
    {
     "data": {
      "text/plain": "<IPython.core.display.Javascript object>",
      "application/javascript": "\n            setTimeout(function() {\n                var nbb_cell_id = 6;\n                var nbb_unformatted_code = \"#export\\ndef create_dataset(file_path: str, *args, **kwargs):\\n    \\\"\\\"\\\"\\n    Convenience function to initialize Dataset object with arbitrary metadata.\\n    Supports file formats for which Pandas has a 'read_' function.\\n    For example, .csv, .parquet, .json, .pickle, .html and .xml.\\n    For more details check https://pandas.pydata.org/docs/reference/io.html\\n    \\\"\\\"\\\"\\n    assert Path(file_path).is_file(), f\\\"{file_path} does not point to file.\\\"\\n    suffix = Path(file_path).suffix[1:]\\n    # Suffix without dot\\n    dataf = getattr(pd, f\\\"read_{suffix}\\\")(file_path)\\n    return Dataset(dataf, *args, **kwargs)\";\n                var nbb_formatted_code = \"# export\\ndef create_dataset(file_path: str, *args, **kwargs):\\n    \\\"\\\"\\\"\\n    Convenience function to initialize Dataset object with arbitrary metadata.\\n    Supports file formats for which Pandas has a 'read_' function.\\n    For example, .csv, .parquet, .json, .pickle, .html and .xml.\\n    For more details check https://pandas.pydata.org/docs/reference/io.html\\n    \\\"\\\"\\\"\\n    assert Path(file_path).is_file(), f\\\"{file_path} does not point to file.\\\"\\n    suffix = Path(file_path).suffix[1:]\\n    # Suffix without dot\\n    dataf = getattr(pd, f\\\"read_{suffix}\\\")(file_path)\\n    return Dataset(dataf, *args, **kwargs)\";\n                var nbb_cells = Jupyter.notebook.get_cells();\n                for (var i = 0; i < nbb_cells.length; ++i) {\n                    if (nbb_cells[i].input_prompt_number == nbb_cell_id) {\n                        if (nbb_cells[i].get_text() == nbb_unformatted_code) {\n                             nbb_cells[i].set_text(nbb_formatted_code);\n                        }\n                        break;\n                    }\n                }\n            }, 500);\n            "
     },
     "metadata": {},
     "output_type": "display_data"
    }
   ],
   "source": [
    "#export\n",
    "def create_dataset(file_path: str, *args, **kwargs):\n",
    "    \"\"\"\n",
    "    Convenience function to initialize Dataset object with arbitrary metadata.\n",
    "    Supports file formats for which Pandas has a 'read_' function.\n",
    "    For example, .csv, .parquet, .json, .pickle, .html and .xml.\n",
    "    For more details check https://pandas.pydata.org/docs/reference/io.html\n",
    "    \"\"\"\n",
    "    assert Path(file_path).is_file(), f\"{file_path} does not point to file.\"\n",
    "    # Suffix without dot\n",
    "    suffix = Path(file_path).suffix[1:]\n",
    "    dataf = getattr(pd, f\"read_{suffix}\")(file_path)\n",
    "    return Dataset(dataf, *args, **kwargs)"
   ]
  },
  {
   "cell_type": "markdown",
   "metadata": {},
   "source": [
    "## Dataset Tests"
   ]
  },
  {
   "cell_type": "markdown",
   "metadata": {},
   "source": [
    "A `Dataset` object can be initialized from memory by providing a Pandas DataFrame + metadata."
   ]
  },
  {
   "cell_type": "markdown",
   "metadata": {},
   "source": [
    "### Initialize from memory"
   ]
  },
  {
   "cell_type": "code",
   "execution_count": 7,
   "metadata": {},
   "outputs": [
    {
     "data": {
      "text/plain": "<IPython.core.display.Javascript object>",
      "application/javascript": "\n            setTimeout(function() {\n                var nbb_cell_id = 7;\n                var nbb_unformatted_code = \"# Random DataFrame\\ntest_features = [f\\\"feature_{l}\\\" for l in \\\"ABCDEFGHIK\\\"]\\nid_col = [uuid.uuid4().hex for _ in range(100)]\\n\\ndf = pd.DataFrame(np.random.uniform(size=(100, 10)), columns=test_features)\\ndf[\\\"id\\\"] = id_col\\ndf[[\\\"target\\\", \\\"target_1\\\", \\\"target_2\\\"]] = np.random.normal(size=(100, 3))\\ndf[\\\"era\\\"] = range(100)\";\n                var nbb_formatted_code = \"# Random DataFrame\\ntest_features = [f\\\"feature_{l}\\\" for l in \\\"ABCDEFGHIK\\\"]\\nid_col = [uuid.uuid4().hex for _ in range(100)]\\n\\ndf = pd.DataFrame(np.random.uniform(size=(100, 10)), columns=test_features)\\ndf[\\\"id\\\"] = id_col\\ndf[[\\\"target\\\", \\\"target_1\\\", \\\"target_2\\\"]] = np.random.normal(size=(100, 3))\\ndf[\\\"era\\\"] = range(100)\";\n                var nbb_cells = Jupyter.notebook.get_cells();\n                for (var i = 0; i < nbb_cells.length; ++i) {\n                    if (nbb_cells[i].input_prompt_number == nbb_cell_id) {\n                        if (nbb_cells[i].get_text() == nbb_unformatted_code) {\n                             nbb_cells[i].set_text(nbb_formatted_code);\n                        }\n                        break;\n                    }\n                }\n            }, 500);\n            "
     },
     "metadata": {},
     "output_type": "display_data"
    }
   ],
   "source": [
    "# Random DataFrame\n",
    "test_features = [f\"feature_{l}\" for l in \"ABCDEFGHIK\"]\n",
    "id_col = [uuid.uuid4().hex for _ in range(100)]\n",
    "\n",
    "df = pd.DataFrame(np.random.uniform(size=(100, 10)), columns=test_features)\n",
    "df[\"id\"] = id_col\n",
    "df[[\"target\", \"target_1\", \"target_2\"]] = np.random.normal(size=(100, 3))\n",
    "df[\"era\"] = range(100)"
   ]
  },
  {
   "cell_type": "code",
   "execution_count": 8,
   "metadata": {},
   "outputs": [
    {
     "data": {
      "text/plain": "<IPython.core.display.Javascript object>",
      "application/javascript": "\n            setTimeout(function() {\n                var nbb_cell_id = 8;\n                var nbb_unformatted_code = \"metadata = {\\n    \\\"version\\\": 42,\\n    \\\"additional_info\\\": \\\"test_model\\\",\\n    \\\"multi_target\\\": False,\\n    \\\"tournament_type\\\": \\\"random\\\",\\n}\\nmemory_dataset = Dataset(df, **metadata)\\nassert memory_dataset.version == 42\\nassert memory_dataset.tournament_type == \\\"random\\\"\";\n                var nbb_formatted_code = \"metadata = {\\n    \\\"version\\\": 42,\\n    \\\"additional_info\\\": \\\"test_model\\\",\\n    \\\"multi_target\\\": False,\\n    \\\"tournament_type\\\": \\\"random\\\",\\n}\\nmemory_dataset = Dataset(df, **metadata)\\nassert memory_dataset.version == 42\\nassert memory_dataset.tournament_type == \\\"random\\\"\";\n                var nbb_cells = Jupyter.notebook.get_cells();\n                for (var i = 0; i < nbb_cells.length; ++i) {\n                    if (nbb_cells[i].input_prompt_number == nbb_cell_id) {\n                        if (nbb_cells[i].get_text() == nbb_unformatted_code) {\n                             nbb_cells[i].set_text(nbb_formatted_code);\n                        }\n                        break;\n                    }\n                }\n            }, 500);\n            "
     },
     "metadata": {},
     "output_type": "display_data"
    }
   ],
   "source": [
    "metadata = {\n",
    "    \"version\": 42,\n",
    "    \"additional_info\": \"test_model\",\n",
    "    \"multi_target\": False,\n",
    "    \"tournament_type\": \"random\",\n",
    "}\n",
    "memory_dataset = Dataset(df, **metadata)\n",
    "assert memory_dataset.version == 42\n",
    "assert memory_dataset.tournament_type == \"random\""
   ]
  },
  {
   "cell_type": "markdown",
   "metadata": {},
   "source": [
    "### Initialize from file"
   ]
  },
  {
   "cell_type": "markdown",
   "metadata": {},
   "source": [
    "You can also use the convenience function `create_dataset` so data can be loaded in using a file name. `create_dataset` supports most extensions that Pandas offers, like `.csv`, `.parquet`, `.json`, etc."
   ]
  },
  {
   "cell_type": "code",
   "execution_count": 9,
   "metadata": {},
   "outputs": [
    {
     "data": {
      "text/plain": "                 id   era data_type  feature_intelligence1  \\\n0  n000315175b67977  era1     train                    0.0   \n1  n0014af834a96cdd  era1     train                    0.0   \n\n   feature_intelligence2  feature_intelligence3  feature_intelligence4  \\\n0                    0.5                   0.25                   0.00   \n1                    0.0                   0.00                   0.25   \n\n   feature_intelligence5  feature_intelligence6  feature_intelligence7  ...  \\\n0                    0.5                   0.25                   0.25  ...   \n1                    0.5                   0.00                   0.00  ...   \n\n   feature_wisdom38  feature_wisdom39  feature_wisdom40  feature_wisdom41  \\\n0               1.0               1.0              0.75               0.5   \n1               1.0               1.0              0.00               0.0   \n\n   feature_wisdom42  feature_wisdom43  feature_wisdom44  feature_wisdom45  \\\n0              0.75              0.50               1.0              0.50   \n1              0.75              0.25               0.0              0.25   \n\n   feature_wisdom46  target  \n0              0.75    0.50  \n1              1.00    0.25  \n\n[2 rows x 314 columns]",
      "text/html": "<div>\n<style scoped>\n    .dataframe tbody tr th:only-of-type {\n        vertical-align: middle;\n    }\n\n    .dataframe tbody tr th {\n        vertical-align: top;\n    }\n\n    .dataframe thead th {\n        text-align: right;\n    }\n</style>\n<table border=\"1\" class=\"dataframe\">\n  <thead>\n    <tr style=\"text-align: right;\">\n      <th></th>\n      <th>id</th>\n      <th>era</th>\n      <th>data_type</th>\n      <th>feature_intelligence1</th>\n      <th>feature_intelligence2</th>\n      <th>feature_intelligence3</th>\n      <th>feature_intelligence4</th>\n      <th>feature_intelligence5</th>\n      <th>feature_intelligence6</th>\n      <th>feature_intelligence7</th>\n      <th>...</th>\n      <th>feature_wisdom38</th>\n      <th>feature_wisdom39</th>\n      <th>feature_wisdom40</th>\n      <th>feature_wisdom41</th>\n      <th>feature_wisdom42</th>\n      <th>feature_wisdom43</th>\n      <th>feature_wisdom44</th>\n      <th>feature_wisdom45</th>\n      <th>feature_wisdom46</th>\n      <th>target</th>\n    </tr>\n  </thead>\n  <tbody>\n    <tr>\n      <th>0</th>\n      <td>n000315175b67977</td>\n      <td>era1</td>\n      <td>train</td>\n      <td>0.0</td>\n      <td>0.5</td>\n      <td>0.25</td>\n      <td>0.00</td>\n      <td>0.5</td>\n      <td>0.25</td>\n      <td>0.25</td>\n      <td>...</td>\n      <td>1.0</td>\n      <td>1.0</td>\n      <td>0.75</td>\n      <td>0.5</td>\n      <td>0.75</td>\n      <td>0.50</td>\n      <td>1.0</td>\n      <td>0.50</td>\n      <td>0.75</td>\n      <td>0.50</td>\n    </tr>\n    <tr>\n      <th>1</th>\n      <td>n0014af834a96cdd</td>\n      <td>era1</td>\n      <td>train</td>\n      <td>0.0</td>\n      <td>0.0</td>\n      <td>0.00</td>\n      <td>0.25</td>\n      <td>0.5</td>\n      <td>0.00</td>\n      <td>0.00</td>\n      <td>...</td>\n      <td>1.0</td>\n      <td>1.0</td>\n      <td>0.00</td>\n      <td>0.0</td>\n      <td>0.75</td>\n      <td>0.25</td>\n      <td>0.0</td>\n      <td>0.25</td>\n      <td>1.00</td>\n      <td>0.25</td>\n    </tr>\n  </tbody>\n</table>\n<p>2 rows × 314 columns</p>\n</div>"
     },
     "execution_count": 9,
     "metadata": {},
     "output_type": "execute_result"
    },
    {
     "data": {
      "text/plain": "<IPython.core.display.Javascript object>",
      "application/javascript": "\n            setTimeout(function() {\n                var nbb_cell_id = 9;\n                var nbb_unformatted_code = \"metadata = {\\n    \\\"version\\\": 1,\\n    \\\"multi_target\\\": False,\\n    \\\"tournament_type\\\": \\\"classic\\\",\\n}\\n\\ndataset = create_dataset(\\\"test_assets/mini_numerai_version_1_data.csv\\\", **metadata)\\nassert dataset.version == 1\\nassert not dataset.multi_target\\ndataset.dataf.head(2)\";\n                var nbb_formatted_code = \"metadata = {\\n    \\\"version\\\": 1,\\n    \\\"multi_target\\\": False,\\n    \\\"tournament_type\\\": \\\"classic\\\",\\n}\\n\\ndataset = create_dataset(\\\"test_assets/mini_numerai_version_1_data.csv\\\", **metadata)\\nassert dataset.version == 1\\nassert not dataset.multi_target\\ndataset.dataf.head(2)\";\n                var nbb_cells = Jupyter.notebook.get_cells();\n                for (var i = 0; i < nbb_cells.length; ++i) {\n                    if (nbb_cells[i].input_prompt_number == nbb_cell_id) {\n                        if (nbb_cells[i].get_text() == nbb_unformatted_code) {\n                             nbb_cells[i].set_text(nbb_formatted_code);\n                        }\n                        break;\n                    }\n                }\n            }, 500);\n            "
     },
     "metadata": {},
     "output_type": "display_data"
    }
   ],
   "source": [
    "metadata = {\n",
    "    \"version\": 1,\n",
    "    \"multi_target\": False,\n",
    "    \"tournament_type\": \"classic\",\n",
    "}\n",
    "\n",
    "dataset = create_dataset(\"test_assets/mini_numerai_version_1_data.csv\", **metadata)\n",
    "assert dataset.version == 1\n",
    "assert not dataset.multi_target\n",
    "dataset.dataf.head(2)"
   ]
  },
  {
   "cell_type": "markdown",
   "metadata": {},
   "source": [
    "`get_feature_data` will retrieve all columns where the column name starts with `feature`."
   ]
  },
  {
   "cell_type": "code",
   "execution_count": 10,
   "metadata": {},
   "outputs": [
    {
     "data": {
      "text/plain": "   feature_intelligence1  feature_intelligence2  feature_intelligence3  \\\n0                    0.0                    0.5                   0.25   \n1                    0.0                    0.0                   0.00   \n\n   feature_intelligence4  feature_intelligence5  feature_intelligence6  \\\n0                   0.00                    0.5                   0.25   \n1                   0.25                    0.5                   0.00   \n\n   feature_intelligence7  feature_intelligence8  feature_intelligence9  \\\n0                   0.25                   0.25                   0.75   \n1                   0.00                   0.25                   0.50   \n\n   feature_intelligence10  ...  feature_wisdom37  feature_wisdom38  \\\n0                    0.75  ...              1.00               1.0   \n1                    0.50  ...              0.75               1.0   \n\n   feature_wisdom39  feature_wisdom40  feature_wisdom41  feature_wisdom42  \\\n0               1.0              0.75               0.5              0.75   \n1               1.0              0.00               0.0              0.75   \n\n   feature_wisdom43  feature_wisdom44  feature_wisdom45  feature_wisdom46  \n0              0.50               1.0              0.50              0.75  \n1              0.25               0.0              0.25              1.00  \n\n[2 rows x 310 columns]",
      "text/html": "<div>\n<style scoped>\n    .dataframe tbody tr th:only-of-type {\n        vertical-align: middle;\n    }\n\n    .dataframe tbody tr th {\n        vertical-align: top;\n    }\n\n    .dataframe thead th {\n        text-align: right;\n    }\n</style>\n<table border=\"1\" class=\"dataframe\">\n  <thead>\n    <tr style=\"text-align: right;\">\n      <th></th>\n      <th>feature_intelligence1</th>\n      <th>feature_intelligence2</th>\n      <th>feature_intelligence3</th>\n      <th>feature_intelligence4</th>\n      <th>feature_intelligence5</th>\n      <th>feature_intelligence6</th>\n      <th>feature_intelligence7</th>\n      <th>feature_intelligence8</th>\n      <th>feature_intelligence9</th>\n      <th>feature_intelligence10</th>\n      <th>...</th>\n      <th>feature_wisdom37</th>\n      <th>feature_wisdom38</th>\n      <th>feature_wisdom39</th>\n      <th>feature_wisdom40</th>\n      <th>feature_wisdom41</th>\n      <th>feature_wisdom42</th>\n      <th>feature_wisdom43</th>\n      <th>feature_wisdom44</th>\n      <th>feature_wisdom45</th>\n      <th>feature_wisdom46</th>\n    </tr>\n  </thead>\n  <tbody>\n    <tr>\n      <th>0</th>\n      <td>0.0</td>\n      <td>0.5</td>\n      <td>0.25</td>\n      <td>0.00</td>\n      <td>0.5</td>\n      <td>0.25</td>\n      <td>0.25</td>\n      <td>0.25</td>\n      <td>0.75</td>\n      <td>0.75</td>\n      <td>...</td>\n      <td>1.00</td>\n      <td>1.0</td>\n      <td>1.0</td>\n      <td>0.75</td>\n      <td>0.5</td>\n      <td>0.75</td>\n      <td>0.50</td>\n      <td>1.0</td>\n      <td>0.50</td>\n      <td>0.75</td>\n    </tr>\n    <tr>\n      <th>1</th>\n      <td>0.0</td>\n      <td>0.0</td>\n      <td>0.00</td>\n      <td>0.25</td>\n      <td>0.5</td>\n      <td>0.00</td>\n      <td>0.00</td>\n      <td>0.25</td>\n      <td>0.50</td>\n      <td>0.50</td>\n      <td>...</td>\n      <td>0.75</td>\n      <td>1.0</td>\n      <td>1.0</td>\n      <td>0.00</td>\n      <td>0.0</td>\n      <td>0.75</td>\n      <td>0.25</td>\n      <td>0.0</td>\n      <td>0.25</td>\n      <td>1.00</td>\n    </tr>\n  </tbody>\n</table>\n<p>2 rows × 310 columns</p>\n</div>"
     },
     "execution_count": 10,
     "metadata": {},
     "output_type": "execute_result"
    },
    {
     "data": {
      "text/plain": "<IPython.core.display.Javascript object>",
      "application/javascript": "\n            setTimeout(function() {\n                var nbb_cell_id = 10;\n                var nbb_unformatted_code = \"dataset.get_feature_data.head(2)\";\n                var nbb_formatted_code = \"dataset.get_feature_data.head(2)\";\n                var nbb_cells = Jupyter.notebook.get_cells();\n                for (var i = 0; i < nbb_cells.length; ++i) {\n                    if (nbb_cells[i].input_prompt_number == nbb_cell_id) {\n                        if (nbb_cells[i].get_text() == nbb_unformatted_code) {\n                             nbb_cells[i].set_text(nbb_formatted_code);\n                        }\n                        break;\n                    }\n                }\n            }, 500);\n            "
     },
     "metadata": {},
     "output_type": "display_data"
    }
   ],
   "source": [
    "dataset.get_feature_data.head(2)"
   ]
  },
  {
   "cell_type": "markdown",
   "metadata": {},
   "source": [
    "`aux_cols` denotes all columns that are not features, targets of prediction columns."
   ]
  },
  {
   "cell_type": "code",
   "execution_count": 11,
   "metadata": {},
   "outputs": [
    {
     "data": {
      "text/plain": "['id', 'era', 'data_type']"
     },
     "execution_count": 11,
     "metadata": {},
     "output_type": "execute_result"
    },
    {
     "data": {
      "text/plain": "<IPython.core.display.Javascript object>",
      "application/javascript": "\n            setTimeout(function() {\n                var nbb_cell_id = 11;\n                var nbb_unformatted_code = \"dataset.aux_cols\";\n                var nbb_formatted_code = \"dataset.aux_cols\";\n                var nbb_cells = Jupyter.notebook.get_cells();\n                for (var i = 0; i < nbb_cells.length; ++i) {\n                    if (nbb_cells[i].input_prompt_number == nbb_cell_id) {\n                        if (nbb_cells[i].get_text() == nbb_unformatted_code) {\n                             nbb_cells[i].set_text(nbb_formatted_code);\n                        }\n                        break;\n                    }\n                }\n            }, 500);\n            "
     },
     "metadata": {},
     "output_type": "display_data"
    }
   ],
   "source": [
    "dataset.aux_cols"
   ]
  },
  {
   "cell_type": "code",
   "execution_count": 12,
   "metadata": {},
   "outputs": [
    {
     "data": {
      "text/plain": "                 id   era data_type\n0  n000315175b67977  era1     train\n1  n0014af834a96cdd  era1     train",
      "text/html": "<div>\n<style scoped>\n    .dataframe tbody tr th:only-of-type {\n        vertical-align: middle;\n    }\n\n    .dataframe tbody tr th {\n        vertical-align: top;\n    }\n\n    .dataframe thead th {\n        text-align: right;\n    }\n</style>\n<table border=\"1\" class=\"dataframe\">\n  <thead>\n    <tr style=\"text-align: right;\">\n      <th></th>\n      <th>id</th>\n      <th>era</th>\n      <th>data_type</th>\n    </tr>\n  </thead>\n  <tbody>\n    <tr>\n      <th>0</th>\n      <td>n000315175b67977</td>\n      <td>era1</td>\n      <td>train</td>\n    </tr>\n    <tr>\n      <th>1</th>\n      <td>n0014af834a96cdd</td>\n      <td>era1</td>\n      <td>train</td>\n    </tr>\n  </tbody>\n</table>\n</div>"
     },
     "execution_count": 12,
     "metadata": {},
     "output_type": "execute_result"
    },
    {
     "data": {
      "text/plain": "<IPython.core.display.Javascript object>",
      "application/javascript": "\n            setTimeout(function() {\n                var nbb_cell_id = 12;\n                var nbb_unformatted_code = \"dataset.get_aux_data.head(2)\";\n                var nbb_formatted_code = \"dataset.get_aux_data.head(2)\";\n                var nbb_cells = Jupyter.notebook.get_cells();\n                for (var i = 0; i < nbb_cells.length; ++i) {\n                    if (nbb_cells[i].input_prompt_number == nbb_cell_id) {\n                        if (nbb_cells[i].get_text() == nbb_unformatted_code) {\n                             nbb_cells[i].set_text(nbb_formatted_code);\n                        }\n                        break;\n                    }\n                }\n            }, 500);\n            "
     },
     "metadata": {},
     "output_type": "display_data"
    }
   ],
   "source": [
    "dataset.get_aux_data.head(2)"
   ]
  },
  {
   "cell_type": "markdown",
   "metadata": {},
   "source": [
    "Arbitrary `.json` metadata can be stored into the `Dataset`. All metadata can also be exported to a `json` file."
   ]
  },
  {
   "cell_type": "code",
   "execution_count": 13,
   "metadata": {},
   "outputs": [
    {
     "data": {
      "text/plain": "📁 Exporting metadata to config.json 📁\n",
      "text/html": "<pre style=\"white-space:pre;overflow-x:auto;line-height:normal;font-family:Menlo,'DejaVu Sans Mono',consolas,'Courier New',monospace\">📁 Exporting metadata to config.json 📁\n</pre>\n"
     },
     "metadata": {},
     "output_type": "display_data"
    },
    {
     "data": {
      "text/plain": "<IPython.core.display.Javascript object>",
      "application/javascript": "\n            setTimeout(function() {\n                var nbb_cell_id = 13;\n                var nbb_unformatted_code = \"dataset.export_json_metadata(\\\"config.json\\\")\";\n                var nbb_formatted_code = \"dataset.export_json_metadata(\\\"config.json\\\")\";\n                var nbb_cells = Jupyter.notebook.get_cells();\n                for (var i = 0; i < nbb_cells.length; ++i) {\n                    if (nbb_cells[i].input_prompt_number == nbb_cell_id) {\n                        if (nbb_cells[i].get_text() == nbb_unformatted_code) {\n                             nbb_cells[i].set_text(nbb_formatted_code);\n                        }\n                        break;\n                    }\n                }\n            }, 500);\n            "
     },
     "metadata": {},
     "output_type": "display_data"
    }
   ],
   "source": [
    "dataset.export_json_metadata(\"config.json\")"
   ]
  },
  {
   "cell_type": "code",
   "execution_count": 14,
   "metadata": {},
   "outputs": [
    {
     "data": {
      "text/plain": "📁 Importing metadata from config.json 📁\n",
      "text/html": "<pre style=\"white-space:pre;overflow-x:auto;line-height:normal;font-family:Menlo,'DejaVu Sans Mono',consolas,'Courier New',monospace\">📁 Importing metadata from config.json 📁\n</pre>\n"
     },
     "metadata": {},
     "output_type": "display_data"
    },
    {
     "data": {
      "text/plain": "<IPython.core.display.Javascript object>",
      "application/javascript": "\n            setTimeout(function() {\n                var nbb_cell_id = 14;\n                var nbb_unformatted_code = \"dataset.import_json_metadata(\\\"config.json\\\")\";\n                var nbb_formatted_code = \"dataset.import_json_metadata(\\\"config.json\\\")\";\n                var nbb_cells = Jupyter.notebook.get_cells();\n                for (var i = 0; i < nbb_cells.length; ++i) {\n                    if (nbb_cells[i].input_prompt_number == nbb_cell_id) {\n                        if (nbb_cells[i].get_text() == nbb_unformatted_code) {\n                             nbb_cells[i].set_text(nbb_formatted_code);\n                        }\n                        break;\n                    }\n                }\n            }, 500);\n            "
     },
     "metadata": {},
     "output_type": "display_data"
    }
   ],
   "source": [
    "dataset.import_json_metadata(\"config.json\")"
   ]
  },
  {
   "cell_type": "code",
   "execution_count": 15,
   "metadata": {},
   "outputs": [
    {
     "data": {
      "text/plain": "<IPython.core.display.Javascript object>",
      "application/javascript": "\n            setTimeout(function() {\n                var nbb_cell_id = 15;\n                var nbb_unformatted_code = \"assert dataset.version == 1\\nassert not dataset.multi_target\";\n                var nbb_formatted_code = \"assert dataset.version == 1\\nassert not dataset.multi_target\";\n                var nbb_cells = Jupyter.notebook.get_cells();\n                for (var i = 0; i < nbb_cells.length; ++i) {\n                    if (nbb_cells[i].input_prompt_number == nbb_cell_id) {\n                        if (nbb_cells[i].get_text() == nbb_unformatted_code) {\n                             nbb_cells[i].set_text(nbb_formatted_code);\n                        }\n                        break;\n                    }\n                }\n            }, 500);\n            "
     },
     "metadata": {},
     "output_type": "display_data"
    }
   ],
   "source": [
    "assert dataset.version == 1\n",
    "assert not dataset.multi_target"
   ]
  },
  {
   "cell_type": "code",
   "execution_count": 16,
   "metadata": {},
   "outputs": [
    {
     "data": {
      "text/plain": "<IPython.core.display.Javascript object>",
      "application/javascript": "\n            setTimeout(function() {\n                var nbb_cell_id = 16;\n                var nbb_unformatted_code = \"dataf2 = dataset.copy_dataframe()\\nassert dataf2.equals(dataset.dataf)\";\n                var nbb_formatted_code = \"dataf2 = dataset.copy_dataframe()\\nassert dataf2.equals(dataset.dataf)\";\n                var nbb_cells = Jupyter.notebook.get_cells();\n                for (var i = 0; i < nbb_cells.length; ++i) {\n                    if (nbb_cells[i].input_prompt_number == nbb_cell_id) {\n                        if (nbb_cells[i].get_text() == nbb_unformatted_code) {\n                             nbb_cells[i].set_text(nbb_formatted_code);\n                        }\n                        break;\n                    }\n                }\n            }, 500);\n            "
     },
     "metadata": {},
     "output_type": "display_data"
    }
   ],
   "source": [
    "dataf2 = dataset.copy_dataframe()\n",
    "assert dataf2.equals(dataset.dataf)"
   ]
  },
  {
   "cell_type": "markdown",
   "metadata": {},
   "source": [
    "`get_target_data` retrieves all columns where the column name starts with \"target\". `get_single_target_data` only retrieves the column \"target\"."
   ]
  },
  {
   "cell_type": "code",
   "execution_count": 17,
   "metadata": {},
   "outputs": [
    {
     "data": {
      "text/plain": "   target\n0    0.50\n1    0.25",
      "text/html": "<div>\n<style scoped>\n    .dataframe tbody tr th:only-of-type {\n        vertical-align: middle;\n    }\n\n    .dataframe tbody tr th {\n        vertical-align: top;\n    }\n\n    .dataframe thead th {\n        text-align: right;\n    }\n</style>\n<table border=\"1\" class=\"dataframe\">\n  <thead>\n    <tr style=\"text-align: right;\">\n      <th></th>\n      <th>target</th>\n    </tr>\n  </thead>\n  <tbody>\n    <tr>\n      <th>0</th>\n      <td>0.50</td>\n    </tr>\n    <tr>\n      <th>1</th>\n      <td>0.25</td>\n    </tr>\n  </tbody>\n</table>\n</div>"
     },
     "execution_count": 17,
     "metadata": {},
     "output_type": "execute_result"
    },
    {
     "data": {
      "text/plain": "<IPython.core.display.Javascript object>",
      "application/javascript": "\n            setTimeout(function() {\n                var nbb_cell_id = 17;\n                var nbb_unformatted_code = \"dataset.get_target_data.head(2)\";\n                var nbb_formatted_code = \"dataset.get_target_data.head(2)\";\n                var nbb_cells = Jupyter.notebook.get_cells();\n                for (var i = 0; i < nbb_cells.length; ++i) {\n                    if (nbb_cells[i].input_prompt_number == nbb_cell_id) {\n                        if (nbb_cells[i].get_text() == nbb_unformatted_code) {\n                             nbb_cells[i].set_text(nbb_formatted_code);\n                        }\n                        break;\n                    }\n                }\n            }, 500);\n            "
     },
     "metadata": {},
     "output_type": "display_data"
    }
   ],
   "source": [
    "dataset.get_target_data.head(2)"
   ]
  },
  {
   "cell_type": "code",
   "execution_count": 18,
   "metadata": {},
   "outputs": [
    {
     "data": {
      "text/plain": "   target\n0    0.50\n1    0.25",
      "text/html": "<div>\n<style scoped>\n    .dataframe tbody tr th:only-of-type {\n        vertical-align: middle;\n    }\n\n    .dataframe tbody tr th {\n        vertical-align: top;\n    }\n\n    .dataframe thead th {\n        text-align: right;\n    }\n</style>\n<table border=\"1\" class=\"dataframe\">\n  <thead>\n    <tr style=\"text-align: right;\">\n      <th></th>\n      <th>target</th>\n    </tr>\n  </thead>\n  <tbody>\n    <tr>\n      <th>0</th>\n      <td>0.50</td>\n    </tr>\n    <tr>\n      <th>1</th>\n      <td>0.25</td>\n    </tr>\n  </tbody>\n</table>\n</div>"
     },
     "execution_count": 18,
     "metadata": {},
     "output_type": "execute_result"
    },
    {
     "data": {
      "text/plain": "<IPython.core.display.Javascript object>",
      "application/javascript": "\n            setTimeout(function() {\n                var nbb_cell_id = 18;\n                var nbb_unformatted_code = \"dataset.get_single_target_data.head(2)\";\n                var nbb_formatted_code = \"dataset.get_single_target_data.head(2)\";\n                var nbb_cells = Jupyter.notebook.get_cells();\n                for (var i = 0; i < nbb_cells.length; ++i) {\n                    if (nbb_cells[i].input_prompt_number == nbb_cell_id) {\n                        if (nbb_cells[i].get_text() == nbb_unformatted_code) {\n                             nbb_cells[i].set_text(nbb_formatted_code);\n                        }\n                        break;\n                    }\n                }\n            }, 500);\n            "
     },
     "metadata": {},
     "output_type": "display_data"
    }
   ],
   "source": [
    "dataset.get_single_target_data.head(2)"
   ]
  },
  {
   "cell_type": "code",
   "execution_count": 20,
   "metadata": {},
   "outputs": [
    {
     "data": {
      "text/plain": "<IPython.core.display.Javascript object>",
      "application/javascript": "\n            setTimeout(function() {\n                var nbb_cell_id = 20;\n                var nbb_unformatted_code = \"dataset.dataf.loc[:, \\\"prediction_test_1\\\"] = np.random.uniform(size=len(dataset.dataf))\\nnew_dataset = Dataset(dataset.dataf, dataset.__dict__)\\nassert new_dataset.prediction_cols == [\\\"prediction_test_1\\\"]\\nassert new_dataset.version == 1\";\n                var nbb_formatted_code = \"dataset.dataf.loc[:, \\\"prediction_test_1\\\"] = np.random.uniform(size=len(dataset.dataf))\\nnew_dataset = Dataset(dataset.dataf, dataset.__dict__)\\nassert new_dataset.prediction_cols == [\\\"prediction_test_1\\\"]\\nassert new_dataset.version == 1\";\n                var nbb_cells = Jupyter.notebook.get_cells();\n                for (var i = 0; i < nbb_cells.length; ++i) {\n                    if (nbb_cells[i].input_prompt_number == nbb_cell_id) {\n                        if (nbb_cells[i].get_text() == nbb_unformatted_code) {\n                             nbb_cells[i].set_text(nbb_formatted_code);\n                        }\n                        break;\n                    }\n                }\n            }, 500);\n            "
     },
     "metadata": {},
     "output_type": "display_data"
    }
   ],
   "source": [
    "dataset.dataf.loc[:, \"prediction_test_1\"] = np.random.uniform(size=len(dataset.dataf))\n",
    "new_dataset = Dataset(dataset.dataf, dataset.__dict__)\n",
    "assert new_dataset.prediction_cols == [\"prediction_test_1\"]\n",
    "assert new_dataset.version == 1"
   ]
  },
  {
   "cell_type": "markdown",
   "metadata": {},
   "source": [
    "Arbitrary columns van be retrieved with `.get_column_selection`. The input argument can be either a string or a list with column names."
   ]
  },
  {
   "cell_type": "code",
   "execution_count": 22,
   "metadata": {},
   "outputs": [
    {
     "data": {
      "text/plain": "                 id\n0  n000315175b67977\n1  n0014af834a96cdd",
      "text/html": "<div>\n<style scoped>\n    .dataframe tbody tr th:only-of-type {\n        vertical-align: middle;\n    }\n\n    .dataframe tbody tr th {\n        vertical-align: top;\n    }\n\n    .dataframe thead th {\n        text-align: right;\n    }\n</style>\n<table border=\"1\" class=\"dataframe\">\n  <thead>\n    <tr style=\"text-align: right;\">\n      <th></th>\n      <th>id</th>\n    </tr>\n  </thead>\n  <tbody>\n    <tr>\n      <th>0</th>\n      <td>n000315175b67977</td>\n    </tr>\n    <tr>\n      <th>1</th>\n      <td>n0014af834a96cdd</td>\n    </tr>\n  </tbody>\n</table>\n</div>"
     },
     "execution_count": 22,
     "metadata": {},
     "output_type": "execute_result"
    },
    {
     "data": {
      "text/plain": "<IPython.core.display.Javascript object>",
      "application/javascript": "\n            setTimeout(function() {\n                var nbb_cell_id = 22;\n                var nbb_unformatted_code = \"new_dataset.get_column_selection(\\\"id\\\").head(2)\";\n                var nbb_formatted_code = \"new_dataset.get_column_selection(\\\"id\\\").head(2)\";\n                var nbb_cells = Jupyter.notebook.get_cells();\n                for (var i = 0; i < nbb_cells.length; ++i) {\n                    if (nbb_cells[i].input_prompt_number == nbb_cell_id) {\n                        if (nbb_cells[i].get_text() == nbb_unformatted_code) {\n                             nbb_cells[i].set_text(nbb_formatted_code);\n                        }\n                        break;\n                    }\n                }\n            }, 500);\n            "
     },
     "metadata": {},
     "output_type": "display_data"
    }
   ],
   "source": [
    "new_dataset.get_column_selection(\"id\").head(2)"
   ]
  },
  {
   "cell_type": "code",
   "execution_count": 23,
   "metadata": {},
   "outputs": [
    {
     "data": {
      "text/plain": "                 id  prediction_test_1\n0  n000315175b67977           0.416900\n1  n0014af834a96cdd           0.139964",
      "text/html": "<div>\n<style scoped>\n    .dataframe tbody tr th:only-of-type {\n        vertical-align: middle;\n    }\n\n    .dataframe tbody tr th {\n        vertical-align: top;\n    }\n\n    .dataframe thead th {\n        text-align: right;\n    }\n</style>\n<table border=\"1\" class=\"dataframe\">\n  <thead>\n    <tr style=\"text-align: right;\">\n      <th></th>\n      <th>id</th>\n      <th>prediction_test_1</th>\n    </tr>\n  </thead>\n  <tbody>\n    <tr>\n      <th>0</th>\n      <td>n000315175b67977</td>\n      <td>0.416900</td>\n    </tr>\n    <tr>\n      <th>1</th>\n      <td>n0014af834a96cdd</td>\n      <td>0.139964</td>\n    </tr>\n  </tbody>\n</table>\n</div>"
     },
     "execution_count": 23,
     "metadata": {},
     "output_type": "execute_result"
    },
    {
     "data": {
      "text/plain": "<IPython.core.display.Javascript object>",
      "application/javascript": "\n            setTimeout(function() {\n                var nbb_cell_id = 23;\n                var nbb_unformatted_code = \"new_dataset.get_column_selection([\\\"id\\\", \\\"prediction_test_1\\\"]).head(2)\";\n                var nbb_formatted_code = \"new_dataset.get_column_selection([\\\"id\\\", \\\"prediction_test_1\\\"]).head(2)\";\n                var nbb_cells = Jupyter.notebook.get_cells();\n                for (var i = 0; i < nbb_cells.length; ++i) {\n                    if (nbb_cells[i].input_prompt_number == nbb_cell_id) {\n                        if (nbb_cells[i].get_text() == nbb_unformatted_code) {\n                             nbb_cells[i].set_text(nbb_formatted_code);\n                        }\n                        break;\n                    }\n                }\n            }, 500);\n            "
     },
     "metadata": {},
     "output_type": "display_data"
    }
   ],
   "source": [
    "new_dataset.get_column_selection([\"id\", \"prediction_test_1\"]).head(2)"
   ]
  },
  {
   "cell_type": "markdown",
   "metadata": {},
   "source": [
    "For convenience we can get a feature, target pair with one method. `X` will have all feature data and `y` all target data."
   ]
  },
  {
   "cell_type": "code",
   "execution_count": 24,
   "metadata": {},
   "outputs": [
    {
     "data": {
      "text/plain": "<IPython.core.display.Markdown object>",
      "text/markdown": "<h4 id=\"Dataset.get_feature_target_pair\" class=\"doc_header\"><code>Dataset.get_feature_target_pair</code><a href=\"__main__.py#L72\" class=\"source_link\" style=\"float:right\">[source]</a></h4>\n\n> <code>Dataset.get_feature_target_pair</code>(**`multi_target`**=*`False`*)\n\nGet split of feature and target columns.\n:param multi_target: Returns only 'target' column by default.\nReturns all target columns when set to True."
     },
     "metadata": {},
     "output_type": "display_data"
    },
    {
     "data": {
      "text/plain": "<IPython.core.display.Javascript object>",
      "application/javascript": "\n            setTimeout(function() {\n                var nbb_cell_id = 24;\n                var nbb_unformatted_code = \"#hide_input\\nshow_doc(Dataset.get_feature_target_pair)\";\n                var nbb_formatted_code = \"# hide_input\\nshow_doc(Dataset.get_feature_target_pair)\";\n                var nbb_cells = Jupyter.notebook.get_cells();\n                for (var i = 0; i < nbb_cells.length; ++i) {\n                    if (nbb_cells[i].input_prompt_number == nbb_cell_id) {\n                        if (nbb_cells[i].get_text() == nbb_unformatted_code) {\n                             nbb_cells[i].set_text(nbb_formatted_code);\n                        }\n                        break;\n                    }\n                }\n            }, 500);\n            "
     },
     "metadata": {},
     "output_type": "display_data"
    }
   ],
   "source": [
    "#hide_input\n",
    "show_doc(Dataset.get_feature_target_pair)"
   ]
  },
  {
   "cell_type": "code",
   "execution_count": 25,
   "metadata": {},
   "outputs": [
    {
     "data": {
      "text/plain": "   feature_intelligence1  feature_intelligence2  feature_intelligence3  \\\n0                    0.0                    0.5                   0.25   \n1                    0.0                    0.0                   0.00   \n\n   feature_intelligence4  feature_intelligence5  feature_intelligence6  \\\n0                   0.00                    0.5                   0.25   \n1                   0.25                    0.5                   0.00   \n\n   feature_intelligence7  feature_intelligence8  feature_intelligence9  \\\n0                   0.25                   0.25                   0.75   \n1                   0.00                   0.25                   0.50   \n\n   feature_intelligence10  ...  feature_wisdom37  feature_wisdom38  \\\n0                    0.75  ...              1.00               1.0   \n1                    0.50  ...              0.75               1.0   \n\n   feature_wisdom39  feature_wisdom40  feature_wisdom41  feature_wisdom42  \\\n0               1.0              0.75               0.5              0.75   \n1               1.0              0.00               0.0              0.75   \n\n   feature_wisdom43  feature_wisdom44  feature_wisdom45  feature_wisdom46  \n0              0.50               1.0              0.50              0.75  \n1              0.25               0.0              0.25              1.00  \n\n[2 rows x 310 columns]",
      "text/html": "<div>\n<style scoped>\n    .dataframe tbody tr th:only-of-type {\n        vertical-align: middle;\n    }\n\n    .dataframe tbody tr th {\n        vertical-align: top;\n    }\n\n    .dataframe thead th {\n        text-align: right;\n    }\n</style>\n<table border=\"1\" class=\"dataframe\">\n  <thead>\n    <tr style=\"text-align: right;\">\n      <th></th>\n      <th>feature_intelligence1</th>\n      <th>feature_intelligence2</th>\n      <th>feature_intelligence3</th>\n      <th>feature_intelligence4</th>\n      <th>feature_intelligence5</th>\n      <th>feature_intelligence6</th>\n      <th>feature_intelligence7</th>\n      <th>feature_intelligence8</th>\n      <th>feature_intelligence9</th>\n      <th>feature_intelligence10</th>\n      <th>...</th>\n      <th>feature_wisdom37</th>\n      <th>feature_wisdom38</th>\n      <th>feature_wisdom39</th>\n      <th>feature_wisdom40</th>\n      <th>feature_wisdom41</th>\n      <th>feature_wisdom42</th>\n      <th>feature_wisdom43</th>\n      <th>feature_wisdom44</th>\n      <th>feature_wisdom45</th>\n      <th>feature_wisdom46</th>\n    </tr>\n  </thead>\n  <tbody>\n    <tr>\n      <th>0</th>\n      <td>0.0</td>\n      <td>0.5</td>\n      <td>0.25</td>\n      <td>0.00</td>\n      <td>0.5</td>\n      <td>0.25</td>\n      <td>0.25</td>\n      <td>0.25</td>\n      <td>0.75</td>\n      <td>0.75</td>\n      <td>...</td>\n      <td>1.00</td>\n      <td>1.0</td>\n      <td>1.0</td>\n      <td>0.75</td>\n      <td>0.5</td>\n      <td>0.75</td>\n      <td>0.50</td>\n      <td>1.0</td>\n      <td>0.50</td>\n      <td>0.75</td>\n    </tr>\n    <tr>\n      <th>1</th>\n      <td>0.0</td>\n      <td>0.0</td>\n      <td>0.00</td>\n      <td>0.25</td>\n      <td>0.5</td>\n      <td>0.00</td>\n      <td>0.00</td>\n      <td>0.25</td>\n      <td>0.50</td>\n      <td>0.50</td>\n      <td>...</td>\n      <td>0.75</td>\n      <td>1.0</td>\n      <td>1.0</td>\n      <td>0.00</td>\n      <td>0.0</td>\n      <td>0.75</td>\n      <td>0.25</td>\n      <td>0.0</td>\n      <td>0.25</td>\n      <td>1.00</td>\n    </tr>\n  </tbody>\n</table>\n<p>2 rows × 310 columns</p>\n</div>"
     },
     "execution_count": 25,
     "metadata": {},
     "output_type": "execute_result"
    },
    {
     "data": {
      "text/plain": "<IPython.core.display.Javascript object>",
      "application/javascript": "\n            setTimeout(function() {\n                var nbb_cell_id = 25;\n                var nbb_unformatted_code = \"X, y = new_dataset.get_feature_target_pair(multi_target=False)\\nX.head(2)\";\n                var nbb_formatted_code = \"X, y = new_dataset.get_feature_target_pair(multi_target=False)\\nX.head(2)\";\n                var nbb_cells = Jupyter.notebook.get_cells();\n                for (var i = 0; i < nbb_cells.length; ++i) {\n                    if (nbb_cells[i].input_prompt_number == nbb_cell_id) {\n                        if (nbb_cells[i].get_text() == nbb_unformatted_code) {\n                             nbb_cells[i].set_text(nbb_formatted_code);\n                        }\n                        break;\n                    }\n                }\n            }, 500);\n            "
     },
     "metadata": {},
     "output_type": "display_data"
    }
   ],
   "source": [
    "X, y = new_dataset.get_feature_target_pair(multi_target=False)\n",
    "X.head(2)"
   ]
  },
  {
   "cell_type": "code",
   "execution_count": 26,
   "metadata": {},
   "outputs": [
    {
     "data": {
      "text/plain": "   target\n0    0.50\n1    0.25",
      "text/html": "<div>\n<style scoped>\n    .dataframe tbody tr th:only-of-type {\n        vertical-align: middle;\n    }\n\n    .dataframe tbody tr th {\n        vertical-align: top;\n    }\n\n    .dataframe thead th {\n        text-align: right;\n    }\n</style>\n<table border=\"1\" class=\"dataframe\">\n  <thead>\n    <tr style=\"text-align: right;\">\n      <th></th>\n      <th>target</th>\n    </tr>\n  </thead>\n  <tbody>\n    <tr>\n      <th>0</th>\n      <td>0.50</td>\n    </tr>\n    <tr>\n      <th>1</th>\n      <td>0.25</td>\n    </tr>\n  </tbody>\n</table>\n</div>"
     },
     "execution_count": 26,
     "metadata": {},
     "output_type": "execute_result"
    },
    {
     "data": {
      "text/plain": "<IPython.core.display.Javascript object>",
      "application/javascript": "\n            setTimeout(function() {\n                var nbb_cell_id = 26;\n                var nbb_unformatted_code = \"y.head(2)\";\n                var nbb_formatted_code = \"y.head(2)\";\n                var nbb_cells = Jupyter.notebook.get_cells();\n                for (var i = 0; i < nbb_cells.length; ++i) {\n                    if (nbb_cells[i].input_prompt_number == nbb_cell_id) {\n                        if (nbb_cells[i].get_text() == nbb_unformatted_code) {\n                             nbb_cells[i].set_text(nbb_formatted_code);\n                        }\n                        break;\n                    }\n                }\n            }, 500);\n            "
     },
     "metadata": {},
     "output_type": "display_data"
    }
   ],
   "source": [
    "y.head(2)"
   ]
  },
  {
   "cell_type": "code",
   "execution_count": 27,
   "metadata": {},
   "outputs": [
    {
     "data": {
      "text/plain": "<IPython.core.display.Javascript object>",
      "application/javascript": "\n            setTimeout(function() {\n                var nbb_cell_id = 27;\n                var nbb_unformatted_code = \"merged_dataset = memory_dataset.merge_datasets(dataset, how='outer', on='id')\\nassert merged_dataset.version == 1\\nassert merged_dataset.additional_info\";\n                var nbb_formatted_code = \"merged_dataset = memory_dataset.merge_datasets(dataset, how=\\\"outer\\\", on=\\\"id\\\")\\nassert merged_dataset.version == 1\\nassert merged_dataset.additional_info\";\n                var nbb_cells = Jupyter.notebook.get_cells();\n                for (var i = 0; i < nbb_cells.length; ++i) {\n                    if (nbb_cells[i].input_prompt_number == nbb_cell_id) {\n                        if (nbb_cells[i].get_text() == nbb_unformatted_code) {\n                             nbb_cells[i].set_text(nbb_formatted_code);\n                        }\n                        break;\n                    }\n                }\n            }, 500);\n            "
     },
     "metadata": {},
     "output_type": "display_data"
    }
   ],
   "source": [
    "merged_dataset = memory_dataset.merge_datasets(dataset, how='outer', on='id')\n",
    "assert merged_dataset.version == 1\n",
    "assert merged_dataset.additional_info"
   ]
  },
  {
   "cell_type": "code",
   "execution_count": 28,
   "metadata": {},
   "outputs": [
    {
     "data": {
      "text/plain": "   feature_A  feature_B  feature_C  feature_D  feature_E  feature_F  \\\n0   0.030233   0.873507   0.271911   0.099958   0.704210   0.673675   \n1   0.434420   0.792861   0.306492   0.226225   0.554486   0.792325   \n\n   feature_G  feature_H  feature_I  feature_K  ... feature_wisdom39  \\\n0   0.907915   0.637776   0.428986   0.982834  ...              NaN   \n1   0.543637   0.201912   0.971324   0.412266  ...              NaN   \n\n   feature_wisdom40  feature_wisdom41  feature_wisdom42  feature_wisdom43  \\\n0               NaN               NaN               NaN               NaN   \n1               NaN               NaN               NaN               NaN   \n\n  feature_wisdom44 feature_wisdom45  feature_wisdom46  target_y  \\\n0              NaN              NaN               NaN       NaN   \n1              NaN              NaN               NaN       NaN   \n\n   prediction_test_1  \n0                NaN  \n1                NaN  \n\n[2 rows x 329 columns]",
      "text/html": "<div>\n<style scoped>\n    .dataframe tbody tr th:only-of-type {\n        vertical-align: middle;\n    }\n\n    .dataframe tbody tr th {\n        vertical-align: top;\n    }\n\n    .dataframe thead th {\n        text-align: right;\n    }\n</style>\n<table border=\"1\" class=\"dataframe\">\n  <thead>\n    <tr style=\"text-align: right;\">\n      <th></th>\n      <th>feature_A</th>\n      <th>feature_B</th>\n      <th>feature_C</th>\n      <th>feature_D</th>\n      <th>feature_E</th>\n      <th>feature_F</th>\n      <th>feature_G</th>\n      <th>feature_H</th>\n      <th>feature_I</th>\n      <th>feature_K</th>\n      <th>...</th>\n      <th>feature_wisdom39</th>\n      <th>feature_wisdom40</th>\n      <th>feature_wisdom41</th>\n      <th>feature_wisdom42</th>\n      <th>feature_wisdom43</th>\n      <th>feature_wisdom44</th>\n      <th>feature_wisdom45</th>\n      <th>feature_wisdom46</th>\n      <th>target_y</th>\n      <th>prediction_test_1</th>\n    </tr>\n  </thead>\n  <tbody>\n    <tr>\n      <th>0</th>\n      <td>0.030233</td>\n      <td>0.873507</td>\n      <td>0.271911</td>\n      <td>0.099958</td>\n      <td>0.704210</td>\n      <td>0.673675</td>\n      <td>0.907915</td>\n      <td>0.637776</td>\n      <td>0.428986</td>\n      <td>0.982834</td>\n      <td>...</td>\n      <td>NaN</td>\n      <td>NaN</td>\n      <td>NaN</td>\n      <td>NaN</td>\n      <td>NaN</td>\n      <td>NaN</td>\n      <td>NaN</td>\n      <td>NaN</td>\n      <td>NaN</td>\n      <td>NaN</td>\n    </tr>\n    <tr>\n      <th>1</th>\n      <td>0.434420</td>\n      <td>0.792861</td>\n      <td>0.306492</td>\n      <td>0.226225</td>\n      <td>0.554486</td>\n      <td>0.792325</td>\n      <td>0.543637</td>\n      <td>0.201912</td>\n      <td>0.971324</td>\n      <td>0.412266</td>\n      <td>...</td>\n      <td>NaN</td>\n      <td>NaN</td>\n      <td>NaN</td>\n      <td>NaN</td>\n      <td>NaN</td>\n      <td>NaN</td>\n      <td>NaN</td>\n      <td>NaN</td>\n      <td>NaN</td>\n      <td>NaN</td>\n    </tr>\n  </tbody>\n</table>\n<p>2 rows × 329 columns</p>\n</div>"
     },
     "execution_count": 28,
     "metadata": {},
     "output_type": "execute_result"
    },
    {
     "data": {
      "text/plain": "<IPython.core.display.Javascript object>",
      "application/javascript": "\n            setTimeout(function() {\n                var nbb_cell_id = 28;\n                var nbb_unformatted_code = \"merged_dataset.dataf.head(2)\";\n                var nbb_formatted_code = \"merged_dataset.dataf.head(2)\";\n                var nbb_cells = Jupyter.notebook.get_cells();\n                for (var i = 0; i < nbb_cells.length; ++i) {\n                    if (nbb_cells[i].input_prompt_number == nbb_cell_id) {\n                        if (nbb_cells[i].get_text() == nbb_unformatted_code) {\n                             nbb_cells[i].set_text(nbb_formatted_code);\n                        }\n                        break;\n                    }\n                }\n            }, 500);\n            "
     },
     "metadata": {},
     "output_type": "display_data"
    }
   ],
   "source": [
    "merged_dataset.dataf.head(2)"
   ]
  },
  {
   "cell_type": "code",
   "execution_count": 28,
   "metadata": {},
   "outputs": [
    {
     "data": {
      "text/plain": "<IPython.core.display.Javascript object>",
      "application/javascript": "\n            setTimeout(function() {\n                var nbb_cell_id = 28;\n                var nbb_unformatted_code = \"merged_dataset.dataf.head(2)\";\n                var nbb_formatted_code = \"merged_dataset.dataf.head(2)\";\n                var nbb_cells = Jupyter.notebook.get_cells();\n                for (var i = 0; i < nbb_cells.length; ++i) {\n                    if (nbb_cells[i].input_prompt_number == nbb_cell_id) {\n                        if (nbb_cells[i].get_text() == nbb_unformatted_code) {\n                             nbb_cells[i].set_text(nbb_formatted_code);\n                        }\n                        break;\n                    }\n                }\n            }, 500);\n            "
     },
     "metadata": {},
     "output_type": "display_data"
    }
   ],
   "source": []
  },
  {
   "cell_type": "markdown",
   "metadata": {},
   "source": [
    "-----------------------------------------------"
   ]
  },
  {
   "cell_type": "code",
   "execution_count": 29,
   "metadata": {},
   "outputs": [
    {
     "name": "stdout",
     "output_type": "stream",
     "text": [
      "Converted 01_download.ipynb.\n",
      "Converted 02_dataset.ipynb.\n",
      "Converted 03_preprocessing.ipynb.\n",
      "Converted 04_model.ipynb.\n",
      "Converted 05_postprocessing.ipynb.\n",
      "Converted 06_modelpipeline.ipynb.\n",
      "Converted 07_evaluation.ipynb.\n",
      "Converted 08_key.ipynb.\n",
      "Converted 09_submission.ipynb.\n",
      "Converted 10_staking.ipynb.\n",
      "Converted index.ipynb.\n"
     ]
    },
    {
     "data": {
      "text/plain": "<IPython.core.display.Javascript object>",
      "application/javascript": "\n            setTimeout(function() {\n                var nbb_cell_id = 29;\n                var nbb_unformatted_code = \"# hide\\n# Run this cell to sync all changes with library\\nfrom nbdev.export import notebook2script\\n\\nnotebook2script()\";\n                var nbb_formatted_code = \"# hide\\n# Run this cell to sync all changes with library\\nfrom nbdev.export import notebook2script\\n\\nnotebook2script()\";\n                var nbb_cells = Jupyter.notebook.get_cells();\n                for (var i = 0; i < nbb_cells.length; ++i) {\n                    if (nbb_cells[i].input_prompt_number == nbb_cell_id) {\n                        if (nbb_cells[i].get_text() == nbb_unformatted_code) {\n                             nbb_cells[i].set_text(nbb_formatted_code);\n                        }\n                        break;\n                    }\n                }\n            }, 500);\n            "
     },
     "metadata": {},
     "output_type": "display_data"
    }
   ],
   "source": [
    "# hide\n",
    "# Run this cell to sync all changes with library\n",
    "from nbdev.export import notebook2script\n",
    "\n",
    "notebook2script()"
   ]
  },
  {
   "cell_type": "code",
   "execution_count": null,
   "metadata": {},
   "outputs": [],
   "source": []
  }
 ],
 "metadata": {
  "kernelspec": {
   "display_name": "Python 3",
   "language": "python",
   "name": "python3"
  }
 },
 "nbformat": 4,
 "nbformat_minor": 0
}