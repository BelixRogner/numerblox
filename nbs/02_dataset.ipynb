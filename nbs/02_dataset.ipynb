{
 "cells": [
  {
   "cell_type": "code",
   "execution_count": null,
   "metadata": {},
   "outputs": [
    {
     "data": {
      "application/javascript": "\n            setTimeout(function() {\n                var nbb_cell_id = 1;\n                var nbb_unformatted_code = \"%load_ext autoreload\\n%autoreload 2\\n%load_ext nb_black\\n%load_ext lab_black\";\n                var nbb_formatted_code = \"%load_ext autoreload\\n%autoreload 2\\n%load_ext nb_black\\n%load_ext lab_black\";\n                var nbb_cells = Jupyter.notebook.get_cells();\n                for (var i = 0; i < nbb_cells.length; ++i) {\n                    if (nbb_cells[i].input_prompt_number == nbb_cell_id) {\n                        if (nbb_cells[i].get_text() == nbb_unformatted_code) {\n                             nbb_cells[i].set_text(nbb_formatted_code);\n                        }\n                        break;\n                    }\n                }\n            }, 500);\n            ",
      "text/plain": "<IPython.core.display.Javascript object>"
     },
     "metadata": {},
     "output_type": "display_data"
    }
   ],
   "source": [
    "%load_ext autoreload\n",
    "%autoreload 2\n",
    "%load_ext nb_black\n",
    "%load_ext lab_black"
   ]
  },
  {
   "cell_type": "code",
   "execution_count": null,
   "metadata": {},
   "outputs": [
    {
     "data": {
      "application/javascript": "\n            setTimeout(function() {\n                var nbb_cell_id = 2;\n                var nbb_unformatted_code = \"# default_exp dataset\";\n                var nbb_formatted_code = \"# default_exp dataset\";\n                var nbb_cells = Jupyter.notebook.get_cells();\n                for (var i = 0; i < nbb_cells.length; ++i) {\n                    if (nbb_cells[i].input_prompt_number == nbb_cell_id) {\n                        if (nbb_cells[i].get_text() == nbb_unformatted_code) {\n                             nbb_cells[i].set_text(nbb_formatted_code);\n                        }\n                        break;\n                    }\n                }\n            }, 500);\n            ",
      "text/plain": "<IPython.core.display.Javascript object>"
     },
     "metadata": {},
     "output_type": "display_data"
    }
   ],
   "source": [
    "# default_exp dataset"
   ]
  },
  {
   "cell_type": "markdown",
   "metadata": {},
   "source": [
    "# Dataset"
   ]
  },
  {
   "cell_type": "code",
   "execution_count": null,
   "metadata": {},
   "outputs": [
    {
     "data": {
      "application/javascript": "\n            setTimeout(function() {\n                var nbb_cell_id = 3;\n                var nbb_unformatted_code = \"#hide\\nfrom nbdev.showdoc import *\";\n                var nbb_formatted_code = \"# hide\\nfrom nbdev.showdoc import *\";\n                var nbb_cells = Jupyter.notebook.get_cells();\n                for (var i = 0; i < nbb_cells.length; ++i) {\n                    if (nbb_cells[i].input_prompt_number == nbb_cell_id) {\n                        if (nbb_cells[i].get_text() == nbb_unformatted_code) {\n                             nbb_cells[i].set_text(nbb_formatted_code);\n                        }\n                        break;\n                    }\n                }\n            }, 500);\n            ",
      "text/plain": "<IPython.core.display.Javascript object>"
     },
     "metadata": {},
     "output_type": "display_data"
    }
   ],
   "source": [
    "#hide\n",
    "from nbdev.showdoc import *"
   ]
  },
  {
   "cell_type": "code",
   "execution_count": null,
   "metadata": {},
   "outputs": [
    {
     "data": {
      "application/javascript": "\n            setTimeout(function() {\n                var nbb_cell_id = 4;\n                var nbb_unformatted_code = \"#export\\nimport uuid\\nimport numpy as np\\nimport pandas as pd\\nfrom copy import deepcopy\\nimport json\\nfrom pathlib import Path\\nfrom typing import Union\\nimport datetime as dt\\nfrom functools import wraps\\nfrom rich import print as rich_print\\nfrom typeguard import typechecked\";\n                var nbb_formatted_code = \"# export\\nimport uuid\\nimport numpy as np\\nimport pandas as pd\\nfrom copy import deepcopy\\nimport json\\nfrom pathlib import Path\\nfrom typing import Union\\nimport datetime as dt\\nfrom functools import wraps\\nfrom rich import print as rich_print\\nfrom typeguard import typechecked\";\n                var nbb_cells = Jupyter.notebook.get_cells();\n                for (var i = 0; i < nbb_cells.length; ++i) {\n                    if (nbb_cells[i].input_prompt_number == nbb_cell_id) {\n                        if (nbb_cells[i].get_text() == nbb_unformatted_code) {\n                             nbb_cells[i].set_text(nbb_formatted_code);\n                        }\n                        break;\n                    }\n                }\n            }, 500);\n            ",
      "text/plain": "<IPython.core.display.Javascript object>"
     },
     "metadata": {},
     "output_type": "display_data"
    }
   ],
   "source": [
    "#export\n",
    "import uuid\n",
    "import numpy as np\n",
    "import pandas as pd\n",
    "from copy import deepcopy\n",
    "import json\n",
    "from pathlib import Path\n",
    "from typing import Union\n",
    "import datetime as dt\n",
    "from functools import wraps\n",
    "from rich import print as rich_print\n",
    "from typeguard import typechecked"
   ]
  },
  {
   "cell_type": "markdown",
   "metadata": {},
   "source": [
    "### Considerations"
   ]
  },
  {
   "cell_type": "markdown",
   "metadata": {},
   "source": [
    "Goal: Create dynamic Numerai dataset where we can add metadata and Numerai specific functionality while keeping the flexibility of Pandas DataFrames.\n",
    "\n",
    "__Options:__\n",
    "__1.__ Add metadata to DataFrame through `df.attrs['some_metadata'] = \"some_metadata\"`\n",
    "1.1. Downside: [Not persistent with parquet](https://stackoverflow.com/questions/14688306/adding-meta-information-metadata-to-pandas-dataframe).\n",
    "\n",
    "__2.__ Subclass from DataFrame and add functionality.\n",
    "2.1. Cumbersome when used to using `pd.read_csv`, `pd.read_parquet`, etc.\n",
    "2.2 More info: [StackOverflow](https://stackoverflow.com/questions/22155951/how-can-i-subclass-a-pandas-dataframe), [Pandas Docs](https://pandas.pydata.org/pandas-docs/stable/development/extending.html#extending-subclassing-pandas).\n",
    "\n",
    "__3.__ Develop dedicated `Dataset` class on which DataFrame is an attribute (`.dataf`)\n",
    "3.1. Easy to add functionality and typecheck.\n",
    "3.2. Does not work out of the box with sklearn Transformers, but can be easily made compatible with a single decorator.\n",
    "3.3. Easy to export and import metadata.\n"
   ]
  },
  {
   "cell_type": "markdown",
   "metadata": {},
   "source": [
    "We adopt the convention:\n",
    " 1. All feature column names should start with \"feature\".\n",
    " 2. All target column names should start with \"target\".\n",
    " 3. All prediction column names should start with \"prediction\".\n",
    " 4. Every column for which this does not hold will be classified as an \"aux column\"."
   ]
  },
  {
   "cell_type": "code",
   "execution_count": null,
   "metadata": {},
   "outputs": [
    {
     "data": {
      "application/javascript": "\n            setTimeout(function() {\n                var nbb_cell_id = 5;\n                var nbb_unformatted_code = \"@typechecked\\nclass Dataset:\\n    def __init__(self, dataf: pd.DataFrame, *args, **kwargs):\\n        self.dataf = dataf\\n        self.__dict__.update(*args, **kwargs)\\n        self.all_columns = list(self.dataf.columns)\\n        self.features = [col for col in self.all_columns if col.startswith(\\\"feature\\\")]\\n        self.targets = [col for col in self.all_columns if col.startswith(\\\"target\\\")]\\n        self.predictions = [col for col in self.all_columns if col.startswith(\\\"prediction\\\")]\\n        self.not_aux_columns = self.features + self.targets + self.predictions\\n        self.aux_columns = [col for col in self.all_columns if col not in self.not_aux_columns]\\n\\n    def copy_dataset(self):\\n        \\\"\\\"\\\" Copy Dataset object \\\"\\\"\\\"\\n        return deepcopy(self)\\n\\n    def copy_dataframe(self) -> pd.DataFrame:\\n        \\\"\\\"\\\" Copy DataFrame part of Dataset \\\"\\\"\\\"\\n        return deepcopy(self.dataf)\\n\\n    def export_json_metadata(self, file=\\\"config.json\\\", verbose=False, **kwargs):\\n        \\\"\\\"\\\" Export all attributes in Dataset that can be serialized to json file. \\\"\\\"\\\"\\n        rich_print(f\\\":file_folder: Exporting metadata to {file} :file_folder:\\\")\\n        json_txt = json.dumps(self.__dict__, default=lambda o: '<not serializable>', **kwargs)\\n        if verbose:\\n            rich_print(json_txt)\\n        Path(file).write_text(json_txt)\\n\\n    def import_json_metadata(self, file=\\\"config.json\\\", verbose=False, **kwargs):\\n        \\\"\\\"\\\" Load arbitrary data into Dataset object from json file \\\"\\\"\\\"\\n        rich_print(f\\\":file_folder: Importing metadata from {file} :file_folder:\\\")\\n        with open(file) as json_file:\\n            json_data = json.load(json_file, **kwargs)\\n        if verbose:\\n            rich_print(json_data)\\n        # Make sure there is no overwrite on DataFrame\\n        json_data.pop('dataf', None)\\n        self.__dict__.update(json_data)\\n\\n    def get_column_selection(self, cols: Union[str, list]) -> pd.DataFrame:\\n        \\\"\\\"\\\" Return DataFrame given selection of columns. \\\"\\\"\\\"\\n        return self.dataf.loc[:, cols if isinstance(cols, list) else [cols]]\\n\\n    @property\\n    def get_feature_data(self) -> pd.DataFrame:\\n        return self.dataf.loc[:, self.features]\\n\\n    @property\\n    def get_target_data(self) -> pd.DataFrame:\\n        return self.dataf.loc[:, self.targets]\\n\\n    @property\\n    def get_single_target_data(self) -> pd.DataFrame:\\n        return self.dataf.loc[:, ['target']]\\n\\n    @property\\n    def get_prediction_data(self) -> pd.DataFrame:\\n        return self.dataf.loc[:, self.predictions]\\n\\n    @property\\n    def get_aux_data(self) -> pd.DataFrame:\\n        \\\"\\\"\\\" All columns that are not features, targets or predictions. \\\"\\\"\\\"\\n        return self.dataf.loc[:, self.aux_columns]\\n\\n    def __repr__(self) -> str:\\n        return f\\\"Dataset of shape {self.dataf.shape}. Columns: {self.all_columns}\\\"\\n\\n    def __str__(self):\\n        return self.__repr__()\";\n                var nbb_formatted_code = \"@typechecked\\nclass Dataset:\\n    def __init__(self, dataf: pd.DataFrame, *args, **kwargs):\\n        self.dataf = dataf\\n        self.__dict__.update(*args, **kwargs)\\n        self.all_columns = list(self.dataf.columns)\\n        self.features = [col for col in self.all_columns if col.startswith(\\\"feature\\\")]\\n        self.targets = [col for col in self.all_columns if col.startswith(\\\"target\\\")]\\n        self.predictions = [\\n            col for col in self.all_columns if col.startswith(\\\"prediction\\\")\\n        ]\\n        self.not_aux_columns = self.features + self.targets + self.predictions\\n        self.aux_columns = [\\n            col for col in self.all_columns if col not in self.not_aux_columns\\n        ]\\n\\n    def copy_dataset(self):\\n        \\\"\\\"\\\"Copy Dataset object\\\"\\\"\\\"\\n        return deepcopy(self)\\n\\n    def copy_dataframe(self) -> pd.DataFrame:\\n        \\\"\\\"\\\"Copy DataFrame part of Dataset\\\"\\\"\\\"\\n        return deepcopy(self.dataf)\\n\\n    def export_json_metadata(self, file=\\\"config.json\\\", verbose=False, **kwargs):\\n        \\\"\\\"\\\"Export all attributes in Dataset that can be serialized to json file.\\\"\\\"\\\"\\n        rich_print(f\\\":file_folder: Exporting metadata to {file} :file_folder:\\\")\\n        json_txt = json.dumps(\\n            self.__dict__, default=lambda o: \\\"<not serializable>\\\", **kwargs\\n        )\\n        if verbose:\\n            rich_print(json_txt)\\n        Path(file).write_text(json_txt)\\n\\n    def import_json_metadata(self, file=\\\"config.json\\\", verbose=False, **kwargs):\\n        \\\"\\\"\\\"Load arbitrary data into Dataset object from json file\\\"\\\"\\\"\\n        rich_print(f\\\":file_folder: Importing metadata from {file} :file_folder:\\\")\\n        with open(file) as json_file:\\n            json_data = json.load(json_file, **kwargs)\\n        if verbose:\\n            rich_print(json_data)\\n        # Make sure there is no overwrite on DataFrame\\n        json_data.pop(\\\"dataf\\\", None)\\n        self.__dict__.update(json_data)\\n\\n    def get_column_selection(self, cols: Union[str, list]) -> pd.DataFrame:\\n        \\\"\\\"\\\"Return DataFrame given selection of columns.\\\"\\\"\\\"\\n        return self.dataf.loc[:, cols if isinstance(cols, list) else [cols]]\\n\\n    @property\\n    def get_feature_data(self) -> pd.DataFrame:\\n        return self.dataf.loc[:, self.features]\\n\\n    @property\\n    def get_target_data(self) -> pd.DataFrame:\\n        return self.dataf.loc[:, self.targets]\\n\\n    @property\\n    def get_single_target_data(self) -> pd.DataFrame:\\n        return self.dataf.loc[:, [\\\"target\\\"]]\\n\\n    @property\\n    def get_prediction_data(self) -> pd.DataFrame:\\n        return self.dataf.loc[:, self.predictions]\\n\\n    @property\\n    def get_aux_data(self) -> pd.DataFrame:\\n        \\\"\\\"\\\"All columns that are not features, targets or predictions.\\\"\\\"\\\"\\n        return self.dataf.loc[:, self.aux_columns]\\n\\n    def __repr__(self) -> str:\\n        return f\\\"Dataset of shape {self.dataf.shape}. Columns: {self.all_columns}\\\"\\n\\n    def __str__(self):\\n        return self.__repr__()\";\n                var nbb_cells = Jupyter.notebook.get_cells();\n                for (var i = 0; i < nbb_cells.length; ++i) {\n                    if (nbb_cells[i].input_prompt_number == nbb_cell_id) {\n                        if (nbb_cells[i].get_text() == nbb_unformatted_code) {\n                             nbb_cells[i].set_text(nbb_formatted_code);\n                        }\n                        break;\n                    }\n                }\n            }, 500);\n            ",
      "text/plain": "<IPython.core.display.Javascript object>"
     },
     "metadata": {},
     "output_type": "display_data"
    }
   ],
   "source": [
    "@typechecked\n",
    "class Dataset:\n",
    "    def __init__(self, dataf: pd.DataFrame, *args, **kwargs):\n",
    "        self.dataf = dataf\n",
    "        self.__dict__.update(*args, **kwargs)\n",
    "        self.all_columns = list(self.dataf.columns)\n",
    "        self.features = [col for col in self.all_columns if col.startswith(\"feature\")]\n",
    "        self.targets = [col for col in self.all_columns if col.startswith(\"target\")]\n",
    "        self.predictions = [col for col in self.all_columns if col.startswith(\"prediction\")]\n",
    "        self.not_aux_columns = self.features + self.targets + self.predictions\n",
    "        self.aux_columns = [col for col in self.all_columns if col not in self.not_aux_columns]\n",
    "\n",
    "    def copy_dataset(self):\n",
    "        \"\"\" Copy Dataset object \"\"\"\n",
    "        return deepcopy(self)\n",
    "\n",
    "    def copy_dataframe(self) -> pd.DataFrame:\n",
    "        \"\"\" Copy DataFrame part of Dataset \"\"\"\n",
    "        return deepcopy(self.dataf)\n",
    "\n",
    "    def export_json_metadata(self, file=\"config.json\", verbose=False, **kwargs):\n",
    "        \"\"\" Export all attributes in Dataset that can be serialized to json file. \"\"\"\n",
    "        rich_print(f\":file_folder: Exporting metadata to {file} :file_folder:\")\n",
    "        json_txt = json.dumps(self.__dict__, default=lambda o: '<not serializable>', **kwargs)\n",
    "        if verbose:\n",
    "            rich_print(json_txt)\n",
    "        Path(file).write_text(json_txt)\n",
    "\n",
    "    def import_json_metadata(self, file=\"config.json\", verbose=False, **kwargs):\n",
    "        \"\"\" Load arbitrary data into Dataset object from json file \"\"\"\n",
    "        rich_print(f\":file_folder: Importing metadata from {file} :file_folder:\")\n",
    "        with open(file) as json_file:\n",
    "            json_data = json.load(json_file, **kwargs)\n",
    "        if verbose:\n",
    "            rich_print(json_data)\n",
    "        # Make sure there is no overwrite on DataFrame\n",
    "        json_data.pop('dataf', None)\n",
    "        self.__dict__.update(json_data)\n",
    "\n",
    "    def get_column_selection(self, cols: Union[str, list]) -> pd.DataFrame:\n",
    "        \"\"\" Return DataFrame given selection of columns. \"\"\"\n",
    "        return self.dataf.loc[:, cols if isinstance(cols, list) else [cols]]\n",
    "\n",
    "    @property\n",
    "    def get_feature_data(self) -> pd.DataFrame:\n",
    "        return self.dataf.loc[:, self.features]\n",
    "\n",
    "    @property\n",
    "    def get_target_data(self) -> pd.DataFrame:\n",
    "        return self.dataf.loc[:, self.targets]\n",
    "\n",
    "    @property\n",
    "    def get_single_target_data(self) -> pd.DataFrame:\n",
    "        return self.dataf.loc[:, ['target']]\n",
    "\n",
    "    @property\n",
    "    def get_prediction_data(self) -> pd.DataFrame:\n",
    "        return self.dataf.loc[:, self.predictions]\n",
    "\n",
    "    @property\n",
    "    def get_aux_data(self) -> pd.DataFrame:\n",
    "        \"\"\" All columns that are not features, targets or predictions. \"\"\"\n",
    "        return self.dataf.loc[:, self.aux_columns]\n",
    "\n",
    "    def __repr__(self) -> str:\n",
    "        return f\"Dataset of shape {self.dataf.shape}. Columns: {self.all_columns}\"\n",
    "\n",
    "    def __str__(self):\n",
    "        return self.__repr__()"
   ]
  },
  {
   "cell_type": "markdown",
   "metadata": {},
   "source": [
    "### Tests"
   ]
  },
  {
   "cell_type": "code",
   "execution_count": null,
   "metadata": {},
   "outputs": [
    {
     "data": {
      "application/javascript": "\n            setTimeout(function() {\n                var nbb_cell_id = 6;\n                var nbb_unformatted_code = \"# Random DataFrame\\ntest_features = [f\\\"feature_{l}\\\" for l in \\\"ABCDEFGHIK\\\"]\\nid_col = [uuid.uuid4().hex for _ in range(100)]\\n\\ndf = pd.DataFrame(np.random.uniform(size=(100, 10)), columns=test_features)\\ndf['id'] = id_col\\ndf['target'] = np.random.normal(size=100)\\ndf['era'] = range(100)\";\n                var nbb_formatted_code = \"# Random DataFrame\\ntest_features = [f\\\"feature_{l}\\\" for l in \\\"ABCDEFGHIK\\\"]\\nid_col = [uuid.uuid4().hex for _ in range(100)]\\n\\ndf = pd.DataFrame(np.random.uniform(size=(100, 10)), columns=test_features)\\ndf[\\\"id\\\"] = id_col\\ndf[\\\"target\\\"] = np.random.normal(size=100)\\ndf[\\\"era\\\"] = range(100)\";\n                var nbb_cells = Jupyter.notebook.get_cells();\n                for (var i = 0; i < nbb_cells.length; ++i) {\n                    if (nbb_cells[i].input_prompt_number == nbb_cell_id) {\n                        if (nbb_cells[i].get_text() == nbb_unformatted_code) {\n                             nbb_cells[i].set_text(nbb_formatted_code);\n                        }\n                        break;\n                    }\n                }\n            }, 500);\n            ",
      "text/plain": "<IPython.core.display.Javascript object>"
     },
     "metadata": {},
     "output_type": "display_data"
    }
   ],
   "source": [
    "# Random DataFrame\n",
    "test_features = [f\"feature_{l}\" for l in \"ABCDEFGHIK\"]\n",
    "id_col = [uuid.uuid4().hex for _ in range(100)]\n",
    "\n",
    "df = pd.DataFrame(np.random.uniform(size=(100, 10)), columns=test_features)\n",
    "df['id'] = id_col\n",
    "df['target'] = np.random.normal(size=100)\n",
    "df['era'] = range(100)"
   ]
  },
  {
   "cell_type": "code",
   "execution_count": null,
   "metadata": {},
   "outputs": [
    {
     "data": {
      "application/javascript": "\n            setTimeout(function() {\n                var nbb_cell_id = 7;\n                var nbb_unformatted_code = \"metadata = {\\\"version\\\": 2, \\\"additional_info\\\": \\\"test_model\\\", \\\"multi_target\\\": False, \\\"tournament_type\\\": \\\"classic\\\"}\\ndataset = Dataset(df, metadata)\";\n                var nbb_formatted_code = \"metadata = {\\n    \\\"version\\\": 2,\\n    \\\"additional_info\\\": \\\"test_model\\\",\\n    \\\"multi_target\\\": False,\\n    \\\"tournament_type\\\": \\\"classic\\\",\\n}\\ndataset = Dataset(df, metadata)\";\n                var nbb_cells = Jupyter.notebook.get_cells();\n                for (var i = 0; i < nbb_cells.length; ++i) {\n                    if (nbb_cells[i].input_prompt_number == nbb_cell_id) {\n                        if (nbb_cells[i].get_text() == nbb_unformatted_code) {\n                             nbb_cells[i].set_text(nbb_formatted_code);\n                        }\n                        break;\n                    }\n                }\n            }, 500);\n            ",
      "text/plain": "<IPython.core.display.Javascript object>"
     },
     "metadata": {},
     "output_type": "display_data"
    }
   ],
   "source": [
    "metadata = {\"version\": 2, \"additional_info\": \"test_model\", \"multi_target\": False, \"tournament_type\": \"classic\"}\n",
    "dataset = Dataset(df, metadata)"
   ]
  },
  {
   "cell_type": "code",
   "execution_count": null,
   "metadata": {},
   "outputs": [
    {
     "data": {
      "text/html": "<div>\n<style scoped>\n    .dataframe tbody tr th:only-of-type {\n        vertical-align: middle;\n    }\n\n    .dataframe tbody tr th {\n        vertical-align: top;\n    }\n\n    .dataframe thead th {\n        text-align: right;\n    }\n</style>\n<table border=\"1\" class=\"dataframe\">\n  <thead>\n    <tr style=\"text-align: right;\">\n      <th></th>\n      <th>feature_A</th>\n      <th>feature_B</th>\n      <th>feature_C</th>\n      <th>feature_D</th>\n      <th>feature_E</th>\n      <th>feature_F</th>\n      <th>feature_G</th>\n      <th>feature_H</th>\n      <th>feature_I</th>\n      <th>feature_K</th>\n      <th>id</th>\n      <th>target</th>\n      <th>era</th>\n    </tr>\n  </thead>\n  <tbody>\n    <tr>\n      <th>0</th>\n      <td>0.272877</td>\n      <td>0.307079</td>\n      <td>0.259438</td>\n      <td>0.131335</td>\n      <td>0.648017</td>\n      <td>0.435034</td>\n      <td>0.166647</td>\n      <td>0.276702</td>\n      <td>0.397706</td>\n      <td>0.310357</td>\n      <td>d20e20bc33054781987c8f4f3b5e9000</td>\n      <td>-2.594008</td>\n      <td>0</td>\n    </tr>\n    <tr>\n      <th>1</th>\n      <td>0.292326</td>\n      <td>0.809736</td>\n      <td>0.538780</td>\n      <td>0.127201</td>\n      <td>0.941278</td>\n      <td>0.420972</td>\n      <td>0.371896</td>\n      <td>0.169763</td>\n      <td>0.267573</td>\n      <td>0.010176</td>\n      <td>1e8243a1b8f54d54a62e1bd414633467</td>\n      <td>0.397229</td>\n      <td>1</td>\n    </tr>\n  </tbody>\n</table>\n</div>",
      "text/plain": "   feature_A  feature_B  feature_C  feature_D  feature_E  feature_F  \\\n0   0.272877   0.307079   0.259438   0.131335   0.648017   0.435034   \n1   0.292326   0.809736   0.538780   0.127201   0.941278   0.420972   \n\n   feature_G  feature_H  feature_I  feature_K  \\\n0   0.166647   0.276702   0.397706   0.310357   \n1   0.371896   0.169763   0.267573   0.010176   \n\n                                 id    target  era  \n0  d20e20bc33054781987c8f4f3b5e9000 -2.594008    0  \n1  1e8243a1b8f54d54a62e1bd414633467  0.397229    1  "
     },
     "execution_count": null,
     "metadata": {},
     "output_type": "execute_result"
    },
    {
     "data": {
      "application/javascript": "\n            setTimeout(function() {\n                var nbb_cell_id = 8;\n                var nbb_unformatted_code = \"dataset.dataf.head(2)\";\n                var nbb_formatted_code = \"dataset.dataf.head(2)\";\n                var nbb_cells = Jupyter.notebook.get_cells();\n                for (var i = 0; i < nbb_cells.length; ++i) {\n                    if (nbb_cells[i].input_prompt_number == nbb_cell_id) {\n                        if (nbb_cells[i].get_text() == nbb_unformatted_code) {\n                             nbb_cells[i].set_text(nbb_formatted_code);\n                        }\n                        break;\n                    }\n                }\n            }, 500);\n            ",
      "text/plain": "<IPython.core.display.Javascript object>"
     },
     "metadata": {},
     "output_type": "display_data"
    }
   ],
   "source": [
    "dataset.dataf.head(2)"
   ]
  },
  {
   "cell_type": "code",
   "execution_count": null,
   "metadata": {},
   "outputs": [
    {
     "data": {
      "text/html": "<div>\n<style scoped>\n    .dataframe tbody tr th:only-of-type {\n        vertical-align: middle;\n    }\n\n    .dataframe tbody tr th {\n        vertical-align: top;\n    }\n\n    .dataframe thead th {\n        text-align: right;\n    }\n</style>\n<table border=\"1\" class=\"dataframe\">\n  <thead>\n    <tr style=\"text-align: right;\">\n      <th></th>\n      <th>feature_A</th>\n      <th>feature_B</th>\n      <th>feature_C</th>\n      <th>feature_D</th>\n      <th>feature_E</th>\n      <th>feature_F</th>\n      <th>feature_G</th>\n      <th>feature_H</th>\n      <th>feature_I</th>\n      <th>feature_K</th>\n    </tr>\n  </thead>\n  <tbody>\n    <tr>\n      <th>0</th>\n      <td>0.272877</td>\n      <td>0.307079</td>\n      <td>0.259438</td>\n      <td>0.131335</td>\n      <td>0.648017</td>\n      <td>0.435034</td>\n      <td>0.166647</td>\n      <td>0.276702</td>\n      <td>0.397706</td>\n      <td>0.310357</td>\n    </tr>\n    <tr>\n      <th>1</th>\n      <td>0.292326</td>\n      <td>0.809736</td>\n      <td>0.538780</td>\n      <td>0.127201</td>\n      <td>0.941278</td>\n      <td>0.420972</td>\n      <td>0.371896</td>\n      <td>0.169763</td>\n      <td>0.267573</td>\n      <td>0.010176</td>\n    </tr>\n  </tbody>\n</table>\n</div>",
      "text/plain": "   feature_A  feature_B  feature_C  feature_D  feature_E  feature_F  \\\n0   0.272877   0.307079   0.259438   0.131335   0.648017   0.435034   \n1   0.292326   0.809736   0.538780   0.127201   0.941278   0.420972   \n\n   feature_G  feature_H  feature_I  feature_K  \n0   0.166647   0.276702   0.397706   0.310357  \n1   0.371896   0.169763   0.267573   0.010176  "
     },
     "execution_count": null,
     "metadata": {},
     "output_type": "execute_result"
    },
    {
     "data": {
      "application/javascript": "\n            setTimeout(function() {\n                var nbb_cell_id = 9;\n                var nbb_unformatted_code = \"dataset.get_feature_data.head(2)\";\n                var nbb_formatted_code = \"dataset.get_feature_data.head(2)\";\n                var nbb_cells = Jupyter.notebook.get_cells();\n                for (var i = 0; i < nbb_cells.length; ++i) {\n                    if (nbb_cells[i].input_prompt_number == nbb_cell_id) {\n                        if (nbb_cells[i].get_text() == nbb_unformatted_code) {\n                             nbb_cells[i].set_text(nbb_formatted_code);\n                        }\n                        break;\n                    }\n                }\n            }, 500);\n            ",
      "text/plain": "<IPython.core.display.Javascript object>"
     },
     "metadata": {},
     "output_type": "display_data"
    }
   ],
   "source": [
    "dataset.get_feature_data.head(2)"
   ]
  },
  {
   "cell_type": "code",
   "execution_count": null,
   "metadata": {},
   "outputs": [
    {
     "data": {
      "text/plain": "['id', 'era']"
     },
     "execution_count": null,
     "metadata": {},
     "output_type": "execute_result"
    },
    {
     "data": {
      "application/javascript": "\n            setTimeout(function() {\n                var nbb_cell_id = 10;\n                var nbb_unformatted_code = \"dataset.aux_columns\";\n                var nbb_formatted_code = \"dataset.aux_columns\";\n                var nbb_cells = Jupyter.notebook.get_cells();\n                for (var i = 0; i < nbb_cells.length; ++i) {\n                    if (nbb_cells[i].input_prompt_number == nbb_cell_id) {\n                        if (nbb_cells[i].get_text() == nbb_unformatted_code) {\n                             nbb_cells[i].set_text(nbb_formatted_code);\n                        }\n                        break;\n                    }\n                }\n            }, 500);\n            ",
      "text/plain": "<IPython.core.display.Javascript object>"
     },
     "metadata": {},
     "output_type": "display_data"
    }
   ],
   "source": [
    "dataset.aux_columns"
   ]
  },
  {
   "cell_type": "code",
   "execution_count": null,
   "metadata": {},
   "outputs": [
    {
     "data": {
      "text/html": "<div>\n<style scoped>\n    .dataframe tbody tr th:only-of-type {\n        vertical-align: middle;\n    }\n\n    .dataframe tbody tr th {\n        vertical-align: top;\n    }\n\n    .dataframe thead th {\n        text-align: right;\n    }\n</style>\n<table border=\"1\" class=\"dataframe\">\n  <thead>\n    <tr style=\"text-align: right;\">\n      <th></th>\n      <th>id</th>\n      <th>era</th>\n    </tr>\n  </thead>\n  <tbody>\n    <tr>\n      <th>0</th>\n      <td>d20e20bc33054781987c8f4f3b5e9000</td>\n      <td>0</td>\n    </tr>\n    <tr>\n      <th>1</th>\n      <td>1e8243a1b8f54d54a62e1bd414633467</td>\n      <td>1</td>\n    </tr>\n  </tbody>\n</table>\n</div>",
      "text/plain": "                                 id  era\n0  d20e20bc33054781987c8f4f3b5e9000    0\n1  1e8243a1b8f54d54a62e1bd414633467    1"
     },
     "execution_count": null,
     "metadata": {},
     "output_type": "execute_result"
    },
    {
     "data": {
      "application/javascript": "\n            setTimeout(function() {\n                var nbb_cell_id = 11;\n                var nbb_unformatted_code = \"dataset.get_aux_data.head(2)\";\n                var nbb_formatted_code = \"dataset.get_aux_data.head(2)\";\n                var nbb_cells = Jupyter.notebook.get_cells();\n                for (var i = 0; i < nbb_cells.length; ++i) {\n                    if (nbb_cells[i].input_prompt_number == nbb_cell_id) {\n                        if (nbb_cells[i].get_text() == nbb_unformatted_code) {\n                             nbb_cells[i].set_text(nbb_formatted_code);\n                        }\n                        break;\n                    }\n                }\n            }, 500);\n            ",
      "text/plain": "<IPython.core.display.Javascript object>"
     },
     "metadata": {},
     "output_type": "display_data"
    }
   ],
   "source": [
    "dataset.get_aux_data.head(2)"
   ]
  },
  {
   "cell_type": "code",
   "execution_count": null,
   "metadata": {},
   "outputs": [
    {
     "data": {
      "application/javascript": "\n            setTimeout(function() {\n                var nbb_cell_id = 12;\n                var nbb_unformatted_code = \"assert dataset.version == 2\\nassert dataset.multi_target == False\";\n                var nbb_formatted_code = \"assert dataset.version == 2\\nassert dataset.multi_target == False\";\n                var nbb_cells = Jupyter.notebook.get_cells();\n                for (var i = 0; i < nbb_cells.length; ++i) {\n                    if (nbb_cells[i].input_prompt_number == nbb_cell_id) {\n                        if (nbb_cells[i].get_text() == nbb_unformatted_code) {\n                             nbb_cells[i].set_text(nbb_formatted_code);\n                        }\n                        break;\n                    }\n                }\n            }, 500);\n            ",
      "text/plain": "<IPython.core.display.Javascript object>"
     },
     "metadata": {},
     "output_type": "display_data"
    }
   ],
   "source": [
    "assert dataset.version == 2\n",
    "assert dataset.multi_target == False"
   ]
  },
  {
   "cell_type": "code",
   "execution_count": null,
   "metadata": {},
   "outputs": [
    {
     "data": {
      "text/html": "<pre style=\"white-space:pre;overflow-x:auto;line-height:normal;font-family:Menlo,'DejaVu Sans Mono',consolas,'Courier New',monospace\">📁 Exporting metadata to config.json 📁\n</pre>\n",
      "text/plain": "📁 Exporting metadata to config.json 📁\n"
     },
     "metadata": {},
     "output_type": "display_data"
    },
    {
     "data": {
      "application/javascript": "\n            setTimeout(function() {\n                var nbb_cell_id = 13;\n                var nbb_unformatted_code = \"dataset.export_json_metadata(\\\"config.json\\\")\";\n                var nbb_formatted_code = \"dataset.export_json_metadata(\\\"config.json\\\")\";\n                var nbb_cells = Jupyter.notebook.get_cells();\n                for (var i = 0; i < nbb_cells.length; ++i) {\n                    if (nbb_cells[i].input_prompt_number == nbb_cell_id) {\n                        if (nbb_cells[i].get_text() == nbb_unformatted_code) {\n                             nbb_cells[i].set_text(nbb_formatted_code);\n                        }\n                        break;\n                    }\n                }\n            }, 500);\n            ",
      "text/plain": "<IPython.core.display.Javascript object>"
     },
     "metadata": {},
     "output_type": "display_data"
    }
   ],
   "source": [
    "dataset.export_json_metadata(\"config.json\")"
   ]
  },
  {
   "cell_type": "code",
   "execution_count": null,
   "metadata": {},
   "outputs": [
    {
     "data": {
      "text/html": "<pre style=\"white-space:pre;overflow-x:auto;line-height:normal;font-family:Menlo,'DejaVu Sans Mono',consolas,'Courier New',monospace\">📁 Importing metadata from config.json 📁\n</pre>\n",
      "text/plain": "📁 Importing metadata from config.json 📁\n"
     },
     "metadata": {},
     "output_type": "display_data"
    },
    {
     "data": {
      "application/javascript": "\n            setTimeout(function() {\n                var nbb_cell_id = 14;\n                var nbb_unformatted_code = \"dataset.import_json_metadata(\\\"config.json\\\")\";\n                var nbb_formatted_code = \"dataset.import_json_metadata(\\\"config.json\\\")\";\n                var nbb_cells = Jupyter.notebook.get_cells();\n                for (var i = 0; i < nbb_cells.length; ++i) {\n                    if (nbb_cells[i].input_prompt_number == nbb_cell_id) {\n                        if (nbb_cells[i].get_text() == nbb_unformatted_code) {\n                             nbb_cells[i].set_text(nbb_formatted_code);\n                        }\n                        break;\n                    }\n                }\n            }, 500);\n            ",
      "text/plain": "<IPython.core.display.Javascript object>"
     },
     "metadata": {},
     "output_type": "display_data"
    }
   ],
   "source": [
    "dataset.import_json_metadata(\"config.json\")"
   ]
  },
  {
   "cell_type": "code",
   "execution_count": null,
   "metadata": {},
   "outputs": [
    {
     "data": {
      "text/plain": "{'dataf':     feature_A  feature_B  feature_C  feature_D  feature_E  feature_F  \\\n 0    0.272877   0.307079   0.259438   0.131335   0.648017   0.435034   \n 1    0.292326   0.809736   0.538780   0.127201   0.941278   0.420972   \n 2    0.115231   0.570173   0.705241   0.474374   0.927222   0.543154   \n 3    0.400020   0.153829   0.536381   0.331764   0.415466   0.159677   \n 4    0.794389   0.668113   0.172011   0.682105   0.808155   0.468832   \n ..        ...        ...        ...        ...        ...        ...   \n 95   0.967203   0.514418   0.940342   0.769946   0.417536   0.552767   \n 96   0.294590   0.777028   0.751917   0.390948   0.549639   0.519838   \n 97   0.355617   0.230165   0.345002   0.619607   0.623383   0.080130   \n 98   0.664745   0.328989   0.080115   0.019733   0.537722   0.210853   \n 99   0.125461   0.942354   0.174399   0.133732   0.010703   0.780507   \n \n     feature_G  feature_H  feature_I  feature_K  \\\n 0    0.166647   0.276702   0.397706   0.310357   \n 1    0.371896   0.169763   0.267573   0.010176   \n 2    0.207212   0.310555   0.249547   0.427707   \n 3    0.829024   0.249211   0.181954   0.824466   \n 4    0.800436   0.465648   0.619731   0.069640   \n ..        ...        ...        ...        ...   \n 95   0.202532   0.437044   0.371917   0.261341   \n 96   0.574374   0.183658   0.613685   0.244065   \n 97   0.104155   0.773772   0.183667   0.593189   \n 98   0.598644   0.439366   0.587827   0.197687   \n 99   0.215600   0.279139   0.362024   0.298886   \n \n                                   id    target  era  \n 0   d20e20bc33054781987c8f4f3b5e9000 -2.594008    0  \n 1   1e8243a1b8f54d54a62e1bd414633467  0.397229    1  \n 2   84727162f48f436c8117f7a78420b309 -0.860436    2  \n 3   c5987656ee98476e8023d3b9e9f8b942 -1.028424    3  \n 4   096e4778a23d4e859865c334ce3e4176  0.145770    4  \n ..                               ...       ...  ...  \n 95  31115a65e2054de298a7c1c8a722c25c -1.135233   95  \n 96  1dc0b5df79204ffc9fe843f22ece0a2f -0.290243   96  \n 97  314aa946a5704947a61458e3662838b4 -1.642556   97  \n 98  bcb51c2fb00e409ea8c47657ff791da3  0.675872   98  \n 99  88fa70e74f7249c1800c146a26618ba3  0.987613   99  \n \n [100 rows x 13 columns],\n 'version': 2,\n 'additional_info': 'test_model',\n 'multi_target': False,\n 'tournament_type': 'classic',\n 'all_columns': ['feature_A',\n  'feature_B',\n  'feature_C',\n  'feature_D',\n  'feature_E',\n  'feature_F',\n  'feature_G',\n  'feature_H',\n  'feature_I',\n  'feature_K',\n  'id',\n  'target',\n  'era'],\n 'features': ['feature_A',\n  'feature_B',\n  'feature_C',\n  'feature_D',\n  'feature_E',\n  'feature_F',\n  'feature_G',\n  'feature_H',\n  'feature_I',\n  'feature_K'],\n 'targets': ['target'],\n 'predictions': [],\n 'not_aux_columns': ['feature_A',\n  'feature_B',\n  'feature_C',\n  'feature_D',\n  'feature_E',\n  'feature_F',\n  'feature_G',\n  'feature_H',\n  'feature_I',\n  'feature_K',\n  'target'],\n 'aux_columns': ['id', 'era']}"
     },
     "execution_count": null,
     "metadata": {},
     "output_type": "execute_result"
    },
    {
     "data": {
      "application/javascript": "\n            setTimeout(function() {\n                var nbb_cell_id = 15;\n                var nbb_unformatted_code = \"dataset.__dict__\";\n                var nbb_formatted_code = \"dataset.__dict__\";\n                var nbb_cells = Jupyter.notebook.get_cells();\n                for (var i = 0; i < nbb_cells.length; ++i) {\n                    if (nbb_cells[i].input_prompt_number == nbb_cell_id) {\n                        if (nbb_cells[i].get_text() == nbb_unformatted_code) {\n                             nbb_cells[i].set_text(nbb_formatted_code);\n                        }\n                        break;\n                    }\n                }\n            }, 500);\n            ",
      "text/plain": "<IPython.core.display.Javascript object>"
     },
     "metadata": {},
     "output_type": "display_data"
    }
   ],
   "source": [
    "dataset.__dict__"
   ]
  },
  {
   "cell_type": "code",
   "execution_count": null,
   "metadata": {},
   "outputs": [
    {
     "data": {
      "application/javascript": "\n            setTimeout(function() {\n                var nbb_cell_id = 16;\n                var nbb_unformatted_code = \"dataf2 = dataset.copy_dataframe()\\nassert dataf2.equals(dataset.dataf)\";\n                var nbb_formatted_code = \"dataf2 = dataset.copy_dataframe()\\nassert dataf2.equals(dataset.dataf)\";\n                var nbb_cells = Jupyter.notebook.get_cells();\n                for (var i = 0; i < nbb_cells.length; ++i) {\n                    if (nbb_cells[i].input_prompt_number == nbb_cell_id) {\n                        if (nbb_cells[i].get_text() == nbb_unformatted_code) {\n                             nbb_cells[i].set_text(nbb_formatted_code);\n                        }\n                        break;\n                    }\n                }\n            }, 500);\n            ",
      "text/plain": "<IPython.core.display.Javascript object>"
     },
     "metadata": {},
     "output_type": "display_data"
    }
   ],
   "source": [
    "dataf2 = dataset.copy_dataframe()\n",
    "assert dataf2.equals(dataset.dataf)"
   ]
  },
  {
   "cell_type": "code",
   "execution_count": null,
   "metadata": {},
   "outputs": [
    {
     "data": {
      "text/html": "<div>\n<style scoped>\n    .dataframe tbody tr th:only-of-type {\n        vertical-align: middle;\n    }\n\n    .dataframe tbody tr th {\n        vertical-align: top;\n    }\n\n    .dataframe thead th {\n        text-align: right;\n    }\n</style>\n<table border=\"1\" class=\"dataframe\">\n  <thead>\n    <tr style=\"text-align: right;\">\n      <th></th>\n      <th>target</th>\n    </tr>\n  </thead>\n  <tbody>\n    <tr>\n      <th>0</th>\n      <td>-2.594008</td>\n    </tr>\n    <tr>\n      <th>1</th>\n      <td>0.397229</td>\n    </tr>\n  </tbody>\n</table>\n</div>",
      "text/plain": "     target\n0 -2.594008\n1  0.397229"
     },
     "execution_count": null,
     "metadata": {},
     "output_type": "execute_result"
    },
    {
     "data": {
      "application/javascript": "\n            setTimeout(function() {\n                var nbb_cell_id = 17;\n                var nbb_unformatted_code = \"dataset.get_single_target_data.head(2)\";\n                var nbb_formatted_code = \"dataset.get_single_target_data.head(2)\";\n                var nbb_cells = Jupyter.notebook.get_cells();\n                for (var i = 0; i < nbb_cells.length; ++i) {\n                    if (nbb_cells[i].input_prompt_number == nbb_cell_id) {\n                        if (nbb_cells[i].get_text() == nbb_unformatted_code) {\n                             nbb_cells[i].set_text(nbb_formatted_code);\n                        }\n                        break;\n                    }\n                }\n            }, 500);\n            ",
      "text/plain": "<IPython.core.display.Javascript object>"
     },
     "metadata": {},
     "output_type": "display_data"
    }
   ],
   "source": [
    "dataset.get_single_target_data.head(2)"
   ]
  },
  {
   "cell_type": "code",
   "execution_count": null,
   "metadata": {},
   "outputs": [
    {
     "data": {
      "application/javascript": "\n            setTimeout(function() {\n                var nbb_cell_id = 18;\n                var nbb_unformatted_code = \"dataset.dataf.loc[:, 'prediction_test_1'] = np.random.uniform(size=len(dataset.dataf))\\nnew_dataset = Dataset(dataset.dataf, dataset.__dict__)\\nassert new_dataset.predictions == ['prediction_test_1']\\nassert new_dataset.version == 2\";\n                var nbb_formatted_code = \"dataset.dataf.loc[:, \\\"prediction_test_1\\\"] = np.random.uniform(size=len(dataset.dataf))\\nnew_dataset = Dataset(dataset.dataf, dataset.__dict__)\\nassert new_dataset.predictions == [\\\"prediction_test_1\\\"]\\nassert new_dataset.version == 2\";\n                var nbb_cells = Jupyter.notebook.get_cells();\n                for (var i = 0; i < nbb_cells.length; ++i) {\n                    if (nbb_cells[i].input_prompt_number == nbb_cell_id) {\n                        if (nbb_cells[i].get_text() == nbb_unformatted_code) {\n                             nbb_cells[i].set_text(nbb_formatted_code);\n                        }\n                        break;\n                    }\n                }\n            }, 500);\n            ",
      "text/plain": "<IPython.core.display.Javascript object>"
     },
     "metadata": {},
     "output_type": "display_data"
    }
   ],
   "source": [
    "dataset.dataf.loc[:, 'prediction_test_1'] = np.random.uniform(size=len(dataset.dataf))\n",
    "new_dataset = Dataset(dataset.dataf, dataset.__dict__)\n",
    "assert new_dataset.predictions == ['prediction_test_1']\n",
    "assert new_dataset.version == 2"
   ]
  },
  {
   "cell_type": "code",
   "execution_count": null,
   "metadata": {},
   "outputs": [
    {
     "data": {
      "text/html": "<div>\n<style scoped>\n    .dataframe tbody tr th:only-of-type {\n        vertical-align: middle;\n    }\n\n    .dataframe tbody tr th {\n        vertical-align: top;\n    }\n\n    .dataframe thead th {\n        text-align: right;\n    }\n</style>\n<table border=\"1\" class=\"dataframe\">\n  <thead>\n    <tr style=\"text-align: right;\">\n      <th></th>\n      <th>id</th>\n    </tr>\n  </thead>\n  <tbody>\n    <tr>\n      <th>0</th>\n      <td>d20e20bc33054781987c8f4f3b5e9000</td>\n    </tr>\n    <tr>\n      <th>1</th>\n      <td>1e8243a1b8f54d54a62e1bd414633467</td>\n    </tr>\n  </tbody>\n</table>\n</div>",
      "text/plain": "                                 id\n0  d20e20bc33054781987c8f4f3b5e9000\n1  1e8243a1b8f54d54a62e1bd414633467"
     },
     "execution_count": null,
     "metadata": {},
     "output_type": "execute_result"
    },
    {
     "data": {
      "application/javascript": "\n            setTimeout(function() {\n                var nbb_cell_id = 19;\n                var nbb_unformatted_code = \"new_dataset.get_column_selection(\\\"id\\\").head(2)\";\n                var nbb_formatted_code = \"new_dataset.get_column_selection(\\\"id\\\").head(2)\";\n                var nbb_cells = Jupyter.notebook.get_cells();\n                for (var i = 0; i < nbb_cells.length; ++i) {\n                    if (nbb_cells[i].input_prompt_number == nbb_cell_id) {\n                        if (nbb_cells[i].get_text() == nbb_unformatted_code) {\n                             nbb_cells[i].set_text(nbb_formatted_code);\n                        }\n                        break;\n                    }\n                }\n            }, 500);\n            ",
      "text/plain": "<IPython.core.display.Javascript object>"
     },
     "metadata": {},
     "output_type": "display_data"
    }
   ],
   "source": [
    "new_dataset.get_column_selection(\"id\").head(2)"
   ]
  },
  {
   "cell_type": "code",
   "execution_count": null,
   "metadata": {},
   "outputs": [
    {
     "data": {
      "text/html": "<div>\n<style scoped>\n    .dataframe tbody tr th:only-of-type {\n        vertical-align: middle;\n    }\n\n    .dataframe tbody tr th {\n        vertical-align: top;\n    }\n\n    .dataframe thead th {\n        text-align: right;\n    }\n</style>\n<table border=\"1\" class=\"dataframe\">\n  <thead>\n    <tr style=\"text-align: right;\">\n      <th></th>\n      <th>id</th>\n      <th>prediction_test_1</th>\n    </tr>\n  </thead>\n  <tbody>\n    <tr>\n      <th>0</th>\n      <td>d20e20bc33054781987c8f4f3b5e9000</td>\n      <td>0.201969</td>\n    </tr>\n    <tr>\n      <th>1</th>\n      <td>1e8243a1b8f54d54a62e1bd414633467</td>\n      <td>0.878643</td>\n    </tr>\n  </tbody>\n</table>\n</div>",
      "text/plain": "                                 id  prediction_test_1\n0  d20e20bc33054781987c8f4f3b5e9000           0.201969\n1  1e8243a1b8f54d54a62e1bd414633467           0.878643"
     },
     "execution_count": null,
     "metadata": {},
     "output_type": "execute_result"
    },
    {
     "data": {
      "application/javascript": "\n            setTimeout(function() {\n                var nbb_cell_id = 20;\n                var nbb_unformatted_code = \"new_dataset.get_column_selection([\\\"id\\\", \\\"prediction_test_1\\\"]).head(2)\";\n                var nbb_formatted_code = \"new_dataset.get_column_selection([\\\"id\\\", \\\"prediction_test_1\\\"]).head(2)\";\n                var nbb_cells = Jupyter.notebook.get_cells();\n                for (var i = 0; i < nbb_cells.length; ++i) {\n                    if (nbb_cells[i].input_prompt_number == nbb_cell_id) {\n                        if (nbb_cells[i].get_text() == nbb_unformatted_code) {\n                             nbb_cells[i].set_text(nbb_formatted_code);\n                        }\n                        break;\n                    }\n                }\n            }, 500);\n            ",
      "text/plain": "<IPython.core.display.Javascript object>"
     },
     "metadata": {},
     "output_type": "display_data"
    }
   ],
   "source": [
    "new_dataset.get_column_selection([\"id\", \"prediction_test_1\"]).head(2)"
   ]
  },
  {
   "cell_type": "code",
   "execution_count": null,
   "metadata": {},
   "outputs": [
    {
     "data": {
      "text/plain": "\"Dataset of shape (100, 14). Columns: ['feature_A', 'feature_B', 'feature_C', 'feature_D', 'feature_E', 'feature_F', 'feature_G', 'feature_H', 'feature_I', 'feature_K', 'id', 'target', 'era']\""
     },
     "execution_count": null,
     "metadata": {},
     "output_type": "execute_result"
    },
    {
     "data": {
      "application/javascript": "\n            setTimeout(function() {\n                var nbb_cell_id = 21;\n                var nbb_unformatted_code = \"str(dataset)\";\n                var nbb_formatted_code = \"str(dataset)\";\n                var nbb_cells = Jupyter.notebook.get_cells();\n                for (var i = 0; i < nbb_cells.length; ++i) {\n                    if (nbb_cells[i].input_prompt_number == nbb_cell_id) {\n                        if (nbb_cells[i].get_text() == nbb_unformatted_code) {\n                             nbb_cells[i].set_text(nbb_formatted_code);\n                        }\n                        break;\n                    }\n                }\n            }, 500);\n            ",
      "text/plain": "<IPython.core.display.Javascript object>"
     },
     "metadata": {},
     "output_type": "display_data"
    }
   ],
   "source": [
    "str(dataset)"
   ]
  },
  {
   "cell_type": "markdown",
   "metadata": {},
   "source": [
    "-----------------------------------------------"
   ]
  },
  {
   "cell_type": "code",
   "execution_count": null,
   "metadata": {},
   "outputs": [
    {
     "name": "stdout",
     "output_type": "stream",
     "text": [
      "Converted 00_download.ipynb.\n",
      "Converted 01_dataloaders.ipynb.\n",
      "Converted 02_dataset.ipynb.\n",
      "Converted 03_preprocessing.ipynb.\n",
      "Converted 04a_model.ipynb.\n",
      "Converted 04b_modelpipeline.ipynb.\n",
      "Converted 05_postprocessing.ipynb.\n",
      "Converted 06_prediction_dataset.ipynb.\n",
      "Converted 07_evaluation.ipynb.\n",
      "Converted 08_key.ipynb.\n",
      "Converted 09_submission.ipynb.\n",
      "Converted index.ipynb.\n"
     ]
    },
    {
     "data": {
      "application/javascript": "\n            setTimeout(function() {\n                var nbb_cell_id = 22;\n                var nbb_unformatted_code = \"#hide\\n# Run this cell to sync all changes with library\\nfrom nbdev.export import notebook2script; notebook2script()\";\n                var nbb_formatted_code = \"# hide\\n# Run this cell to sync all changes with library\\nfrom nbdev.export import notebook2script\\n\\nnotebook2script()\";\n                var nbb_cells = Jupyter.notebook.get_cells();\n                for (var i = 0; i < nbb_cells.length; ++i) {\n                    if (nbb_cells[i].input_prompt_number == nbb_cell_id) {\n                        if (nbb_cells[i].get_text() == nbb_unformatted_code) {\n                             nbb_cells[i].set_text(nbb_formatted_code);\n                        }\n                        break;\n                    }\n                }\n            }, 500);\n            ",
      "text/plain": "<IPython.core.display.Javascript object>"
     },
     "metadata": {},
     "output_type": "display_data"
    }
   ],
   "source": [
    "#hide\n",
    "# Run this cell to sync all changes with library\n",
    "from nbdev.export import notebook2script; notebook2script()"
   ]
  }
 ],
 "metadata": {
  "kernelspec": {
   "display_name": "Python 3",
   "language": "python",
   "name": "python3"
  }
 },
 "nbformat": 4,
 "nbformat_minor": 0
}
