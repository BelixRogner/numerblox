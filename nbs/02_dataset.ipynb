{
 "cells": [
  {
   "cell_type": "code",
   "execution_count": null,
   "metadata": {},
   "outputs": [
    {
     "data": {
      "application/javascript": "\n            setTimeout(function() {\n                var nbb_cell_id = 1;\n                var nbb_unformatted_code = \"%load_ext autoreload\\n%autoreload 2\\n%load_ext nb_black\\n%load_ext lab_black\";\n                var nbb_formatted_code = \"%load_ext autoreload\\n%autoreload 2\\n%load_ext nb_black\\n%load_ext lab_black\";\n                var nbb_cells = Jupyter.notebook.get_cells();\n                for (var i = 0; i < nbb_cells.length; ++i) {\n                    if (nbb_cells[i].input_prompt_number == nbb_cell_id) {\n                        if (nbb_cells[i].get_text() == nbb_unformatted_code) {\n                             nbb_cells[i].set_text(nbb_formatted_code);\n                        }\n                        break;\n                    }\n                }\n            }, 500);\n            ",
      "text/plain": "<IPython.core.display.Javascript object>"
     },
     "metadata": {},
     "output_type": "display_data"
    }
   ],
   "source": [
    "%load_ext autoreload\n",
    "%autoreload 2\n",
    "%load_ext nb_black\n",
    "%load_ext lab_black"
   ]
  },
  {
   "cell_type": "code",
   "execution_count": null,
   "metadata": {},
   "outputs": [
    {
     "data": {
      "application/javascript": "\n            setTimeout(function() {\n                var nbb_cell_id = 2;\n                var nbb_unformatted_code = \"# default_exp dataset\";\n                var nbb_formatted_code = \"# default_exp dataset\";\n                var nbb_cells = Jupyter.notebook.get_cells();\n                for (var i = 0; i < nbb_cells.length; ++i) {\n                    if (nbb_cells[i].input_prompt_number == nbb_cell_id) {\n                        if (nbb_cells[i].get_text() == nbb_unformatted_code) {\n                             nbb_cells[i].set_text(nbb_formatted_code);\n                        }\n                        break;\n                    }\n                }\n            }, 500);\n            ",
      "text/plain": "<IPython.core.display.Javascript object>"
     },
     "metadata": {},
     "output_type": "display_data"
    }
   ],
   "source": [
    "# default_exp dataset"
   ]
  },
  {
   "cell_type": "markdown",
   "metadata": {},
   "source": [
    "# Dataset"
   ]
  },
  {
   "cell_type": "code",
   "execution_count": null,
   "metadata": {},
   "outputs": [
    {
     "data": {
      "application/javascript": "\n            setTimeout(function() {\n                var nbb_cell_id = 3;\n                var nbb_unformatted_code = \"# hide\\nfrom nbdev.showdoc import *\";\n                var nbb_formatted_code = \"# hide\\nfrom nbdev.showdoc import *\";\n                var nbb_cells = Jupyter.notebook.get_cells();\n                for (var i = 0; i < nbb_cells.length; ++i) {\n                    if (nbb_cells[i].input_prompt_number == nbb_cell_id) {\n                        if (nbb_cells[i].get_text() == nbb_unformatted_code) {\n                             nbb_cells[i].set_text(nbb_formatted_code);\n                        }\n                        break;\n                    }\n                }\n            }, 500);\n            ",
      "text/plain": "<IPython.core.display.Javascript object>"
     },
     "metadata": {},
     "output_type": "display_data"
    }
   ],
   "source": [
    "# hide\n",
    "from nbdev.showdoc import *"
   ]
  },
  {
   "cell_type": "code",
   "execution_count": null,
   "metadata": {},
   "outputs": [
    {
     "data": {
      "application/javascript": "\n            setTimeout(function() {\n                var nbb_cell_id = 4;\n                var nbb_unformatted_code = \"# export\\nimport uuid\\nimport numpy as np\\nimport pandas as pd\\nfrom copy import deepcopy\\nimport json\\nfrom pathlib import Path\\nfrom typing import Union, Tuple\\nimport datetime as dt\\nfrom functools import wraps\\nfrom rich import print as rich_print\\nfrom typeguard import typechecked\";\n                var nbb_formatted_code = \"# export\\nimport uuid\\nimport numpy as np\\nimport pandas as pd\\nfrom copy import deepcopy\\nimport json\\nfrom pathlib import Path\\nfrom typing import Union, Tuple\\nimport datetime as dt\\nfrom functools import wraps\\nfrom rich import print as rich_print\\nfrom typeguard import typechecked\";\n                var nbb_cells = Jupyter.notebook.get_cells();\n                for (var i = 0; i < nbb_cells.length; ++i) {\n                    if (nbb_cells[i].input_prompt_number == nbb_cell_id) {\n                        if (nbb_cells[i].get_text() == nbb_unformatted_code) {\n                             nbb_cells[i].set_text(nbb_formatted_code);\n                        }\n                        break;\n                    }\n                }\n            }, 500);\n            ",
      "text/plain": "<IPython.core.display.Javascript object>"
     },
     "metadata": {},
     "output_type": "display_data"
    }
   ],
   "source": [
    "# export\n",
    "import uuid\n",
    "import numpy as np\n",
    "import pandas as pd\n",
    "from copy import deepcopy\n",
    "import json\n",
    "from pathlib import Path\n",
    "from typing import Union, Tuple\n",
    "import datetime as dt\n",
    "from functools import wraps\n",
    "from rich import print as rich_print\n",
    "from typeguard import typechecked"
   ]
  },
  {
   "cell_type": "markdown",
   "metadata": {},
   "source": [
    "### Considerations"
   ]
  },
  {
   "cell_type": "markdown",
   "metadata": {},
   "source": [
    "Goals:\n",
    "1. Create dynamic Numerai dataset where we can add metadata.\n",
    "2. Numerai specific functionality while keeping the flexibility of Pandas DataFrames.\n",
    "3. Dynamically update which columns are in data after each processing step.\n",
    "4. Dynamically update generated metadata after data processing step.\n",
    "\n",
    "__Options:__\n",
    "__1.__ Subclass from DataFrame and add functionality. Add metadata to DataFrame through `df.attrs['some_metadata'] = \"some_metadata\"`\n",
    "1.1. Can be confusing because it is still a DataFrame under the hood and, `pd.read_csv` and `pd.read_parquet` returns the normal DataFrame, etc.\n",
    "More info on subclassing DataFrames: [StackOverflow](https://stackoverflow.com/questions/22155951/how-can-i-subclass-a-pandas-dataframe), [Pandas Docs](https://pandas.pydata.org/pandas-docs/stable/development/extending.html#extending-subclassing-pandas).\n",
    "1.2. [Metadata not persistent with parquet](https://stackoverflow.com/questions/14688306/adding-meta-information-metadata-to-pandas-dataframe).\n",
    "\n",
    "__2.__ Develop dedicated `Dataset` class on which DataFrame is an attribute (`.dataf`)\n",
    "2.1. Easy to add functionality and typecheck.\n",
    "2.2. Does not work out of the box with sklearn Transformers, but can be easily made compatible with a single decorator.\n",
    "2.3. Easy to export and import metadata.\n"
   ]
  },
  {
   "cell_type": "markdown",
   "metadata": {},
   "source": [
    "We adopt the convention:\n",
    " 1. All feature column names should start with \"feature\".\n",
    " 2. All target column names should start with \"target\".\n",
    " 3. All prediction column names should start with \"prediction\".\n",
    " 4. Every column for which this does not hold will be classified as an \"aux column\"."
   ]
  },
  {
   "cell_type": "code",
   "execution_count": null,
   "metadata": {},
   "outputs": [
    {
     "data": {
      "application/javascript": "\n            setTimeout(function() {\n                var nbb_cell_id = 5;\n                var nbb_unformatted_code = \"#export\\nclass Dataset:\\n    def __init__(self, dataf: pd.DataFrame, *args, **kwargs):\\n        self.dataf = dataf\\n        self.__dict__.update(*args, **kwargs)\\n        self.all_cols = list(self.dataf.columns)\\n        self.feature_cols = [col for col in self.all_cols if col.startswith(\\\"feature\\\")]\\n        self.target_cols = [col for col in self.all_cols if col.startswith(\\\"target\\\")]\\n        self.prediction_cols = [\\n            col for col in self.all_cols if col.startswith(\\\"prediction\\\")\\n        ]\\n        self.not_aux_cols = self.feature_cols + self.target_cols + self.prediction_cols\\n        self.aux_cols = [\\n            col for col in self.all_cols if col not in self.not_aux_cols\\n        ]\\n\\n    def copy_dataset(self):\\n        \\\"\\\"\\\"Copy Dataset object\\\"\\\"\\\"\\n        return deepcopy(self)\\n\\n    def copy_dataframe(self) -> pd.DataFrame:\\n        \\\"\\\"\\\"Copy DataFrame part of Dataset\\\"\\\"\\\"\\n        return deepcopy(self.dataf)\\n\\n    def export_json_metadata(self, file=\\\"config.json\\\", verbose=False, **kwargs):\\n        \\\"\\\"\\\"Export all attributes in Dataset that can be serialized to json file.\\\"\\\"\\\"\\n        rich_print(f\\\":file_folder: Exporting metadata to {file} :file_folder:\\\")\\n        json_txt = json.dumps(\\n            self.__dict__, default=lambda o: \\\"<not serializable>\\\", **kwargs\\n        )\\n        if verbose:\\n            rich_print(json_txt)\\n        Path(file).write_text(json_txt)\\n\\n    def import_json_metadata(self, file=\\\"config.json\\\", verbose=False, **kwargs):\\n        \\\"\\\"\\\"Load arbitrary data into Dataset object from json file\\\"\\\"\\\"\\n        rich_print(f\\\":file_folder: Importing metadata from {file} :file_folder:\\\")\\n        with open(file) as json_file:\\n            json_data = json.load(json_file, **kwargs)\\n        if verbose:\\n            rich_print(json_data)\\n        # Make sure there is no overwrite on DataFrame\\n        json_data.pop(\\\"dataf\\\", None)\\n        self.__dict__.update(json_data)\\n\\n    def get_column_selection(self, cols: Union[str, list]) -> pd.DataFrame:\\n        \\\"\\\"\\\"Return DataFrame given selection of columns.\\\"\\\"\\\"\\n        return self.dataf.loc[:, cols if isinstance(cols, list) else [cols]]\\n\\n    @property\\n    def get_feature_data(self) -> pd.DataFrame:\\n        return self.get_column_selection(cols=self.feature_cols)\\n\\n    @property\\n    def get_target_data(self) -> pd.DataFrame:\\n        return self.get_column_selection(cols=self.target_cols)\\n\\n    @property\\n    def get_single_target_data(self) -> pd.DataFrame:\\n        return self.get_column_selection(cols=['target'])\\n\\n    @property\\n    def get_prediction_data(self) -> pd.DataFrame:\\n        return self.get_column_selection(cols=self.prediction_cols)\\n\\n    @property\\n    def get_aux_data(self) -> pd.DataFrame:\\n        \\\"\\\"\\\"All columns that are not features, targets or predictions.\\\"\\\"\\\"\\n        return self.get_column_selection(cols=self.aux_cols)\\n\\n    def get_feature_target_pair(self, multi_target=False) -> Tuple[pd.DataFrame, pd.DataFrame]:\\n        \\\"\\\"\\\"\\n        Get split of features and targets\\n        :param multi_target: Returns only 'target' column by default.\\n        Returns all target columns when set to True.\\n        \\\"\\\"\\\"\\n        X = self.get_feature_data\\n        y = self.get_target_data if multi_target else self.get_single_target_data\\n        return X, y\\n\\n    def __repr__(self) -> str:\\n        return f\\\"Dataset of shape {self.dataf.shape}. Columns: {self.all_cols}\\\"\\n\\n    def __str__(self):\\n        return self.__repr__()\";\n                var nbb_formatted_code = \"# export\\nclass Dataset:\\n    def __init__(self, dataf: pd.DataFrame, *args, **kwargs):\\n        self.dataf = dataf\\n        self.__dict__.update(*args, **kwargs)\\n        self.all_cols = list(self.dataf.columns)\\n        self.feature_cols = [col for col in self.all_cols if col.startswith(\\\"feature\\\")]\\n        self.target_cols = [col for col in self.all_cols if col.startswith(\\\"target\\\")]\\n        self.prediction_cols = [\\n            col for col in self.all_cols if col.startswith(\\\"prediction\\\")\\n        ]\\n        self.not_aux_cols = self.feature_cols + self.target_cols + self.prediction_cols\\n        self.aux_cols = [col for col in self.all_cols if col not in self.not_aux_cols]\\n\\n    def copy_dataset(self):\\n        \\\"\\\"\\\"Copy Dataset object\\\"\\\"\\\"\\n        return deepcopy(self)\\n\\n    def copy_dataframe(self) -> pd.DataFrame:\\n        \\\"\\\"\\\"Copy DataFrame part of Dataset\\\"\\\"\\\"\\n        return deepcopy(self.dataf)\\n\\n    def export_json_metadata(self, file=\\\"config.json\\\", verbose=False, **kwargs):\\n        \\\"\\\"\\\"Export all attributes in Dataset that can be serialized to json file.\\\"\\\"\\\"\\n        rich_print(f\\\":file_folder: Exporting metadata to {file} :file_folder:\\\")\\n        json_txt = json.dumps(\\n            self.__dict__, default=lambda o: \\\"<not serializable>\\\", **kwargs\\n        )\\n        if verbose:\\n            rich_print(json_txt)\\n        Path(file).write_text(json_txt)\\n\\n    def import_json_metadata(self, file=\\\"config.json\\\", verbose=False, **kwargs):\\n        \\\"\\\"\\\"Load arbitrary data into Dataset object from json file\\\"\\\"\\\"\\n        rich_print(f\\\":file_folder: Importing metadata from {file} :file_folder:\\\")\\n        with open(file) as json_file:\\n            json_data = json.load(json_file, **kwargs)\\n        if verbose:\\n            rich_print(json_data)\\n        # Make sure there is no overwrite on DataFrame\\n        json_data.pop(\\\"dataf\\\", None)\\n        self.__dict__.update(json_data)\\n\\n    def get_column_selection(self, cols: Union[str, list]) -> pd.DataFrame:\\n        \\\"\\\"\\\"Return DataFrame given selection of columns.\\\"\\\"\\\"\\n        return self.dataf.loc[:, cols if isinstance(cols, list) else [cols]]\\n\\n    @property\\n    def get_feature_data(self) -> pd.DataFrame:\\n        return self.get_column_selection(cols=self.feature_cols)\\n\\n    @property\\n    def get_target_data(self) -> pd.DataFrame:\\n        return self.get_column_selection(cols=self.target_cols)\\n\\n    @property\\n    def get_single_target_data(self) -> pd.DataFrame:\\n        return self.get_column_selection(cols=[\\\"target\\\"])\\n\\n    @property\\n    def get_prediction_data(self) -> pd.DataFrame:\\n        return self.get_column_selection(cols=self.prediction_cols)\\n\\n    @property\\n    def get_aux_data(self) -> pd.DataFrame:\\n        \\\"\\\"\\\"All columns that are not features, targets or predictions.\\\"\\\"\\\"\\n        return self.get_column_selection(cols=self.aux_cols)\\n\\n    def get_feature_target_pair(\\n        self, multi_target=False\\n    ) -> Tuple[pd.DataFrame, pd.DataFrame]:\\n        \\\"\\\"\\\"\\n        Get split of features and targets\\n        :param multi_target: Returns only 'target' column by default.\\n        Returns all target columns when set to True.\\n        \\\"\\\"\\\"\\n        X = self.get_feature_data\\n        y = self.get_target_data if multi_target else self.get_single_target_data\\n        return X, y\\n\\n    def __repr__(self) -> str:\\n        return f\\\"Dataset of shape {self.dataf.shape}. Columns: {self.all_cols}\\\"\\n\\n    def __str__(self):\\n        return self.__repr__()\";\n                var nbb_cells = Jupyter.notebook.get_cells();\n                for (var i = 0; i < nbb_cells.length; ++i) {\n                    if (nbb_cells[i].input_prompt_number == nbb_cell_id) {\n                        if (nbb_cells[i].get_text() == nbb_unformatted_code) {\n                             nbb_cells[i].set_text(nbb_formatted_code);\n                        }\n                        break;\n                    }\n                }\n            }, 500);\n            ",
      "text/plain": "<IPython.core.display.Javascript object>"
     },
     "metadata": {},
     "output_type": "display_data"
    }
   ],
   "source": [
    "#export\n",
    "class Dataset:\n",
    "    def __init__(self, dataf: pd.DataFrame, *args, **kwargs):\n",
    "        self.dataf = dataf\n",
    "        self.__dict__.update(*args, **kwargs)\n",
    "        self.all_cols = list(self.dataf.columns)\n",
    "        self.feature_cols = [col for col in self.all_cols if col.startswith(\"feature\")]\n",
    "        self.target_cols = [col for col in self.all_cols if col.startswith(\"target\")]\n",
    "        self.prediction_cols = [\n",
    "            col for col in self.all_cols if col.startswith(\"prediction\")\n",
    "        ]\n",
    "        self.not_aux_cols = self.feature_cols + self.target_cols + self.prediction_cols\n",
    "        self.aux_cols = [\n",
    "            col for col in self.all_cols if col not in self.not_aux_cols\n",
    "        ]\n",
    "\n",
    "    def copy_dataset(self):\n",
    "        \"\"\"Copy Dataset object\"\"\"\n",
    "        return deepcopy(self)\n",
    "\n",
    "    def copy_dataframe(self) -> pd.DataFrame:\n",
    "        \"\"\"Copy DataFrame part of Dataset\"\"\"\n",
    "        return deepcopy(self.dataf)\n",
    "\n",
    "    def export_json_metadata(self, file=\"config.json\", verbose=False, **kwargs):\n",
    "        \"\"\"Export all attributes in Dataset that can be serialized to json file.\"\"\"\n",
    "        rich_print(f\":file_folder: Exporting metadata to {file} :file_folder:\")\n",
    "        json_txt = json.dumps(\n",
    "            self.__dict__, default=lambda o: \"<not serializable>\", **kwargs\n",
    "        )\n",
    "        if verbose:\n",
    "            rich_print(json_txt)\n",
    "        Path(file).write_text(json_txt)\n",
    "\n",
    "    def import_json_metadata(self, file=\"config.json\", verbose=False, **kwargs):\n",
    "        \"\"\"Load arbitrary data into Dataset object from json file\"\"\"\n",
    "        rich_print(f\":file_folder: Importing metadata from {file} :file_folder:\")\n",
    "        with open(file) as json_file:\n",
    "            json_data = json.load(json_file, **kwargs)\n",
    "        if verbose:\n",
    "            rich_print(json_data)\n",
    "        # Make sure there is no overwrite on DataFrame\n",
    "        json_data.pop(\"dataf\", None)\n",
    "        self.__dict__.update(json_data)\n",
    "\n",
    "    def get_column_selection(self, cols: Union[str, list]) -> pd.DataFrame:\n",
    "        \"\"\"Return DataFrame given selection of columns.\"\"\"\n",
    "        return self.dataf.loc[:, cols if isinstance(cols, list) else [cols]]\n",
    "\n",
    "    @property\n",
    "    def get_feature_data(self) -> pd.DataFrame:\n",
    "        return self.get_column_selection(cols=self.feature_cols)\n",
    "\n",
    "    @property\n",
    "    def get_target_data(self) -> pd.DataFrame:\n",
    "        return self.get_column_selection(cols=self.target_cols)\n",
    "\n",
    "    @property\n",
    "    def get_single_target_data(self) -> pd.DataFrame:\n",
    "        return self.get_column_selection(cols=['target'])\n",
    "\n",
    "    @property\n",
    "    def get_prediction_data(self) -> pd.DataFrame:\n",
    "        return self.get_column_selection(cols=self.prediction_cols)\n",
    "\n",
    "    @property\n",
    "    def get_aux_data(self) -> pd.DataFrame:\n",
    "        \"\"\"All columns that are not features, targets or predictions.\"\"\"\n",
    "        return self.get_column_selection(cols=self.aux_cols)\n",
    "\n",
    "    def get_feature_target_pair(self, multi_target=False) -> Tuple[pd.DataFrame, pd.DataFrame]:\n",
    "        \"\"\"\n",
    "        Get split of features and targets\n",
    "        :param multi_target: Returns only 'target' column by default.\n",
    "        Returns all target columns when set to True.\n",
    "        \"\"\"\n",
    "        X = self.get_feature_data\n",
    "        y = self.get_target_data if multi_target else self.get_single_target_data\n",
    "        return X, y\n",
    "\n",
    "    def __repr__(self) -> str:\n",
    "        return f\"Dataset of shape {self.dataf.shape}. Columns: {self.all_cols}\"\n",
    "\n",
    "    def __str__(self):\n",
    "        return self.__repr__()"
   ]
  },
  {
   "cell_type": "code",
   "execution_count": null,
   "metadata": {},
   "outputs": [
    {
     "data": {
      "application/javascript": "\n            setTimeout(function() {\n                var nbb_cell_id = 6;\n                var nbb_unformatted_code = \"def create_dataset(file_path: str, *args, **kwargs):\\n    \\\"\\\"\\\"\\n    Convenience function to initialize Dataset object with arbitrary metadata.\\n    Supports file formats for which Pandas has a 'read_' function.\\n    For example, .csv, .parquet, .json, .pickle, .html and .xml.\\n    For more details check https://pandas.pydata.org/docs/reference/io.html\\n    \\\"\\\"\\\"\\n    # Suffix without dot\\n    suffix = Path(file_path).suffix[1:]\\n    dataf = getattr(pd, f\\\"read_{suffix}\\\")(file_path)\\n    return Dataset(dataf, *args, **kwargs)\";\n                var nbb_formatted_code = \"def create_dataset(file_path: str, *args, **kwargs):\\n    \\\"\\\"\\\"\\n    Convenience function to initialize Dataset object with arbitrary metadata.\\n    Supports file formats for which Pandas has a 'read_' function.\\n    For example, .csv, .parquet, .json, .pickle, .html and .xml.\\n    For more details check https://pandas.pydata.org/docs/reference/io.html\\n    \\\"\\\"\\\"\\n    # Suffix without dot\\n    suffix = Path(file_path).suffix[1:]\\n    dataf = getattr(pd, f\\\"read_{suffix}\\\")(file_path)\\n    return Dataset(dataf, *args, **kwargs)\";\n                var nbb_cells = Jupyter.notebook.get_cells();\n                for (var i = 0; i < nbb_cells.length; ++i) {\n                    if (nbb_cells[i].input_prompt_number == nbb_cell_id) {\n                        if (nbb_cells[i].get_text() == nbb_unformatted_code) {\n                             nbb_cells[i].set_text(nbb_formatted_code);\n                        }\n                        break;\n                    }\n                }\n            }, 500);\n            ",
      "text/plain": "<IPython.core.display.Javascript object>"
     },
     "metadata": {},
     "output_type": "display_data"
    }
   ],
   "source": [
    "def create_dataset(file_path: str, *args, **kwargs):\n",
    "    \"\"\"\n",
    "    Convenience function to initialize Dataset object with arbitrary metadata.\n",
    "    Supports file formats for which Pandas has a 'read_' function.\n",
    "    For example, .csv, .parquet, .json, .pickle, .html and .xml.\n",
    "    For more details check https://pandas.pydata.org/docs/reference/io.html\n",
    "    \"\"\"\n",
    "    # Suffix without dot\n",
    "    suffix = Path(file_path).suffix[1:]\n",
    "    dataf = getattr(pd, f\"read_{suffix}\")(file_path)\n",
    "    return Dataset(dataf, *args, **kwargs)"
   ]
  },
  {
   "cell_type": "markdown",
   "metadata": {},
   "source": [
    "### Tests"
   ]
  },
  {
   "cell_type": "markdown",
   "metadata": {},
   "source": [
    "### Initialize from memory"
   ]
  },
  {
   "cell_type": "code",
   "execution_count": null,
   "metadata": {},
   "outputs": [
    {
     "data": {
      "application/javascript": "\n            setTimeout(function() {\n                var nbb_cell_id = 7;\n                var nbb_unformatted_code = \"# Random DataFrame\\ntest_features = [f\\\"feature_{l}\\\" for l in \\\"ABCDEFGHIK\\\"]\\nid_col = [uuid.uuid4().hex for _ in range(100)]\\n\\ndf = pd.DataFrame(np.random.uniform(size=(100, 10)), columns=test_features)\\ndf[\\\"id\\\"] = id_col\\ndf[[\\\"target\\\", \\\"target_1\\\", \\\"target_2\\\"]] = np.random.normal(size=(100, 3))\\ndf[\\\"era\\\"] = range(100)\";\n                var nbb_formatted_code = \"# Random DataFrame\\ntest_features = [f\\\"feature_{l}\\\" for l in \\\"ABCDEFGHIK\\\"]\\nid_col = [uuid.uuid4().hex for _ in range(100)]\\n\\ndf = pd.DataFrame(np.random.uniform(size=(100, 10)), columns=test_features)\\ndf[\\\"id\\\"] = id_col\\ndf[[\\\"target\\\", \\\"target_1\\\", \\\"target_2\\\"]] = np.random.normal(size=(100, 3))\\ndf[\\\"era\\\"] = range(100)\";\n                var nbb_cells = Jupyter.notebook.get_cells();\n                for (var i = 0; i < nbb_cells.length; ++i) {\n                    if (nbb_cells[i].input_prompt_number == nbb_cell_id) {\n                        if (nbb_cells[i].get_text() == nbb_unformatted_code) {\n                             nbb_cells[i].set_text(nbb_formatted_code);\n                        }\n                        break;\n                    }\n                }\n            }, 500);\n            ",
      "text/plain": "<IPython.core.display.Javascript object>"
     },
     "metadata": {},
     "output_type": "display_data"
    }
   ],
   "source": [
    "# Random DataFrame\n",
    "test_features = [f\"feature_{l}\" for l in \"ABCDEFGHIK\"]\n",
    "id_col = [uuid.uuid4().hex for _ in range(100)]\n",
    "\n",
    "df = pd.DataFrame(np.random.uniform(size=(100, 10)), columns=test_features)\n",
    "df[\"id\"] = id_col\n",
    "df[[\"target\", \"target_1\", \"target_2\"]] = np.random.normal(size=(100, 3))\n",
    "df[\"era\"] = range(100)"
   ]
  },
  {
   "cell_type": "code",
   "execution_count": null,
   "metadata": {},
   "outputs": [
    {
     "data": {
      "application/javascript": "\n            setTimeout(function() {\n                var nbb_cell_id = 8;\n                var nbb_unformatted_code = \"metadata = {\\n    \\\"version\\\": 42,\\n    \\\"additional_info\\\": \\\"test_model\\\",\\n    \\\"multi_target\\\": False,\\n    \\\"tournament_type\\\": \\\"random\\\",\\n}\\ndataset = Dataset(df, metadata)\\nassert dataset.version == 42\\nassert dataset.tournament_type == \\\"random\\\"\";\n                var nbb_formatted_code = \"metadata = {\\n    \\\"version\\\": 42,\\n    \\\"additional_info\\\": \\\"test_model\\\",\\n    \\\"multi_target\\\": False,\\n    \\\"tournament_type\\\": \\\"random\\\",\\n}\\ndataset = Dataset(df, metadata)\\nassert dataset.version == 42\\nassert dataset.tournament_type == \\\"random\\\"\";\n                var nbb_cells = Jupyter.notebook.get_cells();\n                for (var i = 0; i < nbb_cells.length; ++i) {\n                    if (nbb_cells[i].input_prompt_number == nbb_cell_id) {\n                        if (nbb_cells[i].get_text() == nbb_unformatted_code) {\n                             nbb_cells[i].set_text(nbb_formatted_code);\n                        }\n                        break;\n                    }\n                }\n            }, 500);\n            ",
      "text/plain": "<IPython.core.display.Javascript object>"
     },
     "metadata": {},
     "output_type": "display_data"
    }
   ],
   "source": [
    "metadata = {\n",
    "    \"version\": 42,\n",
    "    \"additional_info\": \"test_model\",\n",
    "    \"multi_target\": False,\n",
    "    \"tournament_type\": \"random\",\n",
    "}\n",
    "dataset = Dataset(df, metadata)\n",
    "assert dataset.version == 42\n",
    "assert dataset.tournament_type == \"random\""
   ]
  },
  {
   "cell_type": "markdown",
   "metadata": {},
   "source": [
    "#### Initialize from file"
   ]
  },
  {
   "cell_type": "code",
   "execution_count": null,
   "metadata": {},
   "outputs": [
    {
     "data": {
      "text/html": "<div>\n<style scoped>\n    .dataframe tbody tr th:only-of-type {\n        vertical-align: middle;\n    }\n\n    .dataframe tbody tr th {\n        vertical-align: top;\n    }\n\n    .dataframe thead th {\n        text-align: right;\n    }\n</style>\n<table border=\"1\" class=\"dataframe\">\n  <thead>\n    <tr style=\"text-align: right;\">\n      <th></th>\n      <th>id</th>\n      <th>era</th>\n      <th>data_type</th>\n      <th>feature_intelligence1</th>\n      <th>feature_intelligence2</th>\n      <th>feature_intelligence3</th>\n      <th>feature_intelligence4</th>\n      <th>feature_intelligence5</th>\n      <th>feature_intelligence6</th>\n      <th>feature_intelligence7</th>\n      <th>...</th>\n      <th>feature_wisdom38</th>\n      <th>feature_wisdom39</th>\n      <th>feature_wisdom40</th>\n      <th>feature_wisdom41</th>\n      <th>feature_wisdom42</th>\n      <th>feature_wisdom43</th>\n      <th>feature_wisdom44</th>\n      <th>feature_wisdom45</th>\n      <th>feature_wisdom46</th>\n      <th>target</th>\n    </tr>\n  </thead>\n  <tbody>\n    <tr>\n      <th>0</th>\n      <td>n000315175b67977</td>\n      <td>era1</td>\n      <td>train</td>\n      <td>0.0</td>\n      <td>0.5</td>\n      <td>0.25</td>\n      <td>0.00</td>\n      <td>0.5</td>\n      <td>0.25</td>\n      <td>0.25</td>\n      <td>...</td>\n      <td>1.0</td>\n      <td>1.0</td>\n      <td>0.75</td>\n      <td>0.5</td>\n      <td>0.75</td>\n      <td>0.50</td>\n      <td>1.0</td>\n      <td>0.50</td>\n      <td>0.75</td>\n      <td>0.50</td>\n    </tr>\n    <tr>\n      <th>1</th>\n      <td>n0014af834a96cdd</td>\n      <td>era1</td>\n      <td>train</td>\n      <td>0.0</td>\n      <td>0.0</td>\n      <td>0.00</td>\n      <td>0.25</td>\n      <td>0.5</td>\n      <td>0.00</td>\n      <td>0.00</td>\n      <td>...</td>\n      <td>1.0</td>\n      <td>1.0</td>\n      <td>0.00</td>\n      <td>0.0</td>\n      <td>0.75</td>\n      <td>0.25</td>\n      <td>0.0</td>\n      <td>0.25</td>\n      <td>1.00</td>\n      <td>0.25</td>\n    </tr>\n  </tbody>\n</table>\n<p>2 rows × 314 columns</p>\n</div>",
      "text/plain": "                 id   era data_type  feature_intelligence1  \\\n0  n000315175b67977  era1     train                    0.0   \n1  n0014af834a96cdd  era1     train                    0.0   \n\n   feature_intelligence2  feature_intelligence3  feature_intelligence4  \\\n0                    0.5                   0.25                   0.00   \n1                    0.0                   0.00                   0.25   \n\n   feature_intelligence5  feature_intelligence6  feature_intelligence7  ...  \\\n0                    0.5                   0.25                   0.25  ...   \n1                    0.5                   0.00                   0.00  ...   \n\n   feature_wisdom38  feature_wisdom39  feature_wisdom40  feature_wisdom41  \\\n0               1.0               1.0              0.75               0.5   \n1               1.0               1.0              0.00               0.0   \n\n   feature_wisdom42  feature_wisdom43  feature_wisdom44  feature_wisdom45  \\\n0              0.75              0.50               1.0              0.50   \n1              0.75              0.25               0.0              0.25   \n\n   feature_wisdom46  target  \n0              0.75    0.50  \n1              1.00    0.25  \n\n[2 rows x 314 columns]"
     },
     "execution_count": null,
     "metadata": {},
     "output_type": "execute_result"
    },
    {
     "data": {
      "application/javascript": "\n            setTimeout(function() {\n                var nbb_cell_id = 9;\n                var nbb_unformatted_code = \"metadata = {\\n    \\\"version\\\": 1,\\n    \\\"additional_info\\\": \\\"mini_numerai_data_version_1\\\",\\n    \\\"multi_target\\\": False,\\n    \\\"tournament_type\\\": \\\"classic\\\",\\n}\\n\\ndataset = create_dataset(\\\"test_assets/mini_numerai_version_1_data.csv\\\", metadata)\\nassert dataset.version == 1\\nassert not dataset.multi_target\\ndataset.dataf.head(2)\";\n                var nbb_formatted_code = \"metadata = {\\n    \\\"version\\\": 1,\\n    \\\"additional_info\\\": \\\"mini_numerai_data_version_1\\\",\\n    \\\"multi_target\\\": False,\\n    \\\"tournament_type\\\": \\\"classic\\\",\\n}\\n\\ndataset = create_dataset(\\\"test_assets/mini_numerai_version_1_data.csv\\\", metadata)\\nassert dataset.version == 1\\nassert not dataset.multi_target\\ndataset.dataf.head(2)\";\n                var nbb_cells = Jupyter.notebook.get_cells();\n                for (var i = 0; i < nbb_cells.length; ++i) {\n                    if (nbb_cells[i].input_prompt_number == nbb_cell_id) {\n                        if (nbb_cells[i].get_text() == nbb_unformatted_code) {\n                             nbb_cells[i].set_text(nbb_formatted_code);\n                        }\n                        break;\n                    }\n                }\n            }, 500);\n            ",
      "text/plain": "<IPython.core.display.Javascript object>"
     },
     "metadata": {},
     "output_type": "display_data"
    }
   ],
   "source": [
    "metadata = {\n",
    "    \"version\": 1,\n",
    "    \"additional_info\": \"mini_numerai_data_version_1\",\n",
    "    \"multi_target\": False,\n",
    "    \"tournament_type\": \"classic\",\n",
    "}\n",
    "\n",
    "dataset = create_dataset(\"test_assets/mini_numerai_version_1_data.csv\", metadata)\n",
    "assert dataset.version == 1\n",
    "assert not dataset.multi_target\n",
    "dataset.dataf.head(2)"
   ]
  },
  {
   "cell_type": "code",
   "execution_count": null,
   "metadata": {},
   "outputs": [
    {
     "data": {
      "text/html": "<div>\n<style scoped>\n    .dataframe tbody tr th:only-of-type {\n        vertical-align: middle;\n    }\n\n    .dataframe tbody tr th {\n        vertical-align: top;\n    }\n\n    .dataframe thead th {\n        text-align: right;\n    }\n</style>\n<table border=\"1\" class=\"dataframe\">\n  <thead>\n    <tr style=\"text-align: right;\">\n      <th></th>\n      <th>id</th>\n      <th>era</th>\n      <th>data_type</th>\n      <th>feature_intelligence1</th>\n      <th>feature_intelligence2</th>\n      <th>feature_intelligence3</th>\n      <th>feature_intelligence4</th>\n      <th>feature_intelligence5</th>\n      <th>feature_intelligence6</th>\n      <th>feature_intelligence7</th>\n      <th>...</th>\n      <th>feature_wisdom38</th>\n      <th>feature_wisdom39</th>\n      <th>feature_wisdom40</th>\n      <th>feature_wisdom41</th>\n      <th>feature_wisdom42</th>\n      <th>feature_wisdom43</th>\n      <th>feature_wisdom44</th>\n      <th>feature_wisdom45</th>\n      <th>feature_wisdom46</th>\n      <th>target</th>\n    </tr>\n  </thead>\n  <tbody>\n    <tr>\n      <th>0</th>\n      <td>n000315175b67977</td>\n      <td>era1</td>\n      <td>train</td>\n      <td>0.0</td>\n      <td>0.5</td>\n      <td>0.25</td>\n      <td>0.00</td>\n      <td>0.5</td>\n      <td>0.25</td>\n      <td>0.25</td>\n      <td>...</td>\n      <td>1.0</td>\n      <td>1.0</td>\n      <td>0.75</td>\n      <td>0.5</td>\n      <td>0.75</td>\n      <td>0.50</td>\n      <td>1.0</td>\n      <td>0.50</td>\n      <td>0.75</td>\n      <td>0.50</td>\n    </tr>\n    <tr>\n      <th>1</th>\n      <td>n0014af834a96cdd</td>\n      <td>era1</td>\n      <td>train</td>\n      <td>0.0</td>\n      <td>0.0</td>\n      <td>0.00</td>\n      <td>0.25</td>\n      <td>0.5</td>\n      <td>0.00</td>\n      <td>0.00</td>\n      <td>...</td>\n      <td>1.0</td>\n      <td>1.0</td>\n      <td>0.00</td>\n      <td>0.0</td>\n      <td>0.75</td>\n      <td>0.25</td>\n      <td>0.0</td>\n      <td>0.25</td>\n      <td>1.00</td>\n      <td>0.25</td>\n    </tr>\n  </tbody>\n</table>\n<p>2 rows × 314 columns</p>\n</div>",
      "text/plain": "                 id   era data_type  feature_intelligence1  \\\n0  n000315175b67977  era1     train                    0.0   \n1  n0014af834a96cdd  era1     train                    0.0   \n\n   feature_intelligence2  feature_intelligence3  feature_intelligence4  \\\n0                    0.5                   0.25                   0.00   \n1                    0.0                   0.00                   0.25   \n\n   feature_intelligence5  feature_intelligence6  feature_intelligence7  ...  \\\n0                    0.5                   0.25                   0.25  ...   \n1                    0.5                   0.00                   0.00  ...   \n\n   feature_wisdom38  feature_wisdom39  feature_wisdom40  feature_wisdom41  \\\n0               1.0               1.0              0.75               0.5   \n1               1.0               1.0              0.00               0.0   \n\n   feature_wisdom42  feature_wisdom43  feature_wisdom44  feature_wisdom45  \\\n0              0.75              0.50               1.0              0.50   \n1              0.75              0.25               0.0              0.25   \n\n   feature_wisdom46  target  \n0              0.75    0.50  \n1              1.00    0.25  \n\n[2 rows x 314 columns]"
     },
     "execution_count": null,
     "metadata": {},
     "output_type": "execute_result"
    },
    {
     "data": {
      "application/javascript": "\n            setTimeout(function() {\n                var nbb_cell_id = 10;\n                var nbb_unformatted_code = \"dataset.dataf.head(2)\";\n                var nbb_formatted_code = \"dataset.dataf.head(2)\";\n                var nbb_cells = Jupyter.notebook.get_cells();\n                for (var i = 0; i < nbb_cells.length; ++i) {\n                    if (nbb_cells[i].input_prompt_number == nbb_cell_id) {\n                        if (nbb_cells[i].get_text() == nbb_unformatted_code) {\n                             nbb_cells[i].set_text(nbb_formatted_code);\n                        }\n                        break;\n                    }\n                }\n            }, 500);\n            ",
      "text/plain": "<IPython.core.display.Javascript object>"
     },
     "metadata": {},
     "output_type": "display_data"
    }
   ],
   "source": [
    "dataset.dataf.head(2)"
   ]
  },
  {
   "cell_type": "code",
   "execution_count": null,
   "metadata": {},
   "outputs": [
    {
     "data": {
      "text/html": "<div>\n<style scoped>\n    .dataframe tbody tr th:only-of-type {\n        vertical-align: middle;\n    }\n\n    .dataframe tbody tr th {\n        vertical-align: top;\n    }\n\n    .dataframe thead th {\n        text-align: right;\n    }\n</style>\n<table border=\"1\" class=\"dataframe\">\n  <thead>\n    <tr style=\"text-align: right;\">\n      <th></th>\n      <th>feature_intelligence1</th>\n      <th>feature_intelligence2</th>\n      <th>feature_intelligence3</th>\n      <th>feature_intelligence4</th>\n      <th>feature_intelligence5</th>\n      <th>feature_intelligence6</th>\n      <th>feature_intelligence7</th>\n      <th>feature_intelligence8</th>\n      <th>feature_intelligence9</th>\n      <th>feature_intelligence10</th>\n      <th>...</th>\n      <th>feature_wisdom37</th>\n      <th>feature_wisdom38</th>\n      <th>feature_wisdom39</th>\n      <th>feature_wisdom40</th>\n      <th>feature_wisdom41</th>\n      <th>feature_wisdom42</th>\n      <th>feature_wisdom43</th>\n      <th>feature_wisdom44</th>\n      <th>feature_wisdom45</th>\n      <th>feature_wisdom46</th>\n    </tr>\n  </thead>\n  <tbody>\n    <tr>\n      <th>0</th>\n      <td>0.0</td>\n      <td>0.5</td>\n      <td>0.25</td>\n      <td>0.00</td>\n      <td>0.5</td>\n      <td>0.25</td>\n      <td>0.25</td>\n      <td>0.25</td>\n      <td>0.75</td>\n      <td>0.75</td>\n      <td>...</td>\n      <td>1.00</td>\n      <td>1.0</td>\n      <td>1.0</td>\n      <td>0.75</td>\n      <td>0.5</td>\n      <td>0.75</td>\n      <td>0.50</td>\n      <td>1.0</td>\n      <td>0.50</td>\n      <td>0.75</td>\n    </tr>\n    <tr>\n      <th>1</th>\n      <td>0.0</td>\n      <td>0.0</td>\n      <td>0.00</td>\n      <td>0.25</td>\n      <td>0.5</td>\n      <td>0.00</td>\n      <td>0.00</td>\n      <td>0.25</td>\n      <td>0.50</td>\n      <td>0.50</td>\n      <td>...</td>\n      <td>0.75</td>\n      <td>1.0</td>\n      <td>1.0</td>\n      <td>0.00</td>\n      <td>0.0</td>\n      <td>0.75</td>\n      <td>0.25</td>\n      <td>0.0</td>\n      <td>0.25</td>\n      <td>1.00</td>\n    </tr>\n  </tbody>\n</table>\n<p>2 rows × 310 columns</p>\n</div>",
      "text/plain": "   feature_intelligence1  feature_intelligence2  feature_intelligence3  \\\n0                    0.0                    0.5                   0.25   \n1                    0.0                    0.0                   0.00   \n\n   feature_intelligence4  feature_intelligence5  feature_intelligence6  \\\n0                   0.00                    0.5                   0.25   \n1                   0.25                    0.5                   0.00   \n\n   feature_intelligence7  feature_intelligence8  feature_intelligence9  \\\n0                   0.25                   0.25                   0.75   \n1                   0.00                   0.25                   0.50   \n\n   feature_intelligence10  ...  feature_wisdom37  feature_wisdom38  \\\n0                    0.75  ...              1.00               1.0   \n1                    0.50  ...              0.75               1.0   \n\n   feature_wisdom39  feature_wisdom40  feature_wisdom41  feature_wisdom42  \\\n0               1.0              0.75               0.5              0.75   \n1               1.0              0.00               0.0              0.75   \n\n   feature_wisdom43  feature_wisdom44  feature_wisdom45  feature_wisdom46  \n0              0.50               1.0              0.50              0.75  \n1              0.25               0.0              0.25              1.00  \n\n[2 rows x 310 columns]"
     },
     "execution_count": null,
     "metadata": {},
     "output_type": "execute_result"
    },
    {
     "data": {
      "application/javascript": "\n            setTimeout(function() {\n                var nbb_cell_id = 11;\n                var nbb_unformatted_code = \"dataset.get_feature_data.head(2)\";\n                var nbb_formatted_code = \"dataset.get_feature_data.head(2)\";\n                var nbb_cells = Jupyter.notebook.get_cells();\n                for (var i = 0; i < nbb_cells.length; ++i) {\n                    if (nbb_cells[i].input_prompt_number == nbb_cell_id) {\n                        if (nbb_cells[i].get_text() == nbb_unformatted_code) {\n                             nbb_cells[i].set_text(nbb_formatted_code);\n                        }\n                        break;\n                    }\n                }\n            }, 500);\n            ",
      "text/plain": "<IPython.core.display.Javascript object>"
     },
     "metadata": {},
     "output_type": "display_data"
    }
   ],
   "source": [
    "dataset.get_feature_data.head(2)"
   ]
  },
  {
   "cell_type": "code",
   "execution_count": null,
   "metadata": {},
   "outputs": [
    {
     "data": {
      "text/plain": "['id', 'era', 'data_type']"
     },
     "execution_count": null,
     "metadata": {},
     "output_type": "execute_result"
    },
    {
     "data": {
      "application/javascript": "\n            setTimeout(function() {\n                var nbb_cell_id = 12;\n                var nbb_unformatted_code = \"dataset.aux_cols\";\n                var nbb_formatted_code = \"dataset.aux_cols\";\n                var nbb_cells = Jupyter.notebook.get_cells();\n                for (var i = 0; i < nbb_cells.length; ++i) {\n                    if (nbb_cells[i].input_prompt_number == nbb_cell_id) {\n                        if (nbb_cells[i].get_text() == nbb_unformatted_code) {\n                             nbb_cells[i].set_text(nbb_formatted_code);\n                        }\n                        break;\n                    }\n                }\n            }, 500);\n            ",
      "text/plain": "<IPython.core.display.Javascript object>"
     },
     "metadata": {},
     "output_type": "display_data"
    }
   ],
   "source": [
    "dataset.aux_cols"
   ]
  },
  {
   "cell_type": "code",
   "execution_count": null,
   "metadata": {},
   "outputs": [
    {
     "data": {
      "text/html": "<div>\n<style scoped>\n    .dataframe tbody tr th:only-of-type {\n        vertical-align: middle;\n    }\n\n    .dataframe tbody tr th {\n        vertical-align: top;\n    }\n\n    .dataframe thead th {\n        text-align: right;\n    }\n</style>\n<table border=\"1\" class=\"dataframe\">\n  <thead>\n    <tr style=\"text-align: right;\">\n      <th></th>\n      <th>id</th>\n      <th>era</th>\n      <th>data_type</th>\n    </tr>\n  </thead>\n  <tbody>\n    <tr>\n      <th>0</th>\n      <td>n000315175b67977</td>\n      <td>era1</td>\n      <td>train</td>\n    </tr>\n    <tr>\n      <th>1</th>\n      <td>n0014af834a96cdd</td>\n      <td>era1</td>\n      <td>train</td>\n    </tr>\n  </tbody>\n</table>\n</div>",
      "text/plain": "                 id   era data_type\n0  n000315175b67977  era1     train\n1  n0014af834a96cdd  era1     train"
     },
     "execution_count": null,
     "metadata": {},
     "output_type": "execute_result"
    },
    {
     "data": {
      "application/javascript": "\n            setTimeout(function() {\n                var nbb_cell_id = 13;\n                var nbb_unformatted_code = \"dataset.get_aux_data.head(2)\";\n                var nbb_formatted_code = \"dataset.get_aux_data.head(2)\";\n                var nbb_cells = Jupyter.notebook.get_cells();\n                for (var i = 0; i < nbb_cells.length; ++i) {\n                    if (nbb_cells[i].input_prompt_number == nbb_cell_id) {\n                        if (nbb_cells[i].get_text() == nbb_unformatted_code) {\n                             nbb_cells[i].set_text(nbb_formatted_code);\n                        }\n                        break;\n                    }\n                }\n            }, 500);\n            ",
      "text/plain": "<IPython.core.display.Javascript object>"
     },
     "metadata": {},
     "output_type": "display_data"
    }
   ],
   "source": [
    "dataset.get_aux_data.head(2)"
   ]
  },
  {
   "cell_type": "code",
   "execution_count": null,
   "metadata": {},
   "outputs": [
    {
     "data": {
      "application/javascript": "\n            setTimeout(function() {\n                var nbb_cell_id = 15;\n                var nbb_unformatted_code = \"assert dataset.version == 1\\nassert dataset.multi_target == False\";\n                var nbb_formatted_code = \"assert dataset.version == 1\\nassert dataset.multi_target == False\";\n                var nbb_cells = Jupyter.notebook.get_cells();\n                for (var i = 0; i < nbb_cells.length; ++i) {\n                    if (nbb_cells[i].input_prompt_number == nbb_cell_id) {\n                        if (nbb_cells[i].get_text() == nbb_unformatted_code) {\n                             nbb_cells[i].set_text(nbb_formatted_code);\n                        }\n                        break;\n                    }\n                }\n            }, 500);\n            ",
      "text/plain": "<IPython.core.display.Javascript object>"
     },
     "metadata": {},
     "output_type": "display_data"
    }
   ],
   "source": [
    "assert dataset.version == 1\n",
    "assert dataset.multi_target == False"
   ]
  },
  {
   "cell_type": "code",
   "execution_count": null,
   "metadata": {},
   "outputs": [
    {
     "data": {
      "text/html": "<pre style=\"white-space:pre;overflow-x:auto;line-height:normal;font-family:Menlo,'DejaVu Sans Mono',consolas,'Courier New',monospace\">📁 Exporting metadata to config.json 📁\n</pre>\n",
      "text/plain": "📁 Exporting metadata to config.json 📁\n"
     },
     "metadata": {},
     "output_type": "display_data"
    },
    {
     "data": {
      "application/javascript": "\n            setTimeout(function() {\n                var nbb_cell_id = 16;\n                var nbb_unformatted_code = \"dataset.export_json_metadata(\\\"config.json\\\")\";\n                var nbb_formatted_code = \"dataset.export_json_metadata(\\\"config.json\\\")\";\n                var nbb_cells = Jupyter.notebook.get_cells();\n                for (var i = 0; i < nbb_cells.length; ++i) {\n                    if (nbb_cells[i].input_prompt_number == nbb_cell_id) {\n                        if (nbb_cells[i].get_text() == nbb_unformatted_code) {\n                             nbb_cells[i].set_text(nbb_formatted_code);\n                        }\n                        break;\n                    }\n                }\n            }, 500);\n            ",
      "text/plain": "<IPython.core.display.Javascript object>"
     },
     "metadata": {},
     "output_type": "display_data"
    }
   ],
   "source": [
    "dataset.export_json_metadata(\"config.json\")"
   ]
  },
  {
   "cell_type": "code",
   "execution_count": null,
   "metadata": {},
   "outputs": [
    {
     "data": {
      "text/html": "<pre style=\"white-space:pre;overflow-x:auto;line-height:normal;font-family:Menlo,'DejaVu Sans Mono',consolas,'Courier New',monospace\">📁 Importing metadata from config.json 📁\n</pre>\n",
      "text/plain": "📁 Importing metadata from config.json 📁\n"
     },
     "metadata": {},
     "output_type": "display_data"
    },
    {
     "data": {
      "application/javascript": "\n            setTimeout(function() {\n                var nbb_cell_id = 17;\n                var nbb_unformatted_code = \"dataset.import_json_metadata(\\\"config.json\\\")\";\n                var nbb_formatted_code = \"dataset.import_json_metadata(\\\"config.json\\\")\";\n                var nbb_cells = Jupyter.notebook.get_cells();\n                for (var i = 0; i < nbb_cells.length; ++i) {\n                    if (nbb_cells[i].input_prompt_number == nbb_cell_id) {\n                        if (nbb_cells[i].get_text() == nbb_unformatted_code) {\n                             nbb_cells[i].set_text(nbb_formatted_code);\n                        }\n                        break;\n                    }\n                }\n            }, 500);\n            ",
      "text/plain": "<IPython.core.display.Javascript object>"
     },
     "metadata": {},
     "output_type": "display_data"
    }
   ],
   "source": [
    "dataset.import_json_metadata(\"config.json\")"
   ]
  },
  {
   "cell_type": "code",
   "execution_count": null,
   "metadata": {},
   "outputs": [
    {
     "data": {
      "text/plain": "{'dataf':                  id   era data_type  feature_intelligence1  \\\n 0  n000315175b67977  era1     train                   0.00   \n 1  n0014af834a96cdd  era1     train                   0.00   \n 2  n001c93979ac41d4  era1     train                   0.25   \n 3  n0034e4143f22a13  era1     train                   1.00   \n 4  n00679d1a636062f  era1     train                   0.25   \n 5  n009aa2d32389eca  era1     train                   0.50   \n 6  n009ef1a5fe009b6  era1     train                   0.50   \n 7  n00ae5d51f55fb0f  era1     train                   0.25   \n 8  n00b0ac86d77aed7  era1     train                   0.50   \n 9  n00c63366aeaf76a  era1     train                   0.50   \n \n    feature_intelligence2  feature_intelligence3  feature_intelligence4  \\\n 0                   0.50                   0.25                   0.00   \n 1                   0.00                   0.00                   0.25   \n 2                   0.50                   0.25                   0.25   \n 3                   0.00                   0.00                   0.50   \n 4                   0.25                   0.25                   0.25   \n 5                   0.50                   0.25                   0.25   \n 6                   0.25                   0.25                   0.75   \n 7                   1.00                   1.00                   0.75   \n 8                   0.50                   0.50                   1.00   \n 9                   1.00                   1.00                   0.25   \n \n    feature_intelligence5  feature_intelligence6  feature_intelligence7  ...  \\\n 0                   0.50                   0.25                   0.25  ...   \n 1                   0.50                   0.00                   0.00  ...   \n 2                   1.00                   0.75                   0.75  ...   \n 3                   0.50                   0.25                   0.25  ...   \n 4                   0.00                   0.25                   0.50  ...   \n 5                   0.75                   0.75                   0.75  ...   \n 6                   1.00                   1.00                   1.00  ...   \n 7                   1.00                   0.75                   0.75  ...   \n 8                   1.00                   0.25                   0.50  ...   \n 9                   0.75                   0.25                   0.25  ...   \n \n    feature_wisdom38  feature_wisdom39  feature_wisdom40  feature_wisdom41  \\\n 0              1.00              1.00              0.75              0.50   \n 1              1.00              1.00              0.00              0.00   \n 2              0.25              0.50              0.00              0.00   \n 3              1.00              1.00              0.75              0.75   \n 4              0.75              0.75              0.25              0.50   \n 5              0.75              0.75              0.00              0.00   \n 6              1.00              1.00              0.50              0.50   \n 7              0.50              0.25              0.75              0.75   \n 8              0.00              0.00              0.00              0.00   \n 9              0.00              0.00              1.00              1.00   \n \n    feature_wisdom42  feature_wisdom43  feature_wisdom44  feature_wisdom45  \\\n 0              0.75              0.50              1.00              0.50   \n 1              0.75              0.25              0.00              0.25   \n 2              0.50              1.00              0.00              0.25   \n 3              1.00              1.00              0.75              1.00   \n 4              0.75              0.00              0.50              0.25   \n 5              0.75              0.50              0.00              0.25   \n 6              0.75              0.50              0.50              0.50   \n 7              0.00              0.25              0.75              0.50   \n 8              0.00              1.00              0.00              0.00   \n 9              0.75              0.50              1.00              1.00   \n \n    feature_wisdom46  target  \n 0              0.75    0.50  \n 1              1.00    0.25  \n 2              0.75    0.25  \n 3              1.00    0.25  \n 4              0.75    0.75  \n 5              0.00    0.50  \n 6              1.00    0.25  \n 7              0.25    0.25  \n 8              0.00    0.50  \n 9              0.75    0.75  \n \n [10 rows x 314 columns],\n 'version': 1,\n 'additional_info': 'mini_numerai_data_version_1',\n 'multi_target': False,\n 'tournament_type': 'classic',\n 'all_cols': ['id',\n  'era',\n  'data_type',\n  'feature_intelligence1',\n  'feature_intelligence2',\n  'feature_intelligence3',\n  'feature_intelligence4',\n  'feature_intelligence5',\n  'feature_intelligence6',\n  'feature_intelligence7',\n  'feature_intelligence8',\n  'feature_intelligence9',\n  'feature_intelligence10',\n  'feature_intelligence11',\n  'feature_intelligence12',\n  'feature_charisma1',\n  'feature_charisma2',\n  'feature_charisma3',\n  'feature_charisma4',\n  'feature_charisma5',\n  'feature_charisma6',\n  'feature_charisma7',\n  'feature_charisma8',\n  'feature_charisma9',\n  'feature_charisma10',\n  'feature_charisma11',\n  'feature_charisma12',\n  'feature_charisma13',\n  'feature_charisma14',\n  'feature_charisma15',\n  'feature_charisma16',\n  'feature_charisma17',\n  'feature_charisma18',\n  'feature_charisma19',\n  'feature_charisma20',\n  'feature_charisma21',\n  'feature_charisma22',\n  'feature_charisma23',\n  'feature_charisma24',\n  'feature_charisma25',\n  'feature_charisma26',\n  'feature_charisma27',\n  'feature_charisma28',\n  'feature_charisma29',\n  'feature_charisma30',\n  'feature_charisma31',\n  'feature_charisma32',\n  'feature_charisma33',\n  'feature_charisma34',\n  'feature_charisma35',\n  'feature_charisma36',\n  'feature_charisma37',\n  'feature_charisma38',\n  'feature_charisma39',\n  'feature_charisma40',\n  'feature_charisma41',\n  'feature_charisma42',\n  'feature_charisma43',\n  'feature_charisma44',\n  'feature_charisma45',\n  'feature_charisma46',\n  'feature_charisma47',\n  'feature_charisma48',\n  'feature_charisma49',\n  'feature_charisma50',\n  'feature_charisma51',\n  'feature_charisma52',\n  'feature_charisma53',\n  'feature_charisma54',\n  'feature_charisma55',\n  'feature_charisma56',\n  'feature_charisma57',\n  'feature_charisma58',\n  'feature_charisma59',\n  'feature_charisma60',\n  'feature_charisma61',\n  'feature_charisma62',\n  'feature_charisma63',\n  'feature_charisma64',\n  'feature_charisma65',\n  'feature_charisma66',\n  'feature_charisma67',\n  'feature_charisma68',\n  'feature_charisma69',\n  'feature_charisma70',\n  'feature_charisma71',\n  'feature_charisma72',\n  'feature_charisma73',\n  'feature_charisma74',\n  'feature_charisma75',\n  'feature_charisma76',\n  'feature_charisma77',\n  'feature_charisma78',\n  'feature_charisma79',\n  'feature_charisma80',\n  'feature_charisma81',\n  'feature_charisma82',\n  'feature_charisma83',\n  'feature_charisma84',\n  'feature_charisma85',\n  'feature_charisma86',\n  'feature_strength1',\n  'feature_strength2',\n  'feature_strength3',\n  'feature_strength4',\n  'feature_strength5',\n  'feature_strength6',\n  'feature_strength7',\n  'feature_strength8',\n  'feature_strength9',\n  'feature_strength10',\n  'feature_strength11',\n  'feature_strength12',\n  'feature_strength13',\n  'feature_strength14',\n  'feature_strength15',\n  'feature_strength16',\n  'feature_strength17',\n  'feature_strength18',\n  'feature_strength19',\n  'feature_strength20',\n  'feature_strength21',\n  'feature_strength22',\n  'feature_strength23',\n  'feature_strength24',\n  'feature_strength25',\n  'feature_strength26',\n  'feature_strength27',\n  'feature_strength28',\n  'feature_strength29',\n  'feature_strength30',\n  'feature_strength31',\n  'feature_strength32',\n  'feature_strength33',\n  'feature_strength34',\n  'feature_strength35',\n  'feature_strength36',\n  'feature_strength37',\n  'feature_strength38',\n  'feature_dexterity1',\n  'feature_dexterity2',\n  'feature_dexterity3',\n  'feature_dexterity4',\n  'feature_dexterity5',\n  'feature_dexterity6',\n  'feature_dexterity7',\n  'feature_dexterity8',\n  'feature_dexterity9',\n  'feature_dexterity10',\n  'feature_dexterity11',\n  'feature_dexterity12',\n  'feature_dexterity13',\n  'feature_dexterity14',\n  'feature_constitution1',\n  'feature_constitution2',\n  'feature_constitution3',\n  'feature_constitution4',\n  'feature_constitution5',\n  'feature_constitution6',\n  'feature_constitution7',\n  'feature_constitution8',\n  'feature_constitution9',\n  'feature_constitution10',\n  'feature_constitution11',\n  'feature_constitution12',\n  'feature_constitution13',\n  'feature_constitution14',\n  'feature_constitution15',\n  'feature_constitution16',\n  'feature_constitution17',\n  'feature_constitution18',\n  'feature_constitution19',\n  'feature_constitution20',\n  'feature_constitution21',\n  'feature_constitution22',\n  'feature_constitution23',\n  'feature_constitution24',\n  'feature_constitution25',\n  'feature_constitution26',\n  'feature_constitution27',\n  'feature_constitution28',\n  'feature_constitution29',\n  'feature_constitution30',\n  'feature_constitution31',\n  'feature_constitution32',\n  'feature_constitution33',\n  'feature_constitution34',\n  'feature_constitution35',\n  'feature_constitution36',\n  'feature_constitution37',\n  'feature_constitution38',\n  'feature_constitution39',\n  'feature_constitution40',\n  'feature_constitution41',\n  'feature_constitution42',\n  'feature_constitution43',\n  'feature_constitution44',\n  'feature_constitution45',\n  'feature_constitution46',\n  'feature_constitution47',\n  'feature_constitution48',\n  'feature_constitution49',\n  'feature_constitution50',\n  'feature_constitution51',\n  'feature_constitution52',\n  'feature_constitution53',\n  'feature_constitution54',\n  'feature_constitution55',\n  'feature_constitution56',\n  'feature_constitution57',\n  'feature_constitution58',\n  'feature_constitution59',\n  'feature_constitution60',\n  'feature_constitution61',\n  'feature_constitution62',\n  'feature_constitution63',\n  'feature_constitution64',\n  'feature_constitution65',\n  'feature_constitution66',\n  'feature_constitution67',\n  'feature_constitution68',\n  'feature_constitution69',\n  'feature_constitution70',\n  'feature_constitution71',\n  'feature_constitution72',\n  'feature_constitution73',\n  'feature_constitution74',\n  'feature_constitution75',\n  'feature_constitution76',\n  'feature_constitution77',\n  'feature_constitution78',\n  'feature_constitution79',\n  'feature_constitution80',\n  'feature_constitution81',\n  'feature_constitution82',\n  'feature_constitution83',\n  'feature_constitution84',\n  'feature_constitution85',\n  'feature_constitution86',\n  'feature_constitution87',\n  'feature_constitution88',\n  'feature_constitution89',\n  'feature_constitution90',\n  'feature_constitution91',\n  'feature_constitution92',\n  'feature_constitution93',\n  'feature_constitution94',\n  'feature_constitution95',\n  'feature_constitution96',\n  'feature_constitution97',\n  'feature_constitution98',\n  'feature_constitution99',\n  'feature_constitution100',\n  'feature_constitution101',\n  'feature_constitution102',\n  'feature_constitution103',\n  'feature_constitution104',\n  'feature_constitution105',\n  'feature_constitution106',\n  'feature_constitution107',\n  'feature_constitution108',\n  'feature_constitution109',\n  'feature_constitution110',\n  'feature_constitution111',\n  'feature_constitution112',\n  'feature_constitution113',\n  'feature_constitution114',\n  'feature_wisdom1',\n  'feature_wisdom2',\n  'feature_wisdom3',\n  'feature_wisdom4',\n  'feature_wisdom5',\n  'feature_wisdom6',\n  'feature_wisdom7',\n  'feature_wisdom8',\n  'feature_wisdom9',\n  'feature_wisdom10',\n  'feature_wisdom11',\n  'feature_wisdom12',\n  'feature_wisdom13',\n  'feature_wisdom14',\n  'feature_wisdom15',\n  'feature_wisdom16',\n  'feature_wisdom17',\n  'feature_wisdom18',\n  'feature_wisdom19',\n  'feature_wisdom20',\n  'feature_wisdom21',\n  'feature_wisdom22',\n  'feature_wisdom23',\n  'feature_wisdom24',\n  'feature_wisdom25',\n  'feature_wisdom26',\n  'feature_wisdom27',\n  'feature_wisdom28',\n  'feature_wisdom29',\n  'feature_wisdom30',\n  'feature_wisdom31',\n  'feature_wisdom32',\n  'feature_wisdom33',\n  'feature_wisdom34',\n  'feature_wisdom35',\n  'feature_wisdom36',\n  'feature_wisdom37',\n  'feature_wisdom38',\n  'feature_wisdom39',\n  'feature_wisdom40',\n  'feature_wisdom41',\n  'feature_wisdom42',\n  'feature_wisdom43',\n  'feature_wisdom44',\n  'feature_wisdom45',\n  'feature_wisdom46',\n  'target'],\n 'feature_cols': ['feature_intelligence1',\n  'feature_intelligence2',\n  'feature_intelligence3',\n  'feature_intelligence4',\n  'feature_intelligence5',\n  'feature_intelligence6',\n  'feature_intelligence7',\n  'feature_intelligence8',\n  'feature_intelligence9',\n  'feature_intelligence10',\n  'feature_intelligence11',\n  'feature_intelligence12',\n  'feature_charisma1',\n  'feature_charisma2',\n  'feature_charisma3',\n  'feature_charisma4',\n  'feature_charisma5',\n  'feature_charisma6',\n  'feature_charisma7',\n  'feature_charisma8',\n  'feature_charisma9',\n  'feature_charisma10',\n  'feature_charisma11',\n  'feature_charisma12',\n  'feature_charisma13',\n  'feature_charisma14',\n  'feature_charisma15',\n  'feature_charisma16',\n  'feature_charisma17',\n  'feature_charisma18',\n  'feature_charisma19',\n  'feature_charisma20',\n  'feature_charisma21',\n  'feature_charisma22',\n  'feature_charisma23',\n  'feature_charisma24',\n  'feature_charisma25',\n  'feature_charisma26',\n  'feature_charisma27',\n  'feature_charisma28',\n  'feature_charisma29',\n  'feature_charisma30',\n  'feature_charisma31',\n  'feature_charisma32',\n  'feature_charisma33',\n  'feature_charisma34',\n  'feature_charisma35',\n  'feature_charisma36',\n  'feature_charisma37',\n  'feature_charisma38',\n  'feature_charisma39',\n  'feature_charisma40',\n  'feature_charisma41',\n  'feature_charisma42',\n  'feature_charisma43',\n  'feature_charisma44',\n  'feature_charisma45',\n  'feature_charisma46',\n  'feature_charisma47',\n  'feature_charisma48',\n  'feature_charisma49',\n  'feature_charisma50',\n  'feature_charisma51',\n  'feature_charisma52',\n  'feature_charisma53',\n  'feature_charisma54',\n  'feature_charisma55',\n  'feature_charisma56',\n  'feature_charisma57',\n  'feature_charisma58',\n  'feature_charisma59',\n  'feature_charisma60',\n  'feature_charisma61',\n  'feature_charisma62',\n  'feature_charisma63',\n  'feature_charisma64',\n  'feature_charisma65',\n  'feature_charisma66',\n  'feature_charisma67',\n  'feature_charisma68',\n  'feature_charisma69',\n  'feature_charisma70',\n  'feature_charisma71',\n  'feature_charisma72',\n  'feature_charisma73',\n  'feature_charisma74',\n  'feature_charisma75',\n  'feature_charisma76',\n  'feature_charisma77',\n  'feature_charisma78',\n  'feature_charisma79',\n  'feature_charisma80',\n  'feature_charisma81',\n  'feature_charisma82',\n  'feature_charisma83',\n  'feature_charisma84',\n  'feature_charisma85',\n  'feature_charisma86',\n  'feature_strength1',\n  'feature_strength2',\n  'feature_strength3',\n  'feature_strength4',\n  'feature_strength5',\n  'feature_strength6',\n  'feature_strength7',\n  'feature_strength8',\n  'feature_strength9',\n  'feature_strength10',\n  'feature_strength11',\n  'feature_strength12',\n  'feature_strength13',\n  'feature_strength14',\n  'feature_strength15',\n  'feature_strength16',\n  'feature_strength17',\n  'feature_strength18',\n  'feature_strength19',\n  'feature_strength20',\n  'feature_strength21',\n  'feature_strength22',\n  'feature_strength23',\n  'feature_strength24',\n  'feature_strength25',\n  'feature_strength26',\n  'feature_strength27',\n  'feature_strength28',\n  'feature_strength29',\n  'feature_strength30',\n  'feature_strength31',\n  'feature_strength32',\n  'feature_strength33',\n  'feature_strength34',\n  'feature_strength35',\n  'feature_strength36',\n  'feature_strength37',\n  'feature_strength38',\n  'feature_dexterity1',\n  'feature_dexterity2',\n  'feature_dexterity3',\n  'feature_dexterity4',\n  'feature_dexterity5',\n  'feature_dexterity6',\n  'feature_dexterity7',\n  'feature_dexterity8',\n  'feature_dexterity9',\n  'feature_dexterity10',\n  'feature_dexterity11',\n  'feature_dexterity12',\n  'feature_dexterity13',\n  'feature_dexterity14',\n  'feature_constitution1',\n  'feature_constitution2',\n  'feature_constitution3',\n  'feature_constitution4',\n  'feature_constitution5',\n  'feature_constitution6',\n  'feature_constitution7',\n  'feature_constitution8',\n  'feature_constitution9',\n  'feature_constitution10',\n  'feature_constitution11',\n  'feature_constitution12',\n  'feature_constitution13',\n  'feature_constitution14',\n  'feature_constitution15',\n  'feature_constitution16',\n  'feature_constitution17',\n  'feature_constitution18',\n  'feature_constitution19',\n  'feature_constitution20',\n  'feature_constitution21',\n  'feature_constitution22',\n  'feature_constitution23',\n  'feature_constitution24',\n  'feature_constitution25',\n  'feature_constitution26',\n  'feature_constitution27',\n  'feature_constitution28',\n  'feature_constitution29',\n  'feature_constitution30',\n  'feature_constitution31',\n  'feature_constitution32',\n  'feature_constitution33',\n  'feature_constitution34',\n  'feature_constitution35',\n  'feature_constitution36',\n  'feature_constitution37',\n  'feature_constitution38',\n  'feature_constitution39',\n  'feature_constitution40',\n  'feature_constitution41',\n  'feature_constitution42',\n  'feature_constitution43',\n  'feature_constitution44',\n  'feature_constitution45',\n  'feature_constitution46',\n  'feature_constitution47',\n  'feature_constitution48',\n  'feature_constitution49',\n  'feature_constitution50',\n  'feature_constitution51',\n  'feature_constitution52',\n  'feature_constitution53',\n  'feature_constitution54',\n  'feature_constitution55',\n  'feature_constitution56',\n  'feature_constitution57',\n  'feature_constitution58',\n  'feature_constitution59',\n  'feature_constitution60',\n  'feature_constitution61',\n  'feature_constitution62',\n  'feature_constitution63',\n  'feature_constitution64',\n  'feature_constitution65',\n  'feature_constitution66',\n  'feature_constitution67',\n  'feature_constitution68',\n  'feature_constitution69',\n  'feature_constitution70',\n  'feature_constitution71',\n  'feature_constitution72',\n  'feature_constitution73',\n  'feature_constitution74',\n  'feature_constitution75',\n  'feature_constitution76',\n  'feature_constitution77',\n  'feature_constitution78',\n  'feature_constitution79',\n  'feature_constitution80',\n  'feature_constitution81',\n  'feature_constitution82',\n  'feature_constitution83',\n  'feature_constitution84',\n  'feature_constitution85',\n  'feature_constitution86',\n  'feature_constitution87',\n  'feature_constitution88',\n  'feature_constitution89',\n  'feature_constitution90',\n  'feature_constitution91',\n  'feature_constitution92',\n  'feature_constitution93',\n  'feature_constitution94',\n  'feature_constitution95',\n  'feature_constitution96',\n  'feature_constitution97',\n  'feature_constitution98',\n  'feature_constitution99',\n  'feature_constitution100',\n  'feature_constitution101',\n  'feature_constitution102',\n  'feature_constitution103',\n  'feature_constitution104',\n  'feature_constitution105',\n  'feature_constitution106',\n  'feature_constitution107',\n  'feature_constitution108',\n  'feature_constitution109',\n  'feature_constitution110',\n  'feature_constitution111',\n  'feature_constitution112',\n  'feature_constitution113',\n  'feature_constitution114',\n  'feature_wisdom1',\n  'feature_wisdom2',\n  'feature_wisdom3',\n  'feature_wisdom4',\n  'feature_wisdom5',\n  'feature_wisdom6',\n  'feature_wisdom7',\n  'feature_wisdom8',\n  'feature_wisdom9',\n  'feature_wisdom10',\n  'feature_wisdom11',\n  'feature_wisdom12',\n  'feature_wisdom13',\n  'feature_wisdom14',\n  'feature_wisdom15',\n  'feature_wisdom16',\n  'feature_wisdom17',\n  'feature_wisdom18',\n  'feature_wisdom19',\n  'feature_wisdom20',\n  'feature_wisdom21',\n  'feature_wisdom22',\n  'feature_wisdom23',\n  'feature_wisdom24',\n  'feature_wisdom25',\n  'feature_wisdom26',\n  'feature_wisdom27',\n  'feature_wisdom28',\n  'feature_wisdom29',\n  'feature_wisdom30',\n  'feature_wisdom31',\n  'feature_wisdom32',\n  'feature_wisdom33',\n  'feature_wisdom34',\n  'feature_wisdom35',\n  'feature_wisdom36',\n  'feature_wisdom37',\n  'feature_wisdom38',\n  'feature_wisdom39',\n  'feature_wisdom40',\n  'feature_wisdom41',\n  'feature_wisdom42',\n  'feature_wisdom43',\n  'feature_wisdom44',\n  'feature_wisdom45',\n  'feature_wisdom46'],\n 'target_cols': ['target'],\n 'prediction_cols': [],\n 'not_aux_cols': ['feature_intelligence1',\n  'feature_intelligence2',\n  'feature_intelligence3',\n  'feature_intelligence4',\n  'feature_intelligence5',\n  'feature_intelligence6',\n  'feature_intelligence7',\n  'feature_intelligence8',\n  'feature_intelligence9',\n  'feature_intelligence10',\n  'feature_intelligence11',\n  'feature_intelligence12',\n  'feature_charisma1',\n  'feature_charisma2',\n  'feature_charisma3',\n  'feature_charisma4',\n  'feature_charisma5',\n  'feature_charisma6',\n  'feature_charisma7',\n  'feature_charisma8',\n  'feature_charisma9',\n  'feature_charisma10',\n  'feature_charisma11',\n  'feature_charisma12',\n  'feature_charisma13',\n  'feature_charisma14',\n  'feature_charisma15',\n  'feature_charisma16',\n  'feature_charisma17',\n  'feature_charisma18',\n  'feature_charisma19',\n  'feature_charisma20',\n  'feature_charisma21',\n  'feature_charisma22',\n  'feature_charisma23',\n  'feature_charisma24',\n  'feature_charisma25',\n  'feature_charisma26',\n  'feature_charisma27',\n  'feature_charisma28',\n  'feature_charisma29',\n  'feature_charisma30',\n  'feature_charisma31',\n  'feature_charisma32',\n  'feature_charisma33',\n  'feature_charisma34',\n  'feature_charisma35',\n  'feature_charisma36',\n  'feature_charisma37',\n  'feature_charisma38',\n  'feature_charisma39',\n  'feature_charisma40',\n  'feature_charisma41',\n  'feature_charisma42',\n  'feature_charisma43',\n  'feature_charisma44',\n  'feature_charisma45',\n  'feature_charisma46',\n  'feature_charisma47',\n  'feature_charisma48',\n  'feature_charisma49',\n  'feature_charisma50',\n  'feature_charisma51',\n  'feature_charisma52',\n  'feature_charisma53',\n  'feature_charisma54',\n  'feature_charisma55',\n  'feature_charisma56',\n  'feature_charisma57',\n  'feature_charisma58',\n  'feature_charisma59',\n  'feature_charisma60',\n  'feature_charisma61',\n  'feature_charisma62',\n  'feature_charisma63',\n  'feature_charisma64',\n  'feature_charisma65',\n  'feature_charisma66',\n  'feature_charisma67',\n  'feature_charisma68',\n  'feature_charisma69',\n  'feature_charisma70',\n  'feature_charisma71',\n  'feature_charisma72',\n  'feature_charisma73',\n  'feature_charisma74',\n  'feature_charisma75',\n  'feature_charisma76',\n  'feature_charisma77',\n  'feature_charisma78',\n  'feature_charisma79',\n  'feature_charisma80',\n  'feature_charisma81',\n  'feature_charisma82',\n  'feature_charisma83',\n  'feature_charisma84',\n  'feature_charisma85',\n  'feature_charisma86',\n  'feature_strength1',\n  'feature_strength2',\n  'feature_strength3',\n  'feature_strength4',\n  'feature_strength5',\n  'feature_strength6',\n  'feature_strength7',\n  'feature_strength8',\n  'feature_strength9',\n  'feature_strength10',\n  'feature_strength11',\n  'feature_strength12',\n  'feature_strength13',\n  'feature_strength14',\n  'feature_strength15',\n  'feature_strength16',\n  'feature_strength17',\n  'feature_strength18',\n  'feature_strength19',\n  'feature_strength20',\n  'feature_strength21',\n  'feature_strength22',\n  'feature_strength23',\n  'feature_strength24',\n  'feature_strength25',\n  'feature_strength26',\n  'feature_strength27',\n  'feature_strength28',\n  'feature_strength29',\n  'feature_strength30',\n  'feature_strength31',\n  'feature_strength32',\n  'feature_strength33',\n  'feature_strength34',\n  'feature_strength35',\n  'feature_strength36',\n  'feature_strength37',\n  'feature_strength38',\n  'feature_dexterity1',\n  'feature_dexterity2',\n  'feature_dexterity3',\n  'feature_dexterity4',\n  'feature_dexterity5',\n  'feature_dexterity6',\n  'feature_dexterity7',\n  'feature_dexterity8',\n  'feature_dexterity9',\n  'feature_dexterity10',\n  'feature_dexterity11',\n  'feature_dexterity12',\n  'feature_dexterity13',\n  'feature_dexterity14',\n  'feature_constitution1',\n  'feature_constitution2',\n  'feature_constitution3',\n  'feature_constitution4',\n  'feature_constitution5',\n  'feature_constitution6',\n  'feature_constitution7',\n  'feature_constitution8',\n  'feature_constitution9',\n  'feature_constitution10',\n  'feature_constitution11',\n  'feature_constitution12',\n  'feature_constitution13',\n  'feature_constitution14',\n  'feature_constitution15',\n  'feature_constitution16',\n  'feature_constitution17',\n  'feature_constitution18',\n  'feature_constitution19',\n  'feature_constitution20',\n  'feature_constitution21',\n  'feature_constitution22',\n  'feature_constitution23',\n  'feature_constitution24',\n  'feature_constitution25',\n  'feature_constitution26',\n  'feature_constitution27',\n  'feature_constitution28',\n  'feature_constitution29',\n  'feature_constitution30',\n  'feature_constitution31',\n  'feature_constitution32',\n  'feature_constitution33',\n  'feature_constitution34',\n  'feature_constitution35',\n  'feature_constitution36',\n  'feature_constitution37',\n  'feature_constitution38',\n  'feature_constitution39',\n  'feature_constitution40',\n  'feature_constitution41',\n  'feature_constitution42',\n  'feature_constitution43',\n  'feature_constitution44',\n  'feature_constitution45',\n  'feature_constitution46',\n  'feature_constitution47',\n  'feature_constitution48',\n  'feature_constitution49',\n  'feature_constitution50',\n  'feature_constitution51',\n  'feature_constitution52',\n  'feature_constitution53',\n  'feature_constitution54',\n  'feature_constitution55',\n  'feature_constitution56',\n  'feature_constitution57',\n  'feature_constitution58',\n  'feature_constitution59',\n  'feature_constitution60',\n  'feature_constitution61',\n  'feature_constitution62',\n  'feature_constitution63',\n  'feature_constitution64',\n  'feature_constitution65',\n  'feature_constitution66',\n  'feature_constitution67',\n  'feature_constitution68',\n  'feature_constitution69',\n  'feature_constitution70',\n  'feature_constitution71',\n  'feature_constitution72',\n  'feature_constitution73',\n  'feature_constitution74',\n  'feature_constitution75',\n  'feature_constitution76',\n  'feature_constitution77',\n  'feature_constitution78',\n  'feature_constitution79',\n  'feature_constitution80',\n  'feature_constitution81',\n  'feature_constitution82',\n  'feature_constitution83',\n  'feature_constitution84',\n  'feature_constitution85',\n  'feature_constitution86',\n  'feature_constitution87',\n  'feature_constitution88',\n  'feature_constitution89',\n  'feature_constitution90',\n  'feature_constitution91',\n  'feature_constitution92',\n  'feature_constitution93',\n  'feature_constitution94',\n  'feature_constitution95',\n  'feature_constitution96',\n  'feature_constitution97',\n  'feature_constitution98',\n  'feature_constitution99',\n  'feature_constitution100',\n  'feature_constitution101',\n  'feature_constitution102',\n  'feature_constitution103',\n  'feature_constitution104',\n  'feature_constitution105',\n  'feature_constitution106',\n  'feature_constitution107',\n  'feature_constitution108',\n  'feature_constitution109',\n  'feature_constitution110',\n  'feature_constitution111',\n  'feature_constitution112',\n  'feature_constitution113',\n  'feature_constitution114',\n  'feature_wisdom1',\n  'feature_wisdom2',\n  'feature_wisdom3',\n  'feature_wisdom4',\n  'feature_wisdom5',\n  'feature_wisdom6',\n  'feature_wisdom7',\n  'feature_wisdom8',\n  'feature_wisdom9',\n  'feature_wisdom10',\n  'feature_wisdom11',\n  'feature_wisdom12',\n  'feature_wisdom13',\n  'feature_wisdom14',\n  'feature_wisdom15',\n  'feature_wisdom16',\n  'feature_wisdom17',\n  'feature_wisdom18',\n  'feature_wisdom19',\n  'feature_wisdom20',\n  'feature_wisdom21',\n  'feature_wisdom22',\n  'feature_wisdom23',\n  'feature_wisdom24',\n  'feature_wisdom25',\n  'feature_wisdom26',\n  'feature_wisdom27',\n  'feature_wisdom28',\n  'feature_wisdom29',\n  'feature_wisdom30',\n  'feature_wisdom31',\n  'feature_wisdom32',\n  'feature_wisdom33',\n  'feature_wisdom34',\n  'feature_wisdom35',\n  'feature_wisdom36',\n  'feature_wisdom37',\n  'feature_wisdom38',\n  'feature_wisdom39',\n  'feature_wisdom40',\n  'feature_wisdom41',\n  'feature_wisdom42',\n  'feature_wisdom43',\n  'feature_wisdom44',\n  'feature_wisdom45',\n  'feature_wisdom46',\n  'target'],\n 'aux_cols': ['id', 'era', 'data_type']}"
     },
     "execution_count": null,
     "metadata": {},
     "output_type": "execute_result"
    },
    {
     "data": {
      "application/javascript": "\n            setTimeout(function() {\n                var nbb_cell_id = 18;\n                var nbb_unformatted_code = \"dataset.__dict__\";\n                var nbb_formatted_code = \"dataset.__dict__\";\n                var nbb_cells = Jupyter.notebook.get_cells();\n                for (var i = 0; i < nbb_cells.length; ++i) {\n                    if (nbb_cells[i].input_prompt_number == nbb_cell_id) {\n                        if (nbb_cells[i].get_text() == nbb_unformatted_code) {\n                             nbb_cells[i].set_text(nbb_formatted_code);\n                        }\n                        break;\n                    }\n                }\n            }, 500);\n            ",
      "text/plain": "<IPython.core.display.Javascript object>"
     },
     "metadata": {},
     "output_type": "display_data"
    }
   ],
   "source": [
    "dataset.__dict__"
   ]
  },
  {
   "cell_type": "code",
   "execution_count": null,
   "metadata": {},
   "outputs": [
    {
     "data": {
      "application/javascript": "\n            setTimeout(function() {\n                var nbb_cell_id = 19;\n                var nbb_unformatted_code = \"dataf2 = dataset.copy_dataframe()\\nassert dataf2.equals(dataset.dataf)\";\n                var nbb_formatted_code = \"dataf2 = dataset.copy_dataframe()\\nassert dataf2.equals(dataset.dataf)\";\n                var nbb_cells = Jupyter.notebook.get_cells();\n                for (var i = 0; i < nbb_cells.length; ++i) {\n                    if (nbb_cells[i].input_prompt_number == nbb_cell_id) {\n                        if (nbb_cells[i].get_text() == nbb_unformatted_code) {\n                             nbb_cells[i].set_text(nbb_formatted_code);\n                        }\n                        break;\n                    }\n                }\n            }, 500);\n            ",
      "text/plain": "<IPython.core.display.Javascript object>"
     },
     "metadata": {},
     "output_type": "display_data"
    }
   ],
   "source": [
    "dataf2 = dataset.copy_dataframe()\n",
    "assert dataf2.equals(dataset.dataf)"
   ]
  },
  {
   "cell_type": "code",
   "execution_count": null,
   "metadata": {},
   "outputs": [
    {
     "data": {
      "text/html": "<div>\n<style scoped>\n    .dataframe tbody tr th:only-of-type {\n        vertical-align: middle;\n    }\n\n    .dataframe tbody tr th {\n        vertical-align: top;\n    }\n\n    .dataframe thead th {\n        text-align: right;\n    }\n</style>\n<table border=\"1\" class=\"dataframe\">\n  <thead>\n    <tr style=\"text-align: right;\">\n      <th></th>\n      <th>target</th>\n    </tr>\n  </thead>\n  <tbody>\n    <tr>\n      <th>0</th>\n      <td>0.50</td>\n    </tr>\n    <tr>\n      <th>1</th>\n      <td>0.25</td>\n    </tr>\n  </tbody>\n</table>\n</div>",
      "text/plain": "   target\n0    0.50\n1    0.25"
     },
     "execution_count": null,
     "metadata": {},
     "output_type": "execute_result"
    },
    {
     "data": {
      "application/javascript": "\n            setTimeout(function() {\n                var nbb_cell_id = 20;\n                var nbb_unformatted_code = \"dataset.get_target_data.head(2)\";\n                var nbb_formatted_code = \"dataset.get_target_data.head(2)\";\n                var nbb_cells = Jupyter.notebook.get_cells();\n                for (var i = 0; i < nbb_cells.length; ++i) {\n                    if (nbb_cells[i].input_prompt_number == nbb_cell_id) {\n                        if (nbb_cells[i].get_text() == nbb_unformatted_code) {\n                             nbb_cells[i].set_text(nbb_formatted_code);\n                        }\n                        break;\n                    }\n                }\n            }, 500);\n            ",
      "text/plain": "<IPython.core.display.Javascript object>"
     },
     "metadata": {},
     "output_type": "display_data"
    }
   ],
   "source": [
    "dataset.get_target_data.head(2)"
   ]
  },
  {
   "cell_type": "code",
   "execution_count": null,
   "metadata": {},
   "outputs": [
    {
     "data": {
      "text/html": "<div>\n<style scoped>\n    .dataframe tbody tr th:only-of-type {\n        vertical-align: middle;\n    }\n\n    .dataframe tbody tr th {\n        vertical-align: top;\n    }\n\n    .dataframe thead th {\n        text-align: right;\n    }\n</style>\n<table border=\"1\" class=\"dataframe\">\n  <thead>\n    <tr style=\"text-align: right;\">\n      <th></th>\n      <th>target</th>\n    </tr>\n  </thead>\n  <tbody>\n    <tr>\n      <th>0</th>\n      <td>0.50</td>\n    </tr>\n    <tr>\n      <th>1</th>\n      <td>0.25</td>\n    </tr>\n  </tbody>\n</table>\n</div>",
      "text/plain": "   target\n0    0.50\n1    0.25"
     },
     "execution_count": null,
     "metadata": {},
     "output_type": "execute_result"
    },
    {
     "data": {
      "application/javascript": "\n            setTimeout(function() {\n                var nbb_cell_id = 21;\n                var nbb_unformatted_code = \"dataset.get_single_target_data.head(2)\";\n                var nbb_formatted_code = \"dataset.get_single_target_data.head(2)\";\n                var nbb_cells = Jupyter.notebook.get_cells();\n                for (var i = 0; i < nbb_cells.length; ++i) {\n                    if (nbb_cells[i].input_prompt_number == nbb_cell_id) {\n                        if (nbb_cells[i].get_text() == nbb_unformatted_code) {\n                             nbb_cells[i].set_text(nbb_formatted_code);\n                        }\n                        break;\n                    }\n                }\n            }, 500);\n            ",
      "text/plain": "<IPython.core.display.Javascript object>"
     },
     "metadata": {},
     "output_type": "display_data"
    }
   ],
   "source": [
    "dataset.get_single_target_data.head(2)"
   ]
  },
  {
   "cell_type": "code",
   "execution_count": null,
   "metadata": {},
   "outputs": [
    {
     "data": {
      "application/javascript": "\n            setTimeout(function() {\n                var nbb_cell_id = 23;\n                var nbb_unformatted_code = \"dataset.dataf.loc[:, \\\"prediction_test_1\\\"] = np.random.uniform(size=len(dataset.dataf))\\nnew_dataset = Dataset(dataset.dataf, dataset.__dict__)\\nassert new_dataset.prediction_cols == [\\\"prediction_test_1\\\"]\\nassert new_dataset.version == 1\";\n                var nbb_formatted_code = \"dataset.dataf.loc[:, \\\"prediction_test_1\\\"] = np.random.uniform(size=len(dataset.dataf))\\nnew_dataset = Dataset(dataset.dataf, dataset.__dict__)\\nassert new_dataset.prediction_cols == [\\\"prediction_test_1\\\"]\\nassert new_dataset.version == 1\";\n                var nbb_cells = Jupyter.notebook.get_cells();\n                for (var i = 0; i < nbb_cells.length; ++i) {\n                    if (nbb_cells[i].input_prompt_number == nbb_cell_id) {\n                        if (nbb_cells[i].get_text() == nbb_unformatted_code) {\n                             nbb_cells[i].set_text(nbb_formatted_code);\n                        }\n                        break;\n                    }\n                }\n            }, 500);\n            ",
      "text/plain": "<IPython.core.display.Javascript object>"
     },
     "metadata": {},
     "output_type": "display_data"
    }
   ],
   "source": [
    "dataset.dataf.loc[:, \"prediction_test_1\"] = np.random.uniform(size=len(dataset.dataf))\n",
    "new_dataset = Dataset(dataset.dataf, dataset.__dict__)\n",
    "assert new_dataset.prediction_cols == [\"prediction_test_1\"]\n",
    "assert new_dataset.version == 1"
   ]
  },
  {
   "cell_type": "code",
   "execution_count": null,
   "metadata": {},
   "outputs": [
    {
     "data": {
      "text/html": "<div>\n<style scoped>\n    .dataframe tbody tr th:only-of-type {\n        vertical-align: middle;\n    }\n\n    .dataframe tbody tr th {\n        vertical-align: top;\n    }\n\n    .dataframe thead th {\n        text-align: right;\n    }\n</style>\n<table border=\"1\" class=\"dataframe\">\n  <thead>\n    <tr style=\"text-align: right;\">\n      <th></th>\n      <th>id</th>\n    </tr>\n  </thead>\n  <tbody>\n    <tr>\n      <th>0</th>\n      <td>n000315175b67977</td>\n    </tr>\n    <tr>\n      <th>1</th>\n      <td>n0014af834a96cdd</td>\n    </tr>\n  </tbody>\n</table>\n</div>",
      "text/plain": "                 id\n0  n000315175b67977\n1  n0014af834a96cdd"
     },
     "execution_count": null,
     "metadata": {},
     "output_type": "execute_result"
    },
    {
     "data": {
      "application/javascript": "\n            setTimeout(function() {\n                var nbb_cell_id = 24;\n                var nbb_unformatted_code = \"new_dataset.get_column_selection(\\\"id\\\").head(2)\";\n                var nbb_formatted_code = \"new_dataset.get_column_selection(\\\"id\\\").head(2)\";\n                var nbb_cells = Jupyter.notebook.get_cells();\n                for (var i = 0; i < nbb_cells.length; ++i) {\n                    if (nbb_cells[i].input_prompt_number == nbb_cell_id) {\n                        if (nbb_cells[i].get_text() == nbb_unformatted_code) {\n                             nbb_cells[i].set_text(nbb_formatted_code);\n                        }\n                        break;\n                    }\n                }\n            }, 500);\n            ",
      "text/plain": "<IPython.core.display.Javascript object>"
     },
     "metadata": {},
     "output_type": "display_data"
    }
   ],
   "source": [
    "new_dataset.get_column_selection(\"id\").head(2)"
   ]
  },
  {
   "cell_type": "code",
   "execution_count": null,
   "metadata": {},
   "outputs": [
    {
     "data": {
      "text/html": "<div>\n<style scoped>\n    .dataframe tbody tr th:only-of-type {\n        vertical-align: middle;\n    }\n\n    .dataframe tbody tr th {\n        vertical-align: top;\n    }\n\n    .dataframe thead th {\n        text-align: right;\n    }\n</style>\n<table border=\"1\" class=\"dataframe\">\n  <thead>\n    <tr style=\"text-align: right;\">\n      <th></th>\n      <th>id</th>\n      <th>prediction_test_1</th>\n    </tr>\n  </thead>\n  <tbody>\n    <tr>\n      <th>0</th>\n      <td>n000315175b67977</td>\n      <td>0.697065</td>\n    </tr>\n    <tr>\n      <th>1</th>\n      <td>n0014af834a96cdd</td>\n      <td>0.257719</td>\n    </tr>\n  </tbody>\n</table>\n</div>",
      "text/plain": "                 id  prediction_test_1\n0  n000315175b67977           0.697065\n1  n0014af834a96cdd           0.257719"
     },
     "execution_count": null,
     "metadata": {},
     "output_type": "execute_result"
    },
    {
     "data": {
      "application/javascript": "\n            setTimeout(function() {\n                var nbb_cell_id = 25;\n                var nbb_unformatted_code = \"new_dataset.get_column_selection([\\\"id\\\", \\\"prediction_test_1\\\"]).head(2)\";\n                var nbb_formatted_code = \"new_dataset.get_column_selection([\\\"id\\\", \\\"prediction_test_1\\\"]).head(2)\";\n                var nbb_cells = Jupyter.notebook.get_cells();\n                for (var i = 0; i < nbb_cells.length; ++i) {\n                    if (nbb_cells[i].input_prompt_number == nbb_cell_id) {\n                        if (nbb_cells[i].get_text() == nbb_unformatted_code) {\n                             nbb_cells[i].set_text(nbb_formatted_code);\n                        }\n                        break;\n                    }\n                }\n            }, 500);\n            ",
      "text/plain": "<IPython.core.display.Javascript object>"
     },
     "metadata": {},
     "output_type": "display_data"
    }
   ],
   "source": [
    "new_dataset.get_column_selection([\"id\", \"prediction_test_1\"]).head(2)"
   ]
  },
  {
   "cell_type": "code",
   "execution_count": null,
   "metadata": {},
   "outputs": [
    {
     "data": {
      "application/javascript": "\n            setTimeout(function() {\n                var nbb_cell_id = 26;\n                var nbb_unformatted_code = \"X, y = new_dataset.get_feature_target_pair(multi_target=False)\";\n                var nbb_formatted_code = \"X, y = new_dataset.get_feature_target_pair(multi_target=False)\";\n                var nbb_cells = Jupyter.notebook.get_cells();\n                for (var i = 0; i < nbb_cells.length; ++i) {\n                    if (nbb_cells[i].input_prompt_number == nbb_cell_id) {\n                        if (nbb_cells[i].get_text() == nbb_unformatted_code) {\n                             nbb_cells[i].set_text(nbb_formatted_code);\n                        }\n                        break;\n                    }\n                }\n            }, 500);\n            ",
      "text/plain": "<IPython.core.display.Javascript object>"
     },
     "metadata": {},
     "output_type": "display_data"
    }
   ],
   "source": [
    "X, y = new_dataset.get_feature_target_pair(multi_target=False)"
   ]
  },
  {
   "cell_type": "code",
   "execution_count": null,
   "metadata": {},
   "outputs": [
    {
     "data": {
      "text/html": "<div>\n<style scoped>\n    .dataframe tbody tr th:only-of-type {\n        vertical-align: middle;\n    }\n\n    .dataframe tbody tr th {\n        vertical-align: top;\n    }\n\n    .dataframe thead th {\n        text-align: right;\n    }\n</style>\n<table border=\"1\" class=\"dataframe\">\n  <thead>\n    <tr style=\"text-align: right;\">\n      <th></th>\n      <th>feature_intelligence1</th>\n      <th>feature_intelligence2</th>\n      <th>feature_intelligence3</th>\n      <th>feature_intelligence4</th>\n      <th>feature_intelligence5</th>\n      <th>feature_intelligence6</th>\n      <th>feature_intelligence7</th>\n      <th>feature_intelligence8</th>\n      <th>feature_intelligence9</th>\n      <th>feature_intelligence10</th>\n      <th>...</th>\n      <th>feature_wisdom37</th>\n      <th>feature_wisdom38</th>\n      <th>feature_wisdom39</th>\n      <th>feature_wisdom40</th>\n      <th>feature_wisdom41</th>\n      <th>feature_wisdom42</th>\n      <th>feature_wisdom43</th>\n      <th>feature_wisdom44</th>\n      <th>feature_wisdom45</th>\n      <th>feature_wisdom46</th>\n    </tr>\n  </thead>\n  <tbody>\n    <tr>\n      <th>0</th>\n      <td>0.0</td>\n      <td>0.5</td>\n      <td>0.25</td>\n      <td>0.00</td>\n      <td>0.5</td>\n      <td>0.25</td>\n      <td>0.25</td>\n      <td>0.25</td>\n      <td>0.75</td>\n      <td>0.75</td>\n      <td>...</td>\n      <td>1.00</td>\n      <td>1.0</td>\n      <td>1.0</td>\n      <td>0.75</td>\n      <td>0.5</td>\n      <td>0.75</td>\n      <td>0.50</td>\n      <td>1.0</td>\n      <td>0.50</td>\n      <td>0.75</td>\n    </tr>\n    <tr>\n      <th>1</th>\n      <td>0.0</td>\n      <td>0.0</td>\n      <td>0.00</td>\n      <td>0.25</td>\n      <td>0.5</td>\n      <td>0.00</td>\n      <td>0.00</td>\n      <td>0.25</td>\n      <td>0.50</td>\n      <td>0.50</td>\n      <td>...</td>\n      <td>0.75</td>\n      <td>1.0</td>\n      <td>1.0</td>\n      <td>0.00</td>\n      <td>0.0</td>\n      <td>0.75</td>\n      <td>0.25</td>\n      <td>0.0</td>\n      <td>0.25</td>\n      <td>1.00</td>\n    </tr>\n  </tbody>\n</table>\n<p>2 rows × 310 columns</p>\n</div>",
      "text/plain": "   feature_intelligence1  feature_intelligence2  feature_intelligence3  \\\n0                    0.0                    0.5                   0.25   \n1                    0.0                    0.0                   0.00   \n\n   feature_intelligence4  feature_intelligence5  feature_intelligence6  \\\n0                   0.00                    0.5                   0.25   \n1                   0.25                    0.5                   0.00   \n\n   feature_intelligence7  feature_intelligence8  feature_intelligence9  \\\n0                   0.25                   0.25                   0.75   \n1                   0.00                   0.25                   0.50   \n\n   feature_intelligence10  ...  feature_wisdom37  feature_wisdom38  \\\n0                    0.75  ...              1.00               1.0   \n1                    0.50  ...              0.75               1.0   \n\n   feature_wisdom39  feature_wisdom40  feature_wisdom41  feature_wisdom42  \\\n0               1.0              0.75               0.5              0.75   \n1               1.0              0.00               0.0              0.75   \n\n   feature_wisdom43  feature_wisdom44  feature_wisdom45  feature_wisdom46  \n0              0.50               1.0              0.50              0.75  \n1              0.25               0.0              0.25              1.00  \n\n[2 rows x 310 columns]"
     },
     "execution_count": null,
     "metadata": {},
     "output_type": "execute_result"
    },
    {
     "data": {
      "application/javascript": "\n            setTimeout(function() {\n                var nbb_cell_id = 27;\n                var nbb_unformatted_code = \"X.head(2)\";\n                var nbb_formatted_code = \"X.head(2)\";\n                var nbb_cells = Jupyter.notebook.get_cells();\n                for (var i = 0; i < nbb_cells.length; ++i) {\n                    if (nbb_cells[i].input_prompt_number == nbb_cell_id) {\n                        if (nbb_cells[i].get_text() == nbb_unformatted_code) {\n                             nbb_cells[i].set_text(nbb_formatted_code);\n                        }\n                        break;\n                    }\n                }\n            }, 500);\n            ",
      "text/plain": "<IPython.core.display.Javascript object>"
     },
     "metadata": {},
     "output_type": "display_data"
    }
   ],
   "source": [
    "X.head(2)"
   ]
  },
  {
   "cell_type": "code",
   "execution_count": null,
   "metadata": {},
   "outputs": [
    {
     "data": {
      "text/html": "<div>\n<style scoped>\n    .dataframe tbody tr th:only-of-type {\n        vertical-align: middle;\n    }\n\n    .dataframe tbody tr th {\n        vertical-align: top;\n    }\n\n    .dataframe thead th {\n        text-align: right;\n    }\n</style>\n<table border=\"1\" class=\"dataframe\">\n  <thead>\n    <tr style=\"text-align: right;\">\n      <th></th>\n      <th>target</th>\n    </tr>\n  </thead>\n  <tbody>\n    <tr>\n      <th>0</th>\n      <td>0.50</td>\n    </tr>\n    <tr>\n      <th>1</th>\n      <td>0.25</td>\n    </tr>\n  </tbody>\n</table>\n</div>",
      "text/plain": "   target\n0    0.50\n1    0.25"
     },
     "execution_count": null,
     "metadata": {},
     "output_type": "execute_result"
    },
    {
     "data": {
      "application/javascript": "\n            setTimeout(function() {\n                var nbb_cell_id = 28;\n                var nbb_unformatted_code = \"y.head(2)\";\n                var nbb_formatted_code = \"y.head(2)\";\n                var nbb_cells = Jupyter.notebook.get_cells();\n                for (var i = 0; i < nbb_cells.length; ++i) {\n                    if (nbb_cells[i].input_prompt_number == nbb_cell_id) {\n                        if (nbb_cells[i].get_text() == nbb_unformatted_code) {\n                             nbb_cells[i].set_text(nbb_formatted_code);\n                        }\n                        break;\n                    }\n                }\n            }, 500);\n            ",
      "text/plain": "<IPython.core.display.Javascript object>"
     },
     "metadata": {},
     "output_type": "display_data"
    }
   ],
   "source": [
    "y.head(2)"
   ]
  },
  {
   "cell_type": "code",
   "execution_count": null,
   "metadata": {},
   "outputs": [
    {
     "data": {
      "text/plain": "\"Dataset of shape (10, 315). Columns: ['id', 'era', 'data_type', 'feature_intelligence1', 'feature_intelligence2', 'feature_intelligence3', 'feature_intelligence4', 'feature_intelligence5', 'feature_intelligence6', 'feature_intelligence7', 'feature_intelligence8', 'feature_intelligence9', 'feature_intelligence10', 'feature_intelligence11', 'feature_intelligence12', 'feature_charisma1', 'feature_charisma2', 'feature_charisma3', 'feature_charisma4', 'feature_charisma5', 'feature_charisma6', 'feature_charisma7', 'feature_charisma8', 'feature_charisma9', 'feature_charisma10', 'feature_charisma11', 'feature_charisma12', 'feature_charisma13', 'feature_charisma14', 'feature_charisma15', 'feature_charisma16', 'feature_charisma17', 'feature_charisma18', 'feature_charisma19', 'feature_charisma20', 'feature_charisma21', 'feature_charisma22', 'feature_charisma23', 'feature_charisma24', 'feature_charisma25', 'feature_charisma26', 'feature_charisma27', 'feature_charisma28', 'feature_charisma29', 'feature_charisma30', 'feature_charisma31', 'feature_charisma32', 'feature_charisma33', 'feature_charisma34', 'feature_charisma35', 'feature_charisma36', 'feature_charisma37', 'feature_charisma38', 'feature_charisma39', 'feature_charisma40', 'feature_charisma41', 'feature_charisma42', 'feature_charisma43', 'feature_charisma44', 'feature_charisma45', 'feature_charisma46', 'feature_charisma47', 'feature_charisma48', 'feature_charisma49', 'feature_charisma50', 'feature_charisma51', 'feature_charisma52', 'feature_charisma53', 'feature_charisma54', 'feature_charisma55', 'feature_charisma56', 'feature_charisma57', 'feature_charisma58', 'feature_charisma59', 'feature_charisma60', 'feature_charisma61', 'feature_charisma62', 'feature_charisma63', 'feature_charisma64', 'feature_charisma65', 'feature_charisma66', 'feature_charisma67', 'feature_charisma68', 'feature_charisma69', 'feature_charisma70', 'feature_charisma71', 'feature_charisma72', 'feature_charisma73', 'feature_charisma74', 'feature_charisma75', 'feature_charisma76', 'feature_charisma77', 'feature_charisma78', 'feature_charisma79', 'feature_charisma80', 'feature_charisma81', 'feature_charisma82', 'feature_charisma83', 'feature_charisma84', 'feature_charisma85', 'feature_charisma86', 'feature_strength1', 'feature_strength2', 'feature_strength3', 'feature_strength4', 'feature_strength5', 'feature_strength6', 'feature_strength7', 'feature_strength8', 'feature_strength9', 'feature_strength10', 'feature_strength11', 'feature_strength12', 'feature_strength13', 'feature_strength14', 'feature_strength15', 'feature_strength16', 'feature_strength17', 'feature_strength18', 'feature_strength19', 'feature_strength20', 'feature_strength21', 'feature_strength22', 'feature_strength23', 'feature_strength24', 'feature_strength25', 'feature_strength26', 'feature_strength27', 'feature_strength28', 'feature_strength29', 'feature_strength30', 'feature_strength31', 'feature_strength32', 'feature_strength33', 'feature_strength34', 'feature_strength35', 'feature_strength36', 'feature_strength37', 'feature_strength38', 'feature_dexterity1', 'feature_dexterity2', 'feature_dexterity3', 'feature_dexterity4', 'feature_dexterity5', 'feature_dexterity6', 'feature_dexterity7', 'feature_dexterity8', 'feature_dexterity9', 'feature_dexterity10', 'feature_dexterity11', 'feature_dexterity12', 'feature_dexterity13', 'feature_dexterity14', 'feature_constitution1', 'feature_constitution2', 'feature_constitution3', 'feature_constitution4', 'feature_constitution5', 'feature_constitution6', 'feature_constitution7', 'feature_constitution8', 'feature_constitution9', 'feature_constitution10', 'feature_constitution11', 'feature_constitution12', 'feature_constitution13', 'feature_constitution14', 'feature_constitution15', 'feature_constitution16', 'feature_constitution17', 'feature_constitution18', 'feature_constitution19', 'feature_constitution20', 'feature_constitution21', 'feature_constitution22', 'feature_constitution23', 'feature_constitution24', 'feature_constitution25', 'feature_constitution26', 'feature_constitution27', 'feature_constitution28', 'feature_constitution29', 'feature_constitution30', 'feature_constitution31', 'feature_constitution32', 'feature_constitution33', 'feature_constitution34', 'feature_constitution35', 'feature_constitution36', 'feature_constitution37', 'feature_constitution38', 'feature_constitution39', 'feature_constitution40', 'feature_constitution41', 'feature_constitution42', 'feature_constitution43', 'feature_constitution44', 'feature_constitution45', 'feature_constitution46', 'feature_constitution47', 'feature_constitution48', 'feature_constitution49', 'feature_constitution50', 'feature_constitution51', 'feature_constitution52', 'feature_constitution53', 'feature_constitution54', 'feature_constitution55', 'feature_constitution56', 'feature_constitution57', 'feature_constitution58', 'feature_constitution59', 'feature_constitution60', 'feature_constitution61', 'feature_constitution62', 'feature_constitution63', 'feature_constitution64', 'feature_constitution65', 'feature_constitution66', 'feature_constitution67', 'feature_constitution68', 'feature_constitution69', 'feature_constitution70', 'feature_constitution71', 'feature_constitution72', 'feature_constitution73', 'feature_constitution74', 'feature_constitution75', 'feature_constitution76', 'feature_constitution77', 'feature_constitution78', 'feature_constitution79', 'feature_constitution80', 'feature_constitution81', 'feature_constitution82', 'feature_constitution83', 'feature_constitution84', 'feature_constitution85', 'feature_constitution86', 'feature_constitution87', 'feature_constitution88', 'feature_constitution89', 'feature_constitution90', 'feature_constitution91', 'feature_constitution92', 'feature_constitution93', 'feature_constitution94', 'feature_constitution95', 'feature_constitution96', 'feature_constitution97', 'feature_constitution98', 'feature_constitution99', 'feature_constitution100', 'feature_constitution101', 'feature_constitution102', 'feature_constitution103', 'feature_constitution104', 'feature_constitution105', 'feature_constitution106', 'feature_constitution107', 'feature_constitution108', 'feature_constitution109', 'feature_constitution110', 'feature_constitution111', 'feature_constitution112', 'feature_constitution113', 'feature_constitution114', 'feature_wisdom1', 'feature_wisdom2', 'feature_wisdom3', 'feature_wisdom4', 'feature_wisdom5', 'feature_wisdom6', 'feature_wisdom7', 'feature_wisdom8', 'feature_wisdom9', 'feature_wisdom10', 'feature_wisdom11', 'feature_wisdom12', 'feature_wisdom13', 'feature_wisdom14', 'feature_wisdom15', 'feature_wisdom16', 'feature_wisdom17', 'feature_wisdom18', 'feature_wisdom19', 'feature_wisdom20', 'feature_wisdom21', 'feature_wisdom22', 'feature_wisdom23', 'feature_wisdom24', 'feature_wisdom25', 'feature_wisdom26', 'feature_wisdom27', 'feature_wisdom28', 'feature_wisdom29', 'feature_wisdom30', 'feature_wisdom31', 'feature_wisdom32', 'feature_wisdom33', 'feature_wisdom34', 'feature_wisdom35', 'feature_wisdom36', 'feature_wisdom37', 'feature_wisdom38', 'feature_wisdom39', 'feature_wisdom40', 'feature_wisdom41', 'feature_wisdom42', 'feature_wisdom43', 'feature_wisdom44', 'feature_wisdom45', 'feature_wisdom46', 'target']\""
     },
     "execution_count": null,
     "metadata": {},
     "output_type": "execute_result"
    },
    {
     "data": {
      "application/javascript": "\n            setTimeout(function() {\n                var nbb_cell_id = 29;\n                var nbb_unformatted_code = \"str(dataset)\";\n                var nbb_formatted_code = \"str(dataset)\";\n                var nbb_cells = Jupyter.notebook.get_cells();\n                for (var i = 0; i < nbb_cells.length; ++i) {\n                    if (nbb_cells[i].input_prompt_number == nbb_cell_id) {\n                        if (nbb_cells[i].get_text() == nbb_unformatted_code) {\n                             nbb_cells[i].set_text(nbb_formatted_code);\n                        }\n                        break;\n                    }\n                }\n            }, 500);\n            ",
      "text/plain": "<IPython.core.display.Javascript object>"
     },
     "metadata": {},
     "output_type": "display_data"
    }
   ],
   "source": [
    "str(dataset)"
   ]
  },
  {
   "cell_type": "markdown",
   "metadata": {},
   "source": [
    "-----------------------------------------------"
   ]
  },
  {
   "cell_type": "code",
   "execution_count": null,
   "metadata": {},
   "outputs": [
    {
     "name": "stdout",
     "output_type": "stream",
     "text": [
      "Converted 00_download.ipynb.\n",
      "Converted 01_dataloaders.ipynb.\n",
      "Converted 02_dataset.ipynb.\n",
      "Converted 03_preprocessing.ipynb.\n",
      "Converted 04_model.ipynb.\n",
      "Converted 05_postprocessing.ipynb.\n",
      "Converted 06_modelpipeline.ipynb.\n",
      "Converted 07_evaluation.ipynb.\n",
      "Converted 08_key.ipynb.\n",
      "Converted 09_submission.ipynb.\n",
      "Converted 10_staker.ipynb.\n",
      "Converted index.ipynb.\n"
     ]
    },
    {
     "data": {
      "application/javascript": "\n            setTimeout(function() {\n                var nbb_cell_id = 30;\n                var nbb_unformatted_code = \"# hide\\n# Run this cell to sync all changes with library\\nfrom nbdev.export import notebook2script\\n\\nnotebook2script()\";\n                var nbb_formatted_code = \"# hide\\n# Run this cell to sync all changes with library\\nfrom nbdev.export import notebook2script\\n\\nnotebook2script()\";\n                var nbb_cells = Jupyter.notebook.get_cells();\n                for (var i = 0; i < nbb_cells.length; ++i) {\n                    if (nbb_cells[i].input_prompt_number == nbb_cell_id) {\n                        if (nbb_cells[i].get_text() == nbb_unformatted_code) {\n                             nbb_cells[i].set_text(nbb_formatted_code);\n                        }\n                        break;\n                    }\n                }\n            }, 500);\n            ",
      "text/plain": "<IPython.core.display.Javascript object>"
     },
     "metadata": {},
     "output_type": "display_data"
    }
   ],
   "source": [
    "# hide\n",
    "# Run this cell to sync all changes with library\n",
    "from nbdev.export import notebook2script\n",
    "\n",
    "notebook2script()"
   ]
  },
  {
   "cell_type": "code",
   "execution_count": null,
   "metadata": {},
   "outputs": [],
   "source": []
  }
 ],
 "metadata": {
  "kernelspec": {
   "display_name": "Python 3",
   "language": "python",
   "name": "python3"
  }
 },
 "nbformat": 4,
 "nbformat_minor": 0
}
