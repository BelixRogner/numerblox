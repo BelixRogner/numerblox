{
 "cells": [
  {
   "cell_type": "code",
   "execution_count": 13,
   "outputs": [],
   "source": [
    "# hide\n",
    "from nbdev.showdoc import *"
   ],
   "metadata": {
    "collapsed": false,
    "pycharm": {
     "name": "#%%\n"
    }
   }
  },
  {
   "cell_type": "markdown",
   "source": [
    "# Synthetic Data Generation with NumerBlox"
   ],
   "metadata": {
    "collapsed": false
   }
  },
  {
   "cell_type": "markdown",
   "source": [
    "This example notebook covers ways to generate synthetic data using `numerblox` components. Synthetic data can be a great way to improve performance simply by having more representative data. We will both cover ways to generate synthetic target variables and features.\n",
    "\n",
    "\n",
    "**WARNING:** Fitting these models can take quite some time on full Numerai datasets. It is recommended to use these preprocessors stand-alone and only apply them within a `ModelPipeline` if you already have trained models to load and generate batches of synthetic data."
   ],
   "metadata": {
    "collapsed": false
   }
  },
  {
   "cell_type": "markdown",
   "source": [
    "## 0. Download and load"
   ],
   "metadata": {
    "collapsed": false
   }
  },
  {
   "cell_type": "code",
   "execution_count": 14,
   "outputs": [],
   "source": [
    "from numerblox.download import NumeraiClassicDownloader\n",
    "from numerblox.numerframe import create_numerframe, NumerFrame\n",
    "from numerblox.preprocessing import SyntheticDataGenerator, BayesianGMMTargetProcessor"
   ],
   "metadata": {
    "collapsed": false,
    "pycharm": {
     "name": "#%%\n"
    }
   }
  },
  {
   "cell_type": "code",
   "execution_count": 15,
   "metadata": {
    "collapsed": true
   },
   "outputs": [
    {
     "data": {
      "text/plain": "📁 \u001B[32mDownloading\u001B[0m \u001B[32m'v4/train.parquet'\u001B[0m 📁\n",
      "text/html": "<pre style=\"white-space:pre;overflow-x:auto;line-height:normal;font-family:Menlo,'DejaVu Sans Mono',consolas,'Courier New',monospace\">📁 <span style=\"color: #008000; text-decoration-color: #008000\">Downloading</span> <span style=\"color: #008000; text-decoration-color: #008000\">'v4/train.parquet'</span> 📁\n</pre>\n"
     },
     "metadata": {},
     "output_type": "display_data"
    },
    {
     "name": "stderr",
     "output_type": "stream",
     "text": [
      "2022-04-18 15:08:53,289 INFO numerapi.utils: target file already exists\n",
      "2022-04-18 15:08:53,290 INFO numerapi.utils: download complete\n"
     ]
    },
    {
     "data": {
      "text/plain": "📁 \u001B[32mDownloading\u001B[0m \u001B[32m'v4/validation.parquet'\u001B[0m 📁\n",
      "text/html": "<pre style=\"white-space:pre;overflow-x:auto;line-height:normal;font-family:Menlo,'DejaVu Sans Mono',consolas,'Courier New',monospace\">📁 <span style=\"color: #008000; text-decoration-color: #008000\">Downloading</span> <span style=\"color: #008000; text-decoration-color: #008000\">'v4/validation.parquet'</span> 📁\n</pre>\n"
     },
     "metadata": {},
     "output_type": "display_data"
    },
    {
     "name": "stderr",
     "output_type": "stream",
     "text": [
      "2022-04-18 15:08:54,349 INFO numerapi.utils: target file already exists\n",
      "2022-04-18 15:08:54,350 INFO numerapi.utils: download complete\n"
     ]
    }
   ],
   "source": [
    "dl = NumeraiClassicDownloader(directory_path=\"synth_test\")\n",
    "dl.download_training_data(version=4)"
   ]
  },
  {
   "cell_type": "code",
   "execution_count": 16,
   "outputs": [],
   "source": [
    "dataf = create_numerframe(\"synth_test/train.parquet\")"
   ],
   "metadata": {
    "collapsed": false,
    "pycharm": {
     "name": "#%%\n"
    }
   }
  },
  {
   "cell_type": "code",
   "execution_count": 17,
   "outputs": [
    {
     "data": {
      "text/plain": "                   era data_type  feature_honoured_observational_balaamite  \\\nid                                                                           \nn003bba8a98662e4  0001     train                                       1.0   \nn003bee128c2fcfc  0001     train                                       0.5   \n\n                  feature_polaroid_vadose_quinze  \\\nid                                                 \nn003bba8a98662e4                             0.5   \nn003bee128c2fcfc                             1.0   \n\n                  feature_untidy_withdrawn_bargeman  \\\nid                                                    \nn003bba8a98662e4                               1.00   \nn003bee128c2fcfc                               0.25   \n\n                  feature_genuine_kyphotic_trehala  \\\nid                                                   \nn003bba8a98662e4                              1.00   \nn003bee128c2fcfc                              0.75   \n\n                  feature_unenthralled_sportful_schoolhouse  \\\nid                                                            \nn003bba8a98662e4                                        0.0   \nn003bee128c2fcfc                                        0.0   \n\n                  feature_divulsive_explanatory_ideologue  \\\nid                                                          \nn003bba8a98662e4                                     0.00   \nn003bee128c2fcfc                                     0.75   \n\n                  feature_ichthyotic_roofed_yeshiva  \\\nid                                                    \nn003bba8a98662e4                                1.0   \nn003bee128c2fcfc                                0.5   \n\n                  feature_waggly_outlandish_carbonisation  ...  \\\nid                                                         ...   \nn003bba8a98662e4                                     1.00  ...   \nn003bee128c2fcfc                                     0.75  ...   \n\n                  target_paul_v4_20  target_paul_v4_60  target_george_v4_20  \\\nid                                                                            \nn003bba8a98662e4               0.50               0.25                 0.25   \nn003bee128c2fcfc               0.75               1.00                 1.00   \n\n                  target_george_v4_60  target_william_v4_20  \\\nid                                                            \nn003bba8a98662e4                  0.0              0.333333   \nn003bee128c2fcfc                  1.0              0.666667   \n\n                  target_william_v4_60  target_arthur_v4_20  \\\nid                                                            \nn003bba8a98662e4              0.000000             0.500000   \nn003bee128c2fcfc              0.666667             0.833333   \n\n                  target_arthur_v4_60  target_thomas_v4_20  \\\nid                                                           \nn003bba8a98662e4             0.500000             0.166667   \nn003bee128c2fcfc             0.666667             0.833333   \n\n                  target_thomas_v4_60  \nid                                     \nn003bba8a98662e4             0.000000  \nn003bee128c2fcfc             0.666667  \n\n[2 rows x 1214 columns]",
      "text/html": "<div>\n<style scoped>\n    .dataframe tbody tr th:only-of-type {\n        vertical-align: middle;\n    }\n\n    .dataframe tbody tr th {\n        vertical-align: top;\n    }\n\n    .dataframe thead th {\n        text-align: right;\n    }\n</style>\n<table border=\"1\" class=\"dataframe\">\n  <thead>\n    <tr style=\"text-align: right;\">\n      <th></th>\n      <th>era</th>\n      <th>data_type</th>\n      <th>feature_honoured_observational_balaamite</th>\n      <th>feature_polaroid_vadose_quinze</th>\n      <th>feature_untidy_withdrawn_bargeman</th>\n      <th>feature_genuine_kyphotic_trehala</th>\n      <th>feature_unenthralled_sportful_schoolhouse</th>\n      <th>feature_divulsive_explanatory_ideologue</th>\n      <th>feature_ichthyotic_roofed_yeshiva</th>\n      <th>feature_waggly_outlandish_carbonisation</th>\n      <th>...</th>\n      <th>target_paul_v4_20</th>\n      <th>target_paul_v4_60</th>\n      <th>target_george_v4_20</th>\n      <th>target_george_v4_60</th>\n      <th>target_william_v4_20</th>\n      <th>target_william_v4_60</th>\n      <th>target_arthur_v4_20</th>\n      <th>target_arthur_v4_60</th>\n      <th>target_thomas_v4_20</th>\n      <th>target_thomas_v4_60</th>\n    </tr>\n    <tr>\n      <th>id</th>\n      <th></th>\n      <th></th>\n      <th></th>\n      <th></th>\n      <th></th>\n      <th></th>\n      <th></th>\n      <th></th>\n      <th></th>\n      <th></th>\n      <th></th>\n      <th></th>\n      <th></th>\n      <th></th>\n      <th></th>\n      <th></th>\n      <th></th>\n      <th></th>\n      <th></th>\n      <th></th>\n      <th></th>\n    </tr>\n  </thead>\n  <tbody>\n    <tr>\n      <th>n003bba8a98662e4</th>\n      <td>0001</td>\n      <td>train</td>\n      <td>1.0</td>\n      <td>0.5</td>\n      <td>1.00</td>\n      <td>1.00</td>\n      <td>0.0</td>\n      <td>0.00</td>\n      <td>1.0</td>\n      <td>1.00</td>\n      <td>...</td>\n      <td>0.50</td>\n      <td>0.25</td>\n      <td>0.25</td>\n      <td>0.0</td>\n      <td>0.333333</td>\n      <td>0.000000</td>\n      <td>0.500000</td>\n      <td>0.500000</td>\n      <td>0.166667</td>\n      <td>0.000000</td>\n    </tr>\n    <tr>\n      <th>n003bee128c2fcfc</th>\n      <td>0001</td>\n      <td>train</td>\n      <td>0.5</td>\n      <td>1.0</td>\n      <td>0.25</td>\n      <td>0.75</td>\n      <td>0.0</td>\n      <td>0.75</td>\n      <td>0.5</td>\n      <td>0.75</td>\n      <td>...</td>\n      <td>0.75</td>\n      <td>1.00</td>\n      <td>1.00</td>\n      <td>1.0</td>\n      <td>0.666667</td>\n      <td>0.666667</td>\n      <td>0.833333</td>\n      <td>0.666667</td>\n      <td>0.833333</td>\n      <td>0.666667</td>\n    </tr>\n  </tbody>\n</table>\n<p>2 rows × 1214 columns</p>\n</div>"
     },
     "execution_count": 17,
     "metadata": {},
     "output_type": "execute_result"
    }
   ],
   "source": [
    "dataf.head(2)"
   ],
   "metadata": {
    "collapsed": false,
    "pycharm": {
     "name": "#%%\n"
    }
   }
  },
  {
   "cell_type": "code",
   "execution_count": 18,
   "outputs": [],
   "source": [
    "# Sample for testing\n",
    "test_columns = ['era', 'data_type', 'feature_honoured_observational_balaamite',\n",
    "                'feature_polaroid_vadose_quinze', 'target',\n",
    "                'target_nomi_v4_20', 'target_nomi_v4_60']\n",
    "dataf = NumerFrame(dataf[test_columns].sample(10000))"
   ],
   "metadata": {
    "collapsed": false,
    "pycharm": {
     "name": "#%%\n"
    }
   }
  },
  {
   "cell_type": "markdown",
   "source": [
    "## 1. Synthetic target (Bayesian GMM)"
   ],
   "metadata": {
    "collapsed": false
   }
  },
  {
   "cell_type": "markdown",
   "source": [
    "First we will tackle the problem of creating a synthetic target column to improve model performance. `BayesianGMMTargetProcessor` allows you to generate a new target variable based on a given target. The preprocessor sample the target from a [Bayesian Gaussian Mixture model](https://scikit-learn.org/stable/modules/generated/sklearn.mixture.BayesianGaussianMixture.html) which is fitted on coefficients from a [regularized linear model (Ridge regression)](https://scikit-learn.org/stable/modules/generated/sklearn.linear_model.Ridge.html).\n",
    "\n",
    "This implementation is based on a [Github Gist by Michael Oliver (mdo)](https://gist.github.com/the-moliver/dcdd2862dc2c78dda600f1b449071c93)."
   ],
   "metadata": {
    "collapsed": false
   }
  },
  {
   "cell_type": "code",
   "execution_count": 19,
   "outputs": [
    {
     "data": {
      "text/plain": "<IPython.core.display.Markdown object>",
      "text/markdown": "<h2 id=\"BayesianGMMTargetProcessor\" class=\"doc_header\"><code>class</code> <code>BayesianGMMTargetProcessor</code><a href=\"https://github.com/crowdcent/numerblox/tree/master/numerblox/preprocessing.py#L232\" class=\"source_link\" style=\"float:right\">[source]</a></h2>\n\n> <code>BayesianGMMTargetProcessor</code>(**`target_col`**:`str`=*`'target'`*, **`n_components`**:`int`=*`6`*) :: [`BaseProcessor`](/numerbloxpreprocessing.html#BaseProcessor)\n\nGenerate synthetic (fake) target using a Bayesian Gaussian Mixture model. \n\nBased on Michael Oliver's GitHub Gist implementation: \n\nhttps://gist.github.com/the-moliver/dcdd2862dc2c78dda600f1b449071c93\n\n:param target_col: Column from which to create fake target. \n\n:param n_components: Number of components for fitting Bayesian Gaussian Mixture Model."
     },
     "metadata": {},
     "output_type": "display_data"
    }
   ],
   "source": [
    "show_doc(BayesianGMMTargetProcessor)"
   ],
   "metadata": {
    "collapsed": false,
    "pycharm": {
     "name": "#%%\n"
    }
   }
  },
  {
   "cell_type": "code",
   "execution_count": 20,
   "outputs": [
    {
     "data": {
      "text/plain": "Generating fake target:   0%|          | 0/574 [00:00<?, ?it/s]",
      "application/vnd.jupyter.widget-view+json": {
       "version_major": 2,
       "version_minor": 0,
       "model_id": "77901db9d67e446fbdff440392630f20"
      }
     },
     "metadata": {},
     "output_type": "display_data"
    },
    {
     "data": {
      "text/plain": "✅ Finished step \u001B[1mBayesianGMMTargetProcessor\u001B[0m. Output \u001B[33mshape\u001B[0m=\u001B[1m(\u001B[0m\u001B[1;36m10000\u001B[0m, \u001B[1;36m8\u001B[0m\u001B[1m)\u001B[0m. Time taken for step: \n\u001B[1;34m0:00:04\u001B[0m\u001B[34m.\u001B[0m\u001B[1;34m296527\u001B[0m. ✅\n",
      "text/html": "<pre style=\"white-space:pre;overflow-x:auto;line-height:normal;font-family:Menlo,'DejaVu Sans Mono',consolas,'Courier New',monospace\">✅ Finished step <span style=\"font-weight: bold\">BayesianGMMTargetProcessor</span>. Output <span style=\"color: #808000; text-decoration-color: #808000\">shape</span>=<span style=\"font-weight: bold\">(</span><span style=\"color: #008080; text-decoration-color: #008080; font-weight: bold\">10000</span>, <span style=\"color: #008080; text-decoration-color: #008080; font-weight: bold\">8</span><span style=\"font-weight: bold\">)</span>. Time taken for step: \n<span style=\"color: #000080; text-decoration-color: #000080; font-weight: bold\">0:00:04</span><span style=\"color: #000080; text-decoration-color: #000080\">.</span><span style=\"color: #000080; text-decoration-color: #000080; font-weight: bold\">296527</span>. ✅\n</pre>\n"
     },
     "metadata": {},
     "output_type": "display_data"
    }
   ],
   "source": [
    "bgmm = BayesianGMMTargetProcessor(target_col=\"target_nomi_v4_60\")\n",
    "fake_dataf = bgmm(dataf)"
   ],
   "metadata": {
    "collapsed": false,
    "pycharm": {
     "name": "#%%\n"
    }
   }
  },
  {
   "cell_type": "markdown",
   "source": [
    "The new target will be suffixed by `_fake` to distinguish it from the original targets."
   ],
   "metadata": {
    "collapsed": false
   }
  },
  {
   "cell_type": "code",
   "execution_count": 21,
   "outputs": [
    {
     "data": {
      "text/plain": "                  target  target_nomi_v4_20  target_nomi_v4_60  \\\nid                                                               \nn458579a5705ffe2     0.5                0.5               0.75   \nnf30a7195098a8fe     0.0                0.0               0.00   \n\n                  target_nomi_v4_60_fake  \nid                                        \nn458579a5705ffe2                    0.75  \nnf30a7195098a8fe                    0.50  ",
      "text/html": "<div>\n<style scoped>\n    .dataframe tbody tr th:only-of-type {\n        vertical-align: middle;\n    }\n\n    .dataframe tbody tr th {\n        vertical-align: top;\n    }\n\n    .dataframe thead th {\n        text-align: right;\n    }\n</style>\n<table border=\"1\" class=\"dataframe\">\n  <thead>\n    <tr style=\"text-align: right;\">\n      <th></th>\n      <th>target</th>\n      <th>target_nomi_v4_20</th>\n      <th>target_nomi_v4_60</th>\n      <th>target_nomi_v4_60_fake</th>\n    </tr>\n    <tr>\n      <th>id</th>\n      <th></th>\n      <th></th>\n      <th></th>\n      <th></th>\n    </tr>\n  </thead>\n  <tbody>\n    <tr>\n      <th>n458579a5705ffe2</th>\n      <td>0.5</td>\n      <td>0.5</td>\n      <td>0.75</td>\n      <td>0.75</td>\n    </tr>\n    <tr>\n      <th>nf30a7195098a8fe</th>\n      <td>0.0</td>\n      <td>0.0</td>\n      <td>0.00</td>\n      <td>0.50</td>\n    </tr>\n  </tbody>\n</table>\n</div>"
     },
     "execution_count": 21,
     "metadata": {},
     "output_type": "execute_result"
    }
   ],
   "source": [
    "fake_dataf.get_target_data.head(2)"
   ],
   "metadata": {
    "collapsed": false,
    "pycharm": {
     "name": "#%%\n"
    }
   }
  },
  {
   "cell_type": "markdown",
   "source": [
    "Note that you can easily generate multiple fake targets in a loop."
   ],
   "metadata": {
    "collapsed": false
   }
  },
  {
   "cell_type": "code",
   "execution_count": 22,
   "outputs": [
    {
     "data": {
      "text/plain": "Generating fake target:   0%|          | 0/574 [00:00<?, ?it/s]",
      "application/vnd.jupyter.widget-view+json": {
       "version_major": 2,
       "version_minor": 0,
       "model_id": "71238cd2458a455a937e9144dfee8046"
      }
     },
     "metadata": {},
     "output_type": "display_data"
    },
    {
     "data": {
      "text/plain": "✅ Finished step \u001B[1mBayesianGMMTargetProcessor\u001B[0m. Output \u001B[33mshape\u001B[0m=\u001B[1m(\u001B[0m\u001B[1;36m10000\u001B[0m, \u001B[1;36m9\u001B[0m\u001B[1m)\u001B[0m. Time taken for step: \n\u001B[1;34m0:00:04\u001B[0m\u001B[34m.\u001B[0m\u001B[1;34m054791\u001B[0m. ✅\n",
      "text/html": "<pre style=\"white-space:pre;overflow-x:auto;line-height:normal;font-family:Menlo,'DejaVu Sans Mono',consolas,'Courier New',monospace\">✅ Finished step <span style=\"font-weight: bold\">BayesianGMMTargetProcessor</span>. Output <span style=\"color: #808000; text-decoration-color: #808000\">shape</span>=<span style=\"font-weight: bold\">(</span><span style=\"color: #008080; text-decoration-color: #008080; font-weight: bold\">10000</span>, <span style=\"color: #008080; text-decoration-color: #008080; font-weight: bold\">9</span><span style=\"font-weight: bold\">)</span>. Time taken for step: \n<span style=\"color: #000080; text-decoration-color: #000080; font-weight: bold\">0:00:04</span><span style=\"color: #000080; text-decoration-color: #000080\">.</span><span style=\"color: #000080; text-decoration-color: #000080; font-weight: bold\">054791</span>. ✅\n</pre>\n"
     },
     "metadata": {},
     "output_type": "display_data"
    },
    {
     "data": {
      "text/plain": "Generating fake target:   0%|          | 0/574 [00:00<?, ?it/s]",
      "application/vnd.jupyter.widget-view+json": {
       "version_major": 2,
       "version_minor": 0,
       "model_id": "77694334f9c44796a35c2f303b370a11"
      }
     },
     "metadata": {},
     "output_type": "display_data"
    },
    {
     "data": {
      "text/plain": "✅ Finished step \u001B[1mBayesianGMMTargetProcessor\u001B[0m. Output \u001B[33mshape\u001B[0m=\u001B[1m(\u001B[0m\u001B[1;36m10000\u001B[0m, \u001B[1;36m10\u001B[0m\u001B[1m)\u001B[0m. Time taken for step: \n\u001B[1;34m0:00:03\u001B[0m\u001B[34m.\u001B[0m\u001B[1;34m994441\u001B[0m. ✅\n",
      "text/html": "<pre style=\"white-space:pre;overflow-x:auto;line-height:normal;font-family:Menlo,'DejaVu Sans Mono',consolas,'Courier New',monospace\">✅ Finished step <span style=\"font-weight: bold\">BayesianGMMTargetProcessor</span>. Output <span style=\"color: #808000; text-decoration-color: #808000\">shape</span>=<span style=\"font-weight: bold\">(</span><span style=\"color: #008080; text-decoration-color: #008080; font-weight: bold\">10000</span>, <span style=\"color: #008080; text-decoration-color: #008080; font-weight: bold\">10</span><span style=\"font-weight: bold\">)</span>. Time taken for step: \n<span style=\"color: #000080; text-decoration-color: #000080; font-weight: bold\">0:00:03</span><span style=\"color: #000080; text-decoration-color: #000080\">.</span><span style=\"color: #000080; text-decoration-color: #000080; font-weight: bold\">994441</span>. ✅\n</pre>\n"
     },
     "metadata": {},
     "output_type": "display_data"
    },
    {
     "data": {
      "text/plain": "Generating fake target:   0%|          | 0/574 [00:00<?, ?it/s]",
      "application/vnd.jupyter.widget-view+json": {
       "version_major": 2,
       "version_minor": 0,
       "model_id": "fb806901df774292952b08da3251cac2"
      }
     },
     "metadata": {},
     "output_type": "display_data"
    },
    {
     "data": {
      "text/plain": "✅ Finished step \u001B[1mBayesianGMMTargetProcessor\u001B[0m. Output \u001B[33mshape\u001B[0m=\u001B[1m(\u001B[0m\u001B[1;36m10000\u001B[0m, \u001B[1;36m10\u001B[0m\u001B[1m)\u001B[0m. Time taken for step: \n\u001B[1;34m0:00:05\u001B[0m\u001B[34m.\u001B[0m\u001B[1;34m076890\u001B[0m. ✅\n",
      "text/html": "<pre style=\"white-space:pre;overflow-x:auto;line-height:normal;font-family:Menlo,'DejaVu Sans Mono',consolas,'Courier New',monospace\">✅ Finished step <span style=\"font-weight: bold\">BayesianGMMTargetProcessor</span>. Output <span style=\"color: #808000; text-decoration-color: #808000\">shape</span>=<span style=\"font-weight: bold\">(</span><span style=\"color: #008080; text-decoration-color: #008080; font-weight: bold\">10000</span>, <span style=\"color: #008080; text-decoration-color: #008080; font-weight: bold\">10</span><span style=\"font-weight: bold\">)</span>. Time taken for step: \n<span style=\"color: #000080; text-decoration-color: #000080; font-weight: bold\">0:00:05</span><span style=\"color: #000080; text-decoration-color: #000080\">.</span><span style=\"color: #000080; text-decoration-color: #000080; font-weight: bold\">076890</span>. ✅\n</pre>\n"
     },
     "metadata": {},
     "output_type": "display_data"
    },
    {
     "data": {
      "text/plain": "                  target  target_nomi_v4_20  target_nomi_v4_60  \\\nid                                                               \nn458579a5705ffe2     0.5                0.5               0.75   \nnf30a7195098a8fe     0.0                0.0               0.00   \n\n                  target_nomi_v4_60_fake  target_fake  target_nomi_v4_20_fake  \nid                                                                             \nn458579a5705ffe2                     0.5         0.25                     0.5  \nnf30a7195098a8fe                     0.5         0.75                     0.5  ",
      "text/html": "<div>\n<style scoped>\n    .dataframe tbody tr th:only-of-type {\n        vertical-align: middle;\n    }\n\n    .dataframe tbody tr th {\n        vertical-align: top;\n    }\n\n    .dataframe thead th {\n        text-align: right;\n    }\n</style>\n<table border=\"1\" class=\"dataframe\">\n  <thead>\n    <tr style=\"text-align: right;\">\n      <th></th>\n      <th>target</th>\n      <th>target_nomi_v4_20</th>\n      <th>target_nomi_v4_60</th>\n      <th>target_nomi_v4_60_fake</th>\n      <th>target_fake</th>\n      <th>target_nomi_v4_20_fake</th>\n    </tr>\n    <tr>\n      <th>id</th>\n      <th></th>\n      <th></th>\n      <th></th>\n      <th></th>\n      <th></th>\n      <th></th>\n    </tr>\n  </thead>\n  <tbody>\n    <tr>\n      <th>n458579a5705ffe2</th>\n      <td>0.5</td>\n      <td>0.5</td>\n      <td>0.75</td>\n      <td>0.5</td>\n      <td>0.25</td>\n      <td>0.5</td>\n    </tr>\n    <tr>\n      <th>nf30a7195098a8fe</th>\n      <td>0.0</td>\n      <td>0.0</td>\n      <td>0.00</td>\n      <td>0.5</td>\n      <td>0.75</td>\n      <td>0.5</td>\n    </tr>\n  </tbody>\n</table>\n</div>"
     },
     "execution_count": 22,
     "metadata": {},
     "output_type": "execute_result"
    }
   ],
   "source": [
    "for target_col in dataf.target_cols:\n",
    "    bgmm = BayesianGMMTargetProcessor(target_col=target_col)\n",
    "    dataf = bgmm(dataf)\n",
    "dataf.get_target_data.head(2)"
   ],
   "metadata": {
    "collapsed": false,
    "pycharm": {
     "name": "#%%\n"
    }
   }
  },
  {
   "cell_type": "markdown",
   "source": [
    "## 2. Synthetic data (SDV)"
   ],
   "metadata": {
    "collapsed": false
   }
  },
  {
   "cell_type": "code",
   "execution_count": 23,
   "outputs": [
    {
     "data": {
      "text/plain": "<IPython.core.display.Markdown object>",
      "text/markdown": "<h2 id=\"SyntheticDataGenerator\" class=\"doc_header\"><code>class</code> <code>SyntheticDataGenerator</code><a href=\"https://github.com/crowdcent/numerblox/tree/master/numerblox/preprocessing.py#L180\" class=\"source_link\" style=\"float:right\">[source]</a></h2>\n\n> <code>SyntheticDataGenerator</code>(**`model_path`**:`str`, **`model_name`**=*`'CTGAN'`*, **`rows_per_era`**:`int`=*`5400`*, **`eras_to_add`**:`int`=*`1`*) :: [`BaseProcessor`](/numerbloxpreprocessing.html#BaseProcessor)\n\nGenerate synthetic eras. Uses SDV (sdv.dev) under the hood.\n\n:param model_name: Exact class name of a model supported on sdv. \n\n:param model_path: Either: \n\n1. Path to trained model. \n\n2. Path to where you want to save the fitted model. \n\nIf model_path does not point to a valid file, a new model will be initialized, fitted and saved."
     },
     "metadata": {},
     "output_type": "display_data"
    }
   ],
   "source": [
    "show_doc(SyntheticDataGenerator)"
   ],
   "metadata": {
    "collapsed": false,
    "pycharm": {
     "name": "#%%\n"
    }
   }
  },
  {
   "cell_type": "code",
   "execution_count": 23,
   "outputs": [],
   "source": [],
   "metadata": {
    "collapsed": false,
    "pycharm": {
     "name": "#%%\n"
    }
   }
  },
  {
   "cell_type": "code",
   "execution_count": 23,
   "outputs": [],
   "source": [],
   "metadata": {
    "collapsed": false,
    "pycharm": {
     "name": "#%%\n"
    }
   }
  },
  {
   "cell_type": "code",
   "execution_count": 24,
   "outputs": [],
   "source": [
    "# Clean up environment\n",
    "# dl.remove_base_directory()"
   ],
   "metadata": {
    "collapsed": false,
    "pycharm": {
     "name": "#%%\n"
    }
   }
  }
 ],
 "metadata": {
  "kernelspec": {
   "display_name": "Python 3",
   "language": "python",
   "name": "python3"
  },
  "language_info": {
   "codemirror_mode": {
    "name": "ipython",
    "version": 2
   },
   "file_extension": ".py",
   "mimetype": "text/x-python",
   "name": "python",
   "nbconvert_exporter": "python",
   "pygments_lexer": "ipython2",
   "version": "2.7.6"
  }
 },
 "nbformat": 4,
 "nbformat_minor": 0
}