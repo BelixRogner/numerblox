{
 "cells": [
  {
   "cell_type": "code",
   "execution_count": 1,
   "outputs": [],
   "source": [
    "# hide\n",
    "import pandas as pd\n",
    "from nbdev.showdoc import *"
   ],
   "metadata": {
    "collapsed": false,
    "pycharm": {
     "name": "#%%\n"
    }
   }
  },
  {
   "cell_type": "markdown",
   "source": [
    "# Synthetic Data Generation with NumerBlox"
   ],
   "metadata": {
    "collapsed": false
   }
  },
  {
   "cell_type": "markdown",
   "source": [
    "This example notebook covers ways to generate synthetic data using `numerblox` components. Synthetic data can be a great way to improve performance simply by having more data to train. We will both cover ways to generate synthetic target variables and features."
   ],
   "metadata": {
    "collapsed": false
   }
  },
  {
   "cell_type": "markdown",
   "source": [
    "## 0. Download and load"
   ],
   "metadata": {
    "collapsed": false
   }
  },
  {
   "cell_type": "code",
   "execution_count": 5,
   "outputs": [],
   "source": [
    "from numerblox.download import NumeraiClassicDownloader\n",
    "from numerblox.numerframe import create_numerframe, NumerFrame"
   ],
   "metadata": {
    "collapsed": false,
    "pycharm": {
     "name": "#%%\n"
    }
   }
  },
  {
   "cell_type": "code",
   "execution_count": 3,
   "metadata": {
    "collapsed": true
   },
   "outputs": [
    {
     "data": {
      "text/plain": "No existing directory found at \u001B[32m'\u001B[0m\u001B[34msynth_test\u001B[0m\u001B[32m'\u001B[0m. Creating directory\u001B[33m...\u001B[0m\n",
      "text/html": "<pre style=\"white-space:pre;overflow-x:auto;line-height:normal;font-family:Menlo,'DejaVu Sans Mono',consolas,'Courier New',monospace\">No existing directory found at <span style=\"color: #008000; text-decoration-color: #008000\">'</span><span style=\"color: #000080; text-decoration-color: #000080\">synth_test</span><span style=\"color: #008000; text-decoration-color: #008000\">'</span>. Creating directory<span style=\"color: #808000; text-decoration-color: #808000\">...</span>\n</pre>\n"
     },
     "metadata": {},
     "output_type": "display_data"
    },
    {
     "data": {
      "text/plain": "📁 \u001B[32mDownloading\u001B[0m \u001B[32m'v3/numerai_training_data.parquet'\u001B[0m 📁\n",
      "text/html": "<pre style=\"white-space:pre;overflow-x:auto;line-height:normal;font-family:Menlo,'DejaVu Sans Mono',consolas,'Courier New',monospace\">📁 <span style=\"color: #008000; text-decoration-color: #008000\">Downloading</span> <span style=\"color: #008000; text-decoration-color: #008000\">'v3/numerai_training_data.parquet'</span> 📁\n</pre>\n"
     },
     "metadata": {},
     "output_type": "display_data"
    },
    {
     "name": "stderr",
     "output_type": "stream",
     "text": [
      "2022-04-21 20:35:14,678 INFO numerapi.utils: starting download\n",
      "synth_test/numerai_training_data.parquet: 1.01GB [06:49, 2.48MB/s]                             \n"
     ]
    },
    {
     "data": {
      "text/plain": "📁 \u001B[32mDownloading\u001B[0m \u001B[32m'v3/numerai_validation_data.parquet'\u001B[0m 📁\n",
      "text/html": "<pre style=\"white-space:pre;overflow-x:auto;line-height:normal;font-family:Menlo,'DejaVu Sans Mono',consolas,'Courier New',monospace\">📁 <span style=\"color: #008000; text-decoration-color: #008000\">Downloading</span> <span style=\"color: #008000; text-decoration-color: #008000\">'v3/numerai_validation_data.parquet'</span> 📁\n</pre>\n"
     },
     "metadata": {},
     "output_type": "display_data"
    },
    {
     "name": "stderr",
     "output_type": "stream",
     "text": [
      "2022-04-21 20:42:04,857 INFO numerapi.utils: starting download\n",
      "synth_test/numerai_validation_data.parquet: 228MB [01:35, 2.39MB/s]                            \n"
     ]
    }
   ],
   "source": [
    "dl = NumeraiClassicDownloader(directory_path=\"synth_test\")\n",
    "dl.download_training_data(version=3)"
   ]
  },
  {
   "cell_type": "code",
   "execution_count": 4,
   "outputs": [],
   "source": [
    "dataf = create_numerframe(\"synth_test/numerai_training_data.parquet\")"
   ],
   "metadata": {
    "collapsed": false,
    "pycharm": {
     "name": "#%%\n"
    }
   }
  },
  {
   "cell_type": "code",
   "execution_count": 5,
   "outputs": [
    {
     "data": {
      "text/plain": "                   era data_type  feature_dichasial_hammier_spawner  \\\nid                                                                    \nn003bba8a98662e4  0001     train                                1.0   \nn003bee128c2fcfc  0001     train                                0.5   \n\n                  feature_rheumy_epistemic_prancer  \\\nid                                                   \nn003bba8a98662e4                               0.5   \nn003bee128c2fcfc                               1.0   \n\n                  feature_pert_performative_hormuz  \\\nid                                                   \nn003bba8a98662e4                              1.00   \nn003bee128c2fcfc                              0.25   \n\n                  feature_hillier_unpitied_theobromine  \\\nid                                                       \nn003bba8a98662e4                                  1.00   \nn003bee128c2fcfc                                  0.75   \n\n                  feature_perigean_bewitching_thruster  \\\nid                                                       \nn003bba8a98662e4                                   0.0   \nn003bee128c2fcfc                                   0.0   \n\n                  feature_renegade_undomestic_milord  \\\nid                                                     \nn003bba8a98662e4                                0.00   \nn003bee128c2fcfc                                0.75   \n\n                  feature_koranic_rude_corf  \\\nid                                            \nn003bba8a98662e4                        1.0   \nn003bee128c2fcfc                        0.5   \n\n                  feature_demisable_expiring_millepede  ...  target_paul_20  \\\nid                                                      ...                   \nn003bba8a98662e4                                  1.00  ...            0.25   \nn003bee128c2fcfc                                  0.75  ...            1.00   \n\n                  target_paul_60  target_george_20  target_george_60  \\\nid                                                                     \nn003bba8a98662e4            0.25              0.25               0.0   \nn003bee128c2fcfc            1.00              1.00               1.0   \n\n                  target_william_20  target_william_60  target_arthur_20  \\\nid                                                                         \nn003bba8a98662e4           0.166667           0.000000          0.166667   \nn003bee128c2fcfc           0.833333           0.666667          0.833333   \n\n                  target_arthur_60  target_thomas_20  target_thomas_60  \nid                                                                      \nn003bba8a98662e4          0.000000          0.166667          0.000000  \nn003bee128c2fcfc          0.666667          0.833333          0.666667  \n\n[2 rows x 1073 columns]",
      "text/html": "<div>\n<style scoped>\n    .dataframe tbody tr th:only-of-type {\n        vertical-align: middle;\n    }\n\n    .dataframe tbody tr th {\n        vertical-align: top;\n    }\n\n    .dataframe thead th {\n        text-align: right;\n    }\n</style>\n<table border=\"1\" class=\"dataframe\">\n  <thead>\n    <tr style=\"text-align: right;\">\n      <th></th>\n      <th>era</th>\n      <th>data_type</th>\n      <th>feature_dichasial_hammier_spawner</th>\n      <th>feature_rheumy_epistemic_prancer</th>\n      <th>feature_pert_performative_hormuz</th>\n      <th>feature_hillier_unpitied_theobromine</th>\n      <th>feature_perigean_bewitching_thruster</th>\n      <th>feature_renegade_undomestic_milord</th>\n      <th>feature_koranic_rude_corf</th>\n      <th>feature_demisable_expiring_millepede</th>\n      <th>...</th>\n      <th>target_paul_20</th>\n      <th>target_paul_60</th>\n      <th>target_george_20</th>\n      <th>target_george_60</th>\n      <th>target_william_20</th>\n      <th>target_william_60</th>\n      <th>target_arthur_20</th>\n      <th>target_arthur_60</th>\n      <th>target_thomas_20</th>\n      <th>target_thomas_60</th>\n    </tr>\n    <tr>\n      <th>id</th>\n      <th></th>\n      <th></th>\n      <th></th>\n      <th></th>\n      <th></th>\n      <th></th>\n      <th></th>\n      <th></th>\n      <th></th>\n      <th></th>\n      <th></th>\n      <th></th>\n      <th></th>\n      <th></th>\n      <th></th>\n      <th></th>\n      <th></th>\n      <th></th>\n      <th></th>\n      <th></th>\n      <th></th>\n    </tr>\n  </thead>\n  <tbody>\n    <tr>\n      <th>n003bba8a98662e4</th>\n      <td>0001</td>\n      <td>train</td>\n      <td>1.0</td>\n      <td>0.5</td>\n      <td>1.00</td>\n      <td>1.00</td>\n      <td>0.0</td>\n      <td>0.00</td>\n      <td>1.0</td>\n      <td>1.00</td>\n      <td>...</td>\n      <td>0.25</td>\n      <td>0.25</td>\n      <td>0.25</td>\n      <td>0.0</td>\n      <td>0.166667</td>\n      <td>0.000000</td>\n      <td>0.166667</td>\n      <td>0.000000</td>\n      <td>0.166667</td>\n      <td>0.000000</td>\n    </tr>\n    <tr>\n      <th>n003bee128c2fcfc</th>\n      <td>0001</td>\n      <td>train</td>\n      <td>0.5</td>\n      <td>1.0</td>\n      <td>0.25</td>\n      <td>0.75</td>\n      <td>0.0</td>\n      <td>0.75</td>\n      <td>0.5</td>\n      <td>0.75</td>\n      <td>...</td>\n      <td>1.00</td>\n      <td>1.00</td>\n      <td>1.00</td>\n      <td>1.0</td>\n      <td>0.833333</td>\n      <td>0.666667</td>\n      <td>0.833333</td>\n      <td>0.666667</td>\n      <td>0.833333</td>\n      <td>0.666667</td>\n    </tr>\n  </tbody>\n</table>\n<p>2 rows × 1073 columns</p>\n</div>"
     },
     "execution_count": 5,
     "metadata": {},
     "output_type": "execute_result"
    }
   ],
   "source": [
    "dataf.head(2)"
   ],
   "metadata": {
    "collapsed": false,
    "pycharm": {
     "name": "#%%\n"
    }
   }
  },
  {
   "cell_type": "markdown",
   "source": [
    "## 1. Synthetic target (Bayesian GMM)"
   ],
   "metadata": {
    "collapsed": false
   }
  },
  {
   "cell_type": "markdown",
   "source": [
    "First we will tackle the problem of creating a synthetic target column to improve model performance. `BayesianGMMTargetProcessor` allows you to generate a new target variable based on a given target. The preprocessor sample the target from a [Bayesian Gaussian Mixture model](https://scikit-learn.org/stable/modules/generated/sklearn.mixture.BayesianGaussianMixture.html) which is fitted on coefficients from a [regularized linear model (Ridge regression)](https://scikit-learn.org/stable/modules/generated/sklearn.linear_model.Ridge.html).\n",
    "\n",
    "This implementation is based on a [Github Gist by Michael Oliver (mdo)](https://gist.github.com/the-moliver/dcdd2862dc2c78dda600f1b449071c93)."
   ],
   "metadata": {
    "collapsed": false
   }
  },
  {
   "cell_type": "code",
   "execution_count": 6,
   "outputs": [],
   "source": [
    "from numerblox.preprocessing import BayesianGMMTargetProcessor"
   ],
   "metadata": {
    "collapsed": false,
    "pycharm": {
     "name": "#%%\n"
    }
   }
  },
  {
   "cell_type": "code",
   "execution_count": 7,
   "outputs": [
    {
     "data": {
      "text/plain": "<IPython.core.display.Markdown object>",
      "text/markdown": "<h2 id=\"BayesianGMMTargetProcessor\" class=\"doc_header\"><code>class</code> <code>BayesianGMMTargetProcessor</code><a href=\"https://github.com/crowdcent/numerblox/tree/master/numerblox/preprocessing.py#L302\" class=\"source_link\" style=\"float:right\">[source]</a></h2>\n\n> <code>BayesianGMMTargetProcessor</code>(**`target_col`**:`str`=*`'target'`*, **`n_components`**:`int`=*`6`*) :: [`BaseProcessor`](/numerbloxpreprocessing.html#BaseProcessor)\n\nGenerate synthetic (fake) target using a Bayesian Gaussian Mixture model. \n\nBased on Michael Oliver's GitHub Gist implementation: \n\nhttps://gist.github.com/the-moliver/dcdd2862dc2c78dda600f1b449071c93\n\n:param target_col: Column from which to create fake target. \n\n:param n_components: Number of components for fitting Bayesian Gaussian Mixture Model."
     },
     "metadata": {},
     "output_type": "display_data"
    }
   ],
   "source": [
    "show_doc(BayesianGMMTargetProcessor)"
   ],
   "metadata": {
    "collapsed": false,
    "pycharm": {
     "name": "#%%\n"
    }
   }
  },
  {
   "cell_type": "code",
   "execution_count": 8,
   "outputs": [
    {
     "data": {
      "text/plain": "                   era data_type  feature_dichasial_hammier_spawner  \\\nid                                                                    \nn003bba8a98662e4  0001     train                                1.0   \nn003bee128c2fcfc  0001     train                                0.5   \nn0048ac83aff7194  0001     train                                0.5   \nn00691bec80d3e02  0001     train                                1.0   \nn00b8720a2fdc4f2  0001     train                                1.0   \n\n                  feature_rheumy_epistemic_prancer  \\\nid                                                   \nn003bba8a98662e4                              0.50   \nn003bee128c2fcfc                              1.00   \nn0048ac83aff7194                              0.25   \nn00691bec80d3e02                              0.50   \nn00b8720a2fdc4f2                              0.75   \n\n                  feature_pert_performative_hormuz  \\\nid                                                   \nn003bba8a98662e4                              1.00   \nn003bee128c2fcfc                              0.25   \nn0048ac83aff7194                              0.75   \nn00691bec80d3e02                              0.50   \nn00b8720a2fdc4f2                              1.00   \n\n                  feature_hillier_unpitied_theobromine  \\\nid                                                       \nn003bba8a98662e4                                  1.00   \nn003bee128c2fcfc                                  0.75   \nn0048ac83aff7194                                  0.00   \nn00691bec80d3e02                                  0.75   \nn00b8720a2fdc4f2                                  1.00   \n\n                  feature_perigean_bewitching_thruster  \\\nid                                                       \nn003bba8a98662e4                                  0.00   \nn003bee128c2fcfc                                  0.00   \nn0048ac83aff7194                                  0.75   \nn00691bec80d3e02                                  0.00   \nn00b8720a2fdc4f2                                  0.00   \n\n                  feature_renegade_undomestic_milord  \\\nid                                                     \nn003bba8a98662e4                                0.00   \nn003bee128c2fcfc                                0.75   \nn0048ac83aff7194                                0.00   \nn00691bec80d3e02                                1.00   \nn00b8720a2fdc4f2                                0.00   \n\n                  feature_koranic_rude_corf  \\\nid                                            \nn003bba8a98662e4                       1.00   \nn003bee128c2fcfc                       0.50   \nn0048ac83aff7194                       0.75   \nn00691bec80d3e02                       0.25   \nn00b8720a2fdc4f2                       1.00   \n\n                  feature_demisable_expiring_millepede  ...  target_paul_20  \\\nid                                                      ...                   \nn003bba8a98662e4                                  1.00  ...            0.25   \nn003bee128c2fcfc                                  0.75  ...            1.00   \nn0048ac83aff7194                                  0.75  ...            0.50   \nn00691bec80d3e02                                  1.00  ...            0.50   \nn00b8720a2fdc4f2                                  0.50  ...            0.50   \n\n                  target_paul_60  target_george_20  target_george_60  \\\nid                                                                     \nn003bba8a98662e4            0.25              0.25              0.00   \nn003bee128c2fcfc            1.00              1.00              1.00   \nn0048ac83aff7194            0.25              0.25              0.25   \nn00691bec80d3e02            0.50              0.50              0.50   \nn00b8720a2fdc4f2            0.50              0.50              0.50   \n\n                  target_william_20  target_william_60  target_arthur_20  \\\nid                                                                         \nn003bba8a98662e4           0.166667           0.000000          0.166667   \nn003bee128c2fcfc           0.833333           0.666667          0.833333   \nn0048ac83aff7194           0.500000           0.333333          0.500000   \nn00691bec80d3e02           0.666667           0.500000          0.500000   \nn00b8720a2fdc4f2           0.666667           0.500000          0.500000   \n\n                  target_arthur_60  target_thomas_20  target_thomas_60  \nid                                                                      \nn003bba8a98662e4          0.000000          0.166667          0.000000  \nn003bee128c2fcfc          0.666667          0.833333          0.666667  \nn0048ac83aff7194          0.333333          0.500000          0.333333  \nn00691bec80d3e02          0.500000          0.666667          0.500000  \nn00b8720a2fdc4f2          0.500000          0.666667          0.500000  \n\n[5 rows x 1073 columns]",
      "text/html": "<div>\n<style scoped>\n    .dataframe tbody tr th:only-of-type {\n        vertical-align: middle;\n    }\n\n    .dataframe tbody tr th {\n        vertical-align: top;\n    }\n\n    .dataframe thead th {\n        text-align: right;\n    }\n</style>\n<table border=\"1\" class=\"dataframe\">\n  <thead>\n    <tr style=\"text-align: right;\">\n      <th></th>\n      <th>era</th>\n      <th>data_type</th>\n      <th>feature_dichasial_hammier_spawner</th>\n      <th>feature_rheumy_epistemic_prancer</th>\n      <th>feature_pert_performative_hormuz</th>\n      <th>feature_hillier_unpitied_theobromine</th>\n      <th>feature_perigean_bewitching_thruster</th>\n      <th>feature_renegade_undomestic_milord</th>\n      <th>feature_koranic_rude_corf</th>\n      <th>feature_demisable_expiring_millepede</th>\n      <th>...</th>\n      <th>target_paul_20</th>\n      <th>target_paul_60</th>\n      <th>target_george_20</th>\n      <th>target_george_60</th>\n      <th>target_william_20</th>\n      <th>target_william_60</th>\n      <th>target_arthur_20</th>\n      <th>target_arthur_60</th>\n      <th>target_thomas_20</th>\n      <th>target_thomas_60</th>\n    </tr>\n    <tr>\n      <th>id</th>\n      <th></th>\n      <th></th>\n      <th></th>\n      <th></th>\n      <th></th>\n      <th></th>\n      <th></th>\n      <th></th>\n      <th></th>\n      <th></th>\n      <th></th>\n      <th></th>\n      <th></th>\n      <th></th>\n      <th></th>\n      <th></th>\n      <th></th>\n      <th></th>\n      <th></th>\n      <th></th>\n      <th></th>\n    </tr>\n  </thead>\n  <tbody>\n    <tr>\n      <th>n003bba8a98662e4</th>\n      <td>0001</td>\n      <td>train</td>\n      <td>1.0</td>\n      <td>0.50</td>\n      <td>1.00</td>\n      <td>1.00</td>\n      <td>0.00</td>\n      <td>0.00</td>\n      <td>1.00</td>\n      <td>1.00</td>\n      <td>...</td>\n      <td>0.25</td>\n      <td>0.25</td>\n      <td>0.25</td>\n      <td>0.00</td>\n      <td>0.166667</td>\n      <td>0.000000</td>\n      <td>0.166667</td>\n      <td>0.000000</td>\n      <td>0.166667</td>\n      <td>0.000000</td>\n    </tr>\n    <tr>\n      <th>n003bee128c2fcfc</th>\n      <td>0001</td>\n      <td>train</td>\n      <td>0.5</td>\n      <td>1.00</td>\n      <td>0.25</td>\n      <td>0.75</td>\n      <td>0.00</td>\n      <td>0.75</td>\n      <td>0.50</td>\n      <td>0.75</td>\n      <td>...</td>\n      <td>1.00</td>\n      <td>1.00</td>\n      <td>1.00</td>\n      <td>1.00</td>\n      <td>0.833333</td>\n      <td>0.666667</td>\n      <td>0.833333</td>\n      <td>0.666667</td>\n      <td>0.833333</td>\n      <td>0.666667</td>\n    </tr>\n    <tr>\n      <th>n0048ac83aff7194</th>\n      <td>0001</td>\n      <td>train</td>\n      <td>0.5</td>\n      <td>0.25</td>\n      <td>0.75</td>\n      <td>0.00</td>\n      <td>0.75</td>\n      <td>0.00</td>\n      <td>0.75</td>\n      <td>0.75</td>\n      <td>...</td>\n      <td>0.50</td>\n      <td>0.25</td>\n      <td>0.25</td>\n      <td>0.25</td>\n      <td>0.500000</td>\n      <td>0.333333</td>\n      <td>0.500000</td>\n      <td>0.333333</td>\n      <td>0.500000</td>\n      <td>0.333333</td>\n    </tr>\n    <tr>\n      <th>n00691bec80d3e02</th>\n      <td>0001</td>\n      <td>train</td>\n      <td>1.0</td>\n      <td>0.50</td>\n      <td>0.50</td>\n      <td>0.75</td>\n      <td>0.00</td>\n      <td>1.00</td>\n      <td>0.25</td>\n      <td>1.00</td>\n      <td>...</td>\n      <td>0.50</td>\n      <td>0.50</td>\n      <td>0.50</td>\n      <td>0.50</td>\n      <td>0.666667</td>\n      <td>0.500000</td>\n      <td>0.500000</td>\n      <td>0.500000</td>\n      <td>0.666667</td>\n      <td>0.500000</td>\n    </tr>\n    <tr>\n      <th>n00b8720a2fdc4f2</th>\n      <td>0001</td>\n      <td>train</td>\n      <td>1.0</td>\n      <td>0.75</td>\n      <td>1.00</td>\n      <td>1.00</td>\n      <td>0.00</td>\n      <td>0.00</td>\n      <td>1.00</td>\n      <td>0.50</td>\n      <td>...</td>\n      <td>0.50</td>\n      <td>0.50</td>\n      <td>0.50</td>\n      <td>0.50</td>\n      <td>0.666667</td>\n      <td>0.500000</td>\n      <td>0.500000</td>\n      <td>0.500000</td>\n      <td>0.666667</td>\n      <td>0.500000</td>\n    </tr>\n  </tbody>\n</table>\n<p>5 rows × 1073 columns</p>\n</div>"
     },
     "execution_count": 8,
     "metadata": {},
     "output_type": "execute_result"
    }
   ],
   "source": [
    "dataf.head()"
   ],
   "metadata": {
    "collapsed": false,
    "pycharm": {
     "name": "#%%\n"
    }
   }
  },
  {
   "cell_type": "code",
   "execution_count": 9,
   "outputs": [
    {
     "data": {
      "text/plain": "Generating fake target:   0%|          | 0/86 [00:00<?, ?it/s]",
      "application/vnd.jupyter.widget-view+json": {
       "version_major": 2,
       "version_minor": 0,
       "model_id": "e2327e40ea0349628d2546e96a86c90f"
      }
     },
     "metadata": {},
     "output_type": "display_data"
    },
    {
     "data": {
      "text/plain": "✅ Finished step \u001B[1mBayesianGMMTargetProcessor\u001B[0m. Output \u001B[33mshape\u001B[0m=\u001B[1m(\u001B[0m\u001B[1;36m100\u001B[0m, \u001B[1;36m8\u001B[0m\u001B[1m)\u001B[0m. Time taken for step: \n\u001B[1;34m0:00:03\u001B[0m\u001B[34m.\u001B[0m\u001B[1;34m791228\u001B[0m. ✅\n",
      "text/html": "<pre style=\"white-space:pre;overflow-x:auto;line-height:normal;font-family:Menlo,'DejaVu Sans Mono',consolas,'Courier New',monospace\">✅ Finished step <span style=\"font-weight: bold\">BayesianGMMTargetProcessor</span>. Output <span style=\"color: #808000; text-decoration-color: #808000\">shape</span>=<span style=\"font-weight: bold\">(</span><span style=\"color: #008080; text-decoration-color: #008080; font-weight: bold\">100</span>, <span style=\"color: #008080; text-decoration-color: #008080; font-weight: bold\">8</span><span style=\"font-weight: bold\">)</span>. Time taken for step: \n<span style=\"color: #000080; text-decoration-color: #000080; font-weight: bold\">0:00:03</span><span style=\"color: #000080; text-decoration-color: #000080\">.</span><span style=\"color: #000080; text-decoration-color: #000080; font-weight: bold\">791228</span>. ✅\n</pre>\n"
     },
     "metadata": {},
     "output_type": "display_data"
    }
   ],
   "source": [
    "bgmm = BayesianGMMTargetProcessor(target_col=\"target_nomi_20\")\n",
    "test_columns = ['era', 'data_type', 'feature_dichasial_hammier_spawner',\n",
    "                'feature_rheumy_epistemic_prancer', 'target',\n",
    "                'target_nomi_20', 'target_paul_20']\n",
    "sample_dataf = NumerFrame(dataf[test_columns].sample(100).fillna(0.5))\n",
    "fake_dataf = bgmm(sample_dataf)"
   ],
   "metadata": {
    "collapsed": false,
    "pycharm": {
     "name": "#%%\n"
    }
   }
  },
  {
   "cell_type": "code",
   "execution_count": 10,
   "outputs": [
    {
     "data": {
      "text/plain": "                   era data_type  feature_dichasial_hammier_spawner  \\\nid                                                                    \nnc5eebb71db89da9  0548     train                               0.50   \nn9da4409f7603fde  0296     train                               1.00   \nnf4b37fc2c988713  0289     train                               0.75   \nn879ccfaa3790832  0529     train                               0.75   \nn9345b1f68e7d35b  0201     train                               0.50   \n\n                  feature_rheumy_epistemic_prancer  target  target_nomi_20  \\\nid                                                                           \nnc5eebb71db89da9                               1.0     0.5             0.5   \nn9da4409f7603fde                               0.5     0.5             0.5   \nnf4b37fc2c988713                               0.0     0.0             0.0   \nn879ccfaa3790832                               1.0     0.5             0.5   \nn9345b1f68e7d35b                               1.0     0.0             0.0   \n\n                  target_paul_20  target_nomi_20_fake  \nid                                                     \nnc5eebb71db89da9            0.50                 0.50  \nn9da4409f7603fde            0.75                 0.75  \nnf4b37fc2c988713            0.00                 0.50  \nn879ccfaa3790832            0.50                 0.75  \nn9345b1f68e7d35b            0.25                 0.50  ",
      "text/html": "<div>\n<style scoped>\n    .dataframe tbody tr th:only-of-type {\n        vertical-align: middle;\n    }\n\n    .dataframe tbody tr th {\n        vertical-align: top;\n    }\n\n    .dataframe thead th {\n        text-align: right;\n    }\n</style>\n<table border=\"1\" class=\"dataframe\">\n  <thead>\n    <tr style=\"text-align: right;\">\n      <th></th>\n      <th>era</th>\n      <th>data_type</th>\n      <th>feature_dichasial_hammier_spawner</th>\n      <th>feature_rheumy_epistemic_prancer</th>\n      <th>target</th>\n      <th>target_nomi_20</th>\n      <th>target_paul_20</th>\n      <th>target_nomi_20_fake</th>\n    </tr>\n    <tr>\n      <th>id</th>\n      <th></th>\n      <th></th>\n      <th></th>\n      <th></th>\n      <th></th>\n      <th></th>\n      <th></th>\n      <th></th>\n    </tr>\n  </thead>\n  <tbody>\n    <tr>\n      <th>nc5eebb71db89da9</th>\n      <td>0548</td>\n      <td>train</td>\n      <td>0.50</td>\n      <td>1.0</td>\n      <td>0.5</td>\n      <td>0.5</td>\n      <td>0.50</td>\n      <td>0.50</td>\n    </tr>\n    <tr>\n      <th>n9da4409f7603fde</th>\n      <td>0296</td>\n      <td>train</td>\n      <td>1.00</td>\n      <td>0.5</td>\n      <td>0.5</td>\n      <td>0.5</td>\n      <td>0.75</td>\n      <td>0.75</td>\n    </tr>\n    <tr>\n      <th>nf4b37fc2c988713</th>\n      <td>0289</td>\n      <td>train</td>\n      <td>0.75</td>\n      <td>0.0</td>\n      <td>0.0</td>\n      <td>0.0</td>\n      <td>0.00</td>\n      <td>0.50</td>\n    </tr>\n    <tr>\n      <th>n879ccfaa3790832</th>\n      <td>0529</td>\n      <td>train</td>\n      <td>0.75</td>\n      <td>1.0</td>\n      <td>0.5</td>\n      <td>0.5</td>\n      <td>0.50</td>\n      <td>0.75</td>\n    </tr>\n    <tr>\n      <th>n9345b1f68e7d35b</th>\n      <td>0201</td>\n      <td>train</td>\n      <td>0.50</td>\n      <td>1.0</td>\n      <td>0.0</td>\n      <td>0.0</td>\n      <td>0.25</td>\n      <td>0.50</td>\n    </tr>\n  </tbody>\n</table>\n</div>"
     },
     "execution_count": 10,
     "metadata": {},
     "output_type": "execute_result"
    }
   ],
   "source": [
    "sample_dataf.head()"
   ],
   "metadata": {
    "collapsed": false,
    "pycharm": {
     "name": "#%%\n"
    }
   }
  },
  {
   "cell_type": "markdown",
   "source": [
    "The new target will be suffixed by `_fake` to distinguish it from the original targets."
   ],
   "metadata": {
    "collapsed": false
   }
  },
  {
   "cell_type": "code",
   "execution_count": 11,
   "outputs": [
    {
     "data": {
      "text/plain": "                  target  target_nomi_20  target_paul_20  target_nomi_20_fake\nid                                                                           \nnc5eebb71db89da9     0.5             0.5            0.50                 0.50\nn9da4409f7603fde     0.5             0.5            0.75                 0.75",
      "text/html": "<div>\n<style scoped>\n    .dataframe tbody tr th:only-of-type {\n        vertical-align: middle;\n    }\n\n    .dataframe tbody tr th {\n        vertical-align: top;\n    }\n\n    .dataframe thead th {\n        text-align: right;\n    }\n</style>\n<table border=\"1\" class=\"dataframe\">\n  <thead>\n    <tr style=\"text-align: right;\">\n      <th></th>\n      <th>target</th>\n      <th>target_nomi_20</th>\n      <th>target_paul_20</th>\n      <th>target_nomi_20_fake</th>\n    </tr>\n    <tr>\n      <th>id</th>\n      <th></th>\n      <th></th>\n      <th></th>\n      <th></th>\n    </tr>\n  </thead>\n  <tbody>\n    <tr>\n      <th>nc5eebb71db89da9</th>\n      <td>0.5</td>\n      <td>0.5</td>\n      <td>0.50</td>\n      <td>0.50</td>\n    </tr>\n    <tr>\n      <th>n9da4409f7603fde</th>\n      <td>0.5</td>\n      <td>0.5</td>\n      <td>0.75</td>\n      <td>0.75</td>\n    </tr>\n  </tbody>\n</table>\n</div>"
     },
     "execution_count": 11,
     "metadata": {},
     "output_type": "execute_result"
    }
   ],
   "source": [
    "fake_dataf.get_target_data.head(2)"
   ],
   "metadata": {
    "collapsed": false,
    "pycharm": {
     "name": "#%%\n"
    }
   }
  },
  {
   "cell_type": "markdown",
   "source": [
    "Note that you can easily generate multiple fake targets in a loop."
   ],
   "metadata": {
    "collapsed": false
   }
  },
  {
   "cell_type": "code",
   "execution_count": 12,
   "outputs": [
    {
     "data": {
      "text/plain": "Generating fake target:   0%|          | 0/86 [00:00<?, ?it/s]",
      "application/vnd.jupyter.widget-view+json": {
       "version_major": 2,
       "version_minor": 0,
       "model_id": "39ec9ea9c05a48598e98e3b1c9d38edc"
      }
     },
     "metadata": {},
     "output_type": "display_data"
    },
    {
     "data": {
      "text/plain": "✅ Finished step \u001B[1mBayesianGMMTargetProcessor\u001B[0m. Output \u001B[33mshape\u001B[0m=\u001B[1m(\u001B[0m\u001B[1;36m100\u001B[0m, \u001B[1;36m9\u001B[0m\u001B[1m)\u001B[0m. Time taken for step: \n\u001B[1;34m0:00:00\u001B[0m\u001B[34m.\u001B[0m\u001B[1;34m564593\u001B[0m. ✅\n",
      "text/html": "<pre style=\"white-space:pre;overflow-x:auto;line-height:normal;font-family:Menlo,'DejaVu Sans Mono',consolas,'Courier New',monospace\">✅ Finished step <span style=\"font-weight: bold\">BayesianGMMTargetProcessor</span>. Output <span style=\"color: #808000; text-decoration-color: #808000\">shape</span>=<span style=\"font-weight: bold\">(</span><span style=\"color: #008080; text-decoration-color: #008080; font-weight: bold\">100</span>, <span style=\"color: #008080; text-decoration-color: #008080; font-weight: bold\">9</span><span style=\"font-weight: bold\">)</span>. Time taken for step: \n<span style=\"color: #000080; text-decoration-color: #000080; font-weight: bold\">0:00:00</span><span style=\"color: #000080; text-decoration-color: #000080\">.</span><span style=\"color: #000080; text-decoration-color: #000080; font-weight: bold\">564593</span>. ✅\n</pre>\n"
     },
     "metadata": {},
     "output_type": "display_data"
    },
    {
     "data": {
      "text/plain": "Generating fake target:   0%|          | 0/86 [00:00<?, ?it/s]",
      "application/vnd.jupyter.widget-view+json": {
       "version_major": 2,
       "version_minor": 0,
       "model_id": "e583ecf4972b4998ba99fad9a3b8d49e"
      }
     },
     "metadata": {},
     "output_type": "display_data"
    },
    {
     "data": {
      "text/plain": "✅ Finished step \u001B[1mBayesianGMMTargetProcessor\u001B[0m. Output \u001B[33mshape\u001B[0m=\u001B[1m(\u001B[0m\u001B[1;36m100\u001B[0m, \u001B[1;36m9\u001B[0m\u001B[1m)\u001B[0m. Time taken for step: \n\u001B[1;34m0:00:00\u001B[0m\u001B[34m.\u001B[0m\u001B[1;34m604135\u001B[0m. ✅\n",
      "text/html": "<pre style=\"white-space:pre;overflow-x:auto;line-height:normal;font-family:Menlo,'DejaVu Sans Mono',consolas,'Courier New',monospace\">✅ Finished step <span style=\"font-weight: bold\">BayesianGMMTargetProcessor</span>. Output <span style=\"color: #808000; text-decoration-color: #808000\">shape</span>=<span style=\"font-weight: bold\">(</span><span style=\"color: #008080; text-decoration-color: #008080; font-weight: bold\">100</span>, <span style=\"color: #008080; text-decoration-color: #008080; font-weight: bold\">9</span><span style=\"font-weight: bold\">)</span>. Time taken for step: \n<span style=\"color: #000080; text-decoration-color: #000080; font-weight: bold\">0:00:00</span><span style=\"color: #000080; text-decoration-color: #000080\">.</span><span style=\"color: #000080; text-decoration-color: #000080; font-weight: bold\">604135</span>. ✅\n</pre>\n"
     },
     "metadata": {},
     "output_type": "display_data"
    },
    {
     "data": {
      "text/plain": "Generating fake target:   0%|          | 0/86 [00:00<?, ?it/s]",
      "application/vnd.jupyter.widget-view+json": {
       "version_major": 2,
       "version_minor": 0,
       "model_id": "bb1a1bb81b01484189c52ec0dc29d3b4"
      }
     },
     "metadata": {},
     "output_type": "display_data"
    },
    {
     "data": {
      "text/plain": "✅ Finished step \u001B[1mBayesianGMMTargetProcessor\u001B[0m. Output \u001B[33mshape\u001B[0m=\u001B[1m(\u001B[0m\u001B[1;36m100\u001B[0m, \u001B[1;36m10\u001B[0m\u001B[1m)\u001B[0m. Time taken for step: \n\u001B[1;34m0:00:00\u001B[0m\u001B[34m.\u001B[0m\u001B[1;34m574711\u001B[0m. ✅\n",
      "text/html": "<pre style=\"white-space:pre;overflow-x:auto;line-height:normal;font-family:Menlo,'DejaVu Sans Mono',consolas,'Courier New',monospace\">✅ Finished step <span style=\"font-weight: bold\">BayesianGMMTargetProcessor</span>. Output <span style=\"color: #808000; text-decoration-color: #808000\">shape</span>=<span style=\"font-weight: bold\">(</span><span style=\"color: #008080; text-decoration-color: #008080; font-weight: bold\">100</span>, <span style=\"color: #008080; text-decoration-color: #008080; font-weight: bold\">10</span><span style=\"font-weight: bold\">)</span>. Time taken for step: \n<span style=\"color: #000080; text-decoration-color: #000080; font-weight: bold\">0:00:00</span><span style=\"color: #000080; text-decoration-color: #000080\">.</span><span style=\"color: #000080; text-decoration-color: #000080; font-weight: bold\">574711</span>. ✅\n</pre>\n"
     },
     "metadata": {},
     "output_type": "display_data"
    },
    {
     "data": {
      "text/plain": "                  target  target_nomi_20  target_paul_20  target_nomi_20_fake  \\\nid                                                                              \nnc5eebb71db89da9     0.5             0.5            0.50                  0.5   \nn9da4409f7603fde     0.5             0.5            0.75                  0.5   \n\n                  target_fake  target_paul_20_fake  \nid                                                  \nnc5eebb71db89da9          0.5                 0.50  \nn9da4409f7603fde          0.5                 0.75  ",
      "text/html": "<div>\n<style scoped>\n    .dataframe tbody tr th:only-of-type {\n        vertical-align: middle;\n    }\n\n    .dataframe tbody tr th {\n        vertical-align: top;\n    }\n\n    .dataframe thead th {\n        text-align: right;\n    }\n</style>\n<table border=\"1\" class=\"dataframe\">\n  <thead>\n    <tr style=\"text-align: right;\">\n      <th></th>\n      <th>target</th>\n      <th>target_nomi_20</th>\n      <th>target_paul_20</th>\n      <th>target_nomi_20_fake</th>\n      <th>target_fake</th>\n      <th>target_paul_20_fake</th>\n    </tr>\n    <tr>\n      <th>id</th>\n      <th></th>\n      <th></th>\n      <th></th>\n      <th></th>\n      <th></th>\n      <th></th>\n    </tr>\n  </thead>\n  <tbody>\n    <tr>\n      <th>nc5eebb71db89da9</th>\n      <td>0.5</td>\n      <td>0.5</td>\n      <td>0.50</td>\n      <td>0.5</td>\n      <td>0.5</td>\n      <td>0.50</td>\n    </tr>\n    <tr>\n      <th>n9da4409f7603fde</th>\n      <td>0.5</td>\n      <td>0.5</td>\n      <td>0.75</td>\n      <td>0.5</td>\n      <td>0.5</td>\n      <td>0.75</td>\n    </tr>\n  </tbody>\n</table>\n</div>"
     },
     "execution_count": 12,
     "metadata": {},
     "output_type": "execute_result"
    }
   ],
   "source": [
    "for target_col in sample_dataf.target_cols:\n",
    "    bgmm = BayesianGMMTargetProcessor(target_col=target_col)\n",
    "    sample_dataf = bgmm(sample_dataf)\n",
    "sample_dataf.get_target_data.head(2)"
   ],
   "metadata": {
    "collapsed": false,
    "pycharm": {
     "name": "#%%\n"
    }
   }
  },
  {
   "cell_type": "markdown",
   "source": [
    "## 2. DeepDreamGenerator"
   ],
   "metadata": {
    "collapsed": false
   }
  },
  {
   "cell_type": "code",
   "execution_count": 13,
   "outputs": [],
   "source": [
    "from numerblox.preprocessing import DeepDreamGenerator"
   ],
   "metadata": {
    "collapsed": false,
    "pycharm": {
     "name": "#%%\n"
    }
   }
  },
  {
   "cell_type": "code",
   "execution_count": 14,
   "outputs": [
    {
     "data": {
      "text/plain": "<IPython.core.display.Markdown object>",
      "text/markdown": "<h2 id=\"DeepDreamGenerator\" class=\"doc_header\"><code>class</code> <code>DeepDreamGenerator</code><a href=\"https://github.com/crowdcent/numerblox/tree/master/numerblox/preprocessing.py#L180\" class=\"source_link\" style=\"float:right\">[source]</a></h2>\n\n> <code>DeepDreamGenerator</code>(**`model_path`**:`str`, **`batch_size`**:`int`=*`200000`*, **`steps`**:`int`=*`5`*, **`step_size`**:`float`=*`0.01`*, **`feature_names`**:`list`=*`None`*) :: [`BaseProcessor`](/numerbloxpreprocessing.html#BaseProcessor)\n\nGenerate synthetic eras using DeepDream technique. \n\nBased on implementation by nemethpeti: \n\nhttps://github.com/nemethpeti/numerai/blob/main/DeepDream/deepdream.py\n\n:param model_path: Path to trained DeepDream model. Example can be downloaded from \n\nhttps://github.com/nemethpeti/numerai/blob/main/DeepDream/model.h5 \n\n:param batch_size: How much synthetic data to process in each batch. \n\n:param steps: Number of gradient ascent steps to perform. More steps will lead to more augmentation. \n\n:param step_size: How much to augment the batch based on computed gradients. \n\nLike with the number of steps, a larger step size will lead to more dramatic changes to the input features. \n\nThe default parameters are found to work well in practice, but could be further optimized."
     },
     "metadata": {},
     "output_type": "display_data"
    }
   ],
   "source": [
    "show_doc(DeepDreamGenerator)"
   ],
   "metadata": {
    "collapsed": false,
    "pycharm": {
     "name": "#%%\n"
    }
   }
  },
  {
   "cell_type": "markdown",
   "source": [
    "### 2.1. Simple data generation example"
   ],
   "metadata": {
    "collapsed": false
   }
  },
  {
   "cell_type": "markdown",
   "source": [
    "For our example we will use the model open sourced by [nemethpeti](https://github.com/nemethpeti) which you can download [here](https://github.com/nemethpeti/numerai/blob/main/DeepDream/model.h5). This model works on the v3 medium feature set. We therefore use v3 data in this example. The v3 medium feature set can be easily retrieved using `NumeraiClassicDownloader`."
   ],
   "metadata": {
    "collapsed": false
   }
  },
  {
   "cell_type": "code",
   "execution_count": 15,
   "outputs": [
    {
     "data": {
      "text/plain": "📁 \u001B[32mDownloading\u001B[0m \u001B[32m'v3/features.json'\u001B[0m 📁\n",
      "text/html": "<pre style=\"white-space:pre;overflow-x:auto;line-height:normal;font-family:Menlo,'DejaVu Sans Mono',consolas,'Courier New',monospace\">📁 <span style=\"color: #008000; text-decoration-color: #008000\">Downloading</span> <span style=\"color: #008000; text-decoration-color: #008000\">'v3/features.json'</span> 📁\n</pre>\n"
     },
     "metadata": {},
     "output_type": "display_data"
    },
    {
     "name": "stderr",
     "output_type": "stream",
     "text": [
      "2022-04-21 20:44:00,229 INFO numerapi.utils: starting download\n",
      "synth_test/features.json: 441kB [00:00, 715kB/s]                            \n"
     ]
    }
   ],
   "source": [
    "#hide_output\n",
    "feature_set = dl.get_classic_features(filename=\"v3/features.json\")\n",
    "feature_names = feature_set['feature_sets']['medium']"
   ],
   "metadata": {
    "collapsed": false,
    "pycharm": {
     "name": "#%%\n"
    }
   }
  },
  {
   "cell_type": "code",
   "execution_count": 16,
   "outputs": [
    {
     "name": "stderr",
     "output_type": "stream",
     "text": [
      "2022-04-21 20:44:00.893088: I tensorflow/core/platform/cpu_feature_guard.cc:151] This TensorFlow binary is optimized with oneAPI Deep Neural Network Library (oneDNN) to use the following CPU instructions in performance-critical operations:  AVX2 FMA\n",
      "To enable them in other operations, rebuild TensorFlow with the appropriate compiler flags.\n"
     ]
    }
   ],
   "source": [
    "ddg = DeepDreamGenerator(model_path=\"../test_assets/deepdream_model.h5\",\n",
    "                         feature_names=feature_names)"
   ],
   "metadata": {
    "collapsed": false,
    "pycharm": {
     "name": "#%%\n"
    }
   }
  },
  {
   "cell_type": "markdown",
   "source": [
    "Let's try to generate features from a small subset of 100 rows."
   ],
   "metadata": {
    "collapsed": false
   }
  },
  {
   "cell_type": "code",
   "execution_count": 17,
   "outputs": [],
   "source": [
    "sample_dataf_2 = NumerFrame(dataf.sample(100))"
   ],
   "metadata": {
    "collapsed": false,
    "pycharm": {
     "name": "#%%\n"
    }
   }
  },
  {
   "cell_type": "code",
   "execution_count": 18,
   "outputs": [
    {
     "data": {
      "text/plain": "Deepdreaming Synthetic Batches:   0%|          | 0/1 [00:00<?, ?it/s]",
      "application/vnd.jupyter.widget-view+json": {
       "version_major": 2,
       "version_minor": 0,
       "model_id": "05b482a2dd8f4e3ab84c1fe4e36e858f"
      }
     },
     "metadata": {},
     "output_type": "display_data"
    },
    {
     "data": {
      "text/plain": "✅ Finished step \u001B[1mDeepDreamGenerator\u001B[0m. Output \u001B[33mshape\u001B[0m=\u001B[1m(\u001B[0m\u001B[1;36m199\u001B[0m, \u001B[1;36m1073\u001B[0m\u001B[1m)\u001B[0m. Time taken for step: \n\u001B[1;34m0:00:00\u001B[0m\u001B[34m.\u001B[0m\u001B[1;34m256036\u001B[0m. ✅\n",
      "text/html": "<pre style=\"white-space:pre;overflow-x:auto;line-height:normal;font-family:Menlo,'DejaVu Sans Mono',consolas,'Courier New',monospace\">✅ Finished step <span style=\"font-weight: bold\">DeepDreamGenerator</span>. Output <span style=\"color: #808000; text-decoration-color: #808000\">shape</span>=<span style=\"font-weight: bold\">(</span><span style=\"color: #008080; text-decoration-color: #008080; font-weight: bold\">199</span>, <span style=\"color: #008080; text-decoration-color: #008080; font-weight: bold\">1073</span><span style=\"font-weight: bold\">)</span>. Time taken for step: \n<span style=\"color: #000080; text-decoration-color: #000080; font-weight: bold\">0:00:00</span><span style=\"color: #000080; text-decoration-color: #000080\">.</span><span style=\"color: #000080; text-decoration-color: #000080; font-weight: bold\">256036</span>. ✅\n</pre>\n"
     },
     "metadata": {},
     "output_type": "display_data"
    }
   ],
   "source": [
    "dreamed_dataf = ddg.transform(sample_dataf_2)"
   ],
   "metadata": {
    "collapsed": false,
    "pycharm": {
     "name": "#%%\n"
    }
   }
  },
  {
   "cell_type": "markdown",
   "source": [
    "The new dreamed `NumerFrame` consists of the original data and 100 new additional rows. Note that targets are the same.\n",
    "\n",
    "Also, `era`, `data_type` and any other columns besides features and targets will be `NaN`s."
   ],
   "metadata": {
    "collapsed": false
   }
  },
  {
   "cell_type": "code",
   "execution_count": 19,
   "outputs": [
    {
     "name": "stdout",
     "output_type": "stream",
     "text": [
      "(199, 1073)\n"
     ]
    },
    {
     "data": {
      "text/plain": "    era data_type  feature_dichasial_hammier_spawner  \\\n94  NaN       NaN                           0.247193   \n95  NaN       NaN                           0.489312   \n96  NaN       NaN                           0.495490   \n97  NaN       NaN                           0.003752   \n98  NaN       NaN                           0.503010   \n\n    feature_rheumy_epistemic_prancer  feature_pert_performative_hormuz  \\\n94                          0.264190                          0.972684   \n95                          0.078443                          0.236165   \n96                          0.973480                          0.000000   \n97                          0.533704                          0.184674   \n98                          0.833936                          0.789934   \n\n    feature_hillier_unpitied_theobromine  \\\n94                              0.001661   \n95                              0.058320   \n96                              0.529774   \n97                              0.518682   \n98                              0.507861   \n\n    feature_perigean_bewitching_thruster  feature_renegade_undomestic_milord  \\\n94                              1.000000                            0.254708   \n95                              1.000000                            1.000000   \n96                              0.745781                            0.717546   \n97                              0.503133                            1.000000   \n98                              0.553869                            0.495910   \n\n    feature_koranic_rude_corf  feature_demisable_expiring_millepede  ...  \\\n94                   0.510616                              0.013465  ...   \n95                   0.737863                              0.720093  ...   \n96                   0.809193                              0.509407  ...   \n97                   0.521212                              0.000000  ...   \n98                   0.501681                              0.449256  ...   \n\n    target_paul_20  target_paul_60  target_george_20  target_george_60  \\\n94            0.25            0.50              0.50               0.5   \n95            0.50            0.50              0.50               0.5   \n96            0.50            0.50              0.50               0.5   \n97            0.50            0.50              0.75               0.5   \n98            0.25            0.25              0.25               0.5   \n\n    target_william_20  target_william_60  target_arthur_20  target_arthur_60  \\\n94           0.333333           0.500000          0.333333          0.500000   \n95           0.500000           0.333333          0.500000          0.333333   \n96           0.500000           0.500000          0.500000          0.500000   \n97           0.833333           0.500000          0.666667          0.500000   \n98           0.333333           0.333333          0.333333          0.333333   \n\n    target_thomas_20  target_thomas_60  \n94          0.333333          0.500000  \n95          0.500000          0.333333  \n96          0.500000          0.500000  \n97          0.666667          0.500000  \n98          0.500000          0.500000  \n\n[5 rows x 1073 columns]",
      "text/html": "<div>\n<style scoped>\n    .dataframe tbody tr th:only-of-type {\n        vertical-align: middle;\n    }\n\n    .dataframe tbody tr th {\n        vertical-align: top;\n    }\n\n    .dataframe thead th {\n        text-align: right;\n    }\n</style>\n<table border=\"1\" class=\"dataframe\">\n  <thead>\n    <tr style=\"text-align: right;\">\n      <th></th>\n      <th>era</th>\n      <th>data_type</th>\n      <th>feature_dichasial_hammier_spawner</th>\n      <th>feature_rheumy_epistemic_prancer</th>\n      <th>feature_pert_performative_hormuz</th>\n      <th>feature_hillier_unpitied_theobromine</th>\n      <th>feature_perigean_bewitching_thruster</th>\n      <th>feature_renegade_undomestic_milord</th>\n      <th>feature_koranic_rude_corf</th>\n      <th>feature_demisable_expiring_millepede</th>\n      <th>...</th>\n      <th>target_paul_20</th>\n      <th>target_paul_60</th>\n      <th>target_george_20</th>\n      <th>target_george_60</th>\n      <th>target_william_20</th>\n      <th>target_william_60</th>\n      <th>target_arthur_20</th>\n      <th>target_arthur_60</th>\n      <th>target_thomas_20</th>\n      <th>target_thomas_60</th>\n    </tr>\n  </thead>\n  <tbody>\n    <tr>\n      <th>94</th>\n      <td>NaN</td>\n      <td>NaN</td>\n      <td>0.247193</td>\n      <td>0.264190</td>\n      <td>0.972684</td>\n      <td>0.001661</td>\n      <td>1.000000</td>\n      <td>0.254708</td>\n      <td>0.510616</td>\n      <td>0.013465</td>\n      <td>...</td>\n      <td>0.25</td>\n      <td>0.50</td>\n      <td>0.50</td>\n      <td>0.5</td>\n      <td>0.333333</td>\n      <td>0.500000</td>\n      <td>0.333333</td>\n      <td>0.500000</td>\n      <td>0.333333</td>\n      <td>0.500000</td>\n    </tr>\n    <tr>\n      <th>95</th>\n      <td>NaN</td>\n      <td>NaN</td>\n      <td>0.489312</td>\n      <td>0.078443</td>\n      <td>0.236165</td>\n      <td>0.058320</td>\n      <td>1.000000</td>\n      <td>1.000000</td>\n      <td>0.737863</td>\n      <td>0.720093</td>\n      <td>...</td>\n      <td>0.50</td>\n      <td>0.50</td>\n      <td>0.50</td>\n      <td>0.5</td>\n      <td>0.500000</td>\n      <td>0.333333</td>\n      <td>0.500000</td>\n      <td>0.333333</td>\n      <td>0.500000</td>\n      <td>0.333333</td>\n    </tr>\n    <tr>\n      <th>96</th>\n      <td>NaN</td>\n      <td>NaN</td>\n      <td>0.495490</td>\n      <td>0.973480</td>\n      <td>0.000000</td>\n      <td>0.529774</td>\n      <td>0.745781</td>\n      <td>0.717546</td>\n      <td>0.809193</td>\n      <td>0.509407</td>\n      <td>...</td>\n      <td>0.50</td>\n      <td>0.50</td>\n      <td>0.50</td>\n      <td>0.5</td>\n      <td>0.500000</td>\n      <td>0.500000</td>\n      <td>0.500000</td>\n      <td>0.500000</td>\n      <td>0.500000</td>\n      <td>0.500000</td>\n    </tr>\n    <tr>\n      <th>97</th>\n      <td>NaN</td>\n      <td>NaN</td>\n      <td>0.003752</td>\n      <td>0.533704</td>\n      <td>0.184674</td>\n      <td>0.518682</td>\n      <td>0.503133</td>\n      <td>1.000000</td>\n      <td>0.521212</td>\n      <td>0.000000</td>\n      <td>...</td>\n      <td>0.50</td>\n      <td>0.50</td>\n      <td>0.75</td>\n      <td>0.5</td>\n      <td>0.833333</td>\n      <td>0.500000</td>\n      <td>0.666667</td>\n      <td>0.500000</td>\n      <td>0.666667</td>\n      <td>0.500000</td>\n    </tr>\n    <tr>\n      <th>98</th>\n      <td>NaN</td>\n      <td>NaN</td>\n      <td>0.503010</td>\n      <td>0.833936</td>\n      <td>0.789934</td>\n      <td>0.507861</td>\n      <td>0.553869</td>\n      <td>0.495910</td>\n      <td>0.501681</td>\n      <td>0.449256</td>\n      <td>...</td>\n      <td>0.25</td>\n      <td>0.25</td>\n      <td>0.25</td>\n      <td>0.5</td>\n      <td>0.333333</td>\n      <td>0.333333</td>\n      <td>0.333333</td>\n      <td>0.333333</td>\n      <td>0.500000</td>\n      <td>0.500000</td>\n    </tr>\n  </tbody>\n</table>\n<p>5 rows × 1073 columns</p>\n</div>"
     },
     "execution_count": 19,
     "metadata": {},
     "output_type": "execute_result"
    }
   ],
   "source": [
    "print(dreamed_dataf.shape)\n",
    "dreamed_dataf.tail()"
   ],
   "metadata": {
    "collapsed": false,
    "pycharm": {
     "name": "#%%\n"
    }
   }
  },
  {
   "cell_type": "markdown",
   "source": [
    "To only get new synthetic data use `.get_synthetic_batch`.\n"
   ],
   "metadata": {
    "collapsed": false
   }
  },
  {
   "cell_type": "code",
   "execution_count": 20,
   "outputs": [
    {
     "data": {
      "text/plain": "Deepdreaming Synthetic Batches:   0%|          | 0/1 [00:00<?, ?it/s]",
      "application/vnd.jupyter.widget-view+json": {
       "version_major": 2,
       "version_minor": 0,
       "model_id": "6eadeb1eef924dbb83833bca591e8266"
      }
     },
     "metadata": {},
     "output_type": "display_data"
    }
   ],
   "source": [
    "synth_dataf = ddg.get_synthetic_batch(sample_dataf_2)"
   ],
   "metadata": {
    "collapsed": false,
    "pycharm": {
     "name": "#%%\n"
    }
   }
  },
  {
   "cell_type": "code",
   "execution_count": 21,
   "outputs": [
    {
     "name": "stdout",
     "output_type": "stream",
     "text": [
      "(99, 441)\n"
     ]
    },
    {
     "data": {
      "text/plain": "   feature_abstersive_emotional_misinterpreter  \\\n0                                     0.980046   \n1                                     0.000000   \n2                                     0.748117   \n3                                     1.000000   \n4                                     0.512845   \n\n   feature_accessorial_aroused_crochet  feature_acerb_venusian_piety  \\\n0                             0.966287                      0.470304   \n1                             0.769234                      1.000000   \n2                             0.258001                      0.332435   \n3                             0.771360                      0.331352   \n4                             0.000000                      1.000000   \n\n   feature_affricative_bromic_raftsman  feature_agile_unrespited_gaucho  \\\n0                             0.226264                         1.000000   \n1                             0.959903                         1.000000   \n2                             0.226782                         0.525298   \n3                             0.989886                         0.763909   \n4                             0.468623                         1.000000   \n\n   feature_agronomic_cryptal_advisor  feature_alkaline_pistachio_sunstone  \\\n0                           0.026557                             0.038445   \n1                           0.000000                             0.000000   \n2                           0.560887                             0.759053   \n3                           0.987742                             0.959208   \n4                           0.802032                             1.000000   \n\n   feature_altern_unnoticed_impregnation  feature_ambisexual_boiled_blunderer  \\\n0                               0.003259                             0.000000   \n1                               1.000000                             0.170611   \n2                               0.010630                             0.736156   \n3                               1.000000                             0.685517   \n4                               0.021607                             0.656746   \n\n   feature_amoebaean_wolfish_heeler  ...  target_paul_20  target_paul_60  \\\n0                          0.000000  ...            0.75             0.5   \n1                          0.752395  ...            0.50             1.0   \n2                          0.049837  ...            0.25             0.5   \n3                          0.658371  ...            0.50             0.5   \n4                          0.000000  ...            0.50             0.0   \n\n   target_george_20  target_george_60  target_william_20  target_william_60  \\\n0              0.50              0.25           0.833333           0.500000   \n1              0.25              0.75           0.500000           0.833333   \n2              0.50              0.50           0.166667           0.666667   \n3              0.25              0.50           0.500000           0.500000   \n4              0.50              0.00           0.666667           0.000000   \n\n   target_arthur_20  target_arthur_60  target_thomas_20  target_thomas_60  \n0          0.833333          0.333333          0.666667          0.333333  \n1          0.500000          0.833333          0.333333          0.666667  \n2          0.333333          0.666667          0.333333          0.666667  \n3          0.333333          0.500000          0.500000          0.500000  \n4          0.666667          0.000000          0.666667          0.166667  \n\n[5 rows x 441 columns]",
      "text/html": "<div>\n<style scoped>\n    .dataframe tbody tr th:only-of-type {\n        vertical-align: middle;\n    }\n\n    .dataframe tbody tr th {\n        vertical-align: top;\n    }\n\n    .dataframe thead th {\n        text-align: right;\n    }\n</style>\n<table border=\"1\" class=\"dataframe\">\n  <thead>\n    <tr style=\"text-align: right;\">\n      <th></th>\n      <th>feature_abstersive_emotional_misinterpreter</th>\n      <th>feature_accessorial_aroused_crochet</th>\n      <th>feature_acerb_venusian_piety</th>\n      <th>feature_affricative_bromic_raftsman</th>\n      <th>feature_agile_unrespited_gaucho</th>\n      <th>feature_agronomic_cryptal_advisor</th>\n      <th>feature_alkaline_pistachio_sunstone</th>\n      <th>feature_altern_unnoticed_impregnation</th>\n      <th>feature_ambisexual_boiled_blunderer</th>\n      <th>feature_amoebaean_wolfish_heeler</th>\n      <th>...</th>\n      <th>target_paul_20</th>\n      <th>target_paul_60</th>\n      <th>target_george_20</th>\n      <th>target_george_60</th>\n      <th>target_william_20</th>\n      <th>target_william_60</th>\n      <th>target_arthur_20</th>\n      <th>target_arthur_60</th>\n      <th>target_thomas_20</th>\n      <th>target_thomas_60</th>\n    </tr>\n  </thead>\n  <tbody>\n    <tr>\n      <th>0</th>\n      <td>0.980046</td>\n      <td>0.966287</td>\n      <td>0.470304</td>\n      <td>0.226264</td>\n      <td>1.000000</td>\n      <td>0.026557</td>\n      <td>0.038445</td>\n      <td>0.003259</td>\n      <td>0.000000</td>\n      <td>0.000000</td>\n      <td>...</td>\n      <td>0.75</td>\n      <td>0.5</td>\n      <td>0.50</td>\n      <td>0.25</td>\n      <td>0.833333</td>\n      <td>0.500000</td>\n      <td>0.833333</td>\n      <td>0.333333</td>\n      <td>0.666667</td>\n      <td>0.333333</td>\n    </tr>\n    <tr>\n      <th>1</th>\n      <td>0.000000</td>\n      <td>0.769234</td>\n      <td>1.000000</td>\n      <td>0.959903</td>\n      <td>1.000000</td>\n      <td>0.000000</td>\n      <td>0.000000</td>\n      <td>1.000000</td>\n      <td>0.170611</td>\n      <td>0.752395</td>\n      <td>...</td>\n      <td>0.50</td>\n      <td>1.0</td>\n      <td>0.25</td>\n      <td>0.75</td>\n      <td>0.500000</td>\n      <td>0.833333</td>\n      <td>0.500000</td>\n      <td>0.833333</td>\n      <td>0.333333</td>\n      <td>0.666667</td>\n    </tr>\n    <tr>\n      <th>2</th>\n      <td>0.748117</td>\n      <td>0.258001</td>\n      <td>0.332435</td>\n      <td>0.226782</td>\n      <td>0.525298</td>\n      <td>0.560887</td>\n      <td>0.759053</td>\n      <td>0.010630</td>\n      <td>0.736156</td>\n      <td>0.049837</td>\n      <td>...</td>\n      <td>0.25</td>\n      <td>0.5</td>\n      <td>0.50</td>\n      <td>0.50</td>\n      <td>0.166667</td>\n      <td>0.666667</td>\n      <td>0.333333</td>\n      <td>0.666667</td>\n      <td>0.333333</td>\n      <td>0.666667</td>\n    </tr>\n    <tr>\n      <th>3</th>\n      <td>1.000000</td>\n      <td>0.771360</td>\n      <td>0.331352</td>\n      <td>0.989886</td>\n      <td>0.763909</td>\n      <td>0.987742</td>\n      <td>0.959208</td>\n      <td>1.000000</td>\n      <td>0.685517</td>\n      <td>0.658371</td>\n      <td>...</td>\n      <td>0.50</td>\n      <td>0.5</td>\n      <td>0.25</td>\n      <td>0.50</td>\n      <td>0.500000</td>\n      <td>0.500000</td>\n      <td>0.333333</td>\n      <td>0.500000</td>\n      <td>0.500000</td>\n      <td>0.500000</td>\n    </tr>\n    <tr>\n      <th>4</th>\n      <td>0.512845</td>\n      <td>0.000000</td>\n      <td>1.000000</td>\n      <td>0.468623</td>\n      <td>1.000000</td>\n      <td>0.802032</td>\n      <td>1.000000</td>\n      <td>0.021607</td>\n      <td>0.656746</td>\n      <td>0.000000</td>\n      <td>...</td>\n      <td>0.50</td>\n      <td>0.0</td>\n      <td>0.50</td>\n      <td>0.00</td>\n      <td>0.666667</td>\n      <td>0.000000</td>\n      <td>0.666667</td>\n      <td>0.000000</td>\n      <td>0.666667</td>\n      <td>0.166667</td>\n    </tr>\n  </tbody>\n</table>\n<p>5 rows × 441 columns</p>\n</div>"
     },
     "execution_count": 21,
     "metadata": {},
     "output_type": "execute_result"
    }
   ],
   "source": [
    "print(synth_dataf.shape)\n",
    "synth_dataf.head()"
   ],
   "metadata": {
    "collapsed": false,
    "pycharm": {
     "name": "#%%\n"
    }
   }
  },
  {
   "cell_type": "markdown",
   "source": [
    "### 2.2. Improve Numerai performance with synthetic data."
   ],
   "metadata": {
    "collapsed": false
   }
  },
  {
   "cell_type": "markdown",
   "source": [
    "Now we will demonstrate that `DeepDreamGenerator` will actually lead to better validation performance when the synthetic data is mixed with the original Numerai data. We hope to see more experiments by the Numerai community with v4 data, different feature sets, etc. Hope this section makes it easy for participants to get started and to setup up your own experiments."
   ],
   "metadata": {
    "collapsed": false
   }
  },
  {
   "cell_type": "code",
   "execution_count": 22,
   "outputs": [],
   "source": [
    "import numpy as np\n",
    "import lightgbm as lgb\n",
    "\n",
    "from numerblox.preprocessing import FeatureSelectionPreProcessor\n",
    "from numerblox.evaluation import NumeraiClassicEvaluator"
   ],
   "metadata": {
    "collapsed": false,
    "pycharm": {
     "name": "#%%\n"
    }
   }
  },
  {
   "cell_type": "code",
   "execution_count": 23,
   "outputs": [],
   "source": [
    "dataf = create_numerframe(\"synth_test/numerai_training_data.parquet\")\n",
    "val_dataf = create_numerframe(\"deepdream_eval_test/numerai_validation_data.parquet\")"
   ],
   "metadata": {
    "collapsed": false,
    "pycharm": {
     "name": "#%%\n"
    }
   }
  },
  {
   "cell_type": "code",
   "execution_count": 24,
   "outputs": [],
   "source": [
    "ddg = DeepDreamGenerator(\"../test_assets/deepdream_model.h5\", batch_size=200_000)"
   ],
   "metadata": {
    "collapsed": false,
    "pycharm": {
     "name": "#%%\n"
    }
   }
  },
  {
   "cell_type": "markdown",
   "source": [
    "We will train a LightGBM model and evaluate the most common metrics for both original data and original data + ~5% synthetic data (500000 rows)."
   ],
   "metadata": {
    "collapsed": false
   }
  },
  {
   "cell_type": "code",
   "execution_count": 25,
   "outputs": [],
   "source": [
    "def train_and_evaluate(dataf: NumerFrame, val_dataf: NumerFrame, feature_names: list):\n",
    "    \"\"\" Train LightGBM model with proper parameters and evaluate. \"\"\"\n",
    "    X_train, y_train = dataf.get_feature_target_pair(multi_target=False)\n",
    "    X_val, y_val = val_dataf.get_feature_target_pair(multi_target=False)\n",
    "    lgb_model = lgb.LGBMRegressor(random_state=42, n_estimators=2000, max_depth=5,\n",
    "                                  learning_rate=.01, colsample_bytree=.1)\n",
    "    X_train = NumerFrame(X_train[feature_names])\n",
    "    X_val = NumerFrame(X_val[feature_names])\n",
    "    lgb_model.fit(X_train, y_train)\n",
    "\n",
    "    X_val['prediction'] = lgb_model.predict(X_val)\n",
    "    X_val['era'] = val_dataf['era']\n",
    "    X_val['target'] = y_val\n",
    "    X_val['random_pred'] = np.random.uniform(len(y_val))\n",
    "\n",
    "    evaluator = NumeraiClassicEvaluator(fast_mode=True)\n",
    "    results = evaluator.full_evaluation(X_val, example_col=\"random_pred\",\n",
    "                                        target_col='target', pred_cols=['prediction'])\n",
    "    return results"
   ],
   "metadata": {
    "collapsed": false,
    "pycharm": {
     "name": "#%%\n"
    }
   }
  },
  {
   "cell_type": "markdown",
   "source": [
    "As reference, We train a LightGBM model on the medium feature set with no added synthetic data."
   ],
   "metadata": {
    "collapsed": false
   }
  },
  {
   "cell_type": "code",
   "execution_count": 26,
   "outputs": [
    {
     "name": "stdout",
     "output_type": "stream",
     "text": [
      "WARNING: 'v4/fncv3_features' are not present in the DataFrame. Falling back on 'v3/medium' features.\n"
     ]
    },
    {
     "data": {
      "text/plain": "Evaluation:   0%|          | 0/1 [00:00<?, ?it/s]",
      "application/vnd.jupyter.widget-view+json": {
       "version_major": 2,
       "version_minor": 0,
       "model_id": "3ca0e54089b743c89d01820b171c8e30"
      }
     },
     "metadata": {},
     "output_type": "display_data"
    },
    {
     "name": "stderr",
     "output_type": "stream",
     "text": [
      "2022-04-21 20:49:36,220 INFO numexpr.utils: Note: NumExpr detected 16 cores but \"NUMEXPR_MAX_THREADS\" not set, so enforcing safe limit of 8.\n",
      "2022-04-21 20:49:36,222 INFO numexpr.utils: NumExpr defaulting to 8 threads.\n"
     ]
    }
   ],
   "source": [
    "results = train_and_evaluate(dataf, val_dataf, feature_names=feature_names)"
   ],
   "metadata": {
    "collapsed": false,
    "pycharm": {
     "name": "#%%\n"
    }
   }
  },
  {
   "cell_type": "markdown",
   "source": [
    "`FeatureSelectionPreProcessor` selects features and keep all other columns, like target, era and data type. We will use this to filter on the medium feature set. Then we randomly take 500000 rows to generate synthetic data on."
   ],
   "metadata": {
    "collapsed": false
   }
  },
  {
   "cell_type": "code",
   "execution_count": 27,
   "outputs": [
    {
     "data": {
      "text/plain": "✅ Finished step \u001B[1mFeatureSelectionPreProcessor\u001B[0m. Output \u001B[33mshape\u001B[0m=\u001B[1m(\u001B[0m\u001B[1;36m2412105\u001B[0m, \u001B[1;36m443\u001B[0m\u001B[1m)\u001B[0m. Time taken for \nstep: \u001B[1;34m0:00:03\u001B[0m\u001B[34m.\u001B[0m\u001B[1;34m303479\u001B[0m. ✅\n",
      "text/html": "<pre style=\"white-space:pre;overflow-x:auto;line-height:normal;font-family:Menlo,'DejaVu Sans Mono',consolas,'Courier New',monospace\">✅ Finished step <span style=\"font-weight: bold\">FeatureSelectionPreProcessor</span>. Output <span style=\"color: #808000; text-decoration-color: #808000\">shape</span>=<span style=\"font-weight: bold\">(</span><span style=\"color: #008080; text-decoration-color: #008080; font-weight: bold\">2412105</span>, <span style=\"color: #008080; text-decoration-color: #008080; font-weight: bold\">443</span><span style=\"font-weight: bold\">)</span>. Time taken for \nstep: <span style=\"color: #000080; text-decoration-color: #000080; font-weight: bold\">0:00:03</span><span style=\"color: #000080; text-decoration-color: #000080\">.</span><span style=\"color: #000080; text-decoration-color: #000080; font-weight: bold\">303479</span>. ✅\n</pre>\n"
     },
     "metadata": {},
     "output_type": "display_data"
    }
   ],
   "source": [
    "sample_dataf_dream = FeatureSelectionPreProcessor(feature_cols=feature_names)(dataf)\n",
    "sample_dataf_dream = sample_dataf_dream.sample(500_000, random_state=42)"
   ],
   "metadata": {
    "collapsed": false,
    "pycharm": {
     "name": "#%%\n"
    }
   }
  },
  {
   "cell_type": "markdown",
   "source": [
    "A simple call to the `DeepDreamGenerator` will generate a full new dataset from the input DataFrame. In this case, we generate 500000 new rows and add it to our full Numerai v3 dataset."
   ],
   "metadata": {
    "collapsed": false
   }
  },
  {
   "cell_type": "code",
   "execution_count": 28,
   "outputs": [
    {
     "data": {
      "text/plain": "Deepdreaming Synthetic Batches:   0%|          | 0/3 [00:00<?, ?it/s]",
      "application/vnd.jupyter.widget-view+json": {
       "version_major": 2,
       "version_minor": 0,
       "model_id": "16b9b2ca6ff64770aff6c09480efba13"
      }
     },
     "metadata": {},
     "output_type": "display_data"
    }
   ],
   "source": [
    "sample_dream_dataf = ddg.get_synthetic_batch(sample_dataf_dream)\n",
    "dream_dataf = pd.concat([dataf, sample_dream_dataf])"
   ],
   "metadata": {
    "collapsed": false,
    "pycharm": {
     "name": "#%%\n"
    }
   }
  },
  {
   "cell_type": "markdown",
   "source": [
    "Now let's train on the full dataset again with 500000 additional synthetic rows and compare results."
   ],
   "metadata": {
    "collapsed": false
   }
  },
  {
   "cell_type": "code",
   "execution_count": 29,
   "outputs": [
    {
     "name": "stdout",
     "output_type": "stream",
     "text": [
      "WARNING: 'v4/fncv3_features' are not present in the DataFrame. Falling back on 'v3/medium' features.\n"
     ]
    },
    {
     "data": {
      "text/plain": "Evaluation:   0%|          | 0/1 [00:00<?, ?it/s]",
      "application/vnd.jupyter.widget-view+json": {
       "version_major": 2,
       "version_minor": 0,
       "model_id": "c789ec15212440d1a1c430790edc70b9"
      }
     },
     "metadata": {},
     "output_type": "display_data"
    }
   ],
   "source": [
    "dream_results = train_and_evaluate(dream_dataf, val_dataf,\n",
    "                                   feature_names=feature_names)"
   ],
   "metadata": {
    "collapsed": false,
    "pycharm": {
     "name": "#%%\n"
    }
   }
  },
  {
   "cell_type": "code",
   "execution_count": 30,
   "outputs": [
    {
     "data": {
      "text/plain": "            target      mean       std    sharpe  max_drawdown         apy  \\\nprediction  target  0.020226  0.032328  0.625658     -0.192148  155.268204   \n\n            mmc_mean   mmc_std  mmc_sharpe  corr_with_example_preds  \nprediction  0.015526  0.024817     0.62565             3.625922e-18  ",
      "text/html": "<div>\n<style scoped>\n    .dataframe tbody tr th:only-of-type {\n        vertical-align: middle;\n    }\n\n    .dataframe tbody tr th {\n        vertical-align: top;\n    }\n\n    .dataframe thead th {\n        text-align: right;\n    }\n</style>\n<table border=\"1\" class=\"dataframe\">\n  <thead>\n    <tr style=\"text-align: right;\">\n      <th></th>\n      <th>target</th>\n      <th>mean</th>\n      <th>std</th>\n      <th>sharpe</th>\n      <th>max_drawdown</th>\n      <th>apy</th>\n      <th>mmc_mean</th>\n      <th>mmc_std</th>\n      <th>mmc_sharpe</th>\n      <th>corr_with_example_preds</th>\n    </tr>\n  </thead>\n  <tbody>\n    <tr>\n      <th>prediction</th>\n      <td>target</td>\n      <td>0.020226</td>\n      <td>0.032328</td>\n      <td>0.625658</td>\n      <td>-0.192148</td>\n      <td>155.268204</td>\n      <td>0.015526</td>\n      <td>0.024817</td>\n      <td>0.62565</td>\n      <td>3.625922e-18</td>\n    </tr>\n  </tbody>\n</table>\n</div>"
     },
     "execution_count": 30,
     "metadata": {},
     "output_type": "execute_result"
    }
   ],
   "source": [
    "results"
   ],
   "metadata": {
    "collapsed": false,
    "pycharm": {
     "name": "#%%\n"
    }
   }
  },
  {
   "cell_type": "code",
   "execution_count": 31,
   "outputs": [
    {
     "data": {
      "text/plain": "            target      mean       std    sharpe  max_drawdown         apy  \\\nprediction  target  0.020592  0.030987  0.664546     -0.182301  160.191965   \n\n            mmc_mean   mmc_std  mmc_sharpe  corr_with_example_preds  \nprediction  0.015807  0.023788    0.664535             5.389646e-18  ",
      "text/html": "<div>\n<style scoped>\n    .dataframe tbody tr th:only-of-type {\n        vertical-align: middle;\n    }\n\n    .dataframe tbody tr th {\n        vertical-align: top;\n    }\n\n    .dataframe thead th {\n        text-align: right;\n    }\n</style>\n<table border=\"1\" class=\"dataframe\">\n  <thead>\n    <tr style=\"text-align: right;\">\n      <th></th>\n      <th>target</th>\n      <th>mean</th>\n      <th>std</th>\n      <th>sharpe</th>\n      <th>max_drawdown</th>\n      <th>apy</th>\n      <th>mmc_mean</th>\n      <th>mmc_std</th>\n      <th>mmc_sharpe</th>\n      <th>corr_with_example_preds</th>\n    </tr>\n  </thead>\n  <tbody>\n    <tr>\n      <th>prediction</th>\n      <td>target</td>\n      <td>0.020592</td>\n      <td>0.030987</td>\n      <td>0.664546</td>\n      <td>-0.182301</td>\n      <td>160.191965</td>\n      <td>0.015807</td>\n      <td>0.023788</td>\n      <td>0.664535</td>\n      <td>5.389646e-18</td>\n    </tr>\n  </tbody>\n</table>\n</div>"
     },
     "execution_count": 31,
     "metadata": {},
     "output_type": "execute_result"
    }
   ],
   "source": [
    "dream_results"
   ],
   "metadata": {
    "collapsed": false,
    "pycharm": {
     "name": "#%%\n"
    }
   }
  },
  {
   "cell_type": "markdown",
   "source": [
    "Note that with the added synthetic data the mean correlation improves, along with a higher Sharpe and lower max. drawdown. There seems to be a sweet spot when mixing in synthetic data. Add too little and no significant improvement occurs, but adding too much synthetic data can also hurt performance. You can play with this for yourself. Also try to adjust the `steps` and `step_size` parameters in `DeepDreamGenerator`."
   ],
   "metadata": {
    "collapsed": false
   }
  },
  {
   "cell_type": "markdown",
   "source": [
    "## 3. UMAPFeatureGenerator"
   ],
   "metadata": {
    "collapsed": false
   }
  },
  {
   "cell_type": "markdown",
   "source": [
    "UMAP is a feature reduction technique that can be used to generate synthetic features. In other words, we create new representations of the existing features and add them to our dataset.\n",
    "\n",
    "We will perform UMAP on the training and validation data combined. Note that the data created with `DeepDreamGenerator` is included in this dataset. Then, once again we train a model on it and evaluate results."
   ],
   "metadata": {
    "collapsed": false
   }
  },
  {
   "cell_type": "code",
   "execution_count": 2,
   "outputs": [],
   "source": [
    "from numerblox.preprocessing import UMAPFeatureGenerator"
   ],
   "metadata": {
    "collapsed": false,
    "pycharm": {
     "name": "#%%\n"
    }
   }
  },
  {
   "cell_type": "markdown",
   "source": [
    "`n_components` denotes the amount of additional features we are generating."
   ],
   "metadata": {
    "collapsed": false
   }
  },
  {
   "cell_type": "code",
   "execution_count": 8,
   "outputs": [],
   "source": [
    "n_components = 3\n",
    "umap_gen = UMAPFeatureGenerator(n_components=n_components, n_neighbors=9)"
   ],
   "metadata": {
    "collapsed": false,
    "pycharm": {
     "name": "#%%\n"
    }
   }
  },
  {
   "cell_type": "code",
   "execution_count": 9,
   "outputs": [],
   "source": [
    "test_data = create_numerframe(\"../test_assets/mini_numerai_version_2_data.parquet\")"
   ],
   "metadata": {
    "collapsed": false,
    "pycharm": {
     "name": "#%%\n"
    }
   }
  },
  {
   "cell_type": "code",
   "execution_count": 10,
   "outputs": [],
   "source": [
    "test_data = umap_gen(test_data)"
   ],
   "metadata": {
    "collapsed": false,
    "pycharm": {
     "name": "#%%\n"
    }
   }
  },
  {
   "cell_type": "markdown",
   "source": [
    "The new features follow the naming convention `f\"feature_umap_{i}\"`. All new components are scaled between 0 and 1."
   ],
   "metadata": {
    "collapsed": false
   }
  },
  {
   "cell_type": "code",
   "execution_count": 12,
   "outputs": [
    {
     "data": {
      "text/plain": "                  feature_umap_0  feature_umap_1  feature_umap_2\nid                                                              \nn559bd06a8861222        0.246624        0.012207        0.442357\nn9d39dea58c9e3cf        0.000000        0.366376        0.369261\nnb64f06d3a9fc9f1        0.381389        0.938119        0.876069",
      "text/html": "<div>\n<style scoped>\n    .dataframe tbody tr th:only-of-type {\n        vertical-align: middle;\n    }\n\n    .dataframe tbody tr th {\n        vertical-align: top;\n    }\n\n    .dataframe thead th {\n        text-align: right;\n    }\n</style>\n<table border=\"1\" class=\"dataframe\">\n  <thead>\n    <tr style=\"text-align: right;\">\n      <th></th>\n      <th>feature_umap_0</th>\n      <th>feature_umap_1</th>\n      <th>feature_umap_2</th>\n    </tr>\n    <tr>\n      <th>id</th>\n      <th></th>\n      <th></th>\n      <th></th>\n    </tr>\n  </thead>\n  <tbody>\n    <tr>\n      <th>n559bd06a8861222</th>\n      <td>0.246624</td>\n      <td>0.012207</td>\n      <td>0.442357</td>\n    </tr>\n    <tr>\n      <th>n9d39dea58c9e3cf</th>\n      <td>0.000000</td>\n      <td>0.366376</td>\n      <td>0.369261</td>\n    </tr>\n    <tr>\n      <th>nb64f06d3a9fc9f1</th>\n      <td>0.381389</td>\n      <td>0.938119</td>\n      <td>0.876069</td>\n    </tr>\n  </tbody>\n</table>\n</div>"
     },
     "execution_count": 12,
     "metadata": {},
     "output_type": "execute_result"
    }
   ],
   "source": [
    "umap_features = [f\"feature_umap_{i}\" for i in range(n_components)]\n",
    "test_data[umap_features].head(3)"
   ],
   "metadata": {
    "collapsed": false,
    "pycharm": {
     "name": "#%%\n"
    }
   }
  },
  {
   "cell_type": "markdown",
   "source": [
    "Contrast this with the deep dream results."
   ],
   "metadata": {
    "collapsed": false
   }
  },
  {
   "cell_type": "markdown",
   "source": [
    "After you're done all the downloaded files can be cleaned up with `.remove_base_directory()`."
   ],
   "metadata": {
    "collapsed": false
   }
  },
  {
   "cell_type": "code",
   "execution_count": null,
   "outputs": [],
   "source": [
    "# Clean up environment\n",
    "dl.remove_base_directory()"
   ],
   "metadata": {
    "collapsed": false,
    "pycharm": {
     "name": "#%%\n"
    }
   }
  }
 ],
 "metadata": {
  "kernelspec": {
   "display_name": "Python 3",
   "language": "python",
   "name": "python3"
  },
  "language_info": {
   "codemirror_mode": {
    "name": "ipython",
    "version": 2
   },
   "file_extension": ".py",
   "mimetype": "text/x-python",
   "name": "python",
   "nbconvert_exporter": "python",
   "pygments_lexer": "ipython2",
   "version": "2.7.6"
  }
 },
 "nbformat": 4,
 "nbformat_minor": 0
}