{
 "cells": [
  {
   "cell_type": "code",
   "execution_count": 16,
   "outputs": [],
   "source": [
    "# hide\n",
    "from nbdev.showdoc import *"
   ],
   "metadata": {
    "collapsed": false,
    "pycharm": {
     "name": "#%%\n"
    }
   }
  },
  {
   "cell_type": "markdown",
   "source": [
    "# Synthetic Data Generation with NumerBlox"
   ],
   "metadata": {
    "collapsed": false
   }
  },
  {
   "cell_type": "markdown",
   "source": [
    "This example notebook covers ways to generate synthetic data using `numerblox` components. Synthetic data can be a great way to improve performance simply by having more representative data. We will both cover ways to generate synthetic target variables and features."
   ],
   "metadata": {
    "collapsed": false
   }
  },
  {
   "cell_type": "markdown",
   "source": [
    "## 0. Download and load"
   ],
   "metadata": {
    "collapsed": false
   }
  },
  {
   "cell_type": "code",
   "execution_count": 17,
   "outputs": [],
   "source": [
    "from numerblox.download import NumeraiClassicDownloader\n",
    "from numerblox.numerframe import create_numerframe, NumerFrame"
   ],
   "metadata": {
    "collapsed": false,
    "pycharm": {
     "name": "#%%\n"
    }
   }
  },
  {
   "cell_type": "code",
   "execution_count": 18,
   "metadata": {
    "collapsed": true
   },
   "outputs": [
    {
     "data": {
      "text/plain": "📁 \u001B[32mDownloading\u001B[0m \u001B[32m'v3/numerai_training_data.parquet'\u001B[0m 📁\n",
      "text/html": "<pre style=\"white-space:pre;overflow-x:auto;line-height:normal;font-family:Menlo,'DejaVu Sans Mono',consolas,'Courier New',monospace\">📁 <span style=\"color: #008000; text-decoration-color: #008000\">Downloading</span> <span style=\"color: #008000; text-decoration-color: #008000\">'v3/numerai_training_data.parquet'</span> 📁\n</pre>\n"
     },
     "metadata": {},
     "output_type": "display_data"
    },
    {
     "name": "stderr",
     "output_type": "stream",
     "text": [
      "2022-04-19 12:30:26,420 INFO numerapi.utils: target file already exists\n",
      "2022-04-19 12:30:26,421 INFO numerapi.utils: download complete\n"
     ]
    },
    {
     "data": {
      "text/plain": "📁 \u001B[32mDownloading\u001B[0m \u001B[32m'v3/numerai_validation_data.parquet'\u001B[0m 📁\n",
      "text/html": "<pre style=\"white-space:pre;overflow-x:auto;line-height:normal;font-family:Menlo,'DejaVu Sans Mono',consolas,'Courier New',monospace\">📁 <span style=\"color: #008000; text-decoration-color: #008000\">Downloading</span> <span style=\"color: #008000; text-decoration-color: #008000\">'v3/numerai_validation_data.parquet'</span> 📁\n</pre>\n"
     },
     "metadata": {},
     "output_type": "display_data"
    },
    {
     "name": "stderr",
     "output_type": "stream",
     "text": [
      "2022-04-19 12:30:27,681 INFO numerapi.utils: target file already exists\n",
      "2022-04-19 12:30:27,683 INFO numerapi.utils: download complete\n"
     ]
    }
   ],
   "source": [
    "dl = NumeraiClassicDownloader(directory_path=\"synth_test\")\n",
    "dl.download_training_data(version=3)"
   ]
  },
  {
   "cell_type": "code",
   "execution_count": 19,
   "outputs": [],
   "source": [
    "dataf = create_numerframe(\"synth_test/numerai_training_data.parquet\")"
   ],
   "metadata": {
    "collapsed": false,
    "pycharm": {
     "name": "#%%\n"
    }
   }
  },
  {
   "cell_type": "code",
   "execution_count": 20,
   "outputs": [
    {
     "data": {
      "text/plain": "                   era data_type  feature_dichasial_hammier_spawner  \\\nid                                                                    \nn003bba8a98662e4  0001     train                                1.0   \nn003bee128c2fcfc  0001     train                                0.5   \n\n                  feature_rheumy_epistemic_prancer  \\\nid                                                   \nn003bba8a98662e4                               0.5   \nn003bee128c2fcfc                               1.0   \n\n                  feature_pert_performative_hormuz  \\\nid                                                   \nn003bba8a98662e4                              1.00   \nn003bee128c2fcfc                              0.25   \n\n                  feature_hillier_unpitied_theobromine  \\\nid                                                       \nn003bba8a98662e4                                  1.00   \nn003bee128c2fcfc                                  0.75   \n\n                  feature_perigean_bewitching_thruster  \\\nid                                                       \nn003bba8a98662e4                                   0.0   \nn003bee128c2fcfc                                   0.0   \n\n                  feature_renegade_undomestic_milord  \\\nid                                                     \nn003bba8a98662e4                                0.00   \nn003bee128c2fcfc                                0.75   \n\n                  feature_koranic_rude_corf  \\\nid                                            \nn003bba8a98662e4                        1.0   \nn003bee128c2fcfc                        0.5   \n\n                  feature_demisable_expiring_millepede  ...  target_paul_20  \\\nid                                                      ...                   \nn003bba8a98662e4                                  1.00  ...            0.25   \nn003bee128c2fcfc                                  0.75  ...            1.00   \n\n                  target_paul_60  target_george_20  target_george_60  \\\nid                                                                     \nn003bba8a98662e4            0.25              0.25               0.0   \nn003bee128c2fcfc            1.00              1.00               1.0   \n\n                  target_william_20  target_william_60  target_arthur_20  \\\nid                                                                         \nn003bba8a98662e4           0.166667           0.000000          0.166667   \nn003bee128c2fcfc           0.833333           0.666667          0.833333   \n\n                  target_arthur_60  target_thomas_20  target_thomas_60  \nid                                                                      \nn003bba8a98662e4          0.000000          0.166667          0.000000  \nn003bee128c2fcfc          0.666667          0.833333          0.666667  \n\n[2 rows x 1073 columns]",
      "text/html": "<div>\n<style scoped>\n    .dataframe tbody tr th:only-of-type {\n        vertical-align: middle;\n    }\n\n    .dataframe tbody tr th {\n        vertical-align: top;\n    }\n\n    .dataframe thead th {\n        text-align: right;\n    }\n</style>\n<table border=\"1\" class=\"dataframe\">\n  <thead>\n    <tr style=\"text-align: right;\">\n      <th></th>\n      <th>era</th>\n      <th>data_type</th>\n      <th>feature_dichasial_hammier_spawner</th>\n      <th>feature_rheumy_epistemic_prancer</th>\n      <th>feature_pert_performative_hormuz</th>\n      <th>feature_hillier_unpitied_theobromine</th>\n      <th>feature_perigean_bewitching_thruster</th>\n      <th>feature_renegade_undomestic_milord</th>\n      <th>feature_koranic_rude_corf</th>\n      <th>feature_demisable_expiring_millepede</th>\n      <th>...</th>\n      <th>target_paul_20</th>\n      <th>target_paul_60</th>\n      <th>target_george_20</th>\n      <th>target_george_60</th>\n      <th>target_william_20</th>\n      <th>target_william_60</th>\n      <th>target_arthur_20</th>\n      <th>target_arthur_60</th>\n      <th>target_thomas_20</th>\n      <th>target_thomas_60</th>\n    </tr>\n    <tr>\n      <th>id</th>\n      <th></th>\n      <th></th>\n      <th></th>\n      <th></th>\n      <th></th>\n      <th></th>\n      <th></th>\n      <th></th>\n      <th></th>\n      <th></th>\n      <th></th>\n      <th></th>\n      <th></th>\n      <th></th>\n      <th></th>\n      <th></th>\n      <th></th>\n      <th></th>\n      <th></th>\n      <th></th>\n      <th></th>\n    </tr>\n  </thead>\n  <tbody>\n    <tr>\n      <th>n003bba8a98662e4</th>\n      <td>0001</td>\n      <td>train</td>\n      <td>1.0</td>\n      <td>0.5</td>\n      <td>1.00</td>\n      <td>1.00</td>\n      <td>0.0</td>\n      <td>0.00</td>\n      <td>1.0</td>\n      <td>1.00</td>\n      <td>...</td>\n      <td>0.25</td>\n      <td>0.25</td>\n      <td>0.25</td>\n      <td>0.0</td>\n      <td>0.166667</td>\n      <td>0.000000</td>\n      <td>0.166667</td>\n      <td>0.000000</td>\n      <td>0.166667</td>\n      <td>0.000000</td>\n    </tr>\n    <tr>\n      <th>n003bee128c2fcfc</th>\n      <td>0001</td>\n      <td>train</td>\n      <td>0.5</td>\n      <td>1.0</td>\n      <td>0.25</td>\n      <td>0.75</td>\n      <td>0.0</td>\n      <td>0.75</td>\n      <td>0.5</td>\n      <td>0.75</td>\n      <td>...</td>\n      <td>1.00</td>\n      <td>1.00</td>\n      <td>1.00</td>\n      <td>1.0</td>\n      <td>0.833333</td>\n      <td>0.666667</td>\n      <td>0.833333</td>\n      <td>0.666667</td>\n      <td>0.833333</td>\n      <td>0.666667</td>\n    </tr>\n  </tbody>\n</table>\n<p>2 rows × 1073 columns</p>\n</div>"
     },
     "execution_count": 20,
     "metadata": {},
     "output_type": "execute_result"
    }
   ],
   "source": [
    "dataf.head(2)"
   ],
   "metadata": {
    "collapsed": false,
    "pycharm": {
     "name": "#%%\n"
    }
   }
  },
  {
   "cell_type": "markdown",
   "source": [
    "## 1. Synthetic target (Bayesian GMM)"
   ],
   "metadata": {
    "collapsed": false
   }
  },
  {
   "cell_type": "markdown",
   "source": [
    "First we will tackle the problem of creating a synthetic target column to improve model performance. `BayesianGMMTargetProcessor` allows you to generate a new target variable based on a given target. The preprocessor sample the target from a [Bayesian Gaussian Mixture model](https://scikit-learn.org/stable/modules/generated/sklearn.mixture.BayesianGaussianMixture.html) which is fitted on coefficients from a [regularized linear model (Ridge regression)](https://scikit-learn.org/stable/modules/generated/sklearn.linear_model.Ridge.html).\n",
    "\n",
    "This implementation is based on a [Github Gist by Michael Oliver (mdo)](https://gist.github.com/the-moliver/dcdd2862dc2c78dda600f1b449071c93)."
   ],
   "metadata": {
    "collapsed": false
   }
  },
  {
   "cell_type": "code",
   "execution_count": 21,
   "outputs": [],
   "source": [
    "from numerblox.preprocessing import BayesianGMMTargetProcessor"
   ],
   "metadata": {
    "collapsed": false,
    "pycharm": {
     "name": "#%%\n"
    }
   }
  },
  {
   "cell_type": "code",
   "execution_count": 22,
   "outputs": [
    {
     "data": {
      "text/plain": "<IPython.core.display.Markdown object>",
      "text/markdown": "<h2 id=\"BayesianGMMTargetProcessor\" class=\"doc_header\"><code>class</code> <code>BayesianGMMTargetProcessor</code><a href=\"https://github.com/crowdcent/numerblox/tree/master/numerblox/preprocessing.py#L258\" class=\"source_link\" style=\"float:right\">[source]</a></h2>\n\n> <code>BayesianGMMTargetProcessor</code>(**`target_col`**:`str`=*`'target'`*, **`n_components`**:`int`=*`6`*) :: [`BaseProcessor`](/numerbloxpreprocessing.html#BaseProcessor)\n\nGenerate synthetic (fake) target using a Bayesian Gaussian Mixture model. \n\nBased on Michael Oliver's GitHub Gist implementation: \n\nhttps://gist.github.com/the-moliver/dcdd2862dc2c78dda600f1b449071c93\n\n:param target_col: Column from which to create fake target. \n\n:param n_components: Number of components for fitting Bayesian Gaussian Mixture Model."
     },
     "metadata": {},
     "output_type": "display_data"
    }
   ],
   "source": [
    "show_doc(BayesianGMMTargetProcessor)"
   ],
   "metadata": {
    "collapsed": false,
    "pycharm": {
     "name": "#%%\n"
    }
   }
  },
  {
   "cell_type": "code",
   "execution_count": 23,
   "outputs": [
    {
     "data": {
      "text/plain": "                   era data_type  feature_dichasial_hammier_spawner  \\\nid                                                                    \nn003bba8a98662e4  0001     train                                1.0   \nn003bee128c2fcfc  0001     train                                0.5   \nn0048ac83aff7194  0001     train                                0.5   \nn00691bec80d3e02  0001     train                                1.0   \nn00b8720a2fdc4f2  0001     train                                1.0   \n\n                  feature_rheumy_epistemic_prancer  \\\nid                                                   \nn003bba8a98662e4                              0.50   \nn003bee128c2fcfc                              1.00   \nn0048ac83aff7194                              0.25   \nn00691bec80d3e02                              0.50   \nn00b8720a2fdc4f2                              0.75   \n\n                  feature_pert_performative_hormuz  \\\nid                                                   \nn003bba8a98662e4                              1.00   \nn003bee128c2fcfc                              0.25   \nn0048ac83aff7194                              0.75   \nn00691bec80d3e02                              0.50   \nn00b8720a2fdc4f2                              1.00   \n\n                  feature_hillier_unpitied_theobromine  \\\nid                                                       \nn003bba8a98662e4                                  1.00   \nn003bee128c2fcfc                                  0.75   \nn0048ac83aff7194                                  0.00   \nn00691bec80d3e02                                  0.75   \nn00b8720a2fdc4f2                                  1.00   \n\n                  feature_perigean_bewitching_thruster  \\\nid                                                       \nn003bba8a98662e4                                  0.00   \nn003bee128c2fcfc                                  0.00   \nn0048ac83aff7194                                  0.75   \nn00691bec80d3e02                                  0.00   \nn00b8720a2fdc4f2                                  0.00   \n\n                  feature_renegade_undomestic_milord  \\\nid                                                     \nn003bba8a98662e4                                0.00   \nn003bee128c2fcfc                                0.75   \nn0048ac83aff7194                                0.00   \nn00691bec80d3e02                                1.00   \nn00b8720a2fdc4f2                                0.00   \n\n                  feature_koranic_rude_corf  \\\nid                                            \nn003bba8a98662e4                       1.00   \nn003bee128c2fcfc                       0.50   \nn0048ac83aff7194                       0.75   \nn00691bec80d3e02                       0.25   \nn00b8720a2fdc4f2                       1.00   \n\n                  feature_demisable_expiring_millepede  ...  target_paul_20  \\\nid                                                      ...                   \nn003bba8a98662e4                                  1.00  ...            0.25   \nn003bee128c2fcfc                                  0.75  ...            1.00   \nn0048ac83aff7194                                  0.75  ...            0.50   \nn00691bec80d3e02                                  1.00  ...            0.50   \nn00b8720a2fdc4f2                                  0.50  ...            0.50   \n\n                  target_paul_60  target_george_20  target_george_60  \\\nid                                                                     \nn003bba8a98662e4            0.25              0.25              0.00   \nn003bee128c2fcfc            1.00              1.00              1.00   \nn0048ac83aff7194            0.25              0.25              0.25   \nn00691bec80d3e02            0.50              0.50              0.50   \nn00b8720a2fdc4f2            0.50              0.50              0.50   \n\n                  target_william_20  target_william_60  target_arthur_20  \\\nid                                                                         \nn003bba8a98662e4           0.166667           0.000000          0.166667   \nn003bee128c2fcfc           0.833333           0.666667          0.833333   \nn0048ac83aff7194           0.500000           0.333333          0.500000   \nn00691bec80d3e02           0.666667           0.500000          0.500000   \nn00b8720a2fdc4f2           0.666667           0.500000          0.500000   \n\n                  target_arthur_60  target_thomas_20  target_thomas_60  \nid                                                                      \nn003bba8a98662e4          0.000000          0.166667          0.000000  \nn003bee128c2fcfc          0.666667          0.833333          0.666667  \nn0048ac83aff7194          0.333333          0.500000          0.333333  \nn00691bec80d3e02          0.500000          0.666667          0.500000  \nn00b8720a2fdc4f2          0.500000          0.666667          0.500000  \n\n[5 rows x 1073 columns]",
      "text/html": "<div>\n<style scoped>\n    .dataframe tbody tr th:only-of-type {\n        vertical-align: middle;\n    }\n\n    .dataframe tbody tr th {\n        vertical-align: top;\n    }\n\n    .dataframe thead th {\n        text-align: right;\n    }\n</style>\n<table border=\"1\" class=\"dataframe\">\n  <thead>\n    <tr style=\"text-align: right;\">\n      <th></th>\n      <th>era</th>\n      <th>data_type</th>\n      <th>feature_dichasial_hammier_spawner</th>\n      <th>feature_rheumy_epistemic_prancer</th>\n      <th>feature_pert_performative_hormuz</th>\n      <th>feature_hillier_unpitied_theobromine</th>\n      <th>feature_perigean_bewitching_thruster</th>\n      <th>feature_renegade_undomestic_milord</th>\n      <th>feature_koranic_rude_corf</th>\n      <th>feature_demisable_expiring_millepede</th>\n      <th>...</th>\n      <th>target_paul_20</th>\n      <th>target_paul_60</th>\n      <th>target_george_20</th>\n      <th>target_george_60</th>\n      <th>target_william_20</th>\n      <th>target_william_60</th>\n      <th>target_arthur_20</th>\n      <th>target_arthur_60</th>\n      <th>target_thomas_20</th>\n      <th>target_thomas_60</th>\n    </tr>\n    <tr>\n      <th>id</th>\n      <th></th>\n      <th></th>\n      <th></th>\n      <th></th>\n      <th></th>\n      <th></th>\n      <th></th>\n      <th></th>\n      <th></th>\n      <th></th>\n      <th></th>\n      <th></th>\n      <th></th>\n      <th></th>\n      <th></th>\n      <th></th>\n      <th></th>\n      <th></th>\n      <th></th>\n      <th></th>\n      <th></th>\n    </tr>\n  </thead>\n  <tbody>\n    <tr>\n      <th>n003bba8a98662e4</th>\n      <td>0001</td>\n      <td>train</td>\n      <td>1.0</td>\n      <td>0.50</td>\n      <td>1.00</td>\n      <td>1.00</td>\n      <td>0.00</td>\n      <td>0.00</td>\n      <td>1.00</td>\n      <td>1.00</td>\n      <td>...</td>\n      <td>0.25</td>\n      <td>0.25</td>\n      <td>0.25</td>\n      <td>0.00</td>\n      <td>0.166667</td>\n      <td>0.000000</td>\n      <td>0.166667</td>\n      <td>0.000000</td>\n      <td>0.166667</td>\n      <td>0.000000</td>\n    </tr>\n    <tr>\n      <th>n003bee128c2fcfc</th>\n      <td>0001</td>\n      <td>train</td>\n      <td>0.5</td>\n      <td>1.00</td>\n      <td>0.25</td>\n      <td>0.75</td>\n      <td>0.00</td>\n      <td>0.75</td>\n      <td>0.50</td>\n      <td>0.75</td>\n      <td>...</td>\n      <td>1.00</td>\n      <td>1.00</td>\n      <td>1.00</td>\n      <td>1.00</td>\n      <td>0.833333</td>\n      <td>0.666667</td>\n      <td>0.833333</td>\n      <td>0.666667</td>\n      <td>0.833333</td>\n      <td>0.666667</td>\n    </tr>\n    <tr>\n      <th>n0048ac83aff7194</th>\n      <td>0001</td>\n      <td>train</td>\n      <td>0.5</td>\n      <td>0.25</td>\n      <td>0.75</td>\n      <td>0.00</td>\n      <td>0.75</td>\n      <td>0.00</td>\n      <td>0.75</td>\n      <td>0.75</td>\n      <td>...</td>\n      <td>0.50</td>\n      <td>0.25</td>\n      <td>0.25</td>\n      <td>0.25</td>\n      <td>0.500000</td>\n      <td>0.333333</td>\n      <td>0.500000</td>\n      <td>0.333333</td>\n      <td>0.500000</td>\n      <td>0.333333</td>\n    </tr>\n    <tr>\n      <th>n00691bec80d3e02</th>\n      <td>0001</td>\n      <td>train</td>\n      <td>1.0</td>\n      <td>0.50</td>\n      <td>0.50</td>\n      <td>0.75</td>\n      <td>0.00</td>\n      <td>1.00</td>\n      <td>0.25</td>\n      <td>1.00</td>\n      <td>...</td>\n      <td>0.50</td>\n      <td>0.50</td>\n      <td>0.50</td>\n      <td>0.50</td>\n      <td>0.666667</td>\n      <td>0.500000</td>\n      <td>0.500000</td>\n      <td>0.500000</td>\n      <td>0.666667</td>\n      <td>0.500000</td>\n    </tr>\n    <tr>\n      <th>n00b8720a2fdc4f2</th>\n      <td>0001</td>\n      <td>train</td>\n      <td>1.0</td>\n      <td>0.75</td>\n      <td>1.00</td>\n      <td>1.00</td>\n      <td>0.00</td>\n      <td>0.00</td>\n      <td>1.00</td>\n      <td>0.50</td>\n      <td>...</td>\n      <td>0.50</td>\n      <td>0.50</td>\n      <td>0.50</td>\n      <td>0.50</td>\n      <td>0.666667</td>\n      <td>0.500000</td>\n      <td>0.500000</td>\n      <td>0.500000</td>\n      <td>0.666667</td>\n      <td>0.500000</td>\n    </tr>\n  </tbody>\n</table>\n<p>5 rows × 1073 columns</p>\n</div>"
     },
     "execution_count": 23,
     "metadata": {},
     "output_type": "execute_result"
    }
   ],
   "source": [
    "dataf.head()"
   ],
   "metadata": {
    "collapsed": false,
    "pycharm": {
     "name": "#%%\n"
    }
   }
  },
  {
   "cell_type": "code",
   "execution_count": 24,
   "outputs": [
    {
     "data": {
      "text/plain": "Generating fake target:   0%|          | 0/91 [00:00<?, ?it/s]",
      "application/vnd.jupyter.widget-view+json": {
       "version_major": 2,
       "version_minor": 0,
       "model_id": "6a87ef4626fe42bba58b961fb971e279"
      }
     },
     "metadata": {},
     "output_type": "display_data"
    },
    {
     "data": {
      "text/plain": "✅ Finished step \u001B[1mBayesianGMMTargetProcessor\u001B[0m. Output \u001B[33mshape\u001B[0m=\u001B[1m(\u001B[0m\u001B[1;36m100\u001B[0m, \u001B[1;36m8\u001B[0m\u001B[1m)\u001B[0m. Time taken for step: \n\u001B[1;34m0:00:00\u001B[0m\u001B[34m.\u001B[0m\u001B[1;34m910401\u001B[0m. ✅\n",
      "text/html": "<pre style=\"white-space:pre;overflow-x:auto;line-height:normal;font-family:Menlo,'DejaVu Sans Mono',consolas,'Courier New',monospace\">✅ Finished step <span style=\"font-weight: bold\">BayesianGMMTargetProcessor</span>. Output <span style=\"color: #808000; text-decoration-color: #808000\">shape</span>=<span style=\"font-weight: bold\">(</span><span style=\"color: #008080; text-decoration-color: #008080; font-weight: bold\">100</span>, <span style=\"color: #008080; text-decoration-color: #008080; font-weight: bold\">8</span><span style=\"font-weight: bold\">)</span>. Time taken for step: \n<span style=\"color: #000080; text-decoration-color: #000080; font-weight: bold\">0:00:00</span><span style=\"color: #000080; text-decoration-color: #000080\">.</span><span style=\"color: #000080; text-decoration-color: #000080; font-weight: bold\">910401</span>. ✅\n</pre>\n"
     },
     "metadata": {},
     "output_type": "display_data"
    }
   ],
   "source": [
    "bgmm = BayesianGMMTargetProcessor(target_col=\"target_nomi_20\")\n",
    "test_columns = ['era', 'data_type', 'feature_dichasial_hammier_spawner',\n",
    "                'feature_rheumy_epistemic_prancer', 'target',\n",
    "                'target_nomi_20', 'target_paul_20']\n",
    "sample_dataf = NumerFrame(dataf[test_columns].sample(100).fillna(0.5))\n",
    "fake_dataf = bgmm(sample_dataf)"
   ],
   "metadata": {
    "collapsed": false,
    "pycharm": {
     "name": "#%%\n"
    }
   }
  },
  {
   "cell_type": "code",
   "execution_count": 25,
   "outputs": [
    {
     "data": {
      "text/plain": "                   era data_type  feature_dichasial_hammier_spawner  \\\nid                                                                    \nne87a484dba54b55  0278     train                               0.50   \nn7e246122dd0b76f  0562     train                               1.00   \nn9f667bd2c4387e2  0557     train                               0.00   \nnd4ff4b599aa37ab  0378     train                               0.25   \nn4afc6dfde83eb35  0498     train                               0.75   \n\n                  feature_rheumy_epistemic_prancer  target  target_nomi_20  \\\nid                                                                           \nne87a484dba54b55                              0.75    0.50            0.50   \nn7e246122dd0b76f                              0.75    0.50            0.50   \nn9f667bd2c4387e2                              0.00    0.75            0.75   \nnd4ff4b599aa37ab                              0.50    0.25            0.25   \nn4afc6dfde83eb35                              0.75    0.50            0.50   \n\n                  target_paul_20  target_nomi_20_fake  \nid                                                     \nne87a484dba54b55            0.50                 0.50  \nn7e246122dd0b76f            0.50                 0.50  \nn9f667bd2c4387e2            0.50                 0.50  \nnd4ff4b599aa37ab            0.25                 0.75  \nn4afc6dfde83eb35            0.50                 0.50  ",
      "text/html": "<div>\n<style scoped>\n    .dataframe tbody tr th:only-of-type {\n        vertical-align: middle;\n    }\n\n    .dataframe tbody tr th {\n        vertical-align: top;\n    }\n\n    .dataframe thead th {\n        text-align: right;\n    }\n</style>\n<table border=\"1\" class=\"dataframe\">\n  <thead>\n    <tr style=\"text-align: right;\">\n      <th></th>\n      <th>era</th>\n      <th>data_type</th>\n      <th>feature_dichasial_hammier_spawner</th>\n      <th>feature_rheumy_epistemic_prancer</th>\n      <th>target</th>\n      <th>target_nomi_20</th>\n      <th>target_paul_20</th>\n      <th>target_nomi_20_fake</th>\n    </tr>\n    <tr>\n      <th>id</th>\n      <th></th>\n      <th></th>\n      <th></th>\n      <th></th>\n      <th></th>\n      <th></th>\n      <th></th>\n      <th></th>\n    </tr>\n  </thead>\n  <tbody>\n    <tr>\n      <th>ne87a484dba54b55</th>\n      <td>0278</td>\n      <td>train</td>\n      <td>0.50</td>\n      <td>0.75</td>\n      <td>0.50</td>\n      <td>0.50</td>\n      <td>0.50</td>\n      <td>0.50</td>\n    </tr>\n    <tr>\n      <th>n7e246122dd0b76f</th>\n      <td>0562</td>\n      <td>train</td>\n      <td>1.00</td>\n      <td>0.75</td>\n      <td>0.50</td>\n      <td>0.50</td>\n      <td>0.50</td>\n      <td>0.50</td>\n    </tr>\n    <tr>\n      <th>n9f667bd2c4387e2</th>\n      <td>0557</td>\n      <td>train</td>\n      <td>0.00</td>\n      <td>0.00</td>\n      <td>0.75</td>\n      <td>0.75</td>\n      <td>0.50</td>\n      <td>0.50</td>\n    </tr>\n    <tr>\n      <th>nd4ff4b599aa37ab</th>\n      <td>0378</td>\n      <td>train</td>\n      <td>0.25</td>\n      <td>0.50</td>\n      <td>0.25</td>\n      <td>0.25</td>\n      <td>0.25</td>\n      <td>0.75</td>\n    </tr>\n    <tr>\n      <th>n4afc6dfde83eb35</th>\n      <td>0498</td>\n      <td>train</td>\n      <td>0.75</td>\n      <td>0.75</td>\n      <td>0.50</td>\n      <td>0.50</td>\n      <td>0.50</td>\n      <td>0.50</td>\n    </tr>\n  </tbody>\n</table>\n</div>"
     },
     "execution_count": 25,
     "metadata": {},
     "output_type": "execute_result"
    }
   ],
   "source": [
    "sample_dataf.head()"
   ],
   "metadata": {
    "collapsed": false,
    "pycharm": {
     "name": "#%%\n"
    }
   }
  },
  {
   "cell_type": "markdown",
   "source": [
    "The new target will be suffixed by `_fake` to distinguish it from the original targets."
   ],
   "metadata": {
    "collapsed": false
   }
  },
  {
   "cell_type": "code",
   "execution_count": 26,
   "outputs": [
    {
     "data": {
      "text/plain": "                  target  target_nomi_20  target_paul_20  target_nomi_20_fake\nid                                                                           \nne87a484dba54b55     0.5             0.5             0.5                  0.5\nn7e246122dd0b76f     0.5             0.5             0.5                  0.5",
      "text/html": "<div>\n<style scoped>\n    .dataframe tbody tr th:only-of-type {\n        vertical-align: middle;\n    }\n\n    .dataframe tbody tr th {\n        vertical-align: top;\n    }\n\n    .dataframe thead th {\n        text-align: right;\n    }\n</style>\n<table border=\"1\" class=\"dataframe\">\n  <thead>\n    <tr style=\"text-align: right;\">\n      <th></th>\n      <th>target</th>\n      <th>target_nomi_20</th>\n      <th>target_paul_20</th>\n      <th>target_nomi_20_fake</th>\n    </tr>\n    <tr>\n      <th>id</th>\n      <th></th>\n      <th></th>\n      <th></th>\n      <th></th>\n    </tr>\n  </thead>\n  <tbody>\n    <tr>\n      <th>ne87a484dba54b55</th>\n      <td>0.5</td>\n      <td>0.5</td>\n      <td>0.5</td>\n      <td>0.5</td>\n    </tr>\n    <tr>\n      <th>n7e246122dd0b76f</th>\n      <td>0.5</td>\n      <td>0.5</td>\n      <td>0.5</td>\n      <td>0.5</td>\n    </tr>\n  </tbody>\n</table>\n</div>"
     },
     "execution_count": 26,
     "metadata": {},
     "output_type": "execute_result"
    }
   ],
   "source": [
    "fake_dataf.get_target_data.head(2)"
   ],
   "metadata": {
    "collapsed": false,
    "pycharm": {
     "name": "#%%\n"
    }
   }
  },
  {
   "cell_type": "markdown",
   "source": [
    "Note that you can easily generate multiple fake targets in a loop."
   ],
   "metadata": {
    "collapsed": false
   }
  },
  {
   "cell_type": "code",
   "execution_count": 27,
   "outputs": [
    {
     "data": {
      "text/plain": "Generating fake target:   0%|          | 0/91 [00:00<?, ?it/s]",
      "application/vnd.jupyter.widget-view+json": {
       "version_major": 2,
       "version_minor": 0,
       "model_id": "27431d8c47734b998d83cee9bcf695a9"
      }
     },
     "metadata": {},
     "output_type": "display_data"
    },
    {
     "data": {
      "text/plain": "✅ Finished step \u001B[1mBayesianGMMTargetProcessor\u001B[0m. Output \u001B[33mshape\u001B[0m=\u001B[1m(\u001B[0m\u001B[1;36m100\u001B[0m, \u001B[1;36m9\u001B[0m\u001B[1m)\u001B[0m. Time taken for step: \n\u001B[1;34m0:00:00\u001B[0m\u001B[34m.\u001B[0m\u001B[1;34m748940\u001B[0m. ✅\n",
      "text/html": "<pre style=\"white-space:pre;overflow-x:auto;line-height:normal;font-family:Menlo,'DejaVu Sans Mono',consolas,'Courier New',monospace\">✅ Finished step <span style=\"font-weight: bold\">BayesianGMMTargetProcessor</span>. Output <span style=\"color: #808000; text-decoration-color: #808000\">shape</span>=<span style=\"font-weight: bold\">(</span><span style=\"color: #008080; text-decoration-color: #008080; font-weight: bold\">100</span>, <span style=\"color: #008080; text-decoration-color: #008080; font-weight: bold\">9</span><span style=\"font-weight: bold\">)</span>. Time taken for step: \n<span style=\"color: #000080; text-decoration-color: #000080; font-weight: bold\">0:00:00</span><span style=\"color: #000080; text-decoration-color: #000080\">.</span><span style=\"color: #000080; text-decoration-color: #000080; font-weight: bold\">748940</span>. ✅\n</pre>\n"
     },
     "metadata": {},
     "output_type": "display_data"
    },
    {
     "data": {
      "text/plain": "Generating fake target:   0%|          | 0/91 [00:00<?, ?it/s]",
      "application/vnd.jupyter.widget-view+json": {
       "version_major": 2,
       "version_minor": 0,
       "model_id": "6d7c9d9bcf45472a9c8f841f652d8138"
      }
     },
     "metadata": {},
     "output_type": "display_data"
    },
    {
     "data": {
      "text/plain": "✅ Finished step \u001B[1mBayesianGMMTargetProcessor\u001B[0m. Output \u001B[33mshape\u001B[0m=\u001B[1m(\u001B[0m\u001B[1;36m100\u001B[0m, \u001B[1;36m9\u001B[0m\u001B[1m)\u001B[0m. Time taken for step: \n\u001B[1;34m0:00:00\u001B[0m\u001B[34m.\u001B[0m\u001B[1;34m617620\u001B[0m. ✅\n",
      "text/html": "<pre style=\"white-space:pre;overflow-x:auto;line-height:normal;font-family:Menlo,'DejaVu Sans Mono',consolas,'Courier New',monospace\">✅ Finished step <span style=\"font-weight: bold\">BayesianGMMTargetProcessor</span>. Output <span style=\"color: #808000; text-decoration-color: #808000\">shape</span>=<span style=\"font-weight: bold\">(</span><span style=\"color: #008080; text-decoration-color: #008080; font-weight: bold\">100</span>, <span style=\"color: #008080; text-decoration-color: #008080; font-weight: bold\">9</span><span style=\"font-weight: bold\">)</span>. Time taken for step: \n<span style=\"color: #000080; text-decoration-color: #000080; font-weight: bold\">0:00:00</span><span style=\"color: #000080; text-decoration-color: #000080\">.</span><span style=\"color: #000080; text-decoration-color: #000080; font-weight: bold\">617620</span>. ✅\n</pre>\n"
     },
     "metadata": {},
     "output_type": "display_data"
    },
    {
     "data": {
      "text/plain": "Generating fake target:   0%|          | 0/91 [00:00<?, ?it/s]",
      "application/vnd.jupyter.widget-view+json": {
       "version_major": 2,
       "version_minor": 0,
       "model_id": "755c78cd22304a4bab32429318585a18"
      }
     },
     "metadata": {},
     "output_type": "display_data"
    },
    {
     "data": {
      "text/plain": "✅ Finished step \u001B[1mBayesianGMMTargetProcessor\u001B[0m. Output \u001B[33mshape\u001B[0m=\u001B[1m(\u001B[0m\u001B[1;36m100\u001B[0m, \u001B[1;36m10\u001B[0m\u001B[1m)\u001B[0m. Time taken for step: \n\u001B[1;34m0:00:00\u001B[0m\u001B[34m.\u001B[0m\u001B[1;34m727199\u001B[0m. ✅\n",
      "text/html": "<pre style=\"white-space:pre;overflow-x:auto;line-height:normal;font-family:Menlo,'DejaVu Sans Mono',consolas,'Courier New',monospace\">✅ Finished step <span style=\"font-weight: bold\">BayesianGMMTargetProcessor</span>. Output <span style=\"color: #808000; text-decoration-color: #808000\">shape</span>=<span style=\"font-weight: bold\">(</span><span style=\"color: #008080; text-decoration-color: #008080; font-weight: bold\">100</span>, <span style=\"color: #008080; text-decoration-color: #008080; font-weight: bold\">10</span><span style=\"font-weight: bold\">)</span>. Time taken for step: \n<span style=\"color: #000080; text-decoration-color: #000080; font-weight: bold\">0:00:00</span><span style=\"color: #000080; text-decoration-color: #000080\">.</span><span style=\"color: #000080; text-decoration-color: #000080; font-weight: bold\">727199</span>. ✅\n</pre>\n"
     },
     "metadata": {},
     "output_type": "display_data"
    },
    {
     "data": {
      "text/plain": "                  target  target_nomi_20  target_paul_20  target_nomi_20_fake  \\\nid                                                                              \nne87a484dba54b55     0.5             0.5             0.5                  0.5   \nn7e246122dd0b76f     0.5             0.5             0.5                  0.5   \n\n                  target_fake  target_paul_20_fake  \nid                                                  \nne87a484dba54b55          0.5                  0.5  \nn7e246122dd0b76f          0.5                  0.5  ",
      "text/html": "<div>\n<style scoped>\n    .dataframe tbody tr th:only-of-type {\n        vertical-align: middle;\n    }\n\n    .dataframe tbody tr th {\n        vertical-align: top;\n    }\n\n    .dataframe thead th {\n        text-align: right;\n    }\n</style>\n<table border=\"1\" class=\"dataframe\">\n  <thead>\n    <tr style=\"text-align: right;\">\n      <th></th>\n      <th>target</th>\n      <th>target_nomi_20</th>\n      <th>target_paul_20</th>\n      <th>target_nomi_20_fake</th>\n      <th>target_fake</th>\n      <th>target_paul_20_fake</th>\n    </tr>\n    <tr>\n      <th>id</th>\n      <th></th>\n      <th></th>\n      <th></th>\n      <th></th>\n      <th></th>\n      <th></th>\n    </tr>\n  </thead>\n  <tbody>\n    <tr>\n      <th>ne87a484dba54b55</th>\n      <td>0.5</td>\n      <td>0.5</td>\n      <td>0.5</td>\n      <td>0.5</td>\n      <td>0.5</td>\n      <td>0.5</td>\n    </tr>\n    <tr>\n      <th>n7e246122dd0b76f</th>\n      <td>0.5</td>\n      <td>0.5</td>\n      <td>0.5</td>\n      <td>0.5</td>\n      <td>0.5</td>\n      <td>0.5</td>\n    </tr>\n  </tbody>\n</table>\n</div>"
     },
     "execution_count": 27,
     "metadata": {},
     "output_type": "execute_result"
    }
   ],
   "source": [
    "for target_col in sample_dataf.target_cols:\n",
    "    bgmm = BayesianGMMTargetProcessor(target_col=target_col)\n",
    "    sample_dataf = bgmm(sample_dataf)\n",
    "sample_dataf.get_target_data.head(2)"
   ],
   "metadata": {
    "collapsed": false,
    "pycharm": {
     "name": "#%%\n"
    }
   }
  },
  {
   "cell_type": "markdown",
   "source": [
    "## 2. DeepDream Generator"
   ],
   "metadata": {
    "collapsed": false
   }
  },
  {
   "cell_type": "code",
   "execution_count": 28,
   "outputs": [],
   "source": [
    "from numerblox.preprocessing import DeepDreamGenerator"
   ],
   "metadata": {
    "collapsed": false,
    "pycharm": {
     "name": "#%%\n"
    }
   }
  },
  {
   "cell_type": "code",
   "execution_count": 29,
   "outputs": [
    {
     "data": {
      "text/plain": "<IPython.core.display.Markdown object>",
      "text/markdown": "<h2 id=\"DeepDreamGenerator\" class=\"doc_header\"><code>class</code> <code>DeepDreamGenerator</code><a href=\"https://github.com/crowdcent/numerblox/tree/master/numerblox/preprocessing.py#L179\" class=\"source_link\" style=\"float:right\">[source]</a></h2>\n\n> <code>DeepDreamGenerator</code>(**`model_path`**:`str`, **`batch_size`**:`int`=*`200000`*, **`steps`**:`int`=*`5`*, **`step_size`**:`float`=*`0.01`*, **`feature_names`**:`list`=*`None`*) :: [`BaseProcessor`](/numerbloxpreprocessing.html#BaseProcessor)\n\nGenerate synthetic eras using DeepDream technique. \n\nBased on implementation by nemethpeti: \n\nhttps://github.com/nemethpeti/numerai/blob/main/DeepDream/deepdream.py\n\n:param model_path: Path to trained DeepDream model. Example can be downloaded from \n\nhttps://github.com/nemethpeti/numerai/blob/main/DeepDream/model.h5"
     },
     "metadata": {},
     "output_type": "display_data"
    }
   ],
   "source": [
    "show_doc(DeepDreamGenerator)"
   ],
   "metadata": {
    "collapsed": false,
    "pycharm": {
     "name": "#%%\n"
    }
   }
  },
  {
   "cell_type": "markdown",
   "source": [
    "For our example we will use the model open sourced by [nemethpeti](https://github.com/nemethpeti) which you can download [here](https://github.com/nemethpeti/numerai/blob/main/DeepDream/model.h5). This model works on the v3 medium feature set. We therefore use v3 data in this example. The v3 medium feature set can be easily retrieved using `NumeraiClassicDownloader`."
   ],
   "metadata": {
    "collapsed": false
   }
  },
  {
   "cell_type": "code",
   "execution_count": 30,
   "outputs": [
    {
     "data": {
      "text/plain": "📁 \u001B[32mDownloading\u001B[0m \u001B[32m'v3/features.json'\u001B[0m 📁\n",
      "text/html": "<pre style=\"white-space:pre;overflow-x:auto;line-height:normal;font-family:Menlo,'DejaVu Sans Mono',consolas,'Courier New',monospace\">📁 <span style=\"color: #008000; text-decoration-color: #008000\">Downloading</span> <span style=\"color: #008000; text-decoration-color: #008000\">'v3/features.json'</span> 📁\n</pre>\n"
     },
     "metadata": {},
     "output_type": "display_data"
    },
    {
     "name": "stderr",
     "output_type": "stream",
     "text": [
      "2022-04-19 12:30:43,836 INFO numerapi.utils: starting download\n",
      "synth_test/features.json: 441kB [00:00, 644kB/s]                            \n"
     ]
    }
   ],
   "source": [
    "#hide_output\n",
    "feature_set = dl.get_classic_features(filename=\"v3/features.json\")\n",
    "feature_names = feature_set['feature_sets']['medium']"
   ],
   "metadata": {
    "collapsed": false,
    "pycharm": {
     "name": "#%%\n"
    }
   }
  },
  {
   "cell_type": "code",
   "execution_count": 31,
   "outputs": [
    {
     "name": "stderr",
     "output_type": "stream",
     "text": [
      "2022-04-19 12:30:44.640007: I tensorflow/core/platform/cpu_feature_guard.cc:151] This TensorFlow binary is optimized with oneAPI Deep Neural Network Library (oneDNN) to use the following CPU instructions in performance-critical operations:  AVX2 FMA\n",
      "To enable them in other operations, rebuild TensorFlow with the appropriate compiler flags.\n"
     ]
    }
   ],
   "source": [
    "ddg = DeepDreamGenerator(model_path=\"../test_assets/deepdream_model.h5\",\n",
    "                         feature_names=feature_names)"
   ],
   "metadata": {
    "collapsed": false,
    "pycharm": {
     "name": "#%%\n"
    }
   }
  },
  {
   "cell_type": "markdown",
   "source": [
    "Let's try to generate features from a small subset of 100 rows."
   ],
   "metadata": {
    "collapsed": false
   }
  },
  {
   "cell_type": "code",
   "execution_count": 32,
   "outputs": [],
   "source": [
    "sample_dataf_2 = NumerFrame(dataf.sample(100))"
   ],
   "metadata": {
    "collapsed": false,
    "pycharm": {
     "name": "#%%\n"
    }
   }
  },
  {
   "cell_type": "code",
   "execution_count": 33,
   "outputs": [
    {
     "data": {
      "text/plain": "Deepdreaming Synthetic Batches:   0%|          | 0/5 [00:00<?, ?it/s]",
      "application/vnd.jupyter.widget-view+json": {
       "version_major": 2,
       "version_minor": 0,
       "model_id": "b5d0fe9b770b40239d4b71a48b227bae"
      }
     },
     "metadata": {},
     "output_type": "display_data"
    },
    {
     "data": {
      "text/plain": "✅ Finished step \u001B[1mDeepDreamGenerator\u001B[0m. Output \u001B[33mshape\u001B[0m=\u001B[1m(\u001B[0m\u001B[1;36m199\u001B[0m, \u001B[1;36m1073\u001B[0m\u001B[1m)\u001B[0m. Time taken for step: \n\u001B[1;34m0:00:00\u001B[0m\u001B[34m.\u001B[0m\u001B[1;34m324433\u001B[0m. ✅\n",
      "text/html": "<pre style=\"white-space:pre;overflow-x:auto;line-height:normal;font-family:Menlo,'DejaVu Sans Mono',consolas,'Courier New',monospace\">✅ Finished step <span style=\"font-weight: bold\">DeepDreamGenerator</span>. Output <span style=\"color: #808000; text-decoration-color: #808000\">shape</span>=<span style=\"font-weight: bold\">(</span><span style=\"color: #008080; text-decoration-color: #008080; font-weight: bold\">199</span>, <span style=\"color: #008080; text-decoration-color: #008080; font-weight: bold\">1073</span><span style=\"font-weight: bold\">)</span>. Time taken for step: \n<span style=\"color: #000080; text-decoration-color: #000080; font-weight: bold\">0:00:00</span><span style=\"color: #000080; text-decoration-color: #000080\">.</span><span style=\"color: #000080; text-decoration-color: #000080; font-weight: bold\">324433</span>. ✅\n</pre>\n"
     },
     "metadata": {},
     "output_type": "display_data"
    }
   ],
   "source": [
    "dreamed_dataf = ddg.transform(sample_dataf_2)"
   ],
   "metadata": {
    "collapsed": false,
    "pycharm": {
     "name": "#%%\n"
    }
   }
  },
  {
   "cell_type": "markdown",
   "source": [
    "The new dreamed `NumerFrame` consists of the original data and 100 new additional rows. Note that targets are the same.\n",
    "\n",
    "Also, `era`, `data_type` and any other columns besides features and targets will be `NaN`s."
   ],
   "metadata": {
    "collapsed": false
   }
  },
  {
   "cell_type": "code",
   "execution_count": 34,
   "outputs": [
    {
     "name": "stdout",
     "output_type": "stream",
     "text": [
      "(199, 1073)\n"
     ]
    },
    {
     "data": {
      "text/plain": "    era data_type  feature_dichasial_hammier_spawner  \\\n94  NaN       NaN                           0.236611   \n95  NaN       NaN                           0.000000   \n96  NaN       NaN                           0.987918   \n97  NaN       NaN                           0.764998   \n98  NaN       NaN                           1.000000   \n\n    feature_rheumy_epistemic_prancer  feature_pert_performative_hormuz  \\\n94                          0.721029                          0.707977   \n95                          0.688268                          0.717093   \n96                          0.760779                          0.813800   \n97                          1.000000                          0.766135   \n98                          0.960024                          0.998135   \n\n    feature_hillier_unpitied_theobromine  \\\n94                              0.025250   \n95                              0.212227   \n96                              0.965248   \n97                              1.000000   \n98                              0.952220   \n\n    feature_perigean_bewitching_thruster  feature_renegade_undomestic_milord  \\\n94                              0.531450                            0.493006   \n95                              0.759024                            0.633137   \n96                              0.300323                            0.495363   \n97                              0.774427                            0.420843   \n98                              0.498495                            0.476565   \n\n    feature_koranic_rude_corf  feature_demisable_expiring_millepede  ...  \\\n94                   0.506379                              1.000000  ...   \n95                   0.996057                              0.568541  ...   \n96                   0.998792                              0.229803  ...   \n97                   0.777349                              0.463642  ...   \n98                   0.032347                              1.000000  ...   \n\n    target_paul_20  target_paul_60  target_george_20  target_george_60  \\\n94            0.50            0.50              0.75              0.75   \n95            0.50            0.00              0.50              0.25   \n96            0.50            0.50              0.00              0.25   \n97            0.50            0.25              0.50              0.25   \n98            0.75            0.50              0.75              0.50   \n\n    target_william_20  target_william_60  target_arthur_20  target_arthur_60  \\\n94           0.500000           0.500000          0.500000          0.500000   \n95           0.500000           0.333333          0.500000          0.333333   \n96           0.500000           0.500000          0.500000          0.500000   \n97           0.500000           0.333333          0.500000          0.333333   \n98           0.666667           0.833333          0.666667          0.500000   \n\n    target_thomas_20  target_thomas_60  \n94          0.500000          0.666667  \n95          0.500000          0.166667  \n96          0.000000          0.333333  \n97          0.500000          0.333333  \n98          0.833333          0.666667  \n\n[5 rows x 1073 columns]",
      "text/html": "<div>\n<style scoped>\n    .dataframe tbody tr th:only-of-type {\n        vertical-align: middle;\n    }\n\n    .dataframe tbody tr th {\n        vertical-align: top;\n    }\n\n    .dataframe thead th {\n        text-align: right;\n    }\n</style>\n<table border=\"1\" class=\"dataframe\">\n  <thead>\n    <tr style=\"text-align: right;\">\n      <th></th>\n      <th>era</th>\n      <th>data_type</th>\n      <th>feature_dichasial_hammier_spawner</th>\n      <th>feature_rheumy_epistemic_prancer</th>\n      <th>feature_pert_performative_hormuz</th>\n      <th>feature_hillier_unpitied_theobromine</th>\n      <th>feature_perigean_bewitching_thruster</th>\n      <th>feature_renegade_undomestic_milord</th>\n      <th>feature_koranic_rude_corf</th>\n      <th>feature_demisable_expiring_millepede</th>\n      <th>...</th>\n      <th>target_paul_20</th>\n      <th>target_paul_60</th>\n      <th>target_george_20</th>\n      <th>target_george_60</th>\n      <th>target_william_20</th>\n      <th>target_william_60</th>\n      <th>target_arthur_20</th>\n      <th>target_arthur_60</th>\n      <th>target_thomas_20</th>\n      <th>target_thomas_60</th>\n    </tr>\n  </thead>\n  <tbody>\n    <tr>\n      <th>94</th>\n      <td>NaN</td>\n      <td>NaN</td>\n      <td>0.236611</td>\n      <td>0.721029</td>\n      <td>0.707977</td>\n      <td>0.025250</td>\n      <td>0.531450</td>\n      <td>0.493006</td>\n      <td>0.506379</td>\n      <td>1.000000</td>\n      <td>...</td>\n      <td>0.50</td>\n      <td>0.50</td>\n      <td>0.75</td>\n      <td>0.75</td>\n      <td>0.500000</td>\n      <td>0.500000</td>\n      <td>0.500000</td>\n      <td>0.500000</td>\n      <td>0.500000</td>\n      <td>0.666667</td>\n    </tr>\n    <tr>\n      <th>95</th>\n      <td>NaN</td>\n      <td>NaN</td>\n      <td>0.000000</td>\n      <td>0.688268</td>\n      <td>0.717093</td>\n      <td>0.212227</td>\n      <td>0.759024</td>\n      <td>0.633137</td>\n      <td>0.996057</td>\n      <td>0.568541</td>\n      <td>...</td>\n      <td>0.50</td>\n      <td>0.00</td>\n      <td>0.50</td>\n      <td>0.25</td>\n      <td>0.500000</td>\n      <td>0.333333</td>\n      <td>0.500000</td>\n      <td>0.333333</td>\n      <td>0.500000</td>\n      <td>0.166667</td>\n    </tr>\n    <tr>\n      <th>96</th>\n      <td>NaN</td>\n      <td>NaN</td>\n      <td>0.987918</td>\n      <td>0.760779</td>\n      <td>0.813800</td>\n      <td>0.965248</td>\n      <td>0.300323</td>\n      <td>0.495363</td>\n      <td>0.998792</td>\n      <td>0.229803</td>\n      <td>...</td>\n      <td>0.50</td>\n      <td>0.50</td>\n      <td>0.00</td>\n      <td>0.25</td>\n      <td>0.500000</td>\n      <td>0.500000</td>\n      <td>0.500000</td>\n      <td>0.500000</td>\n      <td>0.000000</td>\n      <td>0.333333</td>\n    </tr>\n    <tr>\n      <th>97</th>\n      <td>NaN</td>\n      <td>NaN</td>\n      <td>0.764998</td>\n      <td>1.000000</td>\n      <td>0.766135</td>\n      <td>1.000000</td>\n      <td>0.774427</td>\n      <td>0.420843</td>\n      <td>0.777349</td>\n      <td>0.463642</td>\n      <td>...</td>\n      <td>0.50</td>\n      <td>0.25</td>\n      <td>0.50</td>\n      <td>0.25</td>\n      <td>0.500000</td>\n      <td>0.333333</td>\n      <td>0.500000</td>\n      <td>0.333333</td>\n      <td>0.500000</td>\n      <td>0.333333</td>\n    </tr>\n    <tr>\n      <th>98</th>\n      <td>NaN</td>\n      <td>NaN</td>\n      <td>1.000000</td>\n      <td>0.960024</td>\n      <td>0.998135</td>\n      <td>0.952220</td>\n      <td>0.498495</td>\n      <td>0.476565</td>\n      <td>0.032347</td>\n      <td>1.000000</td>\n      <td>...</td>\n      <td>0.75</td>\n      <td>0.50</td>\n      <td>0.75</td>\n      <td>0.50</td>\n      <td>0.666667</td>\n      <td>0.833333</td>\n      <td>0.666667</td>\n      <td>0.500000</td>\n      <td>0.833333</td>\n      <td>0.666667</td>\n    </tr>\n  </tbody>\n</table>\n<p>5 rows × 1073 columns</p>\n</div>"
     },
     "execution_count": 34,
     "metadata": {},
     "output_type": "execute_result"
    }
   ],
   "source": [
    "print(dreamed_dataf.shape)\n",
    "dreamed_dataf.tail()"
   ],
   "metadata": {
    "collapsed": false,
    "pycharm": {
     "name": "#%%\n"
    }
   }
  },
  {
   "cell_type": "markdown",
   "source": [
    "To only get new synthetic data use `.get_synthetic_batch`.\n"
   ],
   "metadata": {
    "collapsed": false
   }
  },
  {
   "cell_type": "code",
   "execution_count": 35,
   "outputs": [
    {
     "data": {
      "text/plain": "Deepdreaming Synthetic Batches:   0%|          | 0/5 [00:00<?, ?it/s]",
      "application/vnd.jupyter.widget-view+json": {
       "version_major": 2,
       "version_minor": 0,
       "model_id": "89a7329651f042e0adb423de93c41b9a"
      }
     },
     "metadata": {},
     "output_type": "display_data"
    }
   ],
   "source": [
    "synth_dataf = ddg.get_synthetic_batch(sample_dataf_2)"
   ],
   "metadata": {
    "collapsed": false,
    "pycharm": {
     "name": "#%%\n"
    }
   }
  },
  {
   "cell_type": "code",
   "execution_count": 36,
   "outputs": [
    {
     "name": "stdout",
     "output_type": "stream",
     "text": [
      "(99, 441)\n"
     ]
    },
    {
     "data": {
      "text/plain": "   feature_abstersive_emotional_misinterpreter  \\\n0                                     0.920705   \n1                                     0.000000   \n2                                     0.981136   \n3                                     0.936477   \n4                                     0.480438   \n\n   feature_accessorial_aroused_crochet  feature_acerb_venusian_piety  \\\n0                             0.776099                      0.252246   \n1                             0.954657                      0.827482   \n2                             1.000000                      0.361227   \n3                             0.498917                      0.807439   \n4                             0.730030                      0.509100   \n\n   feature_affricative_bromic_raftsman  feature_agile_unrespited_gaucho  \\\n0                             1.000000                         0.255734   \n1                             0.939860                         1.000000   \n2                             0.251239                         0.228109   \n3                             1.000000                         1.000000   \n4                             0.128314                         0.247050   \n\n   feature_agronomic_cryptal_advisor  feature_alkaline_pistachio_sunstone  \\\n0                           0.467267                             0.444772   \n1                           1.000000                             0.990011   \n2                           0.738564                             0.648518   \n3                           0.000000                             0.000000   \n4                           0.318486                             0.267071   \n\n   feature_altern_unnoticed_impregnation  feature_ambisexual_boiled_blunderer  \\\n0                               0.478586                             0.169810   \n1                               0.023633                             0.949530   \n2                               0.020110                             0.000000   \n3                               0.533342                             0.673116   \n4                               0.277129                             0.966291   \n\n   feature_amoebaean_wolfish_heeler  ...  target_paul_20  target_paul_60  \\\n0                          0.513490  ...            0.50            0.75   \n1                          1.000000  ...            0.50            0.75   \n2                          0.030600  ...            0.25            0.50   \n3                          0.219802  ...            0.50            0.50   \n4                          0.812651  ...            0.50            0.75   \n\n   target_george_20  target_george_60  target_william_20  target_william_60  \\\n0              0.75              0.75           0.500000           0.666667   \n1              0.50              0.75           0.666667           0.833333   \n2              0.75              0.75           0.000000           0.500000   \n3              0.50              0.50           0.500000           0.500000   \n4              0.75              0.75           0.833333           0.833333   \n\n   target_arthur_20  target_arthur_60  target_thomas_20  target_thomas_60  \n0          0.500000          0.500000          0.500000          0.500000  \n1          0.666667          0.833333          0.666667          1.000000  \n2          0.166667          0.500000          0.500000          0.666667  \n3          0.500000          0.333333          0.500000          0.500000  \n4          0.666667          0.833333          0.666667          0.666667  \n\n[5 rows x 441 columns]",
      "text/html": "<div>\n<style scoped>\n    .dataframe tbody tr th:only-of-type {\n        vertical-align: middle;\n    }\n\n    .dataframe tbody tr th {\n        vertical-align: top;\n    }\n\n    .dataframe thead th {\n        text-align: right;\n    }\n</style>\n<table border=\"1\" class=\"dataframe\">\n  <thead>\n    <tr style=\"text-align: right;\">\n      <th></th>\n      <th>feature_abstersive_emotional_misinterpreter</th>\n      <th>feature_accessorial_aroused_crochet</th>\n      <th>feature_acerb_venusian_piety</th>\n      <th>feature_affricative_bromic_raftsman</th>\n      <th>feature_agile_unrespited_gaucho</th>\n      <th>feature_agronomic_cryptal_advisor</th>\n      <th>feature_alkaline_pistachio_sunstone</th>\n      <th>feature_altern_unnoticed_impregnation</th>\n      <th>feature_ambisexual_boiled_blunderer</th>\n      <th>feature_amoebaean_wolfish_heeler</th>\n      <th>...</th>\n      <th>target_paul_20</th>\n      <th>target_paul_60</th>\n      <th>target_george_20</th>\n      <th>target_george_60</th>\n      <th>target_william_20</th>\n      <th>target_william_60</th>\n      <th>target_arthur_20</th>\n      <th>target_arthur_60</th>\n      <th>target_thomas_20</th>\n      <th>target_thomas_60</th>\n    </tr>\n  </thead>\n  <tbody>\n    <tr>\n      <th>0</th>\n      <td>0.920705</td>\n      <td>0.776099</td>\n      <td>0.252246</td>\n      <td>1.000000</td>\n      <td>0.255734</td>\n      <td>0.467267</td>\n      <td>0.444772</td>\n      <td>0.478586</td>\n      <td>0.169810</td>\n      <td>0.513490</td>\n      <td>...</td>\n      <td>0.50</td>\n      <td>0.75</td>\n      <td>0.75</td>\n      <td>0.75</td>\n      <td>0.500000</td>\n      <td>0.666667</td>\n      <td>0.500000</td>\n      <td>0.500000</td>\n      <td>0.500000</td>\n      <td>0.500000</td>\n    </tr>\n    <tr>\n      <th>1</th>\n      <td>0.000000</td>\n      <td>0.954657</td>\n      <td>0.827482</td>\n      <td>0.939860</td>\n      <td>1.000000</td>\n      <td>1.000000</td>\n      <td>0.990011</td>\n      <td>0.023633</td>\n      <td>0.949530</td>\n      <td>1.000000</td>\n      <td>...</td>\n      <td>0.50</td>\n      <td>0.75</td>\n      <td>0.50</td>\n      <td>0.75</td>\n      <td>0.666667</td>\n      <td>0.833333</td>\n      <td>0.666667</td>\n      <td>0.833333</td>\n      <td>0.666667</td>\n      <td>1.000000</td>\n    </tr>\n    <tr>\n      <th>2</th>\n      <td>0.981136</td>\n      <td>1.000000</td>\n      <td>0.361227</td>\n      <td>0.251239</td>\n      <td>0.228109</td>\n      <td>0.738564</td>\n      <td>0.648518</td>\n      <td>0.020110</td>\n      <td>0.000000</td>\n      <td>0.030600</td>\n      <td>...</td>\n      <td>0.25</td>\n      <td>0.50</td>\n      <td>0.75</td>\n      <td>0.75</td>\n      <td>0.000000</td>\n      <td>0.500000</td>\n      <td>0.166667</td>\n      <td>0.500000</td>\n      <td>0.500000</td>\n      <td>0.666667</td>\n    </tr>\n    <tr>\n      <th>3</th>\n      <td>0.936477</td>\n      <td>0.498917</td>\n      <td>0.807439</td>\n      <td>1.000000</td>\n      <td>1.000000</td>\n      <td>0.000000</td>\n      <td>0.000000</td>\n      <td>0.533342</td>\n      <td>0.673116</td>\n      <td>0.219802</td>\n      <td>...</td>\n      <td>0.50</td>\n      <td>0.50</td>\n      <td>0.50</td>\n      <td>0.50</td>\n      <td>0.500000</td>\n      <td>0.500000</td>\n      <td>0.500000</td>\n      <td>0.333333</td>\n      <td>0.500000</td>\n      <td>0.500000</td>\n    </tr>\n    <tr>\n      <th>4</th>\n      <td>0.480438</td>\n      <td>0.730030</td>\n      <td>0.509100</td>\n      <td>0.128314</td>\n      <td>0.247050</td>\n      <td>0.318486</td>\n      <td>0.267071</td>\n      <td>0.277129</td>\n      <td>0.966291</td>\n      <td>0.812651</td>\n      <td>...</td>\n      <td>0.50</td>\n      <td>0.75</td>\n      <td>0.75</td>\n      <td>0.75</td>\n      <td>0.833333</td>\n      <td>0.833333</td>\n      <td>0.666667</td>\n      <td>0.833333</td>\n      <td>0.666667</td>\n      <td>0.666667</td>\n    </tr>\n  </tbody>\n</table>\n<p>5 rows × 441 columns</p>\n</div>"
     },
     "execution_count": 36,
     "metadata": {},
     "output_type": "execute_result"
    }
   ],
   "source": [
    "print(synth_dataf.shape)\n",
    "synth_dataf.head()"
   ],
   "metadata": {
    "collapsed": false,
    "pycharm": {
     "name": "#%%\n"
    }
   }
  },
  {
   "cell_type": "markdown",
   "source": [
    "## 3. UMAP"
   ],
   "metadata": {
    "collapsed": false
   }
  },
  {
   "cell_type": "code",
   "execution_count": 36,
   "outputs": [],
   "source": [],
   "metadata": {
    "collapsed": false,
    "pycharm": {
     "name": "#%%\n"
    }
   }
  },
  {
   "cell_type": "code",
   "execution_count": 37,
   "outputs": [
    {
     "data": {
      "text/plain": "⚠ \u001B[31mDeleting directory for \u001B[0m\u001B[31m'NumeraiClassicDownloader\u001B[0m\u001B[32m'\u001B[0m ⚠\nPath: \n\u001B[32m'/Users/clepelaars/Desktop/crowdcent/repositories/numerai-blocks/nbs/edu_nbs/synth_test'\u001B[0m\n",
      "text/html": "<pre style=\"white-space:pre;overflow-x:auto;line-height:normal;font-family:Menlo,'DejaVu Sans Mono',consolas,'Courier New',monospace\">⚠ <span style=\"color: #800000; text-decoration-color: #800000\">Deleting directory for </span><span style=\"color: #800000; text-decoration-color: #800000\">'NumeraiClassicDownloader</span><span style=\"color: #008000; text-decoration-color: #008000\">'</span> ⚠\nPath: \n<span style=\"color: #008000; text-decoration-color: #008000\">'/Users/clepelaars/Desktop/crowdcent/repositories/numerai-blocks/nbs/edu_nbs/synth_test'</span>\n</pre>\n"
     },
     "metadata": {},
     "output_type": "display_data"
    }
   ],
   "source": [
    "# Clean up environment\n",
    "dl.remove_base_directory()"
   ],
   "metadata": {
    "collapsed": false,
    "pycharm": {
     "name": "#%%\n"
    }
   }
  }
 ],
 "metadata": {
  "kernelspec": {
   "display_name": "Python 3",
   "language": "python",
   "name": "python3"
  },
  "language_info": {
   "codemirror_mode": {
    "name": "ipython",
    "version": 2
   },
   "file_extension": ".py",
   "mimetype": "text/x-python",
   "name": "python",
   "nbconvert_exporter": "python",
   "pygments_lexer": "ipython2",
   "version": "2.7.6"
  }
 },
 "nbformat": 4,
 "nbformat_minor": 0
}