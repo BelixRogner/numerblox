{
 "cells": [
  {
   "cell_type": "raw",
   "metadata": {},
   "source": [
    "---\n",
    "output-file: load_model_from_wandb.html\n",
    "title: Load model from Weights & Biases (wandb)\n",
    "\n",
    "---\n",
    "\n"
   ]
  },
  {
   "cell_type": "code",
   "execution_count": null,
   "metadata": {},
   "outputs": [],
   "source": [
    "#| include: false\n",
    "from nbdev.showdoc import *"
   ]
  },
  {
   "cell_type": "markdown",
   "metadata": {},
   "source": [
    "This tutorial is for people who are using [Weights & Biases (wandb)](https://wandb.ai/site) `WandbCallback` in their training pipeline and are looking for a convenient way to use saved models on W&B cloud to make predictions, evaluate and submit in a few lines of code.\n",
    "\n",
    "Currently only Keras models (`.h5`) are supported for wandb loading in this framework. Future versions will include other formats like PyTorch support."
   ]
  },
  {
   "cell_type": "markdown",
   "metadata": {},
   "source": [
    "---------------------------------------------------------------------\n",
    "## 0. Authentication\n",
    "\n",
    "To authenticate your W&B account you are given several options:\n",
    "1. Run `wandb login` in terminal and follow instructions.\n",
    "2. Configure global environment variable `'WANDB_API_KEY'`.\n",
    "3. Run `wandb.init(project=PROJECT_NAME, entity=ENTITY_NAME)` and pass API key from [https://wandb.ai/authorize](https://wandb.ai/authorize)"
   ]
  },
  {
   "cell_type": "markdown",
   "metadata": {},
   "source": [
    "-----------------------------------------------------\n",
    "## 1. Download validation data\n",
    "\n",
    "The first thing we do is download the current validation data and example predictions to evaluate against. This can be done in a few lines of code with `NumeraiClassicDownloader`."
   ]
  },
  {
   "cell_type": "code",
   "execution_count": null,
   "metadata": {},
   "outputs": [],
   "source": [
    "#| other\n",
    "import pandas as pd\n",
    "\n",
    "from numerblox.download import NumeraiClassicDownloader\n",
    "from numerblox.numerframe import create_numerframe\n",
    "from numerblox.model import WandbKerasModel\n",
    "from numerblox.evaluation import NumeraiClassicEvaluator"
   ]
  },
  {
   "cell_type": "code",
   "execution_count": null,
   "metadata": {},
   "outputs": [
    {
     "data": {
      "text/html": "<pre style=\"white-space:pre;overflow-x:auto;line-height:normal;font-family:Menlo,'DejaVu Sans Mono',consolas,'Courier New',monospace\">No existing directory found at <span style=\"color: #008000; text-decoration-color: #008000\">'</span><span style=\"color: #000080; text-decoration-color: #000080\">wandb_keras_test</span><span style=\"color: #008000; text-decoration-color: #008000\">'</span>. Creating directory<span style=\"color: #808000; text-decoration-color: #808000\">...</span>\n</pre>\n",
      "text/plain": "No existing directory found at \u001b[32m'\u001b[0m\u001b[34mwandb_keras_test\u001b[0m\u001b[32m'\u001b[0m. Creating directory\u001b[33m...\u001b[0m\n"
     },
     "metadata": {},
     "output_type": "display_data"
    },
    {
     "data": {
      "text/html": "<pre style=\"white-space:pre;overflow-x:auto;line-height:normal;font-family:Menlo,'DejaVu Sans Mono',consolas,'Courier New',monospace\">📁 <span style=\"color: #008000; text-decoration-color: #008000\">Downloading</span> <span style=\"color: #008000; text-decoration-color: #008000\">'numerai_validation_data.parquet'</span> 📁\n</pre>\n",
      "text/plain": "📁 \u001b[32mDownloading\u001b[0m \u001b[32m'numerai_validation_data.parquet'\u001b[0m 📁\n"
     },
     "metadata": {},
     "output_type": "display_data"
    },
    {
     "name": "stderr",
     "output_type": "stream",
     "text": [
      "2022-03-14 12:52:38,729 INFO numerapi.utils: starting download\n",
      "wandb_keras_test/numerai_validation_data.parquet: 228MB [01:27, 2.61MB/s]                               \n"
     ]
    },
    {
     "data": {
      "text/html": "<pre style=\"white-space:pre;overflow-x:auto;line-height:normal;font-family:Menlo,'DejaVu Sans Mono',consolas,'Courier New',monospace\">📁 <span style=\"color: #008000; text-decoration-color: #008000\">Downloading</span> <span style=\"color: #008000; text-decoration-color: #008000\">'example_predictions.parquet'</span> 📁\n</pre>\n",
      "text/plain": "📁 \u001b[32mDownloading\u001b[0m \u001b[32m'example_predictions.parquet'\u001b[0m 📁\n"
     },
     "metadata": {},
     "output_type": "display_data"
    },
    {
     "name": "stderr",
     "output_type": "stream",
     "text": [
      "2022-03-14 12:54:09,503 INFO numerapi.utils: starting download\n",
      "wandb_keras_test/example_predictions.parquet: 33.5MB [00:10, 3.11MB/s]                            \n"
     ]
    },
    {
     "data": {
      "text/html": "<pre style=\"white-space:pre;overflow-x:auto;line-height:normal;font-family:Menlo,'DejaVu Sans Mono',consolas,'Courier New',monospace\">📁 <span style=\"color: #008000; text-decoration-color: #008000\">Downloading</span> <span style=\"color: #008000; text-decoration-color: #008000\">'example_validation_predictions.parquet'</span> 📁\n</pre>\n",
      "text/plain": "📁 \u001b[32mDownloading\u001b[0m \u001b[32m'example_validation_predictions.parquet'\u001b[0m 📁\n"
     },
     "metadata": {},
     "output_type": "display_data"
    },
    {
     "name": "stderr",
     "output_type": "stream",
     "text": [
      "2022-03-14 12:54:22,621 INFO numerapi.utils: starting download\n",
      "wandb_keras_test/example_validation_predictions.parquet: 13.0MB [00:04, 2.68MB/s]                            \n"
     ]
    }
   ],
   "source": [
    "#| other\n",
    "downloader = NumeraiClassicDownloader(\"wandb_keras_test\")\n",
    "# Path variables\n",
    "val_file = \"numerai_validation_data.parquet\"\n",
    "val_save_path = f\"{str(downloader.dir)}/{val_file}\"\n",
    "# Download only validation parquet file\n",
    "downloader.download_single_dataset(val_file,\n",
    "                                   dest_path=val_save_path)\n",
    "# Download example val preds\n",
    "downloader.download_example_data()\n",
    "\n",
    "# Initialize NumerFrame from parquet file path\n",
    "dataf = create_numerframe(val_save_path)\n",
    "\n",
    "# Add example preds to NumerFrame\n",
    "example_preds = pd.read_parquet(\"wandb_keras_test/example_validation_predictions.parquet\")\n",
    "dataf['prediction_example'] = example_preds.values"
   ]
  },
  {
   "cell_type": "markdown",
   "metadata": {},
   "source": [
    "--------------------------------------------------------------------\n",
    "## 2. Predict (WandbKerasModel)\n",
    "\n",
    "`WandbKerasModel` automatically downloads and loads in a `.h5` from a specified wandb run. The path for a run is specified in the [\"Overview\" tab](https://docs.wandb.ai/ref/app/pages/run-page#overview-tab) of the run.\n",
    "\n",
    "- `file_name`: The default name for the best model in a run is `model-best.h5`. If you want to use a model you have saved under a different name specify `file_name` for `WandbKerasModel` initialization.\n",
    "\n",
    "\n",
    "- `replace`: The model will be downloaded to the directory you are working in. You will be warned if this directory contains models with the same filename. If these models can be overwritten specify `replace=True`.\n",
    "\n",
    "\n",
    "- `combine_preds`: Setting this to True will average all columns in case you have trained a multi-target model.\n",
    "\n",
    "\n",
    "- `autoencoder_mlp:` This argument is for the case where your [model architecture includes an autoencoder](https://forum.numer.ai/t/autoencoder-and-multitask-mlp-on-new-dataset-from-kaggle-jane-street/4338) and therefore the output is a tuple of 3 tensors. `WandbKerasModel` will in this case take the third output of the tuple (target predictions).\n",
    "\n"
   ]
  },
  {
   "cell_type": "code",
   "execution_count": null,
   "metadata": {},
   "outputs": [
    {
     "data": {
      "text/html": "<pre style=\"white-space:pre;overflow-x:auto;line-height:normal;font-family:Menlo,'DejaVu Sans Mono',consolas,'Courier New',monospace\">📄 <span style=\"color: #008000; text-decoration-color: #008000\"> Downloading </span><span style=\"color: #008000; text-decoration-color: #008000\">'model-best.h5'</span><span style=\"color: #008000; text-decoration-color: #008000\"> from </span><span style=\"color: #008000; text-decoration-color: #008000\">'crowdcent/cc-numerai-classic/h4pwuxwu'</span><span style=\"color: #008000; text-decoration-color: #008000\"> in W&amp;B Cloud. </span> \n📄\n</pre>\n",
      "text/plain": "📄 \u001b[32m Downloading \u001b[0m\u001b[32m'model-best.h5'\u001b[0m\u001b[32m from \u001b[0m\u001b[32m'crowdcent/cc-numerai-classic/h4pwuxwu'\u001b[0m\u001b[32m in W&B Cloud. \u001b[0m \n📄\n"
     },
     "metadata": {},
     "output_type": "display_data"
    }
   ],
   "source": [
    "#| other\n",
    "run_path = \"crowdcent/cc-numerai-classic/h4pwuxwu\"\n",
    "model = WandbKerasModel(run_path=run_path,\n",
    "                        replace=True, combine_preds=True, autoencoder_mlp=True)"
   ]
  },
  {
   "cell_type": "markdown",
   "metadata": {},
   "source": [
    "After initialization you can generate predictions with one line. `.predict` takes a `NumerFrame` as input and outputs a `NumerFrame` with a new prediction column. The prediction column name will be of the format `prediction_{RUN_PATH}`."
   ]
  },
  {
   "cell_type": "code",
   "execution_count": null,
   "metadata": {},
   "outputs": [
    {
     "name": "stderr",
     "output_type": "stream",
     "text": [
      "2022-03-14 12:54:38.254690: I tensorflow/core/platform/cpu_feature_guard.cc:151] This TensorFlow binary is optimized with oneAPI Deep Neural Network Library (oneDNN) to use the following CPU instructions in performance-critical operations:  AVX2 FMA\n",
      "To enable them in other operations, rebuild TensorFlow with the appropriate compiler flags.\n"
     ]
    },
    {
     "data": {
      "text/plain": "['prediction_example', 'prediction_crowdcent/cc-numerai-classic/h4pwuxwu']"
     },
     "execution_count": null,
     "metadata": {},
     "output_type": "execute_result"
    }
   ],
   "source": [
    "#| other\n",
    "dataf = model.predict(dataf)\n",
    "dataf.prediction_cols"
   ]
  },
  {
   "cell_type": "code",
   "execution_count": null,
   "metadata": {},
   "outputs": [
    {
     "data": {
      "text/plain": "'prediction_crowdcent/cc-numerai-classic/h4pwuxwu'"
     },
     "execution_count": null,
     "metadata": {},
     "output_type": "execute_result"
    }
   ],
   "source": [
    "#| other\n",
    "main_pred_col = f\"prediction_{run_path}\"\n",
    "main_pred_col"
   ]
  },
  {
   "cell_type": "markdown",
   "metadata": {},
   "source": [
    "----------------------------------------------------------------------\n",
    "## 3. Evaluate\n",
    "\n",
    "We can now use the output of the model to evaluate in 2 lines of code. Additionally, we can directly submit predictions to Numerai with this `NumerFrame`. Check out the educational notebook `submitting.ipynb` for more information on this."
   ]
  },
  {
   "cell_type": "code",
   "execution_count": null,
   "metadata": {},
   "outputs": [
    {
     "data": {
      "application/vnd.jupyter.widget-view+json": {
       "model_id": "82c374f08e854f159d69b1843ad66066",
       "version_major": 2,
       "version_minor": 0
      },
      "text/plain": "Evaluation:   0%|          | 0/2 [00:00<?, ?it/s]"
     },
     "metadata": {},
     "output_type": "display_data"
    },
    {
     "name": "stderr",
     "output_type": "stream",
     "text": [
      "2022-03-14 12:55:22,047 INFO numexpr.utils: Note: NumExpr detected 16 cores but \"NUMEXPR_MAX_THREADS\" not set, so enforcing safe limit of 8.\n",
      "2022-03-14 12:55:22,048 INFO numexpr.utils: NumExpr defaulting to 8 threads.\n"
     ]
    },
    {
     "data": {
      "text/html": "<pre style=\"white-space:pre;overflow-x:auto;line-height:normal;font-family:Menlo,'DejaVu Sans Mono',consolas,'Courier New',monospace\">🤖 Neutralized <span style=\"color: #000080; text-decoration-color: #000080; font-weight: bold\">'prediction_crowdcent/cc-numerai-classic/h4pwuxwu'</span><span style=\"color: #000080; text-decoration-color: #000080; font-weight: bold\"> with proportion </span><span style=\"color: #000080; text-decoration-color: #000080; font-weight: bold\">'1.0'</span><span style=\"color: #000080; text-decoration-color: #000080; font-weight: bold\"> 🤖</span>\n</pre>\n",
      "text/plain": "🤖 Neutralized \u001b[1;34m'prediction_crowdcent/cc-numerai-classic/h4pwuxwu'\u001b[0m\u001b[1;34m with proportion \u001b[0m\u001b[1;34m'1.0'\u001b[0m\u001b[1;34m 🤖\u001b[0m\n"
     },
     "metadata": {},
     "output_type": "display_data"
    },
    {
     "data": {
      "text/html": "<pre style=\"white-space:pre;overflow-x:auto;line-height:normal;font-family:Menlo,'DejaVu Sans Mono',consolas,'Courier New',monospace\">New neutralized column = <span style=\"color: #008000; text-decoration-color: #008000; font-weight: bold\">'prediction_crowdcent/cc-numerai-classic/h4pwuxwu_neutralized_1.0'</span>.\n</pre>\n",
      "text/plain": "New neutralized column = \u001b[1;32m'prediction_crowdcent/cc-numerai-classic/h4pwuxwu_neutralized_1.0'\u001b[0m.\n"
     },
     "metadata": {},
     "output_type": "display_data"
    },
    {
     "data": {
      "text/html": "<pre style=\"white-space:pre;overflow-x:auto;line-height:normal;font-family:Menlo,'DejaVu Sans Mono',consolas,'Courier New',monospace\">✅ Finished step <span style=\"font-weight: bold\">FeatureNeutralizer</span>. Output <span style=\"color: #808000; text-decoration-color: #808000\">shape</span>=<span style=\"font-weight: bold\">(</span><span style=\"color: #008080; text-decoration-color: #008080; font-weight: bold\">539658</span>, <span style=\"color: #008080; text-decoration-color: #008080; font-weight: bold\">1076</span><span style=\"font-weight: bold\">)</span>. Time taken for step: \n<span style=\"color: #000080; text-decoration-color: #000080; font-weight: bold\">0:01:16</span><span style=\"color: #000080; text-decoration-color: #000080\">.</span><span style=\"color: #000080; text-decoration-color: #000080; font-weight: bold\">549637</span>. ✅\n</pre>\n",
      "text/plain": "✅ Finished step \u001b[1mFeatureNeutralizer\u001b[0m. Output \u001b[33mshape\u001b[0m=\u001b[1m(\u001b[0m\u001b[1;36m539658\u001b[0m, \u001b[1;36m1076\u001b[0m\u001b[1m)\u001b[0m. Time taken for step: \n\u001b[1;34m0:01:16\u001b[0m\u001b[34m.\u001b[0m\u001b[1;34m549637\u001b[0m. ✅\n"
     },
     "metadata": {},
     "output_type": "display_data"
    },
    {
     "data": {
      "text/html": "<pre style=\"white-space:pre;overflow-x:auto;line-height:normal;font-family:Menlo,'DejaVu Sans Mono',consolas,'Courier New',monospace\">🤖 Neutralized <span style=\"color: #000080; text-decoration-color: #000080; font-weight: bold\">'prediction_example'</span><span style=\"color: #000080; text-decoration-color: #000080; font-weight: bold\"> with proportion </span><span style=\"color: #000080; text-decoration-color: #000080; font-weight: bold\">'1.0'</span><span style=\"color: #000080; text-decoration-color: #000080; font-weight: bold\"> 🤖</span>\n</pre>\n",
      "text/plain": "🤖 Neutralized \u001b[1;34m'prediction_example'\u001b[0m\u001b[1;34m with proportion \u001b[0m\u001b[1;34m'1.0'\u001b[0m\u001b[1;34m 🤖\u001b[0m\n"
     },
     "metadata": {},
     "output_type": "display_data"
    },
    {
     "data": {
      "text/html": "<pre style=\"white-space:pre;overflow-x:auto;line-height:normal;font-family:Menlo,'DejaVu Sans Mono',consolas,'Courier New',monospace\">New neutralized column = <span style=\"color: #008000; text-decoration-color: #008000; font-weight: bold\">'prediction_example_neutralized_1.0'</span>.\n</pre>\n",
      "text/plain": "New neutralized column = \u001b[1;32m'prediction_example_neutralized_1.0'\u001b[0m.\n"
     },
     "metadata": {},
     "output_type": "display_data"
    },
    {
     "data": {
      "text/html": "<pre style=\"white-space:pre;overflow-x:auto;line-height:normal;font-family:Menlo,'DejaVu Sans Mono',consolas,'Courier New',monospace\">✅ Finished step <span style=\"font-weight: bold\">FeatureNeutralizer</span>. Output <span style=\"color: #808000; text-decoration-color: #808000\">shape</span>=<span style=\"font-weight: bold\">(</span><span style=\"color: #008080; text-decoration-color: #008080; font-weight: bold\">539658</span>, <span style=\"color: #008080; text-decoration-color: #008080; font-weight: bold\">1077</span><span style=\"font-weight: bold\">)</span>. Time taken for step: \n<span style=\"color: #000080; text-decoration-color: #000080; font-weight: bold\">0:00:50</span><span style=\"color: #000080; text-decoration-color: #000080\">.</span><span style=\"color: #000080; text-decoration-color: #000080; font-weight: bold\">730323</span>. ✅\n</pre>\n",
      "text/plain": "✅ Finished step \u001b[1mFeatureNeutralizer\u001b[0m. Output \u001b[33mshape\u001b[0m=\u001b[1m(\u001b[0m\u001b[1;36m539658\u001b[0m, \u001b[1;36m1077\u001b[0m\u001b[1m)\u001b[0m. Time taken for step: \n\u001b[1;34m0:00:50\u001b[0m\u001b[34m.\u001b[0m\u001b[1;34m730323\u001b[0m. ✅\n"
     },
     "metadata": {},
     "output_type": "display_data"
    }
   ],
   "source": [
    "#| other\n",
    "evaluator = NumeraiClassicEvaluator()\n",
    "val_stats = evaluator.full_evaluation(dataf=dataf,\n",
    "                                      target_col=\"target\",\n",
    "                                      pred_cols=[main_pred_col,\n",
    "                                                 \"prediction_example\"],\n",
    "                                      example_col=\"prediction_example\"\n",
    "                                      )"
   ]
  },
  {
   "cell_type": "markdown",
   "metadata": {},
   "source": [
    "The evaluator outputs a `pd.DataFrame` with most of the main validation metrics for Numerai. We welcome new ideas and metrics for Evaluators. See `nbs/07_evaluation.ipynb` in this repository for full Evaluator source code."
   ]
  },
  {
   "cell_type": "code",
   "execution_count": null,
   "metadata": {},
   "outputs": [
    {
     "data": {
      "text/html": "<div>\n<style scoped>\n    .dataframe tbody tr th:only-of-type {\n        vertical-align: middle;\n    }\n\n    .dataframe tbody tr th {\n        vertical-align: top;\n    }\n\n    .dataframe thead th {\n        text-align: right;\n    }\n</style>\n<table border=\"1\" class=\"dataframe\">\n  <thead>\n    <tr style=\"text-align: right;\">\n      <th></th>\n      <th>target</th>\n      <th>mean</th>\n      <th>std</th>\n      <th>sharpe</th>\n      <th>max_drawdown</th>\n      <th>apy</th>\n      <th>mmc_mean</th>\n      <th>mmc_std</th>\n      <th>mmc_sharpe</th>\n      <th>corr_with_example_preds</th>\n      <th>max_feature_exposure</th>\n      <th>feature_neutral_mean</th>\n      <th>feature_neutral_std</th>\n      <th>feature_neutral_sharpe</th>\n      <th>tb200_mean</th>\n      <th>tb200_std</th>\n      <th>tb200_sharpe</th>\n      <th>tb500_mean</th>\n      <th>tb500_std</th>\n      <th>tb500_sharpe</th>\n    </tr>\n  </thead>\n  <tbody>\n    <tr>\n      <th>prediction_crowdcent/cc-numerai-classic/h4pwuxwu</th>\n      <td>target</td>\n      <td>0.022801</td>\n      <td>0.029303</td>\n      <td>0.778087</td>\n      <td>-0.111327</td>\n      <td>189.356908</td>\n      <td>0.006027</td>\n      <td>0.014600</td>\n      <td>0.675001</td>\n      <td>0.585234</td>\n      <td>0.306783</td>\n      <td>0.012025</td>\n      <td>0.015307</td>\n      <td>0.785587</td>\n      <td>0.054181</td>\n      <td>0.082155</td>\n      <td>0.659504</td>\n      <td>0.041855</td>\n      <td>0.054545</td>\n      <td>0.767353</td>\n    </tr>\n    <tr>\n      <th>prediction_example</th>\n      <td>target</td>\n      <td>0.025453</td>\n      <td>0.026586</td>\n      <td>0.957381</td>\n      <td>-0.082849</td>\n      <td>228.846183</td>\n      <td>-0.000026</td>\n      <td>0.000146</td>\n      <td>0.955276</td>\n      <td>0.999934</td>\n      <td>0.219134</td>\n      <td>0.017187</td>\n      <td>0.013747</td>\n      <td>1.250211</td>\n      <td>0.045748</td>\n      <td>0.058146</td>\n      <td>0.786766</td>\n      <td>0.041661</td>\n      <td>0.042485</td>\n      <td>0.980604</td>\n    </tr>\n  </tbody>\n</table>\n</div>",
      "text/plain": "                                                  target      mean       std  \\\nprediction_crowdcent/cc-numerai-classic/h4pwuxwu  target  0.022801  0.029303   \nprediction_example                                target  0.025453  0.026586   \n\n                                                    sharpe  max_drawdown  \\\nprediction_crowdcent/cc-numerai-classic/h4pwuxwu  0.778087     -0.111327   \nprediction_example                                0.957381     -0.082849   \n\n                                                         apy  mmc_mean  \\\nprediction_crowdcent/cc-numerai-classic/h4pwuxwu  189.356908  0.006027   \nprediction_example                                228.846183 -0.000026   \n\n                                                   mmc_std  mmc_sharpe  \\\nprediction_crowdcent/cc-numerai-classic/h4pwuxwu  0.014600    0.675001   \nprediction_example                                0.000146    0.955276   \n\n                                                  corr_with_example_preds  \\\nprediction_crowdcent/cc-numerai-classic/h4pwuxwu                 0.585234   \nprediction_example                                               0.999934   \n\n                                                  max_feature_exposure  \\\nprediction_crowdcent/cc-numerai-classic/h4pwuxwu              0.306783   \nprediction_example                                            0.219134   \n\n                                                  feature_neutral_mean  \\\nprediction_crowdcent/cc-numerai-classic/h4pwuxwu              0.012025   \nprediction_example                                            0.017187   \n\n                                                  feature_neutral_std  \\\nprediction_crowdcent/cc-numerai-classic/h4pwuxwu             0.015307   \nprediction_example                                           0.013747   \n\n                                                  feature_neutral_sharpe  \\\nprediction_crowdcent/cc-numerai-classic/h4pwuxwu                0.785587   \nprediction_example                                              1.250211   \n\n                                                  tb200_mean  tb200_std  \\\nprediction_crowdcent/cc-numerai-classic/h4pwuxwu    0.054181   0.082155   \nprediction_example                                  0.045748   0.058146   \n\n                                                  tb200_sharpe  tb500_mean  \\\nprediction_crowdcent/cc-numerai-classic/h4pwuxwu      0.659504    0.041855   \nprediction_example                                    0.786766    0.041661   \n\n                                                  tb500_std  tb500_sharpe  \nprediction_crowdcent/cc-numerai-classic/h4pwuxwu   0.054545      0.767353  \nprediction_example                                 0.042485      0.980604  "
     },
     "execution_count": null,
     "metadata": {},
     "output_type": "execute_result"
    }
   ],
   "source": [
    "#| other\n",
    "val_stats"
   ]
  },
  {
   "cell_type": "markdown",
   "metadata": {},
   "source": [
    "After we are done, downloaded files can be removed with one call on `NumeraiClassicDownloader` (optional)."
   ]
  },
  {
   "cell_type": "code",
   "execution_count": null,
   "metadata": {},
   "outputs": [
    {
     "data": {
      "text/html": "<pre style=\"white-space:pre;overflow-x:auto;line-height:normal;font-family:Menlo,'DejaVu Sans Mono',consolas,'Courier New',monospace\">⚠ <span style=\"color: #800000; text-decoration-color: #800000\">Deleting directory for </span><span style=\"color: #800000; text-decoration-color: #800000\">'NumeraiClassicDownloader</span><span style=\"color: #008000; text-decoration-color: #008000\">'</span> ⚠\nPath: <span style=\"color: #008000; text-decoration-color: #008000\">'/Users/clepelaars/Desktop/crowdcent/repositories/numerai-blocks/nbs/edu_nbs/wandb_kera</span>\n<span style=\"color: #008000; text-decoration-color: #008000\">s_test'</span>\n</pre>\n",
      "text/plain": "⚠ \u001b[31mDeleting directory for \u001b[0m\u001b[31m'NumeraiClassicDownloader\u001b[0m\u001b[32m'\u001b[0m ⚠\nPath: \u001b[32m'/Users/clepelaars/Desktop/crowdcent/repositories/numerai-blocks/nbs/edu_nbs/wandb_kera\u001b[0m\n\u001b[32ms_test'\u001b[0m\n"
     },
     "metadata": {},
     "output_type": "display_data"
    }
   ],
   "source": [
    "#| other\n",
    "# Clean up environment\n",
    "downloader.remove_base_directory()"
   ]
  },
  {
   "cell_type": "markdown",
   "metadata": {},
   "source": [
    "------------------------------------------------------------------\n",
    "We hope this tutorial explained clearly to you how to load and predict with Weights & Biases (wandb) models.\n",
    "\n",
    "Below you will find the full docs for `WandbKerasModel` and link to the source code:"
   ]
  },
  {
   "cell_type": "code",
   "execution_count": null,
   "metadata": {},
   "outputs": [
    {
     "data": {
      "text/markdown": "<h2 id=\"WandbKerasModel\" class=\"doc_header\"><code>class</code> <code>WandbKerasModel</code><a href=\"https://github.com/crowdcent/numerblox/tree/main/numerblox/model.py#L186\" class=\"source_link\" style=\"float:right\">[source]</a></h2>\n\n> <code>WandbKerasModel</code>(**`run_path`**:`str`, **`file_name`**:`str`=*`'model-best.h5'`*, **`combine_preds`**=*`False`*, **`autoencoder_mlp`**=*`False`*, **`replace`**=*`False`*, **`feature_cols`**:`list`=*`None`*) :: [`SingleModel`](/numerblox/model.html#SingleModel)\n\nDownload best .h5 model from Weights & Biases (W&B) run in local directory and make predictions.\nMore info on W&B: https://wandb.ai/site\n\n| :param run_path: W&B path structured as entity/project/run_id.\nCan be copied from the Overview tab of a W&B run.\nFor more info: https://docs.wandb.ai/ref/app/pages/run-page#overview-tab \n\n| :param file_name: Name of .h5 file as saved in W&B run.\n'model-best.h5' by default.\nFile name can be found under files tab of W&B run. \n\n| :param combine_preds: Whether to average predictions along column axis. Convenient when you want to predict the main target by averaging a multi-target model. \n\n| :param autoencoder_mlp: Whether your model is an autoencoder + MLP model.\nWill take the 3rd of tuple output in this case. Only relevant for NN models. \n\nMore info on autoencoders:\nhttps://forum.numer.ai/t/autoencoder-and-multitask-mlp-on-new-dataset-from-kaggle-jane-street/4338 \n\n| :param replace: Replace any model files saved under the same file name with downloaded W&B run model. WARNING: Setting to True may overwrite models in your local environment. \n\n| :param feature_cols: optional list of features to use for prediction. Selects all feature columns (i.e. column names with prefix 'feature') by default.",
      "text/plain": "<IPython.core.display.Markdown object>"
     },
     "metadata": {},
     "output_type": "display_data"
    }
   ],
   "source": [
    "#| other\n",
    "#| echo: false\n",
    "show_doc(WandbKerasModel)"
   ]
  },
  {
   "cell_type": "code",
   "execution_count": null,
   "metadata": {},
   "outputs": [],
   "source": []
  }
 ],
 "metadata": {
  "kernelspec": {
   "display_name": "Python 3",
   "language": "python",
   "name": "python3"
  }
 },
 "nbformat": 4,
 "nbformat_minor": 0
}
