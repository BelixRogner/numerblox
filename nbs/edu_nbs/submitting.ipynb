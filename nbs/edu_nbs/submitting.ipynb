{
 "cells": [
  {
   "cell_type": "code",
   "execution_count": 1,
   "metadata": {
    "collapsed": true
   },
   "outputs": [],
   "source": [
    "# hide\n",
    "from nbdev.showdoc import *"
   ]
  },
  {
   "cell_type": "markdown",
   "source": [
    "# Submission examples"
   ],
   "metadata": {
    "collapsed": false
   }
  },
  {
   "cell_type": "code",
   "execution_count": 2,
   "outputs": [],
   "source": [
    "import pandas as pd\n",
    "from nbdev import show_doc\n",
    "from numerblox.key import Key, load_key_from_json\n",
    "from numerblox.submission import NumeraiClassicSubmitter, NumeraiSignalsSubmitter"
   ],
   "metadata": {
    "collapsed": false,
    "pycharm": {
     "name": "#%%\n"
    }
   }
  },
  {
   "cell_type": "markdown",
   "source": [
    "In order to use a Submitter you should first create a `Key` object which handles credentials.\n",
    "There are two ways to create a `Key`:\n",
    "\n",
    "**1. Initialize `Key` with `pub_id` and `secret_key` from memory.**"
   ],
   "metadata": {
    "collapsed": false
   }
  },
  {
   "cell_type": "code",
   "execution_count": 3,
   "outputs": [
    {
     "data": {
      "text/plain": "🔑 Numerai Auth key initialized with pub_id = \u001B[32m'UFVCTElDX0lE'\u001B[0m 🔑\n",
      "text/html": "<pre style=\"white-space:pre;overflow-x:auto;line-height:normal;font-family:Menlo,'DejaVu Sans Mono',consolas,'Courier New',monospace\">🔑 Numerai Auth key initialized with pub_id = <span style=\"color: #008000; text-decoration-color: #008000\">'UFVCTElDX0lE'</span> 🔑\n</pre>\n"
     },
     "metadata": {},
     "output_type": "display_data"
    },
    {
     "data": {
      "text/plain": "Numerai Auth Key. pub_id = 'UFVCTElDX0lE'"
     },
     "execution_count": 3,
     "metadata": {},
     "output_type": "execute_result"
    }
   ],
   "source": [
    "# Random credentials\n",
    "pub_id = \"UFVCTElDX0lE\"\n",
    "secret_key = \"U1VQRVJfU0VDUkVUX0tFWQ==\"\n",
    "key = Key(pub_id=pub_id, secret_key=secret_key)\n",
    "key"
   ],
   "metadata": {
    "collapsed": false,
    "pycharm": {
     "name": "#%%\n"
    }
   }
  },
  {
   "cell_type": "markdown",
   "source": [
    "**2. Load credentials from `.json` file with `load_key_from_json`.**\n",
    "\n",
    "JSON file should have the following format:\n",
    "```json\n",
    "{\"pub_id\": \"PUBLIC_ID\", \"secret_key\": \"SECRET_KEY\"}\n",
    "```\n",
    "We recommend loading from `.json`. With this method you only have to save your credentials in one (safe) place and avoid leaving reference to a secret key in Python code."
   ],
   "metadata": {
    "collapsed": false
   }
  },
  {
   "cell_type": "code",
   "execution_count": 4,
   "outputs": [
    {
     "ename": "FileNotFoundError",
     "evalue": "[Errno 2] No such file or directory: '../nbs/test_assets/test_credentials.json'",
     "output_type": "error",
     "traceback": [
      "\u001B[0;31m---------------------------------------------------------------------------\u001B[0m",
      "\u001B[0;31mFileNotFoundError\u001B[0m                         Traceback (most recent call last)",
      "\u001B[0;32m/var/folders/d5/1qd2ftjn7ts_5_k6w2k2g4c00000gn/T/ipykernel_5396/3382587072.py\u001B[0m in \u001B[0;36m<module>\u001B[0;34m\u001B[0m\n\u001B[1;32m      1\u001B[0m \u001B[0;31m# Random credentials\u001B[0m\u001B[0;34m\u001B[0m\u001B[0;34m\u001B[0m\u001B[0;34m\u001B[0m\u001B[0m\n\u001B[0;32m----> 2\u001B[0;31m \u001B[0mkey\u001B[0m \u001B[0;34m=\u001B[0m \u001B[0mload_key_from_json\u001B[0m\u001B[0;34m(\u001B[0m\u001B[0;34m\"../nbs/test_assets/test_credentials.json\"\u001B[0m\u001B[0;34m)\u001B[0m\u001B[0;34m\u001B[0m\u001B[0;34m\u001B[0m\u001B[0m\n\u001B[0m\u001B[1;32m      3\u001B[0m \u001B[0mkey\u001B[0m\u001B[0;34m\u001B[0m\u001B[0;34m\u001B[0m\u001B[0m\n",
      "\u001B[0;32m~/Desktop/crowdcent/repositories/numerai-blocks/numerblox/key.py\u001B[0m in \u001B[0;36mload_key_from_json\u001B[0;34m(file_path, *args, **kwargs)\u001B[0m\n\u001B[1;32m     33\u001B[0m     \u001B[0;31m`\u001B[0m\u001B[0;34m{\u001B[0m\u001B[0;34m\"pub_id\"\u001B[0m\u001B[0;34m:\u001B[0m \u001B[0;34m\"PUBLIC_ID\"\u001B[0m\u001B[0;34m,\u001B[0m \u001B[0;34m\"secret_key\"\u001B[0m\u001B[0;34m:\u001B[0m \u001B[0;34m\"SECRET_KEY\"\u001B[0m\u001B[0;34m}\u001B[0m\u001B[0;31m`\u001B[0m\u001B[0;34m\u001B[0m\u001B[0;34m\u001B[0m\u001B[0m\n\u001B[1;32m     34\u001B[0m     \"\"\"\n\u001B[0;32m---> 35\u001B[0;31m     \u001B[0;32mwith\u001B[0m \u001B[0mopen\u001B[0m\u001B[0;34m(\u001B[0m\u001B[0mfile_path\u001B[0m\u001B[0;34m)\u001B[0m \u001B[0;32mas\u001B[0m \u001B[0mjson_file\u001B[0m\u001B[0;34m:\u001B[0m\u001B[0;34m\u001B[0m\u001B[0;34m\u001B[0m\u001B[0m\n\u001B[0m\u001B[1;32m     36\u001B[0m         \u001B[0mjson_data\u001B[0m \u001B[0;34m=\u001B[0m \u001B[0mjson\u001B[0m\u001B[0;34m.\u001B[0m\u001B[0mload\u001B[0m\u001B[0;34m(\u001B[0m\u001B[0mjson_file\u001B[0m\u001B[0;34m,\u001B[0m \u001B[0;34m*\u001B[0m\u001B[0margs\u001B[0m\u001B[0;34m,\u001B[0m \u001B[0;34m**\u001B[0m\u001B[0mkwargs\u001B[0m\u001B[0;34m)\u001B[0m\u001B[0;34m\u001B[0m\u001B[0;34m\u001B[0m\u001B[0m\n\u001B[1;32m     37\u001B[0m     \u001B[0mpub_id\u001B[0m \u001B[0;34m=\u001B[0m \u001B[0mjson_data\u001B[0m\u001B[0;34m[\u001B[0m\u001B[0;34m\"pub_id\"\u001B[0m\u001B[0;34m]\u001B[0m\u001B[0;34m\u001B[0m\u001B[0;34m\u001B[0m\u001B[0m\n",
      "\u001B[0;31mFileNotFoundError\u001B[0m: [Errno 2] No such file or directory: '../nbs/test_assets/test_credentials.json'"
     ]
    }
   ],
   "source": [
    "# Random credentials\n",
    "key = load_key_from_json(\"../nbs/test_assets/test_credentials.json\")\n",
    "key"
   ],
   "metadata": {
    "collapsed": false,
    "pycharm": {
     "name": "#%%\n"
    }
   }
  },
  {
   "cell_type": "code",
   "execution_count": null,
   "outputs": [],
   "source": [
    "# hide_input\n",
    "show_doc(Key)"
   ],
   "metadata": {
    "collapsed": false,
    "pycharm": {
     "name": "#%%\n"
    }
   }
  },
  {
   "cell_type": "markdown",
   "source": [
    "--------------------------------------------------"
   ],
   "metadata": {
    "collapsed": false
   }
  },
  {
   "cell_type": "markdown",
   "source": [
    "## 1. Numerai Classic"
   ],
   "metadata": {
    "collapsed": false
   }
  },
  {
   "cell_type": "markdown",
   "source": [
    "Submissions can be done in 2 lines of code. To initialize the submitter object, pass a directory path for saving submissions and a `Key` object.\n",
    "\n",
    "`NumeraiClassicSubmitter.full_submission` will perform:\n",
    " 1. Checks to prevent surprise behavior (including value range and column validity)\n",
    " 2. Saving to CSV\n",
    " 3. Uploading with `numerapi`.\n",
    "\n",
    "The `dataf` argument can be either a `pd.DataFrame` or `NumerFrame`.\n",
    "\n",
    "For multi-target, specify a list of targets in `cols`."
   ],
   "metadata": {
    "collapsed": false
   }
  },
  {
   "cell_type": "code",
   "execution_count": null,
   "outputs": [],
   "source": [
    "submitter = NumeraiClassicSubmitter(directory_path=\"sub_current_round\", key=key)\n",
    "# Your prediction file with 'id' as index and defined 'cols' below.\n",
    "dataf = pd.DataFrame(columns=[\"prediction\"])\n",
    "# Only works with valid key credentials\n",
    "# submitter.full_submission(dataf=dataf,\n",
    "#                           cols=\"prediction\",\n",
    "#                           file_name=\"submission.csv\",\n",
    "#                           model_name=\"integration_test\",\n",
    "#                           version=2\n",
    "#                           )"
   ],
   "metadata": {
    "collapsed": false,
    "pycharm": {
     "name": "#%%\n"
    }
   }
  },
  {
   "cell_type": "markdown",
   "source": [
    "For this example, `submission.csv` can now be found on path `sub_current_round/submission.csv` and predictions are submitted for `integration_test`. Of course the uploading only works with valid credentials in the `Key`.\n",
    "\n",
    "\n",
    "Alternatively, you can use `NumeraiClassicSubmitter` to save a csv and also benefit from all the checks performed by the Submitter."
   ],
   "metadata": {
    "collapsed": false
   }
  },
  {
   "cell_type": "code",
   "execution_count": null,
   "outputs": [],
   "source": [
    "submitter.save_csv(dataf=dataf, cols='prediction', file_name='submission.csv')"
   ],
   "metadata": {
    "collapsed": false,
    "pycharm": {
     "name": "#%%\n"
    }
   }
  },
  {
   "cell_type": "code",
   "execution_count": null,
   "outputs": [],
   "source": [
    "#hide_input\n",
    "show_doc(NumeraiClassicSubmitter)"
   ],
   "metadata": {
    "collapsed": false,
    "pycharm": {
     "name": "#%%\n"
    }
   }
  },
  {
   "cell_type": "markdown",
   "source": [
    "----------------------------------------------------"
   ],
   "metadata": {
    "collapsed": false
   }
  },
  {
   "cell_type": "markdown",
   "source": [
    "## 2. Numerai Signals\n",
    "\n",
    "`NumeraiSignalsSubmitter` is very similar to `NumeraiClassicSubmitter`, but has a few additional checks specific to Signals. Mainly, it checks if the data contains a valid ticker column (`\"cusip\"`, `\"sedol\"`, `\"ticker\"`, `\"numerai_ticker\"` or `\"bloomberg_ticker\"`) and a `'signal'` column.\n",
    "\n",
    "`NumeraiSignalsSubmitter.full_submission` handles checks, saving of CSV and uploading with `numerapi`."
   ],
   "metadata": {
    "collapsed": false
   }
  },
  {
   "cell_type": "code",
   "execution_count": null,
   "outputs": [],
   "source": [
    "submitter = NumeraiSignalsSubmitter(directory_path=\"sub_current_round\", key=key)\n",
    "# Your prediction file with 'id' as index, a valid ticker column and signal column below.\n",
    "dataf = pd.DataFrame(columns=['bloomberg_ticker', 'signal'])\n",
    "# Only works with valid key credentials\n",
    "# submitter.full_submission(dataf=dataf,\n",
    "#                           cols=[\"bloomberg_ticker\", \"signal\"],\n",
    "#                           file_name=\"submission.csv\",\n",
    "#                           model_name=\"integration_test\"\n",
    "#                           )"
   ],
   "metadata": {
    "collapsed": false,
    "pycharm": {
     "name": "#%%\n"
    }
   }
  },
  {
   "cell_type": "markdown",
   "source": [
    "You also have the option to use `.save_csv` separately and still benefit from the checks the submittor performs. It will save the columns `'bloomberg_ticker'` and `'signal'` by default. If your use case is different define the columns you want to save in the `cols` argument."
   ],
   "metadata": {
    "collapsed": false
   }
  },
  {
   "cell_type": "code",
   "execution_count": null,
   "outputs": [],
   "source": [
    "submitter.save_csv(dataf=dataf, file_name='submission.csv')"
   ],
   "metadata": {
    "collapsed": false,
    "pycharm": {
     "name": "#%%\n"
    }
   }
  },
  {
   "cell_type": "code",
   "execution_count": null,
   "outputs": [],
   "source": [
    "#hide_input\n",
    "show_doc(NumeraiSignalsSubmitter)"
   ],
   "metadata": {
    "collapsed": false,
    "pycharm": {
     "name": "#%%\n"
    }
   }
  },
  {
   "cell_type": "markdown",
   "source": [
    "-----------------------------------------------------"
   ],
   "metadata": {
    "collapsed": false
   }
  },
  {
   "cell_type": "markdown",
   "source": [
    "When you are done with submissions and don't need the submission file you can remove the submission directory with 1 line. Convenient if you have automated jobs and want to avoid clutter due to saving submission files for every round."
   ],
   "metadata": {
    "collapsed": false
   }
  },
  {
   "cell_type": "code",
   "execution_count": null,
   "outputs": [],
   "source": [
    "# Clean up environment\n",
    "submitter.remove_base_directory()"
   ],
   "metadata": {
    "collapsed": false,
    "pycharm": {
     "name": "#%%\n"
    }
   }
  },
  {
   "cell_type": "code",
   "execution_count": null,
   "outputs": [],
   "source": [
    "#hide_input\n",
    "show_doc(submitter.remove_base_directory)"
   ],
   "metadata": {
    "collapsed": false,
    "pycharm": {
     "name": "#%%\n"
    }
   }
  },
  {
   "cell_type": "code",
   "execution_count": null,
   "outputs": [],
   "source": [],
   "metadata": {
    "collapsed": false,
    "pycharm": {
     "name": "#%%\n"
    }
   }
  }
 ],
 "metadata": {
  "kernelspec": {
   "display_name": "Python 3",
   "language": "python",
   "name": "python3"
  },
  "language_info": {
   "codemirror_mode": {
    "name": "ipython",
    "version": 2
   },
   "file_extension": ".py",
   "mimetype": "text/x-python",
   "name": "python",
   "nbconvert_exporter": "python",
   "pygments_lexer": "ipython2",
   "version": "2.7.6"
  }
 },
 "nbformat": 4,
 "nbformat_minor": 0
}