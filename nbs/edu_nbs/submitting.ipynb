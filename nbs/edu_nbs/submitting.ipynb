{
 "cells": [
  {
   "cell_type": "raw",
   "metadata": {},
   "source": [
    "---\n",
    "output-file: submitting.html\n",
    "title: Submission examples\n",
    "\n",
    "---\n",
    "\n"
   ]
  },
  {
   "cell_type": "code",
   "execution_count": null,
   "metadata": {},
   "outputs": [],
   "source": [
    "#| include: false\n",
    "from nbdev.showdoc import *"
   ]
  },
  {
   "cell_type": "code",
   "execution_count": null,
   "metadata": {},
   "outputs": [],
   "source": [
    "import pandas as pd\n",
    "from nbdev import show_doc\n",
    "from numerblox.key import Key, load_key_from_json\n",
    "from numerblox.submission import NumeraiClassicSubmitter, NumeraiSignalsSubmitter"
   ]
  },
  {
   "cell_type": "markdown",
   "metadata": {},
   "source": [
    "In order to use a Submitter you should first create a `Key` object which handles credentials.\n",
    "There are two ways to create a `Key`:\n",
    "\n",
    "**1. Initialize `Key` with `pub_id` and `secret_key` from memory.**"
   ]
  },
  {
   "cell_type": "code",
   "execution_count": null,
   "metadata": {},
   "outputs": [],
   "source": [
    "# Random credentials\n",
    "pub_id = \"UFVCTElDX0lE\"\n",
    "secret_key = \"U1VQRVJfU0VDUkVUX0tFWQ==\"\n",
    "key = Key(pub_id=pub_id, secret_key=secret_key)\n",
    "key"
   ]
  },
  {
   "cell_type": "markdown",
   "metadata": {},
   "source": [
    "**2. Load credentials from `.json` file with `load_key_from_json`.**\n",
    "\n",
    "JSON file should have the following format:\n",
    "```json\n",
    "{\"pub_id\": \"PUBLIC_ID\", \"secret_key\": \"SECRET_KEY\"}\n",
    "```\n",
    "We recommend loading from `.json`. With this method you only have to save your credentials in one (safe) place and avoid leaving reference to a secret key in Python code."
   ]
  },
  {
   "cell_type": "code",
   "execution_count": null,
   "metadata": {},
   "outputs": [],
   "source": [
    "# Random credentials\n",
    "key = load_key_from_json(\"../../nbs/test_assets/test_credentials.json\")\n",
    "key"
   ]
  },
  {
   "cell_type": "code",
   "execution_count": null,
   "metadata": {},
   "outputs": [],
   "source": [
    "#| echo: false\n",
    "show_doc(Key)"
   ]
  },
  {
   "cell_type": "markdown",
   "metadata": {},
   "source": [
    "--------------------------------------------------"
   ]
  },
  {
   "cell_type": "markdown",
   "metadata": {},
   "source": [
    "## 1. Numerai Classic"
   ]
  },
  {
   "cell_type": "markdown",
   "metadata": {},
   "source": [
    "Submissions can be done in 2 lines of code. To initialize the submitter object, pass a directory path for saving submissions and a `Key` object.\n",
    "\n",
    "`NumeraiClassicSubmitter.full_submission` will perform:\n",
    " 1. Checks to prevent surprise behavior (including value range and column validity)\n",
    " 2. Saving to CSV\n",
    " 3. Uploading with `numerapi`.\n",
    "\n",
    "The `dataf` argument can be either a `pd.DataFrame` or `NumerFrame`.\n",
    "\n",
    "For multi-target, specify a list of targets in `cols`."
   ]
  },
  {
   "cell_type": "code",
   "execution_count": null,
   "metadata": {},
   "outputs": [],
   "source": [
    "submitter = NumeraiClassicSubmitter(directory_path=\"sub_current_round\", key=key)\n",
    "# Your prediction file with 'id' as index and defined 'cols' below.\n",
    "dataf = pd.DataFrame(columns=[\"prediction\"])\n",
    "# Only works with valid key credentials\n",
    "# submitter.full_submission(dataf=dataf,\n",
    "#                           cols=\"prediction\",\n",
    "#                           file_name=\"submission.csv\",\n",
    "#                           model_name=\"integration_test\",\n",
    "#                           version=2\n",
    "#                           )"
   ]
  },
  {
   "cell_type": "markdown",
   "metadata": {},
   "source": [
    "For this example, `submission.csv` can now be found on path `sub_current_round/submission.csv` and predictions are submitted for `integration_test`. Of course the uploading only works with valid credentials in the `Key`.\n",
    "\n",
    "\n",
    "Alternatively, you can use `NumeraiClassicSubmitter` to save a csv and also benefit from all the checks performed by the Submitter."
   ]
  },
  {
   "cell_type": "code",
   "execution_count": null,
   "metadata": {},
   "outputs": [],
   "source": [
    "submitter.save_csv(dataf=dataf, cols='prediction', file_name='submission.csv')"
   ]
  },
  {
   "cell_type": "code",
   "execution_count": null,
   "metadata": {},
   "outputs": [],
   "source": [
    "#| echo: false\n",
    "show_doc(NumeraiClassicSubmitter)"
   ]
  },
  {
   "cell_type": "markdown",
   "metadata": {},
   "source": [
    "----------------------------------------------------"
   ]
  },
  {
   "cell_type": "markdown",
   "metadata": {},
   "source": [
    "## 2. Numerai Signals\n",
    "\n",
    "`NumeraiSignalsSubmitter` is very similar to `NumeraiClassicSubmitter`, but has a few additional checks specific to Signals. Mainly, it checks if the data contains a valid ticker column (`\"cusip\"`, `\"sedol\"`, `\"ticker\"`, `\"numerai_ticker\"` or `\"bloomberg_ticker\"`) and a `'signal'` column.\n",
    "\n",
    "`NumeraiSignalsSubmitter.full_submission` handles checks, saving of CSV and uploading with `numerapi`."
   ]
  },
  {
   "cell_type": "code",
   "execution_count": null,
   "metadata": {},
   "outputs": [],
   "source": [
    "submitter = NumeraiSignalsSubmitter(directory_path=\"sub_current_round\", key=key)\n",
    "# Your prediction file with 'id' as index, a valid ticker column and signal column below.\n",
    "dataf = pd.DataFrame(columns=['bloomberg_ticker', 'signal'])\n",
    "# Only works with valid key credentials\n",
    "# submitter.full_submission(dataf=dataf,\n",
    "#                           cols=[\"bloomberg_ticker\", \"signal\"],\n",
    "#                           file_name=\"submission.csv\",\n",
    "#                           model_name=\"integration_test\"\n",
    "#                           )"
   ]
  },
  {
   "cell_type": "markdown",
   "metadata": {},
   "source": [
    "You also have the option to use `.save_csv` separately and still benefit from the checks the submittor performs. The example below will save the columns `'bloomberg_ticker'` and `'signal'`. If your use case is different define the columns you want to save in the `cols` argument."
   ]
  },
  {
   "cell_type": "code",
   "execution_count": null,
   "metadata": {},
   "outputs": [],
   "source": [
    "submitter.save_csv(dataf=dataf, file_name='submission.csv', cols=['bloomberg_ticker', 'signal'])"
   ]
  },
  {
   "cell_type": "code",
   "execution_count": null,
   "metadata": {},
   "outputs": [],
   "source": [
    "#| echo: false\n",
    "show_doc(NumeraiSignalsSubmitter)"
   ]
  },
  {
   "cell_type": "markdown",
   "metadata": {},
   "source": [
    "-----------------------------------------------------"
   ]
  },
  {
   "cell_type": "markdown",
   "metadata": {},
   "source": [
    "When you are done with submissions and don't need the submission file you can remove the submission directory with 1 line. Convenient if you have automated jobs and want to avoid clutter due to saving submission files for every round."
   ]
  },
  {
   "cell_type": "code",
   "execution_count": null,
   "metadata": {},
   "outputs": [],
   "source": [
    "# Clean up environment\n",
    "submitter.remove_base_directory()"
   ]
  },
  {
   "cell_type": "code",
   "execution_count": null,
   "metadata": {},
   "outputs": [],
   "source": [
    "#| echo: false\n",
    "show_doc(submitter.remove_base_directory)"
   ]
  },
  {
   "cell_type": "code",
   "execution_count": null,
   "metadata": {},
   "outputs": [],
   "source": []
  }
 ],
 "metadata": {
  "kernelspec": {
   "display_name": "Python 3",
   "language": "python",
   "name": "python3"
  }
 },
 "nbformat": 4,
 "nbformat_minor": 0
}