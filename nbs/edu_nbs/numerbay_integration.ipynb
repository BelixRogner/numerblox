{
 "cells": [
  {
   "cell_type": "raw",
   "metadata": {},
   "source": [
    "---\n",
    "output-file: numerbay_integration.html\n",
    "title: NumerBay download with NumerFrame\n",
    "\n",
    "---\n",
    "\n"
   ]
  },
  {
   "cell_type": "code",
   "execution_count": null,
   "metadata": {},
   "outputs": [],
   "source": [
    "#| include: false\n",
    "from nbdev.showdoc import *"
   ]
  },
  {
   "cell_type": "markdown",
   "metadata": {},
   "source": [
    "This part of the tutorial demonstrates how to use `NumerFrame` to download predictions bought on [NumerBay](http://numerbay.ai/) community marketplace. Currently only the main tournament is supported. Signals support will be added in future."
   ]
  },
  {
   "cell_type": "code",
   "execution_count": null,
   "metadata": {},
   "outputs": [
    {
     "data": {
      "text/html": [
       "<style type='text/css'>\n",
       ".datatable table.frame { margin-bottom: 0; }\n",
       ".datatable table.frame thead { border-bottom: none; }\n",
       ".datatable table.frame tr.coltypes td {  color: #FFFFFF;  line-height: 6px;  padding: 0 0.5em;}\n",
       ".datatable .bool    { background: #DDDD99; }\n",
       ".datatable .object  { background: #565656; }\n",
       ".datatable .int     { background: #5D9E5D; }\n",
       ".datatable .float   { background: #4040CC; }\n",
       ".datatable .str     { background: #CC4040; }\n",
       ".datatable .time    { background: #40CC40; }\n",
       ".datatable .row_index {  background: var(--jp-border-color3);  border-right: 1px solid var(--jp-border-color0);  color: var(--jp-ui-font-color3);  font-size: 9px;}\n",
       ".datatable .frame tbody td { text-align: left; }\n",
       ".datatable .frame tr.coltypes .row_index {  background: var(--jp-border-color0);}\n",
       ".datatable th:nth-child(2) { padding-left: 12px; }\n",
       ".datatable .hellipsis {  color: var(--jp-cell-editor-border-color);}\n",
       ".datatable .vellipsis {  background: var(--jp-layout-color0);  color: var(--jp-cell-editor-border-color);}\n",
       ".datatable .na {  color: var(--jp-cell-editor-border-color);  font-size: 80%;}\n",
       ".datatable .sp {  opacity: 0.25;}\n",
       ".datatable .footer { font-size: 9px; }\n",
       ".datatable .frame_dimensions {  background: var(--jp-border-color3);  border-top: 1px solid var(--jp-border-color0);  color: var(--jp-ui-font-color3);  display: inline-block;  opacity: 0.6;  padding: 1px 10px 1px 5px;}\n",
       "</style>\n"
      ],
      "text/plain": [
       "<IPython.core.display.HTML object>"
      ]
     },
     "metadata": {},
     "output_type": "display_data"
    }
   ],
   "source": [
    "from nbdev import show_doc\n",
    "from numerblox.numerframe import create_numerframe, NumerFrame\n",
    "from numerblox.download import NumeraiClassicDownloader\n",
    "from numerblox.key import Key\n",
    "from numerblox.model import NumerBayCSVs\n",
    "from numerblox.submission import NumerBaySubmitter, NumeraiClassicSubmitter, NumeraiSignalsSubmitter"
   ]
  },
  {
   "cell_type": "markdown",
   "metadata": {},
   "source": [
    "First, we download tournament data using `NumeraiClassicDownloader`."
   ]
  },
  {
   "cell_type": "code",
   "execution_count": null,
   "metadata": {},
   "outputs": [
    {
     "data": {
      "text/html": [
       "<pre style=\"white-space:pre;overflow-x:auto;line-height:normal;font-family:Menlo,'DejaVu Sans Mono',consolas,'Courier New',monospace\">📁 <span style=\"color: #008000; text-decoration-color: #008000\">Downloading</span> <span style=\"color: #008000; text-decoration-color: #008000\">'numerai_tournament_data.parquet'</span> 📁\n",
       "</pre>\n"
      ],
      "text/plain": [
       "📁 \u001b[32mDownloading\u001b[0m \u001b[32m'numerai_tournament_data.parquet'\u001b[0m 📁\n"
      ]
     },
     "metadata": {},
     "output_type": "display_data"
    },
    {
     "name": "stderr",
     "output_type": "stream",
     "text": [
      "2022-04-08 08:30:58,816 INFO numerapi.utils: starting download\n",
      "numerframe_edu/numerai_tournament_data.parquet: 582MB [00:59, 9.71MB/s]                              \n"
     ]
    }
   ],
   "source": [
    "downloader = NumeraiClassicDownloader(\"numerframe_edu\")\n",
    "# Path variables\n",
    "tournament_file = \"numerai_tournament_data.parquet\"\n",
    "tournament_save_path = f\"{str(downloader.dir)}/{tournament_file}\"\n",
    "# Download only tournament parquet file\n",
    "downloader.download_single_dataset(tournament_file,\n",
    "                                   dest_path=tournament_save_path)"
   ]
  },
  {
   "cell_type": "markdown",
   "metadata": {},
   "source": [
    "Loading in data and initializing a `NumerFrame` takes one line of code. It will automatically recognize the data format such as `.csv` or `.parquet`. You have the option to add metadata, which is stored in the `meta` attribute."
   ]
  },
  {
   "cell_type": "code",
   "execution_count": null,
   "metadata": {},
   "outputs": [],
   "source": [
    "# Initialize NumerFrame from parquet file path\n",
    "dataf = create_numerframe(tournament_save_path, metadata={\"version\": 3, \"type\": \"tournament\"})"
   ]
  },
  {
   "cell_type": "code",
   "execution_count": null,
   "metadata": {},
   "outputs": [
    {
     "data": {
      "text/html": [
       "<div>\n",
       "<style scoped>\n",
       "    .dataframe tbody tr th:only-of-type {\n",
       "        vertical-align: middle;\n",
       "    }\n",
       "\n",
       "    .dataframe tbody tr th {\n",
       "        vertical-align: top;\n",
       "    }\n",
       "\n",
       "    .dataframe thead th {\n",
       "        text-align: right;\n",
       "    }\n",
       "</style>\n",
       "<table border=\"1\" class=\"dataframe\">\n",
       "  <thead>\n",
       "    <tr style=\"text-align: right;\">\n",
       "      <th></th>\n",
       "      <th>era</th>\n",
       "      <th>data_type</th>\n",
       "      <th>feature_dichasial_hammier_spawner</th>\n",
       "      <th>feature_rheumy_epistemic_prancer</th>\n",
       "      <th>feature_pert_performative_hormuz</th>\n",
       "      <th>feature_hillier_unpitied_theobromine</th>\n",
       "      <th>feature_perigean_bewitching_thruster</th>\n",
       "      <th>feature_renegade_undomestic_milord</th>\n",
       "      <th>feature_koranic_rude_corf</th>\n",
       "      <th>feature_demisable_expiring_millepede</th>\n",
       "      <th>...</th>\n",
       "      <th>target_paul_20</th>\n",
       "      <th>target_paul_60</th>\n",
       "      <th>target_george_20</th>\n",
       "      <th>target_george_60</th>\n",
       "      <th>target_william_20</th>\n",
       "      <th>target_william_60</th>\n",
       "      <th>target_arthur_20</th>\n",
       "      <th>target_arthur_60</th>\n",
       "      <th>target_thomas_20</th>\n",
       "      <th>target_thomas_60</th>\n",
       "    </tr>\n",
       "    <tr>\n",
       "      <th>id</th>\n",
       "      <th></th>\n",
       "      <th></th>\n",
       "      <th></th>\n",
       "      <th></th>\n",
       "      <th></th>\n",
       "      <th></th>\n",
       "      <th></th>\n",
       "      <th></th>\n",
       "      <th></th>\n",
       "      <th></th>\n",
       "      <th></th>\n",
       "      <th></th>\n",
       "      <th></th>\n",
       "      <th></th>\n",
       "      <th></th>\n",
       "      <th></th>\n",
       "      <th></th>\n",
       "      <th></th>\n",
       "      <th></th>\n",
       "      <th></th>\n",
       "      <th></th>\n",
       "    </tr>\n",
       "  </thead>\n",
       "  <tbody>\n",
       "    <tr>\n",
       "      <th>n000101811a8a843</th>\n",
       "      <td>0575</td>\n",
       "      <td>test</td>\n",
       "      <td>0.50</td>\n",
       "      <td>0.0</td>\n",
       "      <td>1.0</td>\n",
       "      <td>0.0</td>\n",
       "      <td>0.75</td>\n",
       "      <td>0.00</td>\n",
       "      <td>1.00</td>\n",
       "      <td>0.25</td>\n",
       "      <td>...</td>\n",
       "      <td>NaN</td>\n",
       "      <td>NaN</td>\n",
       "      <td>NaN</td>\n",
       "      <td>NaN</td>\n",
       "      <td>NaN</td>\n",
       "      <td>NaN</td>\n",
       "      <td>NaN</td>\n",
       "      <td>NaN</td>\n",
       "      <td>NaN</td>\n",
       "      <td>NaN</td>\n",
       "    </tr>\n",
       "    <tr>\n",
       "      <th>n001e1318d5072ac</th>\n",
       "      <td>0575</td>\n",
       "      <td>test</td>\n",
       "      <td>0.25</td>\n",
       "      <td>1.0</td>\n",
       "      <td>0.5</td>\n",
       "      <td>0.5</td>\n",
       "      <td>0.25</td>\n",
       "      <td>0.75</td>\n",
       "      <td>0.75</td>\n",
       "      <td>0.00</td>\n",
       "      <td>...</td>\n",
       "      <td>NaN</td>\n",
       "      <td>NaN</td>\n",
       "      <td>NaN</td>\n",
       "      <td>NaN</td>\n",
       "      <td>NaN</td>\n",
       "      <td>NaN</td>\n",
       "      <td>NaN</td>\n",
       "      <td>NaN</td>\n",
       "      <td>NaN</td>\n",
       "      <td>NaN</td>\n",
       "    </tr>\n",
       "  </tbody>\n",
       "</table>\n",
       "<p>2 rows × 1073 columns</p>\n",
       "</div>"
      ],
      "text/plain": [
       "                   era data_type  feature_dichasial_hammier_spawner  \\\n",
       "id                                                                    \n",
       "n000101811a8a843  0575      test                               0.50   \n",
       "n001e1318d5072ac  0575      test                               0.25   \n",
       "\n",
       "                  feature_rheumy_epistemic_prancer  \\\n",
       "id                                                   \n",
       "n000101811a8a843                               0.0   \n",
       "n001e1318d5072ac                               1.0   \n",
       "\n",
       "                  feature_pert_performative_hormuz  \\\n",
       "id                                                   \n",
       "n000101811a8a843                               1.0   \n",
       "n001e1318d5072ac                               0.5   \n",
       "\n",
       "                  feature_hillier_unpitied_theobromine  \\\n",
       "id                                                       \n",
       "n000101811a8a843                                   0.0   \n",
       "n001e1318d5072ac                                   0.5   \n",
       "\n",
       "                  feature_perigean_bewitching_thruster  \\\n",
       "id                                                       \n",
       "n000101811a8a843                                  0.75   \n",
       "n001e1318d5072ac                                  0.25   \n",
       "\n",
       "                  feature_renegade_undomestic_milord  \\\n",
       "id                                                     \n",
       "n000101811a8a843                                0.00   \n",
       "n001e1318d5072ac                                0.75   \n",
       "\n",
       "                  feature_koranic_rude_corf  \\\n",
       "id                                            \n",
       "n000101811a8a843                       1.00   \n",
       "n001e1318d5072ac                       0.75   \n",
       "\n",
       "                  feature_demisable_expiring_millepede  ...  target_paul_20  \\\n",
       "id                                                      ...                   \n",
       "n000101811a8a843                                  0.25  ...             NaN   \n",
       "n001e1318d5072ac                                  0.00  ...             NaN   \n",
       "\n",
       "                  target_paul_60  target_george_20  target_george_60  \\\n",
       "id                                                                     \n",
       "n000101811a8a843             NaN               NaN               NaN   \n",
       "n001e1318d5072ac             NaN               NaN               NaN   \n",
       "\n",
       "                  target_william_20  target_william_60  target_arthur_20  \\\n",
       "id                                                                         \n",
       "n000101811a8a843                NaN                NaN               NaN   \n",
       "n001e1318d5072ac                NaN                NaN               NaN   \n",
       "\n",
       "                  target_arthur_60  target_thomas_20  target_thomas_60  \n",
       "id                                                                      \n",
       "n000101811a8a843               NaN               NaN               NaN  \n",
       "n001e1318d5072ac               NaN               NaN               NaN  \n",
       "\n",
       "[2 rows x 1073 columns]"
      ]
     },
     "execution_count": null,
     "metadata": {},
     "output_type": "execute_result"
    }
   ],
   "source": [
    "dataf.head(2)"
   ]
  },
  {
   "cell_type": "markdown",
   "metadata": {},
   "source": [
    "Next, we create a NumerBayCSVs model object with a list of products we bought and NumerBay credentials. `numerbay_key_path` may be required for products that use client-side encryption. You can learn more about encryption [here](https://docs.numerbay.ai/updates/encryption)"
   ]
  },
  {
   "cell_type": "code",
   "execution_count": null,
   "metadata": {},
   "outputs": [],
   "source": [
    "nb_model = NumerBayCSVs(data_directory='/app/notebooks/tmp',\n",
    "                        numerbay_product_full_names=['numerai-predictions-numerbay'],  # change to the full names of products you bought\n",
    "                        numerbay_username=\"your_username\",  # change to your own username\n",
    "                        numerbay_password=\"your_password\",  # change to your own password\n",
    "                        numerbay_key_path=\"/app/notebooks/tmp/numerbay.json\")"
   ]
  },
  {
   "cell_type": "markdown",
   "metadata": {},
   "source": [
    "Call the `predict` method on the `NumerFrame` to fetch the prediction file from NumerBay. If the file already exists in the `data_directory`, that file will be loaded without re-downloading."
   ]
  },
  {
   "cell_type": "code",
   "execution_count": null,
   "metadata": {},
   "outputs": [
    {
     "data": {
      "application/vnd.jupyter.widget-view+json": {
       "model_id": "39c042eb062e4fb0b16a4392bf752f0f",
       "version_major": 2,
       "version_minor": 0
      },
      "text/plain": [
       "NumerBay submissions:   0%|          | 0/1 [00:00<?, ?it/s]"
      ]
     },
     "metadata": {},
     "output_type": "display_data"
    },
    {
     "name": "stderr",
     "output_type": "stream",
     "text": [
      "2022-04-08 08:32:39,576 INFO numerbay.utils: starting download\n",
      "\n",
      "/app/notebooks/tmp/.numerai-predictions-numerbay.tmp:   0%|          | 0.00/30.2M [00:00<?, ?B/s]\u001b[A\n",
      "/app/notebooks/tmp/.numerai-predictions-numerbay.tmp:   0%|          | 15.4k/30.2M [00:00<04:28, 113kB/s]\u001b[A\n",
      "/app/notebooks/tmp/.numerai-predictions-numerbay.tmp:   0%|          | 48.1k/30.2M [00:00<03:39, 138kB/s]\u001b[A\n",
      "/app/notebooks/tmp/.numerai-predictions-numerbay.tmp:   0%|          | 80.9k/30.2M [00:00<03:23, 148kB/s]\u001b[A\n",
      "/app/notebooks/tmp/.numerai-predictions-numerbay.tmp:   0%|          | 146k/30.2M [00:00<01:54, 262kB/s] \u001b[A\n",
      "/app/notebooks/tmp/.numerai-predictions-numerbay.tmp:   1%|          | 212k/30.2M [00:00<01:26, 348kB/s]\u001b[A\n",
      "/app/notebooks/tmp/.numerai-predictions-numerbay.tmp:   1%|          | 294k/30.2M [00:00<01:05, 454kB/s]\u001b[A\n",
      "/app/notebooks/tmp/.numerai-predictions-numerbay.tmp:   2%|▏         | 458k/30.2M [00:01<00:39, 754kB/s]\u001b[A\n",
      "/app/notebooks/tmp/.numerai-predictions-numerbay.tmp:   2%|▏         | 638k/30.2M [00:01<00:28, 1.04MB/s]\u001b[A\n",
      "/app/notebooks/tmp/.numerai-predictions-numerbay.tmp:   3%|▎         | 933k/30.2M [00:01<00:18, 1.57MB/s]\u001b[A\n",
      "/app/notebooks/tmp/.numerai-predictions-numerbay.tmp:   4%|▍         | 1.36M/30.2M [00:01<00:12, 2.34MB/s]\u001b[A\n",
      "/app/notebooks/tmp/.numerai-predictions-numerbay.tmp:   7%|▋         | 1.98M/30.2M [00:01<00:08, 3.45MB/s]\u001b[A\n",
      "/app/notebooks/tmp/.numerai-predictions-numerbay.tmp:   9%|▉         | 2.86M/30.2M [00:01<00:05, 5.02MB/s]\u001b[A\n",
      "/app/notebooks/tmp/.numerai-predictions-numerbay.tmp:  14%|█▎        | 4.10M/30.2M [00:01<00:03, 7.08MB/s]\u001b[A\n",
      "/app/notebooks/tmp/.numerai-predictions-numerbay.tmp:  18%|█▊        | 5.42M/30.2M [00:01<00:02, 8.82MB/s]\u001b[A\n",
      "/app/notebooks/tmp/.numerai-predictions-numerbay.tmp:  23%|██▎       | 6.93M/30.2M [00:01<00:02, 10.7MB/s]\u001b[A\n",
      "/app/notebooks/tmp/.numerai-predictions-numerbay.tmp:  27%|██▋       | 8.26M/30.2M [00:01<00:01, 11.4MB/s]\u001b[A\n",
      "/app/notebooks/tmp/.numerai-predictions-numerbay.tmp:  32%|███▏      | 9.71M/30.2M [00:02<00:01, 12.3MB/s]\u001b[A\n",
      "/app/notebooks/tmp/.numerai-predictions-numerbay.tmp:  36%|███▌      | 11.0M/30.2M [00:02<00:01, 12.0MB/s]\u001b[A\n",
      "/app/notebooks/tmp/.numerai-predictions-numerbay.tmp:  40%|████      | 12.2M/30.2M [00:02<00:01, 12.2MB/s]\u001b[A\n",
      "/app/notebooks/tmp/.numerai-predictions-numerbay.tmp:  47%|████▋     | 14.2M/30.2M [00:02<00:01, 14.4MB/s]\u001b[A\n",
      "/app/notebooks/tmp/.numerai-predictions-numerbay.tmp:  52%|█████▏    | 15.8M/30.2M [00:02<00:00, 14.8MB/s]\u001b[A\n",
      "/app/notebooks/tmp/.numerai-predictions-numerbay.tmp:  58%|█████▊    | 17.4M/30.2M [00:02<00:00, 15.4MB/s]\u001b[A\n",
      "/app/notebooks/tmp/.numerai-predictions-numerbay.tmp:  63%|██████▎   | 19.1M/30.2M [00:02<00:00, 15.7MB/s]\u001b[A\n",
      "/app/notebooks/tmp/.numerai-predictions-numerbay.tmp:  69%|██████▊   | 20.8M/30.2M [00:02<00:00, 16.0MB/s]\u001b[A\n",
      "/app/notebooks/tmp/.numerai-predictions-numerbay.tmp:  74%|███████▍  | 22.4M/30.2M [00:02<00:00, 16.0MB/s]\u001b[A\n",
      "/app/notebooks/tmp/.numerai-predictions-numerbay.tmp:  81%|████████  | 24.3M/30.2M [00:02<00:00, 17.1MB/s]\u001b[A\n",
      "/app/notebooks/tmp/.numerai-predictions-numerbay.tmp:  86%|████████▌ | 26.1M/30.2M [00:03<00:00, 16.0MB/s]\u001b[A\n",
      "/app/notebooks/tmp/.numerai-predictions-numerbay.tmp:  92%|█████████▏| 27.8M/30.2M [00:03<00:00, 16.2MB/s]\u001b[A\n",
      "/app/notebooks/tmp/.numerai-predictions-numerbay.tmp: 30.2MB [00:03, 9.07MB/s]                            \u001b[A\n",
      "2022-04-08 08:32:42,924 INFO numerbay.utils: decrypting /app/notebooks/tmp/.numerai-predictions-numerbay.tmp\n"
     ]
    }
   ],
   "source": [
    "preds = nb_model.predict(dataf)"
   ]
  },
  {
   "cell_type": "markdown",
   "metadata": {},
   "source": [
    "The predictions are concatenated to the `NumerFrame` with column name `prediction_numerai-predictions-numerbay`"
   ]
  },
  {
   "cell_type": "code",
   "execution_count": null,
   "metadata": {},
   "outputs": [
    {
     "data": {
      "text/html": [
       "<div>\n",
       "<style scoped>\n",
       "    .dataframe tbody tr th:only-of-type {\n",
       "        vertical-align: middle;\n",
       "    }\n",
       "\n",
       "    .dataframe tbody tr th {\n",
       "        vertical-align: top;\n",
       "    }\n",
       "\n",
       "    .dataframe thead th {\n",
       "        text-align: right;\n",
       "    }\n",
       "</style>\n",
       "<table border=\"1\" class=\"dataframe\">\n",
       "  <thead>\n",
       "    <tr style=\"text-align: right;\">\n",
       "      <th></th>\n",
       "      <th>era</th>\n",
       "      <th>data_type</th>\n",
       "      <th>feature_dichasial_hammier_spawner</th>\n",
       "      <th>feature_rheumy_epistemic_prancer</th>\n",
       "      <th>feature_pert_performative_hormuz</th>\n",
       "      <th>feature_hillier_unpitied_theobromine</th>\n",
       "      <th>feature_perigean_bewitching_thruster</th>\n",
       "      <th>feature_renegade_undomestic_milord</th>\n",
       "      <th>feature_koranic_rude_corf</th>\n",
       "      <th>feature_demisable_expiring_millepede</th>\n",
       "      <th>...</th>\n",
       "      <th>target_paul_60</th>\n",
       "      <th>target_george_20</th>\n",
       "      <th>target_george_60</th>\n",
       "      <th>target_william_20</th>\n",
       "      <th>target_william_60</th>\n",
       "      <th>target_arthur_20</th>\n",
       "      <th>target_arthur_60</th>\n",
       "      <th>target_thomas_20</th>\n",
       "      <th>target_thomas_60</th>\n",
       "      <th>prediction_numerai-predictions-numerbay</th>\n",
       "    </tr>\n",
       "    <tr>\n",
       "      <th>id</th>\n",
       "      <th></th>\n",
       "      <th></th>\n",
       "      <th></th>\n",
       "      <th></th>\n",
       "      <th></th>\n",
       "      <th></th>\n",
       "      <th></th>\n",
       "      <th></th>\n",
       "      <th></th>\n",
       "      <th></th>\n",
       "      <th></th>\n",
       "      <th></th>\n",
       "      <th></th>\n",
       "      <th></th>\n",
       "      <th></th>\n",
       "      <th></th>\n",
       "      <th></th>\n",
       "      <th></th>\n",
       "      <th></th>\n",
       "      <th></th>\n",
       "      <th></th>\n",
       "    </tr>\n",
       "  </thead>\n",
       "  <tbody>\n",
       "    <tr>\n",
       "      <th>n000101811a8a843</th>\n",
       "      <td>0575</td>\n",
       "      <td>test</td>\n",
       "      <td>0.50</td>\n",
       "      <td>0.00</td>\n",
       "      <td>1.00</td>\n",
       "      <td>0.00</td>\n",
       "      <td>0.75</td>\n",
       "      <td>0.00</td>\n",
       "      <td>1.00</td>\n",
       "      <td>0.25</td>\n",
       "      <td>...</td>\n",
       "      <td>NaN</td>\n",
       "      <td>NaN</td>\n",
       "      <td>NaN</td>\n",
       "      <td>NaN</td>\n",
       "      <td>NaN</td>\n",
       "      <td>NaN</td>\n",
       "      <td>NaN</td>\n",
       "      <td>NaN</td>\n",
       "      <td>NaN</td>\n",
       "      <td>0.50</td>\n",
       "    </tr>\n",
       "    <tr>\n",
       "      <th>n001e1318d5072ac</th>\n",
       "      <td>0575</td>\n",
       "      <td>test</td>\n",
       "      <td>0.25</td>\n",
       "      <td>1.00</td>\n",
       "      <td>0.50</td>\n",
       "      <td>0.50</td>\n",
       "      <td>0.25</td>\n",
       "      <td>0.75</td>\n",
       "      <td>0.75</td>\n",
       "      <td>0.00</td>\n",
       "      <td>...</td>\n",
       "      <td>NaN</td>\n",
       "      <td>NaN</td>\n",
       "      <td>NaN</td>\n",
       "      <td>NaN</td>\n",
       "      <td>NaN</td>\n",
       "      <td>NaN</td>\n",
       "      <td>NaN</td>\n",
       "      <td>NaN</td>\n",
       "      <td>NaN</td>\n",
       "      <td>0.25</td>\n",
       "    </tr>\n",
       "    <tr>\n",
       "      <th>n002a9c5ab785cbb</th>\n",
       "      <td>0575</td>\n",
       "      <td>test</td>\n",
       "      <td>0.25</td>\n",
       "      <td>0.50</td>\n",
       "      <td>0.50</td>\n",
       "      <td>0.75</td>\n",
       "      <td>0.25</td>\n",
       "      <td>0.25</td>\n",
       "      <td>0.75</td>\n",
       "      <td>0.00</td>\n",
       "      <td>...</td>\n",
       "      <td>NaN</td>\n",
       "      <td>NaN</td>\n",
       "      <td>NaN</td>\n",
       "      <td>NaN</td>\n",
       "      <td>NaN</td>\n",
       "      <td>NaN</td>\n",
       "      <td>NaN</td>\n",
       "      <td>NaN</td>\n",
       "      <td>NaN</td>\n",
       "      <td>0.25</td>\n",
       "    </tr>\n",
       "    <tr>\n",
       "      <th>n002ccf6d0e8c5ad</th>\n",
       "      <td>0575</td>\n",
       "      <td>test</td>\n",
       "      <td>0.50</td>\n",
       "      <td>1.00</td>\n",
       "      <td>0.50</td>\n",
       "      <td>1.00</td>\n",
       "      <td>0.50</td>\n",
       "      <td>1.00</td>\n",
       "      <td>0.75</td>\n",
       "      <td>0.50</td>\n",
       "      <td>...</td>\n",
       "      <td>NaN</td>\n",
       "      <td>NaN</td>\n",
       "      <td>NaN</td>\n",
       "      <td>NaN</td>\n",
       "      <td>NaN</td>\n",
       "      <td>NaN</td>\n",
       "      <td>NaN</td>\n",
       "      <td>NaN</td>\n",
       "      <td>NaN</td>\n",
       "      <td>0.50</td>\n",
       "    </tr>\n",
       "    <tr>\n",
       "      <th>n0051ab821295c29</th>\n",
       "      <td>0575</td>\n",
       "      <td>test</td>\n",
       "      <td>0.50</td>\n",
       "      <td>0.00</td>\n",
       "      <td>0.00</td>\n",
       "      <td>0.25</td>\n",
       "      <td>0.00</td>\n",
       "      <td>1.00</td>\n",
       "      <td>0.50</td>\n",
       "      <td>0.25</td>\n",
       "      <td>...</td>\n",
       "      <td>NaN</td>\n",
       "      <td>NaN</td>\n",
       "      <td>NaN</td>\n",
       "      <td>NaN</td>\n",
       "      <td>NaN</td>\n",
       "      <td>NaN</td>\n",
       "      <td>NaN</td>\n",
       "      <td>NaN</td>\n",
       "      <td>NaN</td>\n",
       "      <td>0.50</td>\n",
       "    </tr>\n",
       "    <tr>\n",
       "      <th>...</th>\n",
       "      <td>...</td>\n",
       "      <td>...</td>\n",
       "      <td>...</td>\n",
       "      <td>...</td>\n",
       "      <td>...</td>\n",
       "      <td>...</td>\n",
       "      <td>...</td>\n",
       "      <td>...</td>\n",
       "      <td>...</td>\n",
       "      <td>...</td>\n",
       "      <td>...</td>\n",
       "      <td>...</td>\n",
       "      <td>...</td>\n",
       "      <td>...</td>\n",
       "      <td>...</td>\n",
       "      <td>...</td>\n",
       "      <td>...</td>\n",
       "      <td>...</td>\n",
       "      <td>...</td>\n",
       "      <td>...</td>\n",
       "      <td>...</td>\n",
       "    </tr>\n",
       "    <tr>\n",
       "      <th>nffbdc800734996d</th>\n",
       "      <td>X</td>\n",
       "      <td>live</td>\n",
       "      <td>0.25</td>\n",
       "      <td>0.25</td>\n",
       "      <td>0.75</td>\n",
       "      <td>0.50</td>\n",
       "      <td>0.00</td>\n",
       "      <td>0.25</td>\n",
       "      <td>0.50</td>\n",
       "      <td>0.50</td>\n",
       "      <td>...</td>\n",
       "      <td>NaN</td>\n",
       "      <td>NaN</td>\n",
       "      <td>NaN</td>\n",
       "      <td>NaN</td>\n",
       "      <td>NaN</td>\n",
       "      <td>NaN</td>\n",
       "      <td>NaN</td>\n",
       "      <td>NaN</td>\n",
       "      <td>NaN</td>\n",
       "      <td>0.25</td>\n",
       "    </tr>\n",
       "    <tr>\n",
       "      <th>nffece39957d267b</th>\n",
       "      <td>X</td>\n",
       "      <td>live</td>\n",
       "      <td>0.50</td>\n",
       "      <td>0.75</td>\n",
       "      <td>0.75</td>\n",
       "      <td>0.75</td>\n",
       "      <td>0.50</td>\n",
       "      <td>0.25</td>\n",
       "      <td>0.50</td>\n",
       "      <td>0.25</td>\n",
       "      <td>...</td>\n",
       "      <td>NaN</td>\n",
       "      <td>NaN</td>\n",
       "      <td>NaN</td>\n",
       "      <td>NaN</td>\n",
       "      <td>NaN</td>\n",
       "      <td>NaN</td>\n",
       "      <td>NaN</td>\n",
       "      <td>NaN</td>\n",
       "      <td>NaN</td>\n",
       "      <td>0.50</td>\n",
       "    </tr>\n",
       "    <tr>\n",
       "      <th>nffedf2e8373db80</th>\n",
       "      <td>X</td>\n",
       "      <td>live</td>\n",
       "      <td>1.00</td>\n",
       "      <td>0.00</td>\n",
       "      <td>1.00</td>\n",
       "      <td>0.50</td>\n",
       "      <td>0.00</td>\n",
       "      <td>0.00</td>\n",
       "      <td>1.00</td>\n",
       "      <td>0.75</td>\n",
       "      <td>...</td>\n",
       "      <td>NaN</td>\n",
       "      <td>NaN</td>\n",
       "      <td>NaN</td>\n",
       "      <td>NaN</td>\n",
       "      <td>NaN</td>\n",
       "      <td>NaN</td>\n",
       "      <td>NaN</td>\n",
       "      <td>NaN</td>\n",
       "      <td>NaN</td>\n",
       "      <td>1.00</td>\n",
       "    </tr>\n",
       "    <tr>\n",
       "      <th>nfff31b1f95f8bb8</th>\n",
       "      <td>X</td>\n",
       "      <td>live</td>\n",
       "      <td>0.75</td>\n",
       "      <td>0.50</td>\n",
       "      <td>0.50</td>\n",
       "      <td>0.25</td>\n",
       "      <td>0.50</td>\n",
       "      <td>0.25</td>\n",
       "      <td>0.25</td>\n",
       "      <td>0.25</td>\n",
       "      <td>...</td>\n",
       "      <td>NaN</td>\n",
       "      <td>NaN</td>\n",
       "      <td>NaN</td>\n",
       "      <td>NaN</td>\n",
       "      <td>NaN</td>\n",
       "      <td>NaN</td>\n",
       "      <td>NaN</td>\n",
       "      <td>NaN</td>\n",
       "      <td>NaN</td>\n",
       "      <td>0.75</td>\n",
       "    </tr>\n",
       "    <tr>\n",
       "      <th>nfff3fc2c98f3b04</th>\n",
       "      <td>X</td>\n",
       "      <td>live</td>\n",
       "      <td>0.50</td>\n",
       "      <td>1.00</td>\n",
       "      <td>0.00</td>\n",
       "      <td>0.50</td>\n",
       "      <td>0.50</td>\n",
       "      <td>0.00</td>\n",
       "      <td>0.00</td>\n",
       "      <td>0.00</td>\n",
       "      <td>...</td>\n",
       "      <td>NaN</td>\n",
       "      <td>NaN</td>\n",
       "      <td>NaN</td>\n",
       "      <td>NaN</td>\n",
       "      <td>NaN</td>\n",
       "      <td>NaN</td>\n",
       "      <td>NaN</td>\n",
       "      <td>NaN</td>\n",
       "      <td>NaN</td>\n",
       "      <td>0.50</td>\n",
       "    </tr>\n",
       "  </tbody>\n",
       "</table>\n",
       "<p>1412937 rows × 1074 columns</p>\n",
       "</div>"
      ],
      "text/plain": [
       "                   era data_type  feature_dichasial_hammier_spawner  \\\n",
       "id                                                                    \n",
       "n000101811a8a843  0575      test                               0.50   \n",
       "n001e1318d5072ac  0575      test                               0.25   \n",
       "n002a9c5ab785cbb  0575      test                               0.25   \n",
       "n002ccf6d0e8c5ad  0575      test                               0.50   \n",
       "n0051ab821295c29  0575      test                               0.50   \n",
       "...                ...       ...                                ...   \n",
       "nffbdc800734996d     X      live                               0.25   \n",
       "nffece39957d267b     X      live                               0.50   \n",
       "nffedf2e8373db80     X      live                               1.00   \n",
       "nfff31b1f95f8bb8     X      live                               0.75   \n",
       "nfff3fc2c98f3b04     X      live                               0.50   \n",
       "\n",
       "                  feature_rheumy_epistemic_prancer  \\\n",
       "id                                                   \n",
       "n000101811a8a843                              0.00   \n",
       "n001e1318d5072ac                              1.00   \n",
       "n002a9c5ab785cbb                              0.50   \n",
       "n002ccf6d0e8c5ad                              1.00   \n",
       "n0051ab821295c29                              0.00   \n",
       "...                                            ...   \n",
       "nffbdc800734996d                              0.25   \n",
       "nffece39957d267b                              0.75   \n",
       "nffedf2e8373db80                              0.00   \n",
       "nfff31b1f95f8bb8                              0.50   \n",
       "nfff3fc2c98f3b04                              1.00   \n",
       "\n",
       "                  feature_pert_performative_hormuz  \\\n",
       "id                                                   \n",
       "n000101811a8a843                              1.00   \n",
       "n001e1318d5072ac                              0.50   \n",
       "n002a9c5ab785cbb                              0.50   \n",
       "n002ccf6d0e8c5ad                              0.50   \n",
       "n0051ab821295c29                              0.00   \n",
       "...                                            ...   \n",
       "nffbdc800734996d                              0.75   \n",
       "nffece39957d267b                              0.75   \n",
       "nffedf2e8373db80                              1.00   \n",
       "nfff31b1f95f8bb8                              0.50   \n",
       "nfff3fc2c98f3b04                              0.00   \n",
       "\n",
       "                  feature_hillier_unpitied_theobromine  \\\n",
       "id                                                       \n",
       "n000101811a8a843                                  0.00   \n",
       "n001e1318d5072ac                                  0.50   \n",
       "n002a9c5ab785cbb                                  0.75   \n",
       "n002ccf6d0e8c5ad                                  1.00   \n",
       "n0051ab821295c29                                  0.25   \n",
       "...                                                ...   \n",
       "nffbdc800734996d                                  0.50   \n",
       "nffece39957d267b                                  0.75   \n",
       "nffedf2e8373db80                                  0.50   \n",
       "nfff31b1f95f8bb8                                  0.25   \n",
       "nfff3fc2c98f3b04                                  0.50   \n",
       "\n",
       "                  feature_perigean_bewitching_thruster  \\\n",
       "id                                                       \n",
       "n000101811a8a843                                  0.75   \n",
       "n001e1318d5072ac                                  0.25   \n",
       "n002a9c5ab785cbb                                  0.25   \n",
       "n002ccf6d0e8c5ad                                  0.50   \n",
       "n0051ab821295c29                                  0.00   \n",
       "...                                                ...   \n",
       "nffbdc800734996d                                  0.00   \n",
       "nffece39957d267b                                  0.50   \n",
       "nffedf2e8373db80                                  0.00   \n",
       "nfff31b1f95f8bb8                                  0.50   \n",
       "nfff3fc2c98f3b04                                  0.50   \n",
       "\n",
       "                  feature_renegade_undomestic_milord  \\\n",
       "id                                                     \n",
       "n000101811a8a843                                0.00   \n",
       "n001e1318d5072ac                                0.75   \n",
       "n002a9c5ab785cbb                                0.25   \n",
       "n002ccf6d0e8c5ad                                1.00   \n",
       "n0051ab821295c29                                1.00   \n",
       "...                                              ...   \n",
       "nffbdc800734996d                                0.25   \n",
       "nffece39957d267b                                0.25   \n",
       "nffedf2e8373db80                                0.00   \n",
       "nfff31b1f95f8bb8                                0.25   \n",
       "nfff3fc2c98f3b04                                0.00   \n",
       "\n",
       "                  feature_koranic_rude_corf  \\\n",
       "id                                            \n",
       "n000101811a8a843                       1.00   \n",
       "n001e1318d5072ac                       0.75   \n",
       "n002a9c5ab785cbb                       0.75   \n",
       "n002ccf6d0e8c5ad                       0.75   \n",
       "n0051ab821295c29                       0.50   \n",
       "...                                     ...   \n",
       "nffbdc800734996d                       0.50   \n",
       "nffece39957d267b                       0.50   \n",
       "nffedf2e8373db80                       1.00   \n",
       "nfff31b1f95f8bb8                       0.25   \n",
       "nfff3fc2c98f3b04                       0.00   \n",
       "\n",
       "                  feature_demisable_expiring_millepede  ...  target_paul_60  \\\n",
       "id                                                      ...                   \n",
       "n000101811a8a843                                  0.25  ...             NaN   \n",
       "n001e1318d5072ac                                  0.00  ...             NaN   \n",
       "n002a9c5ab785cbb                                  0.00  ...             NaN   \n",
       "n002ccf6d0e8c5ad                                  0.50  ...             NaN   \n",
       "n0051ab821295c29                                  0.25  ...             NaN   \n",
       "...                                                ...  ...             ...   \n",
       "nffbdc800734996d                                  0.50  ...             NaN   \n",
       "nffece39957d267b                                  0.25  ...             NaN   \n",
       "nffedf2e8373db80                                  0.75  ...             NaN   \n",
       "nfff31b1f95f8bb8                                  0.25  ...             NaN   \n",
       "nfff3fc2c98f3b04                                  0.00  ...             NaN   \n",
       "\n",
       "                  target_george_20  target_george_60  target_william_20  \\\n",
       "id                                                                        \n",
       "n000101811a8a843               NaN               NaN                NaN   \n",
       "n001e1318d5072ac               NaN               NaN                NaN   \n",
       "n002a9c5ab785cbb               NaN               NaN                NaN   \n",
       "n002ccf6d0e8c5ad               NaN               NaN                NaN   \n",
       "n0051ab821295c29               NaN               NaN                NaN   \n",
       "...                            ...               ...                ...   \n",
       "nffbdc800734996d               NaN               NaN                NaN   \n",
       "nffece39957d267b               NaN               NaN                NaN   \n",
       "nffedf2e8373db80               NaN               NaN                NaN   \n",
       "nfff31b1f95f8bb8               NaN               NaN                NaN   \n",
       "nfff3fc2c98f3b04               NaN               NaN                NaN   \n",
       "\n",
       "                  target_william_60  target_arthur_20  target_arthur_60  \\\n",
       "id                                                                        \n",
       "n000101811a8a843                NaN               NaN               NaN   \n",
       "n001e1318d5072ac                NaN               NaN               NaN   \n",
       "n002a9c5ab785cbb                NaN               NaN               NaN   \n",
       "n002ccf6d0e8c5ad                NaN               NaN               NaN   \n",
       "n0051ab821295c29                NaN               NaN               NaN   \n",
       "...                             ...               ...               ...   \n",
       "nffbdc800734996d                NaN               NaN               NaN   \n",
       "nffece39957d267b                NaN               NaN               NaN   \n",
       "nffedf2e8373db80                NaN               NaN               NaN   \n",
       "nfff31b1f95f8bb8                NaN               NaN               NaN   \n",
       "nfff3fc2c98f3b04                NaN               NaN               NaN   \n",
       "\n",
       "                  target_thomas_20  target_thomas_60  \\\n",
       "id                                                     \n",
       "n000101811a8a843               NaN               NaN   \n",
       "n001e1318d5072ac               NaN               NaN   \n",
       "n002a9c5ab785cbb               NaN               NaN   \n",
       "n002ccf6d0e8c5ad               NaN               NaN   \n",
       "n0051ab821295c29               NaN               NaN   \n",
       "...                            ...               ...   \n",
       "nffbdc800734996d               NaN               NaN   \n",
       "nffece39957d267b               NaN               NaN   \n",
       "nffedf2e8373db80               NaN               NaN   \n",
       "nfff31b1f95f8bb8               NaN               NaN   \n",
       "nfff3fc2c98f3b04               NaN               NaN   \n",
       "\n",
       "                  prediction_numerai-predictions-numerbay  \n",
       "id                                                         \n",
       "n000101811a8a843                                     0.50  \n",
       "n001e1318d5072ac                                     0.25  \n",
       "n002a9c5ab785cbb                                     0.25  \n",
       "n002ccf6d0e8c5ad                                     0.50  \n",
       "n0051ab821295c29                                     0.50  \n",
       "...                                                   ...  \n",
       "nffbdc800734996d                                     0.25  \n",
       "nffece39957d267b                                     0.50  \n",
       "nffedf2e8373db80                                     1.00  \n",
       "nfff31b1f95f8bb8                                     0.75  \n",
       "nfff3fc2c98f3b04                                     0.50  \n",
       "\n",
       "[1412937 rows x 1074 columns]"
      ]
     },
     "execution_count": null,
     "metadata": {},
     "output_type": "execute_result"
    }
   ],
   "source": [
    "preds"
   ]
  },
  {
   "cell_type": "markdown",
   "metadata": {},
   "source": [
    "In this part of the tutorial we have downloaded a prediction file from NumerBay with `NumerFrame`. This makes things easier for post processing such as ensembling and neutralization."
   ]
  },
  {
   "cell_type": "markdown",
   "metadata": {},
   "source": [
    "------------------------------------------------------"
   ]
  },
  {
   "cell_type": "markdown",
   "metadata": {},
   "source": [
    "# NumerBay submission"
   ]
  },
  {
   "cell_type": "markdown",
   "metadata": {},
   "source": [
    "This part of the tutorial is for sellers who want to upload their predictions to NumerBay to fulfill sale orders. Using `NumerBaySubmitter`, a seller can choose to submit to both Numerai and NumerBay or just NumerBay."
   ]
  },
  {
   "cell_type": "markdown",
   "metadata": {},
   "source": [
    "Assume we have some prediction column to upload for the Numerai main tournament, in this case the `prediction` column which simply takes the value of a feature."
   ]
  },
  {
   "cell_type": "code",
   "execution_count": null,
   "metadata": {},
   "outputs": [],
   "source": [
    "dataf = create_numerframe(tournament_save_path, metadata={\"version\": 3, \"type\": \"tournament\"})"
   ]
  },
  {
   "cell_type": "code",
   "execution_count": null,
   "metadata": {},
   "outputs": [],
   "source": [
    "dataf['prediction'] = dataf['feature_dichasial_hammier_spawner']"
   ]
  },
  {
   "cell_type": "markdown",
   "metadata": {},
   "source": [
    "Next, we create a `NumerBaySubmitter` object which wraps on top of a `NumeraiClassicSubmitter` object that you would normally use if you are only submitting to Numerai."
   ]
  },
  {
   "cell_type": "code",
   "execution_count": null,
   "metadata": {},
   "outputs": [
    {
     "data": {
      "text/html": [
       "<pre style=\"white-space:pre;overflow-x:auto;line-height:normal;font-family:Menlo,'DejaVu Sans Mono',consolas,'Courier New',monospace\">🔑 Numerai Auth key initialized with pub_id = <span style=\"color: #008000; text-decoration-color: #008000\">'YOUR_PUBLIC_KEY'</span> 🔑\n",
       "</pre>\n"
      ],
      "text/plain": [
       "🔑 Numerai Auth key initialized with pub_id = \u001b[32m'YOUR_PUBLIC_KEY'\u001b[0m 🔑\n"
      ]
     },
     "metadata": {},
     "output_type": "display_data"
    }
   ],
   "source": [
    "key = Key(pub_id='YOUR_PUBLIC_KEY', secret_key='YOUR_PRIVATE_KEY')  # change to your own Numerai API key\n",
    "numerai_submitter = NumeraiClassicSubmitter(directory_path=\"/app/notebooks/tmp\", key=key)"
   ]
  },
  {
   "cell_type": "markdown",
   "metadata": {},
   "source": [
    "Set `upload_to_numerai` to True (default) if you want to submit to both Numerai and NumerBay, set to False to submit only to NumerBay."
   ]
  },
  {
   "cell_type": "code",
   "execution_count": null,
   "metadata": {},
   "outputs": [],
   "source": [
    "nb_submitter = NumerBaySubmitter(tournament_submitter=numerai_submitter, upload_to_numerai=True, numerbay_username=\"numerbay\", numerbay_password=\"your_password\")"
   ]
  },
  {
   "cell_type": "markdown",
   "metadata": {},
   "source": [
    "Finally, we call the `full_submission` method to perform the submission"
   ]
  },
  {
   "cell_type": "code",
   "execution_count": null,
   "metadata": {},
   "outputs": [
    {
     "data": {
      "text/html": [
       "<pre style=\"white-space:pre;overflow-x:auto;line-height:normal;font-family:Menlo,'DejaVu Sans Mono',consolas,'Courier New',monospace\">📄 Saving predictions CSV to <span style=\"color: #008000; text-decoration-color: #008000\">'/app/notebooks/tmp/upload-full.csv'</span>. 📄\n",
       "</pre>\n"
      ],
      "text/plain": [
       "📄 Saving predictions CSV to \u001b[32m'/app/notebooks/tmp/upload-full.csv'\u001b[0m. 📄\n"
      ]
     },
     "metadata": {},
     "output_type": "display_data"
    },
    {
     "data": {
      "text/html": [
       "<pre style=\"white-space:pre;overflow-x:auto;line-height:normal;font-family:Menlo,'DejaVu Sans Mono',consolas,'Courier New',monospace\">✈ NumerAPI: Uploading predictions from <span style=\"color: #008000; text-decoration-color: #008000\">'/app/notebooks/tmp/upload-full.csv'</span> for model \n",
       "<span style=\"color: #000080; text-decoration-color: #000080; font-weight: bold\">'numerbay'</span> <span style=\"font-weight: bold\">(</span><span style=\"color: #808000; text-decoration-color: #808000\">model_id</span>=<span style=\"color: #008000; text-decoration-color: #008000\">'adabxxx-3acf-470e-8733-e4283261xxxx'</span><span style=\"font-weight: bold\">)</span> ✈\n",
       "</pre>\n"
      ],
      "text/plain": [
       "✈ NumerAPI: Uploading predictions from \u001b[32m'/app/notebooks/tmp/upload-full.csv'\u001b[0m for model \n",
       "\u001b[1;34m'numerbay'\u001b[0m \u001b[1m(\u001b[0m\u001b[33mmodel_id\u001b[0m=\u001b[32m'adabxxx-3acf-470e-8733-e4283261xxxx'\u001b[0m\u001b[1m)\u001b[0m ✈\n"
      ]
     },
     "metadata": {},
     "output_type": "display_data"
    },
    {
     "name": "stderr",
     "output_type": "stream",
     "text": [
      "2022-04-08 08:33:17,889 INFO numerapi.base_api: uploading predictions...\n"
     ]
    },
    {
     "data": {
      "text/html": [
       "<pre style=\"white-space:pre;overflow-x:auto;line-height:normal;font-family:Menlo,'DejaVu Sans Mono',consolas,'Courier New',monospace\">👍 NumerAPI submission of <span style=\"color: #008000; text-decoration-color: #008000\">'/app/notebooks/tmp/upload-full.csv'</span> for <span style=\"color: #000080; text-decoration-color: #000080; font-weight: bold\">numerbay</span> is successful! 👍\n",
       "</pre>\n"
      ],
      "text/plain": [
       "👍 NumerAPI submission of \u001b[32m'/app/notebooks/tmp/upload-full.csv'\u001b[0m for \u001b[1;34mnumerbay\u001b[0m is successful! 👍\n"
      ]
     },
     "metadata": {},
     "output_type": "display_data"
    },
    {
     "data": {
      "text/html": [
       "<pre style=\"white-space:pre;overflow-x:auto;line-height:normal;font-family:Menlo,'DejaVu Sans Mono',consolas,'Courier New',monospace\">✈ NumerBay: Uploading predictions from <span style=\"color: #008000; text-decoration-color: #008000\">'/app/notebooks/tmp/upload-full.csv'</span> for NumerBay \n",
       "product <span style=\"color: #000080; text-decoration-color: #000080; font-weight: bold\">'numerai-predictions-numerbay'</span> ✈\n",
       "</pre>\n"
      ],
      "text/plain": [
       "✈ NumerBay: Uploading predictions from \u001b[32m'/app/notebooks/tmp/upload-full.csv'\u001b[0m for NumerBay \n",
       "product \u001b[1;34m'numerai-predictions-numerbay'\u001b[0m ✈\n"
      ]
     },
     "metadata": {},
     "output_type": "display_data"
    },
    {
     "name": "stderr",
     "output_type": "stream",
     "text": [
      "2022-04-08 08:34:00,032 INFO numerbay.numerbay: uploading artifact...\n",
      "2022-04-08 08:34:00,576 INFO numerbay.numerbay: uploading encrypted artifact for order [1217] for [some_buyer]...\n",
      "2022-04-08 08:34:01,069 INFO numerbay.utils: encrypting file\n"
     ]
    },
    {
     "data": {
      "text/html": [
       "<pre style=\"white-space:pre;overflow-x:auto;line-height:normal;font-family:Menlo,'DejaVu Sans Mono',consolas,'Courier New',monospace\">👍 NumerBay submission of <span style=\"color: #008000; text-decoration-color: #008000\">'/app/notebooks/tmp/upload-full.csv'</span> for NumerBay product \n",
       "<span style=\"color: #000080; text-decoration-color: #000080; font-weight: bold\">numerai-predictions-numerbay</span> is successful! 👍\n",
       "</pre>\n"
      ],
      "text/plain": [
       "👍 NumerBay submission of \u001b[32m'/app/notebooks/tmp/upload-full.csv'\u001b[0m for NumerBay product \n",
       "\u001b[1;34mnumerai-predictions-numerbay\u001b[0m is successful! 👍\n"
      ]
     },
     "metadata": {},
     "output_type": "display_data"
    }
   ],
   "source": [
    "nb_submitter.full_submission(dataf, file_name='upload-full.csv', model_name='numerbay', numerbay_product_full_name='numerai-predictions-numerbay', cols='prediction')"
   ]
  },
  {
   "cell_type": "markdown",
   "metadata": {},
   "source": [
    "The process for Signals submission is very similar and is omitted for brevity, just do the following:\n",
    "- Use Signals NumerFrame\n",
    "- Change `NumeraiClassicSubmitter` to `NumeraiSignalsSubmitter` for the `tournament_submitter` argument\n",
    "- When calling `full_submission`, change the `cols` argument to the list of Signals column to submit (e.g. `['bloomberg_ticker', 'signal']`)"
   ]
  },
  {
   "cell_type": "markdown",
   "metadata": {},
   "source": [
    "------------------------------------------------------"
   ]
  },
  {
   "cell_type": "markdown",
   "metadata": {},
   "source": [
    "After we are done we can easily clean up our downloaded data with one line of code called from the downloader."
   ]
  },
  {
   "cell_type": "code",
   "execution_count": null,
   "metadata": {},
   "outputs": [
    {
     "data": {
      "text/html": [
       "<pre style=\"white-space:pre;overflow-x:auto;line-height:normal;font-family:Menlo,'DejaVu Sans Mono',consolas,'Courier New',monospace\">⚠ <span style=\"color: #800000; text-decoration-color: #800000\">Deleting directory for </span><span style=\"color: #800000; text-decoration-color: #800000\">'NumeraiClassicDownloader</span><span style=\"color: #008000; text-decoration-color: #008000\">'</span> ⚠\n",
       "Path: <span style=\"color: #008000; text-decoration-color: #008000\">'/app/notebooks/numerframe_edu'</span>\n",
       "</pre>\n"
      ],
      "text/plain": [
       "⚠ \u001b[31mDeleting directory for \u001b[0m\u001b[31m'NumeraiClassicDownloader\u001b[0m\u001b[32m'\u001b[0m ⚠\n",
       "Path: \u001b[32m'/app/notebooks/numerframe_edu'\u001b[0m\n"
      ]
     },
     "metadata": {},
     "output_type": "display_data"
    }
   ],
   "source": [
    "# Clean up environment\n",
    "downloader.remove_base_directory()"
   ]
  },
  {
   "cell_type": "code",
   "execution_count": null,
   "metadata": {},
   "outputs": [],
   "source": []
  }
 ],
 "metadata": {
  "kernelspec": {
   "display_name": "Python 3",
   "language": "python",
   "name": "python3"
  }
 },
 "nbformat": 4,
 "nbformat_minor": 4
}
