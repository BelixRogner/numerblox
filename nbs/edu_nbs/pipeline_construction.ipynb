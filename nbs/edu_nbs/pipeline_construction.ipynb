{
 "cells": [
  {
   "cell_type": "raw",
   "metadata": {},
   "source": [
    "---\n",
    "output-file: pipeline_construction.html\n",
    "title: Constructing Model Pipelines\n",
    "\n",
    "---\n",
    "\n"
   ]
  },
  {
   "cell_type": "code",
   "execution_count": 1,
   "metadata": {
    "collapsed": true
   },
   "outputs": [],
   "source": [
    "#| include: false\n",
    "from nbdev.showdoc import *"
   ]
  },
  {
   "cell_type": "code",
   "execution_count": 2,
   "metadata": {
    "collapsed": false,
    "pycharm": {
     "name": "#%%\n"
    }
   },
   "outputs": [],
   "source": [
    "from numerblox.download import NumeraiClassicDownloader\n",
    "from numerblox.numerframe import create_numerframe\n",
    "from numerblox.model_pipeline import ModelPipeline, ModelPipelineCollection"
   ]
  },
  {
   "cell_type": "markdown",
   "metadata": {
    "collapsed": false
   },
   "source": [
    "## Why bother using ModelPipeline?"
   ]
  },
  {
   "cell_type": "markdown",
   "metadata": {
    "collapsed": false
   },
   "source": [
    "This framework allows you to easily compose a full data pipeline from Preprocessors, Models and Postprocessors. This lego block style will improve readability and scalability for your Numerai inference pipelines. Since many components are reusable, it is also likely to speed up the process of putting Numerai models into production.\n",
    "\n",
    "In order to make predictions, `ModelPipeline` takes a `NumerFrame` as input and outputs a `NumerFrame` with prediction columns added.\n",
    "\n",
    "`ModelPipeline` ensures that all processing steps are performed in a correct order and gives you a more concise overview of your full pipeline. This will simplify your weekly inference setup and allows you to scale more comfortably to multiple models.\n",
    "\n",
    "To increase overview, many components of a typical pipeline also perform data integrity checks and provide helpful console output. These displays allow you to identify slow implementations or other data bottlenecks."
   ]
  },
  {
   "cell_type": "markdown",
   "metadata": {
    "collapsed": false
   },
   "source": [
    "## 0. Download live data"
   ]
  },
  {
   "cell_type": "code",
   "execution_count": 3,
   "metadata": {
    "collapsed": false,
    "pycharm": {
     "name": "#%%\n"
    }
   },
   "outputs": [
    {
     "data": {
      "text/html": "<pre style=\"white-space:pre;overflow-x:auto;line-height:normal;font-family:Menlo,'DejaVu Sans Mono',consolas,'Courier New',monospace\">📁 <span style=\"color: #008000; text-decoration-color: #008000\">Downloading</span> <span style=\"color: #008000; text-decoration-color: #008000\">'numerai_live_data.parquet'</span> 📁\n</pre>\n",
      "text/plain": "📁 \u001b[32mDownloading\u001b[0m \u001b[32m'numerai_live_data.parquet'\u001b[0m 📁\n"
     },
     "metadata": {},
     "output_type": "display_data"
    },
    {
     "name": "stderr",
     "output_type": "stream",
     "text": [
      "2022-02-18 13:38:44,899 INFO numerapi.utils: target file already exists\n",
      "2022-02-18 13:38:44,900 INFO numerapi.utils: download complete\n"
     ]
    }
   ],
   "source": [
    "# Download most recent live data\n",
    "downloader = NumeraiClassicDownloader(\"pipeline_test\")\n",
    "downloader.download_live_data()\n",
    "\n",
    "# Initialize NumerFrame from parquet file path\n",
    "file_path = 'pipeline_test/numerai_live_data.parquet'\n",
    "dataf = create_numerframe(file_path, metadata={\"version\": 2,\n",
    "                                               \"type\": \"live\",\n",
    "                                               \"model_name\": \"test\",\n",
    "                                               \"original_path\": file_path\n",
    "                                               }\n",
    "                          )"
   ]
  },
  {
   "cell_type": "markdown",
   "metadata": {
    "collapsed": false,
    "pycharm": {
     "name": "#%% md\n"
    }
   },
   "source": [
    "------------------------------------------------------------------\n",
    "## Example 1. Catboost model (.joblib) with 0.5 feature neutralization."
   ]
  },
  {
   "cell_type": "markdown",
   "metadata": {
    "collapsed": false
   },
   "source": [
    "A very common use case is to predict from a single model on all features and perhaps do some feature neutralization. These can be set up with a few lines of code.\n",
    "\n",
    "1. Use `SingleModel` which handles prediction logic for several formats (`.joblib`, `.cbm`, `.pickle`, `.pkl`, `.cbm`, `.lgb` and `.h5`.)"
   ]
  },
  {
   "cell_type": "code",
   "execution_count": 4,
   "metadata": {
    "collapsed": false,
    "pycharm": {
     "name": "#%%\n"
    }
   },
   "outputs": [],
   "source": [
    "from numerblox.model import SingleModel\n",
    "from numerblox.postprocessing import FeatureNeutralizer"
   ]
  },
  {
   "cell_type": "code",
   "execution_count": 5,
   "metadata": {
    "collapsed": false,
    "pycharm": {
     "name": "#%%\n"
    }
   },
   "outputs": [],
   "source": [
    "joblib_model = SingleModel(\"../nbs/test_assets/joblib_v2_example_model.joblib\",\n",
    "                    model_name=\"joblib\")\n",
    "neutralizer = FeatureNeutralizer(pred_name=\"prediction_joblib\",\n",
    "                                 proportion=0.5)"
   ]
  },
  {
   "cell_type": "code",
   "execution_count": 6,
   "metadata": {
    "collapsed": false,
    "pycharm": {
     "name": "#%%\n"
    }
   },
   "outputs": [],
   "source": [
    "pipeline1 = ModelPipeline(models=[joblib_model],\n",
    "                          pipeline_name=\"joblib_pipeline\",\n",
    "                          postprocessors=[neutralizer])"
   ]
  },
  {
   "cell_type": "code",
   "execution_count": 7,
   "metadata": {
    "collapsed": false,
    "pycharm": {
     "name": "#%%\n"
    }
   },
   "outputs": [
    {
     "data": {
      "text/html": "<pre style=\"white-space:pre;overflow-x:auto;line-height:normal;font-family:Menlo,'DejaVu Sans Mono',consolas,'Courier New',monospace\">✅ Finished step <span style=\"font-weight: bold\">CopyPreProcessor</span>. Output <span style=\"color: #808000; text-decoration-color: #808000\">shape</span>=<span style=\"font-weight: bold\">(</span><span style=\"color: #008080; text-decoration-color: #008080; font-weight: bold\">5338</span>, <span style=\"color: #008080; text-decoration-color: #008080; font-weight: bold\">1073</span><span style=\"font-weight: bold\">)</span>. Time taken for step: \n<span style=\"color: #000080; text-decoration-color: #000080; font-weight: bold\">0:00:00</span><span style=\"color: #000080; text-decoration-color: #000080\">.</span><span style=\"color: #000080; text-decoration-color: #000080; font-weight: bold\">026053</span>. ✅\n</pre>\n",
      "text/plain": "✅ Finished step \u001b[1mCopyPreProcessor\u001b[0m. Output \u001b[33mshape\u001b[0m=\u001b[1m(\u001b[0m\u001b[1;36m5338\u001b[0m, \u001b[1;36m1073\u001b[0m\u001b[1m)\u001b[0m. Time taken for step: \n\u001b[1;34m0:00:00\u001b[0m\u001b[34m.\u001b[0m\u001b[1;34m026053\u001b[0m. ✅\n"
     },
     "metadata": {},
     "output_type": "display_data"
    },
    {
     "data": {
      "application/vnd.jupyter.widget-view+json": {
       "model_id": "5a7c9094badf44adb41c5f7f5ddcfa98",
       "version_major": 2,
       "version_minor": 0
      },
      "text/plain": "joblib_pipeline Preprocessing:: 0it [00:00, ?it/s]"
     },
     "metadata": {},
     "output_type": "display_data"
    },
    {
     "data": {
      "application/vnd.jupyter.widget-view+json": {
       "model_id": "a954fecc2da1441dba8242dc53036b38",
       "version_major": 2,
       "version_minor": 0
      },
      "text/plain": "joblib_pipeline Model prediction:   0%|          | 0/1 [00:00<?, ?it/s]"
     },
     "metadata": {},
     "output_type": "display_data"
    },
    {
     "data": {
      "text/html": "<pre style=\"white-space:pre;overflow-x:auto;line-height:normal;font-family:Menlo,'DejaVu Sans Mono',consolas,'Courier New',monospace\">🤖 Generating model predictions with <span style=\"color: #008000; text-decoration-color: #008000\">'</span><span style=\"color: #008000; text-decoration-color: #008000; font-weight: bold\">SingleModel</span><span style=\"color: #008000; text-decoration-color: #008000\">'</span>. 🤖\n</pre>\n",
      "text/plain": "🤖 Generating model predictions with \u001b[32m'\u001b[0m\u001b[1;32mSingleModel\u001b[0m\u001b[32m'\u001b[0m. 🤖\n"
     },
     "metadata": {},
     "output_type": "display_data"
    },
    {
     "name": "stderr",
     "output_type": "stream",
     "text": [
      "2022-02-18 13:38:45,496 INFO numexpr.utils: Note: NumExpr detected 16 cores but \"NUMEXPR_MAX_THREADS\" not set, so enforcing safe limit of 8.\n",
      "2022-02-18 13:38:45,497 INFO numexpr.utils: NumExpr defaulting to 8 threads.\n"
     ]
    },
    {
     "data": {
      "text/html": "<pre style=\"white-space:pre;overflow-x:auto;line-height:normal;font-family:Menlo,'DejaVu Sans Mono',consolas,'Courier New',monospace\">✅ Finished step <span style=\"font-weight: bold\">Standardizer</span>. Output <span style=\"color: #808000; text-decoration-color: #808000\">shape</span>=<span style=\"font-weight: bold\">(</span><span style=\"color: #008080; text-decoration-color: #008080; font-weight: bold\">5338</span>, <span style=\"color: #008080; text-decoration-color: #008080; font-weight: bold\">1074</span><span style=\"font-weight: bold\">)</span>. Time taken for step: \n<span style=\"color: #000080; text-decoration-color: #000080; font-weight: bold\">0:00:00</span><span style=\"color: #000080; text-decoration-color: #000080\">.</span><span style=\"color: #000080; text-decoration-color: #000080; font-weight: bold\">025666</span>. ✅\n</pre>\n",
      "text/plain": "✅ Finished step \u001b[1mStandardizer\u001b[0m. Output \u001b[33mshape\u001b[0m=\u001b[1m(\u001b[0m\u001b[1;36m5338\u001b[0m, \u001b[1;36m1074\u001b[0m\u001b[1m)\u001b[0m. Time taken for step: \n\u001b[1;34m0:00:00\u001b[0m\u001b[34m.\u001b[0m\u001b[1;34m025666\u001b[0m. ✅\n"
     },
     "metadata": {},
     "output_type": "display_data"
    },
    {
     "data": {
      "application/vnd.jupyter.widget-view+json": {
       "model_id": "02f322cd36e5474d98c802ad58002520",
       "version_major": 2,
       "version_minor": 0
      },
      "text/plain": "joblib_pipeline Postprocessing:   0%|          | 0/1 [00:00<?, ?it/s]"
     },
     "metadata": {},
     "output_type": "display_data"
    },
    {
     "data": {
      "text/html": "<pre style=\"white-space:pre;overflow-x:auto;line-height:normal;font-family:Menlo,'DejaVu Sans Mono',consolas,'Courier New',monospace\">🚧 Applying postprocessing: <span style=\"color: #008000; text-decoration-color: #008000\">'</span><span style=\"color: #008000; text-decoration-color: #008000; font-weight: bold\">FeatureNeutralizer</span><span style=\"color: #008000; text-decoration-color: #008000\">'</span> 🚧\n</pre>\n",
      "text/plain": "🚧 Applying postprocessing: \u001b[32m'\u001b[0m\u001b[1;32mFeatureNeutralizer\u001b[0m\u001b[32m'\u001b[0m 🚧\n"
     },
     "metadata": {},
     "output_type": "display_data"
    },
    {
     "data": {
      "text/html": "<pre style=\"white-space:pre;overflow-x:auto;line-height:normal;font-family:Menlo,'DejaVu Sans Mono',consolas,'Courier New',monospace\">🤖 Neutralized <span style=\"color: #000080; text-decoration-color: #000080; font-weight: bold\">'prediction_joblib'</span><span style=\"color: #000080; text-decoration-color: #000080; font-weight: bold\"> with proportion </span><span style=\"color: #000080; text-decoration-color: #000080; font-weight: bold\">'0.5'</span><span style=\"color: #000080; text-decoration-color: #000080; font-weight: bold\"> 🤖</span>\n</pre>\n",
      "text/plain": "🤖 Neutralized \u001b[1;34m'prediction_joblib'\u001b[0m\u001b[1;34m with proportion \u001b[0m\u001b[1;34m'0.5'\u001b[0m\u001b[1;34m 🤖\u001b[0m\n"
     },
     "metadata": {},
     "output_type": "display_data"
    },
    {
     "data": {
      "text/html": "<pre style=\"white-space:pre;overflow-x:auto;line-height:normal;font-family:Menlo,'DejaVu Sans Mono',consolas,'Courier New',monospace\">New neutralized column = <span style=\"color: #008000; text-decoration-color: #008000; font-weight: bold\">'prediction_joblib_neutralized_0.5'</span>.\n</pre>\n",
      "text/plain": "New neutralized column = \u001b[1;32m'prediction_joblib_neutralized_0.5'\u001b[0m.\n"
     },
     "metadata": {},
     "output_type": "display_data"
    },
    {
     "data": {
      "text/html": "<pre style=\"white-space:pre;overflow-x:auto;line-height:normal;font-family:Menlo,'DejaVu Sans Mono',consolas,'Courier New',monospace\">✅ Finished step <span style=\"font-weight: bold\">FeatureNeutralizer</span>. Output <span style=\"color: #808000; text-decoration-color: #808000\">shape</span>=<span style=\"font-weight: bold\">(</span><span style=\"color: #008080; text-decoration-color: #008080; font-weight: bold\">5338</span>, <span style=\"color: #008080; text-decoration-color: #008080; font-weight: bold\">1075</span><span style=\"font-weight: bold\">)</span>. Time taken for step: \n<span style=\"color: #000080; text-decoration-color: #000080; font-weight: bold\">0:00:00</span><span style=\"color: #000080; text-decoration-color: #000080\">.</span><span style=\"color: #000080; text-decoration-color: #000080; font-weight: bold\">543439</span>. ✅\n</pre>\n",
      "text/plain": "✅ Finished step \u001b[1mFeatureNeutralizer\u001b[0m. Output \u001b[33mshape\u001b[0m=\u001b[1m(\u001b[0m\u001b[1;36m5338\u001b[0m, \u001b[1;36m1075\u001b[0m\u001b[1m)\u001b[0m. Time taken for step: \n\u001b[1;34m0:00:00\u001b[0m\u001b[34m.\u001b[0m\u001b[1;34m543439\u001b[0m. ✅\n"
     },
     "metadata": {},
     "output_type": "display_data"
    },
    {
     "data": {
      "text/html": "<pre style=\"white-space:pre;overflow-x:auto;line-height:normal;font-family:Menlo,'DejaVu Sans Mono',consolas,'Courier New',monospace\">🏁 <span style=\"color: #008000; text-decoration-color: #008000\">Finished pipeline: </span><span style=\"color: #000080; text-decoration-color: #000080; font-weight: bold\">'joblib_pipeline'</span><span style=\"color: #000080; text-decoration-color: #000080; font-weight: bold\">! 🏁</span>\n</pre>\n",
      "text/plain": "🏁 \u001b[32mFinished pipeline:\u001b[0m\u001b[32m \u001b[0m\u001b[1;34m'joblib_pipeline'\u001b[0m\u001b[1;34m! 🏁\u001b[0m\n"
     },
     "metadata": {},
     "output_type": "display_data"
    }
   ],
   "source": [
    "prediction_dataf = pipeline1(dataf)"
   ]
  },
  {
   "cell_type": "code",
   "execution_count": 8,
   "metadata": {
    "collapsed": false,
    "pycharm": {
     "name": "#%%\n"
    }
   },
   "outputs": [
    {
     "data": {
      "text/html": "<div>\n<style scoped>\n    .dataframe tbody tr th:only-of-type {\n        vertical-align: middle;\n    }\n\n    .dataframe tbody tr th {\n        vertical-align: top;\n    }\n\n    .dataframe thead th {\n        text-align: right;\n    }\n</style>\n<table border=\"1\" class=\"dataframe\">\n  <thead>\n    <tr style=\"text-align: right;\">\n      <th></th>\n      <th>prediction_joblib</th>\n      <th>prediction_joblib_neutralized_0.5</th>\n    </tr>\n    <tr>\n      <th>id</th>\n      <th></th>\n      <th></th>\n    </tr>\n  </thead>\n  <tbody>\n    <tr>\n      <th>n0001e4a82d5531c</th>\n      <td>0.480704</td>\n      <td>0.466076</td>\n    </tr>\n    <tr>\n      <th>n000ace6d1f6367e</th>\n      <td>0.834582</td>\n      <td>0.583167</td>\n    </tr>\n  </tbody>\n</table>\n</div>",
      "text/plain": "                  prediction_joblib  prediction_joblib_neutralized_0.5\nid                                                                    \nn0001e4a82d5531c           0.480704                           0.466076\nn000ace6d1f6367e           0.834582                           0.583167"
     },
     "execution_count": 8,
     "metadata": {},
     "output_type": "execute_result"
    }
   ],
   "source": [
    "prediction_dataf.get_prediction_data.head(2)"
   ]
  },
  {
   "cell_type": "markdown",
   "metadata": {
    "collapsed": false,
    "pycharm": {
     "name": "#%% md\n"
    }
   },
   "source": [
    "--------------------------------------------------\n",
    "## Example 2. Ensembling multiple models"
   ]
  },
  {
   "cell_type": "code",
   "execution_count": 9,
   "metadata": {
    "collapsed": false,
    "pycharm": {
     "name": "#%%\n"
    }
   },
   "outputs": [],
   "source": [
    "from numerblox.model import RandomModel\n",
    "from numerblox.postprocessing import MeanEnsembler"
   ]
  },
  {
   "cell_type": "code",
   "execution_count": 10,
   "metadata": {
    "collapsed": false,
    "pycharm": {
     "name": "#%%\n"
    }
   },
   "outputs": [],
   "source": [
    "random_model = RandomModel()"
   ]
  },
  {
   "cell_type": "code",
   "execution_count": 11,
   "metadata": {
    "collapsed": false,
    "pycharm": {
     "name": "#%%\n"
    }
   },
   "outputs": [],
   "source": [
    "pipeline2 = ModelPipeline(models=[joblib_model, random_model],\n",
    "                          pipeline_name=\"joblib_and_random\",\n",
    "                          postprocessors=[MeanEnsembler(cols=['prediction_joblib',\n",
    "                                                              'prediction_random'],\n",
    "                                                        final_col_name=\"prediction_ensemble\")]\n",
    "                         )"
   ]
  },
  {
   "cell_type": "code",
   "execution_count": 12,
   "metadata": {
    "collapsed": false,
    "pycharm": {
     "name": "#%%\n"
    }
   },
   "outputs": [
    {
     "data": {
      "text/html": "<pre style=\"white-space:pre;overflow-x:auto;line-height:normal;font-family:Menlo,'DejaVu Sans Mono',consolas,'Courier New',monospace\">✅ Finished step <span style=\"font-weight: bold\">CopyPreProcessor</span>. Output <span style=\"color: #808000; text-decoration-color: #808000\">shape</span>=<span style=\"font-weight: bold\">(</span><span style=\"color: #008080; text-decoration-color: #008080; font-weight: bold\">5338</span>, <span style=\"color: #008080; text-decoration-color: #008080; font-weight: bold\">1073</span><span style=\"font-weight: bold\">)</span>. Time taken for step: \n<span style=\"color: #000080; text-decoration-color: #000080; font-weight: bold\">0:00:00</span><span style=\"color: #000080; text-decoration-color: #000080\">.</span><span style=\"color: #000080; text-decoration-color: #000080; font-weight: bold\">020629</span>. ✅\n</pre>\n",
      "text/plain": "✅ Finished step \u001b[1mCopyPreProcessor\u001b[0m. Output \u001b[33mshape\u001b[0m=\u001b[1m(\u001b[0m\u001b[1;36m5338\u001b[0m, \u001b[1;36m1073\u001b[0m\u001b[1m)\u001b[0m. Time taken for step: \n\u001b[1;34m0:00:00\u001b[0m\u001b[34m.\u001b[0m\u001b[1;34m020629\u001b[0m. ✅\n"
     },
     "metadata": {},
     "output_type": "display_data"
    },
    {
     "data": {
      "application/vnd.jupyter.widget-view+json": {
       "model_id": "bcdbdc2d97d649d294b29eb15ac24c65",
       "version_major": 2,
       "version_minor": 0
      },
      "text/plain": "joblib_and_random Preprocessing:: 0it [00:00, ?it/s]"
     },
     "metadata": {},
     "output_type": "display_data"
    },
    {
     "data": {
      "application/vnd.jupyter.widget-view+json": {
       "model_id": "c809410f3fff40f58343700628863e82",
       "version_major": 2,
       "version_minor": 0
      },
      "text/plain": "joblib_and_random Model prediction:   0%|          | 0/2 [00:00<?, ?it/s]"
     },
     "metadata": {},
     "output_type": "display_data"
    },
    {
     "data": {
      "text/html": "<pre style=\"white-space:pre;overflow-x:auto;line-height:normal;font-family:Menlo,'DejaVu Sans Mono',consolas,'Courier New',monospace\">🤖 Generating model predictions with <span style=\"color: #008000; text-decoration-color: #008000\">'</span><span style=\"color: #008000; text-decoration-color: #008000; font-weight: bold\">SingleModel</span><span style=\"color: #008000; text-decoration-color: #008000\">'</span>. 🤖\n</pre>\n",
      "text/plain": "🤖 Generating model predictions with \u001b[32m'\u001b[0m\u001b[1;32mSingleModel\u001b[0m\u001b[32m'\u001b[0m. 🤖\n"
     },
     "metadata": {},
     "output_type": "display_data"
    },
    {
     "data": {
      "text/html": "<pre style=\"white-space:pre;overflow-x:auto;line-height:normal;font-family:Menlo,'DejaVu Sans Mono',consolas,'Courier New',monospace\">🤖 Generating model predictions with <span style=\"color: #008000; text-decoration-color: #008000\">'</span><span style=\"color: #008000; text-decoration-color: #008000; font-weight: bold\">RandomModel</span><span style=\"color: #008000; text-decoration-color: #008000\">'</span>. 🤖\n</pre>\n",
      "text/plain": "🤖 Generating model predictions with \u001b[32m'\u001b[0m\u001b[1;32mRandomModel\u001b[0m\u001b[32m'\u001b[0m. 🤖\n"
     },
     "metadata": {},
     "output_type": "display_data"
    },
    {
     "data": {
      "text/html": "<pre style=\"white-space:pre;overflow-x:auto;line-height:normal;font-family:Menlo,'DejaVu Sans Mono',consolas,'Courier New',monospace\">✅ Finished step <span style=\"font-weight: bold\">Standardizer</span>. Output <span style=\"color: #808000; text-decoration-color: #808000\">shape</span>=<span style=\"font-weight: bold\">(</span><span style=\"color: #008080; text-decoration-color: #008080; font-weight: bold\">5338</span>, <span style=\"color: #008080; text-decoration-color: #008080; font-weight: bold\">1075</span><span style=\"font-weight: bold\">)</span>. Time taken for step: \n<span style=\"color: #000080; text-decoration-color: #000080; font-weight: bold\">0:00:00</span><span style=\"color: #000080; text-decoration-color: #000080\">.</span><span style=\"color: #000080; text-decoration-color: #000080; font-weight: bold\">022125</span>. ✅\n</pre>\n",
      "text/plain": "✅ Finished step \u001b[1mStandardizer\u001b[0m. Output \u001b[33mshape\u001b[0m=\u001b[1m(\u001b[0m\u001b[1;36m5338\u001b[0m, \u001b[1;36m1075\u001b[0m\u001b[1m)\u001b[0m. Time taken for step: \n\u001b[1;34m0:00:00\u001b[0m\u001b[34m.\u001b[0m\u001b[1;34m022125\u001b[0m. ✅\n"
     },
     "metadata": {},
     "output_type": "display_data"
    },
    {
     "data": {
      "application/vnd.jupyter.widget-view+json": {
       "model_id": "8d96b381707d4af69aeb452e958c24a1",
       "version_major": 2,
       "version_minor": 0
      },
      "text/plain": "joblib_and_random Postprocessing:   0%|          | 0/1 [00:00<?, ?it/s]"
     },
     "metadata": {},
     "output_type": "display_data"
    },
    {
     "data": {
      "text/html": "<pre style=\"white-space:pre;overflow-x:auto;line-height:normal;font-family:Menlo,'DejaVu Sans Mono',consolas,'Courier New',monospace\">🚧 Applying postprocessing: <span style=\"color: #008000; text-decoration-color: #008000\">'</span><span style=\"color: #008000; text-decoration-color: #008000; font-weight: bold\">MeanEnsembler</span><span style=\"color: #008000; text-decoration-color: #008000\">'</span> 🚧\n</pre>\n",
      "text/plain": "🚧 Applying postprocessing: \u001b[32m'\u001b[0m\u001b[1;32mMeanEnsembler\u001b[0m\u001b[32m'\u001b[0m 🚧\n"
     },
     "metadata": {},
     "output_type": "display_data"
    },
    {
     "data": {
      "text/html": "<pre style=\"white-space:pre;overflow-x:auto;line-height:normal;font-family:Menlo,'DejaVu Sans Mono',consolas,'Courier New',monospace\">🍲 Ensembled <span style=\"color: #000080; text-decoration-color: #000080\">'['</span><span style=\"color: #000080; text-decoration-color: #000080\">prediction_joblib', </span><span style=\"color: #000080; text-decoration-color: #000080\">'prediction_random'</span><span style=\"color: #000080; text-decoration-color: #000080; font-weight: bold\">]</span><span style=\"color: #000080; text-decoration-color: #000080\">' with simple mean and saved in </span>\n<span style=\"color: #000080; text-decoration-color: #000080; font-weight: bold\">'</span><span style=\"color: #000080; text-decoration-color: #000080; font-weight: bold\">prediction_ensemble' 🍲</span>\n</pre>\n",
      "text/plain": "🍲 Ensembled \u001b[34m'\u001b[0m\u001b[34m[\u001b[0m\u001b[34m'\u001b[0m\u001b[34mprediction_joblib', \u001b[0m\u001b[34m'prediction_random'\u001b[0m\u001b[1;34m]\u001b[0m\u001b[34m'\u001b[0m\u001b[34m with simple mean and saved in \u001b[0m\n\u001b[1;34m'\u001b[0m\u001b[1;34mprediction_ensemble'\u001b[0m\u001b[1;34m 🍲\u001b[0m\n"
     },
     "metadata": {},
     "output_type": "display_data"
    },
    {
     "data": {
      "text/html": "<pre style=\"white-space:pre;overflow-x:auto;line-height:normal;font-family:Menlo,'DejaVu Sans Mono',consolas,'Courier New',monospace\">✅ Finished step <span style=\"font-weight: bold\">MeanEnsembler</span>. Output <span style=\"color: #808000; text-decoration-color: #808000\">shape</span>=<span style=\"font-weight: bold\">(</span><span style=\"color: #008080; text-decoration-color: #008080; font-weight: bold\">5338</span>, <span style=\"color: #008080; text-decoration-color: #008080; font-weight: bold\">1076</span><span style=\"font-weight: bold\">)</span>. Time taken for step: \n<span style=\"color: #000080; text-decoration-color: #000080; font-weight: bold\">0:00:00</span><span style=\"color: #000080; text-decoration-color: #000080\">.</span><span style=\"color: #000080; text-decoration-color: #000080; font-weight: bold\">015300</span>. ✅\n</pre>\n",
      "text/plain": "✅ Finished step \u001b[1mMeanEnsembler\u001b[0m. Output \u001b[33mshape\u001b[0m=\u001b[1m(\u001b[0m\u001b[1;36m5338\u001b[0m, \u001b[1;36m1076\u001b[0m\u001b[1m)\u001b[0m. Time taken for step: \n\u001b[1;34m0:00:00\u001b[0m\u001b[34m.\u001b[0m\u001b[1;34m015300\u001b[0m. ✅\n"
     },
     "metadata": {},
     "output_type": "display_data"
    },
    {
     "data": {
      "text/html": "<pre style=\"white-space:pre;overflow-x:auto;line-height:normal;font-family:Menlo,'DejaVu Sans Mono',consolas,'Courier New',monospace\">🏁 <span style=\"color: #008000; text-decoration-color: #008000\">Finished pipeline: </span><span style=\"color: #000080; text-decoration-color: #000080; font-weight: bold\">'joblib_and_random'</span><span style=\"color: #000080; text-decoration-color: #000080; font-weight: bold\">! 🏁</span>\n</pre>\n",
      "text/plain": "🏁 \u001b[32mFinished pipeline:\u001b[0m\u001b[32m \u001b[0m\u001b[1;34m'joblib_and_random'\u001b[0m\u001b[1;34m! 🏁\u001b[0m\n"
     },
     "metadata": {},
     "output_type": "display_data"
    }
   ],
   "source": [
    "multi_model_dataf = pipeline2(dataf)"
   ]
  },
  {
   "cell_type": "code",
   "execution_count": 13,
   "metadata": {
    "collapsed": false,
    "pycharm": {
     "name": "#%%\n"
    }
   },
   "outputs": [
    {
     "data": {
      "text/html": "<div>\n<style scoped>\n    .dataframe tbody tr th:only-of-type {\n        vertical-align: middle;\n    }\n\n    .dataframe tbody tr th {\n        vertical-align: top;\n    }\n\n    .dataframe thead th {\n        text-align: right;\n    }\n</style>\n<table border=\"1\" class=\"dataframe\">\n  <thead>\n    <tr style=\"text-align: right;\">\n      <th></th>\n      <th>prediction_joblib</th>\n      <th>prediction_random</th>\n      <th>prediction_ensemble</th>\n    </tr>\n    <tr>\n      <th>id</th>\n      <th></th>\n      <th></th>\n      <th></th>\n    </tr>\n  </thead>\n  <tbody>\n    <tr>\n      <th>n0001e4a82d5531c</th>\n      <td>0.480704</td>\n      <td>0.278381</td>\n      <td>0.379543</td>\n    </tr>\n    <tr>\n      <th>n000ace6d1f6367e</th>\n      <td>0.834582</td>\n      <td>0.472462</td>\n      <td>0.653522</td>\n    </tr>\n    <tr>\n      <th>n000ae61e2b11e0a</th>\n      <td>0.459723</td>\n      <td>0.039903</td>\n      <td>0.249813</td>\n    </tr>\n  </tbody>\n</table>\n</div>",
      "text/plain": "                  prediction_joblib  prediction_random  prediction_ensemble\nid                                                                         \nn0001e4a82d5531c           0.480704           0.278381             0.379543\nn000ace6d1f6367e           0.834582           0.472462             0.653522\nn000ae61e2b11e0a           0.459723           0.039903             0.249813"
     },
     "execution_count": 13,
     "metadata": {},
     "output_type": "execute_result"
    }
   ],
   "source": [
    "multi_model_dataf.get_prediction_data.head(3)"
   ]
  },
  {
   "cell_type": "markdown",
   "metadata": {
    "collapsed": false
   },
   "source": [
    "## Example 3. ModelPipelineCollection use case\n",
    "\n",
    "Multiple `ModelPipeline` objects can be combined into a `ModelPipelineCollection`. This is convenient if you are use the same starting dataset, but have multiple pipelines with different Preprocessors, Models and/or Postprocessors.\n",
    "\n",
    "We will use the pipelines from example 1 and example 2 as an arbitrary example."
   ]
  },
  {
   "cell_type": "code",
   "execution_count": 14,
   "metadata": {
    "collapsed": false,
    "pycharm": {
     "name": "#%%\n"
    }
   },
   "outputs": [],
   "source": [
    "pipeline_collection = ModelPipelineCollection([pipeline1, pipeline2])"
   ]
  },
  {
   "cell_type": "markdown",
   "metadata": {
    "collapsed": false
   },
   "source": [
    "Pipelines can be retrieved by name. If no `pipeline_name` is specified a [UUID4](https://docs.python.org/3/library/uuid.html#example) is generated for that pipeline."
   ]
  },
  {
   "cell_type": "code",
   "execution_count": 15,
   "metadata": {
    "collapsed": false,
    "pycharm": {
     "name": "#%%\n"
    }
   },
   "outputs": [
    {
     "name": "stdout",
     "output_type": "stream",
     "text": [
      "Pipeline names in collection: ['joblib_pipeline', 'joblib_and_random']\n"
     ]
    },
    {
     "data": {
      "text/plain": "<numerai_blocks.model_pipeline.ModelPipeline at 0x7fbe5a35df10>"
     },
     "execution_count": 15,
     "metadata": {},
     "output_type": "execute_result"
    }
   ],
   "source": [
    "print(f\"Pipeline names in collection: {pipeline_collection.pipeline_names}\")\n",
    "pipeline_collection.get_pipeline(\"joblib_pipeline\")"
   ]
  },
  {
   "cell_type": "markdown",
   "metadata": {
    "collapsed": false
   },
   "source": [
    "All pipelines on the collection can be performed with a single `NumerFrame` as input. The pipeline collection will return a dictionary, mapping pipeline names to `NumerFrame` results for each pipeline in the collection."
   ]
  },
  {
   "cell_type": "code",
   "execution_count": 16,
   "metadata": {
    "collapsed": false,
    "pycharm": {
     "name": "#%%\n"
    }
   },
   "outputs": [
    {
     "data": {
      "application/vnd.jupyter.widget-view+json": {
       "model_id": "9dd55ec8ad9d4f6986378258ad93db1d",
       "version_major": 2,
       "version_minor": 0
      },
      "text/plain": "Processing Pipeline Collection:   0%|          | 0/2 [00:00<?, ?it/s]"
     },
     "metadata": {},
     "output_type": "display_data"
    },
    {
     "data": {
      "text/html": "<pre style=\"white-space:pre;overflow-x:auto;line-height:normal;font-family:Menlo,'DejaVu Sans Mono',consolas,'Courier New',monospace\">👷 <span style=\"color: #008000; text-decoration-color: #008000; font-weight: bold\">Processing model pipeline:</span> <span style=\"color: #008000; text-decoration-color: #008000\">'joblib_pipeline'</span> 👷\n</pre>\n",
      "text/plain": "👷 \u001b[1;32mProcessing model pipeline:\u001b[0m \u001b[32m'joblib_pipeline'\u001b[0m 👷\n"
     },
     "metadata": {},
     "output_type": "display_data"
    },
    {
     "data": {
      "text/html": "<pre style=\"white-space:pre;overflow-x:auto;line-height:normal;font-family:Menlo,'DejaVu Sans Mono',consolas,'Courier New',monospace\">✅ Finished step <span style=\"font-weight: bold\">CopyPreProcessor</span>. Output <span style=\"color: #808000; text-decoration-color: #808000\">shape</span>=<span style=\"font-weight: bold\">(</span><span style=\"color: #008080; text-decoration-color: #008080; font-weight: bold\">5338</span>, <span style=\"color: #008080; text-decoration-color: #008080; font-weight: bold\">1073</span><span style=\"font-weight: bold\">)</span>. Time taken for step: \n<span style=\"color: #000080; text-decoration-color: #000080; font-weight: bold\">0:00:00</span><span style=\"color: #000080; text-decoration-color: #000080\">.</span><span style=\"color: #000080; text-decoration-color: #000080; font-weight: bold\">021870</span>. ✅\n</pre>\n",
      "text/plain": "✅ Finished step \u001b[1mCopyPreProcessor\u001b[0m. Output \u001b[33mshape\u001b[0m=\u001b[1m(\u001b[0m\u001b[1;36m5338\u001b[0m, \u001b[1;36m1073\u001b[0m\u001b[1m)\u001b[0m. Time taken for step: \n\u001b[1;34m0:00:00\u001b[0m\u001b[34m.\u001b[0m\u001b[1;34m021870\u001b[0m. ✅\n"
     },
     "metadata": {},
     "output_type": "display_data"
    },
    {
     "data": {
      "application/vnd.jupyter.widget-view+json": {
       "model_id": "22609ba00b2f47ae9e1e9a3424922aa7",
       "version_major": 2,
       "version_minor": 0
      },
      "text/plain": "joblib_pipeline Preprocessing:: 0it [00:00, ?it/s]"
     },
     "metadata": {},
     "output_type": "display_data"
    },
    {
     "data": {
      "application/vnd.jupyter.widget-view+json": {
       "model_id": "4a936d01cb0a44618ae827a39ae214bf",
       "version_major": 2,
       "version_minor": 0
      },
      "text/plain": "joblib_pipeline Model prediction:   0%|          | 0/1 [00:00<?, ?it/s]"
     },
     "metadata": {},
     "output_type": "display_data"
    },
    {
     "data": {
      "text/html": "<pre style=\"white-space:pre;overflow-x:auto;line-height:normal;font-family:Menlo,'DejaVu Sans Mono',consolas,'Courier New',monospace\">🤖 Generating model predictions with <span style=\"color: #008000; text-decoration-color: #008000\">'</span><span style=\"color: #008000; text-decoration-color: #008000; font-weight: bold\">SingleModel</span><span style=\"color: #008000; text-decoration-color: #008000\">'</span>. 🤖\n</pre>\n",
      "text/plain": "🤖 Generating model predictions with \u001b[32m'\u001b[0m\u001b[1;32mSingleModel\u001b[0m\u001b[32m'\u001b[0m. 🤖\n"
     },
     "metadata": {},
     "output_type": "display_data"
    },
    {
     "data": {
      "text/html": "<pre style=\"white-space:pre;overflow-x:auto;line-height:normal;font-family:Menlo,'DejaVu Sans Mono',consolas,'Courier New',monospace\">✅ Finished step <span style=\"font-weight: bold\">Standardizer</span>. Output <span style=\"color: #808000; text-decoration-color: #808000\">shape</span>=<span style=\"font-weight: bold\">(</span><span style=\"color: #008080; text-decoration-color: #008080; font-weight: bold\">5338</span>, <span style=\"color: #008080; text-decoration-color: #008080; font-weight: bold\">1074</span><span style=\"font-weight: bold\">)</span>. Time taken for step: \n<span style=\"color: #000080; text-decoration-color: #000080; font-weight: bold\">0:00:00</span><span style=\"color: #000080; text-decoration-color: #000080\">.</span><span style=\"color: #000080; text-decoration-color: #000080; font-weight: bold\">019241</span>. ✅\n</pre>\n",
      "text/plain": "✅ Finished step \u001b[1mStandardizer\u001b[0m. Output \u001b[33mshape\u001b[0m=\u001b[1m(\u001b[0m\u001b[1;36m5338\u001b[0m, \u001b[1;36m1074\u001b[0m\u001b[1m)\u001b[0m. Time taken for step: \n\u001b[1;34m0:00:00\u001b[0m\u001b[34m.\u001b[0m\u001b[1;34m019241\u001b[0m. ✅\n"
     },
     "metadata": {},
     "output_type": "display_data"
    },
    {
     "data": {
      "application/vnd.jupyter.widget-view+json": {
       "model_id": "7775216cfc0e45ef8afbfe248a503635",
       "version_major": 2,
       "version_minor": 0
      },
      "text/plain": "joblib_pipeline Postprocessing:   0%|          | 0/1 [00:00<?, ?it/s]"
     },
     "metadata": {},
     "output_type": "display_data"
    },
    {
     "data": {
      "text/html": "<pre style=\"white-space:pre;overflow-x:auto;line-height:normal;font-family:Menlo,'DejaVu Sans Mono',consolas,'Courier New',monospace\">🚧 Applying postprocessing: <span style=\"color: #008000; text-decoration-color: #008000\">'</span><span style=\"color: #008000; text-decoration-color: #008000; font-weight: bold\">FeatureNeutralizer</span><span style=\"color: #008000; text-decoration-color: #008000\">'</span> 🚧\n</pre>\n",
      "text/plain": "🚧 Applying postprocessing: \u001b[32m'\u001b[0m\u001b[1;32mFeatureNeutralizer\u001b[0m\u001b[32m'\u001b[0m 🚧\n"
     },
     "metadata": {},
     "output_type": "display_data"
    },
    {
     "data": {
      "text/html": "<pre style=\"white-space:pre;overflow-x:auto;line-height:normal;font-family:Menlo,'DejaVu Sans Mono',consolas,'Courier New',monospace\">🤖 Neutralized <span style=\"color: #000080; text-decoration-color: #000080; font-weight: bold\">'prediction_joblib'</span><span style=\"color: #000080; text-decoration-color: #000080; font-weight: bold\"> with proportion </span><span style=\"color: #000080; text-decoration-color: #000080; font-weight: bold\">'0.5'</span><span style=\"color: #000080; text-decoration-color: #000080; font-weight: bold\"> 🤖</span>\n</pre>\n",
      "text/plain": "🤖 Neutralized \u001b[1;34m'prediction_joblib'\u001b[0m\u001b[1;34m with proportion \u001b[0m\u001b[1;34m'0.5'\u001b[0m\u001b[1;34m 🤖\u001b[0m\n"
     },
     "metadata": {},
     "output_type": "display_data"
    },
    {
     "data": {
      "text/html": "<pre style=\"white-space:pre;overflow-x:auto;line-height:normal;font-family:Menlo,'DejaVu Sans Mono',consolas,'Courier New',monospace\">New neutralized column = <span style=\"color: #008000; text-decoration-color: #008000; font-weight: bold\">'prediction_joblib_neutralized_0.5'</span>.\n</pre>\n",
      "text/plain": "New neutralized column = \u001b[1;32m'prediction_joblib_neutralized_0.5'\u001b[0m.\n"
     },
     "metadata": {},
     "output_type": "display_data"
    },
    {
     "data": {
      "text/html": "<pre style=\"white-space:pre;overflow-x:auto;line-height:normal;font-family:Menlo,'DejaVu Sans Mono',consolas,'Courier New',monospace\">✅ Finished step <span style=\"font-weight: bold\">FeatureNeutralizer</span>. Output <span style=\"color: #808000; text-decoration-color: #808000\">shape</span>=<span style=\"font-weight: bold\">(</span><span style=\"color: #008080; text-decoration-color: #008080; font-weight: bold\">5338</span>, <span style=\"color: #008080; text-decoration-color: #008080; font-weight: bold\">1075</span><span style=\"font-weight: bold\">)</span>. Time taken for step: \n<span style=\"color: #000080; text-decoration-color: #000080; font-weight: bold\">0:00:00</span><span style=\"color: #000080; text-decoration-color: #000080\">.</span><span style=\"color: #000080; text-decoration-color: #000080; font-weight: bold\">491236</span>. ✅\n</pre>\n",
      "text/plain": "✅ Finished step \u001b[1mFeatureNeutralizer\u001b[0m. Output \u001b[33mshape\u001b[0m=\u001b[1m(\u001b[0m\u001b[1;36m5338\u001b[0m, \u001b[1;36m1075\u001b[0m\u001b[1m)\u001b[0m. Time taken for step: \n\u001b[1;34m0:00:00\u001b[0m\u001b[34m.\u001b[0m\u001b[1;34m491236\u001b[0m. ✅\n"
     },
     "metadata": {},
     "output_type": "display_data"
    },
    {
     "data": {
      "text/html": "<pre style=\"white-space:pre;overflow-x:auto;line-height:normal;font-family:Menlo,'DejaVu Sans Mono',consolas,'Courier New',monospace\">🏁 <span style=\"color: #008000; text-decoration-color: #008000\">Finished pipeline: </span><span style=\"color: #000080; text-decoration-color: #000080; font-weight: bold\">'joblib_pipeline'</span><span style=\"color: #000080; text-decoration-color: #000080; font-weight: bold\">! 🏁</span>\n</pre>\n",
      "text/plain": "🏁 \u001b[32mFinished pipeline:\u001b[0m\u001b[32m \u001b[0m\u001b[1;34m'joblib_pipeline'\u001b[0m\u001b[1;34m! 🏁\u001b[0m\n"
     },
     "metadata": {},
     "output_type": "display_data"
    },
    {
     "data": {
      "text/html": "<pre style=\"white-space:pre;overflow-x:auto;line-height:normal;font-family:Menlo,'DejaVu Sans Mono',consolas,'Courier New',monospace\">👷 <span style=\"color: #008000; text-decoration-color: #008000; font-weight: bold\">Processing model pipeline:</span> <span style=\"color: #008000; text-decoration-color: #008000\">'joblib_and_random'</span> 👷\n</pre>\n",
      "text/plain": "👷 \u001b[1;32mProcessing model pipeline:\u001b[0m \u001b[32m'joblib_and_random'\u001b[0m 👷\n"
     },
     "metadata": {},
     "output_type": "display_data"
    },
    {
     "data": {
      "text/html": "<pre style=\"white-space:pre;overflow-x:auto;line-height:normal;font-family:Menlo,'DejaVu Sans Mono',consolas,'Courier New',monospace\">✅ Finished step <span style=\"font-weight: bold\">CopyPreProcessor</span>. Output <span style=\"color: #808000; text-decoration-color: #808000\">shape</span>=<span style=\"font-weight: bold\">(</span><span style=\"color: #008080; text-decoration-color: #008080; font-weight: bold\">5338</span>, <span style=\"color: #008080; text-decoration-color: #008080; font-weight: bold\">1073</span><span style=\"font-weight: bold\">)</span>. Time taken for step: \n<span style=\"color: #000080; text-decoration-color: #000080; font-weight: bold\">0:00:00</span><span style=\"color: #000080; text-decoration-color: #000080\">.</span><span style=\"color: #000080; text-decoration-color: #000080; font-weight: bold\">019474</span>. ✅\n</pre>\n",
      "text/plain": "✅ Finished step \u001b[1mCopyPreProcessor\u001b[0m. Output \u001b[33mshape\u001b[0m=\u001b[1m(\u001b[0m\u001b[1;36m5338\u001b[0m, \u001b[1;36m1073\u001b[0m\u001b[1m)\u001b[0m. Time taken for step: \n\u001b[1;34m0:00:00\u001b[0m\u001b[34m.\u001b[0m\u001b[1;34m019474\u001b[0m. ✅\n"
     },
     "metadata": {},
     "output_type": "display_data"
    },
    {
     "data": {
      "application/vnd.jupyter.widget-view+json": {
       "model_id": "b49bc4173d804a128f4f42101fdeadbc",
       "version_major": 2,
       "version_minor": 0
      },
      "text/plain": "joblib_and_random Preprocessing:: 0it [00:00, ?it/s]"
     },
     "metadata": {},
     "output_type": "display_data"
    },
    {
     "data": {
      "application/vnd.jupyter.widget-view+json": {
       "model_id": "16405b53a2b34db38225b0788f437eaa",
       "version_major": 2,
       "version_minor": 0
      },
      "text/plain": "joblib_and_random Model prediction:   0%|          | 0/2 [00:00<?, ?it/s]"
     },
     "metadata": {},
     "output_type": "display_data"
    },
    {
     "data": {
      "text/html": "<pre style=\"white-space:pre;overflow-x:auto;line-height:normal;font-family:Menlo,'DejaVu Sans Mono',consolas,'Courier New',monospace\">🤖 Generating model predictions with <span style=\"color: #008000; text-decoration-color: #008000\">'</span><span style=\"color: #008000; text-decoration-color: #008000; font-weight: bold\">SingleModel</span><span style=\"color: #008000; text-decoration-color: #008000\">'</span>. 🤖\n</pre>\n",
      "text/plain": "🤖 Generating model predictions with \u001b[32m'\u001b[0m\u001b[1;32mSingleModel\u001b[0m\u001b[32m'\u001b[0m. 🤖\n"
     },
     "metadata": {},
     "output_type": "display_data"
    },
    {
     "data": {
      "text/html": "<pre style=\"white-space:pre;overflow-x:auto;line-height:normal;font-family:Menlo,'DejaVu Sans Mono',consolas,'Courier New',monospace\">🤖 Generating model predictions with <span style=\"color: #008000; text-decoration-color: #008000\">'</span><span style=\"color: #008000; text-decoration-color: #008000; font-weight: bold\">RandomModel</span><span style=\"color: #008000; text-decoration-color: #008000\">'</span>. 🤖\n</pre>\n",
      "text/plain": "🤖 Generating model predictions with \u001b[32m'\u001b[0m\u001b[1;32mRandomModel\u001b[0m\u001b[32m'\u001b[0m. 🤖\n"
     },
     "metadata": {},
     "output_type": "display_data"
    },
    {
     "data": {
      "text/html": "<pre style=\"white-space:pre;overflow-x:auto;line-height:normal;font-family:Menlo,'DejaVu Sans Mono',consolas,'Courier New',monospace\">✅ Finished step <span style=\"font-weight: bold\">Standardizer</span>. Output <span style=\"color: #808000; text-decoration-color: #808000\">shape</span>=<span style=\"font-weight: bold\">(</span><span style=\"color: #008080; text-decoration-color: #008080; font-weight: bold\">5338</span>, <span style=\"color: #008080; text-decoration-color: #008080; font-weight: bold\">1075</span><span style=\"font-weight: bold\">)</span>. Time taken for step: \n<span style=\"color: #000080; text-decoration-color: #000080; font-weight: bold\">0:00:00</span><span style=\"color: #000080; text-decoration-color: #000080\">.</span><span style=\"color: #000080; text-decoration-color: #000080; font-weight: bold\">022822</span>. ✅\n</pre>\n",
      "text/plain": "✅ Finished step \u001b[1mStandardizer\u001b[0m. Output \u001b[33mshape\u001b[0m=\u001b[1m(\u001b[0m\u001b[1;36m5338\u001b[0m, \u001b[1;36m1075\u001b[0m\u001b[1m)\u001b[0m. Time taken for step: \n\u001b[1;34m0:00:00\u001b[0m\u001b[34m.\u001b[0m\u001b[1;34m022822\u001b[0m. ✅\n"
     },
     "metadata": {},
     "output_type": "display_data"
    },
    {
     "data": {
      "application/vnd.jupyter.widget-view+json": {
       "model_id": "d2852101a9124a5b8e93456840001788",
       "version_major": 2,
       "version_minor": 0
      },
      "text/plain": "joblib_and_random Postprocessing:   0%|          | 0/1 [00:00<?, ?it/s]"
     },
     "metadata": {},
     "output_type": "display_data"
    },
    {
     "data": {
      "text/html": "<pre style=\"white-space:pre;overflow-x:auto;line-height:normal;font-family:Menlo,'DejaVu Sans Mono',consolas,'Courier New',monospace\">🚧 Applying postprocessing: <span style=\"color: #008000; text-decoration-color: #008000\">'</span><span style=\"color: #008000; text-decoration-color: #008000; font-weight: bold\">MeanEnsembler</span><span style=\"color: #008000; text-decoration-color: #008000\">'</span> 🚧\n</pre>\n",
      "text/plain": "🚧 Applying postprocessing: \u001b[32m'\u001b[0m\u001b[1;32mMeanEnsembler\u001b[0m\u001b[32m'\u001b[0m 🚧\n"
     },
     "metadata": {},
     "output_type": "display_data"
    },
    {
     "data": {
      "text/html": "<pre style=\"white-space:pre;overflow-x:auto;line-height:normal;font-family:Menlo,'DejaVu Sans Mono',consolas,'Courier New',monospace\">🍲 Ensembled <span style=\"color: #000080; text-decoration-color: #000080\">'['</span><span style=\"color: #000080; text-decoration-color: #000080\">prediction_joblib', </span><span style=\"color: #000080; text-decoration-color: #000080\">'prediction_random'</span><span style=\"color: #000080; text-decoration-color: #000080; font-weight: bold\">]</span><span style=\"color: #000080; text-decoration-color: #000080\">' with simple mean and saved in </span>\n<span style=\"color: #000080; text-decoration-color: #000080; font-weight: bold\">'</span><span style=\"color: #000080; text-decoration-color: #000080; font-weight: bold\">prediction_ensemble' 🍲</span>\n</pre>\n",
      "text/plain": "🍲 Ensembled \u001b[34m'\u001b[0m\u001b[34m[\u001b[0m\u001b[34m'\u001b[0m\u001b[34mprediction_joblib', \u001b[0m\u001b[34m'prediction_random'\u001b[0m\u001b[1;34m]\u001b[0m\u001b[34m'\u001b[0m\u001b[34m with simple mean and saved in \u001b[0m\n\u001b[1;34m'\u001b[0m\u001b[1;34mprediction_ensemble'\u001b[0m\u001b[1;34m 🍲\u001b[0m\n"
     },
     "metadata": {},
     "output_type": "display_data"
    },
    {
     "data": {
      "text/html": "<pre style=\"white-space:pre;overflow-x:auto;line-height:normal;font-family:Menlo,'DejaVu Sans Mono',consolas,'Courier New',monospace\">✅ Finished step <span style=\"font-weight: bold\">MeanEnsembler</span>. Output <span style=\"color: #808000; text-decoration-color: #808000\">shape</span>=<span style=\"font-weight: bold\">(</span><span style=\"color: #008080; text-decoration-color: #008080; font-weight: bold\">5338</span>, <span style=\"color: #008080; text-decoration-color: #008080; font-weight: bold\">1076</span><span style=\"font-weight: bold\">)</span>. Time taken for step: \n<span style=\"color: #000080; text-decoration-color: #000080; font-weight: bold\">0:00:00</span><span style=\"color: #000080; text-decoration-color: #000080\">.</span><span style=\"color: #000080; text-decoration-color: #000080; font-weight: bold\">011288</span>. ✅\n</pre>\n",
      "text/plain": "✅ Finished step \u001b[1mMeanEnsembler\u001b[0m. Output \u001b[33mshape\u001b[0m=\u001b[1m(\u001b[0m\u001b[1;36m5338\u001b[0m, \u001b[1;36m1076\u001b[0m\u001b[1m)\u001b[0m. Time taken for step: \n\u001b[1;34m0:00:00\u001b[0m\u001b[34m.\u001b[0m\u001b[1;34m011288\u001b[0m. ✅\n"
     },
     "metadata": {},
     "output_type": "display_data"
    },
    {
     "data": {
      "text/html": "<pre style=\"white-space:pre;overflow-x:auto;line-height:normal;font-family:Menlo,'DejaVu Sans Mono',consolas,'Courier New',monospace\">🏁 <span style=\"color: #008000; text-decoration-color: #008000\">Finished pipeline: </span><span style=\"color: #000080; text-decoration-color: #000080; font-weight: bold\">'joblib_and_random'</span><span style=\"color: #000080; text-decoration-color: #000080; font-weight: bold\">! 🏁</span>\n</pre>\n",
      "text/plain": "🏁 \u001b[32mFinished pipeline:\u001b[0m\u001b[32m \u001b[0m\u001b[1;34m'joblib_and_random'\u001b[0m\u001b[1;34m! 🏁\u001b[0m\n"
     },
     "metadata": {},
     "output_type": "display_data"
    }
   ],
   "source": [
    "prediction_results = pipeline_collection(dataf)"
   ]
  },
  {
   "cell_type": "markdown",
   "metadata": {
    "collapsed": false
   },
   "source": [
    "Now `prediction_results` can be used to easily retrieve the results."
   ]
  },
  {
   "cell_type": "code",
   "execution_count": 17,
   "metadata": {
    "collapsed": false,
    "pycharm": {
     "name": "#%%\n"
    }
   },
   "outputs": [
    {
     "data": {
      "text/plain": "dict_keys(['joblib_pipeline', 'joblib_and_random'])"
     },
     "execution_count": 17,
     "metadata": {},
     "output_type": "execute_result"
    }
   ],
   "source": [
    "prediction_results.keys()"
   ]
  },
  {
   "cell_type": "code",
   "execution_count": 18,
   "metadata": {
    "collapsed": false,
    "pycharm": {
     "name": "#%%\n"
    }
   },
   "outputs": [
    {
     "data": {
      "text/html": "<div>\n<style scoped>\n    .dataframe tbody tr th:only-of-type {\n        vertical-align: middle;\n    }\n\n    .dataframe tbody tr th {\n        vertical-align: top;\n    }\n\n    .dataframe thead th {\n        text-align: right;\n    }\n</style>\n<table border=\"1\" class=\"dataframe\">\n  <thead>\n    <tr style=\"text-align: right;\">\n      <th></th>\n      <th>prediction_joblib</th>\n      <th>prediction_joblib_neutralized_0.5</th>\n    </tr>\n    <tr>\n      <th>id</th>\n      <th></th>\n      <th></th>\n    </tr>\n  </thead>\n  <tbody>\n    <tr>\n      <th>n0001e4a82d5531c</th>\n      <td>0.480704</td>\n      <td>0.466076</td>\n    </tr>\n    <tr>\n      <th>n000ace6d1f6367e</th>\n      <td>0.834582</td>\n      <td>0.583167</td>\n    </tr>\n  </tbody>\n</table>\n</div>",
      "text/plain": "                  prediction_joblib  prediction_joblib_neutralized_0.5\nid                                                                    \nn0001e4a82d5531c           0.480704                           0.466076\nn000ace6d1f6367e           0.834582                           0.583167"
     },
     "execution_count": 18,
     "metadata": {},
     "output_type": "execute_result"
    }
   ],
   "source": [
    "prediction_results['joblib_pipeline'].get_prediction_data.head(2)"
   ]
  },
  {
   "cell_type": "code",
   "execution_count": 19,
   "metadata": {
    "collapsed": false,
    "pycharm": {
     "name": "#%%\n"
    }
   },
   "outputs": [
    {
     "data": {
      "text/html": "<div>\n<style scoped>\n    .dataframe tbody tr th:only-of-type {\n        vertical-align: middle;\n    }\n\n    .dataframe tbody tr th {\n        vertical-align: top;\n    }\n\n    .dataframe thead th {\n        text-align: right;\n    }\n</style>\n<table border=\"1\" class=\"dataframe\">\n  <thead>\n    <tr style=\"text-align: right;\">\n      <th></th>\n      <th>prediction_joblib</th>\n      <th>prediction_random</th>\n      <th>prediction_ensemble</th>\n    </tr>\n    <tr>\n      <th>id</th>\n      <th></th>\n      <th></th>\n      <th></th>\n    </tr>\n  </thead>\n  <tbody>\n    <tr>\n      <th>n0001e4a82d5531c</th>\n      <td>0.480704</td>\n      <td>0.682091</td>\n      <td>0.581398</td>\n    </tr>\n    <tr>\n      <th>n000ace6d1f6367e</th>\n      <td>0.834582</td>\n      <td>0.275009</td>\n      <td>0.554796</td>\n    </tr>\n  </tbody>\n</table>\n</div>",
      "text/plain": "                  prediction_joblib  prediction_random  prediction_ensemble\nid                                                                         \nn0001e4a82d5531c           0.480704           0.682091             0.581398\nn000ace6d1f6367e           0.834582           0.275009             0.554796"
     },
     "execution_count": 19,
     "metadata": {},
     "output_type": "execute_result"
    }
   ],
   "source": [
    "prediction_results['joblib_and_random'].get_prediction_data.head(2)"
   ]
  },
  {
   "cell_type": "markdown",
   "metadata": {
    "collapsed": false
   },
   "source": [
    "All metadata saved in the original `NumerFrame` will still be available in all resulting `NumerFrame` objects."
   ]
  },
  {
   "cell_type": "code",
   "execution_count": 20,
   "metadata": {
    "collapsed": false,
    "pycharm": {
     "name": "#%%\n"
    }
   },
   "outputs": [
    {
     "data": {
      "text/plain": "{'era_col': 'era',\n 'era_col_verified': True,\n 'version': 2,\n 'type': 'live',\n 'model_name': 'test',\n 'original_path': 'pipeline_test/numerai_live_data.parquet'}"
     },
     "execution_count": 20,
     "metadata": {},
     "output_type": "execute_result"
    }
   ],
   "source": [
    "prediction_results['joblib_pipeline'].meta"
   ]
  },
  {
   "cell_type": "code",
   "execution_count": 21,
   "metadata": {
    "collapsed": false,
    "pycharm": {
     "name": "#%%\n"
    }
   },
   "outputs": [
    {
     "data": {
      "text/plain": "{'era_col': 'era',\n 'era_col_verified': True,\n 'version': 2,\n 'type': 'live',\n 'model_name': 'test',\n 'original_path': 'pipeline_test/numerai_live_data.parquet'}"
     },
     "execution_count": 21,
     "metadata": {},
     "output_type": "execute_result"
    }
   ],
   "source": [
    "prediction_results['joblib_and_random'].meta"
   ]
  },
  {
   "cell_type": "markdown",
   "metadata": {
    "collapsed": false
   },
   "source": [
    "------------------------------------------------"
   ]
  },
  {
   "cell_type": "code",
   "execution_count": 22,
   "metadata": {
    "collapsed": false,
    "pycharm": {
     "name": "#%%\n"
    }
   },
   "outputs": [
    {
     "name": "stdout",
     "output_type": "stream",
     "text": [
      "Converted 00_misc.ipynb.\n",
      "Converted 01_download.ipynb.\n",
      "Converted 02_numerframe.ipynb.\n",
      "Converted 03_preprocessing.ipynb.\n",
      "Converted 04_model.ipynb.\n",
      "Converted 05_postprocessing.ipynb.\n",
      "Converted 06_modelpipeline.ipynb.\n",
      "Converted 07_evaluation.ipynb.\n",
      "Converted 08_key.ipynb.\n",
      "Converted 09_submission.ipynb.\n",
      "Converted 10_staking.ipynb.\n",
      "Converted index.ipynb.\n"
     ]
    }
   ],
   "source": [
    "#| include: false\n",
    "# Run this cell to sync all changes with library\n",
    "from nbdev import nbdev_export\n",
    "\n",
    "nbdev_export()"
   ]
  },
  {
   "cell_type": "markdown",
   "metadata": {
    "collapsed": false
   },
   "source": []
  }
 ],
 "metadata": {
  "kernelspec": {
   "display_name": "Python 3",
   "language": "python",
   "name": "python3"
  },
  "language_info": {
   "codemirror_mode": {
    "name": "ipython",
    "version": 2
   },
   "file_extension": ".py",
   "mimetype": "text/x-python",
   "name": "python",
   "nbconvert_exporter": "python",
   "pygments_lexer": "ipython2",
   "version": "2.7.6"
  }
 },
 "nbformat": 4,
 "nbformat_minor": 0
}
