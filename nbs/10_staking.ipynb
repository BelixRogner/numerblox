{
 "cells": [
  {
   "cell_type": "code",
   "execution_count": 1,
   "metadata": {},
   "outputs": [
    {
     "data": {
      "text/plain": "<IPython.core.display.Javascript object>",
      "application/javascript": "\n            setTimeout(function() {\n                var nbb_cell_id = 1;\n                var nbb_unformatted_code = \"# hide\\n%load_ext autoreload\\n%autoreload 2\\n%load_ext nb_black\\n%load_ext lab_black\";\n                var nbb_formatted_code = \"# hide\\n%load_ext autoreload\\n%autoreload 2\\n%load_ext nb_black\\n%load_ext lab_black\";\n                var nbb_cells = Jupyter.notebook.get_cells();\n                for (var i = 0; i < nbb_cells.length; ++i) {\n                    if (nbb_cells[i].input_prompt_number == nbb_cell_id) {\n                        if (nbb_cells[i].get_text() == nbb_unformatted_code) {\n                             nbb_cells[i].set_text(nbb_formatted_code);\n                        }\n                        break;\n                    }\n                }\n            }, 500);\n            "
     },
     "metadata": {},
     "output_type": "display_data"
    }
   ],
   "source": [
    "# hide\n",
    "%load_ext autoreload\n",
    "%autoreload 2\n",
    "%load_ext nb_black\n",
    "%load_ext lab_black"
   ]
  },
  {
   "cell_type": "code",
   "execution_count": 2,
   "metadata": {},
   "outputs": [
    {
     "data": {
      "text/plain": "<IPython.core.display.Javascript object>",
      "application/javascript": "\n            setTimeout(function() {\n                var nbb_cell_id = 2;\n                var nbb_unformatted_code = \"# default_exp staking\";\n                var nbb_formatted_code = \"# default_exp staking\";\n                var nbb_cells = Jupyter.notebook.get_cells();\n                for (var i = 0; i < nbb_cells.length; ++i) {\n                    if (nbb_cells[i].input_prompt_number == nbb_cell_id) {\n                        if (nbb_cells[i].get_text() == nbb_unformatted_code) {\n                             nbb_cells[i].set_text(nbb_formatted_code);\n                        }\n                        break;\n                    }\n                }\n            }, 500);\n            "
     },
     "metadata": {},
     "output_type": "display_data"
    }
   ],
   "source": [
    "# default_exp staking"
   ]
  },
  {
   "cell_type": "markdown",
   "metadata": {},
   "source": [
    "# Staking\n",
    "> Automated staking functionality for Numerai Classic and Numerai Signals."
   ]
  },
  {
   "cell_type": "code",
   "execution_count": 3,
   "metadata": {},
   "outputs": [
    {
     "data": {
      "text/plain": "<IPython.core.display.Javascript object>",
      "application/javascript": "\n            setTimeout(function() {\n                var nbb_cell_id = 3;\n                var nbb_unformatted_code = \"# hide\\nfrom nbdev.showdoc import *\";\n                var nbb_formatted_code = \"# hide\\nfrom nbdev.showdoc import *\";\n                var nbb_cells = Jupyter.notebook.get_cells();\n                for (var i = 0; i < nbb_cells.length; ++i) {\n                    if (nbb_cells[i].input_prompt_number == nbb_cell_id) {\n                        if (nbb_cells[i].get_text() == nbb_unformatted_code) {\n                             nbb_cells[i].set_text(nbb_formatted_code);\n                        }\n                        break;\n                    }\n                }\n            }, 500);\n            "
     },
     "metadata": {},
     "output_type": "display_data"
    }
   ],
   "source": [
    "# hide\n",
    "from nbdev.showdoc import *"
   ]
  },
  {
   "cell_type": "code",
   "execution_count": 4,
   "metadata": {},
   "outputs": [
    {
     "data": {
      "text/plain": "<IPython.core.display.Javascript object>",
      "application/javascript": "\n            setTimeout(function() {\n                var nbb_cell_id = 4;\n                var nbb_unformatted_code = \"#export\\nimport numpy as np\\nfrom typing import Union\\nfrom tqdm.auto import tqdm\\nfrom numerapi import NumerAPI\\nfrom typeguard import typechecked\\nfrom rich import print as rich_print\\n\\nfrom numerai_blocks.key import Key, load_key_from_json\";\n                var nbb_formatted_code = \"# export\\nimport numpy as np\\nfrom typing import Union\\nfrom tqdm.auto import tqdm\\nfrom numerapi import NumerAPI\\nfrom typeguard import typechecked\\nfrom rich import print as rich_print\\n\\nfrom numerai_blocks.key import Key, load_key_from_json\";\n                var nbb_cells = Jupyter.notebook.get_cells();\n                for (var i = 0; i < nbb_cells.length; ++i) {\n                    if (nbb_cells[i].input_prompt_number == nbb_cell_id) {\n                        if (nbb_cells[i].get_text() == nbb_unformatted_code) {\n                             nbb_cells[i].set_text(nbb_formatted_code);\n                        }\n                        break;\n                    }\n                }\n            }, 500);\n            "
     },
     "metadata": {},
     "output_type": "display_data"
    }
   ],
   "source": [
    "#export\n",
    "import numpy as np\n",
    "from typing import Union\n",
    "from tqdm.auto import tqdm\n",
    "from numerapi import NumerAPI\n",
    "from typeguard import typechecked\n",
    "from rich import print as rich_print\n",
    "\n",
    "from numerblox.key import Key, load_key_from_json"
   ]
  },
  {
   "cell_type": "markdown",
   "metadata": {},
   "source": [
    "## 0. BaseStaker"
   ]
  },
  {
   "cell_type": "markdown",
   "metadata": {},
   "source": [
    "Staking functionality that is the same for both Numerai Classic and Numerai Signals.\n",
    "\n",
    "Note that using staking functionality requires a `Key` object as input argument."
   ]
  },
  {
   "cell_type": "code",
   "execution_count": 5,
   "metadata": {},
   "outputs": [
    {
     "data": {
      "text/plain": "<IPython.core.display.Javascript object>",
      "application/javascript": "\n            setTimeout(function() {\n                var nbb_cell_id = 5;\n                var nbb_unformatted_code = \"#export\\n@typechecked\\nclass BaseStaker:\\n    \\\"\\\"\\\"\\n    Base class for staking functionality which holds in both Numerai Classic and Signals.\\n\\n    | :param key: a numerai-blocks Key object \\\\\\n    | :param tournament_number: ID of the tournament (8 for Numerai Classic and 11 for Numerai Signals).\\n    \\\"\\\"\\\"\\n    def __init__(self, key: Key, tournament_number: int, *args, **kwargs):\\n        self.tournament_number = tournament_number\\n        self.api = NumerAPI(public_id=key.pub_id, secret_key=key.secret_key, *args, **kwargs)\\n\\n    def stake_change(self, model_name: str, amount: Union[float, str]):\\n        \\\"\\\"\\\"\\n        Change arbitrary stake amount.\\n        :param model_name: Lowercase raw model name (For example, 'integration_test').\\n        :param amount: NMR amount to increase or decrease.\\n        negative number = Stake decrease.\\n        positive number = Stake increase.\\n        \\\"\\\"\\\"\\n        action = 'decrease' if amount < 0 else 'increase'\\n        color = 'red' if amount < 0 else 'green'\\n        model_id = self._get_model_id(model_name=model_name)\\n        rich_print(f\\\"[bold {color}]{action[:-1]}ing[/bold {color}] stake by amount '[bold {color}]{amount}[/bold {color}]' for model: [bold blue]'{model_name}'[/bold blue] (id='{model_id}')!\\\")\\n        self.api.stake_change(nmr=amount, action=action,\\n                              model_id=model_id, tournament=self.tournament_number)\\n\\n    def stake_drain_all(self):\\n        \\\"\\\"\\\"\\n        -WARNING- This function will remove all stakes for all models in your account!!! -WARNING-\\n        User must answer prompt with 'Y' to confirm stake drain.\\n        \\\"\\\"\\\"\\n        prompt = input(f\\\"WARNING: You are about to remove all stakes for all your models! Are you sure? [Y/n]\\\")\\n        if prompt == \\\"Y\\\":\\n            model_names = list(self.get_model_mapping.keys())\\n            for name in tqdm(model_names, desc=\\\"Full stake drain!\\\"):\\n                self.stake_drain_single(model_name=name)\\n        else:\\n            rich_print(\\\"Aborting full stake draining.\\\")\\n\\n    def stake_drain_single(self, model_name: str):\\n        \\\"\\\"\\\"\\n        -WARNING- This function removes your full stake for a given model name!!! -WARNING-\\n        :param model_name: Lowercase raw model name (For example, 'integration_test').\\n        \\\"\\\"\\\"\\n        model_id = self._get_model_id(model_name=model_name)\\n        rich_print(f\\\":warning: Draining stake for model: '{model_name}' (id: '{model_id}' :warning:\\\")\\n        self.api.stake_drain(model_id=model_id, tournament=self.tournament_number)\\n\\n    def _get_model_id(self, model_name: str) -> str:\\n        \\\"\\\"\\\"\\n        Get ID needed for staking.\\n        :param model_name: Lowercase raw model name (For example, 'integration_test').\\n        \\\"\\\"\\\"\\n        return self.get_model_mapping[model_name]\\n\\n    @property\\n    def get_model_mapping(self) -> dict:\\n        \\\"\\\"\\\" Mapping between raw model names and model IDs. \\\"\\\"\\\"\\n        return self.api.get_models()\\n\\n    @property\\n    def available_nmr(self):\\n        \\\"\\\"\\\" Get amount of NMR that is available in your local wallet. \\\"\\\"\\\"\\n        return np.float64(self.api.get_account()['availableNmr'])\";\n                var nbb_formatted_code = \"# export\\n@typechecked\\nclass BaseStaker:\\n    \\\"\\\"\\\"\\n    Base class for staking functionality which holds in both Numerai Classic and Signals.\\n\\n    | :param key: a numerai-blocks Key object \\\\\\n    | :param tournament_number: ID of the tournament (8 for Numerai Classic and 11 for Numerai Signals).\\n    \\\"\\\"\\\"\\n\\n    def __init__(self, key: Key, tournament_number: int, *args, **kwargs):\\n        self.tournament_number = tournament_number\\n        self.api = NumerAPI(\\n            public_id=key.pub_id, secret_key=key.secret_key, *args, **kwargs\\n        )\\n\\n    def stake_change(self, model_name: str, amount: Union[float, str]):\\n        \\\"\\\"\\\"\\n        Change arbitrary stake amount.\\n        :param model_name: Lowercase raw model name (For example, 'integration_test').\\n        :param amount: NMR amount to increase or decrease.\\n        negative number = Stake decrease.\\n        positive number = Stake increase.\\n        \\\"\\\"\\\"\\n        action = \\\"decrease\\\" if amount < 0 else \\\"increase\\\"\\n        color = \\\"red\\\" if amount < 0 else \\\"green\\\"\\n        model_id = self._get_model_id(model_name=model_name)\\n        rich_print(\\n            f\\\"[bold {color}]{action[:-1]}ing[/bold {color}] stake by amount '[bold {color}]{amount}[/bold {color}]' for model: [bold blue]'{model_name}'[/bold blue] (id='{model_id}')!\\\"\\n        )\\n        self.api.stake_change(\\n            nmr=amount,\\n            action=action,\\n            model_id=model_id,\\n            tournament=self.tournament_number,\\n        )\\n\\n    def stake_drain_all(self):\\n        \\\"\\\"\\\"\\n        -WARNING- This function will remove all stakes for all models in your account!!! -WARNING-\\n        User must answer prompt with 'Y' to confirm stake drain.\\n        \\\"\\\"\\\"\\n        prompt = input(\\n            f\\\"WARNING: You are about to remove all stakes for all your models! Are you sure? [Y/n]\\\"\\n        )\\n        if prompt == \\\"Y\\\":\\n            model_names = list(self.get_model_mapping.keys())\\n            for name in tqdm(model_names, desc=\\\"Full stake drain!\\\"):\\n                self.stake_drain_single(model_name=name)\\n        else:\\n            rich_print(\\\"Aborting full stake draining.\\\")\\n\\n    def stake_drain_single(self, model_name: str):\\n        \\\"\\\"\\\"\\n        -WARNING- This function removes your full stake for a given model name!!! -WARNING-\\n        :param model_name: Lowercase raw model name (For example, 'integration_test').\\n        \\\"\\\"\\\"\\n        model_id = self._get_model_id(model_name=model_name)\\n        rich_print(\\n            f\\\":warning: Draining stake for model: '{model_name}' (id: '{model_id}' :warning:\\\"\\n        )\\n        self.api.stake_drain(model_id=model_id, tournament=self.tournament_number)\\n\\n    def _get_model_id(self, model_name: str) -> str:\\n        \\\"\\\"\\\"\\n        Get ID needed for staking.\\n        :param model_name: Lowercase raw model name (For example, 'integration_test').\\n        \\\"\\\"\\\"\\n        return self.get_model_mapping[model_name]\\n\\n    @property\\n    def get_model_mapping(self) -> dict:\\n        \\\"\\\"\\\"Mapping between raw model names and model IDs.\\\"\\\"\\\"\\n        return self.api.get_models()\\n\\n    @property\\n    def available_nmr(self):\\n        \\\"\\\"\\\"Get amount of NMR that is available in your local wallet.\\\"\\\"\\\"\\n        return np.float64(self.api.get_account()[\\\"availableNmr\\\"])\";\n                var nbb_cells = Jupyter.notebook.get_cells();\n                for (var i = 0; i < nbb_cells.length; ++i) {\n                    if (nbb_cells[i].input_prompt_number == nbb_cell_id) {\n                        if (nbb_cells[i].get_text() == nbb_unformatted_code) {\n                             nbb_cells[i].set_text(nbb_formatted_code);\n                        }\n                        break;\n                    }\n                }\n            }, 500);\n            "
     },
     "metadata": {},
     "output_type": "display_data"
    }
   ],
   "source": [
    "#export\n",
    "@typechecked\n",
    "class BaseStaker:\n",
    "    \"\"\"\n",
    "    Base class for staking functionality which holds in both Numerai Classic and Signals.\n",
    "\n",
    "    :param key: a numerai-blocks Key object \\n\n",
    "    :param tournament_number: ID of the tournament (8 for Numerai Classic and 11 for Numerai Signals).\n",
    "    \"\"\"\n",
    "    def __init__(self, key: Key, tournament_number: int, *args, **kwargs):\n",
    "        self.tournament_number = tournament_number\n",
    "        self.api = NumerAPI(public_id=key.pub_id, secret_key=key.secret_key, *args, **kwargs)\n",
    "\n",
    "    def stake_change(self, model_name: str, amount: Union[float, str]):\n",
    "        \"\"\"\n",
    "        Change arbitrary stake amount.\n",
    "        :param model_name: Lowercase raw model name (For example, 'integration_test').\n",
    "        :param amount: NMR amount to increase or decrease.\n",
    "        negative number = Stake decrease.\n",
    "        positive number = Stake increase.\n",
    "        \"\"\"\n",
    "        action = 'decrease' if amount < 0 else 'increase'\n",
    "        color = 'red' if amount < 0 else 'green'\n",
    "        model_id = self._get_model_id(model_name=model_name)\n",
    "        rich_print(f\"[bold {color}]{action[:-1]}ing[/bold {color}] stake by amount '[bold {color}]{amount}[/bold {color}]' for model: [bold blue]'{model_name}'[/bold blue] (id='{model_id}')!\")\n",
    "        self.api.stake_change(nmr=amount, action=action,\n",
    "                              model_id=model_id, tournament=self.tournament_number)\n",
    "\n",
    "    def stake_drain_all(self):\n",
    "        \"\"\"\n",
    "        -WARNING- This function will remove all stakes for all models in your account!!! -WARNING-\n",
    "        User must answer prompt with 'Y' to confirm stake drain.\n",
    "        \"\"\"\n",
    "        prompt = input(f\"WARNING: You are about to remove all stakes for all your models! Are you sure? [Y/n]\")\n",
    "        if prompt == \"Y\":\n",
    "            model_names = list(self.get_model_mapping.keys())\n",
    "            for name in tqdm(model_names, desc=\"Full stake drain!\"):\n",
    "                self.stake_drain_single(model_name=name)\n",
    "        else:\n",
    "            rich_print(\"Aborting full stake draining.\")\n",
    "\n",
    "    def stake_drain_single(self, model_name: str):\n",
    "        \"\"\"\n",
    "        -WARNING- This function removes your full stake for a given model name!!! -WARNING-\n",
    "        :param model_name: Lowercase raw model name (For example, 'integration_test').\n",
    "        \"\"\"\n",
    "        model_id = self._get_model_id(model_name=model_name)\n",
    "        rich_print(f\":warning: Draining stake for model: '{model_name}' (id: '{model_id}' :warning:\")\n",
    "        self.api.stake_drain(model_id=model_id, tournament=self.tournament_number)\n",
    "\n",
    "    def _get_model_id(self, model_name: str) -> str:\n",
    "        \"\"\"\n",
    "        Get ID needed for staking.\n",
    "        :param model_name: Lowercase raw model name (For example, 'integration_test').\n",
    "        \"\"\"\n",
    "        return self.get_model_mapping[model_name]\n",
    "\n",
    "    @property\n",
    "    def get_model_mapping(self) -> dict:\n",
    "        \"\"\" Mapping between raw model names and model IDs. \"\"\"\n",
    "        return self.api.get_models()\n",
    "\n",
    "    @property\n",
    "    def available_nmr(self):\n",
    "        \"\"\" Get amount of NMR that is available in your local wallet. \"\"\"\n",
    "        return np.float64(self.api.get_account()['availableNmr'])"
   ]
  },
  {
   "cell_type": "markdown",
   "source": [
    "#### Example usage: basic functionality"
   ],
   "metadata": {
    "collapsed": false
   }
  },
  {
   "cell_type": "code",
   "execution_count": 6,
   "metadata": {},
   "outputs": [
    {
     "data": {
      "text/plain": "🔑 Numerai Auth key initialized with pub_id = \u001B[32m'UFVCTElDX0lE'\u001B[0m 🔑\n",
      "text/html": "<pre style=\"white-space:pre;overflow-x:auto;line-height:normal;font-family:Menlo,'DejaVu Sans Mono',consolas,'Courier New',monospace\">🔑 Numerai Auth key initialized with pub_id = <span style=\"color: #008000; text-decoration-color: #008000\">'UFVCTElDX0lE'</span> 🔑\n</pre>\n"
     },
     "metadata": {},
     "output_type": "display_data"
    },
    {
     "data": {
      "text/plain": "<IPython.core.display.Javascript object>",
      "application/javascript": "\n            setTimeout(function() {\n                var nbb_cell_id = 6;\n                var nbb_unformatted_code = \"key = load_key_from_json(\\\"test_assets/test_credentials.json\\\")\\n# Numerai Classic tournament number = 8\\nbase_staker = BaseStaker(key=key, tournament_number=8)\";\n                var nbb_formatted_code = \"key = load_key_from_json(\\\"test_assets/test_credentials.json\\\")\\n# Numerai Classic tournament number = 8\\nbase_staker = BaseStaker(key=key, tournament_number=8)\";\n                var nbb_cells = Jupyter.notebook.get_cells();\n                for (var i = 0; i < nbb_cells.length; ++i) {\n                    if (nbb_cells[i].input_prompt_number == nbb_cell_id) {\n                        if (nbb_cells[i].get_text() == nbb_unformatted_code) {\n                             nbb_cells[i].set_text(nbb_formatted_code);\n                        }\n                        break;\n                    }\n                }\n            }, 500);\n            "
     },
     "metadata": {},
     "output_type": "display_data"
    }
   ],
   "source": [
    "key = load_key_from_json(\"test_assets/test_credentials.json\")\n",
    "# Numerai Classic tournament number = 8\n",
    "base_staker = BaseStaker(key=key, tournament_number=8)"
   ]
  },
  {
   "cell_type": "markdown",
   "source": [
    "Mapping between raw model names and model IDs."
   ],
   "metadata": {
    "collapsed": false
   }
  },
  {
   "cell_type": "code",
   "execution_count": 7,
   "metadata": {},
   "outputs": [
    {
     "data": {
      "text/plain": "<IPython.core.display.Javascript object>",
      "application/javascript": "\n            setTimeout(function() {\n                var nbb_cell_id = 7;\n                var nbb_unformatted_code = \"# base_staker.get_model_mapping\";\n                var nbb_formatted_code = \"# base_staker.get_model_mapping\";\n                var nbb_cells = Jupyter.notebook.get_cells();\n                for (var i = 0; i < nbb_cells.length; ++i) {\n                    if (nbb_cells[i].input_prompt_number == nbb_cell_id) {\n                        if (nbb_cells[i].get_text() == nbb_unformatted_code) {\n                             nbb_cells[i].set_text(nbb_formatted_code);\n                        }\n                        break;\n                    }\n                }\n            }, 500);\n            "
     },
     "metadata": {},
     "output_type": "display_data"
    }
   ],
   "source": [
    "# mapping\n",
    "# base_staker.get_model_mapping"
   ]
  },
  {
   "cell_type": "markdown",
   "source": [
    "Check NMR in local wallet."
   ],
   "metadata": {
    "collapsed": false
   }
  },
  {
   "cell_type": "code",
   "execution_count": 8,
   "metadata": {},
   "outputs": [
    {
     "data": {
      "text/plain": "<IPython.core.display.Javascript object>",
      "application/javascript": "\n            setTimeout(function() {\n                var nbb_cell_id = 8;\n                var nbb_unformatted_code = \"# base_staker.available_nmr\";\n                var nbb_formatted_code = \"# base_staker.available_nmr\";\n                var nbb_cells = Jupyter.notebook.get_cells();\n                for (var i = 0; i < nbb_cells.length; ++i) {\n                    if (nbb_cells[i].input_prompt_number == nbb_cell_id) {\n                        if (nbb_cells[i].get_text() == nbb_unformatted_code) {\n                             nbb_cells[i].set_text(nbb_formatted_code);\n                        }\n                        break;\n                    }\n                }\n            }, 500);\n            "
     },
     "metadata": {},
     "output_type": "display_data"
    }
   ],
   "source": [
    "# nmr\n",
    "# base_staker.available_nmr"
   ]
  },
  {
   "cell_type": "markdown",
   "source": [
    "Change stake for model \"test\"."
   ],
   "metadata": {
    "collapsed": false
   }
  },
  {
   "cell_type": "code",
   "execution_count": 9,
   "metadata": {},
   "outputs": [
    {
     "data": {
      "text/plain": "<IPython.core.display.Javascript object>",
      "application/javascript": "\n            setTimeout(function() {\n                var nbb_cell_id = 9;\n                var nbb_unformatted_code = \"# base_staker.stake_change(\\\"test\\\", -0.01)\\n# base_staker.stake_change(\\\"test\\\", 0.01)\";\n                var nbb_formatted_code = \"# base_staker.stake_change(\\\"test\\\", -0.01)\\n# base_staker.stake_change(\\\"test\\\", 0.01)\";\n                var nbb_cells = Jupyter.notebook.get_cells();\n                for (var i = 0; i < nbb_cells.length; ++i) {\n                    if (nbb_cells[i].input_prompt_number == nbb_cell_id) {\n                        if (nbb_cells[i].get_text() == nbb_unformatted_code) {\n                             nbb_cells[i].set_text(nbb_formatted_code);\n                        }\n                        break;\n                    }\n                }\n            }, 500);\n            "
     },
     "metadata": {},
     "output_type": "display_data"
    }
   ],
   "source": [
    "# base_staker.stake_change(\"test\", -0.01)\n",
    "# base_staker.stake_change(\"test\", 0.01)"
   ]
  },
  {
   "cell_type": "markdown",
   "source": [
    "WARNING! This method will remove the full stake for a given model name!"
   ],
   "metadata": {
    "collapsed": false
   }
  },
  {
   "cell_type": "code",
   "execution_count": 10,
   "metadata": {},
   "outputs": [
    {
     "data": {
      "text/plain": "<IPython.core.display.Javascript object>",
      "application/javascript": "\n            setTimeout(function() {\n                var nbb_cell_id = 10;\n                var nbb_unformatted_code = \"# base_staker.stake_drain_single(model_name=\\\"test\\\")\";\n                var nbb_formatted_code = \"# base_staker.stake_drain_single(model_name=\\\"test\\\")\";\n                var nbb_cells = Jupyter.notebook.get_cells();\n                for (var i = 0; i < nbb_cells.length; ++i) {\n                    if (nbb_cells[i].input_prompt_number == nbb_cell_id) {\n                        if (nbb_cells[i].get_text() == nbb_unformatted_code) {\n                             nbb_cells[i].set_text(nbb_formatted_code);\n                        }\n                        break;\n                    }\n                }\n            }, 500);\n            "
     },
     "metadata": {},
     "output_type": "display_data"
    }
   ],
   "source": [
    "# drain_single\n",
    "# base_staker.stake_drain_single(model_name=\"test\")"
   ]
  },
  {
   "cell_type": "markdown",
   "source": [
    "WARNING! This method will remove all stakes for all your models!"
   ],
   "metadata": {
    "collapsed": false
   }
  },
  {
   "cell_type": "code",
   "execution_count": 11,
   "outputs": [
    {
     "data": {
      "text/plain": "<IPython.core.display.Javascript object>",
      "application/javascript": "\n            setTimeout(function() {\n                var nbb_cell_id = 11;\n                var nbb_unformatted_code = \"# base_staker.stake_drain_all()\";\n                var nbb_formatted_code = \"# base_staker.stake_drain_all()\";\n                var nbb_cells = Jupyter.notebook.get_cells();\n                for (var i = 0; i < nbb_cells.length; ++i) {\n                    if (nbb_cells[i].input_prompt_number == nbb_cell_id) {\n                        if (nbb_cells[i].get_text() == nbb_unformatted_code) {\n                             nbb_cells[i].set_text(nbb_formatted_code);\n                        }\n                        break;\n                    }\n                }\n            }, 500);\n            "
     },
     "metadata": {},
     "output_type": "display_data"
    }
   ],
   "source": [
    "# drain_all\n",
    "# base_staker.stake_drain_all()"
   ],
   "metadata": {
    "collapsed": false,
    "pycharm": {
     "name": "#%%\n"
    }
   }
  },
  {
   "cell_type": "markdown",
   "metadata": {},
   "source": [
    "## 1. Numerai Classic"
   ]
  },
  {
   "cell_type": "markdown",
   "source": [
    "The option to get a mapping from model names to NMR staked is only supported for Numerai Classic in `numerapi`. The reason for this is that unfortunately, `numerapi` does not support `NumerAPI().stake_get` for Numerai Signals models.\n",
    "Future versions will support this feature for Numerai Signals."
   ],
   "metadata": {
    "collapsed": false
   }
  },
  {
   "cell_type": "code",
   "execution_count": 12,
   "metadata": {},
   "outputs": [
    {
     "data": {
      "text/plain": "<IPython.core.display.Javascript object>",
      "application/javascript": "\n            setTimeout(function() {\n                var nbb_cell_id = 12;\n                var nbb_unformatted_code = \"#export\\nclass NumeraiClassicStaker(BaseStaker):\\n    \\\"\\\"\\\" Staking functionality specific to Numerai Classic (tournament number 8). \\\"\\\"\\\"\\n    CLASSIC_TOURNAMENT_NUMBER = 8\\n    def __init__(self, key: Key, *args, **kwargs):\\n        super().__init__(key=key, tournament_number=self.CLASSIC_TOURNAMENT_NUMBER,\\n                         *args, **kwargs\\n                         )\\n\\n    @property\\n    def get_stakes(self) -> dict:\\n        \\\"\\\"\\\"\\n        Get mapping of stakes for all models.\\n        Example output:\\n            {\\n            \\\"my_model_1\\\": 20.2,\\n            \\\"my_model_2\\\": 100.5,\\n            \\\"my_model_3: 0.01\\n            }\\n        \\\"\\\"\\\"\\n        stakes = [self._get_single_stake(model_name=model_name) for model_name in self.get_model_mapping.keys()]\\n        return {name: stake for name, stake in zip(self.get_model_mapping, stakes)}\\n\\n    def _get_single_stake(self, model_name: str) -> np.float64:\\n        return np.float64(self.api.stake_get(username=model_name))\";\n                var nbb_formatted_code = \"# export\\nclass NumeraiClassicStaker(BaseStaker):\\n    \\\"\\\"\\\"Staking functionality specific to Numerai Classic (tournament number 8).\\\"\\\"\\\"\\n\\n    CLASSIC_TOURNAMENT_NUMBER = 8\\n\\n    def __init__(self, key: Key, *args, **kwargs):\\n        super().__init__(\\n            key=key, tournament_number=self.CLASSIC_TOURNAMENT_NUMBER, *args, **kwargs\\n        )\\n\\n    @property\\n    def get_stakes(self) -> dict:\\n        \\\"\\\"\\\"\\n        Get mapping of stakes for all models.\\n        Example output:\\n            {\\n            \\\"my_model_1\\\": 20.2,\\n            \\\"my_model_2\\\": 100.5,\\n            \\\"my_model_3: 0.01\\n            }\\n        \\\"\\\"\\\"\\n        stakes = [\\n            self._get_single_stake(model_name=model_name)\\n            for model_name in self.get_model_mapping.keys()\\n        ]\\n        return {name: stake for name, stake in zip(self.get_model_mapping, stakes)}\\n\\n    def _get_single_stake(self, model_name: str) -> np.float64:\\n        return np.float64(self.api.stake_get(username=model_name))\";\n                var nbb_cells = Jupyter.notebook.get_cells();\n                for (var i = 0; i < nbb_cells.length; ++i) {\n                    if (nbb_cells[i].input_prompt_number == nbb_cell_id) {\n                        if (nbb_cells[i].get_text() == nbb_unformatted_code) {\n                             nbb_cells[i].set_text(nbb_formatted_code);\n                        }\n                        break;\n                    }\n                }\n            }, 500);\n            "
     },
     "metadata": {},
     "output_type": "display_data"
    }
   ],
   "source": [
    "#export\n",
    "class NumeraiClassicStaker(BaseStaker):\n",
    "    \"\"\" Staking functionality specific to Numerai Classic (tournament number 8). \"\"\"\n",
    "    CLASSIC_TOURNAMENT_NUMBER = 8\n",
    "    def __init__(self, key: Key, *args, **kwargs):\n",
    "        super().__init__(key=key, tournament_number=self.CLASSIC_TOURNAMENT_NUMBER,\n",
    "                         *args, **kwargs\n",
    "                         )\n",
    "\n",
    "    @property\n",
    "    def get_stakes(self) -> dict:\n",
    "        \"\"\"\n",
    "        Get mapping of stakes for all models.\n",
    "        Example output:\n",
    "            {\n",
    "            \"my_model_1\": 20.2,\n",
    "            \"my_model_2\": 100.5,\n",
    "            \"my_model_3: 0.01\n",
    "            }\n",
    "        \"\"\"\n",
    "        stakes = [self._get_single_stake(model_name=model_name) for model_name in self.get_model_mapping.keys()]\n",
    "        return {name: stake for name, stake in zip(self.get_model_mapping, stakes)}\n",
    "\n",
    "    def _get_single_stake(self, model_name: str) -> np.float64:\n",
    "        return np.float64(self.api.stake_get(username=model_name))"
   ]
  },
  {
   "cell_type": "markdown",
   "source": [
    "#### Example usage: Numerai Classic functionality"
   ],
   "metadata": {
    "collapsed": false
   }
  },
  {
   "cell_type": "code",
   "execution_count": 13,
   "metadata": {},
   "outputs": [
    {
     "data": {
      "text/plain": "<IPython.core.display.Javascript object>",
      "application/javascript": "\n            setTimeout(function() {\n                var nbb_cell_id = 13;\n                var nbb_unformatted_code = \"classic_staker = NumeraiClassicStaker(key=key)\\n# Numerai Classic tournament number = 8\\nassert classic_staker.CLASSIC_TOURNAMENT_NUMBER == 8\";\n                var nbb_formatted_code = \"classic_staker = NumeraiClassicStaker(key=key)\\n# Numerai Classic tournament number = 8\\nassert classic_staker.CLASSIC_TOURNAMENT_NUMBER == 8\";\n                var nbb_cells = Jupyter.notebook.get_cells();\n                for (var i = 0; i < nbb_cells.length; ++i) {\n                    if (nbb_cells[i].input_prompt_number == nbb_cell_id) {\n                        if (nbb_cells[i].get_text() == nbb_unformatted_code) {\n                             nbb_cells[i].set_text(nbb_formatted_code);\n                        }\n                        break;\n                    }\n                }\n            }, 500);\n            "
     },
     "metadata": {},
     "output_type": "display_data"
    }
   ],
   "source": [
    "classic_staker = NumeraiClassicStaker(key=key)\n",
    "# Numerai Classic tournament number = 8\n",
    "assert classic_staker.CLASSIC_TOURNAMENT_NUMBER == 8"
   ]
  },
  {
   "cell_type": "markdown",
   "source": [
    "Get all your models with corresponding NMR staked (dict)."
   ],
   "metadata": {
    "collapsed": false
   }
  },
  {
   "cell_type": "code",
   "execution_count": 14,
   "metadata": {},
   "outputs": [
    {
     "data": {
      "text/plain": "<IPython.core.display.Javascript object>",
      "application/javascript": "\n            setTimeout(function() {\n                var nbb_cell_id = 14;\n                var nbb_unformatted_code = \"# classic_staker.get_stakes\";\n                var nbb_formatted_code = \"# classic_staker.get_stakes\";\n                var nbb_cells = Jupyter.notebook.get_cells();\n                for (var i = 0; i < nbb_cells.length; ++i) {\n                    if (nbb_cells[i].input_prompt_number == nbb_cell_id) {\n                        if (nbb_cells[i].get_text() == nbb_unformatted_code) {\n                             nbb_cells[i].set_text(nbb_formatted_code);\n                        }\n                        break;\n                    }\n                }\n            }, 500);\n            "
     },
     "metadata": {},
     "output_type": "display_data"
    }
   ],
   "source": [
    "# stakes\n",
    "# classic_staker.get_stakes"
   ]
  },
  {
   "cell_type": "markdown",
   "metadata": {},
   "source": [
    "## 2. Numerai Signals"
   ]
  },
  {
   "cell_type": "code",
   "execution_count": 15,
   "metadata": {},
   "outputs": [
    {
     "data": {
      "text/plain": "<IPython.core.display.Javascript object>",
      "application/javascript": "\n            setTimeout(function() {\n                var nbb_cell_id = 15;\n                var nbb_unformatted_code = \"#export\\nclass NumeraiSignalsStaker(BaseStaker):\\n    \\\"\\\"\\\" Staking functionality specific to Numerai Signals (tournament number 11). \\\"\\\"\\\"\\n    SIGNALS_TOURNAMENT_NUMBER = 11\\n    def __init__(self, key: Key, *args, **kwargs):\\n        super().__init__(key=key,\\n                         tournament_number=self.SIGNALS_TOURNAMENT_NUMBER,\\n                         *args, **kwargs\\n                         )\";\n                var nbb_formatted_code = \"# export\\nclass NumeraiSignalsStaker(BaseStaker):\\n    \\\"\\\"\\\"Staking functionality specific to Numerai Signals (tournament number 11).\\\"\\\"\\\"\\n\\n    SIGNALS_TOURNAMENT_NUMBER = 11\\n\\n    def __init__(self, key: Key, *args, **kwargs):\\n        super().__init__(\\n            key=key, tournament_number=self.SIGNALS_TOURNAMENT_NUMBER, *args, **kwargs\\n        )\";\n                var nbb_cells = Jupyter.notebook.get_cells();\n                for (var i = 0; i < nbb_cells.length; ++i) {\n                    if (nbb_cells[i].input_prompt_number == nbb_cell_id) {\n                        if (nbb_cells[i].get_text() == nbb_unformatted_code) {\n                             nbb_cells[i].set_text(nbb_formatted_code);\n                        }\n                        break;\n                    }\n                }\n            }, 500);\n            "
     },
     "metadata": {},
     "output_type": "display_data"
    }
   ],
   "source": [
    "#export\n",
    "class NumeraiSignalsStaker(BaseStaker):\n",
    "    \"\"\" Staking functionality specific to Numerai Signals (tournament number 11). \"\"\"\n",
    "    SIGNALS_TOURNAMENT_NUMBER = 11\n",
    "    def __init__(self, key: Key, *args, **kwargs):\n",
    "        super().__init__(key=key,\n",
    "                         tournament_number=self.SIGNALS_TOURNAMENT_NUMBER,\n",
    "                         *args, **kwargs\n",
    "                         )"
   ]
  },
  {
   "cell_type": "markdown",
   "source": [
    "#### Example usage: Numerai Signals functionality\n",
    "\n",
    "Currently there is no Signals specific staking functionality.\n",
    "\n",
    "`NumeraiSignalsStaker` just makes sure we use the correct tournament number."
   ],
   "metadata": {
    "collapsed": false
   }
  },
  {
   "cell_type": "code",
   "execution_count": 16,
   "metadata": {},
   "outputs": [
    {
     "data": {
      "text/plain": "<IPython.core.display.Javascript object>",
      "application/javascript": "\n            setTimeout(function() {\n                var nbb_cell_id = 16;\n                var nbb_unformatted_code = \"signals_staker = NumeraiSignalsStaker(key=key)\\n# Numerai Classic tournament number = 11\\nassert signals_staker.SIGNALS_TOURNAMENT_NUMBER == 11\";\n                var nbb_formatted_code = \"signals_staker = NumeraiSignalsStaker(key=key)\\n# Numerai Classic tournament number = 11\\nassert signals_staker.SIGNALS_TOURNAMENT_NUMBER == 11\";\n                var nbb_cells = Jupyter.notebook.get_cells();\n                for (var i = 0; i < nbb_cells.length; ++i) {\n                    if (nbb_cells[i].input_prompt_number == nbb_cell_id) {\n                        if (nbb_cells[i].get_text() == nbb_unformatted_code) {\n                             nbb_cells[i].set_text(nbb_formatted_code);\n                        }\n                        break;\n                    }\n                }\n            }, 500);\n            "
     },
     "metadata": {},
     "output_type": "display_data"
    }
   ],
   "source": [
    "signals_staker = NumeraiSignalsStaker(key=key)\n",
    "# Numerai Classic tournament number = 11\n",
    "assert signals_staker.SIGNALS_TOURNAMENT_NUMBER == 11"
   ]
  },
  {
   "cell_type": "markdown",
   "metadata": {},
   "source": [
    "------------------------------------"
   ]
  },
  {
   "cell_type": "code",
   "execution_count": 17,
   "metadata": {},
   "outputs": [
    {
     "name": "stdout",
     "output_type": "stream",
     "text": [
      "Converted 00_misc.ipynb.\n",
      "Converted 01_download.ipynb.\n",
      "Converted 02_numerframe.ipynb.\n",
      "Converted 03_preprocessing.ipynb.\n",
      "Converted 04_model.ipynb.\n",
      "Converted 05_postprocessing.ipynb.\n",
      "Converted 06_modelpipeline.ipynb.\n",
      "Converted 07_evaluation.ipynb.\n",
      "Converted 08_key.ipynb.\n",
      "Converted 09_submission.ipynb.\n",
      "Converted 10_staking.ipynb.\n",
      "Converted index.ipynb.\n"
     ]
    },
    {
     "data": {
      "text/plain": "<IPython.core.display.Javascript object>",
      "application/javascript": "\n            setTimeout(function() {\n                var nbb_cell_id = 17;\n                var nbb_unformatted_code = \"# hide\\n# Run this cell to sync all changes with library\\nfrom nbdev.export import notebook2script\\n\\nnotebook2script()\";\n                var nbb_formatted_code = \"# hide\\n# Run this cell to sync all changes with library\\nfrom nbdev.export import notebook2script\\n\\nnotebook2script()\";\n                var nbb_cells = Jupyter.notebook.get_cells();\n                for (var i = 0; i < nbb_cells.length; ++i) {\n                    if (nbb_cells[i].input_prompt_number == nbb_cell_id) {\n                        if (nbb_cells[i].get_text() == nbb_unformatted_code) {\n                             nbb_cells[i].set_text(nbb_formatted_code);\n                        }\n                        break;\n                    }\n                }\n            }, 500);\n            "
     },
     "metadata": {},
     "output_type": "display_data"
    }
   ],
   "source": [
    "# hide\n",
    "# Run this cell to sync all changes with library\n",
    "from nbdev.export import notebook2script\n",
    "\n",
    "notebook2script()"
   ]
  }
 ],
 "metadata": {
  "kernelspec": {
   "display_name": "Python 3",
   "language": "python",
   "name": "python3"
  }
 },
 "nbformat": 4,
 "nbformat_minor": 0
}