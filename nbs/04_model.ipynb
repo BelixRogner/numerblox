{
 "cells": [
  {
   "cell_type": "code",
   "execution_count": 24,
   "metadata": {},
   "outputs": [
    {
     "name": "stdout",
     "output_type": "stream",
     "text": [
      "The autoreload extension is already loaded. To reload it, use:\n",
      "  %reload_ext autoreload\n",
      "The nb_black extension is already loaded. To reload it, use:\n",
      "  %reload_ext nb_black\n",
      "The lab_black extension is already loaded. To reload it, use:\n",
      "  %reload_ext lab_black\n"
     ]
    },
    {
     "data": {
      "text/plain": "<IPython.core.display.Javascript object>",
      "application/javascript": "\n            setTimeout(function() {\n                var nbb_cell_id = 24;\n                var nbb_unformatted_code = \"%load_ext autoreload\\n%autoreload 2\\n%load_ext nb_black\\n%load_ext lab_black\";\n                var nbb_formatted_code = \"%load_ext autoreload\\n%autoreload 2\\n%load_ext nb_black\\n%load_ext lab_black\";\n                var nbb_cells = Jupyter.notebook.get_cells();\n                for (var i = 0; i < nbb_cells.length; ++i) {\n                    if (nbb_cells[i].input_prompt_number == nbb_cell_id) {\n                        if (nbb_cells[i].get_text() == nbb_unformatted_code) {\n                             nbb_cells[i].set_text(nbb_formatted_code);\n                        }\n                        break;\n                    }\n                }\n            }, 500);\n            "
     },
     "metadata": {},
     "output_type": "display_data"
    }
   ],
   "source": [
    "%load_ext autoreload\n",
    "%autoreload 2\n",
    "%load_ext nb_black\n",
    "%load_ext lab_black"
   ]
  },
  {
   "cell_type": "code",
   "execution_count": 25,
   "metadata": {},
   "outputs": [
    {
     "data": {
      "text/plain": "<IPython.core.display.Javascript object>",
      "application/javascript": "\n            setTimeout(function() {\n                var nbb_cell_id = 25;\n                var nbb_unformatted_code = \"# default_exp model\";\n                var nbb_formatted_code = \"# default_exp model\";\n                var nbb_cells = Jupyter.notebook.get_cells();\n                for (var i = 0; i < nbb_cells.length; ++i) {\n                    if (nbb_cells[i].input_prompt_number == nbb_cell_id) {\n                        if (nbb_cells[i].get_text() == nbb_unformatted_code) {\n                             nbb_cells[i].set_text(nbb_formatted_code);\n                        }\n                        break;\n                    }\n                }\n            }, 500);\n            "
     },
     "metadata": {},
     "output_type": "display_data"
    }
   ],
   "source": [
    "# default_exp model"
   ]
  },
  {
   "cell_type": "markdown",
   "metadata": {},
   "source": [
    "# Model\n",
    "\n",
    "This section implements functionality concerned with generating predictions for Numerai on preprocessed data.\n",
    "\n",
    "Currently supported frameworks and formats:\n",
    "1. `.joblib` (Common format to save Python objects. These models should have a `.predict` method. Especially convenient for [sklearn models](https://scikit-learn.org/stable/supervised_learning.html).)\n",
    "2. `.pickle`/`.pkl` (Arbitrary Python objects. All pickled models should have a `.predict` method.)\n",
    "3. `.cbm` (Easy format to load [CatBoost](https://catboost.ai/en/docs/) models.)\n",
    "4. `.lgb` (Format to load [LightGBM](https://lightgbm.readthedocs.io/en/latest/) models.)\n",
    "5. Baseline models for which loading from files is not relevant (i.e. `ConstantModel` and `RandomModel`.)\n",
    "\n",
    "\n",
    "It is recommended to use models within `ModelPipeline`s (section 6), but they can also be used on its own.\n",
    "\n",
    "The last section of this notebook explains two different ways you can implement your own models for `numerai-blocks`:\n",
    "1. From `BaseModel` (custom prediction logic).\n",
    "2. From `DirectoryModel` (make predictions for all models in directory with given file suffix.\n",
    "Prediction logic will already be implemented. Only write model loading logic)."
   ]
  },
  {
   "cell_type": "code",
   "execution_count": 26,
   "metadata": {},
   "outputs": [
    {
     "data": {
      "text/plain": "<IPython.core.display.Javascript object>",
      "application/javascript": "\n            setTimeout(function() {\n                var nbb_cell_id = 26;\n                var nbb_unformatted_code = \"# hide\\nfrom nbdev.showdoc import *\";\n                var nbb_formatted_code = \"# hide\\nfrom nbdev.showdoc import *\";\n                var nbb_cells = Jupyter.notebook.get_cells();\n                for (var i = 0; i < nbb_cells.length; ++i) {\n                    if (nbb_cells[i].input_prompt_number == nbb_cell_id) {\n                        if (nbb_cells[i].get_text() == nbb_unformatted_code) {\n                             nbb_cells[i].set_text(nbb_formatted_code);\n                        }\n                        break;\n                    }\n                }\n            }, 500);\n            "
     },
     "metadata": {},
     "output_type": "display_data"
    }
   ],
   "source": [
    "# hide\n",
    "from nbdev.showdoc import *"
   ]
  },
  {
   "cell_type": "code",
   "execution_count": 27,
   "metadata": {},
   "outputs": [
    {
     "data": {
      "text/plain": "<IPython.core.display.Javascript object>",
      "application/javascript": "\n            setTimeout(function() {\n                var nbb_cell_id = 27;\n                var nbb_unformatted_code = \"#export\\nimport gc\\nimport uuid\\nimport joblib\\nimport pickle\\nimport numpy as np\\nimport pandas as pd\\nimport lightgbm as lgb\\nfrom pathlib import Path\\nfrom typing import Union\\nfrom tqdm.auto import tqdm\\nfrom catboost import CatBoost\\nfrom typeguard import typechecked\\nfrom abc import ABC, abstractmethod\\nfrom sklearn.dummy import DummyRegressor\\n\\nfrom numerai_blocks.numerframe import NumerFrame, create_numerframe\\nfrom numerai_blocks.preprocessing import display_processor_info\";\n                var nbb_formatted_code = \"# export\\nimport gc\\nimport uuid\\nimport joblib\\nimport pickle\\nimport numpy as np\\nimport pandas as pd\\nimport lightgbm as lgb\\nfrom pathlib import Path\\nfrom typing import Union\\nfrom tqdm.auto import tqdm\\nfrom catboost import CatBoost\\nfrom typeguard import typechecked\\nfrom abc import ABC, abstractmethod\\nfrom sklearn.dummy import DummyRegressor\\n\\nfrom numerai_blocks.numerframe import NumerFrame, create_numerframe\\nfrom numerai_blocks.preprocessing import display_processor_info\";\n                var nbb_cells = Jupyter.notebook.get_cells();\n                for (var i = 0; i < nbb_cells.length; ++i) {\n                    if (nbb_cells[i].input_prompt_number == nbb_cell_id) {\n                        if (nbb_cells[i].get_text() == nbb_unformatted_code) {\n                             nbb_cells[i].set_text(nbb_formatted_code);\n                        }\n                        break;\n                    }\n                }\n            }, 500);\n            "
     },
     "metadata": {},
     "output_type": "display_data"
    }
   ],
   "source": [
    "#export\n",
    "import gc\n",
    "import uuid\n",
    "import joblib\n",
    "import pickle\n",
    "import numpy as np\n",
    "import pandas as pd\n",
    "import lightgbm as lgb\n",
    "from pathlib import Path\n",
    "from typing import Union\n",
    "from tqdm.auto import tqdm\n",
    "from catboost import CatBoost\n",
    "from typeguard import typechecked\n",
    "from abc import ABC, abstractmethod\n",
    "from sklearn.dummy import DummyRegressor\n",
    "\n",
    "from numerai_blocks.numerframe import NumerFrame, create_numerframe\n",
    "from numerai_blocks.preprocessing import display_processor_info"
   ]
  },
  {
   "cell_type": "markdown",
   "metadata": {},
   "source": [
    "## 0. Base"
   ]
  },
  {
   "cell_type": "markdown",
   "metadata": {},
   "source": [
    "### 0.1. BaseModel"
   ]
  },
  {
   "cell_type": "markdown",
   "metadata": {},
   "source": [
    "The `BaseModel` is an abstract base class that handles some directory logic and naming conventions. All models should inherit from `BaseModel` and be sure to implement the `.predict` method.\n",
    "\n",
    "In general, models are loaded in from disk. However, if no model files are involved in your model you should pass an empty string (`\"\"`) as the `model_directory` argument.\n",
    "\n",
    "Note that a new prediction column will have the column name `prediction_{MODEL_NAME}`."
   ]
  },
  {
   "cell_type": "code",
   "execution_count": 28,
   "metadata": {},
   "outputs": [
    {
     "data": {
      "text/plain": "<IPython.core.display.Javascript object>",
      "application/javascript": "\n            setTimeout(function() {\n                var nbb_cell_id = 28;\n                var nbb_unformatted_code = \"#export\\nclass BaseModel(ABC):\\n    \\\"\\\"\\\"\\n    Setup for model prediction on a Dataset.\\n\\n    :param model_directory: Main directory from which to read in models.\\n    :param model_name: Name that will be used to create column names and for display purposes.\\n    \\\"\\\"\\\"\\n    def __init__(self, model_directory: str, model_name: str = None, *args, **kwargs):\\n        self.model_directory = Path(model_directory)\\n        self.__dict__.update(*args, **kwargs)\\n        self.model_name = model_name if model_name else uuid.uuid4().hex\\n        self.prediction_col_name = f\\\"prediction_{self.model_name}\\\"\\n        self.description = f\\\"{self.__class__.__name__}: '{self.model_name}' prediction\\\"\\n\\n    @abstractmethod\\n    def predict(self, dataf: Union[pd.DataFrame, NumerFrame]) -> NumerFrame:\\n        \\\"\\\"\\\" Return NumerFrame with column added for prediction. \\\"\\\"\\\"\\n        ...\\n        return NumerFrame(dataf)\\n\\n    def __call__(self, dataf: Union[pd.DataFrame, NumerFrame]) -> NumerFrame:\\n        return self.predict(dataf=dataf)\";\n                var nbb_formatted_code = \"# export\\nclass BaseModel(ABC):\\n    \\\"\\\"\\\"\\n    Setup for model prediction on a Dataset.\\n\\n    :param model_directory: Main directory from which to read in models.\\n    :param model_name: Name that will be used to create column names and for display purposes.\\n    \\\"\\\"\\\"\\n\\n    def __init__(self, model_directory: str, model_name: str = None, *args, **kwargs):\\n        self.model_directory = Path(model_directory)\\n        self.__dict__.update(*args, **kwargs)\\n        self.model_name = model_name if model_name else uuid.uuid4().hex\\n        self.prediction_col_name = f\\\"prediction_{self.model_name}\\\"\\n        self.description = f\\\"{self.__class__.__name__}: '{self.model_name}' prediction\\\"\\n\\n    @abstractmethod\\n    def predict(self, dataf: Union[pd.DataFrame, NumerFrame]) -> NumerFrame:\\n        \\\"\\\"\\\"Return NumerFrame with column added for prediction.\\\"\\\"\\\"\\n        ...\\n        return NumerFrame(dataf)\\n\\n    def __call__(self, dataf: Union[pd.DataFrame, NumerFrame]) -> NumerFrame:\\n        return self.predict(dataf=dataf)\";\n                var nbb_cells = Jupyter.notebook.get_cells();\n                for (var i = 0; i < nbb_cells.length; ++i) {\n                    if (nbb_cells[i].input_prompt_number == nbb_cell_id) {\n                        if (nbb_cells[i].get_text() == nbb_unformatted_code) {\n                             nbb_cells[i].set_text(nbb_formatted_code);\n                        }\n                        break;\n                    }\n                }\n            }, 500);\n            "
     },
     "metadata": {},
     "output_type": "display_data"
    }
   ],
   "source": [
    "#export\n",
    "class BaseModel(ABC):\n",
    "    \"\"\"\n",
    "    Setup for model prediction on a Dataset.\n",
    "\n",
    "    :param model_directory: Main directory from which to read in models.\n",
    "    :param model_name: Name that will be used to create column names and for display purposes.\n",
    "    \"\"\"\n",
    "    def __init__(self, model_directory: str, model_name: str = None, *args, **kwargs):\n",
    "        self.model_directory = Path(model_directory)\n",
    "        self.__dict__.update(*args, **kwargs)\n",
    "        self.model_name = model_name if model_name else uuid.uuid4().hex\n",
    "        self.prediction_col_name = f\"prediction_{self.model_name}\"\n",
    "        self.description = f\"{self.__class__.__name__}: '{self.model_name}' prediction\"\n",
    "\n",
    "    @abstractmethod\n",
    "    def predict(self, dataf: Union[pd.DataFrame, NumerFrame]) -> NumerFrame:\n",
    "        \"\"\" Return NumerFrame with column added for prediction. \"\"\"\n",
    "        ...\n",
    "        return NumerFrame(dataf)\n",
    "\n",
    "    def __call__(self, dataf: Union[pd.DataFrame, NumerFrame]) -> NumerFrame:\n",
    "        return self.predict(dataf=dataf)"
   ]
  },
  {
   "cell_type": "markdown",
   "metadata": {},
   "source": [
    "### 0.2. DirectoryModel"
   ]
  },
  {
   "cell_type": "markdown",
   "metadata": {},
   "source": [
    "A `DirectoryModel` assumes that you have a directory of models and you want to load + predict for all models with a certain `file_suffix` (for example, `.joblib`, `.cbm` or `.lgb`). This base class handles prediction logic for this situation.\n",
    "\n",
    "If you are thinking of implementing your own model and this is your use case, then you should inherit from `DirectoryModel` and be sure to implement `load_models` method. Your then don't have to implement any prediction logic in the `.predict` method.\n",
    "\n",
    "When inheriting from `DirectoryModel` the only mandatory method implementation is for `load_models`. It should instantiate all models and return them as a `list`.\n",
    "\n",
    "Currently only single target predictions are supported for `DirectoryModel`. Future versions will also support Directory models for multiple targets. If your use case concerns multiple target predictions consider using `SingleModel`s or inheriting from `BaseModel`."
   ]
  },
  {
   "cell_type": "code",
   "execution_count": 29,
   "metadata": {},
   "outputs": [
    {
     "data": {
      "text/plain": "<IPython.core.display.Javascript object>",
      "application/javascript": "\n            setTimeout(function() {\n                var nbb_cell_id = 29;\n                var nbb_unformatted_code = \"#export\\nclass DirectoryModel(BaseModel):\\n    \\\"\\\"\\\"\\n    Base class implementation for JoblibModel, CatBoostModel, LGBMModel, etc.\\n    Walks through every file with given file_suffix in a directory.\\n    :param model_directory: Main directory from which to read in models.\\n    :param file_suffix: File format to load (For example, .joblib, .pkl, .cbm or .lgb)\\n    :param model_name: Name that will be used to create column names and for display purposes.\\n    \\\"\\\"\\\"\\n    def __init__(self, model_directory: str, file_suffix: str, model_name: str = None, *args, **kwargs):\\n        super().__init__(model_directory=model_directory,\\n                         model_name=model_name,\\n                         *args, **kwargs\\n                         )\\n        self.file_suffix = file_suffix\\n        self.model_paths = list(self.model_directory.glob(f'*.{self.file_suffix}'))\\n        if self.file_suffix:\\n            assert self.model_paths, f\\\"No {self.file_suffix} files found in {self.model_directory}.\\\"\\n        self.total_models = len(self.model_paths)\\n\\n    @display_processor_info\\n    def predict(self, dataf: NumerFrame, *args, **kwargs) -> NumerFrame:\\n        \\\"\\\"\\\"\\n        Use all recognized models to make predictions and average them out.\\n        :param dataf: A Preprocessed DataFrame where all its features can be passed to the model predict method.\\n        *args, **kwargs will be parsed into the model.predict method.\\n        :return: A new dataset with prediction column added.\\n        \\\"\\\"\\\"\\n        dataf.loc[:, self.prediction_col_name] = np.zeros(len(dataf))\\n        models = self.load_models()\\n        for model in tqdm(models, desc=self.description, position=1):\\n            predictions = model.predict(dataf.get_feature_data, *args, **kwargs)\\n            dataf.loc[:, self.prediction_col_name] += predictions / self.total_models\\n        del models; gc.collect()\\n        return NumerFrame(dataf)\\n\\n    @abstractmethod\\n    def load_models(self) -> list:\\n        \\\"\\\"\\\" Instantiate all models detected in self.model_paths. \\\"\\\"\\\"\\n        ...\";\n                var nbb_formatted_code = \"# export\\nclass DirectoryModel(BaseModel):\\n    \\\"\\\"\\\"\\n    Base class implementation for JoblibModel, CatBoostModel, LGBMModel, etc.\\n    Walks through every file with given file_suffix in a directory.\\n    :param model_directory: Main directory from which to read in models.\\n    :param file_suffix: File format to load (For example, .joblib, .pkl, .cbm or .lgb)\\n    :param model_name: Name that will be used to create column names and for display purposes.\\n    \\\"\\\"\\\"\\n\\n    def __init__(\\n        self,\\n        model_directory: str,\\n        file_suffix: str,\\n        model_name: str = None,\\n        *args,\\n        **kwargs,\\n    ):\\n        super().__init__(\\n            model_directory=model_directory, model_name=model_name, *args, **kwargs\\n        )\\n        self.file_suffix = file_suffix\\n        self.model_paths = list(self.model_directory.glob(f\\\"*.{self.file_suffix}\\\"))\\n        if self.file_suffix:\\n            assert (\\n                self.model_paths\\n            ), f\\\"No {self.file_suffix} files found in {self.model_directory}.\\\"\\n        self.total_models = len(self.model_paths)\\n\\n    @display_processor_info\\n    def predict(self, dataf: NumerFrame, *args, **kwargs) -> NumerFrame:\\n        \\\"\\\"\\\"\\n        Use all recognized models to make predictions and average them out.\\n        :param dataf: A Preprocessed DataFrame where all its features can be passed to the model predict method.\\n        *args, **kwargs will be parsed into the model.predict method.\\n        :return: A new dataset with prediction column added.\\n        \\\"\\\"\\\"\\n        dataf.loc[:, self.prediction_col_name] = np.zeros(len(dataf))\\n        models = self.load_models()\\n        for model in tqdm(models, desc=self.description, position=1):\\n            predictions = model.predict(dataf.get_feature_data, *args, **kwargs)\\n            dataf.loc[:, self.prediction_col_name] += predictions / self.total_models\\n        del models\\n        gc.collect()\\n        return NumerFrame(dataf)\\n\\n    @abstractmethod\\n    def load_models(self) -> list:\\n        \\\"\\\"\\\"Instantiate all models detected in self.model_paths.\\\"\\\"\\\"\\n        ...\";\n                var nbb_cells = Jupyter.notebook.get_cells();\n                for (var i = 0; i < nbb_cells.length; ++i) {\n                    if (nbb_cells[i].input_prompt_number == nbb_cell_id) {\n                        if (nbb_cells[i].get_text() == nbb_unformatted_code) {\n                             nbb_cells[i].set_text(nbb_formatted_code);\n                        }\n                        break;\n                    }\n                }\n            }, 500);\n            "
     },
     "metadata": {},
     "output_type": "display_data"
    }
   ],
   "source": [
    "#export\n",
    "class DirectoryModel(BaseModel):\n",
    "    \"\"\"\n",
    "    Base class implementation for JoblibModel, CatBoostModel, LGBMModel, etc.\n",
    "    Walks through every file with given file_suffix in a directory.\n",
    "    :param model_directory: Main directory from which to read in models.\n",
    "    :param file_suffix: File format to load (For example, .joblib, .pkl, .cbm or .lgb)\n",
    "    :param model_name: Name that will be used to create column names and for display purposes.\n",
    "    \"\"\"\n",
    "    def __init__(self, model_directory: str, file_suffix: str, model_name: str = None, *args, **kwargs):\n",
    "        super().__init__(model_directory=model_directory,\n",
    "                         model_name=model_name,\n",
    "                         *args, **kwargs\n",
    "                         )\n",
    "        self.file_suffix = file_suffix\n",
    "        self.model_paths = list(self.model_directory.glob(f'*.{self.file_suffix}'))\n",
    "        if self.file_suffix:\n",
    "            assert self.model_paths, f\"No {self.file_suffix} files found in {self.model_directory}.\"\n",
    "        self.total_models = len(self.model_paths)\n",
    "\n",
    "    @display_processor_info\n",
    "    def predict(self, dataf: NumerFrame, *args, **kwargs) -> NumerFrame:\n",
    "        \"\"\"\n",
    "        Use all recognized models to make predictions and average them out.\n",
    "        :param dataf: A Preprocessed DataFrame where all its features can be passed to the model predict method.\n",
    "        *args, **kwargs will be parsed into the model.predict method.\n",
    "        :return: A new dataset with prediction column added.\n",
    "        \"\"\"\n",
    "        dataf.loc[:, self.prediction_col_name] = np.zeros(len(dataf))\n",
    "        models = self.load_models()\n",
    "        for model in tqdm(models, desc=self.description, position=1):\n",
    "            predictions = model.predict(dataf.get_feature_data, *args, **kwargs)\n",
    "            dataf.loc[:, self.prediction_col_name] += predictions / self.total_models\n",
    "        del models; gc.collect()\n",
    "        return NumerFrame(dataf)\n",
    "\n",
    "    @abstractmethod\n",
    "    def load_models(self) -> list:\n",
    "        \"\"\" Instantiate all models detected in self.model_paths. \"\"\"\n",
    "        ...\n"
   ]
  },
  {
   "cell_type": "markdown",
   "metadata": {},
   "source": [
    "## 1. Standard model formats"
   ]
  },
  {
   "cell_type": "markdown",
   "source": [
    "Implementations for common Numerai model prediction situations."
   ],
   "metadata": {
    "collapsed": false
   }
  },
  {
   "cell_type": "markdown",
   "source": [
    "### 1.1. Single Model file"
   ],
   "metadata": {
    "collapsed": false
   }
  },
  {
   "cell_type": "markdown",
   "source": [
    "In many cases you just want to load a single model file and create predictions for that model. `SingleModel` supports this.\n",
    "\n",
    "This class supports multiple model formats for easy use. All models should have a `.predict` method.\n",
    "Currently, `.joblib`, `.cbm`, `.pkl` and `.pickle` format are supported.\n",
    "\n",
    "**Things to keep in mind**\n",
    "- This model will use all available features in the `NumerFrame` and use them for prediction. Make sure to define proper feature selection if the models does not use all features.\n",
    "- If you have XGBoost models we recommend saving them as `.joblib`.\n",
    "- The added prediction column will have the column name `prediction_{MODEL_NAME}` if 1 target is predicted.\n",
    "For multiple targets the new column names will be `prediction_{MODEL_NAME}_{i}` for each target number i (starting with 0).\n",
    "- We welcome the Numerai community to extend `SingleModel` for more file formats. See the Contributing section in `README.md` for more information on contributing."
   ],
   "metadata": {
    "collapsed": false
   }
  },
  {
   "cell_type": "code",
   "execution_count": 30,
   "outputs": [
    {
     "data": {
      "text/plain": "<IPython.core.display.Javascript object>",
      "application/javascript": "\n            setTimeout(function() {\n                var nbb_cell_id = 30;\n                var nbb_unformatted_code = \"#export\\n@typechecked\\nclass SingleModel(BaseModel):\\n    \\\"\\\"\\\"\\n    Load single model from file and perform prediction logic.\\n    :param model_directory: Main directory from which to read in models.\\n    :param model_name: Name that will be used to create column names and for display purposes.\\n    \\\"\\\"\\\"\\n    def __init__(self, model_file_path: str, model_name: str = None, *args, **kwargs):\\n        self.model_file_path = Path(model_file_path)\\n        assert self.model_file_path.exists(), f\\\"File path '{self.model_file_path}' does not exist.\\\"\\n        assert self.model_file_path.is_file(), f\\\"File path must point to file. Not valid for '{self.model_file_path}'.\\\"\\n        super().__init__(model_directory=str(self.model_file_path.parent),\\n                         model_name=model_name,\\n                         *args, **kwargs\\n                         )\\n        self.model_suffix = self.model_file_path.suffix\\n        self.suffix_to_model_mapping = {\\\".joblib\\\": joblib.load,\\n                                        \\\".cbm\\\": CatBoost().load_model,\\n                                        \\\".pkl\\\": pickle.load,\\n                                        \\\".pickle\\\": pickle.load}\\n        self.__check_valid_suffix()\\n\\n    def predict(self, dataf: NumerFrame, *args, **kwargs) -> NumerFrame:\\n        model = self._load_model()\\n        predictions = model.predict(dataf.get_feature_data, *args, **kwargs)\\n        prediction_cols = self.get_prediction_col_names(predictions.shape)\\n        dataf.loc[:, prediction_cols] = predictions\\n        del model; gc.collect()\\n        return NumerFrame(dataf)\\n\\n    def _load_model(self, *args, **kwargs):\\n        \\\"\\\"\\\" Load arbitrary model from path using suffix to model mapping. \\\"\\\"\\\"\\n        return self.suffix_to_model_mapping[self.model_suffix](str(self.model_file_path), *args, **kwargs)\\n\\n    def get_prediction_col_names(self, pred_shape: tuple) -> list:\\n        \\\"\\\"\\\" Create multiple columns if predictions are multi-target. \\\"\\\"\\\"\\n        if len(pred_shape) > 1:\\n            # Multi target\\n            prediction_cols = [f\\\"{self.prediction_col_name}_{i}\\\" for i in range(pred_shape[1])]\\n        else:\\n            # Single target\\n            prediction_cols = [self.prediction_col_name]\\n        return prediction_cols\\n\\n    def __check_valid_suffix(self):\\n        \\\"\\\"\\\" Detailed message if model is not supported in this class. \\\"\\\"\\\"\\n        try:\\n            self.suffix_to_model_mapping[self.model_suffix]\\n        except KeyError:\\n            raise NotImplementedError(\\n                f\\\"Format '{self.model_suffix}' is not available. Available versions are {list(self.suffix_to_model_mapping.keys())}\\\"\\n            )\";\n                var nbb_formatted_code = \"# export\\n@typechecked\\nclass SingleModel(BaseModel):\\n    \\\"\\\"\\\"\\n    Load single model from file and perform prediction logic.\\n    :param model_directory: Main directory from which to read in models.\\n    :param model_name: Name that will be used to create column names and for display purposes.\\n    \\\"\\\"\\\"\\n\\n    def __init__(self, model_file_path: str, model_name: str = None, *args, **kwargs):\\n        self.model_file_path = Path(model_file_path)\\n        assert (\\n            self.model_file_path.exists()\\n        ), f\\\"File path '{self.model_file_path}' does not exist.\\\"\\n        assert (\\n            self.model_file_path.is_file()\\n        ), f\\\"File path must point to file. Not valid for '{self.model_file_path}'.\\\"\\n        super().__init__(\\n            model_directory=str(self.model_file_path.parent),\\n            model_name=model_name,\\n            *args,\\n            **kwargs,\\n        )\\n        self.model_suffix = self.model_file_path.suffix\\n        self.suffix_to_model_mapping = {\\n            \\\".joblib\\\": joblib.load,\\n            \\\".cbm\\\": CatBoost().load_model,\\n            \\\".pkl\\\": pickle.load,\\n            \\\".pickle\\\": pickle.load,\\n        }\\n        self.__check_valid_suffix()\\n\\n    def predict(self, dataf: NumerFrame, *args, **kwargs) -> NumerFrame:\\n        model = self._load_model()\\n        predictions = model.predict(dataf.get_feature_data, *args, **kwargs)\\n        prediction_cols = self.get_prediction_col_names(predictions.shape)\\n        dataf.loc[:, prediction_cols] = predictions\\n        del model\\n        gc.collect()\\n        return NumerFrame(dataf)\\n\\n    def _load_model(self, *args, **kwargs):\\n        \\\"\\\"\\\"Load arbitrary model from path using suffix to model mapping.\\\"\\\"\\\"\\n        return self.suffix_to_model_mapping[self.model_suffix](\\n            str(self.model_file_path), *args, **kwargs\\n        )\\n\\n    def get_prediction_col_names(self, pred_shape: tuple) -> list:\\n        \\\"\\\"\\\"Create multiple columns if predictions are multi-target.\\\"\\\"\\\"\\n        if len(pred_shape) > 1:\\n            # Multi target\\n            prediction_cols = [\\n                f\\\"{self.prediction_col_name}_{i}\\\" for i in range(pred_shape[1])\\n            ]\\n        else:\\n            # Single target\\n            prediction_cols = [self.prediction_col_name]\\n        return prediction_cols\\n\\n    def __check_valid_suffix(self):\\n        \\\"\\\"\\\"Detailed message if model is not supported in this class.\\\"\\\"\\\"\\n        try:\\n            self.suffix_to_model_mapping[self.model_suffix]\\n        except KeyError:\\n            raise NotImplementedError(\\n                f\\\"Format '{self.model_suffix}' is not available. Available versions are {list(self.suffix_to_model_mapping.keys())}\\\"\\n            )\";\n                var nbb_cells = Jupyter.notebook.get_cells();\n                for (var i = 0; i < nbb_cells.length; ++i) {\n                    if (nbb_cells[i].input_prompt_number == nbb_cell_id) {\n                        if (nbb_cells[i].get_text() == nbb_unformatted_code) {\n                             nbb_cells[i].set_text(nbb_formatted_code);\n                        }\n                        break;\n                    }\n                }\n            }, 500);\n            "
     },
     "metadata": {},
     "output_type": "display_data"
    }
   ],
   "source": [
    "#export\n",
    "@typechecked\n",
    "class SingleModel(BaseModel):\n",
    "    \"\"\"\n",
    "    Load single model from file and perform prediction logic.\n",
    "    :param model_directory: Main directory from which to read in models.\n",
    "    :param model_name: Name that will be used to create column names and for display purposes.\n",
    "    \"\"\"\n",
    "    def __init__(self, model_file_path: str, model_name: str = None, *args, **kwargs):\n",
    "        self.model_file_path = Path(model_file_path)\n",
    "        assert self.model_file_path.exists(), f\"File path '{self.model_file_path}' does not exist.\"\n",
    "        assert self.model_file_path.is_file(), f\"File path must point to file. Not valid for '{self.model_file_path}'.\"\n",
    "        super().__init__(model_directory=str(self.model_file_path.parent),\n",
    "                         model_name=model_name,\n",
    "                         *args, **kwargs\n",
    "                         )\n",
    "        self.model_suffix = self.model_file_path.suffix\n",
    "        self.suffix_to_model_mapping = {\".joblib\": joblib.load,\n",
    "                                        \".cbm\": CatBoost().load_model,\n",
    "                                        \".pkl\": pickle.load,\n",
    "                                        \".pickle\": pickle.load}\n",
    "        self.__check_valid_suffix()\n",
    "\n",
    "    def predict(self, dataf: NumerFrame, *args, **kwargs) -> NumerFrame:\n",
    "        model = self._load_model()\n",
    "        predictions = model.predict(dataf.get_feature_data, *args, **kwargs)\n",
    "        prediction_cols = self.get_prediction_col_names(predictions.shape)\n",
    "        dataf.loc[:, prediction_cols] = predictions\n",
    "        del model; gc.collect()\n",
    "        return NumerFrame(dataf)\n",
    "\n",
    "    def _load_model(self, *args, **kwargs):\n",
    "        \"\"\" Load arbitrary model from path using suffix to model mapping. \"\"\"\n",
    "        return self.suffix_to_model_mapping[self.model_suffix](str(self.model_file_path), *args, **kwargs)\n",
    "\n",
    "    def get_prediction_col_names(self, pred_shape: tuple) -> list:\n",
    "        \"\"\" Create multiple columns if predictions are multi-target. \"\"\"\n",
    "        if len(pred_shape) > 1:\n",
    "            # Multi target\n",
    "            prediction_cols = [f\"{self.prediction_col_name}_{i}\" for i in range(pred_shape[1])]\n",
    "        else:\n",
    "            # Single target\n",
    "            prediction_cols = [self.prediction_col_name]\n",
    "        return prediction_cols\n",
    "\n",
    "    def __check_valid_suffix(self):\n",
    "        \"\"\" Detailed message if model is not supported in this class. \"\"\"\n",
    "        try:\n",
    "            self.suffix_to_model_mapping[self.model_suffix]\n",
    "        except KeyError:\n",
    "            raise NotImplementedError(\n",
    "                f\"Format '{self.model_suffix}' is not available. Available versions are {list(self.suffix_to_model_mapping.keys())}\"\n",
    "            )\n"
   ],
   "metadata": {
    "collapsed": false,
    "pycharm": {
     "name": "#%%\n"
    }
   }
  },
  {
   "cell_type": "code",
   "execution_count": 31,
   "outputs": [
    {
     "name": "stdout",
     "output_type": "stream",
     "text": [
      "                  prediction_test\n",
      "id                               \n",
      "n559bd06a8861222         0.506948\n",
      "n9d39dea58c9e3cf         0.492578\n"
     ]
    },
    {
     "data": {
      "text/plain": "<IPython.core.display.Javascript object>",
      "application/javascript": "\n            setTimeout(function() {\n                var nbb_cell_id = 31;\n                var nbb_unformatted_code = \"dataset = create_numerframe(\\\"test_assets/mini_numerai_version_2_data.parquet\\\")\\ntest_paths = [\\\"test_assets/joblib_v2_example_model.joblib\\\"]\\nfor path in test_paths:\\n    model = SingleModel(path, model_name=\\\"test\\\")\\n    print(model.predict(dataset).get_prediction_data.head(2))\";\n                var nbb_formatted_code = \"dataset = create_numerframe(\\\"test_assets/mini_numerai_version_2_data.parquet\\\")\\ntest_paths = [\\\"test_assets/joblib_v2_example_model.joblib\\\"]\\nfor path in test_paths:\\n    model = SingleModel(path, model_name=\\\"test\\\")\\n    print(model.predict(dataset).get_prediction_data.head(2))\";\n                var nbb_cells = Jupyter.notebook.get_cells();\n                for (var i = 0; i < nbb_cells.length; ++i) {\n                    if (nbb_cells[i].input_prompt_number == nbb_cell_id) {\n                        if (nbb_cells[i].get_text() == nbb_unformatted_code) {\n                             nbb_cells[i].set_text(nbb_formatted_code);\n                        }\n                        break;\n                    }\n                }\n            }, 500);\n            "
     },
     "metadata": {},
     "output_type": "display_data"
    }
   ],
   "source": [
    "dataset = create_numerframe(\"test_assets/mini_numerai_version_2_data.parquet\")\n",
    "test_paths = [\"test_assets/joblib_v2_example_model.joblib\"]\n",
    "for path in test_paths:\n",
    "    model = SingleModel(path, model_name=\"test\")\n",
    "    print(model.predict(dataset).get_prediction_data.head(2))"
   ],
   "metadata": {
    "collapsed": false,
    "pycharm": {
     "name": "#%%\n"
    }
   }
  },
  {
   "cell_type": "code",
   "execution_count": 32,
   "outputs": [
    {
     "data": {
      "text/plain": "{'.joblib': <function joblib.numpy_pickle.load(filename, mmap_mode=None)>,\n '.cbm': <bound method CatBoost.load_model of <catboost.core.CatBoost object at 0x7f8b3093acd0>>,\n '.pkl': <function _pickle.load(file, *, fix_imports=True, encoding='ASCII', errors='strict')>,\n '.pickle': <function _pickle.load(file, *, fix_imports=True, encoding='ASCII', errors='strict')>}"
     },
     "execution_count": 32,
     "metadata": {},
     "output_type": "execute_result"
    },
    {
     "data": {
      "text/plain": "<IPython.core.display.Javascript object>",
      "application/javascript": "\n            setTimeout(function() {\n                var nbb_cell_id = 32;\n                var nbb_unformatted_code = \"model = SingleModel(test_paths[0], model_name=\\\"test\\\")\\nmodel.suffix_to_model_mapping\";\n                var nbb_formatted_code = \"model = SingleModel(test_paths[0], model_name=\\\"test\\\")\\nmodel.suffix_to_model_mapping\";\n                var nbb_cells = Jupyter.notebook.get_cells();\n                for (var i = 0; i < nbb_cells.length; ++i) {\n                    if (nbb_cells[i].input_prompt_number == nbb_cell_id) {\n                        if (nbb_cells[i].get_text() == nbb_unformatted_code) {\n                             nbb_cells[i].set_text(nbb_formatted_code);\n                        }\n                        break;\n                    }\n                }\n            }, 500);\n            "
     },
     "metadata": {},
     "output_type": "display_data"
    }
   ],
   "source": [
    "model = SingleModel(test_paths[0], model_name=\"test\")\n",
    "model.suffix_to_model_mapping"
   ],
   "metadata": {
    "collapsed": false,
    "pycharm": {
     "name": "#%%\n"
    }
   }
  },
  {
   "cell_type": "markdown",
   "metadata": {},
   "source": [
    "### 1.2. Joblib directory"
   ]
  },
  {
   "cell_type": "markdown",
   "metadata": {},
   "source": [
    "Many models, like `scikit-learn`, can conveniently be saved as `.joblib` files. This class automatically loads all `.joblib` files in a given folder and generates (averaged out) predictions."
   ]
  },
  {
   "cell_type": "code",
   "execution_count": 33,
   "metadata": {},
   "outputs": [
    {
     "data": {
      "text/plain": "<IPython.core.display.Javascript object>",
      "application/javascript": "\n            setTimeout(function() {\n                var nbb_cell_id = 33;\n                var nbb_unformatted_code = \"#export\\n@typechecked\\nclass JoblibModel(DirectoryModel):\\n    \\\"\\\"\\\"\\n    Load and predict for arbitrary models in directory saved as .joblib.\\n    All loaded models should have a .predict method and accept the features present in the data.\\n    :param model_directory: Main directory from which to read in models.\\n    :param model_name: Name that will be used to create column names and for display purposes.\\n    \\\"\\\"\\\"\\n    def __init__(self, model_directory: str, model_name: str = None, *args, **kwargs):\\n        file_suffix = 'joblib'\\n        super().__init__(model_directory=model_directory,\\n                         file_suffix=file_suffix,\\n                         model_name=model_name,\\n                         *args, **kwargs\\n                         )\\n\\n    def load_models(self) -> list:\\n        return [joblib.load(path) for path in self.model_paths]\";\n                var nbb_formatted_code = \"# export\\n@typechecked\\nclass JoblibModel(DirectoryModel):\\n    \\\"\\\"\\\"\\n    Load and predict for arbitrary models in directory saved as .joblib.\\n    All loaded models should have a .predict method and accept the features present in the data.\\n    :param model_directory: Main directory from which to read in models.\\n    :param model_name: Name that will be used to create column names and for display purposes.\\n    \\\"\\\"\\\"\\n\\n    def __init__(self, model_directory: str, model_name: str = None, *args, **kwargs):\\n        file_suffix = \\\"joblib\\\"\\n        super().__init__(\\n            model_directory=model_directory,\\n            file_suffix=file_suffix,\\n            model_name=model_name,\\n            *args,\\n            **kwargs\\n        )\\n\\n    def load_models(self) -> list:\\n        return [joblib.load(path) for path in self.model_paths]\";\n                var nbb_cells = Jupyter.notebook.get_cells();\n                for (var i = 0; i < nbb_cells.length; ++i) {\n                    if (nbb_cells[i].input_prompt_number == nbb_cell_id) {\n                        if (nbb_cells[i].get_text() == nbb_unformatted_code) {\n                             nbb_cells[i].set_text(nbb_formatted_code);\n                        }\n                        break;\n                    }\n                }\n            }, 500);\n            "
     },
     "metadata": {},
     "output_type": "display_data"
    }
   ],
   "source": [
    "#export\n",
    "@typechecked\n",
    "class JoblibModel(DirectoryModel):\n",
    "    \"\"\"\n",
    "    Load and predict for arbitrary models in directory saved as .joblib.\n",
    "    All loaded models should have a .predict method and accept the features present in the data.\n",
    "    :param model_directory: Main directory from which to read in models.\n",
    "    :param model_name: Name that will be used to create column names and for display purposes.\n",
    "    \"\"\"\n",
    "    def __init__(self, model_directory: str, model_name: str = None, *args, **kwargs):\n",
    "        file_suffix = 'joblib'\n",
    "        super().__init__(model_directory=model_directory,\n",
    "                         file_suffix=file_suffix,\n",
    "                         model_name=model_name,\n",
    "                         *args, **kwargs\n",
    "                         )\n",
    "\n",
    "    def load_models(self) -> list:\n",
    "        return [joblib.load(path) for path in self.model_paths]"
   ]
  },
  {
   "cell_type": "code",
   "execution_count": 34,
   "metadata": {},
   "outputs": [
    {
     "data": {
      "text/plain": "JoblibModel: 'Joblib_LGB' prediction:   0%|          | 0/1 [00:00<?, ?it/s]",
      "application/vnd.jupyter.widget-view+json": {
       "version_major": 2,
       "version_minor": 0,
       "model_id": "e504e501f6af4b28981553205ec867f9"
      }
     },
     "metadata": {},
     "output_type": "display_data"
    },
    {
     "data": {
      "text/plain": "✅ Finished step \u001B[1mDirectoryModel\u001B[0m. Output \u001B[33mshape\u001B[0m=\u001B[1m(\u001B[0m\u001B[1;36m10\u001B[0m, \u001B[1;36m1074\u001B[0m\u001B[1m)\u001B[0m. Time taken for step: \n\u001B[1;34m0:00:00\u001B[0m\u001B[34m.\u001B[0m\u001B[1;34m206817\u001B[0m. ✅\n",
      "text/html": "<pre style=\"white-space:pre;overflow-x:auto;line-height:normal;font-family:Menlo,'DejaVu Sans Mono',consolas,'Courier New',monospace\">✅ Finished step <span style=\"font-weight: bold\">DirectoryModel</span>. Output <span style=\"color: #808000; text-decoration-color: #808000\">shape</span>=<span style=\"font-weight: bold\">(</span><span style=\"color: #008080; text-decoration-color: #008080; font-weight: bold\">10</span>, <span style=\"color: #008080; text-decoration-color: #008080; font-weight: bold\">1074</span><span style=\"font-weight: bold\">)</span>. Time taken for step: \n<span style=\"color: #000080; text-decoration-color: #000080; font-weight: bold\">0:00:00</span><span style=\"color: #000080; text-decoration-color: #000080\">.</span><span style=\"color: #000080; text-decoration-color: #000080; font-weight: bold\">206817</span>. ✅\n</pre>\n"
     },
     "metadata": {},
     "output_type": "display_data"
    },
    {
     "data": {
      "text/plain": "                  prediction_Joblib_LGB\nid                                     \nn559bd06a8861222               0.506948\nn9d39dea58c9e3cf               0.492578\nnb64f06d3a9fc9f1               0.490879",
      "text/html": "<div>\n<style scoped>\n    .dataframe tbody tr th:only-of-type {\n        vertical-align: middle;\n    }\n\n    .dataframe tbody tr th {\n        vertical-align: top;\n    }\n\n    .dataframe thead th {\n        text-align: right;\n    }\n</style>\n<table border=\"1\" class=\"dataframe\">\n  <thead>\n    <tr style=\"text-align: right;\">\n      <th></th>\n      <th>prediction_Joblib_LGB</th>\n    </tr>\n    <tr>\n      <th>id</th>\n      <th></th>\n    </tr>\n  </thead>\n  <tbody>\n    <tr>\n      <th>n559bd06a8861222</th>\n      <td>0.506948</td>\n    </tr>\n    <tr>\n      <th>n9d39dea58c9e3cf</th>\n      <td>0.492578</td>\n    </tr>\n    <tr>\n      <th>nb64f06d3a9fc9f1</th>\n      <td>0.490879</td>\n    </tr>\n  </tbody>\n</table>\n</div>"
     },
     "execution_count": 34,
     "metadata": {},
     "output_type": "execute_result"
    },
    {
     "data": {
      "text/plain": "<IPython.core.display.Javascript object>",
      "application/javascript": "\n            setTimeout(function() {\n                var nbb_cell_id = 34;\n                var nbb_unformatted_code = \"dataset = create_numerframe(\\\"test_assets/mini_numerai_version_2_data.parquet\\\", metadata={\\\"version\\\": 2})\\nmodel = JoblibModel(\\\"test_assets\\\", model_name=\\\"Joblib_LGB\\\")\\npredictions = model.predict(dataset).get_prediction_data\\nassert predictions['prediction_Joblib_LGB'].between(0, 1).all()\\npredictions.head(3)\";\n                var nbb_formatted_code = \"dataset = create_numerframe(\\n    \\\"test_assets/mini_numerai_version_2_data.parquet\\\", metadata={\\\"version\\\": 2}\\n)\\nmodel = JoblibModel(\\\"test_assets\\\", model_name=\\\"Joblib_LGB\\\")\\npredictions = model.predict(dataset).get_prediction_data\\nassert predictions[\\\"prediction_Joblib_LGB\\\"].between(0, 1).all()\\npredictions.head(3)\";\n                var nbb_cells = Jupyter.notebook.get_cells();\n                for (var i = 0; i < nbb_cells.length; ++i) {\n                    if (nbb_cells[i].input_prompt_number == nbb_cell_id) {\n                        if (nbb_cells[i].get_text() == nbb_unformatted_code) {\n                             nbb_cells[i].set_text(nbb_formatted_code);\n                        }\n                        break;\n                    }\n                }\n            }, 500);\n            "
     },
     "metadata": {},
     "output_type": "display_data"
    }
   ],
   "source": [
    "dataset = create_numerframe(\"test_assets/mini_numerai_version_2_data.parquet\", metadata={\"version\": 2})\n",
    "model = JoblibModel(\"test_assets\", model_name=\"Joblib_LGB\")\n",
    "predictions = model.predict(dataset).get_prediction_data\n",
    "assert predictions['prediction_Joblib_LGB'].between(0, 1).all()\n",
    "predictions.head(3)"
   ]
  },
  {
   "cell_type": "markdown",
   "metadata": {},
   "source": [
    "### 1.3. Catboost directory (.cbm)"
   ]
  },
  {
   "cell_type": "markdown",
   "metadata": {},
   "source": [
    "This model setup loads in all `CatBoost` (`.cbm`) models present in a given directory and makes (averaged out) predictions."
   ]
  },
  {
   "cell_type": "code",
   "execution_count": 35,
   "metadata": {},
   "outputs": [
    {
     "data": {
      "text/plain": "<IPython.core.display.Javascript object>",
      "application/javascript": "\n            setTimeout(function() {\n                var nbb_cell_id = 35;\n                var nbb_unformatted_code = \"#export\\n@typechecked\\nclass CatBoostModel(DirectoryModel):\\n    \\\"\\\"\\\"\\n    Load and predict with all .cbm models (CatBoostRegressor) in directory.\\n    :param model_directory: Main directory from which to read in models.\\n    :param model_name: Name that will be used to create column names and for display purposes.\\n    \\\"\\\"\\\"\\n    def __init__(self, model_directory: str, model_name: str = None, *args, **kwargs):\\n        file_suffix = 'cbm'\\n        super().__init__(model_directory=model_directory,\\n                         file_suffix=file_suffix,\\n                         model_name=model_name,\\n                         *args, **kwargs\\n                         )\\n\\n    def load_models(self) -> list:\\n        return [CatBoost().load_model(path) for path in self.model_paths]\";\n                var nbb_formatted_code = \"# export\\n@typechecked\\nclass CatBoostModel(DirectoryModel):\\n    \\\"\\\"\\\"\\n    Load and predict with all .cbm models (CatBoostRegressor) in directory.\\n    :param model_directory: Main directory from which to read in models.\\n    :param model_name: Name that will be used to create column names and for display purposes.\\n    \\\"\\\"\\\"\\n\\n    def __init__(self, model_directory: str, model_name: str = None, *args, **kwargs):\\n        file_suffix = \\\"cbm\\\"\\n        super().__init__(\\n            model_directory=model_directory,\\n            file_suffix=file_suffix,\\n            model_name=model_name,\\n            *args,\\n            **kwargs\\n        )\\n\\n    def load_models(self) -> list:\\n        return [CatBoost().load_model(path) for path in self.model_paths]\";\n                var nbb_cells = Jupyter.notebook.get_cells();\n                for (var i = 0; i < nbb_cells.length; ++i) {\n                    if (nbb_cells[i].input_prompt_number == nbb_cell_id) {\n                        if (nbb_cells[i].get_text() == nbb_unformatted_code) {\n                             nbb_cells[i].set_text(nbb_formatted_code);\n                        }\n                        break;\n                    }\n                }\n            }, 500);\n            "
     },
     "metadata": {},
     "output_type": "display_data"
    }
   ],
   "source": [
    "#export\n",
    "@typechecked\n",
    "class CatBoostModel(DirectoryModel):\n",
    "    \"\"\"\n",
    "    Load and predict with all .cbm models (CatBoostRegressor) in directory.\n",
    "    :param model_directory: Main directory from which to read in models.\n",
    "    :param model_name: Name that will be used to create column names and for display purposes.\n",
    "    \"\"\"\n",
    "    def __init__(self, model_directory: str, model_name: str = None, *args, **kwargs):\n",
    "        file_suffix = 'cbm'\n",
    "        super().__init__(model_directory=model_directory,\n",
    "                         file_suffix=file_suffix,\n",
    "                         model_name=model_name,\n",
    "                         *args, **kwargs\n",
    "                         )\n",
    "\n",
    "    def load_models(self) -> list:\n",
    "        return [CatBoost().load_model(path) for path in self.model_paths]"
   ]
  },
  {
   "cell_type": "code",
   "execution_count": 36,
   "metadata": {},
   "outputs": [
    {
     "data": {
      "text/plain": "✅ Finished step \u001B[1mGroupStatsPreProcessor\u001B[0m. Output \u001B[33mshape\u001B[0m=\u001B[1m(\u001B[0m\u001B[1;36m10\u001B[0m, \u001B[1;36m332\u001B[0m\u001B[1m)\u001B[0m. Time taken for step: \n\u001B[1;34m0:00:00\u001B[0m\u001B[34m.\u001B[0m\u001B[1;34m025558\u001B[0m. ✅\n",
      "text/html": "<pre style=\"white-space:pre;overflow-x:auto;line-height:normal;font-family:Menlo,'DejaVu Sans Mono',consolas,'Courier New',monospace\">✅ Finished step <span style=\"font-weight: bold\">GroupStatsPreProcessor</span>. Output <span style=\"color: #808000; text-decoration-color: #808000\">shape</span>=<span style=\"font-weight: bold\">(</span><span style=\"color: #008080; text-decoration-color: #008080; font-weight: bold\">10</span>, <span style=\"color: #008080; text-decoration-color: #008080; font-weight: bold\">332</span><span style=\"font-weight: bold\">)</span>. Time taken for step: \n<span style=\"color: #000080; text-decoration-color: #000080; font-weight: bold\">0:00:00</span><span style=\"color: #000080; text-decoration-color: #000080\">.</span><span style=\"color: #000080; text-decoration-color: #000080; font-weight: bold\">025558</span>. ✅\n</pre>\n"
     },
     "metadata": {},
     "output_type": "display_data"
    },
    {
     "data": {
      "text/plain": "<IPython.core.display.Javascript object>",
      "application/javascript": "\n            setTimeout(function() {\n                var nbb_cell_id = 36;\n                var nbb_unformatted_code = \"from numerai_blocks.preprocessing import GroupStatsPreProcessor\\ndataset = create_numerframe(\\\"test_assets/mini_numerai_version_1_data.csv\\\", {\\\"version\\\": 1})\\nprocessed_dataset = GroupStatsPreProcessor()(dataset)\\nmodel = CatBoostModel(\\\"test_assets\\\", model_name=\\\"CB\\\")\";\n                var nbb_formatted_code = \"from numerai_blocks.preprocessing import GroupStatsPreProcessor\\n\\ndataset = create_numerframe(\\n    \\\"test_assets/mini_numerai_version_1_data.csv\\\", {\\\"version\\\": 1}\\n)\\nprocessed_dataset = GroupStatsPreProcessor()(dataset)\\nmodel = CatBoostModel(\\\"test_assets\\\", model_name=\\\"CB\\\")\";\n                var nbb_cells = Jupyter.notebook.get_cells();\n                for (var i = 0; i < nbb_cells.length; ++i) {\n                    if (nbb_cells[i].input_prompt_number == nbb_cell_id) {\n                        if (nbb_cells[i].get_text() == nbb_unformatted_code) {\n                             nbb_cells[i].set_text(nbb_formatted_code);\n                        }\n                        break;\n                    }\n                }\n            }, 500);\n            "
     },
     "metadata": {},
     "output_type": "display_data"
    }
   ],
   "source": [
    "from numerai_blocks.preprocessing import GroupStatsPreProcessor\n",
    "dataset = create_numerframe(\"test_assets/mini_numerai_version_1_data.csv\", {\"version\": 1})\n",
    "processed_dataset = GroupStatsPreProcessor()(dataset)\n",
    "model = CatBoostModel(\"test_assets\", model_name=\"CB\")"
   ]
  },
  {
   "cell_type": "code",
   "execution_count": 37,
   "metadata": {},
   "outputs": [
    {
     "data": {
      "text/plain": "CatBoostModel: 'CB' prediction:   0%|          | 0/1 [00:00<?, ?it/s]",
      "application/vnd.jupyter.widget-view+json": {
       "version_major": 2,
       "version_minor": 0,
       "model_id": "dd2bce8e888a49a5852fca5d9750f244"
      }
     },
     "metadata": {},
     "output_type": "display_data"
    },
    {
     "data": {
      "text/plain": "✅ Finished step \u001B[1mDirectoryModel\u001B[0m. Output \u001B[33mshape\u001B[0m=\u001B[1m(\u001B[0m\u001B[1;36m10\u001B[0m, \u001B[1;36m333\u001B[0m\u001B[1m)\u001B[0m. Time taken for step: \u001B[1;34m0:00:00\u001B[0m\u001B[34m.\u001B[0m\u001B[1;34m171188\u001B[0m.\n✅\n",
      "text/html": "<pre style=\"white-space:pre;overflow-x:auto;line-height:normal;font-family:Menlo,'DejaVu Sans Mono',consolas,'Courier New',monospace\">✅ Finished step <span style=\"font-weight: bold\">DirectoryModel</span>. Output <span style=\"color: #808000; text-decoration-color: #808000\">shape</span>=<span style=\"font-weight: bold\">(</span><span style=\"color: #008080; text-decoration-color: #008080; font-weight: bold\">10</span>, <span style=\"color: #008080; text-decoration-color: #008080; font-weight: bold\">333</span><span style=\"font-weight: bold\">)</span>. Time taken for step: <span style=\"color: #000080; text-decoration-color: #000080; font-weight: bold\">0:00:00</span><span style=\"color: #000080; text-decoration-color: #000080\">.</span><span style=\"color: #000080; text-decoration-color: #000080; font-weight: bold\">171188</span>.\n✅\n</pre>\n"
     },
     "metadata": {},
     "output_type": "display_data"
    },
    {
     "data": {
      "text/plain": "   prediction_CB\n0       0.492046\n1       0.499881\n2       0.485325",
      "text/html": "<div>\n<style scoped>\n    .dataframe tbody tr th:only-of-type {\n        vertical-align: middle;\n    }\n\n    .dataframe tbody tr th {\n        vertical-align: top;\n    }\n\n    .dataframe thead th {\n        text-align: right;\n    }\n</style>\n<table border=\"1\" class=\"dataframe\">\n  <thead>\n    <tr style=\"text-align: right;\">\n      <th></th>\n      <th>prediction_CB</th>\n    </tr>\n  </thead>\n  <tbody>\n    <tr>\n      <th>0</th>\n      <td>0.492046</td>\n    </tr>\n    <tr>\n      <th>1</th>\n      <td>0.499881</td>\n    </tr>\n    <tr>\n      <th>2</th>\n      <td>0.485325</td>\n    </tr>\n  </tbody>\n</table>\n</div>"
     },
     "execution_count": 37,
     "metadata": {},
     "output_type": "execute_result"
    },
    {
     "data": {
      "text/plain": "<IPython.core.display.Javascript object>",
      "application/javascript": "\n            setTimeout(function() {\n                var nbb_cell_id = 37;\n                var nbb_unformatted_code = \"predictions = model.predict(processed_dataset).get_prediction_data\\nassert predictions['prediction_CB'].between(0, 1).all()\\npredictions.head(3)\";\n                var nbb_formatted_code = \"predictions = model.predict(processed_dataset).get_prediction_data\\nassert predictions[\\\"prediction_CB\\\"].between(0, 1).all()\\npredictions.head(3)\";\n                var nbb_cells = Jupyter.notebook.get_cells();\n                for (var i = 0; i < nbb_cells.length; ++i) {\n                    if (nbb_cells[i].input_prompt_number == nbb_cell_id) {\n                        if (nbb_cells[i].get_text() == nbb_unformatted_code) {\n                             nbb_cells[i].set_text(nbb_formatted_code);\n                        }\n                        break;\n                    }\n                }\n            }, 500);\n            "
     },
     "metadata": {},
     "output_type": "display_data"
    }
   ],
   "source": [
    "predictions = model.predict(processed_dataset).get_prediction_data\n",
    "assert predictions['prediction_CB'].between(0, 1).all()\n",
    "predictions.head(3)"
   ]
  },
  {
   "cell_type": "markdown",
   "metadata": {},
   "source": [
    "### 1.4. LightGBM directory (.lgb)"
   ]
  },
  {
   "cell_type": "markdown",
   "metadata": {},
   "source": [
    "This model setup loads in all `LightGBM` (`.lgb`) models present in a given directory and makes (averaged out) predictions."
   ]
  },
  {
   "cell_type": "code",
   "execution_count": 38,
   "metadata": {},
   "outputs": [
    {
     "data": {
      "text/plain": "<IPython.core.display.Javascript object>",
      "application/javascript": "\n            setTimeout(function() {\n                var nbb_cell_id = 38;\n                var nbb_unformatted_code = \"#export\\n@typechecked\\nclass LGBMModel(DirectoryModel):\\n    \\\"\\\"\\\" Load and predict with all .lgb models (LightGBM) in directory. \\\"\\\"\\\"\\n    def __init__(self, model_directory: str, model_name: str = None, *args, **kwargs):\\n        file_suffix = 'lgb'\\n        super().__init__(model_directory=model_directory,\\n                         file_suffix=file_suffix,\\n                         model_name=model_name,\\n                         *args, **kwargs\\n                         )\\n\\n    def load_models(self) -> list:\\n        return [lgb.Booster(model_file=str(path)) for path in self.model_paths]\";\n                var nbb_formatted_code = \"# export\\n@typechecked\\nclass LGBMModel(DirectoryModel):\\n    \\\"\\\"\\\"Load and predict with all .lgb models (LightGBM) in directory.\\\"\\\"\\\"\\n\\n    def __init__(self, model_directory: str, model_name: str = None, *args, **kwargs):\\n        file_suffix = \\\"lgb\\\"\\n        super().__init__(\\n            model_directory=model_directory,\\n            file_suffix=file_suffix,\\n            model_name=model_name,\\n            *args,\\n            **kwargs\\n        )\\n\\n    def load_models(self) -> list:\\n        return [lgb.Booster(model_file=str(path)) for path in self.model_paths]\";\n                var nbb_cells = Jupyter.notebook.get_cells();\n                for (var i = 0; i < nbb_cells.length; ++i) {\n                    if (nbb_cells[i].input_prompt_number == nbb_cell_id) {\n                        if (nbb_cells[i].get_text() == nbb_unformatted_code) {\n                             nbb_cells[i].set_text(nbb_formatted_code);\n                        }\n                        break;\n                    }\n                }\n            }, 500);\n            "
     },
     "metadata": {},
     "output_type": "display_data"
    }
   ],
   "source": [
    "#export\n",
    "@typechecked\n",
    "class LGBMModel(DirectoryModel):\n",
    "    \"\"\" Load and predict with all .lgb models (LightGBM) in directory. \"\"\"\n",
    "    def __init__(self, model_directory: str, model_name: str = None, *args, **kwargs):\n",
    "        file_suffix = 'lgb'\n",
    "        super().__init__(model_directory=model_directory,\n",
    "                         file_suffix=file_suffix,\n",
    "                         model_name=model_name,\n",
    "                         *args, **kwargs\n",
    "                         )\n",
    "\n",
    "    def load_models(self) -> list:\n",
    "        return [lgb.Booster(model_file=str(path)) for path in self.model_paths]"
   ]
  },
  {
   "cell_type": "code",
   "execution_count": 39,
   "metadata": {},
   "outputs": [
    {
     "data": {
      "text/plain": "LGBMModel: 'LGB' prediction:   0%|          | 0/1 [00:00<?, ?it/s]",
      "application/vnd.jupyter.widget-view+json": {
       "version_major": 2,
       "version_minor": 0,
       "model_id": "72b31d2649814f61baede641aa9ad438"
      }
     },
     "metadata": {},
     "output_type": "display_data"
    },
    {
     "data": {
      "text/plain": "✅ Finished step \u001B[1mDirectoryModel\u001B[0m. Output \u001B[33mshape\u001B[0m=\u001B[1m(\u001B[0m\u001B[1;36m10\u001B[0m, \u001B[1;36m1074\u001B[0m\u001B[1m)\u001B[0m. Time taken for step: \n\u001B[1;34m0:00:00\u001B[0m\u001B[34m.\u001B[0m\u001B[1;34m207679\u001B[0m. ✅\n",
      "text/html": "<pre style=\"white-space:pre;overflow-x:auto;line-height:normal;font-family:Menlo,'DejaVu Sans Mono',consolas,'Courier New',monospace\">✅ Finished step <span style=\"font-weight: bold\">DirectoryModel</span>. Output <span style=\"color: #808000; text-decoration-color: #808000\">shape</span>=<span style=\"font-weight: bold\">(</span><span style=\"color: #008080; text-decoration-color: #008080; font-weight: bold\">10</span>, <span style=\"color: #008080; text-decoration-color: #008080; font-weight: bold\">1074</span><span style=\"font-weight: bold\">)</span>. Time taken for step: \n<span style=\"color: #000080; text-decoration-color: #000080; font-weight: bold\">0:00:00</span><span style=\"color: #000080; text-decoration-color: #000080\">.</span><span style=\"color: #000080; text-decoration-color: #000080; font-weight: bold\">207679</span>. ✅\n</pre>\n"
     },
     "metadata": {},
     "output_type": "display_data"
    },
    {
     "data": {
      "text/plain": "                  prediction_LGB\nid                              \nn559bd06a8861222        0.506948\nn9d39dea58c9e3cf        0.492578\nnb64f06d3a9fc9f1        0.490879",
      "text/html": "<div>\n<style scoped>\n    .dataframe tbody tr th:only-of-type {\n        vertical-align: middle;\n    }\n\n    .dataframe tbody tr th {\n        vertical-align: top;\n    }\n\n    .dataframe thead th {\n        text-align: right;\n    }\n</style>\n<table border=\"1\" class=\"dataframe\">\n  <thead>\n    <tr style=\"text-align: right;\">\n      <th></th>\n      <th>prediction_LGB</th>\n    </tr>\n    <tr>\n      <th>id</th>\n      <th></th>\n    </tr>\n  </thead>\n  <tbody>\n    <tr>\n      <th>n559bd06a8861222</th>\n      <td>0.506948</td>\n    </tr>\n    <tr>\n      <th>n9d39dea58c9e3cf</th>\n      <td>0.492578</td>\n    </tr>\n    <tr>\n      <th>nb64f06d3a9fc9f1</th>\n      <td>0.490879</td>\n    </tr>\n  </tbody>\n</table>\n</div>"
     },
     "execution_count": 39,
     "metadata": {},
     "output_type": "execute_result"
    },
    {
     "data": {
      "text/plain": "<IPython.core.display.Javascript object>",
      "application/javascript": "\n            setTimeout(function() {\n                var nbb_cell_id = 39;\n                var nbb_unformatted_code = \"dataset = create_numerframe(\\\"test_assets/mini_numerai_version_2_data.parquet\\\")\\nmodel = LGBMModel(\\\"test_assets\\\", model_name=\\\"LGB\\\")\\npredictions = model.predict(dataset).get_prediction_data\\nassert predictions['prediction_LGB'].between(0, 1).all()\\npredictions.head(3)\";\n                var nbb_formatted_code = \"dataset = create_numerframe(\\\"test_assets/mini_numerai_version_2_data.parquet\\\")\\nmodel = LGBMModel(\\\"test_assets\\\", model_name=\\\"LGB\\\")\\npredictions = model.predict(dataset).get_prediction_data\\nassert predictions[\\\"prediction_LGB\\\"].between(0, 1).all()\\npredictions.head(3)\";\n                var nbb_cells = Jupyter.notebook.get_cells();\n                for (var i = 0; i < nbb_cells.length; ++i) {\n                    if (nbb_cells[i].input_prompt_number == nbb_cell_id) {\n                        if (nbb_cells[i].get_text() == nbb_unformatted_code) {\n                             nbb_cells[i].set_text(nbb_formatted_code);\n                        }\n                        break;\n                    }\n                }\n            }, 500);\n            "
     },
     "metadata": {},
     "output_type": "display_data"
    }
   ],
   "source": [
    "dataset = create_numerframe(\"test_assets/mini_numerai_version_2_data.parquet\")\n",
    "model = LGBMModel(\"test_assets\", model_name=\"LGB\")\n",
    "predictions = model.predict(dataset).get_prediction_data\n",
    "assert predictions['prediction_LGB'].between(0, 1).all()\n",
    "predictions.head(3)"
   ]
  },
  {
   "cell_type": "markdown",
   "metadata": {},
   "source": [
    "## 2. Baseline models"
   ]
  },
  {
   "cell_type": "markdown",
   "metadata": {},
   "source": [
    "Setting a baseline is always an important step for data science problems. This section introduces models that should only be used a baselines."
   ]
  },
  {
   "cell_type": "markdown",
   "metadata": {},
   "source": [
    "### 2.1. ConstantModel"
   ]
  },
  {
   "cell_type": "markdown",
   "metadata": {},
   "source": [
    "This model simply outputs a constant of your choice. Convenient for setting classification baselines."
   ]
  },
  {
   "cell_type": "code",
   "execution_count": 40,
   "metadata": {},
   "outputs": [
    {
     "data": {
      "text/plain": "<IPython.core.display.Javascript object>",
      "application/javascript": "\n            setTimeout(function() {\n                var nbb_cell_id = 40;\n                var nbb_unformatted_code = \"#export\\nclass ConstantModel(BaseModel):\\n    \\\"\\\"\\\"\\n    WARNING: Only use this Model for testing purposes.\\n    Create constant prediction.\\n    :param constant: Value for constant prediction.\\n    :param model_name: Name that will be used to create column names and for display purposes.\\n    \\\"\\\"\\\"\\n    def __init__(self, constant: float = 0.5, model_name: str = None):\\n        self.constant = constant\\n        model_name = model_name if model_name else f\\\"constant_{self.constant}\\\"\\n        super().__init__(model_directory=\\\"\\\",\\n                         model_name=model_name\\n                         )\\n        self.clf = DummyRegressor(strategy='constant', constant=constant).fit([0.], [0.])\\n\\n    def predict(self, dataf: NumerFrame) -> NumerFrame:\\n        dataf.loc[:, self.prediction_col_name] = self.clf.predict(dataf.get_feature_data)\\n        return NumerFrame(dataf)\";\n                var nbb_formatted_code = \"# export\\nclass ConstantModel(BaseModel):\\n    \\\"\\\"\\\"\\n    WARNING: Only use this Model for testing purposes.\\n    Create constant prediction.\\n    :param constant: Value for constant prediction.\\n    :param model_name: Name that will be used to create column names and for display purposes.\\n    \\\"\\\"\\\"\\n\\n    def __init__(self, constant: float = 0.5, model_name: str = None):\\n        self.constant = constant\\n        model_name = model_name if model_name else f\\\"constant_{self.constant}\\\"\\n        super().__init__(model_directory=\\\"\\\", model_name=model_name)\\n        self.clf = DummyRegressor(strategy=\\\"constant\\\", constant=constant).fit(\\n            [0.0], [0.0]\\n        )\\n\\n    def predict(self, dataf: NumerFrame) -> NumerFrame:\\n        dataf.loc[:, self.prediction_col_name] = self.clf.predict(\\n            dataf.get_feature_data\\n        )\\n        return NumerFrame(dataf)\";\n                var nbb_cells = Jupyter.notebook.get_cells();\n                for (var i = 0; i < nbb_cells.length; ++i) {\n                    if (nbb_cells[i].input_prompt_number == nbb_cell_id) {\n                        if (nbb_cells[i].get_text() == nbb_unformatted_code) {\n                             nbb_cells[i].set_text(nbb_formatted_code);\n                        }\n                        break;\n                    }\n                }\n            }, 500);\n            "
     },
     "metadata": {},
     "output_type": "display_data"
    }
   ],
   "source": [
    "#export\n",
    "class ConstantModel(BaseModel):\n",
    "    \"\"\"\n",
    "    WARNING: Only use this Model for testing purposes.\n",
    "    Create constant prediction.\n",
    "    :param constant: Value for constant prediction.\n",
    "    :param model_name: Name that will be used to create column names and for display purposes.\n",
    "    \"\"\"\n",
    "    def __init__(self, constant: float = 0.5, model_name: str = None):\n",
    "        self.constant = constant\n",
    "        model_name = model_name if model_name else f\"constant_{self.constant}\"\n",
    "        super().__init__(model_directory=\"\",\n",
    "                         model_name=model_name\n",
    "                         )\n",
    "        self.clf = DummyRegressor(strategy='constant', constant=constant).fit([0.], [0.])\n",
    "\n",
    "    def predict(self, dataf: NumerFrame) -> NumerFrame:\n",
    "        dataf.loc[:, self.prediction_col_name] = self.clf.predict(dataf.get_feature_data)\n",
    "        return NumerFrame(dataf)"
   ]
  },
  {
   "cell_type": "code",
   "execution_count": 41,
   "metadata": {},
   "outputs": [
    {
     "data": {
      "text/plain": "   prediction_constant_0.85\n0                      0.85\n1                      0.85\n2                      0.85",
      "text/html": "<div>\n<style scoped>\n    .dataframe tbody tr th:only-of-type {\n        vertical-align: middle;\n    }\n\n    .dataframe tbody tr th {\n        vertical-align: top;\n    }\n\n    .dataframe thead th {\n        text-align: right;\n    }\n</style>\n<table border=\"1\" class=\"dataframe\">\n  <thead>\n    <tr style=\"text-align: right;\">\n      <th></th>\n      <th>prediction_constant_0.85</th>\n    </tr>\n  </thead>\n  <tbody>\n    <tr>\n      <th>0</th>\n      <td>0.85</td>\n    </tr>\n    <tr>\n      <th>1</th>\n      <td>0.85</td>\n    </tr>\n    <tr>\n      <th>2</th>\n      <td>0.85</td>\n    </tr>\n  </tbody>\n</table>\n</div>"
     },
     "execution_count": 41,
     "metadata": {},
     "output_type": "execute_result"
    },
    {
     "data": {
      "text/plain": "<IPython.core.display.Javascript object>",
      "application/javascript": "\n            setTimeout(function() {\n                var nbb_cell_id = 41;\n                var nbb_unformatted_code = \"constant = 0.85\\ndataset = create_numerframe(\\\"test_assets/mini_numerai_version_1_data.csv\\\")\\nconstant_model = ConstantModel(constant=constant)\\npredictions = constant_model.predict(dataset).get_prediction_data\\nassert (predictions.to_numpy() == constant).all()\\npredictions.head(3)\";\n                var nbb_formatted_code = \"constant = 0.85\\ndataset = create_numerframe(\\\"test_assets/mini_numerai_version_1_data.csv\\\")\\nconstant_model = ConstantModel(constant=constant)\\npredictions = constant_model.predict(dataset).get_prediction_data\\nassert (predictions.to_numpy() == constant).all()\\npredictions.head(3)\";\n                var nbb_cells = Jupyter.notebook.get_cells();\n                for (var i = 0; i < nbb_cells.length; ++i) {\n                    if (nbb_cells[i].input_prompt_number == nbb_cell_id) {\n                        if (nbb_cells[i].get_text() == nbb_unformatted_code) {\n                             nbb_cells[i].set_text(nbb_formatted_code);\n                        }\n                        break;\n                    }\n                }\n            }, 500);\n            "
     },
     "metadata": {},
     "output_type": "display_data"
    }
   ],
   "source": [
    "constant = 0.85\n",
    "dataset = create_numerframe(\"test_assets/mini_numerai_version_1_data.csv\")\n",
    "constant_model = ConstantModel(constant=constant)\n",
    "predictions = constant_model.predict(dataset).get_prediction_data\n",
    "assert (predictions.to_numpy() == constant).all()\n",
    "predictions.head(3)"
   ]
  },
  {
   "cell_type": "markdown",
   "metadata": {},
   "source": [
    "### 2.2. RandomModel"
   ]
  },
  {
   "cell_type": "markdown",
   "metadata": {},
   "source": [
    "This model returns uniformly distributed predictions (range $[0...1)$). Good baseline for regression models."
   ]
  },
  {
   "cell_type": "code",
   "execution_count": 42,
   "metadata": {},
   "outputs": [
    {
     "data": {
      "text/plain": "<IPython.core.display.Javascript object>",
      "application/javascript": "\n            setTimeout(function() {\n                var nbb_cell_id = 42;\n                var nbb_unformatted_code = \"#export\\nclass RandomModel(BaseModel):\\n    \\\"\\\"\\\"\\n    WARNING: Only use this Model for testing purposes.\\n    Create uniformly distributed predictions.\\n    :param model_name: Name that will be used to create column names and for display purposes.\\n    \\\"\\\"\\\"\\n    def __init__(self, model_name: str = None):\\n        model_name = model_name if model_name else \\\"random\\\"\\n        super().__init__(model_directory=\\\"\\\",\\n                         model_name=model_name\\n                         )\\n\\n    def predict(self, dataf: Union[pd.DataFrame, NumerFrame]) -> NumerFrame:\\n        dataf.loc[:, self.prediction_col_name] = np.random.uniform(size=len(dataf))\\n        return NumerFrame(dataf)\";\n                var nbb_formatted_code = \"# export\\nclass RandomModel(BaseModel):\\n    \\\"\\\"\\\"\\n    WARNING: Only use this Model for testing purposes.\\n    Create uniformly distributed predictions.\\n    :param model_name: Name that will be used to create column names and for display purposes.\\n    \\\"\\\"\\\"\\n\\n    def __init__(self, model_name: str = None):\\n        model_name = model_name if model_name else \\\"random\\\"\\n        super().__init__(model_directory=\\\"\\\", model_name=model_name)\\n\\n    def predict(self, dataf: Union[pd.DataFrame, NumerFrame]) -> NumerFrame:\\n        dataf.loc[:, self.prediction_col_name] = np.random.uniform(size=len(dataf))\\n        return NumerFrame(dataf)\";\n                var nbb_cells = Jupyter.notebook.get_cells();\n                for (var i = 0; i < nbb_cells.length; ++i) {\n                    if (nbb_cells[i].input_prompt_number == nbb_cell_id) {\n                        if (nbb_cells[i].get_text() == nbb_unformatted_code) {\n                             nbb_cells[i].set_text(nbb_formatted_code);\n                        }\n                        break;\n                    }\n                }\n            }, 500);\n            "
     },
     "metadata": {},
     "output_type": "display_data"
    }
   ],
   "source": [
    "#export\n",
    "class RandomModel(BaseModel):\n",
    "    \"\"\"\n",
    "    WARNING: Only use this Model for testing purposes.\n",
    "    Create uniformly distributed predictions.\n",
    "    :param model_name: Name that will be used to create column names and for display purposes.\n",
    "    \"\"\"\n",
    "    def __init__(self, model_name: str = None):\n",
    "        model_name = model_name if model_name else \"random\"\n",
    "        super().__init__(model_directory=\"\",\n",
    "                         model_name=model_name\n",
    "                         )\n",
    "\n",
    "    def predict(self, dataf: Union[pd.DataFrame, NumerFrame]) -> NumerFrame:\n",
    "        dataf.loc[:, self.prediction_col_name] = np.random.uniform(size=len(dataf))\n",
    "        return NumerFrame(dataf)"
   ]
  },
  {
   "cell_type": "code",
   "execution_count": 43,
   "metadata": {},
   "outputs": [
    {
     "data": {
      "text/plain": "   prediction_random\n0           0.570822\n1           0.086813\n2           0.452903",
      "text/html": "<div>\n<style scoped>\n    .dataframe tbody tr th:only-of-type {\n        vertical-align: middle;\n    }\n\n    .dataframe tbody tr th {\n        vertical-align: top;\n    }\n\n    .dataframe thead th {\n        text-align: right;\n    }\n</style>\n<table border=\"1\" class=\"dataframe\">\n  <thead>\n    <tr style=\"text-align: right;\">\n      <th></th>\n      <th>prediction_random</th>\n    </tr>\n  </thead>\n  <tbody>\n    <tr>\n      <th>0</th>\n      <td>0.570822</td>\n    </tr>\n    <tr>\n      <th>1</th>\n      <td>0.086813</td>\n    </tr>\n    <tr>\n      <th>2</th>\n      <td>0.452903</td>\n    </tr>\n  </tbody>\n</table>\n</div>"
     },
     "execution_count": 43,
     "metadata": {},
     "output_type": "execute_result"
    },
    {
     "data": {
      "text/plain": "<IPython.core.display.Javascript object>",
      "application/javascript": "\n            setTimeout(function() {\n                var nbb_cell_id = 43;\n                var nbb_unformatted_code = \"dataset = create_numerframe(\\\"test_assets/mini_numerai_version_1_data.csv\\\", metadata={})\\nrandom_model = RandomModel()\\npredictions = random_model.predict(dataset).get_prediction_data\\nassert predictions['prediction_random'].between(0, 1).all()\\npredictions.head(3)\";\n                var nbb_formatted_code = \"dataset = create_numerframe(\\\"test_assets/mini_numerai_version_1_data.csv\\\", metadata={})\\nrandom_model = RandomModel()\\npredictions = random_model.predict(dataset).get_prediction_data\\nassert predictions[\\\"prediction_random\\\"].between(0, 1).all()\\npredictions.head(3)\";\n                var nbb_cells = Jupyter.notebook.get_cells();\n                for (var i = 0; i < nbb_cells.length; ++i) {\n                    if (nbb_cells[i].input_prompt_number == nbb_cell_id) {\n                        if (nbb_cells[i].get_text() == nbb_unformatted_code) {\n                             nbb_cells[i].set_text(nbb_formatted_code);\n                        }\n                        break;\n                    }\n                }\n            }, 500);\n            "
     },
     "metadata": {},
     "output_type": "display_data"
    }
   ],
   "source": [
    "dataset = create_numerframe(\"test_assets/mini_numerai_version_1_data.csv\", metadata={})\n",
    "random_model = RandomModel()\n",
    "predictions = random_model.predict(dataset).get_prediction_data\n",
    "assert predictions['prediction_random'].between(0, 1).all()\n",
    "predictions.head(3)"
   ]
  },
  {
   "cell_type": "markdown",
   "metadata": {},
   "source": [
    "## 3. Custom Model"
   ]
  },
  {
   "cell_type": "markdown",
   "source": [
    "There are two different way to different ways to implement new models. Both have their own conveniences and use cases.\n",
    "1. Inherit from `BaseModel` (custom prediction logic).\n",
    "2. Inherit from `DirectoryModel` (make predictions for all models in directory with given file suffix.\n",
    "Prediction logic will already be implemented. Only write model loading logic).\n",
    "\n",
    "**Option 1** works well when you have no or only a single file that you use for generating predictions.\n",
    "Examples:\n",
    "1. Loading a model is not relevant or your model is already loaded in memory.\n",
    "2. You would like predictions for one model loaded from disk.\n",
    "3. The object you are loading already aggregates multiple models and transformation steps (such as [scikit-learn FeatureUnion](https://scikit-learn.org/stable/modules/generated/sklearn.pipeline.FeatureUnion.html)).\n",
    "\n",
    "**Option 2** is convenient when you have a lot of similar models in a directory and want to generate predictions for all of them.\n",
    "Examples:\n",
    "1. You have multiple similar models saved through a cross validation process.\n",
    "2. You have a bagging strategy where you have a lot of models trained on slightly different data or with different initializations.\n"
   ],
   "metadata": {
    "collapsed": false
   }
  },
  {
   "cell_type": "markdown",
   "metadata": {},
   "source": [
    "### 3.1. From BaseModel"
   ]
  },
  {
   "cell_type": "markdown",
   "metadata": {},
   "source": [
    "Arbitrary models can be instantiated and use for prediction generation by inheriting from `BaseModel`. Arbitrary logic (model loading, prediction, etc.) can be defined in `.predict` as long as the method takes a `NumerFrame` as input and outputs a `NumerFrame`. The Model should be able to typecheck by adding the `@typeguard.typechecked` decorator at the top of the class.\n",
    "\n",
    "For clear console output we recommend adding the `@display_processor_info` decorator to the `.predict` method."
   ]
  },
  {
   "cell_type": "code",
   "execution_count": 44,
   "metadata": {},
   "outputs": [
    {
     "data": {
      "text/plain": "<IPython.core.display.Javascript object>",
      "application/javascript": "\n            setTimeout(function() {\n                var nbb_cell_id = 44;\n                var nbb_unformatted_code = \"#export\\n@typechecked\\nclass AwesomeModel(BaseModel):\\n    \\\"\\\"\\\"\\n    - TEMPLATE -\\n    Predict with arbitrary prediction logic and model formats.\\n    \\\"\\\"\\\"\\n    def __init__(self, model_directory: str, model_name: str = None, *args, **kwargs):\\n        super().__init__(model_directory=model_directory,\\n                         model_name=model_name,\\n                         *args, **kwargs\\n                         )\\n\\n    @display_processor_info\\n    def predict(self, dataf: NumerFrame) -> NumerFrame:\\n        \\\"\\\"\\\" Return NumerFrame with column(s) added for prediction(s). \\\"\\\"\\\"\\n        # Get all features\\n        feature_df = dataf.get_feature_data\\n        # Predict and add to new column\\n        ...\\n        # Parse all contents of NumerFrame to the next pipeline step\\n        return NumerFrame(dataf)\";\n                var nbb_formatted_code = \"# export\\n@typechecked\\nclass AwesomeModel(BaseModel):\\n    \\\"\\\"\\\"\\n    - TEMPLATE -\\n    Predict with arbitrary prediction logic and model formats.\\n    \\\"\\\"\\\"\\n\\n    def __init__(self, model_directory: str, model_name: str = None, *args, **kwargs):\\n        super().__init__(\\n            model_directory=model_directory, model_name=model_name, *args, **kwargs\\n        )\\n\\n    @display_processor_info\\n    def predict(self, dataf: NumerFrame) -> NumerFrame:\\n        \\\"\\\"\\\"Return NumerFrame with column(s) added for prediction(s).\\\"\\\"\\\"\\n        # Get all features\\n        feature_df = dataf.get_feature_data\\n        # Predict and add to new column\\n        ...\\n        # Parse all contents of NumerFrame to the next pipeline step\\n        return NumerFrame(dataf)\";\n                var nbb_cells = Jupyter.notebook.get_cells();\n                for (var i = 0; i < nbb_cells.length; ++i) {\n                    if (nbb_cells[i].input_prompt_number == nbb_cell_id) {\n                        if (nbb_cells[i].get_text() == nbb_unformatted_code) {\n                             nbb_cells[i].set_text(nbb_formatted_code);\n                        }\n                        break;\n                    }\n                }\n            }, 500);\n            "
     },
     "metadata": {},
     "output_type": "display_data"
    }
   ],
   "source": [
    "#export\n",
    "@typechecked\n",
    "class AwesomeModel(BaseModel):\n",
    "    \"\"\"\n",
    "    - TEMPLATE -\n",
    "    Predict with arbitrary prediction logic and model formats.\n",
    "    \"\"\"\n",
    "    def __init__(self, model_directory: str, model_name: str = None, *args, **kwargs):\n",
    "        super().__init__(model_directory=model_directory,\n",
    "                         model_name=model_name,\n",
    "                         *args, **kwargs\n",
    "                         )\n",
    "\n",
    "    @display_processor_info\n",
    "    def predict(self, dataf: NumerFrame) -> NumerFrame:\n",
    "        \"\"\" Return NumerFrame with column(s) added for prediction(s). \"\"\"\n",
    "        # Get all features\n",
    "        feature_df = dataf.get_feature_data\n",
    "        # Predict and add to new column\n",
    "        ...\n",
    "        # Parse all contents of NumerFrame to the next pipeline step\n",
    "        return NumerFrame(dataf)"
   ]
  },
  {
   "cell_type": "markdown",
   "metadata": {},
   "source": [
    "### 3.2. From DirectoryModel"
   ]
  },
  {
   "cell_type": "markdown",
   "metadata": {},
   "source": [
    "You may want to implement a setup similar to `JoblibModel` and `CatBoostModel`. Namely, load in all models of a certain type from a directory, predict for all and take the average. If this is your use case, inherit from `DirectoryModel` and be sure to implement the `load_models` method.\n",
    "\n",
    "For a `DirectoryModel` you should specify a `file_suffix` (like `.joblib` or `.cbm`) which will be used to store all available models in `self.model_paths`.\n",
    "\n",
    "The `.predict` method will in this case already be implemented, but can be overridden if the prediction logic is more complex. For example, if you want to apply weighted averaging or a geometric mean for models within a given directory.\n",
    "\n",
    "\n",
    "Like with inheriting from `BaseModel`, This Model should also be able to typecheck by adding the `@typeguard.typechecked` decorator at the top of the class."
   ]
  },
  {
   "cell_type": "code",
   "execution_count": 45,
   "metadata": {},
   "outputs": [
    {
     "data": {
      "text/plain": "<IPython.core.display.Javascript object>",
      "application/javascript": "\n            setTimeout(function() {\n                var nbb_cell_id = 45;\n                var nbb_unformatted_code = \"#export\\n@typechecked\\nclass AwesomeDirectoryModel(DirectoryModel):\\n    \\\"\\\"\\\"\\n    - TEMPLATE -\\n    Load in all models of arbitrary file format and predict for all. \\n    \\\"\\\"\\\"\\n    def __init__(self, model_directory: str, model_name: str = None, *args, **kwargs):\\n        file_suffix = 'anything'\\n        super().__init__(model_directory=model_directory,\\n                         file_suffix=file_suffix,\\n                         model_name=model_name,\\n                         *args, **kwargs\\n                         )\\n\\n    def load_models(self) -> list:\\n        \\\"\\\"\\\" Instantiate all models and return as a list. (abstract method) \\\"\\\"\\\"\\n        ...\";\n                var nbb_formatted_code = \"# export\\n@typechecked\\nclass AwesomeDirectoryModel(DirectoryModel):\\n    \\\"\\\"\\\"\\n    - TEMPLATE -\\n    Load in all models of arbitrary file format and predict for all.\\n    \\\"\\\"\\\"\\n\\n    def __init__(self, model_directory: str, model_name: str = None, *args, **kwargs):\\n        file_suffix = \\\"anything\\\"\\n        super().__init__(\\n            model_directory=model_directory,\\n            file_suffix=file_suffix,\\n            model_name=model_name,\\n            *args,\\n            **kwargs\\n        )\\n\\n    def load_models(self) -> list:\\n        \\\"\\\"\\\"Instantiate all models and return as a list. (abstract method)\\\"\\\"\\\"\\n        ...\";\n                var nbb_cells = Jupyter.notebook.get_cells();\n                for (var i = 0; i < nbb_cells.length; ++i) {\n                    if (nbb_cells[i].input_prompt_number == nbb_cell_id) {\n                        if (nbb_cells[i].get_text() == nbb_unformatted_code) {\n                             nbb_cells[i].set_text(nbb_formatted_code);\n                        }\n                        break;\n                    }\n                }\n            }, 500);\n            "
     },
     "metadata": {},
     "output_type": "display_data"
    }
   ],
   "source": [
    "#export\n",
    "@typechecked\n",
    "class AwesomeDirectoryModel(DirectoryModel):\n",
    "    \"\"\"\n",
    "    - TEMPLATE -\n",
    "    Load in all models of arbitrary file format and predict for all.\n",
    "    \"\"\"\n",
    "    def __init__(self, model_directory: str, model_name: str = None, *args, **kwargs):\n",
    "        file_suffix = '.anything'\n",
    "        super().__init__(model_directory=model_directory,\n",
    "                         file_suffix=file_suffix,\n",
    "                         model_name=model_name,\n",
    "                         *args, **kwargs\n",
    "                         )\n",
    "\n",
    "    def load_models(self) -> list:\n",
    "        \"\"\" Instantiate all models and return as a list. (abstract method) \"\"\"\n",
    "        ..."
   ]
  },
  {
   "cell_type": "markdown",
   "metadata": {},
   "source": [
    "----------------------------------------------"
   ]
  },
  {
   "cell_type": "code",
   "execution_count": 46,
   "metadata": {},
   "outputs": [
    {
     "name": "stdout",
     "output_type": "stream",
     "text": [
      "Converted 01_download.ipynb.\n",
      "Converted 02_numerframe.ipynb.\n",
      "Converted 03_preprocessing.ipynb.\n",
      "Converted 04_model.ipynb.\n",
      "Converted 05_postprocessing.ipynb.\n",
      "Converted 06_modelpipeline.ipynb.\n",
      "Converted 07_evaluation.ipynb.\n",
      "Converted 08_key.ipynb.\n",
      "Converted 09_submission.ipynb.\n",
      "Converted 10_staking.ipynb.\n",
      "Converted index.ipynb.\n"
     ]
    },
    {
     "data": {
      "text/plain": "<IPython.core.display.Javascript object>",
      "application/javascript": "\n            setTimeout(function() {\n                var nbb_cell_id = 46;\n                var nbb_unformatted_code = \"# hide\\n# Run this cell to sync all changes with library\\nfrom nbdev.export import notebook2script\\n\\nnotebook2script()\";\n                var nbb_formatted_code = \"# hide\\n# Run this cell to sync all changes with library\\nfrom nbdev.export import notebook2script\\n\\nnotebook2script()\";\n                var nbb_cells = Jupyter.notebook.get_cells();\n                for (var i = 0; i < nbb_cells.length; ++i) {\n                    if (nbb_cells[i].input_prompt_number == nbb_cell_id) {\n                        if (nbb_cells[i].get_text() == nbb_unformatted_code) {\n                             nbb_cells[i].set_text(nbb_formatted_code);\n                        }\n                        break;\n                    }\n                }\n            }, 500);\n            "
     },
     "metadata": {},
     "output_type": "display_data"
    }
   ],
   "source": [
    "# hide\n",
    "# Run this cell to sync all changes with library\n",
    "from nbdev.export import notebook2script\n",
    "\n",
    "notebook2script()"
   ]
  }
 ],
 "metadata": {
  "kernelspec": {
   "display_name": "Python 3",
   "language": "python",
   "name": "python3"
  }
 },
 "nbformat": 4,
 "nbformat_minor": 0
}