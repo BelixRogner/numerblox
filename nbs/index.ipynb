{
 "cells": [
  {
   "cell_type": "code",
   "execution_count": 1,
   "metadata": {},
   "outputs": [
    {
     "data": {
      "text/plain": "<IPython.core.display.Javascript object>",
      "application/javascript": "\n            setTimeout(function() {\n                var nbb_cell_id = 1;\n                var nbb_unformatted_code = \"# hide\\n%load_ext autoreload\\n%autoreload 2\\n%load_ext nb_black\\n%load_ext lab_black\";\n                var nbb_formatted_code = \"# hide\\n%load_ext autoreload\\n%autoreload 2\\n%load_ext nb_black\\n%load_ext lab_black\";\n                var nbb_cells = Jupyter.notebook.get_cells();\n                for (var i = 0; i < nbb_cells.length; ++i) {\n                    if (nbb_cells[i].input_prompt_number == nbb_cell_id) {\n                        if (nbb_cells[i].get_text() == nbb_unformatted_code) {\n                             nbb_cells[i].set_text(nbb_formatted_code);\n                        }\n                        break;\n                    }\n                }\n            }, 500);\n            "
     },
     "metadata": {},
     "output_type": "display_data"
    }
   ],
   "source": [
    "# hide\n",
    "%load_ext autoreload\n",
    "%autoreload 2"
   ]
  },
  {
   "cell_type": "code",
   "execution_count": 2,
   "metadata": {},
   "outputs": [
    {
     "data": {
      "text/plain": "<IPython.core.display.Javascript object>",
      "application/javascript": "\n            setTimeout(function() {\n                var nbb_cell_id = 2;\n                var nbb_unformatted_code = \"# hide\\nfrom numerai_blocks.download import NumeraiClassicDownloader\\nfrom numerai_blocks.numerframe import create_numerframe\\nfrom numerai_blocks.postprocessing import FeatureNeutralizer\\nfrom numerai_blocks.model import SingleModel\\nfrom numerai_blocks.model_pipeline import ModelPipeline\\nfrom numerai_blocks.key import load_key_from_json\\nfrom numerai_blocks.submission import NumeraiClassicSubmittor\";\n                var nbb_formatted_code = \"# hide\\nfrom numerai_blocks.download import NumeraiClassicDownloader\\nfrom numerai_blocks.numerframe import create_numerframe\\nfrom numerai_blocks.postprocessing import FeatureNeutralizer\\nfrom numerai_blocks.model import SingleModel\\nfrom numerai_blocks.model_pipeline import ModelPipeline\\nfrom numerai_blocks.key import load_key_from_json\\nfrom numerai_blocks.submission import NumeraiClassicSubmittor\";\n                var nbb_cells = Jupyter.notebook.get_cells();\n                for (var i = 0; i < nbb_cells.length; ++i) {\n                    if (nbb_cells[i].input_prompt_number == nbb_cell_id) {\n                        if (nbb_cells[i].get_text() == nbb_unformatted_code) {\n                             nbb_cells[i].set_text(nbb_formatted_code);\n                        }\n                        break;\n                    }\n                }\n            }, 500);\n            "
     },
     "metadata": {},
     "output_type": "display_data"
    }
   ],
   "source": [
    "# hide\n",
    "from numerai_blocks.download import NumeraiClassicDownloader\n",
    "from numerai_blocks.numerframe import create_numerframe\n",
    "from numerai_blocks.postprocessing import FeatureNeutralizer\n",
    "from numerai_blocks.model import SingleModel\n",
    "from numerai_blocks.model_pipeline import ModelPipeline\n",
    "from numerai_blocks.key import load_key_from_json\n",
    "from numerai_blocks.submission import NumeraiClassicSubmittor"
   ]
  },
  {
   "cell_type": "markdown",
   "metadata": {},
   "source": [
    "# Numerai Blocks\n",
    "\n",
    "> Tools for solid Numerai pipelines"
   ]
  },
  {
   "cell_type": "markdown",
   "metadata": {},
   "source": []
  },
  {
   "cell_type": "markdown",
   "metadata": {},
   "source": [
    "## 1. Install"
   ]
  },
  {
   "cell_type": "markdown",
   "metadata": {},
   "source": [
    "`pip install numerai-blocks`"
   ]
  },
  {
   "cell_type": "markdown",
   "metadata": {},
   "source": [
    "## 2. How to use"
   ]
  },
  {
   "cell_type": "markdown",
   "source": [
    "### 2.1. Contents"
   ],
   "metadata": {
    "collapsed": false
   }
  },
  {
   "cell_type": "markdown",
   "metadata": {},
   "source": [
    "Example and educational notebooks can be found in the `edu_nbs` directory. Development notebooks are in the `nbs` directory.\n",
    "\n",
    "The library features the following tools to build your Numerai pipelines:"
   ]
  },
  {
   "cell_type": "markdown",
   "metadata": {},
   "source": [
    "1. Downloaders\n",
    "2. NumerFrame\n",
    "3. Preprocessing\n",
    "4. Model\n",
    "5. Postprocessing\n",
    "6. ModelPipeline (and ModelPipelineCollection)\n",
    "7. Evaluators\n",
    "8. Key (containing authentication info)\n",
    "9. Submittors\n",
    "10. Staking functionality"
   ]
  },
  {
   "cell_type": "markdown",
   "source": [
    "### 2.2. Examples"
   ],
   "metadata": {
    "collapsed": false
   }
  },
  {
   "cell_type": "markdown",
   "source": [
    "Below we will illustrate a few base use cases for inference pipelines. To learn more in-depth about the features of the framework check out notebooks in the `edu_nbs` directory."
   ],
   "metadata": {
    "collapsed": false
   }
  },
  {
   "cell_type": "markdown",
   "source": [
    "#### 2.2.1. Numerai Classic"
   ],
   "metadata": {
    "collapsed": false
   }
  },
  {
   "cell_type": "code",
   "execution_count": 3,
   "outputs": [
    {
     "data": {
      "text/plain": "No existing directory found at \u001B[32m'\u001B[0m\u001B[34mdata\u001B[0m\u001B[32m'\u001B[0m. Creating directory\u001B[33m...\u001B[0m\n",
      "text/html": "<pre style=\"white-space:pre;overflow-x:auto;line-height:normal;font-family:Menlo,'DejaVu Sans Mono',consolas,'Courier New',monospace\">No existing directory found at <span style=\"color: #008000; text-decoration-color: #008000\">'</span><span style=\"color: #000080; text-decoration-color: #000080\">data</span><span style=\"color: #008000; text-decoration-color: #008000\">'</span>. Creating directory<span style=\"color: #808000; text-decoration-color: #808000\">...</span>\n</pre>\n"
     },
     "metadata": {},
     "output_type": "display_data"
    },
    {
     "data": {
      "text/plain": "📁 \u001B[32mDownloading\u001B[0m \u001B[32m'numerai_tournament_data.parquet'\u001B[0m 📁\n",
      "text/html": "<pre style=\"white-space:pre;overflow-x:auto;line-height:normal;font-family:Menlo,'DejaVu Sans Mono',consolas,'Courier New',monospace\">📁 <span style=\"color: #008000; text-decoration-color: #008000\">Downloading</span> <span style=\"color: #008000; text-decoration-color: #008000\">'numerai_tournament_data.parquet'</span> 📁\n</pre>\n"
     },
     "metadata": {},
     "output_type": "display_data"
    },
    {
     "name": "stderr",
     "output_type": "stream",
     "text": [
      "2022-02-14 16:28:05,183 INFO numerapi.utils: starting download\n",
      "data/current_round/numerai_tournament_data.parquet: 582MB [02:11, 4.43MB/s]                             \n"
     ]
    },
    {
     "data": {
      "text/plain": "✅ Finished step \u001B[1mCopyPreProcessor\u001B[0m. Output \u001B[33mshape\u001B[0m=\u001B[1m(\u001B[0m\u001B[1;36m1412924\u001B[0m, \u001B[1;36m1073\u001B[0m\u001B[1m)\u001B[0m. Time taken for step: \n\u001B[1;34m0:00:03\u001B[0m\u001B[34m.\u001B[0m\u001B[1;34m472044\u001B[0m. ✅\n",
      "text/html": "<pre style=\"white-space:pre;overflow-x:auto;line-height:normal;font-family:Menlo,'DejaVu Sans Mono',consolas,'Courier New',monospace\">✅ Finished step <span style=\"font-weight: bold\">CopyPreProcessor</span>. Output <span style=\"color: #808000; text-decoration-color: #808000\">shape</span>=<span style=\"font-weight: bold\">(</span><span style=\"color: #008080; text-decoration-color: #008080; font-weight: bold\">1412924</span>, <span style=\"color: #008080; text-decoration-color: #008080; font-weight: bold\">1073</span><span style=\"font-weight: bold\">)</span>. Time taken for step: \n<span style=\"color: #000080; text-decoration-color: #000080; font-weight: bold\">0:00:03</span><span style=\"color: #000080; text-decoration-color: #000080\">.</span><span style=\"color: #000080; text-decoration-color: #000080; font-weight: bold\">472044</span>. ✅\n</pre>\n"
     },
     "metadata": {},
     "output_type": "display_data"
    },
    {
     "data": {
      "text/plain": "f4103c3494664d32956928d93a256863 Preprocessing:: 0it [00:00, ?it/s]",
      "application/vnd.jupyter.widget-view+json": {
       "version_major": 2,
       "version_minor": 0,
       "model_id": "56d42025161e4bc099ff2a88a51c9ca6"
      }
     },
     "metadata": {},
     "output_type": "display_data"
    },
    {
     "data": {
      "text/plain": "f4103c3494664d32956928d93a256863 Model prediction:   0%|          | 0/1 [00:00<?, ?it/s]",
      "application/vnd.jupyter.widget-view+json": {
       "version_major": 2,
       "version_minor": 0,
       "model_id": "ea1cae0293c145ada96a4195d7073e4a"
      }
     },
     "metadata": {},
     "output_type": "display_data"
    },
    {
     "data": {
      "text/plain": "🤖 Generating model predictions with \u001B[32m'\u001B[0m\u001B[1;32mSingleModel\u001B[0m\u001B[32m'\u001B[0m. 🤖\n",
      "text/html": "<pre style=\"white-space:pre;overflow-x:auto;line-height:normal;font-family:Menlo,'DejaVu Sans Mono',consolas,'Courier New',monospace\">🤖 Generating model predictions with <span style=\"color: #008000; text-decoration-color: #008000\">'</span><span style=\"color: #008000; text-decoration-color: #008000; font-weight: bold\">SingleModel</span><span style=\"color: #008000; text-decoration-color: #008000\">'</span>. 🤖\n</pre>\n"
     },
     "metadata": {},
     "output_type": "display_data"
    },
    {
     "name": "stderr",
     "output_type": "stream",
     "text": [
      "2022-02-14 16:30:47,215 INFO numexpr.utils: Note: NumExpr detected 16 cores but \"NUMEXPR_MAX_THREADS\" not set, so enforcing safe limit of 8.\n",
      "2022-02-14 16:30:47,217 INFO numexpr.utils: NumExpr defaulting to 8 threads.\n"
     ]
    },
    {
     "data": {
      "text/plain": "✅ Finished step \u001B[1mStandardizer\u001B[0m. Output \u001B[33mshape\u001B[0m=\u001B[1m(\u001B[0m\u001B[1;36m1412924\u001B[0m, \u001B[1;36m1074\u001B[0m\u001B[1m)\u001B[0m. Time taken for step: \n\u001B[1;34m0:00:00\u001B[0m\u001B[34m.\u001B[0m\u001B[1;34m833191\u001B[0m. ✅\n",
      "text/html": "<pre style=\"white-space:pre;overflow-x:auto;line-height:normal;font-family:Menlo,'DejaVu Sans Mono',consolas,'Courier New',monospace\">✅ Finished step <span style=\"font-weight: bold\">Standardizer</span>. Output <span style=\"color: #808000; text-decoration-color: #808000\">shape</span>=<span style=\"font-weight: bold\">(</span><span style=\"color: #008080; text-decoration-color: #008080; font-weight: bold\">1412924</span>, <span style=\"color: #008080; text-decoration-color: #008080; font-weight: bold\">1074</span><span style=\"font-weight: bold\">)</span>. Time taken for step: \n<span style=\"color: #000080; text-decoration-color: #000080; font-weight: bold\">0:00:00</span><span style=\"color: #000080; text-decoration-color: #000080\">.</span><span style=\"color: #000080; text-decoration-color: #000080; font-weight: bold\">833191</span>. ✅\n</pre>\n"
     },
     "metadata": {},
     "output_type": "display_data"
    },
    {
     "data": {
      "text/plain": "f4103c3494664d32956928d93a256863 Postprocessing:   0%|          | 0/1 [00:00<?, ?it/s]",
      "application/vnd.jupyter.widget-view+json": {
       "version_major": 2,
       "version_minor": 0,
       "model_id": "2d231a96104b44c8b058473da1ef713a"
      }
     },
     "metadata": {},
     "output_type": "display_data"
    },
    {
     "data": {
      "text/plain": "🚧 Applying postprocessing: \u001B[32m'\u001B[0m\u001B[1;32mFeatureNeutralizer\u001B[0m\u001B[32m'\u001B[0m 🚧\n",
      "text/html": "<pre style=\"white-space:pre;overflow-x:auto;line-height:normal;font-family:Menlo,'DejaVu Sans Mono',consolas,'Courier New',monospace\">🚧 Applying postprocessing: <span style=\"color: #008000; text-decoration-color: #008000\">'</span><span style=\"color: #008000; text-decoration-color: #008000; font-weight: bold\">FeatureNeutralizer</span><span style=\"color: #008000; text-decoration-color: #008000\">'</span> 🚧\n</pre>\n"
     },
     "metadata": {},
     "output_type": "display_data"
    },
    {
     "data": {
      "text/plain": "🤖 Neutralized \u001B[1;34m'prediction_test'\u001B[0m\u001B[1;34m with proportion \u001B[0m\u001B[1;34m'0.5'\u001B[0m\u001B[1;34m 🤖\u001B[0m\n",
      "text/html": "<pre style=\"white-space:pre;overflow-x:auto;line-height:normal;font-family:Menlo,'DejaVu Sans Mono',consolas,'Courier New',monospace\">🤖 Neutralized <span style=\"color: #000080; text-decoration-color: #000080; font-weight: bold\">'prediction_test'</span><span style=\"color: #000080; text-decoration-color: #000080; font-weight: bold\"> with proportion </span><span style=\"color: #000080; text-decoration-color: #000080; font-weight: bold\">'0.5'</span><span style=\"color: #000080; text-decoration-color: #000080; font-weight: bold\"> 🤖</span>\n</pre>\n"
     },
     "metadata": {},
     "output_type": "display_data"
    },
    {
     "data": {
      "text/plain": "New neutralized column = \u001B[1;32m'prediction_test_neutralized_0.5'\u001B[0m.\n",
      "text/html": "<pre style=\"white-space:pre;overflow-x:auto;line-height:normal;font-family:Menlo,'DejaVu Sans Mono',consolas,'Courier New',monospace\">New neutralized column = <span style=\"color: #008000; text-decoration-color: #008000; font-weight: bold\">'prediction_test_neutralized_0.5'</span>.\n</pre>\n"
     },
     "metadata": {},
     "output_type": "display_data"
    },
    {
     "data": {
      "text/plain": "✅ Finished step \u001B[1mFeatureNeutralizer\u001B[0m. Output \u001B[33mshape\u001B[0m=\u001B[1m(\u001B[0m\u001B[1;36m1412924\u001B[0m, \u001B[1;36m1075\u001B[0m\u001B[1m)\u001B[0m. Time taken for step: \n\u001B[1;34m0:02:27\u001B[0m\u001B[34m.\u001B[0m\u001B[1;34m719955\u001B[0m. ✅\n",
      "text/html": "<pre style=\"white-space:pre;overflow-x:auto;line-height:normal;font-family:Menlo,'DejaVu Sans Mono',consolas,'Courier New',monospace\">✅ Finished step <span style=\"font-weight: bold\">FeatureNeutralizer</span>. Output <span style=\"color: #808000; text-decoration-color: #808000\">shape</span>=<span style=\"font-weight: bold\">(</span><span style=\"color: #008080; text-decoration-color: #008080; font-weight: bold\">1412924</span>, <span style=\"color: #008080; text-decoration-color: #008080; font-weight: bold\">1075</span><span style=\"font-weight: bold\">)</span>. Time taken for step: \n<span style=\"color: #000080; text-decoration-color: #000080; font-weight: bold\">0:02:27</span><span style=\"color: #000080; text-decoration-color: #000080\">.</span><span style=\"color: #000080; text-decoration-color: #000080; font-weight: bold\">719955</span>. ✅\n</pre>\n"
     },
     "metadata": {},
     "output_type": "display_data"
    },
    {
     "data": {
      "text/plain": "🏁 \u001B[32mFinished pipeline:\u001B[0m\u001B[32m \u001B[0m\u001B[1;34m'f4103c3494664d32956928d93a256863'\u001B[0m\u001B[1;34m! 🏁\u001B[0m\n",
      "text/html": "<pre style=\"white-space:pre;overflow-x:auto;line-height:normal;font-family:Menlo,'DejaVu Sans Mono',consolas,'Courier New',monospace\">🏁 <span style=\"color: #008000; text-decoration-color: #008000\">Finished pipeline: </span><span style=\"color: #000080; text-decoration-color: #000080; font-weight: bold\">'f4103c3494664d32956928d93a256863'</span><span style=\"color: #000080; text-decoration-color: #000080; font-weight: bold\">! 🏁</span>\n</pre>\n"
     },
     "metadata": {},
     "output_type": "display_data"
    },
    {
     "data": {
      "text/plain": "🔑 Numerai Auth key initialized with pub_id = \u001B[32m'UFVCTElDX0lE'\u001B[0m 🔑\n",
      "text/html": "<pre style=\"white-space:pre;overflow-x:auto;line-height:normal;font-family:Menlo,'DejaVu Sans Mono',consolas,'Courier New',monospace\">🔑 Numerai Auth key initialized with pub_id = <span style=\"color: #008000; text-decoration-color: #008000\">'UFVCTElDX0lE'</span> 🔑\n</pre>\n"
     },
     "metadata": {},
     "output_type": "display_data"
    },
    {
     "data": {
      "text/plain": "No existing directory found at \u001B[32m'\u001B[0m\u001B[34msub_current_round\u001B[0m\u001B[32m'\u001B[0m. Creating directory\u001B[33m...\u001B[0m\n",
      "text/html": "<pre style=\"white-space:pre;overflow-x:auto;line-height:normal;font-family:Menlo,'DejaVu Sans Mono',consolas,'Courier New',monospace\">No existing directory found at <span style=\"color: #008000; text-decoration-color: #008000\">'</span><span style=\"color: #000080; text-decoration-color: #000080\">sub_current_round</span><span style=\"color: #008000; text-decoration-color: #008000\">'</span>. Creating directory<span style=\"color: #808000; text-decoration-color: #808000\">...</span>\n</pre>\n"
     },
     "metadata": {},
     "output_type": "display_data"
    },
    {
     "data": {
      "text/plain": "⚠ \u001B[31mDeleting directory for \u001B[0m\u001B[31m'NumeraiClassicDownloader\u001B[0m\u001B[32m'\u001B[0m ⚠\nPath: \u001B[32m'/Users/clepelaars/Desktop/crowdcent/repositories/numerai-blocks/nbs/data'\u001B[0m\n",
      "text/html": "<pre style=\"white-space:pre;overflow-x:auto;line-height:normal;font-family:Menlo,'DejaVu Sans Mono',consolas,'Courier New',monospace\">⚠ <span style=\"color: #800000; text-decoration-color: #800000\">Deleting directory for </span><span style=\"color: #800000; text-decoration-color: #800000\">'NumeraiClassicDownloader</span><span style=\"color: #008000; text-decoration-color: #008000\">'</span> ⚠\nPath: <span style=\"color: #008000; text-decoration-color: #008000\">'/Users/clepelaars/Desktop/crowdcent/repositories/numerai-blocks/nbs/data'</span>\n</pre>\n"
     },
     "metadata": {},
     "output_type": "display_data"
    },
    {
     "data": {
      "text/plain": "⚠ \u001B[31mDeleting directory for \u001B[0m\u001B[31m'NumeraiClassicSubmittor\u001B[0m\u001B[32m'\u001B[0m ⚠\nPath: \u001B[32m'/Users/clepelaars/Desktop/crowdcent/repositories/numerai-blocks/nbs/sub_current_round'\u001B[0m\n",
      "text/html": "<pre style=\"white-space:pre;overflow-x:auto;line-height:normal;font-family:Menlo,'DejaVu Sans Mono',consolas,'Courier New',monospace\">⚠ <span style=\"color: #800000; text-decoration-color: #800000\">Deleting directory for </span><span style=\"color: #800000; text-decoration-color: #800000\">'NumeraiClassicSubmittor</span><span style=\"color: #008000; text-decoration-color: #008000\">'</span> ⚠\nPath: <span style=\"color: #008000; text-decoration-color: #008000\">'/Users/clepelaars/Desktop/crowdcent/repositories/numerai-blocks/nbs/sub_current_round'</span>\n</pre>\n"
     },
     "metadata": {},
     "output_type": "display_data"
    },
    {
     "data": {
      "text/plain": "<IPython.core.display.Javascript object>",
      "application/javascript": "\n            setTimeout(function() {\n                var nbb_cell_id = 3;\n                var nbb_unformatted_code = \"# slow\\n# --- 1. Download version 2 data ---\\ndownloader = NumeraiClassicDownloader(\\\"data\\\")\\ndownloader.download_inference_data(\\\"current_round\\\")\\n\\n# --- 2. Initialize NumerFrame ---\\nmetadata = {\\\"version\\\": 2,\\n            \\\"joblib_model_name\\\": \\\"test\\\",\\n            \\\"joblib_model_path\\\": \\\"test_assets/joblib_v2_example_model.joblib\\\",\\n            \\\"numerai_model_name\\\": \\\"test_model1\\\",\\n            \\\"key_path\\\": \\\"test_assets/test_credentials.json\\\"\\n            }\\ndataf = create_numerframe(file_path=\\\"data/current_round/numerai_tournament_data.parquet\\\",\\n                          metadata=metadata)\\n\\n# --- 3. Define and run pipeline ---\\nmodel1 = SingleModel(dataf.meta.joblib_model_path,\\n                     model_name=dataf.meta.joblib_model_name)\\n# No preprocessing and 0.5 feature neutralization\\npipeline = ModelPipeline(preprocessors=[],\\n                         models=[model1],\\n                         postprocessors=[FeatureNeutralizer(\\n                             pred_name=f\\\"prediction_{dataf.meta.joblib_model_name}\\\",\\n                             proportion=0.5\\n                         )]\\n                         )\\ndataset = pipeline(dataf)\\n\\n# --- 4. Submit ---\\n# Random credentials\\nkey = load_key_from_json(dataf.meta.key_path)\\nsubmittor = NumeraiClassicSubmittor(directory_path=\\\"sub_current_round\\\", key=key)\\n# Only works with valid key credentials\\n# submittor.full_submission(dataf=dataf,\\n#                           cols=f\\\"prediction_{dataf.meta.joblib_model_name}_neutralized_0.5\\\",\\n#                           file_name=f\\\"{dataf.meta.numerai_model_name}.csv\\\",\\n#                           model_name=dataf.meta.numerai_model_name,\\n#                           version=dataf.meta.version\\n#                           )\\n\\n# --- 5. Clean up environment (optional) ---\\ndownloader.remove_base_directory()\\nsubmittor.remove_base_directory()\";\n                var nbb_formatted_code = \"# slow\\n# --- 1. Download version 2 data ---\\ndownloader = NumeraiClassicDownloader(\\\"data\\\")\\ndownloader.download_inference_data(\\\"current_round\\\")\\n\\n# --- 2. Initialize NumerFrame ---\\nmetadata = {\\n    \\\"version\\\": 2,\\n    \\\"joblib_model_name\\\": \\\"test\\\",\\n    \\\"joblib_model_path\\\": \\\"test_assets/joblib_v2_example_model.joblib\\\",\\n    \\\"numerai_model_name\\\": \\\"test_model1\\\",\\n    \\\"key_path\\\": \\\"test_assets/test_credentials.json\\\",\\n}\\ndataf = create_numerframe(\\n    file_path=\\\"data/current_round/numerai_tournament_data.parquet\\\", metadata=metadata\\n)\\n\\n# --- 3. Define and run pipeline ---\\nmodel1 = SingleModel(\\n    dataf.meta.joblib_model_path, model_name=dataf.meta.joblib_model_name\\n)\\n# No preprocessing and 0.5 feature neutralization\\npipeline = ModelPipeline(\\n    preprocessors=[],\\n    models=[model1],\\n    postprocessors=[\\n        FeatureNeutralizer(\\n            pred_name=f\\\"prediction_{dataf.meta.joblib_model_name}\\\", proportion=0.5\\n        )\\n    ],\\n)\\ndataset = pipeline(dataf)\\n\\n# --- 4. Submit ---\\n# Random credentials\\nkey = load_key_from_json(dataf.meta.key_path)\\nsubmittor = NumeraiClassicSubmittor(directory_path=\\\"sub_current_round\\\", key=key)\\n# Only works with valid key credentials\\n# submittor.full_submission(dataf=dataf,\\n#                           cols=f\\\"prediction_{dataf.meta.joblib_model_name}_neutralized_0.5\\\",\\n#                           file_name=f\\\"{dataf.meta.numerai_model_name}.csv\\\",\\n#                           model_name=dataf.meta.numerai_model_name,\\n#                           version=dataf.meta.version\\n#                           )\\n\\n# --- 5. Clean up environment (optional) ---\\ndownloader.remove_base_directory()\\nsubmittor.remove_base_directory()\";\n                var nbb_cells = Jupyter.notebook.get_cells();\n                for (var i = 0; i < nbb_cells.length; ++i) {\n                    if (nbb_cells[i].input_prompt_number == nbb_cell_id) {\n                        if (nbb_cells[i].get_text() == nbb_unformatted_code) {\n                             nbb_cells[i].set_text(nbb_formatted_code);\n                        }\n                        break;\n                    }\n                }\n            }, 500);\n            "
     },
     "metadata": {},
     "output_type": "display_data"
    }
   ],
   "source": [
    "#other\n",
    "\n",
    "# --- 1. Download version 2 data ---\n",
    "downloader = NumeraiClassicDownloader(\"data\")\n",
    "downloader.download_inference_data(\"current_round\")\n",
    "\n",
    "# --- 2. Initialize NumerFrame ---\n",
    "metadata = {\"version\": 2,\n",
    "            \"joblib_model_name\": \"test\",\n",
    "            \"joblib_model_path\": \"test_assets/joblib_v2_example_model.joblib\",\n",
    "            \"numerai_model_name\": \"test_model1\",\n",
    "            \"key_path\": \"test_assets/test_credentials.json\"\n",
    "            }\n",
    "dataf = create_numerframe(file_path=\"data/current_round/numerai_tournament_data.parquet\",\n",
    "                          metadata=metadata)\n",
    "\n",
    "# --- 3. Define and run pipeline ---\n",
    "model1 = SingleModel(dataf.meta.joblib_model_path,\n",
    "                     model_name=dataf.meta.joblib_model_name)\n",
    "# No preprocessing and 0.5 feature neutralization\n",
    "pipeline = ModelPipeline(preprocessors=[],\n",
    "                         models=[model1],\n",
    "                         postprocessors=[FeatureNeutralizer(\n",
    "                             pred_name=f\"prediction_{dataf.meta.joblib_model_name}\",\n",
    "                             proportion=0.5\n",
    "                         )]\n",
    "                         )\n",
    "dataset = pipeline(dataf)\n",
    "\n",
    "# --- 4. Submit ---\n",
    "# Random credentials\n",
    "key = load_key_from_json(dataf.meta.key_path)\n",
    "submittor = NumeraiClassicSubmittor(directory_path=\"sub_current_round\", key=key)\n",
    "# Only works with valid key credentials\n",
    "# submittor.full_submission(dataf=dataf,\n",
    "#                           cols=f\"prediction_{dataf.meta.joblib_model_name}_neutralized_0.5\",\n",
    "#                           file_name=f\"{dataf.meta.numerai_model_name}.csv\",\n",
    "#                           model_name=dataf.meta.numerai_model_name,\n",
    "#                           version=dataf.meta.version\n",
    "#                           )\n",
    "\n",
    "# --- 5. Clean up environment (optional) ---\n",
    "downloader.remove_base_directory()\n",
    "submittor.remove_base_directory()"
   ],
   "metadata": {
    "collapsed": false,
    "pycharm": {
     "name": "#%%\n"
    }
   }
  },
  {
   "cell_type": "code",
   "execution_count": 4,
   "outputs": [
    {
     "data": {
      "text/plain": "💻 Structure before starting                                                                        \n\u001B[90m┗━━ \u001B[0m📁 test_assets                                                                                  \n\u001B[90m    \u001B[0m\u001B[90m┣━━ \u001B[0m📄 joblib_v2_example_model.joblib                                                           \n\u001B[90m    \u001B[0m\u001B[90m┗━━ \u001B[0m📄 test_credentials.json                                                                    \n",
      "text/html": "<pre style=\"white-space:pre;overflow-x:auto;line-height:normal;font-family:Menlo,'DejaVu Sans Mono',consolas,'Courier New',monospace\">💻 Structure before starting                                                                        \n<span style=\"color: #808080; text-decoration-color: #808080\">┗━━ </span>📁 test_assets                                                                                  \n<span style=\"color: #808080; text-decoration-color: #808080\">    ┣━━ </span>📄 joblib_v2_example_model.joblib                                                           \n<span style=\"color: #808080; text-decoration-color: #808080\">    ┗━━ </span>📄 test_credentials.json                                                                    \n</pre>\n"
     },
     "metadata": {},
     "output_type": "display_data"
    },
    {
     "data": {
      "text/plain": "💻 Structure after submitting                                                                       \n\u001B[90m┣━━ \u001B[0m📁 data                                                                                         \n\u001B[90m┃   \u001B[0m\u001B[90m┗━━ \u001B[0m📁 current_round                                                                            \n\u001B[90m┃   \u001B[0m\u001B[90m    \u001B[0m\u001B[90m┗━━ \u001B[0m📄 numerai_tournament_data.parquet                                                      \n\u001B[90m┗━━ \u001B[0m📁 sub_current_round                                                                            \n\u001B[90m    \u001B[0m\u001B[90m┗━━ \u001B[0m📄 test_model1.csv                                                                          \n",
      "text/html": "<pre style=\"white-space:pre;overflow-x:auto;line-height:normal;font-family:Menlo,'DejaVu Sans Mono',consolas,'Courier New',monospace\">💻 Structure after submitting                                                                       \n<span style=\"color: #808080; text-decoration-color: #808080\">┣━━ </span>📁 data                                                                                         \n<span style=\"color: #808080; text-decoration-color: #808080\">┃   ┗━━ </span>📁 current_round                                                                            \n<span style=\"color: #808080; text-decoration-color: #808080\">┃       ┗━━ </span>📄 numerai_tournament_data.parquet                                                      \n<span style=\"color: #808080; text-decoration-color: #808080\">┗━━ </span>📁 sub_current_round                                                                            \n<span style=\"color: #808080; text-decoration-color: #808080\">    ┗━━ </span>📄 test_model1.csv                                                                          \n</pre>\n"
     },
     "metadata": {},
     "output_type": "display_data"
    },
    {
     "data": {
      "text/plain": "<IPython.core.display.Javascript object>",
      "application/javascript": "\n            setTimeout(function() {\n                var nbb_cell_id = 4;\n                var nbb_unformatted_code = \"# hide_input\\nfrom rich.console import Console\\nfrom rich.tree import Tree\\n\\nconsole = Console(record=True, width=100)\\n\\ntree = Tree(\\\":computer: Structure before starting\\\", guide_style=\\\"bold bright_black\\\")\\nmodel_tree = tree.add(\\\":file_folder: test_assets\\\")\\nmodel_tree.add(\\\":page_facing_up: joblib_v2_example_model.joblib\\\")\\nmodel_tree.add(\\\":page_facing_up: test_credentials.json\\\")\\n\\nconsole.print(tree)\\n\\ntree2 = Tree(\\\":computer: Structure after submitting\\\", guide_style=\\\"bold bright_black\\\")\\ndata_tree = tree2.add(\\\":file_folder: data\\\")\\ncurrent_tree = data_tree.add(\\\":file_folder: current_round\\\")\\ncurrent_tree.add(\\\":page_facing_up: numerai_tournament_data.parquet\\\")\\nsub_tree = tree2.add(\\\":file_folder: sub_current_round\\\")\\nsub_tree.add(\\\":page_facing_up: test_model1.csv\\\")\\nmodel_tree = tree.add(\\\":file_folder: test_assets\\\")\\nmodel_tree.add(\\\":page_facing_up: joblib_v2_example_model.joblib\\\")\\nmodel_tree.add(\\\":page_facing_up: test_credentials.json\\\")\\n\\nconsole.print(tree2)\";\n                var nbb_formatted_code = \"# hide_input\\nfrom rich.console import Console\\nfrom rich.tree import Tree\\n\\nconsole = Console(record=True, width=100)\\n\\ntree = Tree(\\\":computer: Structure before starting\\\", guide_style=\\\"bold bright_black\\\")\\nmodel_tree = tree.add(\\\":file_folder: test_assets\\\")\\nmodel_tree.add(\\\":page_facing_up: joblib_v2_example_model.joblib\\\")\\nmodel_tree.add(\\\":page_facing_up: test_credentials.json\\\")\\n\\nconsole.print(tree)\\n\\ntree2 = Tree(\\\":computer: Structure after submitting\\\", guide_style=\\\"bold bright_black\\\")\\ndata_tree = tree2.add(\\\":file_folder: data\\\")\\ncurrent_tree = data_tree.add(\\\":file_folder: current_round\\\")\\ncurrent_tree.add(\\\":page_facing_up: numerai_tournament_data.parquet\\\")\\nsub_tree = tree2.add(\\\":file_folder: sub_current_round\\\")\\nsub_tree.add(\\\":page_facing_up: test_model1.csv\\\")\\nmodel_tree = tree.add(\\\":file_folder: test_assets\\\")\\nmodel_tree.add(\\\":page_facing_up: joblib_v2_example_model.joblib\\\")\\nmodel_tree.add(\\\":page_facing_up: test_credentials.json\\\")\\n\\nconsole.print(tree2)\";\n                var nbb_cells = Jupyter.notebook.get_cells();\n                for (var i = 0; i < nbb_cells.length; ++i) {\n                    if (nbb_cells[i].input_prompt_number == nbb_cell_id) {\n                        if (nbb_cells[i].get_text() == nbb_unformatted_code) {\n                             nbb_cells[i].set_text(nbb_formatted_code);\n                        }\n                        break;\n                    }\n                }\n            }, 500);\n            "
     },
     "metadata": {},
     "output_type": "display_data"
    }
   ],
   "source": [
    "# hide_input\n",
    "from rich.console import Console\n",
    "from rich.tree import Tree\n",
    "\n",
    "console = Console(record=True, width=100)\n",
    "\n",
    "tree = Tree(\":computer: Structure before starting\", guide_style=\"bold bright_black\")\n",
    "model_tree = tree.add(\":file_folder: test_assets\")\n",
    "model_tree.add(\":page_facing_up: joblib_v2_example_model.joblib\")\n",
    "model_tree.add(\":page_facing_up: test_credentials.json\")\n",
    "\n",
    "console.print(tree)\n",
    "\n",
    "tree2 = Tree(\":computer: Structure after submitting\", guide_style=\"bold bright_black\")\n",
    "data_tree = tree2.add(\":file_folder: data\")\n",
    "current_tree = data_tree.add(\":file_folder: current_round\")\n",
    "current_tree.add(\":page_facing_up: numerai_tournament_data.parquet\")\n",
    "sub_tree = tree2.add(\":file_folder: sub_current_round\")\n",
    "sub_tree.add(\":page_facing_up: test_model1.csv\")\n",
    "model_tree = tree.add(\":file_folder: test_assets\")\n",
    "model_tree.add(\":page_facing_up: joblib_v2_example_model.joblib\")\n",
    "model_tree.add(\":page_facing_up: test_credentials.json\")\n",
    "\n",
    "console.print(tree2)"
   ],
   "metadata": {
    "collapsed": false,
    "pycharm": {
     "name": "#%%\n"
    }
   }
  },
  {
   "cell_type": "markdown",
   "metadata": {},
   "source": [
    "## Contributing"
   ]
  },
  {
   "cell_type": "markdown",
   "metadata": {},
   "source": [
    "After you clone this repository, please run `nbdev_install_git_hooks` in your terminal. This sets up git hooks, which clean up the notebooks to remove the extraneous stuff stored in the notebooks (e.g. which cells you ran) which causes unnecessary merge conflicts."
   ]
  },
  {
   "cell_type": "markdown",
   "metadata": {},
   "source": [
    "### Branch structure\n"
   ]
  },
  {
   "cell_type": "markdown",
   "source": [
    "Every new feature should be implemented a branch that branches from `dev` and has the naming convention `feature/{FEATURE_DESCRIPTION}`."
   ],
   "metadata": {
    "collapsed": false
   }
  },
  {
   "cell_type": "code",
   "execution_count": 5,
   "metadata": {},
   "outputs": [
    {
     "data": {
      "text/plain": "Branch structure                                                                                    \n\u001B[90m┗━━ \u001B[0m📦 main (release)                                                                               \n\u001B[90m    \u001B[0m\u001B[90m┗━━ \u001B[0m👨‍💻 dev                                                                                    \n\u001B[90m    \u001B[0m\u001B[90m    \u001B[0m\u001B[90m┣━━ \u001B[0m✨ feature/1                                                                            \n\u001B[90m    \u001B[0m\u001B[90m    \u001B[0m\u001B[90m┣━━ \u001B[0m✨ feature/2                                                                            \n\u001B[90m    \u001B[0m\u001B[90m    \u001B[0m\u001B[90m┗━━ \u001B[0m✨ feature/3                                                                            \n",
      "text/html": "<pre style=\"white-space:pre;overflow-x:auto;line-height:normal;font-family:Menlo,'DejaVu Sans Mono',consolas,'Courier New',monospace\">Branch structure                                                                                    \n<span style=\"color: #808080; text-decoration-color: #808080\">┗━━ </span>📦 main (release)                                                                               \n<span style=\"color: #808080; text-decoration-color: #808080\">    ┗━━ </span>👨‍💻 dev                                                                                    \n<span style=\"color: #808080; text-decoration-color: #808080\">        ┣━━ </span>✨ feature/1                                                                            \n<span style=\"color: #808080; text-decoration-color: #808080\">        ┣━━ </span>✨ feature/2                                                                            \n<span style=\"color: #808080; text-decoration-color: #808080\">        ┗━━ </span>✨ feature/3                                                                            \n</pre>\n"
     },
     "metadata": {},
     "output_type": "display_data"
    },
    {
     "data": {
      "text/plain": "<IPython.core.display.Javascript object>",
      "application/javascript": "\n            setTimeout(function() {\n                var nbb_cell_id = 5;\n                var nbb_unformatted_code = \"# hide_input\\nconsole = Console(record=True, width=100)\\n\\ntree = Tree(\\\"Branch structure\\\", guide_style=\\\"bold bright_black\\\")\\n\\nmain_tree = tree.add(\\\"\\ud83d\\udce6 main (release)\\\", guide_style=\\\"bright_black\\\")\\ndev_tree = main_tree.add(\\\"\\ud83d\\udc68\\u200d\\ud83d\\udcbb dev\\\")\\nfeature_tree = dev_tree.add(\\\":sparkles: feature/1\\\")\\ndev_tree.add(\\\":sparkles: feature/2\\\")\\ndev_tree.add(\\\":sparkles: feature/3\\\")\\n\\nconsole.print(tree)\";\n                var nbb_formatted_code = \"# hide_input\\nconsole = Console(record=True, width=100)\\n\\ntree = Tree(\\\"Branch structure\\\", guide_style=\\\"bold bright_black\\\")\\n\\nmain_tree = tree.add(\\\"\\ud83d\\udce6 main (release)\\\", guide_style=\\\"bright_black\\\")\\ndev_tree = main_tree.add(\\\"\\ud83d\\udc68\\u200d\\ud83d\\udcbb dev\\\")\\nfeature_tree = dev_tree.add(\\\":sparkles: feature/1\\\")\\ndev_tree.add(\\\":sparkles: feature/2\\\")\\ndev_tree.add(\\\":sparkles: feature/3\\\")\\n\\nconsole.print(tree)\";\n                var nbb_cells = Jupyter.notebook.get_cells();\n                for (var i = 0; i < nbb_cells.length; ++i) {\n                    if (nbb_cells[i].input_prompt_number == nbb_cell_id) {\n                        if (nbb_cells[i].get_text() == nbb_unformatted_code) {\n                             nbb_cells[i].set_text(nbb_formatted_code);\n                        }\n                        break;\n                    }\n                }\n            }, 500);\n            "
     },
     "metadata": {},
     "output_type": "display_data"
    }
   ],
   "source": [
    "# hide_input\n",
    "console = Console(record=True, width=100)\n",
    "\n",
    "tree = Tree(\"Branch structure\", guide_style=\"bold bright_black\")\n",
    "\n",
    "main_tree = tree.add(\"📦 main (release)\", guide_style=\"bright_black\")\n",
    "dev_tree = main_tree.add(\"👨‍💻 dev\")\n",
    "feature_tree = dev_tree.add(\":sparkles: feature/1\")\n",
    "dev_tree.add(\":sparkles: feature/2\")\n",
    "dev_tree.add(\":sparkles: feature/3\")\n",
    "\n",
    "console.print(tree)"
   ]
  },
  {
   "cell_type": "markdown",
   "metadata": {},
   "source": []
  },
  {
   "cell_type": "code",
   "execution_count": 6,
   "metadata": {},
   "outputs": [
    {
     "name": "stdout",
     "output_type": "stream",
     "text": [
      "Converted 01_download.ipynb.\n",
      "Converted 02_numerframe.ipynb.\n",
      "Converted 03_preprocessing.ipynb.\n",
      "Converted 04_model.ipynb.\n",
      "Converted 05_postprocessing.ipynb.\n",
      "Converted 06_modelpipeline.ipynb.\n",
      "Converted 07_evaluation.ipynb.\n",
      "Converted 08_key.ipynb.\n",
      "Converted 09_submission.ipynb.\n",
      "Converted 10_staking.ipynb.\n",
      "Converted index.ipynb.\n"
     ]
    },
    {
     "data": {
      "text/plain": "<IPython.core.display.Javascript object>",
      "application/javascript": "\n            setTimeout(function() {\n                var nbb_cell_id = 6;\n                var nbb_unformatted_code = \"# hide\\n# Run this cell to sync all changes with library\\nfrom nbdev.export import notebook2script\\n\\nnotebook2script()\";\n                var nbb_formatted_code = \"# hide\\n# Run this cell to sync all changes with library\\nfrom nbdev.export import notebook2script\\n\\nnotebook2script()\";\n                var nbb_cells = Jupyter.notebook.get_cells();\n                for (var i = 0; i < nbb_cells.length; ++i) {\n                    if (nbb_cells[i].input_prompt_number == nbb_cell_id) {\n                        if (nbb_cells[i].get_text() == nbb_unformatted_code) {\n                             nbb_cells[i].set_text(nbb_formatted_code);\n                        }\n                        break;\n                    }\n                }\n            }, 500);\n            "
     },
     "metadata": {},
     "output_type": "display_data"
    }
   ],
   "source": [
    "# hide\n",
    "# Run this cell to sync all changes with library\n",
    "from nbdev.export import notebook2script\n",
    "\n",
    "notebook2script()"
   ]
  }
 ],
 "metadata": {
  "kernelspec": {
   "display_name": "Python 3",
   "language": "python",
   "name": "python3"
  }
 },
 "nbformat": 4,
 "nbformat_minor": 2
}