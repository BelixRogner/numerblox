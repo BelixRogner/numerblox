{
 "cells": [
  {
   "cell_type": "code",
   "execution_count": 1,
   "metadata": {},
   "outputs": [],
   "source": [
    "# hide\n",
    "%load_ext autoreload\n",
    "%autoreload 2"
   ]
  },
  {
   "cell_type": "code",
   "execution_count": 2,
   "metadata": {},
   "outputs": [],
   "source": [
    "# hide\n",
    "from numerai_blocks.download import NumeraiClassicDownloader\n",
    "from numerai_blocks.numerframe import create_numerframe\n",
    "from numerai_blocks.postprocessing import FeatureNeutralizer\n",
    "from numerai_blocks.model import SingleModel\n",
    "from numerai_blocks.model_pipeline import ModelPipeline\n",
    "from numerai_blocks.key import load_key_from_json\n",
    "from numerai_blocks.submission import NumeraiClassicSubmittor"
   ]
  },
  {
   "cell_type": "markdown",
   "metadata": {},
   "source": [
    "# Numerai Blocks\n",
    "\n",
    "> Tools for solid Numerai pipelines"
   ]
  },
  {
   "cell_type": "markdown",
   "metadata": {},
   "source": []
  },
  {
   "cell_type": "markdown",
   "metadata": {},
   "source": [
    "## 1. Install"
   ]
  },
  {
   "cell_type": "markdown",
   "metadata": {},
   "source": [
    "`pip install`"
   ]
  },
  {
   "cell_type": "markdown",
   "metadata": {},
   "source": [
    "## 2. How to use"
   ]
  },
  {
   "cell_type": "markdown",
   "source": [
    "### 2.1. Contents"
   ],
   "metadata": {
    "collapsed": false
   }
  },
  {
   "cell_type": "markdown",
   "metadata": {},
   "source": [
    "Example and educational notebooks can be found in the `edu_nbs` directory. Development notebooks are in the `nbs` directory.\n",
    "\n",
    "The library features the following tools to build your Numerai pipelines:"
   ]
  },
  {
   "cell_type": "markdown",
   "metadata": {},
   "source": [
    "1. `download`\n",
    "2. `numerframe`\n",
    "3. `preprocessing`\n",
    "4. `model`\n",
    "5. `postprocessing`\n",
    "6. `ModelPipeline` (and `ModelPipelineCollection`)\n",
    "7. `evaluation`\n",
    "8. `Key` (containing authentication info)\n",
    "9. `NumeraiClassicSubmittor` and `NumeraiSignalsSubmittor`\n",
    "10. `staking`"
   ]
  },
  {
   "cell_type": "markdown",
   "source": [
    "### 2.2. Examples"
   ],
   "metadata": {
    "collapsed": false
   }
  },
  {
   "cell_type": "markdown",
   "source": [
    "Below we will illustrate a common use case for inference pipelines. To learn more in-depth about the features of this library, check out notebooks in the `edu_nbs` directory."
   ],
   "metadata": {
    "collapsed": false
   }
  },
  {
   "cell_type": "markdown",
   "source": [
    "#### 2.2.1. Numerai Classic"
   ],
   "metadata": {
    "collapsed": false
   }
  },
  {
   "cell_type": "code",
   "execution_count": 1,
   "outputs": [],
   "source": [
    "#other\n",
    "#hide_output\n",
    "\n",
    "# --- 1. Download version 2 data ---\n",
    "downloader = NumeraiClassicDownloader(\"data\")\n",
    "downloader.download_inference_data(\"current_round\")\n",
    "\n",
    "# --- 2. Initialize NumerFrame ---\n",
    "metadata = {\"version\": 2,\n",
    "            \"joblib_model_name\": \"test\",\n",
    "            \"joblib_model_path\": \"test_assets/joblib_v2_example_model.joblib\",\n",
    "            \"numerai_model_name\": \"test_model1\",\n",
    "            \"key_path\": \"test_assets/test_credentials.json\"\n",
    "            }\n",
    "dataf = create_numerframe(file_path=\"data/current_round/numerai_tournament_data.parquet\",\n",
    "                          metadata=metadata)\n",
    "\n",
    "# --- 3. Define and run pipeline ---\n",
    "model1 = SingleModel(dataf.meta.joblib_model_path,\n",
    "                     model_name=dataf.meta.joblib_model_name)\n",
    "# No preprocessing and 0.5 feature neutralization\n",
    "pipeline = ModelPipeline(preprocessors=[],\n",
    "                         models=[model1],\n",
    "                         postprocessors=[FeatureNeutralizer(\n",
    "                             pred_name=f\"prediction_{dataf.meta.joblib_model_name}\",\n",
    "                             proportion=0.5\n",
    "                         )]\n",
    "                         )\n",
    "dataset = pipeline(dataf)\n",
    "\n",
    "# --- 4. Submit ---\n",
    "# Random credentials\n",
    "key = load_key_from_json(dataf.meta.key_path)\n",
    "submittor = NumeraiClassicSubmittor(directory_path=\"sub_current_round\", key=key)\n",
    "# Only works with valid key credentials\n",
    "submittor.full_submission(dataf=dataf,\n",
    "                          cols=f\"prediction_{dataf.meta.joblib_model_name}_neutralized_0.5\",\n",
    "                          file_name=f\"{dataf.meta.numerai_model_name}.csv\",\n",
    "                          model_name=dataf.meta.numerai_model_name,\n",
    "                          version=dataf.meta.version\n",
    "                          )\n",
    "\n",
    "# --- 5. Clean up environment (optional) ---\n",
    "downloader.remove_base_directory()\n",
    "submittor.remove_base_directory()"
   ],
   "metadata": {
    "collapsed": false,
    "pycharm": {
     "name": "#%%\n"
    }
   }
  },
  {
   "cell_type": "code",
   "execution_count": 2,
   "outputs": [
    {
     "data": {
      "text/plain": "💻 Structure before starting                                                                        \n\u001B[90m┗━━ \u001B[0m📁 test_assets                                                                                  \n\u001B[90m    \u001B[0m\u001B[90m┣━━ \u001B[0m📄 joblib_v2_example_model.joblib                                                           \n\u001B[90m    \u001B[0m\u001B[90m┗━━ \u001B[0m📄 test_credentials.json                                                                    \n",
      "text/html": "<pre style=\"white-space:pre;overflow-x:auto;line-height:normal;font-family:Menlo,'DejaVu Sans Mono',consolas,'Courier New',monospace\">💻 Structure before starting                                                                        \n<span style=\"color: #808080; text-decoration-color: #808080\">┗━━ </span>📁 test_assets                                                                                  \n<span style=\"color: #808080; text-decoration-color: #808080\">    ┣━━ </span>📄 joblib_v2_example_model.joblib                                                           \n<span style=\"color: #808080; text-decoration-color: #808080\">    ┗━━ </span>📄 test_credentials.json                                                                    \n</pre>\n"
     },
     "metadata": {},
     "output_type": "display_data"
    },
    {
     "data": {
      "text/plain": "💻 Structure after submitting                                                                       \n\u001B[90m┣━━ \u001B[0m📁 data                                                                                         \n\u001B[90m┃   \u001B[0m\u001B[90m┗━━ \u001B[0m📁 current_round                                                                            \n\u001B[90m┃   \u001B[0m\u001B[90m    \u001B[0m\u001B[90m┗━━ \u001B[0m📄 numerai_tournament_data.parquet                                                      \n\u001B[90m┗━━ \u001B[0m📁 sub_current_round                                                                            \n\u001B[90m    \u001B[0m\u001B[90m┗━━ \u001B[0m📄 test_model1.csv                                                                          \n",
      "text/html": "<pre style=\"white-space:pre;overflow-x:auto;line-height:normal;font-family:Menlo,'DejaVu Sans Mono',consolas,'Courier New',monospace\">💻 Structure after submitting                                                                       \n<span style=\"color: #808080; text-decoration-color: #808080\">┣━━ </span>📁 data                                                                                         \n<span style=\"color: #808080; text-decoration-color: #808080\">┃   ┗━━ </span>📁 current_round                                                                            \n<span style=\"color: #808080; text-decoration-color: #808080\">┃       ┗━━ </span>📄 numerai_tournament_data.parquet                                                      \n<span style=\"color: #808080; text-decoration-color: #808080\">┗━━ </span>📁 sub_current_round                                                                            \n<span style=\"color: #808080; text-decoration-color: #808080\">    ┗━━ </span>📄 test_model1.csv                                                                          \n</pre>\n"
     },
     "metadata": {},
     "output_type": "display_data"
    }
   ],
   "source": [
    "# hide_input\n",
    "from rich.console import Console\n",
    "from rich.tree import Tree\n",
    "\n",
    "console = Console(record=True, width=100)\n",
    "\n",
    "tree = Tree(\":computer: Structure before starting\", guide_style=\"bold bright_black\")\n",
    "model_tree = tree.add(\":file_folder: test_assets\")\n",
    "model_tree.add(\":page_facing_up: joblib_v2_example_model.joblib\")\n",
    "model_tree.add(\":page_facing_up: test_credentials.json\")\n",
    "\n",
    "console.print(tree)\n",
    "\n",
    "tree2 = Tree(\":computer: Structure after submitting\", guide_style=\"bold bright_black\")\n",
    "data_tree = tree2.add(\":file_folder: data\")\n",
    "current_tree = data_tree.add(\":file_folder: current_round\")\n",
    "current_tree.add(\":page_facing_up: numerai_tournament_data.parquet\")\n",
    "sub_tree = tree2.add(\":file_folder: sub_current_round\")\n",
    "sub_tree.add(\":page_facing_up: test_model1.csv\")\n",
    "model_tree = tree.add(\":file_folder: test_assets\")\n",
    "model_tree.add(\":page_facing_up: joblib_v2_example_model.joblib\")\n",
    "model_tree.add(\":page_facing_up: test_credentials.json\")\n",
    "\n",
    "console.print(tree2)"
   ],
   "metadata": {
    "collapsed": false,
    "pycharm": {
     "name": "#%%\n"
    }
   }
  },
  {
   "cell_type": "markdown",
   "metadata": {},
   "source": [
    "## Contributing\n",
    "\n",
    "Below are a few guidelines to smooth out development of `numerai_blocks`.\n",
    "\n",
    "Thanks a lot for wanting to help us out with this project! We are using a project setup called [nbdev](https://nbdev.fast.ai/) to easily develop code, documentation and tests within Jupyter notebooks. If you are only using the library you don't have to worry about this. Just pip install and you are good to go!\n",
    "\n",
    "If you are thinking of contributing and are not familiar with nbdev, it may take some time to learn nbdev development. We are happy to help out and point you to documentation or videos to learn more.\n",
    "\n",
    "If you are interested in the full scope of what nbdev has to offer, check out this tutorial with Jeremy Howard:\n",
    " [https://youtu.be/Hrs7iEYmRmg](https://youtu.be/Hrs7iEYmRmg).\n",
    "\n",
    "Why are we using nbdev? To learn more about the rationale behind nbdev:\n",
    "[https://youtu.be/9Q6sLbz37gk](https://youtu.be/9Q6sLbz37gk)\n",
    "\n",
    "nbdev live coding example with Hamel Husain:\n",
    "[https://youtu.be/ZJTop5uqC2U](https://youtu.be/ZJTop5uqC2U)\n",
    "\n"
   ]
  },
  {
   "cell_type": "markdown",
   "source": [
    "### Bugs / Issues / Enhancements.\n",
    "\n",
    "Even though most of the components in this library are tested, the project is still in an early stage of development. If you discover bugs, other issues or ideas for enhancements, do not hesitate to make a Github issue. Describe in the issue what code was run on what machine and background on the issue. Add stacktraces and screenshots if this is relevant for solving the issue. Also, please define appropriate labels for the Github issue."
   ],
   "metadata": {
    "collapsed": false
   }
  },
  {
   "cell_type": "markdown",
   "metadata": {},
   "source": [
    "### Contributing Code\n",
    "\n",
    "There are a few small things you should do before contributing code to this project. After you clone the repository, please run `nbdev_install_git_hooks` in your terminal. This sets up git hooks, which cleans up the notebooks to remove the extraneous stuff stored in the notebooks (e.g. which cells you ran). This avoids unnecessary merge conflicts.\n",
    "\n",
    "Before pushing code to the branch you are working in, be sure to run `nbdev_build_lib` and `nbdev_build_docs` so all code is synced.\n",
    "\n"
   ]
  },
  {
   "cell_type": "markdown",
   "metadata": {},
   "source": [
    "### Branch structure\n"
   ]
  },
  {
   "cell_type": "markdown",
   "source": [
    "Every new feature should be implemented in a branch that branches from `dev` and has the naming convention `feature/{FEATURE_DESCRIPTION}`. Explicit bugfixes should be names `bugfix/{FIX_DESCRIPTION}`. An example structure is given below."
   ],
   "metadata": {
    "collapsed": false
   }
  },
  {
   "cell_type": "code",
   "execution_count": 3,
   "metadata": {},
   "outputs": [
    {
     "data": {
      "text/plain": "Branch structure                                                                                    \n\u001B[90m┗━━ \u001B[0m📦 main (release)                                                                               \n\u001B[90m    \u001B[0m\u001B[90m┗━━ \u001B[0m👨‍💻 dev                                                                                    \n\u001B[90m    \u001B[0m\u001B[90m    \u001B[0m\u001B[90m┣━━ \u001B[0m✨ feature/ta-signals-features                                                          \n\u001B[90m    \u001B[0m\u001B[90m    \u001B[0m\u001B[90m┣━━ \u001B[0m✨ feature/news-api-downloader                                                          \n\u001B[90m    \u001B[0m\u001B[90m    \u001B[0m\u001B[90m┣━━ \u001B[0m✨ feature/staking-portfolio-management                                                 \n\u001B[90m    \u001B[0m\u001B[90m    \u001B[0m\u001B[90m┗━━ \u001B[0m✨ bugfix/evaluator-metrics-fix                                                         \n",
      "text/html": "<pre style=\"white-space:pre;overflow-x:auto;line-height:normal;font-family:Menlo,'DejaVu Sans Mono',consolas,'Courier New',monospace\">Branch structure                                                                                    \n<span style=\"color: #808080; text-decoration-color: #808080\">┗━━ </span>📦 main (release)                                                                               \n<span style=\"color: #808080; text-decoration-color: #808080\">    ┗━━ </span>👨‍💻 dev                                                                                    \n<span style=\"color: #808080; text-decoration-color: #808080\">        ┣━━ </span>✨ feature/ta-signals-features                                                          \n<span style=\"color: #808080; text-decoration-color: #808080\">        ┣━━ </span>✨ feature/news-api-downloader                                                          \n<span style=\"color: #808080; text-decoration-color: #808080\">        ┣━━ </span>✨ feature/staking-portfolio-management                                                 \n<span style=\"color: #808080; text-decoration-color: #808080\">        ┗━━ </span>✨ bugfix/evaluator-metrics-fix                                                         \n</pre>\n"
     },
     "metadata": {},
     "output_type": "display_data"
    }
   ],
   "source": [
    "# hide_input\n",
    "console = Console(record=True, width=100)\n",
    "\n",
    "tree = Tree(\"Branch structure\", guide_style=\"bold bright_black\")\n",
    "\n",
    "main_tree = tree.add(\"📦 main (release)\", guide_style=\"bright_black\")\n",
    "dev_tree = main_tree.add(\"👨‍💻 dev\")\n",
    "feature_tree = dev_tree.add(\":sparkles: feature/ta-signals-features\")\n",
    "dev_tree.add(\":sparkles: feature/news-api-downloader\")\n",
    "dev_tree.add(\":sparkles: feature/staking-portfolio-management\")\n",
    "dev_tree.add(\":sparkles: bugfix/evaluator-metrics-fix\")\n",
    "\n",
    "console.print(tree)"
   ]
  },
  {
   "cell_type": "markdown",
   "metadata": {},
   "source": []
  },
  {
   "cell_type": "code",
   "execution_count": 4,
   "metadata": {},
   "outputs": [
    {
     "name": "stdout",
     "output_type": "stream",
     "text": [
      "Converted 00_misc.ipynb.\n",
      "Converted 01_download.ipynb.\n",
      "Converted 02_numerframe.ipynb.\n",
      "Converted 03_preprocessing.ipynb.\n",
      "Converted 04_model.ipynb.\n",
      "Converted 05_postprocessing.ipynb.\n",
      "Converted 06_modelpipeline.ipynb.\n",
      "Converted 07_evaluation.ipynb.\n",
      "Converted 08_key.ipynb.\n",
      "Converted 09_submission.ipynb.\n",
      "Converted 10_staking.ipynb.\n",
      "Converted index.ipynb.\n"
     ]
    }
   ],
   "source": [
    "# hide\n",
    "# Run this cell to sync all changes with library\n",
    "from nbdev.export import notebook2script\n",
    "\n",
    "notebook2script()"
   ]
  },
  {
   "cell_type": "code",
   "execution_count": null,
   "outputs": [],
   "source": [],
   "metadata": {
    "collapsed": false,
    "pycharm": {
     "name": "#%%\n"
    }
   }
  }
 ],
 "metadata": {
  "kernelspec": {
   "display_name": "Python 3",
   "language": "python",
   "name": "python3"
  }
 },
 "nbformat": 4,
 "nbformat_minor": 2
}