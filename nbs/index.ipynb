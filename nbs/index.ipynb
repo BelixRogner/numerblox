{
 "cells": [
  {
   "cell_type": "code",
   "execution_count": 8,
   "metadata": {},
   "outputs": [
    {
     "name": "stdout",
     "output_type": "stream",
     "text": [
      "The autoreload extension is already loaded. To reload it, use:\n",
      "  %reload_ext autoreload\n",
      "The nb_black extension is already loaded. To reload it, use:\n",
      "  %reload_ext nb_black\n",
      "The lab_black extension is already loaded. To reload it, use:\n",
      "  %reload_ext lab_black\n"
     ]
    },
    {
     "data": {
      "text/plain": "<IPython.core.display.Javascript object>",
      "application/javascript": "\n            setTimeout(function() {\n                var nbb_cell_id = 8;\n                var nbb_unformatted_code = \"# hide\\n%load_ext autoreload\\n%autoreload 2\\n%load_ext nb_black\\n%load_ext lab_black\";\n                var nbb_formatted_code = \"# hide\\n%load_ext autoreload\\n%autoreload 2\\n%load_ext nb_black\\n%load_ext lab_black\";\n                var nbb_cells = Jupyter.notebook.get_cells();\n                for (var i = 0; i < nbb_cells.length; ++i) {\n                    if (nbb_cells[i].input_prompt_number == nbb_cell_id) {\n                        if (nbb_cells[i].get_text() == nbb_unformatted_code) {\n                             nbb_cells[i].set_text(nbb_formatted_code);\n                        }\n                        break;\n                    }\n                }\n            }, 500);\n            "
     },
     "metadata": {},
     "output_type": "display_data"
    }
   ],
   "source": [
    "# hide\n",
    "%load_ext autoreload\n",
    "%autoreload 2\n",
    "%load_ext nb_black\n",
    "%load_ext lab_black"
   ]
  },
  {
   "cell_type": "code",
   "execution_count": 9,
   "metadata": {},
   "outputs": [
    {
     "data": {
      "text/plain": "<IPython.core.display.Javascript object>",
      "application/javascript": "\n            setTimeout(function() {\n                var nbb_cell_id = 2;\n                var nbb_unformatted_code = \"# hide\\nfrom numerai_blocks import *\\nfrom numerai_blocks.download import NumeraiClassicDownloader\\nfrom numerai_blocks.dataset import create_dataset\\nfrom numerai_blocks.postprocessing import FeatureNeutralizer\\nfrom numerai_blocks.model import JoblibModel\\nfrom numerai_blocks.model_pipeline import ModelPipeline\\nfrom numerai_blocks.key import load_key_from_json\\nfrom numerai_blocks.submission import NumeraiClassicSubmittor\";\n                var nbb_formatted_code = \"# hide\\nfrom numerai_blocks import *\\nfrom numerai_blocks.download import NumeraiClassicDownloader\\nfrom numerai_blocks.dataset import create_dataset\\nfrom numerai_blocks.postprocessing import FeatureNeutralizer\\nfrom numerai_blocks.model import JoblibModel\\nfrom numerai_blocks.model_pipeline import ModelPipeline\\nfrom numerai_blocks.key import load_key_from_json\\nfrom numerai_blocks.submission import NumeraiClassicSubmittor\";\n                var nbb_cells = Jupyter.notebook.get_cells();\n                for (var i = 0; i < nbb_cells.length; ++i) {\n                    if (nbb_cells[i].input_prompt_number == nbb_cell_id) {\n                        if (nbb_cells[i].get_text() == nbb_unformatted_code) {\n                             nbb_cells[i].set_text(nbb_formatted_code);\n                        }\n                        break;\n                    }\n                }\n            }, 500);\n            "
     },
     "metadata": {},
     "output_type": "display_data"
    },
    {
     "data": {
      "text/plain": "<IPython.core.display.Javascript object>",
      "application/javascript": "\n            setTimeout(function() {\n                var nbb_cell_id = 9;\n                var nbb_unformatted_code = \"# hide\\nfrom numerai_blocks import *\\nfrom numerai_blocks.download import NumeraiClassicDownloader\\nfrom numerai_blocks.dataset import create_dataset\\nfrom numerai_blocks.postprocessing import FeatureNeutralizer\\nfrom numerai_blocks.model import JoblibModel\\nfrom numerai_blocks.model_pipeline import ModelPipeline\\nfrom numerai_blocks.key import load_key_from_json\\nfrom numerai_blocks.submission import NumeraiClassicSubmittor\";\n                var nbb_formatted_code = \"# hide\\nfrom numerai_blocks import *\\nfrom numerai_blocks.download import NumeraiClassicDownloader\\nfrom numerai_blocks.dataset import create_dataset\\nfrom numerai_blocks.postprocessing import FeatureNeutralizer\\nfrom numerai_blocks.model import JoblibModel\\nfrom numerai_blocks.model_pipeline import ModelPipeline\\nfrom numerai_blocks.key import load_key_from_json\\nfrom numerai_blocks.submission import NumeraiClassicSubmittor\";\n                var nbb_cells = Jupyter.notebook.get_cells();\n                for (var i = 0; i < nbb_cells.length; ++i) {\n                    if (nbb_cells[i].input_prompt_number == nbb_cell_id) {\n                        if (nbb_cells[i].get_text() == nbb_unformatted_code) {\n                             nbb_cells[i].set_text(nbb_formatted_code);\n                        }\n                        break;\n                    }\n                }\n            }, 500);\n            "
     },
     "metadata": {},
     "output_type": "display_data"
    }
   ],
   "source": [
    "# hide\n",
    "from numerai_blocks import *\n",
    "from numerai_blocks.download import NumeraiClassicDownloader\n",
    "from numerai_blocks.dataset import create_dataset\n",
    "from numerai_blocks.postprocessing import FeatureNeutralizer\n",
    "from numerai_blocks.model import JoblibModel\n",
    "from numerai_blocks.model_pipeline import ModelPipeline\n",
    "from numerai_blocks.key import load_key_from_json\n",
    "from numerai_blocks.submission import NumeraiClassicSubmittor"
   ]
  },
  {
   "cell_type": "markdown",
   "metadata": {},
   "source": [
    "# Numerai Blocks\n",
    "\n",
    "> Tools for solid Numerai pipelines"
   ]
  },
  {
   "cell_type": "markdown",
   "metadata": {},
   "source": []
  },
  {
   "cell_type": "markdown",
   "metadata": {},
   "source": [
    "## 1. Install"
   ]
  },
  {
   "cell_type": "markdown",
   "metadata": {},
   "source": [
    "`pip install numerai-blocks`"
   ]
  },
  {
   "cell_type": "markdown",
   "metadata": {},
   "source": [
    "## 2. How to use"
   ]
  },
  {
   "cell_type": "markdown",
   "source": [
    "### 2.1. Contents"
   ],
   "metadata": {
    "collapsed": false
   }
  },
  {
   "cell_type": "markdown",
   "metadata": {},
   "source": [
    "Example and educational notebooks can be found in the `edu_nbs` directory. Development notebooks are in the `nbs` directory.\n",
    "\n",
    "The library features the following tools to build your Numerai pipelines:"
   ]
  },
  {
   "cell_type": "markdown",
   "metadata": {},
   "source": [
    "- Downloaders\n",
    "- Dataloaders\n",
    "- Dataset objects (with arbitrary metadata)\n",
    "- Preprocessing\n",
    "- Model\n",
    "- ModelPipeline and ModelPipelineCollection\n",
    "- Postprocessing\n",
    "- Prediction dataset (with arbitrary metadata)\n",
    "- Evaluators\n",
    "- Key (containing authentication info)\n",
    "- Submittors\n",
    "- Staker"
   ]
  },
  {
   "cell_type": "markdown",
   "source": [
    "### 2.2. Quick Examples"
   ],
   "metadata": {
    "collapsed": false
   }
  },
  {
   "cell_type": "markdown",
   "source": [
    "#### 2.2.1. Numerai Classic"
   ],
   "metadata": {
    "collapsed": false
   }
  },
  {
   "cell_type": "code",
   "execution_count": 10,
   "outputs": [
    {
     "data": {
      "text/plain": "<IPython.core.display.Javascript object>",
      "application/javascript": "\n            setTimeout(function() {\n                var nbb_cell_id = 3;\n                var nbb_unformatted_code = \"# slow\\n# # Download version 2 data\\n# downloader = NumeraiClassicDownloader(\\\"data\\\")\\n# downloader.download_inference_data(\\\"current_round\\\")\\n# \\n# # Initialize Dataset\\n# metadata = {\\\"version\\\": 2, \\\"model_name\\\": \\\"MY_MODEL\\\"}\\n# dataset = create_dataset(file_path=\\\"data/current_round/numerai_tournament_data.parquet\\\", **metadata)\\n# \\n# # Define and run pipeline\\n# model1 = JoblibModel(model_directory=\\\"dir_with_joblib_models\\\",\\n#                      model_name=\\\"test_model\\\")\\n# pipeline = ModelPipeline(pipeline_name=dataset.base_model_name,\\n#                              preprocessors=[],\\n#                              models=[model1],\\n#                              postprocessors=[FeatureNeutralizer(proportion=0.5)])\\n# dataset = pipeline(dataset)\\n# \\n# # Submit\\n# key = load_key_from_json(\\\"my_key.json\\\")\\n# submittor = NumeraiClassicSubmittor(directory_path=\\\"sub_current_round\\\", key=key)\\n# submittor.full_submission(dataf=dataset.dataf,\\n#                           cols=\\\"prediction_test_model_neutralized_0.5\\\",\\n#                           file_name=f\\\"{dataset.model_name}.csv\\\",\\n#                           model_name=dataset.model_name,\\n#                           versio=dataset.version\\n#                           )\\n# \\n# # Remove data and subs\\n# downloader.remove_base_directory()\\n# submittor.remove_base_directory()\";\n                var nbb_formatted_code = \"# slow\\n# # Download version 2 data\\n# downloader = NumeraiClassicDownloader(\\\"data\\\")\\n# downloader.download_inference_data(\\\"current_round\\\")\\n#\\n# # Initialize Dataset\\n# metadata = {\\\"version\\\": 2, \\\"model_name\\\": \\\"MY_MODEL\\\"}\\n# dataset = create_dataset(file_path=\\\"data/current_round/numerai_tournament_data.parquet\\\", **metadata)\\n#\\n# # Define and run pipeline\\n# model1 = JoblibModel(model_directory=\\\"dir_with_joblib_models\\\",\\n#                      model_name=\\\"test_model\\\")\\n# pipeline = ModelPipeline(pipeline_name=dataset.base_model_name,\\n#                              preprocessors=[],\\n#                              models=[model1],\\n#                              postprocessors=[FeatureNeutralizer(proportion=0.5)])\\n# dataset = pipeline(dataset)\\n#\\n# # Submit\\n# key = load_key_from_json(\\\"my_key.json\\\")\\n# submittor = NumeraiClassicSubmittor(directory_path=\\\"sub_current_round\\\", key=key)\\n# submittor.full_submission(dataf=dataset.dataf,\\n#                           cols=\\\"prediction_test_model_neutralized_0.5\\\",\\n#                           file_name=f\\\"{dataset.model_name}.csv\\\",\\n#                           model_name=dataset.model_name,\\n#                           versio=dataset.version\\n#                           )\\n#\\n# # Remove data and subs\\n# downloader.remove_base_directory()\\n# submittor.remove_base_directory()\";\n                var nbb_cells = Jupyter.notebook.get_cells();\n                for (var i = 0; i < nbb_cells.length; ++i) {\n                    if (nbb_cells[i].input_prompt_number == nbb_cell_id) {\n                        if (nbb_cells[i].get_text() == nbb_unformatted_code) {\n                             nbb_cells[i].set_text(nbb_formatted_code);\n                        }\n                        break;\n                    }\n                }\n            }, 500);\n            "
     },
     "metadata": {},
     "output_type": "display_data"
    },
    {
     "data": {
      "text/plain": "<IPython.core.display.Javascript object>",
      "application/javascript": "\n            setTimeout(function() {\n                var nbb_cell_id = 10;\n                var nbb_unformatted_code = \"# slow\\n# # Download version 2 data\\n# downloader = NumeraiClassicDownloader(\\\"data\\\")\\n# downloader.download_inference_data(\\\"current_round\\\")\\n#\\n# # Initialize Dataset\\n# metadata = {\\\"version\\\": 2, \\\"model_name\\\": \\\"MY_MODEL\\\"}\\n# dataset = create_dataset(file_path=\\\"data/current_round/numerai_tournament_data.parquet\\\", **metadata)\\n#\\n# # Define and run pipeline\\n# model1 = JoblibModel(model_directory=\\\"dir_with_joblib_models\\\",\\n#                      model_name=\\\"test_model\\\")\\n# pipeline = ModelPipeline(pipeline_name=dataset.base_model_name,\\n#                              preprocessors=[],\\n#                              models=[model1],\\n#                              postprocessors=[FeatureNeutralizer(proportion=0.5)])\\n# dataset = pipeline(dataset)\\n#\\n# # Submit\\n# key = load_key_from_json(\\\"my_key.json\\\")\\n# submittor = NumeraiClassicSubmittor(directory_path=\\\"sub_current_round\\\", key=key)\\n# submittor.full_submission(dataf=dataset.dataf,\\n#                           cols=\\\"prediction_test_model_neutralized_0.5\\\",\\n#                           file_name=f\\\"{dataset.model_name}.csv\\\",\\n#                           model_name=dataset.model_name,\\n#                           versio=dataset.version\\n#                           )\\n#\\n# # Remove data and subs\\n# downloader.remove_base_directory()\\n# submittor.remove_base_directory()\";\n                var nbb_formatted_code = \"# slow\\n# # Download version 2 data\\n# downloader = NumeraiClassicDownloader(\\\"data\\\")\\n# downloader.download_inference_data(\\\"current_round\\\")\\n#\\n# # Initialize Dataset\\n# metadata = {\\\"version\\\": 2, \\\"model_name\\\": \\\"MY_MODEL\\\"}\\n# dataset = create_dataset(file_path=\\\"data/current_round/numerai_tournament_data.parquet\\\", **metadata)\\n#\\n# # Define and run pipeline\\n# model1 = JoblibModel(model_directory=\\\"dir_with_joblib_models\\\",\\n#                      model_name=\\\"test_model\\\")\\n# pipeline = ModelPipeline(pipeline_name=dataset.base_model_name,\\n#                              preprocessors=[],\\n#                              models=[model1],\\n#                              postprocessors=[FeatureNeutralizer(proportion=0.5)])\\n# dataset = pipeline(dataset)\\n#\\n# # Submit\\n# key = load_key_from_json(\\\"my_key.json\\\")\\n# submittor = NumeraiClassicSubmittor(directory_path=\\\"sub_current_round\\\", key=key)\\n# submittor.full_submission(dataf=dataset.dataf,\\n#                           cols=\\\"prediction_test_model_neutralized_0.5\\\",\\n#                           file_name=f\\\"{dataset.model_name}.csv\\\",\\n#                           model_name=dataset.model_name,\\n#                           versio=dataset.version\\n#                           )\\n#\\n# # Remove data and subs\\n# downloader.remove_base_directory()\\n# submittor.remove_base_directory()\";\n                var nbb_cells = Jupyter.notebook.get_cells();\n                for (var i = 0; i < nbb_cells.length; ++i) {\n                    if (nbb_cells[i].input_prompt_number == nbb_cell_id) {\n                        if (nbb_cells[i].get_text() == nbb_unformatted_code) {\n                             nbb_cells[i].set_text(nbb_formatted_code);\n                        }\n                        break;\n                    }\n                }\n            }, 500);\n            "
     },
     "metadata": {},
     "output_type": "display_data"
    }
   ],
   "source": [
    "# slow\n",
    "# # Download version 2 data\n",
    "# downloader = NumeraiClassicDownloader(\"data\")\n",
    "# downloader.download_inference_data(\"current_round\")\n",
    "#\n",
    "# # Initialize Dataset\n",
    "# metadata = {\"version\": 2, \"model_name\": \"MY_MODEL\"}\n",
    "# dataset = create_dataset(file_path=\"data/current_round/numerai_tournament_data.parquet\", **metadata)\n",
    "#\n",
    "# # Define and run pipeline\n",
    "# model1 = JoblibModel(model_directory=\"dir_with_joblib_models\",\n",
    "#                      model_name=\"test_model\")\n",
    "# pipeline = ModelPipeline(pipeline_name=dataset.base_model_name,\n",
    "#                              preprocessors=[],\n",
    "#                              models=[model1],\n",
    "#                              postprocessors=[FeatureNeutralizer(proportion=0.5)])\n",
    "# dataset = pipeline(dataset)\n",
    "#\n",
    "# # Submit\n",
    "# key = load_key_from_json(\"my_key.json\")\n",
    "# submittor = NumeraiClassicSubmittor(directory_path=\"sub_current_round\", key=key)\n",
    "# submittor.full_submission(dataf=dataset.dataf,\n",
    "#                           cols=\"prediction_test_model_neutralized_0.5\",\n",
    "#                           file_name=f\"{dataset.model_name}.csv\",\n",
    "#                           model_name=dataset.model_name,\n",
    "#                           versio=dataset.version\n",
    "#                           )\n",
    "#\n",
    "# # Remove data and subs\n",
    "# downloader.remove_base_directory()\n",
    "# submittor.remove_base_directory()"
   ],
   "metadata": {
    "collapsed": false,
    "pycharm": {
     "name": "#%%\n"
    }
   }
  },
  {
   "cell_type": "code",
   "execution_count": 11,
   "outputs": [
    {
     "data": {
      "text/plain": "💻 Structure before starting                                                                        \n\u001B[90m┣━━ \u001B[0m📄 my_key.json                                                                                  \n\u001B[90m┗━━ \u001B[0m📁 dir_with_joblib_models                                                                       \n\u001B[90m    \u001B[0m\u001B[90m┣━━ \u001B[0m📄 model1.joblib                                                                            \n\u001B[90m    \u001B[0m\u001B[90m┣━━ \u001B[0m📄 model2.joblib                                                                            \n\u001B[90m    \u001B[0m\u001B[90m┣━━ \u001B[0m📄 model3.joblib                                                                            \n\u001B[90m    \u001B[0m\u001B[90m┣━━ \u001B[0m📄 model4.joblib                                                                            \n\u001B[90m    \u001B[0m\u001B[90m┗━━ \u001B[0m📄 model5.joblib                                                                            \n",
      "text/html": "<pre style=\"white-space:pre;overflow-x:auto;line-height:normal;font-family:Menlo,'DejaVu Sans Mono',consolas,'Courier New',monospace\">💻 Structure before starting                                                                        \n<span style=\"color: #808080; text-decoration-color: #808080\">┣━━ </span>📄 my_key.json                                                                                  \n<span style=\"color: #808080; text-decoration-color: #808080\">┗━━ </span>📁 dir_with_joblib_models                                                                       \n<span style=\"color: #808080; text-decoration-color: #808080\">    ┣━━ </span>📄 model1.joblib                                                                            \n<span style=\"color: #808080; text-decoration-color: #808080\">    ┣━━ </span>📄 model2.joblib                                                                            \n<span style=\"color: #808080; text-decoration-color: #808080\">    ┣━━ </span>📄 model3.joblib                                                                            \n<span style=\"color: #808080; text-decoration-color: #808080\">    ┣━━ </span>📄 model4.joblib                                                                            \n<span style=\"color: #808080; text-decoration-color: #808080\">    ┗━━ </span>📄 model5.joblib                                                                            \n</pre>\n"
     },
     "metadata": {},
     "output_type": "display_data"
    },
    {
     "data": {
      "text/plain": "💻 Structure after submitting                                                                       \n\u001B[90m┣━━ \u001B[0m📁 data                                                                                         \n\u001B[90m┃   \u001B[0m\u001B[90m┗━━ \u001B[0m📁 current_round                                                                            \n\u001B[90m┃   \u001B[0m\u001B[90m    \u001B[0m\u001B[90m┗━━ \u001B[0m📄 numerai_tournament_data.parquet                                                      \n\u001B[90m┣━━ \u001B[0m📁 sub_current_round                                                                            \n\u001B[90m┃   \u001B[0m\u001B[90m┗━━ \u001B[0m📄 MY_MODEL.csv                                                                             \n\u001B[90m┣━━ \u001B[0m📄 my_key.json                                                                                  \n\u001B[90m┗━━ \u001B[0m📁 dir_with_joblib_models                                                                       \n\u001B[90m    \u001B[0m\u001B[90m┣━━ \u001B[0m📄 model1.joblib                                                                            \n\u001B[90m    \u001B[0m\u001B[90m┣━━ \u001B[0m📄 model2.joblib                                                                            \n\u001B[90m    \u001B[0m\u001B[90m┣━━ \u001B[0m📄 model3.joblib                                                                            \n\u001B[90m    \u001B[0m\u001B[90m┣━━ \u001B[0m📄 model4.joblib                                                                            \n\u001B[90m    \u001B[0m\u001B[90m┗━━ \u001B[0m📄 model5.joblib                                                                            \n",
      "text/html": "<pre style=\"white-space:pre;overflow-x:auto;line-height:normal;font-family:Menlo,'DejaVu Sans Mono',consolas,'Courier New',monospace\">💻 Structure after submitting                                                                       \n<span style=\"color: #808080; text-decoration-color: #808080\">┣━━ </span>📁 data                                                                                         \n<span style=\"color: #808080; text-decoration-color: #808080\">┃   ┗━━ </span>📁 current_round                                                                            \n<span style=\"color: #808080; text-decoration-color: #808080\">┃       ┗━━ </span>📄 numerai_tournament_data.parquet                                                      \n<span style=\"color: #808080; text-decoration-color: #808080\">┣━━ </span>📁 sub_current_round                                                                            \n<span style=\"color: #808080; text-decoration-color: #808080\">┃   ┗━━ </span>📄 MY_MODEL.csv                                                                             \n<span style=\"color: #808080; text-decoration-color: #808080\">┣━━ </span>📄 my_key.json                                                                                  \n<span style=\"color: #808080; text-decoration-color: #808080\">┗━━ </span>📁 dir_with_joblib_models                                                                       \n<span style=\"color: #808080; text-decoration-color: #808080\">    ┣━━ </span>📄 model1.joblib                                                                            \n<span style=\"color: #808080; text-decoration-color: #808080\">    ┣━━ </span>📄 model2.joblib                                                                            \n<span style=\"color: #808080; text-decoration-color: #808080\">    ┣━━ </span>📄 model3.joblib                                                                            \n<span style=\"color: #808080; text-decoration-color: #808080\">    ┣━━ </span>📄 model4.joblib                                                                            \n<span style=\"color: #808080; text-decoration-color: #808080\">    ┗━━ </span>📄 model5.joblib                                                                            \n</pre>\n"
     },
     "metadata": {},
     "output_type": "display_data"
    },
    {
     "data": {
      "text/plain": "<IPython.core.display.Javascript object>",
      "application/javascript": "\n            setTimeout(function() {\n                var nbb_cell_id = 4;\n                var nbb_unformatted_code = \"# hide_input\\nfrom rich.console import Console\\nfrom rich.tree import Tree\\n\\nconsole = Console(record=True, width=100)\\n\\ntree = Tree(\\\":computer: Structure before starting\\\", guide_style=\\\"bold bright_black\\\")\\ntree.add(\\\":page_facing_up: my_key.json\\\")\\nmodel_tree = tree.add(\\\":file_folder: dir_with_joblib_models\\\")\\nmodel_tree.add(\\\":page_facing_up: model1.joblib\\\")\\nmodel_tree.add(\\\":page_facing_up: model2.joblib\\\")\\nmodel_tree.add(\\\":page_facing_up: model3.joblib\\\")\\nmodel_tree.add(\\\":page_facing_up: model4.joblib\\\")\\nmodel_tree.add(\\\":page_facing_up: model5.joblib\\\")\\n\\nconsole.print(tree)\\n\\ntree2 = Tree(\\\":computer: Structure after submitting\\\", guide_style=\\\"bold bright_black\\\")\\ndata_tree = tree2.add(\\\":file_folder: data\\\")\\ncurrent_tree = data_tree.add(\\\":file_folder: current_round\\\")\\ncurrent_tree.add(\\\":page_facing_up: numerai_tournament_data.parquet\\\")\\nsub_tree = tree2.add(\\\":file_folder: sub_current_round\\\")\\nsub_tree.add(\\\":page_facing_up: MY_MODEL.csv\\\")\\ntree2.add(\\\":page_facing_up: my_key.json\\\")\\nmodel_tree = tree2.add(\\\":file_folder: dir_with_joblib_models\\\")\\nmodel_tree.add(\\\":page_facing_up: model1.joblib\\\")\\nmodel_tree.add(\\\":page_facing_up: model2.joblib\\\")\\nmodel_tree.add(\\\":page_facing_up: model3.joblib\\\")\\nmodel_tree.add(\\\":page_facing_up: model4.joblib\\\")\\nmodel_tree.add(\\\":page_facing_up: model5.joblib\\\")\\n\\nconsole.print(tree2)\";\n                var nbb_formatted_code = \"# hide_input\\nfrom rich.console import Console\\nfrom rich.tree import Tree\\n\\nconsole = Console(record=True, width=100)\\n\\ntree = Tree(\\\":computer: Structure before starting\\\", guide_style=\\\"bold bright_black\\\")\\ntree.add(\\\":page_facing_up: my_key.json\\\")\\nmodel_tree = tree.add(\\\":file_folder: dir_with_joblib_models\\\")\\nmodel_tree.add(\\\":page_facing_up: model1.joblib\\\")\\nmodel_tree.add(\\\":page_facing_up: model2.joblib\\\")\\nmodel_tree.add(\\\":page_facing_up: model3.joblib\\\")\\nmodel_tree.add(\\\":page_facing_up: model4.joblib\\\")\\nmodel_tree.add(\\\":page_facing_up: model5.joblib\\\")\\n\\nconsole.print(tree)\\n\\ntree2 = Tree(\\\":computer: Structure after submitting\\\", guide_style=\\\"bold bright_black\\\")\\ndata_tree = tree2.add(\\\":file_folder: data\\\")\\ncurrent_tree = data_tree.add(\\\":file_folder: current_round\\\")\\ncurrent_tree.add(\\\":page_facing_up: numerai_tournament_data.parquet\\\")\\nsub_tree = tree2.add(\\\":file_folder: sub_current_round\\\")\\nsub_tree.add(\\\":page_facing_up: MY_MODEL.csv\\\")\\ntree2.add(\\\":page_facing_up: my_key.json\\\")\\nmodel_tree = tree2.add(\\\":file_folder: dir_with_joblib_models\\\")\\nmodel_tree.add(\\\":page_facing_up: model1.joblib\\\")\\nmodel_tree.add(\\\":page_facing_up: model2.joblib\\\")\\nmodel_tree.add(\\\":page_facing_up: model3.joblib\\\")\\nmodel_tree.add(\\\":page_facing_up: model4.joblib\\\")\\nmodel_tree.add(\\\":page_facing_up: model5.joblib\\\")\\n\\nconsole.print(tree2)\";\n                var nbb_cells = Jupyter.notebook.get_cells();\n                for (var i = 0; i < nbb_cells.length; ++i) {\n                    if (nbb_cells[i].input_prompt_number == nbb_cell_id) {\n                        if (nbb_cells[i].get_text() == nbb_unformatted_code) {\n                             nbb_cells[i].set_text(nbb_formatted_code);\n                        }\n                        break;\n                    }\n                }\n            }, 500);\n            "
     },
     "metadata": {},
     "output_type": "display_data"
    },
    {
     "data": {
      "text/plain": "💻 Structure before starting                                                                        \n\u001B[90m┣━━ \u001B[0m📄 my_key.json                                                                                  \n\u001B[90m┗━━ \u001B[0m📁 dir_with_joblib_models                                                                       \n\u001B[90m    \u001B[0m\u001B[90m┣━━ \u001B[0m📄 model1.joblib                                                                            \n\u001B[90m    \u001B[0m\u001B[90m┣━━ \u001B[0m📄 model2.joblib                                                                            \n\u001B[90m    \u001B[0m\u001B[90m┣━━ \u001B[0m📄 model3.joblib                                                                            \n\u001B[90m    \u001B[0m\u001B[90m┣━━ \u001B[0m📄 model4.joblib                                                                            \n\u001B[90m    \u001B[0m\u001B[90m┗━━ \u001B[0m📄 model5.joblib                                                                            \n",
      "text/html": "<pre style=\"white-space:pre;overflow-x:auto;line-height:normal;font-family:Menlo,'DejaVu Sans Mono',consolas,'Courier New',monospace\">💻 Structure before starting                                                                        \n<span style=\"color: #808080; text-decoration-color: #808080\">┣━━ </span>📄 my_key.json                                                                                  \n<span style=\"color: #808080; text-decoration-color: #808080\">┗━━ </span>📁 dir_with_joblib_models                                                                       \n<span style=\"color: #808080; text-decoration-color: #808080\">    ┣━━ </span>📄 model1.joblib                                                                            \n<span style=\"color: #808080; text-decoration-color: #808080\">    ┣━━ </span>📄 model2.joblib                                                                            \n<span style=\"color: #808080; text-decoration-color: #808080\">    ┣━━ </span>📄 model3.joblib                                                                            \n<span style=\"color: #808080; text-decoration-color: #808080\">    ┣━━ </span>📄 model4.joblib                                                                            \n<span style=\"color: #808080; text-decoration-color: #808080\">    ┗━━ </span>📄 model5.joblib                                                                            \n</pre>\n"
     },
     "metadata": {},
     "output_type": "display_data"
    },
    {
     "data": {
      "text/plain": "💻 Structure after submitting                                                                       \n\u001B[90m┣━━ \u001B[0m📁 data                                                                                         \n\u001B[90m┃   \u001B[0m\u001B[90m┗━━ \u001B[0m📁 current_round                                                                            \n\u001B[90m┃   \u001B[0m\u001B[90m    \u001B[0m\u001B[90m┗━━ \u001B[0m📄 numerai_tournament_data.parquet                                                      \n\u001B[90m┣━━ \u001B[0m📁 sub_current_round                                                                            \n\u001B[90m┃   \u001B[0m\u001B[90m┗━━ \u001B[0m📄 MY_MODEL.csv                                                                             \n\u001B[90m┣━━ \u001B[0m📄 my_key.json                                                                                  \n\u001B[90m┗━━ \u001B[0m📁 dir_with_joblib_models                                                                       \n\u001B[90m    \u001B[0m\u001B[90m┣━━ \u001B[0m📄 model1.joblib                                                                            \n\u001B[90m    \u001B[0m\u001B[90m┣━━ \u001B[0m📄 model2.joblib                                                                            \n\u001B[90m    \u001B[0m\u001B[90m┣━━ \u001B[0m📄 model3.joblib                                                                            \n\u001B[90m    \u001B[0m\u001B[90m┣━━ \u001B[0m📄 model4.joblib                                                                            \n\u001B[90m    \u001B[0m\u001B[90m┗━━ \u001B[0m📄 model5.joblib                                                                            \n",
      "text/html": "<pre style=\"white-space:pre;overflow-x:auto;line-height:normal;font-family:Menlo,'DejaVu Sans Mono',consolas,'Courier New',monospace\">💻 Structure after submitting                                                                       \n<span style=\"color: #808080; text-decoration-color: #808080\">┣━━ </span>📁 data                                                                                         \n<span style=\"color: #808080; text-decoration-color: #808080\">┃   ┗━━ </span>📁 current_round                                                                            \n<span style=\"color: #808080; text-decoration-color: #808080\">┃       ┗━━ </span>📄 numerai_tournament_data.parquet                                                      \n<span style=\"color: #808080; text-decoration-color: #808080\">┣━━ </span>📁 sub_current_round                                                                            \n<span style=\"color: #808080; text-decoration-color: #808080\">┃   ┗━━ </span>📄 MY_MODEL.csv                                                                             \n<span style=\"color: #808080; text-decoration-color: #808080\">┣━━ </span>📄 my_key.json                                                                                  \n<span style=\"color: #808080; text-decoration-color: #808080\">┗━━ </span>📁 dir_with_joblib_models                                                                       \n<span style=\"color: #808080; text-decoration-color: #808080\">    ┣━━ </span>📄 model1.joblib                                                                            \n<span style=\"color: #808080; text-decoration-color: #808080\">    ┣━━ </span>📄 model2.joblib                                                                            \n<span style=\"color: #808080; text-decoration-color: #808080\">    ┣━━ </span>📄 model3.joblib                                                                            \n<span style=\"color: #808080; text-decoration-color: #808080\">    ┣━━ </span>📄 model4.joblib                                                                            \n<span style=\"color: #808080; text-decoration-color: #808080\">    ┗━━ </span>📄 model5.joblib                                                                            \n</pre>\n"
     },
     "metadata": {},
     "output_type": "display_data"
    },
    {
     "data": {
      "text/plain": "<IPython.core.display.Javascript object>",
      "application/javascript": "\n            setTimeout(function() {\n                var nbb_cell_id = 11;\n                var nbb_unformatted_code = \"# hide_input\\nfrom rich.console import Console\\nfrom rich.tree import Tree\\n\\nconsole = Console(record=True, width=100)\\n\\ntree = Tree(\\\":computer: Structure before starting\\\", guide_style=\\\"bold bright_black\\\")\\ntree.add(\\\":page_facing_up: my_key.json\\\")\\nmodel_tree = tree.add(\\\":file_folder: dir_with_joblib_models\\\")\\nmodel_tree.add(\\\":page_facing_up: model1.joblib\\\")\\nmodel_tree.add(\\\":page_facing_up: model2.joblib\\\")\\nmodel_tree.add(\\\":page_facing_up: model3.joblib\\\")\\nmodel_tree.add(\\\":page_facing_up: model4.joblib\\\")\\nmodel_tree.add(\\\":page_facing_up: model5.joblib\\\")\\n\\nconsole.print(tree)\\n\\ntree2 = Tree(\\\":computer: Structure after submitting\\\", guide_style=\\\"bold bright_black\\\")\\ndata_tree = tree2.add(\\\":file_folder: data\\\")\\ncurrent_tree = data_tree.add(\\\":file_folder: current_round\\\")\\ncurrent_tree.add(\\\":page_facing_up: numerai_tournament_data.parquet\\\")\\nsub_tree = tree2.add(\\\":file_folder: sub_current_round\\\")\\nsub_tree.add(\\\":page_facing_up: MY_MODEL.csv\\\")\\ntree2.add(\\\":page_facing_up: my_key.json\\\")\\nmodel_tree = tree2.add(\\\":file_folder: dir_with_joblib_models\\\")\\nmodel_tree.add(\\\":page_facing_up: model1.joblib\\\")\\nmodel_tree.add(\\\":page_facing_up: model2.joblib\\\")\\nmodel_tree.add(\\\":page_facing_up: model3.joblib\\\")\\nmodel_tree.add(\\\":page_facing_up: model4.joblib\\\")\\nmodel_tree.add(\\\":page_facing_up: model5.joblib\\\")\\n\\nconsole.print(tree2)\";\n                var nbb_formatted_code = \"# hide_input\\nfrom rich.console import Console\\nfrom rich.tree import Tree\\n\\nconsole = Console(record=True, width=100)\\n\\ntree = Tree(\\\":computer: Structure before starting\\\", guide_style=\\\"bold bright_black\\\")\\ntree.add(\\\":page_facing_up: my_key.json\\\")\\nmodel_tree = tree.add(\\\":file_folder: dir_with_joblib_models\\\")\\nmodel_tree.add(\\\":page_facing_up: model1.joblib\\\")\\nmodel_tree.add(\\\":page_facing_up: model2.joblib\\\")\\nmodel_tree.add(\\\":page_facing_up: model3.joblib\\\")\\nmodel_tree.add(\\\":page_facing_up: model4.joblib\\\")\\nmodel_tree.add(\\\":page_facing_up: model5.joblib\\\")\\n\\nconsole.print(tree)\\n\\ntree2 = Tree(\\\":computer: Structure after submitting\\\", guide_style=\\\"bold bright_black\\\")\\ndata_tree = tree2.add(\\\":file_folder: data\\\")\\ncurrent_tree = data_tree.add(\\\":file_folder: current_round\\\")\\ncurrent_tree.add(\\\":page_facing_up: numerai_tournament_data.parquet\\\")\\nsub_tree = tree2.add(\\\":file_folder: sub_current_round\\\")\\nsub_tree.add(\\\":page_facing_up: MY_MODEL.csv\\\")\\ntree2.add(\\\":page_facing_up: my_key.json\\\")\\nmodel_tree = tree2.add(\\\":file_folder: dir_with_joblib_models\\\")\\nmodel_tree.add(\\\":page_facing_up: model1.joblib\\\")\\nmodel_tree.add(\\\":page_facing_up: model2.joblib\\\")\\nmodel_tree.add(\\\":page_facing_up: model3.joblib\\\")\\nmodel_tree.add(\\\":page_facing_up: model4.joblib\\\")\\nmodel_tree.add(\\\":page_facing_up: model5.joblib\\\")\\n\\nconsole.print(tree2)\";\n                var nbb_cells = Jupyter.notebook.get_cells();\n                for (var i = 0; i < nbb_cells.length; ++i) {\n                    if (nbb_cells[i].input_prompt_number == nbb_cell_id) {\n                        if (nbb_cells[i].get_text() == nbb_unformatted_code) {\n                             nbb_cells[i].set_text(nbb_formatted_code);\n                        }\n                        break;\n                    }\n                }\n            }, 500);\n            "
     },
     "metadata": {},
     "output_type": "display_data"
    }
   ],
   "source": [
    "# hide_input\n",
    "from rich.console import Console\n",
    "from rich.tree import Tree\n",
    "\n",
    "console = Console(record=True, width=100)\n",
    "\n",
    "tree = Tree(\":computer: Structure before starting\", guide_style=\"bold bright_black\")\n",
    "tree.add(\":page_facing_up: my_key.json\")\n",
    "model_tree = tree.add(\":file_folder: dir_with_joblib_models\")\n",
    "model_tree.add(\":page_facing_up: model1.joblib\")\n",
    "model_tree.add(\":page_facing_up: model2.joblib\")\n",
    "model_tree.add(\":page_facing_up: model3.joblib\")\n",
    "model_tree.add(\":page_facing_up: model4.joblib\")\n",
    "model_tree.add(\":page_facing_up: model5.joblib\")\n",
    "\n",
    "console.print(tree)\n",
    "\n",
    "tree2 = Tree(\":computer: Structure after submitting\", guide_style=\"bold bright_black\")\n",
    "data_tree = tree2.add(\":file_folder: data\")\n",
    "current_tree = data_tree.add(\":file_folder: current_round\")\n",
    "current_tree.add(\":page_facing_up: numerai_tournament_data.parquet\")\n",
    "sub_tree = tree2.add(\":file_folder: sub_current_round\")\n",
    "sub_tree.add(\":page_facing_up: MY_MODEL.csv\")\n",
    "tree2.add(\":page_facing_up: my_key.json\")\n",
    "model_tree = tree2.add(\":file_folder: dir_with_joblib_models\")\n",
    "model_tree.add(\":page_facing_up: model1.joblib\")\n",
    "model_tree.add(\":page_facing_up: model2.joblib\")\n",
    "model_tree.add(\":page_facing_up: model3.joblib\")\n",
    "model_tree.add(\":page_facing_up: model4.joblib\")\n",
    "model_tree.add(\":page_facing_up: model5.joblib\")\n",
    "\n",
    "console.print(tree2)"
   ],
   "metadata": {
    "collapsed": false,
    "pycharm": {
     "name": "#%%\n"
    }
   }
  },
  {
   "cell_type": "markdown",
   "source": [
    "### 2.2.2. Numerai Signals"
   ],
   "metadata": {
    "collapsed": false
   }
  },
  {
   "cell_type": "code",
   "execution_count": 12,
   "outputs": [
    {
     "data": {
      "text/plain": "<IPython.core.display.Javascript object>",
      "application/javascript": "\n            setTimeout(function() {\n                var nbb_cell_id = 5;\n                var nbb_unformatted_code = \"# slow\";\n                var nbb_formatted_code = \"# slow\";\n                var nbb_cells = Jupyter.notebook.get_cells();\n                for (var i = 0; i < nbb_cells.length; ++i) {\n                    if (nbb_cells[i].input_prompt_number == nbb_cell_id) {\n                        if (nbb_cells[i].get_text() == nbb_unformatted_code) {\n                             nbb_cells[i].set_text(nbb_formatted_code);\n                        }\n                        break;\n                    }\n                }\n            }, 500);\n            "
     },
     "metadata": {},
     "output_type": "display_data"
    },
    {
     "data": {
      "text/plain": "<IPython.core.display.Javascript object>",
      "application/javascript": "\n            setTimeout(function() {\n                var nbb_cell_id = 12;\n                var nbb_unformatted_code = \"# slow\";\n                var nbb_formatted_code = \"# slow\";\n                var nbb_cells = Jupyter.notebook.get_cells();\n                for (var i = 0; i < nbb_cells.length; ++i) {\n                    if (nbb_cells[i].input_prompt_number == nbb_cell_id) {\n                        if (nbb_cells[i].get_text() == nbb_unformatted_code) {\n                             nbb_cells[i].set_text(nbb_formatted_code);\n                        }\n                        break;\n                    }\n                }\n            }, 500);\n            "
     },
     "metadata": {},
     "output_type": "display_data"
    }
   ],
   "source": [
    "# slow"
   ],
   "metadata": {
    "collapsed": false,
    "pycharm": {
     "name": "#%%\n"
    }
   }
  },
  {
   "cell_type": "markdown",
   "metadata": {},
   "source": [
    "## Contributing"
   ]
  },
  {
   "cell_type": "markdown",
   "metadata": {},
   "source": [
    "After you clone this repository, please run `nbdev_install_git_hooks` in your terminal. This sets up git hooks, which clean up the notebooks to remove the extraneous stuff stored in the notebooks (e.g. which cells you ran) which causes unnecessary merge conflicts."
   ]
  },
  {
   "cell_type": "markdown",
   "metadata": {},
   "source": [
    "### Branch structure\n"
   ]
  },
  {
   "cell_type": "code",
   "execution_count": 13,
   "metadata": {},
   "outputs": [
    {
     "data": {
      "text/plain": "Branch structure                                                                                    \n\u001B[90m┗━━ \u001B[0m📦 main (release)                                                                               \n\u001B[90m    \u001B[0m\u001B[90m┗━━ \u001B[0m👨‍💻 dev                                                                                    \n\u001B[90m    \u001B[0m\u001B[90m    \u001B[0m\u001B[90m┣━━ \u001B[0m✨ feature/1                                                                            \n\u001B[90m    \u001B[0m\u001B[90m    \u001B[0m\u001B[90m┣━━ \u001B[0m✨ feature/2                                                                            \n\u001B[90m    \u001B[0m\u001B[90m    \u001B[0m\u001B[90m┗━━ \u001B[0m✨ feature/3                                                                            \n",
      "text/html": "<pre style=\"white-space:pre;overflow-x:auto;line-height:normal;font-family:Menlo,'DejaVu Sans Mono',consolas,'Courier New',monospace\">Branch structure                                                                                    \n<span style=\"color: #808080; text-decoration-color: #808080\">┗━━ </span>📦 main (release)                                                                               \n<span style=\"color: #808080; text-decoration-color: #808080\">    ┗━━ </span>👨‍💻 dev                                                                                    \n<span style=\"color: #808080; text-decoration-color: #808080\">        ┣━━ </span>✨ feature/1                                                                            \n<span style=\"color: #808080; text-decoration-color: #808080\">        ┣━━ </span>✨ feature/2                                                                            \n<span style=\"color: #808080; text-decoration-color: #808080\">        ┗━━ </span>✨ feature/3                                                                            \n</pre>\n"
     },
     "metadata": {},
     "output_type": "display_data"
    },
    {
     "data": {
      "text/plain": "<IPython.core.display.Javascript object>",
      "application/javascript": "\n            setTimeout(function() {\n                var nbb_cell_id = 6;\n                var nbb_unformatted_code = \"# hide_input\\nconsole = Console(record=True, width=100)\\n\\ntree = Tree(\\\"Branch structure\\\", guide_style=\\\"bold bright_black\\\")\\n\\nmain_tree = tree.add(\\\"\\ud83d\\udce6 main (release)\\\", guide_style=\\\"bright_black\\\")\\ndev_tree = main_tree.add(\\\"\\ud83d\\udc68\\u200d\\ud83d\\udcbb dev\\\")\\nfeature_tree = dev_tree.add(\\\":sparkles: feature/1\\\")\\ndev_tree.add(\\\":sparkles: feature/2\\\")\\ndev_tree.add(\\\":sparkles: feature/3\\\")\\n\\nconsole.print(tree)\";\n                var nbb_formatted_code = \"# hide_input\\nconsole = Console(record=True, width=100)\\n\\ntree = Tree(\\\"Branch structure\\\", guide_style=\\\"bold bright_black\\\")\\n\\nmain_tree = tree.add(\\\"\\ud83d\\udce6 main (release)\\\", guide_style=\\\"bright_black\\\")\\ndev_tree = main_tree.add(\\\"\\ud83d\\udc68\\u200d\\ud83d\\udcbb dev\\\")\\nfeature_tree = dev_tree.add(\\\":sparkles: feature/1\\\")\\ndev_tree.add(\\\":sparkles: feature/2\\\")\\ndev_tree.add(\\\":sparkles: feature/3\\\")\\n\\nconsole.print(tree)\";\n                var nbb_cells = Jupyter.notebook.get_cells();\n                for (var i = 0; i < nbb_cells.length; ++i) {\n                    if (nbb_cells[i].input_prompt_number == nbb_cell_id) {\n                        if (nbb_cells[i].get_text() == nbb_unformatted_code) {\n                             nbb_cells[i].set_text(nbb_formatted_code);\n                        }\n                        break;\n                    }\n                }\n            }, 500);\n            "
     },
     "metadata": {},
     "output_type": "display_data"
    },
    {
     "data": {
      "text/plain": "Branch structure                                                                                    \n\u001B[90m┗━━ \u001B[0m📦 main (release)                                                                               \n\u001B[90m    \u001B[0m\u001B[90m┗━━ \u001B[0m👨‍💻 dev                                                                                    \n\u001B[90m    \u001B[0m\u001B[90m    \u001B[0m\u001B[90m┣━━ \u001B[0m✨ feature/1                                                                            \n\u001B[90m    \u001B[0m\u001B[90m    \u001B[0m\u001B[90m┣━━ \u001B[0m✨ feature/2                                                                            \n\u001B[90m    \u001B[0m\u001B[90m    \u001B[0m\u001B[90m┗━━ \u001B[0m✨ feature/3                                                                            \n",
      "text/html": "<pre style=\"white-space:pre;overflow-x:auto;line-height:normal;font-family:Menlo,'DejaVu Sans Mono',consolas,'Courier New',monospace\">Branch structure                                                                                    \n<span style=\"color: #808080; text-decoration-color: #808080\">┗━━ </span>📦 main (release)                                                                               \n<span style=\"color: #808080; text-decoration-color: #808080\">    ┗━━ </span>👨‍💻 dev                                                                                    \n<span style=\"color: #808080; text-decoration-color: #808080\">        ┣━━ </span>✨ feature/1                                                                            \n<span style=\"color: #808080; text-decoration-color: #808080\">        ┣━━ </span>✨ feature/2                                                                            \n<span style=\"color: #808080; text-decoration-color: #808080\">        ┗━━ </span>✨ feature/3                                                                            \n</pre>\n"
     },
     "metadata": {},
     "output_type": "display_data"
    },
    {
     "data": {
      "text/plain": "<IPython.core.display.Javascript object>",
      "application/javascript": "\n            setTimeout(function() {\n                var nbb_cell_id = 13;\n                var nbb_unformatted_code = \"# hide_input\\nconsole = Console(record=True, width=100)\\n\\ntree = Tree(\\\"Branch structure\\\", guide_style=\\\"bold bright_black\\\")\\n\\nmain_tree = tree.add(\\\"\\ud83d\\udce6 main (release)\\\", guide_style=\\\"bright_black\\\")\\ndev_tree = main_tree.add(\\\"\\ud83d\\udc68\\u200d\\ud83d\\udcbb dev\\\")\\nfeature_tree = dev_tree.add(\\\":sparkles: feature/1\\\")\\ndev_tree.add(\\\":sparkles: feature/2\\\")\\ndev_tree.add(\\\":sparkles: feature/3\\\")\\n\\nconsole.print(tree)\";\n                var nbb_formatted_code = \"# hide_input\\nconsole = Console(record=True, width=100)\\n\\ntree = Tree(\\\"Branch structure\\\", guide_style=\\\"bold bright_black\\\")\\n\\nmain_tree = tree.add(\\\"\\ud83d\\udce6 main (release)\\\", guide_style=\\\"bright_black\\\")\\ndev_tree = main_tree.add(\\\"\\ud83d\\udc68\\u200d\\ud83d\\udcbb dev\\\")\\nfeature_tree = dev_tree.add(\\\":sparkles: feature/1\\\")\\ndev_tree.add(\\\":sparkles: feature/2\\\")\\ndev_tree.add(\\\":sparkles: feature/3\\\")\\n\\nconsole.print(tree)\";\n                var nbb_cells = Jupyter.notebook.get_cells();\n                for (var i = 0; i < nbb_cells.length; ++i) {\n                    if (nbb_cells[i].input_prompt_number == nbb_cell_id) {\n                        if (nbb_cells[i].get_text() == nbb_unformatted_code) {\n                             nbb_cells[i].set_text(nbb_formatted_code);\n                        }\n                        break;\n                    }\n                }\n            }, 500);\n            "
     },
     "metadata": {},
     "output_type": "display_data"
    }
   ],
   "source": [
    "# hide_input\n",
    "console = Console(record=True, width=100)\n",
    "\n",
    "tree = Tree(\"Branch structure\", guide_style=\"bold bright_black\")\n",
    "\n",
    "main_tree = tree.add(\"📦 main (release)\", guide_style=\"bright_black\")\n",
    "dev_tree = main_tree.add(\"👨‍💻 dev\")\n",
    "feature_tree = dev_tree.add(\":sparkles: feature/1\")\n",
    "dev_tree.add(\":sparkles: feature/2\")\n",
    "dev_tree.add(\":sparkles: feature/3\")\n",
    "\n",
    "console.print(tree)"
   ]
  },
  {
   "cell_type": "markdown",
   "metadata": {},
   "source": []
  },
  {
   "cell_type": "code",
   "execution_count": 14,
   "metadata": {},
   "outputs": [
    {
     "name": "stdout",
     "output_type": "stream",
     "text": [
      "Converted 01_download.ipynb.\n",
      "Converted 02_dataset.ipynb.\n",
      "Converted 03_preprocessing.ipynb.\n",
      "Converted 04_model.ipynb.\n",
      "Converted 05_postprocessing.ipynb.\n",
      "Converted 06_modelpipeline.ipynb.\n",
      "Converted 07_evaluation.ipynb.\n",
      "Converted 08_key.ipynb.\n",
      "Converted 09_submission.ipynb.\n",
      "Converted 10_staking.ipynb.\n",
      "Converted index.ipynb.\n"
     ]
    },
    {
     "data": {
      "text/plain": "<IPython.core.display.Javascript object>",
      "application/javascript": "\n            setTimeout(function() {\n                var nbb_cell_id = 7;\n                var nbb_unformatted_code = \"# hide\\n# Run this cell to sync all changes with library\\nfrom nbdev.export import notebook2script\\n\\nnotebook2script()\";\n                var nbb_formatted_code = \"# hide\\n# Run this cell to sync all changes with library\\nfrom nbdev.export import notebook2script\\n\\nnotebook2script()\";\n                var nbb_cells = Jupyter.notebook.get_cells();\n                for (var i = 0; i < nbb_cells.length; ++i) {\n                    if (nbb_cells[i].input_prompt_number == nbb_cell_id) {\n                        if (nbb_cells[i].get_text() == nbb_unformatted_code) {\n                             nbb_cells[i].set_text(nbb_formatted_code);\n                        }\n                        break;\n                    }\n                }\n            }, 500);\n            "
     },
     "metadata": {},
     "output_type": "display_data"
    },
    {
     "name": "stdout",
     "output_type": "stream",
     "text": [
      "Converted 01_download.ipynb.\n",
      "Converted 02_dataset.ipynb.\n",
      "Converted 03_preprocessing.ipynb.\n",
      "Converted 04_model.ipynb.\n",
      "Converted 05_postprocessing.ipynb.\n",
      "Converted 06_modelpipeline.ipynb.\n",
      "Converted 07_evaluation.ipynb.\n",
      "Converted 08_key.ipynb.\n",
      "Converted 09_submission.ipynb.\n",
      "Converted 10_staking.ipynb.\n",
      "Converted index.ipynb.\n"
     ]
    },
    {
     "data": {
      "text/plain": "<IPython.core.display.Javascript object>",
      "application/javascript": "\n            setTimeout(function() {\n                var nbb_cell_id = 14;\n                var nbb_unformatted_code = \"# hide\\n# Run this cell to sync all changes with library\\nfrom nbdev.export import notebook2script\\n\\nnotebook2script()\";\n                var nbb_formatted_code = \"# hide\\n# Run this cell to sync all changes with library\\nfrom nbdev.export import notebook2script\\n\\nnotebook2script()\";\n                var nbb_cells = Jupyter.notebook.get_cells();\n                for (var i = 0; i < nbb_cells.length; ++i) {\n                    if (nbb_cells[i].input_prompt_number == nbb_cell_id) {\n                        if (nbb_cells[i].get_text() == nbb_unformatted_code) {\n                             nbb_cells[i].set_text(nbb_formatted_code);\n                        }\n                        break;\n                    }\n                }\n            }, 500);\n            "
     },
     "metadata": {},
     "output_type": "display_data"
    }
   ],
   "source": [
    "# hide\n",
    "# Run this cell to sync all changes with library\n",
    "from nbdev.export import notebook2script\n",
    "\n",
    "notebook2script()"
   ]
  }
 ],
 "metadata": {
  "kernelspec": {
   "display_name": "Python 3",
   "language": "python",
   "name": "python3"
  }
 },
 "nbformat": 4,
 "nbformat_minor": 2
}