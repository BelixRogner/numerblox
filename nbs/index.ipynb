{
 "cells": [
  {
   "cell_type": "code",
   "execution_count": null,
   "metadata": {},
   "outputs": [],
   "source": [
    "%load_ext autoreload\n",
    "%autoreload 2"
   ]
  },
  {
   "cell_type": "code",
   "execution_count": null,
   "metadata": {},
   "outputs": [],
   "source": [
    "#hide\n",
    "from numerai_blocks import *"
   ]
  },
  {
   "cell_type": "markdown",
   "metadata": {},
   "source": [
    "# Numerai Blocks\n",
    "\n",
    "> Tools for solid Numerai pipelines"
   ]
  },
  {
   "cell_type": "markdown",
   "metadata": {},
   "source": []
  },
  {
   "cell_type": "markdown",
   "metadata": {},
   "source": [
    "## Install"
   ]
  },
  {
   "cell_type": "markdown",
   "metadata": {},
   "source": [
    "`pip install numerai-blocks`"
   ]
  },
  {
   "cell_type": "markdown",
   "metadata": {},
   "source": [
    "## How to use"
   ]
  },
  {
   "cell_type": "markdown",
   "metadata": {},
   "source": [
    "Development notebooks are in the `nbs` directory. Example and educational notebooks can be found in the `edu_nbs` directory."
   ]
  },
  {
   "cell_type": "markdown",
   "metadata": {},
   "source": [
    "- Downloaders\n",
    "- Dataloaders\n",
    "- Dataset objects (with arbitrary metadata)\n",
    "- Preprocessing\n",
    "- Model\n",
    "- ModelPipeline and ModelPipelineCollection (Or FeatureUnion??)\n",
    "- Postprocessing\n",
    "- Prediction dataset (with arbitrary metadata)\n",
    "- Evaluators\n",
    "- Key (containing authentication info)\n",
    "- Submittors"
   ]
  },
  {
   "cell_type": "code",
   "execution_count": null,
   "metadata": {},
   "outputs": [
    {
     "data": {
      "text/plain": [
       "2"
      ]
     },
     "execution_count": null,
     "metadata": {},
     "output_type": "execute_result"
    }
   ],
   "source": [
    "1+1"
   ]
  },
  {
   "cell_type": "code",
   "execution_count": null,
   "metadata": {},
   "outputs": [
    {
     "name": "stdout",
     "output_type": "stream",
     "text": [
      "649ce02a-6fb4-4b1f-8375-d3b46ed391c9\n"
     ]
    }
   ],
   "source": [
    "import uuid\n",
    "print(uuid.uuid4())"
   ]
  },
  {
   "cell_type": "markdown",
   "metadata": {},
   "source": [
    "## Contributing"
   ]
  },
  {
   "cell_type": "markdown",
   "metadata": {},
   "source": [
    "After you clone this repository, please run `nbdev_install_git_hooks` in your terminal. This sets up git hooks, which clean up the notebooks to remove the extraneous stuff stored in the notebooks (e.g. which cells you ran) which causes unnecessary merge conflicts."
   ]
  },
  {
   "cell_type": "markdown",
   "metadata": {},
   "source": [
    "### Branch structure\n"
   ]
  },
  {
   "cell_type": "code",
   "execution_count": null,
   "metadata": {},
   "outputs": [
    {
     "data": {
      "text/html": "<pre style=\"white-space:pre;overflow-x:auto;line-height:normal;font-family:Menlo,'DejaVu Sans Mono',consolas,'Courier New',monospace\">Brranch structure                                                                                   \n<span style=\"color: #808080; text-decoration-color: #808080\">┗━━ </span>📦 main (release)                                                                               \n<span style=\"color: #808080; text-decoration-color: #808080\">    ┗━━ </span>👨‍💻 dev                                                                                    \n<span style=\"color: #808080; text-decoration-color: #808080\">        ┣━━ </span>✨ feature/1                                                                            \n<span style=\"color: #808080; text-decoration-color: #808080\">        ┣━━ </span>✨ feature/2                                                                            \n<span style=\"color: #808080; text-decoration-color: #808080\">        ┗━━ </span>✨ feature/3                                                                            \n</pre>\n",
      "text/plain": "Brranch structure                                                                                   \n\u001b[90m┗━━ \u001b[0m📦 main (release)                                                                               \n\u001b[90m    \u001b[0m\u001b[90m┗━━ \u001b[0m👨‍💻 dev                                                                                    \n\u001b[90m    \u001b[0m\u001b[90m    \u001b[0m\u001b[90m┣━━ \u001b[0m✨ feature/1                                                                            \n\u001b[90m    \u001b[0m\u001b[90m    \u001b[0m\u001b[90m┣━━ \u001b[0m✨ feature/2                                                                            \n\u001b[90m    \u001b[0m\u001b[90m    \u001b[0m\u001b[90m┗━━ \u001b[0m✨ feature/3                                                                            \n"
     },
     "metadata": {},
     "output_type": "display_data"
    }
   ],
   "source": [
    "#hide_input\n",
    "from rich.console import Console\n",
    "from rich.tree import Tree\n",
    "\n",
    "console = Console(record=True, width=100)\n",
    "\n",
    "tree = Tree(\"Branch structure\", guide_style=\"bold bright_black\")\n",
    "\n",
    "main_tree = tree.add(\"📦 main (release)\", guide_style=\"bright_black\")\n",
    "dev_tree = main_tree.add(\"👨‍💻 dev\")\n",
    "feature_tree = dev_tree.add(\":sparkles: feature/1\")\n",
    "dev_tree.add(\":sparkles: feature/2\")\n",
    "dev_tree.add(\":sparkles: feature/3\")\n",
    "\n",
    "console.print(tree)"
   ]
  },
  {
   "cell_type": "markdown",
   "metadata": {},
   "source": []
  },
  {
   "cell_type": "code",
   "execution_count": null,
   "metadata": {},
   "outputs": [],
   "source": [
    "#hide\n",
    "# Run this cell to sync all changes with library\n",
    "from nbdev.export import notebook2script; notebook2script()"
   ]
  }
 ],
 "metadata": {
  "kernelspec": {
   "display_name": "Python 3",
   "language": "python",
   "name": "python3"
  }
 },
 "nbformat": 4,
 "nbformat_minor": 2
}
