{
 "cells": [
  {
   "cell_type": "code",
   "execution_count": 1,
   "metadata": {},
   "outputs": [
    {
     "data": {
      "text/plain": "<IPython.core.display.Javascript object>",
      "application/javascript": "\n            setTimeout(function() {\n                var nbb_cell_id = 1;\n                var nbb_unformatted_code = \"%load_ext autoreload\\n%autoreload 2\\n%load_ext nb_black\\n%load_ext lab_black\";\n                var nbb_formatted_code = \"%load_ext autoreload\\n%autoreload 2\\n%load_ext nb_black\\n%load_ext lab_black\";\n                var nbb_cells = Jupyter.notebook.get_cells();\n                for (var i = 0; i < nbb_cells.length; ++i) {\n                    if (nbb_cells[i].input_prompt_number == nbb_cell_id) {\n                        if (nbb_cells[i].get_text() == nbb_unformatted_code) {\n                             nbb_cells[i].set_text(nbb_formatted_code);\n                        }\n                        break;\n                    }\n                }\n            }, 500);\n            "
     },
     "metadata": {},
     "output_type": "display_data"
    }
   ],
   "source": [
    "%load_ext autoreload\n",
    "%autoreload 2\n",
    "%load_ext nb_black\n",
    "%load_ext lab_black"
   ]
  },
  {
   "cell_type": "code",
   "execution_count": 2,
   "metadata": {},
   "outputs": [
    {
     "data": {
      "text/plain": "<IPython.core.display.Javascript object>",
      "application/javascript": "\n            setTimeout(function() {\n                var nbb_cell_id = 2;\n                var nbb_unformatted_code = \"# default_exp submission\";\n                var nbb_formatted_code = \"# default_exp submission\";\n                var nbb_cells = Jupyter.notebook.get_cells();\n                for (var i = 0; i < nbb_cells.length; ++i) {\n                    if (nbb_cells[i].input_prompt_number == nbb_cell_id) {\n                        if (nbb_cells[i].get_text() == nbb_unformatted_code) {\n                             nbb_cells[i].set_text(nbb_formatted_code);\n                        }\n                        break;\n                    }\n                }\n            }, 500);\n            "
     },
     "metadata": {},
     "output_type": "display_data"
    }
   ],
   "source": [
    "# default_exp submission"
   ]
  },
  {
   "cell_type": "markdown",
   "metadata": {},
   "source": [
    "# Submission"
   ]
  },
  {
   "cell_type": "code",
   "execution_count": 3,
   "metadata": {},
   "outputs": [
    {
     "data": {
      "text/plain": "<IPython.core.display.Javascript object>",
      "application/javascript": "\n            setTimeout(function() {\n                var nbb_cell_id = 3;\n                var nbb_unformatted_code = \"# hide\\nfrom nbdev.showdoc import *\";\n                var nbb_formatted_code = \"# hide\\nfrom nbdev.showdoc import *\";\n                var nbb_cells = Jupyter.notebook.get_cells();\n                for (var i = 0; i < nbb_cells.length; ++i) {\n                    if (nbb_cells[i].input_prompt_number == nbb_cell_id) {\n                        if (nbb_cells[i].get_text() == nbb_unformatted_code) {\n                             nbb_cells[i].set_text(nbb_formatted_code);\n                        }\n                        break;\n                    }\n                }\n            }, 500);\n            "
     },
     "metadata": {},
     "output_type": "display_data"
    }
   ],
   "source": [
    "# hide\n",
    "from nbdev.showdoc import *"
   ]
  },
  {
   "cell_type": "code",
   "execution_count": 4,
   "metadata": {},
   "outputs": [
    {
     "data": {
      "text/plain": "<IPython.core.display.Javascript object>",
      "application/javascript": "\n            setTimeout(function() {\n                var nbb_cell_id = 4;\n                var nbb_unformatted_code = \"# export\\nimport os\\nimport uuid\\nimport numpy as np\\nimport pandas as pd\\nfrom typing import Union\\nfrom copy import deepcopy\\nfrom random import choices\\nfrom datetime import datetime\\nfrom abc import abstractmethod\\nfrom typeguard import typechecked\\nfrom string import ascii_uppercase\\nfrom rich import print as rich_print\\nfrom numerapi import NumerAPI, SignalsAPI\\nfrom dateutil.relativedelta import relativedelta, FR\\n\\nfrom numerai_blocks.numerframe import NumerFrame\\nfrom numerai_blocks.download import BaseIO\\nfrom numerai_blocks.key import Key\";\n                var nbb_formatted_code = \"# export\\nimport os\\nimport uuid\\nimport numpy as np\\nimport pandas as pd\\nfrom typing import Union\\nfrom copy import deepcopy\\nfrom random import choices\\nfrom datetime import datetime\\nfrom abc import abstractmethod\\nfrom typeguard import typechecked\\nfrom string import ascii_uppercase\\nfrom rich import print as rich_print\\nfrom numerapi import NumerAPI, SignalsAPI\\nfrom dateutil.relativedelta import relativedelta, FR\\n\\nfrom numerai_blocks.numerframe import NumerFrame\\nfrom numerai_blocks.download import BaseIO\\nfrom numerai_blocks.key import Key\";\n                var nbb_cells = Jupyter.notebook.get_cells();\n                for (var i = 0; i < nbb_cells.length; ++i) {\n                    if (nbb_cells[i].input_prompt_number == nbb_cell_id) {\n                        if (nbb_cells[i].get_text() == nbb_unformatted_code) {\n                             nbb_cells[i].set_text(nbb_formatted_code);\n                        }\n                        break;\n                    }\n                }\n            }, 500);\n            "
     },
     "metadata": {},
     "output_type": "display_data"
    }
   ],
   "source": [
    "# export\n",
    "import os\n",
    "import uuid\n",
    "import numpy as np\n",
    "import pandas as pd\n",
    "from typing import Union\n",
    "from copy import deepcopy\n",
    "from random import choices\n",
    "from datetime import datetime\n",
    "from abc import abstractmethod\n",
    "from typeguard import typechecked\n",
    "from string import ascii_uppercase\n",
    "from rich import print as rich_print\n",
    "from numerapi import NumerAPI, SignalsAPI\n",
    "from dateutil.relativedelta import relativedelta, FR\n",
    "\n",
    "from numerai_blocks.numerframe import NumerFrame\n",
    "from numerai_blocks.download import BaseIO\n",
    "from numerai_blocks.key import Key"
   ]
  },
  {
   "cell_type": "markdown",
   "metadata": {},
   "source": [
    "## 1. Base"
   ]
  },
  {
   "cell_type": "code",
   "execution_count": 5,
   "metadata": {},
   "outputs": [
    {
     "data": {
      "text/plain": "<IPython.core.display.Javascript object>",
      "application/javascript": "\n            setTimeout(function() {\n                var nbb_cell_id = 5;\n                var nbb_unformatted_code = \"# export\\n@typechecked\\nclass BaseSubmittor(BaseIO):\\n    def __init__(self, directory_path: str, api: Union[NumerAPI, SignalsAPI]):\\n        super().__init__(directory_path)\\n        self.api = api\\n\\n    @abstractmethod\\n    def save_csv(\\n        self,\\n        dataf: Union[pd.DataFrame, NumerFrame],\\n        file_name: str,\\n        cols: Union[str, list],\\n        *args,\\n        **kwargs,\\n    ):\\n        \\\"\\\"\\\"\\n        For Numerai Classic: Save index column + 'cols' (targets) to CSV.\\n        For Numerai Signals: Save ticker, friday_date, data_type and signal columns to CSV.\\n        \\\"\\\"\\\"\\n        ...\\n\\n    def upload_predictions(self, file_name: str, model_name: str, *args, **kwargs):\\n        \\\"\\\"\\\"\\n        Upload CSV file to Numerai for given model name.\\n        :param file_name: File name/path relative to directory_path.\\n        :param model_name: Lowercase raw model name (For example, 'integration_test').\\n        \\\"\\\"\\\"\\n        full_path = str(self.dir / file_name)\\n        model_id = self._get_model_id(model_name=model_name)\\n        api_type = str(self.api.__class__.__name__)\\n        rich_print(\\n            f\\\":airplane: {api_type}: Uploading predictions from '{full_path}' for model [bold blue]'{model_name}'[/bold blue] (model_id='{model_id}') :airplane:\\\"\\n        )\\n        self.api.upload_predictions(\\n            file_path=full_path, model_id=model_id, *args, **kwargs\\n        )\\n        rich_print(\\n            f\\\":thumbs_up: {api_type} submission of '{full_path}' for [bold blue]{model_name}[/bold blue] is successful! :thumbs_up:\\\"\\n        )\\n\\n    def full_submission(\\n        self,\\n        dataf: Union[pd.DataFrame, NumerFrame],\\n        file_name: str,\\n        model_name: str,\\n        cols: Union[str, list],\\n        *args,\\n        **kwargs,\\n    ):\\n        \\\"\\\"\\\"\\n        Save DataFrame to csv and upload predictions through API.\\n        *args, **kwargs are passed to numerapi API.\\n        \\\"\\\"\\\"\\n        self.save_csv(dataf=dataf, file_name=file_name, cols=cols)\\n        self.upload_predictions(\\n            file_name=file_name, model_name=model_name, *args, **kwargs\\n        )\\n\\n    def __call__(\\n        self,\\n        dataf: Union[pd.DataFrame, NumerFrame],\\n        file_name: str,\\n        model_name: str,\\n        cols: Union[str, list],\\n        *args,\\n        **kwargs,\\n    ):\\n        \\\"\\\"\\\"\\n        The most common use case will be to create a CSV and submit it immediately after that.\\n        full_submission handles this.\\n        \\\"\\\"\\\"\\n        self.full_submission(\\n            dataf=dataf,\\n            file_name=file_name,\\n            model_name=model_name,\\n            cols=cols,\\n            *args,\\n            **kwargs,\\n        )\\n\\n    def _get_model_id(self, model_name: str) -> str:\\n        \\\"\\\"\\\"Get ID needed for prediction uploading.\\\"\\\"\\\"\\n        return self.get_model_mapping[model_name]\\n\\n    @property\\n    def get_model_mapping(self) -> dict:\\n        \\\"\\\"\\\"Mapping between raw model names and model IDs.\\\"\\\"\\\"\\n        return self.api.get_models()\";\n                var nbb_formatted_code = \"# export\\n@typechecked\\nclass BaseSubmittor(BaseIO):\\n    def __init__(self, directory_path: str, api: Union[NumerAPI, SignalsAPI]):\\n        super().__init__(directory_path)\\n        self.api = api\\n\\n    @abstractmethod\\n    def save_csv(\\n        self,\\n        dataf: Union[pd.DataFrame, NumerFrame],\\n        file_name: str,\\n        cols: Union[str, list],\\n        *args,\\n        **kwargs,\\n    ):\\n        \\\"\\\"\\\"\\n        For Numerai Classic: Save index column + 'cols' (targets) to CSV.\\n        For Numerai Signals: Save ticker, friday_date, data_type and signal columns to CSV.\\n        \\\"\\\"\\\"\\n        ...\\n\\n    def upload_predictions(self, file_name: str, model_name: str, *args, **kwargs):\\n        \\\"\\\"\\\"\\n        Upload CSV file to Numerai for given model name.\\n        :param file_name: File name/path relative to directory_path.\\n        :param model_name: Lowercase raw model name (For example, 'integration_test').\\n        \\\"\\\"\\\"\\n        full_path = str(self.dir / file_name)\\n        model_id = self._get_model_id(model_name=model_name)\\n        api_type = str(self.api.__class__.__name__)\\n        rich_print(\\n            f\\\":airplane: {api_type}: Uploading predictions from '{full_path}' for model [bold blue]'{model_name}'[/bold blue] (model_id='{model_id}') :airplane:\\\"\\n        )\\n        self.api.upload_predictions(\\n            file_path=full_path, model_id=model_id, *args, **kwargs\\n        )\\n        rich_print(\\n            f\\\":thumbs_up: {api_type} submission of '{full_path}' for [bold blue]{model_name}[/bold blue] is successful! :thumbs_up:\\\"\\n        )\\n\\n    def full_submission(\\n        self,\\n        dataf: Union[pd.DataFrame, NumerFrame],\\n        file_name: str,\\n        model_name: str,\\n        cols: Union[str, list],\\n        *args,\\n        **kwargs,\\n    ):\\n        \\\"\\\"\\\"\\n        Save DataFrame to csv and upload predictions through API.\\n        *args, **kwargs are passed to numerapi API.\\n        \\\"\\\"\\\"\\n        self.save_csv(dataf=dataf, file_name=file_name, cols=cols)\\n        self.upload_predictions(\\n            file_name=file_name, model_name=model_name, *args, **kwargs\\n        )\\n\\n    def __call__(\\n        self,\\n        dataf: Union[pd.DataFrame, NumerFrame],\\n        file_name: str,\\n        model_name: str,\\n        cols: Union[str, list],\\n        *args,\\n        **kwargs,\\n    ):\\n        \\\"\\\"\\\"\\n        The most common use case will be to create a CSV and submit it immediately after that.\\n        full_submission handles this.\\n        \\\"\\\"\\\"\\n        self.full_submission(\\n            dataf=dataf,\\n            file_name=file_name,\\n            model_name=model_name,\\n            cols=cols,\\n            *args,\\n            **kwargs,\\n        )\\n\\n    def _get_model_id(self, model_name: str) -> str:\\n        \\\"\\\"\\\"Get ID needed for prediction uploading.\\\"\\\"\\\"\\n        return self.get_model_mapping[model_name]\\n\\n    @property\\n    def get_model_mapping(self) -> dict:\\n        \\\"\\\"\\\"Mapping between raw model names and model IDs.\\\"\\\"\\\"\\n        return self.api.get_models()\";\n                var nbb_cells = Jupyter.notebook.get_cells();\n                for (var i = 0; i < nbb_cells.length; ++i) {\n                    if (nbb_cells[i].input_prompt_number == nbb_cell_id) {\n                        if (nbb_cells[i].get_text() == nbb_unformatted_code) {\n                             nbb_cells[i].set_text(nbb_formatted_code);\n                        }\n                        break;\n                    }\n                }\n            }, 500);\n            "
     },
     "metadata": {},
     "output_type": "display_data"
    }
   ],
   "source": [
    "# export\n",
    "@typechecked\n",
    "class BaseSubmittor(BaseIO):\n",
    "    def __init__(self, directory_path: str, api: Union[NumerAPI, SignalsAPI]):\n",
    "        super().__init__(directory_path)\n",
    "        self.api = api\n",
    "\n",
    "    @abstractmethod\n",
    "    def save_csv(\n",
    "        self,\n",
    "        dataf: Union[pd.DataFrame, NumerFrame],\n",
    "        file_name: str,\n",
    "        cols: Union[str, list],\n",
    "        *args,\n",
    "        **kwargs,\n",
    "    ):\n",
    "        \"\"\"\n",
    "        For Numerai Classic: Save index column + 'cols' (targets) to CSV.\n",
    "        For Numerai Signals: Save ticker, friday_date, data_type and signal columns to CSV.\n",
    "        \"\"\"\n",
    "        ...\n",
    "\n",
    "    def upload_predictions(self, file_name: str, model_name: str, *args, **kwargs):\n",
    "        \"\"\"\n",
    "        Upload CSV file to Numerai for given model name.\n",
    "        :param file_name: File name/path relative to directory_path.\n",
    "        :param model_name: Lowercase raw model name (For example, 'integration_test').\n",
    "        \"\"\"\n",
    "        full_path = str(self.dir / file_name)\n",
    "        model_id = self._get_model_id(model_name=model_name)\n",
    "        api_type = str(self.api.__class__.__name__)\n",
    "        rich_print(\n",
    "            f\":airplane: {api_type}: Uploading predictions from '{full_path}' for model [bold blue]'{model_name}'[/bold blue] (model_id='{model_id}') :airplane:\"\n",
    "        )\n",
    "        self.api.upload_predictions(\n",
    "            file_path=full_path, model_id=model_id, *args, **kwargs\n",
    "        )\n",
    "        rich_print(\n",
    "            f\":thumbs_up: {api_type} submission of '{full_path}' for [bold blue]{model_name}[/bold blue] is successful! :thumbs_up:\"\n",
    "        )\n",
    "\n",
    "    def full_submission(\n",
    "        self,\n",
    "        dataf: Union[pd.DataFrame, NumerFrame],\n",
    "        file_name: str,\n",
    "        model_name: str,\n",
    "        cols: Union[str, list],\n",
    "        *args,\n",
    "        **kwargs,\n",
    "    ):\n",
    "        \"\"\"\n",
    "        Save DataFrame to csv and upload predictions through API.\n",
    "        *args, **kwargs are passed to numerapi API.\n",
    "        \"\"\"\n",
    "        self.save_csv(dataf=dataf, file_name=file_name, cols=cols)\n",
    "        self.upload_predictions(\n",
    "            file_name=file_name, model_name=model_name, *args, **kwargs\n",
    "        )\n",
    "\n",
    "    def __call__(\n",
    "        self,\n",
    "        dataf: Union[pd.DataFrame, NumerFrame],\n",
    "        file_name: str,\n",
    "        model_name: str,\n",
    "        cols: Union[str, list],\n",
    "        *args,\n",
    "        **kwargs,\n",
    "    ):\n",
    "        \"\"\"\n",
    "        The most common use case will be to create a CSV and submit it immediately after that.\n",
    "        full_submission handles this.\n",
    "        \"\"\"\n",
    "        self.full_submission(\n",
    "            dataf=dataf,\n",
    "            file_name=file_name,\n",
    "            model_name=model_name,\n",
    "            cols=cols,\n",
    "            *args,\n",
    "            **kwargs,\n",
    "        )\n",
    "\n",
    "    def _get_model_id(self, model_name: str) -> str:\n",
    "        \"\"\"Get ID needed for prediction uploading.\"\"\"\n",
    "        return self.get_model_mapping[model_name]\n",
    "\n",
    "    @property\n",
    "    def get_model_mapping(self) -> dict:\n",
    "        \"\"\"Mapping between raw model names and model IDs.\"\"\"\n",
    "        return self.api.get_models()"
   ]
  },
  {
   "cell_type": "markdown",
   "metadata": {},
   "source": [
    "## 2. Numerai Classic"
   ]
  },
  {
   "cell_type": "code",
   "execution_count": 6,
   "metadata": {},
   "outputs": [
    {
     "data": {
      "text/plain": "<IPython.core.display.Javascript object>",
      "application/javascript": "\n            setTimeout(function() {\n                var nbb_cell_id = 6;\n                var nbb_unformatted_code = \"# export\\n@typechecked\\nclass NumeraiClassicSubmittor(BaseSubmittor):\\n    \\\"\\\"\\\"\\n    Submit for Numerai Classic.\\n    :param directory_path: Base directory to save and read prediction files from.\\n    :param key: Key object (numerai-blocks.key.Key) containing valid credentials for Numerai Classic.\\n    *args, **kwargs will be passed to NumerAPI initialization.\\n    \\\"\\\"\\\"\\n\\n    def __init__(self, directory_path: str, key: Key, *args, **kwargs):\\n        api = NumerAPI(public_id=key.pub_id, secret_key=key.secret_key, *args, **kwargs)\\n        super().__init__(\\n            directory_path=directory_path, api=api\\n        )\\n\\n    def save_csv(\\n        self,\\n        dataf: Union[pd.DataFrame, NumerFrame],\\n        file_name: str,\\n        cols: Union[str, list],\\n        *args,\\n        **kwargs,\\n    ):\\n        \\\"\\\"\\\"\\n        :param dataf: DataFrame which should have the following columns:\\n        1. id (as index column)\\n        2. cols (for example ['target'] or [20_NUMERAI_TARGETS]).\\n        \\\"\\\"\\\"\\n        full_path = str(self.dir / file_name)\\n        rich_print(\\n            f\\\":page_facing_up: Saving predictions CSV to '{full_path}'. :page_facing_up:\\\"\\n        )\\n\\n        dataf.loc[:, cols].to_csv(full_path, *args, **kwargs)\";\n                var nbb_formatted_code = \"# export\\n@typechecked\\nclass NumeraiClassicSubmittor(BaseSubmittor):\\n    \\\"\\\"\\\"\\n    Submit for Numerai Classic.\\n    :param directory_path: Base directory to save and read prediction files from.\\n    :param key: Key object (numerai-blocks.key.Key) containing valid credentials for Numerai Classic.\\n    *args, **kwargs will be passed to NumerAPI initialization.\\n    \\\"\\\"\\\"\\n\\n    def __init__(self, directory_path: str, key: Key, *args, **kwargs):\\n        api = NumerAPI(public_id=key.pub_id, secret_key=key.secret_key, *args, **kwargs)\\n        super().__init__(directory_path=directory_path, api=api)\\n\\n    def save_csv(\\n        self,\\n        dataf: Union[pd.DataFrame, NumerFrame],\\n        file_name: str,\\n        cols: Union[str, list],\\n        *args,\\n        **kwargs,\\n    ):\\n        \\\"\\\"\\\"\\n        :param dataf: DataFrame which should have the following columns:\\n        1. id (as index column)\\n        2. cols (for example ['target'] or [20_NUMERAI_TARGETS]).\\n        \\\"\\\"\\\"\\n        full_path = str(self.dir / file_name)\\n        rich_print(\\n            f\\\":page_facing_up: Saving predictions CSV to '{full_path}'. :page_facing_up:\\\"\\n        )\\n\\n        dataf.loc[:, cols].to_csv(full_path, *args, **kwargs)\";\n                var nbb_cells = Jupyter.notebook.get_cells();\n                for (var i = 0; i < nbb_cells.length; ++i) {\n                    if (nbb_cells[i].input_prompt_number == nbb_cell_id) {\n                        if (nbb_cells[i].get_text() == nbb_unformatted_code) {\n                             nbb_cells[i].set_text(nbb_formatted_code);\n                        }\n                        break;\n                    }\n                }\n            }, 500);\n            "
     },
     "metadata": {},
     "output_type": "display_data"
    }
   ],
   "source": [
    "# export\n",
    "@typechecked\n",
    "class NumeraiClassicSubmittor(BaseSubmittor):\n",
    "    \"\"\"\n",
    "    Submit for Numerai Classic.\n",
    "    :param directory_path: Base directory to save and read prediction files from.\n",
    "    :param key: Key object (numerai-blocks.key.Key) containing valid credentials for Numerai Classic.\n",
    "    *args, **kwargs will be passed to NumerAPI initialization.\n",
    "    \"\"\"\n",
    "\n",
    "    def __init__(self, directory_path: str, key: Key, *args, **kwargs):\n",
    "        api = NumerAPI(public_id=key.pub_id, secret_key=key.secret_key, *args, **kwargs)\n",
    "        super().__init__(\n",
    "            directory_path=directory_path, api=api\n",
    "        )\n",
    "\n",
    "    def save_csv(\n",
    "        self,\n",
    "        dataf: Union[pd.DataFrame, NumerFrame],\n",
    "        file_name: str,\n",
    "        cols: Union[str, list],\n",
    "        *args,\n",
    "        **kwargs,\n",
    "    ):\n",
    "        \"\"\"\n",
    "        :param dataf: DataFrame which should have the following columns:\n",
    "        1. id (as index column)\n",
    "        2. cols (for example ['target'] or [20_NUMERAI_TARGETS]).\n",
    "        \"\"\"\n",
    "        full_path = str(self.dir / file_name)\n",
    "        rich_print(\n",
    "            f\":page_facing_up: Saving predictions CSV to '{full_path}'. :page_facing_up:\"\n",
    "        )\n",
    "\n",
    "        dataf.loc[:, cols].to_csv(full_path, *args, **kwargs)"
   ]
  },
  {
   "cell_type": "markdown",
   "metadata": {},
   "source": [
    "### NumeraiClassicSubmittor tests"
   ]
  },
  {
   "cell_type": "code",
   "execution_count": 7,
   "metadata": {},
   "outputs": [
    {
     "data": {
      "text/plain": "🔑 Numerai Auth key initialized with pub_id = \u001B[32m'UFVCTElDX0lE'\u001B[0m 🔑\n",
      "text/html": "<pre style=\"white-space:pre;overflow-x:auto;line-height:normal;font-family:Menlo,'DejaVu Sans Mono',consolas,'Courier New',monospace\">🔑 Numerai Auth key initialized with pub_id = <span style=\"color: #008000; text-decoration-color: #008000\">'UFVCTElDX0lE'</span> 🔑\n</pre>\n"
     },
     "metadata": {},
     "output_type": "display_data"
    },
    {
     "data": {
      "text/plain": "No existing directory found at \u001B[32m'\u001B[0m\u001B[34mtest_sub\u001B[0m\u001B[32m'\u001B[0m. Creating directory\u001B[33m...\u001B[0m\n",
      "text/html": "<pre style=\"white-space:pre;overflow-x:auto;line-height:normal;font-family:Menlo,'DejaVu Sans Mono',consolas,'Courier New',monospace\">No existing directory found at <span style=\"color: #008000; text-decoration-color: #008000\">'</span><span style=\"color: #000080; text-decoration-color: #000080\">test_sub</span><span style=\"color: #008000; text-decoration-color: #008000\">'</span>. Creating directory<span style=\"color: #808000; text-decoration-color: #808000\">...</span>\n</pre>\n"
     },
     "metadata": {},
     "output_type": "display_data"
    },
    {
     "data": {
      "text/plain": "                                      target_0  target_1  target_2  target_3  \\\nid                                                                             \n4b9a7317-c533-4057-ba4d-b23fedf9963b  0.975645  0.505722  0.565854  0.875254   \ned37dd28-e323-4d24-b2b1-b6b02202d294  0.776280  0.892568  0.817309  0.787299   \n\n                                      target_4  target_5  target_6  target_7  \\\nid                                                                             \n4b9a7317-c533-4057-ba4d-b23fedf9963b  0.208024  0.690705  0.092810  0.403739   \ned37dd28-e323-4d24-b2b1-b6b02202d294  0.630828  0.402839  0.960256  0.493967   \n\n                                      target_8  target_9  target_10  \\\nid                                                                    \n4b9a7317-c533-4057-ba4d-b23fedf9963b  0.333202  0.949469   0.884230   \ned37dd28-e323-4d24-b2b1-b6b02202d294  0.018156  0.015503   0.179613   \n\n                                      target_11  target_12  target_13  \\\nid                                                                      \n4b9a7317-c533-4057-ba4d-b23fedf9963b   0.742207   0.203517   0.879048   \ned37dd28-e323-4d24-b2b1-b6b02202d294   0.555080   0.192776   0.311228   \n\n                                      target_14  target_15  target_16  \\\nid                                                                      \n4b9a7317-c533-4057-ba4d-b23fedf9963b   0.843503   0.173738   0.486906   \ned37dd28-e323-4d24-b2b1-b6b02202d294   0.003717   0.537301   0.602811   \n\n                                      target_17  target_18  target_19  \nid                                                                     \n4b9a7317-c533-4057-ba4d-b23fedf9963b   0.339642   0.705131   0.945091  \ned37dd28-e323-4d24-b2b1-b6b02202d294   0.260697   0.029461   0.718513  ",
      "text/html": "<div>\n<style scoped>\n    .dataframe tbody tr th:only-of-type {\n        vertical-align: middle;\n    }\n\n    .dataframe tbody tr th {\n        vertical-align: top;\n    }\n\n    .dataframe thead th {\n        text-align: right;\n    }\n</style>\n<table border=\"1\" class=\"dataframe\">\n  <thead>\n    <tr style=\"text-align: right;\">\n      <th></th>\n      <th>target_0</th>\n      <th>target_1</th>\n      <th>target_2</th>\n      <th>target_3</th>\n      <th>target_4</th>\n      <th>target_5</th>\n      <th>target_6</th>\n      <th>target_7</th>\n      <th>target_8</th>\n      <th>target_9</th>\n      <th>target_10</th>\n      <th>target_11</th>\n      <th>target_12</th>\n      <th>target_13</th>\n      <th>target_14</th>\n      <th>target_15</th>\n      <th>target_16</th>\n      <th>target_17</th>\n      <th>target_18</th>\n      <th>target_19</th>\n    </tr>\n    <tr>\n      <th>id</th>\n      <th></th>\n      <th></th>\n      <th></th>\n      <th></th>\n      <th></th>\n      <th></th>\n      <th></th>\n      <th></th>\n      <th></th>\n      <th></th>\n      <th></th>\n      <th></th>\n      <th></th>\n      <th></th>\n      <th></th>\n      <th></th>\n      <th></th>\n      <th></th>\n      <th></th>\n      <th></th>\n    </tr>\n  </thead>\n  <tbody>\n    <tr>\n      <th>4b9a7317-c533-4057-ba4d-b23fedf9963b</th>\n      <td>0.975645</td>\n      <td>0.505722</td>\n      <td>0.565854</td>\n      <td>0.875254</td>\n      <td>0.208024</td>\n      <td>0.690705</td>\n      <td>0.092810</td>\n      <td>0.403739</td>\n      <td>0.333202</td>\n      <td>0.949469</td>\n      <td>0.884230</td>\n      <td>0.742207</td>\n      <td>0.203517</td>\n      <td>0.879048</td>\n      <td>0.843503</td>\n      <td>0.173738</td>\n      <td>0.486906</td>\n      <td>0.339642</td>\n      <td>0.705131</td>\n      <td>0.945091</td>\n    </tr>\n    <tr>\n      <th>ed37dd28-e323-4d24-b2b1-b6b02202d294</th>\n      <td>0.776280</td>\n      <td>0.892568</td>\n      <td>0.817309</td>\n      <td>0.787299</td>\n      <td>0.630828</td>\n      <td>0.402839</td>\n      <td>0.960256</td>\n      <td>0.493967</td>\n      <td>0.018156</td>\n      <td>0.015503</td>\n      <td>0.179613</td>\n      <td>0.555080</td>\n      <td>0.192776</td>\n      <td>0.311228</td>\n      <td>0.003717</td>\n      <td>0.537301</td>\n      <td>0.602811</td>\n      <td>0.260697</td>\n      <td>0.029461</td>\n      <td>0.718513</td>\n    </tr>\n  </tbody>\n</table>\n</div>"
     },
     "execution_count": 7,
     "metadata": {},
     "output_type": "execute_result"
    },
    {
     "data": {
      "text/plain": "<IPython.core.display.Javascript object>",
      "application/javascript": "\n            setTimeout(function() {\n                var nbb_cell_id = 7;\n                var nbb_unformatted_code = \"# Initialization (Random credentials)\\ntest_dir = \\\"test_sub\\\"\\nclassic_key = Key(pub_id=\\\"UFVCTElDX0lE\\\", secret_key=\\\"U1VQRVJfU0VDUkVUX0tFWQ==\\\")\\nnum_sub = NumeraiClassicSubmittor(directory_path=test_dir, key=classic_key)\\nassert num_sub.dir.is_dir()\\n\\n# Create random dataframe\\nn_rows, n_columns = 100, 20\\ntargets = [f\\\"target_{i}\\\" for i in range(n_columns)]\\ntest_dataf = pd.DataFrame(np.random.uniform(size=(n_rows, n_columns)), columns=targets)\\ntest_dataf[\\\"id\\\"] = [uuid.uuid4() for _ in range(n_rows)]\\ntest_dataf = test_dataf.set_index(\\\"id\\\")\\ntest_dataf.head(2)\";\n                var nbb_formatted_code = \"# Initialization (Random credentials)\\ntest_dir = \\\"test_sub\\\"\\nclassic_key = Key(pub_id=\\\"UFVCTElDX0lE\\\", secret_key=\\\"U1VQRVJfU0VDUkVUX0tFWQ==\\\")\\nnum_sub = NumeraiClassicSubmittor(directory_path=test_dir, key=classic_key)\\nassert num_sub.dir.is_dir()\\n\\n# Create random dataframe\\nn_rows, n_columns = 100, 20\\ntargets = [f\\\"target_{i}\\\" for i in range(n_columns)]\\ntest_dataf = pd.DataFrame(np.random.uniform(size=(n_rows, n_columns)), columns=targets)\\ntest_dataf[\\\"id\\\"] = [uuid.uuid4() for _ in range(n_rows)]\\ntest_dataf = test_dataf.set_index(\\\"id\\\")\\ntest_dataf.head(2)\";\n                var nbb_cells = Jupyter.notebook.get_cells();\n                for (var i = 0; i < nbb_cells.length; ++i) {\n                    if (nbb_cells[i].input_prompt_number == nbb_cell_id) {\n                        if (nbb_cells[i].get_text() == nbb_unformatted_code) {\n                             nbb_cells[i].set_text(nbb_formatted_code);\n                        }\n                        break;\n                    }\n                }\n            }, 500);\n            "
     },
     "metadata": {},
     "output_type": "display_data"
    }
   ],
   "source": [
    "# Initialization (Random credentials)\n",
    "test_dir = \"test_sub\"\n",
    "classic_key = Key(pub_id=\"UFVCTElDX0lE\", secret_key=\"U1VQRVJfU0VDUkVUX0tFWQ==\")\n",
    "num_sub = NumeraiClassicSubmittor(directory_path=test_dir, key=classic_key)\n",
    "assert num_sub.dir.is_dir()\n",
    "\n",
    "# Create random dataframe\n",
    "n_rows, n_columns = 100, 20\n",
    "targets = [f\"target_{i}\" for i in range(n_columns)]\n",
    "test_dataf = pd.DataFrame(np.random.uniform(size=(n_rows, n_columns)), columns=targets)\n",
    "test_dataf[\"id\"] = [uuid.uuid4() for _ in range(n_rows)]\n",
    "test_dataf = test_dataf.set_index(\"id\")\n",
    "test_dataf.head(2)"
   ]
  },
  {
   "cell_type": "code",
   "execution_count": 8,
   "metadata": {},
   "outputs": [
    {
     "data": {
      "text/plain": "📄 Saving predictions CSV to \u001B[32m'test_sub/test.csv'\u001B[0m. 📄\n",
      "text/html": "<pre style=\"white-space:pre;overflow-x:auto;line-height:normal;font-family:Menlo,'DejaVu Sans Mono',consolas,'Courier New',monospace\">📄 Saving predictions CSV to <span style=\"color: #008000; text-decoration-color: #008000\">'test_sub/test.csv'</span>. 📄\n</pre>\n"
     },
     "metadata": {},
     "output_type": "display_data"
    },
    {
     "data": {
      "text/plain": "                                     id  target_0  target_1  target_2  \\\n0  4b9a7317-c533-4057-ba4d-b23fedf9963b  0.975645  0.505722  0.565854   \n1  ed37dd28-e323-4d24-b2b1-b6b02202d294  0.776280  0.892568  0.817309   \n\n   target_3  target_4  target_5  target_6  target_7  target_8  ...  target_10  \\\n0  0.875254  0.208024  0.690705  0.092810  0.403739  0.333202  ...   0.884230   \n1  0.787299  0.630828  0.402839  0.960256  0.493967  0.018156  ...   0.179613   \n\n   target_11  target_12  target_13  target_14  target_15  target_16  \\\n0   0.742207   0.203517   0.879048   0.843503   0.173738   0.486906   \n1   0.555080   0.192776   0.311228   0.003717   0.537301   0.602811   \n\n   target_17  target_18  target_19  \n0   0.339642   0.705131   0.945091  \n1   0.260697   0.029461   0.718513  \n\n[2 rows x 21 columns]",
      "text/html": "<div>\n<style scoped>\n    .dataframe tbody tr th:only-of-type {\n        vertical-align: middle;\n    }\n\n    .dataframe tbody tr th {\n        vertical-align: top;\n    }\n\n    .dataframe thead th {\n        text-align: right;\n    }\n</style>\n<table border=\"1\" class=\"dataframe\">\n  <thead>\n    <tr style=\"text-align: right;\">\n      <th></th>\n      <th>id</th>\n      <th>target_0</th>\n      <th>target_1</th>\n      <th>target_2</th>\n      <th>target_3</th>\n      <th>target_4</th>\n      <th>target_5</th>\n      <th>target_6</th>\n      <th>target_7</th>\n      <th>target_8</th>\n      <th>...</th>\n      <th>target_10</th>\n      <th>target_11</th>\n      <th>target_12</th>\n      <th>target_13</th>\n      <th>target_14</th>\n      <th>target_15</th>\n      <th>target_16</th>\n      <th>target_17</th>\n      <th>target_18</th>\n      <th>target_19</th>\n    </tr>\n  </thead>\n  <tbody>\n    <tr>\n      <th>0</th>\n      <td>4b9a7317-c533-4057-ba4d-b23fedf9963b</td>\n      <td>0.975645</td>\n      <td>0.505722</td>\n      <td>0.565854</td>\n      <td>0.875254</td>\n      <td>0.208024</td>\n      <td>0.690705</td>\n      <td>0.092810</td>\n      <td>0.403739</td>\n      <td>0.333202</td>\n      <td>...</td>\n      <td>0.884230</td>\n      <td>0.742207</td>\n      <td>0.203517</td>\n      <td>0.879048</td>\n      <td>0.843503</td>\n      <td>0.173738</td>\n      <td>0.486906</td>\n      <td>0.339642</td>\n      <td>0.705131</td>\n      <td>0.945091</td>\n    </tr>\n    <tr>\n      <th>1</th>\n      <td>ed37dd28-e323-4d24-b2b1-b6b02202d294</td>\n      <td>0.776280</td>\n      <td>0.892568</td>\n      <td>0.817309</td>\n      <td>0.787299</td>\n      <td>0.630828</td>\n      <td>0.402839</td>\n      <td>0.960256</td>\n      <td>0.493967</td>\n      <td>0.018156</td>\n      <td>...</td>\n      <td>0.179613</td>\n      <td>0.555080</td>\n      <td>0.192776</td>\n      <td>0.311228</td>\n      <td>0.003717</td>\n      <td>0.537301</td>\n      <td>0.602811</td>\n      <td>0.260697</td>\n      <td>0.029461</td>\n      <td>0.718513</td>\n    </tr>\n  </tbody>\n</table>\n<p>2 rows × 21 columns</p>\n</div>"
     },
     "execution_count": 8,
     "metadata": {},
     "output_type": "execute_result"
    },
    {
     "data": {
      "text/plain": "<IPython.core.display.Javascript object>",
      "application/javascript": "\n            setTimeout(function() {\n                var nbb_cell_id = 8;\n                var nbb_unformatted_code = \"file_name = \\\"test.csv\\\"\\nnum_sub.save_csv(dataf=test_dataf, file_name=file_name, cols=targets)\\npd.read_csv(f\\\"{test_dir}/{file_name}\\\").head(2)\";\n                var nbb_formatted_code = \"file_name = \\\"test.csv\\\"\\nnum_sub.save_csv(dataf=test_dataf, file_name=file_name, cols=targets)\\npd.read_csv(f\\\"{test_dir}/{file_name}\\\").head(2)\";\n                var nbb_cells = Jupyter.notebook.get_cells();\n                for (var i = 0; i < nbb_cells.length; ++i) {\n                    if (nbb_cells[i].input_prompt_number == nbb_cell_id) {\n                        if (nbb_cells[i].get_text() == nbb_unformatted_code) {\n                             nbb_cells[i].set_text(nbb_formatted_code);\n                        }\n                        break;\n                    }\n                }\n            }, 500);\n            "
     },
     "metadata": {},
     "output_type": "display_data"
    }
   ],
   "source": [
    "file_name = \"test.csv\"\n",
    "num_sub.save_csv(dataf=test_dataf, file_name=file_name, cols=targets)\n",
    "pd.read_csv(f\"{test_dir}/{file_name}\").head(2)"
   ]
  },
  {
   "cell_type": "code",
   "execution_count": 9,
   "metadata": {},
   "outputs": [
    {
     "data": {
      "text/plain": "<IPython.core.display.Javascript object>",
      "application/javascript": "\n            setTimeout(function() {\n                var nbb_cell_id = 9;\n                var nbb_unformatted_code = \"# TODO Test full submission with dummy credentials\\n# Save CSV and upload\\n# num_sub.full_submission(dataf=test_dataf, file_name='test.csv', cols=targets, model_name=\\\"test\\\")\";\n                var nbb_formatted_code = \"# TODO Test full submission with dummy credentials\\n# Save CSV and upload\\n# num_sub.full_submission(dataf=test_dataf, file_name='test.csv', cols=targets, model_name=\\\"test\\\")\";\n                var nbb_cells = Jupyter.notebook.get_cells();\n                for (var i = 0; i < nbb_cells.length; ++i) {\n                    if (nbb_cells[i].input_prompt_number == nbb_cell_id) {\n                        if (nbb_cells[i].get_text() == nbb_unformatted_code) {\n                             nbb_cells[i].set_text(nbb_formatted_code);\n                        }\n                        break;\n                    }\n                }\n            }, 500);\n            "
     },
     "metadata": {},
     "output_type": "display_data"
    }
   ],
   "source": [
    "# TODO Test full submission with dummy credentials\n",
    "# Save CSV and upload\n",
    "# num_sub.full_submission(dataf=test_dataf, file_name='test.csv', cols=targets, model_name=\"test\")"
   ]
  },
  {
   "cell_type": "code",
   "execution_count": 10,
   "metadata": {},
   "outputs": [
    {
     "data": {
      "text/plain": "⚠ \u001B[31mDeleting directory for \u001B[0m\u001B[31m'NumeraiClassicSubmittor\u001B[0m\u001B[32m'\u001B[0m ⚠\nPath: \u001B[32m'/Users/clepelaars/Desktop/crowdcent/repositories/numerai-blocks/nbs/test_sub'\u001B[0m\n",
      "text/html": "<pre style=\"white-space:pre;overflow-x:auto;line-height:normal;font-family:Menlo,'DejaVu Sans Mono',consolas,'Courier New',monospace\">⚠ <span style=\"color: #800000; text-decoration-color: #800000\">Deleting directory for </span><span style=\"color: #800000; text-decoration-color: #800000\">'NumeraiClassicSubmittor</span><span style=\"color: #008000; text-decoration-color: #008000\">'</span> ⚠\nPath: <span style=\"color: #008000; text-decoration-color: #008000\">'/Users/clepelaars/Desktop/crowdcent/repositories/numerai-blocks/nbs/test_sub'</span>\n</pre>\n"
     },
     "metadata": {},
     "output_type": "display_data"
    },
    {
     "data": {
      "text/plain": "<IPython.core.display.Javascript object>",
      "application/javascript": "\n            setTimeout(function() {\n                var nbb_cell_id = 10;\n                var nbb_unformatted_code = \"# Remove contents\\nnum_sub.remove_base_directory()\\nassert not os.path.exists(test_dir)\";\n                var nbb_formatted_code = \"# Remove contents\\nnum_sub.remove_base_directory()\\nassert not os.path.exists(test_dir)\";\n                var nbb_cells = Jupyter.notebook.get_cells();\n                for (var i = 0; i < nbb_cells.length; ++i) {\n                    if (nbb_cells[i].input_prompt_number == nbb_cell_id) {\n                        if (nbb_cells[i].get_text() == nbb_unformatted_code) {\n                             nbb_cells[i].set_text(nbb_formatted_code);\n                        }\n                        break;\n                    }\n                }\n            }, 500);\n            "
     },
     "metadata": {},
     "output_type": "display_data"
    }
   ],
   "source": [
    "# Remove contents\n",
    "num_sub.remove_base_directory()\n",
    "assert not os.path.exists(test_dir)"
   ]
  },
  {
   "cell_type": "markdown",
   "metadata": {},
   "source": []
  },
  {
   "cell_type": "markdown",
   "metadata": {},
   "source": [
    "## 3. Numerai Signals"
   ]
  },
  {
   "cell_type": "code",
   "execution_count": 11,
   "metadata": {},
   "outputs": [
    {
     "data": {
      "text/plain": "<IPython.core.display.Javascript object>",
      "application/javascript": "\n            setTimeout(function() {\n                var nbb_cell_id = 11;\n                var nbb_unformatted_code = \"# export\\n@typechecked\\nclass NumeraiSignalsSubmittor(BaseSubmittor):\\n    \\\"\\\"\\\"\\n    Submit for Numerai Signals\\n    :param directory_path: Base directory to save and read prediction files from.\\n    :param key: Key object (numerai-blocks.key.Key) containing valid credentials for Numerai Signals.\\n    *args, **kwargs will be passed to SignalsAPI initialization.\\n    \\\"\\\"\\\"\\n\\n    def __init__(self, directory_path: str, key: Key, *args, **kwargs):\\n        api = SignalsAPI(\\n            public_id=key.pub_id, secret_key=key.secret_key, *args, **kwargs\\n        )\\n        super().__init__(\\n            directory_path=directory_path, api=api\\n        )\\n        self.supported_ticker_formats = [\\n            \\\"cusip\\\",\\n            \\\"sedol\\\",\\n            \\\"ticker\\\",\\n            \\\"numerai_ticker\\\",\\n            \\\"bloomberg_ticker\\\",\\n        ]\\n\\n    def save_csv(\\n        self, dataf: Union[pd.DataFrame, NumerFrame], file_name: str, cols: list = None, *args, **kwargs\\n    ):\\n        \\\"\\\"\\\"\\n        :param dataf: DataFrame which should have at least the following columns:\\n         1. One of supported ticker formats (cusip, sedol, ticker, numerai_ticker or bloomberg_ticker)\\n         2. signal (Values between 0 and 1 (exclusive))\\n         Additional columns for if you include validation data (optional):\\n         3. friday_date (YYYYMMDD format date indication)\\n         4. data_type ('val' and 'live' partitions)\\n\\n         :param file_name: For example, 'sub_<model_name>_round<n>.csv'\\n         :param cols: All cols that should be passed to CSV. Defaults to 2 standard columns.\\n          ('bloomberg_ticker', 'signal')\\n        \\\"\\\"\\\"\\n        if not cols:\\n            cols = [\\\"bloomberg_ticker\\\", \\\"signal\\\"]\\n\\n        # Check for valid ticker format\\n        valid_tickers = set(cols).intersection(set(self.supported_ticker_formats))\\n        if not valid_tickers:\\n            raise NotImplementedError(\\n                f\\\"No supported ticker format in {cols}). \\\\\\n            Supported: '{self.supported_ticker_formats}'\\\"\\n            )\\n\\n        # signal must be in range (0...1)\\n        if not dataf[\\\"signal\\\"].between(0, 1).all():\\n            min_val, max_val = dataf[\\\"signal\\\"].min(), dataf[\\\"signal\\\"].max()\\n            raise ValueError(\\n                f\\\"Values in 'signal' must be between 0 and 1 (exclusive). Found min value of '{min_val}' and max value of '{max_val}'\\\"\\n            )\\n\\n        full_path = str(self.dir / file_name)\\n        rich_print(\\n            f\\\":page_facing_up: Saving Signals predictions CSV to '{full_path}'. :page_facing_up:\\\"\\n        )\\n        dataf.loc[:, cols].reset_index(drop=True).to_csv(\\n            full_path, index=False, *args, **kwargs\\n        )\";\n                var nbb_formatted_code = \"# export\\n@typechecked\\nclass NumeraiSignalsSubmittor(BaseSubmittor):\\n    \\\"\\\"\\\"\\n    Submit for Numerai Signals\\n    :param directory_path: Base directory to save and read prediction files from.\\n    :param key: Key object (numerai-blocks.key.Key) containing valid credentials for Numerai Signals.\\n    *args, **kwargs will be passed to SignalsAPI initialization.\\n    \\\"\\\"\\\"\\n\\n    def __init__(self, directory_path: str, key: Key, *args, **kwargs):\\n        api = SignalsAPI(\\n            public_id=key.pub_id, secret_key=key.secret_key, *args, **kwargs\\n        )\\n        super().__init__(directory_path=directory_path, api=api)\\n        self.supported_ticker_formats = [\\n            \\\"cusip\\\",\\n            \\\"sedol\\\",\\n            \\\"ticker\\\",\\n            \\\"numerai_ticker\\\",\\n            \\\"bloomberg_ticker\\\",\\n        ]\\n\\n    def save_csv(\\n        self,\\n        dataf: Union[pd.DataFrame, NumerFrame],\\n        file_name: str,\\n        cols: list = None,\\n        *args,\\n        **kwargs,\\n    ):\\n        \\\"\\\"\\\"\\n        :param dataf: DataFrame which should have at least the following columns:\\n         1. One of supported ticker formats (cusip, sedol, ticker, numerai_ticker or bloomberg_ticker)\\n         2. signal (Values between 0 and 1 (exclusive))\\n         Additional columns for if you include validation data (optional):\\n         3. friday_date (YYYYMMDD format date indication)\\n         4. data_type ('val' and 'live' partitions)\\n\\n         :param file_name: For example, 'sub_<model_name>_round<n>.csv'\\n         :param cols: All cols that should be passed to CSV. Defaults to 2 standard columns.\\n          ('bloomberg_ticker', 'signal')\\n        \\\"\\\"\\\"\\n        if not cols:\\n            cols = [\\\"bloomberg_ticker\\\", \\\"signal\\\"]\\n\\n        # Check for valid ticker format\\n        valid_tickers = set(cols).intersection(set(self.supported_ticker_formats))\\n        if not valid_tickers:\\n            raise NotImplementedError(\\n                f\\\"No supported ticker format in {cols}). \\\\\\n            Supported: '{self.supported_ticker_formats}'\\\"\\n            )\\n\\n        # signal must be in range (0...1)\\n        if not dataf[\\\"signal\\\"].between(0, 1).all():\\n            min_val, max_val = dataf[\\\"signal\\\"].min(), dataf[\\\"signal\\\"].max()\\n            raise ValueError(\\n                f\\\"Values in 'signal' must be between 0 and 1 (exclusive). Found min value of '{min_val}' and max value of '{max_val}'\\\"\\n            )\\n\\n        full_path = str(self.dir / file_name)\\n        rich_print(\\n            f\\\":page_facing_up: Saving Signals predictions CSV to '{full_path}'. :page_facing_up:\\\"\\n        )\\n        dataf.loc[:, cols].reset_index(drop=True).to_csv(\\n            full_path, index=False, *args, **kwargs\\n        )\";\n                var nbb_cells = Jupyter.notebook.get_cells();\n                for (var i = 0; i < nbb_cells.length; ++i) {\n                    if (nbb_cells[i].input_prompt_number == nbb_cell_id) {\n                        if (nbb_cells[i].get_text() == nbb_unformatted_code) {\n                             nbb_cells[i].set_text(nbb_formatted_code);\n                        }\n                        break;\n                    }\n                }\n            }, 500);\n            "
     },
     "metadata": {},
     "output_type": "display_data"
    }
   ],
   "source": [
    "# export\n",
    "@typechecked\n",
    "class NumeraiSignalsSubmittor(BaseSubmittor):\n",
    "    \"\"\"\n",
    "    Submit for Numerai Signals\n",
    "    :param directory_path: Base directory to save and read prediction files from.\n",
    "    :param key: Key object (numerai-blocks.key.Key) containing valid credentials for Numerai Signals.\n",
    "    *args, **kwargs will be passed to SignalsAPI initialization.\n",
    "    \"\"\"\n",
    "\n",
    "    def __init__(self, directory_path: str, key: Key, *args, **kwargs):\n",
    "        api = SignalsAPI(\n",
    "            public_id=key.pub_id, secret_key=key.secret_key, *args, **kwargs\n",
    "        )\n",
    "        super().__init__(\n",
    "            directory_path=directory_path, api=api\n",
    "        )\n",
    "        self.supported_ticker_formats = [\n",
    "            \"cusip\",\n",
    "            \"sedol\",\n",
    "            \"ticker\",\n",
    "            \"numerai_ticker\",\n",
    "            \"bloomberg_ticker\",\n",
    "        ]\n",
    "\n",
    "    def save_csv(\n",
    "        self, dataf: Union[pd.DataFrame, NumerFrame], file_name: str, cols: list = None, *args, **kwargs\n",
    "    ):\n",
    "        \"\"\"\n",
    "        :param dataf: DataFrame which should have at least the following columns:\n",
    "         1. One of supported ticker formats (cusip, sedol, ticker, numerai_ticker or bloomberg_ticker)\n",
    "         2. signal (Values between 0 and 1 (exclusive))\n",
    "         Additional columns for if you include validation data (optional):\n",
    "         3. friday_date (YYYYMMDD format date indication)\n",
    "         4. data_type ('val' and 'live' partitions)\n",
    "\n",
    "         :param file_name: For example, 'sub_<model_name>_round<n>.csv'\n",
    "         :param cols: All cols that should be passed to CSV. Defaults to 2 standard columns.\n",
    "          ('bloomberg_ticker', 'signal')\n",
    "        \"\"\"\n",
    "        if not cols:\n",
    "            cols = [\"bloomberg_ticker\", \"signal\"]\n",
    "\n",
    "        # Check for valid ticker format\n",
    "        valid_tickers = set(cols).intersection(set(self.supported_ticker_formats))\n",
    "        if not valid_tickers:\n",
    "            raise NotImplementedError(\n",
    "                f\"No supported ticker format in {cols}). \\\n",
    "            Supported: '{self.supported_ticker_formats}'\"\n",
    "            )\n",
    "\n",
    "        # signal must be in range (0...1)\n",
    "        if not dataf[\"signal\"].between(0, 1).all():\n",
    "            min_val, max_val = dataf[\"signal\"].min(), dataf[\"signal\"].max()\n",
    "            raise ValueError(\n",
    "                f\"Values in 'signal' must be between 0 and 1 (exclusive). Found min value of '{min_val}' and max value of '{max_val}'\"\n",
    "            )\n",
    "\n",
    "        full_path = str(self.dir / file_name)\n",
    "        rich_print(\n",
    "            f\":page_facing_up: Saving Signals predictions CSV to '{full_path}'. :page_facing_up:\"\n",
    "        )\n",
    "        dataf.loc[:, cols].reset_index(drop=True).to_csv(\n",
    "            full_path, index=False, *args, **kwargs\n",
    "        )"
   ]
  },
  {
   "cell_type": "markdown",
   "metadata": {},
   "source": [
    "### NumeraiSignalsSubmittor tests"
   ]
  },
  {
   "cell_type": "code",
   "execution_count": 12,
   "metadata": {},
   "outputs": [
    {
     "data": {
      "text/plain": "🔑 Numerai Auth key initialized with pub_id = \u001B[32m'UFVCTElDX0lE'\u001B[0m 🔑\n",
      "text/html": "<pre style=\"white-space:pre;overflow-x:auto;line-height:normal;font-family:Menlo,'DejaVu Sans Mono',consolas,'Courier New',monospace\">🔑 Numerai Auth key initialized with pub_id = <span style=\"color: #008000; text-decoration-color: #008000\">'UFVCTElDX0lE'</span> 🔑\n</pre>\n"
     },
     "metadata": {},
     "output_type": "display_data"
    },
    {
     "data": {
      "text/plain": "No existing directory found at \u001B[32m'\u001B[0m\u001B[34mtest_sub_signals\u001B[0m\u001B[32m'\u001B[0m. Creating directory\u001B[33m...\u001B[0m\n",
      "text/html": "<pre style=\"white-space:pre;overflow-x:auto;line-height:normal;font-family:Menlo,'DejaVu Sans Mono',consolas,'Courier New',monospace\">No existing directory found at <span style=\"color: #008000; text-decoration-color: #008000\">'</span><span style=\"color: #000080; text-decoration-color: #000080\">test_sub_signals</span><span style=\"color: #008000; text-decoration-color: #008000\">'</span>. Creating directory<span style=\"color: #808000; text-decoration-color: #808000\">...</span>\n</pre>\n"
     },
     "metadata": {},
     "output_type": "display_data"
    },
    {
     "data": {
      "text/plain": "<IPython.core.display.Javascript object>",
      "application/javascript": "\n            setTimeout(function() {\n                var nbb_cell_id = 12;\n                var nbb_unformatted_code = \"# Initialization (Random credentials)\\ntest_dir_signals = \\\"test_sub_signals\\\"\\nsignals_key = Key(pub_id=\\\"UFVCTElDX0lE\\\", secret_key=\\\"U1VQRVJfU0VDUkVUX0tFWQ==\\\")\\nsignals_sub = NumeraiSignalsSubmittor(directory_path=test_dir_signals, key=signals_key)\\nassert signals_sub.dir.is_dir()\";\n                var nbb_formatted_code = \"# Initialization (Random credentials)\\ntest_dir_signals = \\\"test_sub_signals\\\"\\nsignals_key = Key(pub_id=\\\"UFVCTElDX0lE\\\", secret_key=\\\"U1VQRVJfU0VDUkVUX0tFWQ==\\\")\\nsignals_sub = NumeraiSignalsSubmittor(directory_path=test_dir_signals, key=signals_key)\\nassert signals_sub.dir.is_dir()\";\n                var nbb_cells = Jupyter.notebook.get_cells();\n                for (var i = 0; i < nbb_cells.length; ++i) {\n                    if (nbb_cells[i].input_prompt_number == nbb_cell_id) {\n                        if (nbb_cells[i].get_text() == nbb_unformatted_code) {\n                             nbb_cells[i].set_text(nbb_formatted_code);\n                        }\n                        break;\n                    }\n                }\n            }, 500);\n            "
     },
     "metadata": {},
     "output_type": "display_data"
    }
   ],
   "source": [
    "# Initialization (Random credentials)\n",
    "test_dir_signals = \"test_sub_signals\"\n",
    "signals_key = Key(pub_id=\"UFVCTElDX0lE\", secret_key=\"U1VQRVJfU0VDUkVUX0tFWQ==\")\n",
    "signals_sub = NumeraiSignalsSubmittor(directory_path=test_dir_signals, key=signals_key)\n",
    "assert signals_sub.dir.is_dir()"
   ]
  },
  {
   "cell_type": "code",
   "execution_count": 13,
   "metadata": {},
   "outputs": [
    {
     "data": {
      "text/plain": "     signal ticker  friday_date data_type aux_column\n0  0.356858   UEUT     20220128      live   metadata\n1  0.466330   ZTKX     20220128      live   metadata",
      "text/html": "<div>\n<style scoped>\n    .dataframe tbody tr th:only-of-type {\n        vertical-align: middle;\n    }\n\n    .dataframe tbody tr th {\n        vertical-align: top;\n    }\n\n    .dataframe thead th {\n        text-align: right;\n    }\n</style>\n<table border=\"1\" class=\"dataframe\">\n  <thead>\n    <tr style=\"text-align: right;\">\n      <th></th>\n      <th>signal</th>\n      <th>ticker</th>\n      <th>friday_date</th>\n      <th>data_type</th>\n      <th>aux_column</th>\n    </tr>\n  </thead>\n  <tbody>\n    <tr>\n      <th>0</th>\n      <td>0.356858</td>\n      <td>UEUT</td>\n      <td>20220128</td>\n      <td>live</td>\n      <td>metadata</td>\n    </tr>\n    <tr>\n      <th>1</th>\n      <td>0.466330</td>\n      <td>ZTKX</td>\n      <td>20220128</td>\n      <td>live</td>\n      <td>metadata</td>\n    </tr>\n  </tbody>\n</table>\n</div>"
     },
     "execution_count": 13,
     "metadata": {},
     "output_type": "execute_result"
    },
    {
     "data": {
      "text/plain": "<IPython.core.display.Javascript object>",
      "application/javascript": "\n            setTimeout(function() {\n                var nbb_cell_id = 13;\n                var nbb_unformatted_code = \"# Create random dataframe\\nn_rows, n_columns = 5000, 4\\nsignals_test_dataf = pd.DataFrame(\\n    np.random.uniform(size=(n_rows, 1)), columns=[\\\"signal\\\"]\\n)\\nsignals_test_dataf[\\\"ticker\\\"] = [\\n    \\\"\\\".join(choices(ascii_uppercase, k=4)) for _ in range(n_rows)\\n]\\nlast_friday = int(\\n    str((datetime.now() + relativedelta(weekday=FR(-1))).date()).replace(\\\"-\\\", \\\"\\\")\\n)\\nsignals_test_dataf[\\\"friday_date\\\"] = last_friday\\nsignals_test_dataf[\\\"data_type\\\"] = \\\"live\\\"\\nsignals_test_dataf[\\\"aux_column\\\"] = \\\"metadata\\\"\\nsignals_test_dataf.head(2)\";\n                var nbb_formatted_code = \"# Create random dataframe\\nn_rows, n_columns = 5000, 4\\nsignals_test_dataf = pd.DataFrame(\\n    np.random.uniform(size=(n_rows, 1)), columns=[\\\"signal\\\"]\\n)\\nsignals_test_dataf[\\\"ticker\\\"] = [\\n    \\\"\\\".join(choices(ascii_uppercase, k=4)) for _ in range(n_rows)\\n]\\nlast_friday = int(\\n    str((datetime.now() + relativedelta(weekday=FR(-1))).date()).replace(\\\"-\\\", \\\"\\\")\\n)\\nsignals_test_dataf[\\\"friday_date\\\"] = last_friday\\nsignals_test_dataf[\\\"data_type\\\"] = \\\"live\\\"\\nsignals_test_dataf[\\\"aux_column\\\"] = \\\"metadata\\\"\\nsignals_test_dataf.head(2)\";\n                var nbb_cells = Jupyter.notebook.get_cells();\n                for (var i = 0; i < nbb_cells.length; ++i) {\n                    if (nbb_cells[i].input_prompt_number == nbb_cell_id) {\n                        if (nbb_cells[i].get_text() == nbb_unformatted_code) {\n                             nbb_cells[i].set_text(nbb_formatted_code);\n                        }\n                        break;\n                    }\n                }\n            }, 500);\n            "
     },
     "metadata": {},
     "output_type": "display_data"
    }
   ],
   "source": [
    "# Create random dataframe\n",
    "n_rows, n_columns = 5000, 4\n",
    "signals_test_dataf = pd.DataFrame(\n",
    "    np.random.uniform(size=(n_rows, 1)), columns=[\"signal\"]\n",
    ")\n",
    "signals_test_dataf[\"ticker\"] = [\n",
    "    \"\".join(choices(ascii_uppercase, k=4)) for _ in range(n_rows)\n",
    "]\n",
    "last_friday = int(\n",
    "    str((datetime.now() + relativedelta(weekday=FR(-1))).date()).replace(\"-\", \"\")\n",
    ")\n",
    "signals_test_dataf[\"friday_date\"] = last_friday\n",
    "signals_test_dataf[\"data_type\"] = \"live\"\n",
    "signals_test_dataf[\"aux_column\"] = \"metadata\"\n",
    "signals_test_dataf.head(2)"
   ]
  },
  {
   "cell_type": "code",
   "execution_count": 14,
   "metadata": {},
   "outputs": [
    {
     "data": {
      "text/plain": "📄 Saving Signals predictions CSV to \u001B[32m'test_sub_signals/signals_test.csv'\u001B[0m. 📄\n",
      "text/html": "<pre style=\"white-space:pre;overflow-x:auto;line-height:normal;font-family:Menlo,'DejaVu Sans Mono',consolas,'Courier New',monospace\">📄 Saving Signals predictions CSV to <span style=\"color: #008000; text-decoration-color: #008000\">'test_sub_signals/signals_test.csv'</span>. 📄\n</pre>\n"
     },
     "metadata": {},
     "output_type": "display_data"
    },
    {
     "data": {
      "text/plain": "     signal ticker  friday_date data_type\n0  0.356858   UEUT     20220128      live\n1  0.466330   ZTKX     20220128      live",
      "text/html": "<div>\n<style scoped>\n    .dataframe tbody tr th:only-of-type {\n        vertical-align: middle;\n    }\n\n    .dataframe tbody tr th {\n        vertical-align: top;\n    }\n\n    .dataframe thead th {\n        text-align: right;\n    }\n</style>\n<table border=\"1\" class=\"dataframe\">\n  <thead>\n    <tr style=\"text-align: right;\">\n      <th></th>\n      <th>signal</th>\n      <th>ticker</th>\n      <th>friday_date</th>\n      <th>data_type</th>\n    </tr>\n  </thead>\n  <tbody>\n    <tr>\n      <th>0</th>\n      <td>0.356858</td>\n      <td>UEUT</td>\n      <td>20220128</td>\n      <td>live</td>\n    </tr>\n    <tr>\n      <th>1</th>\n      <td>0.466330</td>\n      <td>ZTKX</td>\n      <td>20220128</td>\n      <td>live</td>\n    </tr>\n  </tbody>\n</table>\n</div>"
     },
     "execution_count": 14,
     "metadata": {},
     "output_type": "execute_result"
    },
    {
     "data": {
      "text/plain": "<IPython.core.display.Javascript object>",
      "application/javascript": "\n            setTimeout(function() {\n                var nbb_cell_id = 14;\n                var nbb_unformatted_code = \"signals_cols = [\\\"signal\\\", \\\"ticker\\\", \\\"friday_date\\\", \\\"data_type\\\"]\\nfile_name = \\\"signals_test.csv\\\"\\nsignals_sub.save_csv(dataf=signals_test_dataf, file_name=file_name, cols=signals_cols)\\npd.read_csv(f\\\"{test_dir_signals}/{file_name}\\\").head(2)\";\n                var nbb_formatted_code = \"signals_cols = [\\\"signal\\\", \\\"ticker\\\", \\\"friday_date\\\", \\\"data_type\\\"]\\nfile_name = \\\"signals_test.csv\\\"\\nsignals_sub.save_csv(dataf=signals_test_dataf, file_name=file_name, cols=signals_cols)\\npd.read_csv(f\\\"{test_dir_signals}/{file_name}\\\").head(2)\";\n                var nbb_cells = Jupyter.notebook.get_cells();\n                for (var i = 0; i < nbb_cells.length; ++i) {\n                    if (nbb_cells[i].input_prompt_number == nbb_cell_id) {\n                        if (nbb_cells[i].get_text() == nbb_unformatted_code) {\n                             nbb_cells[i].set_text(nbb_formatted_code);\n                        }\n                        break;\n                    }\n                }\n            }, 500);\n            "
     },
     "metadata": {},
     "output_type": "display_data"
    }
   ],
   "source": [
    "signals_cols = [\"signal\", \"ticker\", \"friday_date\", \"data_type\"]\n",
    "file_name = \"signals_test.csv\"\n",
    "signals_sub.save_csv(dataf=signals_test_dataf, file_name=file_name, cols=signals_cols)\n",
    "pd.read_csv(f\"{test_dir_signals}/{file_name}\").head(2)"
   ]
  },
  {
   "cell_type": "markdown",
   "metadata": {},
   "source": [
    "Saving Signals CSV should fail if there is no valid ticker column or if `signal` has values outside the range $(0...1)$."
   ]
  },
  {
   "cell_type": "code",
   "execution_count": 15,
   "metadata": {},
   "outputs": [
    {
     "data": {
      "text/plain": "<IPython.core.display.Javascript object>",
      "application/javascript": "\n            setTimeout(function() {\n                var nbb_cell_id = 15;\n                var nbb_unformatted_code = \"def test_signal_validity(\\n    submittor: NumeraiSignalsSubmittor, signals_dataf: Union[pd.DataFrame, NumerFrame]\\n):\\n    try:\\n        invalid_signal = deepcopy(signals_dataf)\\n        invalid_signal.loc[0, \\\"signal\\\"] += 10\\n        submittor.save_csv(\\n            invalid_signal,\\n            file_name=\\\"should_not_save.csv\\\",\\n            cols=list(invalid_signal.columns),\\n        )\\n    except ValueError:\\n        return True\\n    return False\\n\\n\\ndef test_ticker_validity(\\n    submittor: NumeraiSignalsSubmittor, signals_dataf: Union[pd.DataFrame, NumerFrame]\\n):\\n    try:\\n        invalid_ticker = deepcopy(signals_dataf)\\n        invalid_ticker = invalid_ticker.rename(\\n            {\\\"ticker\\\": \\\"not_a_valid_ticker_format\\\"}, axis=1\\n        )\\n        submittor.save_csv(\\n            invalid_ticker,\\n            file_name=\\\"should_not_save.csv\\\",\\n            cols=list(invalid_ticker.columns),\\n        )\\n    except NotImplementedError:\\n        return True\\n    return False\\n\\n\\nassert test_signal_validity(signals_sub, signals_test_dataf)\\nassert test_ticker_validity(signals_sub, signals_test_dataf)\";\n                var nbb_formatted_code = \"def test_signal_validity(\\n    submittor: NumeraiSignalsSubmittor, signals_dataf: Union[pd.DataFrame, NumerFrame]\\n):\\n    try:\\n        invalid_signal = deepcopy(signals_dataf)\\n        invalid_signal.loc[0, \\\"signal\\\"] += 10\\n        submittor.save_csv(\\n            invalid_signal,\\n            file_name=\\\"should_not_save.csv\\\",\\n            cols=list(invalid_signal.columns),\\n        )\\n    except ValueError:\\n        return True\\n    return False\\n\\n\\ndef test_ticker_validity(\\n    submittor: NumeraiSignalsSubmittor, signals_dataf: Union[pd.DataFrame, NumerFrame]\\n):\\n    try:\\n        invalid_ticker = deepcopy(signals_dataf)\\n        invalid_ticker = invalid_ticker.rename(\\n            {\\\"ticker\\\": \\\"not_a_valid_ticker_format\\\"}, axis=1\\n        )\\n        submittor.save_csv(\\n            invalid_ticker,\\n            file_name=\\\"should_not_save.csv\\\",\\n            cols=list(invalid_ticker.columns),\\n        )\\n    except NotImplementedError:\\n        return True\\n    return False\\n\\n\\nassert test_signal_validity(signals_sub, signals_test_dataf)\\nassert test_ticker_validity(signals_sub, signals_test_dataf)\";\n                var nbb_cells = Jupyter.notebook.get_cells();\n                for (var i = 0; i < nbb_cells.length; ++i) {\n                    if (nbb_cells[i].input_prompt_number == nbb_cell_id) {\n                        if (nbb_cells[i].get_text() == nbb_unformatted_code) {\n                             nbb_cells[i].set_text(nbb_formatted_code);\n                        }\n                        break;\n                    }\n                }\n            }, 500);\n            "
     },
     "metadata": {},
     "output_type": "display_data"
    }
   ],
   "source": [
    "def test_signal_validity(\n",
    "    submittor: NumeraiSignalsSubmittor, signals_dataf: Union[pd.DataFrame, NumerFrame]\n",
    "):\n",
    "    try:\n",
    "        invalid_signal = deepcopy(signals_dataf)\n",
    "        invalid_signal.loc[0, \"signal\"] += 10\n",
    "        submittor.save_csv(\n",
    "            invalid_signal,\n",
    "            file_name=\"should_not_save.csv\",\n",
    "            cols=list(invalid_signal.columns),\n",
    "        )\n",
    "    except ValueError:\n",
    "        return True\n",
    "    return False\n",
    "\n",
    "\n",
    "def test_ticker_validity(\n",
    "    submittor: NumeraiSignalsSubmittor, signals_dataf: Union[pd.DataFrame, NumerFrame]\n",
    "):\n",
    "    try:\n",
    "        invalid_ticker = deepcopy(signals_dataf)\n",
    "        invalid_ticker = invalid_ticker.rename(\n",
    "            {\"ticker\": \"not_a_valid_ticker_format\"}, axis=1\n",
    "        )\n",
    "        submittor.save_csv(\n",
    "            invalid_ticker,\n",
    "            file_name=\"should_not_save.csv\",\n",
    "            cols=list(invalid_ticker.columns),\n",
    "        )\n",
    "    except NotImplementedError:\n",
    "        return True\n",
    "    return False\n",
    "\n",
    "\n",
    "assert test_signal_validity(signals_sub, signals_test_dataf)\n",
    "assert test_ticker_validity(signals_sub, signals_test_dataf)"
   ]
  },
  {
   "cell_type": "code",
   "execution_count": 16,
   "metadata": {},
   "outputs": [
    {
     "data": {
      "text/plain": "<IPython.core.display.Javascript object>",
      "application/javascript": "\n            setTimeout(function() {\n                var nbb_cell_id = 16;\n                var nbb_unformatted_code = \"# TODO Test full submission with dummy credentials\\n# Save CSV and upload\\n# signals_sub.full_submission(dataf=signals_test_dataf, file_name='signals_test.csv', cols=signals_cols, model_name=\\\"test\\\")\";\n                var nbb_formatted_code = \"# TODO Test full submission with dummy credentials\\n# Save CSV and upload\\n# signals_sub.full_submission(dataf=signals_test_dataf, file_name='signals_test.csv', cols=signals_cols, model_name=\\\"test\\\")\";\n                var nbb_cells = Jupyter.notebook.get_cells();\n                for (var i = 0; i < nbb_cells.length; ++i) {\n                    if (nbb_cells[i].input_prompt_number == nbb_cell_id) {\n                        if (nbb_cells[i].get_text() == nbb_unformatted_code) {\n                             nbb_cells[i].set_text(nbb_formatted_code);\n                        }\n                        break;\n                    }\n                }\n            }, 500);\n            "
     },
     "metadata": {},
     "output_type": "display_data"
    }
   ],
   "source": [
    "# TODO Test full submission with dummy credentials\n",
    "# Save CSV and upload\n",
    "# signals_sub.full_submission(dataf=signals_test_dataf, file_name='signals_test.csv', cols=signals_cols, model_name=\"test\")"
   ]
  },
  {
   "cell_type": "code",
   "execution_count": 17,
   "metadata": {},
   "outputs": [
    {
     "data": {
      "text/plain": "⚠ \u001B[31mDeleting directory for \u001B[0m\u001B[31m'NumeraiSignalsSubmittor\u001B[0m\u001B[32m'\u001B[0m ⚠\nPath: \u001B[32m'/Users/clepelaars/Desktop/crowdcent/repositories/numerai-blocks/nbs/test_sub_signals'\u001B[0m\n",
      "text/html": "<pre style=\"white-space:pre;overflow-x:auto;line-height:normal;font-family:Menlo,'DejaVu Sans Mono',consolas,'Courier New',monospace\">⚠ <span style=\"color: #800000; text-decoration-color: #800000\">Deleting directory for </span><span style=\"color: #800000; text-decoration-color: #800000\">'NumeraiSignalsSubmittor</span><span style=\"color: #008000; text-decoration-color: #008000\">'</span> ⚠\nPath: <span style=\"color: #008000; text-decoration-color: #008000\">'/Users/clepelaars/Desktop/crowdcent/repositories/numerai-blocks/nbs/test_sub_signals'</span>\n</pre>\n"
     },
     "metadata": {},
     "output_type": "display_data"
    },
    {
     "data": {
      "text/plain": "<IPython.core.display.Javascript object>",
      "application/javascript": "\n            setTimeout(function() {\n                var nbb_cell_id = 17;\n                var nbb_unformatted_code = \"# Remove contents\\nsignals_sub.remove_base_directory()\\nassert not os.path.exists(test_dir_signals)\";\n                var nbb_formatted_code = \"# Remove contents\\nsignals_sub.remove_base_directory()\\nassert not os.path.exists(test_dir_signals)\";\n                var nbb_cells = Jupyter.notebook.get_cells();\n                for (var i = 0; i < nbb_cells.length; ++i) {\n                    if (nbb_cells[i].input_prompt_number == nbb_cell_id) {\n                        if (nbb_cells[i].get_text() == nbb_unformatted_code) {\n                             nbb_cells[i].set_text(nbb_formatted_code);\n                        }\n                        break;\n                    }\n                }\n            }, 500);\n            "
     },
     "metadata": {},
     "output_type": "display_data"
    }
   ],
   "source": [
    "# Remove contents\n",
    "signals_sub.remove_base_directory()\n",
    "assert not os.path.exists(test_dir_signals)"
   ]
  },
  {
   "cell_type": "markdown",
   "metadata": {},
   "source": [
    "------------------------------------------------------------"
   ]
  },
  {
   "cell_type": "code",
   "execution_count": 18,
   "metadata": {},
   "outputs": [
    {
     "name": "stdout",
     "output_type": "stream",
     "text": [
      "Converted 01_download.ipynb.\n",
      "Converted 02_numerframe.ipynb.\n",
      "Converted 03_preprocessing.ipynb.\n",
      "Converted 04_model.ipynb.\n",
      "Converted 05_postprocessing.ipynb.\n",
      "Converted 06_modelpipeline.ipynb.\n",
      "Converted 07_evaluation.ipynb.\n",
      "Converted 08_key.ipynb.\n",
      "Converted 09_submission.ipynb.\n",
      "Converted 10_staking.ipynb.\n",
      "Converted index.ipynb.\n"
     ]
    },
    {
     "data": {
      "text/plain": "<IPython.core.display.Javascript object>",
      "application/javascript": "\n            setTimeout(function() {\n                var nbb_cell_id = 18;\n                var nbb_unformatted_code = \"# hide\\n# Run this cell to sync all changes with library\\nfrom nbdev.export import notebook2script\\n\\nnotebook2script()\";\n                var nbb_formatted_code = \"# hide\\n# Run this cell to sync all changes with library\\nfrom nbdev.export import notebook2script\\n\\nnotebook2script()\";\n                var nbb_cells = Jupyter.notebook.get_cells();\n                for (var i = 0; i < nbb_cells.length; ++i) {\n                    if (nbb_cells[i].input_prompt_number == nbb_cell_id) {\n                        if (nbb_cells[i].get_text() == nbb_unformatted_code) {\n                             nbb_cells[i].set_text(nbb_formatted_code);\n                        }\n                        break;\n                    }\n                }\n            }, 500);\n            "
     },
     "metadata": {},
     "output_type": "display_data"
    }
   ],
   "source": [
    "# hide\n",
    "# Run this cell to sync all changes with library\n",
    "from nbdev.export import notebook2script\n",
    "\n",
    "notebook2script()"
   ]
  }
 ],
 "metadata": {
  "kernelspec": {
   "display_name": "Python 3",
   "language": "python",
   "name": "python3"
  }
 },
 "nbformat": 4,
 "nbformat_minor": 0
}