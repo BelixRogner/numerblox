{
 "cells": [
  {
   "cell_type": "code",
   "execution_count": 1,
   "metadata": {},
   "outputs": [
    {
     "data": {
      "text/plain": "<IPython.core.display.Javascript object>",
      "application/javascript": "\n            setTimeout(function() {\n                var nbb_cell_id = 1;\n                var nbb_unformatted_code = \"%load_ext autoreload\\n%autoreload 2\\n%load_ext nb_black\\n%load_ext lab_black\";\n                var nbb_formatted_code = \"%load_ext autoreload\\n%autoreload 2\\n%load_ext nb_black\\n%load_ext lab_black\";\n                var nbb_cells = Jupyter.notebook.get_cells();\n                for (var i = 0; i < nbb_cells.length; ++i) {\n                    if (nbb_cells[i].input_prompt_number == nbb_cell_id) {\n                        if (nbb_cells[i].get_text() == nbb_unformatted_code) {\n                             nbb_cells[i].set_text(nbb_formatted_code);\n                        }\n                        break;\n                    }\n                }\n            }, 500);\n            "
     },
     "metadata": {},
     "output_type": "display_data"
    }
   ],
   "source": [
    "%load_ext autoreload\n",
    "%autoreload 2\n",
    "%load_ext nb_black\n",
    "%load_ext lab_black"
   ]
  },
  {
   "cell_type": "code",
   "execution_count": 2,
   "metadata": {},
   "outputs": [
    {
     "data": {
      "text/plain": "<IPython.core.display.Javascript object>",
      "application/javascript": "\n            setTimeout(function() {\n                var nbb_cell_id = 2;\n                var nbb_unformatted_code = \"# default_exp submission\";\n                var nbb_formatted_code = \"# default_exp submission\";\n                var nbb_cells = Jupyter.notebook.get_cells();\n                for (var i = 0; i < nbb_cells.length; ++i) {\n                    if (nbb_cells[i].input_prompt_number == nbb_cell_id) {\n                        if (nbb_cells[i].get_text() == nbb_unformatted_code) {\n                             nbb_cells[i].set_text(nbb_formatted_code);\n                        }\n                        break;\n                    }\n                }\n            }, 500);\n            "
     },
     "metadata": {},
     "output_type": "display_data"
    }
   ],
   "source": [
    "# default_exp submission"
   ]
  },
  {
   "cell_type": "markdown",
   "metadata": {},
   "source": [
    "# Submission\n",
    "\n",
    "These objects allow you to easily and reliably submit predictions for Numerai Classic and Numerai Signals.\n",
    "\n",
    "The main objects are:\n",
    "1. `NumeraiClassicSubmittor`\n",
    "2. `NumeraiSignalsSubmittor`"
   ]
  },
  {
   "cell_type": "code",
   "execution_count": 3,
   "metadata": {},
   "outputs": [
    {
     "data": {
      "text/plain": "<IPython.core.display.Javascript object>",
      "application/javascript": "\n            setTimeout(function() {\n                var nbb_cell_id = 3;\n                var nbb_unformatted_code = \"# hide\\nfrom nbdev.showdoc import *\";\n                var nbb_formatted_code = \"# hide\\nfrom nbdev.showdoc import *\";\n                var nbb_cells = Jupyter.notebook.get_cells();\n                for (var i = 0; i < nbb_cells.length; ++i) {\n                    if (nbb_cells[i].input_prompt_number == nbb_cell_id) {\n                        if (nbb_cells[i].get_text() == nbb_unformatted_code) {\n                             nbb_cells[i].set_text(nbb_formatted_code);\n                        }\n                        break;\n                    }\n                }\n            }, 500);\n            "
     },
     "metadata": {},
     "output_type": "display_data"
    }
   ],
   "source": [
    "# hide\n",
    "from nbdev.showdoc import *"
   ]
  },
  {
   "cell_type": "code",
   "execution_count": 4,
   "metadata": {},
   "outputs": [
    {
     "data": {
      "text/plain": "<IPython.core.display.Javascript object>",
      "application/javascript": "\n            setTimeout(function() {\n                var nbb_cell_id = 4;\n                var nbb_unformatted_code = \"# export\\nimport os\\nimport uuid\\nimport numpy as np\\nimport pandas as pd\\nfrom typing import Union\\nfrom copy import deepcopy\\nfrom random import choices\\nfrom tqdm.auto import tqdm\\nfrom datetime import datetime\\nfrom abc import abstractmethod\\nfrom typeguard import typechecked\\nfrom string import ascii_uppercase\\nfrom rich import print as rich_print\\nfrom numerapi import NumerAPI, SignalsAPI\\nfrom dateutil.relativedelta import relativedelta, FR\\n\\nfrom numerai_blocks.download import BaseIO\\nfrom numerai_blocks.key import Key\";\n                var nbb_formatted_code = \"# export\\nimport os\\nimport uuid\\nimport numpy as np\\nimport pandas as pd\\nfrom typing import Union\\nfrom copy import deepcopy\\nfrom random import choices\\nfrom tqdm.auto import tqdm\\nfrom datetime import datetime\\nfrom abc import abstractmethod\\nfrom typeguard import typechecked\\nfrom string import ascii_uppercase\\nfrom rich import print as rich_print\\nfrom numerapi import NumerAPI, SignalsAPI\\nfrom dateutil.relativedelta import relativedelta, FR\\n\\nfrom numerai_blocks.download import BaseIO\\nfrom numerai_blocks.key import Key\";\n                var nbb_cells = Jupyter.notebook.get_cells();\n                for (var i = 0; i < nbb_cells.length; ++i) {\n                    if (nbb_cells[i].input_prompt_number == nbb_cell_id) {\n                        if (nbb_cells[i].get_text() == nbb_unformatted_code) {\n                             nbb_cells[i].set_text(nbb_formatted_code);\n                        }\n                        break;\n                    }\n                }\n            }, 500);\n            "
     },
     "metadata": {},
     "output_type": "display_data"
    }
   ],
   "source": [
    "# export\n",
    "import os\n",
    "import uuid\n",
    "import numpy as np\n",
    "import pandas as pd\n",
    "from typing import Union\n",
    "from copy import deepcopy\n",
    "from random import choices\n",
    "from tqdm.auto import tqdm\n",
    "from datetime import datetime\n",
    "from abc import abstractmethod\n",
    "from typeguard import typechecked\n",
    "from string import ascii_uppercase\n",
    "from rich import print as rich_print\n",
    "from numerapi import NumerAPI, SignalsAPI\n",
    "from dateutil.relativedelta import relativedelta, FR\n",
    "\n",
    "from numerai_blocks.download import BaseIO\n",
    "from numerai_blocks.key import Key"
   ]
  },
  {
   "cell_type": "markdown",
   "metadata": {},
   "source": [
    "## 1. BaseSubmittor"
   ]
  },
  {
   "cell_type": "markdown",
   "source": [
    "`BaseSubmittor` handles all submission logic common to Numerai Classic and Numerai Signals. Under the hood directory logic is handled by `BaseIO`.\n",
    "Each submittor should inherit from `BaseSubmittor` and implement the `.save_csv` method."
   ],
   "metadata": {
    "collapsed": false
   }
  },
  {
   "cell_type": "code",
   "execution_count": 5,
   "metadata": {},
   "outputs": [
    {
     "data": {
      "text/plain": "<IPython.core.display.Javascript object>",
      "application/javascript": "\n            setTimeout(function() {\n                var nbb_cell_id = 5;\n                var nbb_unformatted_code = \"# export\\n@typechecked\\nclass BaseSubmittor(BaseIO):\\n    def __init__(self, directory_path: str, api: Union[NumerAPI, SignalsAPI]):\\n        super().__init__(directory_path)\\n        self.api = api\\n\\n    @abstractmethod\\n    def save_csv(\\n        self,\\n        dataf: pd.DataFrame,\\n        file_name: str,\\n        cols: Union[str, list],\\n        *args,\\n        **kwargs,\\n    ):\\n        \\\"\\\"\\\"\\n        For Numerai Classic: Save index column + 'cols' (targets) to CSV.\\n        For Numerai Signals: Save ticker, friday_date, data_type and signal columns to CSV.\\n        \\\"\\\"\\\"\\n        ...\\n\\n    def upload_predictions(self, file_name: str, model_name: str, *args, **kwargs):\\n        \\\"\\\"\\\"\\n        Upload CSV file to Numerai for given model name.\\n        :param file_name: File name/path relative to directory_path.\\n        :param model_name: Lowercase raw model name (For example, 'integration_test').\\n        \\\"\\\"\\\"\\n        full_path = str(self.dir / file_name)\\n        model_id = self._get_model_id(model_name=model_name)\\n        api_type = str(self.api.__class__.__name__)\\n        rich_print(\\n            f\\\":airplane: {api_type}: Uploading predictions from '{full_path}' for model [bold blue]'{model_name}'[/bold blue] (model_id='{model_id}') :airplane:\\\"\\n        )\\n        self.api.upload_predictions(\\n            file_path=full_path, model_id=model_id, *args, **kwargs\\n        )\\n        rich_print(\\n            f\\\":thumbs_up: {api_type} submission of '{full_path}' for [bold blue]{model_name}[/bold blue] is successful! :thumbs_up:\\\"\\n        )\\n\\n    def full_submission(\\n        self,\\n        dataf: pd.DataFrame,\\n        file_name: str,\\n        model_name: str,\\n        cols: Union[str, list],\\n        *args,\\n        **kwargs,\\n    ):\\n        \\\"\\\"\\\"\\n        Save DataFrame to csv and upload predictions through API.\\n        *args, **kwargs are passed to numerapi API.\\n        \\\"\\\"\\\"\\n        self.save_csv(dataf=dataf, file_name=file_name, cols=cols)\\n        self.upload_predictions(\\n            file_name=file_name, model_name=model_name, *args, **kwargs\\n        )\\n\\n    def _get_model_id(self, model_name: str) -> str:\\n        \\\"\\\"\\\"\\n        Get ID needed for prediction uploading.\\n        :param model_name: Raw lowercase model name\\n        of model that you have access to.\\n        \\\"\\\"\\\"\\n        return self.get_model_mapping[model_name]\\n\\n    @property\\n    def get_model_mapping(self) -> dict:\\n        \\\"\\\"\\\"Mapping between raw model names and model IDs.\\\"\\\"\\\"\\n        return self.api.get_models()\\n\\n    def _check_value_range(self, dataf: pd.DataFrame, cols: Union[str, list]):\\n        \\\"\\\"\\\" Check if all predictions are in range (0...1). \\\"\\\"\\\"\\n        cols = [cols] if isinstance(cols, str) else cols\\n        for col in cols:\\n            if not dataf[col].between(0, 1).all():\\n                min_val, max_val = dataf[col].min(), dataf[col].max()\\n                raise ValueError(\\n                    f\\\"Values in 'signal' must be between 0 and 1 (exclusive). \\\\\\nFound min value of '{min_val}' and max value of '{max_val}' for column '{col}'.\\\"\\n                )\\n\\n    def __call__(\\n            self,\\n            dataf: pd.DataFrame,\\n            file_name: str,\\n            model_name: str,\\n            cols: Union[str, list],\\n            *args,\\n            **kwargs,\\n    ):\\n        \\\"\\\"\\\"\\n        The most common use case will be to create a CSV and submit it immediately after that.\\n        full_submission handles this.\\n        \\\"\\\"\\\"\\n        self.full_submission(\\n            dataf=dataf,\\n            file_name=file_name,\\n            model_name=model_name,\\n            cols=cols,\\n            *args,\\n            **kwargs,\\n        )\";\n                var nbb_formatted_code = \"# export\\n@typechecked\\nclass BaseSubmittor(BaseIO):\\n    def __init__(self, directory_path: str, api: Union[NumerAPI, SignalsAPI]):\\n        super().__init__(directory_path)\\n        self.api = api\\n\\n    @abstractmethod\\n    def save_csv(\\n        self,\\n        dataf: pd.DataFrame,\\n        file_name: str,\\n        cols: Union[str, list],\\n        *args,\\n        **kwargs,\\n    ):\\n        \\\"\\\"\\\"\\n        For Numerai Classic: Save index column + 'cols' (targets) to CSV.\\n        For Numerai Signals: Save ticker, friday_date, data_type and signal columns to CSV.\\n        \\\"\\\"\\\"\\n        ...\\n\\n    def upload_predictions(self, file_name: str, model_name: str, *args, **kwargs):\\n        \\\"\\\"\\\"\\n        Upload CSV file to Numerai for given model name.\\n        :param file_name: File name/path relative to directory_path.\\n        :param model_name: Lowercase raw model name (For example, 'integration_test').\\n        \\\"\\\"\\\"\\n        full_path = str(self.dir / file_name)\\n        model_id = self._get_model_id(model_name=model_name)\\n        api_type = str(self.api.__class__.__name__)\\n        rich_print(\\n            f\\\":airplane: {api_type}: Uploading predictions from '{full_path}' for model [bold blue]'{model_name}'[/bold blue] (model_id='{model_id}') :airplane:\\\"\\n        )\\n        self.api.upload_predictions(\\n            file_path=full_path, model_id=model_id, *args, **kwargs\\n        )\\n        rich_print(\\n            f\\\":thumbs_up: {api_type} submission of '{full_path}' for [bold blue]{model_name}[/bold blue] is successful! :thumbs_up:\\\"\\n        )\\n\\n    def full_submission(\\n        self,\\n        dataf: pd.DataFrame,\\n        file_name: str,\\n        model_name: str,\\n        cols: Union[str, list],\\n        *args,\\n        **kwargs,\\n    ):\\n        \\\"\\\"\\\"\\n        Save DataFrame to csv and upload predictions through API.\\n        *args, **kwargs are passed to numerapi API.\\n        \\\"\\\"\\\"\\n        self.save_csv(dataf=dataf, file_name=file_name, cols=cols)\\n        self.upload_predictions(\\n            file_name=file_name, model_name=model_name, *args, **kwargs\\n        )\\n\\n    def _get_model_id(self, model_name: str) -> str:\\n        \\\"\\\"\\\"\\n        Get ID needed for prediction uploading.\\n        :param model_name: Raw lowercase model name\\n        of model that you have access to.\\n        \\\"\\\"\\\"\\n        return self.get_model_mapping[model_name]\\n\\n    @property\\n    def get_model_mapping(self) -> dict:\\n        \\\"\\\"\\\"Mapping between raw model names and model IDs.\\\"\\\"\\\"\\n        return self.api.get_models()\\n\\n    def _check_value_range(self, dataf: pd.DataFrame, cols: Union[str, list]):\\n        \\\"\\\"\\\"Check if all predictions are in range (0...1).\\\"\\\"\\\"\\n        cols = [cols] if isinstance(cols, str) else cols\\n        for col in cols:\\n            if not dataf[col].between(0, 1).all():\\n                min_val, max_val = dataf[col].min(), dataf[col].max()\\n                raise ValueError(\\n                    f\\\"Values in 'signal' must be between 0 and 1 (exclusive). \\\\\\nFound min value of '{min_val}' and max value of '{max_val}' for column '{col}'.\\\"\\n                )\\n\\n    def __call__(\\n        self,\\n        dataf: pd.DataFrame,\\n        file_name: str,\\n        model_name: str,\\n        cols: Union[str, list],\\n        *args,\\n        **kwargs,\\n    ):\\n        \\\"\\\"\\\"\\n        The most common use case will be to create a CSV and submit it immediately after that.\\n        full_submission handles this.\\n        \\\"\\\"\\\"\\n        self.full_submission(\\n            dataf=dataf,\\n            file_name=file_name,\\n            model_name=model_name,\\n            cols=cols,\\n            *args,\\n            **kwargs,\\n        )\";\n                var nbb_cells = Jupyter.notebook.get_cells();\n                for (var i = 0; i < nbb_cells.length; ++i) {\n                    if (nbb_cells[i].input_prompt_number == nbb_cell_id) {\n                        if (nbb_cells[i].get_text() == nbb_unformatted_code) {\n                             nbb_cells[i].set_text(nbb_formatted_code);\n                        }\n                        break;\n                    }\n                }\n            }, 500);\n            "
     },
     "metadata": {},
     "output_type": "display_data"
    }
   ],
   "source": [
    "# export\n",
    "@typechecked\n",
    "class BaseSubmittor(BaseIO):\n",
    "    def __init__(self, directory_path: str, api: Union[NumerAPI, SignalsAPI]):\n",
    "        super().__init__(directory_path)\n",
    "        self.api = api\n",
    "\n",
    "    @abstractmethod\n",
    "    def save_csv(\n",
    "        self,\n",
    "        dataf: pd.DataFrame,\n",
    "        file_name: str,\n",
    "        cols: Union[str, list],\n",
    "        *args,\n",
    "        **kwargs,\n",
    "    ):\n",
    "        \"\"\"\n",
    "        For Numerai Classic: Save index column + 'cols' (targets) to CSV.\n",
    "        For Numerai Signals: Save ticker, friday_date, data_type and signal columns to CSV.\n",
    "        \"\"\"\n",
    "        ...\n",
    "\n",
    "    def upload_predictions(self, file_name: str, model_name: str, *args, **kwargs):\n",
    "        \"\"\"\n",
    "        Upload CSV file to Numerai for given model name.\n",
    "        :param file_name: File name/path relative to directory_path.\n",
    "        :param model_name: Lowercase raw model name (For example, 'integration_test').\n",
    "        \"\"\"\n",
    "        full_path = str(self.dir / file_name)\n",
    "        model_id = self._get_model_id(model_name=model_name)\n",
    "        api_type = str(self.api.__class__.__name__)\n",
    "        rich_print(\n",
    "            f\":airplane: {api_type}: Uploading predictions from '{full_path}' for model [bold blue]'{model_name}'[/bold blue] (model_id='{model_id}') :airplane:\"\n",
    "        )\n",
    "        self.api.upload_predictions(\n",
    "            file_path=full_path, model_id=model_id, *args, **kwargs\n",
    "        )\n",
    "        rich_print(\n",
    "            f\":thumbs_up: {api_type} submission of '{full_path}' for [bold blue]{model_name}[/bold blue] is successful! :thumbs_up:\"\n",
    "        )\n",
    "\n",
    "    def full_submission(\n",
    "        self,\n",
    "        dataf: pd.DataFrame,\n",
    "        file_name: str,\n",
    "        model_name: str,\n",
    "        cols: Union[str, list],\n",
    "        *args,\n",
    "        **kwargs,\n",
    "    ):\n",
    "        \"\"\"\n",
    "        Save DataFrame to csv and upload predictions through API.\n",
    "        *args, **kwargs are passed to numerapi API.\n",
    "        \"\"\"\n",
    "        self.save_csv(dataf=dataf, file_name=file_name, cols=cols)\n",
    "        self.upload_predictions(\n",
    "            file_name=file_name, model_name=model_name, *args, **kwargs\n",
    "        )\n",
    "\n",
    "    def _get_model_id(self, model_name: str) -> str:\n",
    "        \"\"\"\n",
    "        Get ID needed for prediction uploading.\n",
    "        :param model_name: Raw lowercase model name\n",
    "        of model that you have access to.\n",
    "        \"\"\"\n",
    "        return self.get_model_mapping[model_name]\n",
    "\n",
    "    @property\n",
    "    def get_model_mapping(self) -> dict:\n",
    "        \"\"\"Mapping between raw model names and model IDs.\"\"\"\n",
    "        return self.api.get_models()\n",
    "\n",
    "    def _check_value_range(self, dataf: pd.DataFrame, cols: Union[str, list]):\n",
    "        \"\"\" Check if all predictions are in range (0...1). \"\"\"\n",
    "        cols = [cols] if isinstance(cols, str) else cols\n",
    "        for col in cols:\n",
    "            if not dataf[col].between(0, 1).all():\n",
    "                min_val, max_val = dataf[col].min(), dataf[col].max()\n",
    "                raise ValueError(\n",
    "                    f\"Values in 'signal' must be between 0 and 1 (exclusive). \\\n",
    "Found min value of '{min_val}' and max value of '{max_val}' for column '{col}'.\"\n",
    "                )\n",
    "\n",
    "    def __call__(\n",
    "            self,\n",
    "            dataf: pd.DataFrame,\n",
    "            file_name: str,\n",
    "            model_name: str,\n",
    "            cols: Union[str, list],\n",
    "            *args,\n",
    "            **kwargs,\n",
    "    ):\n",
    "        \"\"\"\n",
    "        The most common use case will be to create a CSV and submit it immediately after that.\n",
    "        full_submission handles this.\n",
    "        \"\"\"\n",
    "        self.full_submission(\n",
    "            dataf=dataf,\n",
    "            file_name=file_name,\n",
    "            model_name=model_name,\n",
    "            cols=cols,\n",
    "            *args,\n",
    "            **kwargs,\n",
    "        )\n"
   ]
  },
  {
   "cell_type": "markdown",
   "metadata": {},
   "source": [
    "## 2. Numerai Classic"
   ]
  },
  {
   "cell_type": "markdown",
   "source": [
    "For Numerai Classic submissions. Uses [NumerAPI](https://numerapi.readthedocs.io/en/latest/_modules/numerapi/numerapi.html) under the hood.\n",
    "\n",
    "Note that using submittors requires a `Key` object. For more information about this, see section 8."
   ],
   "metadata": {
    "collapsed": false
   }
  },
  {
   "cell_type": "code",
   "execution_count": 6,
   "metadata": {},
   "outputs": [
    {
     "data": {
      "text/plain": "<IPython.core.display.Javascript object>",
      "application/javascript": "\n            setTimeout(function() {\n                var nbb_cell_id = 6;\n                var nbb_unformatted_code = \"# export\\n@typechecked\\nclass NumeraiClassicSubmittor(BaseSubmittor):\\n    \\\"\\\"\\\"\\n    Submit for Numerai Classic.\\n    :param directory_path: Base directory to save and read prediction files from.\\n    :param key: Key object (numerai-blocks.key.Key) containing valid credentials for Numerai Classic.\\n    *args, **kwargs will be passed to NumerAPI initialization.\\n    \\\"\\\"\\\"\\n    def __init__(self, directory_path: str, key: Key, *args, **kwargs):\\n        api = NumerAPI(public_id=key.pub_id, secret_key=key.secret_key, *args, **kwargs)\\n        super().__init__(\\n            directory_path=directory_path, api=api\\n        )\\n\\n    def save_csv(\\n        self,\\n        dataf: pd.DataFrame,\\n        file_name: str,\\n        cols: Union[str, list] = \\\"prediction\\\",\\n        *args,\\n        **kwargs,\\n    ):\\n        \\\"\\\"\\\"\\n        :param dataf: DataFrame which should have at least the following columns:\\n        1. id (as index column)\\n        2. cols (for example, 'prediction', ['prediction'] or [ALL_NUMERAI_TARGETS]).\\n        :param file_name: .csv file path .\\n        :param cols: All prediction columns.\\n        For example, 'prediction', ['prediction'] or [ALL_NUMERAI_TARGETS].\\n        \\\"\\\"\\\"\\n        self._check_value_range(dataf=dataf, cols=cols)\\n\\n        full_path = str(self.dir / file_name)\\n        rich_print(\\n            f\\\":page_facing_up: Saving predictions CSV to '{full_path}'. :page_facing_up:\\\"\\n        )\\n        dataf.loc[:, cols].to_csv(full_path, *args, **kwargs)\\n\\n    def combine_csvs(self, csv_paths: list) -> pd.DataFrame:\\n        \\\"\\\"\\\"\\n        Read in csv files and combine all predictions with a rank mean.\\n        Multi-target predictions will be averaged out.\\n        :param csv_paths: List of full paths to .csv prediction files.\\n        \\\"\\\"\\\"\\n        datafs = []\\n        for i, path in tqdm(enumerate(csv_paths),\\n                            desc=f\\\"Combine CSVs\\\"):\\n            dataf = pd.read_csv(path, index_col=\\\"id\\\")\\n            datafs.append(dataf)\\n        final_dataf = pd.concat(datafs, axis=\\\"columns\\\")\\n        final_dataf['prediction'] = final_dataf.rank(pct=True, method=\\\"first\\\").mean(axis=1)\\n        return final_dataf.loc[:, ['prediction']]\";\n                var nbb_formatted_code = \"# export\\n@typechecked\\nclass NumeraiClassicSubmittor(BaseSubmittor):\\n    \\\"\\\"\\\"\\n    Submit for Numerai Classic.\\n    :param directory_path: Base directory to save and read prediction files from.\\n    :param key: Key object (numerai-blocks.key.Key) containing valid credentials for Numerai Classic.\\n    *args, **kwargs will be passed to NumerAPI initialization.\\n    \\\"\\\"\\\"\\n\\n    def __init__(self, directory_path: str, key: Key, *args, **kwargs):\\n        api = NumerAPI(public_id=key.pub_id, secret_key=key.secret_key, *args, **kwargs)\\n        super().__init__(directory_path=directory_path, api=api)\\n\\n    def save_csv(\\n        self,\\n        dataf: pd.DataFrame,\\n        file_name: str,\\n        cols: Union[str, list] = \\\"prediction\\\",\\n        *args,\\n        **kwargs,\\n    ):\\n        \\\"\\\"\\\"\\n        :param dataf: DataFrame which should have at least the following columns:\\n        1. id (as index column)\\n        2. cols (for example, 'prediction', ['prediction'] or [ALL_NUMERAI_TARGETS]).\\n        :param file_name: .csv file path .\\n        :param cols: All prediction columns.\\n        For example, 'prediction', ['prediction'] or [ALL_NUMERAI_TARGETS].\\n        \\\"\\\"\\\"\\n        self._check_value_range(dataf=dataf, cols=cols)\\n\\n        full_path = str(self.dir / file_name)\\n        rich_print(\\n            f\\\":page_facing_up: Saving predictions CSV to '{full_path}'. :page_facing_up:\\\"\\n        )\\n        dataf.loc[:, cols].to_csv(full_path, *args, **kwargs)\\n\\n    def combine_csvs(self, csv_paths: list) -> pd.DataFrame:\\n        \\\"\\\"\\\"\\n        Read in csv files and combine all predictions with a rank mean.\\n        Multi-target predictions will be averaged out.\\n        :param csv_paths: List of full paths to .csv prediction files.\\n        \\\"\\\"\\\"\\n        datafs = []\\n        for i, path in tqdm(enumerate(csv_paths), desc=f\\\"Combine CSVs\\\"):\\n            dataf = pd.read_csv(path, index_col=\\\"id\\\")\\n            datafs.append(dataf)\\n        final_dataf = pd.concat(datafs, axis=\\\"columns\\\")\\n        final_dataf[\\\"prediction\\\"] = final_dataf.rank(pct=True, method=\\\"first\\\").mean(\\n            axis=1\\n        )\\n        return final_dataf.loc[:, [\\\"prediction\\\"]]\";\n                var nbb_cells = Jupyter.notebook.get_cells();\n                for (var i = 0; i < nbb_cells.length; ++i) {\n                    if (nbb_cells[i].input_prompt_number == nbb_cell_id) {\n                        if (nbb_cells[i].get_text() == nbb_unformatted_code) {\n                             nbb_cells[i].set_text(nbb_formatted_code);\n                        }\n                        break;\n                    }\n                }\n            }, 500);\n            "
     },
     "metadata": {},
     "output_type": "display_data"
    }
   ],
   "source": [
    "# export\n",
    "@typechecked\n",
    "class NumeraiClassicSubmittor(BaseSubmittor):\n",
    "    \"\"\"\n",
    "    Submit for Numerai Classic.\n",
    "    :param directory_path: Base directory to save and read prediction files from.\n",
    "    :param key: Key object (numerai-blocks.key.Key) containing valid credentials for Numerai Classic.\n",
    "    *args, **kwargs will be passed to NumerAPI initialization.\n",
    "    \"\"\"\n",
    "    def __init__(self, directory_path: str, key: Key, *args, **kwargs):\n",
    "        api = NumerAPI(public_id=key.pub_id, secret_key=key.secret_key, *args, **kwargs)\n",
    "        super().__init__(\n",
    "            directory_path=directory_path, api=api\n",
    "        )\n",
    "\n",
    "    def save_csv(\n",
    "        self,\n",
    "        dataf: pd.DataFrame,\n",
    "        file_name: str,\n",
    "        cols: Union[str, list] = \"prediction\",\n",
    "        *args,\n",
    "        **kwargs,\n",
    "    ):\n",
    "        \"\"\"\n",
    "        :param dataf: DataFrame which should have at least the following columns:\n",
    "        1. id (as index column)\n",
    "        2. cols (for example, 'prediction', ['prediction'] or [ALL_NUMERAI_TARGETS]).\n",
    "        :param file_name: .csv file path .\n",
    "        :param cols: All prediction columns.\n",
    "        For example, 'prediction', ['prediction'] or [ALL_NUMERAI_TARGETS].\n",
    "        \"\"\"\n",
    "        self._check_value_range(dataf=dataf, cols=cols)\n",
    "\n",
    "        full_path = str(self.dir / file_name)\n",
    "        rich_print(\n",
    "            f\":page_facing_up: Saving predictions CSV to '{full_path}'. :page_facing_up:\"\n",
    "        )\n",
    "        dataf.loc[:, cols].to_csv(full_path, *args, **kwargs)\n",
    "\n",
    "    def combine_csvs(self, csv_paths: list) -> pd.DataFrame:\n",
    "        \"\"\"\n",
    "        Read in csv files and combine all predictions with a rank mean.\n",
    "        Multi-target predictions will be averaged out.\n",
    "        :param csv_paths: List of full paths to .csv prediction files.\n",
    "        \"\"\"\n",
    "        datafs = []\n",
    "        for i, path in tqdm(enumerate(csv_paths),\n",
    "                            desc=f\"Combine CSVs\"):\n",
    "            dataf = pd.read_csv(path, index_col=\"id\")\n",
    "            datafs.append(dataf)\n",
    "        final_dataf = pd.concat(datafs, axis=\"columns\")\n",
    "        final_dataf['prediction'] = final_dataf.rank(pct=True, method=\"first\").mean(axis=1)\n",
    "        return final_dataf.loc[:, ['prediction']]"
   ]
  },
  {
   "cell_type": "markdown",
   "metadata": {},
   "source": [
    "### NumeraiClassicSubmittor tests"
   ]
  },
  {
   "cell_type": "code",
   "execution_count": 7,
   "metadata": {},
   "outputs": [
    {
     "data": {
      "text/plain": "🔑 Numerai Auth key initialized with pub_id = \u001B[32m'UFVCTElDX0lE'\u001B[0m 🔑\n",
      "text/html": "<pre style=\"white-space:pre;overflow-x:auto;line-height:normal;font-family:Menlo,'DejaVu Sans Mono',consolas,'Courier New',monospace\">🔑 Numerai Auth key initialized with pub_id = <span style=\"color: #008000; text-decoration-color: #008000\">'UFVCTElDX0lE'</span> 🔑\n</pre>\n"
     },
     "metadata": {},
     "output_type": "display_data"
    },
    {
     "data": {
      "text/plain": "                                      prediction_0  prediction_1  \\\nid                                                                 \n1e27ec49-3f5d-4b3f-9ec9-5f3f79626360      0.910276      0.893424   \nc4fd64cf-3ffd-4e63-a1c7-22cddfc7f185      0.125541      0.562856   \n\n                                      prediction_2  prediction_3  \\\nid                                                                 \n1e27ec49-3f5d-4b3f-9ec9-5f3f79626360      0.052896      0.079084   \nc4fd64cf-3ffd-4e63-a1c7-22cddfc7f185      0.848698      0.759123   \n\n                                      prediction_4  prediction_5  \\\nid                                                                 \n1e27ec49-3f5d-4b3f-9ec9-5f3f79626360      0.142604      0.209662   \nc4fd64cf-3ffd-4e63-a1c7-22cddfc7f185      0.247746      0.608131   \n\n                                      prediction_6  prediction_7  \\\nid                                                                 \n1e27ec49-3f5d-4b3f-9ec9-5f3f79626360      0.668440       0.55767   \nc4fd64cf-3ffd-4e63-a1c7-22cddfc7f185      0.022391       0.51516   \n\n                                      prediction_8  prediction_9  \\\nid                                                                 \n1e27ec49-3f5d-4b3f-9ec9-5f3f79626360      0.524363      0.948481   \nc4fd64cf-3ffd-4e63-a1c7-22cddfc7f185      0.588931      0.324228   \n\n                                      prediction_10  prediction_11  \\\nid                                                                   \n1e27ec49-3f5d-4b3f-9ec9-5f3f79626360       0.284003       0.645700   \nc4fd64cf-3ffd-4e63-a1c7-22cddfc7f185       0.671961       0.619421   \n\n                                      prediction_12  prediction_13  \\\nid                                                                   \n1e27ec49-3f5d-4b3f-9ec9-5f3f79626360       0.540471       0.330153   \nc4fd64cf-3ffd-4e63-a1c7-22cddfc7f185       0.116497       0.954820   \n\n                                      prediction_14  prediction_15  \\\nid                                                                   \n1e27ec49-3f5d-4b3f-9ec9-5f3f79626360       0.238646       0.610122   \nc4fd64cf-3ffd-4e63-a1c7-22cddfc7f185       0.949490       0.819323   \n\n                                      prediction_16  prediction_17  \\\nid                                                                   \n1e27ec49-3f5d-4b3f-9ec9-5f3f79626360       0.005369       0.222632   \nc4fd64cf-3ffd-4e63-a1c7-22cddfc7f185       0.368915       0.794054   \n\n                                      prediction_18  prediction_19  \nid                                                                  \n1e27ec49-3f5d-4b3f-9ec9-5f3f79626360       0.304998       0.523189  \nc4fd64cf-3ffd-4e63-a1c7-22cddfc7f185       0.299073       0.829131  ",
      "text/html": "<div>\n<style scoped>\n    .dataframe tbody tr th:only-of-type {\n        vertical-align: middle;\n    }\n\n    .dataframe tbody tr th {\n        vertical-align: top;\n    }\n\n    .dataframe thead th {\n        text-align: right;\n    }\n</style>\n<table border=\"1\" class=\"dataframe\">\n  <thead>\n    <tr style=\"text-align: right;\">\n      <th></th>\n      <th>prediction_0</th>\n      <th>prediction_1</th>\n      <th>prediction_2</th>\n      <th>prediction_3</th>\n      <th>prediction_4</th>\n      <th>prediction_5</th>\n      <th>prediction_6</th>\n      <th>prediction_7</th>\n      <th>prediction_8</th>\n      <th>prediction_9</th>\n      <th>prediction_10</th>\n      <th>prediction_11</th>\n      <th>prediction_12</th>\n      <th>prediction_13</th>\n      <th>prediction_14</th>\n      <th>prediction_15</th>\n      <th>prediction_16</th>\n      <th>prediction_17</th>\n      <th>prediction_18</th>\n      <th>prediction_19</th>\n    </tr>\n    <tr>\n      <th>id</th>\n      <th></th>\n      <th></th>\n      <th></th>\n      <th></th>\n      <th></th>\n      <th></th>\n      <th></th>\n      <th></th>\n      <th></th>\n      <th></th>\n      <th></th>\n      <th></th>\n      <th></th>\n      <th></th>\n      <th></th>\n      <th></th>\n      <th></th>\n      <th></th>\n      <th></th>\n      <th></th>\n    </tr>\n  </thead>\n  <tbody>\n    <tr>\n      <th>1e27ec49-3f5d-4b3f-9ec9-5f3f79626360</th>\n      <td>0.910276</td>\n      <td>0.893424</td>\n      <td>0.052896</td>\n      <td>0.079084</td>\n      <td>0.142604</td>\n      <td>0.209662</td>\n      <td>0.668440</td>\n      <td>0.55767</td>\n      <td>0.524363</td>\n      <td>0.948481</td>\n      <td>0.284003</td>\n      <td>0.645700</td>\n      <td>0.540471</td>\n      <td>0.330153</td>\n      <td>0.238646</td>\n      <td>0.610122</td>\n      <td>0.005369</td>\n      <td>0.222632</td>\n      <td>0.304998</td>\n      <td>0.523189</td>\n    </tr>\n    <tr>\n      <th>c4fd64cf-3ffd-4e63-a1c7-22cddfc7f185</th>\n      <td>0.125541</td>\n      <td>0.562856</td>\n      <td>0.848698</td>\n      <td>0.759123</td>\n      <td>0.247746</td>\n      <td>0.608131</td>\n      <td>0.022391</td>\n      <td>0.51516</td>\n      <td>0.588931</td>\n      <td>0.324228</td>\n      <td>0.671961</td>\n      <td>0.619421</td>\n      <td>0.116497</td>\n      <td>0.954820</td>\n      <td>0.949490</td>\n      <td>0.819323</td>\n      <td>0.368915</td>\n      <td>0.794054</td>\n      <td>0.299073</td>\n      <td>0.829131</td>\n    </tr>\n  </tbody>\n</table>\n</div>"
     },
     "execution_count": 7,
     "metadata": {},
     "output_type": "execute_result"
    },
    {
     "data": {
      "text/plain": "<IPython.core.display.Javascript object>",
      "application/javascript": "\n            setTimeout(function() {\n                var nbb_cell_id = 7;\n                var nbb_unformatted_code = \"# Initialization (Random credentials)\\ntest_dir = \\\"test_sub\\\"\\nclassic_key = Key(pub_id=\\\"UFVCTElDX0lE\\\", secret_key=\\\"U1VQRVJfU0VDUkVUX0tFWQ==\\\")\\nnum_sub = NumeraiClassicSubmittor(directory_path=test_dir, key=classic_key)\\nassert num_sub.dir.is_dir()\\n\\n# Create random dataframe\\nn_rows, n_columns = 100, 20\\ntargets = [f\\\"prediction_{i}\\\" for i in range(n_columns)]\\ntest_dataf = pd.DataFrame(np.random.uniform(size=(n_rows, n_columns)), columns=targets)\\ntest_dataf[\\\"id\\\"] = [uuid.uuid4() for _ in range(n_rows)]\\ntest_dataf = test_dataf.set_index(\\\"id\\\")\\ntest_dataf.head(2)\";\n                var nbb_formatted_code = \"# Initialization (Random credentials)\\ntest_dir = \\\"test_sub\\\"\\nclassic_key = Key(pub_id=\\\"UFVCTElDX0lE\\\", secret_key=\\\"U1VQRVJfU0VDUkVUX0tFWQ==\\\")\\nnum_sub = NumeraiClassicSubmittor(directory_path=test_dir, key=classic_key)\\nassert num_sub.dir.is_dir()\\n\\n# Create random dataframe\\nn_rows, n_columns = 100, 20\\ntargets = [f\\\"prediction_{i}\\\" for i in range(n_columns)]\\ntest_dataf = pd.DataFrame(np.random.uniform(size=(n_rows, n_columns)), columns=targets)\\ntest_dataf[\\\"id\\\"] = [uuid.uuid4() for _ in range(n_rows)]\\ntest_dataf = test_dataf.set_index(\\\"id\\\")\\ntest_dataf.head(2)\";\n                var nbb_cells = Jupyter.notebook.get_cells();\n                for (var i = 0; i < nbb_cells.length; ++i) {\n                    if (nbb_cells[i].input_prompt_number == nbb_cell_id) {\n                        if (nbb_cells[i].get_text() == nbb_unformatted_code) {\n                             nbb_cells[i].set_text(nbb_formatted_code);\n                        }\n                        break;\n                    }\n                }\n            }, 500);\n            "
     },
     "metadata": {},
     "output_type": "display_data"
    }
   ],
   "source": [
    "# Initialization (Random credentials)\n",
    "test_dir = \"test_sub\"\n",
    "classic_key = Key(pub_id=\"UFVCTElDX0lE\", secret_key=\"U1VQRVJfU0VDUkVUX0tFWQ==\")\n",
    "num_sub = NumeraiClassicSubmittor(directory_path=test_dir, key=classic_key)\n",
    "assert num_sub.dir.is_dir()\n",
    "\n",
    "# Create random dataframe\n",
    "n_rows, n_columns = 100, 20\n",
    "targets = [f\"prediction_{i}\" for i in range(n_columns)]\n",
    "test_dataf = pd.DataFrame(np.random.uniform(size=(n_rows, n_columns)), columns=targets)\n",
    "test_dataf[\"id\"] = [uuid.uuid4() for _ in range(n_rows)]\n",
    "test_dataf = test_dataf.set_index(\"id\")\n",
    "test_dataf.head(2)"
   ]
  },
  {
   "cell_type": "code",
   "execution_count": 8,
   "metadata": {},
   "outputs": [
    {
     "name": "stderr",
     "output_type": "stream",
     "text": [
      "2022-02-21 12:53:21,513 INFO numexpr.utils: Note: NumExpr detected 16 cores but \"NUMEXPR_MAX_THREADS\" not set, so enforcing safe limit of 8.\n",
      "2022-02-21 12:53:21,513 INFO numexpr.utils: NumExpr defaulting to 8 threads.\n"
     ]
    },
    {
     "data": {
      "text/plain": "📄 Saving predictions CSV to \u001B[32m'test_sub/test.csv'\u001B[0m. 📄\n",
      "text/html": "<pre style=\"white-space:pre;overflow-x:auto;line-height:normal;font-family:Menlo,'DejaVu Sans Mono',consolas,'Courier New',monospace\">📄 Saving predictions CSV to <span style=\"color: #008000; text-decoration-color: #008000\">'test_sub/test.csv'</span>. 📄\n</pre>\n"
     },
     "metadata": {},
     "output_type": "display_data"
    },
    {
     "data": {
      "text/plain": "📄 Saving predictions CSV to \u001B[32m'test_sub/test2.csv'\u001B[0m. 📄\n",
      "text/html": "<pre style=\"white-space:pre;overflow-x:auto;line-height:normal;font-family:Menlo,'DejaVu Sans Mono',consolas,'Courier New',monospace\">📄 Saving predictions CSV to <span style=\"color: #008000; text-decoration-color: #008000\">'test_sub/test2.csv'</span>. 📄\n</pre>\n"
     },
     "metadata": {},
     "output_type": "display_data"
    },
    {
     "data": {
      "text/plain": "                                     id  prediction_0  prediction_1  \\\n0  1e27ec49-3f5d-4b3f-9ec9-5f3f79626360      0.910276      0.893424   \n1  c4fd64cf-3ffd-4e63-a1c7-22cddfc7f185      0.125541      0.562856   \n\n   prediction_2  prediction_3  prediction_4  prediction_5  prediction_6  \\\n0      0.052896      0.079084      0.142604      0.209662      0.668440   \n1      0.848698      0.759123      0.247746      0.608131      0.022391   \n\n   prediction_7  prediction_8  ...  prediction_10  prediction_11  \\\n0       0.55767      0.524363  ...       0.284003       0.645700   \n1       0.51516      0.588931  ...       0.671961       0.619421   \n\n   prediction_12  prediction_13  prediction_14  prediction_15  prediction_16  \\\n0       0.540471       0.330153       0.238646       0.610122       0.005369   \n1       0.116497       0.954820       0.949490       0.819323       0.368915   \n\n   prediction_17  prediction_18  prediction_19  \n0       0.222632       0.304998       0.523189  \n1       0.794054       0.299073       0.829131  \n\n[2 rows x 21 columns]",
      "text/html": "<div>\n<style scoped>\n    .dataframe tbody tr th:only-of-type {\n        vertical-align: middle;\n    }\n\n    .dataframe tbody tr th {\n        vertical-align: top;\n    }\n\n    .dataframe thead th {\n        text-align: right;\n    }\n</style>\n<table border=\"1\" class=\"dataframe\">\n  <thead>\n    <tr style=\"text-align: right;\">\n      <th></th>\n      <th>id</th>\n      <th>prediction_0</th>\n      <th>prediction_1</th>\n      <th>prediction_2</th>\n      <th>prediction_3</th>\n      <th>prediction_4</th>\n      <th>prediction_5</th>\n      <th>prediction_6</th>\n      <th>prediction_7</th>\n      <th>prediction_8</th>\n      <th>...</th>\n      <th>prediction_10</th>\n      <th>prediction_11</th>\n      <th>prediction_12</th>\n      <th>prediction_13</th>\n      <th>prediction_14</th>\n      <th>prediction_15</th>\n      <th>prediction_16</th>\n      <th>prediction_17</th>\n      <th>prediction_18</th>\n      <th>prediction_19</th>\n    </tr>\n  </thead>\n  <tbody>\n    <tr>\n      <th>0</th>\n      <td>1e27ec49-3f5d-4b3f-9ec9-5f3f79626360</td>\n      <td>0.910276</td>\n      <td>0.893424</td>\n      <td>0.052896</td>\n      <td>0.079084</td>\n      <td>0.142604</td>\n      <td>0.209662</td>\n      <td>0.668440</td>\n      <td>0.55767</td>\n      <td>0.524363</td>\n      <td>...</td>\n      <td>0.284003</td>\n      <td>0.645700</td>\n      <td>0.540471</td>\n      <td>0.330153</td>\n      <td>0.238646</td>\n      <td>0.610122</td>\n      <td>0.005369</td>\n      <td>0.222632</td>\n      <td>0.304998</td>\n      <td>0.523189</td>\n    </tr>\n    <tr>\n      <th>1</th>\n      <td>c4fd64cf-3ffd-4e63-a1c7-22cddfc7f185</td>\n      <td>0.125541</td>\n      <td>0.562856</td>\n      <td>0.848698</td>\n      <td>0.759123</td>\n      <td>0.247746</td>\n      <td>0.608131</td>\n      <td>0.022391</td>\n      <td>0.51516</td>\n      <td>0.588931</td>\n      <td>...</td>\n      <td>0.671961</td>\n      <td>0.619421</td>\n      <td>0.116497</td>\n      <td>0.954820</td>\n      <td>0.949490</td>\n      <td>0.819323</td>\n      <td>0.368915</td>\n      <td>0.794054</td>\n      <td>0.299073</td>\n      <td>0.829131</td>\n    </tr>\n  </tbody>\n</table>\n<p>2 rows × 21 columns</p>\n</div>"
     },
     "execution_count": 8,
     "metadata": {},
     "output_type": "execute_result"
    },
    {
     "data": {
      "text/plain": "<IPython.core.display.Javascript object>",
      "application/javascript": "\n            setTimeout(function() {\n                var nbb_cell_id = 8;\n                var nbb_unformatted_code = \"file_name = \\\"test.csv\\\"\\nnum_sub.save_csv(dataf=test_dataf, file_name=file_name, cols=targets)\\nnum_sub.save_csv(dataf=test_dataf, file_name=\\\"test2.csv\\\", cols=targets)\\npd.read_csv(f\\\"{test_dir}/{file_name}\\\").head(2)\";\n                var nbb_formatted_code = \"file_name = \\\"test.csv\\\"\\nnum_sub.save_csv(dataf=test_dataf, file_name=file_name, cols=targets)\\nnum_sub.save_csv(dataf=test_dataf, file_name=\\\"test2.csv\\\", cols=targets)\\npd.read_csv(f\\\"{test_dir}/{file_name}\\\").head(2)\";\n                var nbb_cells = Jupyter.notebook.get_cells();\n                for (var i = 0; i < nbb_cells.length; ++i) {\n                    if (nbb_cells[i].input_prompt_number == nbb_cell_id) {\n                        if (nbb_cells[i].get_text() == nbb_unformatted_code) {\n                             nbb_cells[i].set_text(nbb_formatted_code);\n                        }\n                        break;\n                    }\n                }\n            }, 500);\n            "
     },
     "metadata": {},
     "output_type": "display_data"
    }
   ],
   "source": [
    "file_name = \"test.csv\"\n",
    "num_sub.save_csv(dataf=test_dataf, file_name=file_name, cols=targets)\n",
    "num_sub.save_csv(dataf=test_dataf, file_name=\"test2.csv\", cols=targets)\n",
    "pd.read_csv(f\"{test_dir}/{file_name}\").head(2)"
   ]
  },
  {
   "cell_type": "code",
   "execution_count": 9,
   "outputs": [
    {
     "data": {
      "text/plain": "Combine CSVs: 0it [00:00, ?it/s]",
      "application/vnd.jupyter.widget-view+json": {
       "version_major": 2,
       "version_minor": 0,
       "model_id": "e2ad349829524cfeb9a86c3263a5d95a"
      }
     },
     "metadata": {},
     "output_type": "display_data"
    },
    {
     "data": {
      "text/plain": "                                      prediction\nid                                              \n1e27ec49-3f5d-4b3f-9ec9-5f3f79626360      0.4420\nc4fd64cf-3ffd-4e63-a1c7-22cddfc7f185      0.5605",
      "text/html": "<div>\n<style scoped>\n    .dataframe tbody tr th:only-of-type {\n        vertical-align: middle;\n    }\n\n    .dataframe tbody tr th {\n        vertical-align: top;\n    }\n\n    .dataframe thead th {\n        text-align: right;\n    }\n</style>\n<table border=\"1\" class=\"dataframe\">\n  <thead>\n    <tr style=\"text-align: right;\">\n      <th></th>\n      <th>prediction</th>\n    </tr>\n    <tr>\n      <th>id</th>\n      <th></th>\n    </tr>\n  </thead>\n  <tbody>\n    <tr>\n      <th>1e27ec49-3f5d-4b3f-9ec9-5f3f79626360</th>\n      <td>0.4420</td>\n    </tr>\n    <tr>\n      <th>c4fd64cf-3ffd-4e63-a1c7-22cddfc7f185</th>\n      <td>0.5605</td>\n    </tr>\n  </tbody>\n</table>\n</div>"
     },
     "execution_count": 9,
     "metadata": {},
     "output_type": "execute_result"
    },
    {
     "data": {
      "text/plain": "<IPython.core.display.Javascript object>",
      "application/javascript": "\n            setTimeout(function() {\n                var nbb_cell_id = 9;\n                var nbb_unformatted_code = \"combined = num_sub.combine_csvs([\\\"test_sub/test.csv\\\", \\\"test_sub/test2.csv\\\"])\\nassert combined.columns == ['prediction']\\ncombined.head(2)\";\n                var nbb_formatted_code = \"combined = num_sub.combine_csvs([\\\"test_sub/test.csv\\\", \\\"test_sub/test2.csv\\\"])\\nassert combined.columns == [\\\"prediction\\\"]\\ncombined.head(2)\";\n                var nbb_cells = Jupyter.notebook.get_cells();\n                for (var i = 0; i < nbb_cells.length; ++i) {\n                    if (nbb_cells[i].input_prompt_number == nbb_cell_id) {\n                        if (nbb_cells[i].get_text() == nbb_unformatted_code) {\n                             nbb_cells[i].set_text(nbb_formatted_code);\n                        }\n                        break;\n                    }\n                }\n            }, 500);\n            "
     },
     "metadata": {},
     "output_type": "display_data"
    }
   ],
   "source": [
    "combined = num_sub.combine_csvs([\"test_sub/test.csv\", \"test_sub/test2.csv\"])\n",
    "assert combined.columns == ['prediction']\n",
    "combined.head(2)"
   ],
   "metadata": {
    "collapsed": false,
    "pycharm": {
     "name": "#%%\n"
    }
   }
  },
  {
   "cell_type": "code",
   "execution_count": 10,
   "outputs": [
    {
     "data": {
      "text/plain": "<IPython.core.display.Javascript object>",
      "application/javascript": "\n            setTimeout(function() {\n                var nbb_cell_id = 10;\n                var nbb_unformatted_code = \"def test_signal_validity(\\n        submittor: NumeraiClassicSubmittor, dataf: pd.DataFrame\\n):\\n    \\\"\\\"\\\" Test value range of prediction. \\\"\\\"\\\"\\n    try:\\n        invalid_signal = deepcopy(dataf)\\n        invalid_signal.iloc[0][\\\"prediction_0\\\"] += 10\\n        submittor.save_csv(\\n            invalid_signal,\\n            file_name=\\\"should_not_save.csv\\\",\\n            cols=list(invalid_signal.columns),\\n        )\\n    except ValueError:\\n        return True\\n    return False\\n\\nassert test_signal_validity(num_sub, test_dataf)\";\n                var nbb_formatted_code = \"def test_signal_validity(submittor: NumeraiClassicSubmittor, dataf: pd.DataFrame):\\n    \\\"\\\"\\\"Test value range of prediction.\\\"\\\"\\\"\\n    try:\\n        invalid_signal = deepcopy(dataf)\\n        invalid_signal.iloc[0][\\\"prediction_0\\\"] += 10\\n        submittor.save_csv(\\n            invalid_signal,\\n            file_name=\\\"should_not_save.csv\\\",\\n            cols=list(invalid_signal.columns),\\n        )\\n    except ValueError:\\n        return True\\n    return False\\n\\n\\nassert test_signal_validity(num_sub, test_dataf)\";\n                var nbb_cells = Jupyter.notebook.get_cells();\n                for (var i = 0; i < nbb_cells.length; ++i) {\n                    if (nbb_cells[i].input_prompt_number == nbb_cell_id) {\n                        if (nbb_cells[i].get_text() == nbb_unformatted_code) {\n                             nbb_cells[i].set_text(nbb_formatted_code);\n                        }\n                        break;\n                    }\n                }\n            }, 500);\n            "
     },
     "metadata": {},
     "output_type": "display_data"
    }
   ],
   "source": [
    "def test_signal_validity(\n",
    "        submittor: NumeraiClassicSubmittor, dataf: pd.DataFrame\n",
    "):\n",
    "    \"\"\" Test value range of prediction. \"\"\"\n",
    "    try:\n",
    "        invalid_signal = deepcopy(dataf)\n",
    "        invalid_signal.iloc[0][\"prediction_0\"] += 10\n",
    "        submittor.save_csv(\n",
    "            invalid_signal,\n",
    "            file_name=\"should_not_save.csv\",\n",
    "            cols=list(invalid_signal.columns),\n",
    "        )\n",
    "    except ValueError:\n",
    "        return True\n",
    "    return False\n",
    "\n",
    "assert test_signal_validity(num_sub, test_dataf)"
   ],
   "metadata": {
    "collapsed": false,
    "pycharm": {
     "name": "#%%\n"
    }
   }
  },
  {
   "cell_type": "code",
   "execution_count": 11,
   "metadata": {},
   "outputs": [
    {
     "data": {
      "text/plain": "<IPython.core.display.Javascript object>",
      "application/javascript": "\n            setTimeout(function() {\n                var nbb_cell_id = 11;\n                var nbb_unformatted_code = \"# Uncomment to save CSV and upload predictions\\n# num_sub.full_submission(dataf=test_dataf, file_name='test.csv', cols=targets, model_name=\\\"test\\\")\";\n                var nbb_formatted_code = \"# Uncomment to save CSV and upload predictions\\n# num_sub.full_submission(dataf=test_dataf, file_name='test.csv', cols=targets, model_name=\\\"test\\\")\";\n                var nbb_cells = Jupyter.notebook.get_cells();\n                for (var i = 0; i < nbb_cells.length; ++i) {\n                    if (nbb_cells[i].input_prompt_number == nbb_cell_id) {\n                        if (nbb_cells[i].get_text() == nbb_unformatted_code) {\n                             nbb_cells[i].set_text(nbb_formatted_code);\n                        }\n                        break;\n                    }\n                }\n            }, 500);\n            "
     },
     "metadata": {},
     "output_type": "display_data"
    }
   ],
   "source": [
    "# Uncomment to save CSV and upload predictions\n",
    "# num_sub.full_submission(dataf=test_dataf, file_name='test.csv', cols=targets, model_name=\"test\")"
   ]
  },
  {
   "cell_type": "code",
   "execution_count": 12,
   "metadata": {},
   "outputs": [
    {
     "data": {
      "text/plain": "⚠ \u001B[31mDeleting directory for \u001B[0m\u001B[31m'NumeraiClassicSubmittor\u001B[0m\u001B[32m'\u001B[0m ⚠\nPath: \u001B[32m'/Users/clepelaars/Desktop/crowdcent/repositories/numerai-blocks/nbs/test_sub'\u001B[0m\n",
      "text/html": "<pre style=\"white-space:pre;overflow-x:auto;line-height:normal;font-family:Menlo,'DejaVu Sans Mono',consolas,'Courier New',monospace\">⚠ <span style=\"color: #800000; text-decoration-color: #800000\">Deleting directory for </span><span style=\"color: #800000; text-decoration-color: #800000\">'NumeraiClassicSubmittor</span><span style=\"color: #008000; text-decoration-color: #008000\">'</span> ⚠\nPath: <span style=\"color: #008000; text-decoration-color: #008000\">'/Users/clepelaars/Desktop/crowdcent/repositories/numerai-blocks/nbs/test_sub'</span>\n</pre>\n"
     },
     "metadata": {},
     "output_type": "display_data"
    },
    {
     "data": {
      "text/plain": "<IPython.core.display.Javascript object>",
      "application/javascript": "\n            setTimeout(function() {\n                var nbb_cell_id = 12;\n                var nbb_unformatted_code = \"# Remove contents after submitting is successful\\nnum_sub.remove_base_directory()\\nassert not os.path.exists(test_dir)\";\n                var nbb_formatted_code = \"# Remove contents after submitting is successful\\nnum_sub.remove_base_directory()\\nassert not os.path.exists(test_dir)\";\n                var nbb_cells = Jupyter.notebook.get_cells();\n                for (var i = 0; i < nbb_cells.length; ++i) {\n                    if (nbb_cells[i].input_prompt_number == nbb_cell_id) {\n                        if (nbb_cells[i].get_text() == nbb_unformatted_code) {\n                             nbb_cells[i].set_text(nbb_formatted_code);\n                        }\n                        break;\n                    }\n                }\n            }, 500);\n            "
     },
     "metadata": {},
     "output_type": "display_data"
    }
   ],
   "source": [
    "# Remove contents after submitting is successful\n",
    "num_sub.remove_base_directory()\n",
    "assert not os.path.exists(test_dir)"
   ]
  },
  {
   "cell_type": "markdown",
   "metadata": {},
   "source": []
  },
  {
   "cell_type": "markdown",
   "metadata": {},
   "source": [
    "## 3. Numerai Signals"
   ]
  },
  {
   "cell_type": "markdown",
   "source": [
    "For Numerai Signals submissions. Uses [SignalsAPI](https://numerapi.readthedocs.io/en/latest/_modules/numerapi/signalsapi.html) under the hood."
   ],
   "metadata": {
    "collapsed": false
   }
  },
  {
   "cell_type": "code",
   "execution_count": 13,
   "metadata": {},
   "outputs": [
    {
     "data": {
      "text/plain": "<IPython.core.display.Javascript object>",
      "application/javascript": "\n            setTimeout(function() {\n                var nbb_cell_id = 13;\n                var nbb_unformatted_code = \"# export\\n@typechecked\\nclass NumeraiSignalsSubmittor(BaseSubmittor):\\n    \\\"\\\"\\\"\\n    Submit for Numerai Signals\\n    :param directory_path: Base directory to save and read prediction files from.\\n    :param key: Key object (numerai-blocks.key.Key) containing valid credentials for Numerai Signals.\\n    *args, **kwargs will be passed to SignalsAPI initialization.\\n    \\\"\\\"\\\"\\n\\n    def __init__(self, directory_path: str, key: Key, *args, **kwargs):\\n        api = SignalsAPI(\\n            public_id=key.pub_id, secret_key=key.secret_key, *args, **kwargs\\n        )\\n        super().__init__(\\n            directory_path=directory_path, api=api\\n        )\\n        self.supported_ticker_formats = [\\n            \\\"cusip\\\",\\n            \\\"sedol\\\",\\n            \\\"ticker\\\",\\n            \\\"numerai_ticker\\\",\\n            \\\"bloomberg_ticker\\\",\\n        ]\\n\\n    def save_csv(\\n        self, dataf: pd.DataFrame, file_name: str, cols: list = None, *args, **kwargs\\n    ):\\n        \\\"\\\"\\\"\\n        :param dataf: DataFrame which should have at least the following columns:\\n         1. One of supported ticker formats (cusip, sedol, ticker, numerai_ticker or bloomberg_ticker)\\n         2. signal (Values between 0 and 1 (exclusive))\\n         Additional columns for if you include validation data (optional):\\n         3. friday_date (YYYYMMDD format date indication)\\n         4. data_type ('val' and 'live' partitions)\\n\\n         :param file_name: .csv file path.\\n         :param cols: All cols that should be passed to CSV. Defaults to 2 standard columns.\\n          ('bloomberg_ticker', 'signal')\\n        \\\"\\\"\\\"\\n        if not cols:\\n            cols = [\\\"bloomberg_ticker\\\", \\\"signal\\\"]\\n\\n        self._check_ticker_format(cols=cols)\\n        self._check_value_range(dataf=dataf, cols=\\\"signal\\\")\\n\\n        full_path = str(self.dir / file_name)\\n        rich_print(\\n            f\\\":page_facing_up: Saving Signals predictions CSV to '{full_path}'. :page_facing_up:\\\"\\n        )\\n        dataf.loc[:, cols].reset_index(drop=True).to_csv(\\n            full_path, index=False, *args, **kwargs\\n        )\\n\\n    def _check_ticker_format(self, cols: list):\\n        \\\"\\\"\\\" Check for valid ticker format. \\\"\\\"\\\"\\n        valid_tickers = set(cols).intersection(set(self.supported_ticker_formats))\\n        if not valid_tickers:\\n            raise NotImplementedError(\\n                f\\\"No supported ticker format in {cols}). \\\\\\nSupported: '{self.supported_ticker_formats}'\\\"\\n            )\";\n                var nbb_formatted_code = \"# export\\n@typechecked\\nclass NumeraiSignalsSubmittor(BaseSubmittor):\\n    \\\"\\\"\\\"\\n    Submit for Numerai Signals\\n    :param directory_path: Base directory to save and read prediction files from.\\n    :param key: Key object (numerai-blocks.key.Key) containing valid credentials for Numerai Signals.\\n    *args, **kwargs will be passed to SignalsAPI initialization.\\n    \\\"\\\"\\\"\\n\\n    def __init__(self, directory_path: str, key: Key, *args, **kwargs):\\n        api = SignalsAPI(\\n            public_id=key.pub_id, secret_key=key.secret_key, *args, **kwargs\\n        )\\n        super().__init__(directory_path=directory_path, api=api)\\n        self.supported_ticker_formats = [\\n            \\\"cusip\\\",\\n            \\\"sedol\\\",\\n            \\\"ticker\\\",\\n            \\\"numerai_ticker\\\",\\n            \\\"bloomberg_ticker\\\",\\n        ]\\n\\n    def save_csv(\\n        self, dataf: pd.DataFrame, file_name: str, cols: list = None, *args, **kwargs\\n    ):\\n        \\\"\\\"\\\"\\n        :param dataf: DataFrame which should have at least the following columns:\\n         1. One of supported ticker formats (cusip, sedol, ticker, numerai_ticker or bloomberg_ticker)\\n         2. signal (Values between 0 and 1 (exclusive))\\n         Additional columns for if you include validation data (optional):\\n         3. friday_date (YYYYMMDD format date indication)\\n         4. data_type ('val' and 'live' partitions)\\n\\n         :param file_name: .csv file path.\\n         :param cols: All cols that should be passed to CSV. Defaults to 2 standard columns.\\n          ('bloomberg_ticker', 'signal')\\n        \\\"\\\"\\\"\\n        if not cols:\\n            cols = [\\\"bloomberg_ticker\\\", \\\"signal\\\"]\\n\\n        self._check_ticker_format(cols=cols)\\n        self._check_value_range(dataf=dataf, cols=\\\"signal\\\")\\n\\n        full_path = str(self.dir / file_name)\\n        rich_print(\\n            f\\\":page_facing_up: Saving Signals predictions CSV to '{full_path}'. :page_facing_up:\\\"\\n        )\\n        dataf.loc[:, cols].reset_index(drop=True).to_csv(\\n            full_path, index=False, *args, **kwargs\\n        )\\n\\n    def _check_ticker_format(self, cols: list):\\n        \\\"\\\"\\\"Check for valid ticker format.\\\"\\\"\\\"\\n        valid_tickers = set(cols).intersection(set(self.supported_ticker_formats))\\n        if not valid_tickers:\\n            raise NotImplementedError(\\n                f\\\"No supported ticker format in {cols}). \\\\\\nSupported: '{self.supported_ticker_formats}'\\\"\\n            )\";\n                var nbb_cells = Jupyter.notebook.get_cells();\n                for (var i = 0; i < nbb_cells.length; ++i) {\n                    if (nbb_cells[i].input_prompt_number == nbb_cell_id) {\n                        if (nbb_cells[i].get_text() == nbb_unformatted_code) {\n                             nbb_cells[i].set_text(nbb_formatted_code);\n                        }\n                        break;\n                    }\n                }\n            }, 500);\n            "
     },
     "metadata": {},
     "output_type": "display_data"
    }
   ],
   "source": [
    "# export\n",
    "@typechecked\n",
    "class NumeraiSignalsSubmittor(BaseSubmittor):\n",
    "    \"\"\"\n",
    "    Submit for Numerai Signals\n",
    "    :param directory_path: Base directory to save and read prediction files from.\n",
    "    :param key: Key object (numerai-blocks.key.Key) containing valid credentials for Numerai Signals.\n",
    "    *args, **kwargs will be passed to SignalsAPI initialization.\n",
    "    \"\"\"\n",
    "\n",
    "    def __init__(self, directory_path: str, key: Key, *args, **kwargs):\n",
    "        api = SignalsAPI(\n",
    "            public_id=key.pub_id, secret_key=key.secret_key, *args, **kwargs\n",
    "        )\n",
    "        super().__init__(\n",
    "            directory_path=directory_path, api=api\n",
    "        )\n",
    "        self.supported_ticker_formats = [\n",
    "            \"cusip\",\n",
    "            \"sedol\",\n",
    "            \"ticker\",\n",
    "            \"numerai_ticker\",\n",
    "            \"bloomberg_ticker\",\n",
    "        ]\n",
    "\n",
    "    def save_csv(\n",
    "        self, dataf: pd.DataFrame, file_name: str, cols: list = None, *args, **kwargs\n",
    "    ):\n",
    "        \"\"\"\n",
    "        :param dataf: DataFrame which should have at least the following columns:\n",
    "         1. One of supported ticker formats (cusip, sedol, ticker, numerai_ticker or bloomberg_ticker)\n",
    "         2. signal (Values between 0 and 1 (exclusive))\n",
    "         Additional columns for if you include validation data (optional):\n",
    "         3. friday_date (YYYYMMDD format date indication)\n",
    "         4. data_type ('val' and 'live' partitions)\n",
    "\n",
    "         :param file_name: .csv file path.\n",
    "         :param cols: All cols that should be passed to CSV. Defaults to 2 standard columns.\n",
    "          ('bloomberg_ticker', 'signal')\n",
    "        \"\"\"\n",
    "        if not cols:\n",
    "            cols = [\"bloomberg_ticker\", \"signal\"]\n",
    "\n",
    "        self._check_ticker_format(cols=cols)\n",
    "        self._check_value_range(dataf=dataf, cols=\"signal\")\n",
    "\n",
    "        full_path = str(self.dir / file_name)\n",
    "        rich_print(\n",
    "            f\":page_facing_up: Saving Signals predictions CSV to '{full_path}'. :page_facing_up:\"\n",
    "        )\n",
    "        dataf.loc[:, cols].reset_index(drop=True).to_csv(\n",
    "            full_path, index=False, *args, **kwargs\n",
    "        )\n",
    "\n",
    "    def _check_ticker_format(self, cols: list):\n",
    "        \"\"\" Check for valid ticker format. \"\"\"\n",
    "        valid_tickers = set(cols).intersection(set(self.supported_ticker_formats))\n",
    "        if not valid_tickers:\n",
    "            raise NotImplementedError(\n",
    "                f\"No supported ticker format in {cols}). \\\n",
    "Supported: '{self.supported_ticker_formats}'\"\n",
    "            )\n"
   ]
  },
  {
   "cell_type": "markdown",
   "metadata": {},
   "source": [
    "### NumeraiSignalsSubmittor tests"
   ]
  },
  {
   "cell_type": "code",
   "execution_count": 14,
   "metadata": {},
   "outputs": [
    {
     "data": {
      "text/plain": "🔑 Numerai Auth key initialized with pub_id = \u001B[32m'UFVCTElDX0lE'\u001B[0m 🔑\n",
      "text/html": "<pre style=\"white-space:pre;overflow-x:auto;line-height:normal;font-family:Menlo,'DejaVu Sans Mono',consolas,'Courier New',monospace\">🔑 Numerai Auth key initialized with pub_id = <span style=\"color: #008000; text-decoration-color: #008000\">'UFVCTElDX0lE'</span> 🔑\n</pre>\n"
     },
     "metadata": {},
     "output_type": "display_data"
    },
    {
     "data": {
      "text/plain": "No existing directory found at \u001B[32m'\u001B[0m\u001B[34mtest_sub_signals\u001B[0m\u001B[32m'\u001B[0m. Creating directory\u001B[33m...\u001B[0m\n",
      "text/html": "<pre style=\"white-space:pre;overflow-x:auto;line-height:normal;font-family:Menlo,'DejaVu Sans Mono',consolas,'Courier New',monospace\">No existing directory found at <span style=\"color: #008000; text-decoration-color: #008000\">'</span><span style=\"color: #000080; text-decoration-color: #000080\">test_sub_signals</span><span style=\"color: #008000; text-decoration-color: #008000\">'</span>. Creating directory<span style=\"color: #808000; text-decoration-color: #808000\">...</span>\n</pre>\n"
     },
     "metadata": {},
     "output_type": "display_data"
    },
    {
     "data": {
      "text/plain": "<IPython.core.display.Javascript object>",
      "application/javascript": "\n            setTimeout(function() {\n                var nbb_cell_id = 14;\n                var nbb_unformatted_code = \"# Initialization (Random credentials)\\ntest_dir_signals = \\\"test_sub_signals\\\"\\nsignals_key = Key(pub_id=\\\"UFVCTElDX0lE\\\", secret_key=\\\"U1VQRVJfU0VDUkVUX0tFWQ==\\\")\\nsignals_sub = NumeraiSignalsSubmittor(directory_path=test_dir_signals, key=signals_key)\\nassert signals_sub.dir.is_dir()\";\n                var nbb_formatted_code = \"# Initialization (Random credentials)\\ntest_dir_signals = \\\"test_sub_signals\\\"\\nsignals_key = Key(pub_id=\\\"UFVCTElDX0lE\\\", secret_key=\\\"U1VQRVJfU0VDUkVUX0tFWQ==\\\")\\nsignals_sub = NumeraiSignalsSubmittor(directory_path=test_dir_signals, key=signals_key)\\nassert signals_sub.dir.is_dir()\";\n                var nbb_cells = Jupyter.notebook.get_cells();\n                for (var i = 0; i < nbb_cells.length; ++i) {\n                    if (nbb_cells[i].input_prompt_number == nbb_cell_id) {\n                        if (nbb_cells[i].get_text() == nbb_unformatted_code) {\n                             nbb_cells[i].set_text(nbb_formatted_code);\n                        }\n                        break;\n                    }\n                }\n            }, 500);\n            "
     },
     "metadata": {},
     "output_type": "display_data"
    }
   ],
   "source": [
    "# Initialization (Random credentials)\n",
    "test_dir_signals = \"test_sub_signals\"\n",
    "signals_key = Key(pub_id=\"UFVCTElDX0lE\", secret_key=\"U1VQRVJfU0VDUkVUX0tFWQ==\")\n",
    "signals_sub = NumeraiSignalsSubmittor(directory_path=test_dir_signals, key=signals_key)\n",
    "assert signals_sub.dir.is_dir()"
   ]
  },
  {
   "cell_type": "code",
   "execution_count": 15,
   "metadata": {},
   "outputs": [
    {
     "data": {
      "text/plain": "     signal ticker  friday_date data_type aux_column\n0  0.424141   MMTX     20220218      live   metadata\n1  0.972631   JWMS     20220218      live   metadata",
      "text/html": "<div>\n<style scoped>\n    .dataframe tbody tr th:only-of-type {\n        vertical-align: middle;\n    }\n\n    .dataframe tbody tr th {\n        vertical-align: top;\n    }\n\n    .dataframe thead th {\n        text-align: right;\n    }\n</style>\n<table border=\"1\" class=\"dataframe\">\n  <thead>\n    <tr style=\"text-align: right;\">\n      <th></th>\n      <th>signal</th>\n      <th>ticker</th>\n      <th>friday_date</th>\n      <th>data_type</th>\n      <th>aux_column</th>\n    </tr>\n  </thead>\n  <tbody>\n    <tr>\n      <th>0</th>\n      <td>0.424141</td>\n      <td>MMTX</td>\n      <td>20220218</td>\n      <td>live</td>\n      <td>metadata</td>\n    </tr>\n    <tr>\n      <th>1</th>\n      <td>0.972631</td>\n      <td>JWMS</td>\n      <td>20220218</td>\n      <td>live</td>\n      <td>metadata</td>\n    </tr>\n  </tbody>\n</table>\n</div>"
     },
     "execution_count": 15,
     "metadata": {},
     "output_type": "execute_result"
    },
    {
     "data": {
      "text/plain": "<IPython.core.display.Javascript object>",
      "application/javascript": "\n            setTimeout(function() {\n                var nbb_cell_id = 15;\n                var nbb_unformatted_code = \"# Create random dataframe\\nn_rows, n_columns = 5000, 4\\nsignals_test_dataf = pd.DataFrame(\\n    np.random.uniform(size=(n_rows, 1)), columns=[\\\"signal\\\"]\\n)\\nsignals_test_dataf[\\\"ticker\\\"] = [\\n    \\\"\\\".join(choices(ascii_uppercase, k=4)) for _ in range(n_rows)\\n]\\nlast_friday = int(\\n    str((datetime.now() + relativedelta(weekday=FR(-1))).date()).replace(\\\"-\\\", \\\"\\\")\\n)\\nsignals_test_dataf[\\\"friday_date\\\"] = last_friday\\nsignals_test_dataf[\\\"data_type\\\"] = \\\"live\\\"\\nsignals_test_dataf[\\\"aux_column\\\"] = \\\"metadata\\\"\\nsignals_test_dataf.head(2)\";\n                var nbb_formatted_code = \"# Create random dataframe\\nn_rows, n_columns = 5000, 4\\nsignals_test_dataf = pd.DataFrame(\\n    np.random.uniform(size=(n_rows, 1)), columns=[\\\"signal\\\"]\\n)\\nsignals_test_dataf[\\\"ticker\\\"] = [\\n    \\\"\\\".join(choices(ascii_uppercase, k=4)) for _ in range(n_rows)\\n]\\nlast_friday = int(\\n    str((datetime.now() + relativedelta(weekday=FR(-1))).date()).replace(\\\"-\\\", \\\"\\\")\\n)\\nsignals_test_dataf[\\\"friday_date\\\"] = last_friday\\nsignals_test_dataf[\\\"data_type\\\"] = \\\"live\\\"\\nsignals_test_dataf[\\\"aux_column\\\"] = \\\"metadata\\\"\\nsignals_test_dataf.head(2)\";\n                var nbb_cells = Jupyter.notebook.get_cells();\n                for (var i = 0; i < nbb_cells.length; ++i) {\n                    if (nbb_cells[i].input_prompt_number == nbb_cell_id) {\n                        if (nbb_cells[i].get_text() == nbb_unformatted_code) {\n                             nbb_cells[i].set_text(nbb_formatted_code);\n                        }\n                        break;\n                    }\n                }\n            }, 500);\n            "
     },
     "metadata": {},
     "output_type": "display_data"
    }
   ],
   "source": [
    "# Create random dataframe\n",
    "n_rows, n_columns = 5000, 4\n",
    "signals_test_dataf = pd.DataFrame(\n",
    "    np.random.uniform(size=(n_rows, 1)), columns=[\"signal\"]\n",
    ")\n",
    "signals_test_dataf[\"ticker\"] = [\n",
    "    \"\".join(choices(ascii_uppercase, k=4)) for _ in range(n_rows)\n",
    "]\n",
    "last_friday = int(\n",
    "    str((datetime.now() + relativedelta(weekday=FR(-1))).date()).replace(\"-\", \"\")\n",
    ")\n",
    "signals_test_dataf[\"friday_date\"] = last_friday\n",
    "signals_test_dataf[\"data_type\"] = \"live\"\n",
    "signals_test_dataf[\"aux_column\"] = \"metadata\"\n",
    "signals_test_dataf.head(2)"
   ]
  },
  {
   "cell_type": "code",
   "execution_count": 16,
   "metadata": {},
   "outputs": [
    {
     "data": {
      "text/plain": "📄 Saving Signals predictions CSV to \u001B[32m'test_sub_signals/signals_test.csv'\u001B[0m. 📄\n",
      "text/html": "<pre style=\"white-space:pre;overflow-x:auto;line-height:normal;font-family:Menlo,'DejaVu Sans Mono',consolas,'Courier New',monospace\">📄 Saving Signals predictions CSV to <span style=\"color: #008000; text-decoration-color: #008000\">'test_sub_signals/signals_test.csv'</span>. 📄\n</pre>\n"
     },
     "metadata": {},
     "output_type": "display_data"
    },
    {
     "data": {
      "text/plain": "     signal ticker  friday_date data_type\n0  0.424141   MMTX     20220218      live\n1  0.972631   JWMS     20220218      live",
      "text/html": "<div>\n<style scoped>\n    .dataframe tbody tr th:only-of-type {\n        vertical-align: middle;\n    }\n\n    .dataframe tbody tr th {\n        vertical-align: top;\n    }\n\n    .dataframe thead th {\n        text-align: right;\n    }\n</style>\n<table border=\"1\" class=\"dataframe\">\n  <thead>\n    <tr style=\"text-align: right;\">\n      <th></th>\n      <th>signal</th>\n      <th>ticker</th>\n      <th>friday_date</th>\n      <th>data_type</th>\n    </tr>\n  </thead>\n  <tbody>\n    <tr>\n      <th>0</th>\n      <td>0.424141</td>\n      <td>MMTX</td>\n      <td>20220218</td>\n      <td>live</td>\n    </tr>\n    <tr>\n      <th>1</th>\n      <td>0.972631</td>\n      <td>JWMS</td>\n      <td>20220218</td>\n      <td>live</td>\n    </tr>\n  </tbody>\n</table>\n</div>"
     },
     "execution_count": 16,
     "metadata": {},
     "output_type": "execute_result"
    },
    {
     "data": {
      "text/plain": "<IPython.core.display.Javascript object>",
      "application/javascript": "\n            setTimeout(function() {\n                var nbb_cell_id = 16;\n                var nbb_unformatted_code = \"signals_cols = [\\\"signal\\\", \\\"ticker\\\", \\\"friday_date\\\", \\\"data_type\\\"]\\nfile_name = \\\"signals_test.csv\\\"\\nsignals_sub.save_csv(dataf=signals_test_dataf, file_name=file_name, cols=signals_cols)\\npd.read_csv(f\\\"{test_dir_signals}/{file_name}\\\").head(2)\";\n                var nbb_formatted_code = \"signals_cols = [\\\"signal\\\", \\\"ticker\\\", \\\"friday_date\\\", \\\"data_type\\\"]\\nfile_name = \\\"signals_test.csv\\\"\\nsignals_sub.save_csv(dataf=signals_test_dataf, file_name=file_name, cols=signals_cols)\\npd.read_csv(f\\\"{test_dir_signals}/{file_name}\\\").head(2)\";\n                var nbb_cells = Jupyter.notebook.get_cells();\n                for (var i = 0; i < nbb_cells.length; ++i) {\n                    if (nbb_cells[i].input_prompt_number == nbb_cell_id) {\n                        if (nbb_cells[i].get_text() == nbb_unformatted_code) {\n                             nbb_cells[i].set_text(nbb_formatted_code);\n                        }\n                        break;\n                    }\n                }\n            }, 500);\n            "
     },
     "metadata": {},
     "output_type": "display_data"
    }
   ],
   "source": [
    "signals_cols = [\"signal\", \"ticker\", \"friday_date\", \"data_type\"]\n",
    "file_name = \"signals_test.csv\"\n",
    "signals_sub.save_csv(dataf=signals_test_dataf, file_name=file_name, cols=signals_cols)\n",
    "pd.read_csv(f\"{test_dir_signals}/{file_name}\").head(2)"
   ]
  },
  {
   "cell_type": "markdown",
   "metadata": {},
   "source": [
    "Saving Signals CSV should fail if there is no valid ticker column or if `signal` has values outside the range $(0...1)$."
   ]
  },
  {
   "cell_type": "code",
   "execution_count": 17,
   "metadata": {},
   "outputs": [
    {
     "data": {
      "text/plain": "<IPython.core.display.Javascript object>",
      "application/javascript": "\n            setTimeout(function() {\n                var nbb_cell_id = 17;\n                var nbb_unformatted_code = \"def test_signal_validity(\\n    submittor: NumeraiSignalsSubmittor, signals_dataf: pd.DataFrame\\n):\\n    \\\"\\\"\\\" Test value range of signal. \\\"\\\"\\\"\\n    try:\\n        invalid_signal = deepcopy(signals_dataf)\\n        invalid_signal.loc[0, \\\"signal\\\"] += 10\\n        submittor.save_csv(\\n            invalid_signal,\\n            file_name=\\\"should_not_save.csv\\\",\\n            cols=list(invalid_signal.columns),\\n        )\\n    except ValueError:\\n        return True\\n    return False\\n\\n\\ndef test_ticker_validity(\\n    submittor: NumeraiSignalsSubmittor, signals_dataf: pd.DataFrame\\n):\\n    \\\"\\\"\\\" Test safeguard if ticker column is not valid. \\\"\\\"\\\"\\n    try:\\n        invalid_ticker = deepcopy(signals_dataf)\\n        invalid_ticker = invalid_ticker.rename(\\n            {\\\"ticker\\\": \\\"not_a_valid_ticker_format\\\"}, axis=1\\n        )\\n        submittor.save_csv(\\n            invalid_ticker,\\n            file_name=\\\"should_not_save.csv\\\",\\n            cols=list(invalid_ticker.columns),\\n        )\\n    except NotImplementedError:\\n        return True\\n    return False\\n\\nassert test_signal_validity(signals_sub, signals_test_dataf)\\nassert test_ticker_validity(signals_sub, signals_test_dataf)\";\n                var nbb_formatted_code = \"def test_signal_validity(\\n    submittor: NumeraiSignalsSubmittor, signals_dataf: pd.DataFrame\\n):\\n    \\\"\\\"\\\"Test value range of signal.\\\"\\\"\\\"\\n    try:\\n        invalid_signal = deepcopy(signals_dataf)\\n        invalid_signal.loc[0, \\\"signal\\\"] += 10\\n        submittor.save_csv(\\n            invalid_signal,\\n            file_name=\\\"should_not_save.csv\\\",\\n            cols=list(invalid_signal.columns),\\n        )\\n    except ValueError:\\n        return True\\n    return False\\n\\n\\ndef test_ticker_validity(\\n    submittor: NumeraiSignalsSubmittor, signals_dataf: pd.DataFrame\\n):\\n    \\\"\\\"\\\"Test safeguard if ticker column is not valid.\\\"\\\"\\\"\\n    try:\\n        invalid_ticker = deepcopy(signals_dataf)\\n        invalid_ticker = invalid_ticker.rename(\\n            {\\\"ticker\\\": \\\"not_a_valid_ticker_format\\\"}, axis=1\\n        )\\n        submittor.save_csv(\\n            invalid_ticker,\\n            file_name=\\\"should_not_save.csv\\\",\\n            cols=list(invalid_ticker.columns),\\n        )\\n    except NotImplementedError:\\n        return True\\n    return False\\n\\n\\nassert test_signal_validity(signals_sub, signals_test_dataf)\\nassert test_ticker_validity(signals_sub, signals_test_dataf)\";\n                var nbb_cells = Jupyter.notebook.get_cells();\n                for (var i = 0; i < nbb_cells.length; ++i) {\n                    if (nbb_cells[i].input_prompt_number == nbb_cell_id) {\n                        if (nbb_cells[i].get_text() == nbb_unformatted_code) {\n                             nbb_cells[i].set_text(nbb_formatted_code);\n                        }\n                        break;\n                    }\n                }\n            }, 500);\n            "
     },
     "metadata": {},
     "output_type": "display_data"
    }
   ],
   "source": [
    "def test_signal_validity(\n",
    "    submittor: NumeraiSignalsSubmittor, signals_dataf: pd.DataFrame\n",
    "):\n",
    "    \"\"\" Test value range of signal. \"\"\"\n",
    "    try:\n",
    "        invalid_signal = deepcopy(signals_dataf)\n",
    "        invalid_signal.loc[0, \"signal\"] += 10\n",
    "        submittor.save_csv(\n",
    "            invalid_signal,\n",
    "            file_name=\"should_not_save.csv\",\n",
    "            cols=list(invalid_signal.columns),\n",
    "        )\n",
    "    except ValueError:\n",
    "        return True\n",
    "    return False\n",
    "\n",
    "\n",
    "def test_ticker_validity(\n",
    "    submittor: NumeraiSignalsSubmittor, signals_dataf: pd.DataFrame\n",
    "):\n",
    "    \"\"\" Test safeguard if ticker column is not valid. \"\"\"\n",
    "    try:\n",
    "        invalid_ticker = deepcopy(signals_dataf)\n",
    "        invalid_ticker = invalid_ticker.rename(\n",
    "            {\"ticker\": \"not_a_valid_ticker_format\"}, axis=1\n",
    "        )\n",
    "        submittor.save_csv(\n",
    "            invalid_ticker,\n",
    "            file_name=\"should_not_save.csv\",\n",
    "            cols=list(invalid_ticker.columns),\n",
    "        )\n",
    "    except NotImplementedError:\n",
    "        return True\n",
    "    return False\n",
    "\n",
    "assert test_signal_validity(signals_sub, signals_test_dataf)\n",
    "assert test_ticker_validity(signals_sub, signals_test_dataf)"
   ]
  },
  {
   "cell_type": "code",
   "execution_count": 18,
   "metadata": {},
   "outputs": [
    {
     "data": {
      "text/plain": "<IPython.core.display.Javascript object>",
      "application/javascript": "\n            setTimeout(function() {\n                var nbb_cell_id = 18;\n                var nbb_unformatted_code = \"# Uncomment to save CSV and upload predictions\\n# signals_sub.full_submission(dataf=signals_test_dataf, file_name='signals_test.csv', cols=signals_cols, model_name=\\\"test\\\")\";\n                var nbb_formatted_code = \"# Uncomment to save CSV and upload predictions\\n# signals_sub.full_submission(dataf=signals_test_dataf, file_name='signals_test.csv', cols=signals_cols, model_name=\\\"test\\\")\";\n                var nbb_cells = Jupyter.notebook.get_cells();\n                for (var i = 0; i < nbb_cells.length; ++i) {\n                    if (nbb_cells[i].input_prompt_number == nbb_cell_id) {\n                        if (nbb_cells[i].get_text() == nbb_unformatted_code) {\n                             nbb_cells[i].set_text(nbb_formatted_code);\n                        }\n                        break;\n                    }\n                }\n            }, 500);\n            "
     },
     "metadata": {},
     "output_type": "display_data"
    }
   ],
   "source": [
    "# Uncomment to save CSV and upload predictions\n",
    "# signals_sub.full_submission(dataf=signals_test_dataf, file_name='signals_test.csv', cols=signals_cols, model_name=\"test\")"
   ]
  },
  {
   "cell_type": "code",
   "execution_count": 19,
   "metadata": {},
   "outputs": [
    {
     "data": {
      "text/plain": "⚠ \u001B[31mDeleting directory for \u001B[0m\u001B[31m'NumeraiSignalsSubmittor\u001B[0m\u001B[32m'\u001B[0m ⚠\nPath: \u001B[32m'/Users/clepelaars/Desktop/crowdcent/repositories/numerai-blocks/nbs/test_sub_signals'\u001B[0m\n",
      "text/html": "<pre style=\"white-space:pre;overflow-x:auto;line-height:normal;font-family:Menlo,'DejaVu Sans Mono',consolas,'Courier New',monospace\">⚠ <span style=\"color: #800000; text-decoration-color: #800000\">Deleting directory for </span><span style=\"color: #800000; text-decoration-color: #800000\">'NumeraiSignalsSubmittor</span><span style=\"color: #008000; text-decoration-color: #008000\">'</span> ⚠\nPath: <span style=\"color: #008000; text-decoration-color: #008000\">'/Users/clepelaars/Desktop/crowdcent/repositories/numerai-blocks/nbs/test_sub_signals'</span>\n</pre>\n"
     },
     "metadata": {},
     "output_type": "display_data"
    },
    {
     "data": {
      "text/plain": "<IPython.core.display.Javascript object>",
      "application/javascript": "\n            setTimeout(function() {\n                var nbb_cell_id = 19;\n                var nbb_unformatted_code = \"# Remove contents after submission is successful\\nsignals_sub.remove_base_directory()\\nassert not os.path.exists(test_dir_signals)\";\n                var nbb_formatted_code = \"# Remove contents after submission is successful\\nsignals_sub.remove_base_directory()\\nassert not os.path.exists(test_dir_signals)\";\n                var nbb_cells = Jupyter.notebook.get_cells();\n                for (var i = 0; i < nbb_cells.length; ++i) {\n                    if (nbb_cells[i].input_prompt_number == nbb_cell_id) {\n                        if (nbb_cells[i].get_text() == nbb_unformatted_code) {\n                             nbb_cells[i].set_text(nbb_formatted_code);\n                        }\n                        break;\n                    }\n                }\n            }, 500);\n            "
     },
     "metadata": {},
     "output_type": "display_data"
    }
   ],
   "source": [
    "# Remove contents after submission is successful\n",
    "signals_sub.remove_base_directory()\n",
    "assert not os.path.exists(test_dir_signals)"
   ]
  },
  {
   "cell_type": "markdown",
   "metadata": {},
   "source": [
    "------------------------------------------------------------"
   ]
  },
  {
   "cell_type": "code",
   "execution_count": 20,
   "metadata": {},
   "outputs": [
    {
     "name": "stdout",
     "output_type": "stream",
     "text": [
      "Converted 00_misc.ipynb.\n",
      "Converted 01_download.ipynb.\n",
      "Converted 02_numerframe.ipynb.\n",
      "Converted 03_preprocessing.ipynb.\n",
      "Converted 04_model.ipynb.\n",
      "Converted 05_postprocessing.ipynb.\n",
      "Converted 06_modelpipeline.ipynb.\n",
      "Converted 07_evaluation.ipynb.\n",
      "Converted 08_key.ipynb.\n",
      "Converted 09_submission.ipynb.\n",
      "Converted 10_staking.ipynb.\n",
      "Converted index.ipynb.\n"
     ]
    },
    {
     "data": {
      "text/plain": "<IPython.core.display.Javascript object>",
      "application/javascript": "\n            setTimeout(function() {\n                var nbb_cell_id = 20;\n                var nbb_unformatted_code = \"# hide\\n# Run this cell to sync all changes with library\\nfrom nbdev.export import notebook2script\\n\\nnotebook2script()\";\n                var nbb_formatted_code = \"# hide\\n# Run this cell to sync all changes with library\\nfrom nbdev.export import notebook2script\\n\\nnotebook2script()\";\n                var nbb_cells = Jupyter.notebook.get_cells();\n                for (var i = 0; i < nbb_cells.length; ++i) {\n                    if (nbb_cells[i].input_prompt_number == nbb_cell_id) {\n                        if (nbb_cells[i].get_text() == nbb_unformatted_code) {\n                             nbb_cells[i].set_text(nbb_formatted_code);\n                        }\n                        break;\n                    }\n                }\n            }, 500);\n            "
     },
     "metadata": {},
     "output_type": "display_data"
    }
   ],
   "source": [
    "# hide\n",
    "# Run this cell to sync all changes with library\n",
    "from nbdev.export import notebook2script\n",
    "\n",
    "notebook2script()"
   ]
  },
  {
   "cell_type": "code",
   "execution_count": 20,
   "outputs": [
    {
     "data": {
      "text/plain": "<IPython.core.display.Javascript object>",
      "application/javascript": "\n            setTimeout(function() {\n                var nbb_cell_id = 20;\n                var nbb_unformatted_code = \"# hide\\n# Run this cell to sync all changes with library\\nfrom nbdev.export import notebook2script\\n\\nnotebook2script()\";\n                var nbb_formatted_code = \"# hide\\n# Run this cell to sync all changes with library\\nfrom nbdev.export import notebook2script\\n\\nnotebook2script()\";\n                var nbb_cells = Jupyter.notebook.get_cells();\n                for (var i = 0; i < nbb_cells.length; ++i) {\n                    if (nbb_cells[i].input_prompt_number == nbb_cell_id) {\n                        if (nbb_cells[i].get_text() == nbb_unformatted_code) {\n                             nbb_cells[i].set_text(nbb_formatted_code);\n                        }\n                        break;\n                    }\n                }\n            }, 500);\n            "
     },
     "metadata": {},
     "output_type": "display_data"
    }
   ],
   "source": [],
   "metadata": {
    "collapsed": false,
    "pycharm": {
     "name": "#%%\n"
    }
   }
  }
 ],
 "metadata": {
  "kernelspec": {
   "display_name": "Python 3",
   "language": "python",
   "name": "python3"
  }
 },
 "nbformat": 4,
 "nbformat_minor": 0
}