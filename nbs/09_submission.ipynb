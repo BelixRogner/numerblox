{
 "cells": [
  {
   "cell_type": "code",
   "execution_count": null,
   "metadata": {},
   "outputs": [
    {
     "data": {
      "application/javascript": "\n            setTimeout(function() {\n                var nbb_cell_id = 1;\n                var nbb_unformatted_code = \"%load_ext autoreload\\n%autoreload 2\\n%load_ext nb_black\\n%load_ext lab_black\";\n                var nbb_formatted_code = \"%load_ext autoreload\\n%autoreload 2\\n%load_ext nb_black\\n%load_ext lab_black\";\n                var nbb_cells = Jupyter.notebook.get_cells();\n                for (var i = 0; i < nbb_cells.length; ++i) {\n                    if (nbb_cells[i].input_prompt_number == nbb_cell_id) {\n                        if (nbb_cells[i].get_text() == nbb_unformatted_code) {\n                             nbb_cells[i].set_text(nbb_formatted_code);\n                        }\n                        break;\n                    }\n                }\n            }, 500);\n            ",
      "text/plain": "<IPython.core.display.Javascript object>"
     },
     "metadata": {},
     "output_type": "display_data"
    }
   ],
   "source": [
    "%load_ext autoreload\n",
    "%autoreload 2\n",
    "%load_ext nb_black\n",
    "%load_ext lab_black"
   ]
  },
  {
   "cell_type": "code",
   "execution_count": null,
   "metadata": {},
   "outputs": [
    {
     "data": {
      "application/javascript": "\n            setTimeout(function() {\n                var nbb_cell_id = 2;\n                var nbb_unformatted_code = \"# default_exp submission\";\n                var nbb_formatted_code = \"# default_exp submission\";\n                var nbb_cells = Jupyter.notebook.get_cells();\n                for (var i = 0; i < nbb_cells.length; ++i) {\n                    if (nbb_cells[i].input_prompt_number == nbb_cell_id) {\n                        if (nbb_cells[i].get_text() == nbb_unformatted_code) {\n                             nbb_cells[i].set_text(nbb_formatted_code);\n                        }\n                        break;\n                    }\n                }\n            }, 500);\n            ",
      "text/plain": "<IPython.core.display.Javascript object>"
     },
     "metadata": {},
     "output_type": "display_data"
    }
   ],
   "source": [
    "# default_exp submission"
   ]
  },
  {
   "cell_type": "markdown",
   "metadata": {},
   "source": [
    "# Submission"
   ]
  },
  {
   "cell_type": "code",
   "execution_count": null,
   "metadata": {},
   "outputs": [
    {
     "data": {
      "application/javascript": "\n            setTimeout(function() {\n                var nbb_cell_id = 3;\n                var nbb_unformatted_code = \"#hide\\nfrom nbdev.showdoc import *\";\n                var nbb_formatted_code = \"# hide\\nfrom nbdev.showdoc import *\";\n                var nbb_cells = Jupyter.notebook.get_cells();\n                for (var i = 0; i < nbb_cells.length; ++i) {\n                    if (nbb_cells[i].input_prompt_number == nbb_cell_id) {\n                        if (nbb_cells[i].get_text() == nbb_unformatted_code) {\n                             nbb_cells[i].set_text(nbb_formatted_code);\n                        }\n                        break;\n                    }\n                }\n            }, 500);\n            ",
      "text/plain": "<IPython.core.display.Javascript object>"
     },
     "metadata": {},
     "output_type": "display_data"
    }
   ],
   "source": [
    "#hide\n",
    "from nbdev.showdoc import *"
   ]
  },
  {
   "cell_type": "code",
   "execution_count": null,
   "metadata": {},
   "outputs": [
    {
     "data": {
      "application/javascript": "\n            setTimeout(function() {\n                var nbb_cell_id = 4;\n                var nbb_unformatted_code = \"#export\\nimport uuid\\nimport numpy as np\\nimport pandas as pd\\nfrom pathlib import Path\\nfrom typeguard import typechecked\\nfrom abc import ABC, abstractmethod\\nfrom rich import print as rich_print\\nfrom numerapi import NumerAPI, SignalsAPI\\nfrom transparentpath import TransparentPath as GCSPath\\n\\nfrom numerai_blocks.key import Key\";\n                var nbb_formatted_code = \"# export\\nimport uuid\\nimport numpy as np\\nimport pandas as pd\\nfrom pathlib import Path\\nfrom typeguard import typechecked\\nfrom abc import ABC, abstractmethod\\nfrom rich import print as rich_print\\nfrom numerapi import NumerAPI, SignalsAPI\\nfrom transparentpath import TransparentPath as GCSPath\\n\\nfrom numerai_blocks.key import Key\";\n                var nbb_cells = Jupyter.notebook.get_cells();\n                for (var i = 0; i < nbb_cells.length; ++i) {\n                    if (nbb_cells[i].input_prompt_number == nbb_cell_id) {\n                        if (nbb_cells[i].get_text() == nbb_unformatted_code) {\n                             nbb_cells[i].set_text(nbb_formatted_code);\n                        }\n                        break;\n                    }\n                }\n            }, 500);\n            ",
      "text/plain": "<IPython.core.display.Javascript object>"
     },
     "metadata": {},
     "output_type": "display_data"
    }
   ],
   "source": [
    "#export\n",
    "import uuid\n",
    "import numpy as np\n",
    "import pandas as pd\n",
    "from pathlib import Path\n",
    "from typeguard import typechecked\n",
    "from abc import ABC, abstractmethod\n",
    "from rich import print as rich_print\n",
    "from numerapi import NumerAPI, SignalsAPI\n",
    "from transparentpath import TransparentPath as GCSPath\n",
    "\n",
    "from numerai_blocks.key import Key"
   ]
  },
  {
   "cell_type": "markdown",
   "metadata": {},
   "source": [
    "## 1. Base"
   ]
  },
  {
   "cell_type": "code",
   "execution_count": null,
   "metadata": {},
   "outputs": [
    {
     "data": {
      "application/javascript": "\n            setTimeout(function() {\n                var nbb_cell_id = 5;\n                var nbb_unformatted_code = \"#export\\n@typechecked\\nclass BaseSubmittor(ABC):\\n    def __init__(self, directory_path: str, key: Key):\\n        self.dir = Path(directory_path)\\n        self._create_directory()\\n        self.key = key\\n\\n    @abstractmethod\\n    def save_csv(self, dataf: pd.DataFrame, file_name: str, target_columns: list, *args, **kwargs):\\n        \\\"\\\"\\\" Save DataFrame with 'id' + 'target_columns'. \\\"\\\"\\\"\\n        ...\\n\\n    @abstractmethod\\n    def upload_predictions(self, file_name: str, model_name: str, *args, **kwargs):\\n        \\\"\\\"\\\" Upload file for given model name through API. \\\"\\\"\\\"\\n        ...\\n\\n    def full_submission(self, dataf: pd.DataFrame, file_name: str, model_name: str, target_columns: list, *args, **kwargs):\\n        \\\"\\\"\\\" Save DataFrame and upload predictions through API. \\\"\\\"\\\"\\n        self.save_csv(dataf=dataf, file_name=file_name, target_columns=target_columns, *args, **kwargs)\\n        self.upload_predictions(file_name=file_name, model_name=model_name, *args, **kwargs)\\n\\n    def configure_gcs_path(self, bucket_name: str):\\n        \\\"\\\"\\\"\\n        Connect to Google Cloud Storage (GCS) bucket.\\n        :param bucket_name: Valid GCS bucket that you have access to.\\n\\n        Credentials are detected automatically with the following process:\\n        1.The environment variable `GOOGLE_APPLICATION_CREDENTIALS` is set and points to a valid `.json` file.\\n        2. You have a valid Cloud SDK installation. In that case you might see the warning : UserWarning: Your application has authenticated using end user credentials from Google Cloud SDK without a quota project. It is up to you to decide what to do with it.\\n        3.The machine running the code is itself a GCP machine.\\n        \\\"\\\"\\\"\\n        GCSPath.set_global_fs(\\\"gcs\\\", bucket=bucket_name)\\n        self.dir = GCSPath(self.dir)\\n        self._create_directory()\\n        rich_print(f\\\":cloud: Path {self.dir} configured for Google Cloud Storage. :cloud:\\\")\\n\\n    def _create_directory(self):\\n        \\\"\\\"\\\" Create base directory if it does not exist. \\\"\\\"\\\"\\n        if not self.dir.is_dir():\\n            rich_print(f\\\"No existing directory found at '[blue]{self.dir}[/blue]'. Creating directory...\\\")\\n            self.dir.mkdir(parents=True, exist_ok=True)\\n\\n    def __call__(self, dataf: pd.DataFrame, file_name: str, model_name: str, target_columns: list, *args, **kwargs):\\n        \\\"\\\"\\\"\\n        The most common use case will be to create a CSV and submit it immediately after that.\\n        full_submission handles this.\\n        \\\"\\\"\\\"\\n        self.full_submission(dataf=dataf,\\n                             file_name=file_name,\\n                             model_name=model_name,\\n                             target_columns=target_columns,\\n                             *args, **kwargs)\";\n                var nbb_formatted_code = \"# export\\n@typechecked\\nclass BaseSubmittor(ABC):\\n    def __init__(self, directory_path: str, key: Key):\\n        self.dir = Path(directory_path)\\n        self._create_directory()\\n        self.key = key\\n\\n    @abstractmethod\\n    def save_csv(\\n        self, dataf: pd.DataFrame, file_name: str, target_columns: list, *args, **kwargs\\n    ):\\n        \\\"\\\"\\\"Save DataFrame with 'id' + 'target_columns'.\\\"\\\"\\\"\\n        ...\\n\\n    @abstractmethod\\n    def upload_predictions(self, file_name: str, model_name: str, *args, **kwargs):\\n        \\\"\\\"\\\"Upload file for given model name through API.\\\"\\\"\\\"\\n        ...\\n\\n    def full_submission(\\n        self,\\n        dataf: pd.DataFrame,\\n        file_name: str,\\n        model_name: str,\\n        target_columns: list,\\n        *args,\\n        **kwargs,\\n    ):\\n        \\\"\\\"\\\"Save DataFrame and upload predictions through API.\\\"\\\"\\\"\\n        self.save_csv(\\n            dataf=dataf,\\n            file_name=file_name,\\n            target_columns=target_columns,\\n            *args,\\n            **kwargs,\\n        )\\n        self.upload_predictions(\\n            file_name=file_name, model_name=model_name, *args, **kwargs\\n        )\\n\\n    def configure_gcs_path(self, bucket_name: str):\\n        \\\"\\\"\\\"\\n        Connect to Google Cloud Storage (GCS) bucket.\\n        :param bucket_name: Valid GCS bucket that you have access to.\\n\\n        Credentials are detected automatically with the following process:\\n        1.The environment variable `GOOGLE_APPLICATION_CREDENTIALS` is set and points to a valid `.json` file.\\n        2. You have a valid Cloud SDK installation. In that case you might see the warning : UserWarning: Your application has authenticated using end user credentials from Google Cloud SDK without a quota project. It is up to you to decide what to do with it.\\n        3.The machine running the code is itself a GCP machine.\\n        \\\"\\\"\\\"\\n        GCSPath.set_global_fs(\\\"gcs\\\", bucket=bucket_name)\\n        self.dir = GCSPath(self.dir)\\n        self._create_directory()\\n        rich_print(\\n            f\\\":cloud: Path {self.dir} configured for Google Cloud Storage. :cloud:\\\"\\n        )\\n\\n    def _create_directory(self):\\n        \\\"\\\"\\\"Create base directory if it does not exist.\\\"\\\"\\\"\\n        if not self.dir.is_dir():\\n            rich_print(\\n                f\\\"No existing directory found at '[blue]{self.dir}[/blue]'. Creating directory...\\\"\\n            )\\n            self.dir.mkdir(parents=True, exist_ok=True)\\n\\n    def __call__(\\n        self,\\n        dataf: pd.DataFrame,\\n        file_name: str,\\n        model_name: str,\\n        target_columns: list,\\n        *args,\\n        **kwargs,\\n    ):\\n        \\\"\\\"\\\"\\n        The most common use case will be to create a CSV and submit it immediately after that.\\n        full_submission handles this.\\n        \\\"\\\"\\\"\\n        self.full_submission(\\n            dataf=dataf,\\n            file_name=file_name,\\n            model_name=model_name,\\n            target_columns=target_columns,\\n            *args,\\n            **kwargs,\\n        )\";\n                var nbb_cells = Jupyter.notebook.get_cells();\n                for (var i = 0; i < nbb_cells.length; ++i) {\n                    if (nbb_cells[i].input_prompt_number == nbb_cell_id) {\n                        if (nbb_cells[i].get_text() == nbb_unformatted_code) {\n                             nbb_cells[i].set_text(nbb_formatted_code);\n                        }\n                        break;\n                    }\n                }\n            }, 500);\n            ",
      "text/plain": "<IPython.core.display.Javascript object>"
     },
     "metadata": {},
     "output_type": "display_data"
    }
   ],
   "source": [
    "#export\n",
    "@typechecked\n",
    "class BaseSubmittor(ABC):\n",
    "    def __init__(self, directory_path: str, key: Key):\n",
    "        self.dir = Path(directory_path)\n",
    "        self._create_directory()\n",
    "        self.key = key\n",
    "\n",
    "    @abstractmethod\n",
    "    def save_csv(self, dataf: pd.DataFrame, file_name: str, target_columns: list, *args, **kwargs):\n",
    "        \"\"\" Save DataFrame with 'id' + 'target_columns'. \"\"\"\n",
    "        ...\n",
    "\n",
    "    @abstractmethod\n",
    "    def upload_predictions(self, file_name: str, model_name: str, *args, **kwargs):\n",
    "        \"\"\" Upload file for given model name through API. \"\"\"\n",
    "        ...\n",
    "\n",
    "    def full_submission(self, dataf: pd.DataFrame, file_name: str, model_name: str, target_columns: list, *args, **kwargs):\n",
    "        \"\"\" Save DataFrame and upload predictions through API. \"\"\"\n",
    "        self.save_csv(dataf=dataf, file_name=file_name, target_columns=target_columns, *args, **kwargs)\n",
    "        self.upload_predictions(file_name=file_name, model_name=model_name, *args, **kwargs)\n",
    "\n",
    "    def configure_gcs_path(self, bucket_name: str):\n",
    "        \"\"\"\n",
    "        Connect to Google Cloud Storage (GCS) bucket.\n",
    "        :param bucket_name: Valid GCS bucket that you have access to.\n",
    "\n",
    "        Credentials are detected automatically with the following process:\n",
    "        1.The environment variable `GOOGLE_APPLICATION_CREDENTIALS` is set and points to a valid `.json` file.\n",
    "        2. You have a valid Cloud SDK installation. In that case you might see the warning : UserWarning: Your application has authenticated using end user credentials from Google Cloud SDK without a quota project. It is up to you to decide what to do with it.\n",
    "        3.The machine running the code is itself a GCP machine.\n",
    "        \"\"\"\n",
    "        GCSPath.set_global_fs(\"gcs\", bucket=bucket_name)\n",
    "        self.dir = GCSPath(self.dir)\n",
    "        self._create_directory()\n",
    "        rich_print(f\":cloud: Path {self.dir} configured for Google Cloud Storage. :cloud:\")\n",
    "\n",
    "    def _create_directory(self):\n",
    "        \"\"\" Create base directory if it does not exist. \"\"\"\n",
    "        if not self.dir.is_dir():\n",
    "            rich_print(f\"No existing directory found at '[blue]{self.dir}[/blue]'. Creating directory...\")\n",
    "            self.dir.mkdir(parents=True, exist_ok=True)\n",
    "\n",
    "    def __call__(self, dataf: pd.DataFrame, file_name: str, model_name: str, target_columns: list, *args, **kwargs):\n",
    "        \"\"\"\n",
    "        The most common use case will be to create a CSV and submit it immediately after that.\n",
    "        full_submission handles this.\n",
    "        \"\"\"\n",
    "        self.full_submission(dataf=dataf,\n",
    "                             file_name=file_name,\n",
    "                             model_name=model_name,\n",
    "                             target_columns=target_columns,\n",
    "                             *args, **kwargs)"
   ]
  },
  {
   "cell_type": "markdown",
   "metadata": {},
   "source": [
    "## 2. Numerai Classic"
   ]
  },
  {
   "cell_type": "code",
   "execution_count": null,
   "metadata": {},
   "outputs": [
    {
     "data": {
      "application/javascript": "\n            setTimeout(function() {\n                var nbb_cell_id = 6;\n                var nbb_unformatted_code = \"#export\\nclass NumeraiClassicSubmittor(BaseSubmittor):\\n    \\\"\\\"\\\"\\n    Submit for Numerai Classic through NumerAPI\\n    :param directory_path: Base directory to save and read prediction files from.\\n    :param key: Key object (numerai-blocks.key.Key) containing valid credentials for Numerai Classic.\\n    *args, **kwargs will be passed to NumerAPI initialization.\\n    \\\"\\\"\\\"\\n    def __init__(self, directory_path: str, key: Key, *args, **kwargs):\\n        super(NumeraiClassicSubmittor, self).__init__(directory_path=directory_path, key=key)\\n        self.napi = NumerAPI(public_id=self.key.pub_id, secret_key=self.key.secret_key, *args, **kwargs)\\n\\n    def save_csv(self, dataf: pd.DataFrame, file_name: str, target_columns: list, *args, **kwargs):\\n        full_path = str(self.dir / file_name)\\n        rich_print(f\\\":page_facing_up: Saving predictions CSV to '{full_path}'. :page_facing_up:\\\")\\n        dataf[target_columns].to_csv(full_path, *args, **kwargs)\\n\\n    def upload_predictions(self, file_name: str, model_name: str, *args, **kwargs):\\n        full_path = str(self.dir / file_name)\\n        model_id = self._get_model_id(model_name=model_name)\\n        rich_print(f\\\":airplane: Uploading predictions from '{full_path}' for model [bold blue]'{model_name}'[/bold blue] (model_id='{model_id}') :airplane:\\\")\\n        self.napi.upload_predictions(file_path=full_path,\\n                                     model_id=model_id,\\n                                     *args, **kwargs)\\n        rich_print(f\\\":thumbs_up: Submission of '{full_path}' for [bold blue]{model_name}[/bold blue] is successful! :thumbs_up:\\\")\\n\\n    def _get_model_id(self, model_name: str) -> str:\\n        \\\"\\\"\\\" Get ID needed for prediction uploading. \\\"\\\"\\\"\\n        return self.get_model_mapping()[model_name]\\n\\n    @property\\n    def get_model_mapping(self) -> dict:\\n        \\\"\\\"\\\" Mapping between raw model names and model IDs. \\\"\\\"\\\"\\n        return self.napi.get_models()\";\n                var nbb_formatted_code = \"# export\\nclass NumeraiClassicSubmittor(BaseSubmittor):\\n    \\\"\\\"\\\"\\n    Submit for Numerai Classic through NumerAPI\\n    :param directory_path: Base directory to save and read prediction files from.\\n    :param key: Key object (numerai-blocks.key.Key) containing valid credentials for Numerai Classic.\\n    *args, **kwargs will be passed to NumerAPI initialization.\\n    \\\"\\\"\\\"\\n\\n    def __init__(self, directory_path: str, key: Key, *args, **kwargs):\\n        super(NumeraiClassicSubmittor, self).__init__(\\n            directory_path=directory_path, key=key\\n        )\\n        self.napi = NumerAPI(\\n            public_id=self.key.pub_id, secret_key=self.key.secret_key, *args, **kwargs\\n        )\\n\\n    def save_csv(\\n        self, dataf: pd.DataFrame, file_name: str, target_columns: list, *args, **kwargs\\n    ):\\n        full_path = str(self.dir / file_name)\\n        rich_print(\\n            f\\\":page_facing_up: Saving predictions CSV to '{full_path}'. :page_facing_up:\\\"\\n        )\\n        dataf[target_columns].to_csv(full_path, *args, **kwargs)\\n\\n    def upload_predictions(self, file_name: str, model_name: str, *args, **kwargs):\\n        full_path = str(self.dir / file_name)\\n        model_id = self._get_model_id(model_name=model_name)\\n        rich_print(\\n            f\\\":airplane: Uploading predictions from '{full_path}' for model [bold blue]'{model_name}'[/bold blue] (model_id='{model_id}') :airplane:\\\"\\n        )\\n        self.napi.upload_predictions(\\n            file_path=full_path, model_id=model_id, *args, **kwargs\\n        )\\n        rich_print(\\n            f\\\":thumbs_up: Submission of '{full_path}' for [bold blue]{model_name}[/bold blue] is successful! :thumbs_up:\\\"\\n        )\\n\\n    def _get_model_id(self, model_name: str) -> str:\\n        \\\"\\\"\\\"Get ID needed for prediction uploading.\\\"\\\"\\\"\\n        return self.get_model_mapping()[model_name]\\n\\n    @property\\n    def get_model_mapping(self) -> dict:\\n        \\\"\\\"\\\"Mapping between raw model names and model IDs.\\\"\\\"\\\"\\n        return self.napi.get_models()\";\n                var nbb_cells = Jupyter.notebook.get_cells();\n                for (var i = 0; i < nbb_cells.length; ++i) {\n                    if (nbb_cells[i].input_prompt_number == nbb_cell_id) {\n                        if (nbb_cells[i].get_text() == nbb_unformatted_code) {\n                             nbb_cells[i].set_text(nbb_formatted_code);\n                        }\n                        break;\n                    }\n                }\n            }, 500);\n            ",
      "text/plain": "<IPython.core.display.Javascript object>"
     },
     "metadata": {},
     "output_type": "display_data"
    }
   ],
   "source": [
    "#export\n",
    "class NumeraiClassicSubmittor(BaseSubmittor):\n",
    "    \"\"\"\n",
    "    Submit for Numerai Classic through NumerAPI\n",
    "    :param directory_path: Base directory to save and read prediction files from.\n",
    "    :param key: Key object (numerai-blocks.key.Key) containing valid credentials for Numerai Classic.\n",
    "    *args, **kwargs will be passed to NumerAPI initialization.\n",
    "    \"\"\"\n",
    "    def __init__(self, directory_path: str, key: Key, *args, **kwargs):\n",
    "        super(NumeraiClassicSubmittor, self).__init__(directory_path=directory_path, key=key)\n",
    "        self.napi = NumerAPI(public_id=self.key.pub_id, secret_key=self.key.secret_key, *args, **kwargs)\n",
    "\n",
    "    def save_csv(self, dataf: pd.DataFrame, file_name: str, target_columns: list, *args, **kwargs):\n",
    "        full_path = str(self.dir / file_name)\n",
    "        rich_print(f\":page_facing_up: Saving predictions CSV to '{full_path}'. :page_facing_up:\")\n",
    "        dataf[target_columns].to_csv(full_path, *args, **kwargs)\n",
    "\n",
    "    def upload_predictions(self, file_name: str, model_name: str, *args, **kwargs):\n",
    "        full_path = str(self.dir / file_name)\n",
    "        model_id = self._get_model_id(model_name=model_name)\n",
    "        rich_print(f\":airplane: Uploading predictions from '{full_path}' for model [bold blue]'{model_name}'[/bold blue] (model_id='{model_id}') :airplane:\")\n",
    "        self.napi.upload_predictions(file_path=full_path,\n",
    "                                     model_id=model_id,\n",
    "                                     *args, **kwargs)\n",
    "        rich_print(f\":thumbs_up: Submission of '{full_path}' for [bold blue]{model_name}[/bold blue] is successful! :thumbs_up:\")\n",
    "\n",
    "    def _get_model_id(self, model_name: str) -> str:\n",
    "        \"\"\" Get ID needed for prediction uploading. \"\"\"\n",
    "        return self.get_model_mapping()[model_name]\n",
    "\n",
    "    @property\n",
    "    def get_model_mapping(self) -> dict:\n",
    "        \"\"\" Mapping between raw model names and model IDs. \"\"\"\n",
    "        return self.napi.get_models()"
   ]
  },
  {
   "cell_type": "code",
   "execution_count": null,
   "metadata": {},
   "outputs": [
    {
     "data": {
      "text/html": "<pre style=\"white-space:pre;overflow-x:auto;line-height:normal;font-family:Menlo,'DejaVu Sans Mono',consolas,'Courier New',monospace\">🔑 Numerai Auth key initialized with pub_id = <span style=\"color: #008000; text-decoration-color: #008000\">'UFVCTElDX0lE'</span> 🔑\n</pre>\n",
      "text/plain": "🔑 Numerai Auth key initialized with pub_id = \u001b[32m'UFVCTElDX0lE'\u001b[0m 🔑\n"
     },
     "metadata": {},
     "output_type": "display_data"
    },
    {
     "data": {
      "text/html": "<div>\n<style scoped>\n    .dataframe tbody tr th:only-of-type {\n        vertical-align: middle;\n    }\n\n    .dataframe tbody tr th {\n        vertical-align: top;\n    }\n\n    .dataframe thead th {\n        text-align: right;\n    }\n</style>\n<table border=\"1\" class=\"dataframe\">\n  <thead>\n    <tr style=\"text-align: right;\">\n      <th></th>\n      <th>target_0</th>\n      <th>target_1</th>\n      <th>target_2</th>\n      <th>target_3</th>\n      <th>target_4</th>\n      <th>target_5</th>\n      <th>target_6</th>\n      <th>target_7</th>\n      <th>target_8</th>\n      <th>target_9</th>\n      <th>target_10</th>\n      <th>target_11</th>\n      <th>target_12</th>\n      <th>target_13</th>\n      <th>target_14</th>\n      <th>target_15</th>\n      <th>target_16</th>\n      <th>target_17</th>\n      <th>target_18</th>\n      <th>target_19</th>\n    </tr>\n    <tr>\n      <th>id</th>\n      <th></th>\n      <th></th>\n      <th></th>\n      <th></th>\n      <th></th>\n      <th></th>\n      <th></th>\n      <th></th>\n      <th></th>\n      <th></th>\n      <th></th>\n      <th></th>\n      <th></th>\n      <th></th>\n      <th></th>\n      <th></th>\n      <th></th>\n      <th></th>\n      <th></th>\n      <th></th>\n    </tr>\n  </thead>\n  <tbody>\n    <tr>\n      <th>e7ea82dd-411c-4a5f-8f2f-b3ece34377f3</th>\n      <td>0.278266</td>\n      <td>0.57115</td>\n      <td>0.960328</td>\n      <td>0.674253</td>\n      <td>0.09427</td>\n      <td>0.984954</td>\n      <td>0.855347</td>\n      <td>0.935789</td>\n      <td>0.327705</td>\n      <td>0.213176</td>\n      <td>0.524148</td>\n      <td>0.189792</td>\n      <td>0.262066</td>\n      <td>0.360628</td>\n      <td>0.146035</td>\n      <td>0.567181</td>\n      <td>0.764313</td>\n      <td>0.353695</td>\n      <td>0.519514</td>\n      <td>0.146709</td>\n    </tr>\n  </tbody>\n</table>\n</div>",
      "text/plain": "                                      target_0  target_1  target_2  target_3  \\\nid                                                                             \ne7ea82dd-411c-4a5f-8f2f-b3ece34377f3  0.278266   0.57115  0.960328  0.674253   \n\n                                      target_4  target_5  target_6  target_7  \\\nid                                                                             \ne7ea82dd-411c-4a5f-8f2f-b3ece34377f3   0.09427  0.984954  0.855347  0.935789   \n\n                                      target_8  target_9  target_10  \\\nid                                                                    \ne7ea82dd-411c-4a5f-8f2f-b3ece34377f3  0.327705  0.213176   0.524148   \n\n                                      target_11  target_12  target_13  \\\nid                                                                      \ne7ea82dd-411c-4a5f-8f2f-b3ece34377f3   0.189792   0.262066   0.360628   \n\n                                      target_14  target_15  target_16  \\\nid                                                                      \ne7ea82dd-411c-4a5f-8f2f-b3ece34377f3   0.146035   0.567181   0.764313   \n\n                                      target_17  target_18  target_19  \nid                                                                     \ne7ea82dd-411c-4a5f-8f2f-b3ece34377f3   0.353695   0.519514   0.146709  "
     },
     "execution_count": null,
     "metadata": {},
     "output_type": "execute_result"
    },
    {
     "data": {
      "application/javascript": "\n            setTimeout(function() {\n                var nbb_cell_id = 7;\n                var nbb_unformatted_code = \"# Initialization (Random credentials)\\nkey = Key(pub_id=\\\"UFVCTElDX0lE\\\", secret_key=\\\"U1VQRVJfU0VDUkVUX0tFWQ==\\\")\\nnum_sub = NumeraiClassicSubmittor(directory_path=\\\"test_sub\\\",\\n                                  key=key)\\nassert num_sub.dir.is_dir()\\n\\n# Create random dataframe\\nn_rows, n_columns = 100, 20\\ntargets = [f\\\"target_{i}\\\" for i in range(n_columns)]\\ndataf = pd.DataFrame(np.random.uniform(size=(n_rows, n_columns)), columns=targets)\\ndataf['id'] = [uuid.uuid4() for _ in range(n_rows)]\\ndataf = dataf.set_index('id')\\ndataf.head(1)\";\n                var nbb_formatted_code = \"# Initialization (Random credentials)\\nkey = Key(pub_id=\\\"UFVCTElDX0lE\\\", secret_key=\\\"U1VQRVJfU0VDUkVUX0tFWQ==\\\")\\nnum_sub = NumeraiClassicSubmittor(directory_path=\\\"test_sub\\\", key=key)\\nassert num_sub.dir.is_dir()\\n\\n# Create random dataframe\\nn_rows, n_columns = 100, 20\\ntargets = [f\\\"target_{i}\\\" for i in range(n_columns)]\\ndataf = pd.DataFrame(np.random.uniform(size=(n_rows, n_columns)), columns=targets)\\ndataf[\\\"id\\\"] = [uuid.uuid4() for _ in range(n_rows)]\\ndataf = dataf.set_index(\\\"id\\\")\\ndataf.head(1)\";\n                var nbb_cells = Jupyter.notebook.get_cells();\n                for (var i = 0; i < nbb_cells.length; ++i) {\n                    if (nbb_cells[i].input_prompt_number == nbb_cell_id) {\n                        if (nbb_cells[i].get_text() == nbb_unformatted_code) {\n                             nbb_cells[i].set_text(nbb_formatted_code);\n                        }\n                        break;\n                    }\n                }\n            }, 500);\n            ",
      "text/plain": "<IPython.core.display.Javascript object>"
     },
     "metadata": {},
     "output_type": "display_data"
    }
   ],
   "source": [
    "# Initialization (Random credentials)\n",
    "key = Key(pub_id=\"UFVCTElDX0lE\", secret_key=\"U1VQRVJfU0VDUkVUX0tFWQ==\")\n",
    "num_sub = NumeraiClassicSubmittor(directory_path=\"test_sub\",\n",
    "                                  key=key)\n",
    "assert num_sub.dir.is_dir()\n",
    "\n",
    "# Create random dataframe\n",
    "n_rows, n_columns = 100, 20\n",
    "targets = [f\"target_{i}\" for i in range(n_columns)]\n",
    "dataf = pd.DataFrame(np.random.uniform(size=(n_rows, n_columns)), columns=targets)\n",
    "dataf['id'] = [uuid.uuid4() for _ in range(n_rows)]\n",
    "dataf = dataf.set_index('id')\n",
    "dataf.head(1)"
   ]
  },
  {
   "cell_type": "code",
   "execution_count": null,
   "metadata": {},
   "outputs": [
    {
     "data": {
      "application/javascript": "\n            setTimeout(function() {\n                var nbb_cell_id = 8;\n                var nbb_unformatted_code = \"# Save CSV and upload\\n# num_sub.full_submission(dataf=dataf, file_name='test.csv', target_columns=targets, model_name=\\\"test\\\")\";\n                var nbb_formatted_code = \"# Save CSV and upload\\n# num_sub.full_submission(dataf=dataf, file_name='test.csv', target_columns=targets, model_name=\\\"test\\\")\";\n                var nbb_cells = Jupyter.notebook.get_cells();\n                for (var i = 0; i < nbb_cells.length; ++i) {\n                    if (nbb_cells[i].input_prompt_number == nbb_cell_id) {\n                        if (nbb_cells[i].get_text() == nbb_unformatted_code) {\n                             nbb_cells[i].set_text(nbb_formatted_code);\n                        }\n                        break;\n                    }\n                }\n            }, 500);\n            ",
      "text/plain": "<IPython.core.display.Javascript object>"
     },
     "metadata": {},
     "output_type": "display_data"
    }
   ],
   "source": [
    "# Save CSV and upload\n",
    "# num_sub.full_submission(dataf=dataf, file_name='test.csv', target_columns=targets, model_name=\"test\")"
   ]
  },
  {
   "cell_type": "code",
   "execution_count": null,
   "metadata": {},
   "outputs": [
    {
     "data": {
      "text/html": "<pre style=\"white-space:pre;overflow-x:auto;line-height:normal;font-family:Menlo,'DejaVu Sans Mono',consolas,'Courier New',monospace\">📄 Saving predictions CSV to <span style=\"color: #008000; text-decoration-color: #008000\">'test_sub/test.csv'</span>. 📄\n</pre>\n",
      "text/plain": "📄 Saving predictions CSV to \u001b[32m'test_sub/test.csv'\u001b[0m. 📄\n"
     },
     "metadata": {},
     "output_type": "display_data"
    },
    {
     "data": {
      "text/html": "<div>\n<style scoped>\n    .dataframe tbody tr th:only-of-type {\n        vertical-align: middle;\n    }\n\n    .dataframe tbody tr th {\n        vertical-align: top;\n    }\n\n    .dataframe thead th {\n        text-align: right;\n    }\n</style>\n<table border=\"1\" class=\"dataframe\">\n  <thead>\n    <tr style=\"text-align: right;\">\n      <th></th>\n      <th>id</th>\n      <th>target_0</th>\n      <th>target_1</th>\n      <th>target_2</th>\n      <th>target_3</th>\n      <th>target_4</th>\n      <th>target_5</th>\n      <th>target_6</th>\n      <th>target_7</th>\n      <th>target_8</th>\n      <th>...</th>\n      <th>target_10</th>\n      <th>target_11</th>\n      <th>target_12</th>\n      <th>target_13</th>\n      <th>target_14</th>\n      <th>target_15</th>\n      <th>target_16</th>\n      <th>target_17</th>\n      <th>target_18</th>\n      <th>target_19</th>\n    </tr>\n  </thead>\n  <tbody>\n    <tr>\n      <th>0</th>\n      <td>e7ea82dd-411c-4a5f-8f2f-b3ece34377f3</td>\n      <td>0.278266</td>\n      <td>0.571150</td>\n      <td>0.960328</td>\n      <td>0.674253</td>\n      <td>0.09427</td>\n      <td>0.984954</td>\n      <td>0.855347</td>\n      <td>0.935789</td>\n      <td>0.327705</td>\n      <td>...</td>\n      <td>0.524148</td>\n      <td>0.189792</td>\n      <td>0.262066</td>\n      <td>0.360628</td>\n      <td>0.146035</td>\n      <td>0.567181</td>\n      <td>0.764313</td>\n      <td>0.353695</td>\n      <td>0.519514</td>\n      <td>0.146709</td>\n    </tr>\n    <tr>\n      <th>1</th>\n      <td>bfb1ebed-0ed9-4ea5-9479-cbbee2cb02ca</td>\n      <td>0.810822</td>\n      <td>0.234707</td>\n      <td>0.529869</td>\n      <td>0.763643</td>\n      <td>0.14500</td>\n      <td>0.155458</td>\n      <td>0.846352</td>\n      <td>0.658247</td>\n      <td>0.225318</td>\n      <td>...</td>\n      <td>0.866812</td>\n      <td>0.158678</td>\n      <td>0.136907</td>\n      <td>0.800027</td>\n      <td>0.572910</td>\n      <td>0.192533</td>\n      <td>0.096786</td>\n      <td>0.038681</td>\n      <td>0.437323</td>\n      <td>0.454955</td>\n    </tr>\n  </tbody>\n</table>\n<p>2 rows × 21 columns</p>\n</div>",
      "text/plain": "                                     id  target_0  target_1  target_2  \\\n0  e7ea82dd-411c-4a5f-8f2f-b3ece34377f3  0.278266  0.571150  0.960328   \n1  bfb1ebed-0ed9-4ea5-9479-cbbee2cb02ca  0.810822  0.234707  0.529869   \n\n   target_3  target_4  target_5  target_6  target_7  target_8  ...  target_10  \\\n0  0.674253   0.09427  0.984954  0.855347  0.935789  0.327705  ...   0.524148   \n1  0.763643   0.14500  0.155458  0.846352  0.658247  0.225318  ...   0.866812   \n\n   target_11  target_12  target_13  target_14  target_15  target_16  \\\n0   0.189792   0.262066   0.360628   0.146035   0.567181   0.764313   \n1   0.158678   0.136907   0.800027   0.572910   0.192533   0.096786   \n\n   target_17  target_18  target_19  \n0   0.353695   0.519514   0.146709  \n1   0.038681   0.437323   0.454955  \n\n[2 rows x 21 columns]"
     },
     "execution_count": null,
     "metadata": {},
     "output_type": "execute_result"
    },
    {
     "data": {
      "application/javascript": "\n            setTimeout(function() {\n                var nbb_cell_id = 9;\n                var nbb_unformatted_code = \"num_sub.save_csv(dataf=dataf, file_name='test.csv', target_columns=targets)\\npd.read_csv(\\\"test_sub/test.csv\\\").head(2)\";\n                var nbb_formatted_code = \"num_sub.save_csv(dataf=dataf, file_name=\\\"test.csv\\\", target_columns=targets)\\npd.read_csv(\\\"test_sub/test.csv\\\").head(2)\";\n                var nbb_cells = Jupyter.notebook.get_cells();\n                for (var i = 0; i < nbb_cells.length; ++i) {\n                    if (nbb_cells[i].input_prompt_number == nbb_cell_id) {\n                        if (nbb_cells[i].get_text() == nbb_unformatted_code) {\n                             nbb_cells[i].set_text(nbb_formatted_code);\n                        }\n                        break;\n                    }\n                }\n            }, 500);\n            ",
      "text/plain": "<IPython.core.display.Javascript object>"
     },
     "metadata": {},
     "output_type": "display_data"
    }
   ],
   "source": [
    "num_sub.save_csv(dataf=dataf, file_name='test.csv', target_columns=targets)\n",
    "pd.read_csv(\"test_sub/test.csv\").head(2)"
   ]
  },
  {
   "cell_type": "markdown",
   "metadata": {},
   "source": []
  },
  {
   "cell_type": "markdown",
   "metadata": {},
   "source": [
    "## 3. Numerai Signals"
   ]
  },
  {
   "cell_type": "code",
   "execution_count": null,
   "metadata": {},
   "outputs": [
    {
     "data": {
      "application/javascript": "\n            setTimeout(function() {\n                var nbb_cell_id = 9;\n                var nbb_unformatted_code = \"num_sub.save_csv(dataf=dataf, file_name='test.csv', target_columns=targets)\\npd.read_csv(\\\"test_sub/test.csv\\\").head(2)\";\n                var nbb_formatted_code = \"num_sub.save_csv(dataf=dataf, file_name=\\\"test.csv\\\", target_columns=targets)\\npd.read_csv(\\\"test_sub/test.csv\\\").head(2)\";\n                var nbb_cells = Jupyter.notebook.get_cells();\n                for (var i = 0; i < nbb_cells.length; ++i) {\n                    if (nbb_cells[i].input_prompt_number == nbb_cell_id) {\n                        if (nbb_cells[i].get_text() == nbb_unformatted_code) {\n                             nbb_cells[i].set_text(nbb_formatted_code);\n                        }\n                        break;\n                    }\n                }\n            }, 500);\n            ",
      "text/plain": "<IPython.core.display.Javascript object>"
     },
     "metadata": {},
     "output_type": "display_data"
    }
   ],
   "source": []
  },
  {
   "cell_type": "code",
   "execution_count": null,
   "metadata": {},
   "outputs": [
    {
     "name": "stdout",
     "output_type": "stream",
     "text": [
      "Converted 00_download.ipynb.\n",
      "Converted 01_dataloaders.ipynb.\n",
      "Converted 02_dataset.ipynb.\n",
      "Converted 03_preprocessing.ipynb.\n",
      "Converted 04a_model.ipynb.\n",
      "Converted 04b_modelpipeline.ipynb.\n",
      "Converted 05_postprocessing.ipynb.\n",
      "Converted 06_prediction_dataset.ipynb.\n",
      "Converted 07_evaluation.ipynb.\n",
      "Converted 08_key.ipynb.\n",
      "Converted 09_submission.ipynb.\n",
      "Converted index.ipynb.\n"
     ]
    },
    {
     "data": {
      "application/javascript": "\n            setTimeout(function() {\n                var nbb_cell_id = 10;\n                var nbb_unformatted_code = \"#hide\\n# Run this cell to sync all changes with library\\nfrom nbdev.export import notebook2script; notebook2script()\";\n                var nbb_formatted_code = \"# hide\\n# Run this cell to sync all changes with library\\nfrom nbdev.export import notebook2script\\n\\nnotebook2script()\";\n                var nbb_cells = Jupyter.notebook.get_cells();\n                for (var i = 0; i < nbb_cells.length; ++i) {\n                    if (nbb_cells[i].input_prompt_number == nbb_cell_id) {\n                        if (nbb_cells[i].get_text() == nbb_unformatted_code) {\n                             nbb_cells[i].set_text(nbb_formatted_code);\n                        }\n                        break;\n                    }\n                }\n            }, 500);\n            ",
      "text/plain": "<IPython.core.display.Javascript object>"
     },
     "metadata": {},
     "output_type": "display_data"
    }
   ],
   "source": [
    "#hide\n",
    "# Run this cell to sync all changes with library\n",
    "from nbdev.export import notebook2script; notebook2script()"
   ]
  }
 ],
 "metadata": {
  "kernelspec": {
   "display_name": "Python 3",
   "language": "python",
   "name": "python3"
  }
 },
 "nbformat": 4,
 "nbformat_minor": 0
}
