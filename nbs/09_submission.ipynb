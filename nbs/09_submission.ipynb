{
 "cells": [
  {
   "cell_type": "code",
   "execution_count": null,
   "metadata": {},
   "outputs": [
    {
     "data": {
      "application/javascript": "\n            setTimeout(function() {\n                var nbb_cell_id = 1;\n                var nbb_unformatted_code = \"%load_ext autoreload\\n%autoreload 2\\n%load_ext nb_black\\n%load_ext lab_black\";\n                var nbb_formatted_code = \"%load_ext autoreload\\n%autoreload 2\\n%load_ext nb_black\\n%load_ext lab_black\";\n                var nbb_cells = Jupyter.notebook.get_cells();\n                for (var i = 0; i < nbb_cells.length; ++i) {\n                    if (nbb_cells[i].input_prompt_number == nbb_cell_id) {\n                        if (nbb_cells[i].get_text() == nbb_unformatted_code) {\n                             nbb_cells[i].set_text(nbb_formatted_code);\n                        }\n                        break;\n                    }\n                }\n            }, 500);\n            ",
      "text/plain": "<IPython.core.display.Javascript object>"
     },
     "metadata": {},
     "output_type": "display_data"
    }
   ],
   "source": [
    "%load_ext autoreload\n",
    "%autoreload 2\n",
    "%load_ext nb_black\n",
    "%load_ext lab_black"
   ]
  },
  {
   "cell_type": "code",
   "execution_count": null,
   "metadata": {},
   "outputs": [
    {
     "data": {
      "application/javascript": "\n            setTimeout(function() {\n                var nbb_cell_id = 2;\n                var nbb_unformatted_code = \"# default_exp submission\";\n                var nbb_formatted_code = \"# default_exp submission\";\n                var nbb_cells = Jupyter.notebook.get_cells();\n                for (var i = 0; i < nbb_cells.length; ++i) {\n                    if (nbb_cells[i].input_prompt_number == nbb_cell_id) {\n                        if (nbb_cells[i].get_text() == nbb_unformatted_code) {\n                             nbb_cells[i].set_text(nbb_formatted_code);\n                        }\n                        break;\n                    }\n                }\n            }, 500);\n            ",
      "text/plain": "<IPython.core.display.Javascript object>"
     },
     "metadata": {},
     "output_type": "display_data"
    }
   ],
   "source": [
    "# default_exp submission"
   ]
  },
  {
   "cell_type": "markdown",
   "metadata": {},
   "source": [
    "# Submission"
   ]
  },
  {
   "cell_type": "code",
   "execution_count": null,
   "metadata": {},
   "outputs": [
    {
     "data": {
      "application/javascript": "\n            setTimeout(function() {\n                var nbb_cell_id = 3;\n                var nbb_unformatted_code = \"#hide\\nfrom nbdev.showdoc import *\";\n                var nbb_formatted_code = \"# hide\\nfrom nbdev.showdoc import *\";\n                var nbb_cells = Jupyter.notebook.get_cells();\n                for (var i = 0; i < nbb_cells.length; ++i) {\n                    if (nbb_cells[i].input_prompt_number == nbb_cell_id) {\n                        if (nbb_cells[i].get_text() == nbb_unformatted_code) {\n                             nbb_cells[i].set_text(nbb_formatted_code);\n                        }\n                        break;\n                    }\n                }\n            }, 500);\n            ",
      "text/plain": "<IPython.core.display.Javascript object>"
     },
     "metadata": {},
     "output_type": "display_data"
    }
   ],
   "source": [
    "#hide\n",
    "from nbdev.showdoc import *"
   ]
  },
  {
   "cell_type": "code",
   "execution_count": null,
   "metadata": {},
   "outputs": [
    {
     "data": {
      "application/javascript": "\n            setTimeout(function() {\n                var nbb_cell_id = 4;\n                var nbb_unformatted_code = \"#export\\nimport os\\nimport uuid\\nimport numpy as np\\nimport pandas as pd\\nfrom typing import Union\\nfrom pathlib import Path\\nfrom copy import deepcopy\\nfrom random import choices\\nfrom datetime import datetime\\nfrom abc import abstractmethod\\nfrom typeguard import typechecked\\nfrom string import ascii_uppercase\\nfrom rich import print as rich_print\\nfrom numerapi import NumerAPI, SignalsAPI\\nfrom dateutil.relativedelta import relativedelta, FR\\n\\nfrom numerai_blocks.download import BaseIO\\nfrom numerai_blocks.key import Key\";\n                var nbb_formatted_code = \"# export\\nimport os\\nimport uuid\\nimport numpy as np\\nimport pandas as pd\\nfrom typing import Union\\nfrom pathlib import Path\\nfrom copy import deepcopy\\nfrom random import choices\\nfrom datetime import datetime\\nfrom abc import abstractmethod\\nfrom typeguard import typechecked\\nfrom string import ascii_uppercase\\nfrom rich import print as rich_print\\nfrom numerapi import NumerAPI, SignalsAPI\\nfrom dateutil.relativedelta import relativedelta, FR\\n\\nfrom numerai_blocks.download import BaseIO\\nfrom numerai_blocks.key import Key\";\n                var nbb_cells = Jupyter.notebook.get_cells();\n                for (var i = 0; i < nbb_cells.length; ++i) {\n                    if (nbb_cells[i].input_prompt_number == nbb_cell_id) {\n                        if (nbb_cells[i].get_text() == nbb_unformatted_code) {\n                             nbb_cells[i].set_text(nbb_formatted_code);\n                        }\n                        break;\n                    }\n                }\n            }, 500);\n            ",
      "text/plain": "<IPython.core.display.Javascript object>"
     },
     "metadata": {},
     "output_type": "display_data"
    }
   ],
   "source": [
    "#export\n",
    "import os\n",
    "import uuid\n",
    "import numpy as np\n",
    "import pandas as pd\n",
    "from typing import Union\n",
    "from pathlib import Path\n",
    "from copy import deepcopy\n",
    "from random import choices\n",
    "from datetime import datetime\n",
    "from abc import abstractmethod\n",
    "from typeguard import typechecked\n",
    "from string import ascii_uppercase\n",
    "from rich import print as rich_print\n",
    "from numerapi import NumerAPI, SignalsAPI\n",
    "from dateutil.relativedelta import relativedelta, FR\n",
    "\n",
    "from numerai_blocks.download import BaseIO\n",
    "from numerai_blocks.key import Key"
   ]
  },
  {
   "cell_type": "markdown",
   "metadata": {},
   "source": [
    "## 1. Base"
   ]
  },
  {
   "cell_type": "code",
   "execution_count": null,
   "metadata": {},
   "outputs": [
    {
     "data": {
      "application/javascript": "\n            setTimeout(function() {\n                var nbb_cell_id = 5;\n                var nbb_unformatted_code = \"#export\\n@typechecked\\nclass BaseSubmittor(BaseIO):\\n    def __init__(self, directory_path: str, api: Union[NumerAPI, SignalsAPI]):\\n        super(BaseSubmittor, self).__init__(directory_path)\\n        self.dir = Path(directory_path)\\n        self._create_directory()\\n        self.api = api\\n\\n    @abstractmethod\\n    def save_csv(self, dataf: pd.DataFrame, file_name: str, cols: list, *args, **kwargs):\\n        \\\"\\\"\\\"\\n        For Numerai Classic: Save index column + 'cols' (targets) to CSV.\\n        For Numerai Signals: Save ticker, friday_date, data_type and signal columns to CSV.\\n        \\\"\\\"\\\"\\n        ...\\n\\n    def upload_predictions(self, file_name: str, model_name: str, *args, **kwargs):\\n        \\\"\\\"\\\"\\n        Upload CSV file to Numerai for given model name.\\n        :param file_name: File name/path relative to directory_path.\\n        :param model_name: Lowercase raw model name (For example, 'integration_test').\\n        \\\"\\\"\\\"\\n        full_path = str(self.dir / file_name)\\n        model_id = self._get_model_id(model_name=model_name)\\n        api_type = str(self.api.__class__.__name__)\\n        rich_print(f\\\":airplane: {api_type}: Uploading predictions from '{full_path}' for model [bold blue]'{model_name}'[/bold blue] (model_id='{model_id}') :airplane:\\\")\\n        self.api.upload_predictions(file_path=full_path,\\n                                    model_id=model_id,\\n                                    *args, **kwargs)\\n        rich_print(f\\\":thumbs_up: {api_type} submission of '{full_path}' for [bold blue]{model_name}[/bold blue] is successful! :thumbs_up:\\\")\\n\\n    def full_submission(self, dataf: pd.DataFrame, file_name: str, model_name: str, cols: list, *args, **kwargs):\\n        \\\"\\\"\\\" Save DataFrame and upload predictions through API. \\\"\\\"\\\"\\n        self.save_csv(dataf=dataf, file_name=file_name, cols=cols, *args, **kwargs)\\n        self.upload_predictions(file_name=file_name, model_name=model_name, *args, **kwargs)\\n\\n    def __call__(self, dataf: pd.DataFrame, file_name: str, model_name: str, cols: list, *args, **kwargs):\\n        \\\"\\\"\\\"\\n        The most common use case will be to create a CSV and submit it immediately after that.\\n        full_submission handles this.\\n        \\\"\\\"\\\"\\n        self.full_submission(dataf=dataf,\\n                             file_name=file_name,\\n                             model_name=model_name,\\n                             cols=cols,\\n                             *args, **kwargs)\\n\\n    def _get_model_id(self, model_name: str) -> str:\\n        \\\"\\\"\\\" Get ID needed for prediction uploading. \\\"\\\"\\\"\\n        return self.get_model_mapping()[model_name]\\n\\n    @property\\n    def get_model_mapping(self) -> dict:\\n        \\\"\\\"\\\" Mapping between raw model names and model IDs. \\\"\\\"\\\"\\n        return self.api.get_models()\";\n                var nbb_formatted_code = \"# export\\n@typechecked\\nclass BaseSubmittor(BaseIO):\\n    def __init__(self, directory_path: str, api: Union[NumerAPI, SignalsAPI]):\\n        super(BaseSubmittor, self).__init__(directory_path)\\n        self.dir = Path(directory_path)\\n        self._create_directory()\\n        self.api = api\\n\\n    @abstractmethod\\n    def save_csv(\\n        self, dataf: pd.DataFrame, file_name: str, cols: list, *args, **kwargs\\n    ):\\n        \\\"\\\"\\\"\\n        For Numerai Classic: Save index column + 'cols' (targets) to CSV.\\n        For Numerai Signals: Save ticker, friday_date, data_type and signal columns to CSV.\\n        \\\"\\\"\\\"\\n        ...\\n\\n    def upload_predictions(self, file_name: str, model_name: str, *args, **kwargs):\\n        \\\"\\\"\\\"\\n        Upload CSV file to Numerai for given model name.\\n        :param file_name: File name/path relative to directory_path.\\n        :param model_name: Lowercase raw model name (For example, 'integration_test').\\n        \\\"\\\"\\\"\\n        full_path = str(self.dir / file_name)\\n        model_id = self._get_model_id(model_name=model_name)\\n        api_type = str(self.api.__class__.__name__)\\n        rich_print(\\n            f\\\":airplane: {api_type}: Uploading predictions from '{full_path}' for model [bold blue]'{model_name}'[/bold blue] (model_id='{model_id}') :airplane:\\\"\\n        )\\n        self.api.upload_predictions(\\n            file_path=full_path, model_id=model_id, *args, **kwargs\\n        )\\n        rich_print(\\n            f\\\":thumbs_up: {api_type} submission of '{full_path}' for [bold blue]{model_name}[/bold blue] is successful! :thumbs_up:\\\"\\n        )\\n\\n    def full_submission(\\n        self,\\n        dataf: pd.DataFrame,\\n        file_name: str,\\n        model_name: str,\\n        cols: list,\\n        *args,\\n        **kwargs,\\n    ):\\n        \\\"\\\"\\\"Save DataFrame and upload predictions through API.\\\"\\\"\\\"\\n        self.save_csv(dataf=dataf, file_name=file_name, cols=cols, *args, **kwargs)\\n        self.upload_predictions(\\n            file_name=file_name, model_name=model_name, *args, **kwargs\\n        )\\n\\n    def __call__(\\n        self,\\n        dataf: pd.DataFrame,\\n        file_name: str,\\n        model_name: str,\\n        cols: list,\\n        *args,\\n        **kwargs,\\n    ):\\n        \\\"\\\"\\\"\\n        The most common use case will be to create a CSV and submit it immediately after that.\\n        full_submission handles this.\\n        \\\"\\\"\\\"\\n        self.full_submission(\\n            dataf=dataf,\\n            file_name=file_name,\\n            model_name=model_name,\\n            cols=cols,\\n            *args,\\n            **kwargs,\\n        )\\n\\n    def _get_model_id(self, model_name: str) -> str:\\n        \\\"\\\"\\\"Get ID needed for prediction uploading.\\\"\\\"\\\"\\n        return self.get_model_mapping()[model_name]\\n\\n    @property\\n    def get_model_mapping(self) -> dict:\\n        \\\"\\\"\\\"Mapping between raw model names and model IDs.\\\"\\\"\\\"\\n        return self.api.get_models()\";\n                var nbb_cells = Jupyter.notebook.get_cells();\n                for (var i = 0; i < nbb_cells.length; ++i) {\n                    if (nbb_cells[i].input_prompt_number == nbb_cell_id) {\n                        if (nbb_cells[i].get_text() == nbb_unformatted_code) {\n                             nbb_cells[i].set_text(nbb_formatted_code);\n                        }\n                        break;\n                    }\n                }\n            }, 500);\n            ",
      "text/plain": "<IPython.core.display.Javascript object>"
     },
     "metadata": {},
     "output_type": "display_data"
    }
   ],
   "source": [
    "#export\n",
    "@typechecked\n",
    "class BaseSubmittor(BaseIO):\n",
    "    def __init__(self, directory_path: str, api: Union[NumerAPI, SignalsAPI]):\n",
    "        super(BaseSubmittor, self).__init__(directory_path)\n",
    "        self.dir = Path(directory_path)\n",
    "        self._create_directory()\n",
    "        self.api = api\n",
    "\n",
    "    @abstractmethod\n",
    "    def save_csv(self, dataf: pd.DataFrame, file_name: str, cols: list, *args, **kwargs):\n",
    "        \"\"\"\n",
    "        For Numerai Classic: Save index column + 'cols' (targets) to CSV.\n",
    "        For Numerai Signals: Save ticker, friday_date, data_type and signal columns to CSV.\n",
    "        \"\"\"\n",
    "        ...\n",
    "\n",
    "    def upload_predictions(self, file_name: str, model_name: str, *args, **kwargs):\n",
    "        \"\"\"\n",
    "        Upload CSV file to Numerai for given model name.\n",
    "        :param file_name: File name/path relative to directory_path.\n",
    "        :param model_name: Lowercase raw model name (For example, 'integration_test').\n",
    "        \"\"\"\n",
    "        full_path = str(self.dir / file_name)\n",
    "        model_id = self._get_model_id(model_name=model_name)\n",
    "        api_type = str(self.api.__class__.__name__)\n",
    "        rich_print(f\":airplane: {api_type}: Uploading predictions from '{full_path}' for model [bold blue]'{model_name}'[/bold blue] (model_id='{model_id}') :airplane:\")\n",
    "        self.api.upload_predictions(file_path=full_path,\n",
    "                                    model_id=model_id,\n",
    "                                    *args, **kwargs)\n",
    "        rich_print(f\":thumbs_up: {api_type} submission of '{full_path}' for [bold blue]{model_name}[/bold blue] is successful! :thumbs_up:\")\n",
    "\n",
    "    def full_submission(self, dataf: pd.DataFrame, file_name: str, model_name: str, cols: list, *args, **kwargs):\n",
    "        \"\"\" Save DataFrame and upload predictions through API. \"\"\"\n",
    "        self.save_csv(dataf=dataf, file_name=file_name, cols=cols, *args, **kwargs)\n",
    "        self.upload_predictions(file_name=file_name, model_name=model_name, *args, **kwargs)\n",
    "\n",
    "    def __call__(self, dataf: pd.DataFrame, file_name: str, model_name: str, cols: list, *args, **kwargs):\n",
    "        \"\"\"\n",
    "        The most common use case will be to create a CSV and submit it immediately after that.\n",
    "        full_submission handles this.\n",
    "        \"\"\"\n",
    "        self.full_submission(dataf=dataf,\n",
    "                             file_name=file_name,\n",
    "                             model_name=model_name,\n",
    "                             cols=cols,\n",
    "                             *args, **kwargs)\n",
    "\n",
    "    def _get_model_id(self, model_name: str) -> str:\n",
    "        \"\"\" Get ID needed for prediction uploading. \"\"\"\n",
    "        return self.get_model_mapping()[model_name]\n",
    "\n",
    "    @property\n",
    "    def get_model_mapping(self) -> dict:\n",
    "        \"\"\" Mapping between raw model names and model IDs. \"\"\"\n",
    "        return self.api.get_models()"
   ]
  },
  {
   "cell_type": "markdown",
   "metadata": {},
   "source": [
    "## 2. Numerai Classic"
   ]
  },
  {
   "cell_type": "code",
   "execution_count": null,
   "metadata": {},
   "outputs": [
    {
     "data": {
      "application/javascript": "\n            setTimeout(function() {\n                var nbb_cell_id = 6;\n                var nbb_unformatted_code = \"#export\\nclass NumeraiClassicSubmittor(BaseSubmittor):\\n    \\\"\\\"\\\"\\n    Submit for Numerai Classic.\\n    :param directory_path: Base directory to save and read prediction files from.\\n    :param key: Key object (numerai-blocks.key.Key) containing valid credentials for Numerai Classic.\\n    *args, **kwargs will be passed to NumerAPI initialization.\\n    \\\"\\\"\\\"\\n    def __init__(self, directory_path: str, key: Key, *args, **kwargs):\\n        api = NumerAPI(public_id=key.pub_id, secret_key=key.secret_key, *args, **kwargs)\\n        super(NumeraiClassicSubmittor, self).__init__(directory_path=directory_path, api=api)\\n\\n    def save_csv(self, dataf: pd.DataFrame, file_name: str, cols: list, *args, **kwargs):\\n        \\\"\\\"\\\"\\n        :param dataf: DataFrame which should have the following columns:\\n        1. id (as index column)\\n        2. cols (for example ['target'] or [20_NUMERAI_TARGETS]).\\n        \\\"\\\"\\\"\\n        full_path = str(self.dir / file_name)\\n        rich_print(f\\\":page_facing_up: Saving predictions CSV to '{full_path}'. :page_facing_up:\\\")\\n        dataf[cols].to_csv(full_path, *args, **kwargs)\";\n                var nbb_formatted_code = \"# export\\nclass NumeraiClassicSubmittor(BaseSubmittor):\\n    \\\"\\\"\\\"\\n    Submit for Numerai Classic.\\n    :param directory_path: Base directory to save and read prediction files from.\\n    :param key: Key object (numerai-blocks.key.Key) containing valid credentials for Numerai Classic.\\n    *args, **kwargs will be passed to NumerAPI initialization.\\n    \\\"\\\"\\\"\\n\\n    def __init__(self, directory_path: str, key: Key, *args, **kwargs):\\n        api = NumerAPI(public_id=key.pub_id, secret_key=key.secret_key, *args, **kwargs)\\n        super(NumeraiClassicSubmittor, self).__init__(\\n            directory_path=directory_path, api=api\\n        )\\n\\n    def save_csv(\\n        self, dataf: pd.DataFrame, file_name: str, cols: list, *args, **kwargs\\n    ):\\n        \\\"\\\"\\\"\\n        :param dataf: DataFrame which should have the following columns:\\n        1. id (as index column)\\n        2. cols (for example ['target'] or [20_NUMERAI_TARGETS]).\\n        \\\"\\\"\\\"\\n        full_path = str(self.dir / file_name)\\n        rich_print(\\n            f\\\":page_facing_up: Saving predictions CSV to '{full_path}'. :page_facing_up:\\\"\\n        )\\n        dataf[cols].to_csv(full_path, *args, **kwargs)\";\n                var nbb_cells = Jupyter.notebook.get_cells();\n                for (var i = 0; i < nbb_cells.length; ++i) {\n                    if (nbb_cells[i].input_prompt_number == nbb_cell_id) {\n                        if (nbb_cells[i].get_text() == nbb_unformatted_code) {\n                             nbb_cells[i].set_text(nbb_formatted_code);\n                        }\n                        break;\n                    }\n                }\n            }, 500);\n            ",
      "text/plain": "<IPython.core.display.Javascript object>"
     },
     "metadata": {},
     "output_type": "display_data"
    }
   ],
   "source": [
    "#export\n",
    "class NumeraiClassicSubmittor(BaseSubmittor):\n",
    "    \"\"\"\n",
    "    Submit for Numerai Classic.\n",
    "    :param directory_path: Base directory to save and read prediction files from.\n",
    "    :param key: Key object (numerai-blocks.key.Key) containing valid credentials for Numerai Classic.\n",
    "    *args, **kwargs will be passed to NumerAPI initialization.\n",
    "    \"\"\"\n",
    "    def __init__(self, directory_path: str, key: Key, *args, **kwargs):\n",
    "        api = NumerAPI(public_id=key.pub_id, secret_key=key.secret_key, *args, **kwargs)\n",
    "        super(NumeraiClassicSubmittor, self).__init__(directory_path=directory_path, api=api)\n",
    "\n",
    "    def save_csv(self, dataf: pd.DataFrame, file_name: str, cols: list, *args, **kwargs):\n",
    "        \"\"\"\n",
    "        :param dataf: DataFrame which should have the following columns:\n",
    "        1. id (as index column)\n",
    "        2. cols (for example ['target'] or [20_NUMERAI_TARGETS]).\n",
    "        \"\"\"\n",
    "        full_path = str(self.dir / file_name)\n",
    "        rich_print(f\":page_facing_up: Saving predictions CSV to '{full_path}'. :page_facing_up:\")\n",
    "        dataf[cols].to_csv(full_path, *args, **kwargs)\n"
   ]
  },
  {
   "cell_type": "markdown",
   "metadata": {},
   "source": [
    "### NumeraiClassicSubmittor tests"
   ]
  },
  {
   "cell_type": "code",
   "execution_count": null,
   "metadata": {},
   "outputs": [
    {
     "data": {
      "text/html": "<pre style=\"white-space:pre;overflow-x:auto;line-height:normal;font-family:Menlo,'DejaVu Sans Mono',consolas,'Courier New',monospace\">🔑 Numerai Auth key initialized with pub_id = <span style=\"color: #008000; text-decoration-color: #008000\">'UFVCTElDX0lE'</span> 🔑\n</pre>\n",
      "text/plain": "🔑 Numerai Auth key initialized with pub_id = \u001b[32m'UFVCTElDX0lE'\u001b[0m 🔑\n"
     },
     "metadata": {},
     "output_type": "display_data"
    },
    {
     "data": {
      "text/html": "<pre style=\"white-space:pre;overflow-x:auto;line-height:normal;font-family:Menlo,'DejaVu Sans Mono',consolas,'Courier New',monospace\">No existing directory found at <span style=\"color: #008000; text-decoration-color: #008000\">'</span><span style=\"color: #000080; text-decoration-color: #000080\">test_sub</span><span style=\"color: #008000; text-decoration-color: #008000\">'</span>. Creating directory<span style=\"color: #808000; text-decoration-color: #808000\">...</span>\n</pre>\n",
      "text/plain": "No existing directory found at \u001b[32m'\u001b[0m\u001b[34mtest_sub\u001b[0m\u001b[32m'\u001b[0m. Creating directory\u001b[33m...\u001b[0m\n"
     },
     "metadata": {},
     "output_type": "display_data"
    },
    {
     "data": {
      "text/html": "<div>\n<style scoped>\n    .dataframe tbody tr th:only-of-type {\n        vertical-align: middle;\n    }\n\n    .dataframe tbody tr th {\n        vertical-align: top;\n    }\n\n    .dataframe thead th {\n        text-align: right;\n    }\n</style>\n<table border=\"1\" class=\"dataframe\">\n  <thead>\n    <tr style=\"text-align: right;\">\n      <th></th>\n      <th>target_0</th>\n      <th>target_1</th>\n      <th>target_2</th>\n      <th>target_3</th>\n      <th>target_4</th>\n      <th>target_5</th>\n      <th>target_6</th>\n      <th>target_7</th>\n      <th>target_8</th>\n      <th>target_9</th>\n      <th>target_10</th>\n      <th>target_11</th>\n      <th>target_12</th>\n      <th>target_13</th>\n      <th>target_14</th>\n      <th>target_15</th>\n      <th>target_16</th>\n      <th>target_17</th>\n      <th>target_18</th>\n      <th>target_19</th>\n    </tr>\n    <tr>\n      <th>id</th>\n      <th></th>\n      <th></th>\n      <th></th>\n      <th></th>\n      <th></th>\n      <th></th>\n      <th></th>\n      <th></th>\n      <th></th>\n      <th></th>\n      <th></th>\n      <th></th>\n      <th></th>\n      <th></th>\n      <th></th>\n      <th></th>\n      <th></th>\n      <th></th>\n      <th></th>\n      <th></th>\n    </tr>\n  </thead>\n  <tbody>\n    <tr>\n      <th>858d4d34-feb6-4019-8e11-818cb1d1afc5</th>\n      <td>0.822536</td>\n      <td>0.097015</td>\n      <td>0.979799</td>\n      <td>0.189535</td>\n      <td>0.250934</td>\n      <td>0.686003</td>\n      <td>0.835909</td>\n      <td>0.041455</td>\n      <td>0.240206</td>\n      <td>0.482361</td>\n      <td>0.754157</td>\n      <td>0.135181</td>\n      <td>0.151749</td>\n      <td>0.404956</td>\n      <td>0.884712</td>\n      <td>0.840387</td>\n      <td>0.582667</td>\n      <td>0.359673</td>\n      <td>0.595743</td>\n      <td>0.383371</td>\n    </tr>\n    <tr>\n      <th>d8e1f149-e1cb-431c-a964-d5e1df213e8a</th>\n      <td>0.819038</td>\n      <td>0.010192</td>\n      <td>0.214979</td>\n      <td>0.576635</td>\n      <td>0.290451</td>\n      <td>0.067624</td>\n      <td>0.715359</td>\n      <td>0.044471</td>\n      <td>0.626935</td>\n      <td>0.790519</td>\n      <td>0.269919</td>\n      <td>0.909983</td>\n      <td>0.519294</td>\n      <td>0.376481</td>\n      <td>0.191359</td>\n      <td>0.016604</td>\n      <td>0.978589</td>\n      <td>0.903240</td>\n      <td>0.761912</td>\n      <td>0.880896</td>\n    </tr>\n  </tbody>\n</table>\n</div>",
      "text/plain": "                                      target_0  target_1  target_2  target_3  \\\nid                                                                             \n858d4d34-feb6-4019-8e11-818cb1d1afc5  0.822536  0.097015  0.979799  0.189535   \nd8e1f149-e1cb-431c-a964-d5e1df213e8a  0.819038  0.010192  0.214979  0.576635   \n\n                                      target_4  target_5  target_6  target_7  \\\nid                                                                             \n858d4d34-feb6-4019-8e11-818cb1d1afc5  0.250934  0.686003  0.835909  0.041455   \nd8e1f149-e1cb-431c-a964-d5e1df213e8a  0.290451  0.067624  0.715359  0.044471   \n\n                                      target_8  target_9  target_10  \\\nid                                                                    \n858d4d34-feb6-4019-8e11-818cb1d1afc5  0.240206  0.482361   0.754157   \nd8e1f149-e1cb-431c-a964-d5e1df213e8a  0.626935  0.790519   0.269919   \n\n                                      target_11  target_12  target_13  \\\nid                                                                      \n858d4d34-feb6-4019-8e11-818cb1d1afc5   0.135181   0.151749   0.404956   \nd8e1f149-e1cb-431c-a964-d5e1df213e8a   0.909983   0.519294   0.376481   \n\n                                      target_14  target_15  target_16  \\\nid                                                                      \n858d4d34-feb6-4019-8e11-818cb1d1afc5   0.884712   0.840387   0.582667   \nd8e1f149-e1cb-431c-a964-d5e1df213e8a   0.191359   0.016604   0.978589   \n\n                                      target_17  target_18  target_19  \nid                                                                     \n858d4d34-feb6-4019-8e11-818cb1d1afc5   0.359673   0.595743   0.383371  \nd8e1f149-e1cb-431c-a964-d5e1df213e8a   0.903240   0.761912   0.880896  "
     },
     "execution_count": null,
     "metadata": {},
     "output_type": "execute_result"
    },
    {
     "data": {
      "application/javascript": "\n            setTimeout(function() {\n                var nbb_cell_id = 7;\n                var nbb_unformatted_code = \"# Initialization (Random credentials)\\ntest_dir = \\\"test_sub\\\"\\nclassic_key = Key(pub_id=\\\"UFVCTElDX0lE\\\", secret_key=\\\"U1VQRVJfU0VDUkVUX0tFWQ==\\\")\\nnum_sub = NumeraiClassicSubmittor(directory_path=test_dir,\\n                                  key=classic_key)\\nassert num_sub.dir.is_dir()\\n\\n# Create random dataframe\\nn_rows, n_columns = 100, 20\\ntargets = [f\\\"target_{i}\\\" for i in range(n_columns)]\\ntest_dataf = pd.DataFrame(np.random.uniform(size=(n_rows, n_columns)), columns=targets)\\ntest_dataf['id'] = [uuid.uuid4() for _ in range(n_rows)]\\ntest_dataf = test_dataf.set_index('id')\\ntest_dataf.head(2)\";\n                var nbb_formatted_code = \"# Initialization (Random credentials)\\ntest_dir = \\\"test_sub\\\"\\nclassic_key = Key(pub_id=\\\"UFVCTElDX0lE\\\", secret_key=\\\"U1VQRVJfU0VDUkVUX0tFWQ==\\\")\\nnum_sub = NumeraiClassicSubmittor(directory_path=test_dir, key=classic_key)\\nassert num_sub.dir.is_dir()\\n\\n# Create random dataframe\\nn_rows, n_columns = 100, 20\\ntargets = [f\\\"target_{i}\\\" for i in range(n_columns)]\\ntest_dataf = pd.DataFrame(np.random.uniform(size=(n_rows, n_columns)), columns=targets)\\ntest_dataf[\\\"id\\\"] = [uuid.uuid4() for _ in range(n_rows)]\\ntest_dataf = test_dataf.set_index(\\\"id\\\")\\ntest_dataf.head(2)\";\n                var nbb_cells = Jupyter.notebook.get_cells();\n                for (var i = 0; i < nbb_cells.length; ++i) {\n                    if (nbb_cells[i].input_prompt_number == nbb_cell_id) {\n                        if (nbb_cells[i].get_text() == nbb_unformatted_code) {\n                             nbb_cells[i].set_text(nbb_formatted_code);\n                        }\n                        break;\n                    }\n                }\n            }, 500);\n            ",
      "text/plain": "<IPython.core.display.Javascript object>"
     },
     "metadata": {},
     "output_type": "display_data"
    }
   ],
   "source": [
    "# Initialization (Random credentials)\n",
    "test_dir = \"test_sub\"\n",
    "classic_key = Key(pub_id=\"UFVCTElDX0lE\", secret_key=\"U1VQRVJfU0VDUkVUX0tFWQ==\")\n",
    "num_sub = NumeraiClassicSubmittor(directory_path=test_dir,\n",
    "                                  key=classic_key)\n",
    "assert num_sub.dir.is_dir()\n",
    "\n",
    "# Create random dataframe\n",
    "n_rows, n_columns = 100, 20\n",
    "targets = [f\"target_{i}\" for i in range(n_columns)]\n",
    "test_dataf = pd.DataFrame(np.random.uniform(size=(n_rows, n_columns)), columns=targets)\n",
    "test_dataf['id'] = [uuid.uuid4() for _ in range(n_rows)]\n",
    "test_dataf = test_dataf.set_index('id')\n",
    "test_dataf.head(2)"
   ]
  },
  {
   "cell_type": "code",
   "execution_count": null,
   "metadata": {},
   "outputs": [
    {
     "data": {
      "text/html": "<pre style=\"white-space:pre;overflow-x:auto;line-height:normal;font-family:Menlo,'DejaVu Sans Mono',consolas,'Courier New',monospace\">📄 Saving predictions CSV to <span style=\"color: #008000; text-decoration-color: #008000\">'test_sub/test.csv'</span>. 📄\n</pre>\n",
      "text/plain": "📄 Saving predictions CSV to \u001b[32m'test_sub/test.csv'\u001b[0m. 📄\n"
     },
     "metadata": {},
     "output_type": "display_data"
    },
    {
     "data": {
      "text/html": "<div>\n<style scoped>\n    .dataframe tbody tr th:only-of-type {\n        vertical-align: middle;\n    }\n\n    .dataframe tbody tr th {\n        vertical-align: top;\n    }\n\n    .dataframe thead th {\n        text-align: right;\n    }\n</style>\n<table border=\"1\" class=\"dataframe\">\n  <thead>\n    <tr style=\"text-align: right;\">\n      <th></th>\n      <th>id</th>\n      <th>target_0</th>\n      <th>target_1</th>\n      <th>target_2</th>\n      <th>target_3</th>\n      <th>target_4</th>\n      <th>target_5</th>\n      <th>target_6</th>\n      <th>target_7</th>\n      <th>target_8</th>\n      <th>...</th>\n      <th>target_10</th>\n      <th>target_11</th>\n      <th>target_12</th>\n      <th>target_13</th>\n      <th>target_14</th>\n      <th>target_15</th>\n      <th>target_16</th>\n      <th>target_17</th>\n      <th>target_18</th>\n      <th>target_19</th>\n    </tr>\n  </thead>\n  <tbody>\n    <tr>\n      <th>0</th>\n      <td>858d4d34-feb6-4019-8e11-818cb1d1afc5</td>\n      <td>0.822536</td>\n      <td>0.097015</td>\n      <td>0.979799</td>\n      <td>0.189535</td>\n      <td>0.250934</td>\n      <td>0.686003</td>\n      <td>0.835909</td>\n      <td>0.041455</td>\n      <td>0.240206</td>\n      <td>...</td>\n      <td>0.754157</td>\n      <td>0.135181</td>\n      <td>0.151749</td>\n      <td>0.404956</td>\n      <td>0.884712</td>\n      <td>0.840387</td>\n      <td>0.582667</td>\n      <td>0.359673</td>\n      <td>0.595743</td>\n      <td>0.383371</td>\n    </tr>\n    <tr>\n      <th>1</th>\n      <td>d8e1f149-e1cb-431c-a964-d5e1df213e8a</td>\n      <td>0.819038</td>\n      <td>0.010192</td>\n      <td>0.214979</td>\n      <td>0.576635</td>\n      <td>0.290451</td>\n      <td>0.067624</td>\n      <td>0.715359</td>\n      <td>0.044471</td>\n      <td>0.626935</td>\n      <td>...</td>\n      <td>0.269919</td>\n      <td>0.909983</td>\n      <td>0.519294</td>\n      <td>0.376481</td>\n      <td>0.191359</td>\n      <td>0.016604</td>\n      <td>0.978589</td>\n      <td>0.903240</td>\n      <td>0.761912</td>\n      <td>0.880896</td>\n    </tr>\n  </tbody>\n</table>\n<p>2 rows × 21 columns</p>\n</div>",
      "text/plain": "                                     id  target_0  target_1  target_2  \\\n0  858d4d34-feb6-4019-8e11-818cb1d1afc5  0.822536  0.097015  0.979799   \n1  d8e1f149-e1cb-431c-a964-d5e1df213e8a  0.819038  0.010192  0.214979   \n\n   target_3  target_4  target_5  target_6  target_7  target_8  ...  target_10  \\\n0  0.189535  0.250934  0.686003  0.835909  0.041455  0.240206  ...   0.754157   \n1  0.576635  0.290451  0.067624  0.715359  0.044471  0.626935  ...   0.269919   \n\n   target_11  target_12  target_13  target_14  target_15  target_16  \\\n0   0.135181   0.151749   0.404956   0.884712   0.840387   0.582667   \n1   0.909983   0.519294   0.376481   0.191359   0.016604   0.978589   \n\n   target_17  target_18  target_19  \n0   0.359673   0.595743   0.383371  \n1   0.903240   0.761912   0.880896  \n\n[2 rows x 21 columns]"
     },
     "execution_count": null,
     "metadata": {},
     "output_type": "execute_result"
    },
    {
     "data": {
      "application/javascript": "\n            setTimeout(function() {\n                var nbb_cell_id = 8;\n                var nbb_unformatted_code = \"file_name = 'test.csv'\\nnum_sub.save_csv(dataf=test_dataf, file_name=file_name, cols=targets)\\npd.read_csv(f\\\"{test_dir}/{file_name}\\\").head(2)\";\n                var nbb_formatted_code = \"file_name = \\\"test.csv\\\"\\nnum_sub.save_csv(dataf=test_dataf, file_name=file_name, cols=targets)\\npd.read_csv(f\\\"{test_dir}/{file_name}\\\").head(2)\";\n                var nbb_cells = Jupyter.notebook.get_cells();\n                for (var i = 0; i < nbb_cells.length; ++i) {\n                    if (nbb_cells[i].input_prompt_number == nbb_cell_id) {\n                        if (nbb_cells[i].get_text() == nbb_unformatted_code) {\n                             nbb_cells[i].set_text(nbb_formatted_code);\n                        }\n                        break;\n                    }\n                }\n            }, 500);\n            ",
      "text/plain": "<IPython.core.display.Javascript object>"
     },
     "metadata": {},
     "output_type": "display_data"
    }
   ],
   "source": [
    "file_name = 'test.csv'\n",
    "num_sub.save_csv(dataf=test_dataf, file_name=file_name, cols=targets)\n",
    "pd.read_csv(f\"{test_dir}/{file_name}\").head(2)"
   ]
  },
  {
   "cell_type": "code",
   "execution_count": null,
   "metadata": {},
   "outputs": [
    {
     "data": {
      "application/javascript": "\n            setTimeout(function() {\n                var nbb_cell_id = 9;\n                var nbb_unformatted_code = \"# TODO Test full submission with dummy credentials\\n# Save CSV and upload\\n# num_sub.full_submission(dataf=test_dataf, file_name='test.csv', cols=targets, model_name=\\\"test\\\")\";\n                var nbb_formatted_code = \"# TODO Test full submission with dummy credentials\\n# Save CSV and upload\\n# num_sub.full_submission(dataf=test_dataf, file_name='test.csv', cols=targets, model_name=\\\"test\\\")\";\n                var nbb_cells = Jupyter.notebook.get_cells();\n                for (var i = 0; i < nbb_cells.length; ++i) {\n                    if (nbb_cells[i].input_prompt_number == nbb_cell_id) {\n                        if (nbb_cells[i].get_text() == nbb_unformatted_code) {\n                             nbb_cells[i].set_text(nbb_formatted_code);\n                        }\n                        break;\n                    }\n                }\n            }, 500);\n            ",
      "text/plain": "<IPython.core.display.Javascript object>"
     },
     "metadata": {},
     "output_type": "display_data"
    }
   ],
   "source": [
    "# TODO Test full submission with dummy credentials\n",
    "# Save CSV and upload\n",
    "# num_sub.full_submission(dataf=test_dataf, file_name='test.csv', cols=targets, model_name=\"test\")"
   ]
  },
  {
   "cell_type": "code",
   "execution_count": null,
   "metadata": {},
   "outputs": [
    {
     "data": {
      "text/html": "<pre style=\"white-space:pre;overflow-x:auto;line-height:normal;font-family:Menlo,'DejaVu Sans Mono',consolas,'Courier New',monospace\">⚠ <span style=\"color: #800000; text-decoration-color: #800000\">Deleting directory for </span><span style=\"color: #800000; text-decoration-color: #800000\">'NumeraiClassicSubmittor</span><span style=\"color: #008000; text-decoration-color: #008000\">'</span> ⚠\nPath: <span style=\"color: #008000; text-decoration-color: #008000\">'/Users/clepelaars/Desktop/crowdcent/repositories/numerai-blocks/nbs/test_sub'</span>\n</pre>\n",
      "text/plain": "⚠ \u001b[31mDeleting directory for \u001b[0m\u001b[31m'NumeraiClassicSubmittor\u001b[0m\u001b[32m'\u001b[0m ⚠\nPath: \u001b[32m'/Users/clepelaars/Desktop/crowdcent/repositories/numerai-blocks/nbs/test_sub'\u001b[0m\n"
     },
     "metadata": {},
     "output_type": "display_data"
    },
    {
     "data": {
      "application/javascript": "\n            setTimeout(function() {\n                var nbb_cell_id = 10;\n                var nbb_unformatted_code = \"# Remove contents\\nnum_sub.remove_base_directory()\\nassert not os.path.exists(test_dir)\";\n                var nbb_formatted_code = \"# Remove contents\\nnum_sub.remove_base_directory()\\nassert not os.path.exists(test_dir)\";\n                var nbb_cells = Jupyter.notebook.get_cells();\n                for (var i = 0; i < nbb_cells.length; ++i) {\n                    if (nbb_cells[i].input_prompt_number == nbb_cell_id) {\n                        if (nbb_cells[i].get_text() == nbb_unformatted_code) {\n                             nbb_cells[i].set_text(nbb_formatted_code);\n                        }\n                        break;\n                    }\n                }\n            }, 500);\n            ",
      "text/plain": "<IPython.core.display.Javascript object>"
     },
     "metadata": {},
     "output_type": "display_data"
    }
   ],
   "source": [
    "# Remove contents\n",
    "num_sub.remove_base_directory()\n",
    "assert not os.path.exists(test_dir)"
   ]
  },
  {
   "cell_type": "markdown",
   "metadata": {},
   "source": []
  },
  {
   "cell_type": "markdown",
   "metadata": {},
   "source": [
    "## 3. Numerai Signals"
   ]
  },
  {
   "cell_type": "code",
   "execution_count": null,
   "metadata": {},
   "outputs": [
    {
     "data": {
      "application/javascript": "\n            setTimeout(function() {\n                var nbb_cell_id = 11;\n                var nbb_unformatted_code = \"#export\\nclass NumeraiSignalsSubmittor(BaseSubmittor):\\n    \\\"\\\"\\\"\\n    Submit for Numerai Signals\\n    :param directory_path: Base directory to save and read prediction files from.\\n    :param key: Key object (numerai-blocks.key.Key) containing valid credentials for Numerai Signals.\\n    *args, **kwargs will be passed to SignalsAPI initialization.\\n    \\\"\\\"\\\"\\n    def __init__(self, directory_path: str, key: Key, *args, **kwargs):\\n        api = SignalsAPI(public_id=key.pub_id, secret_key=key.secret_key, *args, **kwargs)\\n        super(NumeraiSignalsSubmittor, self).__init__(directory_path=directory_path, api=api)\\n        self.supported_ticker_formats = ['ticker', 'cusip', 'sedol', 'numerai_ticker', 'bloomberg_ticker']\\n\\n    def save_csv(self, dataf: pd.DataFrame, file_name: str, cols : list = None,\\n                 *args, **kwargs):\\n        \\\"\\\"\\\"\\n        :param dataf: DataFrame which should have at least the following columns:\\n         1. ticker [cusip, sedol, numerai_ticker or bloomberg_ticker]\\n         2. friday_date\\n         3. data_type\\n         4. signal (Values between 0 and 1 (exclusive))\\n         :param file_name: Name for file (For example 'sub_<model_name>_round<n>.csv')\\n         :param cols: All cols that should be passed to CSV. Defaults to 4 standard columns.\\n          ('ticker', 'friday_date', 'data_type' and 'signal')\\n        \\\"\\\"\\\"\\n        if not cols:\\n            cols = ['ticker', 'friday_date', 'data_type', 'signal']\\n\\n        # Check for valid ticker format\\n        valid_tickers = set(cols).intersection(set(self.supported_ticker_formats))\\n        if not valid_tickers:\\n            raise NotImplementedError(f\\\"Ticker format used in given 'target_columns' ({cols}) is not supported.\\\")\\n\\n        # signal must be in range (0...1)\\n        if not dataf['signal'].between(0, 1).all():\\n            min_val, max_val = dataf['signal'].min(), dataf['signal'].max()\\n            raise ValueError(f\\\"Values in 'signal' must be between 0 and 1 (exclusive). Found min value of '{min_val}' and max value of '{max_val}'\\\")\\n\\n        full_path = str(self.dir / file_name)\\n        rich_print(f\\\":page_facing_up: Saving Signals predictions CSV to '{full_path}'. :page_facing_up:\\\")\\n        dataf[cols].reset_index(drop=True).to_csv(full_path, index=False, *args, **kwargs)\";\n                var nbb_formatted_code = \"# export\\nclass NumeraiSignalsSubmittor(BaseSubmittor):\\n    \\\"\\\"\\\"\\n    Submit for Numerai Signals\\n    :param directory_path: Base directory to save and read prediction files from.\\n    :param key: Key object (numerai-blocks.key.Key) containing valid credentials for Numerai Signals.\\n    *args, **kwargs will be passed to SignalsAPI initialization.\\n    \\\"\\\"\\\"\\n\\n    def __init__(self, directory_path: str, key: Key, *args, **kwargs):\\n        api = SignalsAPI(\\n            public_id=key.pub_id, secret_key=key.secret_key, *args, **kwargs\\n        )\\n        super(NumeraiSignalsSubmittor, self).__init__(\\n            directory_path=directory_path, api=api\\n        )\\n        self.supported_ticker_formats = [\\n            \\\"ticker\\\",\\n            \\\"cusip\\\",\\n            \\\"sedol\\\",\\n            \\\"numerai_ticker\\\",\\n            \\\"bloomberg_ticker\\\",\\n        ]\\n\\n    def save_csv(\\n        self, dataf: pd.DataFrame, file_name: str, cols: list = None, *args, **kwargs\\n    ):\\n        \\\"\\\"\\\"\\n        :param dataf: DataFrame which should have at least the following columns:\\n         1. ticker [cusip, sedol, numerai_ticker or bloomberg_ticker]\\n         2. friday_date\\n         3. data_type\\n         4. signal (Values between 0 and 1 (exclusive))\\n         :param file_name: Name for file (For example 'sub_<model_name>_round<n>.csv')\\n         :param cols: All cols that should be passed to CSV. Defaults to 4 standard columns.\\n          ('ticker', 'friday_date', 'data_type' and 'signal')\\n        \\\"\\\"\\\"\\n        if not cols:\\n            cols = [\\\"ticker\\\", \\\"friday_date\\\", \\\"data_type\\\", \\\"signal\\\"]\\n\\n        # Check for valid ticker format\\n        valid_tickers = set(cols).intersection(set(self.supported_ticker_formats))\\n        if not valid_tickers:\\n            raise NotImplementedError(\\n                f\\\"Ticker format used in given 'target_columns' ({cols}) is not supported.\\\"\\n            )\\n\\n        # signal must be in range (0...1)\\n        if not dataf[\\\"signal\\\"].between(0, 1).all():\\n            min_val, max_val = dataf[\\\"signal\\\"].min(), dataf[\\\"signal\\\"].max()\\n            raise ValueError(\\n                f\\\"Values in 'signal' must be between 0 and 1 (exclusive). Found min value of '{min_val}' and max value of '{max_val}'\\\"\\n            )\\n\\n        full_path = str(self.dir / file_name)\\n        rich_print(\\n            f\\\":page_facing_up: Saving Signals predictions CSV to '{full_path}'. :page_facing_up:\\\"\\n        )\\n        dataf[cols].reset_index(drop=True).to_csv(\\n            full_path, index=False, *args, **kwargs\\n        )\";\n                var nbb_cells = Jupyter.notebook.get_cells();\n                for (var i = 0; i < nbb_cells.length; ++i) {\n                    if (nbb_cells[i].input_prompt_number == nbb_cell_id) {\n                        if (nbb_cells[i].get_text() == nbb_unformatted_code) {\n                             nbb_cells[i].set_text(nbb_formatted_code);\n                        }\n                        break;\n                    }\n                }\n            }, 500);\n            ",
      "text/plain": "<IPython.core.display.Javascript object>"
     },
     "metadata": {},
     "output_type": "display_data"
    }
   ],
   "source": [
    "#export\n",
    "class NumeraiSignalsSubmittor(BaseSubmittor):\n",
    "    \"\"\"\n",
    "    Submit for Numerai Signals\n",
    "    :param directory_path: Base directory to save and read prediction files from.\n",
    "    :param key: Key object (numerai-blocks.key.Key) containing valid credentials for Numerai Signals.\n",
    "    *args, **kwargs will be passed to SignalsAPI initialization.\n",
    "    \"\"\"\n",
    "    def __init__(self, directory_path: str, key: Key, *args, **kwargs):\n",
    "        api = SignalsAPI(public_id=key.pub_id, secret_key=key.secret_key, *args, **kwargs)\n",
    "        super(NumeraiSignalsSubmittor, self).__init__(directory_path=directory_path, api=api)\n",
    "        self.supported_ticker_formats = ['ticker', 'cusip', 'sedol', 'numerai_ticker', 'bloomberg_ticker']\n",
    "\n",
    "    def save_csv(self, dataf: pd.DataFrame, file_name: str, cols : list = None,\n",
    "                 *args, **kwargs):\n",
    "        \"\"\"\n",
    "        :param dataf: DataFrame which should have at least the following columns:\n",
    "         1. ticker [cusip, sedol, numerai_ticker or bloomberg_ticker]\n",
    "         2. friday_date\n",
    "         3. data_type\n",
    "         4. signal (Values between 0 and 1 (exclusive))\n",
    "         :param file_name: Name for file (For example 'sub_<model_name>_round<n>.csv')\n",
    "         :param cols: All cols that should be passed to CSV. Defaults to 4 standard columns.\n",
    "          ('ticker', 'friday_date', 'data_type' and 'signal')\n",
    "        \"\"\"\n",
    "        if not cols:\n",
    "            cols = ['ticker', 'friday_date', 'data_type', 'signal']\n",
    "\n",
    "        # Check for valid ticker format\n",
    "        valid_tickers = set(cols).intersection(set(self.supported_ticker_formats))\n",
    "        if not valid_tickers:\n",
    "            raise NotImplementedError(f\"Ticker format used in given 'target_columns' ({cols}) is not supported.\")\n",
    "\n",
    "        # signal must be in range (0...1)\n",
    "        if not dataf['signal'].between(0, 1).all():\n",
    "            min_val, max_val = dataf['signal'].min(), dataf['signal'].max()\n",
    "            raise ValueError(f\"Values in 'signal' must be between 0 and 1 (exclusive). Found min value of '{min_val}' and max value of '{max_val}'\")\n",
    "\n",
    "        full_path = str(self.dir / file_name)\n",
    "        rich_print(f\":page_facing_up: Saving Signals predictions CSV to '{full_path}'. :page_facing_up:\")\n",
    "        dataf[cols].reset_index(drop=True).to_csv(full_path, index=False, *args, **kwargs)"
   ]
  },
  {
   "cell_type": "markdown",
   "metadata": {},
   "source": [
    "### NumeraiSignalsSubmittor tests"
   ]
  },
  {
   "cell_type": "code",
   "execution_count": null,
   "metadata": {},
   "outputs": [
    {
     "data": {
      "text/html": "<pre style=\"white-space:pre;overflow-x:auto;line-height:normal;font-family:Menlo,'DejaVu Sans Mono',consolas,'Courier New',monospace\">🔑 Numerai Auth key initialized with pub_id = <span style=\"color: #008000; text-decoration-color: #008000\">'UFVCTElDX0lE'</span> 🔑\n</pre>\n",
      "text/plain": "🔑 Numerai Auth key initialized with pub_id = \u001b[32m'UFVCTElDX0lE'\u001b[0m 🔑\n"
     },
     "metadata": {},
     "output_type": "display_data"
    },
    {
     "data": {
      "text/html": "<pre style=\"white-space:pre;overflow-x:auto;line-height:normal;font-family:Menlo,'DejaVu Sans Mono',consolas,'Courier New',monospace\">No existing directory found at <span style=\"color: #008000; text-decoration-color: #008000\">'</span><span style=\"color: #000080; text-decoration-color: #000080\">test_sub_signals</span><span style=\"color: #008000; text-decoration-color: #008000\">'</span>. Creating directory<span style=\"color: #808000; text-decoration-color: #808000\">...</span>\n</pre>\n",
      "text/plain": "No existing directory found at \u001b[32m'\u001b[0m\u001b[34mtest_sub_signals\u001b[0m\u001b[32m'\u001b[0m. Creating directory\u001b[33m...\u001b[0m\n"
     },
     "metadata": {},
     "output_type": "display_data"
    },
    {
     "data": {
      "application/javascript": "\n            setTimeout(function() {\n                var nbb_cell_id = 12;\n                var nbb_unformatted_code = \"# Initialization (Random credentials)\\ntest_dir_signals = \\\"test_sub_signals\\\"\\nsignals_key = Key(pub_id=\\\"UFVCTElDX0lE\\\", secret_key=\\\"U1VQRVJfU0VDUkVUX0tFWQ==\\\")\\nsignals_sub = NumeraiSignalsSubmittor(directory_path=test_dir_signals,\\n                                  key=signals_key)\\nassert signals_sub.dir.is_dir()\";\n                var nbb_formatted_code = \"# Initialization (Random credentials)\\ntest_dir_signals = \\\"test_sub_signals\\\"\\nsignals_key = Key(pub_id=\\\"UFVCTElDX0lE\\\", secret_key=\\\"U1VQRVJfU0VDUkVUX0tFWQ==\\\")\\nsignals_sub = NumeraiSignalsSubmittor(directory_path=test_dir_signals, key=signals_key)\\nassert signals_sub.dir.is_dir()\";\n                var nbb_cells = Jupyter.notebook.get_cells();\n                for (var i = 0; i < nbb_cells.length; ++i) {\n                    if (nbb_cells[i].input_prompt_number == nbb_cell_id) {\n                        if (nbb_cells[i].get_text() == nbb_unformatted_code) {\n                             nbb_cells[i].set_text(nbb_formatted_code);\n                        }\n                        break;\n                    }\n                }\n            }, 500);\n            ",
      "text/plain": "<IPython.core.display.Javascript object>"
     },
     "metadata": {},
     "output_type": "display_data"
    }
   ],
   "source": [
    "# Initialization (Random credentials)\n",
    "test_dir_signals = \"test_sub_signals\"\n",
    "signals_key = Key(pub_id=\"UFVCTElDX0lE\", secret_key=\"U1VQRVJfU0VDUkVUX0tFWQ==\")\n",
    "signals_sub = NumeraiSignalsSubmittor(directory_path=test_dir_signals,\n",
    "                                  key=signals_key)\n",
    "assert signals_sub.dir.is_dir()"
   ]
  },
  {
   "cell_type": "code",
   "execution_count": null,
   "metadata": {},
   "outputs": [
    {
     "data": {
      "text/html": "<div>\n<style scoped>\n    .dataframe tbody tr th:only-of-type {\n        vertical-align: middle;\n    }\n\n    .dataframe tbody tr th {\n        vertical-align: top;\n    }\n\n    .dataframe thead th {\n        text-align: right;\n    }\n</style>\n<table border=\"1\" class=\"dataframe\">\n  <thead>\n    <tr style=\"text-align: right;\">\n      <th></th>\n      <th>signal</th>\n      <th>ticker</th>\n      <th>friday_date</th>\n      <th>data_type</th>\n      <th>aux_column</th>\n    </tr>\n  </thead>\n  <tbody>\n    <tr>\n      <th>0</th>\n      <td>0.049030</td>\n      <td>NFRM</td>\n      <td>20211231</td>\n      <td>live</td>\n      <td>metadata</td>\n    </tr>\n    <tr>\n      <th>1</th>\n      <td>0.561162</td>\n      <td>PKLX</td>\n      <td>20211231</td>\n      <td>live</td>\n      <td>metadata</td>\n    </tr>\n  </tbody>\n</table>\n</div>",
      "text/plain": "     signal ticker  friday_date data_type aux_column\n0  0.049030   NFRM     20211231      live   metadata\n1  0.561162   PKLX     20211231      live   metadata"
     },
     "execution_count": null,
     "metadata": {},
     "output_type": "execute_result"
    },
    {
     "data": {
      "application/javascript": "\n            setTimeout(function() {\n                var nbb_cell_id = 13;\n                var nbb_unformatted_code = \"# Create random dataframe\\nn_rows, n_columns = 5000, 4\\nsignals_test_dataf = pd.DataFrame(np.random.uniform(size=(n_rows, 1)), columns=['signal'])\\nsignals_test_dataf['ticker'] = [''.join(choices(ascii_uppercase, k=4)) for _ in range(n_rows)]\\nlast_friday = int(str((datetime.now() + relativedelta(weekday=FR(-1))).date()).replace(\\\"-\\\", \\\"\\\"))\\nsignals_test_dataf['friday_date'] = last_friday\\nsignals_test_dataf['data_type'] = 'live'\\nsignals_test_dataf['aux_column'] = \\\"metadata\\\"\\nsignals_test_dataf.head(2)\";\n                var nbb_formatted_code = \"# Create random dataframe\\nn_rows, n_columns = 5000, 4\\nsignals_test_dataf = pd.DataFrame(\\n    np.random.uniform(size=(n_rows, 1)), columns=[\\\"signal\\\"]\\n)\\nsignals_test_dataf[\\\"ticker\\\"] = [\\n    \\\"\\\".join(choices(ascii_uppercase, k=4)) for _ in range(n_rows)\\n]\\nlast_friday = int(\\n    str((datetime.now() + relativedelta(weekday=FR(-1))).date()).replace(\\\"-\\\", \\\"\\\")\\n)\\nsignals_test_dataf[\\\"friday_date\\\"] = last_friday\\nsignals_test_dataf[\\\"data_type\\\"] = \\\"live\\\"\\nsignals_test_dataf[\\\"aux_column\\\"] = \\\"metadata\\\"\\nsignals_test_dataf.head(2)\";\n                var nbb_cells = Jupyter.notebook.get_cells();\n                for (var i = 0; i < nbb_cells.length; ++i) {\n                    if (nbb_cells[i].input_prompt_number == nbb_cell_id) {\n                        if (nbb_cells[i].get_text() == nbb_unformatted_code) {\n                             nbb_cells[i].set_text(nbb_formatted_code);\n                        }\n                        break;\n                    }\n                }\n            }, 500);\n            ",
      "text/plain": "<IPython.core.display.Javascript object>"
     },
     "metadata": {},
     "output_type": "display_data"
    }
   ],
   "source": [
    "# Create random dataframe\n",
    "n_rows, n_columns = 5000, 4\n",
    "signals_test_dataf = pd.DataFrame(np.random.uniform(size=(n_rows, 1)), columns=['signal'])\n",
    "signals_test_dataf['ticker'] = [''.join(choices(ascii_uppercase, k=4)) for _ in range(n_rows)]\n",
    "last_friday = int(str((datetime.now() + relativedelta(weekday=FR(-1))).date()).replace(\"-\", \"\"))\n",
    "signals_test_dataf['friday_date'] = last_friday\n",
    "signals_test_dataf['data_type'] = 'live'\n",
    "signals_test_dataf['aux_column'] = \"metadata\"\n",
    "signals_test_dataf.head(2)"
   ]
  },
  {
   "cell_type": "code",
   "execution_count": null,
   "metadata": {},
   "outputs": [
    {
     "data": {
      "text/html": "<pre style=\"white-space:pre;overflow-x:auto;line-height:normal;font-family:Menlo,'DejaVu Sans Mono',consolas,'Courier New',monospace\">📄 Saving Signals predictions CSV to <span style=\"color: #008000; text-decoration-color: #008000\">'test_sub_signals/signals_test.csv'</span>. 📄\n</pre>\n",
      "text/plain": "📄 Saving Signals predictions CSV to \u001b[32m'test_sub_signals/signals_test.csv'\u001b[0m. 📄\n"
     },
     "metadata": {},
     "output_type": "display_data"
    },
    {
     "data": {
      "text/html": "<div>\n<style scoped>\n    .dataframe tbody tr th:only-of-type {\n        vertical-align: middle;\n    }\n\n    .dataframe tbody tr th {\n        vertical-align: top;\n    }\n\n    .dataframe thead th {\n        text-align: right;\n    }\n</style>\n<table border=\"1\" class=\"dataframe\">\n  <thead>\n    <tr style=\"text-align: right;\">\n      <th></th>\n      <th>signal</th>\n      <th>ticker</th>\n      <th>friday_date</th>\n      <th>data_type</th>\n    </tr>\n  </thead>\n  <tbody>\n    <tr>\n      <th>0</th>\n      <td>0.049030</td>\n      <td>NFRM</td>\n      <td>20211231</td>\n      <td>live</td>\n    </tr>\n    <tr>\n      <th>1</th>\n      <td>0.561162</td>\n      <td>PKLX</td>\n      <td>20211231</td>\n      <td>live</td>\n    </tr>\n  </tbody>\n</table>\n</div>",
      "text/plain": "     signal ticker  friday_date data_type\n0  0.049030   NFRM     20211231      live\n1  0.561162   PKLX     20211231      live"
     },
     "execution_count": null,
     "metadata": {},
     "output_type": "execute_result"
    },
    {
     "data": {
      "application/javascript": "\n            setTimeout(function() {\n                var nbb_cell_id = 14;\n                var nbb_unformatted_code = \"signals_cols = ['signal', 'ticker', 'friday_date', 'data_type']\\nfile_name = 'signals_test.csv'\\nsignals_sub.save_csv(dataf=signals_test_dataf, file_name=file_name, cols=signals_cols)\\npd.read_csv(f\\\"{test_dir_signals}/{file_name}\\\").head(2)\";\n                var nbb_formatted_code = \"signals_cols = [\\\"signal\\\", \\\"ticker\\\", \\\"friday_date\\\", \\\"data_type\\\"]\\nfile_name = \\\"signals_test.csv\\\"\\nsignals_sub.save_csv(dataf=signals_test_dataf, file_name=file_name, cols=signals_cols)\\npd.read_csv(f\\\"{test_dir_signals}/{file_name}\\\").head(2)\";\n                var nbb_cells = Jupyter.notebook.get_cells();\n                for (var i = 0; i < nbb_cells.length; ++i) {\n                    if (nbb_cells[i].input_prompt_number == nbb_cell_id) {\n                        if (nbb_cells[i].get_text() == nbb_unformatted_code) {\n                             nbb_cells[i].set_text(nbb_formatted_code);\n                        }\n                        break;\n                    }\n                }\n            }, 500);\n            ",
      "text/plain": "<IPython.core.display.Javascript object>"
     },
     "metadata": {},
     "output_type": "display_data"
    }
   ],
   "source": [
    "signals_cols = ['signal', 'ticker', 'friday_date', 'data_type']\n",
    "file_name = 'signals_test.csv'\n",
    "signals_sub.save_csv(dataf=signals_test_dataf, file_name=file_name, cols=signals_cols)\n",
    "pd.read_csv(f\"{test_dir_signals}/{file_name}\").head(2)"
   ]
  },
  {
   "cell_type": "markdown",
   "metadata": {},
   "source": [
    "Saving Signals CSV should fail if there is no valid ticker column or if `signal` has values outside the range $(0...1)$."
   ]
  },
  {
   "cell_type": "code",
   "execution_count": null,
   "metadata": {},
   "outputs": [
    {
     "data": {
      "application/javascript": "\n            setTimeout(function() {\n                var nbb_cell_id = 15;\n                var nbb_unformatted_code = \"def test_signal_validity(submittor: NumeraiSignalsSubmittor, signals_dataf: pd.DataFrame):\\n    try:\\n        invalid_signal = deepcopy(signals_dataf)\\n        invalid_signal['signal'] += 10\\n        submittor.save_csv(invalid_signal, file_name=\\\"should_not_save.csv\\\", cols=list(invalid_signal.columns))\\n    except ValueError:\\n        return True\\n    return False\\n\\ndef test_ticker_validity(submittor: NumeraiSignalsSubmittor, signals_dataf: pd.DataFrame):\\n    try:\\n        invalid_ticker = deepcopy(signals_dataf)\\n        invalid_ticker = invalid_ticker.rename({'ticker': 'not_a_valid_ticker_format'}, axis=1)\\n        submittor.save_csv(invalid_ticker, file_name=\\\"should_not_save.csv\\\", cols=list(invalid_ticker.columns))\\n    except NotImplementedError:\\n        return True\\n    return False\\n\\nassert test_signal_validity(signals_sub, signals_test_dataf)\\nassert test_ticker_validity(signals_sub, signals_test_dataf)\";\n                var nbb_formatted_code = \"def test_signal_validity(\\n    submittor: NumeraiSignalsSubmittor, signals_dataf: pd.DataFrame\\n):\\n    try:\\n        invalid_signal = deepcopy(signals_dataf)\\n        invalid_signal[\\\"signal\\\"] += 10\\n        submittor.save_csv(\\n            invalid_signal,\\n            file_name=\\\"should_not_save.csv\\\",\\n            cols=list(invalid_signal.columns),\\n        )\\n    except ValueError:\\n        return True\\n    return False\\n\\n\\ndef test_ticker_validity(\\n    submittor: NumeraiSignalsSubmittor, signals_dataf: pd.DataFrame\\n):\\n    try:\\n        invalid_ticker = deepcopy(signals_dataf)\\n        invalid_ticker = invalid_ticker.rename(\\n            {\\\"ticker\\\": \\\"not_a_valid_ticker_format\\\"}, axis=1\\n        )\\n        submittor.save_csv(\\n            invalid_ticker,\\n            file_name=\\\"should_not_save.csv\\\",\\n            cols=list(invalid_ticker.columns),\\n        )\\n    except NotImplementedError:\\n        return True\\n    return False\\n\\n\\nassert test_signal_validity(signals_sub, signals_test_dataf)\\nassert test_ticker_validity(signals_sub, signals_test_dataf)\";\n                var nbb_cells = Jupyter.notebook.get_cells();\n                for (var i = 0; i < nbb_cells.length; ++i) {\n                    if (nbb_cells[i].input_prompt_number == nbb_cell_id) {\n                        if (nbb_cells[i].get_text() == nbb_unformatted_code) {\n                             nbb_cells[i].set_text(nbb_formatted_code);\n                        }\n                        break;\n                    }\n                }\n            }, 500);\n            ",
      "text/plain": "<IPython.core.display.Javascript object>"
     },
     "metadata": {},
     "output_type": "display_data"
    }
   ],
   "source": [
    "def test_signal_validity(submittor: NumeraiSignalsSubmittor, signals_dataf: pd.DataFrame):\n",
    "    try:\n",
    "        invalid_signal = deepcopy(signals_dataf)\n",
    "        invalid_signal['signal'] += 10\n",
    "        submittor.save_csv(invalid_signal, file_name=\"should_not_save.csv\", cols=list(invalid_signal.columns))\n",
    "    except ValueError:\n",
    "        return True\n",
    "    return False\n",
    "\n",
    "def test_ticker_validity(submittor: NumeraiSignalsSubmittor, signals_dataf: pd.DataFrame):\n",
    "    try:\n",
    "        invalid_ticker = deepcopy(signals_dataf)\n",
    "        invalid_ticker = invalid_ticker.rename({'ticker': 'not_a_valid_ticker_format'}, axis=1)\n",
    "        submittor.save_csv(invalid_ticker, file_name=\"should_not_save.csv\", cols=list(invalid_ticker.columns))\n",
    "    except NotImplementedError:\n",
    "        return True\n",
    "    return False\n",
    "\n",
    "assert test_signal_validity(signals_sub, signals_test_dataf)\n",
    "assert test_ticker_validity(signals_sub, signals_test_dataf)"
   ]
  },
  {
   "cell_type": "code",
   "execution_count": null,
   "metadata": {},
   "outputs": [
    {
     "data": {
      "application/javascript": "\n            setTimeout(function() {\n                var nbb_cell_id = 16;\n                var nbb_unformatted_code = \"# TODO Test full submission with dummy credentials\\n# Save CSV and upload\\n# signals_sub.full_submission(dataf=signals_test_dataf, file_name='signals_test.csv', cols=signals_cols, model_name=\\\"test\\\")\";\n                var nbb_formatted_code = \"# TODO Test full submission with dummy credentials\\n# Save CSV and upload\\n# signals_sub.full_submission(dataf=signals_test_dataf, file_name='signals_test.csv', cols=signals_cols, model_name=\\\"test\\\")\";\n                var nbb_cells = Jupyter.notebook.get_cells();\n                for (var i = 0; i < nbb_cells.length; ++i) {\n                    if (nbb_cells[i].input_prompt_number == nbb_cell_id) {\n                        if (nbb_cells[i].get_text() == nbb_unformatted_code) {\n                             nbb_cells[i].set_text(nbb_formatted_code);\n                        }\n                        break;\n                    }\n                }\n            }, 500);\n            ",
      "text/plain": "<IPython.core.display.Javascript object>"
     },
     "metadata": {},
     "output_type": "display_data"
    }
   ],
   "source": [
    "# TODO Test full submission with dummy credentials\n",
    "# Save CSV and upload\n",
    "# signals_sub.full_submission(dataf=signals_test_dataf, file_name='signals_test.csv', cols=signals_cols, model_name=\"test\")"
   ]
  },
  {
   "cell_type": "code",
   "execution_count": null,
   "metadata": {},
   "outputs": [
    {
     "data": {
      "text/html": "<pre style=\"white-space:pre;overflow-x:auto;line-height:normal;font-family:Menlo,'DejaVu Sans Mono',consolas,'Courier New',monospace\">⚠ <span style=\"color: #800000; text-decoration-color: #800000\">Deleting directory for </span><span style=\"color: #800000; text-decoration-color: #800000\">'NumeraiSignalsSubmittor</span><span style=\"color: #008000; text-decoration-color: #008000\">'</span> ⚠\nPath: <span style=\"color: #008000; text-decoration-color: #008000\">'/Users/clepelaars/Desktop/crowdcent/repositories/numerai-blocks/nbs/test_sub_signals'</span>\n</pre>\n",
      "text/plain": "⚠ \u001b[31mDeleting directory for \u001b[0m\u001b[31m'NumeraiSignalsSubmittor\u001b[0m\u001b[32m'\u001b[0m ⚠\nPath: \u001b[32m'/Users/clepelaars/Desktop/crowdcent/repositories/numerai-blocks/nbs/test_sub_signals'\u001b[0m\n"
     },
     "metadata": {},
     "output_type": "display_data"
    },
    {
     "data": {
      "application/javascript": "\n            setTimeout(function() {\n                var nbb_cell_id = 17;\n                var nbb_unformatted_code = \"# Remove contents\\nsignals_sub.remove_base_directory()\\nassert not os.path.exists(test_dir_signals)\";\n                var nbb_formatted_code = \"# Remove contents\\nsignals_sub.remove_base_directory()\\nassert not os.path.exists(test_dir_signals)\";\n                var nbb_cells = Jupyter.notebook.get_cells();\n                for (var i = 0; i < nbb_cells.length; ++i) {\n                    if (nbb_cells[i].input_prompt_number == nbb_cell_id) {\n                        if (nbb_cells[i].get_text() == nbb_unformatted_code) {\n                             nbb_cells[i].set_text(nbb_formatted_code);\n                        }\n                        break;\n                    }\n                }\n            }, 500);\n            ",
      "text/plain": "<IPython.core.display.Javascript object>"
     },
     "metadata": {},
     "output_type": "display_data"
    }
   ],
   "source": [
    "# Remove contents\n",
    "signals_sub.remove_base_directory()\n",
    "assert not os.path.exists(test_dir_signals)"
   ]
  },
  {
   "cell_type": "markdown",
   "metadata": {},
   "source": [
    "------------------------------------------------------------"
   ]
  },
  {
   "cell_type": "code",
   "execution_count": null,
   "metadata": {},
   "outputs": [
    {
     "name": "stdout",
     "output_type": "stream",
     "text": [
      "Converted 00_download.ipynb.\n",
      "Converted 01_dataloaders.ipynb.\n",
      "Converted 02_dataset.ipynb.\n",
      "Converted 03_preprocessing.ipynb.\n",
      "Converted 04a_model.ipynb.\n",
      "Converted 04b_modelpipeline.ipynb.\n",
      "Converted 05_postprocessing.ipynb.\n",
      "Converted 06_prediction_dataset.ipynb.\n",
      "Converted 07_evaluation.ipynb.\n",
      "Converted 08_key.ipynb.\n",
      "Converted 09_submission.ipynb.\n",
      "Converted index.ipynb.\n"
     ]
    },
    {
     "data": {
      "application/javascript": "\n            setTimeout(function() {\n                var nbb_cell_id = 18;\n                var nbb_unformatted_code = \"#hide\\n# Run this cell to sync all changes with library\\nfrom nbdev.export import notebook2script; notebook2script()\";\n                var nbb_formatted_code = \"# hide\\n# Run this cell to sync all changes with library\\nfrom nbdev.export import notebook2script\\n\\nnotebook2script()\";\n                var nbb_cells = Jupyter.notebook.get_cells();\n                for (var i = 0; i < nbb_cells.length; ++i) {\n                    if (nbb_cells[i].input_prompt_number == nbb_cell_id) {\n                        if (nbb_cells[i].get_text() == nbb_unformatted_code) {\n                             nbb_cells[i].set_text(nbb_formatted_code);\n                        }\n                        break;\n                    }\n                }\n            }, 500);\n            ",
      "text/plain": "<IPython.core.display.Javascript object>"
     },
     "metadata": {},
     "output_type": "display_data"
    }
   ],
   "source": [
    "#hide\n",
    "# Run this cell to sync all changes with library\n",
    "from nbdev.export import notebook2script; notebook2script()"
   ]
  }
 ],
 "metadata": {
  "kernelspec": {
   "display_name": "Python 3",
   "language": "python",
   "name": "python3"
  }
 },
 "nbformat": 4,
 "nbformat_minor": 0
}
