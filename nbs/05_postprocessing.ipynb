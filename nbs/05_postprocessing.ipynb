{
 "cells": [
  {
   "cell_type": "code",
   "execution_count": 1,
   "metadata": {},
   "outputs": [
    {
     "data": {
      "text/plain": "<IPython.core.display.Javascript object>",
      "application/javascript": "\n            setTimeout(function() {\n                var nbb_cell_id = 1;\n                var nbb_unformatted_code = \"%load_ext autoreload\\n%autoreload 2\\n%load_ext nb_black\\n%load_ext lab_black\";\n                var nbb_formatted_code = \"%load_ext autoreload\\n%autoreload 2\\n%load_ext nb_black\\n%load_ext lab_black\";\n                var nbb_cells = Jupyter.notebook.get_cells();\n                for (var i = 0; i < nbb_cells.length; ++i) {\n                    if (nbb_cells[i].input_prompt_number == nbb_cell_id) {\n                        if (nbb_cells[i].get_text() == nbb_unformatted_code) {\n                             nbb_cells[i].set_text(nbb_formatted_code);\n                        }\n                        break;\n                    }\n                }\n            }, 500);\n            "
     },
     "metadata": {},
     "output_type": "display_data"
    }
   ],
   "source": [
    "%load_ext autoreload\n",
    "%autoreload 2\n",
    "%load_ext nb_black\n",
    "%load_ext lab_black"
   ]
  },
  {
   "cell_type": "code",
   "execution_count": 2,
   "metadata": {},
   "outputs": [
    {
     "data": {
      "text/plain": "<IPython.core.display.Javascript object>",
      "application/javascript": "\n            setTimeout(function() {\n                var nbb_cell_id = 2;\n                var nbb_unformatted_code = \"# default_exp postprocessing\";\n                var nbb_formatted_code = \"# default_exp postprocessing\";\n                var nbb_cells = Jupyter.notebook.get_cells();\n                for (var i = 0; i < nbb_cells.length; ++i) {\n                    if (nbb_cells[i].input_prompt_number == nbb_cell_id) {\n                        if (nbb_cells[i].get_text() == nbb_unformatted_code) {\n                             nbb_cells[i].set_text(nbb_formatted_code);\n                        }\n                        break;\n                    }\n                }\n            }, 500);\n            "
     },
     "metadata": {},
     "output_type": "display_data"
    }
   ],
   "source": [
    "# default_exp postprocessing"
   ]
  },
  {
   "cell_type": "markdown",
   "metadata": {},
   "source": [
    "# Postprocessing"
   ]
  },
  {
   "cell_type": "markdown",
   "metadata": {},
   "source": [
    "The postprocessing procedure is very similar to preprocessing.\n",
    "\n",
    "The only difference between a postprocessing step and a preprocessing step is that preprocessing works on `feature_` columns while postprocessing manipulates `prediction_` columns.\n",
    "\n",
    "Therefore, we also inherit from `BaseProcessor` for postprocessing. The PostProcessor should take a `Dataset` as input and output a `Dataset` where either:\n",
    "1. `prediction_` columns are manipulated or\n",
    "2. A new prediction column is added with prefix `prediction_`."
   ]
  },
  {
   "cell_type": "code",
   "execution_count": 3,
   "metadata": {},
   "outputs": [
    {
     "data": {
      "text/plain": "<IPython.core.display.Javascript object>",
      "application/javascript": "\n            setTimeout(function() {\n                var nbb_cell_id = 3;\n                var nbb_unformatted_code = \"# hide\\nfrom nbdev.showdoc import *\";\n                var nbb_formatted_code = \"# hide\\nfrom nbdev.showdoc import *\";\n                var nbb_cells = Jupyter.notebook.get_cells();\n                for (var i = 0; i < nbb_cells.length; ++i) {\n                    if (nbb_cells[i].input_prompt_number == nbb_cell_id) {\n                        if (nbb_cells[i].get_text() == nbb_unformatted_code) {\n                             nbb_cells[i].set_text(nbb_formatted_code);\n                        }\n                        break;\n                    }\n                }\n            }, 500);\n            "
     },
     "metadata": {},
     "output_type": "display_data"
    }
   ],
   "source": [
    "# hide\n",
    "from nbdev.showdoc import *"
   ]
  },
  {
   "cell_type": "code",
   "execution_count": 4,
   "metadata": {},
   "outputs": [
    {
     "data": {
      "text/plain": "<IPython.core.display.Javascript object>",
      "application/javascript": "\n            setTimeout(function() {\n                var nbb_cell_id = 4;\n                var nbb_unformatted_code = \"#export\\nimport scipy\\nimport numpy as np\\nimport pandas as pd\\nimport tensorflow as tf\\nimport scipy.stats as sp\\nfrom tqdm.auto import tqdm\\nfrom typeguard import typechecked\\nfrom rich import print as rich_print\\nfrom sklearn.preprocessing import MinMaxScaler\\n\\nfrom numerai_blocks.preprocessing import BaseProcessor, display_processor_info\\nfrom numerai_blocks.dataset import Dataset\";\n                var nbb_formatted_code = \"# export\\nimport scipy\\nimport numpy as np\\nimport pandas as pd\\nimport tensorflow as tf\\nimport scipy.stats as sp\\nfrom tqdm.auto import tqdm\\nfrom typeguard import typechecked\\nfrom rich import print as rich_print\\nfrom sklearn.preprocessing import MinMaxScaler\\n\\nfrom numerai_blocks.preprocessing import BaseProcessor, display_processor_info\\nfrom numerai_blocks.dataset import Dataset\";\n                var nbb_cells = Jupyter.notebook.get_cells();\n                for (var i = 0; i < nbb_cells.length; ++i) {\n                    if (nbb_cells[i].input_prompt_number == nbb_cell_id) {\n                        if (nbb_cells[i].get_text() == nbb_unformatted_code) {\n                             nbb_cells[i].set_text(nbb_formatted_code);\n                        }\n                        break;\n                    }\n                }\n            }, 500);\n            "
     },
     "metadata": {},
     "output_type": "display_data"
    }
   ],
   "source": [
    "#export\n",
    "import scipy\n",
    "import numpy as np\n",
    "import pandas as pd\n",
    "import tensorflow as tf\n",
    "import scipy.stats as sp\n",
    "from tqdm.auto import tqdm\n",
    "from typeguard import typechecked\n",
    "from rich import print as rich_print\n",
    "from sklearn.preprocessing import MinMaxScaler\n",
    "\n",
    "from numerai_blocks.preprocessing import BaseProcessor, display_processor_info\n",
    "from numerai_blocks.dataset import Dataset"
   ]
  },
  {
   "cell_type": "markdown",
   "source": [
    "## 1. Common postprocessing steps"
   ],
   "metadata": {
    "collapsed": false
   }
  },
  {
   "cell_type": "markdown",
   "source": [
    "### 1.1. Version agnostic"
   ],
   "metadata": {
    "collapsed": false
   }
  },
  {
   "cell_type": "markdown",
   "metadata": {},
   "source": [
    "#### 1.1.1. Ensembling"
   ]
  },
  {
   "cell_type": "markdown",
   "metadata": {},
   "source": [
    "Multiple prediction results can be ensembled in multiple ways, but we provide the most common use cases here."
   ]
  },
  {
   "cell_type": "code",
   "execution_count": 5,
   "metadata": {},
   "outputs": [
    {
     "data": {
      "text/plain": "<IPython.core.display.Javascript object>",
      "application/javascript": "\n            setTimeout(function() {\n                var nbb_cell_id = 5;\n                var nbb_unformatted_code = \"#export\\n@typechecked\\nclass MeanEnsembler(BaseProcessor):\\n    \\\"\\\"\\\" Take simple mean of multiple cols and store in new col. \\\"\\\"\\\"\\n    def __init__(self, cols: list, final_col_name: str):\\n        super(MeanEnsembler, self).__init__()\\n        self.cols = cols\\n        self.final_col_name = final_col_name\\n        assert final_col_name.startswith(\\\"prediction\\\"), f\\\"final_col name should start with 'prediction'. Got {final_col_name}\\\"\\n\\n    @display_processor_info\\n    def transform(self, dataset: Dataset, *args, **kwargs) -> Dataset:\\n        dataset.dataf.loc[:, self.final_col_name] = dataset.dataf.loc[:, self.cols].mean(axis=1)\\n        rich_print(f\\\":stew: Ensembled [blue]'{self.cols}'[blue] with simple mean and saved in [bold]'{self.final_col_name}'[bold] :stew:\\\")\\n        return Dataset(**dataset.__dict__)\";\n                var nbb_formatted_code = \"# export\\n@typechecked\\nclass MeanEnsembler(BaseProcessor):\\n    \\\"\\\"\\\"Take simple mean of multiple cols and store in new col.\\\"\\\"\\\"\\n\\n    def __init__(self, cols: list, final_col_name: str):\\n        super(MeanEnsembler, self).__init__()\\n        self.cols = cols\\n        self.final_col_name = final_col_name\\n        assert final_col_name.startswith(\\n            \\\"prediction\\\"\\n        ), f\\\"final_col name should start with 'prediction'. Got {final_col_name}\\\"\\n\\n    @display_processor_info\\n    def transform(self, dataset: Dataset, *args, **kwargs) -> Dataset:\\n        dataset.dataf.loc[:, self.final_col_name] = dataset.dataf.loc[\\n            :, self.cols\\n        ].mean(axis=1)\\n        rich_print(\\n            f\\\":stew: Ensembled [blue]'{self.cols}'[blue] with simple mean and saved in [bold]'{self.final_col_name}'[bold] :stew:\\\"\\n        )\\n        return Dataset(**dataset.__dict__)\";\n                var nbb_cells = Jupyter.notebook.get_cells();\n                for (var i = 0; i < nbb_cells.length; ++i) {\n                    if (nbb_cells[i].input_prompt_number == nbb_cell_id) {\n                        if (nbb_cells[i].get_text() == nbb_unformatted_code) {\n                             nbb_cells[i].set_text(nbb_formatted_code);\n                        }\n                        break;\n                    }\n                }\n            }, 500);\n            "
     },
     "metadata": {},
     "output_type": "display_data"
    }
   ],
   "source": [
    "#export\n",
    "@typechecked\n",
    "class MeanEnsembler(BaseProcessor):\n",
    "    \"\"\" Take simple mean of multiple cols and store in new col. \"\"\"\n",
    "    def __init__(self, cols: list, final_col_name: str):\n",
    "        super(MeanEnsembler, self).__init__()\n",
    "        self.cols = cols\n",
    "        self.final_col_name = final_col_name\n",
    "        assert final_col_name.startswith(\"prediction\"), f\"final_col name should start with 'prediction'. Got {final_col_name}\"\n",
    "\n",
    "    @display_processor_info\n",
    "    def transform(self, dataset: Dataset, *args, **kwargs) -> Dataset:\n",
    "        dataset.dataf.loc[:, self.final_col_name] = dataset.dataf.loc[:, self.cols].mean(axis=1)\n",
    "        rich_print(f\":stew: Ensembled [blue]'{self.cols}'[blue] with simple mean and saved in [bold]'{self.final_col_name}'[bold] :stew:\")\n",
    "        return Dataset(**dataset.__dict__)"
   ]
  },
  {
   "cell_type": "markdown",
   "metadata": {},
   "source": [
    "#### 1.1.2. Feature Neutralization"
   ]
  },
  {
   "cell_type": "markdown",
   "source": [
    "Classic feature neutralization (subtracting linear model from scores)"
   ],
   "metadata": {
    "collapsed": false
   }
  },
  {
   "cell_type": "code",
   "execution_count": 6,
   "metadata": {},
   "outputs": [
    {
     "data": {
      "text/plain": "<IPython.core.display.Javascript object>",
      "application/javascript": "\n            setTimeout(function() {\n                var nbb_cell_id = 6;\n                var nbb_unformatted_code = \"#export\\n@typechecked\\nclass FeatureNeutralizer(BaseProcessor):\\n    \\\"\\\"\\\" Feature \\\"\\\"\\\"\\n    def __init__(self, feature_names: list,\\n                 pred_name: str = \\\"prediction\\\",\\n                 proportion=0.5):\\n        super(FeatureNeutralizer, self).__init__()\\n        assert 0. <= proportion <= 1., f\\\"'proportion' should be a float in range [0...1]. Got '{proportion}'.\\\"\\n        self.proportion = proportion\\n        self.feature_names = feature_names\\n        self.pred_name = pred_name\\n        self.new_col_name = f\\\"{self.pred_name}_neutralized_{self.proportion}\\\"\\n\\n    @display_processor_info\\n    def transform(self, dataset: Dataset, *args, **kwargs) -> Dataset:\\n        neutralized_preds = dataset.dataf.groupby(\\\"era\\\")\\\\\\n            .apply(lambda x: self.normalize_and_neutralize(x, [self.pred_name], self.feature_names))\\n        dataset.dataf.loc[:, self.new_col_name] = MinMaxScaler().fit_transform(neutralized_preds)\\n        rich_print(f\\\":robot: Neutralized [bold blue]'{self.pred_name}'[bold blue] with proportion [bold]'{self.proportion}'[/bold] :robot:\\\")\\n        rich_print(f\\\"New neutralized column = [bold green]'{self.new_col_name}'[/bold green].\\\")\\n        return Dataset(**dataset.__dict__)\\n\\n    def _neutralize(self, df, columns, by):\\n        scores = df[columns]\\n        exposures = df[by].values\\n        scores = scores - self.proportion * exposures.dot(np.linalg.pinv(exposures).dot(scores))\\n        return scores / scores.std()\\n\\n    @staticmethod\\n    def _normalize(dataf: pd.DataFrame):\\n        normalized_ranks = (dataf.rank(method=\\\"first\\\") - 0.5) / len(dataf)\\n        return sp.norm.ppf(normalized_ranks)\\n\\n    def normalize_and_neutralize(self, df, columns, by):\\n        # Convert the scores to a normal distribution\\n        df[columns] = self._normalize(df[columns])\\n        df[columns] = self._neutralize(df, columns, by)\\n        return df[columns]\";\n                var nbb_formatted_code = \"# export\\n@typechecked\\nclass FeatureNeutralizer(BaseProcessor):\\n    \\\"\\\"\\\"Feature\\\"\\\"\\\"\\n\\n    def __init__(\\n        self, feature_names: list, pred_name: str = \\\"prediction\\\", proportion=0.5\\n    ):\\n        super(FeatureNeutralizer, self).__init__()\\n        assert (\\n            0.0 <= proportion <= 1.0\\n        ), f\\\"'proportion' should be a float in range [0...1]. Got '{proportion}'.\\\"\\n        self.proportion = proportion\\n        self.feature_names = feature_names\\n        self.pred_name = pred_name\\n        self.new_col_name = f\\\"{self.pred_name}_neutralized_{self.proportion}\\\"\\n\\n    @display_processor_info\\n    def transform(self, dataset: Dataset, *args, **kwargs) -> Dataset:\\n        neutralized_preds = dataset.dataf.groupby(\\\"era\\\").apply(\\n            lambda x: self.normalize_and_neutralize(\\n                x, [self.pred_name], self.feature_names\\n            )\\n        )\\n        dataset.dataf.loc[:, self.new_col_name] = MinMaxScaler().fit_transform(\\n            neutralized_preds\\n        )\\n        rich_print(\\n            f\\\":robot: Neutralized [bold blue]'{self.pred_name}'[bold blue] with proportion [bold]'{self.proportion}'[/bold] :robot:\\\"\\n        )\\n        rich_print(\\n            f\\\"New neutralized column = [bold green]'{self.new_col_name}'[/bold green].\\\"\\n        )\\n        return Dataset(**dataset.__dict__)\\n\\n    def _neutralize(self, df, columns, by):\\n        scores = df[columns]\\n        exposures = df[by].values\\n        scores = scores - self.proportion * exposures.dot(\\n            np.linalg.pinv(exposures).dot(scores)\\n        )\\n        return scores / scores.std()\\n\\n    @staticmethod\\n    def _normalize(dataf: pd.DataFrame):\\n        normalized_ranks = (dataf.rank(method=\\\"first\\\") - 0.5) / len(dataf)\\n        return sp.norm.ppf(normalized_ranks)\\n\\n    def normalize_and_neutralize(self, df, columns, by):\\n        # Convert the scores to a normal distribution\\n        df[columns] = self._normalize(df[columns])\\n        df[columns] = self._neutralize(df, columns, by)\\n        return df[columns]\";\n                var nbb_cells = Jupyter.notebook.get_cells();\n                for (var i = 0; i < nbb_cells.length; ++i) {\n                    if (nbb_cells[i].input_prompt_number == nbb_cell_id) {\n                        if (nbb_cells[i].get_text() == nbb_unformatted_code) {\n                             nbb_cells[i].set_text(nbb_formatted_code);\n                        }\n                        break;\n                    }\n                }\n            }, 500);\n            "
     },
     "metadata": {},
     "output_type": "display_data"
    }
   ],
   "source": [
    "#export\n",
    "@typechecked\n",
    "class FeatureNeutralizer(BaseProcessor):\n",
    "    \"\"\" Feature \"\"\"\n",
    "    def __init__(self, feature_names: list,\n",
    "                 pred_name: str = \"prediction\",\n",
    "                 era_col: str = \"era\",\n",
    "                 proportion: float = 0.5):\n",
    "        super(FeatureNeutralizer, self).__init__()\n",
    "        assert 0. <= proportion <= 1., f\"'proportion' should be a float in range [0...1]. Got '{proportion}'.\"\n",
    "        self.proportion = proportion\n",
    "        self.feature_names = feature_names\n",
    "        self.pred_name = pred_name\n",
    "        self.era_col = era_col\n",
    "        self.new_col_name = f\"{self.pred_name}_neutralized_{self.proportion}\"\n",
    "\n",
    "    @display_processor_info\n",
    "    def transform(self, dataset: Dataset, *args, **kwargs) -> Dataset:\n",
    "        neutralized_preds = dataset.dataf.groupby(self.era_col)\\\n",
    "            .apply(lambda x: self.normalize_and_neutralize(x, [self.pred_name], self.feature_names))\n",
    "        dataset.dataf.loc[:, self.new_col_name] = MinMaxScaler().fit_transform(neutralized_preds)\n",
    "        rich_print(f\":robot: Neutralized [bold blue]'{self.pred_name}'[bold blue] with proportion [bold]'{self.proportion}'[/bold] :robot:\")\n",
    "        rich_print(f\"New neutralized column = [bold green]'{self.new_col_name}'[/bold green].\")\n",
    "        return Dataset(**dataset.__dict__)\n",
    "\n",
    "    def _neutralize(self, df, columns, by):\n",
    "        scores = df[columns]\n",
    "        exposures = df[by].values\n",
    "        scores = scores - self.proportion * exposures.dot(np.linalg.pinv(exposures).dot(scores))\n",
    "        return scores / scores.std()\n",
    "\n",
    "    @staticmethod\n",
    "    def _normalize(dataf: pd.DataFrame):\n",
    "        normalized_ranks = (dataf.rank(method=\"first\") - 0.5) / len(dataf)\n",
    "        return sp.norm.ppf(normalized_ranks)\n",
    "\n",
    "    def normalize_and_neutralize(self, df, columns, by):\n",
    "        # Convert the scores to a normal distribution\n",
    "        df[columns] = self._normalize(df[columns])\n",
    "        df[columns] = self._neutralize(df, columns, by)\n",
    "        return df[columns]"
   ]
  },
  {
   "cell_type": "code",
   "execution_count": 7,
   "metadata": {},
   "outputs": [
    {
     "data": {
      "text/plain": "<IPython.core.display.Javascript object>",
      "application/javascript": "\n            setTimeout(function() {\n                var nbb_cell_id = 7;\n                var nbb_unformatted_code = \"test_dataset = Dataset(pd.read_csv(\\\"test_assets/mini_numerai_version_1_data.csv\\\"))\\ntest_dataset.dataf.loc[:, 'prediction'] = np.random.uniform(size=len(test_dataset.dataf))\";\n                var nbb_formatted_code = \"test_dataset = Dataset(pd.read_csv(\\\"test_assets/mini_numerai_version_1_data.csv\\\"))\\ntest_dataset.dataf.loc[:, \\\"prediction\\\"] = np.random.uniform(\\n    size=len(test_dataset.dataf)\\n)\";\n                var nbb_cells = Jupyter.notebook.get_cells();\n                for (var i = 0; i < nbb_cells.length; ++i) {\n                    if (nbb_cells[i].input_prompt_number == nbb_cell_id) {\n                        if (nbb_cells[i].get_text() == nbb_unformatted_code) {\n                             nbb_cells[i].set_text(nbb_formatted_code);\n                        }\n                        break;\n                    }\n                }\n            }, 500);\n            "
     },
     "metadata": {},
     "output_type": "display_data"
    }
   ],
   "source": [
    "test_dataset = Dataset(pd.read_csv(\"test_assets/mini_numerai_version_1_data.csv\"))\n",
    "test_dataset.dataf.loc[:, 'prediction'] = np.random.uniform(size=len(test_dataset.dataf))"
   ]
  },
  {
   "cell_type": "code",
   "execution_count": 8,
   "metadata": {},
   "outputs": [
    {
     "data": {
      "text/plain": "🤖 Neutralized \u001B[1;34m'prediction'\u001B[0m\u001B[1;34m with proportion \u001B[0m\u001B[1;34m'0.8'\u001B[0m\u001B[1;34m 🤖\u001B[0m\n",
      "text/html": "<pre style=\"white-space:pre;overflow-x:auto;line-height:normal;font-family:Menlo,'DejaVu Sans Mono',consolas,'Courier New',monospace\">🤖 Neutralized <span style=\"color: #000080; text-decoration-color: #000080; font-weight: bold\">'prediction'</span><span style=\"color: #000080; text-decoration-color: #000080; font-weight: bold\"> with proportion </span><span style=\"color: #000080; text-decoration-color: #000080; font-weight: bold\">'0.8'</span><span style=\"color: #000080; text-decoration-color: #000080; font-weight: bold\"> 🤖</span>\n</pre>\n"
     },
     "metadata": {},
     "output_type": "display_data"
    },
    {
     "data": {
      "text/plain": "New neutralized column = \u001B[1;32m'prediction_neutralized_0.8'\u001B[0m.\n",
      "text/html": "<pre style=\"white-space:pre;overflow-x:auto;line-height:normal;font-family:Menlo,'DejaVu Sans Mono',consolas,'Courier New',monospace\">New neutralized column = <span style=\"color: #008000; text-decoration-color: #008000; font-weight: bold\">'prediction_neutralized_0.8'</span>.\n</pre>\n"
     },
     "metadata": {},
     "output_type": "display_data"
    },
    {
     "data": {
      "text/plain": "✅ Finished step \u001B[1mFeatureNeutralizer\u001B[0m. Output \u001B[33mshape\u001B[0m=\u001B[1m(\u001B[0m\u001B[1;36m10\u001B[0m, \u001B[1;36m316\u001B[0m\u001B[1m)\u001B[0m. Time taken for step: \n\u001B[1;34m0:00:00\u001B[0m\u001B[34m.\u001B[0m\u001B[1;34m043276\u001B[0m. ✅\n",
      "text/html": "<pre style=\"white-space:pre;overflow-x:auto;line-height:normal;font-family:Menlo,'DejaVu Sans Mono',consolas,'Courier New',monospace\">✅ Finished step <span style=\"font-weight: bold\">FeatureNeutralizer</span>. Output <span style=\"color: #808000; text-decoration-color: #808000\">shape</span>=<span style=\"font-weight: bold\">(</span><span style=\"color: #008080; text-decoration-color: #008080; font-weight: bold\">10</span>, <span style=\"color: #008080; text-decoration-color: #008080; font-weight: bold\">316</span><span style=\"font-weight: bold\">)</span>. Time taken for step: \n<span style=\"color: #000080; text-decoration-color: #000080; font-weight: bold\">0:00:00</span><span style=\"color: #000080; text-decoration-color: #000080\">.</span><span style=\"color: #000080; text-decoration-color: #000080; font-weight: bold\">043276</span>. ✅\n</pre>\n"
     },
     "metadata": {},
     "output_type": "display_data"
    },
    {
     "data": {
      "text/plain": "<IPython.core.display.Javascript object>",
      "application/javascript": "\n            setTimeout(function() {\n                var nbb_cell_id = 8;\n                var nbb_unformatted_code = \"ft = FeatureNeutralizer(feature_names=test_dataset.feature_cols, pred_name='prediction', proportion=0.8)\\nnew_dataset = ft.transform(test_dataset);\";\n                var nbb_formatted_code = \"ft = FeatureNeutralizer(\\n    feature_names=test_dataset.feature_cols, pred_name=\\\"prediction\\\", proportion=0.8\\n)\\nnew_dataset = ft.transform(test_dataset)\";\n                var nbb_cells = Jupyter.notebook.get_cells();\n                for (var i = 0; i < nbb_cells.length; ++i) {\n                    if (nbb_cells[i].input_prompt_number == nbb_cell_id) {\n                        if (nbb_cells[i].get_text() == nbb_unformatted_code) {\n                             nbb_cells[i].set_text(nbb_formatted_code);\n                        }\n                        break;\n                    }\n                }\n            }, 500);\n            "
     },
     "metadata": {},
     "output_type": "display_data"
    }
   ],
   "source": [
    "ft = FeatureNeutralizer(feature_names=test_dataset.feature_cols, pred_name='prediction', proportion=0.8)\n",
    "new_dataset = ft.transform(test_dataset);"
   ]
  },
  {
   "cell_type": "code",
   "execution_count": 9,
   "metadata": {},
   "outputs": [
    {
     "data": {
      "text/plain": "<IPython.core.display.Javascript object>",
      "application/javascript": "\n            setTimeout(function() {\n                var nbb_cell_id = 9;\n                var nbb_unformatted_code = \"assert \\\"prediction_neutralized_0.8\\\" in new_dataset.prediction_cols\\nassert 0. in new_dataset.get_prediction_data['prediction_neutralized_0.8']\\nassert 1. in new_dataset.get_prediction_data['prediction_neutralized_0.8']\";\n                var nbb_formatted_code = \"assert \\\"prediction_neutralized_0.8\\\" in new_dataset.prediction_cols\\nassert 0.0 in new_dataset.get_prediction_data[\\\"prediction_neutralized_0.8\\\"]\\nassert 1.0 in new_dataset.get_prediction_data[\\\"prediction_neutralized_0.8\\\"]\";\n                var nbb_cells = Jupyter.notebook.get_cells();\n                for (var i = 0; i < nbb_cells.length; ++i) {\n                    if (nbb_cells[i].input_prompt_number == nbb_cell_id) {\n                        if (nbb_cells[i].get_text() == nbb_unformatted_code) {\n                             nbb_cells[i].set_text(nbb_formatted_code);\n                        }\n                        break;\n                    }\n                }\n            }, 500);\n            "
     },
     "metadata": {},
     "output_type": "display_data"
    }
   ],
   "source": [
    "assert \"prediction_neutralized_0.8\" in new_dataset.prediction_cols\n",
    "assert 0. in new_dataset.get_prediction_data['prediction_neutralized_0.8']\n",
    "assert 1. in new_dataset.get_prediction_data['prediction_neutralized_0.8']"
   ]
  },
  {
   "cell_type": "code",
   "execution_count": 10,
   "metadata": {},
   "outputs": [
    {
     "data": {
      "text/plain": "['prediction', 'prediction_neutralized_0.8']"
     },
     "execution_count": 10,
     "metadata": {},
     "output_type": "execute_result"
    },
    {
     "data": {
      "text/plain": "<IPython.core.display.Javascript object>",
      "application/javascript": "\n            setTimeout(function() {\n                var nbb_cell_id = 10;\n                var nbb_unformatted_code = \"new_dataset.prediction_cols\";\n                var nbb_formatted_code = \"new_dataset.prediction_cols\";\n                var nbb_cells = Jupyter.notebook.get_cells();\n                for (var i = 0; i < nbb_cells.length; ++i) {\n                    if (nbb_cells[i].input_prompt_number == nbb_cell_id) {\n                        if (nbb_cells[i].get_text() == nbb_unformatted_code) {\n                             nbb_cells[i].set_text(nbb_formatted_code);\n                        }\n                        break;\n                    }\n                }\n            }, 500);\n            "
     },
     "metadata": {},
     "output_type": "display_data"
    }
   ],
   "source": [
    "new_dataset.prediction_cols"
   ]
  },
  {
   "cell_type": "code",
   "execution_count": 11,
   "metadata": {},
   "outputs": [
    {
     "data": {
      "text/plain": "   prediction  prediction_neutralized_0.8\n0    0.895532                    1.000000\n1    0.894037                    0.815053\n2    0.170013                    0.000000\n3    0.632977                    0.461802\n4    0.392452                    0.184947\n5    0.676905                    0.538198\n6    0.682949                    0.617129\n7    0.402920                    0.294970\n8    0.845842                    0.705030\n9    0.415415                    0.382871",
      "text/html": "<div>\n<style scoped>\n    .dataframe tbody tr th:only-of-type {\n        vertical-align: middle;\n    }\n\n    .dataframe tbody tr th {\n        vertical-align: top;\n    }\n\n    .dataframe thead th {\n        text-align: right;\n    }\n</style>\n<table border=\"1\" class=\"dataframe\">\n  <thead>\n    <tr style=\"text-align: right;\">\n      <th></th>\n      <th>prediction</th>\n      <th>prediction_neutralized_0.8</th>\n    </tr>\n  </thead>\n  <tbody>\n    <tr>\n      <th>0</th>\n      <td>0.895532</td>\n      <td>1.000000</td>\n    </tr>\n    <tr>\n      <th>1</th>\n      <td>0.894037</td>\n      <td>0.815053</td>\n    </tr>\n    <tr>\n      <th>2</th>\n      <td>0.170013</td>\n      <td>0.000000</td>\n    </tr>\n    <tr>\n      <th>3</th>\n      <td>0.632977</td>\n      <td>0.461802</td>\n    </tr>\n    <tr>\n      <th>4</th>\n      <td>0.392452</td>\n      <td>0.184947</td>\n    </tr>\n    <tr>\n      <th>5</th>\n      <td>0.676905</td>\n      <td>0.538198</td>\n    </tr>\n    <tr>\n      <th>6</th>\n      <td>0.682949</td>\n      <td>0.617129</td>\n    </tr>\n    <tr>\n      <th>7</th>\n      <td>0.402920</td>\n      <td>0.294970</td>\n    </tr>\n    <tr>\n      <th>8</th>\n      <td>0.845842</td>\n      <td>0.705030</td>\n    </tr>\n    <tr>\n      <th>9</th>\n      <td>0.415415</td>\n      <td>0.382871</td>\n    </tr>\n  </tbody>\n</table>\n</div>"
     },
     "execution_count": 11,
     "metadata": {},
     "output_type": "execute_result"
    },
    {
     "data": {
      "text/plain": "<IPython.core.display.Javascript object>",
      "application/javascript": "\n            setTimeout(function() {\n                var nbb_cell_id = 11;\n                var nbb_unformatted_code = \"new_dataset.get_prediction_data\";\n                var nbb_formatted_code = \"new_dataset.get_prediction_data\";\n                var nbb_cells = Jupyter.notebook.get_cells();\n                for (var i = 0; i < nbb_cells.length; ++i) {\n                    if (nbb_cells[i].input_prompt_number == nbb_cell_id) {\n                        if (nbb_cells[i].get_text() == nbb_unformatted_code) {\n                             nbb_cells[i].set_text(nbb_formatted_code);\n                        }\n                        break;\n                    }\n                }\n            }, 500);\n            "
     },
     "metadata": {},
     "output_type": "display_data"
    }
   ],
   "source": [
    "new_dataset.get_prediction_data"
   ]
  },
  {
   "cell_type": "markdown",
   "source": [
    "#### 1.1.3. Feature Penalization"
   ],
   "metadata": {
    "collapsed": false
   }
  },
  {
   "cell_type": "code",
   "execution_count": 12,
   "outputs": [
    {
     "data": {
      "text/plain": "<IPython.core.display.Javascript object>",
      "application/javascript": "\n            setTimeout(function() {\n                var nbb_cell_id = 12;\n                var nbb_unformatted_code = \"#export\\n@typechecked\\nclass FeaturePenalizer(BaseProcessor):\\n    \\\"\\\"\\\" Feature penalization with Tensorflow. \\\"\\\"\\\"\\n    def __init__(self, model_list: list, max_exposure: float, risky_feature_names: list = None, pred_name: str = \\\"prediction\\\"):\\n        super(FeaturePenalizer, self).__init__()\\n        self.model_list = model_list\\n        assert 0. <= max_exposure <= 1., f\\\"'max_exposure' should be a float in range [0...1]. Got '{max_exposure}'.\\\"\\n        self.max_exposure = max_exposure\\n        self.risky_feature_names = risky_feature_names\\n        self.pred_name = pred_name\\n\\n    @display_processor_info\\n    def transform(self, dataset: Dataset, *args, **kwargs) -> Dataset:\\n        risky_feature_names = dataset.feature_cols if not self.risky_feature_names else self.risky_feature_names\\n        for model_name in self.model_list:\\n            penalized_data = self.reduce_all_exposures(\\n                            dataset.dataf,\\n                            self.pred_name,\\n                            neutralizers=risky_feature_names,\\n                            max_exp=self.max_exposure,\\n                        )\\n            new_pred_col = f\\\"prediction_{self.pred_name}_{model_name}_FP_{self.max_exposure}\\\"\\n            dataset.dataf.loc[:, new_pred_col] = penalized_data[self.pred_name]\\n        return Dataset(**dataset.__dict__)\\n\\n    def reduce_all_exposures(self, df: pd.DataFrame,\\n                             column: str = \\\"prediction\\\",\\n                             neutralizers: list = None,\\n                             normalize=True,\\n                             gaussianize=True,\\n                             era_col=\\\"era\\\",\\n                             max_exp: float = 0.1\\n                             ):\\n        if neutralizers is None:\\n            neutralizers = [x for x in df.columns if x.startswith(\\\"feature\\\")]\\n        neutralized = []\\n\\n        for era in tqdm(df[era_col].unique()):\\n            df_era = df[df[era_col] == era]\\n            scores = df_era[[column]].values\\n            exposure_values = df_era[neutralizers].values\\n\\n            if normalize:\\n                scores2 = []\\n                for x in scores.T:\\n                    x = (scipy.stats.rankdata(x, method='ordinal') - .5) / len(x)\\n                    if gaussianize:\\n                        x = scipy.stats.norm.ppf(x)\\n                    scores2.append(x)\\n                scores = np.array(scores2)[0]\\n\\n            scores, weights = self.reduce_exposure(scores, exposure_values,\\n                                              max_exp, len(neutralizers), None)\\n\\n            scores /= tf.math.reduce_std(scores)\\n            scores -= tf.reduce_min(scores)\\n            scores /= tf.reduce_max(scores)\\n            neutralized.append(scores.numpy())\\n\\n        predictions = pd.DataFrame(np.concatenate(neutralized),\\n                                   columns=[column], index=df.index)\\n        return predictions\\n\\n    def reduce_exposure(self, prediction, features, max_exp, input_size=50, weights=None):\\n        model = tf.keras.models.Sequential([\\n            tf.keras.layers.Input(input_size),\\n            tf.keras.experimental.LinearModel(use_bias=False),\\n        ])\\n        feats = tf.convert_to_tensor(features - 0.5, dtype=tf.float32)\\n        pred = tf.convert_to_tensor(prediction, dtype=tf.float32)\\n        if weights is None:\\n            optimizer = tf.keras.optimizers.Adamax()\\n            start_exp = self.__exposures(feats, pred[:, None])\\n            target_exps = tf.clip_by_value(start_exp, -max_exp, max_exp)\\n            self._train_loop(model, optimizer, feats, pred, target_exps)\\n        else:\\n            model.set_weights(weights)\\n        return pred[:,None] - model(feats), model.get_weights()\\n\\n\\n    def _train_loop(self, model, optimizer, feats, pred, target_exps):\\n        for i in range(1000000):\\n            loss, grads = self.__train_loop_body(model, feats, pred, target_exps)\\n            optimizer.apply_gradients(zip(grads, model.trainable_variables))\\n            if loss < 1e-7:\\n                break\\n\\n    @tf.function(experimental_relax_shapes=True)\\n    def __train_loop_body(self, model, feats, pred, target_exps):\\n        with tf.GradientTape() as tape:\\n            exps = self.exposures(feats, pred[:, None] - model(feats, training=True))\\n            loss = tf.reduce_sum(tf.nn.relu(tf.nn.relu(exps) - tf.nn.relu(target_exps)) +\\n                                 tf.nn.relu(tf.nn.relu(-exps) - tf.nn.relu(-target_exps)))\\n        return loss, tape.gradient(loss, model.trainable_variables)\\n\\n    @staticmethod\\n    @tf.function(experimental_relax_shapes=True, experimental_compile=True)\\n    def __exposures(x, y):\\n        x = x - tf.math.reduce_mean(x, axis=0)\\n        x = x / tf.norm(x, axis=0)\\n        y = y - tf.math.reduce_mean(y, axis=0)\\n        y = y / tf.norm(y, axis=0)\\n        return tf.matmul(x, y, transpose_a=True)\";\n                var nbb_formatted_code = \"# export\\n@typechecked\\nclass FeaturePenalizer(BaseProcessor):\\n    \\\"\\\"\\\"Feature penalization with Tensorflow.\\\"\\\"\\\"\\n\\n    def __init__(\\n        self,\\n        model_list: list,\\n        max_exposure: float,\\n        risky_feature_names: list = None,\\n        pred_name: str = \\\"prediction\\\",\\n    ):\\n        super(FeaturePenalizer, self).__init__()\\n        self.model_list = model_list\\n        assert (\\n            0.0 <= max_exposure <= 1.0\\n        ), f\\\"'max_exposure' should be a float in range [0...1]. Got '{max_exposure}'.\\\"\\n        self.max_exposure = max_exposure\\n        self.risky_feature_names = risky_feature_names\\n        self.pred_name = pred_name\\n\\n    @display_processor_info\\n    def transform(self, dataset: Dataset, *args, **kwargs) -> Dataset:\\n        risky_feature_names = (\\n            dataset.feature_cols\\n            if not self.risky_feature_names\\n            else self.risky_feature_names\\n        )\\n        for model_name in self.model_list:\\n            penalized_data = self.reduce_all_exposures(\\n                dataset.dataf,\\n                self.pred_name,\\n                neutralizers=risky_feature_names,\\n                max_exp=self.max_exposure,\\n            )\\n            new_pred_col = (\\n                f\\\"prediction_{self.pred_name}_{model_name}_FP_{self.max_exposure}\\\"\\n            )\\n            dataset.dataf.loc[:, new_pred_col] = penalized_data[self.pred_name]\\n        return Dataset(**dataset.__dict__)\\n\\n    def reduce_all_exposures(\\n        self,\\n        df: pd.DataFrame,\\n        column: str = \\\"prediction\\\",\\n        neutralizers: list = None,\\n        normalize=True,\\n        gaussianize=True,\\n        era_col=\\\"era\\\",\\n        max_exp: float = 0.1,\\n    ):\\n        if neutralizers is None:\\n            neutralizers = [x for x in df.columns if x.startswith(\\\"feature\\\")]\\n        neutralized = []\\n\\n        for era in tqdm(df[era_col].unique()):\\n            df_era = df[df[era_col] == era]\\n            scores = df_era[[column]].values\\n            exposure_values = df_era[neutralizers].values\\n\\n            if normalize:\\n                scores2 = []\\n                for x in scores.T:\\n                    x = (scipy.stats.rankdata(x, method=\\\"ordinal\\\") - 0.5) / len(x)\\n                    if gaussianize:\\n                        x = scipy.stats.norm.ppf(x)\\n                    scores2.append(x)\\n                scores = np.array(scores2)[0]\\n\\n            scores, weights = self.reduce_exposure(\\n                scores, exposure_values, max_exp, len(neutralizers), None\\n            )\\n\\n            scores /= tf.math.reduce_std(scores)\\n            scores -= tf.reduce_min(scores)\\n            scores /= tf.reduce_max(scores)\\n            neutralized.append(scores.numpy())\\n\\n        predictions = pd.DataFrame(\\n            np.concatenate(neutralized), columns=[column], index=df.index\\n        )\\n        return predictions\\n\\n    def reduce_exposure(\\n        self, prediction, features, max_exp, input_size=50, weights=None\\n    ):\\n        model = tf.keras.models.Sequential(\\n            [\\n                tf.keras.layers.Input(input_size),\\n                tf.keras.experimental.LinearModel(use_bias=False),\\n            ]\\n        )\\n        feats = tf.convert_to_tensor(features - 0.5, dtype=tf.float32)\\n        pred = tf.convert_to_tensor(prediction, dtype=tf.float32)\\n        if weights is None:\\n            optimizer = tf.keras.optimizers.Adamax()\\n            start_exp = self.__exposures(feats, pred[:, None])\\n            target_exps = tf.clip_by_value(start_exp, -max_exp, max_exp)\\n            self._train_loop(model, optimizer, feats, pred, target_exps)\\n        else:\\n            model.set_weights(weights)\\n        return pred[:, None] - model(feats), model.get_weights()\\n\\n    def _train_loop(self, model, optimizer, feats, pred, target_exps):\\n        for i in range(1000000):\\n            loss, grads = self.__train_loop_body(model, feats, pred, target_exps)\\n            optimizer.apply_gradients(zip(grads, model.trainable_variables))\\n            if loss < 1e-7:\\n                break\\n\\n    @tf.function(experimental_relax_shapes=True)\\n    def __train_loop_body(self, model, feats, pred, target_exps):\\n        with tf.GradientTape() as tape:\\n            exps = self.exposures(feats, pred[:, None] - model(feats, training=True))\\n            loss = tf.reduce_sum(\\n                tf.nn.relu(tf.nn.relu(exps) - tf.nn.relu(target_exps))\\n                + tf.nn.relu(tf.nn.relu(-exps) - tf.nn.relu(-target_exps))\\n            )\\n        return loss, tape.gradient(loss, model.trainable_variables)\\n\\n    @staticmethod\\n    @tf.function(experimental_relax_shapes=True, experimental_compile=True)\\n    def __exposures(x, y):\\n        x = x - tf.math.reduce_mean(x, axis=0)\\n        x = x / tf.norm(x, axis=0)\\n        y = y - tf.math.reduce_mean(y, axis=0)\\n        y = y / tf.norm(y, axis=0)\\n        return tf.matmul(x, y, transpose_a=True)\";\n                var nbb_cells = Jupyter.notebook.get_cells();\n                for (var i = 0; i < nbb_cells.length; ++i) {\n                    if (nbb_cells[i].input_prompt_number == nbb_cell_id) {\n                        if (nbb_cells[i].get_text() == nbb_unformatted_code) {\n                             nbb_cells[i].set_text(nbb_formatted_code);\n                        }\n                        break;\n                    }\n                }\n            }, 500);\n            "
     },
     "metadata": {},
     "output_type": "display_data"
    }
   ],
   "source": [
    "#export\n",
    "@typechecked\n",
    "class FeaturePenalizer(BaseProcessor):\n",
    "    \"\"\" Feature penalization with Tensorflow. \"\"\"\n",
    "    def __init__(self, model_list: list, max_exposure: float,\n",
    "                 risky_feature_names: list = None, pred_name: str = \"prediction\", era_col: str = 'era'):\n",
    "        super(FeaturePenalizer, self).__init__()\n",
    "        self.model_list = model_list\n",
    "        assert 0. <= max_exposure <= 1., f\"'max_exposure' should be a float in range [0...1]. Got '{max_exposure}'.\"\n",
    "        self.max_exposure = max_exposure\n",
    "        self.risky_feature_names = risky_feature_names\n",
    "        self.pred_name = pred_name\n",
    "        self.era_col = era_col\n",
    "\n",
    "    @display_processor_info\n",
    "    def transform(self, dataset: Dataset, *args, **kwargs) -> Dataset:\n",
    "        risky_feature_names = dataset.feature_cols if not self.risky_feature_names else self.risky_feature_names\n",
    "        for model_name in self.model_list:\n",
    "            penalized_data = self.reduce_all_exposures(\n",
    "                            df=dataset.dataf,\n",
    "                            column=self.pred_name,\n",
    "                            neutralizers=risky_feature_names,\n",
    "                        )\n",
    "            new_pred_col = f\"prediction_{self.pred_name}_{model_name}_FP_{self.max_exposure}\"\n",
    "            dataset.dataf.loc[:, new_pred_col] = penalized_data[self.pred_name]\n",
    "        return Dataset(**dataset.__dict__)\n",
    "\n",
    "    def reduce_all_exposures(self, df: pd.DataFrame,\n",
    "                             column: str = \"prediction\",\n",
    "                             neutralizers: list = None,\n",
    "                             normalize=True,\n",
    "                             gaussianize=True,\n",
    "                             ):\n",
    "        if neutralizers is None:\n",
    "            neutralizers = [x for x in df.columns if x.startswith(\"feature\")]\n",
    "        neutralized = []\n",
    "\n",
    "        for era in tqdm(df[self.era_col].unique()):\n",
    "            df_era = df[df[self.era_col] == era]\n",
    "            scores = df_era[[column]].values\n",
    "            exposure_values = df_era[neutralizers].values\n",
    "\n",
    "            if normalize:\n",
    "                scores2 = []\n",
    "                for x in scores.T:\n",
    "                    x = (scipy.stats.rankdata(x, method='ordinal') - .5) / len(x)\n",
    "                    if gaussianize:\n",
    "                        x = scipy.stats.norm.ppf(x)\n",
    "                    scores2.append(x)\n",
    "                scores = np.array(scores2)[0]\n",
    "\n",
    "            scores, weights = self._reduce_exposure(scores, exposure_values,\n",
    "                                                    len(neutralizers), None)\n",
    "\n",
    "            scores /= tf.math.reduce_std(scores)\n",
    "            scores -= tf.reduce_min(scores)\n",
    "            scores /= tf.reduce_max(scores)\n",
    "            neutralized.append(scores.numpy())\n",
    "\n",
    "        predictions = pd.DataFrame(np.concatenate(neutralized),\n",
    "                                   columns=[column], index=df.index)\n",
    "        return predictions\n",
    "\n",
    "    def _reduce_exposure(self, prediction, features, input_size=50, weights=None):\n",
    "        model = tf.keras.models.Sequential([\n",
    "            tf.keras.layers.Input(input_size),\n",
    "            tf.keras.experimental.LinearModel(use_bias=False),\n",
    "        ])\n",
    "        feats = tf.convert_to_tensor(features - 0.5, dtype=tf.float32)\n",
    "        pred = tf.convert_to_tensor(prediction, dtype=tf.float32)\n",
    "        if weights is None:\n",
    "            optimizer = tf.keras.optimizers.Adamax()\n",
    "            start_exp = self.__exposures(feats, pred[:, None])\n",
    "            target_exps = tf.clip_by_value(start_exp, -self.max_exposure, self.max_exposure)\n",
    "            self._train_loop(model, optimizer, feats, pred, target_exps)\n",
    "        else:\n",
    "            model.set_weights(weights)\n",
    "        return pred[:,None] - model(feats), model.get_weights()\n",
    "\n",
    "\n",
    "    def _train_loop(self, model, optimizer, feats, pred, target_exps):\n",
    "        for i in range(1000000):\n",
    "            loss, grads = self.__train_loop_body(model, feats, pred, target_exps)\n",
    "            optimizer.apply_gradients(zip(grads, model.trainable_variables))\n",
    "            if loss < 1e-7:\n",
    "                break\n",
    "\n",
    "    @tf.function(experimental_relax_shapes=True)\n",
    "    def __train_loop_body(self, model, feats, pred, target_exps):\n",
    "        with tf.GradientTape() as tape:\n",
    "            exps = self.exposures(feats, pred[:, None] - model(feats, training=True))\n",
    "            loss = tf.reduce_sum(tf.nn.relu(tf.nn.relu(exps) - tf.nn.relu(target_exps)) +\n",
    "                                 tf.nn.relu(tf.nn.relu(-exps) - tf.nn.relu(-target_exps)))\n",
    "        return loss, tape.gradient(loss, model.trainable_variables)\n",
    "\n",
    "    @staticmethod\n",
    "    @tf.function(experimental_relax_shapes=True, experimental_compile=True)\n",
    "    def __exposures(x, y):\n",
    "        x = x - tf.math.reduce_mean(x, axis=0)\n",
    "        x = x / tf.norm(x, axis=0)\n",
    "        y = y - tf.math.reduce_mean(y, axis=0)\n",
    "        y = y / tf.norm(y, axis=0)\n",
    "        return tf.matmul(x, y, transpose_a=True)"
   ],
   "metadata": {
    "collapsed": false,
    "pycharm": {
     "name": "#%%\n"
    }
   }
  },
  {
   "cell_type": "code",
   "execution_count": 12,
   "outputs": [
    {
     "data": {
      "text/plain": "<IPython.core.display.Javascript object>",
      "application/javascript": "\n            setTimeout(function() {\n                var nbb_cell_id = 12;\n                var nbb_unformatted_code = \"#export\\n@typechecked\\nclass FeaturePenalizer(BaseProcessor):\\n    \\\"\\\"\\\" Feature penalization with Tensorflow. \\\"\\\"\\\"\\n    def __init__(self, model_list: list, max_exposure: float, risky_feature_names: list = None, pred_name: str = \\\"prediction\\\"):\\n        super(FeaturePenalizer, self).__init__()\\n        self.model_list = model_list\\n        assert 0. <= max_exposure <= 1., f\\\"'max_exposure' should be a float in range [0...1]. Got '{max_exposure}'.\\\"\\n        self.max_exposure = max_exposure\\n        self.risky_feature_names = risky_feature_names\\n        self.pred_name = pred_name\\n\\n    @display_processor_info\\n    def transform(self, dataset: Dataset, *args, **kwargs) -> Dataset:\\n        risky_feature_names = dataset.feature_cols if not self.risky_feature_names else self.risky_feature_names\\n        for model_name in self.model_list:\\n            penalized_data = self.reduce_all_exposures(\\n                            dataset.dataf,\\n                            self.pred_name,\\n                            neutralizers=risky_feature_names,\\n                            max_exp=self.max_exposure,\\n                        )\\n            new_pred_col = f\\\"prediction_{self.pred_name}_{model_name}_FP_{self.max_exposure}\\\"\\n            dataset.dataf.loc[:, new_pred_col] = penalized_data[self.pred_name]\\n        return Dataset(**dataset.__dict__)\\n\\n    def reduce_all_exposures(self, df: pd.DataFrame,\\n                             column: str = \\\"prediction\\\",\\n                             neutralizers: list = None,\\n                             normalize=True,\\n                             gaussianize=True,\\n                             era_col=\\\"era\\\",\\n                             max_exp: float = 0.1\\n                             ):\\n        if neutralizers is None:\\n            neutralizers = [x for x in df.columns if x.startswith(\\\"feature\\\")]\\n        neutralized = []\\n\\n        for era in tqdm(df[era_col].unique()):\\n            df_era = df[df[era_col] == era]\\n            scores = df_era[[column]].values\\n            exposure_values = df_era[neutralizers].values\\n\\n            if normalize:\\n                scores2 = []\\n                for x in scores.T:\\n                    x = (scipy.stats.rankdata(x, method='ordinal') - .5) / len(x)\\n                    if gaussianize:\\n                        x = scipy.stats.norm.ppf(x)\\n                    scores2.append(x)\\n                scores = np.array(scores2)[0]\\n\\n            scores, weights = self.reduce_exposure(scores, exposure_values,\\n                                              max_exp, len(neutralizers), None)\\n\\n            scores /= tf.math.reduce_std(scores)\\n            scores -= tf.reduce_min(scores)\\n            scores /= tf.reduce_max(scores)\\n            neutralized.append(scores.numpy())\\n\\n        predictions = pd.DataFrame(np.concatenate(neutralized),\\n                                   columns=[column], index=df.index)\\n        return predictions\\n\\n    def reduce_exposure(self, prediction, features, max_exp, input_size=50, weights=None):\\n        model = tf.keras.models.Sequential([\\n            tf.keras.layers.Input(input_size),\\n            tf.keras.experimental.LinearModel(use_bias=False),\\n        ])\\n        feats = tf.convert_to_tensor(features - 0.5, dtype=tf.float32)\\n        pred = tf.convert_to_tensor(prediction, dtype=tf.float32)\\n        if weights is None:\\n            optimizer = tf.keras.optimizers.Adamax()\\n            start_exp = self.__exposures(feats, pred[:, None])\\n            target_exps = tf.clip_by_value(start_exp, -max_exp, max_exp)\\n            self._train_loop(model, optimizer, feats, pred, target_exps)\\n        else:\\n            model.set_weights(weights)\\n        return pred[:,None] - model(feats), model.get_weights()\\n\\n\\n    def _train_loop(self, model, optimizer, feats, pred, target_exps):\\n        for i in range(1000000):\\n            loss, grads = self.__train_loop_body(model, feats, pred, target_exps)\\n            optimizer.apply_gradients(zip(grads, model.trainable_variables))\\n            if loss < 1e-7:\\n                break\\n\\n    @tf.function(experimental_relax_shapes=True)\\n    def __train_loop_body(self, model, feats, pred, target_exps):\\n        with tf.GradientTape() as tape:\\n            exps = self.exposures(feats, pred[:, None] - model(feats, training=True))\\n            loss = tf.reduce_sum(tf.nn.relu(tf.nn.relu(exps) - tf.nn.relu(target_exps)) +\\n                                 tf.nn.relu(tf.nn.relu(-exps) - tf.nn.relu(-target_exps)))\\n        return loss, tape.gradient(loss, model.trainable_variables)\\n\\n    @staticmethod\\n    @tf.function(experimental_relax_shapes=True, experimental_compile=True)\\n    def __exposures(x, y):\\n        x = x - tf.math.reduce_mean(x, axis=0)\\n        x = x / tf.norm(x, axis=0)\\n        y = y - tf.math.reduce_mean(y, axis=0)\\n        y = y / tf.norm(y, axis=0)\\n        return tf.matmul(x, y, transpose_a=True)\";\n                var nbb_formatted_code = \"# export\\n@typechecked\\nclass FeaturePenalizer(BaseProcessor):\\n    \\\"\\\"\\\"Feature penalization with Tensorflow.\\\"\\\"\\\"\\n\\n    def __init__(\\n        self,\\n        model_list: list,\\n        max_exposure: float,\\n        risky_feature_names: list = None,\\n        pred_name: str = \\\"prediction\\\",\\n    ):\\n        super(FeaturePenalizer, self).__init__()\\n        self.model_list = model_list\\n        assert (\\n            0.0 <= max_exposure <= 1.0\\n        ), f\\\"'max_exposure' should be a float in range [0...1]. Got '{max_exposure}'.\\\"\\n        self.max_exposure = max_exposure\\n        self.risky_feature_names = risky_feature_names\\n        self.pred_name = pred_name\\n\\n    @display_processor_info\\n    def transform(self, dataset: Dataset, *args, **kwargs) -> Dataset:\\n        risky_feature_names = (\\n            dataset.feature_cols\\n            if not self.risky_feature_names\\n            else self.risky_feature_names\\n        )\\n        for model_name in self.model_list:\\n            penalized_data = self.reduce_all_exposures(\\n                dataset.dataf,\\n                self.pred_name,\\n                neutralizers=risky_feature_names,\\n                max_exp=self.max_exposure,\\n            )\\n            new_pred_col = (\\n                f\\\"prediction_{self.pred_name}_{model_name}_FP_{self.max_exposure}\\\"\\n            )\\n            dataset.dataf.loc[:, new_pred_col] = penalized_data[self.pred_name]\\n        return Dataset(**dataset.__dict__)\\n\\n    def reduce_all_exposures(\\n        self,\\n        df: pd.DataFrame,\\n        column: str = \\\"prediction\\\",\\n        neutralizers: list = None,\\n        normalize=True,\\n        gaussianize=True,\\n        era_col=\\\"era\\\",\\n        max_exp: float = 0.1,\\n    ):\\n        if neutralizers is None:\\n            neutralizers = [x for x in df.columns if x.startswith(\\\"feature\\\")]\\n        neutralized = []\\n\\n        for era in tqdm(df[era_col].unique()):\\n            df_era = df[df[era_col] == era]\\n            scores = df_era[[column]].values\\n            exposure_values = df_era[neutralizers].values\\n\\n            if normalize:\\n                scores2 = []\\n                for x in scores.T:\\n                    x = (scipy.stats.rankdata(x, method=\\\"ordinal\\\") - 0.5) / len(x)\\n                    if gaussianize:\\n                        x = scipy.stats.norm.ppf(x)\\n                    scores2.append(x)\\n                scores = np.array(scores2)[0]\\n\\n            scores, weights = self.reduce_exposure(\\n                scores, exposure_values, max_exp, len(neutralizers), None\\n            )\\n\\n            scores /= tf.math.reduce_std(scores)\\n            scores -= tf.reduce_min(scores)\\n            scores /= tf.reduce_max(scores)\\n            neutralized.append(scores.numpy())\\n\\n        predictions = pd.DataFrame(\\n            np.concatenate(neutralized), columns=[column], index=df.index\\n        )\\n        return predictions\\n\\n    def reduce_exposure(\\n        self, prediction, features, max_exp, input_size=50, weights=None\\n    ):\\n        model = tf.keras.models.Sequential(\\n            [\\n                tf.keras.layers.Input(input_size),\\n                tf.keras.experimental.LinearModel(use_bias=False),\\n            ]\\n        )\\n        feats = tf.convert_to_tensor(features - 0.5, dtype=tf.float32)\\n        pred = tf.convert_to_tensor(prediction, dtype=tf.float32)\\n        if weights is None:\\n            optimizer = tf.keras.optimizers.Adamax()\\n            start_exp = self.__exposures(feats, pred[:, None])\\n            target_exps = tf.clip_by_value(start_exp, -max_exp, max_exp)\\n            self._train_loop(model, optimizer, feats, pred, target_exps)\\n        else:\\n            model.set_weights(weights)\\n        return pred[:, None] - model(feats), model.get_weights()\\n\\n    def _train_loop(self, model, optimizer, feats, pred, target_exps):\\n        for i in range(1000000):\\n            loss, grads = self.__train_loop_body(model, feats, pred, target_exps)\\n            optimizer.apply_gradients(zip(grads, model.trainable_variables))\\n            if loss < 1e-7:\\n                break\\n\\n    @tf.function(experimental_relax_shapes=True)\\n    def __train_loop_body(self, model, feats, pred, target_exps):\\n        with tf.GradientTape() as tape:\\n            exps = self.exposures(feats, pred[:, None] - model(feats, training=True))\\n            loss = tf.reduce_sum(\\n                tf.nn.relu(tf.nn.relu(exps) - tf.nn.relu(target_exps))\\n                + tf.nn.relu(tf.nn.relu(-exps) - tf.nn.relu(-target_exps))\\n            )\\n        return loss, tape.gradient(loss, model.trainable_variables)\\n\\n    @staticmethod\\n    @tf.function(experimental_relax_shapes=True, experimental_compile=True)\\n    def __exposures(x, y):\\n        x = x - tf.math.reduce_mean(x, axis=0)\\n        x = x / tf.norm(x, axis=0)\\n        y = y - tf.math.reduce_mean(y, axis=0)\\n        y = y / tf.norm(y, axis=0)\\n        return tf.matmul(x, y, transpose_a=True)\";\n                var nbb_cells = Jupyter.notebook.get_cells();\n                for (var i = 0; i < nbb_cells.length; ++i) {\n                    if (nbb_cells[i].input_prompt_number == nbb_cell_id) {\n                        if (nbb_cells[i].get_text() == nbb_unformatted_code) {\n                             nbb_cells[i].set_text(nbb_formatted_code);\n                        }\n                        break;\n                    }\n                }\n            }, 500);\n            "
     },
     "metadata": {},
     "output_type": "display_data"
    }
   ],
   "source": [
    "# TODO Test Feature penalizer"
   ],
   "metadata": {
    "collapsed": false,
    "pycharm": {
     "name": "#%%\n"
    }
   }
  },
  {
   "cell_type": "markdown",
   "source": [
    "### 1.2. Version 1 specific"
   ],
   "metadata": {
    "collapsed": false
   }
  },
  {
   "cell_type": "markdown",
   "source": [
    "### 1.3. Version 2 specific"
   ],
   "metadata": {
    "collapsed": false
   }
  },
  {
   "cell_type": "markdown",
   "source": [
    "### 1.4. Signals specific"
   ],
   "metadata": {
    "collapsed": false
   }
  },
  {
   "cell_type": "markdown",
   "metadata": {},
   "source": [
    "## 2. Custom PostProcessors"
   ]
  },
  {
   "cell_type": "markdown",
   "metadata": {},
   "source": [
    "There are an almost unlimited number of ways to postprocess data. We invite the Numerai community to develop Numerai Classic and Signals preprocessors for `numerai-blocks`.\n",
    "\n",
    "A new PostProcessor should inherit from `BaseProcessor` and implement a `transform` method. The `transform` method should take a `Dataset` as input and return a `Dataset` object as output. An example is given below.\n",
    "\n",
    "We recommend adding `@typechecked` at the top of a new PostProcessor class to enforce types and provide useful debugging stacktraces.\n",
    "\n",
    "To enable fancy logging output. Add the `@display_processor_info` decorator to the `transform` method.\n",
    "\n",
    "Note that arbitrary metadata can be added or changed in the `Dataset` class during a postprocessing step.\n",
    "\n"
   ]
  },
  {
   "cell_type": "code",
   "execution_count": 13,
   "metadata": {},
   "outputs": [
    {
     "data": {
      "text/plain": "<IPython.core.display.Javascript object>",
      "application/javascript": "\n            setTimeout(function() {\n                var nbb_cell_id = 13;\n                var nbb_unformatted_code = \"#export\\n@typechecked\\nclass AwesomePostProcessor(BaseProcessor):\\n    \\\"\\\"\\\"\\n    - TEMPLATE -\\n    Do some awesome postprocessing.\\n    \\\"\\\"\\\"\\n    def __init__(self, *args, **kwargs):\\n        super(AwesomePostProcessor, self).__init__()\\n\\n    @display_processor_info\\n    def transform(self, dataset: Dataset, *args, **kwargs) -> Dataset:\\n        # Do processing\\n        ...\\n        # Add new column for manipulated data (optional)\\n        new_column_name = \\\"NEW_COLUMN_NAME\\\"\\n        dataset.dataf.loc[:, f\\\"prediction_{new_column_name}\\\"] = ...\\n        ...\\n        # Parse all contents of Dataset to the next pipeline step\\n        return Dataset(**dataset.__dict__)\";\n                var nbb_formatted_code = \"# export\\n@typechecked\\nclass AwesomePostProcessor(BaseProcessor):\\n    \\\"\\\"\\\"\\n    - TEMPLATE -\\n    Do some awesome postprocessing.\\n    \\\"\\\"\\\"\\n\\n    def __init__(self, *args, **kwargs):\\n        super(AwesomePostProcessor, self).__init__()\\n\\n    @display_processor_info\\n    def transform(self, dataset: Dataset, *args, **kwargs) -> Dataset:\\n        # Do processing\\n        ...\\n        # Add new column for manipulated data (optional)\\n        new_column_name = \\\"NEW_COLUMN_NAME\\\"\\n        dataset.dataf.loc[:, f\\\"prediction_{new_column_name}\\\"] = ...\\n        ...\\n        # Parse all contents of Dataset to the next pipeline step\\n        return Dataset(**dataset.__dict__)\";\n                var nbb_cells = Jupyter.notebook.get_cells();\n                for (var i = 0; i < nbb_cells.length; ++i) {\n                    if (nbb_cells[i].input_prompt_number == nbb_cell_id) {\n                        if (nbb_cells[i].get_text() == nbb_unformatted_code) {\n                             nbb_cells[i].set_text(nbb_formatted_code);\n                        }\n                        break;\n                    }\n                }\n            }, 500);\n            "
     },
     "metadata": {},
     "output_type": "display_data"
    }
   ],
   "source": [
    "#export\n",
    "@typechecked\n",
    "class AwesomePostProcessor(BaseProcessor):\n",
    "    \"\"\"\n",
    "    - TEMPLATE -\n",
    "    Do some awesome postprocessing.\n",
    "    \"\"\"\n",
    "    def __init__(self, *args, **kwargs):\n",
    "        super(AwesomePostProcessor, self).__init__()\n",
    "\n",
    "    @display_processor_info\n",
    "    def transform(self, dataset: Dataset, *args, **kwargs) -> Dataset:\n",
    "        # Do processing\n",
    "        ...\n",
    "        # Add new column for manipulated data (optional)\n",
    "        new_column_name = \"NEW_COLUMN_NAME\"\n",
    "        dataset.dataf.loc[:, f\"prediction_{new_column_name}\"] = ...\n",
    "        ...\n",
    "        # Parse all contents of Dataset to the next pipeline step\n",
    "        return Dataset(**dataset.__dict__)"
   ]
  },
  {
   "cell_type": "markdown",
   "metadata": {},
   "source": [
    "------------------------------------------------------"
   ]
  },
  {
   "cell_type": "code",
   "execution_count": 14,
   "metadata": {},
   "outputs": [
    {
     "name": "stdout",
     "output_type": "stream",
     "text": [
      "Converted 01_download.ipynb.\n",
      "Converted 02_dataset.ipynb.\n",
      "Converted 03_preprocessing.ipynb.\n",
      "Converted 04_model.ipynb.\n",
      "Converted 05_postprocessing.ipynb.\n",
      "Converted 06_modelpipeline.ipynb.\n",
      "Converted 07_evaluation.ipynb.\n",
      "Converted 08_key.ipynb.\n",
      "Converted 09_submission.ipynb.\n",
      "Converted 10_staking.ipynb.\n",
      "Converted index.ipynb.\n"
     ]
    },
    {
     "data": {
      "text/plain": "<IPython.core.display.Javascript object>",
      "application/javascript": "\n            setTimeout(function() {\n                var nbb_cell_id = 14;\n                var nbb_unformatted_code = \"# hide\\n# Run this cell to sync all changes with library\\nfrom nbdev.export import notebook2script\\n\\nnotebook2script()\";\n                var nbb_formatted_code = \"# hide\\n# Run this cell to sync all changes with library\\nfrom nbdev.export import notebook2script\\n\\nnotebook2script()\";\n                var nbb_cells = Jupyter.notebook.get_cells();\n                for (var i = 0; i < nbb_cells.length; ++i) {\n                    if (nbb_cells[i].input_prompt_number == nbb_cell_id) {\n                        if (nbb_cells[i].get_text() == nbb_unformatted_code) {\n                             nbb_cells[i].set_text(nbb_formatted_code);\n                        }\n                        break;\n                    }\n                }\n            }, 500);\n            "
     },
     "metadata": {},
     "output_type": "display_data"
    }
   ],
   "source": [
    "# hide\n",
    "# Run this cell to sync all changes with library\n",
    "from nbdev.export import notebook2script\n",
    "\n",
    "notebook2script()"
   ]
  },
  {
   "cell_type": "code",
   "execution_count": 14,
   "metadata": {},
   "outputs": [
    {
     "data": {
      "text/plain": "<IPython.core.display.Javascript object>",
      "application/javascript": "\n            setTimeout(function() {\n                var nbb_cell_id = 14;\n                var nbb_unformatted_code = \"# hide\\n# Run this cell to sync all changes with library\\nfrom nbdev.export import notebook2script\\n\\nnotebook2script()\";\n                var nbb_formatted_code = \"# hide\\n# Run this cell to sync all changes with library\\nfrom nbdev.export import notebook2script\\n\\nnotebook2script()\";\n                var nbb_cells = Jupyter.notebook.get_cells();\n                for (var i = 0; i < nbb_cells.length; ++i) {\n                    if (nbb_cells[i].input_prompt_number == nbb_cell_id) {\n                        if (nbb_cells[i].get_text() == nbb_unformatted_code) {\n                             nbb_cells[i].set_text(nbb_formatted_code);\n                        }\n                        break;\n                    }\n                }\n            }, 500);\n            "
     },
     "metadata": {},
     "output_type": "display_data"
    }
   ],
   "source": []
  }
 ],
 "metadata": {
  "kernelspec": {
   "display_name": "Python 3",
   "language": "python",
   "name": "python3"
  }
 },
 "nbformat": 4,
 "nbformat_minor": 0
}