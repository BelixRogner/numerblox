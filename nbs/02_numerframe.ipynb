{
 "cells": [
  {
   "cell_type": "code",
   "execution_count": 1,
   "metadata": {},
   "outputs": [
    {
     "data": {
      "text/plain": "<IPython.core.display.Javascript object>",
      "application/javascript": "\n            setTimeout(function() {\n                var nbb_cell_id = 1;\n                var nbb_unformatted_code = \"#hide\\n%load_ext autoreload\\n%autoreload 2\\n%load_ext nb_black\\n%load_ext lab_black\";\n                var nbb_formatted_code = \"# hide\\n%load_ext autoreload\\n%autoreload 2\\n%load_ext nb_black\\n%load_ext lab_black\";\n                var nbb_cells = Jupyter.notebook.get_cells();\n                for (var i = 0; i < nbb_cells.length; ++i) {\n                    if (nbb_cells[i].input_prompt_number == nbb_cell_id) {\n                        if (nbb_cells[i].get_text() == nbb_unformatted_code) {\n                             nbb_cells[i].set_text(nbb_formatted_code);\n                        }\n                        break;\n                    }\n                }\n            }, 500);\n            "
     },
     "metadata": {},
     "output_type": "display_data"
    }
   ],
   "source": [
    "#hide\n",
    "%load_ext autoreload\n",
    "%autoreload 2\n",
    "%load_ext nb_black\n",
    "%load_ext lab_black"
   ]
  },
  {
   "cell_type": "code",
   "execution_count": 2,
   "metadata": {},
   "outputs": [
    {
     "data": {
      "text/plain": "<IPython.core.display.Javascript object>",
      "application/javascript": "\n            setTimeout(function() {\n                var nbb_cell_id = 2;\n                var nbb_unformatted_code = \"# default_exp numerframe\";\n                var nbb_formatted_code = \"# default_exp numerframe\";\n                var nbb_cells = Jupyter.notebook.get_cells();\n                for (var i = 0; i < nbb_cells.length; ++i) {\n                    if (nbb_cells[i].input_prompt_number == nbb_cell_id) {\n                        if (nbb_cells[i].get_text() == nbb_unformatted_code) {\n                             nbb_cells[i].set_text(nbb_formatted_code);\n                        }\n                        break;\n                    }\n                }\n            }, 500);\n            "
     },
     "metadata": {},
     "output_type": "display_data"
    }
   ],
   "source": [
    "# default_exp numerframe"
   ]
  },
  {
   "cell_type": "markdown",
   "metadata": {},
   "source": [
    "# NumerFrame\n",
    "> Custom data structure for Numerai data. Extends Pandas DataFrame."
   ]
  },
  {
   "cell_type": "code",
   "execution_count": 3,
   "metadata": {},
   "outputs": [
    {
     "data": {
      "text/plain": "<IPython.core.display.Javascript object>",
      "application/javascript": "\n            setTimeout(function() {\n                var nbb_cell_id = 3;\n                var nbb_unformatted_code = \"# hide\\nfrom nbdev.showdoc import *\";\n                var nbb_formatted_code = \"# hide\\nfrom nbdev.showdoc import *\";\n                var nbb_cells = Jupyter.notebook.get_cells();\n                for (var i = 0; i < nbb_cells.length; ++i) {\n                    if (nbb_cells[i].input_prompt_number == nbb_cell_id) {\n                        if (nbb_cells[i].get_text() == nbb_unformatted_code) {\n                             nbb_cells[i].set_text(nbb_formatted_code);\n                        }\n                        break;\n                    }\n                }\n            }, 500);\n            "
     },
     "metadata": {},
     "output_type": "display_data"
    }
   ],
   "source": [
    "# hide\n",
    "from nbdev.showdoc import *"
   ]
  },
  {
   "cell_type": "code",
   "execution_count": 4,
   "metadata": {},
   "outputs": [
    {
     "data": {
      "text/plain": "<IPython.core.display.Javascript object>",
      "application/javascript": "\n            setTimeout(function() {\n                var nbb_cell_id = 4;\n                var nbb_unformatted_code = \"# export\\nimport uuid\\nimport json\\nimport numpy as np\\nimport pandas as pd\\nimport tensorflow as tf\\nfrom pathlib import Path\\nfrom rich import print as rich_print\\nfrom pandas_profiling import ProfileReport\\nfrom typing import Union, Tuple, Any, List\\n\\nfrom numerblox.misc import AttrDict\";\n                var nbb_formatted_code = \"# export\\nimport uuid\\nimport json\\nimport numpy as np\\nimport pandas as pd\\nimport tensorflow as tf\\nfrom pathlib import Path\\nfrom rich import print as rich_print\\nfrom pandas_profiling import ProfileReport\\nfrom typing import Union, Tuple, Any, List\\n\\nfrom numerblox.misc import AttrDict\";\n                var nbb_cells = Jupyter.notebook.get_cells();\n                for (var i = 0; i < nbb_cells.length; ++i) {\n                    if (nbb_cells[i].input_prompt_number == nbb_cell_id) {\n                        if (nbb_cells[i].get_text() == nbb_unformatted_code) {\n                             nbb_cells[i].set_text(nbb_formatted_code);\n                        }\n                        break;\n                    }\n                }\n            }, 500);\n            "
     },
     "metadata": {},
     "output_type": "display_data"
    }
   ],
   "source": [
    "# export\n",
    "import uuid\n",
    "import json\n",
    "import numpy as np\n",
    "import pandas as pd\n",
    "import tensorflow as tf\n",
    "from pathlib import Path\n",
    "from rich import print as rich_print\n",
    "from pandas_profiling import ProfileReport\n",
    "from typing import Union, Tuple, Any, List\n",
    "\n",
    "from numerblox.misc import AttrDict"
   ]
  },
  {
   "cell_type": "markdown",
   "metadata": {},
   "source": [
    "## Overview: The NumerFrame"
   ]
  },
  {
   "cell_type": "markdown",
   "source": [
    "`NumerFrame` is a data structure that extends `pd.DataFrame` with functionality convenient for Numerai users. The main benefits include:\n",
    "1. Automatically track features, targets, prediction and other columns + easily retrieve these data slices.\n",
    "2. Add, export and import metadata. Furthermore, dynamically update or manipulate metadata within your Numerai data pipeline.\n",
    "3. Other library functionality automatically recognizes era column (`era` or `friday_date`).\n",
    "4. Integrations with other library components (i.e. `preprocessing`, `model`, `modelpipeline`, `postprocessing`, `evaluation` and `submission`) to create more solid inference pipelines and increase reliability.\n",
    "\n",
    "Besides, all functionality of Pandas DataFrames is still available in the `NumerFrame`. You therefore don't have to create new pipelines to process your data when using `NumerFrame`."
   ],
   "metadata": {
    "collapsed": false
   }
  },
  {
   "cell_type": "markdown",
   "metadata": {},
   "source": [
    "We adopt the convention:\n",
    " 1. All feature column names should start with `'feature'`.\n",
    " 2. All target column names should start with `'target'`.\n",
    " 3. All prediction column names should start with `'prediction'`.\n",
    " 4. Data should contain an `'era'` or `'friday_date'` column, as is almost always the case with Numerai datasets.\n",
    "\n",
    "Every column for which these conditions do not hold will be classified as an `'aux'` column."
   ]
  },
  {
   "cell_type": "code",
   "execution_count": 5,
   "metadata": {},
   "outputs": [
    {
     "data": {
      "text/plain": "<IPython.core.display.Javascript object>",
      "application/javascript": "\n            setTimeout(function() {\n                var nbb_cell_id = 5;\n                var nbb_unformatted_code = \"# export\\nclass NumerFrame(pd.DataFrame):\\n    \\\"\\\"\\\"\\n    Data structure which extends Pandas DataFrames and\\n    allows for additional Numerai specific functionality.\\n    \\\"\\\"\\\"\\n    _metadata = [\\\"meta\\\", \\\"feature_cols\\\", \\\"target_cols\\\",\\n                 \\\"prediction_cols\\\", \\\"not_aux_cols\\\", \\\"aux_cols\\\"]\\n    meta = AttrDict()\\n\\n    def __init__(self, *args, **kwargs):\\n        super().__init__(*args, **kwargs)\\n        self.__init_meta_attrs()\\n        if not \\\"era_col_verified\\\" in self.meta:\\n            self.__set_era_col()\\n\\n    @property\\n    def _constructor(self):\\n        return NumerFrame\\n\\n    def __init_meta_attrs(self):\\n        \\\"\\\"\\\" Dynamically track column groups. \\\"\\\"\\\"\\n        self.feature_cols = [col for col in self.columns if str(col).startswith(\\\"feature\\\")]\\n        self.target_cols = [col for col in self.columns if str(col).startswith(\\\"target\\\")]\\n        self.prediction_cols = [\\n            col for col in self.columns if str(col).startswith(\\\"prediction\\\")\\n        ]\\n        self.not_aux_cols = self.feature_cols + self.target_cols + self.prediction_cols\\n        self.aux_cols = [\\n            col for col in self.columns if col not in self.not_aux_cols\\n        ]\\n\\n    def __set_era_col(self):\\n        \\\"\\\"\\\" Each NumerFrame should have an era column to benefit from all functionality. \\\"\\\"\\\"\\n        if \\\"era\\\" in self.columns:\\n            self.meta.era_col = \\\"era\\\"\\n        elif \\\"friday_date\\\" in self.columns:\\n            self.meta.era_col = \\\"friday_date\\\"\\n        else:\\n            raise AttributeError(\\\"NumerFrame must contain either an 'era' or 'friday_date' column.\\\")\\n        self.meta.era_col_verified = True\\n\\n    def add_metadata(self, *args, **kwargs):\\n        \\\"\\\"\\\" Parse arbitrary metadata (i.e. Python objects) to the meta attribute. \\\"\\\"\\\"\\n        self.meta.update(*args, **kwargs)\\n\\n    def export_json_metadata(self, file=\\\"config.json\\\", verbose=False, **kwargs):\\n        \\\"\\\"\\\"Export all attributes in NumerFrame that can be serialized to json file.\\\"\\\"\\\"\\n        rich_print(f\\\":file_folder: Exporting metadata to {file} :file_folder:\\\")\\n        json_txt = json.dumps(\\n            self.meta.__dict__, default=lambda o: \\\"<not serializable>\\\", **kwargs\\n        )\\n        if verbose:\\n            rich_print(json_txt)\\n        Path(file).write_text(json_txt)\\n\\n    def import_json_metadata(self, file=\\\"config.json\\\", verbose=False, **kwargs):\\n        \\\"\\\"\\\"Load arbitrary data into NumerFrame object from json file.\\\"\\\"\\\"\\n        rich_print(f\\\":file_folder: Importing metadata from {file} :file_folder:\\\")\\n        with open(file) as json_file:\\n            json_data = json.load(json_file, **kwargs)\\n        if verbose:\\n            rich_print(json_data)\\n        self.meta.__dict__.update(json_data)\\n\\n    def get_column_selection(self, cols: Union[str, list]):\\n        \\\"\\\"\\\" Return NumerFrame from selection of columns. \\\"\\\"\\\"\\n        return self.loc[:, cols if isinstance(cols, list) else [cols]]\\n\\n    @property\\n    def get_feature_data(self):\\n        \\\"\\\"\\\" All columns for which name starts with 'target'.\\\"\\\"\\\"\\n        return self.get_column_selection(cols=self.feature_cols)\\n\\n    @property\\n    def get_target_data(self):\\n        \\\"\\\"\\\" All columns for which name starts with 'target'.\\\"\\\"\\\"\\n        return self.get_column_selection(cols=self.target_cols)\\n\\n    @property\\n    def get_single_target_data(self):\\n        \\\"\\\"\\\" Column with name 'target' (Main Numerai target column). \\\"\\\"\\\"\\n        return self.get_column_selection(cols=['target'])\\n\\n    @property\\n    def get_prediction_data(self):\\n        \\\"\\\"\\\" All columns for which name starts with 'prediction'.\\\"\\\"\\\"\\n        return self.get_column_selection(cols=self.prediction_cols)\\n\\n    @property\\n    def get_aux_data(self):\\n        \\\"\\\"\\\" All columns that are not features, targets or predictions. \\\"\\\"\\\"\\n        return self.get_column_selection(cols=self.aux_cols)\\n\\n    def get_feature_target_pair(self, multi_target=False) -> Tuple[Any, Any]:\\n        \\\"\\\"\\\"\\n        Get split of feature and target columns.\\n        :param multi_target: Returns only 'target' column by default.\\n        Returns all target columns when set to True.\\n        \\\"\\\"\\\"\\n        X = self.get_feature_data\\n        y = self.get_target_data if multi_target else self.get_single_target_data\\n        return X, y\\n\\n    def get_era_batch(self, eras: List[Any],\\n                      convert_to_tf = False,\\n                      aemlp_batch = False,\\n                      features: list = None,\\n                      targets: list = None,\\n                      *args, **kwargs) -> tuple:\\n        \\\"\\\"\\\"\\n        Get feature target pair batch of 1 or multiple eras. \\\\n\\n        :param eras: Selection of era names that should be present in era_col. \\\\n\\n        :param convert_to_tf: Convert to tf.Tensor. \\\\n\\n        :param aemlp_batch: Specific target batch for autoencoder training. \\\\n\\n        `y` output will contain three components: features, targets and targets. \\\\n\\n        :param features: List of features to select. All by default \\\\n\\n        :param targets: List of targets to select. All by default. \\\\n\\n        *args, **kwargs are passed to initialization of Tensor.\\n        \\\"\\\"\\\"\\n        valid_eras = []\\n        for era in eras:\\n            assert era in self[self.meta.era_col].unique(), f\\\"Era '{era}' not found in era column ({self.meta.era_col})\\\"\\n            valid_eras.append(era)\\n        features = features if features else self.feature_cols\\n        targets = targets if targets else self.target_cols\\n        X = self.loc[self[self.meta.era_col].isin(valid_eras)][features].values\\n        y = self.loc[self[self.meta.era_col].isin(valid_eras)][targets].values\\n        if aemlp_batch:\\n            y = [X.copy(), y.copy(), y.copy()]\\n\\n        if convert_to_tf:\\n            X = tf.convert_to_tensor(X, *args, **kwargs)\\n            if aemlp_batch:\\n                y = [tf.convert_to_tensor(i, *args, **kwargs) for i in y]\\n            else:\\n                y = tf.convert_to_tensor(y, *args, **kwargs)\\n        return X, y\\n\\n    def profile_report(self, *args, **kwargs) -> ProfileReport:\\n        \\\"\\\"\\\"\\n        DataFrame profiling. Might take a while to generate for large datasets.\\n        For more info: https://pandas-profiling.github.io/pandas-profiling/docs/master/index.html\\n        *args, **kwargs will be passed to ProfileReport initialization.\\n        \\\"\\\"\\\"\\n        return ProfileReport(self, *args, **kwargs)\";\n                var nbb_formatted_code = \"# export\\nclass NumerFrame(pd.DataFrame):\\n    \\\"\\\"\\\"\\n    Data structure which extends Pandas DataFrames and\\n    allows for additional Numerai specific functionality.\\n    \\\"\\\"\\\"\\n\\n    _metadata = [\\n        \\\"meta\\\",\\n        \\\"feature_cols\\\",\\n        \\\"target_cols\\\",\\n        \\\"prediction_cols\\\",\\n        \\\"not_aux_cols\\\",\\n        \\\"aux_cols\\\",\\n    ]\\n    meta = AttrDict()\\n\\n    def __init__(self, *args, **kwargs):\\n        super().__init__(*args, **kwargs)\\n        self.__init_meta_attrs()\\n        if not \\\"era_col_verified\\\" in self.meta:\\n            self.__set_era_col()\\n\\n    @property\\n    def _constructor(self):\\n        return NumerFrame\\n\\n    def __init_meta_attrs(self):\\n        \\\"\\\"\\\"Dynamically track column groups.\\\"\\\"\\\"\\n        self.feature_cols = [\\n            col for col in self.columns if str(col).startswith(\\\"feature\\\")\\n        ]\\n        self.target_cols = [\\n            col for col in self.columns if str(col).startswith(\\\"target\\\")\\n        ]\\n        self.prediction_cols = [\\n            col for col in self.columns if str(col).startswith(\\\"prediction\\\")\\n        ]\\n        self.not_aux_cols = self.feature_cols + self.target_cols + self.prediction_cols\\n        self.aux_cols = [col for col in self.columns if col not in self.not_aux_cols]\\n\\n    def __set_era_col(self):\\n        \\\"\\\"\\\"Each NumerFrame should have an era column to benefit from all functionality.\\\"\\\"\\\"\\n        if \\\"era\\\" in self.columns:\\n            self.meta.era_col = \\\"era\\\"\\n        elif \\\"friday_date\\\" in self.columns:\\n            self.meta.era_col = \\\"friday_date\\\"\\n        else:\\n            raise AttributeError(\\n                \\\"NumerFrame must contain either an 'era' or 'friday_date' column.\\\"\\n            )\\n        self.meta.era_col_verified = True\\n\\n    def add_metadata(self, *args, **kwargs):\\n        \\\"\\\"\\\"Parse arbitrary metadata (i.e. Python objects) to the meta attribute.\\\"\\\"\\\"\\n        self.meta.update(*args, **kwargs)\\n\\n    def export_json_metadata(self, file=\\\"config.json\\\", verbose=False, **kwargs):\\n        \\\"\\\"\\\"Export all attributes in NumerFrame that can be serialized to json file.\\\"\\\"\\\"\\n        rich_print(f\\\":file_folder: Exporting metadata to {file} :file_folder:\\\")\\n        json_txt = json.dumps(\\n            self.meta.__dict__, default=lambda o: \\\"<not serializable>\\\", **kwargs\\n        )\\n        if verbose:\\n            rich_print(json_txt)\\n        Path(file).write_text(json_txt)\\n\\n    def import_json_metadata(self, file=\\\"config.json\\\", verbose=False, **kwargs):\\n        \\\"\\\"\\\"Load arbitrary data into NumerFrame object from json file.\\\"\\\"\\\"\\n        rich_print(f\\\":file_folder: Importing metadata from {file} :file_folder:\\\")\\n        with open(file) as json_file:\\n            json_data = json.load(json_file, **kwargs)\\n        if verbose:\\n            rich_print(json_data)\\n        self.meta.__dict__.update(json_data)\\n\\n    def get_column_selection(self, cols: Union[str, list]):\\n        \\\"\\\"\\\"Return NumerFrame from selection of columns.\\\"\\\"\\\"\\n        return self.loc[:, cols if isinstance(cols, list) else [cols]]\\n\\n    @property\\n    def get_feature_data(self):\\n        \\\"\\\"\\\"All columns for which name starts with 'target'.\\\"\\\"\\\"\\n        return self.get_column_selection(cols=self.feature_cols)\\n\\n    @property\\n    def get_target_data(self):\\n        \\\"\\\"\\\"All columns for which name starts with 'target'.\\\"\\\"\\\"\\n        return self.get_column_selection(cols=self.target_cols)\\n\\n    @property\\n    def get_single_target_data(self):\\n        \\\"\\\"\\\"Column with name 'target' (Main Numerai target column).\\\"\\\"\\\"\\n        return self.get_column_selection(cols=[\\\"target\\\"])\\n\\n    @property\\n    def get_prediction_data(self):\\n        \\\"\\\"\\\"All columns for which name starts with 'prediction'.\\\"\\\"\\\"\\n        return self.get_column_selection(cols=self.prediction_cols)\\n\\n    @property\\n    def get_aux_data(self):\\n        \\\"\\\"\\\"All columns that are not features, targets or predictions.\\\"\\\"\\\"\\n        return self.get_column_selection(cols=self.aux_cols)\\n\\n    def get_feature_target_pair(self, multi_target=False) -> Tuple[Any, Any]:\\n        \\\"\\\"\\\"\\n        Get split of feature and target columns.\\n        :param multi_target: Returns only 'target' column by default.\\n        Returns all target columns when set to True.\\n        \\\"\\\"\\\"\\n        X = self.get_feature_data\\n        y = self.get_target_data if multi_target else self.get_single_target_data\\n        return X, y\\n\\n    def get_era_batch(\\n        self,\\n        eras: List[Any],\\n        convert_to_tf=False,\\n        aemlp_batch=False,\\n        features: list = None,\\n        targets: list = None,\\n        *args,\\n        **kwargs,\\n    ) -> tuple:\\n        \\\"\\\"\\\"\\n        Get feature target pair batch of 1 or multiple eras. \\\\n\\n        :param eras: Selection of era names that should be present in era_col. \\\\n\\n        :param convert_to_tf: Convert to tf.Tensor. \\\\n\\n        :param aemlp_batch: Specific target batch for autoencoder training. \\\\n\\n        `y` output will contain three components: features, targets and targets. \\\\n\\n        :param features: List of features to select. All by default \\\\n\\n        :param targets: List of targets to select. All by default. \\\\n\\n        *args, **kwargs are passed to initialization of Tensor.\\n        \\\"\\\"\\\"\\n        valid_eras = []\\n        for era in eras:\\n            assert (\\n                era in self[self.meta.era_col].unique()\\n            ), f\\\"Era '{era}' not found in era column ({self.meta.era_col})\\\"\\n            valid_eras.append(era)\\n        features = features if features else self.feature_cols\\n        targets = targets if targets else self.target_cols\\n        X = self.loc[self[self.meta.era_col].isin(valid_eras)][features].values\\n        y = self.loc[self[self.meta.era_col].isin(valid_eras)][targets].values\\n        if aemlp_batch:\\n            y = [X.copy(), y.copy(), y.copy()]\\n\\n        if convert_to_tf:\\n            X = tf.convert_to_tensor(X, *args, **kwargs)\\n            if aemlp_batch:\\n                y = [tf.convert_to_tensor(i, *args, **kwargs) for i in y]\\n            else:\\n                y = tf.convert_to_tensor(y, *args, **kwargs)\\n        return X, y\\n\\n    def profile_report(self, *args, **kwargs) -> ProfileReport:\\n        \\\"\\\"\\\"\\n        DataFrame profiling. Might take a while to generate for large datasets.\\n        For more info: https://pandas-profiling.github.io/pandas-profiling/docs/master/index.html\\n        *args, **kwargs will be passed to ProfileReport initialization.\\n        \\\"\\\"\\\"\\n        return ProfileReport(self, *args, **kwargs)\";\n                var nbb_cells = Jupyter.notebook.get_cells();\n                for (var i = 0; i < nbb_cells.length; ++i) {\n                    if (nbb_cells[i].input_prompt_number == nbb_cell_id) {\n                        if (nbb_cells[i].get_text() == nbb_unformatted_code) {\n                             nbb_cells[i].set_text(nbb_formatted_code);\n                        }\n                        break;\n                    }\n                }\n            }, 500);\n            "
     },
     "metadata": {},
     "output_type": "display_data"
    }
   ],
   "source": [
    "# export\n",
    "class NumerFrame(pd.DataFrame):\n",
    "    \"\"\"\n",
    "    Data structure which extends Pandas DataFrames and\n",
    "    allows for additional Numerai specific functionality.\n",
    "    \"\"\"\n",
    "    _metadata = [\"meta\", \"feature_cols\", \"target_cols\",\n",
    "                 \"prediction_cols\", \"not_aux_cols\", \"aux_cols\"]\n",
    "    meta = AttrDict()\n",
    "\n",
    "    def __init__(self, *args, **kwargs):\n",
    "        super().__init__(*args, **kwargs)\n",
    "        self.__init_meta_attrs()\n",
    "        if not \"era_col_verified\" in self.meta:\n",
    "            self.__set_era_col()\n",
    "\n",
    "    @property\n",
    "    def _constructor(self):\n",
    "        return NumerFrame\n",
    "\n",
    "    def __init_meta_attrs(self):\n",
    "        \"\"\" Dynamically track column groups. \"\"\"\n",
    "        self.feature_cols = [col for col in self.columns if str(col).startswith(\"feature\")]\n",
    "        self.target_cols = [col for col in self.columns if str(col).startswith(\"target\")]\n",
    "        self.prediction_cols = [\n",
    "            col for col in self.columns if str(col).startswith(\"prediction\")\n",
    "        ]\n",
    "        self.not_aux_cols = self.feature_cols + self.target_cols + self.prediction_cols\n",
    "        self.aux_cols = [\n",
    "            col for col in self.columns if col not in self.not_aux_cols\n",
    "        ]\n",
    "\n",
    "    def __set_era_col(self):\n",
    "        \"\"\" Each NumerFrame should have an era column to benefit from all functionality. \"\"\"\n",
    "        if \"era\" in self.columns:\n",
    "            self.meta.era_col = \"era\"\n",
    "        elif \"friday_date\" in self.columns:\n",
    "            self.meta.era_col = \"friday_date\"\n",
    "        else:\n",
    "            raise AttributeError(\"NumerFrame must contain either an 'era' or 'friday_date' column.\")\n",
    "        self.meta.era_col_verified = True\n",
    "\n",
    "    def add_metadata(self, *args, **kwargs):\n",
    "        \"\"\" Parse arbitrary metadata (i.e. Python objects) to the meta attribute. \"\"\"\n",
    "        self.meta.update(*args, **kwargs)\n",
    "\n",
    "    def export_json_metadata(self, file=\"config.json\", verbose=False, **kwargs):\n",
    "        \"\"\"Export all attributes in NumerFrame that can be serialized to json file.\"\"\"\n",
    "        rich_print(f\":file_folder: Exporting metadata to {file} :file_folder:\")\n",
    "        json_txt = json.dumps(\n",
    "            self.meta.__dict__, default=lambda o: \"<not serializable>\", **kwargs\n",
    "        )\n",
    "        if verbose:\n",
    "            rich_print(json_txt)\n",
    "        Path(file).write_text(json_txt)\n",
    "\n",
    "    def import_json_metadata(self, file=\"config.json\", verbose=False, **kwargs):\n",
    "        \"\"\"Load arbitrary data into NumerFrame object from json file.\"\"\"\n",
    "        rich_print(f\":file_folder: Importing metadata from {file} :file_folder:\")\n",
    "        with open(file) as json_file:\n",
    "            json_data = json.load(json_file, **kwargs)\n",
    "        if verbose:\n",
    "            rich_print(json_data)\n",
    "        self.meta.__dict__.update(json_data)\n",
    "\n",
    "    def get_column_selection(self, cols: Union[str, list]):\n",
    "        \"\"\" Return NumerFrame from selection of columns. \"\"\"\n",
    "        return self.loc[:, cols if isinstance(cols, list) else [cols]]\n",
    "\n",
    "    @property\n",
    "    def get_feature_data(self):\n",
    "        \"\"\" All columns for which name starts with 'target'.\"\"\"\n",
    "        return self.get_column_selection(cols=self.feature_cols)\n",
    "\n",
    "    @property\n",
    "    def get_target_data(self):\n",
    "        \"\"\" All columns for which name starts with 'target'.\"\"\"\n",
    "        return self.get_column_selection(cols=self.target_cols)\n",
    "\n",
    "    @property\n",
    "    def get_single_target_data(self):\n",
    "        \"\"\" Column with name 'target' (Main Numerai target column). \"\"\"\n",
    "        return self.get_column_selection(cols=['target'])\n",
    "\n",
    "    @property\n",
    "    def get_prediction_data(self):\n",
    "        \"\"\" All columns for which name starts with 'prediction'.\"\"\"\n",
    "        return self.get_column_selection(cols=self.prediction_cols)\n",
    "\n",
    "    @property\n",
    "    def get_aux_data(self):\n",
    "        \"\"\" All columns that are not features, targets or predictions. \"\"\"\n",
    "        return self.get_column_selection(cols=self.aux_cols)\n",
    "\n",
    "    def get_feature_target_pair(self, multi_target=False) -> Tuple[Any, Any]:\n",
    "        \"\"\"\n",
    "        Get split of feature and target columns.\n",
    "        :param multi_target: Returns only 'target' column by default.\n",
    "        Returns all target columns when set to True.\n",
    "        \"\"\"\n",
    "        X = self.get_feature_data\n",
    "        y = self.get_target_data if multi_target else self.get_single_target_data\n",
    "        return X, y\n",
    "\n",
    "    def get_era_batch(self, eras: List[Any],\n",
    "                      convert_to_tf = False,\n",
    "                      aemlp_batch = False,\n",
    "                      features: list = None,\n",
    "                      targets: list = None,\n",
    "                      *args, **kwargs) -> tuple:\n",
    "        \"\"\"\n",
    "        Get feature target pair batch of 1 or multiple eras. \\n\n",
    "        :param eras: Selection of era names that should be present in era_col. \\n\n",
    "        :param convert_to_tf: Convert to tf.Tensor. \\n\n",
    "        :param aemlp_batch: Specific target batch for autoencoder training. \\n\n",
    "        `y` output will contain three components: features, targets and targets. \\n\n",
    "        :param features: List of features to select. All by default \\n\n",
    "        :param targets: List of targets to select. All by default. \\n\n",
    "        *args, **kwargs are passed to initialization of Tensor.\n",
    "        \"\"\"\n",
    "        valid_eras = []\n",
    "        for era in eras:\n",
    "            assert era in self[self.meta.era_col].unique(), f\"Era '{era}' not found in era column ({self.meta.era_col})\"\n",
    "            valid_eras.append(era)\n",
    "        features = features if features else self.feature_cols\n",
    "        targets = targets if targets else self.target_cols\n",
    "        X = self.loc[self[self.meta.era_col].isin(valid_eras)][features].values\n",
    "        y = self.loc[self[self.meta.era_col].isin(valid_eras)][targets].values\n",
    "        if aemlp_batch:\n",
    "            y = [X.copy(), y.copy(), y.copy()]\n",
    "\n",
    "        if convert_to_tf:\n",
    "            X = tf.convert_to_tensor(X, *args, **kwargs)\n",
    "            if aemlp_batch:\n",
    "                y = [tf.convert_to_tensor(i, *args, **kwargs) for i in y]\n",
    "            else:\n",
    "                y = tf.convert_to_tensor(y, *args, **kwargs)\n",
    "        return X, y\n",
    "\n",
    "    def profile_report(self, *args, **kwargs) -> ProfileReport:\n",
    "        \"\"\"\n",
    "        DataFrame profiling. Might take a while to generate for large datasets.\n",
    "        For more info: https://pandas-profiling.github.io/pandas-profiling/docs/master/index.html\n",
    "        *args, **kwargs will be passed to ProfileReport initialization.\n",
    "        \"\"\"\n",
    "        return ProfileReport(self, *args, **kwargs)"
   ]
  },
  {
   "cell_type": "markdown",
   "source": [
    "`create_numerframe` automatically recognizes your data file format, loads it into a `NumerFrame` and optionally adds metadata to it.\n",
    "\n",
    "Support file formats are `.csv`, `.parquet`, `.pkl`, `.pickle`, `.json`, `.xsl`, `.xslx`, `.xlsm`, `.xlsb`, `.odf`, `.ods` and `.odt`. If the file format for your use case is missing, feel free to create a Github issue or submit a pull request. See `README.md` for more information on contributing."
   ],
   "metadata": {
    "collapsed": false
   }
  },
  {
   "cell_type": "code",
   "execution_count": 6,
   "metadata": {},
   "outputs": [
    {
     "data": {
      "text/plain": "<IPython.core.display.Javascript object>",
      "application/javascript": "\n            setTimeout(function() {\n                var nbb_cell_id = 6;\n                var nbb_unformatted_code = \"#export\\ndef create_numerframe(file_path: str, metadata: dict = None, *args, **kwargs) -> NumerFrame:\\n    \\\"\\\"\\\"\\n    Convenient function to initialize NumerFrame.\\n    Support most used file formats for Pandas DataFrames (.csv, .parquet, .pkl, .json, .xls, etc.).\\n    For more details check https://pandas.pydata.org/docs/reference/io.html\\n\\n    :param file_path: Relative or absolute path to data file. \\\\n\\n    :param metadata: Metadata to be stored in NumerFrame.meta. \\\\n\\n    *args, **kwargs will be passed to Pandas loading function.\\n    \\\"\\\"\\\"\\n    assert Path(file_path).is_file(), f\\\"{file_path} does not point to file.\\\"\\n    suffix = Path(file_path).suffix\\n    if suffix in [\\\".csv\\\"]:\\n        dataf = pd.read_csv(file_path, *args, **kwargs)\\n    elif suffix in [\\\".parquet\\\"]:\\n        dataf = pd.read_parquet(file_path, *args, **kwargs)\\n    elif suffix in [\\\".pkl\\\", \\\".pickle\\\"]:\\n        dataf = pd.read_pickle(file_path, *args, **kwargs)\\n    elif suffix in [\\\".json\\\"]:\\n        dataf = pd.read_json(file_path, *args, **kwargs)\\n    elif suffix in [\\\".xls\\\", \\\".xlsx\\\", \\\".xlsm\\\", \\\"xlsb\\\", \\\".odf\\\", \\\".ods\\\", \\\".odt\\\"]:\\n        dataf = pd.read_excel(file_path, *args, **kwargs)\\n    else:\\n        raise NotImplementedError(f\\\"Suffix '{suffix}' is not supported.\\\")\\n    num_frame = NumerFrame(dataf)\\n    if metadata:\\n        num_frame.add_metadata(metadata)\\n    return num_frame\";\n                var nbb_formatted_code = \"# export\\ndef create_numerframe(\\n    file_path: str, metadata: dict = None, *args, **kwargs\\n) -> NumerFrame:\\n    \\\"\\\"\\\"\\n    Convenient function to initialize NumerFrame.\\n    Support most used file formats for Pandas DataFrames (.csv, .parquet, .pkl, .json, .xls, etc.).\\n    For more details check https://pandas.pydata.org/docs/reference/io.html\\n\\n    :param file_path: Relative or absolute path to data file. \\\\n\\n    :param metadata: Metadata to be stored in NumerFrame.meta. \\\\n\\n    *args, **kwargs will be passed to Pandas loading function.\\n    \\\"\\\"\\\"\\n    assert Path(file_path).is_file(), f\\\"{file_path} does not point to file.\\\"\\n    suffix = Path(file_path).suffix\\n    if suffix in [\\\".csv\\\"]:\\n        dataf = pd.read_csv(file_path, *args, **kwargs)\\n    elif suffix in [\\\".parquet\\\"]:\\n        dataf = pd.read_parquet(file_path, *args, **kwargs)\\n    elif suffix in [\\\".pkl\\\", \\\".pickle\\\"]:\\n        dataf = pd.read_pickle(file_path, *args, **kwargs)\\n    elif suffix in [\\\".json\\\"]:\\n        dataf = pd.read_json(file_path, *args, **kwargs)\\n    elif suffix in [\\\".xls\\\", \\\".xlsx\\\", \\\".xlsm\\\", \\\"xlsb\\\", \\\".odf\\\", \\\".ods\\\", \\\".odt\\\"]:\\n        dataf = pd.read_excel(file_path, *args, **kwargs)\\n    else:\\n        raise NotImplementedError(f\\\"Suffix '{suffix}' is not supported.\\\")\\n    num_frame = NumerFrame(dataf)\\n    if metadata:\\n        num_frame.add_metadata(metadata)\\n    return num_frame\";\n                var nbb_cells = Jupyter.notebook.get_cells();\n                for (var i = 0; i < nbb_cells.length; ++i) {\n                    if (nbb_cells[i].input_prompt_number == nbb_cell_id) {\n                        if (nbb_cells[i].get_text() == nbb_unformatted_code) {\n                             nbb_cells[i].set_text(nbb_formatted_code);\n                        }\n                        break;\n                    }\n                }\n            }, 500);\n            "
     },
     "metadata": {},
     "output_type": "display_data"
    }
   ],
   "source": [
    "#export\n",
    "def create_numerframe(file_path: str, metadata: dict = None, *args, **kwargs) -> NumerFrame:\n",
    "    \"\"\"\n",
    "    Convenient function to initialize NumerFrame.\n",
    "    Support most used file formats for Pandas DataFrames (.csv, .parquet, .pkl, .json, .xls, etc.).\n",
    "    For more details check https://pandas.pydata.org/docs/reference/io.html\n",
    "\n",
    "    :param file_path: Relative or absolute path to data file. \\n\n",
    "    :param metadata: Metadata to be stored in NumerFrame.meta. \\n\n",
    "    *args, **kwargs will be passed to Pandas loading function.\n",
    "    \"\"\"\n",
    "    assert Path(file_path).is_file(), f\"{file_path} does not point to file.\"\n",
    "    suffix = Path(file_path).suffix\n",
    "    if suffix in [\".csv\"]:\n",
    "        dataf = pd.read_csv(file_path, *args, **kwargs)\n",
    "    elif suffix in [\".parquet\"]:\n",
    "        dataf = pd.read_parquet(file_path, *args, **kwargs)\n",
    "    elif suffix in [\".pkl\", \".pickle\"]:\n",
    "        dataf = pd.read_pickle(file_path, *args, **kwargs)\n",
    "    elif suffix in [\".json\"]:\n",
    "        dataf = pd.read_json(file_path, *args, **kwargs)\n",
    "    elif suffix in [\".xls\", \".xlsx\", \".xlsm\", \"xlsb\", \".odf\", \".ods\", \".odt\"]:\n",
    "        dataf = pd.read_excel(file_path, *args, **kwargs)\n",
    "    else:\n",
    "        raise NotImplementedError(f\"Suffix '{suffix}' is not supported.\")\n",
    "    num_frame = NumerFrame(dataf)\n",
    "    if metadata:\n",
    "        num_frame.add_metadata(metadata)\n",
    "    return num_frame"
   ]
  },
  {
   "cell_type": "markdown",
   "metadata": {},
   "source": [
    "## NumerFrame Usage"
   ]
  },
  {
   "cell_type": "markdown",
   "metadata": {},
   "source": [
    "A `NumerFrame` object can be initialized from memory just like you would with a Pandas DataFrame.\n",
    "You then have the option to add metadata with `.add_metadata`. All metadata will be stored in the `meta` attribute."
   ]
  },
  {
   "cell_type": "markdown",
   "metadata": {},
   "source": [
    "### 1. Initialize from memory"
   ]
  },
  {
   "cell_type": "code",
   "execution_count": 7,
   "metadata": {},
   "outputs": [
    {
     "data": {
      "text/plain": "<IPython.core.display.Javascript object>",
      "application/javascript": "\n            setTimeout(function() {\n                var nbb_cell_id = 7;\n                var nbb_unformatted_code = \"test_features = [f\\\"feature_{l}\\\" for l in \\\"ABCDEFGHIK\\\"]\\nid_col = [uuid.uuid4().hex for _ in range(100)]\\n\\n# Random DataFrame\\ndataf = pd.DataFrame(np.random.uniform(size=(100, 10)), columns=test_features)\\ndataf[\\\"id\\\"] = id_col\\ndataf[[\\\"target\\\", \\\"target_1\\\", \\\"target_2\\\"]] = np.random.normal(size=(100, 3))\\ndataf[\\\"era\\\"] = range(100)\";\n                var nbb_formatted_code = \"test_features = [f\\\"feature_{l}\\\" for l in \\\"ABCDEFGHIK\\\"]\\nid_col = [uuid.uuid4().hex for _ in range(100)]\\n\\n# Random DataFrame\\ndataf = pd.DataFrame(np.random.uniform(size=(100, 10)), columns=test_features)\\ndataf[\\\"id\\\"] = id_col\\ndataf[[\\\"target\\\", \\\"target_1\\\", \\\"target_2\\\"]] = np.random.normal(size=(100, 3))\\ndataf[\\\"era\\\"] = range(100)\";\n                var nbb_cells = Jupyter.notebook.get_cells();\n                for (var i = 0; i < nbb_cells.length; ++i) {\n                    if (nbb_cells[i].input_prompt_number == nbb_cell_id) {\n                        if (nbb_cells[i].get_text() == nbb_unformatted_code) {\n                             nbb_cells[i].set_text(nbb_formatted_code);\n                        }\n                        break;\n                    }\n                }\n            }, 500);\n            "
     },
     "metadata": {},
     "output_type": "display_data"
    }
   ],
   "source": [
    "test_features = [f\"feature_{l}\" for l in \"ABCDEFGHIK\"]\n",
    "id_col = [uuid.uuid4().hex for _ in range(100)]\n",
    "\n",
    "# Random DataFrame\n",
    "dataf = pd.DataFrame(np.random.uniform(size=(100, 10)), columns=test_features)\n",
    "dataf[\"id\"] = id_col\n",
    "dataf[[\"target\", \"target_1\", \"target_2\"]] = np.random.normal(size=(100, 3))\n",
    "dataf[\"era\"] = range(100)"
   ]
  },
  {
   "cell_type": "code",
   "execution_count": 8,
   "metadata": {},
   "outputs": [
    {
     "data": {
      "text/plain": "<IPython.core.display.Javascript object>",
      "application/javascript": "\n            setTimeout(function() {\n                var nbb_cell_id = 8;\n                var nbb_unformatted_code = \"metadata = {\\n    \\\"version\\\": 42,\\n    \\\"additional_info\\\": \\\"test_model\\\",\\n    \\\"multi_target\\\": False,\\n    \\\"tournament_type\\\": \\\"random\\\",\\n}\\nmemory_dataf = NumerFrame(dataf)\\nmemory_dataf.add_metadata(metadata)\\nassert memory_dataf.meta.version == 42\\nassert memory_dataf.meta.tournament_type == \\\"random\\\"\";\n                var nbb_formatted_code = \"metadata = {\\n    \\\"version\\\": 42,\\n    \\\"additional_info\\\": \\\"test_model\\\",\\n    \\\"multi_target\\\": False,\\n    \\\"tournament_type\\\": \\\"random\\\",\\n}\\nmemory_dataf = NumerFrame(dataf)\\nmemory_dataf.add_metadata(metadata)\\nassert memory_dataf.meta.version == 42\\nassert memory_dataf.meta.tournament_type == \\\"random\\\"\";\n                var nbb_cells = Jupyter.notebook.get_cells();\n                for (var i = 0; i < nbb_cells.length; ++i) {\n                    if (nbb_cells[i].input_prompt_number == nbb_cell_id) {\n                        if (nbb_cells[i].get_text() == nbb_unformatted_code) {\n                             nbb_cells[i].set_text(nbb_formatted_code);\n                        }\n                        break;\n                    }\n                }\n            }, 500);\n            "
     },
     "metadata": {},
     "output_type": "display_data"
    }
   ],
   "source": [
    "metadata = {\n",
    "    \"version\": 42,\n",
    "    \"additional_info\": \"test_model\",\n",
    "    \"multi_target\": False,\n",
    "    \"tournament_type\": \"random\",\n",
    "}\n",
    "memory_dataf = NumerFrame(dataf)\n",
    "memory_dataf.add_metadata(metadata)\n",
    "assert memory_dataf.meta.version == 42\n",
    "assert memory_dataf.meta.tournament_type == \"random\""
   ]
  },
  {
   "cell_type": "markdown",
   "source": [
    "Metadata stored in `.meta` and can be accessed as a dictionary or as attributes."
   ],
   "metadata": {
    "collapsed": false
   }
  },
  {
   "cell_type": "code",
   "execution_count": 9,
   "outputs": [
    {
     "data": {
      "text/plain": "{'era_col': 'era',\n 'era_col_verified': True,\n 'version': 42,\n 'additional_info': 'test_model',\n 'multi_target': False,\n 'tournament_type': 'random'}"
     },
     "execution_count": 9,
     "metadata": {},
     "output_type": "execute_result"
    },
    {
     "data": {
      "text/plain": "<IPython.core.display.Javascript object>",
      "application/javascript": "\n            setTimeout(function() {\n                var nbb_cell_id = 9;\n                var nbb_unformatted_code = \"memory_dataf.meta\";\n                var nbb_formatted_code = \"memory_dataf.meta\";\n                var nbb_cells = Jupyter.notebook.get_cells();\n                for (var i = 0; i < nbb_cells.length; ++i) {\n                    if (nbb_cells[i].input_prompt_number == nbb_cell_id) {\n                        if (nbb_cells[i].get_text() == nbb_unformatted_code) {\n                             nbb_cells[i].set_text(nbb_formatted_code);\n                        }\n                        break;\n                    }\n                }\n            }, 500);\n            "
     },
     "metadata": {},
     "output_type": "display_data"
    }
   ],
   "source": [
    "memory_dataf.meta"
   ],
   "metadata": {
    "collapsed": false,
    "pycharm": {
     "name": "#%%\n"
    }
   }
  },
  {
   "cell_type": "code",
   "execution_count": 10,
   "outputs": [
    {
     "data": {
      "text/plain": "42"
     },
     "execution_count": 10,
     "metadata": {},
     "output_type": "execute_result"
    },
    {
     "data": {
      "text/plain": "<IPython.core.display.Javascript object>",
      "application/javascript": "\n            setTimeout(function() {\n                var nbb_cell_id = 10;\n                var nbb_unformatted_code = \"memory_dataf.meta.version\";\n                var nbb_formatted_code = \"memory_dataf.meta.version\";\n                var nbb_cells = Jupyter.notebook.get_cells();\n                for (var i = 0; i < nbb_cells.length; ++i) {\n                    if (nbb_cells[i].input_prompt_number == nbb_cell_id) {\n                        if (nbb_cells[i].get_text() == nbb_unformatted_code) {\n                             nbb_cells[i].set_text(nbb_formatted_code);\n                        }\n                        break;\n                    }\n                }\n            }, 500);\n            "
     },
     "metadata": {},
     "output_type": "display_data"
    }
   ],
   "source": [
    "memory_dataf.meta.version"
   ],
   "metadata": {
    "collapsed": false,
    "pycharm": {
     "name": "#%%\n"
    }
   }
  },
  {
   "cell_type": "code",
   "execution_count": 11,
   "outputs": [
    {
     "data": {
      "text/plain": "42"
     },
     "execution_count": 11,
     "metadata": {},
     "output_type": "execute_result"
    },
    {
     "data": {
      "text/plain": "<IPython.core.display.Javascript object>",
      "application/javascript": "\n            setTimeout(function() {\n                var nbb_cell_id = 11;\n                var nbb_unformatted_code = \"memory_dataf.meta['version']\";\n                var nbb_formatted_code = \"memory_dataf.meta[\\\"version\\\"]\";\n                var nbb_cells = Jupyter.notebook.get_cells();\n                for (var i = 0; i < nbb_cells.length; ++i) {\n                    if (nbb_cells[i].input_prompt_number == nbb_cell_id) {\n                        if (nbb_cells[i].get_text() == nbb_unformatted_code) {\n                             nbb_cells[i].set_text(nbb_formatted_code);\n                        }\n                        break;\n                    }\n                }\n            }, 500);\n            "
     },
     "metadata": {},
     "output_type": "display_data"
    }
   ],
   "source": [
    "memory_dataf.meta['version']"
   ],
   "metadata": {
    "collapsed": false,
    "pycharm": {
     "name": "#%%\n"
    }
   }
  },
  {
   "cell_type": "code",
   "execution_count": 12,
   "outputs": [
    {
     "data": {
      "text/plain": "<IPython.core.display.Javascript object>",
      "application/javascript": "\n            setTimeout(function() {\n                var nbb_cell_id = 12;\n                var nbb_unformatted_code = \"assert memory_dataf.meta.version == memory_dataf.meta['version']\";\n                var nbb_formatted_code = \"assert memory_dataf.meta.version == memory_dataf.meta[\\\"version\\\"]\";\n                var nbb_cells = Jupyter.notebook.get_cells();\n                for (var i = 0; i < nbb_cells.length; ++i) {\n                    if (nbb_cells[i].input_prompt_number == nbb_cell_id) {\n                        if (nbb_cells[i].get_text() == nbb_unformatted_code) {\n                             nbb_cells[i].set_text(nbb_formatted_code);\n                        }\n                        break;\n                    }\n                }\n            }, 500);\n            "
     },
     "metadata": {},
     "output_type": "display_data"
    }
   ],
   "source": [
    "assert memory_dataf.meta.version == memory_dataf.meta['version']"
   ],
   "metadata": {
    "collapsed": false,
    "pycharm": {
     "name": "#%%\n"
    }
   }
  },
  {
   "cell_type": "markdown",
   "metadata": {},
   "source": [
    "### 2. Initialize from file path"
   ]
  },
  {
   "cell_type": "markdown",
   "metadata": {},
   "source": [
    "You can also use the convenience function `create_numerframe` so `NumerFrame` can be easily initialized. Think of it as a dynamic `pd.read_csv`, `pd.read_parquet`, etc. where you can also directly pass metadata."
   ]
  },
  {
   "cell_type": "code",
   "execution_count": 13,
   "metadata": {},
   "outputs": [
    {
     "data": {
      "text/plain": "                 id   era data_type  feature_intelligence1  \\\n0  n000315175b67977  era1     train                    0.0   \n1  n0014af834a96cdd  era1     train                    0.0   \n\n   feature_intelligence2  feature_intelligence3  feature_intelligence4  \\\n0                    0.5                   0.25                   0.00   \n1                    0.0                   0.00                   0.25   \n\n   feature_intelligence5  feature_intelligence6  feature_intelligence7  ...  \\\n0                    0.5                   0.25                   0.25  ...   \n1                    0.5                   0.00                   0.00  ...   \n\n   feature_wisdom38  feature_wisdom39  feature_wisdom40  feature_wisdom41  \\\n0               1.0               1.0              0.75               0.5   \n1               1.0               1.0              0.00               0.0   \n\n   feature_wisdom42  feature_wisdom43  feature_wisdom44  feature_wisdom45  \\\n0              0.75              0.50               1.0              0.50   \n1              0.75              0.25               0.0              0.25   \n\n   feature_wisdom46  target  \n0              0.75    0.50  \n1              1.00    0.25  \n\n[2 rows x 314 columns]",
      "text/html": "<div>\n<style scoped>\n    .dataframe tbody tr th:only-of-type {\n        vertical-align: middle;\n    }\n\n    .dataframe tbody tr th {\n        vertical-align: top;\n    }\n\n    .dataframe thead th {\n        text-align: right;\n    }\n</style>\n<table border=\"1\" class=\"dataframe\">\n  <thead>\n    <tr style=\"text-align: right;\">\n      <th></th>\n      <th>id</th>\n      <th>era</th>\n      <th>data_type</th>\n      <th>feature_intelligence1</th>\n      <th>feature_intelligence2</th>\n      <th>feature_intelligence3</th>\n      <th>feature_intelligence4</th>\n      <th>feature_intelligence5</th>\n      <th>feature_intelligence6</th>\n      <th>feature_intelligence7</th>\n      <th>...</th>\n      <th>feature_wisdom38</th>\n      <th>feature_wisdom39</th>\n      <th>feature_wisdom40</th>\n      <th>feature_wisdom41</th>\n      <th>feature_wisdom42</th>\n      <th>feature_wisdom43</th>\n      <th>feature_wisdom44</th>\n      <th>feature_wisdom45</th>\n      <th>feature_wisdom46</th>\n      <th>target</th>\n    </tr>\n  </thead>\n  <tbody>\n    <tr>\n      <th>0</th>\n      <td>n000315175b67977</td>\n      <td>era1</td>\n      <td>train</td>\n      <td>0.0</td>\n      <td>0.5</td>\n      <td>0.25</td>\n      <td>0.00</td>\n      <td>0.5</td>\n      <td>0.25</td>\n      <td>0.25</td>\n      <td>...</td>\n      <td>1.0</td>\n      <td>1.0</td>\n      <td>0.75</td>\n      <td>0.5</td>\n      <td>0.75</td>\n      <td>0.50</td>\n      <td>1.0</td>\n      <td>0.50</td>\n      <td>0.75</td>\n      <td>0.50</td>\n    </tr>\n    <tr>\n      <th>1</th>\n      <td>n0014af834a96cdd</td>\n      <td>era1</td>\n      <td>train</td>\n      <td>0.0</td>\n      <td>0.0</td>\n      <td>0.00</td>\n      <td>0.25</td>\n      <td>0.5</td>\n      <td>0.00</td>\n      <td>0.00</td>\n      <td>...</td>\n      <td>1.0</td>\n      <td>1.0</td>\n      <td>0.00</td>\n      <td>0.0</td>\n      <td>0.75</td>\n      <td>0.25</td>\n      <td>0.0</td>\n      <td>0.25</td>\n      <td>1.00</td>\n      <td>0.25</td>\n    </tr>\n  </tbody>\n</table>\n<p>2 rows × 314 columns</p>\n</div>"
     },
     "execution_count": 13,
     "metadata": {},
     "output_type": "execute_result"
    },
    {
     "data": {
      "text/plain": "<IPython.core.display.Javascript object>",
      "application/javascript": "\n            setTimeout(function() {\n                var nbb_cell_id = 13;\n                var nbb_unformatted_code = \"metadata = {\\n    \\\"version\\\": 1,\\n    \\\"multi_target\\\": False,\\n    \\\"tournament_type\\\": \\\"classic\\\",\\n}\\n\\ndataf = create_numerframe(\\\"test_assets/mini_numerai_version_1_data.csv\\\",\\n                          metadata=metadata\\n                          )\\nassert dataf.meta.version == 1\\nassert not dataf.meta.multi_target\\ndataf.head(2)\";\n                var nbb_formatted_code = \"metadata = {\\n    \\\"version\\\": 1,\\n    \\\"multi_target\\\": False,\\n    \\\"tournament_type\\\": \\\"classic\\\",\\n}\\n\\ndataf = create_numerframe(\\n    \\\"test_assets/mini_numerai_version_1_data.csv\\\", metadata=metadata\\n)\\nassert dataf.meta.version == 1\\nassert not dataf.meta.multi_target\\ndataf.head(2)\";\n                var nbb_cells = Jupyter.notebook.get_cells();\n                for (var i = 0; i < nbb_cells.length; ++i) {\n                    if (nbb_cells[i].input_prompt_number == nbb_cell_id) {\n                        if (nbb_cells[i].get_text() == nbb_unformatted_code) {\n                             nbb_cells[i].set_text(nbb_formatted_code);\n                        }\n                        break;\n                    }\n                }\n            }, 500);\n            "
     },
     "metadata": {},
     "output_type": "display_data"
    }
   ],
   "source": [
    "metadata = {\n",
    "    \"version\": 1,\n",
    "    \"multi_target\": False,\n",
    "    \"tournament_type\": \"classic\",\n",
    "}\n",
    "\n",
    "dataf = create_numerframe(\"test_assets/mini_numerai_version_1_data.csv\",\n",
    "                          metadata=metadata\n",
    "                          )\n",
    "assert dataf.meta.version == 1\n",
    "assert not dataf.meta.multi_target\n",
    "dataf.head(2)"
   ]
  },
  {
   "cell_type": "markdown",
   "source": [
    "### 3. Example functionality"
   ],
   "metadata": {
    "collapsed": false,
    "pycharm": {
     "name": "#%% md\n"
    }
   }
  },
  {
   "cell_type": "code",
   "execution_count": 14,
   "outputs": [
    {
     "data": {
      "text/plain": "{'era_col': 'era',\n 'era_col_verified': True,\n 'version': 1,\n 'additional_info': 'test_model',\n 'multi_target': False,\n 'tournament_type': 'classic'}"
     },
     "execution_count": 14,
     "metadata": {},
     "output_type": "execute_result"
    },
    {
     "data": {
      "text/plain": "<IPython.core.display.Javascript object>",
      "application/javascript": "\n            setTimeout(function() {\n                var nbb_cell_id = 14;\n                var nbb_unformatted_code = \"dataf.meta\";\n                var nbb_formatted_code = \"dataf.meta\";\n                var nbb_cells = Jupyter.notebook.get_cells();\n                for (var i = 0; i < nbb_cells.length; ++i) {\n                    if (nbb_cells[i].input_prompt_number == nbb_cell_id) {\n                        if (nbb_cells[i].get_text() == nbb_unformatted_code) {\n                             nbb_cells[i].set_text(nbb_formatted_code);\n                        }\n                        break;\n                    }\n                }\n            }, 500);\n            "
     },
     "metadata": {},
     "output_type": "display_data"
    }
   ],
   "source": [
    "dataf.meta"
   ],
   "metadata": {
    "collapsed": false,
    "pycharm": {
     "name": "#%%\n"
    }
   }
  },
  {
   "cell_type": "markdown",
   "metadata": {},
   "source": [
    "`.get_feature_data` will retrieve all columns where the column name starts with `feature`."
   ]
  },
  {
   "cell_type": "code",
   "execution_count": 15,
   "metadata": {},
   "outputs": [
    {
     "data": {
      "text/plain": "   feature_intelligence1  feature_intelligence2  feature_intelligence3  \\\n0                    0.0                    0.5                   0.25   \n1                    0.0                    0.0                   0.00   \n\n   feature_intelligence4  feature_intelligence5  feature_intelligence6  \\\n0                   0.00                    0.5                   0.25   \n1                   0.25                    0.5                   0.00   \n\n   feature_intelligence7  feature_intelligence8  feature_intelligence9  \\\n0                   0.25                   0.25                   0.75   \n1                   0.00                   0.25                   0.50   \n\n   feature_intelligence10  ...  feature_wisdom37  feature_wisdom38  \\\n0                    0.75  ...              1.00               1.0   \n1                    0.50  ...              0.75               1.0   \n\n   feature_wisdom39  feature_wisdom40  feature_wisdom41  feature_wisdom42  \\\n0               1.0              0.75               0.5              0.75   \n1               1.0              0.00               0.0              0.75   \n\n   feature_wisdom43  feature_wisdom44  feature_wisdom45  feature_wisdom46  \n0              0.50               1.0              0.50              0.75  \n1              0.25               0.0              0.25              1.00  \n\n[2 rows x 310 columns]",
      "text/html": "<div>\n<style scoped>\n    .dataframe tbody tr th:only-of-type {\n        vertical-align: middle;\n    }\n\n    .dataframe tbody tr th {\n        vertical-align: top;\n    }\n\n    .dataframe thead th {\n        text-align: right;\n    }\n</style>\n<table border=\"1\" class=\"dataframe\">\n  <thead>\n    <tr style=\"text-align: right;\">\n      <th></th>\n      <th>feature_intelligence1</th>\n      <th>feature_intelligence2</th>\n      <th>feature_intelligence3</th>\n      <th>feature_intelligence4</th>\n      <th>feature_intelligence5</th>\n      <th>feature_intelligence6</th>\n      <th>feature_intelligence7</th>\n      <th>feature_intelligence8</th>\n      <th>feature_intelligence9</th>\n      <th>feature_intelligence10</th>\n      <th>...</th>\n      <th>feature_wisdom37</th>\n      <th>feature_wisdom38</th>\n      <th>feature_wisdom39</th>\n      <th>feature_wisdom40</th>\n      <th>feature_wisdom41</th>\n      <th>feature_wisdom42</th>\n      <th>feature_wisdom43</th>\n      <th>feature_wisdom44</th>\n      <th>feature_wisdom45</th>\n      <th>feature_wisdom46</th>\n    </tr>\n  </thead>\n  <tbody>\n    <tr>\n      <th>0</th>\n      <td>0.0</td>\n      <td>0.5</td>\n      <td>0.25</td>\n      <td>0.00</td>\n      <td>0.5</td>\n      <td>0.25</td>\n      <td>0.25</td>\n      <td>0.25</td>\n      <td>0.75</td>\n      <td>0.75</td>\n      <td>...</td>\n      <td>1.00</td>\n      <td>1.0</td>\n      <td>1.0</td>\n      <td>0.75</td>\n      <td>0.5</td>\n      <td>0.75</td>\n      <td>0.50</td>\n      <td>1.0</td>\n      <td>0.50</td>\n      <td>0.75</td>\n    </tr>\n    <tr>\n      <th>1</th>\n      <td>0.0</td>\n      <td>0.0</td>\n      <td>0.00</td>\n      <td>0.25</td>\n      <td>0.5</td>\n      <td>0.00</td>\n      <td>0.00</td>\n      <td>0.25</td>\n      <td>0.50</td>\n      <td>0.50</td>\n      <td>...</td>\n      <td>0.75</td>\n      <td>1.0</td>\n      <td>1.0</td>\n      <td>0.00</td>\n      <td>0.0</td>\n      <td>0.75</td>\n      <td>0.25</td>\n      <td>0.0</td>\n      <td>0.25</td>\n      <td>1.00</td>\n    </tr>\n  </tbody>\n</table>\n<p>2 rows × 310 columns</p>\n</div>"
     },
     "execution_count": 15,
     "metadata": {},
     "output_type": "execute_result"
    },
    {
     "data": {
      "text/plain": "<IPython.core.display.Javascript object>",
      "application/javascript": "\n            setTimeout(function() {\n                var nbb_cell_id = 15;\n                var nbb_unformatted_code = \"dataf.get_feature_data.head(2)\";\n                var nbb_formatted_code = \"dataf.get_feature_data.head(2)\";\n                var nbb_cells = Jupyter.notebook.get_cells();\n                for (var i = 0; i < nbb_cells.length; ++i) {\n                    if (nbb_cells[i].input_prompt_number == nbb_cell_id) {\n                        if (nbb_cells[i].get_text() == nbb_unformatted_code) {\n                             nbb_cells[i].set_text(nbb_formatted_code);\n                        }\n                        break;\n                    }\n                }\n            }, 500);\n            "
     },
     "metadata": {},
     "output_type": "display_data"
    }
   ],
   "source": [
    "dataf.get_feature_data.head(2)"
   ]
  },
  {
   "cell_type": "markdown",
   "source": [
    "`.get_target_data` retrieves all columns if the column name starts with `\"target\"`."
   ],
   "metadata": {
    "collapsed": false
   }
  },
  {
   "cell_type": "code",
   "execution_count": 16,
   "outputs": [
    {
     "data": {
      "text/plain": "   target\n0    0.50\n1    0.25",
      "text/html": "<div>\n<style scoped>\n    .dataframe tbody tr th:only-of-type {\n        vertical-align: middle;\n    }\n\n    .dataframe tbody tr th {\n        vertical-align: top;\n    }\n\n    .dataframe thead th {\n        text-align: right;\n    }\n</style>\n<table border=\"1\" class=\"dataframe\">\n  <thead>\n    <tr style=\"text-align: right;\">\n      <th></th>\n      <th>target</th>\n    </tr>\n  </thead>\n  <tbody>\n    <tr>\n      <th>0</th>\n      <td>0.50</td>\n    </tr>\n    <tr>\n      <th>1</th>\n      <td>0.25</td>\n    </tr>\n  </tbody>\n</table>\n</div>"
     },
     "execution_count": 16,
     "metadata": {},
     "output_type": "execute_result"
    },
    {
     "data": {
      "text/plain": "<IPython.core.display.Javascript object>",
      "application/javascript": "\n            setTimeout(function() {\n                var nbb_cell_id = 16;\n                var nbb_unformatted_code = \"dataf.get_target_data.head(2)\";\n                var nbb_formatted_code = \"dataf.get_target_data.head(2)\";\n                var nbb_cells = Jupyter.notebook.get_cells();\n                for (var i = 0; i < nbb_cells.length; ++i) {\n                    if (nbb_cells[i].input_prompt_number == nbb_cell_id) {\n                        if (nbb_cells[i].get_text() == nbb_unformatted_code) {\n                             nbb_cells[i].set_text(nbb_formatted_code);\n                        }\n                        break;\n                    }\n                }\n            }, 500);\n            "
     },
     "metadata": {},
     "output_type": "display_data"
    }
   ],
   "source": [
    "dataf.get_target_data.head(2)"
   ],
   "metadata": {
    "collapsed": false,
    "pycharm": {
     "name": "#%%\n"
    }
   }
  },
  {
   "cell_type": "markdown",
   "source": [
    "`.get_single_target_data` only retrieves the column `\"target\"`."
   ],
   "metadata": {
    "collapsed": false
   }
  },
  {
   "cell_type": "code",
   "execution_count": 17,
   "outputs": [
    {
     "data": {
      "text/plain": "   target\n0    0.50\n1    0.25",
      "text/html": "<div>\n<style scoped>\n    .dataframe tbody tr th:only-of-type {\n        vertical-align: middle;\n    }\n\n    .dataframe tbody tr th {\n        vertical-align: top;\n    }\n\n    .dataframe thead th {\n        text-align: right;\n    }\n</style>\n<table border=\"1\" class=\"dataframe\">\n  <thead>\n    <tr style=\"text-align: right;\">\n      <th></th>\n      <th>target</th>\n    </tr>\n  </thead>\n  <tbody>\n    <tr>\n      <th>0</th>\n      <td>0.50</td>\n    </tr>\n    <tr>\n      <th>1</th>\n      <td>0.25</td>\n    </tr>\n  </tbody>\n</table>\n</div>"
     },
     "execution_count": 17,
     "metadata": {},
     "output_type": "execute_result"
    },
    {
     "data": {
      "text/plain": "<IPython.core.display.Javascript object>",
      "application/javascript": "\n            setTimeout(function() {\n                var nbb_cell_id = 17;\n                var nbb_unformatted_code = \"dataf.get_single_target_data.head(2)\";\n                var nbb_formatted_code = \"dataf.get_single_target_data.head(2)\";\n                var nbb_cells = Jupyter.notebook.get_cells();\n                for (var i = 0; i < nbb_cells.length; ++i) {\n                    if (nbb_cells[i].input_prompt_number == nbb_cell_id) {\n                        if (nbb_cells[i].get_text() == nbb_unformatted_code) {\n                             nbb_cells[i].set_text(nbb_formatted_code);\n                        }\n                        break;\n                    }\n                }\n            }, 500);\n            "
     },
     "metadata": {},
     "output_type": "display_data"
    }
   ],
   "source": [
    "dataf.get_single_target_data.head(2)"
   ],
   "metadata": {
    "collapsed": false,
    "pycharm": {
     "name": "#%%\n"
    }
   }
  },
  {
   "cell_type": "markdown",
   "source": [
    "`.get_era_batch` will return a `tf.Tensor` or `np.array` with feature data and target data for one or more eras. Convenient for creating neural network DataGenerators."
   ],
   "metadata": {
    "collapsed": false
   }
  },
  {
   "cell_type": "code",
   "execution_count": 18,
   "outputs": [
    {
     "name": "stderr",
     "output_type": "stream",
     "text": [
      "2022-03-14 15:27:09.402539: I tensorflow/core/platform/cpu_feature_guard.cc:151] This TensorFlow binary is optimized with oneAPI Deep Neural Network Library (oneDNN) to use the following CPU instructions in performance-critical operations:  AVX2 FMA\n",
      "To enable them in other operations, rebuild TensorFlow with the appropriate compiler flags.\n"
     ]
    },
    {
     "data": {
      "text/plain": "<tf.Tensor: shape=(10, 310), dtype=float16, numpy=\narray([[0.  , 0.5 , 0.25, ..., 1.  , 0.5 , 0.75],\n       [0.  , 0.  , 0.  , ..., 0.  , 0.25, 1.  ],\n       [0.25, 0.5 , 0.25, ..., 0.  , 0.25, 0.75],\n       ...,\n       [0.25, 1.  , 1.  , ..., 0.75, 0.5 , 0.25],\n       [0.5 , 0.5 , 0.5 , ..., 0.  , 0.  , 0.  ],\n       [0.5 , 1.  , 1.  , ..., 1.  , 1.  , 0.75]], dtype=float16)>"
     },
     "execution_count": 18,
     "metadata": {},
     "output_type": "execute_result"
    },
    {
     "data": {
      "text/plain": "<IPython.core.display.Javascript object>",
      "application/javascript": "\n            setTimeout(function() {\n                var nbb_cell_id = 18;\n                var nbb_unformatted_code = \"X_era, y_era = dataf.get_era_batch(['era1'], convert_to_tf=True, dtype=tf.float16)\\nX_era\";\n                var nbb_formatted_code = \"X_era, y_era = dataf.get_era_batch([\\\"era1\\\"], convert_to_tf=True, dtype=tf.float16)\\nX_era\";\n                var nbb_cells = Jupyter.notebook.get_cells();\n                for (var i = 0; i < nbb_cells.length; ++i) {\n                    if (nbb_cells[i].input_prompt_number == nbb_cell_id) {\n                        if (nbb_cells[i].get_text() == nbb_unformatted_code) {\n                             nbb_cells[i].set_text(nbb_formatted_code);\n                        }\n                        break;\n                    }\n                }\n            }, 500);\n            "
     },
     "metadata": {},
     "output_type": "display_data"
    }
   ],
   "source": [
    "X_era, y_era = dataf.get_era_batch(['era1'], convert_to_tf=True, dtype=tf.float16)\n",
    "X_era"
   ],
   "metadata": {
    "collapsed": false,
    "pycharm": {
     "name": "#%%\n"
    }
   }
  },
  {
   "cell_type": "markdown",
   "source": [
    "For people training autoencoders + MLP you can get a target that contains 3 elements: features, targets and targets. Just define `aemlp_batch=True`.\n",
    "More info on this setup: [AutoEncoder and multitask MLP on new dataset forum post](https://forum.numer.ai/t/autoencoder-and-multitask-mlp-on-new-dataset-from-kaggle-jane-street/4338)."
   ],
   "metadata": {
    "collapsed": false
   }
  },
  {
   "cell_type": "code",
   "execution_count": 19,
   "outputs": [
    {
     "data": {
      "text/plain": "[<tf.Tensor: shape=(10, 310), dtype=float16, numpy=\n array([[0.  , 0.5 , 0.25, ..., 1.  , 0.5 , 0.75],\n        [0.  , 0.  , 0.  , ..., 0.  , 0.25, 1.  ],\n        [0.25, 0.5 , 0.25, ..., 0.  , 0.25, 0.75],\n        ...,\n        [0.25, 1.  , 1.  , ..., 0.75, 0.5 , 0.25],\n        [0.5 , 0.5 , 0.5 , ..., 0.  , 0.  , 0.  ],\n        [0.5 , 1.  , 1.  , ..., 1.  , 1.  , 0.75]], dtype=float16)>,\n <tf.Tensor: shape=(10, 1), dtype=float16, numpy=\n array([[0.5 ],\n        [0.25],\n        [0.25],\n        [0.25],\n        [0.75],\n        [0.5 ],\n        [0.25],\n        [0.25],\n        [0.5 ],\n        [0.75]], dtype=float16)>,\n <tf.Tensor: shape=(10, 1), dtype=float16, numpy=\n array([[0.5 ],\n        [0.25],\n        [0.25],\n        [0.25],\n        [0.75],\n        [0.5 ],\n        [0.25],\n        [0.25],\n        [0.5 ],\n        [0.75]], dtype=float16)>]"
     },
     "execution_count": 19,
     "metadata": {},
     "output_type": "execute_result"
    },
    {
     "data": {
      "text/plain": "<IPython.core.display.Javascript object>",
      "application/javascript": "\n            setTimeout(function() {\n                var nbb_cell_id = 19;\n                var nbb_unformatted_code = \"_, y_era_aemlp = dataf.get_era_batch(['era1'], convert_to_tf=True, aemlp_batch=True, dtype=tf.float16)\\ny_era_aemlp\";\n                var nbb_formatted_code = \"_, y_era_aemlp = dataf.get_era_batch(\\n    [\\\"era1\\\"], convert_to_tf=True, aemlp_batch=True, dtype=tf.float16\\n)\\ny_era_aemlp\";\n                var nbb_cells = Jupyter.notebook.get_cells();\n                for (var i = 0; i < nbb_cells.length; ++i) {\n                    if (nbb_cells[i].input_prompt_number == nbb_cell_id) {\n                        if (nbb_cells[i].get_text() == nbb_unformatted_code) {\n                             nbb_cells[i].set_text(nbb_formatted_code);\n                        }\n                        break;\n                    }\n                }\n            }, 500);\n            "
     },
     "metadata": {},
     "output_type": "display_data"
    }
   ],
   "source": [
    "_, y_era_aemlp = dataf.get_era_batch(['era1'], convert_to_tf=True, aemlp_batch=True, dtype=tf.float16)\n",
    "y_era_aemlp"
   ],
   "metadata": {
    "collapsed": false,
    "pycharm": {
     "name": "#%%\n"
    }
   }
  },
  {
   "cell_type": "markdown",
   "metadata": {},
   "source": [
    "`.aux_cols` denotes all columns that are not features, targets or prediction columns."
   ]
  },
  {
   "cell_type": "code",
   "execution_count": 20,
   "metadata": {},
   "outputs": [
    {
     "data": {
      "text/plain": "['id', 'era', 'data_type']"
     },
     "execution_count": 20,
     "metadata": {},
     "output_type": "execute_result"
    },
    {
     "data": {
      "text/plain": "<IPython.core.display.Javascript object>",
      "application/javascript": "\n            setTimeout(function() {\n                var nbb_cell_id = 20;\n                var nbb_unformatted_code = \"dataf.aux_cols\";\n                var nbb_formatted_code = \"dataf.aux_cols\";\n                var nbb_cells = Jupyter.notebook.get_cells();\n                for (var i = 0; i < nbb_cells.length; ++i) {\n                    if (nbb_cells[i].input_prompt_number == nbb_cell_id) {\n                        if (nbb_cells[i].get_text() == nbb_unformatted_code) {\n                             nbb_cells[i].set_text(nbb_formatted_code);\n                        }\n                        break;\n                    }\n                }\n            }, 500);\n            "
     },
     "metadata": {},
     "output_type": "display_data"
    }
   ],
   "source": [
    "dataf.aux_cols"
   ]
  },
  {
   "cell_type": "code",
   "execution_count": 21,
   "metadata": {},
   "outputs": [
    {
     "data": {
      "text/plain": "                 id   era data_type\n0  n000315175b67977  era1     train\n1  n0014af834a96cdd  era1     train",
      "text/html": "<div>\n<style scoped>\n    .dataframe tbody tr th:only-of-type {\n        vertical-align: middle;\n    }\n\n    .dataframe tbody tr th {\n        vertical-align: top;\n    }\n\n    .dataframe thead th {\n        text-align: right;\n    }\n</style>\n<table border=\"1\" class=\"dataframe\">\n  <thead>\n    <tr style=\"text-align: right;\">\n      <th></th>\n      <th>id</th>\n      <th>era</th>\n      <th>data_type</th>\n    </tr>\n  </thead>\n  <tbody>\n    <tr>\n      <th>0</th>\n      <td>n000315175b67977</td>\n      <td>era1</td>\n      <td>train</td>\n    </tr>\n    <tr>\n      <th>1</th>\n      <td>n0014af834a96cdd</td>\n      <td>era1</td>\n      <td>train</td>\n    </tr>\n  </tbody>\n</table>\n</div>"
     },
     "execution_count": 21,
     "metadata": {},
     "output_type": "execute_result"
    },
    {
     "data": {
      "text/plain": "<IPython.core.display.Javascript object>",
      "application/javascript": "\n            setTimeout(function() {\n                var nbb_cell_id = 21;\n                var nbb_unformatted_code = \"dataf.get_aux_data.head(2)\";\n                var nbb_formatted_code = \"dataf.get_aux_data.head(2)\";\n                var nbb_cells = Jupyter.notebook.get_cells();\n                for (var i = 0; i < nbb_cells.length; ++i) {\n                    if (nbb_cells[i].input_prompt_number == nbb_cell_id) {\n                        if (nbb_cells[i].get_text() == nbb_unformatted_code) {\n                             nbb_cells[i].set_text(nbb_formatted_code);\n                        }\n                        break;\n                    }\n                }\n            }, 500);\n            "
     },
     "metadata": {},
     "output_type": "display_data"
    }
   ],
   "source": [
    "dataf.get_aux_data.head(2)"
   ]
  },
  {
   "cell_type": "markdown",
   "metadata": {},
   "source": [
    "Arbitrary `.json` metadata can be stored into the `NumerFrame`. All metadata can also be exported to a `.json` file."
   ]
  },
  {
   "cell_type": "code",
   "execution_count": 22,
   "metadata": {},
   "outputs": [
    {
     "data": {
      "text/plain": "📁 Exporting metadata to config.json 📁\n",
      "text/html": "<pre style=\"white-space:pre;overflow-x:auto;line-height:normal;font-family:Menlo,'DejaVu Sans Mono',consolas,'Courier New',monospace\">📁 Exporting metadata to config.json 📁\n</pre>\n"
     },
     "metadata": {},
     "output_type": "display_data"
    },
    {
     "data": {
      "text/plain": "<IPython.core.display.Javascript object>",
      "application/javascript": "\n            setTimeout(function() {\n                var nbb_cell_id = 22;\n                var nbb_unformatted_code = \"dataf.export_json_metadata(\\\"config.json\\\")\";\n                var nbb_formatted_code = \"dataf.export_json_metadata(\\\"config.json\\\")\";\n                var nbb_cells = Jupyter.notebook.get_cells();\n                for (var i = 0; i < nbb_cells.length; ++i) {\n                    if (nbb_cells[i].input_prompt_number == nbb_cell_id) {\n                        if (nbb_cells[i].get_text() == nbb_unformatted_code) {\n                             nbb_cells[i].set_text(nbb_formatted_code);\n                        }\n                        break;\n                    }\n                }\n            }, 500);\n            "
     },
     "metadata": {},
     "output_type": "display_data"
    }
   ],
   "source": [
    "dataf.export_json_metadata(\"config.json\")"
   ]
  },
  {
   "cell_type": "code",
   "execution_count": 23,
   "metadata": {},
   "outputs": [
    {
     "data": {
      "text/plain": "📁 Importing metadata from config.json 📁\n",
      "text/html": "<pre style=\"white-space:pre;overflow-x:auto;line-height:normal;font-family:Menlo,'DejaVu Sans Mono',consolas,'Courier New',monospace\">📁 Importing metadata from config.json 📁\n</pre>\n"
     },
     "metadata": {},
     "output_type": "display_data"
    },
    {
     "data": {
      "text/plain": "<IPython.core.display.Javascript object>",
      "application/javascript": "\n            setTimeout(function() {\n                var nbb_cell_id = 23;\n                var nbb_unformatted_code = \"dataf.import_json_metadata(\\\"config.json\\\")\";\n                var nbb_formatted_code = \"dataf.import_json_metadata(\\\"config.json\\\")\";\n                var nbb_cells = Jupyter.notebook.get_cells();\n                for (var i = 0; i < nbb_cells.length; ++i) {\n                    if (nbb_cells[i].input_prompt_number == nbb_cell_id) {\n                        if (nbb_cells[i].get_text() == nbb_unformatted_code) {\n                             nbb_cells[i].set_text(nbb_formatted_code);\n                        }\n                        break;\n                    }\n                }\n            }, 500);\n            "
     },
     "metadata": {},
     "output_type": "display_data"
    }
   ],
   "source": [
    "dataf.import_json_metadata(\"config.json\")"
   ]
  },
  {
   "cell_type": "code",
   "execution_count": 24,
   "metadata": {},
   "outputs": [
    {
     "data": {
      "text/plain": "<IPython.core.display.Javascript object>",
      "application/javascript": "\n            setTimeout(function() {\n                var nbb_cell_id = 24;\n                var nbb_unformatted_code = \"assert dataf.meta.version == 1\\nassert not dataf.meta.multi_target\";\n                var nbb_formatted_code = \"assert dataf.meta.version == 1\\nassert not dataf.meta.multi_target\";\n                var nbb_cells = Jupyter.notebook.get_cells();\n                for (var i = 0; i < nbb_cells.length; ++i) {\n                    if (nbb_cells[i].input_prompt_number == nbb_cell_id) {\n                        if (nbb_cells[i].get_text() == nbb_unformatted_code) {\n                             nbb_cells[i].set_text(nbb_formatted_code);\n                        }\n                        break;\n                    }\n                }\n            }, 500);\n            "
     },
     "metadata": {},
     "output_type": "display_data"
    }
   ],
   "source": [
    "assert dataf.meta.version == 1\n",
    "assert not dataf.meta.multi_target"
   ]
  },
  {
   "cell_type": "markdown",
   "source": [
    "Because `NumerFrame` inherits from `pd.DataFrame` you still have all functionality of a normal DataFrame at your disposal, like copying."
   ],
   "metadata": {
    "collapsed": false
   }
  },
  {
   "cell_type": "code",
   "execution_count": 25,
   "metadata": {},
   "outputs": [
    {
     "data": {
      "text/plain": "<IPython.core.display.Javascript object>",
      "application/javascript": "\n            setTimeout(function() {\n                var nbb_cell_id = 25;\n                var nbb_unformatted_code = \"dataf2 = dataf.copy()\\nassert dataf2.equals(dataf)\";\n                var nbb_formatted_code = \"dataf2 = dataf.copy()\\nassert dataf2.equals(dataf)\";\n                var nbb_cells = Jupyter.notebook.get_cells();\n                for (var i = 0; i < nbb_cells.length; ++i) {\n                    if (nbb_cells[i].input_prompt_number == nbb_cell_id) {\n                        if (nbb_cells[i].get_text() == nbb_unformatted_code) {\n                             nbb_cells[i].set_text(nbb_formatted_code);\n                        }\n                        break;\n                    }\n                }\n            }, 500);\n            "
     },
     "metadata": {},
     "output_type": "display_data"
    }
   ],
   "source": [
    "dataf2 = dataf.copy()\n",
    "assert dataf2.equals(dataf)"
   ]
  },
  {
   "cell_type": "markdown",
   "source": [
    "`NumerFrame` dynamically tracks which feature, target, aux and prediction columns there are when initialized. For example, here we add a new prediction column. Upon initialization the column will be contained in `prediction_cols`. Prediction columns are all column names that start with `prediction`."
   ],
   "metadata": {
    "collapsed": false
   }
  },
  {
   "cell_type": "code",
   "execution_count": 26,
   "metadata": {},
   "outputs": [
    {
     "data": {
      "text/plain": "<IPython.core.display.Javascript object>",
      "application/javascript": "\n            setTimeout(function() {\n                var nbb_cell_id = 26;\n                var nbb_unformatted_code = \"dataf.loc[:, \\\"prediction_test_1\\\"] = np.random.uniform(size=len(dataf))\\nnew_dataset = NumerFrame(dataf)\\nassert new_dataset.prediction_cols == [\\\"prediction_test_1\\\"]\\nassert new_dataset.meta.version == 1\";\n                var nbb_formatted_code = \"dataf.loc[:, \\\"prediction_test_1\\\"] = np.random.uniform(size=len(dataf))\\nnew_dataset = NumerFrame(dataf)\\nassert new_dataset.prediction_cols == [\\\"prediction_test_1\\\"]\\nassert new_dataset.meta.version == 1\";\n                var nbb_cells = Jupyter.notebook.get_cells();\n                for (var i = 0; i < nbb_cells.length; ++i) {\n                    if (nbb_cells[i].input_prompt_number == nbb_cell_id) {\n                        if (nbb_cells[i].get_text() == nbb_unformatted_code) {\n                             nbb_cells[i].set_text(nbb_formatted_code);\n                        }\n                        break;\n                    }\n                }\n            }, 500);\n            "
     },
     "metadata": {},
     "output_type": "display_data"
    }
   ],
   "source": [
    "dataf.loc[:, \"prediction_test_1\"] = np.random.uniform(size=len(dataf))\n",
    "new_dataset = NumerFrame(dataf)\n",
    "assert new_dataset.prediction_cols == [\"prediction_test_1\"]\n",
    "assert new_dataset.meta.version == 1"
   ]
  },
  {
   "cell_type": "markdown",
   "metadata": {},
   "source": [
    "Arbitrary columns van be retrieved with `.get_column_selection`. The input argument can be either a string or a list with column names."
   ]
  },
  {
   "cell_type": "code",
   "execution_count": 27,
   "metadata": {},
   "outputs": [
    {
     "data": {
      "text/plain": "                 id\n0  n000315175b67977\n1  n0014af834a96cdd",
      "text/html": "<div>\n<style scoped>\n    .dataframe tbody tr th:only-of-type {\n        vertical-align: middle;\n    }\n\n    .dataframe tbody tr th {\n        vertical-align: top;\n    }\n\n    .dataframe thead th {\n        text-align: right;\n    }\n</style>\n<table border=\"1\" class=\"dataframe\">\n  <thead>\n    <tr style=\"text-align: right;\">\n      <th></th>\n      <th>id</th>\n    </tr>\n  </thead>\n  <tbody>\n    <tr>\n      <th>0</th>\n      <td>n000315175b67977</td>\n    </tr>\n    <tr>\n      <th>1</th>\n      <td>n0014af834a96cdd</td>\n    </tr>\n  </tbody>\n</table>\n</div>"
     },
     "execution_count": 27,
     "metadata": {},
     "output_type": "execute_result"
    },
    {
     "data": {
      "text/plain": "<IPython.core.display.Javascript object>",
      "application/javascript": "\n            setTimeout(function() {\n                var nbb_cell_id = 27;\n                var nbb_unformatted_code = \"selection1 = dataf.get_column_selection(\\\"id\\\")\\nselection1.head(2)\";\n                var nbb_formatted_code = \"selection1 = dataf.get_column_selection(\\\"id\\\")\\nselection1.head(2)\";\n                var nbb_cells = Jupyter.notebook.get_cells();\n                for (var i = 0; i < nbb_cells.length; ++i) {\n                    if (nbb_cells[i].input_prompt_number == nbb_cell_id) {\n                        if (nbb_cells[i].get_text() == nbb_unformatted_code) {\n                             nbb_cells[i].set_text(nbb_formatted_code);\n                        }\n                        break;\n                    }\n                }\n            }, 500);\n            "
     },
     "metadata": {},
     "output_type": "display_data"
    }
   ],
   "source": [
    "selection1 = dataf.get_column_selection(\"id\")\n",
    "selection1.head(2)"
   ]
  },
  {
   "cell_type": "code",
   "execution_count": 28,
   "metadata": {},
   "outputs": [
    {
     "data": {
      "text/plain": "                 id  prediction_test_1\n0  n000315175b67977           0.192099\n1  n0014af834a96cdd           0.337739",
      "text/html": "<div>\n<style scoped>\n    .dataframe tbody tr th:only-of-type {\n        vertical-align: middle;\n    }\n\n    .dataframe tbody tr th {\n        vertical-align: top;\n    }\n\n    .dataframe thead th {\n        text-align: right;\n    }\n</style>\n<table border=\"1\" class=\"dataframe\">\n  <thead>\n    <tr style=\"text-align: right;\">\n      <th></th>\n      <th>id</th>\n      <th>prediction_test_1</th>\n    </tr>\n  </thead>\n  <tbody>\n    <tr>\n      <th>0</th>\n      <td>n000315175b67977</td>\n      <td>0.192099</td>\n    </tr>\n    <tr>\n      <th>1</th>\n      <td>n0014af834a96cdd</td>\n      <td>0.337739</td>\n    </tr>\n  </tbody>\n</table>\n</div>"
     },
     "execution_count": 28,
     "metadata": {},
     "output_type": "execute_result"
    },
    {
     "data": {
      "text/plain": "<IPython.core.display.Javascript object>",
      "application/javascript": "\n            setTimeout(function() {\n                var nbb_cell_id = 28;\n                var nbb_unformatted_code = \"selection2 = dataf.get_column_selection([\\\"id\\\", \\\"prediction_test_1\\\"])\\nselection2.head(2)\";\n                var nbb_formatted_code = \"selection2 = dataf.get_column_selection([\\\"id\\\", \\\"prediction_test_1\\\"])\\nselection2.head(2)\";\n                var nbb_cells = Jupyter.notebook.get_cells();\n                for (var i = 0; i < nbb_cells.length; ++i) {\n                    if (nbb_cells[i].input_prompt_number == nbb_cell_id) {\n                        if (nbb_cells[i].get_text() == nbb_unformatted_code) {\n                             nbb_cells[i].set_text(nbb_formatted_code);\n                        }\n                        break;\n                    }\n                }\n            }, 500);\n            "
     },
     "metadata": {},
     "output_type": "display_data"
    }
   ],
   "source": [
    "selection2 = dataf.get_column_selection([\"id\", \"prediction_test_1\"])\n",
    "selection2.head(2)"
   ]
  },
  {
   "cell_type": "code",
   "execution_count": 29,
   "outputs": [
    {
     "data": {
      "text/plain": "<IPython.core.display.Javascript object>",
      "application/javascript": "\n            setTimeout(function() {\n                var nbb_cell_id = 29;\n                var nbb_unformatted_code = \"#hide\\nfor sel in [selection1, selection2]:\\n    assert isinstance(sel, NumerFrame)\";\n                var nbb_formatted_code = \"# hide\\nfor sel in [selection1, selection2]:\\n    assert isinstance(sel, NumerFrame)\";\n                var nbb_cells = Jupyter.notebook.get_cells();\n                for (var i = 0; i < nbb_cells.length; ++i) {\n                    if (nbb_cells[i].input_prompt_number == nbb_cell_id) {\n                        if (nbb_cells[i].get_text() == nbb_unformatted_code) {\n                             nbb_cells[i].set_text(nbb_formatted_code);\n                        }\n                        break;\n                    }\n                }\n            }, 500);\n            "
     },
     "metadata": {},
     "output_type": "display_data"
    }
   ],
   "source": [
    "#hide\n",
    "for sel in [selection1, selection2]:\n",
    "    assert isinstance(sel, NumerFrame)"
   ],
   "metadata": {
    "collapsed": false,
    "pycharm": {
     "name": "#%%\n"
    }
   }
  },
  {
   "cell_type": "markdown",
   "metadata": {},
   "source": [
    "For convenience we can get a feature, target pair with one method. If `multi_target=True` all columns where the column name starts with `target` will be retrieved."
   ]
  },
  {
   "cell_type": "code",
   "execution_count": 30,
   "metadata": {},
   "outputs": [
    {
     "data": {
      "text/plain": "   feature_intelligence1  feature_intelligence2  feature_intelligence3  \\\n0                    0.0                    0.5                   0.25   \n1                    0.0                    0.0                   0.00   \n\n   feature_intelligence4  feature_intelligence5  feature_intelligence6  \\\n0                   0.00                    0.5                   0.25   \n1                   0.25                    0.5                   0.00   \n\n   feature_intelligence7  feature_intelligence8  feature_intelligence9  \\\n0                   0.25                   0.25                   0.75   \n1                   0.00                   0.25                   0.50   \n\n   feature_intelligence10  ...  feature_wisdom37  feature_wisdom38  \\\n0                    0.75  ...              1.00               1.0   \n1                    0.50  ...              0.75               1.0   \n\n   feature_wisdom39  feature_wisdom40  feature_wisdom41  feature_wisdom42  \\\n0               1.0              0.75               0.5              0.75   \n1               1.0              0.00               0.0              0.75   \n\n   feature_wisdom43  feature_wisdom44  feature_wisdom45  feature_wisdom46  \n0              0.50               1.0              0.50              0.75  \n1              0.25               0.0              0.25              1.00  \n\n[2 rows x 310 columns]",
      "text/html": "<div>\n<style scoped>\n    .dataframe tbody tr th:only-of-type {\n        vertical-align: middle;\n    }\n\n    .dataframe tbody tr th {\n        vertical-align: top;\n    }\n\n    .dataframe thead th {\n        text-align: right;\n    }\n</style>\n<table border=\"1\" class=\"dataframe\">\n  <thead>\n    <tr style=\"text-align: right;\">\n      <th></th>\n      <th>feature_intelligence1</th>\n      <th>feature_intelligence2</th>\n      <th>feature_intelligence3</th>\n      <th>feature_intelligence4</th>\n      <th>feature_intelligence5</th>\n      <th>feature_intelligence6</th>\n      <th>feature_intelligence7</th>\n      <th>feature_intelligence8</th>\n      <th>feature_intelligence9</th>\n      <th>feature_intelligence10</th>\n      <th>...</th>\n      <th>feature_wisdom37</th>\n      <th>feature_wisdom38</th>\n      <th>feature_wisdom39</th>\n      <th>feature_wisdom40</th>\n      <th>feature_wisdom41</th>\n      <th>feature_wisdom42</th>\n      <th>feature_wisdom43</th>\n      <th>feature_wisdom44</th>\n      <th>feature_wisdom45</th>\n      <th>feature_wisdom46</th>\n    </tr>\n  </thead>\n  <tbody>\n    <tr>\n      <th>0</th>\n      <td>0.0</td>\n      <td>0.5</td>\n      <td>0.25</td>\n      <td>0.00</td>\n      <td>0.5</td>\n      <td>0.25</td>\n      <td>0.25</td>\n      <td>0.25</td>\n      <td>0.75</td>\n      <td>0.75</td>\n      <td>...</td>\n      <td>1.00</td>\n      <td>1.0</td>\n      <td>1.0</td>\n      <td>0.75</td>\n      <td>0.5</td>\n      <td>0.75</td>\n      <td>0.50</td>\n      <td>1.0</td>\n      <td>0.50</td>\n      <td>0.75</td>\n    </tr>\n    <tr>\n      <th>1</th>\n      <td>0.0</td>\n      <td>0.0</td>\n      <td>0.00</td>\n      <td>0.25</td>\n      <td>0.5</td>\n      <td>0.00</td>\n      <td>0.00</td>\n      <td>0.25</td>\n      <td>0.50</td>\n      <td>0.50</td>\n      <td>...</td>\n      <td>0.75</td>\n      <td>1.0</td>\n      <td>1.0</td>\n      <td>0.00</td>\n      <td>0.0</td>\n      <td>0.75</td>\n      <td>0.25</td>\n      <td>0.0</td>\n      <td>0.25</td>\n      <td>1.00</td>\n    </tr>\n  </tbody>\n</table>\n<p>2 rows × 310 columns</p>\n</div>"
     },
     "execution_count": 30,
     "metadata": {},
     "output_type": "execute_result"
    },
    {
     "data": {
      "text/plain": "<IPython.core.display.Javascript object>",
      "application/javascript": "\n            setTimeout(function() {\n                var nbb_cell_id = 30;\n                var nbb_unformatted_code = \"features, single_target = dataf.get_feature_target_pair(multi_target=False)\\nfeatures.head(2)\";\n                var nbb_formatted_code = \"features, single_target = dataf.get_feature_target_pair(multi_target=False)\\nfeatures.head(2)\";\n                var nbb_cells = Jupyter.notebook.get_cells();\n                for (var i = 0; i < nbb_cells.length; ++i) {\n                    if (nbb_cells[i].input_prompt_number == nbb_cell_id) {\n                        if (nbb_cells[i].get_text() == nbb_unformatted_code) {\n                             nbb_cells[i].set_text(nbb_formatted_code);\n                        }\n                        break;\n                    }\n                }\n            }, 500);\n            "
     },
     "metadata": {},
     "output_type": "display_data"
    }
   ],
   "source": [
    "features, single_target = dataf.get_feature_target_pair(multi_target=False)\n",
    "features.head(2)"
   ]
  },
  {
   "cell_type": "code",
   "execution_count": 31,
   "metadata": {},
   "outputs": [
    {
     "data": {
      "text/plain": "   target\n0    0.50\n1    0.25",
      "text/html": "<div>\n<style scoped>\n    .dataframe tbody tr th:only-of-type {\n        vertical-align: middle;\n    }\n\n    .dataframe tbody tr th {\n        vertical-align: top;\n    }\n\n    .dataframe thead th {\n        text-align: right;\n    }\n</style>\n<table border=\"1\" class=\"dataframe\">\n  <thead>\n    <tr style=\"text-align: right;\">\n      <th></th>\n      <th>target</th>\n    </tr>\n  </thead>\n  <tbody>\n    <tr>\n      <th>0</th>\n      <td>0.50</td>\n    </tr>\n    <tr>\n      <th>1</th>\n      <td>0.25</td>\n    </tr>\n  </tbody>\n</table>\n</div>"
     },
     "execution_count": 31,
     "metadata": {},
     "output_type": "execute_result"
    },
    {
     "data": {
      "text/plain": "<IPython.core.display.Javascript object>",
      "application/javascript": "\n            setTimeout(function() {\n                var nbb_cell_id = 31;\n                var nbb_unformatted_code = \"single_target.head(2)\";\n                var nbb_formatted_code = \"single_target.head(2)\";\n                var nbb_cells = Jupyter.notebook.get_cells();\n                for (var i = 0; i < nbb_cells.length; ++i) {\n                    if (nbb_cells[i].input_prompt_number == nbb_cell_id) {\n                        if (nbb_cells[i].get_text() == nbb_unformatted_code) {\n                             nbb_cells[i].set_text(nbb_formatted_code);\n                        }\n                        break;\n                    }\n                }\n            }, 500);\n            "
     },
     "metadata": {},
     "output_type": "display_data"
    }
   ],
   "source": [
    "single_target.head(2)"
   ]
  },
  {
   "cell_type": "markdown",
   "source": [
    "You can directly generate a [pandas-profiling](https://pandas-profiling.github.io/pandas-profiling/docs/master/index.html) report from a `NumerFrame`."
   ],
   "metadata": {
    "collapsed": false
   }
  },
  {
   "cell_type": "code",
   "execution_count": 32,
   "outputs": [
    {
     "data": {
      "text/plain": "<IPython.core.display.Javascript object>",
      "application/javascript": "\n            setTimeout(function() {\n                var nbb_cell_id = 32;\n                var nbb_unformatted_code = \"# slow\\nreport = memory_dataf.profile_report(title=\\\"Mini Numerai V1 report\\\", explorative=True)\\nassert isinstance(report, ProfileReport)\";\n                var nbb_formatted_code = \"# slow\\nreport = memory_dataf.profile_report(title=\\\"Mini Numerai V1 report\\\", explorative=True)\\nassert isinstance(report, ProfileReport)\";\n                var nbb_cells = Jupyter.notebook.get_cells();\n                for (var i = 0; i < nbb_cells.length; ++i) {\n                    if (nbb_cells[i].input_prompt_number == nbb_cell_id) {\n                        if (nbb_cells[i].get_text() == nbb_unformatted_code) {\n                             nbb_cells[i].set_text(nbb_formatted_code);\n                        }\n                        break;\n                    }\n                }\n            }, 500);\n            "
     },
     "metadata": {},
     "output_type": "display_data"
    }
   ],
   "source": [
    "# slow\n",
    "report = memory_dataf.profile_report(title=\"Mini Numerai V1 report\", explorative=True)\n",
    "assert isinstance(report, ProfileReport)"
   ],
   "metadata": {
    "collapsed": false,
    "pycharm": {
     "name": "#%%\n"
    }
   }
  },
  {
   "cell_type": "markdown",
   "metadata": {},
   "source": [
    "-----------------------------------------------"
   ]
  },
  {
   "cell_type": "code",
   "execution_count": 33,
   "metadata": {
    "pycharm": {
     "name": "#%%\n"
    }
   },
   "outputs": [
    {
     "name": "stdout",
     "output_type": "stream",
     "text": [
      "Converted 00_misc.ipynb.\n",
      "Converted 01_download.ipynb.\n",
      "Converted 02_numerframe.ipynb.\n",
      "Converted 03_preprocessing.ipynb.\n",
      "Converted 04_model.ipynb.\n",
      "Converted 05_postprocessing.ipynb.\n",
      "Converted 06_modelpipeline.ipynb.\n",
      "Converted 07_evaluation.ipynb.\n",
      "Converted 08_key.ipynb.\n",
      "Converted 09_submission.ipynb.\n",
      "Converted 10_staking.ipynb.\n",
      "Converted index.ipynb.\n"
     ]
    },
    {
     "data": {
      "text/plain": "<IPython.core.display.Javascript object>",
      "application/javascript": "\n            setTimeout(function() {\n                var nbb_cell_id = 33;\n                var nbb_unformatted_code = \"# hide\\n# Run this cell to sync all changes with library\\nfrom nbdev.export import notebook2script\\n\\nnotebook2script()\";\n                var nbb_formatted_code = \"# hide\\n# Run this cell to sync all changes with library\\nfrom nbdev.export import notebook2script\\n\\nnotebook2script()\";\n                var nbb_cells = Jupyter.notebook.get_cells();\n                for (var i = 0; i < nbb_cells.length; ++i) {\n                    if (nbb_cells[i].input_prompt_number == nbb_cell_id) {\n                        if (nbb_cells[i].get_text() == nbb_unformatted_code) {\n                             nbb_cells[i].set_text(nbb_formatted_code);\n                        }\n                        break;\n                    }\n                }\n            }, 500);\n            "
     },
     "metadata": {},
     "output_type": "display_data"
    }
   ],
   "source": [
    "# hide\n",
    "# Run this cell to sync all changes with library\n",
    "from nbdev.export import notebook2script\n",
    "\n",
    "notebook2script()"
   ]
  },
  {
   "cell_type": "code",
   "execution_count": 33,
   "outputs": [
    {
     "data": {
      "text/plain": "<IPython.core.display.Javascript object>",
      "application/javascript": "\n            setTimeout(function() {\n                var nbb_cell_id = 33;\n                var nbb_unformatted_code = \"# hide\\n# Run this cell to sync all changes with library\\nfrom nbdev.export import notebook2script\\n\\nnotebook2script()\";\n                var nbb_formatted_code = \"# hide\\n# Run this cell to sync all changes with library\\nfrom nbdev.export import notebook2script\\n\\nnotebook2script()\";\n                var nbb_cells = Jupyter.notebook.get_cells();\n                for (var i = 0; i < nbb_cells.length; ++i) {\n                    if (nbb_cells[i].input_prompt_number == nbb_cell_id) {\n                        if (nbb_cells[i].get_text() == nbb_unformatted_code) {\n                             nbb_cells[i].set_text(nbb_formatted_code);\n                        }\n                        break;\n                    }\n                }\n            }, 500);\n            "
     },
     "metadata": {},
     "output_type": "display_data"
    }
   ],
   "source": [],
   "metadata": {
    "collapsed": false,
    "pycharm": {
     "name": "#%%\n"
    }
   }
  }
 ],
 "metadata": {
  "kernelspec": {
   "display_name": "Python 3",
   "language": "python",
   "name": "python3"
  }
 },
 "nbformat": 4,
 "nbformat_minor": 0
}