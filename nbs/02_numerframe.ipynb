{
 "cells": [
  {
   "cell_type": "raw",
   "metadata": {},
   "source": [
    "---\n",
    "description: Custom data structure for Numerai data. Extends Pandas DataFrame.\n",
    "output-file: numerframe.html\n",
    "title: NumerFrame\n",
    "\n",
    "---\n",
    "\n"
   ]
  },
  {
   "cell_type": "code",
   "execution_count": null,
   "metadata": {},
   "outputs": [],
   "source": [
    "#| include: false\n",
    "%load_ext autoreload\n",
    "%autoreload 2"
   ]
  },
  {
   "cell_type": "code",
   "execution_count": null,
   "metadata": {},
   "outputs": [],
   "source": [
    "#| default_exp numerframe"
   ]
  },
  {
   "cell_type": "code",
   "execution_count": null,
   "metadata": {},
   "outputs": [],
   "source": [
    "#| include: false\n",
    "from nbdev.showdoc import *"
   ]
  },
  {
   "cell_type": "code",
   "execution_count": null,
   "metadata": {},
   "outputs": [
    {
     "name": "stderr",
     "output_type": "stream",
     "text": [
      "2022-11-11 12:15:07.038392: I tensorflow/core/platform/cpu_feature_guard.cc:193] This TensorFlow binary is optimized with oneAPI Deep Neural Network Library (oneDNN) to use the following CPU instructions in performance-critical operations:  AVX2 FMA\n",
      "To enable them in other operations, rebuild TensorFlow with the appropriate compiler flags.\n",
      "2022-11-11 12:15:07.234871: E tensorflow/stream_executor/cuda/cuda_blas.cc:2981] Unable to register cuBLAS factory: Attempting to register factory for plugin cuBLAS when one has already been registered\n",
      "2022-11-11 12:15:08.008130: W tensorflow/stream_executor/platform/default/dso_loader.cc:64] Could not load dynamic library 'libnvinfer.so.7'; dlerror: libnvinfer.so.7: cannot open shared object file: No such file or directory; LD_LIBRARY_PATH: /usr/local/cuda/lib64:/usr/local/nccl2/lib:/usr/local/cuda/extras/CUPTI/lib64\n",
      "2022-11-11 12:15:08.008257: W tensorflow/stream_executor/platform/default/dso_loader.cc:64] Could not load dynamic library 'libnvinfer_plugin.so.7'; dlerror: libnvinfer_plugin.so.7: cannot open shared object file: No such file or directory; LD_LIBRARY_PATH: /usr/local/cuda/lib64:/usr/local/nccl2/lib:/usr/local/cuda/extras/CUPTI/lib64\n",
      "2022-11-11 12:15:08.008285: W tensorflow/compiler/tf2tensorrt/utils/py_utils.cc:38] TF-TRT Warning: Cannot dlopen some TensorRT libraries. If you would like to use Nvidia GPU with TensorRT, please make sure the missing libraries mentioned above are installed properly.\n"
     ]
    }
   ],
   "source": [
    "#| export\n",
    "import uuid\n",
    "import numpy as np\n",
    "import pandas as pd\n",
    "import tensorflow as tf\n",
    "from pathlib import Path\n",
    "from typing import Union, Tuple, Any, List\n",
    "\n",
    "from numerblox.misc import AttrDict"
   ]
  },
  {
   "cell_type": "markdown",
   "metadata": {},
   "source": [
    "## Overview: The NumerFrame"
   ]
  },
  {
   "cell_type": "markdown",
   "metadata": {},
   "source": [
    "`NumerFrame` is a data structure that extends `pd.DataFrame` with functionality convenient for Numerai users. The main benefits include:\n",
    "1. Automatically track features, targets, prediction and other columns + easily retrieve these data slices.\n",
    "2. Other library functionality automatically recognizes era column (`era`, `friday_date` or `date`).\n",
    "3. Integrations with other library components (i.e. `preprocessing`, `model`, `modelpipeline`, `postprocessing`, `evaluation` and `submission`) to create more solid inference pipelines and increase reliability.\n",
    "\n",
    "Besides, all functionality of Pandas DataFrames is still available in the `NumerFrame`. You therefore don't have to create new pipelines to process your data when using `NumerFrame`."
   ]
  },
  {
   "cell_type": "markdown",
   "metadata": {},
   "source": [
    "We adopt the convention:\n",
    " 1. All feature column names should start with `'feature'`.\n",
    " 2. All target column names should start with `'target'`.\n",
    " 3. All prediction column names should start with `'prediction'`.\n",
    " 4. Data should contain an `'era'`, `'friday_date'` or `'date'` column, as is almost always the case with Numerai datasets.\n",
    "\n",
    "Every column for which these conditions do not hold will be classified as an `'aux'` column."
   ]
  },
  {
   "cell_type": "code",
   "execution_count": null,
   "metadata": {},
   "outputs": [],
   "source": [
    "#| export\n",
    "class NumerFrame(pd.DataFrame):\n",
    "    \"\"\"\n",
    "    Data structure which extends Pandas DataFrames and\n",
    "    allows for additional Numerai specific functionality.\n",
    "    \"\"\"\n",
    "    _metadata = [\"meta\", \"feature_cols\", \"target_cols\",\n",
    "                 \"prediction_cols\", \"not_aux_cols\", \"aux_cols\"]\n",
    "\n",
    "\n",
    "    def __init__(self, *args, **kwargs):\n",
    "        super().__init__(*args, **kwargs)\n",
    "        self.meta = AttrDict()\n",
    "        self.__set_era_col()\n",
    "        self.__init_meta_attrs()\n",
    "\n",
    "    @property\n",
    "    def _constructor(self):\n",
    "        return NumerFrame\n",
    "\n",
    "    def __init_meta_attrs(self):\n",
    "        \"\"\" Dynamically track column groups. \"\"\"\n",
    "        self.feature_cols = [col for col in self.columns if str(col).startswith(\"feature\")]\n",
    "        self.target_cols = [col for col in self.columns if str(col).startswith(\"target\")]\n",
    "        self.prediction_cols = [\n",
    "            col for col in self.columns if str(col).startswith(\"prediction\")\n",
    "        ]\n",
    "        self.not_aux_cols = self.feature_cols + self.target_cols + self.prediction_cols\n",
    "        self.aux_cols = [\n",
    "            col for col in self.columns if col not in self.not_aux_cols\n",
    "        ]\n",
    "\n",
    "    def __set_era_col(self):\n",
    "        \"\"\" Each NumerFrame should have an era column to benefit from all functionality. \"\"\"\n",
    "        if \"era\" in self.columns:\n",
    "            self.meta.era_col = \"era\"\n",
    "        elif \"friday_date\" in self.columns:\n",
    "            self.meta.era_col = \"friday_date\"\n",
    "        elif \"date\" in self.columns:\n",
    "            self.meta.era_col = \"date\"\n",
    "        else:\n",
    "            self.meta.era_col = None\n",
    "\n",
    "    def get_column_selection(self, cols: Union[str, list]):\n",
    "        \"\"\" Return NumerFrame from selection of columns. \"\"\"\n",
    "        return self.loc[:, cols if isinstance(cols, list) else [cols]]\n",
    "\n",
    "    @property\n",
    "    def get_feature_data(self):\n",
    "        \"\"\" All columns for which name starts with 'target'.\"\"\"\n",
    "        return self.get_column_selection(cols=self.feature_cols)\n",
    "\n",
    "    @property\n",
    "    def get_target_data(self):\n",
    "        \"\"\" All columns for which name starts with 'target'.\"\"\"\n",
    "        return self.get_column_selection(cols=self.target_cols)\n",
    "\n",
    "    @property\n",
    "    def get_single_target_data(self):\n",
    "        \"\"\" Column with name 'target' (Main Numerai target column). \"\"\"\n",
    "        return self.get_column_selection(cols=['target'])\n",
    "\n",
    "    @property\n",
    "    def get_prediction_data(self):\n",
    "        \"\"\" All columns for which name starts with 'prediction'.\"\"\"\n",
    "        return self.get_column_selection(cols=self.prediction_cols)\n",
    "\n",
    "    @property\n",
    "    def get_aux_data(self):\n",
    "        \"\"\" All columns that are not features, targets or predictions. \"\"\"\n",
    "        return self.get_column_selection(cols=self.aux_cols)\n",
    "\n",
    "    @property\n",
    "    def get_prediction_aux_data(self):\n",
    "        \"\"\" All predictions columns and aux columns (for ensembling, etc.). \"\"\"\n",
    "        return self.get_column_selection(cols=self.prediction_cols+self.aux_cols)\n",
    "\n",
    "    def get_pattern_data(self, pattern: str):\n",
    "        \"\"\"\n",
    "        Get columns based on pattern (for example '_20' to get all 20-day Numerai targets).\n",
    "        :param pattern: A 'like' pattern (pattern in column_name == True)\n",
    "        \"\"\"\n",
    "        return self.filter(like=pattern)\n",
    "\n",
    "    def get_feature_target_pair(self, multi_target=False) -> Tuple[Any, Any]:\n",
    "        \"\"\"\n",
    "        Get split of feature and target columns.\n",
    "        :param multi_target: Returns only 'target' column by default.\n",
    "        Returns all target columns when set to True.\n",
    "        \"\"\"\n",
    "        X = self.get_feature_data\n",
    "        y = self.get_target_data if multi_target else self.get_single_target_data\n",
    "        return X, y\n",
    "\n",
    "    def get_era_batch(self, eras: List[Any],\n",
    "                      convert_to_tf = False,\n",
    "                      aemlp_batch = False,\n",
    "                      features: list = None,\n",
    "                      targets: list = None,\n",
    "                      *args, **kwargs) -> tuple:\n",
    "        \"\"\"\n",
    "        Get feature target pair batch of 1 or multiple eras. \\n\n",
    "        :param eras: Selection of era names that should be present in era_col. \\n\n",
    "        :param convert_to_tf: Convert to tf.Tensor. \\n\n",
    "        :param aemlp_batch: Specific target batch for autoencoder training. \\n\n",
    "        `y` output will contain three components: features, targets and targets. \\n\n",
    "        :param features: List of features to select. All by default \\n\n",
    "        :param targets: List of targets to select. All by default. \\n\n",
    "        *args, **kwargs are passed to initialization of Tensor.\n",
    "        \"\"\"\n",
    "        valid_eras = []\n",
    "        for era in eras:\n",
    "            assert era in self[self.meta.era_col].unique(), f\"Era '{era}' not found in era column ({self.meta.era_col})\"\n",
    "            valid_eras.append(era)\n",
    "        features = features if features else self.feature_cols\n",
    "        targets = targets if targets else self.target_cols\n",
    "        X = self.loc[self[self.meta.era_col].isin(valid_eras)][features].values\n",
    "        y = self.loc[self[self.meta.era_col].isin(valid_eras)][targets].values\n",
    "        if aemlp_batch:\n",
    "            y = [X.copy(), y.copy(), y.copy()]\n",
    "\n",
    "        if convert_to_tf:\n",
    "            X = tf.convert_to_tensor(X, *args, **kwargs)\n",
    "            if aemlp_batch:\n",
    "                y = [tf.convert_to_tensor(i, *args, **kwargs) for i in y]\n",
    "            else:\n",
    "                y = tf.convert_to_tensor(y, *args, **kwargs)\n",
    "        return X, y"
   ]
  },
  {
   "cell_type": "markdown",
   "metadata": {},
   "source": [
    "`create_numerframe` automatically recognizes your data file format, loads it into a `NumerFrame`, allows for column selection before loading and optionally adds metadata.\n",
    "\n",
    "Support file formats are `.csv`, `.parquet`, `.pkl`, `.pickle`, `.xsl`, `.xslx`, `.xlsm`, `.xlsb`, `.odf`, `.ods` and `.odt`. If the file format for your use case is missing, feel free to create a Github issue or submit a pull request. See `README.md` for more information on contributing."
   ]
  },
  {
   "cell_type": "code",
   "execution_count": null,
   "metadata": {},
   "outputs": [],
   "source": [
    "#| export\n",
    "def create_numerframe(file_path: str, metadata: dict = None, columns: list = None, *args, **kwargs) -> NumerFrame:\n",
    "    \"\"\"\n",
    "    Convenient function to initialize NumerFrame.\n",
    "    Support most used file formats for Pandas DataFrames \\n\n",
    "    (.csv, .parquet, .xls, .pkl, etc.).\n",
    "    For more details check https://pandas.pydata.org/docs/reference/io.html\n",
    "\n",
    "    :param file_path: Relative or absolute path to data file. \\n\n",
    "    :param metadata: Metadata to be stored in NumerFrame.meta. \\n\n",
    "    :param columns: Which columns to read (All by default). \\n\n",
    "    *args, **kwargs will be passed to Pandas loading function.\n",
    "    \"\"\"\n",
    "    assert Path(file_path).is_file(), f\"{file_path} does not point to file.\"\n",
    "    suffix = Path(file_path).suffix\n",
    "    if suffix in [\".csv\"]:\n",
    "        df = pd.read_csv(file_path, usecols=columns, *args, **kwargs)\n",
    "    elif suffix in [\".parquet\"]:\n",
    "        df = pd.read_parquet(file_path, columns=columns, *args, **kwargs)\n",
    "    elif suffix in [\".xls\", \".xlsx\", \".xlsm\", \"xlsb\", \".odf\", \".ods\", \".odt\"]:\n",
    "        df = pd.read_excel(file_path, usecols=columns, *args, **kwargs)\n",
    "    elif suffix in ['.pkl', '.pickle']:\n",
    "        df = pd.read_pickle(file_path, *args, **kwargs)\n",
    "        df = df.loc[:, columns] if columns else df\n",
    "    else:\n",
    "        raise NotImplementedError(f\"Suffix '{suffix}' is not supported.\")\n",
    "    num_frame = NumerFrame(df)\n",
    "    return num_frame"
   ]
  },
  {
   "cell_type": "markdown",
   "metadata": {},
   "source": [
    "## NumerFrame Usage"
   ]
  },
  {
   "cell_type": "markdown",
   "metadata": {},
   "source": [
    "A `NumerFrame` object can be initialized from memory just like you would with a Pandas DataFrame.\n",
    "You then have the option to add metadata with `.add_metadata`. All metadata will be stored in the `meta` attribute."
   ]
  },
  {
   "cell_type": "markdown",
   "metadata": {},
   "source": [
    "### 1. Initialize from memory"
   ]
  },
  {
   "cell_type": "code",
   "execution_count": null,
   "metadata": {},
   "outputs": [],
   "source": [
    "test_features = [f\"feature_{l}\" for l in \"ABCDEFGHIK\"]\n",
    "id_col = [uuid.uuid4().hex for _ in range(100)]\n",
    "\n",
    "# Random DataFrame\n",
    "dataf = pd.DataFrame(np.random.uniform(size=(100, 10)), columns=test_features)\n",
    "dataf[\"id\"] = id_col\n",
    "dataf[[\"target\", \"target_1\", \"target_2\"]] = np.random.normal(size=(100, 3))\n",
    "dataf[\"date\"] = range(100)"
   ]
  },
  {
   "cell_type": "code",
   "execution_count": null,
   "metadata": {},
   "outputs": [],
   "source": [
    "memory_dataf = NumerFrame(dataf)\n",
    "assert memory_dataf.meta.era_col == \"date\""
   ]
  },
  {
   "cell_type": "code",
   "execution_count": null,
   "metadata": {},
   "outputs": [
    {
     "data": {
      "text/html": "<div>\n<style scoped>\n    .dataframe tbody tr th:only-of-type {\n        vertical-align: middle;\n    }\n\n    .dataframe tbody tr th {\n        vertical-align: top;\n    }\n\n    .dataframe thead th {\n        text-align: right;\n    }\n</style>\n<table border=\"1\" class=\"dataframe\">\n  <thead>\n    <tr style=\"text-align: right;\">\n      <th></th>\n      <th>feature_A</th>\n      <th>feature_B</th>\n      <th>feature_C</th>\n      <th>feature_D</th>\n      <th>feature_E</th>\n      <th>feature_F</th>\n      <th>feature_G</th>\n      <th>feature_H</th>\n      <th>feature_I</th>\n      <th>feature_K</th>\n      <th>id</th>\n      <th>target</th>\n      <th>target_1</th>\n      <th>target_2</th>\n      <th>date</th>\n    </tr>\n  </thead>\n  <tbody>\n    <tr>\n      <th>0</th>\n      <td>0.625467</td>\n      <td>0.585194</td>\n      <td>0.305124</td>\n      <td>0.743754</td>\n      <td>0.751707</td>\n      <td>0.982139</td>\n      <td>0.575864</td>\n      <td>0.830288</td>\n      <td>0.404422</td>\n      <td>0.948049</td>\n      <td>c8815b7344124751b5717c901359a7d2</td>\n      <td>0.433754</td>\n      <td>1.545413</td>\n      <td>1.076133</td>\n      <td>0</td>\n    </tr>\n    <tr>\n      <th>1</th>\n      <td>0.537607</td>\n      <td>0.567881</td>\n      <td>0.105472</td>\n      <td>0.273122</td>\n      <td>0.164984</td>\n      <td>0.321191</td>\n      <td>0.127097</td>\n      <td>0.279180</td>\n      <td>0.050139</td>\n      <td>0.200424</td>\n      <td>2551b6e1d0b94668a25ad2a35c9bb30b</td>\n      <td>-0.571600</td>\n      <td>1.463836</td>\n      <td>-0.771368</td>\n      <td>1</td>\n    </tr>\n  </tbody>\n</table>\n</div>",
      "text/plain": "   feature_A  feature_B  feature_C  feature_D  feature_E  feature_F  \\\n0   0.625467   0.585194   0.305124   0.743754   0.751707   0.982139   \n1   0.537607   0.567881   0.105472   0.273122   0.164984   0.321191   \n\n   feature_G  feature_H  feature_I  feature_K  \\\n0   0.575864   0.830288   0.404422   0.948049   \n1   0.127097   0.279180   0.050139   0.200424   \n\n                                 id    target  target_1  target_2  date  \n0  c8815b7344124751b5717c901359a7d2  0.433754  1.545413  1.076133     0  \n1  2551b6e1d0b94668a25ad2a35c9bb30b -0.571600  1.463836 -0.771368     1  "
     },
     "execution_count": null,
     "metadata": {},
     "output_type": "execute_result"
    }
   ],
   "source": [
    "memory_dataf.head(2)"
   ]
  },
  {
   "cell_type": "code",
   "execution_count": null,
   "metadata": {},
   "outputs": [
    {
     "data": {
      "text/plain": "{'era_col': 'date'}"
     },
     "execution_count": null,
     "metadata": {},
     "output_type": "execute_result"
    }
   ],
   "source": [
    "memory_dataf.meta"
   ]
  },
  {
   "cell_type": "markdown",
   "metadata": {},
   "source": [
    "### 2. Initialize from file path"
   ]
  },
  {
   "cell_type": "markdown",
   "metadata": {},
   "source": [
    "You can also use the convenience function `create_numerframe` so `NumerFrame` can be easily initialized. Think of it as a dynamic `pd.read_csv`, `pd.read_parquet`, etc."
   ]
  },
  {
   "cell_type": "code",
   "execution_count": null,
   "metadata": {},
   "outputs": [],
   "source": [
    "num_dataf = create_numerframe(\"test_assets/mini_numerai_version_1_data.csv\",\n",
    "                          )\n",
    "assert num_dataf.meta.era_col == \"era\""
   ]
  },
  {
   "cell_type": "markdown",
   "metadata": {},
   "source": [
    "### 3. Example functionality"
   ]
  },
  {
   "cell_type": "code",
   "execution_count": null,
   "metadata": {},
   "outputs": [
    {
     "data": {
      "text/plain": "{'era_col': 'era'}"
     },
     "execution_count": null,
     "metadata": {},
     "output_type": "execute_result"
    }
   ],
   "source": [
    "num_dataf.meta"
   ]
  },
  {
   "cell_type": "markdown",
   "metadata": {},
   "source": [
    "`.get_feature_data` will retrieve all columns where the column name starts with `feature`."
   ]
  },
  {
   "cell_type": "code",
   "execution_count": null,
   "metadata": {},
   "outputs": [
    {
     "data": {
      "text/html": "<div>\n<style scoped>\n    .dataframe tbody tr th:only-of-type {\n        vertical-align: middle;\n    }\n\n    .dataframe tbody tr th {\n        vertical-align: top;\n    }\n\n    .dataframe thead th {\n        text-align: right;\n    }\n</style>\n<table border=\"1\" class=\"dataframe\">\n  <thead>\n    <tr style=\"text-align: right;\">\n      <th></th>\n      <th>feature_intelligence1</th>\n      <th>feature_intelligence2</th>\n      <th>feature_intelligence3</th>\n      <th>feature_intelligence4</th>\n      <th>feature_intelligence5</th>\n      <th>feature_intelligence6</th>\n      <th>feature_intelligence7</th>\n      <th>feature_intelligence8</th>\n      <th>feature_intelligence9</th>\n      <th>feature_intelligence10</th>\n      <th>...</th>\n      <th>feature_wisdom37</th>\n      <th>feature_wisdom38</th>\n      <th>feature_wisdom39</th>\n      <th>feature_wisdom40</th>\n      <th>feature_wisdom41</th>\n      <th>feature_wisdom42</th>\n      <th>feature_wisdom43</th>\n      <th>feature_wisdom44</th>\n      <th>feature_wisdom45</th>\n      <th>feature_wisdom46</th>\n    </tr>\n  </thead>\n  <tbody>\n    <tr>\n      <th>0</th>\n      <td>0.0</td>\n      <td>0.5</td>\n      <td>0.25</td>\n      <td>0.00</td>\n      <td>0.5</td>\n      <td>0.25</td>\n      <td>0.25</td>\n      <td>0.25</td>\n      <td>0.75</td>\n      <td>0.75</td>\n      <td>...</td>\n      <td>1.00</td>\n      <td>1.0</td>\n      <td>1.0</td>\n      <td>0.75</td>\n      <td>0.5</td>\n      <td>0.75</td>\n      <td>0.50</td>\n      <td>1.0</td>\n      <td>0.50</td>\n      <td>0.75</td>\n    </tr>\n    <tr>\n      <th>1</th>\n      <td>0.0</td>\n      <td>0.0</td>\n      <td>0.00</td>\n      <td>0.25</td>\n      <td>0.5</td>\n      <td>0.00</td>\n      <td>0.00</td>\n      <td>0.25</td>\n      <td>0.50</td>\n      <td>0.50</td>\n      <td>...</td>\n      <td>0.75</td>\n      <td>1.0</td>\n      <td>1.0</td>\n      <td>0.00</td>\n      <td>0.0</td>\n      <td>0.75</td>\n      <td>0.25</td>\n      <td>0.0</td>\n      <td>0.25</td>\n      <td>1.00</td>\n    </tr>\n  </tbody>\n</table>\n<p>2 rows × 310 columns</p>\n</div>",
      "text/plain": "   feature_intelligence1  feature_intelligence2  feature_intelligence3  \\\n0                    0.0                    0.5                   0.25   \n1                    0.0                    0.0                   0.00   \n\n   feature_intelligence4  feature_intelligence5  feature_intelligence6  \\\n0                   0.00                    0.5                   0.25   \n1                   0.25                    0.5                   0.00   \n\n   feature_intelligence7  feature_intelligence8  feature_intelligence9  \\\n0                   0.25                   0.25                   0.75   \n1                   0.00                   0.25                   0.50   \n\n   feature_intelligence10  ...  feature_wisdom37  feature_wisdom38  \\\n0                    0.75  ...              1.00               1.0   \n1                    0.50  ...              0.75               1.0   \n\n   feature_wisdom39  feature_wisdom40  feature_wisdom41  feature_wisdom42  \\\n0               1.0              0.75               0.5              0.75   \n1               1.0              0.00               0.0              0.75   \n\n   feature_wisdom43  feature_wisdom44  feature_wisdom45  feature_wisdom46  \n0              0.50               1.0              0.50              0.75  \n1              0.25               0.0              0.25              1.00  \n\n[2 rows x 310 columns]"
     },
     "execution_count": null,
     "metadata": {},
     "output_type": "execute_result"
    }
   ],
   "source": [
    "num_dataf.get_feature_data.head(2)"
   ]
  },
  {
   "cell_type": "markdown",
   "metadata": {},
   "source": [
    "`.get_target_data` retrieves all columns if the column name starts with `\"target\"`."
   ]
  },
  {
   "cell_type": "code",
   "execution_count": null,
   "metadata": {},
   "outputs": [
    {
     "data": {
      "text/html": "<div>\n<style scoped>\n    .dataframe tbody tr th:only-of-type {\n        vertical-align: middle;\n    }\n\n    .dataframe tbody tr th {\n        vertical-align: top;\n    }\n\n    .dataframe thead th {\n        text-align: right;\n    }\n</style>\n<table border=\"1\" class=\"dataframe\">\n  <thead>\n    <tr style=\"text-align: right;\">\n      <th></th>\n      <th>target</th>\n    </tr>\n  </thead>\n  <tbody>\n    <tr>\n      <th>0</th>\n      <td>0.50</td>\n    </tr>\n    <tr>\n      <th>1</th>\n      <td>0.25</td>\n    </tr>\n  </tbody>\n</table>\n</div>",
      "text/plain": "   target\n0    0.50\n1    0.25"
     },
     "execution_count": null,
     "metadata": {},
     "output_type": "execute_result"
    }
   ],
   "source": [
    "num_dataf.get_target_data.head(2)"
   ]
  },
  {
   "cell_type": "markdown",
   "metadata": {},
   "source": [
    "`.get_single_target_data` only retrieves the column `\"target\"`."
   ]
  },
  {
   "cell_type": "code",
   "execution_count": null,
   "metadata": {},
   "outputs": [
    {
     "data": {
      "text/html": "<div>\n<style scoped>\n    .dataframe tbody tr th:only-of-type {\n        vertical-align: middle;\n    }\n\n    .dataframe tbody tr th {\n        vertical-align: top;\n    }\n\n    .dataframe thead th {\n        text-align: right;\n    }\n</style>\n<table border=\"1\" class=\"dataframe\">\n  <thead>\n    <tr style=\"text-align: right;\">\n      <th></th>\n      <th>target</th>\n    </tr>\n  </thead>\n  <tbody>\n    <tr>\n      <th>0</th>\n      <td>0.50</td>\n    </tr>\n    <tr>\n      <th>1</th>\n      <td>0.25</td>\n    </tr>\n  </tbody>\n</table>\n</div>",
      "text/plain": "   target\n0    0.50\n1    0.25"
     },
     "execution_count": null,
     "metadata": {},
     "output_type": "execute_result"
    }
   ],
   "source": [
    "num_dataf.get_single_target_data.head(2)"
   ]
  },
  {
   "cell_type": "markdown",
   "metadata": {},
   "source": [
    "`.get_pattern_data` allows you to get columns based on a certain pattern. In this example we retrieve all 20-day targets."
   ]
  },
  {
   "cell_type": "code",
   "execution_count": null,
   "metadata": {},
   "outputs": [
    {
     "data": {
      "text/html": "<div>\n<style scoped>\n    .dataframe tbody tr th:only-of-type {\n        vertical-align: middle;\n    }\n\n    .dataframe tbody tr th {\n        vertical-align: top;\n    }\n\n    .dataframe thead th {\n        text-align: right;\n    }\n</style>\n<table border=\"1\" class=\"dataframe\">\n  <thead>\n    <tr style=\"text-align: right;\">\n      <th></th>\n    </tr>\n  </thead>\n  <tbody>\n    <tr>\n      <th>0</th>\n    </tr>\n    <tr>\n      <th>1</th>\n    </tr>\n  </tbody>\n</table>\n</div>",
      "text/plain": "Empty NumerFrame\nColumns: []\nIndex: [0, 1]"
     },
     "execution_count": null,
     "metadata": {},
     "output_type": "execute_result"
    }
   ],
   "source": [
    "num_dataf.get_pattern_data(\"_20\").head(2)"
   ]
  },
  {
   "cell_type": "code",
   "execution_count": null,
   "metadata": {},
   "outputs": [
    {
     "data": {
      "text/html": "<div>\n<style scoped>\n    .dataframe tbody tr th:only-of-type {\n        vertical-align: middle;\n    }\n\n    .dataframe tbody tr th {\n        vertical-align: top;\n    }\n\n    .dataframe thead th {\n        text-align: right;\n    }\n</style>\n<table border=\"1\" class=\"dataframe\">\n  <thead>\n    <tr style=\"text-align: right;\">\n      <th></th>\n      <th>id</th>\n      <th>era</th>\n      <th>data_type</th>\n      <th>feature_intelligence1</th>\n      <th>feature_intelligence2</th>\n      <th>feature_intelligence3</th>\n      <th>feature_intelligence4</th>\n      <th>feature_intelligence5</th>\n      <th>feature_intelligence6</th>\n      <th>feature_intelligence7</th>\n      <th>...</th>\n      <th>feature_wisdom38</th>\n      <th>feature_wisdom39</th>\n      <th>feature_wisdom40</th>\n      <th>feature_wisdom41</th>\n      <th>feature_wisdom42</th>\n      <th>feature_wisdom43</th>\n      <th>feature_wisdom44</th>\n      <th>feature_wisdom45</th>\n      <th>feature_wisdom46</th>\n      <th>target</th>\n    </tr>\n  </thead>\n  <tbody>\n    <tr>\n      <th>0</th>\n      <td>n000315175b67977</td>\n      <td>era1</td>\n      <td>train</td>\n      <td>0.00</td>\n      <td>0.50</td>\n      <td>0.25</td>\n      <td>0.00</td>\n      <td>0.5</td>\n      <td>0.25</td>\n      <td>0.25</td>\n      <td>...</td>\n      <td>1.00</td>\n      <td>1.00</td>\n      <td>0.75</td>\n      <td>0.50</td>\n      <td>0.75</td>\n      <td>0.50</td>\n      <td>1.00</td>\n      <td>0.50</td>\n      <td>0.75</td>\n      <td>0.50</td>\n    </tr>\n    <tr>\n      <th>1</th>\n      <td>n0014af834a96cdd</td>\n      <td>era1</td>\n      <td>train</td>\n      <td>0.00</td>\n      <td>0.00</td>\n      <td>0.00</td>\n      <td>0.25</td>\n      <td>0.5</td>\n      <td>0.00</td>\n      <td>0.00</td>\n      <td>...</td>\n      <td>1.00</td>\n      <td>1.00</td>\n      <td>0.00</td>\n      <td>0.00</td>\n      <td>0.75</td>\n      <td>0.25</td>\n      <td>0.00</td>\n      <td>0.25</td>\n      <td>1.00</td>\n      <td>0.25</td>\n    </tr>\n    <tr>\n      <th>2</th>\n      <td>n001c93979ac41d4</td>\n      <td>era1</td>\n      <td>train</td>\n      <td>0.25</td>\n      <td>0.50</td>\n      <td>0.25</td>\n      <td>0.25</td>\n      <td>1.0</td>\n      <td>0.75</td>\n      <td>0.75</td>\n      <td>...</td>\n      <td>0.25</td>\n      <td>0.50</td>\n      <td>0.00</td>\n      <td>0.00</td>\n      <td>0.50</td>\n      <td>1.00</td>\n      <td>0.00</td>\n      <td>0.25</td>\n      <td>0.75</td>\n      <td>0.25</td>\n    </tr>\n    <tr>\n      <th>3</th>\n      <td>n0034e4143f22a13</td>\n      <td>era1</td>\n      <td>train</td>\n      <td>1.00</td>\n      <td>0.00</td>\n      <td>0.00</td>\n      <td>0.50</td>\n      <td>0.5</td>\n      <td>0.25</td>\n      <td>0.25</td>\n      <td>...</td>\n      <td>1.00</td>\n      <td>1.00</td>\n      <td>0.75</td>\n      <td>0.75</td>\n      <td>1.00</td>\n      <td>1.00</td>\n      <td>0.75</td>\n      <td>1.00</td>\n      <td>1.00</td>\n      <td>0.25</td>\n    </tr>\n    <tr>\n      <th>4</th>\n      <td>n00679d1a636062f</td>\n      <td>era1</td>\n      <td>train</td>\n      <td>0.25</td>\n      <td>0.25</td>\n      <td>0.25</td>\n      <td>0.25</td>\n      <td>0.0</td>\n      <td>0.25</td>\n      <td>0.50</td>\n      <td>...</td>\n      <td>0.75</td>\n      <td>0.75</td>\n      <td>0.25</td>\n      <td>0.50</td>\n      <td>0.75</td>\n      <td>0.00</td>\n      <td>0.50</td>\n      <td>0.25</td>\n      <td>0.75</td>\n      <td>0.75</td>\n    </tr>\n  </tbody>\n</table>\n<p>5 rows × 314 columns</p>\n</div>",
      "text/plain": "                 id   era data_type  feature_intelligence1  \\\n0  n000315175b67977  era1     train                   0.00   \n1  n0014af834a96cdd  era1     train                   0.00   \n2  n001c93979ac41d4  era1     train                   0.25   \n3  n0034e4143f22a13  era1     train                   1.00   \n4  n00679d1a636062f  era1     train                   0.25   \n\n   feature_intelligence2  feature_intelligence3  feature_intelligence4  \\\n0                   0.50                   0.25                   0.00   \n1                   0.00                   0.00                   0.25   \n2                   0.50                   0.25                   0.25   \n3                   0.00                   0.00                   0.50   \n4                   0.25                   0.25                   0.25   \n\n   feature_intelligence5  feature_intelligence6  feature_intelligence7  ...  \\\n0                    0.5                   0.25                   0.25  ...   \n1                    0.5                   0.00                   0.00  ...   \n2                    1.0                   0.75                   0.75  ...   \n3                    0.5                   0.25                   0.25  ...   \n4                    0.0                   0.25                   0.50  ...   \n\n   feature_wisdom38  feature_wisdom39  feature_wisdom40  feature_wisdom41  \\\n0              1.00              1.00              0.75              0.50   \n1              1.00              1.00              0.00              0.00   \n2              0.25              0.50              0.00              0.00   \n3              1.00              1.00              0.75              0.75   \n4              0.75              0.75              0.25              0.50   \n\n   feature_wisdom42  feature_wisdom43  feature_wisdom44  feature_wisdom45  \\\n0              0.75              0.50              1.00              0.50   \n1              0.75              0.25              0.00              0.25   \n2              0.50              1.00              0.00              0.25   \n3              1.00              1.00              0.75              1.00   \n4              0.75              0.00              0.50              0.25   \n\n   feature_wisdom46  target  \n0              0.75    0.50  \n1              1.00    0.25  \n2              0.75    0.25  \n3              1.00    0.25  \n4              0.75    0.75  \n\n[5 rows x 314 columns]"
     },
     "execution_count": null,
     "metadata": {},
     "output_type": "execute_result"
    }
   ],
   "source": [
    "num_dataf.head()"
   ]
  },
  {
   "cell_type": "markdown",
   "metadata": {},
   "source": [
    "`.get_era_batch` will return a `tf.Tensor` or `np.array` with feature data and target data for one or more eras. Convenient for creating neural network DataGenerators."
   ]
  },
  {
   "cell_type": "code",
   "execution_count": null,
   "metadata": {},
   "outputs": [
    {
     "name": "stderr",
     "output_type": "stream",
     "text": [
      "2022-11-11 12:15:11.932838: I tensorflow/stream_executor/cuda/cuda_gpu_executor.cc:980] successful NUMA node read from SysFS had negative value (-1), but there must be at least one NUMA node, so returning NUMA node zero\n",
      "2022-11-11 12:15:11.946229: I tensorflow/stream_executor/cuda/cuda_gpu_executor.cc:980] successful NUMA node read from SysFS had negative value (-1), but there must be at least one NUMA node, so returning NUMA node zero\n",
      "2022-11-11 12:15:11.947022: I tensorflow/stream_executor/cuda/cuda_gpu_executor.cc:980] successful NUMA node read from SysFS had negative value (-1), but there must be at least one NUMA node, so returning NUMA node zero\n",
      "2022-11-11 12:15:11.948523: I tensorflow/core/platform/cpu_feature_guard.cc:193] This TensorFlow binary is optimized with oneAPI Deep Neural Network Library (oneDNN) to use the following CPU instructions in performance-critical operations:  AVX2 FMA\n",
      "To enable them in other operations, rebuild TensorFlow with the appropriate compiler flags.\n",
      "2022-11-11 12:15:11.950131: I tensorflow/stream_executor/cuda/cuda_gpu_executor.cc:980] successful NUMA node read from SysFS had negative value (-1), but there must be at least one NUMA node, so returning NUMA node zero\n",
      "2022-11-11 12:15:11.950910: I tensorflow/stream_executor/cuda/cuda_gpu_executor.cc:980] successful NUMA node read from SysFS had negative value (-1), but there must be at least one NUMA node, so returning NUMA node zero\n",
      "2022-11-11 12:15:11.951682: I tensorflow/stream_executor/cuda/cuda_gpu_executor.cc:980] successful NUMA node read from SysFS had negative value (-1), but there must be at least one NUMA node, so returning NUMA node zero\n",
      "2022-11-11 12:15:12.470933: I tensorflow/stream_executor/cuda/cuda_gpu_executor.cc:980] successful NUMA node read from SysFS had negative value (-1), but there must be at least one NUMA node, so returning NUMA node zero\n",
      "2022-11-11 12:15:12.471759: I tensorflow/stream_executor/cuda/cuda_gpu_executor.cc:980] successful NUMA node read from SysFS had negative value (-1), but there must be at least one NUMA node, so returning NUMA node zero\n",
      "2022-11-11 12:15:12.472586: I tensorflow/stream_executor/cuda/cuda_gpu_executor.cc:980] successful NUMA node read from SysFS had negative value (-1), but there must be at least one NUMA node, so returning NUMA node zero\n",
      "2022-11-11 12:15:12.473344: I tensorflow/core/common_runtime/gpu/gpu_device.cc:1616] Created device /job:localhost/replica:0/task:0/device:GPU:0 with 10787 MB memory:  -> device: 0, name: Tesla K80, pci bus id: 0000:00:04.0, compute capability: 3.7\n"
     ]
    },
    {
     "data": {
      "text/plain": "<tf.Tensor: shape=(10, 310), dtype=float16, numpy=\narray([[0.  , 0.5 , 0.25, ..., 1.  , 0.5 , 0.75],\n       [0.  , 0.  , 0.  , ..., 0.  , 0.25, 1.  ],\n       [0.25, 0.5 , 0.25, ..., 0.  , 0.25, 0.75],\n       ...,\n       [0.25, 1.  , 1.  , ..., 0.75, 0.5 , 0.25],\n       [0.5 , 0.5 , 0.5 , ..., 0.  , 0.  , 0.  ],\n       [0.5 , 1.  , 1.  , ..., 1.  , 1.  , 0.75]], dtype=float16)>"
     },
     "execution_count": null,
     "metadata": {},
     "output_type": "execute_result"
    }
   ],
   "source": [
    "X_era, y_era = num_dataf.get_era_batch(['era1'], convert_to_tf=True, dtype=tf.float16)\n",
    "X_era"
   ]
  },
  {
   "cell_type": "markdown",
   "metadata": {},
   "source": [
    "For people training autoencoders + MLP you can get a target that contains 3 elements: features, targets and targets. Just define `aemlp_batch=True`.\n",
    "More info on this setup: [AutoEncoder and multitask MLP on new dataset forum post](https://forum.numer.ai/t/autoencoder-and-multitask-mlp-on-new-dataset-from-kaggle-jane-street/4338)."
   ]
  },
  {
   "cell_type": "code",
   "execution_count": null,
   "metadata": {},
   "outputs": [
    {
     "data": {
      "text/plain": "[<tf.Tensor: shape=(10, 310), dtype=float16, numpy=\n array([[0.  , 0.5 , 0.25, ..., 1.  , 0.5 , 0.75],\n        [0.  , 0.  , 0.  , ..., 0.  , 0.25, 1.  ],\n        [0.25, 0.5 , 0.25, ..., 0.  , 0.25, 0.75],\n        ...,\n        [0.25, 1.  , 1.  , ..., 0.75, 0.5 , 0.25],\n        [0.5 , 0.5 , 0.5 , ..., 0.  , 0.  , 0.  ],\n        [0.5 , 1.  , 1.  , ..., 1.  , 1.  , 0.75]], dtype=float16)>,\n <tf.Tensor: shape=(10, 1), dtype=float16, numpy=\n array([[0.5 ],\n        [0.25],\n        [0.25],\n        [0.25],\n        [0.75],\n        [0.5 ],\n        [0.25],\n        [0.25],\n        [0.5 ],\n        [0.75]], dtype=float16)>,\n <tf.Tensor: shape=(10, 1), dtype=float16, numpy=\n array([[0.5 ],\n        [0.25],\n        [0.25],\n        [0.25],\n        [0.75],\n        [0.5 ],\n        [0.25],\n        [0.25],\n        [0.5 ],\n        [0.75]], dtype=float16)>]"
     },
     "execution_count": null,
     "metadata": {},
     "output_type": "execute_result"
    }
   ],
   "source": [
    "_, y_era_aemlp = num_dataf.get_era_batch(['era1'], convert_to_tf=True, aemlp_batch=True, dtype=tf.float16)\n",
    "y_era_aemlp"
   ]
  },
  {
   "cell_type": "markdown",
   "metadata": {},
   "source": [
    "`.aux_cols` denotes all columns that are not features, targets or prediction columns."
   ]
  },
  {
   "cell_type": "code",
   "execution_count": null,
   "metadata": {},
   "outputs": [
    {
     "data": {
      "text/plain": "['id', 'era', 'data_type']"
     },
     "execution_count": null,
     "metadata": {},
     "output_type": "execute_result"
    }
   ],
   "source": [
    "num_dataf.aux_cols"
   ]
  },
  {
   "cell_type": "code",
   "execution_count": null,
   "metadata": {},
   "outputs": [
    {
     "data": {
      "text/html": "<div>\n<style scoped>\n    .dataframe tbody tr th:only-of-type {\n        vertical-align: middle;\n    }\n\n    .dataframe tbody tr th {\n        vertical-align: top;\n    }\n\n    .dataframe thead th {\n        text-align: right;\n    }\n</style>\n<table border=\"1\" class=\"dataframe\">\n  <thead>\n    <tr style=\"text-align: right;\">\n      <th></th>\n      <th>id</th>\n      <th>era</th>\n      <th>data_type</th>\n    </tr>\n  </thead>\n  <tbody>\n    <tr>\n      <th>0</th>\n      <td>n000315175b67977</td>\n      <td>era1</td>\n      <td>train</td>\n    </tr>\n    <tr>\n      <th>1</th>\n      <td>n0014af834a96cdd</td>\n      <td>era1</td>\n      <td>train</td>\n    </tr>\n  </tbody>\n</table>\n</div>",
      "text/plain": "                 id   era data_type\n0  n000315175b67977  era1     train\n1  n0014af834a96cdd  era1     train"
     },
     "execution_count": null,
     "metadata": {},
     "output_type": "execute_result"
    }
   ],
   "source": [
    "num_dataf.get_aux_data.head(2)"
   ]
  },
  {
   "cell_type": "code",
   "execution_count": null,
   "metadata": {},
   "outputs": [],
   "source": [
    "num_dataf['prediction_1'] = np.random.uniform(size=len(num_dataf))\n",
    "num_dataf['prediction_2'] = np.random.uniform(size=len(num_dataf))"
   ]
  },
  {
   "cell_type": "markdown",
   "metadata": {},
   "source": [
    "To track new columns like prediction columns, make sure to initialize a new `NumerFrame`. Prediction columns can easily be retrieved with `.get_prediction_data` and `get_prediction_aux_data` if you want to also get columns like `era` and `data_type`. This can be handy for ensembling and submission use cases."
   ]
  },
  {
   "cell_type": "code",
   "execution_count": null,
   "metadata": {},
   "outputs": [],
   "source": [
    "num_dataf = NumerFrame(num_dataf)"
   ]
  },
  {
   "cell_type": "code",
   "execution_count": null,
   "metadata": {},
   "outputs": [
    {
     "data": {
      "text/html": "<div>\n<style scoped>\n    .dataframe tbody tr th:only-of-type {\n        vertical-align: middle;\n    }\n\n    .dataframe tbody tr th {\n        vertical-align: top;\n    }\n\n    .dataframe thead th {\n        text-align: right;\n    }\n</style>\n<table border=\"1\" class=\"dataframe\">\n  <thead>\n    <tr style=\"text-align: right;\">\n      <th></th>\n      <th>prediction_1</th>\n      <th>prediction_2</th>\n    </tr>\n  </thead>\n  <tbody>\n    <tr>\n      <th>0</th>\n      <td>0.328964</td>\n      <td>0.902012</td>\n    </tr>\n    <tr>\n      <th>1</th>\n      <td>0.266986</td>\n      <td>0.526574</td>\n    </tr>\n  </tbody>\n</table>\n</div>",
      "text/plain": "   prediction_1  prediction_2\n0      0.328964      0.902012\n1      0.266986      0.526574"
     },
     "execution_count": null,
     "metadata": {},
     "output_type": "execute_result"
    }
   ],
   "source": [
    "num_dataf.get_prediction_data.head(2)"
   ]
  },
  {
   "cell_type": "code",
   "execution_count": null,
   "metadata": {},
   "outputs": [
    {
     "data": {
      "text/html": "<div>\n<style scoped>\n    .dataframe tbody tr th:only-of-type {\n        vertical-align: middle;\n    }\n\n    .dataframe tbody tr th {\n        vertical-align: top;\n    }\n\n    .dataframe thead th {\n        text-align: right;\n    }\n</style>\n<table border=\"1\" class=\"dataframe\">\n  <thead>\n    <tr style=\"text-align: right;\">\n      <th></th>\n      <th>prediction_1</th>\n      <th>prediction_2</th>\n      <th>id</th>\n      <th>era</th>\n      <th>data_type</th>\n    </tr>\n  </thead>\n  <tbody>\n    <tr>\n      <th>0</th>\n      <td>0.328964</td>\n      <td>0.902012</td>\n      <td>n000315175b67977</td>\n      <td>era1</td>\n      <td>train</td>\n    </tr>\n    <tr>\n      <th>1</th>\n      <td>0.266986</td>\n      <td>0.526574</td>\n      <td>n0014af834a96cdd</td>\n      <td>era1</td>\n      <td>train</td>\n    </tr>\n  </tbody>\n</table>\n</div>",
      "text/plain": "   prediction_1  prediction_2                id   era data_type\n0      0.328964      0.902012  n000315175b67977  era1     train\n1      0.266986      0.526574  n0014af834a96cdd  era1     train"
     },
     "execution_count": null,
     "metadata": {},
     "output_type": "execute_result"
    }
   ],
   "source": [
    "num_dataf.get_prediction_aux_data.head(2)"
   ]
  },
  {
   "cell_type": "code",
   "execution_count": null,
   "metadata": {},
   "outputs": [
    {
     "data": {
      "text/plain": "{'era_col': 'era'}"
     },
     "execution_count": null,
     "metadata": {},
     "output_type": "execute_result"
    }
   ],
   "source": [
    "num_dataf.meta"
   ]
  },
  {
   "cell_type": "markdown",
   "metadata": {},
   "source": [
    "Because `NumerFrame` inherits from `pd.DataFrame` you still have all functionality of a normal DataFrame at your disposal, like copying."
   ]
  },
  {
   "cell_type": "code",
   "execution_count": null,
   "metadata": {},
   "outputs": [],
   "source": [
    "dataf2 = num_dataf.copy()\n",
    "assert dataf2.equals(num_dataf)"
   ]
  },
  {
   "cell_type": "markdown",
   "metadata": {},
   "source": [
    "`NumerFrame` dynamically tracks which feature, target, aux and prediction columns there are when initialized. For example, here we add a new prediction column. Upon initialization the column will be contained in `prediction_cols`. Prediction columns are all column names that start with `prediction`."
   ]
  },
  {
   "cell_type": "code",
   "execution_count": null,
   "metadata": {},
   "outputs": [],
   "source": [
    "num_dataf.loc[:, \"prediction_test_1\"] = np.random.uniform(size=len(num_dataf))\n",
    "new_dataset = NumerFrame(num_dataf)\n",
    "assert \"prediction_test_1\" in new_dataset.prediction_cols"
   ]
  },
  {
   "cell_type": "markdown",
   "metadata": {},
   "source": [
    "Arbitrary columns van be retrieved with `.get_column_selection`. The input argument can be either a string or a list with column names."
   ]
  },
  {
   "cell_type": "code",
   "execution_count": null,
   "metadata": {},
   "outputs": [
    {
     "data": {
      "text/html": "<div>\n<style scoped>\n    .dataframe tbody tr th:only-of-type {\n        vertical-align: middle;\n    }\n\n    .dataframe tbody tr th {\n        vertical-align: top;\n    }\n\n    .dataframe thead th {\n        text-align: right;\n    }\n</style>\n<table border=\"1\" class=\"dataframe\">\n  <thead>\n    <tr style=\"text-align: right;\">\n      <th></th>\n      <th>era</th>\n    </tr>\n  </thead>\n  <tbody>\n    <tr>\n      <th>0</th>\n      <td>era1</td>\n    </tr>\n    <tr>\n      <th>1</th>\n      <td>era1</td>\n    </tr>\n  </tbody>\n</table>\n</div>",
      "text/plain": "    era\n0  era1\n1  era1"
     },
     "execution_count": null,
     "metadata": {},
     "output_type": "execute_result"
    }
   ],
   "source": [
    "selection1 = num_dataf.get_column_selection(\"era\")\n",
    "selection1.head(2)"
   ]
  },
  {
   "cell_type": "code",
   "execution_count": null,
   "metadata": {},
   "outputs": [
    {
     "data": {
      "text/html": "<div>\n<style scoped>\n    .dataframe tbody tr th:only-of-type {\n        vertical-align: middle;\n    }\n\n    .dataframe tbody tr th {\n        vertical-align: top;\n    }\n\n    .dataframe thead th {\n        text-align: right;\n    }\n</style>\n<table border=\"1\" class=\"dataframe\">\n  <thead>\n    <tr style=\"text-align: right;\">\n      <th></th>\n      <th>era</th>\n      <th>prediction_test_1</th>\n    </tr>\n  </thead>\n  <tbody>\n    <tr>\n      <th>0</th>\n      <td>era1</td>\n      <td>0.871487</td>\n    </tr>\n    <tr>\n      <th>1</th>\n      <td>era1</td>\n      <td>0.010738</td>\n    </tr>\n  </tbody>\n</table>\n</div>",
      "text/plain": "    era  prediction_test_1\n0  era1           0.871487\n1  era1           0.010738"
     },
     "execution_count": null,
     "metadata": {},
     "output_type": "execute_result"
    }
   ],
   "source": [
    "selection2 = num_dataf.get_column_selection([\"era\", \"prediction_test_1\"])\n",
    "selection2.head(2)"
   ]
  },
  {
   "cell_type": "code",
   "execution_count": null,
   "metadata": {},
   "outputs": [],
   "source": [
    "#| include: false\n",
    "for sel in [selection1, selection2]:\n",
    "    assert isinstance(sel, NumerFrame)"
   ]
  },
  {
   "cell_type": "markdown",
   "metadata": {},
   "source": [
    "For convenience we can get a feature, target pair with one method. If `multi_target=True` all columns where the column name starts with `target` will be retrieved."
   ]
  },
  {
   "cell_type": "code",
   "execution_count": null,
   "metadata": {},
   "outputs": [
    {
     "data": {
      "text/html": "<div>\n<style scoped>\n    .dataframe tbody tr th:only-of-type {\n        vertical-align: middle;\n    }\n\n    .dataframe tbody tr th {\n        vertical-align: top;\n    }\n\n    .dataframe thead th {\n        text-align: right;\n    }\n</style>\n<table border=\"1\" class=\"dataframe\">\n  <thead>\n    <tr style=\"text-align: right;\">\n      <th></th>\n      <th>feature_intelligence1</th>\n      <th>feature_intelligence2</th>\n      <th>feature_intelligence3</th>\n      <th>feature_intelligence4</th>\n      <th>feature_intelligence5</th>\n      <th>feature_intelligence6</th>\n      <th>feature_intelligence7</th>\n      <th>feature_intelligence8</th>\n      <th>feature_intelligence9</th>\n      <th>feature_intelligence10</th>\n      <th>...</th>\n      <th>feature_wisdom37</th>\n      <th>feature_wisdom38</th>\n      <th>feature_wisdom39</th>\n      <th>feature_wisdom40</th>\n      <th>feature_wisdom41</th>\n      <th>feature_wisdom42</th>\n      <th>feature_wisdom43</th>\n      <th>feature_wisdom44</th>\n      <th>feature_wisdom45</th>\n      <th>feature_wisdom46</th>\n    </tr>\n  </thead>\n  <tbody>\n    <tr>\n      <th>0</th>\n      <td>0.0</td>\n      <td>0.5</td>\n      <td>0.25</td>\n      <td>0.00</td>\n      <td>0.5</td>\n      <td>0.25</td>\n      <td>0.25</td>\n      <td>0.25</td>\n      <td>0.75</td>\n      <td>0.75</td>\n      <td>...</td>\n      <td>1.00</td>\n      <td>1.0</td>\n      <td>1.0</td>\n      <td>0.75</td>\n      <td>0.5</td>\n      <td>0.75</td>\n      <td>0.50</td>\n      <td>1.0</td>\n      <td>0.50</td>\n      <td>0.75</td>\n    </tr>\n    <tr>\n      <th>1</th>\n      <td>0.0</td>\n      <td>0.0</td>\n      <td>0.00</td>\n      <td>0.25</td>\n      <td>0.5</td>\n      <td>0.00</td>\n      <td>0.00</td>\n      <td>0.25</td>\n      <td>0.50</td>\n      <td>0.50</td>\n      <td>...</td>\n      <td>0.75</td>\n      <td>1.0</td>\n      <td>1.0</td>\n      <td>0.00</td>\n      <td>0.0</td>\n      <td>0.75</td>\n      <td>0.25</td>\n      <td>0.0</td>\n      <td>0.25</td>\n      <td>1.00</td>\n    </tr>\n  </tbody>\n</table>\n<p>2 rows × 310 columns</p>\n</div>",
      "text/plain": "   feature_intelligence1  feature_intelligence2  feature_intelligence3  \\\n0                    0.0                    0.5                   0.25   \n1                    0.0                    0.0                   0.00   \n\n   feature_intelligence4  feature_intelligence5  feature_intelligence6  \\\n0                   0.00                    0.5                   0.25   \n1                   0.25                    0.5                   0.00   \n\n   feature_intelligence7  feature_intelligence8  feature_intelligence9  \\\n0                   0.25                   0.25                   0.75   \n1                   0.00                   0.25                   0.50   \n\n   feature_intelligence10  ...  feature_wisdom37  feature_wisdom38  \\\n0                    0.75  ...              1.00               1.0   \n1                    0.50  ...              0.75               1.0   \n\n   feature_wisdom39  feature_wisdom40  feature_wisdom41  feature_wisdom42  \\\n0               1.0              0.75               0.5              0.75   \n1               1.0              0.00               0.0              0.75   \n\n   feature_wisdom43  feature_wisdom44  feature_wisdom45  feature_wisdom46  \n0              0.50               1.0              0.50              0.75  \n1              0.25               0.0              0.25              1.00  \n\n[2 rows x 310 columns]"
     },
     "execution_count": null,
     "metadata": {},
     "output_type": "execute_result"
    }
   ],
   "source": [
    "features, single_target = num_dataf.get_feature_target_pair(multi_target=False)\n",
    "features.head(2)"
   ]
  },
  {
   "cell_type": "code",
   "execution_count": null,
   "metadata": {},
   "outputs": [
    {
     "data": {
      "text/html": "<div>\n<style scoped>\n    .dataframe tbody tr th:only-of-type {\n        vertical-align: middle;\n    }\n\n    .dataframe tbody tr th {\n        vertical-align: top;\n    }\n\n    .dataframe thead th {\n        text-align: right;\n    }\n</style>\n<table border=\"1\" class=\"dataframe\">\n  <thead>\n    <tr style=\"text-align: right;\">\n      <th></th>\n      <th>target</th>\n    </tr>\n  </thead>\n  <tbody>\n    <tr>\n      <th>0</th>\n      <td>0.50</td>\n    </tr>\n    <tr>\n      <th>1</th>\n      <td>0.25</td>\n    </tr>\n  </tbody>\n</table>\n</div>",
      "text/plain": "   target\n0    0.50\n1    0.25"
     },
     "execution_count": null,
     "metadata": {},
     "output_type": "execute_result"
    }
   ],
   "source": [
    "single_target.head(2)"
   ]
  },
  {
   "cell_type": "markdown",
   "metadata": {},
   "source": [
    "-----------------------------------------------"
   ]
  },
  {
   "cell_type": "code",
   "execution_count": null,
   "metadata": {},
   "outputs": [],
   "source": []
  }
 ],
 "metadata": {
  "kernelspec": {
   "display_name": "Python 3.9.12 ('numerblox')",
   "language": "python",
   "name": "python3"
  }
 },
 "nbformat": 4,
 "nbformat_minor": 0
}