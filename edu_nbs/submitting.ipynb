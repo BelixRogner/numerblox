{
 "cells": [
  {
   "cell_type": "code",
   "execution_count": 1,
   "metadata": {
    "collapsed": true
   },
   "outputs": [],
   "source": [
    "# hide\n",
    "from nbdev.showdoc import *"
   ]
  },
  {
   "cell_type": "markdown",
   "source": [
    "# Easy submission example"
   ],
   "metadata": {
    "collapsed": false
   }
  },
  {
   "cell_type": "code",
   "execution_count": 2,
   "outputs": [],
   "source": [
    "import pandas as pd\n",
    "from nbdev import show_doc\n",
    "from numerai_blocks.key import Key, load_key_from_json\n",
    "from numerai_blocks.submission import NumeraiClassicSubmittor, NumeraiSignalsSubmittor"
   ],
   "metadata": {
    "collapsed": false,
    "pycharm": {
     "name": "#%%\n"
    }
   }
  },
  {
   "cell_type": "markdown",
   "source": [
    "In order to use a Submittor you should first create a `Key` object which handles credentials.\n",
    "There are two ways to create a `Key`:\n",
    "\n",
    "**1. Initialize `Key` with `pub_id` and `secret_key` from memory.**"
   ],
   "metadata": {
    "collapsed": false
   }
  },
  {
   "cell_type": "code",
   "execution_count": 3,
   "outputs": [
    {
     "data": {
      "text/plain": "🔑 Numerai Auth key initialized with pub_id = \u001B[32m'UFVCTElDX0lE'\u001B[0m 🔑\n",
      "text/html": "<pre style=\"white-space:pre;overflow-x:auto;line-height:normal;font-family:Menlo,'DejaVu Sans Mono',consolas,'Courier New',monospace\">🔑 Numerai Auth key initialized with pub_id = <span style=\"color: #008000; text-decoration-color: #008000\">'UFVCTElDX0lE'</span> 🔑\n</pre>\n"
     },
     "metadata": {},
     "output_type": "display_data"
    },
    {
     "data": {
      "text/plain": "Numerai Auth Key. pub_id = 'UFVCTElDX0lE'"
     },
     "execution_count": 3,
     "metadata": {},
     "output_type": "execute_result"
    }
   ],
   "source": [
    "# Random credentials\n",
    "pub_id = \"UFVCTElDX0lE\"\n",
    "secret_key = \"U1VQRVJfU0VDUkVUX0tFWQ==\"\n",
    "key = Key(pub_id=pub_id, secret_key=secret_key)\n",
    "key"
   ],
   "metadata": {
    "collapsed": false,
    "pycharm": {
     "name": "#%%\n"
    }
   }
  },
  {
   "cell_type": "markdown",
   "source": [
    "**2. Load credentials from `.json` file with `load_key_from_json`.**\n",
    "\n",
    "JSON file should have the following format:\n",
    "```json\n",
    "{\"pub_id\": \"PUBLIC_ID\", \"secret_key\": \"SECRET_KEY\"}\n",
    "```\n",
    "We recommend loading from `.json`. With this method you only have to save your credentials in one (safe) place and avoid leaving reference to a secret key in Python code."
   ],
   "metadata": {
    "collapsed": false
   }
  },
  {
   "cell_type": "code",
   "execution_count": 4,
   "outputs": [
    {
     "data": {
      "text/plain": "🔑 Numerai Auth key initialized with pub_id = \u001B[32m'UFVCTElDX0lE'\u001B[0m 🔑\n",
      "text/html": "<pre style=\"white-space:pre;overflow-x:auto;line-height:normal;font-family:Menlo,'DejaVu Sans Mono',consolas,'Courier New',monospace\">🔑 Numerai Auth key initialized with pub_id = <span style=\"color: #008000; text-decoration-color: #008000\">'UFVCTElDX0lE'</span> 🔑\n</pre>\n"
     },
     "metadata": {},
     "output_type": "display_data"
    },
    {
     "data": {
      "text/plain": "Numerai Auth Key. pub_id = 'UFVCTElDX0lE'"
     },
     "execution_count": 4,
     "metadata": {},
     "output_type": "execute_result"
    }
   ],
   "source": [
    "# Random credentials\n",
    "key = load_key_from_json(\"../nbs/test_assets/test_credentials.json\")\n",
    "key"
   ],
   "metadata": {
    "collapsed": false,
    "pycharm": {
     "name": "#%%\n"
    }
   }
  },
  {
   "cell_type": "code",
   "execution_count": 5,
   "outputs": [
    {
     "data": {
      "text/plain": "<IPython.core.display.Markdown object>",
      "text/markdown": "<h2 id=\"Key\" class=\"doc_header\"><code>class</code> <code>Key</code><a href=\"https://github.com/crowdcent/numerai_blocks/tree/main/numerai_blocks/key.py#L12\" class=\"source_link\" style=\"float:right\">[source]</a></h2>\n\n> <code>Key</code>(**`pub_id`**:`str`, **`secret_key`**:`str`)\n\nImmutable Numerai credentials."
     },
     "metadata": {},
     "output_type": "display_data"
    }
   ],
   "source": [
    "# hide_input\n",
    "show_doc(Key)"
   ],
   "metadata": {
    "collapsed": false,
    "pycharm": {
     "name": "#%%\n"
    }
   }
  },
  {
   "cell_type": "markdown",
   "source": [
    "--------------------------------------------------"
   ],
   "metadata": {
    "collapsed": false
   }
  },
  {
   "cell_type": "markdown",
   "source": [
    "## 1. Numerai Classic"
   ],
   "metadata": {
    "collapsed": false
   }
  },
  {
   "cell_type": "markdown",
   "source": [
    "Submissions can be done in 2 lines of code. To initialize the submittor object, pass a directory path for saving submissions and a `Key` object.\n",
    "\n",
    "`NumeraiClassicSubmittor.full_submission` will perform:\n",
    " 1. Checks to prevent surprise behavior (including value range and column validity)\n",
    " 2. Saving to CSV\n",
    " 3. Uploading with `numerapi`.\n",
    "\n",
    "The `dataf` argument can be either a `pd.DataFrame` or `NumerFrame`.\n",
    "\n",
    "For multi-target, specify a list of targets in `cols`."
   ],
   "metadata": {
    "collapsed": false
   }
  },
  {
   "cell_type": "code",
   "execution_count": 6,
   "outputs": [
    {
     "data": {
      "text/plain": "No existing directory found at \u001B[32m'\u001B[0m\u001B[34msub_current_round\u001B[0m\u001B[32m'\u001B[0m. Creating directory\u001B[33m...\u001B[0m\n",
      "text/html": "<pre style=\"white-space:pre;overflow-x:auto;line-height:normal;font-family:Menlo,'DejaVu Sans Mono',consolas,'Courier New',monospace\">No existing directory found at <span style=\"color: #008000; text-decoration-color: #008000\">'</span><span style=\"color: #000080; text-decoration-color: #000080\">sub_current_round</span><span style=\"color: #008000; text-decoration-color: #008000\">'</span>. Creating directory<span style=\"color: #808000; text-decoration-color: #808000\">...</span>\n</pre>\n"
     },
     "metadata": {},
     "output_type": "display_data"
    }
   ],
   "source": [
    "submittor = NumeraiClassicSubmittor(directory_path=\"sub_current_round\", key=key)\n",
    "# Your prediction file with 'id' as index and defined 'cols' below.\n",
    "dataf = pd.DataFrame(columns=[\"prediction\"])\n",
    "# Only works with valid key credentials\n",
    "# submittor.full_submission(dataf=dataf,\n",
    "#                           cols=\"prediction\",\n",
    "#                           file_name=\"submission.csv\",\n",
    "#                           model_name=\"integration_test\",\n",
    "#                           version=2\n",
    "#                           )"
   ],
   "metadata": {
    "collapsed": false,
    "pycharm": {
     "name": "#%%\n"
    }
   }
  },
  {
   "cell_type": "markdown",
   "source": [
    "For this example, `submission.csv` can now be found on path `sub_current_round/submission.csv` and predictions are submitted for `integration_test`. Of course the uploading only works with valid credentials in the `Key`.\n",
    "\n",
    "\n",
    "Alternatively, you can use `NumeraiClassicSubmittor` to save a csv and also benefit from all the checks performed by the Submittor."
   ],
   "metadata": {
    "collapsed": false
   }
  },
  {
   "cell_type": "code",
   "execution_count": 7,
   "outputs": [
    {
     "data": {
      "text/plain": "📄 Saving predictions CSV to \u001B[32m'sub_current_round/submission.csv'\u001B[0m. 📄\n",
      "text/html": "<pre style=\"white-space:pre;overflow-x:auto;line-height:normal;font-family:Menlo,'DejaVu Sans Mono',consolas,'Courier New',monospace\">📄 Saving predictions CSV to <span style=\"color: #008000; text-decoration-color: #008000\">'sub_current_round/submission.csv'</span>. 📄\n</pre>\n"
     },
     "metadata": {},
     "output_type": "display_data"
    }
   ],
   "source": [
    "submittor.save_csv(dataf=dataf, cols='prediction', file_name='submission.csv')"
   ],
   "metadata": {
    "collapsed": false,
    "pycharm": {
     "name": "#%%\n"
    }
   }
  },
  {
   "cell_type": "code",
   "execution_count": 8,
   "outputs": [
    {
     "data": {
      "text/plain": "<IPython.core.display.Markdown object>",
      "text/markdown": "<h2 id=\"NumeraiClassicSubmittor\" class=\"doc_header\"><code>class</code> <code>NumeraiClassicSubmittor</code><a href=\"https://github.com/crowdcent/numerai_blocks/tree/main/numerai_blocks/submission.py#L117\" class=\"source_link\" style=\"float:right\">[source]</a></h2>\n\n> <code>NumeraiClassicSubmittor</code>(**`directory_path`**:`str`, **`key`**:[`Key`](/numerai_blocks/key.html#Key), **\\*`args`**, **\\*\\*`kwargs`**) :: [`BaseSubmittor`](/numerai_blocks/submission.html#BaseSubmittor)\n\nSubmit for Numerai Classic.\n:param directory_path: Base directory to save and read prediction files from.\n:param key: Key object (numerai-blocks.key.Key) containing valid credentials for Numerai Classic.\n*args, **kwargs will be passed to NumerAPI initialization."
     },
     "metadata": {},
     "output_type": "display_data"
    }
   ],
   "source": [
    "#hide_input\n",
    "show_doc(NumeraiClassicSubmittor)"
   ],
   "metadata": {
    "collapsed": false,
    "pycharm": {
     "name": "#%%\n"
    }
   }
  },
  {
   "cell_type": "markdown",
   "source": [
    "----------------------------------------------------"
   ],
   "metadata": {
    "collapsed": false
   }
  },
  {
   "cell_type": "markdown",
   "source": [
    "## 2. Numerai Signals\n",
    "\n",
    "`NumeraiSignalsSubmittor` is very similar to `NumeraiClassicSubmittor`, but has a few additional checks specific to Signals. Mainly, it checks if the data contains a valid ticker column (`\"cusip\"`, `\"sedol\"`, `\"ticker\"`, `\"numerai_ticker\"` or `\"bloomberg_ticker\"`) and a `'signal'` column.\n",
    "\n",
    "`NumeraiSignalsSubmittor.full_submission` handles checks, saving of CSV and uploading with `numerapi`."
   ],
   "metadata": {
    "collapsed": false
   }
  },
  {
   "cell_type": "code",
   "execution_count": 9,
   "outputs": [],
   "source": [
    "submittor = NumeraiSignalsSubmittor(directory_path=\"sub_current_round\", key=key)\n",
    "# Your prediction file with 'id' as index, a valid ticker column and signal column below.\n",
    "dataf = pd.DataFrame(columns=['bloomberg_ticker', 'signal'])\n",
    "# Only works with valid key credentials\n",
    "# submittor.full_submission(dataf=dataf,\n",
    "#                           cols=[\"bloomberg_ticker\", \"signal\"],\n",
    "#                           file_name=\"submission.csv\",\n",
    "#                           model_name=\"integration_test\"\n",
    "#                           )"
   ],
   "metadata": {
    "collapsed": false,
    "pycharm": {
     "name": "#%%\n"
    }
   }
  },
  {
   "cell_type": "markdown",
   "source": [
    "You also have the option to use `.save_csv` separately and still benefit from the checks the submittor performs. It will save the columns `'bloomberg_ticker'` and `'signal'` by default. If your use case is different define the columns you want to save in the `cols` argument."
   ],
   "metadata": {
    "collapsed": false
   }
  },
  {
   "cell_type": "code",
   "execution_count": 10,
   "outputs": [
    {
     "data": {
      "text/plain": "📄 Saving Signals predictions CSV to \u001B[32m'sub_current_round/submission.csv'\u001B[0m. 📄\n",
      "text/html": "<pre style=\"white-space:pre;overflow-x:auto;line-height:normal;font-family:Menlo,'DejaVu Sans Mono',consolas,'Courier New',monospace\">📄 Saving Signals predictions CSV to <span style=\"color: #008000; text-decoration-color: #008000\">'sub_current_round/submission.csv'</span>. 📄\n</pre>\n"
     },
     "metadata": {},
     "output_type": "display_data"
    }
   ],
   "source": [
    "submittor.save_csv(dataf=dataf, file_name='submission.csv')"
   ],
   "metadata": {
    "collapsed": false,
    "pycharm": {
     "name": "#%%\n"
    }
   }
  },
  {
   "cell_type": "code",
   "execution_count": 11,
   "outputs": [
    {
     "data": {
      "text/plain": "<IPython.core.display.Markdown object>",
      "text/markdown": "<h2 id=\"NumeraiSignalsSubmittor\" class=\"doc_header\"><code>class</code> <code>NumeraiSignalsSubmittor</code><a href=\"https://github.com/crowdcent/numerai_blocks/tree/main/numerai_blocks/submission.py#L152\" class=\"source_link\" style=\"float:right\">[source]</a></h2>\n\n> <code>NumeraiSignalsSubmittor</code>(**`directory_path`**:`str`, **`key`**:[`Key`](/numerai_blocks/key.html#Key), **\\*`args`**, **\\*\\*`kwargs`**) :: [`BaseSubmittor`](/numerai_blocks/submission.html#BaseSubmittor)\n\nSubmit for Numerai Signals\n:param directory_path: Base directory to save and read prediction files from.\n:param key: Key object (numerai-blocks.key.Key) containing valid credentials for Numerai Signals.\n*args, **kwargs will be passed to SignalsAPI initialization."
     },
     "metadata": {},
     "output_type": "display_data"
    }
   ],
   "source": [
    "#hide_input\n",
    "show_doc(NumeraiSignalsSubmittor)"
   ],
   "metadata": {
    "collapsed": false,
    "pycharm": {
     "name": "#%%\n"
    }
   }
  },
  {
   "cell_type": "markdown",
   "source": [
    "-----------------------------------------------------"
   ],
   "metadata": {
    "collapsed": false
   }
  },
  {
   "cell_type": "markdown",
   "source": [
    "When you are done with submissions and don't need the submission anymore you can remove the submission directory with 1 line. Convenient if you have automated jobs and want to avoid clutter due to saving submission files for every round."
   ],
   "metadata": {
    "collapsed": false
   }
  },
  {
   "cell_type": "code",
   "execution_count": 12,
   "outputs": [
    {
     "data": {
      "text/plain": "⚠ \u001B[31mDeleting directory for \u001B[0m\u001B[31m'NumeraiSignalsSubmittor\u001B[0m\u001B[32m'\u001B[0m ⚠\nPath: \n\u001B[32m'/Users/clepelaars/Desktop/crowdcent/repositories/numerai-blocks/edu_nbs/sub_current_round'\u001B[0m\n",
      "text/html": "<pre style=\"white-space:pre;overflow-x:auto;line-height:normal;font-family:Menlo,'DejaVu Sans Mono',consolas,'Courier New',monospace\">⚠ <span style=\"color: #800000; text-decoration-color: #800000\">Deleting directory for </span><span style=\"color: #800000; text-decoration-color: #800000\">'NumeraiSignalsSubmittor</span><span style=\"color: #008000; text-decoration-color: #008000\">'</span> ⚠\nPath: \n<span style=\"color: #008000; text-decoration-color: #008000\">'/Users/clepelaars/Desktop/crowdcent/repositories/numerai-blocks/edu_nbs/sub_current_round'</span>\n</pre>\n"
     },
     "metadata": {},
     "output_type": "display_data"
    }
   ],
   "source": [
    "# Clean up environment\n",
    "submittor.remove_base_directory()"
   ],
   "metadata": {
    "collapsed": false,
    "pycharm": {
     "name": "#%%\n"
    }
   }
  },
  {
   "cell_type": "code",
   "execution_count": 13,
   "outputs": [
    {
     "data": {
      "text/plain": "<IPython.core.display.Markdown object>",
      "text/markdown": "<h4 id=\"BaseIO.remove_base_directory\" class=\"doc_header\"><code>BaseIO.remove_base_directory</code><a href=\"https://github.com/crowdcent/numerai_blocks/tree/main/numerai_blocks/download.py#L31\" class=\"source_link\" style=\"float:right\">[source]</a></h4>\n\n> <code>BaseIO.remove_base_directory</code>()\n\nRemove directory with all contents."
     },
     "metadata": {},
     "output_type": "display_data"
    }
   ],
   "source": [
    "#hide_input\n",
    "show_doc(submittor.remove_base_directory)"
   ],
   "metadata": {
    "collapsed": false,
    "pycharm": {
     "name": "#%%\n"
    }
   }
  },
  {
   "cell_type": "code",
   "execution_count": 13,
   "outputs": [],
   "source": [],
   "metadata": {
    "collapsed": false,
    "pycharm": {
     "name": "#%%\n"
    }
   }
  }
 ],
 "metadata": {
  "kernelspec": {
   "display_name": "Python 3",
   "language": "python",
   "name": "python3"
  },
  "language_info": {
   "codemirror_mode": {
    "name": "ipython",
    "version": 2
   },
   "file_extension": ".py",
   "mimetype": "text/x-python",
   "name": "python",
   "nbconvert_exporter": "python",
   "pygments_lexer": "ipython2",
   "version": "2.7.6"
  }
 },
 "nbformat": 4,
 "nbformat_minor": 0
}