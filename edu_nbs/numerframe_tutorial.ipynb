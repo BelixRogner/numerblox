{
 "cells": [
  {
   "cell_type": "code",
   "execution_count": 1,
   "metadata": {
    "collapsed": true
   },
   "outputs": [],
   "source": [
    "# hide\n",
    "from nbdev.showdoc import *"
   ]
  },
  {
   "cell_type": "markdown",
   "source": [
    "# NumerFrame tutorial and custom TensorFlow Generator example"
   ],
   "metadata": {
    "collapsed": false
   }
  },
  {
   "cell_type": "markdown",
   "source": [
    "This tutorial introduces core functionality of `NumerFrame` and how to build a custom TensorFlow DataGenerator using the `NumerFrame`. This application is a good example of how `NumerFrame` can make it easier to implement Numerai specific applications."
   ],
   "metadata": {
    "collapsed": false
   }
  },
  {
   "cell_type": "code",
   "execution_count": 2,
   "outputs": [],
   "source": [
    "from nbdev import show_doc\n",
    "from numerai_blocks.numerframe import create_numerframe, NumerFrame\n",
    "from numerai_blocks.download import NumeraiClassicDownloader"
   ],
   "metadata": {
    "collapsed": false,
    "pycharm": {
     "name": "#%%\n"
    }
   }
  },
  {
   "cell_type": "markdown",
   "source": [
    "First, we download validation data using `NumeraiClassicDownloader`."
   ],
   "metadata": {
    "collapsed": false,
    "pycharm": {
     "name": "#%% md\n"
    }
   }
  },
  {
   "cell_type": "code",
   "execution_count": 3,
   "outputs": [
    {
     "data": {
      "text/plain": "No existing directory found at \u001B[32m'\u001B[0m\u001B[34mnumerframe_edu\u001B[0m\u001B[32m'\u001B[0m. Creating directory\u001B[33m...\u001B[0m\n",
      "text/html": "<pre style=\"white-space:pre;overflow-x:auto;line-height:normal;font-family:Menlo,'DejaVu Sans Mono',consolas,'Courier New',monospace\">No existing directory found at <span style=\"color: #008000; text-decoration-color: #008000\">'</span><span style=\"color: #000080; text-decoration-color: #000080\">numerframe_edu</span><span style=\"color: #008000; text-decoration-color: #008000\">'</span>. Creating directory<span style=\"color: #808000; text-decoration-color: #808000\">...</span>\n</pre>\n"
     },
     "metadata": {},
     "output_type": "display_data"
    },
    {
     "data": {
      "text/plain": "📁 \u001B[32mDownloading\u001B[0m \u001B[32m'numerai_validation_data.parquet'\u001B[0m 📁\n",
      "text/html": "<pre style=\"white-space:pre;overflow-x:auto;line-height:normal;font-family:Menlo,'DejaVu Sans Mono',consolas,'Courier New',monospace\">📁 <span style=\"color: #008000; text-decoration-color: #008000\">Downloading</span> <span style=\"color: #008000; text-decoration-color: #008000\">'numerai_validation_data.parquet'</span> 📁\n</pre>\n"
     },
     "metadata": {},
     "output_type": "display_data"
    },
    {
     "name": "stderr",
     "output_type": "stream",
     "text": [
      "2022-02-11 13:49:19,854 INFO numerapi.utils: starting download\n",
      "numerframe_edu/numerai_validation_data.parquet: 228MB [00:46, 4.94MB/s]                            \n"
     ]
    }
   ],
   "source": [
    "downloader = NumeraiClassicDownloader(\"numerframe_edu\")\n",
    "# Path variables\n",
    "val_file = \"numerai_validation_data.parquet\"\n",
    "val_save_path = f\"{str(downloader.dir)}/{val_file}\"\n",
    "# Download only validation parquet file\n",
    "downloader.download_single_dataset(val_file,\n",
    "                                   dest_path=val_save_path)"
   ],
   "metadata": {
    "collapsed": false,
    "pycharm": {
     "name": "#%%\n"
    }
   }
  },
  {
   "cell_type": "markdown",
   "source": [
    "Loading in data and initializing a `NumerFrame` takes one line of code. It will automatically recognize the data format such as `.csv` or `.parquet`. You have the option to add metadata, which is stored in the `meta` attribute."
   ],
   "metadata": {
    "collapsed": false
   }
  },
  {
   "cell_type": "code",
   "execution_count": 4,
   "outputs": [],
   "source": [
    "# Initialize NumerFrame from parquet file path\n",
    "dataf = create_numerframe(val_save_path, metadata={\"version\": 2, \"type\": \"validation\"})"
   ],
   "metadata": {
    "collapsed": false,
    "pycharm": {
     "name": "#%%\n"
    }
   }
  },
  {
   "cell_type": "code",
   "execution_count": 5,
   "outputs": [
    {
     "data": {
      "text/plain": "{'era_col': 'era',\n 'era_col_verified': True,\n 'version': 2,\n 'type': 'validation'}"
     },
     "execution_count": 5,
     "metadata": {},
     "output_type": "execute_result"
    }
   ],
   "source": [
    "dataf.meta"
   ],
   "metadata": {
    "collapsed": false,
    "pycharm": {
     "name": "#%%\n"
    }
   }
  },
  {
   "cell_type": "markdown",
   "source": [
    "Metadata can be exported to or imported from a `.json` file."
   ],
   "metadata": {
    "collapsed": false,
    "pycharm": {
     "name": "#%% md\n"
    }
   }
  },
  {
   "cell_type": "code",
   "execution_count": 6,
   "outputs": [
    {
     "data": {
      "text/plain": "📁 Exporting metadata to metadata.json 📁\n",
      "text/html": "<pre style=\"white-space:pre;overflow-x:auto;line-height:normal;font-family:Menlo,'DejaVu Sans Mono',consolas,'Courier New',monospace\">📁 Exporting metadata to metadata.json 📁\n</pre>\n"
     },
     "metadata": {},
     "output_type": "display_data"
    }
   ],
   "source": [
    "dataf.export_json_metadata(file=\"metadata.json\")"
   ],
   "metadata": {
    "collapsed": false,
    "pycharm": {
     "name": "#%%\n"
    }
   }
  },
  {
   "cell_type": "code",
   "execution_count": 7,
   "outputs": [
    {
     "data": {
      "text/plain": "📁 Importing metadata from metadata.json 📁\n",
      "text/html": "<pre style=\"white-space:pre;overflow-x:auto;line-height:normal;font-family:Menlo,'DejaVu Sans Mono',consolas,'Courier New',monospace\">📁 Importing metadata from metadata.json 📁\n</pre>\n"
     },
     "metadata": {},
     "output_type": "display_data"
    },
    {
     "data": {
      "text/plain": "\u001B[1m{\u001B[0m\u001B[32m'era_col'\u001B[0m: \u001B[32m'era'\u001B[0m, \u001B[32m'era_col_verified'\u001B[0m: \u001B[3;92mTrue\u001B[0m, \u001B[32m'version'\u001B[0m: \u001B[1;36m2\u001B[0m, \u001B[32m'type'\u001B[0m: \u001B[32m'validation'\u001B[0m\u001B[1m}\u001B[0m\n",
      "text/html": "<pre style=\"white-space:pre;overflow-x:auto;line-height:normal;font-family:Menlo,'DejaVu Sans Mono',consolas,'Courier New',monospace\"><span style=\"font-weight: bold\">{</span><span style=\"color: #008000; text-decoration-color: #008000\">'era_col'</span>: <span style=\"color: #008000; text-decoration-color: #008000\">'era'</span>, <span style=\"color: #008000; text-decoration-color: #008000\">'era_col_verified'</span>: <span style=\"color: #00ff00; text-decoration-color: #00ff00; font-style: italic\">True</span>, <span style=\"color: #008000; text-decoration-color: #008000\">'version'</span>: <span style=\"color: #008080; text-decoration-color: #008080; font-weight: bold\">2</span>, <span style=\"color: #008000; text-decoration-color: #008000\">'type'</span>: <span style=\"color: #008000; text-decoration-color: #008000\">'validation'</span><span style=\"font-weight: bold\">}</span>\n</pre>\n"
     },
     "metadata": {},
     "output_type": "display_data"
    }
   ],
   "source": [
    "dataf.import_json_metadata(file=\"metadata.json\", verbose=True)"
   ],
   "metadata": {
    "collapsed": false,
    "pycharm": {
     "name": "#%%\n"
    }
   }
  },
  {
   "cell_type": "markdown",
   "source": [
    "All features of Pandas DataFrames can still be used in a `NumerFrame`."
   ],
   "metadata": {
    "collapsed": false,
    "pycharm": {
     "name": "#%% md\n"
    }
   }
  },
  {
   "cell_type": "code",
   "execution_count": 8,
   "outputs": [
    {
     "data": {
      "text/plain": "                   era   data_type  feature_dichasial_hammier_spawner  \\\nid                                                                      \nn000777698096000  0857  validation                               0.50   \nn0009793a3b91c27  0857  validation                               0.75   \n\n                  feature_rheumy_epistemic_prancer  \\\nid                                                   \nn000777698096000                              0.50   \nn0009793a3b91c27                              0.25   \n\n                  feature_pert_performative_hormuz  \\\nid                                                   \nn000777698096000                              0.25   \nn0009793a3b91c27                              0.50   \n\n                  feature_hillier_unpitied_theobromine  \\\nid                                                       \nn000777698096000                                  0.25   \nn0009793a3b91c27                                  0.75   \n\n                  feature_perigean_bewitching_thruster  \\\nid                                                       \nn000777698096000                                   0.0   \nn0009793a3b91c27                                   1.0   \n\n                  feature_renegade_undomestic_milord  \\\nid                                                     \nn000777698096000                                 0.0   \nn0009793a3b91c27                                 0.0   \n\n                  feature_koranic_rude_corf  \\\nid                                            \nn000777698096000                       0.00   \nn0009793a3b91c27                       0.25   \n\n                  feature_demisable_expiring_millepede  ...  target_paul_20  \\\nid                                                      ...                   \nn000777698096000                                  0.75  ...            0.25   \nn0009793a3b91c27                                  0.25  ...            0.50   \n\n                  target_paul_60  target_george_20  target_george_60  \\\nid                                                                     \nn000777698096000             0.5              0.25               0.5   \nn0009793a3b91c27             0.5              0.50               0.5   \n\n                  target_william_20  target_william_60  target_arthur_20  \\\nid                                                                         \nn000777698096000           0.166667           0.500000          0.166667   \nn0009793a3b91c27           0.666667           0.833333          0.666667   \n\n                  target_arthur_60  target_thomas_20  target_thomas_60  \nid                                                                      \nn000777698096000          0.500000          0.166667               0.5  \nn0009793a3b91c27          0.833333          0.500000               0.5  \n\n[2 rows x 1073 columns]",
      "text/html": "<div>\n<style scoped>\n    .dataframe tbody tr th:only-of-type {\n        vertical-align: middle;\n    }\n\n    .dataframe tbody tr th {\n        vertical-align: top;\n    }\n\n    .dataframe thead th {\n        text-align: right;\n    }\n</style>\n<table border=\"1\" class=\"dataframe\">\n  <thead>\n    <tr style=\"text-align: right;\">\n      <th></th>\n      <th>era</th>\n      <th>data_type</th>\n      <th>feature_dichasial_hammier_spawner</th>\n      <th>feature_rheumy_epistemic_prancer</th>\n      <th>feature_pert_performative_hormuz</th>\n      <th>feature_hillier_unpitied_theobromine</th>\n      <th>feature_perigean_bewitching_thruster</th>\n      <th>feature_renegade_undomestic_milord</th>\n      <th>feature_koranic_rude_corf</th>\n      <th>feature_demisable_expiring_millepede</th>\n      <th>...</th>\n      <th>target_paul_20</th>\n      <th>target_paul_60</th>\n      <th>target_george_20</th>\n      <th>target_george_60</th>\n      <th>target_william_20</th>\n      <th>target_william_60</th>\n      <th>target_arthur_20</th>\n      <th>target_arthur_60</th>\n      <th>target_thomas_20</th>\n      <th>target_thomas_60</th>\n    </tr>\n    <tr>\n      <th>id</th>\n      <th></th>\n      <th></th>\n      <th></th>\n      <th></th>\n      <th></th>\n      <th></th>\n      <th></th>\n      <th></th>\n      <th></th>\n      <th></th>\n      <th></th>\n      <th></th>\n      <th></th>\n      <th></th>\n      <th></th>\n      <th></th>\n      <th></th>\n      <th></th>\n      <th></th>\n      <th></th>\n      <th></th>\n    </tr>\n  </thead>\n  <tbody>\n    <tr>\n      <th>n000777698096000</th>\n      <td>0857</td>\n      <td>validation</td>\n      <td>0.50</td>\n      <td>0.50</td>\n      <td>0.25</td>\n      <td>0.25</td>\n      <td>0.0</td>\n      <td>0.0</td>\n      <td>0.00</td>\n      <td>0.75</td>\n      <td>...</td>\n      <td>0.25</td>\n      <td>0.5</td>\n      <td>0.25</td>\n      <td>0.5</td>\n      <td>0.166667</td>\n      <td>0.500000</td>\n      <td>0.166667</td>\n      <td>0.500000</td>\n      <td>0.166667</td>\n      <td>0.5</td>\n    </tr>\n    <tr>\n      <th>n0009793a3b91c27</th>\n      <td>0857</td>\n      <td>validation</td>\n      <td>0.75</td>\n      <td>0.25</td>\n      <td>0.50</td>\n      <td>0.75</td>\n      <td>1.0</td>\n      <td>0.0</td>\n      <td>0.25</td>\n      <td>0.25</td>\n      <td>...</td>\n      <td>0.50</td>\n      <td>0.5</td>\n      <td>0.50</td>\n      <td>0.5</td>\n      <td>0.666667</td>\n      <td>0.833333</td>\n      <td>0.666667</td>\n      <td>0.833333</td>\n      <td>0.500000</td>\n      <td>0.5</td>\n    </tr>\n  </tbody>\n</table>\n<p>2 rows × 1073 columns</p>\n</div>"
     },
     "execution_count": 8,
     "metadata": {},
     "output_type": "execute_result"
    }
   ],
   "source": [
    "dataf.head(2)"
   ],
   "metadata": {
    "collapsed": false,
    "pycharm": {
     "name": "#%%\n"
    }
   }
  },
  {
   "cell_type": "code",
   "execution_count": 9,
   "outputs": [
    {
     "data": {
      "text/plain": "<Figure size 1080x432 with 1 Axes>",
      "image/png": "[encoded data removed]"
     },
     "metadata": {
      "needs_background": "light"
     },
     "output_type": "display_data"
    }
   ],
   "source": [
    "dataf.groupby('era')[\"target\"].size().plot(title=\"Assets in 'era' over time\",\n",
    "                                           figsize=(15, 6));"
   ],
   "metadata": {
    "collapsed": false,
    "pycharm": {
     "name": "#%%\n"
    }
   }
  },
  {
   "cell_type": "markdown",
   "source": [
    "NumerFrame extends the Pandas DataFrame with convenient features for working with Numerai data.\n",
    "\n",
    "For example, the `NumerFrame` groups columns and makes use of the fact that, for Numerai data, all feature column names start with `'feature'`, target columns start with `'target'`, etc. It also keeps track of the era column and parses it automatically for other parts of this library (`'era'` for Numerai Classic and `'friday_date'` for Numerai Signals)."
   ],
   "metadata": {
    "collapsed": false,
    "pycharm": {
     "name": "#%% md\n"
    }
   }
  },
  {
   "cell_type": "code",
   "execution_count": 10,
   "outputs": [
    {
     "data": {
      "text/plain": "'target_thomas_60'"
     },
     "execution_count": 10,
     "metadata": {},
     "output_type": "execute_result"
    }
   ],
   "source": [
    "dataf.target_cols[-1]"
   ],
   "metadata": {
    "collapsed": false,
    "pycharm": {
     "name": "#%%\n"
    }
   }
  },
  {
   "cell_type": "code",
   "execution_count": 11,
   "outputs": [
    {
     "data": {
      "text/plain": "                  target\nid                      \nn000777698096000    0.25\nn0009793a3b91c27    0.50",
      "text/html": "<div>\n<style scoped>\n    .dataframe tbody tr th:only-of-type {\n        vertical-align: middle;\n    }\n\n    .dataframe tbody tr th {\n        vertical-align: top;\n    }\n\n    .dataframe thead th {\n        text-align: right;\n    }\n</style>\n<table border=\"1\" class=\"dataframe\">\n  <thead>\n    <tr style=\"text-align: right;\">\n      <th></th>\n      <th>target</th>\n    </tr>\n    <tr>\n      <th>id</th>\n      <th></th>\n    </tr>\n  </thead>\n  <tbody>\n    <tr>\n      <th>n000777698096000</th>\n      <td>0.25</td>\n    </tr>\n    <tr>\n      <th>n0009793a3b91c27</th>\n      <td>0.50</td>\n    </tr>\n  </tbody>\n</table>\n</div>"
     },
     "execution_count": 11,
     "metadata": {},
     "output_type": "execute_result"
    }
   ],
   "source": [
    "dataf.get_single_target_data.head(2)"
   ],
   "metadata": {
    "collapsed": false,
    "pycharm": {
     "name": "#%%\n"
    }
   }
  },
  {
   "cell_type": "code",
   "execution_count": 12,
   "outputs": [
    {
     "data": {
      "text/plain": "'feature_dichasial_hammier_spawner'"
     },
     "execution_count": 12,
     "metadata": {},
     "output_type": "execute_result"
    }
   ],
   "source": [
    "dataf.feature_cols[0]"
   ],
   "metadata": {
    "collapsed": false,
    "pycharm": {
     "name": "#%%\n"
    }
   }
  },
  {
   "cell_type": "code",
   "execution_count": 13,
   "outputs": [
    {
     "data": {
      "text/plain": "                  feature_dichasial_hammier_spawner  \\\nid                                                    \nn000777698096000                               0.50   \nn0009793a3b91c27                               0.75   \n\n                  feature_rheumy_epistemic_prancer  \\\nid                                                   \nn000777698096000                              0.50   \nn0009793a3b91c27                              0.25   \n\n                  feature_pert_performative_hormuz  \\\nid                                                   \nn000777698096000                              0.25   \nn0009793a3b91c27                              0.50   \n\n                  feature_hillier_unpitied_theobromine  \\\nid                                                       \nn000777698096000                                  0.25   \nn0009793a3b91c27                                  0.75   \n\n                  feature_perigean_bewitching_thruster  \\\nid                                                       \nn000777698096000                                   0.0   \nn0009793a3b91c27                                   1.0   \n\n                  feature_renegade_undomestic_milord  \\\nid                                                     \nn000777698096000                                 0.0   \nn0009793a3b91c27                                 0.0   \n\n                  feature_koranic_rude_corf  \\\nid                                            \nn000777698096000                       0.00   \nn0009793a3b91c27                       0.25   \n\n                  feature_demisable_expiring_millepede  \\\nid                                                       \nn000777698096000                                  0.75   \nn0009793a3b91c27                                  0.25   \n\n                  feature_unscheduled_malignant_shingling  \\\nid                                                          \nn000777698096000                                      1.0   \nn0009793a3b91c27                                      1.0   \n\n                  feature_clawed_unwept_adaptability  ...  \\\nid                                                    ...   \nn000777698096000                                0.25  ...   \nn0009793a3b91c27                                0.25  ...   \n\n                  feature_unpruned_pedagoguish_inkblot  \\\nid                                                       \nn000777698096000                                   0.0   \nn0009793a3b91c27                                   0.5   \n\n                  feature_forworn_hask_haet  \\\nid                                            \nn000777698096000                        0.5   \nn0009793a3b91c27                        0.5   \n\n                  feature_drawable_exhortative_dispersant  \\\nid                                                          \nn000777698096000                                     0.00   \nn0009793a3b91c27                                     0.25   \n\n                  feature_metabolic_minded_armorist  \\\nid                                                    \nn000777698096000                                0.0   \nn0009793a3b91c27                                0.5   \n\n                  feature_investigatory_inerasable_circumvallation  \\\nid                                                                   \nn000777698096000                                               0.0   \nn0009793a3b91c27                                               1.0   \n\n                  feature_centroclinal_incentive_lancelet  \\\nid                                                          \nn000777698096000                                     0.00   \nn0009793a3b91c27                                     0.25   \n\n                  feature_unemotional_quietistic_chirper  \\\nid                                                         \nn000777698096000                                    1.00   \nn0009793a3b91c27                                    0.75   \n\n                  feature_behaviorist_microbiological_farina  \\\nid                                                             \nn000777698096000                                        1.00   \nn0009793a3b91c27                                        0.75   \n\n                  feature_lofty_acceptable_challenge  \\\nid                                                     \nn000777698096000                                 0.5   \nn0009793a3b91c27                                 0.5   \n\n                  feature_coactive_prefatorial_lucy  \nid                                                   \nn000777698096000                               1.00  \nn0009793a3b91c27                               0.75  \n\n[2 rows x 1050 columns]",
      "text/html": "<div>\n<style scoped>\n    .dataframe tbody tr th:only-of-type {\n        vertical-align: middle;\n    }\n\n    .dataframe tbody tr th {\n        vertical-align: top;\n    }\n\n    .dataframe thead th {\n        text-align: right;\n    }\n</style>\n<table border=\"1\" class=\"dataframe\">\n  <thead>\n    <tr style=\"text-align: right;\">\n      <th></th>\n      <th>feature_dichasial_hammier_spawner</th>\n      <th>feature_rheumy_epistemic_prancer</th>\n      <th>feature_pert_performative_hormuz</th>\n      <th>feature_hillier_unpitied_theobromine</th>\n      <th>feature_perigean_bewitching_thruster</th>\n      <th>feature_renegade_undomestic_milord</th>\n      <th>feature_koranic_rude_corf</th>\n      <th>feature_demisable_expiring_millepede</th>\n      <th>feature_unscheduled_malignant_shingling</th>\n      <th>feature_clawed_unwept_adaptability</th>\n      <th>...</th>\n      <th>feature_unpruned_pedagoguish_inkblot</th>\n      <th>feature_forworn_hask_haet</th>\n      <th>feature_drawable_exhortative_dispersant</th>\n      <th>feature_metabolic_minded_armorist</th>\n      <th>feature_investigatory_inerasable_circumvallation</th>\n      <th>feature_centroclinal_incentive_lancelet</th>\n      <th>feature_unemotional_quietistic_chirper</th>\n      <th>feature_behaviorist_microbiological_farina</th>\n      <th>feature_lofty_acceptable_challenge</th>\n      <th>feature_coactive_prefatorial_lucy</th>\n    </tr>\n    <tr>\n      <th>id</th>\n      <th></th>\n      <th></th>\n      <th></th>\n      <th></th>\n      <th></th>\n      <th></th>\n      <th></th>\n      <th></th>\n      <th></th>\n      <th></th>\n      <th></th>\n      <th></th>\n      <th></th>\n      <th></th>\n      <th></th>\n      <th></th>\n      <th></th>\n      <th></th>\n      <th></th>\n      <th></th>\n      <th></th>\n    </tr>\n  </thead>\n  <tbody>\n    <tr>\n      <th>n000777698096000</th>\n      <td>0.50</td>\n      <td>0.50</td>\n      <td>0.25</td>\n      <td>0.25</td>\n      <td>0.0</td>\n      <td>0.0</td>\n      <td>0.00</td>\n      <td>0.75</td>\n      <td>1.0</td>\n      <td>0.25</td>\n      <td>...</td>\n      <td>0.0</td>\n      <td>0.5</td>\n      <td>0.00</td>\n      <td>0.0</td>\n      <td>0.0</td>\n      <td>0.00</td>\n      <td>1.00</td>\n      <td>1.00</td>\n      <td>0.5</td>\n      <td>1.00</td>\n    </tr>\n    <tr>\n      <th>n0009793a3b91c27</th>\n      <td>0.75</td>\n      <td>0.25</td>\n      <td>0.50</td>\n      <td>0.75</td>\n      <td>1.0</td>\n      <td>0.0</td>\n      <td>0.25</td>\n      <td>0.25</td>\n      <td>1.0</td>\n      <td>0.25</td>\n      <td>...</td>\n      <td>0.5</td>\n      <td>0.5</td>\n      <td>0.25</td>\n      <td>0.5</td>\n      <td>1.0</td>\n      <td>0.25</td>\n      <td>0.75</td>\n      <td>0.75</td>\n      <td>0.5</td>\n      <td>0.75</td>\n    </tr>\n  </tbody>\n</table>\n<p>2 rows × 1050 columns</p>\n</div>"
     },
     "execution_count": 13,
     "metadata": {},
     "output_type": "execute_result"
    }
   ],
   "source": [
    "dataf.get_feature_data.head(2)"
   ],
   "metadata": {
    "collapsed": false,
    "pycharm": {
     "name": "#%%\n"
    }
   }
  },
  {
   "cell_type": "code",
   "execution_count": 14,
   "outputs": [
    {
     "data": {
      "text/plain": "[]"
     },
     "execution_count": 14,
     "metadata": {},
     "output_type": "execute_result"
    }
   ],
   "source": [
    "dataf.prediction_cols"
   ],
   "metadata": {
    "collapsed": false,
    "pycharm": {
     "name": "#%%\n"
    }
   }
  },
  {
   "cell_type": "markdown",
   "source": [
    "`aux_cols` are all columns that are not a feature, target or prediction column."
   ],
   "metadata": {
    "collapsed": false
   }
  },
  {
   "cell_type": "code",
   "execution_count": 15,
   "outputs": [
    {
     "data": {
      "text/plain": "['era', 'data_type']"
     },
     "execution_count": 15,
     "metadata": {},
     "output_type": "execute_result"
    }
   ],
   "source": [
    "dataf.aux_cols"
   ],
   "metadata": {
    "collapsed": false,
    "pycharm": {
     "name": "#%%\n"
    }
   }
  },
  {
   "cell_type": "code",
   "execution_count": 16,
   "outputs": [
    {
     "data": {
      "text/plain": "                   era   data_type\nid                                \nn000777698096000  0857  validation\nn0009793a3b91c27  0857  validation",
      "text/html": "<div>\n<style scoped>\n    .dataframe tbody tr th:only-of-type {\n        vertical-align: middle;\n    }\n\n    .dataframe tbody tr th {\n        vertical-align: top;\n    }\n\n    .dataframe thead th {\n        text-align: right;\n    }\n</style>\n<table border=\"1\" class=\"dataframe\">\n  <thead>\n    <tr style=\"text-align: right;\">\n      <th></th>\n      <th>era</th>\n      <th>data_type</th>\n    </tr>\n    <tr>\n      <th>id</th>\n      <th></th>\n      <th></th>\n    </tr>\n  </thead>\n  <tbody>\n    <tr>\n      <th>n000777698096000</th>\n      <td>0857</td>\n      <td>validation</td>\n    </tr>\n    <tr>\n      <th>n0009793a3b91c27</th>\n      <td>0857</td>\n      <td>validation</td>\n    </tr>\n  </tbody>\n</table>\n</div>"
     },
     "execution_count": 16,
     "metadata": {},
     "output_type": "execute_result"
    }
   ],
   "source": [
    "dataf.get_aux_data.head(2)"
   ],
   "metadata": {
    "collapsed": false,
    "pycharm": {
     "name": "#%%\n"
    }
   }
  },
  {
   "cell_type": "code",
   "execution_count": 17,
   "outputs": [
    {
     "data": {
      "text/plain": "Empty NumerFrame\nColumns: []\nIndex: [n000777698096000, n0009793a3b91c27]",
      "text/html": "<div>\n<style scoped>\n    .dataframe tbody tr th:only-of-type {\n        vertical-align: middle;\n    }\n\n    .dataframe tbody tr th {\n        vertical-align: top;\n    }\n\n    .dataframe thead th {\n        text-align: right;\n    }\n</style>\n<table border=\"1\" class=\"dataframe\">\n  <thead>\n    <tr style=\"text-align: right;\">\n      <th></th>\n    </tr>\n    <tr>\n      <th>id</th>\n    </tr>\n  </thead>\n  <tbody>\n    <tr>\n      <th>n000777698096000</th>\n    </tr>\n    <tr>\n      <th>n0009793a3b91c27</th>\n    </tr>\n  </tbody>\n</table>\n</div>"
     },
     "execution_count": 17,
     "metadata": {},
     "output_type": "execute_result"
    }
   ],
   "source": [
    "dataf.get_prediction_data.head(2)"
   ],
   "metadata": {
    "collapsed": false,
    "pycharm": {
     "name": "#%%\n"
    }
   }
  },
  {
   "cell_type": "code",
   "execution_count": 18,
   "outputs": [
    {
     "data": {
      "text/plain": "'era'"
     },
     "execution_count": 18,
     "metadata": {},
     "output_type": "execute_result"
    }
   ],
   "source": [
    "dataf.meta.era_col"
   ],
   "metadata": {
    "collapsed": false,
    "pycharm": {
     "name": "#%%\n"
    }
   }
  },
  {
   "cell_type": "markdown",
   "source": [
    "A split of features and target(s) can be retrieved in 1 line of code."
   ],
   "metadata": {
    "collapsed": false,
    "pycharm": {
     "name": "#%% md\n"
    }
   }
  },
  {
   "cell_type": "code",
   "execution_count": 19,
   "outputs": [],
   "source": [
    "X, y = dataf.get_feature_target_pair(multi_target=True)"
   ],
   "metadata": {
    "collapsed": false,
    "pycharm": {
     "name": "#%%\n"
    }
   }
  },
  {
   "cell_type": "code",
   "execution_count": 20,
   "outputs": [
    {
     "data": {
      "text/plain": "                  feature_dichasial_hammier_spawner  \\\nid                                                    \nn000777698096000                               0.50   \nn0009793a3b91c27                               0.75   \n\n                  feature_rheumy_epistemic_prancer  \\\nid                                                   \nn000777698096000                              0.50   \nn0009793a3b91c27                              0.25   \n\n                  feature_pert_performative_hormuz  \\\nid                                                   \nn000777698096000                              0.25   \nn0009793a3b91c27                              0.50   \n\n                  feature_hillier_unpitied_theobromine  \\\nid                                                       \nn000777698096000                                  0.25   \nn0009793a3b91c27                                  0.75   \n\n                  feature_perigean_bewitching_thruster  \\\nid                                                       \nn000777698096000                                   0.0   \nn0009793a3b91c27                                   1.0   \n\n                  feature_renegade_undomestic_milord  \\\nid                                                     \nn000777698096000                                 0.0   \nn0009793a3b91c27                                 0.0   \n\n                  feature_koranic_rude_corf  \\\nid                                            \nn000777698096000                       0.00   \nn0009793a3b91c27                       0.25   \n\n                  feature_demisable_expiring_millepede  \\\nid                                                       \nn000777698096000                                  0.75   \nn0009793a3b91c27                                  0.25   \n\n                  feature_unscheduled_malignant_shingling  \\\nid                                                          \nn000777698096000                                      1.0   \nn0009793a3b91c27                                      1.0   \n\n                  feature_clawed_unwept_adaptability  ...  \\\nid                                                    ...   \nn000777698096000                                0.25  ...   \nn0009793a3b91c27                                0.25  ...   \n\n                  feature_unpruned_pedagoguish_inkblot  \\\nid                                                       \nn000777698096000                                   0.0   \nn0009793a3b91c27                                   0.5   \n\n                  feature_forworn_hask_haet  \\\nid                                            \nn000777698096000                        0.5   \nn0009793a3b91c27                        0.5   \n\n                  feature_drawable_exhortative_dispersant  \\\nid                                                          \nn000777698096000                                     0.00   \nn0009793a3b91c27                                     0.25   \n\n                  feature_metabolic_minded_armorist  \\\nid                                                    \nn000777698096000                                0.0   \nn0009793a3b91c27                                0.5   \n\n                  feature_investigatory_inerasable_circumvallation  \\\nid                                                                   \nn000777698096000                                               0.0   \nn0009793a3b91c27                                               1.0   \n\n                  feature_centroclinal_incentive_lancelet  \\\nid                                                          \nn000777698096000                                     0.00   \nn0009793a3b91c27                                     0.25   \n\n                  feature_unemotional_quietistic_chirper  \\\nid                                                         \nn000777698096000                                    1.00   \nn0009793a3b91c27                                    0.75   \n\n                  feature_behaviorist_microbiological_farina  \\\nid                                                             \nn000777698096000                                        1.00   \nn0009793a3b91c27                                        0.75   \n\n                  feature_lofty_acceptable_challenge  \\\nid                                                     \nn000777698096000                                 0.5   \nn0009793a3b91c27                                 0.5   \n\n                  feature_coactive_prefatorial_lucy  \nid                                                   \nn000777698096000                               1.00  \nn0009793a3b91c27                               0.75  \n\n[2 rows x 1050 columns]",
      "text/html": "<div>\n<style scoped>\n    .dataframe tbody tr th:only-of-type {\n        vertical-align: middle;\n    }\n\n    .dataframe tbody tr th {\n        vertical-align: top;\n    }\n\n    .dataframe thead th {\n        text-align: right;\n    }\n</style>\n<table border=\"1\" class=\"dataframe\">\n  <thead>\n    <tr style=\"text-align: right;\">\n      <th></th>\n      <th>feature_dichasial_hammier_spawner</th>\n      <th>feature_rheumy_epistemic_prancer</th>\n      <th>feature_pert_performative_hormuz</th>\n      <th>feature_hillier_unpitied_theobromine</th>\n      <th>feature_perigean_bewitching_thruster</th>\n      <th>feature_renegade_undomestic_milord</th>\n      <th>feature_koranic_rude_corf</th>\n      <th>feature_demisable_expiring_millepede</th>\n      <th>feature_unscheduled_malignant_shingling</th>\n      <th>feature_clawed_unwept_adaptability</th>\n      <th>...</th>\n      <th>feature_unpruned_pedagoguish_inkblot</th>\n      <th>feature_forworn_hask_haet</th>\n      <th>feature_drawable_exhortative_dispersant</th>\n      <th>feature_metabolic_minded_armorist</th>\n      <th>feature_investigatory_inerasable_circumvallation</th>\n      <th>feature_centroclinal_incentive_lancelet</th>\n      <th>feature_unemotional_quietistic_chirper</th>\n      <th>feature_behaviorist_microbiological_farina</th>\n      <th>feature_lofty_acceptable_challenge</th>\n      <th>feature_coactive_prefatorial_lucy</th>\n    </tr>\n    <tr>\n      <th>id</th>\n      <th></th>\n      <th></th>\n      <th></th>\n      <th></th>\n      <th></th>\n      <th></th>\n      <th></th>\n      <th></th>\n      <th></th>\n      <th></th>\n      <th></th>\n      <th></th>\n      <th></th>\n      <th></th>\n      <th></th>\n      <th></th>\n      <th></th>\n      <th></th>\n      <th></th>\n      <th></th>\n      <th></th>\n    </tr>\n  </thead>\n  <tbody>\n    <tr>\n      <th>n000777698096000</th>\n      <td>0.50</td>\n      <td>0.50</td>\n      <td>0.25</td>\n      <td>0.25</td>\n      <td>0.0</td>\n      <td>0.0</td>\n      <td>0.00</td>\n      <td>0.75</td>\n      <td>1.0</td>\n      <td>0.25</td>\n      <td>...</td>\n      <td>0.0</td>\n      <td>0.5</td>\n      <td>0.00</td>\n      <td>0.0</td>\n      <td>0.0</td>\n      <td>0.00</td>\n      <td>1.00</td>\n      <td>1.00</td>\n      <td>0.5</td>\n      <td>1.00</td>\n    </tr>\n    <tr>\n      <th>n0009793a3b91c27</th>\n      <td>0.75</td>\n      <td>0.25</td>\n      <td>0.50</td>\n      <td>0.75</td>\n      <td>1.0</td>\n      <td>0.0</td>\n      <td>0.25</td>\n      <td>0.25</td>\n      <td>1.0</td>\n      <td>0.25</td>\n      <td>...</td>\n      <td>0.5</td>\n      <td>0.5</td>\n      <td>0.25</td>\n      <td>0.5</td>\n      <td>1.0</td>\n      <td>0.25</td>\n      <td>0.75</td>\n      <td>0.75</td>\n      <td>0.5</td>\n      <td>0.75</td>\n    </tr>\n  </tbody>\n</table>\n<p>2 rows × 1050 columns</p>\n</div>"
     },
     "execution_count": 20,
     "metadata": {},
     "output_type": "execute_result"
    }
   ],
   "source": [
    "X.head(2)"
   ],
   "metadata": {
    "collapsed": false,
    "pycharm": {
     "name": "#%%\n"
    }
   }
  },
  {
   "cell_type": "code",
   "execution_count": 21,
   "outputs": [
    {
     "data": {
      "text/plain": "                  target  target_nomi_20  target_nomi_60  target_jerome_20  \\\nid                                                                           \nn000777698096000    0.25            0.25            0.50              0.25   \nn0009793a3b91c27    0.50            0.50            0.75              0.50   \n\n                  target_jerome_60  target_janet_20  target_janet_60  \\\nid                                                                     \nn000777698096000              0.50             0.25             0.50   \nn0009793a3b91c27              0.75             0.50             0.75   \n\n                  target_ben_20  target_ben_60  target_alan_20  ...  \\\nid                                                              ...   \nn000777698096000           0.25            0.5            0.25  ...   \nn0009793a3b91c27           0.50            0.5            0.50  ...   \n\n                  target_paul_20  target_paul_60  target_george_20  \\\nid                                                                   \nn000777698096000            0.25             0.5              0.25   \nn0009793a3b91c27            0.50             0.5              0.50   \n\n                  target_george_60  target_william_20  target_william_60  \\\nid                                                                         \nn000777698096000               0.5           0.166667           0.500000   \nn0009793a3b91c27               0.5           0.666667           0.833333   \n\n                  target_arthur_20  target_arthur_60  target_thomas_20  \\\nid                                                                       \nn000777698096000          0.166667          0.500000          0.166667   \nn0009793a3b91c27          0.666667          0.833333          0.500000   \n\n                  target_thomas_60  \nid                                  \nn000777698096000               0.5  \nn0009793a3b91c27               0.5  \n\n[2 rows x 21 columns]",
      "text/html": "<div>\n<style scoped>\n    .dataframe tbody tr th:only-of-type {\n        vertical-align: middle;\n    }\n\n    .dataframe tbody tr th {\n        vertical-align: top;\n    }\n\n    .dataframe thead th {\n        text-align: right;\n    }\n</style>\n<table border=\"1\" class=\"dataframe\">\n  <thead>\n    <tr style=\"text-align: right;\">\n      <th></th>\n      <th>target</th>\n      <th>target_nomi_20</th>\n      <th>target_nomi_60</th>\n      <th>target_jerome_20</th>\n      <th>target_jerome_60</th>\n      <th>target_janet_20</th>\n      <th>target_janet_60</th>\n      <th>target_ben_20</th>\n      <th>target_ben_60</th>\n      <th>target_alan_20</th>\n      <th>...</th>\n      <th>target_paul_20</th>\n      <th>target_paul_60</th>\n      <th>target_george_20</th>\n      <th>target_george_60</th>\n      <th>target_william_20</th>\n      <th>target_william_60</th>\n      <th>target_arthur_20</th>\n      <th>target_arthur_60</th>\n      <th>target_thomas_20</th>\n      <th>target_thomas_60</th>\n    </tr>\n    <tr>\n      <th>id</th>\n      <th></th>\n      <th></th>\n      <th></th>\n      <th></th>\n      <th></th>\n      <th></th>\n      <th></th>\n      <th></th>\n      <th></th>\n      <th></th>\n      <th></th>\n      <th></th>\n      <th></th>\n      <th></th>\n      <th></th>\n      <th></th>\n      <th></th>\n      <th></th>\n      <th></th>\n      <th></th>\n      <th></th>\n    </tr>\n  </thead>\n  <tbody>\n    <tr>\n      <th>n000777698096000</th>\n      <td>0.25</td>\n      <td>0.25</td>\n      <td>0.50</td>\n      <td>0.25</td>\n      <td>0.50</td>\n      <td>0.25</td>\n      <td>0.50</td>\n      <td>0.25</td>\n      <td>0.5</td>\n      <td>0.25</td>\n      <td>...</td>\n      <td>0.25</td>\n      <td>0.5</td>\n      <td>0.25</td>\n      <td>0.5</td>\n      <td>0.166667</td>\n      <td>0.500000</td>\n      <td>0.166667</td>\n      <td>0.500000</td>\n      <td>0.166667</td>\n      <td>0.5</td>\n    </tr>\n    <tr>\n      <th>n0009793a3b91c27</th>\n      <td>0.50</td>\n      <td>0.50</td>\n      <td>0.75</td>\n      <td>0.50</td>\n      <td>0.75</td>\n      <td>0.50</td>\n      <td>0.75</td>\n      <td>0.50</td>\n      <td>0.5</td>\n      <td>0.50</td>\n      <td>...</td>\n      <td>0.50</td>\n      <td>0.5</td>\n      <td>0.50</td>\n      <td>0.5</td>\n      <td>0.666667</td>\n      <td>0.833333</td>\n      <td>0.666667</td>\n      <td>0.833333</td>\n      <td>0.500000</td>\n      <td>0.5</td>\n    </tr>\n  </tbody>\n</table>\n<p>2 rows × 21 columns</p>\n</div>"
     },
     "execution_count": 21,
     "metadata": {},
     "output_type": "execute_result"
    }
   ],
   "source": [
    "y.head(2)"
   ],
   "metadata": {
    "collapsed": false,
    "pycharm": {
     "name": "#%%\n"
    }
   }
  },
  {
   "cell_type": "markdown",
   "source": [
    "### Custom TensorFlow generator\n",
    "\n",
    "To illustrate a practical example, we will build a Tensorflow DataGenerator that returns a batch containing feature and target for 1 or multiple eras. Features and targets columns will be found automatically if not specified."
   ],
   "metadata": {
    "collapsed": false,
    "pycharm": {
     "name": "#%% md\n"
    }
   }
  },
  {
   "cell_type": "code",
   "execution_count": 22,
   "outputs": [],
   "source": [
    "import numpy as np\n",
    "import tensorflow as tf\n",
    "from typing import Tuple\n",
    "\n",
    "class TFGenerator(tf.keras.utils.Sequence):\n",
    "    \"\"\"\n",
    "    Tensorflow generator for Numerai era batches.\n",
    "    :param dataf: A NumerFrame\n",
    "    :param features: Features to select. All by default.\n",
    "    :param targets: Targets to select. All by default.\n",
    "    :param n_eras_batch: How many eras per batch.\n",
    "    :param shuffle: Shuffle eras of not.\n",
    "    \"\"\"\n",
    "    def __init__(self, dataf: NumerFrame,\n",
    "                 features: list = None,\n",
    "                 targets: list = None,\n",
    "                 n_eras_batch=1,\n",
    "                 shuffle=True):\n",
    "        self.dataf = dataf\n",
    "        self.features, self.targets = features, targets\n",
    "        self.n_eras_batch = n_eras_batch\n",
    "        self.shuffle = shuffle\n",
    "        self.eras = dataf[dataf.meta.era_col].unique()\n",
    "        self.on_epoch_end()\n",
    "\n",
    "    def __len__(self):\n",
    "        return int(np.ceil(len(self.eras) / self.n_eras_batch))\n",
    "\n",
    "    def on_epoch_end(self):\n",
    "        np.random.shuffle(self.eras) if self.shuffle else ...\n",
    "\n",
    "    def __getitem__(self, idx: int) -> Tuple[tf.Tensor, tf.Tensor]:\n",
    "        eras = self.eras[idx:idx+self.n_eras_batch]\n",
    "        return dataf.get_era_batch(eras=eras,\n",
    "                                   targets=self.targets,\n",
    "                                   features=self.features,\n",
    "                                   convert_to_tf=True\n",
    "                                   )"
   ],
   "metadata": {
    "collapsed": false,
    "pycharm": {
     "name": "#%%\n"
    }
   }
  },
  {
   "cell_type": "markdown",
   "source": [
    "Note that `NumerFrame` has its own method for getting batches of eras. It can therefore be implemented with one line for a new generator. If features and targets are not specified it will automatically retrieve all features and targets in the `NumerFrame`."
   ],
   "metadata": {
    "collapsed": false
   }
  },
  {
   "cell_type": "code",
   "execution_count": 23,
   "outputs": [
    {
     "data": {
      "text/plain": "<IPython.core.display.Markdown object>",
      "text/markdown": "<h4 id=\"NumerFrame.get_era_batch\" class=\"doc_header\"><code>NumerFrame.get_era_batch</code><a href=\"https://github.com/crowdcent/numerai_blocks/tree/main/numerai_blocks/numerframe.py#L126\" class=\"source_link\" style=\"float:right\">[source]</a></h4>\n\n> <code>NumerFrame.get_era_batch</code>(**`eras`**:`List`\\[`Any`\\], **`convert_to_tf`**=*`False`*, **`aemlp_batch`**=*`False`*, **`features`**:`list`=*`None`*, **`targets`**:`list`=*`None`*, **\\*`args`**, **\\*\\*`kwargs`**)\n\nGet feature target pair batch of 1 or multiple eras.\n:param eras: List of era names. They need to be present in era_col.\n:param convert_to_tf: Convert to tf.Tensor.\n:param aemlp_batch: Specific target batch for autoencoder training.\ny will contain three components: features, targets and targets.\n:param features: List of features to select. All by default\n:param targets: List of targets to select. All by default.\n*args, **kwargs are passed to initialization of Tensor."
     },
     "metadata": {},
     "output_type": "display_data"
    }
   ],
   "source": [
    "#hide_input\n",
    "show_doc(dataf.get_era_batch)"
   ],
   "metadata": {
    "collapsed": false,
    "pycharm": {
     "name": "#%%\n"
    }
   }
  },
  {
   "cell_type": "markdown",
   "source": [
    "We can now use this generator for TensorFlow model training, evaluation and inference. This example shows how to get batches of 2 eras each for both nomi targets."
   ],
   "metadata": {
    "collapsed": false
   }
  },
  {
   "cell_type": "code",
   "execution_count": 24,
   "outputs": [
    {
     "name": "stdout",
     "output_type": "stream",
     "text": [
      "Total era batches: 53\n"
     ]
    },
    {
     "name": "stderr",
     "output_type": "stream",
     "text": [
      "2022-02-11 13:50:10.958110: I tensorflow/core/platform/cpu_feature_guard.cc:151] This TensorFlow binary is optimized with oneAPI Deep Neural Network Library (oneDNN) to use the following CPU instructions in performance-critical operations:  AVX2 FMA\n",
      "To enable them in other operations, rebuild TensorFlow with the appropriate compiler flags.\n"
     ]
    }
   ],
   "source": [
    "gen = TFGenerator(dataf=dataf, n_eras_batch=2, targets=['target_nomi_20', 'target_nomi_60'])\n",
    "print(f\"Total era batches: {len(gen)}\")\n",
    "X, y = gen[0]"
   ],
   "metadata": {
    "collapsed": false,
    "pycharm": {
     "name": "#%%\n"
    }
   }
  },
  {
   "cell_type": "code",
   "execution_count": 25,
   "outputs": [
    {
     "data": {
      "text/plain": "<tf.Tensor: shape=(10408, 1050), dtype=float32, numpy=\narray([[0.25, 0.25, 0.25, ..., 0.25, 1.  , 0.25],\n       [0.75, 0.75, 0.25, ..., 1.  , 0.75, 0.75],\n       [0.  , 1.  , 0.  , ..., 0.  , 0.5 , 0.5 ],\n       ...,\n       [0.  , 0.  , 0.  , ..., 0.  , 0.75, 0.  ],\n       [0.  , 0.  , 0.25, ..., 0.75, 0.75, 1.  ],\n       [1.  , 0.5 , 1.  , ..., 0.5 , 0.  , 1.  ]], dtype=float32)>"
     },
     "execution_count": 25,
     "metadata": {},
     "output_type": "execute_result"
    }
   ],
   "source": [
    "X"
   ],
   "metadata": {
    "collapsed": false,
    "pycharm": {
     "name": "#%%\n"
    }
   }
  },
  {
   "cell_type": "code",
   "execution_count": 26,
   "outputs": [
    {
     "data": {
      "text/plain": "<tf.Tensor: shape=(10408, 2), dtype=float32, numpy=\narray([[0.25, 0.  ],\n       [0.5 , 0.5 ],\n       [0.5 , 0.5 ],\n       ...,\n       [0.75, 0.75],\n       [0.5 , 0.5 ],\n       [0.5 , 1.  ]], dtype=float32)>"
     },
     "execution_count": 26,
     "metadata": {},
     "output_type": "execute_result"
    }
   ],
   "source": [
    "y"
   ],
   "metadata": {
    "collapsed": false,
    "pycharm": {
     "name": "#%%\n"
    }
   }
  },
  {
   "cell_type": "markdown",
   "source": [
    "In this tutorial we have created a flexible Tensorflow generator leveraging convenient properties of `NumerFrame`. `NumerFrame` will automatically recognize features, targets and prediction columns, provides tested code for splitting data, has an implementation to get batches of eras and makes sure our era column is correct."
   ],
   "metadata": {
    "collapsed": false,
    "pycharm": {
     "name": "#%% md\n"
    }
   }
  },
  {
   "cell_type": "markdown",
   "source": [
    "After we are done we can easily clean up our downloaded data with one line of code called from the downloader."
   ],
   "metadata": {
    "collapsed": false
   }
  },
  {
   "cell_type": "code",
   "execution_count": 27,
   "outputs": [
    {
     "data": {
      "text/plain": "⚠ \u001B[31mDeleting directory for \u001B[0m\u001B[31m'NumeraiClassicDownloader\u001B[0m\u001B[32m'\u001B[0m ⚠\nPath: \n\u001B[32m'/Users/clepelaars/Desktop/crowdcent/repositories/numerai-blocks/edu_nbs/numerframe_edu'\u001B[0m\n",
      "text/html": "<pre style=\"white-space:pre;overflow-x:auto;line-height:normal;font-family:Menlo,'DejaVu Sans Mono',consolas,'Courier New',monospace\">⚠ <span style=\"color: #800000; text-decoration-color: #800000\">Deleting directory for </span><span style=\"color: #800000; text-decoration-color: #800000\">'NumeraiClassicDownloader</span><span style=\"color: #008000; text-decoration-color: #008000\">'</span> ⚠\nPath: \n<span style=\"color: #008000; text-decoration-color: #008000\">'/Users/clepelaars/Desktop/crowdcent/repositories/numerai-blocks/edu_nbs/numerframe_edu'</span>\n</pre>\n"
     },
     "metadata": {},
     "output_type": "display_data"
    }
   ],
   "source": [
    "# Clean up environment\n",
    "downloader.remove_base_directory()"
   ],
   "metadata": {
    "collapsed": false,
    "pycharm": {
     "name": "#%%\n"
    }
   }
  }
 ],
 "metadata": {
  "kernelspec": {
   "display_name": "Python 3",
   "language": "python",
   "name": "python3"
  },
  "language_info": {
   "codemirror_mode": {
    "name": "ipython",
    "version": 2
   },
   "file_extension": ".py",
   "mimetype": "text/x-python",
   "name": "python",
   "nbconvert_exporter": "python",
   "pygments_lexer": "ipython2",
   "version": "2.7.6"
  }
 },
 "nbformat": 4,
 "nbformat_minor": 0
}