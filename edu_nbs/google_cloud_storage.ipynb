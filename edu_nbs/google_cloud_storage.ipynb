{
 "cells": [
  {
   "cell_type": "code",
   "execution_count": null,
   "metadata": {},
   "outputs": [
    {
     "data": {
      "application/javascript": "\n            setTimeout(function() {\n                var nbb_cell_id = 1;\n                var nbb_unformatted_code = \"#hide\\n%load_ext autoreload\\n%autoreload 2\\n%load_ext nb_black\\n%load_ext lab_black\";\n                var nbb_formatted_code = \"# hide\\n%load_ext autoreload\\n%autoreload 2\\n%load_ext nb_black\\n%load_ext lab_black\";\n                var nbb_cells = Jupyter.notebook.get_cells();\n                for (var i = 0; i < nbb_cells.length; ++i) {\n                    if (nbb_cells[i].input_prompt_number == nbb_cell_id) {\n                        if (nbb_cells[i].get_text() == nbb_unformatted_code) {\n                             nbb_cells[i].set_text(nbb_formatted_code);\n                        }\n                        break;\n                    }\n                }\n            }, 500);\n            ",
      "text/plain": "<IPython.core.display.Javascript object>"
     },
     "metadata": {},
     "output_type": "display_data"
    }
   ],
   "source": [
    "#hide\n",
    "%load_ext autoreload\n",
    "%autoreload 2\n",
    "%load_ext nb_black\n",
    "%load_ext lab_black"
   ]
  },
  {
   "cell_type": "code",
   "execution_count": null,
   "metadata": {},
   "outputs": [
    {
     "data": {
      "application/javascript": "\n            setTimeout(function() {\n                var nbb_cell_id = 2;\n                var nbb_unformatted_code = \"#hide\\nfrom nbdev.showdoc import *\";\n                var nbb_formatted_code = \"# hide\\nfrom nbdev.showdoc import *\";\n                var nbb_cells = Jupyter.notebook.get_cells();\n                for (var i = 0; i < nbb_cells.length; ++i) {\n                    if (nbb_cells[i].input_prompt_number == nbb_cell_id) {\n                        if (nbb_cells[i].get_text() == nbb_unformatted_code) {\n                             nbb_cells[i].set_text(nbb_formatted_code);\n                        }\n                        break;\n                    }\n                }\n            }, 500);\n            ",
      "text/plain": "<IPython.core.display.Javascript object>"
     },
     "metadata": {},
     "output_type": "display_data"
    }
   ],
   "source": [
    "#hide\n",
    "from nbdev.showdoc import *"
   ]
  },
  {
   "cell_type": "markdown",
   "metadata": {},
   "source": [
    "# Google Cloud Storage (GCS)"
   ]
  },
  {
   "cell_type": "markdown",
   "metadata": {},
   "source": [
    "All `Downloaders` and `Submittors` support Google Cloud Storage (GCS).\n",
    "\n",
    "__Credentials are detected automatically in the following way:__\n",
    "1. The environment variable `GOOGLE_APPLICATION_CREDENTIALS` is set and points to a valid `.json` file.\n",
    "\n",
    "2. (Fallback 1) You have a valid Cloud SDK installation. In that case you might see the warning : UserWarning: Your application has authenticated using end user credentials from Google Cloud SDK without a quota project. It is up to you to decide what to do with it.\n",
    "\n",
    "3. (Fallback 2) The machine running the code is itself a GCP machine."
   ]
  },
  {
   "cell_type": "code",
   "execution_count": null,
   "metadata": {},
   "outputs": [
    {
     "data": {
      "application/javascript": "\n            setTimeout(function() {\n                var nbb_cell_id = 3;\n                var nbb_unformatted_code = \"import pandas as pd\\nfrom numerai_blocks.key import Key\\nfrom numerai_blocks.download import NumeraiClassicDownloader\\nfrom numerai_blocks.submission import NumeraiClassicSubmittor\";\n                var nbb_formatted_code = \"import pandas as pd\\nfrom numerai_blocks.key import Key\\nfrom numerai_blocks.download import NumeraiClassicDownloader\\nfrom numerai_blocks.submission import NumeraiClassicSubmittor\";\n                var nbb_cells = Jupyter.notebook.get_cells();\n                for (var i = 0; i < nbb_cells.length; ++i) {\n                    if (nbb_cells[i].input_prompt_number == nbb_cell_id) {\n                        if (nbb_cells[i].get_text() == nbb_unformatted_code) {\n                             nbb_cells[i].set_text(nbb_formatted_code);\n                        }\n                        break;\n                    }\n                }\n            }, 500);\n            ",
      "text/plain": "<IPython.core.display.Javascript object>"
     },
     "metadata": {},
     "output_type": "display_data"
    }
   ],
   "source": [
    "import pandas as pd\n",
    "from numerai_blocks.key import Key\n",
    "from numerai_blocks.download import NumeraiClassicDownloader\n",
    "from numerai_blocks.submission import NumeraiClassicSubmittor"
   ]
  },
  {
   "cell_type": "markdown",
   "metadata": {},
   "source": [
    "## Example usage"
   ]
  },
  {
   "cell_type": "markdown",
   "metadata": {},
   "source": [
    "In order to use GCS you should:\n",
    " 1. Instantiate a `Downloader` or `Submittor`.\n",
    " 2. Call `.configure_gcs_path` with a GCS `bucket_name`.\n",
    " 3. You can now download or upload from a GCS bucket."
   ]
  },
  {
   "cell_type": "code",
   "execution_count": null,
   "metadata": {},
   "outputs": [
    {
     "name": "stderr",
     "output_type": "stream",
     "text": [
      "2022-01-06 22:04:00,677 WARNING google.auth.compute_engine._metadata: Compute Engine Metadata server unavailable on attempt 1 of 3. Reason: timed out\n",
      "2022-01-06 22:04:03,678 WARNING google.auth.compute_engine._metadata: Compute Engine Metadata server unavailable on attempt 2 of 3. Reason: timed out\n",
      "2022-01-06 22:04:03,680 WARNING google.auth.compute_engine._metadata: Compute Engine Metadata server unavailable on attempt 3 of 3. Reason: [Errno 64] Host is down\n",
      "2022-01-06 22:04:03,680 WARNING google.auth._default: Authentication failed using Compute Engine authentication due to unavailable metadata server.\n"
     ]
    },
    {
     "ename": "TPEnvironmentError",
     "evalue": "Error in TransparentPath: If no token is explicitely specified and GOOGLE_APPLICATION_CREDENTIALS environnement variable is not set, you need to have done gcloud init or to be on GCP already to create a TransparentPath",
     "output_type": "error",
     "traceback": [
      "\u001b[0;31m---------------------------------------------------------------------------\u001b[0m",
      "\u001b[0;31mTPEnvironmentError\u001b[0m                        Traceback (most recent call last)",
      "\u001b[0;32m/var/folders/d5/1qd2ftjn7ts_5_k6w2k2g4c00000gn/T/ipykernel_12773/2800334946.py\u001b[0m in \u001b[0;36m<module>\u001b[0;34m\u001b[0m\n\u001b[1;32m      3\u001b[0m \u001b[0;31m# Download\u001b[0m\u001b[0;34m\u001b[0m\u001b[0;34m\u001b[0m\u001b[0m\n\u001b[1;32m      4\u001b[0m \u001b[0mnmr_downloader\u001b[0m \u001b[0;34m=\u001b[0m \u001b[0mNumeraiClassicDownloader\u001b[0m\u001b[0;34m(\u001b[0m\u001b[0;34m\"round_n\"\u001b[0m\u001b[0;34m)\u001b[0m\u001b[0;34m\u001b[0m\u001b[0;34m\u001b[0m\u001b[0m\n\u001b[0;32m----> 5\u001b[0;31m \u001b[0mnmr_downloader\u001b[0m\u001b[0;34m.\u001b[0m\u001b[0mconfigure_gcs_path\u001b[0m\u001b[0;34m(\u001b[0m\u001b[0mbucket_name\u001b[0m\u001b[0;34m=\u001b[0m\u001b[0mbucket_name\u001b[0m\u001b[0;34m)\u001b[0m\u001b[0;34m\u001b[0m\u001b[0;34m\u001b[0m\u001b[0m\n\u001b[0m\u001b[1;32m      6\u001b[0m \u001b[0mnmr_downloader\u001b[0m\u001b[0;34m.\u001b[0m\u001b[0mdownload_inference_data\u001b[0m\u001b[0;34m(\u001b[0m\u001b[0;34m\"inference\"\u001b[0m\u001b[0;34m,\u001b[0m \u001b[0mversion\u001b[0m\u001b[0;34m=\u001b[0m\u001b[0;36m2\u001b[0m\u001b[0;34m,\u001b[0m \u001b[0mint8\u001b[0m\u001b[0;34m=\u001b[0m\u001b[0;32mFalse\u001b[0m\u001b[0;34m)\u001b[0m\u001b[0;34m\u001b[0m\u001b[0;34m\u001b[0m\u001b[0m\n",
      "\u001b[0;32m~/Desktop/crowdcent/repositories/numerai-blocks/numerai_blocks/download.py\u001b[0m in \u001b[0;36mconfigure_gcs_path\u001b[0;34m(self, bucket_name)\u001b[0m\n\u001b[1;32m     41\u001b[0m         \u001b[0;36m3.\u001b[0m\u001b[0mThe\u001b[0m \u001b[0mmachine\u001b[0m \u001b[0mrunning\u001b[0m \u001b[0mthe\u001b[0m \u001b[0mcode\u001b[0m \u001b[0;32mis\u001b[0m \u001b[0mitself\u001b[0m \u001b[0ma\u001b[0m \u001b[0mGCP\u001b[0m \u001b[0mmachine\u001b[0m\u001b[0;34m.\u001b[0m\u001b[0;34m\u001b[0m\u001b[0;34m\u001b[0m\u001b[0m\n\u001b[1;32m     42\u001b[0m         \"\"\"\n\u001b[0;32m---> 43\u001b[0;31m         \u001b[0mGCSPath\u001b[0m\u001b[0;34m.\u001b[0m\u001b[0mset_global_fs\u001b[0m\u001b[0;34m(\u001b[0m\u001b[0;34m\"gcs\"\u001b[0m\u001b[0;34m,\u001b[0m \u001b[0mbucket\u001b[0m\u001b[0;34m=\u001b[0m\u001b[0mbucket_name\u001b[0m\u001b[0;34m)\u001b[0m\u001b[0;34m\u001b[0m\u001b[0;34m\u001b[0m\u001b[0m\n\u001b[0m\u001b[1;32m     44\u001b[0m         \u001b[0mself\u001b[0m\u001b[0;34m.\u001b[0m\u001b[0mdir\u001b[0m \u001b[0;34m=\u001b[0m \u001b[0mGCSPath\u001b[0m\u001b[0;34m(\u001b[0m\u001b[0mself\u001b[0m\u001b[0;34m.\u001b[0m\u001b[0mdir\u001b[0m\u001b[0;34m)\u001b[0m\u001b[0;34m\u001b[0m\u001b[0;34m\u001b[0m\u001b[0m\n\u001b[1;32m     45\u001b[0m         \u001b[0mself\u001b[0m\u001b[0;34m.\u001b[0m\u001b[0m_create_directory\u001b[0m\u001b[0;34m(\u001b[0m\u001b[0;34m)\u001b[0m\u001b[0;34m\u001b[0m\u001b[0;34m\u001b[0m\u001b[0m\n",
      "\u001b[0;32m/opt/anaconda3/envs/numerai-blocks39/lib/python3.9/site-packages/transparentpath/gcsutils/transparentpath.py\u001b[0m in \u001b[0;36mset_global_fs\u001b[0;34m(cls, fs, bucket, nas_dir, token)\u001b[0m\n\u001b[1;32m    821\u001b[0m \u001b[0;34m\u001b[0m\u001b[0m\n\u001b[1;32m    822\u001b[0m         \u001b[0mTransparentPath\u001b[0m\u001b[0;34m.\u001b[0m\u001b[0m_set_nas_dir\u001b[0m\u001b[0;34m(\u001b[0m\u001b[0mcls\u001b[0m\u001b[0;34m,\u001b[0m \u001b[0mnas_dir\u001b[0m\u001b[0;34m)\u001b[0m\u001b[0;34m\u001b[0m\u001b[0;34m\u001b[0m\u001b[0m\n\u001b[0;32m--> 823\u001b[0;31m         \u001b[0mget_fs\u001b[0m\u001b[0;34m(\u001b[0m\u001b[0mcls\u001b[0m\u001b[0;34m.\u001b[0m\u001b[0mfs_kind\u001b[0m\u001b[0;34m,\u001b[0m \u001b[0mcls\u001b[0m\u001b[0;34m.\u001b[0m\u001b[0mbucket\u001b[0m\u001b[0;34m,\u001b[0m \u001b[0mtoken\u001b[0m\u001b[0;34m)\u001b[0m\u001b[0;34m\u001b[0m\u001b[0;34m\u001b[0m\u001b[0m\n\u001b[0m\u001b[1;32m    824\u001b[0m         \u001b[0mTransparentPath\u001b[0m\u001b[0;34m.\u001b[0m\u001b[0munset\u001b[0m \u001b[0;34m=\u001b[0m \u001b[0;32mFalse\u001b[0m\u001b[0;34m\u001b[0m\u001b[0;34m\u001b[0m\u001b[0m\n\u001b[1;32m    825\u001b[0m \u001b[0;34m\u001b[0m\u001b[0m\n",
      "\u001b[0;32m/opt/anaconda3/envs/numerai-blocks39/lib/python3.9/site-packages/transparentpath/gcsutils/transparentpath.py\u001b[0m in \u001b[0;36mget_fs\u001b[0;34m(fs_kind, bucket, token, path)\u001b[0m\n\u001b[1;32m    318\u001b[0m                 \u001b[0;32mreturn\u001b[0m \u001b[0mfs\u001b[0m\u001b[0;34m,\u001b[0m \u001b[0mfs_name\u001b[0m\u001b[0;34m,\u001b[0m \u001b[0;34m\"\"\u001b[0m\u001b[0;34m\u001b[0m\u001b[0;34m\u001b[0m\u001b[0m\n\u001b[1;32m    319\u001b[0m \u001b[0;34m\u001b[0m\u001b[0m\n\u001b[0;32m--> 320\u001b[0;31m         \u001b[0mfs_name\u001b[0m\u001b[0;34m,\u001b[0m \u001b[0mproject\u001b[0m \u001b[0;34m=\u001b[0m \u001b[0mextract_fs_name\u001b[0m\u001b[0;34m(\u001b[0m\u001b[0mtoken\u001b[0m\u001b[0;34m)\u001b[0m\u001b[0;34m\u001b[0m\u001b[0;34m\u001b[0m\u001b[0m\n\u001b[0m\u001b[1;32m    321\u001b[0m         \u001b[0;32mif\u001b[0m \u001b[0mfs_name\u001b[0m \u001b[0;32min\u001b[0m \u001b[0mTransparentPath\u001b[0m\u001b[0;34m.\u001b[0m\u001b[0mfss\u001b[0m\u001b[0;34m:\u001b[0m\u001b[0;34m\u001b[0m\u001b[0;34m\u001b[0m\u001b[0m\n\u001b[1;32m    322\u001b[0m             \u001b[0;32mpass\u001b[0m\u001b[0;34m\u001b[0m\u001b[0;34m\u001b[0m\u001b[0m\n",
      "\u001b[0;32m/opt/anaconda3/envs/numerai-blocks39/lib/python3.9/site-packages/transparentpath/gcsutils/transparentpath.py\u001b[0m in \u001b[0;36mextract_fs_name\u001b[0;34m(token)\u001b[0m\n\u001b[1;32m    440\u001b[0m             \u001b[0;32mor\u001b[0m \u001b[0mfs\u001b[0m\u001b[0;34m.\u001b[0m\u001b[0mcredentials\u001b[0m\u001b[0;34m.\u001b[0m\u001b[0mcredentials\u001b[0m\u001b[0;34m.\u001b[0m\u001b[0mservice_account_email\u001b[0m \u001b[0;32mis\u001b[0m \u001b[0;32mNone\u001b[0m\u001b[0;34m\u001b[0m\u001b[0;34m\u001b[0m\u001b[0m\n\u001b[1;32m    441\u001b[0m         ):\n\u001b[0;32m--> 442\u001b[0;31m             raise TPEnvironmentError(\n\u001b[0m\u001b[1;32m    443\u001b[0m                 \u001b[0;34m\"If no token is explicitely specified and GOOGLE_APPLICATION_CREDENTIALS environnement variable is not\"\u001b[0m\u001b[0;34m\u001b[0m\u001b[0;34m\u001b[0m\u001b[0m\n\u001b[1;32m    444\u001b[0m                 \u001b[0;34m\" set, you need to have done gcloud init or to be on GCP already to create a TransparentPath\"\u001b[0m\u001b[0;34m\u001b[0m\u001b[0;34m\u001b[0m\u001b[0m\n",
      "\u001b[0;31mTPEnvironmentError\u001b[0m: Error in TransparentPath: If no token is explicitely specified and GOOGLE_APPLICATION_CREDENTIALS environnement variable is not set, you need to have done gcloud init or to be on GCP already to create a TransparentPath"
     ]
    },
    {
     "data": {
      "application/javascript": "\n            setTimeout(function() {\n                var nbb_cell_id = 4;\n                var nbb_unformatted_code = \"bucket_name = \\\"test\\\"\\n\\n# Download\\nnmr_downloader = NumeraiClassicDownloader(\\\"round_n\\\")\\nnmr_downloader.configure_gcs_path(bucket_name=bucket_name)\\nnmr_downloader.download_inference_data(\\\"inference\\\", version=2, int8=False)\";\n                var nbb_formatted_code = \"bucket_name = \\\"test\\\"\\n\\n# Download\\nnmr_downloader = NumeraiClassicDownloader(\\\"round_n\\\")\\nnmr_downloader.configure_gcs_path(bucket_name=bucket_name)\\nnmr_downloader.download_inference_data(\\\"inference\\\", version=2, int8=False)\";\n                var nbb_cells = Jupyter.notebook.get_cells();\n                for (var i = 0; i < nbb_cells.length; ++i) {\n                    if (nbb_cells[i].input_prompt_number == nbb_cell_id) {\n                        if (nbb_cells[i].get_text() == nbb_unformatted_code) {\n                             nbb_cells[i].set_text(nbb_formatted_code);\n                        }\n                        break;\n                    }\n                }\n            }, 500);\n            ",
      "text/plain": "<IPython.core.display.Javascript object>"
     },
     "metadata": {},
     "output_type": "display_data"
    }
   ],
   "source": [
    "# This should point to a valid GCS bucket within your Google Cloud environment.\n",
    "bucket_name = \"test\"\n",
    "\n",
    "# Download to GCS bucket\n",
    "nmr_downloader = NumeraiClassicDownloader(\"round_n\")\n",
    "nmr_downloader.configure_gcs_path(bucket_name=bucket_name)\n",
    "nmr_downloader.download_inference_data(\"inference\", version=2, int8=False)"
   ]
  },
  {
   "cell_type": "code",
   "execution_count": null,
   "metadata": {},
   "outputs": [],
   "source": [
    "# Random credentials\n",
    "key = Key(pub_id=\"UFVCTElDX0lE\", secret_key=\"U1VQRVJfU0VDUkVUX0tFWQ==\")\n",
    "\n",
    "# Submission Data\n",
    "dataf = pd.DataFrame()\n",
    "target_columns = [f\"target_{i}\" for i in range(20)]\n",
    "\n",
    "# Save CSV in GCS bucket and submit.\n",
    "nmr_sub = NumeraiClassicSubmittor(directory_path=\"round_n\", key=key)\n",
    "nmr_sub.configure_gcs_path(bucket_name=bucket_name)\n",
    "nmr_sub.full_submission(dataf=dataf,\n",
    "                               file_name=\"submission_test_roundn.csv\",\n",
    "                               model_name=\"test\",\n",
    "                               target_columns=target_columns)"
   ]
  },
  {
   "cell_type": "markdown",
   "metadata": {},
   "source": [
    "------------------------------------"
   ]
  }
 ],
 "metadata": {
  "kernelspec": {
   "display_name": "Python 3",
   "language": "python",
   "name": "python3"
  }
 },
 "nbformat": 4,
 "nbformat_minor": 0
}
