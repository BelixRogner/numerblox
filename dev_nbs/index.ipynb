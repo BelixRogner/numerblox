{
 "cells": [
  {
   "cell_type": "code",
   "execution_count": null,
   "metadata": {},
   "outputs": [],
   "source": [
    "%load_ext autoreload\n",
    "%autoreload 2"
   ]
  },
  {
   "cell_type": "code",
   "execution_count": null,
   "metadata": {},
   "outputs": [],
   "source": [
    "#hide\n",
    "from numerai_blocks import *"
   ]
  },
  {
   "cell_type": "markdown",
   "metadata": {},
   "source": [
    "# Numerai Blocks\n",
    "\n",
    "> Tools for solid Numerai pipelines"
   ]
  },
  {
   "cell_type": "markdown",
   "metadata": {},
   "source": [
    "This file will become your README and also the index of your documentation."
   ]
  },
  {
   "cell_type": "markdown",
   "metadata": {},
   "source": [
    "## Install"
   ]
  },
  {
   "cell_type": "markdown",
   "metadata": {},
   "source": [
    "`pip install numerai-blocks`"
   ]
  },
  {
   "cell_type": "markdown",
   "metadata": {},
   "source": [
    "## How to use"
   ]
  },
  {
   "cell_type": "markdown",
   "metadata": {},
   "source": [
    "Development notebooks are in the `dev_nbs` directory. Example and educational notebooks can be found in the `edu_nbs` directory."
   ]
  },
  {
   "cell_type": "markdown",
   "metadata": {},
   "source": [
    "1. Downloaders\n",
    "2. Dataloaders\n",
    "3. Dataset objects (with arbitrary metadata)\n",
    "4. Preprocessors and Postprocessors\n",
    "5. Model, ModelPipeline and ModelPipelineCollection (Or FeatureUnion??)\n",
    "6. Predictions (with arbitrary metadata)\n",
    "7. Evaluators\n",
    "8. Submittors\n",
    "9. Key (containing authentication info)"
   ]
  },
  {
   "cell_type": "code",
   "execution_count": null,
   "metadata": {},
   "outputs": [
    {
     "data": {
      "text/plain": [
       "2"
      ]
     },
     "execution_count": null,
     "metadata": {},
     "output_type": "execute_result"
    }
   ],
   "source": [
    "1+1"
   ]
  },
  {
   "cell_type": "code",
   "execution_count": null,
   "metadata": {},
   "outputs": [
    {
     "name": "stdout",
     "output_type": "stream",
     "text": [
      "649ce02a-6fb4-4b1f-8375-d3b46ed391c9\n"
     ]
    }
   ],
   "source": [
    "import uuid\n",
    "print(uuid.uuid4())"
   ]
  },
  {
   "cell_type": "code",
   "execution_count": null,
   "metadata": {},
   "outputs": [
    {
     "data": {
      "text/plain": "1"
     },
     "execution_count": null,
     "metadata": {},
     "output_type": "execute_result"
    }
   ],
   "source": [
    "from numerai_blocks.download import Check\n",
    "ch = Check()\n",
    "ch.one"
   ]
  },
  {
   "cell_type": "markdown",
   "metadata": {},
   "source": [
    "## Contributing"
   ]
  },
  {
   "cell_type": "markdown",
   "metadata": {},
   "source": [
    "After you clone this repository, please run `nbdev_install_git_hooks` in your terminal. This sets up git hooks, which clean up the notebooks to remove the extraneous stuff stored in the notebooks (e.g. which cells you ran) which causes unnecessary merge conflicts."
   ]
  },
  {
   "cell_type": "markdown",
   "metadata": {},
   "source": [
    "### Branch structure\n"
   ]
  },
  {
   "cell_type": "code",
   "execution_count": null,
   "metadata": {},
   "outputs": [],
   "source": [
    "#hide\n",
    "from rich.console import Console\n",
    "from rich.tree import Tree\n",
    "\n",
    "console = Console(record=True, width=100)\n",
    "\n",
    "tree = Tree(\"Brranch structure\", guide_style=\"bold bright_black\")\n",
    "\n",
    "main_tree = tree.add(\"📦 main (release)\", guide_style=\"bright_black\")\n",
    "dev_tree = main_tree.add(\"👨‍💻 dev\")\n",
    "feature_tree = dev_tree.add(\":sparkles: feature/1\")\n",
    "dev_tree.add(\":sparkles: feature/2\")\n",
    "dev_tree.add(\":sparkles: feature/3\");"
   ]
  },
  {
   "cell_type": "code",
   "execution_count": null,
   "metadata": {},
   "outputs": [
    {
     "data": {
      "text/html": "<pre style=\"white-space:pre;overflow-x:auto;line-height:normal;font-family:Menlo,'DejaVu Sans Mono',consolas,'Courier New',monospace\">Brranch structure                                                                                   \n<span style=\"color: #808080; text-decoration-color: #808080\">┗━━ </span>📦 main                                                                                         \n<span style=\"color: #808080; text-decoration-color: #808080\">    ┗━━ </span>👨‍💻 dev                                                                                    \n<span style=\"color: #808080; text-decoration-color: #808080\">        ┣━━ </span>✨ feature/1                                                                            \n<span style=\"color: #808080; text-decoration-color: #808080\">        ┣━━ </span>✨ feature/2                                                                            \n<span style=\"color: #808080; text-decoration-color: #808080\">        ┗━━ </span>✨ feature/3                                                                            \n</pre>\n",
      "text/plain": "Brranch structure                                                                                   \n\u001b[90m┗━━ \u001b[0m📦 main                                                                                         \n\u001b[90m    \u001b[0m\u001b[90m┗━━ \u001b[0m👨‍💻 dev                                                                                    \n\u001b[90m    \u001b[0m\u001b[90m    \u001b[0m\u001b[90m┣━━ \u001b[0m✨ feature/1                                                                            \n\u001b[90m    \u001b[0m\u001b[90m    \u001b[0m\u001b[90m┣━━ \u001b[0m✨ feature/2                                                                            \n\u001b[90m    \u001b[0m\u001b[90m    \u001b[0m\u001b[90m┗━━ \u001b[0m✨ feature/3                                                                            \n"
     },
     "metadata": {},
     "output_type": "display_data"
    }
   ],
   "source": [
    "console.print(tree)"
   ]
  },
  {
   "cell_type": "markdown",
   "metadata": {},
   "source": []
  },
  {
   "cell_type": "code",
   "execution_count": null,
   "metadata": {},
   "outputs": [],
   "source": []
  },
  {
   "cell_type": "code",
   "execution_count": null,
   "metadata": {},
   "outputs": [],
   "source": [
    "#hide\n",
    "# Run this cell to sync all changes with library\n",
    "from nbdev.export import notebook2script; notebook2script()"
   ]
  }
 ],
 "metadata": {
  "kernelspec": {
   "display_name": "Python 3",
   "language": "python",
   "name": "python3"
  }
 },
 "nbformat": 4,
 "nbformat_minor": 2
}
